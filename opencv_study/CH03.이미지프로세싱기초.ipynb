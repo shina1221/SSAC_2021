{
 "cells": [
  {
   "cell_type": "code",
   "execution_count": 3,
   "id": "04cd7ae8",
   "metadata": {},
   "outputs": [],
   "source": [
    "#관심영역(roi)\n",
    "#이미지의 특정한 일부\n",
    "\n",
    "import cv2\n",
    "import numpy as np\n",
    "\n",
    "img = cv2.imread('C:/Users/admin/Downloads/img-20210913T062241Z-001/img/sunset.jpg')\n",
    "x=320; y=150; w=50; h=50\n",
    "roi = img[y:y+h, x:x+w]\n",
    "img2=roi.copy()\n",
    "\n",
    "#새로운 whkvydp roi 좌표에 roi추가, 태양 2개 만들기\n",
    "img[y:y+h, x+w:x+w+w] =roi\n",
    "#2개의 태양 영역에 사각형 표시\n",
    "cv2.rectangle(img, (x,y), (x+w+w, y+h), (0,255,0)) \n",
    "\n",
    "cv2.imshow(\"img\", img)\n",
    "cv2.imshow(\"roi\", img2)\n",
    "\n",
    "cv2.waitKey(0)\n",
    "cv2.destroyAllWindows()"
   ]
  },
  {
   "cell_type": "code",
   "execution_count": 15,
   "id": "e0eaa22a",
   "metadata": {},
   "outputs": [],
   "source": [
    "#select ROI로 관심영역 지정\n",
    "import cv2,  numpy as np\n",
    "\n",
    "img = cv2.imread('C:/Users/admin/Downloads/img-20210913T062241Z-001/img/sunset.jpg')\n",
    "\n",
    "x,y,w,h = cv2.selectROI('img', img, False)\n",
    "if w and h:\n",
    "    roi = img[y:y+h, x:x+w]\n",
    "    cv2.imshow('cropped', roi)\n",
    "    cv2.moveWindow('cropped', 0, 0)\n",
    "    cv2.imwrite('C:/Users/admin/Downloads/cropped2.jpg', roi)\n",
    "cv2.imshow('img', img)\n",
    "cv2.waitKey(0)\n",
    "cv2.destroyAllWindows()"
   ]
  },
  {
   "cell_type": "code",
   "execution_count": 31,
   "id": "8cb81c63",
   "metadata": {},
   "outputs": [
    {
     "name": "stdout",
     "output_type": "stream",
     "text": [
      "x:313, y:146, w:105, h:97\n",
      "croped.\n"
     ]
    }
   ],
   "source": [
    "import cv2\n",
    "import numpy as np\n",
    "\n",
    "isDragging = False                      # 마우스 드래그 상태 저장 \n",
    "x0, y0, w, h = -1,-1,-1,-1              # 영역 선택 좌표 저장\n",
    "blue, red = (255,0,0),(0,0,255)         # 색상 값 \n",
    "\n",
    "def onMouse(event,x,y,flags,param):     # 마우스 이벤트 핸들 함수  ---①\n",
    "    global isDragging, x0, y0, img      # 전역변수 참조\n",
    "    if event == cv2.EVENT_LBUTTONDOWN:  # 왼쪽 마우스 버튼 다운, 드래그 시작 ---②\n",
    "        isDragging = True\n",
    "        x0 = x\n",
    "        y0 = y\n",
    "    elif event == cv2.EVENT_MOUSEMOVE:  # 마우스 움직임 ---③\n",
    "        if isDragging:                  # 드래그 진행 중\n",
    "            img_draw = img.copy()       # 사각형 그림 표현을 위한 이미지 복제\n",
    "            cv2.rectangle(img_draw, (x0, y0), (x, y), blue, 2) # 드래그 진행 영역 표시\n",
    "            cv2.imshow('img', img_draw) # 사각형 표시된 그림 화면 출력\n",
    "    elif event == cv2.EVENT_LBUTTONUP:  # 왼쪽 마우스 버튼 업 ---④\n",
    "        if isDragging:                  # 드래그 중지\n",
    "            isDragging = False          \n",
    "            w = x - x0                  # 드래그 영역 폭 계산\n",
    "            h = y - y0                  # 드래그 영역 높이 계산\n",
    "            print(\"x:%d, y:%d, w:%d, h:%d\" % (x0, y0, w, h))\n",
    "            if w > 0 and h > 0:         # 폭과 높이가 음수이면 드래그 방향이 옳음 ---⑤\n",
    "                img_draw = img.copy()   # 선택 영역에 사각형 그림을 표시할 이미지 복제\n",
    "                # 선택 영역에 빨간 사각형 표시\n",
    "                cv2.rectangle(img_draw, (x0, y0), (x, y), red, 2) \n",
    "                cv2.imshow('img', img_draw) # 빨간 사각형 그려진 이미지 화면 출력\n",
    "                roi = img[y0:y0+h, x0:x0+w] # 원본 이미지에서 선택 영영만 ROI로 지정 ---⑥\n",
    "                cv2.imshow('cropped', roi)  # ROI 지정 영역을 새창으로 표시\n",
    "                cv2.moveWindow('cropped', 0, 0) # 새창을 화면 좌측 상단에 이동\n",
    "                cv2.imwrite('./cropped.jpg', roi)   # ROI 영역만 파일로 저장 ---⑦\n",
    "                print(\"croped.\")\n",
    "            else:\n",
    "                cv2.imshow('img', img)  # 드래그 방향이 잘못된 경우 사각형 그림ㅇㅣ 없는 원본 이미지 출력\n",
    "                print(\"좌측 상단에서 우측 하단으로 영역을 드래그 하세요.\")\n",
    "\n",
    "img = cv2.imread('C:/Users/admin/Downloads/img-20210913T062241Z-001/img/sunset.jpg')\n",
    "cv2.imshow('img', img)\n",
    "cv2.setMouseCallback('img', onMouse) # 마우스 이벤트 등록 ---⑧\n",
    "cv2.waitKey()\n",
    "cv2.destroyAllWindows()"
   ]
  },
  {
   "cell_type": "code",
   "execution_count": 16,
   "id": "347ba961",
   "metadata": {},
   "outputs": [],
   "source": [
    "#아예 0이나 1로 표현한 것은 바이너리 이미지 (흑,백)\n",
    "#0부터 255사이의 값으로 표시한 것은 그레이 스케일 이미지\n",
    "#바이너리와 다르게 그레이는 명암을 줄 수 있음\n",
    "#알파채널은 배경\n",
    "#알파채널의 정보를 이용하면 전경과 배경을 손쉽게 분리할 수 있어 마스크 채널이라고도 부름\n"
   ]
  },
  {
   "cell_type": "code",
   "execution_count": 18,
   "id": "b110965c",
   "metadata": {},
   "outputs": [
    {
     "name": "stdout",
     "output_type": "stream",
     "text": [
      "default: (120, 98, 3) color: (120, 98, 3) unchanged: (120, 98, 4)\n"
     ]
    }
   ],
   "source": [
    "import cv2\n",
    "import numpy as np\n",
    "\n",
    "img = cv2.imread('C:/Users/admin/Downloads/img-20210913T062241Z-001/img/opencv_logo.png')\n",
    "bgr = cv2.imread('C:/Users/admin/Downloads/img-20210913T062241Z-001/img/opencv_logo.png', cv2.IMREAD_COLOR)\n",
    "#imread_unchanged 옵션\n",
    "bgra = cv2.imread('C:/Users/admin/Downloads/img-20210913T062241Z-001/img/opencv_logo.png', cv2.IMREAD_UNCHANGED)\n",
    "#각 옵션에 따른 이미지 shape\n",
    "print('default:', img.shape, 'color:', bgr.shape, 'unchanged:', bgra.shape)\n",
    "\n",
    "cv2.imshow('bgr', bgr)\n",
    "cv2.imshow('bgra', bgra)\n",
    "#알파채널만 표시\n",
    "cv2.imshow('alpha', bgra[:,:,3])\n",
    "cv2.waitKey(0)\n",
    "cv2.destroyAllWindows()\n",
    "\n",
    "#백그라운드는 검정이 디폴트\n",
    "\n",
    "\n",
    "                "
   ]
  }
 ],
 "metadata": {
  "kernelspec": {
   "display_name": "Python 3 (ipykernel)",
   "language": "python",
   "name": "python3"
  },
  "language_info": {
   "codemirror_mode": {
    "name": "ipython",
    "version": 3
   },
   "file_extension": ".py",
   "mimetype": "text/x-python",
   "name": "python",
   "nbconvert_exporter": "python",
   "pygments_lexer": "ipython3",
   "version": "3.9.6"
  }
 },
 "nbformat": 4,
 "nbformat_minor": 5
}
