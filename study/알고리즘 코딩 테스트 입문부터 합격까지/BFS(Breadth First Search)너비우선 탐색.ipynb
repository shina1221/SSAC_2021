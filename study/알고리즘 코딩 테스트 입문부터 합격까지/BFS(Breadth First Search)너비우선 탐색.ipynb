{
 "cells": [
  {
   "cell_type": "code",
   "execution_count": null,
   "id": "4736dbf7",
   "metadata": {},
   "outputs": [],
   "source": [
    "#큐를 사용해서 구현\n",
    "\"\"\"\n",
    "           0\n",
    "     1           2\n",
    "  3     4     5     6  \n",
    "7  8    9        10 11 12  \n",
    "\"\"\"\n",
    "\"\"\"\n",
    "탐색 순서\n",
    "[0]\n",
    "[1 2]\n",
    "[2 3 4]\n",
    "[3 4 5 6]\n",
    "[4 5 6 7 8]\n",
    "[5 6 7 8 9]\n",
    "[6 7 8 9]\n",
    "[7 8 9 10 11 12]\n",
    "\"\"\""
   ]
  },
  {
   "cell_type": "code",
   "execution_count": 12,
   "id": "7a57ffa4",
   "metadata": {},
   "outputs": [
    {
     "data": {
      "text/plain": [
       "deque([2, 3])"
      ]
     },
     "execution_count": 12,
     "metadata": {},
     "output_type": "execute_result"
    }
   ],
   "source": [
    "#참고\n",
    "from collections import deque\n",
    "#dq= deque([1,2,3], [4,5]) #에러\n",
    "dq= deque([1,2,3])\n",
    "dq.popleft()\n",
    "dq"
   ]
  },
  {
   "cell_type": "code",
   "execution_count": null,
   "id": "98d51a6a",
   "metadata": {},
   "outputs": [],
   "source": [
    "from collections import deque\n",
    "\n",
    "adj = [[0] * 13 for _ in range(13)]\n",
    "adj[0][1] = adj[0][2] = 1\n",
    "adj[1][3] = adj[1][4] = 1\n",
    "\n",
    "def bfs():\n",
    "    dq = deque()\n",
    "    dq.append(0)\n",
    "    while dq: #deque가 존재하는 동안\n",
    "        now = dq.popleft() #\n",
    "        for nxt in range(13):\n",
    "            if adj[now][nxt]:\n",
    "                dq.append(nxt)"
   ]
  }
 ],
 "metadata": {
  "kernelspec": {
   "display_name": "Python 3 (ipykernel)",
   "language": "python",
   "name": "python3"
  },
  "language_info": {
   "codemirror_mode": {
    "name": "ipython",
    "version": 3
   },
   "file_extension": ".py",
   "mimetype": "text/x-python",
   "name": "python",
   "nbconvert_exporter": "python",
   "pygments_lexer": "ipython3",
   "version": "3.7.11"
  }
 },
 "nbformat": 4,
 "nbformat_minor": 5
}
