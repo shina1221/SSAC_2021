{
 "cells": [
  {
   "cell_type": "code",
   "execution_count": 2,
   "id": "c6adc610",
   "metadata": {},
   "outputs": [],
   "source": [
    "H= [3,2,1,1,3]\n",
    "#[[1,11],[2,2],[3,2]]"
   ]
  },
  {
   "cell_type": "code",
   "execution_count": 5,
   "id": "730caeea",
   "metadata": {},
   "outputs": [
    {
     "data": {
      "text/plain": [
       "[1, 2, 3]"
      ]
     },
     "execution_count": 5,
     "metadata": {},
     "output_type": "execute_result"
    }
   ],
   "source": [
    "#높이  \n",
    "h = max(H)\n",
    "[i+1 for i in range(h)]"
   ]
  },
  {
   "cell_type": "code",
   "execution_count": null,
   "id": "fde2fd2d",
   "metadata": {},
   "outputs": [],
   "source": [
    "# 시작하는 꼭지점은 y가 0이어야 함\n",
    "# 끝나는 꼭지점의 y는 h여야 한다.\n",
    "\n"
   ]
  },
  {
   "cell_type": "code",
   "execution_count": null,
   "id": "e1dbf9aa",
   "metadata": {},
   "outputs": [],
   "source": [
    "#노드만들기\n",
    "[3,2,1,1,3]\n",
    "0,0 0,1 ...0,3\n",
    "1,0 1,1 ...1,3 #앞뒤의 그래프 높이를 기준으로 가장 높은 높이를 따라감가 정해짐\n",
    "\n",
    "2,0 2,1 2,2\n",
    "\n",
    "3,0 3,1\n",
    "\n",
    "4,0 4,1\n",
    "\n",
    "5,0 5,1 ... 5,3\n"
   ]
  },
  {
   "cell_type": "code",
   "execution_count": null,
   "id": "1e644299",
   "metadata": {},
   "outputs": [],
   "source": []
  },
  {
   "cell_type": "code",
   "execution_count": null,
   "id": "c47bb0cb",
   "metadata": {},
   "outputs": [],
   "source": []
  },
  {
   "cell_type": "code",
   "execution_count": null,
   "id": "bd92785c",
   "metadata": {},
   "outputs": [],
   "source": []
  },
  {
   "cell_type": "code",
   "execution_count": null,
   "id": "22fec208",
   "metadata": {},
   "outputs": [],
   "source": []
  },
  {
   "cell_type": "code",
   "execution_count": 20,
   "id": "a0597434",
   "metadata": {},
   "outputs": [
    {
     "data": {
      "text/plain": [
       "[[5, 7, 6, 6], [3, 9, 5, 4], [8, 2, 7, 6]]"
      ]
     },
     "execution_count": 20,
     "metadata": {},
     "output_type": "execute_result"
    }
   ],
   "source": [
    "#히스토그램의 꽉 끼는 직사각형\n",
    "\n",
    "L1 = [5,7,6,6]\n",
    "L2 =[3,9,5,4]\n",
    "L3 =[8,2,7,6]\n",
    "\n",
    "total"
   ]
  },
  {
   "cell_type": "code",
   "execution_count": 91,
   "id": "7236bb71",
   "metadata": {},
   "outputs": [
    {
     "name": "stdout",
     "output_type": "stream",
     "text": [
      "2\n",
      "3\n",
      "0\n",
      "1\n",
      "2\n",
      "3\n",
      "4\n",
      "5\n",
      "3\n",
      "4\n",
      "5\n",
      "6\n",
      "7\n"
     ]
    },
    {
     "data": {
      "text/plain": [
       "[[0, 0, 0, 1, 1, 1, 0, 0, 0, 0],\n",
       " [0, 0, 0, 1, 1, 1, 0, 0, 0, 0],\n",
       " [0, 0, 0, 1, 1, 1, 1, 0, 0, 0],\n",
       " [0, 0, 0, 1, 1, 1, 1, 1, 1, 0],\n",
       " [0, 0, 0, 1, 1, 1, 0, 1, 1, 0],\n",
       " [0, 0, 0, 1, 1, 1, 0, 1, 1, 0],\n",
       " [0, 0, 0, 0, 0, 0, 0, 1, 1, 0],\n",
       " [0, 0, 0, 0, 0, 0, 0, 1, 1, 0],\n",
       " [0, 0, 0, 0, 0, 0, 0, 0, 0, 0],\n",
       " [0, 0, 0, 0, 0, 0, 0, 0, 0, 0]]"
      ]
     },
     "execution_count": 91,
     "metadata": {},
     "output_type": "execute_result"
    }
   ],
   "source": [
    "max_i = max(L1+L2+L3)\n",
    "#0,0부터 시작하니까 9개가아닌 10개\n",
    "network = [[0] * (max_i+1) for i in range(max_i+1)]\n",
    "total = [L1, L2, L3]\n",
    "for t in total:\n",
    "    #y축은 거꾸로 생각해야함\n",
    "    #network[행, 열]\n",
    "    for j in range(max_i-max(t[1],t[3]), (max_i-min(t[1],t[3])+1)):\n",
    "        print(j)\n",
    "        for k in range(min(t[0],t[2]), max(t[0],t[2])+1):\n",
    "            #겹치는 값이 나올 경우\n",
    "            if network[j][k]=1:\n",
    "                #x축이 겹칠 경우\n",
    "                #겹치는 구간이 없을 때까지 이동\n",
    "                while network[j][k]=1:\n",
    "                    #직사각형 1\n",
    "                    \n",
    "                    #직사각형 2\n",
    "                #y축이 겹칠 경우 \n",
    "                \n",
    "            #겹치는 값이 없을 경우 1삽입\n",
    "            else:\n",
    "                network[j][k]=1\n",
    "            \n",
    "network\n",
    "\n",
    "#겹치는 좌표 확인하기 \n",
    "#x값이 겹칠땐 x축 방향으로 이동\n",
    "if \n",
    "#y값이 겹칠땐 y축 방향으로 이동\n"
   ]
  },
  {
   "cell_type": "code",
   "execution_count": 92,
   "id": "44e86547",
   "metadata": {
    "scrolled": true
   },
   "outputs": [
    {
     "data": {
      "text/plain": [
       "[[0, 0, 0, 1, 1, 1, 0, 0, 0, 0],\n",
       " [0, 0, 0, 1, 1, 1, 0, 0, 0, 0],\n",
       " [0, 0, 0, 1, 1, 1, 1, 0, 0, 0],\n",
       " [0, 0, 0, 1, 1, 1, 1, 1, 1, 0],\n",
       " [0, 0, 0, 1, 1, 1, 0, 1, 1, 0],\n",
       " [0, 0, 0, 1, 1, 1, 0, 1, 1, 0],\n",
       " [0, 0, 0, 0, 0, 0, 0, 1, 1, 0],\n",
       " [0, 0, 0, 0, 0, 0, 0, 1, 1, 0],\n",
       " [0, 0, 0, 0, 0, 0, 0, 0, 0, 0],\n",
       " [0, 0, 0, 0, 0, 0, 0, 0, 0, 0]]"
      ]
     },
     "execution_count": 92,
     "metadata": {},
     "output_type": "execute_result"
    }
   ],
   "source": [
    "network"
   ]
  },
  {
   "cell_type": "code",
   "execution_count": 105,
   "id": "b8fbdea3",
   "metadata": {},
   "outputs": [
    {
     "data": {
      "text/plain": [
       "[[3, 9, 5, 4], [8, 2, 7, 6]]"
      ]
     },
     "execution_count": 105,
     "metadata": {},
     "output_type": "execute_result"
    }
   ],
   "source": [
    "total"
   ]
  },
  {
   "cell_type": "code",
   "execution_count": 108,
   "id": "a9fd125d",
   "metadata": {},
   "outputs": [
    {
     "name": "stdout",
     "output_type": "stream",
     "text": [
      "0\n",
      "1\n",
      "2\n",
      "3\n",
      "4\n",
      "5\n",
      "3\n",
      "4\n",
      "5\n",
      "6\n",
      "7\n"
     ]
    },
    {
     "data": {
      "text/plain": [
       "[[0, 0, 0, 1, 1, 1, 0, 0, 0, 0],\n",
       " [0, 0, 0, 1, 1, 1, 0, 0, 0, 0],\n",
       " [0, 0, 0, 1, 1, 1, 0, 0, 0, 0],\n",
       " [0, 0, 0, 1, 1, 1, 0, 1, 1, 0],\n",
       " [0, 0, 0, 1, 1, 1, 0, 1, 1, 0],\n",
       " [0, 0, 0, 1, 1, 1, 0, 1, 1, 0],\n",
       " [0, 0, 0, 0, 0, 0, 0, 1, 1, 0],\n",
       " [0, 0, 0, 0, 0, 0, 0, 1, 1, 0],\n",
       " [0, 0, 0, 0, 0, 0, 0, 0, 0, 0],\n",
       " [0, 0, 0, 0, 0, 0, 0, 0, 0, 0]]"
      ]
     },
     "execution_count": 108,
     "metadata": {},
     "output_type": "execute_result"
    }
   ],
   "source": [
    "#현재 기준이 되는 직사각형을 제외하고 지도에 표시\n",
    "max_i = max(L1+L2+L3)\n",
    "#0,0부터 시작하니까 9개가아닌 10개\n",
    "network = [[0] * (max_i+1) for i in range(max_i+1)]\n",
    "total = [L2, L3]\n",
    "cnt=0\n",
    "for tt in range(len(total)):\n",
    "    #y축은 거꾸로 생각해야함\n",
    "    #network[행, 열]\n",
    "    #t=total.pop(tt)\n",
    "    t=total[tt]\n",
    "    for j in range(max_i-max(t[1],t[3]), (max_i-min(t[1],t[3])+1)):\n",
    "        print(j)\n",
    "        for k in range(min(t[0],t[2]), max(t[0],t[2])+1):\n",
    "            network[j][k]=1\n",
    "            #겹치는 값이 나올 경우\n",
    "            #if network[j][k]=1:\n",
    "                #x축이 겹칠 경우\n",
    "                #겹치는 구간이 없을 때까지 이동\n",
    "                #while network[j][k]=1:\n",
    "                    #직사각형 1\n",
    "                    \n",
    "                    #직사각형 2\n",
    "                #y축이 겹칠 경우 \n",
    "                \n",
    "            #겹치는 값이 없을 경우 1삽입\n",
    "            #else:\n",
    "                #network[j][k]=1\n",
    "    #total.insert(0, t)\n",
    "    #break        \n",
    "network\n",
    "\n",
    "#겹치는 좌표 확인하기 \n",
    "#x값이 겹칠땐 x축 방향으로 이동\n",
    "\n",
    "#y값이 겹칠땐 y축 방향으로 이동\n"
   ]
  },
  {
   "cell_type": "code",
   "execution_count": 121,
   "id": "67109e5d",
   "metadata": {},
   "outputs": [],
   "source": [
    "#현재 기준이 되는 직사각형을 제외하고 지도에 표시\n",
    "max_i = max(L1+L2+L3)\n",
    "#0,0부터 시작하니까 9개가아닌 10개\n",
    "network = [[0] * (max_i+1) for i in range(max_i+1)]\n",
    "total = [L1, L2, L3]\n",
    "\n",
    "def left_total(total):\n",
    "    for ttt in range(len(total)):\n",
    "        #t=total.pop(tt)\n",
    "        t=total[ttt]\n",
    "        for j in range(max_i-max(t[1],t[3]), (max_i-min(t[1],t[3])+1)):\n",
    "            for k in range(min(t[0],t[2]), max(t[0],t[2])+1):\n",
    "                network[j][k]=1\n",
    "    return network\n",
    "\n",
    "for tt in range(len(total)):\n",
    "    now_t=total.pop(tt)\n",
    "    check_network = left_total(total)\n",
    "    \n",
    "    for j in range(max_i-max(now_t[1],now_t[3]), (max_i-min(now_t[1],now_t[3])+1)):\n",
    "        for k in range(min(now_t[0],now_t[2]), max(now_t[0],now_t[2])+1):\n",
    "            #pass\n",
    "            #겹치는 부분 파악\n",
    "            if network[j][k]=1:\n",
    "                #겹치는 부분이 나오지 않을때까지 가능한 범위내에서 이동 \n",
    "                #선에 해당하는 부분만\n",
    "                while nerwork[j][k] != 1:\n",
    "                    \n",
    "                    try:\n",
    "                        tt\n",
    "                #x축 방향이동 +, -\n",
    "                        #+\n",
    "                    \n",
    "                        #-\n",
    "                #y축 방향이동 +, -\n",
    "                        \n",
    "                        \n",
    "                    except:\n",
    "                #x축 방향이동\n",
    "                \n",
    "                #y축 방향이동            \n",
    "    total.insert(0,now_t)\n",
    "            \n",
    "    \n",
    "    "
   ]
  },
  {
   "cell_type": "code",
   "execution_count": 122,
   "id": "812d773b",
   "metadata": {},
   "outputs": [],
   "source": [
    "def left_total(total):\n",
    "    for ttt in range(len(total)):\n",
    "        #t=total.pop(tt)\n",
    "        t=total[ttt]\n",
    "        for j in range(max_i-max(t[1],t[3]), (max_i-min(t[1],t[3])+1)):\n",
    "            for k in range(min(t[0],t[2]), max(t[0],t[2])+1):\n",
    "                network[j][k]=1\n",
    "    return network"
   ]
  },
  {
   "cell_type": "code",
   "execution_count": null,
   "id": "dce0d75e",
   "metadata": {},
   "outputs": [],
   "source": [
    "#범위안에 있는지 확인"
   ]
  },
  {
   "cell_type": "code",
   "execution_count": 148,
   "id": "2d219786",
   "metadata": {},
   "outputs": [
    {
     "data": {
      "text/plain": [
       "2.5"
      ]
     },
     "execution_count": 148,
     "metadata": {},
     "output_type": "execute_result"
    }
   ],
   "source": [
    "import numpy as np\n",
    "np.median([range(1,5)])\n",
    "list(range(1,5))\n",
    "\n",
    "np.median(range(1,5))"
   ]
  },
  {
   "cell_type": "code",
   "execution_count": null,
   "id": "49749feb",
   "metadata": {},
   "outputs": [],
   "source": [
    "def left_total(total):\n",
    "    for ttt in range(len(total)):\n",
    "        #t=total.pop(tt)\n",
    "        t=total[ttt]\n",
    "        for j in range(max_i-max(t[1],t[3]), (max_i-min(t[1],t[3])+1)):\n",
    "            for k in range(min(t[0],t[2]), max(t[0],t[2])+1):\n",
    "                network[j][k]=1\n",
    "    return network\n",
    "\n",
    "\n",
    "import numpy as np\n",
    "\n",
    "#현재 기준이 되는 직사각형을 제외하고 지도에 표시\n",
    "max_i = max(L1+L2+L3)\n",
    "#0,0부터 시작하니까 9개가아닌 10개\n",
    "network = [[0] * (max_i+1) for i in range(max_i+1)]\n",
    "total = [L1, L2, L3]\n",
    "        \n",
    "#영역이 겹치는지 확인\n",
    "final_list = []\n",
    "for tt in range(len(total)):\n",
    "    now_t=total.pop(tt)\n",
    "    check_network = left_total(total)\n",
    "    x1, y1, x1, y2 = now_t[0], now_t[1], now_t[2], now_t[3]\n",
    "    for j in range(max_i-max(y1,y2), max_i-min(y1,y2)+1):\n",
    "        #y축 이동\n",
    "        for k in range(min(x1,x2), max(x1,x2)+1):\n",
    "            if total[j][k] ==1:\n",
    "                #겹치는 좌표가 겹치는 다른 도형기준 왼쪽인지 오른쪽인지 구분(보류)\n",
    "                #if k < np.median(range(min(y1, y2), max(y1, y2)+1)) # 왼쪽에 치우졌다면\n",
    "                #더 짧은 쪽으로 이동(보류)\n",
    "                origin_array = np.array(now_t)\n",
    "                try:\n",
    "                    cnt=0\n",
    "                    while -1<nxt_array[2]<max_i+1 or -1<nxt_array[3]<max_i+1 :#total[j][k]==1:\n",
    "                        #x축 이동\n",
    "                        nxt_array = origin_array+[1,0,1,0] #오른쪽 이동\n",
    "                        cnt+=1\n",
    "                        if check_network[nxt_array[2]][nxt_array[3]] == 1:\n",
    "                            continue\n",
    "                        else:\n",
    "                            break\n",
    "                    fianl_list.append(cnt)\n",
    "                    cnt=0\n",
    "                    while -1<nxt_array[0]<max_i+1 or -1<nxt_array[1]<max_i+1:#total[j][k]==1:\n",
    "                        #x축 이동\n",
    "                        nxt_array = origin_array+[-1,0,-1,0] #왼쪽 이동\n",
    "                        cnt+=1\n",
    "                        if check_network[nxt_array[0]][nxt_array[1]] == 1:\n",
    "                            continue\n",
    "                        else:\n",
    "                            break\n",
    "                    fianl_list.append(cnt)\n",
    "                    cnt=0\n",
    "                    while -1<nxt_array[2]<max_i+1 or -1<nxt_array[3]<max_i+1 :#total[j][k]==1:\n",
    "                        #x축 이동\n",
    "                        nxt_array = origin_array+[0,1,0,1] #위로 이동\n",
    "                        cnt+=1\n",
    "                        if check_network[nxt_array[0]][nxt_array[1]] or check_network[nxt_array[2]][nxt_array[3]] == 1:\n",
    "                            continue\n",
    "                        else:\n",
    "                            break\n",
    "                    fianl_list.append(cnt)\n",
    "                    cnt=0\n",
    "                    while -1<nxt_array[2]<max_i+1 or -1<nxt_array[3]<max_i+1 :#total[j][k]==1:\n",
    "                        #x축 이동\n",
    "                        nxt_array = origin_array+[0,-1,0,-1] #아래로 이동\n",
    "                        cnt+=1\n",
    "                        if check_network[nxt_array[0]][nxt_array[1]] or check_network[nxt_array[2]][nxt_array[3]] == 1:\n",
    "                            continue\n",
    "                        else:\n",
    "                            break\n",
    "                    fianl_list.append(cnt)         \n",
    "                    min(final_list)\n",
    "                    \n",
    "                        \n",
    "#깊이탐색"
   ]
  },
  {
   "cell_type": "code",
   "execution_count": 135,
   "id": "2a75f78c",
   "metadata": {},
   "outputs": [
    {
     "data": {
      "text/plain": [
       "array([9, 2, 8, 6])"
      ]
     },
     "execution_count": 135,
     "metadata": {},
     "output_type": "execute_result"
    }
   ],
   "source": [
    "now_t\n",
    "import numpy as np\n",
    "np.array(now_t)+[1,0,1,0]\n",
    "#np.array(now_t)\n",
    "#now_t+[1,1,1,1]"
   ]
  },
  {
   "cell_type": "code",
   "execution_count": null,
   "id": "e0ccbd44",
   "metadata": {},
   "outputs": [],
   "source": [
    "#겹치는 값이 나올 경우\n",
    "\n",
    "\n",
    "for now_t in L1:\n",
    "    #y축은 거꾸로 생각해야함\n",
    "    #network[행, 열]\n",
    "    for j in range(max_i-max(t[1],t[3]), (max_i-min(t[1],t[3])+1)):\n",
    "        print(j)\n",
    "        for k in range(min(t[0],t[2]), max(t[0],t[2])+1):\n",
    "            network[j][k]=1\n",
    "            \n",
    "for ii in \n",
    "if network[j][k]=1:\n",
    "    #x축이 겹칠 경우\n",
    "    #겹치는 구간이 없을 때까지 이동\n",
    "    while network[j][k]=1:\n",
    "        #직사각형 1\n",
    "\n",
    "        #직사각형 2\n",
    "    #y축이 겹칠 경우 \n",
    "\n",
    "#겹치는 값이 없을 경우 1삽입\n",
    "else:\n",
    "    network[j][k]=1\n"
   ]
  },
  {
   "cell_type": "code",
   "execution_count": 65,
   "id": "7f178542",
   "metadata": {},
   "outputs": [
    {
     "name": "stdout",
     "output_type": "stream",
     "text": [
      "9\n",
      "0 3\n",
      "0 4\n",
      "0 5\n",
      "9\n",
      "1 3\n",
      "1 4\n",
      "1 5\n",
      "9\n",
      "2 3\n",
      "2 4\n",
      "2 5\n",
      "9\n",
      "3 3\n",
      "3 4\n",
      "3 5\n",
      "9\n",
      "4 3\n",
      "4 4\n",
      "4 5\n"
     ]
    },
    {
     "data": {
      "text/plain": [
       "[[0, 0, 0, 1, 1, 1, 0, 0, 0, 0],\n",
       " [0, 0, 0, 1, 1, 1, 0, 0, 0, 0],\n",
       " [0, 0, 0, 1, 1, 1, 0, 0, 0, 0],\n",
       " [0, 0, 0, 1, 1, 1, 0, 0, 0, 0],\n",
       " [0, 0, 0, 1, 1, 1, 0, 0, 0, 0],\n",
       " [0, 0, 0, 1, 1, 0, 0, 0, 0, 0],\n",
       " [0, 0, 0, 0, 0, 0, 0, 0, 0, 0],\n",
       " [0, 0, 0, 0, 0, 0, 0, 0, 0, 0],\n",
       " [0, 0, 0, 0, 0, 0, 0, 0, 0, 0],\n",
       " [0, 0, 0, 0, 0, 0, 0, 0, 0, 0]]"
      ]
     },
     "execution_count": 65,
     "metadata": {},
     "output_type": "execute_result"
    }
   ],
   "source": [
    "network[max_i-t[1]][t[0]]\n",
    "max_i-t[1] #0\n",
    "t[0] #3\n",
    "tt=max_i-t[1]\n",
    "network[tt][3]=1\n",
    "network\n",
    "t=[3, 9, 5, 4]\n",
    "for j in range(max_i-t[1], max_i-t[3]):\n",
    "    #print(j)\n",
    "    print(t[1])\n",
    "    for k in range(t[0], t[2]+1):\n",
    "        print(j, k)\n",
    "        network[j][k]=1\n",
    "network"
   ]
  },
  {
   "cell_type": "code",
   "execution_count": 66,
   "id": "dfca58fd",
   "metadata": {},
   "outputs": [
    {
     "name": "stdout",
     "output_type": "stream",
     "text": [
      "[3, 9, 5, 4]\n",
      "[5, 7, 6, 6]\n",
      "[8, 2, 7, 6]\n"
     ]
    },
    {
     "data": {
      "text/plain": [
       "[[0, 0, 0, 1, 1, 1, 0, 0, 0, 0],\n",
       " [0, 0, 0, 1, 1, 1, 0, 0, 0, 0],\n",
       " [0, 0, 0, 1, 1, 1, 1, 0, 0, 0],\n",
       " [0, 0, 0, 1, 1, 1, 0, 0, 0, 0],\n",
       " [0, 0, 0, 1, 1, 1, 0, 0, 0, 0],\n",
       " [0, 0, 0, 0, 0, 0, 0, 0, 0, 0],\n",
       " [0, 0, 0, 0, 0, 0, 0, 0, 0, 0],\n",
       " [0, 0, 0, 0, 0, 0, 0, 0, 0, 0],\n",
       " [0, 0, 0, 0, 0, 0, 0, 0, 0, 0],\n",
       " [0, 0, 0, 0, 0, 0, 0, 0, 0, 0]]"
      ]
     },
     "execution_count": 66,
     "metadata": {},
     "output_type": "execute_result"
    }
   ],
   "source": [
    "max_i = max(L1+L2+L3)\n",
    "#0,0부터 시작하니까 9개가아닌 10개\n",
    "network = [[0] * (max_i+1) for i in range(max_i+1)]\n",
    "total = [L2, L1, L3]\n",
    "for t in total:\n",
    "    print(t)\n",
    "    #y축은 거꾸로 생각해야함\n",
    "    #network[행, 열]\n",
    "    for j in range(max_i-t[1], max_i-t[3]):\n",
    "    #print(j)\n",
    "    #print(t[1])\n",
    "        for k in range(t[0], t[2]+1):\n",
    "            #print(j, k)\n",
    "            network[j][k]=1\n",
    "network"
   ]
  },
  {
   "cell_type": "code",
   "execution_count": 79,
   "id": "9530fc5b",
   "metadata": {},
   "outputs": [
    {
     "data": {
      "text/plain": [
       "6"
      ]
     },
     "execution_count": 79,
     "metadata": {},
     "output_type": "execute_result"
    }
   ],
   "source": [
    "min(t[1], t[3])\n",
    "max(t[1], t[3])"
   ]
  },
  {
   "cell_type": "code",
   "execution_count": 90,
   "id": "e5e0d70c",
   "metadata": {},
   "outputs": [
    {
     "name": "stdout",
     "output_type": "stream",
     "text": [
      "3\n",
      "4\n",
      "5\n",
      "6\n",
      "7\n",
      "0\n",
      "1\n",
      "2\n",
      "3\n",
      "4\n",
      "5\n",
      "2\n",
      "3\n"
     ]
    },
    {
     "data": {
      "text/plain": [
       "[[0, 0, 0, 1, 1, 1, 0, 0, 0, 0],\n",
       " [0, 0, 0, 1, 1, 1, 0, 0, 0, 0],\n",
       " [0, 0, 0, 1, 1, 1, 1, 0, 0, 0],\n",
       " [0, 0, 0, 1, 1, 1, 1, 1, 1, 0],\n",
       " [0, 0, 0, 1, 1, 1, 0, 1, 1, 0],\n",
       " [0, 0, 0, 1, 1, 1, 0, 1, 1, 0],\n",
       " [0, 0, 0, 0, 0, 0, 0, 1, 1, 0],\n",
       " [0, 0, 0, 0, 0, 0, 0, 1, 1, 0],\n",
       " [0, 0, 0, 0, 0, 0, 0, 0, 0, 0],\n",
       " [0, 0, 0, 0, 0, 0, 0, 0, 0, 0]]"
      ]
     },
     "execution_count": 90,
     "metadata": {},
     "output_type": "execute_result"
    }
   ],
   "source": []
  },
  {
   "cell_type": "code",
   "execution_count": 89,
   "id": "dadac6d9",
   "metadata": {},
   "outputs": [
    {
     "data": {
      "text/plain": [
       "(7, 6)"
      ]
     },
     "execution_count": 89,
     "metadata": {},
     "output_type": "execute_result"
    }
   ],
   "source": [
    "t[1], t[3]"
   ]
  }
 ],
 "metadata": {
  "kernelspec": {
   "display_name": "Python 3 (ipykernel)",
   "language": "python",
   "name": "python3"
  },
  "language_info": {
   "codemirror_mode": {
    "name": "ipython",
    "version": 3
   },
   "file_extension": ".py",
   "mimetype": "text/x-python",
   "name": "python",
   "nbconvert_exporter": "python",
   "pygments_lexer": "ipython3",
   "version": "3.7.11"
  }
 },
 "nbformat": 4,
 "nbformat_minor": 5
}
