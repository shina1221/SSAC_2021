{
 "cells": [
  {
   "cell_type": "code",
   "execution_count": null,
   "id": "10108824",
   "metadata": {},
   "outputs": [],
   "source": [
    "문제\n",
    "절댓값 힙은 다음과 같은 연산을 지원하는 자료구조이다.\n",
    "\n",
    "배열에 정수 x (x ≠ 0)를 넣는다.\n",
    "배열에서 절댓값이 가장 작은 값을 출력하고, 그 값을 배열에서 제거한다. 절댓값이 가장 작은 값이 여러개일 때는, 가장 작은 수를 출력하고, 그 값을 배열에서 제거한다.\n",
    "프로그램은 처음에 비어있는 배열에서 시작하게 된다.\n",
    "\n",
    "입력\n",
    "첫째 줄에 연산의 개수 N(1≤N≤100,000)이 주어진다. 다음 N개의 줄에는 연산에 대한 정보를 나타내는 정수 x가 주어진다. 만약 x가 0이 아니라면 배열에 x라는 값을 넣는(추가하는) 연산이고, x가 0이라면 배열에서 절댓값이 가장 작은 값을 출력하고 그 값을 배열에서 제거하는 경우이다. 입력되는 정수는 -231보다 크고, 231보다 작다.\n",
    "\n",
    "출력\n",
    "입력에서 0이 주어진 회수만큼 답을 출력한다. 만약 배열이 비어 있는 경우인데 절댓값이 가장 작은 값을 출력하라고 한 경우에는 0을 출력하면 된다.\n",
    "\n",
    "예제 입력 1 \n",
    "18\n",
    "1\n",
    "-1\n",
    "0\n",
    "0\n",
    "0\n",
    "1\n",
    "1\n",
    "-1\n",
    "-1\n",
    "2\n",
    "-2\n",
    "0\n",
    "0\n",
    "0\n",
    "0\n",
    "0\n",
    "0\n",
    "0\n",
    "예제 출력 1 \n",
    "-1\n",
    "1\n",
    "0\n",
    "-1\n",
    "-1\n",
    "1\n",
    "1\n",
    "-2\n",
    "2\n",
    "0"
   ]
  },
  {
   "cell_type": "code",
   "execution_count": 5,
   "id": "5669dfdd",
   "metadata": {},
   "outputs": [
    {
     "data": {
      "text/plain": [
       "-1"
      ]
     },
     "execution_count": 5,
     "metadata": {},
     "output_type": "execute_result"
    }
   ],
   "source": [
    "#힙은 최댓값, 최소값을 찾아내는 연산을 쉽게하기위헤 고안된 자료형\n",
    "#힙은 각 노드의 키 값이 그 자식의 키값보다 작지 않거나(최대 힙), 그 자식의 키값보다 크지 않은(최소 힙) 완전 이진트리.\n",
    "\n",
    "-(min(list(map(abs, [-1,5,-6,35,-56]))))"
   ]
  },
  {
   "cell_type": "code",
   "execution_count": 12,
   "id": "ac862a45",
   "metadata": {
    "scrolled": true
   },
   "outputs": [
    {
     "name": "stdout",
     "output_type": "stream",
     "text": [
      "18\n",
      "1\n",
      "-1\n",
      "0\n",
      "answer -1\n",
      "0\n",
      "answer -1\n"
     ]
    },
    {
     "ename": "KeyboardInterrupt",
     "evalue": "Interrupted by user",
     "output_type": "error",
     "traceback": [
      "\u001b[1;31m---------------------------------------------------------------------------\u001b[0m",
      "\u001b[1;31mKeyboardInterrupt\u001b[0m                         Traceback (most recent call last)",
      "\u001b[1;32m~\\AppData\\Local\\Temp/ipykernel_31188/3838379285.py\u001b[0m in \u001b[0;36m<module>\u001b[1;34m\u001b[0m\n\u001b[0;32m      4\u001b[0m \u001b[0mtotal\u001b[0m \u001b[1;33m=\u001b[0m \u001b[1;33m[\u001b[0m\u001b[1;33m]\u001b[0m\u001b[1;33m\u001b[0m\u001b[1;33m\u001b[0m\u001b[0m\n\u001b[0;32m      5\u001b[0m \u001b[1;32mfor\u001b[0m \u001b[0mi\u001b[0m \u001b[1;32min\u001b[0m \u001b[0mrange\u001b[0m\u001b[1;33m(\u001b[0m\u001b[0mN\u001b[0m\u001b[1;33m)\u001b[0m\u001b[1;33m:\u001b[0m\u001b[1;33m\u001b[0m\u001b[1;33m\u001b[0m\u001b[0m\n\u001b[1;32m----> 6\u001b[1;33m     \u001b[0mnow\u001b[0m\u001b[1;33m=\u001b[0m\u001b[0mint\u001b[0m\u001b[1;33m(\u001b[0m\u001b[0minput\u001b[0m\u001b[1;33m(\u001b[0m\u001b[1;33m)\u001b[0m\u001b[1;33m)\u001b[0m\u001b[1;33m\u001b[0m\u001b[1;33m\u001b[0m\u001b[0m\n\u001b[0m\u001b[0;32m      7\u001b[0m     \u001b[1;32mif\u001b[0m \u001b[0mnow\u001b[0m \u001b[1;33m!=\u001b[0m\u001b[1;36m0\u001b[0m\u001b[1;33m:\u001b[0m\u001b[1;33m\u001b[0m\u001b[1;33m\u001b[0m\u001b[0m\n\u001b[0;32m      8\u001b[0m         \u001b[0mtotal\u001b[0m\u001b[1;33m.\u001b[0m\u001b[0mappend\u001b[0m\u001b[1;33m(\u001b[0m\u001b[0mnow\u001b[0m\u001b[1;33m)\u001b[0m\u001b[1;33m\u001b[0m\u001b[1;33m\u001b[0m\u001b[0m\n",
      "\u001b[1;32m~\\anaconda3\\envs\\yolo\\lib\\site-packages\\ipykernel\\kernelbase.py\u001b[0m in \u001b[0;36mraw_input\u001b[1;34m(self, prompt)\u001b[0m\n\u001b[0;32m   1008\u001b[0m             \u001b[0mself\u001b[0m\u001b[1;33m.\u001b[0m\u001b[0m_parent_ident\u001b[0m\u001b[1;33m[\u001b[0m\u001b[1;34m\"shell\"\u001b[0m\u001b[1;33m]\u001b[0m\u001b[1;33m,\u001b[0m\u001b[1;33m\u001b[0m\u001b[1;33m\u001b[0m\u001b[0m\n\u001b[0;32m   1009\u001b[0m             \u001b[0mself\u001b[0m\u001b[1;33m.\u001b[0m\u001b[0mget_parent\u001b[0m\u001b[1;33m(\u001b[0m\u001b[1;34m\"shell\"\u001b[0m\u001b[1;33m)\u001b[0m\u001b[1;33m,\u001b[0m\u001b[1;33m\u001b[0m\u001b[1;33m\u001b[0m\u001b[0m\n\u001b[1;32m-> 1010\u001b[1;33m             \u001b[0mpassword\u001b[0m\u001b[1;33m=\u001b[0m\u001b[1;32mFalse\u001b[0m\u001b[1;33m,\u001b[0m\u001b[1;33m\u001b[0m\u001b[1;33m\u001b[0m\u001b[0m\n\u001b[0m\u001b[0;32m   1011\u001b[0m         )\n\u001b[0;32m   1012\u001b[0m \u001b[1;33m\u001b[0m\u001b[0m\n",
      "\u001b[1;32m~\\anaconda3\\envs\\yolo\\lib\\site-packages\\ipykernel\\kernelbase.py\u001b[0m in \u001b[0;36m_input_request\u001b[1;34m(self, prompt, ident, parent, password)\u001b[0m\n\u001b[0;32m   1049\u001b[0m             \u001b[1;32mexcept\u001b[0m \u001b[0mKeyboardInterrupt\u001b[0m\u001b[1;33m:\u001b[0m\u001b[1;33m\u001b[0m\u001b[1;33m\u001b[0m\u001b[0m\n\u001b[0;32m   1050\u001b[0m                 \u001b[1;31m# re-raise KeyboardInterrupt, to truncate traceback\u001b[0m\u001b[1;33m\u001b[0m\u001b[1;33m\u001b[0m\u001b[1;33m\u001b[0m\u001b[0m\n\u001b[1;32m-> 1051\u001b[1;33m                 \u001b[1;32mraise\u001b[0m \u001b[0mKeyboardInterrupt\u001b[0m\u001b[1;33m(\u001b[0m\u001b[1;34m\"Interrupted by user\"\u001b[0m\u001b[1;33m)\u001b[0m \u001b[1;32mfrom\u001b[0m \u001b[1;32mNone\u001b[0m\u001b[1;33m\u001b[0m\u001b[1;33m\u001b[0m\u001b[0m\n\u001b[0m\u001b[0;32m   1052\u001b[0m             \u001b[1;32mexcept\u001b[0m \u001b[0mException\u001b[0m\u001b[1;33m:\u001b[0m\u001b[1;33m\u001b[0m\u001b[1;33m\u001b[0m\u001b[0m\n\u001b[0;32m   1053\u001b[0m                 \u001b[0mself\u001b[0m\u001b[1;33m.\u001b[0m\u001b[0mlog\u001b[0m\u001b[1;33m.\u001b[0m\u001b[0mwarning\u001b[0m\u001b[1;33m(\u001b[0m\u001b[1;34m\"Invalid Message:\"\u001b[0m\u001b[1;33m,\u001b[0m \u001b[0mexc_info\u001b[0m\u001b[1;33m=\u001b[0m\u001b[1;32mTrue\u001b[0m\u001b[1;33m)\u001b[0m\u001b[1;33m\u001b[0m\u001b[1;33m\u001b[0m\u001b[0m\n",
      "\u001b[1;31mKeyboardInterrupt\u001b[0m: Interrupted by user"
     ]
    }
   ],
   "source": [
    "#개인\n",
    "N= int(input())\n",
    "\n",
    "total = []\n",
    "for i in range(N):\n",
    "    now=int(input())\n",
    "    if now !=0:\n",
    "        total.append(now)\n",
    "        if len(total)==0:\n",
    "            print(0)\n",
    "    else:\n",
    "        if -(min(list(map(abs, total)))) in total:\n",
    "            print('answer', -(min(list(map(abs, total)))))\n",
    "            del total \n",
    "        else:\n",
    "            print('answer', (min(list(map(abs, total)))))\n",
    "        \n",
    "    \n"
   ]
  },
  {
   "cell_type": "code",
   "execution_count": 29,
   "id": "5508b559",
   "metadata": {},
   "outputs": [
    {
     "data": {
      "text/plain": [
       "[1, 65, 6, 2157, 465]"
      ]
     },
     "execution_count": 29,
     "metadata": {},
     "output_type": "execute_result"
    }
   ],
   "source": [
    "import heapq as hq\n",
    "heapq = []\n",
    "#추가\n",
    "hq.heappush(heapq, 0)\n",
    "heapq\n",
    "\n",
    "#삭제\n",
    "hq.heappop(heapq) #마지막 요소 삭제\n",
    "\n",
    "#기존 리스트 힙으로 변환\n",
    "heap=[1,465,6,2157,65]\n",
    "hq.heapify(heap)\n",
    "heap"
   ]
  },
  {
   "cell_type": "code",
   "execution_count": 26,
   "id": "2f107d1f",
   "metadata": {},
   "outputs": [
    {
     "data": {
      "text/plain": [
       "0"
      ]
     },
     "execution_count": 26,
     "metadata": {},
     "output_type": "execute_result"
    }
   ],
   "source": [
    "hq.heappush(heapq, 1)\n",
    "hq.heappush(heapq, 11)\n",
    "hq.heappush(heapq, 31)\n",
    "hq.heappush(heapq, 0)\n",
    "hq.heappush(heapq, 10)\n",
    "heapq\n",
    "\n",
    "#최소값을 얻기위해선 \n",
    "heapq[0] \n",
    "\n",
    "\"\"\"\n",
    "인덱스 0에 가장 작은 원소가 있다고 해서, 인덱스 1에 두번째 작은 원소, 인덱스 2에 세번째 작은 원소가 있다는 보장은 없음.\n",
    "왜냐하면 힙은 heappop()함수를 호출해 원소를 삭제할 때마다 이진트리의 재배치를 통해 매번 새로운 최소값을 \n",
    "인덱스 0에 위치시키기 때문\n",
    "\n",
    "따라서 두번째로 작은 원소를 얻기 위해선 바로 heap[1]로 접근해서 안되고 \n",
    "반드시 heappop()으로 삭제후 heap[0]으로 접근해야 함.\n",
    "\"\"\""
   ]
  },
  {
   "cell_type": "code",
   "execution_count": 16,
   "id": "40315500",
   "metadata": {},
   "outputs": [
    {
     "name": "stdout",
     "output_type": "stream",
     "text": [
      "[(3, 2), (3, 2, 1), (3, 4), (8, 5), (8, 7)]\n"
     ]
    }
   ],
   "source": [
    "#풀이\n",
    "\n",
    "arr=[(3,4),(3,2,1),(8,5),(3,2),(8,7)]\n",
    "arr.sort()\n",
    "print(arr)\n",
    "#튜플도 sorting 가능\n",
    "\n",
    "import heapq as hq\n",
    "import sys\n",
    "\n",
    "input = sys.stdin.readline\n",
    "pq = []\n",
    "for _ in range(int(input())):\n",
    "    #x = int(input()) #sys.stdin.readline 사용안하면 시간초과 발생\n",
    "    x = int(input())\n",
    "    if x:\n",
    "        hq.heappush(pq, (abs(x), x))\n",
    "    else:\n",
    "        #삼항 연산자\n",
    "        print(hq.heappop(pq) if pq else 0)\n",
    "#위의 코드가 곧 아래의 코드\n",
    "#         if pq:\n",
    "#             print(hq.heappop(pq) if pq else 0)\n",
    "#         else:\n",
    "#             print(0)"
   ]
  }
 ],
 "metadata": {
  "kernelspec": {
   "display_name": "Python 3 (ipykernel)",
   "language": "python",
   "name": "python3"
  },
  "language_info": {
   "codemirror_mode": {
    "name": "ipython",
    "version": 3
   },
   "file_extension": ".py",
   "mimetype": "text/x-python",
   "name": "python",
   "nbconvert_exporter": "python",
   "pygments_lexer": "ipython3",
   "version": "3.7.11"
  }
 },
 "nbformat": 4,
 "nbformat_minor": 5
}
