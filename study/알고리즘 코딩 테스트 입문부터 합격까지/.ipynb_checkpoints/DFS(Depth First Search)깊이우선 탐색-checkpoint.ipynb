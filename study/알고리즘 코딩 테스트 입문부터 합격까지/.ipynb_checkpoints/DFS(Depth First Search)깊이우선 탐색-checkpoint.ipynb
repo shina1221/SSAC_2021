{
 "cells": [
  {
   "cell_type": "code",
   "execution_count": 4,
   "id": "ac80afa5",
   "metadata": {},
   "outputs": [
    {
     "name": "stdout",
     "output_type": "stream",
     "text": [
      "[0, 1, 0, 0, 0, 0, 0, 1, 0, 0, 0, 0, 0]\n",
      "[0, 0, 1, 0, 0, 1, 0, 0, 0, 0, 0, 0, 0]\n",
      "[0, 0, 0, 0, 0, 0, 0, 0, 0, 0, 0, 0, 0]\n",
      "[0, 0, 0, 0, 0, 0, 0, 0, 0, 0, 0, 0, 0]\n",
      "[0, 0, 0, 0, 0, 0, 0, 0, 0, 0, 0, 0, 0]\n",
      "[0, 0, 0, 0, 0, 0, 0, 0, 0, 0, 0, 0, 0]\n",
      "[0, 0, 0, 0, 0, 0, 0, 0, 0, 0, 0, 0, 0]\n",
      "[0, 0, 0, 0, 0, 0, 0, 0, 0, 0, 0, 0, 0]\n",
      "[0, 0, 0, 0, 0, 0, 0, 0, 0, 0, 0, 0, 0]\n",
      "[0, 0, 0, 0, 0, 0, 0, 0, 0, 0, 0, 0, 0]\n",
      "[0, 0, 0, 0, 0, 0, 0, 0, 0, 0, 0, 0, 0]\n",
      "[0, 0, 0, 0, 0, 0, 0, 0, 0, 0, 0, 0, 0]\n",
      "[0, 0, 0, 0, 0, 0, 0, 0, 0, 0, 0, 0, 0]\n"
     ]
    }
   ],
   "source": [
    "#스틱 혹은 재귀를 사용해서 구현\n",
    "\n",
    "\"\"\"\n",
    "             0 \n",
    "      1             7\n",
    " 2        5    8        9 \n",
    "3 4       6          10 11 12\n",
    "\"\"\"\n",
    "\n",
    "adj = [[0] * 13 for _ in range(13)]\n",
    "adj[0][1] = adj[0][7] =1\n",
    "adj[1][2] = adj[1][5]=1\n",
    "\n",
    "for row in adj:\n",
    "    print(row)"
   ]
  },
  {
   "cell_type": "code",
   "execution_count": 3,
   "id": "c29a0e1c",
   "metadata": {},
   "outputs": [],
   "source": [
    "#재귀\n",
    "def dfs(now):\n",
    "    for nxt in range(13):\n",
    "        if adj[now][nxt]:\n",
    "            dfs(nxt)\n",
    "    \n",
    "#0번부터 시작    \n",
    "dfs(0)"
   ]
  }
 ],
 "metadata": {
  "kernelspec": {
   "display_name": "Python 3 (ipykernel)",
   "language": "python",
   "name": "python3"
  },
  "language_info": {
   "codemirror_mode": {
    "name": "ipython",
    "version": 3
   },
   "file_extension": ".py",
   "mimetype": "text/x-python",
   "name": "python",
   "nbconvert_exporter": "python",
   "pygments_lexer": "ipython3",
   "version": "3.7.11"
  }
 },
 "nbformat": 4,
 "nbformat_minor": 5
}
