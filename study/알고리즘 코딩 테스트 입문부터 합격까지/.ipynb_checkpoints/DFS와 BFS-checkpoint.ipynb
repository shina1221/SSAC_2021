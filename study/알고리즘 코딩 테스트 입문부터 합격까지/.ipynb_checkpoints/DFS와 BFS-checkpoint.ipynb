{
 "cells": [
  {
   "cell_type": "code",
   "execution_count": null,
   "id": "cb1e2e82",
   "metadata": {},
   "outputs": [],
   "source": [
    "\"\"\"\n",
    "DFS와 BFS\n",
    "\n",
    "공통점\n",
    "- 완전탐색으로 진행해서 모든 노드를 탐색하고 느리다.\n",
    "\n",
    "차이점\n",
    "- 최단거리를 묻는다고 할 경우 다른 값을 보임\n",
    "DFS의 경우 로직상 모든 노드를 찾아봐야 하지만\n",
    "BFS는 중간에 값을 찾으면 escape 할 수 있음. 가지치기가 가능하기 때문에 비교적 유리\n",
    "\n",
    "최단거리 탐색할 때는 보통 BFS를 사용\n",
    "\n",
    "#최단거리를 찾는 다른 알고리즘으로는 다익스트라, 벨만포드, 플로이드워셜이 있음.\n",
    "\"\"\""
   ]
  },
  {
   "cell_type": "code",
   "execution_count": null,
   "id": "cf10c76a",
   "metadata": {},
   "outputs": [],
   "source": [
    "#시간복잡도\n",
    "\"\"\"\n",
    "DFS vs BFS\n",
    "\n",
    "인접행렬 vs 인접리스트\n",
    "인접행렬 : O(V^2) #정점의 제곱\n",
    "인접리스트: O(V+E) #정점 + 간선 \n",
    "//인접리스트에서 v와 e의 최대값은 거의 같다고 볼 수 있음\n",
    "  정점과 간선중에 뭐가 더 클지모름\n",
    "  O(max(V,E))와 동일하다고 봐도 무방 \n",
    "  간선 갯수가 적을수록 인접리스트가 유리\n",
    " \n",
    "  if E가 최대일 경우\n",
    "  O(V+V^2) = O(V^2)#큰항만 남기므로  >> 인접행렬과 시간복잡도가 같아짐\n",
    "\n",
    "\"\"\""
   ]
  }
 ],
 "metadata": {
  "kernelspec": {
   "display_name": "Python 3 (ipykernel)",
   "language": "python",
   "name": "python3"
  },
  "language_info": {
   "codemirror_mode": {
    "name": "ipython",
    "version": 3
   },
   "file_extension": ".py",
   "mimetype": "text/x-python",
   "name": "python",
   "nbconvert_exporter": "python",
   "pygments_lexer": "ipython3",
   "version": "3.7.11"
  }
 },
 "nbformat": 4,
 "nbformat_minor": 5
}
