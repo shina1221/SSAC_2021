{
 "cells": [
  {
   "cell_type": "code",
   "execution_count": null,
   "id": "fac4ae63",
   "metadata": {},
   "outputs": [],
   "source": [
    "#https://www.acmicpc.net/problem/9012\n",
    "\n",
    "문제\n",
    "괄호 문자열(Parenthesis String, PS)은 두 개의 괄호 기호인 ‘(’ 와 ‘)’ 만으로 구성되어 있는 문자열이다. 그 중에서 괄호의 모양이 바르게 구성된 문자열을 올바른 괄호 문자열(Valid PS, VPS)이라고 부른다. 한 쌍의 괄호 기호로 된 “( )” 문자열은 기본 VPS 이라고 부른다. 만일 x 가 VPS 라면 이것을 하나의 괄호에 넣은 새로운 문자열 “(x)”도 VPS 가 된다. 그리고 두 VPS x 와 y를 접합(concatenation)시킨 새로운 문자열 xy도 VPS 가 된다. 예를 들어 “(())()”와 “((()))” 는 VPS 이지만 “(()(”, “(())()))” , 그리고 “(()” 는 모두 VPS 가 아닌 문자열이다. \n",
    "\n",
    "여러분은 입력으로 주어진 괄호 문자열이 VPS 인지 아닌지를 판단해서 그 결과를 YES 와 NO 로 나타내어야 한다. \n",
    "\n",
    "입력\n",
    "입력 데이터는 표준 입력을 사용한다. 입력은 T개의 테스트 데이터로 주어진다. 입력의 첫 번째 줄에는 입력 데이터의 수를 나타내는 정수 T가 주어진다. 각 테스트 데이터의 첫째 줄에는 괄호 문자열이 한 줄에 주어진다. 하나의 괄호 문자열의 길이는 2 이상 50 이하이다. \n",
    "\n",
    "출력\n",
    "출력은 표준 출력을 사용한다. 만일 입력 괄호 문자열이 올바른 괄호 문자열(VPS)이면 “YES”, 아니면 “NO”를 한 줄에 하나씩 차례대로 출력해야 한다. \n",
    "\n",
    "예제 입력 1 \n",
    "6\n",
    "(())())\n",
    "(((()())()\n",
    "(()())((()))\n",
    "((()()(()))(((())))()\n",
    "()()()()(()()())()\n",
    "(()((())()(\n",
    "    \n",
    "예제 출력 1 \n",
    "NO\n",
    "NO\n",
    "YES\n",
    "NO\n",
    "YES\n",
    "NO\n",
    "    \n",
    "예제 입력 2 \n",
    "3\n",
    "((\n",
    "))\n",
    "())(()\n",
    "    \n",
    "예제 출력 2 \n",
    "NO\n",
    "NO\n",
    "NO"
   ]
  },
  {
   "cell_type": "code",
   "execution_count": 16,
   "id": "800bdabc",
   "metadata": {},
   "outputs": [
    {
     "name": "stdout",
     "output_type": "stream",
     "text": [
      "6\n",
      "(())())\n",
      "No\n",
      "(((()())()\n",
      "No\n",
      "(()())((()))\n",
      "Yes\n",
      "((()()(()))(((())))()\n",
      "No\n",
      "()()()()(()()())()\n",
      "Yes\n",
      "(()((())()(\n",
      "No\n"
     ]
    }
   ],
   "source": [
    "#stack 문제\n",
    "\n",
    "#가장 가까운 ()를 찾아본다\n",
    "\n",
    "#T= int(input())\n",
    "#print(T)\n",
    "\n",
    "for _ in range(int(input())):\n",
    "    stk=[]\n",
    "    isVPS =True\n",
    "    for ch in input(): \n",
    "        if ch == '(':\n",
    "            stk.append(ch)\n",
    "        else:                  #굳이 )까지 넣어서 확인할 필요가 없음\n",
    "            if stk:\n",
    "                stk.pop()       #)가 있다는걸 확인하면 (를 지워도 됨\n",
    "            else:\n",
    "                isVPS = False\n",
    "                break\n",
    "                \n",
    "    if len(stk)>0: # 맨 마지막에 )로 끝나는 경우 #stk가 비어있지 않을 경우\n",
    "        isVPS=False\n",
    "        \n",
    "    print('YES' if isVPS else 'NO')\n",
    "    \n",
    "#현재 테스트 케이스에선 불가"
   ]
  }
 ],
 "metadata": {
  "kernelspec": {
   "display_name": "Python 3 (ipykernel)",
   "language": "python",
   "name": "python3"
  },
  "language_info": {
   "codemirror_mode": {
    "name": "ipython",
    "version": 3
   },
   "file_extension": ".py",
   "mimetype": "text/x-python",
   "name": "python",
   "nbconvert_exporter": "python",
   "pygments_lexer": "ipython3",
   "version": "3.7.11"
  }
 },
 "nbformat": 4,
 "nbformat_minor": 5
}
