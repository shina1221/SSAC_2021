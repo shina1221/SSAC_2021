{
 "cells": [
  {
   "cell_type": "code",
   "execution_count": null,
   "id": "be7b185a",
   "metadata": {},
   "outputs": [],
   "source": [
    "문제\n",
    "N장의 카드가 있다. 각각의 카드는 차례로 1부터 N까지의 번호가 붙어 있으며, 1번 카드가 제일 위에, N번 카드가 제일 아래인 상태로 순서대로 카드가 놓여 있다.\n",
    "\n",
    "이제 다음과 같은 동작을 카드가 한 장 남을 때까지 반복하게 된다. 우선, 제일 위에 있는 카드를 바닥에 버린다. 그 다음, 제일 위에 있는 카드를 제일 아래에 있는 카드 밑으로 옮긴다.\n",
    "\n",
    "예를 들어 N=4인 경우를 생각해 보자. 카드는 제일 위에서부터 1234 의 순서로 놓여있다. 1을 버리면 234가 남는다. 여기서 2를 제일 아래로 옮기면 342가 된다. 3을 버리면 42가 되고, 4를 밑으로 옮기면 24가 된다. 마지막으로 2를 버리고 나면, 남는 카드는 4가 된다.\n",
    "\n",
    "N이 주어졌을 때, 제일 마지막에 남게 되는 카드를 구하는 프로그램을 작성하시오.\n",
    "\n",
    "입력\n",
    "첫째 줄에 정수 N(1 ≤ N ≤ 500,000)이 주어진다.\n",
    "\n",
    "출력\n",
    "첫째 줄에 남게 되는 카드의 번호를 출력한다.\n",
    "\n",
    "예제 입력 1 \n",
    "6\n",
    "\n",
    "예제 출력 1 \n",
    "4"
   ]
  },
  {
   "cell_type": "code",
   "execution_count": 22,
   "id": "852a17fc",
   "metadata": {},
   "outputs": [
    {
     "name": "stdout",
     "output_type": "stream",
     "text": [
      "6\n",
      "[3, 4, 5, 6, 2]\n",
      "[5, 6, 2, 4]\n",
      "[2, 4, 6]\n",
      "[6, 4]\n",
      "[4]\n",
      "[4]\n"
     ]
    }
   ],
   "source": [
    "#본인 코드(시간초과)\n",
    "ll = [i for i in range(1, int(input())+1)]\n",
    "while len(ll)>1:\n",
    "    if len(ll)==1:\n",
    "        break\n",
    "    else:\n",
    "        ll.pop(0)\n",
    "        now=ll.pop(0)\n",
    "        ll.insert(len(ll), now)\n",
    "    print(ll)\n",
    "print(ll)\n"
   ]
  },
  {
   "cell_type": "markdown",
   "id": "d3077172",
   "metadata": {},
   "source": [
    "풀이\n",
    "\n",
    "#시간복잡도 \n",
    "\n",
    "1.맨 앞의 값을 삭제                (삭제)\n",
    "2.맨 앞의 값을 맨 뒤로 보내기      (삭제, 삽입)\n",
    "     삭제      삽입  # 값을 삽입하거나 삭제할때 시간복잡도는 O(N)  \n",
    "    \n",
    "문제에서 N은 최대 50만 \n",
    "\n",
    "-1번과 2번 행위를 하고나면 값은 N-1이 됨 (하나 줄어듦)\n",
    " 이를 하나 남을때까지 반복하므로\n",
    " (N-1)x(1번+2번) \n",
    " 따라서\n",
    " (N-1)*3*O(N) >> 삽입 삭제가 총3개 이므로 3곱함\n",
    " \n",
    " (N-1)*3*O(N)\n",
    " O(3N(N-1))\n",
    " \n",
    " #시간복잡도에서 가장큰 항만 남김\n",
    " 시간 복잡도는 O(N^2)가 됨\n",
    "\n",
    " 5*10^5 즉 25*10^10  >>> 10^8 넘음\n",
    " \n",
    " !!! 연산할때 1초에 1억번\n",
    " 최근에는 컴파일러 최적화 기법이 좋아져서 사칙연산이나 대입문등은 1초에 10억번이지만 디폴트로 1억번이라고 생각해두자\n",
    " \n",
    "#현 문제에서 시간제한을 2초로 둠\n",
    "따라서 연산을 2억번 이내로 끝내야함.\n",
    "이미 문제 자체가 2억번이 넘는 것으로 나오기 때문에 O(N^2)으로 풀수 없음\n",
    "\n",
    "그러므로 \n",
    "\n",
    "큐를 이용해서 풀도록 한다.\n",
    "\n",
    "큐의 한번 연산 시간복잡도는 O(1) 이므로 O(N)이 됨\n"
   ]
  },
  {
   "cell_type": "code",
   "execution_count": 39,
   "id": "54be1e63",
   "metadata": {},
   "outputs": [
    {
     "name": "stdout",
     "output_type": "stream",
     "text": [
      "500000\n",
      "475712\n",
      "3.23799 sec\n"
     ]
    }
   ],
   "source": [
    "from collections import deque\n",
    "import time\n",
    "\n",
    "start = time.time()\n",
    "N = int(input())\n",
    "#range(1, N+1) #1부터 N까지 해야하므로\n",
    "dq = deque(range(1, N+1))\n",
    "\n",
    "while len(dq)>1:\n",
    "    dq.popleft() #맨앞의 값 삭제\n",
    "    dq.append(dq.popleft())\n",
    "\n",
    "print(dq.popleft())\n",
    "\n",
    "end = time.time()\n",
    "print(f\"{end-start:.5f} sec\")\n"
   ]
  },
  {
   "cell_type": "code",
   "execution_count": 40,
   "id": "04847158",
   "metadata": {},
   "outputs": [
    {
     "name": "stdout",
     "output_type": "stream",
     "text": [
      "500000\n",
      "475712\n",
      "123.85478 sec\n"
     ]
    }
   ],
   "source": [
    "import time\n",
    "\n",
    "start= time.time()\n",
    "N = int(input())\n",
    "arr = [* range(1,N+1)] #맨앞에 *를 붙이면 언패킹\n",
    "#print(arr)\n",
    "while len(arr) > 1:\n",
    "    arr.pop(0)\n",
    "    arr.append(arr.pop(0))\n",
    "    #print(arr)\n",
    "print(arr.pop())\n",
    "end = time.time()\n",
    "\n",
    "print(f\"{end-start:.5f} sec\")\n",
    "\n",
    "#큐에 비해서 시간이 어마무시하게 오래걸림"
   ]
  }
 ],
 "metadata": {
  "kernelspec": {
   "display_name": "Python 3 (ipykernel)",
   "language": "python",
   "name": "python3"
  },
  "language_info": {
   "codemirror_mode": {
    "name": "ipython",
    "version": 3
   },
   "file_extension": ".py",
   "mimetype": "text/x-python",
   "name": "python",
   "nbconvert_exporter": "python",
   "pygments_lexer": "ipython3",
   "version": "3.7.11"
  }
 },
 "nbformat": 4,
 "nbformat_minor": 5
}
