{
 "cells": [
  {
   "cell_type": "code",
   "execution_count": null,
   "id": "0f557e47",
   "metadata": {},
   "outputs": [],
   "source": [
    "컬럼보기\n",
    "\n",
    "고객 ID \n",
    "성:이름의 성\n",
    "신용점수\n",
    "지리(Geography) : 고객이 살고 있는 국가\n",
    "성별\n",
    "나이\n",
    "종신\n",
    "재직권:은행에 있었던 년수 잔액\n",
    "balance : 계좌에 있는 돈의 양, 은행에서"
   ]
  },
  {
   "cell_type": "code",
   "execution_count": null,
   "id": "93d25134",
   "metadata": {},
   "outputs": [],
   "source": []
  },
  {
   "cell_type": "code",
   "execution_count": null,
   "id": "6931ccf0",
   "metadata": {},
   "outputs": [],
   "source": []
  },
  {
   "cell_type": "code",
   "execution_count": null,
   "id": "60092234",
   "metadata": {},
   "outputs": [],
   "source": []
  },
  {
   "cell_type": "code",
   "execution_count": null,
   "id": "6395dea8",
   "metadata": {},
   "outputs": [],
   "source": []
  }
 ],
 "metadata": {
  "kernelspec": {
   "display_name": "Python 3 (ipykernel)",
   "language": "python",
   "name": "python3"
  },
  "language_info": {
   "codemirror_mode": {
    "name": "ipython",
    "version": 3
   },
   "file_extension": ".py",
   "mimetype": "text/x-python",
   "name": "python",
   "nbconvert_exporter": "python",
   "pygments_lexer": "ipython3",
   "version": "3.7.11"
  }
 },
 "nbformat": 4,
 "nbformat_minor": 5
}
