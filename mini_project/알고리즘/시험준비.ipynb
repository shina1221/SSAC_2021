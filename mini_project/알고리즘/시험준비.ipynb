{
 "cells": [
  {
   "cell_type": "code",
   "execution_count": 12,
   "id": "b9df5fd2",
   "metadata": {},
   "outputs": [],
   "source": [
    "#완주하지 못한 선수\n",
    "def solution(participant, completion):    \n",
    "    l1 = {}\n",
    "    participant.sort()\n",
    "    completion.sort()\n",
    "    completion.append('0')\n",
    "    for i in range(len(participant)):\n",
    "        if participant[i] != completion[i]:\n",
    "            return participant[i]"
   ]
  },
  {
   "cell_type": "code",
   "execution_count": 172,
   "id": "1165d2bd",
   "metadata": {},
   "outputs": [],
   "source": [
    "#전화번호 목록\n",
    "\n",
    "def solution(pb):\n",
    "    pb.sort()\n",
    "    answer=True\n",
    "    cnt= 0\n",
    "    for i in range(cnt+1, len(pb)):\n",
    "        now = pb[cnt]\n",
    "        cnt+=1\n",
    "        #print(now, i)\n",
    "        if now == pb[i][:len(now)]:\n",
    "            answer= False\n",
    "            break\n",
    "    return answer\n",
    "\n",
    "\"\"\"\n",
    "def solution(phone_book):\n",
    "    end_point=0\n",
    "    phone_book.sort()\n",
    "    answer= True\n",
    "    for i in range(len(phone_book)-1):\n",
    "        if phone_book[i] == phone_book[i+1][:len(phone_book[i])]:\n",
    "            answer=False\n",
    "            break\n",
    "    return answer\n",
    "\"\"\""
   ]
  },
  {
   "cell_type": "code",
   "execution_count": 104,
   "id": "0993f55d",
   "metadata": {},
   "outputs": [
    {
     "data": {
      "text/plain": [
       "[]"
      ]
     },
     "execution_count": 104,
     "metadata": {},
     "output_type": "execute_result"
    }
   ],
   "source": [
    "#위장 ing\n",
    "#조합 \n",
    "clothes =[[\"yellowhat\", \"headgear\"], [\"bluesunglasses\", \"eyewear\"], [\"green_turban\", \"headgear\"]]\n",
    "\n",
    "total = {}\n",
    "for i in clothes:\n",
    "    if i[1] not in total:\n",
    "        total[i[1]]=[i[0]]\n",
    "    else:\n",
    "        total[i[1]].append(i[0]) \n",
    "\n",
    "total\n",
    "\n",
    "############# \n",
    "total = []\n",
    "for j in clothes:\n",
    "    total.append(j[0])\n",
    "def \n",
    "for i in range(len(total)):\n",
    "    for j in range(i, len(total)-i):\n",
    "        print(j)\n",
    "        if clothes[i][1] != clothes[j][1]:\n",
    "            total.append([clothes[i][0],total[j][0]])\n",
    "        \n",
    "total\n",
    "    "
   ]
  },
  {
   "cell_type": "code",
   "execution_count": 246,
   "id": "f0bdfbe1",
   "metadata": {},
   "outputs": [
    {
     "data": {
      "text/plain": [
       "5"
      ]
     },
     "execution_count": 246,
     "metadata": {},
     "output_type": "execute_result"
    }
   ],
   "source": [
    "#다른 답\n",
    "answer = {}\n",
    "for i in clothes:\n",
    "    if i[1] in answer:\n",
    "        answer[i[1]] +=1\n",
    "    else:\n",
    "        answer[i[1]]=1\n",
    "    cnt = 1\n",
    "    for i in answer.values():\n",
    "        cnt *= (i+1)\n",
    "cnt-1\n",
    "\n",
    "def solution(clothes):\n",
    "    from collections import Counter\n",
    "    from functools import reduce\n",
    "    cnt = Counter([kind for name, kind in clothes])\n",
    "    print(cnt)\n",
    "    #reduce(집계 함수, 순회 가능한 데이터[, 초기값])\n",
    "    answer = reduce(lambda x, y: x*(y+1), cnt.values(), 1) - 1\n",
    "    answer\n",
    "    return answer\n",
    "\n",
    "solution(clothes)"
   ]
  },
  {
   "cell_type": "code",
   "execution_count": 247,
   "id": "65a5abe8",
   "metadata": {},
   "outputs": [
    {
     "data": {
      "text/plain": [
       "{'headgear': 2, 'eyewear': 1}"
      ]
     },
     "execution_count": 247,
     "metadata": {},
     "output_type": "execute_result"
    }
   ],
   "source": [
    "#베스트 앨범 ing\n",
    "#https://programmers.co.kr/learn/courses/30/lessons/42579"
   ]
  },
  {
   "cell_type": "code",
   "execution_count": 398,
   "id": "9fd99bf8",
   "metadata": {},
   "outputs": [],
   "source": [
    "genres = [\"classic\", \"pop\", \"classic\", \"classic\", \"pop\"]\n",
    "plays = [500, 600, 150, 800, 2500, 2500]\n",
    "#return [4,1,3,0]\n",
    "\n",
    "genres = [\"classic\", \"pop\", \"classic\", \"classic\", \"pop\", \"test\"] \n",
    "plays = [500, 600, 150, 800, 2500, 100] \n",
    "#[4, 1, 3, 0, 5]\n",
    "\n",
    "genres = [\"A\", \"A\", \"B\", \"A\"] \n",
    "plays = [5, 5, 6, 5] \n",
    "#[0, 1, 2]"
   ]
  },
  {
   "cell_type": "code",
   "execution_count": 400,
   "id": "f26687bd",
   "metadata": {},
   "outputs": [
    {
     "name": "stdout",
     "output_type": "stream",
     "text": [
      "{'A': [5, 5], 'B': [6]}\n",
      "mid_re [10, 6]\n",
      "max_index 0\n",
      "now_list [5, 5]\n",
      "j 0\n",
      "j 1\n",
      "mid_re [0, 6]\n",
      "max_index 1\n",
      "now_list [6]\n",
      "j 0\n"
     ]
    },
    {
     "data": {
      "text/plain": [
       "[0, 1, 2]"
      ]
     },
     "execution_count": 400,
     "metadata": {},
     "output_type": "execute_result"
    }
   ],
   "source": [
    "album = {}\n",
    "#각 장르별 조회수가 높은 값 2개만 저장\n",
    "for i in range(len(genres)):\n",
    "    if genres[i] not in album:\n",
    "        album[genres[i]]=[plays[i]]\n",
    "    else:\n",
    "        album[genres[i]].append(plays[i])\n",
    "        if len(album[genres[i]])==3:\n",
    "            album[genres[i]].pop(album[genres[i]].index(min(album[genres[i]])))\n",
    "print(album)\n",
    "#각 장르별 총합 리스트\n",
    "list(map(sum, album.values()))\n",
    "\n",
    "#2차원 리스트 1차원으로 변환\n",
    "#sum(album.values(), [])\n",
    "#np.concatenate(album.values()).tolist()\n",
    "\n",
    "result = []\n",
    "#합계가 큰 순으로 \n",
    "for i in album.values():\n",
    "    mid_re =list(map(sum, album.values()))    \n",
    "    print('mid_re',mid_re)\n",
    "    #가장 큰 장르의 총합 \n",
    "    #인덱스 뽑기\n",
    "    max_index = mid_re.index(max(mid_re))\n",
    "    print('max_index',max_index)\n",
    "    #삭제\n",
    "    mid_re.pop(mid_re.index(max(mid_re)))    \n",
    "    #[3100] 총합을 나타내는 리스트 #가장 높은 총합을 가지는 장르의 리스트 찾기\n",
    "    now_list = list(album.values())[max_index]\n",
    "    print('now_list', now_list)\n",
    "    for j in range(len(now_list)):\n",
    "        #최대값 찾기\n",
    "        print('j', j)\n",
    "        max_plays = now_list.pop(now_list.index(max(now_list)))\n",
    "        #print(max_plays)\n",
    "        #결과값\n",
    "        if plays.index(max_plays) in result:\n",
    "            result.append(plays.index(max_plays)+1)\n",
    "        else:\n",
    "            result.append(plays.index(max_plays))\n",
    "result"
   ]
  },
  {
   "cell_type": "code",
   "execution_count": 338,
   "id": "63258966",
   "metadata": {},
   "outputs": [
    {
     "data": {
      "text/plain": [
       "[1300]"
      ]
     },
     "execution_count": 338,
     "metadata": {},
     "output_type": "execute_result"
    }
   ],
   "source": [
    "def solution(genres, plays):\n",
    "    album = {}\n",
    "    #각 장르별 조회수가 높은 값 2개만 저장\n",
    "    for i in range(len(genres)):\n",
    "        if genres[i] not in album:\n",
    "            album[genres[i]]=[plays[i]]\n",
    "        else:\n",
    "            album[genres[i]].append(plays[i])\n",
    "            if len(album[genres[i]])==3:\n",
    "                album[genres[i]].pop(album[genres[i]].index(min(album[genres[i]])))\n",
    "    print(album)\n",
    "    #각 장르별 총합 리스트\n",
    "    list(map(sum, album.values()))\n",
    "\n",
    "    #2차원 리스트 1차원으로 변환\n",
    "    #sum(album.values(), [])\n",
    "    #np.concatenate(album.values()).tolist()\n",
    "    \n",
    "    answer = []\n",
    "    #합계가 큰 순으로 \n",
    "    for i in album.values():\n",
    "        mid_re =list(map(sum, album.values()))    \n",
    "        print('mid_re',mid_re)\n",
    "        #가장 큰 장르의 총합 \n",
    "        #인덱스 뽑기\n",
    "        max_index = mid_re.index(max(mid_re))\n",
    "        print('max_index',max_index)\n",
    "        #삭제\n",
    "        mid_re.pop(mid_re.index(max(mid_re)))    \n",
    "        #[3100] 총합을 나타내는 리스트 #가장 높은 총합을 가지는 장르의 리스트 찾기\n",
    "        now_list = list(album.values())[max_index]\n",
    "        print('now_list', now_list)\n",
    "        for j in range(len(now_list)):\n",
    "            #최대값 찾기\n",
    "            print('j', j)\n",
    "            max_plays = now_list.pop(now_list.index(max(now_list)))\n",
    "            #print(max_plays)\n",
    "            #결과값\n",
    "            answer.append(plays.index(max_plays))\n",
    "    return answer\n"
   ]
  },
  {
   "cell_type": "code",
   "execution_count": null,
   "id": "48882b01",
   "metadata": {},
   "outputs": [],
   "source": [
    "def solution(genres, plays):\n",
    "    album = {}\n",
    "    for i in range(len(genres)):\n",
    "        if genres[i] not in album:\n",
    "            album[genres[i]]=[plays[i]]\n",
    "        else:\n",
    "            album[genres[i]].append(plays[i])\n",
    "            if len(album[genres[i]])==3:\n",
    "                album[genres[i]].pop(album[genres[i]].index(min(album[genres[i]])))\n",
    "    answer = []\n",
    "    for i in album.values():\n",
    "        mid_re =list(map(sum, album.values()))    \n",
    "        max_index = mid_re.index(max(mid_re))\n",
    "        mid_re.pop(mid_re.index(max(mid_re)))    \n",
    "        now_list = list(album.values())[max_index]\n",
    "        for j in range(len(now_list)):\n",
    "            max_plays = now_list.pop(now_list.index(max(now_list)))\n",
    "            if plays.index(max_plays) in result:\n",
    "                answer.append(plays.index(max_plays)+1)\n",
    "            else:\n",
    "                answer.append(plays.index(max_plays))\n",
    "    return answer\n"
   ]
  },
  {
   "cell_type": "code",
   "execution_count": 416,
   "id": "983cc357",
   "metadata": {},
   "outputs": [
    {
     "name": "stdout",
     "output_type": "stream",
     "text": [
      "[5]\n",
      "[5, 6]\n",
      "[5, 6, 3]\n"
     ]
    }
   ],
   "source": [
    "#k번째 수\n",
    "array = [1, 5, 2, 6, 3, 7, 4]\n",
    "commands = [[2, 5, 3], [4, 4, 1], [1, 7, 3]]\n",
    "#[5, 6, 3]\n",
    "\n",
    "def solution(array, commands):\n",
    "    answer = []\n",
    "    for i in commands:\n",
    "        index = i[2]\n",
    "        answer.append(sorted(array[i[0]-1:i[1]])[i[2]-1])\n",
    "    return answer"
   ]
  },
  {
   "cell_type": "code",
   "execution_count": 415,
   "id": "cb41224b",
   "metadata": {},
   "outputs": [
    {
     "data": {
      "text/plain": [
       "[2, 3, 4, 5]"
      ]
     },
     "execution_count": 415,
     "metadata": {},
     "output_type": "execute_result"
    }
   ],
   "source": [
    "#가장 큰 수\n"
   ]
  },
  {
   "cell_type": "code",
   "execution_count": 452,
   "id": "670e21e8",
   "metadata": {},
   "outputs": [],
   "source": [
    "numbers\t= [6, 13, 10, 0, 2]\n",
    "numbers = [3, 30, 34, 5, 9]"
   ]
  },
  {
   "cell_type": "code",
   "execution_count": 441,
   "id": "38648b7f",
   "metadata": {},
   "outputs": [
    {
     "name": "stdout",
     "output_type": "stream",
     "text": [
      "None\n"
     ]
    }
   ],
   "source": [
    "print(sorted([str(i) for i in numbers]).reverse())\n"
   ]
  },
  {
   "cell_type": "code",
   "execution_count": 453,
   "id": "dfbdf8f1",
   "metadata": {},
   "outputs": [
    {
     "data": {
      "text/plain": [
       "'9534303'"
      ]
     },
     "execution_count": 453,
     "metadata": {},
     "output_type": "execute_result"
    }
   ],
   "source": [
    "listt=sorted([str(i) for i in numbers])\n",
    "#print(listt)\n",
    "answer = ''\n",
    "for j in range(len(listt)-1, -1, -1):\n",
    "    answer+=listt[j]\n",
    "answer"
   ]
  },
  {
   "cell_type": "code",
   "execution_count": 455,
   "id": "c2c8f4c5",
   "metadata": {},
   "outputs": [
    {
     "data": {
      "text/plain": [
       "'9534330'"
      ]
     },
     "execution_count": 455,
     "metadata": {},
     "output_type": "execute_result"
    }
   ],
   "source": [
    "numbers = list(map(str, numbers))\n",
    "\n",
    "numbers.sort(key=lambda x: x * 3, reverse=True)\n",
    "\n",
    "str(int(''.join(numbers)))"
   ]
  },
  {
   "cell_type": "code",
   "execution_count": 462,
   "id": "bb1c2d93",
   "metadata": {
    "scrolled": true
   },
   "outputs": [
    {
     "data": {
      "text/plain": [
       "['9', '5', '34', '3', '30']"
      ]
     },
     "execution_count": 462,
     "metadata": {},
     "output_type": "execute_result"
    }
   ],
   "source": [
    "\n",
    "listt.sort(key=lambda x: x * 2, reverse=True)\n",
    "listt"
   ]
  },
  {
   "cell_type": "code",
   "execution_count": null,
   "id": "acf08ef7",
   "metadata": {},
   "outputs": [],
   "source": [
    "#백트래킹\n",
    "N, M = map(int, input().split())\n",
    "adj= []\n",
    "for _ in range(M):\n",
    "    a,b = map(int, input().split())\n",
    "    #\n",
    "    a-=1\n",
    "    b-=1\n",
    "    "
   ]
  },
  {
   "cell_type": "code",
   "execution_count": null,
   "id": "c23101ac",
   "metadata": {},
   "outputs": [],
   "source": []
  },
  {
   "cell_type": "code",
   "execution_count": 463,
   "id": "28977c48",
   "metadata": {},
   "outputs": [],
   "source": [
    "numbers =\"011\"\n",
    "\n",
    "    \n",
    "def solution(numbers):\n",
    "    import math\n",
    "    answer=0\n",
    "    numbers_list=list(numbers)\n",
    "    from itertools import permutations\n",
    "    total_list=[]\n",
    "    for i in range(len(numbers_list)):\n",
    "        total_list.extend(permutations(numbers_list, i+1))\n",
    "    total_list1=list(map(lambda x: list(x), total_list))\n",
    "    total_int=list(set([int(x) for x in [''.join(x) for x in total_list1]]))\n",
    "    total_int1=len(total_int)*[True]\n",
    "    answer=0\n",
    "    for i in range(len(total_int)):  \n",
    "        if total_int[i]==1 or total_int[i]==0:            #소수인지 확인하려는 숫자가 0이나 1이면 \n",
    "            total_int1[i]=False        #0이나 1은 소수가 아니므로\n",
    "            continue                   #넘어감\n",
    "        cnt=0         #소수의 개수를 세기위해 0으로 초기화       \n",
    "        for j in range(1, math.floor(total_int[i]**0.5)+1): #소수인지 확인하고자 하는 기준수의 루트값 만큼 반복\n",
    "            if total_int[i]%j==0: #약수 갯수 구하기\n",
    "                cnt+=1\n",
    "            if cnt > 1: #소수가 아닐 때  (소수이면 1만 검출)\n",
    "                total_int1[i]=False\n",
    "                break\n",
    "    answer=sum(total_int1) #소수인 조합의 갯수 산출\n",
    "    return answer"
   ]
  },
  {
   "cell_type": "code",
   "execution_count": 489,
   "id": "53b68bef",
   "metadata": {},
   "outputs": [
    {
     "data": {
      "text/plain": [
       "0"
      ]
     },
     "execution_count": 489,
     "metadata": {},
     "output_type": "execute_result"
    }
   ],
   "source": [
    "4%2"
   ]
  },
  {
   "cell_type": "code",
   "execution_count": 516,
   "id": "1943c6d7",
   "metadata": {},
   "outputs": [
    {
     "name": "stdout",
     "output_type": "stream",
     "text": [
      "24\n",
      "12\n",
      "8\n",
      "6\n",
      "i\n",
      "[8, 6]\n"
     ]
    }
   ],
   "source": [
    "brown = 24\n",
    "yellow = 24\n",
    "\n",
    "i=yellow\n",
    "answer=0\n",
    "while i>0:\n",
    "    if yellow%i==0:\n",
    "        print(i)\n",
    "        if (((i+2)*2)+((yellow/i)*2))==brown:\n",
    "            print('i')\n",
    "            answer = [i+2, int((yellow/i)+2)]\n",
    "            print(answer)\n",
    "            break\n",
    "    i-=1"
   ]
  },
  {
   "cell_type": "code",
   "execution_count": 509,
   "id": "bd511713",
   "metadata": {},
   "outputs": [
    {
     "data": {
      "text/plain": [
       "54.0"
      ]
     },
     "execution_count": 509,
     "metadata": {},
     "output_type": "execute_result"
    }
   ],
   "source": [
    "((i+2)*2)+((yellow/i)*2)"
   ]
  },
  {
   "cell_type": "code",
   "execution_count": 514,
   "id": "6161b861",
   "metadata": {},
   "outputs": [],
   "source": [
    "def solution(brown, yellow):\n",
    "    answer = []\n",
    "    i=yellow\n",
    "    while i>0:\n",
    "        if yellow%i==0:\n",
    "            #print(i)\n",
    "            if (((i+2)*2)+((yellow/i)*2))==brown:\n",
    "                #print('i')\n",
    "                answer = [i+2, int((yellow/i)+2)]\n",
    "                return answer\n",
    "        i-=1"
   ]
  },
  {
   "cell_type": "code",
   "execution_count": 551,
   "id": "e1e3cfa3",
   "metadata": {},
   "outputs": [
    {
     "name": "stdout",
     "output_type": "stream",
     "text": [
      "[5, 3, 9, 10, 12]\n",
      "[13, 9, 10, 12]\n",
      "2\n"
     ]
    }
   ],
   "source": [
    "#더 맵게\n",
    "#섞은 음식의 스코빌 지수 = 가장 맵지 않은 음식의 스코빌 지수 + (두 번째로 맵지 않은 음식의 스코빌 지수 * 2)\n",
    "\n",
    "scoville=[1, 2, 3, 9, 10, 12]\n",
    "K= 7\n",
    "#2\n",
    "cnt=0\n",
    "scoville.sort()\n",
    "while len(scoville)>0:\n",
    "    first = scoville.pop(scoville.index(min(scoville)))\n",
    "    second = scoville.pop(scoville.index(min(scoville)))\n",
    "    scoville.insert(0, first+(second*2))\n",
    "    cnt+=1\n",
    "    print(scoville)\n",
    "    if first+(second*2) > K:\n",
    "        print(cnt)        \n",
    "        break    "
   ]
  },
  {
   "cell_type": "code",
   "execution_count": 545,
   "id": "8f2d5507",
   "metadata": {},
   "outputs": [
    {
     "data": {
      "text/plain": [
       "[11, 9, 10, 12]"
      ]
     },
     "execution_count": 545,
     "metadata": {},
     "output_type": "execute_result"
    }
   ],
   "source": [
    "#solution([1,2], 7)\n"
   ]
  },
  {
   "cell_type": "code",
   "execution_count": 559,
   "id": "4e7e4b8a",
   "metadata": {},
   "outputs": [],
   "source": [
    "#더 맵게\n",
    "#섞은 음식의 스코빌 지수 = 가장 맵지 않은 음식의 스코빌 지수 + (두 번째로 맵지 않은 음식의 스코빌 지수 * 2)\n",
    "\n",
    "\n",
    "def solution(scoville, K):\n",
    "    answer=0\n",
    "    scoville.sort()\n",
    "    while len(scoville)>0:\n",
    "        first = scoville.pop(scoville.index(min(scoville)))\n",
    "        print(first, scoville)\n",
    "        second = scoville.pop(scoville.index(min(scoville)))\n",
    "        scoville.insert(0, first+(second*2))\n",
    "        answer+=1\n",
    "        if first+(second*2) > K or :\n",
    "            break\n",
    "    return answer"
   ]
  },
  {
   "cell_type": "code",
   "execution_count": 561,
   "id": "53a3e2ed",
   "metadata": {},
   "outputs": [
    {
     "ename": "SyntaxError",
     "evalue": "invalid syntax (Temp/ipykernel_22280/2531828805.py, line 3)",
     "output_type": "error",
     "traceback": [
      "\u001b[1;36m  File \u001b[1;32m\"C:\\Users\\admin\\AppData\\Local\\Temp/ipykernel_22280/2531828805.py\"\u001b[1;36m, line \u001b[1;32m3\u001b[0m\n\u001b[1;33m    answer=\u001b[0m\n\u001b[1;37m            ^\u001b[0m\n\u001b[1;31mSyntaxError\u001b[0m\u001b[1;31m:\u001b[0m invalid syntax\n"
     ]
    }
   ],
   "source": [
    "import heapq\n",
    "def solution(scoville, K):\n",
    "    answer= \n",
    "    heapq.heapify(scoville)"
   ]
  },
  {
   "cell_type": "code",
   "execution_count": 563,
   "id": "802802b0",
   "metadata": {
    "scrolled": true
   },
   "outputs": [
    {
     "name": "stdout",
     "output_type": "stream",
     "text": [
      "None\n"
     ]
    }
   ],
   "source": [
    "\n",
    "scoville=[1, 2, 3, 9, 10, 12]\n",
    "import heapq\n",
    "print(heapq.heapify(scoville))\n"
   ]
  },
  {
   "cell_type": "code",
   "execution_count": null,
   "id": "947e5291",
   "metadata": {},
   "outputs": [],
   "source": []
  },
  {
   "cell_type": "code",
   "execution_count": null,
   "id": "80902b0c",
   "metadata": {},
   "outputs": [],
   "source": []
  },
  {
   "cell_type": "code",
   "execution_count": 573,
   "id": "8b6a193c",
   "metadata": {},
   "outputs": [
    {
     "data": {
      "text/plain": [
       "5"
      ]
     },
     "execution_count": 573,
     "metadata": {},
     "output_type": "execute_result"
    }
   ],
   "source": [
    "answer = 0\n",
    "leaves = [0]\n",
    "for num in numbers:\n",
    "    tmp=[]\n",
    "    for parent in leaves:\n",
    "        tmp.append(parent + num)\n",
    "        tmp.append(parent - num)\n",
    "    leaves = tmp\n",
    "for leaf in leaves:\n",
    "    if leaf == target:\n",
    "        answer +=1\n",
    "answer\n",
    "        "
   ]
  },
  {
   "cell_type": "code",
   "execution_count": 572,
   "id": "ba771d36",
   "metadata": {},
   "outputs": [
    {
     "name": "stdout",
     "output_type": "stream",
     "text": [
      "parent 0\n",
      "tmp+ [1]\n",
      "tmp- [1, -1]\n",
      "0\n",
      "parent 1\n",
      "tmp+ [2]\n",
      "tmp- [2, 0]\n",
      "parent -1\n",
      "tmp+ [2, 0, 0]\n",
      "tmp- [2, 0, 0, -2]\n",
      "0\n",
      "parent 2\n",
      "tmp+ [3]\n",
      "tmp- [3, 1]\n",
      "parent 0\n",
      "tmp+ [3, 1, 1]\n",
      "tmp- [3, 1, 1, -1]\n",
      "parent 0\n",
      "tmp+ [3, 1, 1, -1, 1]\n",
      "tmp- [3, 1, 1, -1, 1, -1]\n",
      "parent -2\n",
      "tmp+ [3, 1, 1, -1, 1, -1, -1]\n",
      "tmp- [3, 1, 1, -1, 1, -1, -1, -3]\n",
      "!\n",
      "1\n",
      "parent 3\n",
      "tmp+ [4]\n",
      "tmp- [4, 2]\n",
      "parent 1\n",
      "tmp+ [4, 2, 2]\n",
      "tmp- [4, 2, 2, 0]\n",
      "parent 1\n",
      "tmp+ [4, 2, 2, 0, 2]\n",
      "tmp- [4, 2, 2, 0, 2, 0]\n",
      "parent -1\n",
      "tmp+ [4, 2, 2, 0, 2, 0, 0]\n",
      "tmp- [4, 2, 2, 0, 2, 0, 0, -2]\n",
      "parent 1\n",
      "tmp+ [4, 2, 2, 0, 2, 0, 0, -2, 2]\n",
      "tmp- [4, 2, 2, 0, 2, 0, 0, -2, 2, 0]\n",
      "parent -1\n",
      "tmp+ [4, 2, 2, 0, 2, 0, 0, -2, 2, 0, 0]\n",
      "tmp- [4, 2, 2, 0, 2, 0, 0, -2, 2, 0, 0, -2]\n",
      "parent -1\n",
      "tmp+ [4, 2, 2, 0, 2, 0, 0, -2, 2, 0, 0, -2, 0]\n",
      "tmp- [4, 2, 2, 0, 2, 0, 0, -2, 2, 0, 0, -2, 0, -2]\n",
      "parent -3\n",
      "tmp+ [4, 2, 2, 0, 2, 0, 0, -2, 2, 0, 0, -2, 0, -2, -2]\n",
      "tmp- [4, 2, 2, 0, 2, 0, 0, -2, 2, 0, 0, -2, 0, -2, -2, -4]\n",
      "1\n",
      "parent 4\n",
      "tmp+ [5]\n",
      "tmp- [5, 3]\n",
      "parent 2\n",
      "tmp+ [5, 3, 3]\n",
      "tmp- [5, 3, 3, 1]\n",
      "parent 2\n",
      "tmp+ [5, 3, 3, 1, 3]\n",
      "tmp- [5, 3, 3, 1, 3, 1]\n",
      "parent 0\n",
      "tmp+ [5, 3, 3, 1, 3, 1, 1]\n",
      "tmp- [5, 3, 3, 1, 3, 1, 1, -1]\n",
      "parent 2\n",
      "tmp+ [5, 3, 3, 1, 3, 1, 1, -1, 3]\n",
      "tmp- [5, 3, 3, 1, 3, 1, 1, -1, 3, 1]\n",
      "parent 0\n",
      "tmp+ [5, 3, 3, 1, 3, 1, 1, -1, 3, 1, 1]\n",
      "tmp- [5, 3, 3, 1, 3, 1, 1, -1, 3, 1, 1, -1]\n",
      "parent 0\n",
      "tmp+ [5, 3, 3, 1, 3, 1, 1, -1, 3, 1, 1, -1, 1]\n",
      "tmp- [5, 3, 3, 1, 3, 1, 1, -1, 3, 1, 1, -1, 1, -1]\n",
      "parent -2\n",
      "tmp+ [5, 3, 3, 1, 3, 1, 1, -1, 3, 1, 1, -1, 1, -1, -1]\n",
      "tmp- [5, 3, 3, 1, 3, 1, 1, -1, 3, 1, 1, -1, 1, -1, -1, -3]\n",
      "parent 2\n",
      "tmp+ [5, 3, 3, 1, 3, 1, 1, -1, 3, 1, 1, -1, 1, -1, -1, -3, 3]\n",
      "tmp- [5, 3, 3, 1, 3, 1, 1, -1, 3, 1, 1, -1, 1, -1, -1, -3, 3, 1]\n",
      "parent 0\n",
      "tmp+ [5, 3, 3, 1, 3, 1, 1, -1, 3, 1, 1, -1, 1, -1, -1, -3, 3, 1, 1]\n",
      "tmp- [5, 3, 3, 1, 3, 1, 1, -1, 3, 1, 1, -1, 1, -1, -1, -3, 3, 1, 1, -1]\n",
      "parent 0\n",
      "tmp+ [5, 3, 3, 1, 3, 1, 1, -1, 3, 1, 1, -1, 1, -1, -1, -3, 3, 1, 1, -1, 1]\n",
      "tmp- [5, 3, 3, 1, 3, 1, 1, -1, 3, 1, 1, -1, 1, -1, -1, -3, 3, 1, 1, -1, 1, -1]\n",
      "parent -2\n",
      "tmp+ [5, 3, 3, 1, 3, 1, 1, -1, 3, 1, 1, -1, 1, -1, -1, -3, 3, 1, 1, -1, 1, -1, -1]\n",
      "tmp- [5, 3, 3, 1, 3, 1, 1, -1, 3, 1, 1, -1, 1, -1, -1, -3, 3, 1, 1, -1, 1, -1, -1, -3]\n",
      "parent 0\n",
      "tmp+ [5, 3, 3, 1, 3, 1, 1, -1, 3, 1, 1, -1, 1, -1, -1, -3, 3, 1, 1, -1, 1, -1, -1, -3, 1]\n",
      "tmp- [5, 3, 3, 1, 3, 1, 1, -1, 3, 1, 1, -1, 1, -1, -1, -3, 3, 1, 1, -1, 1, -1, -1, -3, 1, -1]\n",
      "parent -2\n",
      "tmp+ [5, 3, 3, 1, 3, 1, 1, -1, 3, 1, 1, -1, 1, -1, -1, -3, 3, 1, 1, -1, 1, -1, -1, -3, 1, -1, -1]\n",
      "tmp- [5, 3, 3, 1, 3, 1, 1, -1, 3, 1, 1, -1, 1, -1, -1, -3, 3, 1, 1, -1, 1, -1, -1, -3, 1, -1, -1, -3]\n",
      "parent -2\n",
      "tmp+ [5, 3, 3, 1, 3, 1, 1, -1, 3, 1, 1, -1, 1, -1, -1, -3, 3, 1, 1, -1, 1, -1, -1, -3, 1, -1, -1, -3, -1]\n",
      "tmp- [5, 3, 3, 1, 3, 1, 1, -1, 3, 1, 1, -1, 1, -1, -1, -3, 3, 1, 1, -1, 1, -1, -1, -3, 1, -1, -1, -3, -1, -3]\n",
      "parent -4\n",
      "tmp+ [5, 3, 3, 1, 3, 1, 1, -1, 3, 1, 1, -1, 1, -1, -1, -3, 3, 1, 1, -1, 1, -1, -1, -3, 1, -1, -1, -3, -1, -3, -3]\n",
      "tmp- [5, 3, 3, 1, 3, 1, 1, -1, 3, 1, 1, -1, 1, -1, -1, -3, 3, 1, 1, -1, 1, -1, -1, -3, 1, -1, -1, -3, -1, -3, -3, -5]\n",
      "!\n",
      "!\n",
      "!\n",
      "!\n",
      "!\n",
      "6\n"
     ]
    }
   ],
   "source": [
    "numbers = [1, 1, 1, 1, 1]\n",
    "target = 3 #5\n",
    "\n",
    "#numbers = [4, 1, 2, 1]\n",
    "#target = 4 #2\n",
    "\n",
    "#타겟넘버 BFS\n",
    "answer = 0\n",
    "leaves = [0]\n",
    "for num in numbers:\n",
    "    tmp = []\n",
    "    for parent in leaves:\n",
    "        print('parent', parent)\n",
    "        tmp.append(parent + num)\n",
    "        print('tmp+', tmp)\n",
    "        tmp.append(parent - num)\n",
    "        print('tmp-', tmp)\n",
    "        leaves = tmp\n",
    "    for leaf in leaves:\n",
    "        if leaf == target:\n",
    "            answer +=1\n",
    "            print('!')\n",
    "    print(answer)\n",
    "    \n",
    "#DFS\n"
   ]
  },
  {
   "cell_type": "code",
   "execution_count": null,
   "id": "1e24673a",
   "metadata": {},
   "outputs": [],
   "source": [
    "#DFS 풀이\n",
    "def solution(numbers, target):\n",
    "    answer = DFS(numbers, target, 0)\n",
    "    return answer\n",
    "\n",
    "def DFS(numbers, target, depth):\n",
    "    answer = 0\n",
    "    if depth == len(numbers):\n",
    "        print(numbers)\n",
    "        if sum(numbers) == target:\n",
    "            return 1\n",
    "        else: return 0\n",
    "    else:\n",
    "        answer += DFS(numbers, target, depth+1)\n",
    "        numbers[depth] *= -1\n",
    "        answer += DFS(numbers, target, depth+1)\n",
    "        return answer"
   ]
  },
  {
   "cell_type": "code",
   "execution_count": null,
   "id": "756a086c",
   "metadata": {},
   "outputs": [],
   "source": [
    "answer = 0\n",
    "if depth == len(numbers):\n",
    "    print(numbers)\n",
    "    if sum(numbers) == target:\n",
    "        print('1')\n",
    "    else:\n",
    "        print('0')\n",
    "else:\n",
    "    answer += "
   ]
  }
 ],
 "metadata": {
  "kernelspec": {
   "display_name": "Python 3 (ipykernel)",
   "language": "python",
   "name": "python3"
  },
  "language_info": {
   "codemirror_mode": {
    "name": "ipython",
    "version": 3
   },
   "file_extension": ".py",
   "mimetype": "text/x-python",
   "name": "python",
   "nbconvert_exporter": "python",
   "pygments_lexer": "ipython3",
   "version": "3.7.11"
  }
 },
 "nbformat": 4,
 "nbformat_minor": 5
}
