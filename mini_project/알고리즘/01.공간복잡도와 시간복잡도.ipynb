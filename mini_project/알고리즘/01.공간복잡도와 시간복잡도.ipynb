{
 "cells": [
  {
   "cell_type": "markdown",
   "id": "8241e1fe",
   "metadata": {},
   "source": [
    "#공간복잡도와 시간복잡도\n",
    "\n",
    "문제가 어렵다는 것은\n",
    "전산학에서 컴퓨터가 일을 처리하는데 너무 오래걸리는 문제임\n",
    "\n",
    "시간복잡도\n",
    "알고리즘의 최악의 경우 실행 시간\n",
    "입력량 N에 비례해서 얼만큼 많이 연산하는지를 나타냄\n",
    "\n",
    "알고리즘의 효율성의 척도\n",
    "빅오 표기법으로 나타냄\n",
    "\n",
    "#빅오 표기법\n",
    "가장 큰 항을 살리고 그보다 작은 항들은 뗀다\n",
    "\n",
    "연산을 17N + 4번 하는 솔루션: O(17N + 4) = O(N)\n",
    "연산을 2N^2 + 5N + 9번 하는 솔루션: O(2N^2 +5N +p) = O(N^2)\n",
    "연산을 2Nlog2N번 하는 솔루션: O(2Nlog2N) = O(Nlog2N)\n",
    "연산을 k2^N번(k는 상수) 하는 솔루션: O(k2^N) = O(2^N)\n",
    "연산을 3번 하는 솔루션 O(3) = O(1)\n",
    " \n",
    "c++기준 1초에 총 연산 1억번이 넘어가면 위험 \n",
    "1초=1억 정도로 기억\n",
    "보통 k중 for문 = O(N^k)\n",
    "\n",
    "공간복잡도\n",
    "N에 비례해서 메모리를 얼마나 쓰는지를 나타냄\n",
    "일반적으로 성립하는 trade off 관계 : 메모리(공간) <-> 시간\n",
    "int 1개는 4byte\n",
    "1mb = 1,000,000byte \n",
    "\n",
    "wolframAlpha 참조\n",
    "\n",
    "문제 시간제한 2초, 메모리 제한 64MB\n",
    "입력 0=<N=<100,000,000\n",
    "이 문제에서 가능한 시간/공간 복잡도는?\n",
    "숫자int형 4byte\n",
    "4byte * 10^8 = 400MB ==> 메모리 초과\n",
    "\n",
    "문제 시간제한 1초, 메모리제한 128MB\n",
    "입력 -1000 =< N =< 1,000\n",
    "이 문제에서 가능한 시간/공간 복잡도는?\n",
    "범위는 2,000이므로 1초동안 충분히 가능\n",
    "4byte * 2,000 = 8KB ==> 가능\n",
    "\n",
    "\n",
    "\n"
   ]
  }
 ],
 "metadata": {
  "kernelspec": {
   "display_name": "Python 3 (ipykernel)",
   "language": "python",
   "name": "python3"
  },
  "language_info": {
   "codemirror_mode": {
    "name": "ipython",
    "version": 3
   },
   "file_extension": ".py",
   "mimetype": "text/x-python",
   "name": "python",
   "nbconvert_exporter": "python",
   "pygments_lexer": "ipython3",
   "version": "3.9.7"
  }
 },
 "nbformat": 4,
 "nbformat_minor": 5
}
