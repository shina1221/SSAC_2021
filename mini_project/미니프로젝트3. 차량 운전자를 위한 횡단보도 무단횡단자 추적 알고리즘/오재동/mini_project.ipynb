{
 "cells": [
  {
   "cell_type": "markdown",
   "id": "9f7a594f",
   "metadata": {},
   "source": [
    "## OpenCV를 이용한 신호등 검출 "
   ]
  },
  {
   "cell_type": "markdown",
   "id": "a08f006c",
   "metadata": {},
   "source": [
    "### BLOB 파라미터 설정 "
   ]
  },
  {
   "cell_type": "code",
   "execution_count": 10,
   "id": "c8a0a6b0",
   "metadata": {},
   "outputs": [],
   "source": [
    "def set_blob_param(r_type: str):\n",
    "    # BLOB 필터 생성하기 \n",
    "    params = cv2.SimpleBlobDetector_Params()\n",
    "    \n",
    "    params.minThreshold = 10\n",
    "    params.maxThreshold = 255\n",
    "    params.thresholdStep = 3\n",
    "    params.filterByArea = False\n",
    "    params.filterByColor = False\n",
    "    params.filterByCircularity = True\n",
    "    params.filterByConvexity = False \n",
    "    params.filterByInertia = False \n",
    "    \n",
    "    if r_type == 'color':\n",
    "        # 경계 값 조정\n",
    "        params.minCircularity = 0.8\n",
    "        params.maxCircularity = 0.85     \n",
    "    elif r_type == 'shape':\n",
    "        params.filterByArea = True \n",
    "        params.minArea = 100\n",
    "        params.maxArea = 250\n",
    "        \n",
    "        params.filterByColor = False\n",
    "        params.minCircularity = 0.4\n",
    "        params.maxCircularity = 0.8\n",
    "    \n",
    "    return params "
   ]
  },
  {
   "cell_type": "markdown",
   "id": "8a609162",
   "metadata": {},
   "source": [
    "### 신호등으로 추정되는 영역(shape) 검출 "
   ]
  },
  {
   "cell_type": "code",
   "execution_count": 17,
   "id": "6bb1e2c7",
   "metadata": {},
   "outputs": [],
   "source": [
    "def subtract_shape(img):\n",
    "    global k, h, w   # 모폴로지 연산 필터 \n",
    "    global blk_size, C \n",
    "    global data_output_path\n",
    "    \n",
    "    img_gray = cv2.cvtColor(img, cv2.COLOR_BGR2GRAY)\n",
    "    cv2.imwrite(data_output_path + 'img_gray.png',img_gray)\n",
    "\n",
    "    roi_s = img_gray[int((1/5)*w):int((3/5) * w), int((1/5)*h): int((3/5)*h)]\n",
    "    \n",
    "    blur = cv2.GaussianBlur(roi_s, (5, 5), 0)\n",
    "    cv2.imwrite(data_output_path + 'blur.png', blur)\n",
    "    \n",
    "#     cv2.imshow('blur', blur)\n",
    "    _, th = cv2.threshold(roi_s, 55, 255, cv2.THRESH_BINARY)\n",
    "    _, th2 = cv2.threshold(blur, 55, 255, cv2.THRESH_BINARY)\n",
    "    _, t_otsu = cv2.threshold(blur, -1, 255, cv2.THRESH_BINARY | cv2.THRESH_OTSU)\n",
    "    th_mean = cv2.adaptiveThreshold(blur, 255, cv2.ADAPTIVE_THRESH_MEAN_C, cv2.THRESH_BINARY, blk_size, C)\n",
    "    th_gaussian = cv2.adaptiveThreshold(blur, 255, cv2.ADAPTIVE_THRESH_GAUSSIAN_C, cv2.THRESH_BINARY, blk_size, C)\n",
    "    cv2.imwrite(data_output_path + 'th.png',th)\n",
    "    cv2.imwrite(data_output_path + 't_otsu.png',t_otsu)\n",
    "    cv2.imwrite(data_output_path + 'th_mean.png', th_mean)\n",
    "    cv2.imwrite(data_output_path + 'th_gaussian.png', th_gaussian)\n",
    "    \n",
    "#     cv2.imshow('th', th) \n",
    "#     cv2.imshow('edge_s', edge_s)\n",
    "    dst_s = cv2.morphologyEx(t_otsu, cv2.MORPH_OPEN, k)   # 모폴로지 열기 |연산 \n",
    "    cv2.imwrite(data_output_path + 'morp_o.png',dst_s)\n",
    "    edge_s = cv2.Laplacian(dst_s, -2)\n",
    "    cv2.imwrite(data_output_path + 'laplacian.png',edge_s)\n",
    "#     edge_s = cv2.Canny(img, 100, 200)\n",
    "#     cv2.imshow('dst', dst_s)\n",
    "    detector = cv2.SimpleBlobDetector_create(param_s)\n",
    "    \n",
    "    s_keypoints = detector.detect(edge_s)\n",
    "    img_draw_s = cv2.drawKeypoints(roi_s, s_keypoints, None, None, cv2.DRAW_MATCHES_FLAGS_DRAW_RICH_KEYPOINTS) \n",
    "    cv2.imwrite(data_output_path + 'img_draw.png',img_draw_s)\n",
    "    \n",
    "    global shape_list \n",
    "    \n",
    "    for s_keypoint in s_keypoints:\n",
    "        roi_cx, roi_cy = map(int, s_keypoint.pt)\n",
    "        cx, cy = int(roi_cx + h * (1/5)), int(roi_cy + w * (1/5))\n",
    "        cv2.putText(img_gray, '!', (cx, cy), cv2.FONT_HERSHEY_TRIPLEX, 1,(255, 255, 255))\n",
    "        size = int(s_keypoint.size)\n",
    "        cx2, cy2 = cx + size // 2, cy + size // 2\n",
    "#         cx2, cy2 = cx + size, cy + size \n",
    "#         cv2.rectangle(img_gray, (cx, cy), (cx2, cy2), (255, 0, 0))\n",
    "        shape_list.append([cx, cx2, cy, cy2])\n",
    "    \n",
    "    cv2.imshow('img_gray', img_gray)     \n",
    "    cv2.imwrite('img_gray2.png', img_gray)\n",
    "#     print(len(s_keypoints))\n",
    "    return shape_list "
   ]
  },
  {
   "cell_type": "markdown",
   "id": "8fc5a595",
   "metadata": {},
   "source": [
    "### 신호등 색상에 해당하는 영역 검출 "
   ]
  },
  {
   "cell_type": "code",
   "execution_count": 23,
   "id": "5e739456",
   "metadata": {},
   "outputs": [],
   "source": [
    "def subtract_color(img, color):\n",
    "    global k, w, h   # 모폴로지 연산 필터 \n",
    "    global data_output_path\n",
    "    \n",
    "    lower_green = np.array([50, 50, 80]); upper_green = np.array([90, 255, 255])\n",
    "    lower_red = np.array([-10, 30, 50]);  upper_red = np.array([10, 255, 255])\n",
    "    lower_yellow = np.array([11, 50, 50]); upper_yellow = np.array([30, 200, 200])\n",
    "\n",
    "    img_hsv = cv2.cvtColor(img, cv2.COLOR_BGR2HSV)\n",
    "    cv2.imwrite(data_output_path + 'img_hsv.png',img_hsv)\n",
    "    cv2.imshow('img_hsv', img_hsv)\n",
    "    roi_c = img_hsv[int((1/5)*w):int((3/5) * w), int((1/5)*h): int((3/5)*h)]\n",
    "    \n",
    "    if color == 'red':\n",
    "        mask = cv2.inRange(roi_c, lower_red, upper_red)\n",
    "    elif color == 'green':\n",
    "        mask = cv2.inRange(roi_c, lower_green, upper_green)   \n",
    "    elif color == 'yellow':\n",
    "        mask = cv2.inRange(roi_c, lower_yellow, upper_yellow) \n",
    "    # cv2.imshow('mask', mask)\n",
    "    img_mask = cv2.bitwise_and(roi_c, roi_c, mask=mask)\n",
    "    cv2.imwrite(data_output_path + 'img_mask.png',img_mask)\n",
    "    edge_c = cv2.Laplacian(img_mask, -2)\n",
    "#     cv2.imshow('Laplacian', edge_c)\n",
    "    cv2.imwrite(data_output_path + 'img_lap_c.png',edge_c)\n",
    "#     dst_c = cv2.morphologyEx(edge_c, cv2.MORPH_OPEN, k)   # 모폴로지 닫기 연산 \n",
    "    # cv2.imshow('dst', dst)\n",
    "\n",
    "    detector = cv2.SimpleBlobDetector_create(param_c)\n",
    "    c_keypoints = detector.detect(edge_c)\n",
    "    img_draw_c = cv2.drawKeypoints(roi_c, c_keypoints, None, None, cv2.DRAW_MATCHES_FLAGS_DRAW_RICH_KEYPOINTS)\n",
    "    cv2.imwrite(data_output_path + 'roi_c.png',roi_c)\n",
    "    \n",
    "    global color_list \n",
    "    \n",
    "    for c_keypoint in c_keypoints:\n",
    "        roi_cx, roi_cy = map(int, c_keypoint.pt)\n",
    "        cx, cy = int(roi_cx + h * (1/5)), int(roi_cy + w * (1/5))\n",
    "        cv2.putText(img_hsv, '!', (cx, cy), cv2.FONT_HERSHEY_TRIPLEX, 1,(255, 255, 255))\n",
    "        size = int(c_keypoint.size)\n",
    "        cx2, cy2 = cx + size // 2, cy + size // 2 \n",
    "#         c2, cy2 = cx + size, cy + size \n",
    "        color_list.append([cx, cx2, cy, cy2])\n",
    "#     cv2.imshow('roi_c', roi_c)\n",
    "    cv2.imshow('img_hsv2', img_hsv)    \n",
    "    cv2.imwrite('img_hsv2.png', img_hsv)\n",
    "#     print(color_list)\n",
    "    return color_list"
   ]
  },
  {
   "cell_type": "markdown",
   "id": "6a5a7d4f",
   "metadata": {},
   "source": [
    "### 겹치는 구간 판단"
   ]
  },
  {
   "cell_type": "code",
   "execution_count": 24,
   "id": "86f57999",
   "metadata": {},
   "outputs": [],
   "source": [
    "def check_location(img, shape_list, color_list):   # 직사각형 겹치는 좌표 개수 구하기 \n",
    "    global tl_flag, color_flag\n",
    "    for a1, a2, b1, b2 in color_list:\n",
    "        for x1, x2, y1, y2 in shape_list:\n",
    "            if ((a1 >= x1 and a1 <= x2) and (b1 >= y1 and b1 <= y2)) and tl_flag == False:\n",
    "                cv2.putText(img, f'{color_flag} light Detected !', (a1, b1), cv2.FONT_HERSHEY_TRIPLEX, 1,(255, 255, 255))\n",
    "                cv2.imwrite(data_output_path + 'light_detected.png',img)\n",
    "                tl_flag = True "
   ]
  },
  {
   "cell_type": "markdown",
   "id": "80a60fdf",
   "metadata": {},
   "source": [
    "### 실행 "
   ]
  },
  {
   "cell_type": "code",
   "execution_count": 31,
   "id": "f4f2013b",
   "metadata": {},
   "outputs": [
    {
     "name": "stdout",
     "output_type": "stream",
     "text": [
      "311\n",
      "509\n"
     ]
    }
   ],
   "source": [
    "import cv2\n",
    "import numpy as np \n",
    "\n",
    "video_file = './cropped_traffic2.mp4'\n",
    "cap = cv2.VideoCapture(video_file)\n",
    "data_output_path = './result/'\n",
    "\n",
    "w = 400; h = 400  # roi 지정 \n",
    "blk_size = 9; C = 5  # 적응형 스레시 홀드 필터 \n",
    "k = cv2.getStructuringElement(cv2.MORPH_RECT, (2, 2))   # 모폴로지 연산 필터 \n",
    "color_flag = 'green'   # 검출하고 싶은 색상 입력 \n",
    "\n",
    "if cap.isOpened():\n",
    "    fps = cap.get(cv2.CAP_PROP_FPS) \n",
    "    delay = int(1000/fps)\n",
    "    \n",
    "    param_c = set_blob_param('color')\n",
    "    param_s = set_blob_param('shape')\n",
    "    \n",
    "    shape_list = []\n",
    "    color_list = [] \n",
    "    \n",
    "    while True:\n",
    "        ret, img = cap.read()\n",
    "        if ret:          \n",
    "#             cv2.imwrite(data_output_path + 'img.png', img)\n",
    "            res_c = cv2.resize(img, (400, 400))\n",
    "            shape_list = subtract_shape(res_c)\n",
    "            color_list = subtract_color(res_c, color_flag)\n",
    "            \n",
    "            check_location(res_c, shape_list, color_list)   # 1차 수정 \n",
    "            cv2.imshow('img', res_c)\n",
    "            tl_flag = False;\n",
    "            if cv2.waitKey(1) != -1:\n",
    "                break \n",
    "#             cv2.waitKey(delay)\n",
    "        else:\n",
    "            break\n",
    "    \n",
    "    print(len(shape_list))\n",
    "    print(len(color_list))\n",
    "else:\n",
    "    print(\"can't open video.\")\n",
    "\n",
    "cap.release()\n",
    "cv2.destroyAllWindows()"
   ]
  },
  {
   "cell_type": "code",
   "execution_count": null,
   "id": "419dd285",
   "metadata": {},
   "outputs": [],
   "source": []
  },
  {
   "cell_type": "code",
   "execution_count": null,
   "id": "8e9838fe",
   "metadata": {},
   "outputs": [],
   "source": []
  }
 ],
 "metadata": {
  "kernelspec": {
   "display_name": "Python 3",
   "language": "python",
   "name": "python3"
  },
  "language_info": {
   "codemirror_mode": {
    "name": "ipython",
    "version": 3
   },
   "file_extension": ".py",
   "mimetype": "text/x-python",
   "name": "python",
   "nbconvert_exporter": "python",
   "pygments_lexer": "ipython3",
   "version": "3.8.8"
  }
 },
 "nbformat": 4,
 "nbformat_minor": 5
}
