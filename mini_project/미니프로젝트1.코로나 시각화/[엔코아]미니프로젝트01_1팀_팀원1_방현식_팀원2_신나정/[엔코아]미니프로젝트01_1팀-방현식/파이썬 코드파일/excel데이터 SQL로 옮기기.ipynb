{
 "cells": [
  {
   "cell_type": "markdown",
   "id": "9b6b4c86",
   "metadata": {},
   "source": [
    "# excel데이터 SQL로 옮기기"
   ]
  },
  {
   "cell_type": "code",
   "execution_count": 24,
   "id": "40b7bb24",
   "metadata": {},
   "outputs": [
    {
     "name": "stdout",
     "output_type": "stream",
     "text": [
      "       지역   누적 인구\n",
      "0   검역자세히   5,738\n",
      "1      제주   2,494\n",
      "2      서울  76,245\n",
      "3      인천  11,305\n",
      "4      광주   3,920\n",
      "5      광주   3,920\n",
      "6      경북   6,802\n",
      "7      부산  10,999\n",
      "8      대구  13,192\n",
      "9      강원   5,242\n",
      "10     경기  68,158\n",
      "11     전남   2,479\n",
      "12     충북   4,953\n",
      "13     충남   6,547\n",
      "14     충남   6,547\n",
      "15     대전   5,413\n",
      "16     세종     944\n",
      "17     전북   3,396\n",
      "18     경남   9,615\n",
      "19     울산   3,997\n"
     ]
    }
   ],
   "source": [
    "#우리가 저장한 excel 데이터를 가져와서 준비한다.\n",
    "\n",
    "import pandas as pd\n",
    "import pymysql\n",
    "\n",
    "data = pd.read_excel(\"./코로나 지역별 누적인구.xlsx\")\n",
    "print(data)"
   ]
  },
  {
   "cell_type": "code",
   "execution_count": 25,
   "id": "21fb4831",
   "metadata": {},
   "outputs": [],
   "source": [
    "#SQL과 연결시켜주기\n",
    "conn = pymysql.connect(host='127.0.0.1', user='root', password='root', db='coronadb',charset = 'utf8')\n",
    "#원격 마우스가 생겼다.\n",
    "cur = conn.cursor()\n"
   ]
  },
  {
   "cell_type": "code",
   "execution_count": 26,
   "id": "c85a42e3",
   "metadata": {
    "scrolled": true
   },
   "outputs": [
    {
     "data": {
      "text/plain": [
       "0"
      ]
     },
     "execution_count": 26,
     "metadata": {},
     "output_type": "execute_result"
    }
   ],
   "source": [
    "cur.execute('create table if not exists corona19(지역이름 char(5), 누적_인구 char(7))')"
   ]
  },
  {
   "cell_type": "code",
   "execution_count": null,
   "id": "a242ee5f",
   "metadata": {},
   "outputs": [],
   "source": [
    "#테이블 만들고 저장하기!\n",
    "conn.commit() "
   ]
  },
  {
   "cell_type": "code",
   "execution_count": 27,
   "id": "cfcc5946",
   "metadata": {
    "scrolled": false
   },
   "outputs": [],
   "source": [
    "지역이름_v=data['지역']\n",
    "누적_인구_v=data['누적 인구']"
   ]
  },
  {
   "cell_type": "code",
   "execution_count": 28,
   "id": "c90895ff",
   "metadata": {
    "scrolled": true
   },
   "outputs": [
    {
     "name": "stdout",
     "output_type": "stream",
     "text": [
      "['검역자세히', '제주', '서울', '인천', '광주', '광주', '경북', '부산', '대구', '강원', '경기', '전남', '충북', '충남', '충남', '대전', '세종', '전북', '경남', '울산']\n"
     ]
    }
   ],
   "source": [
    "지역이름 = []\n",
    "for i in range(len(지역이름_v)):\n",
    "    지역이름.append(지역이름_v[i])\n",
    "print(지역이름)"
   ]
  },
  {
   "cell_type": "code",
   "execution_count": 29,
   "id": "6179e8b9",
   "metadata": {
    "scrolled": true
   },
   "outputs": [
    {
     "name": "stdout",
     "output_type": "stream",
     "text": [
      "['5,738', '2,494', '76,245', '11,305', '3,920', '3,920', '6,802', '10,999', '13,192', '5,242', '68,158', '2,479', '4,953', '6,547', '6,547', '5,413', '944', '3,396', '9,615', '3,997']\n"
     ]
    }
   ],
   "source": [
    "누적_인구 = []\n",
    "for i in range(len(누적_인구_v)):\n",
    "    누적_인구.append(누적_인구_v[i])\n",
    "print(누적_인구)"
   ]
  },
  {
   "cell_type": "code",
   "execution_count": 31,
   "id": "66f5bd7b",
   "metadata": {},
   "outputs": [],
   "source": [
    "#반복문을 통해서 테이블에 넣어주기\n",
    "\n",
    "for i in range(1,len(지역이름)):\n",
    "    a =지역이름.loc[i][0]\n",
    "    b =누적_인구.loc[i][1]\n",
    "    cur.execute(f\"INSERT INTO corona19 VALUES({a}, {b}\")"
   ]
  },
  {
   "cell_type": "code",
   "execution_count": 32,
   "id": "560c2a06",
   "metadata": {
    "scrolled": true
   },
   "outputs": [
    {
     "data": {
      "text/plain": [
       "1"
      ]
     },
     "execution_count": 32,
     "metadata": {},
     "output_type": "execute_result"
    }
   ],
   "source": [
    "#처음에는 반복 노동 \n",
    "\n",
    "# cur.execute(\"INSERT INTO corona19 VALUES( '검역자세히' , '5,738' )\")\n",
    "# cur.execute(\"INSERT INTO corona19 VALUES( '제주' , '2,494' )\")\n",
    "# cur.execute(\"INSERT INTO corona19 VALUES( '서울' , '76,245')\")\n",
    "# cur.execute(\"INSERT INTO corona19 VALUES( '인천' , '11,305')\")\n",
    "# cur.execute(\"INSERT INTO corona19 VALUES( '광주' ,  '3,920')\")\n",
    "# cur.execute(\"INSERT INTO corona19 VALUES( '광주' ,  '3,920')\")\n",
    "# cur.execute(\"INSERT INTO corona19 VALUES( '경북' ,  '6,802')\")\n",
    "# cur.execute(\"INSERT INTO corona19 VALUES( '부산' , '10,999')\")\n",
    "# cur.execute(\"INSERT INTO corona19 VALUES( '대구' , '13,192')\")\n",
    "# cur.execute(\"INSERT INTO corona19 VALUES( '강원' ,  '5,242')\")\n",
    "# cur.execute(\"INSERT INTO corona19 VALUES( '경기' , '68,158')\")\n",
    "# cur.execute(\"INSERT INTO corona19 VALUES( '전남' ,  '2,479')\")\n",
    "# cur.execute(\"INSERT INTO corona19 VALUES( '충북' , '4,953' )\")\n",
    "# cur.execute(\"INSERT INTO corona19 VALUES( '충남' ,  '6,547')\")\n",
    "# cur.execute(\"INSERT INTO corona19 VALUES( '충남' ,  '6,547')\")\n",
    "# cur.execute(\"INSERT INTO corona19 VALUES( '대전' , '5,413' )\")\n",
    "# cur.execute(\"INSERT INTO corona19 VALUES( '세종' ,   '944' )\")\n",
    "# cur.execute(\"INSERT INTO corona19 VALUES( '전북' ,  '3,396')\")\n",
    "# cur.execute(\"INSERT INTO corona19 VALUES( '경남' , '9,615' )\")\n",
    "# cur.execute(\"INSERT INTO corona19 VALUES( '울산' , '3,997' )\")"
   ]
  },
  {
   "cell_type": "code",
   "execution_count": 33,
   "id": "7776d21a",
   "metadata": {},
   "outputs": [],
   "source": [
    "#끝날때만 두개 동시에\n",
    "conn.commit()\n",
    "#끝내기를 해야 서버가 닫힌다!\n",
    "conn.close()"
   ]
  },
  {
   "cell_type": "markdown",
   "id": "cf66a31d",
   "metadata": {},
   "source": [
    "# 일주일치 신규확진자 저장하기"
   ]
  },
  {
   "cell_type": "code",
   "execution_count": null,
   "id": "95d08dc4",
   "metadata": {},
   "outputs": [],
   "source": [
    "\n",
    "import pandas as pd\n",
    "import pymysql\n",
    "\n",
    "data = pd.read_excel(\"./week.xlsx\")\n",
    "print(data)\n",
    "\n",
    "conn = pymysql.connect(host='127.0.0.1', user='root', password='root', db='coronadb',charset = 'utf8')\n",
    "cur = conn.cursor()\n",
    "\n",
    "\n",
    "#테이블을 만들자\n",
    "cur.execute(\"CREATE TABLE IF not EXISTS corona_week(날짜 varchar(10), 국내발생 int(8),해외유입  int(4), 신규확진 int(8))\")\n",
    "#만들 테이블을 저장해 주자\n",
    "conn.commit()"
   ]
  },
  {
   "cell_type": "code",
   "execution_count": null,
   "id": "d21e1089",
   "metadata": {},
   "outputs": [],
   "source": [
    "for i in range(1,len(data)):\n",
    "    a =data.loc[i][0]\n",
    "    b =data.loc[i][1]\n",
    "    c =data.loc[i][2]\n",
    "    d =data.loc[i][3]\n",
    "    cur.execute(f\"INSERT INTO corona_week VALUES('{a}', {b}, {c}, {d})\")\n",
    "\n",
    "conn.commit()\n",
    "\n",
    "conn.close()"
   ]
  },
  {
   "cell_type": "code",
   "execution_count": null,
   "id": "053014b8",
   "metadata": {},
   "outputs": [],
   "source": []
  }
 ],
 "metadata": {
  "kernelspec": {
   "display_name": "Python 3",
   "language": "python",
   "name": "python3"
  },
  "language_info": {
   "codemirror_mode": {
    "name": "ipython",
    "version": 3
   },
   "file_extension": ".py",
   "mimetype": "text/x-python",
   "name": "python",
   "nbconvert_exporter": "python",
   "pygments_lexer": "ipython3",
   "version": "3.8.11"
  }
 },
 "nbformat": 4,
 "nbformat_minor": 5
}
