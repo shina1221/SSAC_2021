version https://git-lfs.github.com/spec/v1
oid sha256:00224e04d731ffdd9b82ffe82a151a14ab27e797d727ea69e17661986e19ba84
size 304388162
