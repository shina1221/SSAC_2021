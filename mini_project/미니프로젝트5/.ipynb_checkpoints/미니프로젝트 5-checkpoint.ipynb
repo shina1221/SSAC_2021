{
 "cells": [
  {
   "cell_type": "markdown",
   "id": "a280fc16",
   "metadata": {},
   "source": [
    "#  Feature Engineering 데이터 확인 및 전처리"
   ]
  },
  {
   "cell_type": "code",
   "execution_count": 3,
   "id": "46c5331a",
   "metadata": {
    "ExecuteTime": {
     "end_time": "2021-11-27T13:42:55.250371Z",
     "start_time": "2021-11-27T13:42:54.870818Z"
    }
   },
   "outputs": [],
   "source": [
    "import pandas as pd\n",
    "#data=pd.read_csv('./mini_project/cs_data.csv')\n",
    "data=pd.read_csv('./cs_data.csv')\n",
    "#data=pd.read_csv('./Program_Files/mini_project/cs_data.csv')"
   ]
  },
  {
   "cell_type": "code",
   "execution_count": 4,
   "id": "8bd2ab98",
   "metadata": {
    "ExecuteTime": {
     "end_time": "2021-11-27T13:42:55.867921Z",
     "start_time": "2021-11-27T13:42:55.844896Z"
    }
   },
   "outputs": [
    {
     "data": {
      "text/html": [
       "<div>\n",
       "<style scoped>\n",
       "    .dataframe tbody tr th:only-of-type {\n",
       "        vertical-align: middle;\n",
       "    }\n",
       "\n",
       "    .dataframe tbody tr th {\n",
       "        vertical-align: top;\n",
       "    }\n",
       "\n",
       "    .dataframe thead th {\n",
       "        text-align: right;\n",
       "    }\n",
       "</style>\n",
       "<table border=\"1\" class=\"dataframe\">\n",
       "  <thead>\n",
       "    <tr style=\"text-align: right;\">\n",
       "      <th></th>\n",
       "      <th>SeriousDlqin2yrs</th>\n",
       "      <th>RevolvingUtilizationOfUnsecuredLines</th>\n",
       "      <th>age</th>\n",
       "      <th>NumberOfTime30-59DaysPastDueNotWorse</th>\n",
       "      <th>DebtRatio</th>\n",
       "      <th>MonthlyIncome</th>\n",
       "      <th>NumberOfOpenCreditLinesAndLoans</th>\n",
       "      <th>NumberOfTimes90DaysLate</th>\n",
       "      <th>NumberRealEstateLoansOrLines</th>\n",
       "      <th>NumberOfTime60-89DaysPastDueNotWorse</th>\n",
       "      <th>NumberOfDependents</th>\n",
       "    </tr>\n",
       "  </thead>\n",
       "  <tbody>\n",
       "    <tr>\n",
       "      <th>0</th>\n",
       "      <td>1</td>\n",
       "      <td>0.766127</td>\n",
       "      <td>45</td>\n",
       "      <td>2</td>\n",
       "      <td>0.802982</td>\n",
       "      <td>9120.0</td>\n",
       "      <td>13</td>\n",
       "      <td>0</td>\n",
       "      <td>6</td>\n",
       "      <td>0</td>\n",
       "      <td>2.0</td>\n",
       "    </tr>\n",
       "    <tr>\n",
       "      <th>1</th>\n",
       "      <td>0</td>\n",
       "      <td>0.957151</td>\n",
       "      <td>40</td>\n",
       "      <td>0</td>\n",
       "      <td>0.121876</td>\n",
       "      <td>2600.0</td>\n",
       "      <td>4</td>\n",
       "      <td>0</td>\n",
       "      <td>0</td>\n",
       "      <td>0</td>\n",
       "      <td>1.0</td>\n",
       "    </tr>\n",
       "    <tr>\n",
       "      <th>2</th>\n",
       "      <td>0</td>\n",
       "      <td>0.658180</td>\n",
       "      <td>38</td>\n",
       "      <td>1</td>\n",
       "      <td>0.085113</td>\n",
       "      <td>3042.0</td>\n",
       "      <td>2</td>\n",
       "      <td>1</td>\n",
       "      <td>0</td>\n",
       "      <td>0</td>\n",
       "      <td>0.0</td>\n",
       "    </tr>\n",
       "    <tr>\n",
       "      <th>3</th>\n",
       "      <td>0</td>\n",
       "      <td>0.233810</td>\n",
       "      <td>30</td>\n",
       "      <td>0</td>\n",
       "      <td>0.036050</td>\n",
       "      <td>3300.0</td>\n",
       "      <td>5</td>\n",
       "      <td>0</td>\n",
       "      <td>0</td>\n",
       "      <td>0</td>\n",
       "      <td>0.0</td>\n",
       "    </tr>\n",
       "    <tr>\n",
       "      <th>4</th>\n",
       "      <td>0</td>\n",
       "      <td>0.907239</td>\n",
       "      <td>49</td>\n",
       "      <td>1</td>\n",
       "      <td>0.024926</td>\n",
       "      <td>63588.0</td>\n",
       "      <td>7</td>\n",
       "      <td>0</td>\n",
       "      <td>1</td>\n",
       "      <td>0</td>\n",
       "      <td>0.0</td>\n",
       "    </tr>\n",
       "    <tr>\n",
       "      <th>...</th>\n",
       "      <td>...</td>\n",
       "      <td>...</td>\n",
       "      <td>...</td>\n",
       "      <td>...</td>\n",
       "      <td>...</td>\n",
       "      <td>...</td>\n",
       "      <td>...</td>\n",
       "      <td>...</td>\n",
       "      <td>...</td>\n",
       "      <td>...</td>\n",
       "      <td>...</td>\n",
       "    </tr>\n",
       "    <tr>\n",
       "      <th>149995</th>\n",
       "      <td>0</td>\n",
       "      <td>0.040674</td>\n",
       "      <td>74</td>\n",
       "      <td>0</td>\n",
       "      <td>0.225131</td>\n",
       "      <td>2100.0</td>\n",
       "      <td>4</td>\n",
       "      <td>0</td>\n",
       "      <td>1</td>\n",
       "      <td>0</td>\n",
       "      <td>0.0</td>\n",
       "    </tr>\n",
       "    <tr>\n",
       "      <th>149996</th>\n",
       "      <td>0</td>\n",
       "      <td>0.299745</td>\n",
       "      <td>44</td>\n",
       "      <td>0</td>\n",
       "      <td>0.716562</td>\n",
       "      <td>5584.0</td>\n",
       "      <td>4</td>\n",
       "      <td>0</td>\n",
       "      <td>1</td>\n",
       "      <td>0</td>\n",
       "      <td>2.0</td>\n",
       "    </tr>\n",
       "    <tr>\n",
       "      <th>149997</th>\n",
       "      <td>0</td>\n",
       "      <td>0.246044</td>\n",
       "      <td>58</td>\n",
       "      <td>0</td>\n",
       "      <td>3870.000000</td>\n",
       "      <td>NaN</td>\n",
       "      <td>18</td>\n",
       "      <td>0</td>\n",
       "      <td>1</td>\n",
       "      <td>0</td>\n",
       "      <td>0.0</td>\n",
       "    </tr>\n",
       "    <tr>\n",
       "      <th>149998</th>\n",
       "      <td>0</td>\n",
       "      <td>0.000000</td>\n",
       "      <td>30</td>\n",
       "      <td>0</td>\n",
       "      <td>0.000000</td>\n",
       "      <td>5716.0</td>\n",
       "      <td>4</td>\n",
       "      <td>0</td>\n",
       "      <td>0</td>\n",
       "      <td>0</td>\n",
       "      <td>0.0</td>\n",
       "    </tr>\n",
       "    <tr>\n",
       "      <th>149999</th>\n",
       "      <td>0</td>\n",
       "      <td>0.850283</td>\n",
       "      <td>64</td>\n",
       "      <td>0</td>\n",
       "      <td>0.249908</td>\n",
       "      <td>8158.0</td>\n",
       "      <td>8</td>\n",
       "      <td>0</td>\n",
       "      <td>2</td>\n",
       "      <td>0</td>\n",
       "      <td>0.0</td>\n",
       "    </tr>\n",
       "  </tbody>\n",
       "</table>\n",
       "<p>150000 rows × 11 columns</p>\n",
       "</div>"
      ],
      "text/plain": [
       "        SeriousDlqin2yrs  RevolvingUtilizationOfUnsecuredLines  age  \\\n",
       "0                      1                              0.766127   45   \n",
       "1                      0                              0.957151   40   \n",
       "2                      0                              0.658180   38   \n",
       "3                      0                              0.233810   30   \n",
       "4                      0                              0.907239   49   \n",
       "...                  ...                                   ...  ...   \n",
       "149995                 0                              0.040674   74   \n",
       "149996                 0                              0.299745   44   \n",
       "149997                 0                              0.246044   58   \n",
       "149998                 0                              0.000000   30   \n",
       "149999                 0                              0.850283   64   \n",
       "\n",
       "        NumberOfTime30-59DaysPastDueNotWorse    DebtRatio  MonthlyIncome  \\\n",
       "0                                          2     0.802982         9120.0   \n",
       "1                                          0     0.121876         2600.0   \n",
       "2                                          1     0.085113         3042.0   \n",
       "3                                          0     0.036050         3300.0   \n",
       "4                                          1     0.024926        63588.0   \n",
       "...                                      ...          ...            ...   \n",
       "149995                                     0     0.225131         2100.0   \n",
       "149996                                     0     0.716562         5584.0   \n",
       "149997                                     0  3870.000000            NaN   \n",
       "149998                                     0     0.000000         5716.0   \n",
       "149999                                     0     0.249908         8158.0   \n",
       "\n",
       "        NumberOfOpenCreditLinesAndLoans  NumberOfTimes90DaysLate  \\\n",
       "0                                    13                        0   \n",
       "1                                     4                        0   \n",
       "2                                     2                        1   \n",
       "3                                     5                        0   \n",
       "4                                     7                        0   \n",
       "...                                 ...                      ...   \n",
       "149995                                4                        0   \n",
       "149996                                4                        0   \n",
       "149997                               18                        0   \n",
       "149998                                4                        0   \n",
       "149999                                8                        0   \n",
       "\n",
       "        NumberRealEstateLoansOrLines  NumberOfTime60-89DaysPastDueNotWorse  \\\n",
       "0                                  6                                     0   \n",
       "1                                  0                                     0   \n",
       "2                                  0                                     0   \n",
       "3                                  0                                     0   \n",
       "4                                  1                                     0   \n",
       "...                              ...                                   ...   \n",
       "149995                             1                                     0   \n",
       "149996                             1                                     0   \n",
       "149997                             1                                     0   \n",
       "149998                             0                                     0   \n",
       "149999                             2                                     0   \n",
       "\n",
       "        NumberOfDependents  \n",
       "0                      2.0  \n",
       "1                      1.0  \n",
       "2                      0.0  \n",
       "3                      0.0  \n",
       "4                      0.0  \n",
       "...                    ...  \n",
       "149995                 0.0  \n",
       "149996                 2.0  \n",
       "149997                 0.0  \n",
       "149998                 0.0  \n",
       "149999                 0.0  \n",
       "\n",
       "[150000 rows x 11 columns]"
      ]
     },
     "execution_count": 4,
     "metadata": {},
     "output_type": "execute_result"
    }
   ],
   "source": [
    "data.drop(columns='Unnamed: 0', inplace=True)\n",
    "data"
   ]
  },
  {
   "cell_type": "markdown",
   "id": "e9e43b13",
   "metadata": {},
   "source": [
    "## 데이터 확인"
   ]
  },
  {
   "cell_type": "code",
   "execution_count": 5,
   "id": "4ce61a8b",
   "metadata": {
    "ExecuteTime": {
     "end_time": "2021-11-27T13:42:57.303696Z",
     "start_time": "2021-11-27T13:42:57.286673Z"
    },
    "scrolled": true
   },
   "outputs": [
    {
     "name": "stdout",
     "output_type": "stream",
     "text": [
      "<class 'pandas.core.frame.DataFrame'>\n",
      "RangeIndex: 150000 entries, 0 to 149999\n",
      "Data columns (total 11 columns):\n",
      " #   Column                                Non-Null Count   Dtype  \n",
      "---  ------                                --------------   -----  \n",
      " 0   SeriousDlqin2yrs                      150000 non-null  int64  \n",
      " 1   RevolvingUtilizationOfUnsecuredLines  150000 non-null  float64\n",
      " 2   age                                   150000 non-null  int64  \n",
      " 3   NumberOfTime30-59DaysPastDueNotWorse  150000 non-null  int64  \n",
      " 4   DebtRatio                             150000 non-null  float64\n",
      " 5   MonthlyIncome                         120269 non-null  float64\n",
      " 6   NumberOfOpenCreditLinesAndLoans       150000 non-null  int64  \n",
      " 7   NumberOfTimes90DaysLate               150000 non-null  int64  \n",
      " 8   NumberRealEstateLoansOrLines          150000 non-null  int64  \n",
      " 9   NumberOfTime60-89DaysPastDueNotWorse  150000 non-null  int64  \n",
      " 10  NumberOfDependents                    146076 non-null  float64\n",
      "dtypes: float64(4), int64(7)\n",
      "memory usage: 12.6 MB\n"
     ]
    }
   ],
   "source": [
    "data.info()"
   ]
  },
  {
   "cell_type": "code",
   "execution_count": 6,
   "id": "67d03484",
   "metadata": {
    "ExecuteTime": {
     "end_time": "2021-11-27T13:42:57.770293Z",
     "start_time": "2021-11-27T13:42:57.720270Z"
    }
   },
   "outputs": [
    {
     "data": {
      "text/html": [
       "<div>\n",
       "<style scoped>\n",
       "    .dataframe tbody tr th:only-of-type {\n",
       "        vertical-align: middle;\n",
       "    }\n",
       "\n",
       "    .dataframe tbody tr th {\n",
       "        vertical-align: top;\n",
       "    }\n",
       "\n",
       "    .dataframe thead th {\n",
       "        text-align: right;\n",
       "    }\n",
       "</style>\n",
       "<table border=\"1\" class=\"dataframe\">\n",
       "  <thead>\n",
       "    <tr style=\"text-align: right;\">\n",
       "      <th></th>\n",
       "      <th>SeriousDlqin2yrs</th>\n",
       "      <th>RevolvingUtilizationOfUnsecuredLines</th>\n",
       "      <th>age</th>\n",
       "      <th>NumberOfTime30-59DaysPastDueNotWorse</th>\n",
       "      <th>DebtRatio</th>\n",
       "      <th>MonthlyIncome</th>\n",
       "      <th>NumberOfOpenCreditLinesAndLoans</th>\n",
       "      <th>NumberOfTimes90DaysLate</th>\n",
       "      <th>NumberRealEstateLoansOrLines</th>\n",
       "      <th>NumberOfTime60-89DaysPastDueNotWorse</th>\n",
       "      <th>NumberOfDependents</th>\n",
       "    </tr>\n",
       "  </thead>\n",
       "  <tbody>\n",
       "    <tr>\n",
       "      <th>count</th>\n",
       "      <td>150000.000000</td>\n",
       "      <td>150000.000000</td>\n",
       "      <td>150000.000000</td>\n",
       "      <td>150000.000000</td>\n",
       "      <td>150000.000000</td>\n",
       "      <td>1.202690e+05</td>\n",
       "      <td>150000.000000</td>\n",
       "      <td>150000.000000</td>\n",
       "      <td>150000.000000</td>\n",
       "      <td>150000.000000</td>\n",
       "      <td>146076.000000</td>\n",
       "    </tr>\n",
       "    <tr>\n",
       "      <th>mean</th>\n",
       "      <td>0.066840</td>\n",
       "      <td>6.048438</td>\n",
       "      <td>52.295207</td>\n",
       "      <td>0.421033</td>\n",
       "      <td>353.005076</td>\n",
       "      <td>6.670221e+03</td>\n",
       "      <td>8.452760</td>\n",
       "      <td>0.265973</td>\n",
       "      <td>1.018240</td>\n",
       "      <td>0.240387</td>\n",
       "      <td>0.757222</td>\n",
       "    </tr>\n",
       "    <tr>\n",
       "      <th>std</th>\n",
       "      <td>0.249746</td>\n",
       "      <td>249.755371</td>\n",
       "      <td>14.771866</td>\n",
       "      <td>4.192781</td>\n",
       "      <td>2037.818523</td>\n",
       "      <td>1.438467e+04</td>\n",
       "      <td>5.145951</td>\n",
       "      <td>4.169304</td>\n",
       "      <td>1.129771</td>\n",
       "      <td>4.155179</td>\n",
       "      <td>1.115086</td>\n",
       "    </tr>\n",
       "    <tr>\n",
       "      <th>min</th>\n",
       "      <td>0.000000</td>\n",
       "      <td>0.000000</td>\n",
       "      <td>0.000000</td>\n",
       "      <td>0.000000</td>\n",
       "      <td>0.000000</td>\n",
       "      <td>0.000000e+00</td>\n",
       "      <td>0.000000</td>\n",
       "      <td>0.000000</td>\n",
       "      <td>0.000000</td>\n",
       "      <td>0.000000</td>\n",
       "      <td>0.000000</td>\n",
       "    </tr>\n",
       "    <tr>\n",
       "      <th>25%</th>\n",
       "      <td>0.000000</td>\n",
       "      <td>0.029867</td>\n",
       "      <td>41.000000</td>\n",
       "      <td>0.000000</td>\n",
       "      <td>0.175074</td>\n",
       "      <td>3.400000e+03</td>\n",
       "      <td>5.000000</td>\n",
       "      <td>0.000000</td>\n",
       "      <td>0.000000</td>\n",
       "      <td>0.000000</td>\n",
       "      <td>0.000000</td>\n",
       "    </tr>\n",
       "    <tr>\n",
       "      <th>50%</th>\n",
       "      <td>0.000000</td>\n",
       "      <td>0.154181</td>\n",
       "      <td>52.000000</td>\n",
       "      <td>0.000000</td>\n",
       "      <td>0.366508</td>\n",
       "      <td>5.400000e+03</td>\n",
       "      <td>8.000000</td>\n",
       "      <td>0.000000</td>\n",
       "      <td>1.000000</td>\n",
       "      <td>0.000000</td>\n",
       "      <td>0.000000</td>\n",
       "    </tr>\n",
       "    <tr>\n",
       "      <th>75%</th>\n",
       "      <td>0.000000</td>\n",
       "      <td>0.559046</td>\n",
       "      <td>63.000000</td>\n",
       "      <td>0.000000</td>\n",
       "      <td>0.868254</td>\n",
       "      <td>8.249000e+03</td>\n",
       "      <td>11.000000</td>\n",
       "      <td>0.000000</td>\n",
       "      <td>2.000000</td>\n",
       "      <td>0.000000</td>\n",
       "      <td>1.000000</td>\n",
       "    </tr>\n",
       "    <tr>\n",
       "      <th>max</th>\n",
       "      <td>1.000000</td>\n",
       "      <td>50708.000000</td>\n",
       "      <td>109.000000</td>\n",
       "      <td>98.000000</td>\n",
       "      <td>329664.000000</td>\n",
       "      <td>3.008750e+06</td>\n",
       "      <td>58.000000</td>\n",
       "      <td>98.000000</td>\n",
       "      <td>54.000000</td>\n",
       "      <td>98.000000</td>\n",
       "      <td>20.000000</td>\n",
       "    </tr>\n",
       "  </tbody>\n",
       "</table>\n",
       "</div>"
      ],
      "text/plain": [
       "       SeriousDlqin2yrs  RevolvingUtilizationOfUnsecuredLines            age  \\\n",
       "count     150000.000000                         150000.000000  150000.000000   \n",
       "mean           0.066840                              6.048438      52.295207   \n",
       "std            0.249746                            249.755371      14.771866   \n",
       "min            0.000000                              0.000000       0.000000   \n",
       "25%            0.000000                              0.029867      41.000000   \n",
       "50%            0.000000                              0.154181      52.000000   \n",
       "75%            0.000000                              0.559046      63.000000   \n",
       "max            1.000000                          50708.000000     109.000000   \n",
       "\n",
       "       NumberOfTime30-59DaysPastDueNotWorse      DebtRatio  MonthlyIncome  \\\n",
       "count                         150000.000000  150000.000000   1.202690e+05   \n",
       "mean                               0.421033     353.005076   6.670221e+03   \n",
       "std                                4.192781    2037.818523   1.438467e+04   \n",
       "min                                0.000000       0.000000   0.000000e+00   \n",
       "25%                                0.000000       0.175074   3.400000e+03   \n",
       "50%                                0.000000       0.366508   5.400000e+03   \n",
       "75%                                0.000000       0.868254   8.249000e+03   \n",
       "max                               98.000000  329664.000000   3.008750e+06   \n",
       "\n",
       "       NumberOfOpenCreditLinesAndLoans  NumberOfTimes90DaysLate  \\\n",
       "count                    150000.000000            150000.000000   \n",
       "mean                          8.452760                 0.265973   \n",
       "std                           5.145951                 4.169304   \n",
       "min                           0.000000                 0.000000   \n",
       "25%                           5.000000                 0.000000   \n",
       "50%                           8.000000                 0.000000   \n",
       "75%                          11.000000                 0.000000   \n",
       "max                          58.000000                98.000000   \n",
       "\n",
       "       NumberRealEstateLoansOrLines  NumberOfTime60-89DaysPastDueNotWorse  \\\n",
       "count                 150000.000000                         150000.000000   \n",
       "mean                       1.018240                              0.240387   \n",
       "std                        1.129771                              4.155179   \n",
       "min                        0.000000                              0.000000   \n",
       "25%                        0.000000                              0.000000   \n",
       "50%                        1.000000                              0.000000   \n",
       "75%                        2.000000                              0.000000   \n",
       "max                       54.000000                             98.000000   \n",
       "\n",
       "       NumberOfDependents  \n",
       "count       146076.000000  \n",
       "mean             0.757222  \n",
       "std              1.115086  \n",
       "min              0.000000  \n",
       "25%              0.000000  \n",
       "50%              0.000000  \n",
       "75%              1.000000  \n",
       "max             20.000000  "
      ]
     },
     "execution_count": 6,
     "metadata": {},
     "output_type": "execute_result"
    }
   ],
   "source": [
    "#기초 통계량 확인\n",
    "data.describe()\n",
    "\n",
    "#전체적으로 이상치 분포되어 있음."
   ]
  },
  {
   "cell_type": "markdown",
   "id": "5b9fd12b",
   "metadata": {},
   "source": [
    "## 결측치 처리"
   ]
  },
  {
   "cell_type": "code",
   "execution_count": 7,
   "id": "47f7692b",
   "metadata": {
    "ExecuteTime": {
     "end_time": "2021-11-27T13:42:58.841539Z",
     "start_time": "2021-11-27T13:42:58.829540Z"
    }
   },
   "outputs": [
    {
     "data": {
      "text/plain": [
       "SeriousDlqin2yrs                            0\n",
       "RevolvingUtilizationOfUnsecuredLines        0\n",
       "age                                         0\n",
       "NumberOfTime30-59DaysPastDueNotWorse        0\n",
       "DebtRatio                                   0\n",
       "MonthlyIncome                           29731\n",
       "NumberOfOpenCreditLinesAndLoans             0\n",
       "NumberOfTimes90DaysLate                     0\n",
       "NumberRealEstateLoansOrLines                0\n",
       "NumberOfTime60-89DaysPastDueNotWorse        0\n",
       "NumberOfDependents                       3924\n",
       "dtype: int64"
      ]
     },
     "execution_count": 7,
     "metadata": {},
     "output_type": "execute_result"
    }
   ],
   "source": [
    "#결측지 확인\n",
    "data.isna().sum()"
   ]
  },
  {
   "cell_type": "code",
   "execution_count": 8,
   "id": "da5ceda9",
   "metadata": {
    "ExecuteTime": {
     "end_time": "2021-11-27T13:42:59.353960Z",
     "start_time": "2021-11-27T13:42:59.335936Z"
    },
    "scrolled": true
   },
   "outputs": [],
   "source": [
    "#결측치 버리기\n",
    "drop_data=data.dropna()"
   ]
  },
  {
   "cell_type": "code",
   "execution_count": 9,
   "id": "fa88236d",
   "metadata": {
    "ExecuteTime": {
     "end_time": "2021-11-27T13:00:25.350772Z",
     "start_time": "2021-11-27T13:00:24.929772Z"
    }
   },
   "outputs": [],
   "source": [
    "#결측치 처리\n",
    "#평균값으로 대체\n",
    "#각 특성 열의 전체 평균으로 누락된 값 대체\n",
    "import numpy as np\n",
    "from sklearn.impute import SimpleImputer\n",
    "#data.fillna(data.mean())\n",
    "\n",
    "imr = SimpleImputer(missing_values=np.nan, strategy='mean')\n",
    "imr = imr.fit(data.values)\n",
    "imputed_data = imr.transform(data.values)"
   ]
  },
  {
   "cell_type": "code",
   "execution_count": 10,
   "id": "45be7822",
   "metadata": {
    "ExecuteTime": {
     "end_time": "2021-11-27T13:00:26.753225Z",
     "start_time": "2021-11-27T13:00:26.694227Z"
    }
   },
   "outputs": [],
   "source": [
    "#각 열별 최빈값으로 변경하는 것은 사용하지 않겠음\n",
    "#mode()\n",
    "\"\"\"\n",
    "참고\n",
    "# Null 값을 mode로 대체하는 코드 예제\n",
    "freq_values = df_ms.documentposition.value_counts().index[0]\n",
    "df['col1'] = df['col1'].fillna(freq_values)\n",
    "\"\"\"\n",
    "for i in range(len(data.columns)):\n",
    "    freq_values=data.iloc[:,i].mode()\n",
    "    data.iloc[:,i]=data.iloc[:,i].fillna(freq_values)"
   ]
  },
  {
   "cell_type": "markdown",
   "id": "099bb095",
   "metadata": {},
   "source": [
    "## (재확인) 이상치 처리"
   ]
  },
  {
   "cell_type": "markdown",
   "id": "244696a8",
   "metadata": {},
   "source": [
    "1. 그 값을 그대로 유지한다.\n",
    "2. 결측치 처리를 한다.\n",
    "3. 다른 값으로 대체한다.\n",
    " - 보통 그 값이 가질 수 있는 Min/Max값을 설정한 뒤 그 값으로 변경한다."
   ]
  },
  {
   "cell_type": "code",
   "execution_count": 12,
   "id": "527eb836",
   "metadata": {
    "ExecuteTime": {
     "end_time": "2021-11-27T13:00:40.153585Z",
     "start_time": "2021-11-27T13:00:40.092237Z"
    },
    "scrolled": true
   },
   "outputs": [
    {
     "data": {
      "text/html": [
       "<div>\n",
       "<style scoped>\n",
       "    .dataframe tbody tr th:only-of-type {\n",
       "        vertical-align: middle;\n",
       "    }\n",
       "\n",
       "    .dataframe tbody tr th {\n",
       "        vertical-align: top;\n",
       "    }\n",
       "\n",
       "    .dataframe thead th {\n",
       "        text-align: right;\n",
       "    }\n",
       "</style>\n",
       "<table border=\"1\" class=\"dataframe\">\n",
       "  <thead>\n",
       "    <tr style=\"text-align: right;\">\n",
       "      <th></th>\n",
       "      <th>SeriousDlqin2yrs</th>\n",
       "      <th>RevolvingUtilizationOfUnsecuredLines</th>\n",
       "      <th>age</th>\n",
       "      <th>NumberOfTime30-59DaysPastDueNotWorse</th>\n",
       "      <th>DebtRatio</th>\n",
       "      <th>MonthlyIncome</th>\n",
       "      <th>NumberOfOpenCreditLinesAndLoans</th>\n",
       "      <th>NumberOfTimes90DaysLate</th>\n",
       "      <th>NumberRealEstateLoansOrLines</th>\n",
       "      <th>NumberOfTime60-89DaysPastDueNotWorse</th>\n",
       "      <th>NumberOfDependents</th>\n",
       "    </tr>\n",
       "  </thead>\n",
       "  <tbody>\n",
       "    <tr>\n",
       "      <th>0</th>\n",
       "      <td>1</td>\n",
       "      <td>0.766127</td>\n",
       "      <td>45</td>\n",
       "      <td>2</td>\n",
       "      <td>0.802982</td>\n",
       "      <td>9120.0</td>\n",
       "      <td>13</td>\n",
       "      <td>0</td>\n",
       "      <td>6</td>\n",
       "      <td>0</td>\n",
       "      <td>2.0</td>\n",
       "    </tr>\n",
       "    <tr>\n",
       "      <th>2</th>\n",
       "      <td>0</td>\n",
       "      <td>0.658180</td>\n",
       "      <td>38</td>\n",
       "      <td>1</td>\n",
       "      <td>0.085113</td>\n",
       "      <td>3042.0</td>\n",
       "      <td>2</td>\n",
       "      <td>1</td>\n",
       "      <td>0</td>\n",
       "      <td>0</td>\n",
       "      <td>0.0</td>\n",
       "    </tr>\n",
       "    <tr>\n",
       "      <th>4</th>\n",
       "      <td>0</td>\n",
       "      <td>0.907239</td>\n",
       "      <td>49</td>\n",
       "      <td>1</td>\n",
       "      <td>0.024926</td>\n",
       "      <td>63588.0</td>\n",
       "      <td>7</td>\n",
       "      <td>0</td>\n",
       "      <td>1</td>\n",
       "      <td>0</td>\n",
       "      <td>0.0</td>\n",
       "    </tr>\n",
       "    <tr>\n",
       "      <th>6</th>\n",
       "      <td>0</td>\n",
       "      <td>0.305682</td>\n",
       "      <td>57</td>\n",
       "      <td>0</td>\n",
       "      <td>5710.000000</td>\n",
       "      <td>NaN</td>\n",
       "      <td>8</td>\n",
       "      <td>0</td>\n",
       "      <td>3</td>\n",
       "      <td>0</td>\n",
       "      <td>0.0</td>\n",
       "    </tr>\n",
       "    <tr>\n",
       "      <th>8</th>\n",
       "      <td>0</td>\n",
       "      <td>0.116951</td>\n",
       "      <td>27</td>\n",
       "      <td>0</td>\n",
       "      <td>46.000000</td>\n",
       "      <td>NaN</td>\n",
       "      <td>2</td>\n",
       "      <td>0</td>\n",
       "      <td>0</td>\n",
       "      <td>0</td>\n",
       "      <td>NaN</td>\n",
       "    </tr>\n",
       "    <tr>\n",
       "      <th>...</th>\n",
       "      <td>...</td>\n",
       "      <td>...</td>\n",
       "      <td>...</td>\n",
       "      <td>...</td>\n",
       "      <td>...</td>\n",
       "      <td>...</td>\n",
       "      <td>...</td>\n",
       "      <td>...</td>\n",
       "      <td>...</td>\n",
       "      <td>...</td>\n",
       "      <td>...</td>\n",
       "    </tr>\n",
       "    <tr>\n",
       "      <th>149987</th>\n",
       "      <td>0</td>\n",
       "      <td>1.000000</td>\n",
       "      <td>28</td>\n",
       "      <td>0</td>\n",
       "      <td>0.055692</td>\n",
       "      <td>3249.0</td>\n",
       "      <td>3</td>\n",
       "      <td>1</td>\n",
       "      <td>0</td>\n",
       "      <td>0</td>\n",
       "      <td>0.0</td>\n",
       "    </tr>\n",
       "    <tr>\n",
       "      <th>149988</th>\n",
       "      <td>0</td>\n",
       "      <td>0.902051</td>\n",
       "      <td>31</td>\n",
       "      <td>1</td>\n",
       "      <td>0.347924</td>\n",
       "      <td>7515.0</td>\n",
       "      <td>10</td>\n",
       "      <td>0</td>\n",
       "      <td>1</td>\n",
       "      <td>0</td>\n",
       "      <td>0.0</td>\n",
       "    </tr>\n",
       "    <tr>\n",
       "      <th>149989</th>\n",
       "      <td>0</td>\n",
       "      <td>0.013356</td>\n",
       "      <td>62</td>\n",
       "      <td>0</td>\n",
       "      <td>0.001408</td>\n",
       "      <td>9233.0</td>\n",
       "      <td>4</td>\n",
       "      <td>0</td>\n",
       "      <td>0</td>\n",
       "      <td>0</td>\n",
       "      <td>3.0</td>\n",
       "    </tr>\n",
       "    <tr>\n",
       "      <th>149992</th>\n",
       "      <td>0</td>\n",
       "      <td>0.871976</td>\n",
       "      <td>50</td>\n",
       "      <td>0</td>\n",
       "      <td>4132.000000</td>\n",
       "      <td>NaN</td>\n",
       "      <td>11</td>\n",
       "      <td>0</td>\n",
       "      <td>1</td>\n",
       "      <td>0</td>\n",
       "      <td>3.0</td>\n",
       "    </tr>\n",
       "    <tr>\n",
       "      <th>149997</th>\n",
       "      <td>0</td>\n",
       "      <td>0.246044</td>\n",
       "      <td>58</td>\n",
       "      <td>0</td>\n",
       "      <td>3870.000000</td>\n",
       "      <td>NaN</td>\n",
       "      <td>18</td>\n",
       "      <td>0</td>\n",
       "      <td>1</td>\n",
       "      <td>0</td>\n",
       "      <td>0.0</td>\n",
       "    </tr>\n",
       "  </tbody>\n",
       "</table>\n",
       "<p>73146 rows × 11 columns</p>\n",
       "</div>"
      ],
      "text/plain": [
       "        SeriousDlqin2yrs  RevolvingUtilizationOfUnsecuredLines  age  \\\n",
       "0                      1                              0.766127   45   \n",
       "2                      0                              0.658180   38   \n",
       "4                      0                              0.907239   49   \n",
       "6                      0                              0.305682   57   \n",
       "8                      0                              0.116951   27   \n",
       "...                  ...                                   ...  ...   \n",
       "149987                 0                              1.000000   28   \n",
       "149988                 0                              0.902051   31   \n",
       "149989                 0                              0.013356   62   \n",
       "149992                 0                              0.871976   50   \n",
       "149997                 0                              0.246044   58   \n",
       "\n",
       "        NumberOfTime30-59DaysPastDueNotWorse    DebtRatio  MonthlyIncome  \\\n",
       "0                                          2     0.802982         9120.0   \n",
       "2                                          1     0.085113         3042.0   \n",
       "4                                          1     0.024926        63588.0   \n",
       "6                                          0  5710.000000            NaN   \n",
       "8                                          0    46.000000            NaN   \n",
       "...                                      ...          ...            ...   \n",
       "149987                                     0     0.055692         3249.0   \n",
       "149988                                     1     0.347924         7515.0   \n",
       "149989                                     0     0.001408         9233.0   \n",
       "149992                                     0  4132.000000            NaN   \n",
       "149997                                     0  3870.000000            NaN   \n",
       "\n",
       "        NumberOfOpenCreditLinesAndLoans  NumberOfTimes90DaysLate  \\\n",
       "0                                    13                        0   \n",
       "2                                     2                        1   \n",
       "4                                     7                        0   \n",
       "6                                     8                        0   \n",
       "8                                     2                        0   \n",
       "...                                 ...                      ...   \n",
       "149987                                3                        1   \n",
       "149988                               10                        0   \n",
       "149989                                4                        0   \n",
       "149992                               11                        0   \n",
       "149997                               18                        0   \n",
       "\n",
       "        NumberRealEstateLoansOrLines  NumberOfTime60-89DaysPastDueNotWorse  \\\n",
       "0                                  6                                     0   \n",
       "2                                  0                                     0   \n",
       "4                                  1                                     0   \n",
       "6                                  3                                     0   \n",
       "8                                  0                                     0   \n",
       "...                              ...                                   ...   \n",
       "149987                             0                                     0   \n",
       "149988                             1                                     0   \n",
       "149989                             0                                     0   \n",
       "149992                             1                                     0   \n",
       "149997                             1                                     0   \n",
       "\n",
       "        NumberOfDependents  \n",
       "0                      2.0  \n",
       "2                      0.0  \n",
       "4                      0.0  \n",
       "6                      0.0  \n",
       "8                      NaN  \n",
       "...                    ...  \n",
       "149987                 0.0  \n",
       "149988                 0.0  \n",
       "149989                 3.0  \n",
       "149992                 3.0  \n",
       "149997                 0.0  \n",
       "\n",
       "[73146 rows x 11 columns]"
      ]
     },
     "execution_count": 12,
     "metadata": {},
     "output_type": "execute_result"
    }
   ],
   "source": [
    "#이상치 처리\n",
    "#1분위수 이하 3분위수 이상인 이상치 제거\n",
    "quatile_1 = data.quantile(0.25)\n",
    "quatile_3 = data.quantile(0.75)\n",
    "IQR = quatile_3-quatile_1\n",
    "condition = (data < (quatile_1 - 1.5 * IQR)) | (data > (quatile_3 + 1.5*IQR))\n",
    "#any() : 하나라도 True인게 있으면 True / axis=1 이면 열 기준\n",
    "condition = condition.any(axis=1)\n",
    "#팬시 인덱싱\n",
    "search_df = data[condition]\n",
    "IQR_data = pd.DataFrame(search_df)\n",
    "IQR_data\n",
    "\n",
    "#본인은 이상치를 이대로 유지하겠음"
   ]
  },
  {
   "cell_type": "markdown",
   "id": "a87af053",
   "metadata": {},
   "source": [
    "## Feature Selection"
   ]
  },
  {
   "cell_type": "code",
   "execution_count": 35,
   "id": "2bf58e71",
   "metadata": {
    "ExecuteTime": {
     "end_time": "2021-11-24T03:36:41.907384Z",
     "start_time": "2021-11-24T03:36:38.374799Z"
    }
   },
   "outputs": [],
   "source": [
    "#랜덤 포레스트를 이용한 특성 중요도\n",
    "from sklearn.ensemble import RandomForestClassifier\n",
    "\n",
    "y=drop_data['SeriousDlqin2yrs']\n",
    "feat_labels = drop_data.drop(['SeriousDlqin2yrs'], axis =1)\n",
    "\n",
    "rf = RandomForestClassifier(n_estimators=500,\n",
    "                            n_jobs=-1,\n",
    "                            random_state=0)\n",
    "\n",
    "from sklearn.model_selection import train_test_split\n",
    "X_train, X_test, y_train, y_test = train_test_split(feat_labels, y, stratify=y, random_state=0)\n",
    "\n",
    "rf.fit(X_train, y_train)\n",
    "importances = rf.feature_importances_\n",
    "\n",
    "#argsort 작은값부터 순서대로 데이터의 위치 반환\n",
    "indices = np.argsort(importances)[::-1]"
   ]
  },
  {
   "cell_type": "code",
   "execution_count": 36,
   "id": "fa4cc58f",
   "metadata": {
    "ExecuteTime": {
     "end_time": "2021-11-24T03:36:42.102407Z",
     "start_time": "2021-11-24T03:36:42.088384Z"
    }
   },
   "outputs": [
    {
     "data": {
      "text/plain": [
       "array([0.18943532, 0.12165108, 0.05075381, 0.17346249, 0.16301655,\n",
       "       0.08918309, 0.08636972, 0.03507374, 0.04570237, 0.04535183])"
      ]
     },
     "execution_count": 36,
     "metadata": {},
     "output_type": "execute_result"
    }
   ],
   "source": [
    "importances\n",
    "#indices[0]\n",
    "#feat_labels.columns[0]"
   ]
  },
  {
   "cell_type": "code",
   "execution_count": 186,
   "id": "87695cd5",
   "metadata": {
    "ExecuteTime": {
     "end_time": "2021-11-24T07:12:01.084260Z",
     "start_time": "2021-11-24T07:12:00.986260Z"
    },
    "scrolled": true
   },
   "outputs": [
    {
     "name": "stdout",
     "output_type": "stream",
     "text": [
      "이 임계 조건을 만족하는 feature의 수 4\n",
      " 1) RevolvingUtilizationOfUnsecuredLines 0.267501\n",
      " 2) NumberOfTime30-59DaysPastDueNotWorse 0.260304\n",
      " 3) DebtRatio                      0.228540\n",
      " 4) age                            0.137074\n"
     ]
    },
    {
     "name": "stderr",
     "output_type": "stream",
     "text": [
      "D:\\Program_Files\\anaconda3\\lib\\site-packages\\sklearn\\base.py:438: UserWarning: X has feature names, but SelectFromModel was fitted without feature names\n",
      "  warnings.warn(\n"
     ]
    }
   ],
   "source": [
    "#SelectFromModel을 이용한 특성 중요도 추출\n",
    "from sklearn.feature_selection import SelectFromModel\n",
    "\n",
    "#만약 피처를 더 허용하고 싶다면 threshold값을 낮출것\n",
    "sfm = SelectFromModel(rf, threshold=0.1, prefit=True)\n",
    "X_selected = sfm.transform(X_train)\n",
    "print('이 임계 조건을 만족하는 feature의 수', X_selected.shape[1])\n",
    "\n",
    "for f in range(X_selected.shape[1]):\n",
    "    print(\"%2d) %-*s %f\" % (f+1, 30,\n",
    "                           feat_labels.columns[indices[f]],\n",
    "                           importances[indices[f]]))"
   ]
  },
  {
   "cell_type": "code",
   "execution_count": 187,
   "id": "e73acd0e",
   "metadata": {
    "ExecuteTime": {
     "end_time": "2021-11-24T07:12:04.025830Z",
     "start_time": "2021-11-24T07:12:04.011831Z"
    }
   },
   "outputs": [
    {
     "data": {
      "text/plain": [
       "array([0.27, 0.14, 0.26, 0.23, 0.11])"
      ]
     },
     "execution_count": 187,
     "metadata": {},
     "output_type": "execute_result"
    }
   ],
   "source": [
    "importances"
   ]
  },
  {
   "cell_type": "code",
   "execution_count": 188,
   "id": "20e53045",
   "metadata": {
    "ExecuteTime": {
     "end_time": "2021-11-24T07:12:27.749971Z",
     "start_time": "2021-11-24T07:12:06.761334Z"
    }
   },
   "outputs": [
    {
     "name": "stdout",
     "output_type": "stream",
     "text": [
      "[1 1 3 1 1 2 1 6 5 4]\n",
      "( 1) RevolvingUtilizationOfUnsecuredLines 0.266873\n",
      "( 3) DebtRatio                      0.259344\n",
      "( 4) MonthlyIncome                  0.228719\n",
      "( 2) age                            0.138728\n",
      "( 5) NumberOfTimes90DaysLate        0.106335\n"
     ]
    }
   ],
   "source": [
    "#RFE는 재귀적 특성 제거 방법 사용 (처음에 모든 특성으로 모델 만들고 특성 중요도가 가장 낮은 특성을 제거해나감)\n",
    "#이런식으로 미리 정의한 특성 개수가 남을 때까지 계속\n",
    "from sklearn.feature_selection import RFE\n",
    "rfe = RFE(rf, n_features_to_select=5)\n",
    "rfe.fit(X_train, y_train)\n",
    "#선택한 특성의 우선순위 확인\n",
    "print(rfe.ranking_)\n",
    "\n",
    "#선택된 특성은 True 반환\n",
    "f_mask = rfe.support_\n",
    "importances = rfe.estimator_.feature_importances_\n",
    "indices = np.argsort(importances)[::-1]\n",
    "for i in indices:\n",
    "    print(\"(%2d) %-*s %f\" % (i+1, 30,\n",
    "                           feat_labels.columns[f_mask][i],\n",
    "                           importances[i]))"
   ]
  },
  {
   "cell_type": "code",
   "execution_count": 189,
   "id": "27ba5eb4",
   "metadata": {
    "ExecuteTime": {
     "end_time": "2021-11-24T07:12:29.397136Z",
     "start_time": "2021-11-24T07:12:29.385136Z"
    }
   },
   "outputs": [
    {
     "data": {
      "text/plain": [
       "array([0.27, 0.14, 0.26, 0.23, 0.11])"
      ]
     },
     "execution_count": 189,
     "metadata": {},
     "output_type": "execute_result"
    }
   ],
   "source": [
    "importances"
   ]
  },
  {
   "cell_type": "code",
   "execution_count": 42,
   "id": "ff6c83a5",
   "metadata": {
    "ExecuteTime": {
     "end_time": "2021-11-24T03:37:39.333831Z",
     "start_time": "2021-11-24T03:37:39.317809Z"
    }
   },
   "outputs": [
    {
     "data": {
      "text/plain": [
       "'\\n##선형\\n#주성분 분석\\n-비지도 학습\\n-클래스에 속한 샘플이 몇개 되지 않을때\\n#선형 판별 분석(LDA)\\n-지도학습\\n-규제가 없는 모델에서 차원의 저주로 인한 과대 적합 정도를 줄이고 계산 효율성을 높이기 위한 특성 추출 기법\\n#산포행렬\\n\\n##비선형\\n#커널 PCA\\n'"
      ]
     },
     "execution_count": 42,
     "metadata": {},
     "output_type": "execute_result"
    }
   ],
   "source": [
    "#차원 축소를 통한 데이터 압축\n",
    "\"\"\"\n",
    "##선형\n",
    "#주성분 분석\n",
    "-비지도 학습\n",
    "-클래스에 속한 샘플이 몇개 되지 않을때\n",
    "#선형 판별 분석(LDA)\n",
    "-지도학습\n",
    "-규제가 없는 모델에서 차원의 저주로 인한 과대 적합 정도를 줄이고 계산 효율성을 높이기 위한 특성 추출 기법\n",
    "\n",
    "##비선형\n",
    "#커널 PCA\n",
    "\"\"\""
   ]
  },
  {
   "cell_type": "code",
   "execution_count": 140,
   "id": "3bd175fe",
   "metadata": {
    "ExecuteTime": {
     "end_time": "2021-11-24T06:32:12.727907Z",
     "start_time": "2021-11-24T06:32:12.718897Z"
    }
   },
   "outputs": [],
   "source": [
    "#201P\n",
    "#분류모델 그래프를 그리기 위한 함수\n",
    "\n",
    "from matplotlib.colors import ListedColormap\n",
    "\n",
    "def plot_decision_regions(X, y, classifier, resolution=0.02):\n",
    "\n",
    "    # 마커와 컬러맵 준비\n",
    "    markers = ('s', 'x', 'o', '^', 'v')\n",
    "    colors = ('red', 'blue', 'lightgreen', 'gray', 'cyan')\n",
    "    cmap = ListedColormap(colors[:len(np.unique(y))])\n",
    "\n",
    "    # 결정 경계를 그리기\n",
    "    \n",
    "    x1_min, x1_max = X[:, 0].min() - 1, X[:, 0].max() + 1\n",
    "    x2_min, x2_max = X[:, 1].min() - 1, X[:, 1].max() + 1\n",
    "    #meshgrid( ) 함수는 2차원의 평면에 정사각형, 혹은 직사각형의 그리드(Grid)를 생성해주는 기능을 가진 함수    \n",
    "    xx1, xx2 = np.meshgrid(np.arange(x1_min, x1_max, resolution),\n",
    "                           np.arange(x2_min, x2_max, resolution))\n",
    "    #ravel()함수는 데이터를 평평하게 만들어주는 기능을 가짐\n",
    "    Z = classifier.predict(np.array([xx1.ravel(), xx2.ravel()]).T)\n",
    "    Z = Z.reshape(xx1.shape)\n",
    "    #contourf는 등고선을 그려주는 함수 인자는 반드시 2D여야 함\n",
    "    plt.contourf(xx1, xx2, Z, alpha=0.4, cmap=cmap)\n",
    "    plt.xlim(xx1.min(), xx1.max())\n",
    "    plt.ylim(xx2.min(), xx2.max())\n",
    "\n",
    "    # 클래스 샘플을 표시\n",
    "    for idx, cl in enumerate(np.unique(y)):\n",
    "        plt.scatter(x=X[y == cl, 0], \n",
    "                    y=X[y == cl, 1],\n",
    "                    alpha=0.6, \n",
    "                    c=cmap.colors[idx],\n",
    "                    edgecolor='black',\n",
    "                    marker=markers[idx], \n",
    "                    label=cl)"
   ]
  },
  {
   "cell_type": "code",
   "execution_count": 141,
   "id": "354b31be",
   "metadata": {
    "ExecuteTime": {
     "end_time": "2021-11-24T06:32:13.436015Z",
     "start_time": "2021-11-24T06:32:13.425932Z"
    }
   },
   "outputs": [
    {
     "data": {
      "text/plain": [
       "SeriousDlqin2yrs                        0\n",
       "RevolvingUtilizationOfUnsecuredLines    0\n",
       "age                                     0\n",
       "NumberOfTime30-59DaysPastDueNotWorse    0\n",
       "DebtRatio                               0\n",
       "MonthlyIncome                           0\n",
       "NumberOfOpenCreditLinesAndLoans         0\n",
       "NumberOfTimes90DaysLate                 0\n",
       "NumberRealEstateLoansOrLines            0\n",
       "NumberOfTime60-89DaysPastDueNotWorse    0\n",
       "NumberOfDependents                      0\n",
       "dtype: int64"
      ]
     },
     "execution_count": 141,
     "metadata": {},
     "output_type": "execute_result"
    }
   ],
   "source": [
    "drop_data.isna().sum()"
   ]
  },
  {
   "cell_type": "code",
   "execution_count": 142,
   "id": "1281d582",
   "metadata": {
    "ExecuteTime": {
     "end_time": "2021-11-24T06:32:14.353459Z",
     "start_time": "2021-11-24T06:32:14.345460Z"
    }
   },
   "outputs": [
    {
     "data": {
      "text/plain": [
       "((120269, 10), (120269,))"
      ]
     },
     "execution_count": 142,
     "metadata": {},
     "output_type": "execute_result"
    }
   ],
   "source": [
    "X.shape, y.shape"
   ]
  },
  {
   "cell_type": "code",
   "execution_count": 155,
   "id": "271d5284",
   "metadata": {
    "ExecuteTime": {
     "end_time": "2021-11-24T06:35:38.295152Z",
     "start_time": "2021-11-24T06:35:37.323154Z"
    }
   },
   "outputs": [
    {
     "name": "stderr",
     "output_type": "stream",
     "text": [
      "C:\\Users\\zuho0\\AppData\\Local\\Temp/ipykernel_33584/2924354127.py:30: UserWarning: You passed a edgecolor/edgecolors ('black') for an unfilled marker ('x').  Matplotlib is ignoring the edgecolor in favor of the facecolor.  This behavior may change in the future.\n",
      "  plt.scatter(x=X[y == cl, 0],\n"
     ]
    },
    {
     "data": {
      "image/png": "[encoded data removed]",
      "text/plain": [
       "<Figure size 432x288 with 1 Axes>"
      ]
     },
     "metadata": {
      "needs_background": "light"
     },
     "output_type": "display_data"
    }
   ],
   "source": [
    "#PCA(주성분 분석)\n",
    "from sklearn.model_selection import train_test_split\n",
    "X, y = drop_data.iloc[:, 1:], drop_data.iloc[:, 0].values\n",
    "X_train, X_test, y_train, y_test = train_test_split(X, y, test_size=0.3, \n",
    "                                                    stratify=y,\n",
    "                                                    random_state=0)\n",
    "\n",
    "#특성을 표준화 전처리\n",
    "std= StandardScaler()\n",
    "X_train_scaled = std.fit_transform(X_train)\n",
    "X_test_scaled = std.transform(X_test)\n",
    "\n",
    "#PCA\n",
    "from sklearn.linear_model import LogisticRegression\n",
    "from sklearn.decomposition import PCA\n",
    "\n",
    "#PCA 변환기와 로지스틱 회귀 추정기 초기화\n",
    "pca = PCA(n_components=2)\n",
    "lr = LogisticRegression(random_state=0)\n",
    "\n",
    "#차원 축소\n",
    "X_train_pca = pca.fit_transform(X_train_scaled)\n",
    "X_test_pca = pca.transform(X_test_scaled)\n",
    "\n",
    "#축소된 데이터셋으로 로지스틱 회귀모델 훈련\n",
    "lr.fit(X_train_pca, y_train)\n",
    "#결정경계 그리기\n",
    "plot_decision_regions(X_train_pca, y_train, classifier=lr)\n",
    "plt.xlabel('PC1')\n",
    "plt.ylabel('PC2')\n",
    "plt.legend(loc='lower left')\n",
    "plt.tight_layout()\n",
    "plt.show()"
   ]
  },
  {
   "cell_type": "code",
   "execution_count": 144,
   "id": "8daace00",
   "metadata": {
    "ExecuteTime": {
     "end_time": "2021-11-24T06:32:17.672886Z",
     "start_time": "2021-11-24T06:32:17.187875Z"
    }
   },
   "outputs": [
    {
     "name": "stderr",
     "output_type": "stream",
     "text": [
      "C:\\Users\\zuho0\\AppData\\Local\\Temp/ipykernel_33584/2924354127.py:30: UserWarning: You passed a edgecolor/edgecolors ('black') for an unfilled marker ('x').  Matplotlib is ignoring the edgecolor in favor of the facecolor.  This behavior may change in the future.\n",
      "  plt.scatter(x=X[y == cl, 0],\n"
     ]
    },
    {
     "data": {
      "image/png": "[encoded data removed]",
      "text/plain": [
       "<Figure size 432x288 with 1 Axes>"
      ]
     },
     "metadata": {
      "needs_background": "light"
     },
     "output_type": "display_data"
    }
   ],
   "source": [
    "#테스트 데이터셋 기준\n",
    "plot_decision_regions(X_test_pca, y_test, classifier=lr)\n",
    "plt.xlabel('PC1')\n",
    "plt.ylabel('PC2')\n",
    "plt.legend(loc='lower left')\n",
    "plt.tight_layout()\n",
    "plt.show()"
   ]
  },
  {
   "cell_type": "code",
   "execution_count": 156,
   "id": "e9e9313a",
   "metadata": {
    "ExecuteTime": {
     "end_time": "2021-11-24T06:35:48.918251Z",
     "start_time": "2021-11-24T06:35:48.914251Z"
    }
   },
   "outputs": [],
   "source": [
    "#주성분 분석을 이용한 분류는 매우 안좋게 나옴"
   ]
  },
  {
   "cell_type": "code",
   "execution_count": null,
   "id": "d0abb6d1",
   "metadata": {},
   "outputs": [],
   "source": [
    "#선형판별분석\n",
    "\"\"\"\n",
    "-데이터셋 표준화\n",
    "-각 클래스에 대해 d 차원의 평균벡터 계산\n",
    "-클래스 간의 산포 행렬 Sb와 클래스내 산포행렬 Sw를 구성\n",
    "-행렬의 고유벡터와 고윳값 계산\n",
    "-고윳값을 내림차순으로 정렬하여 고유 벡터의 순서를 매김\n",
    "-고윳값이 가장 큰 k개의 고유벡터를 선택하여 d x k 차원의 변환 행렬 w를 구성..\n",
    " 이 행렬의 열이 고유벡터\n",
    "-변환행렬 w를 사용해 샘플을 샐운 특성 부분 공간으로 투영\n",
    "\"\"\""
   ]
  },
  {
   "cell_type": "code",
   "execution_count": 130,
   "id": "48f6013e",
   "metadata": {
    "ExecuteTime": {
     "end_time": "2021-11-24T06:30:39.793193Z",
     "start_time": "2021-11-24T06:30:39.781164Z"
    }
   },
   "outputs": [
    {
     "data": {
      "text/plain": [
       "Index(['SeriousDlqin2yrs', 'RevolvingUtilizationOfUnsecuredLines', 'age',\n",
       "       'NumberOfTime30-59DaysPastDueNotWorse', 'DebtRatio', 'MonthlyIncome',\n",
       "       'NumberOfOpenCreditLinesAndLoans', 'NumberOfTimes90DaysLate',\n",
       "       'NumberRealEstateLoansOrLines', 'NumberOfTime60-89DaysPastDueNotWorse',\n",
       "       'NumberOfDependents'],\n",
       "      dtype='object')"
      ]
     },
     "execution_count": 130,
     "metadata": {},
     "output_type": "execute_result"
    }
   ],
   "source": [
    "drop_data.columns"
   ]
  },
  {
   "cell_type": "code",
   "execution_count": 147,
   "id": "b8dc3861",
   "metadata": {
    "ExecuteTime": {
     "end_time": "2021-11-24T06:33:20.739122Z",
     "start_time": "2021-11-24T06:33:20.593106Z"
    }
   },
   "outputs": [
    {
     "ename": "IndexError",
     "evalue": "index 1 is out of bounds for axis 1 with size 1",
     "output_type": "error",
     "traceback": [
      "\u001b[1;31m---------------------------------------------------------------------------\u001b[0m",
      "\u001b[1;31mIndexError\u001b[0m                                Traceback (most recent call last)",
      "\u001b[1;32m~\\AppData\\Local\\Temp/ipykernel_33584/4082212331.py\u001b[0m in \u001b[0;36m<module>\u001b[1;34m\u001b[0m\n\u001b[0;32m     20\u001b[0m \u001b[0mlr\u001b[0m \u001b[1;33m=\u001b[0m \u001b[0mlr\u001b[0m\u001b[1;33m.\u001b[0m\u001b[0mfit\u001b[0m\u001b[1;33m(\u001b[0m\u001b[0mX_train_lda\u001b[0m\u001b[1;33m,\u001b[0m \u001b[0my_train\u001b[0m\u001b[1;33m)\u001b[0m\u001b[1;33m\u001b[0m\u001b[1;33m\u001b[0m\u001b[0m\n\u001b[0;32m     21\u001b[0m \u001b[1;31m#아래 코드 안됨\u001b[0m\u001b[1;33m\u001b[0m\u001b[1;33m\u001b[0m\u001b[0m\n\u001b[1;32m---> 22\u001b[1;33m \u001b[0mplot_decision_regions\u001b[0m\u001b[1;33m(\u001b[0m\u001b[0mX_train_lda\u001b[0m\u001b[1;33m,\u001b[0m \u001b[0my_train\u001b[0m\u001b[1;33m,\u001b[0m \u001b[0mclassifier\u001b[0m\u001b[1;33m=\u001b[0m\u001b[0mlr\u001b[0m\u001b[1;33m)\u001b[0m\u001b[1;33m\u001b[0m\u001b[1;33m\u001b[0m\u001b[0m\n\u001b[0m\u001b[0;32m     23\u001b[0m \u001b[1;33m\u001b[0m\u001b[0m\n\u001b[0;32m     24\u001b[0m \u001b[0mplt\u001b[0m\u001b[1;33m.\u001b[0m\u001b[0mxlabel\u001b[0m\u001b[1;33m(\u001b[0m\u001b[1;34m'LD 1'\u001b[0m\u001b[1;33m)\u001b[0m\u001b[1;33m\u001b[0m\u001b[1;33m\u001b[0m\u001b[0m\n",
      "\u001b[1;32m~\\AppData\\Local\\Temp/ipykernel_33584/2924354127.py\u001b[0m in \u001b[0;36mplot_decision_regions\u001b[1;34m(X, y, classifier, resolution)\u001b[0m\n\u001b[0;32m     14\u001b[0m \u001b[1;33m\u001b[0m\u001b[0m\n\u001b[0;32m     15\u001b[0m     \u001b[0mx1_min\u001b[0m\u001b[1;33m,\u001b[0m \u001b[0mx1_max\u001b[0m \u001b[1;33m=\u001b[0m \u001b[0mX\u001b[0m\u001b[1;33m[\u001b[0m\u001b[1;33m:\u001b[0m\u001b[1;33m,\u001b[0m \u001b[1;36m0\u001b[0m\u001b[1;33m]\u001b[0m\u001b[1;33m.\u001b[0m\u001b[0mmin\u001b[0m\u001b[1;33m(\u001b[0m\u001b[1;33m)\u001b[0m \u001b[1;33m-\u001b[0m \u001b[1;36m1\u001b[0m\u001b[1;33m,\u001b[0m \u001b[0mX\u001b[0m\u001b[1;33m[\u001b[0m\u001b[1;33m:\u001b[0m\u001b[1;33m,\u001b[0m \u001b[1;36m0\u001b[0m\u001b[1;33m]\u001b[0m\u001b[1;33m.\u001b[0m\u001b[0mmax\u001b[0m\u001b[1;33m(\u001b[0m\u001b[1;33m)\u001b[0m \u001b[1;33m+\u001b[0m \u001b[1;36m1\u001b[0m\u001b[1;33m\u001b[0m\u001b[1;33m\u001b[0m\u001b[0m\n\u001b[1;32m---> 16\u001b[1;33m     \u001b[0mx2_min\u001b[0m\u001b[1;33m,\u001b[0m \u001b[0mx2_max\u001b[0m \u001b[1;33m=\u001b[0m \u001b[0mX\u001b[0m\u001b[1;33m[\u001b[0m\u001b[1;33m:\u001b[0m\u001b[1;33m,\u001b[0m \u001b[1;36m1\u001b[0m\u001b[1;33m]\u001b[0m\u001b[1;33m.\u001b[0m\u001b[0mmin\u001b[0m\u001b[1;33m(\u001b[0m\u001b[1;33m)\u001b[0m \u001b[1;33m-\u001b[0m \u001b[1;36m1\u001b[0m\u001b[1;33m,\u001b[0m \u001b[0mX\u001b[0m\u001b[1;33m[\u001b[0m\u001b[1;33m:\u001b[0m\u001b[1;33m,\u001b[0m \u001b[1;36m1\u001b[0m\u001b[1;33m]\u001b[0m\u001b[1;33m.\u001b[0m\u001b[0mmax\u001b[0m\u001b[1;33m(\u001b[0m\u001b[1;33m)\u001b[0m \u001b[1;33m+\u001b[0m \u001b[1;36m1\u001b[0m\u001b[1;33m\u001b[0m\u001b[1;33m\u001b[0m\u001b[0m\n\u001b[0m\u001b[0;32m     17\u001b[0m     \u001b[1;31m#meshgrid( ) 함수는 2차원의 평면에 정사각형, 혹은 직사각형의 그리드(Grid)를 생성해주는 기능을 가진 함수\u001b[0m\u001b[1;33m\u001b[0m\u001b[1;33m\u001b[0m\u001b[0m\n\u001b[0;32m     18\u001b[0m     xx1, xx2 = np.meshgrid(np.arange(x1_min, x1_max, resolution),\n",
      "\u001b[1;31mIndexError\u001b[0m: index 1 is out of bounds for axis 1 with size 1"
     ]
    }
   ],
   "source": [
    "#LDA\n",
    "from sklearn.discriminant_analysis import LinearDiscriminantAnalysis as LDA\n",
    "\n",
    "from sklearn.model_selection import train_test_split\n",
    "X, y = drop_data.iloc[:, 1:], drop_data.iloc[:, 0].values\n",
    "X_train, X_test, y_train, y_test = train_test_split(X, y, test_size=0.3, \n",
    "                                                    stratify=y,\n",
    "                                                    random_state=0)\n",
    "\n",
    "# 데이터 정규 스케일링\n",
    "std= StandardScaler()\n",
    "X_train_scaled = std.fit_transform(X_train)\n",
    "X_test_scaled = std.transform(X_test)\n",
    "\n",
    "# n_components로 주성분을 몇개로 할지 결정\n",
    "lda = LDA(n_components=1)\n",
    "X_train_lda = lda.fit_transform(X_train_scaled, y_train)\n",
    "\n",
    "lr = LogisticRegression(random_state=0)\n",
    "lr = lr.fit(X_train_lda, y_train)\n",
    "#아래 코드 안됨\n",
    "plot_decision_regions(X_train_lda, y_train, classifier=lr)\n",
    "    \n",
    "plt.xlabel('LD 1')\n",
    "plt.ylabel('LD 2')\n",
    "plt.legend(loc='lower left')\n",
    "plt.tight_layout()\n",
    "plt.show()"
   ]
  },
  {
   "cell_type": "code",
   "execution_count": 152,
   "id": "e57102e3",
   "metadata": {
    "ExecuteTime": {
     "end_time": "2021-11-24T06:34:03.126730Z",
     "start_time": "2021-11-24T06:34:03.113511Z"
    }
   },
   "outputs": [
    {
     "data": {
      "text/html": [
       "<div>\n",
       "<style scoped>\n",
       "    .dataframe tbody tr th:only-of-type {\n",
       "        vertical-align: middle;\n",
       "    }\n",
       "\n",
       "    .dataframe tbody tr th {\n",
       "        vertical-align: top;\n",
       "    }\n",
       "\n",
       "    .dataframe thead th {\n",
       "        text-align: right;\n",
       "    }\n",
       "</style>\n",
       "<table border=\"1\" class=\"dataframe\">\n",
       "  <thead>\n",
       "    <tr style=\"text-align: right;\">\n",
       "      <th></th>\n",
       "      <th>0</th>\n",
       "    </tr>\n",
       "  </thead>\n",
       "  <tbody>\n",
       "    <tr>\n",
       "      <th>0</th>\n",
       "      <td>-0.573178</td>\n",
       "    </tr>\n",
       "    <tr>\n",
       "      <th>1</th>\n",
       "      <td>1.004205</td>\n",
       "    </tr>\n",
       "    <tr>\n",
       "      <th>2</th>\n",
       "      <td>2.046455</td>\n",
       "    </tr>\n",
       "    <tr>\n",
       "      <th>3</th>\n",
       "      <td>-0.084336</td>\n",
       "    </tr>\n",
       "    <tr>\n",
       "      <th>4</th>\n",
       "      <td>-0.857725</td>\n",
       "    </tr>\n",
       "    <tr>\n",
       "      <th>...</th>\n",
       "      <td>...</td>\n",
       "    </tr>\n",
       "    <tr>\n",
       "      <th>84183</th>\n",
       "      <td>0.334759</td>\n",
       "    </tr>\n",
       "    <tr>\n",
       "      <th>84184</th>\n",
       "      <td>0.011466</td>\n",
       "    </tr>\n",
       "    <tr>\n",
       "      <th>84185</th>\n",
       "      <td>-0.038593</td>\n",
       "    </tr>\n",
       "    <tr>\n",
       "      <th>84186</th>\n",
       "      <td>0.030675</td>\n",
       "    </tr>\n",
       "    <tr>\n",
       "      <th>84187</th>\n",
       "      <td>0.421350</td>\n",
       "    </tr>\n",
       "  </tbody>\n",
       "</table>\n",
       "<p>84188 rows × 1 columns</p>\n",
       "</div>"
      ],
      "text/plain": [
       "              0\n",
       "0     -0.573178\n",
       "1      1.004205\n",
       "2      2.046455\n",
       "3     -0.084336\n",
       "4     -0.857725\n",
       "...         ...\n",
       "84183  0.334759\n",
       "84184  0.011466\n",
       "84185 -0.038593\n",
       "84186  0.030675\n",
       "84187  0.421350\n",
       "\n",
       "[84188 rows x 1 columns]"
      ]
     },
     "execution_count": 152,
     "metadata": {},
     "output_type": "execute_result"
    }
   ],
   "source": [
    "pd.DataFrame(X_train_lda)\n",
    "#LDA는 못쓰겠음"
   ]
  },
  {
   "cell_type": "code",
   "execution_count": 162,
   "id": "bb54d459",
   "metadata": {
    "ExecuteTime": {
     "end_time": "2021-11-24T06:38:41.035001Z",
     "start_time": "2021-11-24T06:38:41.023978Z"
    }
   },
   "outputs": [
    {
     "name": "stdout",
     "output_type": "stream",
     "text": [
      "에러\n"
     ]
    }
   ],
   "source": [
    "#LDA 책의 다른버전 못씀\n",
    "\n",
    "\"\"\"from sklearn.discriminant_analysis import LinearDiscriminantAnalysis\n",
    "from sklearn.preprocessing import StandardScaler\n",
    "from sklearn.datasets import load_iris\n",
    "import pandas as pd\n",
    "import matplotlib.pyplot as plt\n",
    "#notebook을 실행한 브라우저에서 바로 그림을 볼 수 있게 해주는 것\n",
    "%matplotlib inline\n",
    "\n",
    "from sklearn.model_selection import train_test_split\n",
    "X, y = drop_data.iloc[:, 1:], drop_data.iloc[:, 0].values\n",
    "X_train, X_test, y_train, y_test = train_test_split(X, y, test_size=0.3, \n",
    "                                                    stratify=y,\n",
    "                                                    random_state=0)\n",
    "\n",
    "# 데이터 정규 스케일링\n",
    "std= StandardScaler()\n",
    "X_train_scaled = std.fit_transform(X_train)\n",
    "X_test_scaled = std.transform(X_test)\n",
    "\n",
    "# 2개의 클래스로 구분하기 위한 LDA 생성\n",
    "# n_components로 주성분을 몇개로 할지 결정\n",
    "lda = LinearDiscriminantAnalysis(n_components=2)\n",
    "\n",
    "#학습\n",
    "lda.fit(X_train_scaled, y_train)\n",
    "lda_train = lda.transform(X_train_scaled)\n",
    "\n",
    "lr=LogisticRegression(random_state=2)\n",
    "lr = lr.fit()\n",
    "\n",
    "# fit()호출 시 target값 입력 \n",
    "#lda.fit(iris_scaled, iris.target)\n",
    "#iris_lda = lda.transform(iris_scaled)\n",
    "\n",
    "lda_columns=['lda_component_1','lda_component_2']\n",
    "lda_df = pd.DataFrame(lda_train, columns=lda_columns)\n",
    "lda_df['target']=y_train\n",
    "\n",
    "markers=['^', 's', 'o']\n",
    "#target 값은 0, 그외는 1~ 각 target 별로 다른 shape으로 scatter plot\n",
    "for i, marker in enumerate(markers):\n",
    "    x_axis_data = lda_df[lda_df['target']==i]['lda_component_1']\n",
    "    y_axis_data = lda_df[lda_df['target']==i]['lda_component_2']\n",
    "\n",
    "    plt.scatter(x_axis_data, y_axis_data, marker=marker, label=drop_data.columns[i])\n",
    "                #label=iris.target_names[i])\n",
    "\n",
    "plt.legend(loc='upper right')\n",
    "plt.xlabel('lda_component_1')\n",
    "plt.ylabel('lda_component_2')\n",
    "plt.show()\n",
    "\"\"\"\n",
    "print('에러')"
   ]
  },
  {
   "cell_type": "code",
   "execution_count": 167,
   "id": "a97595b3",
   "metadata": {
    "ExecuteTime": {
     "end_time": "2021-11-24T06:51:19.759810Z",
     "start_time": "2021-11-24T06:50:59.983227Z"
    }
   },
   "outputs": [
    {
     "ename": "MemoryError",
     "evalue": "Unable to allocate 2.20 GiB for an array with shape (84188, 3508) and data type float64",
     "output_type": "error",
     "traceback": [
      "\u001b[1;31m---------------------------------------------------------------------------\u001b[0m",
      "\u001b[1;31mMemoryError\u001b[0m                               Traceback (most recent call last)",
      "\u001b[1;32m~\\AppData\\Local\\Temp/ipykernel_33584/1550977438.py\u001b[0m in \u001b[0;36m<module>\u001b[1;34m\u001b[0m\n\u001b[0;32m     24\u001b[0m                         \u001b[0mn_jobs\u001b[0m\u001b[1;33m=\u001b[0m\u001b[1;33m-\u001b[0m\u001b[1;36m1\u001b[0m\u001b[1;33m\u001b[0m\u001b[1;33m\u001b[0m\u001b[0m\n\u001b[0;32m     25\u001b[0m                        )\n\u001b[1;32m---> 26\u001b[1;33m \u001b[0mX_skernpca\u001b[0m \u001b[1;33m=\u001b[0m \u001b[0mscikit_kpca\u001b[0m\u001b[1;33m.\u001b[0m\u001b[0mfit_transform\u001b[0m\u001b[1;33m(\u001b[0m\u001b[0mX_train_scaled\u001b[0m\u001b[1;33m)\u001b[0m\u001b[1;33m\u001b[0m\u001b[1;33m\u001b[0m\u001b[0m\n\u001b[0m\u001b[0;32m     27\u001b[0m \u001b[1;33m\u001b[0m\u001b[0m\n\u001b[0;32m     28\u001b[0m plt.scatter(X_skernpca[y==0, 0], X_sklernpca[y==0, 1],\n",
      "\u001b[1;32mD:\\Program_Files\\anaconda3\\lib\\site-packages\\sklearn\\decomposition\\_kernel_pca.py\u001b[0m in \u001b[0;36mfit_transform\u001b[1;34m(self, X, y, **params)\u001b[0m\n\u001b[0;32m    454\u001b[0m             \u001b[0mReturns\u001b[0m \u001b[0mthe\u001b[0m \u001b[0minstance\u001b[0m \u001b[0mitself\u001b[0m\u001b[1;33m.\u001b[0m\u001b[1;33m\u001b[0m\u001b[1;33m\u001b[0m\u001b[0m\n\u001b[0;32m    455\u001b[0m         \"\"\"\n\u001b[1;32m--> 456\u001b[1;33m         \u001b[0mself\u001b[0m\u001b[1;33m.\u001b[0m\u001b[0mfit\u001b[0m\u001b[1;33m(\u001b[0m\u001b[0mX\u001b[0m\u001b[1;33m,\u001b[0m \u001b[1;33m**\u001b[0m\u001b[0mparams\u001b[0m\u001b[1;33m)\u001b[0m\u001b[1;33m\u001b[0m\u001b[1;33m\u001b[0m\u001b[0m\n\u001b[0m\u001b[0;32m    457\u001b[0m \u001b[1;33m\u001b[0m\u001b[0m\n\u001b[0;32m    458\u001b[0m         \u001b[1;31m# no need to use the kernel to transform X, use shortcut expression\u001b[0m\u001b[1;33m\u001b[0m\u001b[1;33m\u001b[0m\u001b[0m\n",
      "\u001b[1;32mD:\\Program_Files\\anaconda3\\lib\\site-packages\\sklearn\\decomposition\\_kernel_pca.py\u001b[0m in \u001b[0;36mfit\u001b[1;34m(self, X, y)\u001b[0m\n\u001b[0;32m    421\u001b[0m         \u001b[0mX\u001b[0m \u001b[1;33m=\u001b[0m \u001b[0mself\u001b[0m\u001b[1;33m.\u001b[0m\u001b[0m_validate_data\u001b[0m\u001b[1;33m(\u001b[0m\u001b[0mX\u001b[0m\u001b[1;33m,\u001b[0m \u001b[0maccept_sparse\u001b[0m\u001b[1;33m=\u001b[0m\u001b[1;34m\"csr\"\u001b[0m\u001b[1;33m,\u001b[0m \u001b[0mcopy\u001b[0m\u001b[1;33m=\u001b[0m\u001b[0mself\u001b[0m\u001b[1;33m.\u001b[0m\u001b[0mcopy_X\u001b[0m\u001b[1;33m)\u001b[0m\u001b[1;33m\u001b[0m\u001b[1;33m\u001b[0m\u001b[0m\n\u001b[0;32m    422\u001b[0m         \u001b[0mself\u001b[0m\u001b[1;33m.\u001b[0m\u001b[0m_centerer\u001b[0m \u001b[1;33m=\u001b[0m \u001b[0mKernelCenterer\u001b[0m\u001b[1;33m(\u001b[0m\u001b[1;33m)\u001b[0m\u001b[1;33m\u001b[0m\u001b[1;33m\u001b[0m\u001b[0m\n\u001b[1;32m--> 423\u001b[1;33m         \u001b[0mK\u001b[0m \u001b[1;33m=\u001b[0m \u001b[0mself\u001b[0m\u001b[1;33m.\u001b[0m\u001b[0m_get_kernel\u001b[0m\u001b[1;33m(\u001b[0m\u001b[0mX\u001b[0m\u001b[1;33m)\u001b[0m\u001b[1;33m\u001b[0m\u001b[1;33m\u001b[0m\u001b[0m\n\u001b[0m\u001b[0;32m    424\u001b[0m         \u001b[0mself\u001b[0m\u001b[1;33m.\u001b[0m\u001b[0m_fit_transform\u001b[0m\u001b[1;33m(\u001b[0m\u001b[0mK\u001b[0m\u001b[1;33m)\u001b[0m\u001b[1;33m\u001b[0m\u001b[1;33m\u001b[0m\u001b[0m\n\u001b[0;32m    425\u001b[0m \u001b[1;33m\u001b[0m\u001b[0m\n",
      "\u001b[1;32mD:\\Program_Files\\anaconda3\\lib\\site-packages\\sklearn\\decomposition\\_kernel_pca.py\u001b[0m in \u001b[0;36m_get_kernel\u001b[1;34m(self, X, Y)\u001b[0m\n\u001b[0;32m    300\u001b[0m         \u001b[1;32melse\u001b[0m\u001b[1;33m:\u001b[0m\u001b[1;33m\u001b[0m\u001b[1;33m\u001b[0m\u001b[0m\n\u001b[0;32m    301\u001b[0m             \u001b[0mparams\u001b[0m \u001b[1;33m=\u001b[0m \u001b[1;33m{\u001b[0m\u001b[1;34m\"gamma\"\u001b[0m\u001b[1;33m:\u001b[0m \u001b[0mself\u001b[0m\u001b[1;33m.\u001b[0m\u001b[0mgamma\u001b[0m\u001b[1;33m,\u001b[0m \u001b[1;34m\"degree\"\u001b[0m\u001b[1;33m:\u001b[0m \u001b[0mself\u001b[0m\u001b[1;33m.\u001b[0m\u001b[0mdegree\u001b[0m\u001b[1;33m,\u001b[0m \u001b[1;34m\"coef0\"\u001b[0m\u001b[1;33m:\u001b[0m \u001b[0mself\u001b[0m\u001b[1;33m.\u001b[0m\u001b[0mcoef0\u001b[0m\u001b[1;33m}\u001b[0m\u001b[1;33m\u001b[0m\u001b[1;33m\u001b[0m\u001b[0m\n\u001b[1;32m--> 302\u001b[1;33m         return pairwise_kernels(\n\u001b[0m\u001b[0;32m    303\u001b[0m             \u001b[0mX\u001b[0m\u001b[1;33m,\u001b[0m \u001b[0mY\u001b[0m\u001b[1;33m,\u001b[0m \u001b[0mmetric\u001b[0m\u001b[1;33m=\u001b[0m\u001b[0mself\u001b[0m\u001b[1;33m.\u001b[0m\u001b[0mkernel\u001b[0m\u001b[1;33m,\u001b[0m \u001b[0mfilter_params\u001b[0m\u001b[1;33m=\u001b[0m\u001b[1;32mTrue\u001b[0m\u001b[1;33m,\u001b[0m \u001b[0mn_jobs\u001b[0m\u001b[1;33m=\u001b[0m\u001b[0mself\u001b[0m\u001b[1;33m.\u001b[0m\u001b[0mn_jobs\u001b[0m\u001b[1;33m,\u001b[0m \u001b[1;33m**\u001b[0m\u001b[0mparams\u001b[0m\u001b[1;33m\u001b[0m\u001b[1;33m\u001b[0m\u001b[0m\n\u001b[0;32m    304\u001b[0m         )\n",
      "\u001b[1;32mD:\\Program_Files\\anaconda3\\lib\\site-packages\\sklearn\\metrics\\pairwise.py\u001b[0m in \u001b[0;36mpairwise_kernels\u001b[1;34m(X, Y, metric, filter_params, n_jobs, **kwds)\u001b[0m\n\u001b[0;32m   2046\u001b[0m         \u001b[1;32mraise\u001b[0m \u001b[0mValueError\u001b[0m\u001b[1;33m(\u001b[0m\u001b[1;34m\"Unknown kernel %r\"\u001b[0m \u001b[1;33m%\u001b[0m \u001b[0mmetric\u001b[0m\u001b[1;33m)\u001b[0m\u001b[1;33m\u001b[0m\u001b[1;33m\u001b[0m\u001b[0m\n\u001b[0;32m   2047\u001b[0m \u001b[1;33m\u001b[0m\u001b[0m\n\u001b[1;32m-> 2048\u001b[1;33m     \u001b[1;32mreturn\u001b[0m \u001b[0m_parallel_pairwise\u001b[0m\u001b[1;33m(\u001b[0m\u001b[0mX\u001b[0m\u001b[1;33m,\u001b[0m \u001b[0mY\u001b[0m\u001b[1;33m,\u001b[0m \u001b[0mfunc\u001b[0m\u001b[1;33m,\u001b[0m \u001b[0mn_jobs\u001b[0m\u001b[1;33m,\u001b[0m \u001b[1;33m**\u001b[0m\u001b[0mkwds\u001b[0m\u001b[1;33m)\u001b[0m\u001b[1;33m\u001b[0m\u001b[1;33m\u001b[0m\u001b[0m\n\u001b[0m",
      "\u001b[1;32mD:\\Program_Files\\anaconda3\\lib\\site-packages\\sklearn\\metrics\\pairwise.py\u001b[0m in \u001b[0;36m_parallel_pairwise\u001b[1;34m(X, Y, func, n_jobs, **kwds)\u001b[0m\n\u001b[0;32m   1428\u001b[0m     \u001b[0mfd\u001b[0m \u001b[1;33m=\u001b[0m \u001b[0mdelayed\u001b[0m\u001b[1;33m(\u001b[0m\u001b[0m_dist_wrapper\u001b[0m\u001b[1;33m)\u001b[0m\u001b[1;33m\u001b[0m\u001b[1;33m\u001b[0m\u001b[0m\n\u001b[0;32m   1429\u001b[0m     \u001b[0mret\u001b[0m \u001b[1;33m=\u001b[0m \u001b[0mnp\u001b[0m\u001b[1;33m.\u001b[0m\u001b[0mempty\u001b[0m\u001b[1;33m(\u001b[0m\u001b[1;33m(\u001b[0m\u001b[0mX\u001b[0m\u001b[1;33m.\u001b[0m\u001b[0mshape\u001b[0m\u001b[1;33m[\u001b[0m\u001b[1;36m0\u001b[0m\u001b[1;33m]\u001b[0m\u001b[1;33m,\u001b[0m \u001b[0mY\u001b[0m\u001b[1;33m.\u001b[0m\u001b[0mshape\u001b[0m\u001b[1;33m[\u001b[0m\u001b[1;36m0\u001b[0m\u001b[1;33m]\u001b[0m\u001b[1;33m)\u001b[0m\u001b[1;33m,\u001b[0m \u001b[0mdtype\u001b[0m\u001b[1;33m=\u001b[0m\u001b[0mdtype\u001b[0m\u001b[1;33m,\u001b[0m \u001b[0morder\u001b[0m\u001b[1;33m=\u001b[0m\u001b[1;34m\"F\"\u001b[0m\u001b[1;33m)\u001b[0m\u001b[1;33m\u001b[0m\u001b[1;33m\u001b[0m\u001b[0m\n\u001b[1;32m-> 1430\u001b[1;33m     Parallel(backend=\"threading\", n_jobs=n_jobs)(\n\u001b[0m\u001b[0;32m   1431\u001b[0m         \u001b[0mfd\u001b[0m\u001b[1;33m(\u001b[0m\u001b[0mfunc\u001b[0m\u001b[1;33m,\u001b[0m \u001b[0mret\u001b[0m\u001b[1;33m,\u001b[0m \u001b[0ms\u001b[0m\u001b[1;33m,\u001b[0m \u001b[0mX\u001b[0m\u001b[1;33m,\u001b[0m \u001b[0mY\u001b[0m\u001b[1;33m[\u001b[0m\u001b[0ms\u001b[0m\u001b[1;33m]\u001b[0m\u001b[1;33m,\u001b[0m \u001b[1;33m**\u001b[0m\u001b[0mkwds\u001b[0m\u001b[1;33m)\u001b[0m\u001b[1;33m\u001b[0m\u001b[1;33m\u001b[0m\u001b[0m\n\u001b[0;32m   1432\u001b[0m         \u001b[1;32mfor\u001b[0m \u001b[0ms\u001b[0m \u001b[1;32min\u001b[0m \u001b[0mgen_even_slices\u001b[0m\u001b[1;33m(\u001b[0m\u001b[0m_num_samples\u001b[0m\u001b[1;33m(\u001b[0m\u001b[0mY\u001b[0m\u001b[1;33m)\u001b[0m\u001b[1;33m,\u001b[0m \u001b[0meffective_n_jobs\u001b[0m\u001b[1;33m(\u001b[0m\u001b[0mn_jobs\u001b[0m\u001b[1;33m)\u001b[0m\u001b[1;33m)\u001b[0m\u001b[1;33m\u001b[0m\u001b[1;33m\u001b[0m\u001b[0m\n",
      "\u001b[1;32mD:\\Program_Files\\anaconda3\\lib\\site-packages\\joblib\\parallel.py\u001b[0m in \u001b[0;36m__call__\u001b[1;34m(self, iterable)\u001b[0m\n\u001b[0;32m   1054\u001b[0m \u001b[1;33m\u001b[0m\u001b[0m\n\u001b[0;32m   1055\u001b[0m             \u001b[1;32mwith\u001b[0m \u001b[0mself\u001b[0m\u001b[1;33m.\u001b[0m\u001b[0m_backend\u001b[0m\u001b[1;33m.\u001b[0m\u001b[0mretrieval_context\u001b[0m\u001b[1;33m(\u001b[0m\u001b[1;33m)\u001b[0m\u001b[1;33m:\u001b[0m\u001b[1;33m\u001b[0m\u001b[1;33m\u001b[0m\u001b[0m\n\u001b[1;32m-> 1056\u001b[1;33m                 \u001b[0mself\u001b[0m\u001b[1;33m.\u001b[0m\u001b[0mretrieve\u001b[0m\u001b[1;33m(\u001b[0m\u001b[1;33m)\u001b[0m\u001b[1;33m\u001b[0m\u001b[1;33m\u001b[0m\u001b[0m\n\u001b[0m\u001b[0;32m   1057\u001b[0m             \u001b[1;31m# Make sure that we get a last message telling us we are done\u001b[0m\u001b[1;33m\u001b[0m\u001b[1;33m\u001b[0m\u001b[0m\n\u001b[0;32m   1058\u001b[0m             \u001b[0melapsed_time\u001b[0m \u001b[1;33m=\u001b[0m \u001b[0mtime\u001b[0m\u001b[1;33m.\u001b[0m\u001b[0mtime\u001b[0m\u001b[1;33m(\u001b[0m\u001b[1;33m)\u001b[0m \u001b[1;33m-\u001b[0m \u001b[0mself\u001b[0m\u001b[1;33m.\u001b[0m\u001b[0m_start_time\u001b[0m\u001b[1;33m\u001b[0m\u001b[1;33m\u001b[0m\u001b[0m\n",
      "\u001b[1;32mD:\\Program_Files\\anaconda3\\lib\\site-packages\\joblib\\parallel.py\u001b[0m in \u001b[0;36mretrieve\u001b[1;34m(self)\u001b[0m\n\u001b[0;32m    933\u001b[0m             \u001b[1;32mtry\u001b[0m\u001b[1;33m:\u001b[0m\u001b[1;33m\u001b[0m\u001b[1;33m\u001b[0m\u001b[0m\n\u001b[0;32m    934\u001b[0m                 \u001b[1;32mif\u001b[0m \u001b[0mgetattr\u001b[0m\u001b[1;33m(\u001b[0m\u001b[0mself\u001b[0m\u001b[1;33m.\u001b[0m\u001b[0m_backend\u001b[0m\u001b[1;33m,\u001b[0m \u001b[1;34m'supports_timeout'\u001b[0m\u001b[1;33m,\u001b[0m \u001b[1;32mFalse\u001b[0m\u001b[1;33m)\u001b[0m\u001b[1;33m:\u001b[0m\u001b[1;33m\u001b[0m\u001b[1;33m\u001b[0m\u001b[0m\n\u001b[1;32m--> 935\u001b[1;33m                     \u001b[0mself\u001b[0m\u001b[1;33m.\u001b[0m\u001b[0m_output\u001b[0m\u001b[1;33m.\u001b[0m\u001b[0mextend\u001b[0m\u001b[1;33m(\u001b[0m\u001b[0mjob\u001b[0m\u001b[1;33m.\u001b[0m\u001b[0mget\u001b[0m\u001b[1;33m(\u001b[0m\u001b[0mtimeout\u001b[0m\u001b[1;33m=\u001b[0m\u001b[0mself\u001b[0m\u001b[1;33m.\u001b[0m\u001b[0mtimeout\u001b[0m\u001b[1;33m)\u001b[0m\u001b[1;33m)\u001b[0m\u001b[1;33m\u001b[0m\u001b[1;33m\u001b[0m\u001b[0m\n\u001b[0m\u001b[0;32m    936\u001b[0m                 \u001b[1;32melse\u001b[0m\u001b[1;33m:\u001b[0m\u001b[1;33m\u001b[0m\u001b[1;33m\u001b[0m\u001b[0m\n\u001b[0;32m    937\u001b[0m                     \u001b[0mself\u001b[0m\u001b[1;33m.\u001b[0m\u001b[0m_output\u001b[0m\u001b[1;33m.\u001b[0m\u001b[0mextend\u001b[0m\u001b[1;33m(\u001b[0m\u001b[0mjob\u001b[0m\u001b[1;33m.\u001b[0m\u001b[0mget\u001b[0m\u001b[1;33m(\u001b[0m\u001b[1;33m)\u001b[0m\u001b[1;33m)\u001b[0m\u001b[1;33m\u001b[0m\u001b[1;33m\u001b[0m\u001b[0m\n",
      "\u001b[1;32mD:\\Program_Files\\anaconda3\\lib\\multiprocessing\\pool.py\u001b[0m in \u001b[0;36mget\u001b[1;34m(self, timeout)\u001b[0m\n\u001b[0;32m    769\u001b[0m             \u001b[1;32mreturn\u001b[0m \u001b[0mself\u001b[0m\u001b[1;33m.\u001b[0m\u001b[0m_value\u001b[0m\u001b[1;33m\u001b[0m\u001b[1;33m\u001b[0m\u001b[0m\n\u001b[0;32m    770\u001b[0m         \u001b[1;32melse\u001b[0m\u001b[1;33m:\u001b[0m\u001b[1;33m\u001b[0m\u001b[1;33m\u001b[0m\u001b[0m\n\u001b[1;32m--> 771\u001b[1;33m             \u001b[1;32mraise\u001b[0m \u001b[0mself\u001b[0m\u001b[1;33m.\u001b[0m\u001b[0m_value\u001b[0m\u001b[1;33m\u001b[0m\u001b[1;33m\u001b[0m\u001b[0m\n\u001b[0m\u001b[0;32m    772\u001b[0m \u001b[1;33m\u001b[0m\u001b[0m\n\u001b[0;32m    773\u001b[0m     \u001b[1;32mdef\u001b[0m \u001b[0m_set\u001b[0m\u001b[1;33m(\u001b[0m\u001b[0mself\u001b[0m\u001b[1;33m,\u001b[0m \u001b[0mi\u001b[0m\u001b[1;33m,\u001b[0m \u001b[0mobj\u001b[0m\u001b[1;33m)\u001b[0m\u001b[1;33m:\u001b[0m\u001b[1;33m\u001b[0m\u001b[1;33m\u001b[0m\u001b[0m\n",
      "\u001b[1;32mD:\\Program_Files\\anaconda3\\lib\\multiprocessing\\pool.py\u001b[0m in \u001b[0;36mworker\u001b[1;34m(inqueue, outqueue, initializer, initargs, maxtasks, wrap_exception)\u001b[0m\n\u001b[0;32m    123\u001b[0m         \u001b[0mjob\u001b[0m\u001b[1;33m,\u001b[0m \u001b[0mi\u001b[0m\u001b[1;33m,\u001b[0m \u001b[0mfunc\u001b[0m\u001b[1;33m,\u001b[0m \u001b[0margs\u001b[0m\u001b[1;33m,\u001b[0m \u001b[0mkwds\u001b[0m \u001b[1;33m=\u001b[0m \u001b[0mtask\u001b[0m\u001b[1;33m\u001b[0m\u001b[1;33m\u001b[0m\u001b[0m\n\u001b[0;32m    124\u001b[0m         \u001b[1;32mtry\u001b[0m\u001b[1;33m:\u001b[0m\u001b[1;33m\u001b[0m\u001b[1;33m\u001b[0m\u001b[0m\n\u001b[1;32m--> 125\u001b[1;33m             \u001b[0mresult\u001b[0m \u001b[1;33m=\u001b[0m \u001b[1;33m(\u001b[0m\u001b[1;32mTrue\u001b[0m\u001b[1;33m,\u001b[0m \u001b[0mfunc\u001b[0m\u001b[1;33m(\u001b[0m\u001b[1;33m*\u001b[0m\u001b[0margs\u001b[0m\u001b[1;33m,\u001b[0m \u001b[1;33m**\u001b[0m\u001b[0mkwds\u001b[0m\u001b[1;33m)\u001b[0m\u001b[1;33m)\u001b[0m\u001b[1;33m\u001b[0m\u001b[1;33m\u001b[0m\u001b[0m\n\u001b[0m\u001b[0;32m    126\u001b[0m         \u001b[1;32mexcept\u001b[0m \u001b[0mException\u001b[0m \u001b[1;32mas\u001b[0m \u001b[0me\u001b[0m\u001b[1;33m:\u001b[0m\u001b[1;33m\u001b[0m\u001b[1;33m\u001b[0m\u001b[0m\n\u001b[0;32m    127\u001b[0m             \u001b[1;32mif\u001b[0m \u001b[0mwrap_exception\u001b[0m \u001b[1;32mand\u001b[0m \u001b[0mfunc\u001b[0m \u001b[1;32mis\u001b[0m \u001b[1;32mnot\u001b[0m \u001b[0m_helper_reraises_exception\u001b[0m\u001b[1;33m:\u001b[0m\u001b[1;33m\u001b[0m\u001b[1;33m\u001b[0m\u001b[0m\n",
      "\u001b[1;32mD:\\Program_Files\\anaconda3\\lib\\site-packages\\joblib\\_parallel_backends.py\u001b[0m in \u001b[0;36m__call__\u001b[1;34m(self, *args, **kwargs)\u001b[0m\n\u001b[0;32m    593\u001b[0m     \u001b[1;32mdef\u001b[0m \u001b[0m__call__\u001b[0m\u001b[1;33m(\u001b[0m\u001b[0mself\u001b[0m\u001b[1;33m,\u001b[0m \u001b[1;33m*\u001b[0m\u001b[0margs\u001b[0m\u001b[1;33m,\u001b[0m \u001b[1;33m**\u001b[0m\u001b[0mkwargs\u001b[0m\u001b[1;33m)\u001b[0m\u001b[1;33m:\u001b[0m\u001b[1;33m\u001b[0m\u001b[1;33m\u001b[0m\u001b[0m\n\u001b[0;32m    594\u001b[0m         \u001b[1;32mtry\u001b[0m\u001b[1;33m:\u001b[0m\u001b[1;33m\u001b[0m\u001b[1;33m\u001b[0m\u001b[0m\n\u001b[1;32m--> 595\u001b[1;33m             \u001b[1;32mreturn\u001b[0m \u001b[0mself\u001b[0m\u001b[1;33m.\u001b[0m\u001b[0mfunc\u001b[0m\u001b[1;33m(\u001b[0m\u001b[1;33m*\u001b[0m\u001b[0margs\u001b[0m\u001b[1;33m,\u001b[0m \u001b[1;33m**\u001b[0m\u001b[0mkwargs\u001b[0m\u001b[1;33m)\u001b[0m\u001b[1;33m\u001b[0m\u001b[1;33m\u001b[0m\u001b[0m\n\u001b[0m\u001b[0;32m    596\u001b[0m         \u001b[1;32mexcept\u001b[0m \u001b[0mKeyboardInterrupt\u001b[0m \u001b[1;32mas\u001b[0m \u001b[0me\u001b[0m\u001b[1;33m:\u001b[0m\u001b[1;33m\u001b[0m\u001b[1;33m\u001b[0m\u001b[0m\n\u001b[0;32m    597\u001b[0m             \u001b[1;31m# We capture the KeyboardInterrupt and reraise it as\u001b[0m\u001b[1;33m\u001b[0m\u001b[1;33m\u001b[0m\u001b[0m\n",
      "\u001b[1;32mD:\\Program_Files\\anaconda3\\lib\\site-packages\\joblib\\parallel.py\u001b[0m in \u001b[0;36m__call__\u001b[1;34m(self)\u001b[0m\n\u001b[0;32m    260\u001b[0m         \u001b[1;31m# change the default number of processes to -1\u001b[0m\u001b[1;33m\u001b[0m\u001b[1;33m\u001b[0m\u001b[0m\n\u001b[0;32m    261\u001b[0m         \u001b[1;32mwith\u001b[0m \u001b[0mparallel_backend\u001b[0m\u001b[1;33m(\u001b[0m\u001b[0mself\u001b[0m\u001b[1;33m.\u001b[0m\u001b[0m_backend\u001b[0m\u001b[1;33m,\u001b[0m \u001b[0mn_jobs\u001b[0m\u001b[1;33m=\u001b[0m\u001b[0mself\u001b[0m\u001b[1;33m.\u001b[0m\u001b[0m_n_jobs\u001b[0m\u001b[1;33m)\u001b[0m\u001b[1;33m:\u001b[0m\u001b[1;33m\u001b[0m\u001b[1;33m\u001b[0m\u001b[0m\n\u001b[1;32m--> 262\u001b[1;33m             return [func(*args, **kwargs)\n\u001b[0m\u001b[0;32m    263\u001b[0m                     for func, args, kwargs in self.items]\n\u001b[0;32m    264\u001b[0m \u001b[1;33m\u001b[0m\u001b[0m\n",
      "\u001b[1;32mD:\\Program_Files\\anaconda3\\lib\\site-packages\\joblib\\parallel.py\u001b[0m in \u001b[0;36m<listcomp>\u001b[1;34m(.0)\u001b[0m\n\u001b[0;32m    260\u001b[0m         \u001b[1;31m# change the default number of processes to -1\u001b[0m\u001b[1;33m\u001b[0m\u001b[1;33m\u001b[0m\u001b[0m\n\u001b[0;32m    261\u001b[0m         \u001b[1;32mwith\u001b[0m \u001b[0mparallel_backend\u001b[0m\u001b[1;33m(\u001b[0m\u001b[0mself\u001b[0m\u001b[1;33m.\u001b[0m\u001b[0m_backend\u001b[0m\u001b[1;33m,\u001b[0m \u001b[0mn_jobs\u001b[0m\u001b[1;33m=\u001b[0m\u001b[0mself\u001b[0m\u001b[1;33m.\u001b[0m\u001b[0m_n_jobs\u001b[0m\u001b[1;33m)\u001b[0m\u001b[1;33m:\u001b[0m\u001b[1;33m\u001b[0m\u001b[1;33m\u001b[0m\u001b[0m\n\u001b[1;32m--> 262\u001b[1;33m             return [func(*args, **kwargs)\n\u001b[0m\u001b[0;32m    263\u001b[0m                     for func, args, kwargs in self.items]\n\u001b[0;32m    264\u001b[0m \u001b[1;33m\u001b[0m\u001b[0m\n",
      "\u001b[1;32mD:\\Program_Files\\anaconda3\\lib\\site-packages\\sklearn\\utils\\fixes.py\u001b[0m in \u001b[0;36m__call__\u001b[1;34m(self, *args, **kwargs)\u001b[0m\n\u001b[0;32m    209\u001b[0m     \u001b[1;32mdef\u001b[0m \u001b[0m__call__\u001b[0m\u001b[1;33m(\u001b[0m\u001b[0mself\u001b[0m\u001b[1;33m,\u001b[0m \u001b[1;33m*\u001b[0m\u001b[0margs\u001b[0m\u001b[1;33m,\u001b[0m \u001b[1;33m**\u001b[0m\u001b[0mkwargs\u001b[0m\u001b[1;33m)\u001b[0m\u001b[1;33m:\u001b[0m\u001b[1;33m\u001b[0m\u001b[1;33m\u001b[0m\u001b[0m\n\u001b[0;32m    210\u001b[0m         \u001b[1;32mwith\u001b[0m \u001b[0mconfig_context\u001b[0m\u001b[1;33m(\u001b[0m\u001b[1;33m**\u001b[0m\u001b[0mself\u001b[0m\u001b[1;33m.\u001b[0m\u001b[0mconfig\u001b[0m\u001b[1;33m)\u001b[0m\u001b[1;33m:\u001b[0m\u001b[1;33m\u001b[0m\u001b[1;33m\u001b[0m\u001b[0m\n\u001b[1;32m--> 211\u001b[1;33m             \u001b[1;32mreturn\u001b[0m \u001b[0mself\u001b[0m\u001b[1;33m.\u001b[0m\u001b[0mfunction\u001b[0m\u001b[1;33m(\u001b[0m\u001b[1;33m*\u001b[0m\u001b[0margs\u001b[0m\u001b[1;33m,\u001b[0m \u001b[1;33m**\u001b[0m\u001b[0mkwargs\u001b[0m\u001b[1;33m)\u001b[0m\u001b[1;33m\u001b[0m\u001b[1;33m\u001b[0m\u001b[0m\n\u001b[0m\u001b[0;32m    212\u001b[0m \u001b[1;33m\u001b[0m\u001b[0m\n\u001b[0;32m    213\u001b[0m \u001b[1;33m\u001b[0m\u001b[0m\n",
      "\u001b[1;32mD:\\Program_Files\\anaconda3\\lib\\site-packages\\sklearn\\metrics\\pairwise.py\u001b[0m in \u001b[0;36m_dist_wrapper\u001b[1;34m(dist_func, dist_matrix, slice_, *args, **kwargs)\u001b[0m\n\u001b[0;32m   1411\u001b[0m \u001b[1;32mdef\u001b[0m \u001b[0m_dist_wrapper\u001b[0m\u001b[1;33m(\u001b[0m\u001b[0mdist_func\u001b[0m\u001b[1;33m,\u001b[0m \u001b[0mdist_matrix\u001b[0m\u001b[1;33m,\u001b[0m \u001b[0mslice_\u001b[0m\u001b[1;33m,\u001b[0m \u001b[1;33m*\u001b[0m\u001b[0margs\u001b[0m\u001b[1;33m,\u001b[0m \u001b[1;33m**\u001b[0m\u001b[0mkwargs\u001b[0m\u001b[1;33m)\u001b[0m\u001b[1;33m:\u001b[0m\u001b[1;33m\u001b[0m\u001b[1;33m\u001b[0m\u001b[0m\n\u001b[0;32m   1412\u001b[0m     \u001b[1;34m\"\"\"Write in-place to a slice of a distance matrix.\"\"\"\u001b[0m\u001b[1;33m\u001b[0m\u001b[1;33m\u001b[0m\u001b[0m\n\u001b[1;32m-> 1413\u001b[1;33m     \u001b[0mdist_matrix\u001b[0m\u001b[1;33m[\u001b[0m\u001b[1;33m:\u001b[0m\u001b[1;33m,\u001b[0m \u001b[0mslice_\u001b[0m\u001b[1;33m]\u001b[0m \u001b[1;33m=\u001b[0m \u001b[0mdist_func\u001b[0m\u001b[1;33m(\u001b[0m\u001b[1;33m*\u001b[0m\u001b[0margs\u001b[0m\u001b[1;33m,\u001b[0m \u001b[1;33m**\u001b[0m\u001b[0mkwargs\u001b[0m\u001b[1;33m)\u001b[0m\u001b[1;33m\u001b[0m\u001b[1;33m\u001b[0m\u001b[0m\n\u001b[0m\u001b[0;32m   1414\u001b[0m \u001b[1;33m\u001b[0m\u001b[0m\n\u001b[0;32m   1415\u001b[0m \u001b[1;33m\u001b[0m\u001b[0m\n",
      "\u001b[1;32mD:\\Program_Files\\anaconda3\\lib\\site-packages\\sklearn\\metrics\\pairwise.py\u001b[0m in \u001b[0;36mrbf_kernel\u001b[1;34m(X, Y, gamma)\u001b[0m\n\u001b[0;32m   1168\u001b[0m         \u001b[0mgamma\u001b[0m \u001b[1;33m=\u001b[0m \u001b[1;36m1.0\u001b[0m \u001b[1;33m/\u001b[0m \u001b[0mX\u001b[0m\u001b[1;33m.\u001b[0m\u001b[0mshape\u001b[0m\u001b[1;33m[\u001b[0m\u001b[1;36m1\u001b[0m\u001b[1;33m]\u001b[0m\u001b[1;33m\u001b[0m\u001b[1;33m\u001b[0m\u001b[0m\n\u001b[0;32m   1169\u001b[0m \u001b[1;33m\u001b[0m\u001b[0m\n\u001b[1;32m-> 1170\u001b[1;33m     \u001b[0mK\u001b[0m \u001b[1;33m=\u001b[0m \u001b[0meuclidean_distances\u001b[0m\u001b[1;33m(\u001b[0m\u001b[0mX\u001b[0m\u001b[1;33m,\u001b[0m \u001b[0mY\u001b[0m\u001b[1;33m,\u001b[0m \u001b[0msquared\u001b[0m\u001b[1;33m=\u001b[0m\u001b[1;32mTrue\u001b[0m\u001b[1;33m)\u001b[0m\u001b[1;33m\u001b[0m\u001b[1;33m\u001b[0m\u001b[0m\n\u001b[0m\u001b[0;32m   1171\u001b[0m     \u001b[0mK\u001b[0m \u001b[1;33m*=\u001b[0m \u001b[1;33m-\u001b[0m\u001b[0mgamma\u001b[0m\u001b[1;33m\u001b[0m\u001b[1;33m\u001b[0m\u001b[0m\n\u001b[0;32m   1172\u001b[0m     \u001b[0mnp\u001b[0m\u001b[1;33m.\u001b[0m\u001b[0mexp\u001b[0m\u001b[1;33m(\u001b[0m\u001b[0mK\u001b[0m\u001b[1;33m,\u001b[0m \u001b[0mK\u001b[0m\u001b[1;33m)\u001b[0m  \u001b[1;31m# exponentiate K in-place\u001b[0m\u001b[1;33m\u001b[0m\u001b[1;33m\u001b[0m\u001b[0m\n",
      "\u001b[1;32mD:\\Program_Files\\anaconda3\\lib\\site-packages\\sklearn\\metrics\\pairwise.py\u001b[0m in \u001b[0;36meuclidean_distances\u001b[1;34m(X, Y, Y_norm_squared, squared, X_norm_squared)\u001b[0m\n\u001b[0;32m    325\u001b[0m             )\n\u001b[0;32m    326\u001b[0m \u001b[1;33m\u001b[0m\u001b[0m\n\u001b[1;32m--> 327\u001b[1;33m     \u001b[1;32mreturn\u001b[0m \u001b[0m_euclidean_distances\u001b[0m\u001b[1;33m(\u001b[0m\u001b[0mX\u001b[0m\u001b[1;33m,\u001b[0m \u001b[0mY\u001b[0m\u001b[1;33m,\u001b[0m \u001b[0mX_norm_squared\u001b[0m\u001b[1;33m,\u001b[0m \u001b[0mY_norm_squared\u001b[0m\u001b[1;33m,\u001b[0m \u001b[0msquared\u001b[0m\u001b[1;33m)\u001b[0m\u001b[1;33m\u001b[0m\u001b[1;33m\u001b[0m\u001b[0m\n\u001b[0m\u001b[0;32m    328\u001b[0m \u001b[1;33m\u001b[0m\u001b[0m\n\u001b[0;32m    329\u001b[0m \u001b[1;33m\u001b[0m\u001b[0m\n",
      "\u001b[1;32mD:\\Program_Files\\anaconda3\\lib\\site-packages\\sklearn\\metrics\\pairwise.py\u001b[0m in \u001b[0;36m_euclidean_distances\u001b[1;34m(X, Y, X_norm_squared, Y_norm_squared, squared)\u001b[0m\n\u001b[0;32m    366\u001b[0m     \u001b[1;32melse\u001b[0m\u001b[1;33m:\u001b[0m\u001b[1;33m\u001b[0m\u001b[1;33m\u001b[0m\u001b[0m\n\u001b[0;32m    367\u001b[0m         \u001b[1;31m# if dtype is already float64, no need to chunk and upcast\u001b[0m\u001b[1;33m\u001b[0m\u001b[1;33m\u001b[0m\u001b[0m\n\u001b[1;32m--> 368\u001b[1;33m         \u001b[0mdistances\u001b[0m \u001b[1;33m=\u001b[0m \u001b[1;33m-\u001b[0m\u001b[1;36m2\u001b[0m \u001b[1;33m*\u001b[0m \u001b[0msafe_sparse_dot\u001b[0m\u001b[1;33m(\u001b[0m\u001b[0mX\u001b[0m\u001b[1;33m,\u001b[0m \u001b[0mY\u001b[0m\u001b[1;33m.\u001b[0m\u001b[0mT\u001b[0m\u001b[1;33m,\u001b[0m \u001b[0mdense_output\u001b[0m\u001b[1;33m=\u001b[0m\u001b[1;32mTrue\u001b[0m\u001b[1;33m)\u001b[0m\u001b[1;33m\u001b[0m\u001b[1;33m\u001b[0m\u001b[0m\n\u001b[0m\u001b[0;32m    369\u001b[0m         \u001b[0mdistances\u001b[0m \u001b[1;33m+=\u001b[0m \u001b[0mXX\u001b[0m\u001b[1;33m\u001b[0m\u001b[1;33m\u001b[0m\u001b[0m\n\u001b[0;32m    370\u001b[0m         \u001b[0mdistances\u001b[0m \u001b[1;33m+=\u001b[0m \u001b[0mYY\u001b[0m\u001b[1;33m\u001b[0m\u001b[1;33m\u001b[0m\u001b[0m\n",
      "\u001b[1;31mMemoryError\u001b[0m: Unable to allocate 2.20 GiB for an array with shape (84188, 3508) and data type float64"
     ]
    }
   ],
   "source": [
    "#커널 PCA\n",
    "from sklearn.decomposition import KernelPCA\n",
    "\n",
    "from sklearn.discriminant_analysis import LinearDiscriminantAnalysis\n",
    "from sklearn.preprocessing import StandardScaler\n",
    "from sklearn.datasets import load_iris\n",
    "import pandas as pd\n",
    "import matplotlib.pyplot as plt\n",
    "\n",
    "from sklearn.model_selection import train_test_split\n",
    "X, y = drop_data.iloc[:, 1:], drop_data.iloc[:, 0].values\n",
    "X_train, X_test, y_train, y_test = train_test_split(X, y, test_size=0.3, \n",
    "                                                    stratify=y,\n",
    "                                                    random_state=0)\n",
    "\n",
    "# 데이터 정규 스케일링\n",
    "std= StandardScaler()\n",
    "X_train_scaled = std.fit_transform(X_train)\n",
    "X_test_scaled = std.transform(X_test)\n",
    "\n",
    "scikit_kpca = KernelPCA(n_components=2,\n",
    "                       kernel='rbf',\n",
    "                       gamma=15,\n",
    "                        n_jobs=-1\n",
    "                       )\n",
    "X_skernpca = scikit_kpca.fit_transform(X_train_scaled)\n",
    "\n",
    "plt.scatter(X_skernpca[y==0, 0], X_sklernpca[y==0, 1],\n",
    "           color = 'red', marker='^', alpha=0.5)\n",
    "plt.scatter(X_skernpca[y==1, 0], X_sklernpca[y==1, 1],\n",
    "           color = 'blue', marker='o', alpha=0.5)\n",
    "\n",
    "plt.xlabel('PC1')\n",
    "plt.ylabel('PC2')\n",
    "plt.tight_layout()\n",
    "plt.show()\n",
    "\n",
    "#메모리 에러나서 못함"
   ]
  },
  {
   "cell_type": "code",
   "execution_count": 168,
   "id": "4790c6ec",
   "metadata": {
    "ExecuteTime": {
     "end_time": "2021-11-24T06:54:43.382223Z",
     "start_time": "2021-11-24T06:54:43.366236Z"
    }
   },
   "outputs": [],
   "source": [
    "#매니폴드 학습\n",
    "#비선형 차원축소\n",
    "\n",
    "#그래프 함수\n",
    "def plot_manifold(X, y):\n",
    "    plt.scatter(X[y==0, 0], X[y==0, 1],\n",
    "               color='red', marker='^', alpha=0.5)\n",
    "    plt.scatter(X[y==1, 0], X[y==1, 1],\n",
    "               color='blue', marker='o', alpha=0.5)\n",
    "    plt.xlabel('PC1')\n",
    "    plt.ylabel('PC2')\n",
    "    plt.tight_layout()\n",
    "    plt.show()"
   ]
  },
  {
   "cell_type": "code",
   "execution_count": 170,
   "id": "d78ddc42",
   "metadata": {
    "ExecuteTime": {
     "end_time": "2021-11-24T06:57:16.442986Z",
     "start_time": "2021-11-24T06:57:10.933059Z"
    }
   },
   "outputs": [
    {
     "data": {
      "image/png": "[encoded data removed]",
      "text/plain": [
       "<Figure size 432x288 with 1 Axes>"
      ]
     },
     "metadata": {
      "needs_background": "light"
     },
     "output_type": "display_data"
    }
   ],
   "source": [
    "#지역 선형 임베딩\n",
    "from sklearn.manifold import LocallyLinearEmbedding\n",
    "lie = LocallyLinearEmbedding(n_components=2, random_state=0, n_jobs=-1)\n",
    "X_lie=lie.fit_transform(X_train)\n",
    "plot_manifold(X_lie, y_train)"
   ]
  },
  {
   "cell_type": "code",
   "execution_count": 177,
   "id": "bcf2de97",
   "metadata": {
    "ExecuteTime": {
     "end_time": "2021-11-24T07:07:19.084554Z",
     "start_time": "2021-11-24T07:03:55.671134Z"
    },
    "scrolled": true
   },
   "outputs": [
    {
     "name": "stderr",
     "output_type": "stream",
     "text": [
      "D:\\Program_Files\\anaconda3\\lib\\site-packages\\sklearn\\manifold\\_t_sne.py:780: FutureWarning: The default initialization in TSNE will change from 'random' to 'pca' in 1.2.\n",
      "  warnings.warn(\n",
      "D:\\Program_Files\\anaconda3\\lib\\site-packages\\sklearn\\manifold\\_t_sne.py:790: FutureWarning: The default learning rate in TSNE will change from 200.0 to 'auto' in 1.2.\n",
      "  warnings.warn(\n"
     ]
    },
    {
     "data": {
      "image/png": "[encoded data removed]",
      "text/plain": [
       "<Figure size 432x288 with 1 Axes>"
      ]
     },
     "metadata": {
      "needs_background": "light"
     },
     "output_type": "display_data"
    }
   ],
   "source": [
    "#TSNE\n",
    "from sklearn.manifold import TSNE\n",
    "lie = TSNE(n_components=2, random_state=0, n_jobs=-1)\n",
    "X_lie=lie.fit_transform(X_train)\n",
    "plot_manifold(X_lie, y_train)"
   ]
  },
  {
   "cell_type": "code",
   "execution_count": null,
   "id": "bef59aae",
   "metadata": {},
   "outputs": [],
   "source": [
    "#차원축소는 모두 성과가 좋지 못함"
   ]
  },
  {
   "cell_type": "markdown",
   "id": "520ad63d",
   "metadata": {},
   "source": [
    "# 트리 baseline model"
   ]
  },
  {
   "cell_type": "code",
   "execution_count": 4,
   "id": "f913feeb",
   "metadata": {
    "ExecuteTime": {
     "end_time": "2021-11-27T06:47:51.381434Z",
     "start_time": "2021-11-27T06:47:51.285436Z"
    }
   },
   "outputs": [],
   "source": [
    "import pandas as pd\n",
    "#data=pd.read_csv('./mini_project/cs_data.csv')\n",
    "data=pd.read_csv('./cs_data.csv')\n",
    "#data=pd.read_csv('./Program_Files/mini_project/cs_data.csv')\n",
    "\n",
    "data.drop(columns='Unnamed: 0', inplace=True)\n",
    "drop_data=data.dropna()"
   ]
  },
  {
   "cell_type": "markdown",
   "id": "62cdbb5f",
   "metadata": {},
   "source": [
    "## 레이블 인코딩\n",
    "#레이블 인코딩\n",
    "- 숫자의 차이가 모델에 영향을 주지 않는 트리 계열 모델(의사결정나무, 랜덤포레스트)에 적용한다.\n",
    "- 숫자의 차이가 모델에 영향을 미치는 선형 계열 모델(로지스틱회귀, SVM, 신경망)에는 사용하면 안된다.\n",
    "\n",
    "#원핫인코딩\n",
    "- 숫자의 차이가 모델에 영향을 미치는 선형 계열 모델(로지스틱회귀, SVM, 신경망)에서 범주형 데이터 변환시 Label Encoding보다 One Hot Encoding을 사용한다.\n",
    "- DecisionTree 계열의 알고리즘은 Feature에 0이 많은 경우(Sparse Matrix라고 한다.) 성능이 떨어지기 때문에 Label Encoding을 한다.\n",
    "\n",
    "선형모델(로지스틱 회귀, svm, 신경망)\n",
    "-원핫인코딩\n",
    "\n",
    "비선형모델(트리계열 알고리즘)\n",
    "-레이블인코딩"
   ]
  },
  {
   "cell_type": "markdown",
   "id": "4be602cc",
   "metadata": {
    "ExecuteTime": {
     "end_time": "2021-11-24T13:50:54.654188Z",
     "start_time": "2021-11-24T13:50:54.646188Z"
    }
   },
   "source": [
    "## 레이블인코딩"
   ]
  },
  {
   "cell_type": "code",
   "execution_count": 5,
   "id": "29c130f0",
   "metadata": {
    "ExecuteTime": {
     "end_time": "2021-11-27T06:48:18.358447Z",
     "start_time": "2021-11-27T06:48:17.806411Z"
    }
   },
   "outputs": [
    {
     "data": {
      "text/plain": [
       "array([1, 0, 0, ..., 0, 0, 0], dtype=int64)"
      ]
     },
     "execution_count": 5,
     "metadata": {},
     "output_type": "execute_result"
    }
   ],
   "source": [
    "#레이블인코딩(트리모델)\n",
    "from sklearn.preprocessing import LabelEncoder\n",
    "import numpy as np\n",
    "import pandas as np\n",
    "\n",
    "#현재 데이터 기준 굳이 하지 않았어도 되어보임\n",
    "items= list(np.unique(drop_data['SeriousDlqin2yrs']))\n",
    "le = LabelEncoder()\n",
    "le.fit(drop_data['SeriousDlqin2yrs'])\n",
    "labels=le.transform(drop_data['SeriousDlqin2yrs'])\n",
    "labels"
   ]
  },
  {
   "cell_type": "code",
   "execution_count": 6,
   "id": "eb5df350",
   "metadata": {
    "ExecuteTime": {
     "end_time": "2021-11-27T06:48:19.371284Z",
     "start_time": "2021-11-27T06:48:19.352320Z"
    }
   },
   "outputs": [
    {
     "data": {
      "text/plain": [
       "array([1, 0, 0, ..., 0, 0, 0], dtype=int64)"
      ]
     },
     "execution_count": 6,
     "metadata": {},
     "output_type": "execute_result"
    }
   ],
   "source": [
    "le.classes_\n",
    "le.inverse_transform(drop_data['SeriousDlqin2yrs'])"
   ]
  },
  {
   "cell_type": "code",
   "execution_count": 7,
   "id": "3d1c8838",
   "metadata": {
    "ExecuteTime": {
     "end_time": "2021-11-27T06:48:25.237413Z",
     "start_time": "2021-11-27T06:48:25.226392Z"
    }
   },
   "outputs": [],
   "source": [
    "#이번 데이터는 모든 컬럼에 범주형 데이터가 존재하지 않음"
   ]
  },
  {
   "cell_type": "code",
   "execution_count": 75,
   "id": "f636ab4c",
   "metadata": {
    "ExecuteTime": {
     "end_time": "2021-11-25T00:35:51.124909Z",
     "start_time": "2021-11-25T00:35:51.107906Z"
    }
   },
   "outputs": [
    {
     "name": "stdout",
     "output_type": "stream",
     "text": [
      "train 1.0\n",
      "val 1.0\n",
      "test 1.0\n"
     ]
    }
   ],
   "source": [
    "from sklearn.tree import DecisionTreeClassifier\n",
    "from sklearn.model_selection import train_test_split\n",
    "from sklearn.metrics import accuracy_score\n",
    "\n",
    "df = DecisionTreeClassifier()\n",
    "df.fit(X_train, y_train)\n",
    "pred_X_train=df.predict(X_train)\n",
    "pred_X_test=df.predict(X_test)\n",
    "pred_val= df.predict(X_val)\n",
    "\n",
    "from sklearn.metrics import accuracy_score\n",
    "print('train',accuracy_score(y_train, pred_X_train))\n",
    "print('val', accuracy_score(y_val, pred_val))\n",
    "print('test', accuracy_score(y_test, pred_X_test))"
   ]
  },
  {
   "cell_type": "markdown",
   "id": "e4bc798a",
   "metadata": {},
   "source": [
    "## 의사결정나무"
   ]
  },
  {
   "cell_type": "markdown",
   "id": "61b98921",
   "metadata": {},
   "source": [
    "### holdout"
   ]
  },
  {
   "cell_type": "code",
   "execution_count": 9,
   "id": "e04f4b0b",
   "metadata": {
    "ExecuteTime": {
     "end_time": "2021-11-27T13:43:57.676053Z",
     "start_time": "2021-11-27T13:43:56.333110Z"
    }
   },
   "outputs": [
    {
     "name": "stdout",
     "output_type": "stream",
     "text": [
      "0.9999722841978353 0.8912862725534215 0.8948615614866551\n",
      "###################################################\n",
      "0.9999999910893309\n",
      "0.610952924353523\n"
     ]
    }
   ],
   "source": [
    "from sklearn.model_selection import train_test_split\n",
    "from sklearn.tree import DecisionTreeClassifier\n",
    "from sklearn.metrics import accuracy_score\n",
    "import numpy as np\n",
    "\n",
    "#X, y = drop_data.iloc[:, 1:], drop_data.iloc[:, 0].values\n",
    "\n",
    "#y = drop_data['SeriousDlqin2yrs'].to_numpy()\n",
    "#X = drop_data.drop('SeriousDlqin2yrs', axis=1).to_numpy()\n",
    "\n",
    "X,y = drop_data.iloc[:,1:], drop_data.iloc[:,0].to_numpy()\n",
    "\n",
    "#train/validation/test set 분리\n",
    "X_train, X_test, y_train, y_test = train_test_split(X, \n",
    "                                                   y,\n",
    "                                                   test_size=0.2,\n",
    "                                                   random_state=0,\n",
    "                                                   stratify=y)\n",
    "\n",
    "#validation set을 만들땐 stratify넣으면 안됨\n",
    "X_train, X_val, y_train, y_val = train_test_split(X_train,\n",
    "                                                  y_train,\n",
    "                                                  stratify=y_train,\n",
    "                                                  random_state=0)\n",
    "                                                  \n",
    "tree_clf = DecisionTreeClassifier(random_state=0)\n",
    "tree_clf.fit(X_train, y_train)\n",
    "\n",
    "train_pred = tree_clf.predict(X_train)\n",
    "val_pred = tree_clf.predict(X_val)\n",
    "test_pred = tree_clf.predict(X_test)\n",
    "\n",
    "acc_train = accuracy_score(y_train, train_pred)\n",
    "acc_val = accuracy_score(y_val, val_pred)\n",
    "acc_test = accuracy_score(y_test, test_pred)\n",
    "\n",
    "print(acc_train, acc_val, acc_test)\n",
    "\n",
    "#roc_auc_score\n",
    "from sklearn.metrics import roc_auc_score\n",
    "tree_train_pos = tree_clf.predict_proba(X_train)[:,1]  \n",
    "tree_test_pos = tree_clf.predict_proba(X_test)[:,1]  \n",
    "\n",
    "print('###################################################')\n",
    "print(roc_auc_score(y_train, tree_train_pos))\n",
    "print(roc_auc_score(y_test, tree_test_pos))"
   ]
  },
  {
   "cell_type": "markdown",
   "id": "c5d14ba7",
   "metadata": {},
   "source": [
    "### StratifiedKFold"
   ]
  },
  {
   "cell_type": "code",
   "execution_count": 17,
   "id": "ecc3f93a",
   "metadata": {
    "ExecuteTime": {
     "end_time": "2021-11-27T07:21:26.805875Z",
     "start_time": "2021-11-27T07:21:26.799868Z"
    }
   },
   "outputs": [
    {
     "name": "stdout",
     "output_type": "stream",
     "text": [
      "\n"
     ]
    }
   ],
   "source": [
    "#k-fold cross validation\n",
    "#데이터양이 충분치 않을때 사용\n",
    "\"\"\"\n",
    "KFold\n",
    "- 회귀문제의 Dataset을 분리할 때 사용\n",
    "StratifiedKFold\n",
    "- 분류분제의 Dataset을 분리할 때 사용\n",
    "\"\"\"\n",
    "print('')"
   ]
  },
  {
   "cell_type": "code",
   "execution_count": 26,
   "id": "78d1e5b7",
   "metadata": {
    "ExecuteTime": {
     "end_time": "2021-11-27T07:41:25.245899Z",
     "start_time": "2021-11-27T07:41:23.698876Z"
    }
   },
   "outputs": [
    {
     "name": "stdout",
     "output_type": "stream",
     "text": [
      "train [0.9999875279063096, 0.9999750558126193, 1.0] 0.9999875279063096\n",
      "test [0.8906709902718882, 0.8905462708904964, 0.8924642670059119] 0.8912271760560988\n",
      "###################################################\n",
      "1.0\n",
      "0.6071341351431163\n"
     ]
    }
   ],
   "source": [
    "from sklearn.model_selection import StratifiedKFold\n",
    "#옵션 n_splits\n",
    "sfold= StratifiedKFold(n_splits=3)\n",
    "\n",
    "#회귀문제에 사용된 kfold는 x만 split하는 것과 달리\n",
    "#stratiedkfold는 x와 y를 split 하도록 한다.\n",
    "#ex = sfold.split(X, y)\n",
    "\n",
    "y = drop_data['SeriousDlqin2yrs'].to_numpy()\n",
    "X = drop_data.drop('SeriousDlqin2yrs', axis=1).to_numpy()\n",
    "\n",
    "acc_train_list = []\n",
    "acc_test_list =[]\n",
    "\n",
    "#데이터가 Dataframe형식이면 안됨 반드시 numpy array 형식이어야 함\n",
    "#각 폴드의 결과를 저장할 리스트 생성\n",
    "acc_train_list = []\n",
    "acc_test_list = []\n",
    "\n",
    "for train_index, test_index in sfold.split(X, y):\n",
    "    #기존에 train_test_split과는 다르게 \n",
    "    #fold에서는 train별 test별로 데이터를 받음\n",
    "    X_train, y_train = X[train_index], y[train_index]\n",
    "    X_test, y_test = X[test_index], y[test_index]\n",
    "    \n",
    "    #모델 생성\n",
    "    tree_clf = DecisionTreeClassifier()\n",
    "    \n",
    "    #학습\n",
    "    tree_clf.fit(X_train, y_train)\n",
    "    \n",
    "    #검증\n",
    "    pred_train = tree_clf.predict(X_train)\n",
    "    pred_test = tree_clf.predict(X_test)\n",
    "    \n",
    "    #평가\n",
    "    acc_train = accuracy_score(y_train, pred_train)\n",
    "    acc_test = accuracy_score(y_test, pred_test)\n",
    "    \n",
    "    acc_train_list.append(acc_train)\n",
    "    acc_test_list.append(acc_test)\n",
    "    \n",
    "import pandas as pd\n",
    "import numpy as np\n",
    "\n",
    "print('train', acc_train_list, np.mean(acc_train_list))\n",
    "print('test', acc_test_list, np.mean(acc_test_list))\n",
    "\n",
    "##roc_auc \n",
    "\n",
    "tree_train_pos = tree_clf.predict_proba(X_train)[:,1]  \n",
    "tree_test_pos = tree_clf.predict_proba(X_test)[:,1]  \n",
    "\n",
    "print('###################################################')\n",
    "print(roc_auc_score(y_train, tree_train_pos))\n",
    "print(roc_auc_score(y_test, tree_test_pos))"
   ]
  },
  {
   "cell_type": "markdown",
   "id": "d6da4699",
   "metadata": {},
   "source": [
    "## randomforest"
   ]
  },
  {
   "cell_type": "markdown",
   "id": "55582d70",
   "metadata": {},
   "source": [
    "### holdout"
   ]
  },
  {
   "cell_type": "code",
   "execution_count": 27,
   "id": "bc3b76f2",
   "metadata": {
    "ExecuteTime": {
     "end_time": "2021-11-27T07:42:42.912794Z",
     "start_time": "2021-11-27T07:42:32.467949Z"
    }
   },
   "outputs": [
    {
     "name": "stdout",
     "output_type": "stream",
     "text": [
      "0.9999307104945885 0.9324020952856074 0.9341065934979629\n",
      "###################################################\n",
      "0.9999976297620479\n",
      "0.8272479356915552\n"
     ]
    }
   ],
   "source": [
    "from sklearn.model_selection import train_test_split\n",
    "from sklearn.ensemble import RandomForestClassifier\n",
    "from sklearn.metrics import accuracy_score\n",
    "import numpy as np\n",
    "\n",
    "y = drop_data['SeriousDlqin2yrs'].to_numpy()\n",
    "X = drop_data.drop('SeriousDlqin2yrs', axis=1).to_numpy()\n",
    "\n",
    "from sklearn.model_selection import train_test_split\n",
    "X_train, X_test, y_train, y_test = train_test_split(X, y, stratify=y, random_state=0, test_size=0.2)\n",
    "X_train, X_val, y_train, y_val = train_test_split(X_train, y_train, stratify=y_train, random_state=0)\n",
    "\n",
    "rf = RandomForestClassifier(random_state=0)\n",
    "rf.fit(X_train, y_train)\n",
    "\n",
    "train_pred = rf.predict(X_train)\n",
    "val_pred = rf.predict(X_val)\n",
    "test_pred = rf.predict(X_test)\n",
    "\n",
    "acc_train = accuracy_score(y_train, train_pred)\n",
    "acc_val = accuracy_score(y_val, val_pred)\n",
    "acc_test = accuracy_score(y_test, test_pred)\n",
    "\n",
    "print(acc_train, acc_val, acc_test)\n",
    "\n",
    "##roc_auc \n",
    "\n",
    "rf_train_pos = rf.predict_proba(X_train)[:,1]  \n",
    "rf_test_pos = rf.predict_proba(X_test)[:,1]  \n",
    "\n",
    "print('###################################################')\n",
    "print(roc_auc_score(y_train, rf_train_pos))\n",
    "print(roc_auc_score(y_test, rf_test_pos))"
   ]
  },
  {
   "cell_type": "markdown",
   "id": "81d5fd36",
   "metadata": {},
   "source": [
    "### StrafifiedKFold"
   ]
  },
  {
   "cell_type": "code",
   "execution_count": 28,
   "id": "a57aaab2",
   "metadata": {
    "ExecuteTime": {
     "end_time": "2021-11-27T07:46:06.353146Z",
     "start_time": "2021-11-27T07:45:33.568875Z"
    }
   },
   "outputs": [
    {
     "name": "stdout",
     "output_type": "stream",
     "text": [
      "train [0.9999376395315481, 0.9998877511567867, 0.9999501122474432] 0.9999251676452593\n",
      "test [0.932776253429783, 0.933374906460464, 0.9326249095761929] 0.9329253564888133\n",
      "###################################################\n",
      "1.0\n",
      "0.8331662778641284\n"
     ]
    }
   ],
   "source": [
    "from sklearn.ensemble import RandomForestClassifier\n",
    "from sklearn.model_selection import StratifiedKFold\n",
    "from sklearn.metrics import accuracy_score\n",
    "import numpy as np\n",
    "\n",
    "sfold=StratifiedKFold(n_splits=3)\n",
    "#ex=sfold.split(X,y)\n",
    "\n",
    "y = drop_data['SeriousDlqin2yrs'].to_numpy()\n",
    "X = drop_data.drop('SeriousDlqin2yrs', axis=1).to_numpy()\n",
    "\n",
    "acc_train_list=[]\n",
    "acc_test_list=[]\n",
    "\n",
    "for train_index, test_index in sfold.split(X,y):\n",
    "    X_train, y_train = X[train_index], y[train_index]\n",
    "    X_test, y_test = X[test_index], y[test_index]\n",
    "    \n",
    "    rf = RandomForestClassifier(random_state=0)\n",
    "    \n",
    "    rf.fit(X_train, y_train)\n",
    "    \n",
    "    pred_train = rf.predict(X_train)\n",
    "    pred_test = rf.predict(X_test)\n",
    "    \n",
    "    acc_train = accuracy_score(y_train, pred_train)\n",
    "    acc_test = accuracy_score(y_test, pred_test)\n",
    "    \n",
    "    acc_train_list.append(acc_train)\n",
    "    acc_test_list.append(acc_test)\n",
    "    \n",
    "print('train', acc_train_list, np.mean(acc_train_list))\n",
    "print('test', acc_test_list, np.mean(acc_test_list))\n",
    "\n",
    "##roc_auc \n",
    "\n",
    "rf_train_pos = rf.predict_proba(X_train)[:,1]  \n",
    "rf_test_pos = rf.predict_proba(X_test)[:,1]  \n",
    "\n",
    "print('###################################################')\n",
    "print(roc_auc_score(y_train, rf_train_pos))\n",
    "print(roc_auc_score(y_test, rf_test_pos))"
   ]
  },
  {
   "cell_type": "code",
   "execution_count": null,
   "id": "f5766f18",
   "metadata": {},
   "outputs": [],
   "source": [
    "#랜덤 포래스트는 튜닝하면 쓸만할 듯"
   ]
  },
  {
   "cell_type": "markdown",
   "id": "867b0d51",
   "metadata": {},
   "source": [
    "## GradientBoostingClassifier"
   ]
  },
  {
   "cell_type": "markdown",
   "id": "55552797",
   "metadata": {},
   "source": [
    "### holdout"
   ]
  },
  {
   "cell_type": "code",
   "execution_count": 30,
   "id": "0b2894a8",
   "metadata": {
    "ExecuteTime": {
     "end_time": "2021-11-27T16:45:16.577255Z",
     "start_time": "2021-11-27T16:45:09.270633Z"
    }
   },
   "outputs": [
    {
     "name": "stdout",
     "output_type": "stream",
     "text": [
      "0.9369742658776902 0.932776253429783 0.9356863723289266\n",
      "###################################################\n",
      "0.8595502417645681\n",
      "0.8546685466734354\n"
     ]
    }
   ],
   "source": [
    "from sklearn.model_selection import train_test_split\n",
    "from sklearn.ensemble import GradientBoostingClassifier\n",
    "from sklearn.metrics import accuracy_score\n",
    "import numpy as np\n",
    "\n",
    "y = drop_data['SeriousDlqin2yrs'].to_numpy()\n",
    "X = drop_data.drop('SeriousDlqin2yrs', axis=1).to_numpy()\n",
    "\n",
    "from sklearn.model_selection import train_test_split\n",
    "X_train, X_test, y_train, y_test = train_test_split(X, y, stratify=y, random_state=0, test_size=0.2)\n",
    "X_train, X_val, y_train, y_val = train_test_split(X_train, y_train, stratify=y_train, random_state=0)\n",
    "\n",
    "gb = GradientBoostingClassifier(random_state=0)\n",
    "gb.fit(X_train, y_train)\n",
    "\n",
    "train_pred = gb.predict(X_train)\n",
    "val_pred = gb.predict(X_val)\n",
    "test_pred = gb.predict(X_test)\n",
    "\n",
    "acc_train = accuracy_score(y_train, train_pred)\n",
    "acc_val = accuracy_score(y_val, val_pred)\n",
    "acc_test = accuracy_score(y_test, test_pred)\n",
    "\n",
    "print(acc_train, acc_val, acc_test)\n",
    "\n",
    "##roc_auc \n",
    "\n",
    "gb_train_pos = gb.predict_proba(X_train)[:,1]  \n",
    "gb_test_pos = gb.predict_proba(X_test)[:,1]  \n",
    "\n",
    "print('###################################################')\n",
    "print(roc_auc_score(y_train, gb_train_pos))\n",
    "print(roc_auc_score(y_test, gb_test_pos))"
   ]
  },
  {
   "cell_type": "markdown",
   "id": "2bb32351",
   "metadata": {},
   "source": [
    "### StratifiedKFold"
   ]
  },
  {
   "cell_type": "code",
   "execution_count": 31,
   "id": "574d73ef",
   "metadata": {
    "ExecuteTime": {
     "end_time": "2021-11-27T16:46:33.599415Z",
     "start_time": "2021-11-27T16:46:09.470380Z"
    },
    "scrolled": true
   },
   "outputs": [
    {
     "name": "stdout",
     "output_type": "stream",
     "text": [
      "train [0.9370408710510233, 0.936554459397099, 0.9364804190571214] 0.936691916501748\n",
      "test [0.9348216512846096, 0.934247942130207, 0.9341215794856444] 0.934397057633487\n",
      "###################################################\n",
      "0.8617758326304171\n",
      "0.8567573098278168\n"
     ]
    }
   ],
   "source": [
    "from sklearn.ensemble import GradientBoostingClassifier\n",
    "from sklearn.model_selection import StratifiedKFold\n",
    "from sklearn.metrics import accuracy_score\n",
    "import numpy as np\n",
    "\n",
    "sfold=StratifiedKFold(n_splits=3)\n",
    "#ex=sfold.split(X,y)\n",
    "\n",
    "y = drop_data['SeriousDlqin2yrs'].to_numpy()\n",
    "X = drop_data.drop('SeriousDlqin2yrs', axis=1).to_numpy()\n",
    "\n",
    "acc_train_list=[]\n",
    "acc_test_list=[]\n",
    "\n",
    "for train_index, test_index in sfold.split(X,y):\n",
    "    X_train, y_train = X[train_index], y[train_index]\n",
    "    X_test, y_test = X[test_index], y[test_index]\n",
    "    \n",
    "    gr = GradientBoostingClassifier(random_state=0)\n",
    "    \n",
    "    gr.fit(X_train, y_train)\n",
    "    \n",
    "    pred_train = gr.predict(X_train)\n",
    "    pred_test = gr.predict(X_test)\n",
    "    \n",
    "    acc_train = accuracy_score(y_train, pred_train)\n",
    "    acc_test = accuracy_score(y_test, pred_test)\n",
    "    \n",
    "    acc_train_list.append(acc_train)\n",
    "    acc_test_list.append(acc_test)\n",
    "    \n",
    "print('train', acc_train_list, np.mean(acc_train_list))\n",
    "print('test', acc_test_list, np.mean(acc_test_list))\n",
    "\n",
    "##roc_auc \n",
    "\n",
    "gr_train_pos = gr.predict_proba(X_train)[:,1]  \n",
    "gr_test_pos = gr.predict_proba(X_test)[:,1]  \n",
    "\n",
    "print('###################################################')\n",
    "print(roc_auc_score(y_train, gr_train_pos))\n",
    "print(roc_auc_score(y_test, gr_test_pos))"
   ]
  },
  {
   "cell_type": "code",
   "execution_count": null,
   "id": "783a1134",
   "metadata": {},
   "outputs": [],
   "source": [
    "#GradientBoostingClassifier는 기본적으로 85퍼센트를 넘김 사용하기에 좋아보임"
   ]
  },
  {
   "cell_type": "markdown",
   "id": "d001e692",
   "metadata": {},
   "source": [
    "## AdaBoostClassifier(부스팅)"
   ]
  },
  {
   "cell_type": "markdown",
   "id": "e40d220f",
   "metadata": {},
   "source": [
    "### holdout"
   ]
  },
  {
   "cell_type": "code",
   "execution_count": 65,
   "id": "f9b9097a",
   "metadata": {
    "ExecuteTime": {
     "end_time": "2021-11-28T02:35:18.026946Z",
     "start_time": "2021-11-28T02:35:15.459911Z"
    }
   },
   "outputs": [
    {
     "name": "stdout",
     "output_type": "stream",
     "text": [
      "0.9333296378930447 0.932776253429783 0.9336908622266566\n",
      "###################################################\n",
      "0.8512561108699652\n",
      "0.8485245692656004\n"
     ]
    }
   ],
   "source": [
    "from sklearn.model_selection import train_test_split\n",
    "from sklearn.ensemble import AdaBoostClassifier\n",
    "from sklearn.metrics import accuracy_score\n",
    "import numpy as np\n",
    "\n",
    "y = drop_data['SeriousDlqin2yrs'].to_numpy()\n",
    "X = drop_data.drop('SeriousDlqin2yrs', axis=1).to_numpy()\n",
    "\n",
    "from sklearn.model_selection import train_test_split\n",
    "X_train, X_test, y_train, y_test = train_test_split(X, y, stratify=y, random_state=0, test_size=0.2)\n",
    "\n",
    "X_train, X_val, y_train, y_val = train_test_split(X_train, y_train, stratify=y_train, random_state=0)\n",
    "\n",
    "ada = AdaBoostClassifier(random_state=0)\n",
    "\n",
    "ada.fit(X_train, y_train)\n",
    "train_pred = ada.predict(X_train)\n",
    "val_pred = ada.predict(X_val)\n",
    "test_pred = ada.predict(X_test)\n",
    "\n",
    "acc_train = accuracy_score(y_train, train_pred)\n",
    "acc_val = accuracy_score(y_val, val_pred)\n",
    "acc_test = accuracy_score(y_test, test_pred)\n",
    "\n",
    "print(acc_train, acc_val, acc_test)\n",
    "\n",
    "ada_train_pos = ada.predict_proba(X_train)[:,1]  \n",
    "ada_test_pos = ada.predict_proba(X_test)[:,1]  \n",
    "\n",
    "print('###################################################')\n",
    "print(roc_auc_score(y_train, ada_train_pos))\n",
    "print(roc_auc_score(y_test, ada_test_pos))"
   ]
  },
  {
   "cell_type": "markdown",
   "id": "d882725c",
   "metadata": {},
   "source": [
    "### StrafifiedKFold"
   ]
  },
  {
   "cell_type": "code",
   "execution_count": 30,
   "id": "8563a710",
   "metadata": {
    "ExecuteTime": {
     "end_time": "2021-11-27T07:48:26.069705Z",
     "start_time": "2021-11-27T07:48:18.259763Z"
    },
    "scrolled": true
   },
   "outputs": [
    {
     "name": "stdout",
     "output_type": "stream",
     "text": [
      "train [0.933635989473553, 0.9336983499420047, 0.9334622100274382] 0.933598849814332\n",
      "test [0.9329259166874533, 0.933649289099526, 0.9336476340143182] 0.9334076132670992\n",
      "###################################################\n",
      "0.853709323747194\n",
      "0.8508383494571844\n"
     ]
    }
   ],
   "source": [
    "from sklearn.ensemble import AdaBoostClassifier\n",
    "import numpy as np\n",
    "\n",
    "y = drop_data['SeriousDlqin2yrs'].to_numpy()\n",
    "X = drop_data.drop('SeriousDlqin2yrs', axis=1).to_numpy()\n",
    "\n",
    "from sklearn.model_selection import train_test_split\n",
    "X_train, X_test, y_train, y_test = train_test_split(X, y, stratify=y, random_state=0, test_size=0.2)\n",
    "X_train, X_val, y_train, y_val = train_test_split(X_train, y_train, stratify=y_train, random_state=0)\n",
    "\n",
    "acc_train_list = []\n",
    "acc_test_list =[]\n",
    "\n",
    "sfold= StratifiedKFold(n_splits=3)\n",
    "\n",
    "for train_index, test_index in sfold.split(X, y):\n",
    "    \n",
    "    X_train, y_train = X[train_index], y[train_index]\n",
    "    X_test, y_test = X[test_index], y[test_index]\n",
    "    \n",
    "    ada = AdaBoostClassifier(random_state=0)\n",
    "    \n",
    "    ada.fit(X_train, y_train)\n",
    "    \n",
    "    pred_train = ada.predict(X_train)\n",
    "    pred_test = ada.predict(X_test)\n",
    "    \n",
    "    acc_train = accuracy_score(y_train, pred_train)\n",
    "    acc_test = accuracy_score(y_test, pred_test)\n",
    "    \n",
    "    acc_train_list.append(acc_train)\n",
    "    acc_test_list.append(acc_test)\n",
    "\n",
    "print('train', acc_train_list, np.mean(acc_train_list))\n",
    "print('test', acc_test_list, np.mean(acc_test_list))\n",
    "\n",
    "ada_train_pos = ada.predict_proba(X_train)[:,1]  \n",
    "ada_test_pos = ada.predict_proba(X_test)[:,1]  \n",
    "\n",
    "print('###################################################')\n",
    "print(roc_auc_score(y_train, ada_train_pos))\n",
    "print(roc_auc_score(y_test, ada_test_pos))"
   ]
  },
  {
   "cell_type": "code",
   "execution_count": null,
   "id": "441b7fd4",
   "metadata": {},
   "outputs": [],
   "source": [
    "#adaboost 자체로도 85퍼센트 넘김 쓸만함"
   ]
  },
  {
   "cell_type": "markdown",
   "id": "142288a5",
   "metadata": {},
   "source": [
    "## BaggingClassifier(배깅)"
   ]
  },
  {
   "cell_type": "markdown",
   "id": "12954e7d",
   "metadata": {},
   "source": [
    "### holdout"
   ]
  },
  {
   "cell_type": "code",
   "execution_count": 23,
   "id": "768504bb",
   "metadata": {
    "ExecuteTime": {
     "end_time": "2021-11-27T12:28:11.202423Z",
     "start_time": "2021-11-27T12:28:08.854261Z"
    }
   },
   "outputs": [
    {
     "name": "stdout",
     "output_type": "stream",
     "text": [
      "0.9904934798575408 0.9288268063523738 0.9300324270391619\n",
      "###################################################\n",
      "0.9996713373997547\n",
      "0.7719156302713601\n"
     ]
    }
   ],
   "source": [
    "from sklearn.model_selection import train_test_split\n",
    "from sklearn.ensemble import BaggingClassifier\n",
    "from sklearn.metrics import accuracy_score\n",
    "import numpy as np\n",
    "from sklearn.tree import DecisionTreeClassifier\n",
    "\n",
    "y = drop_data['SeriousDlqin2yrs'].to_numpy()\n",
    "X = drop_data.drop('SeriousDlqin2yrs', axis=1).to_numpy()\n",
    "\n",
    "X_train, X_test, y_train, y_test = train_test_split(X, y, stratify=y, random_state=0, test_size=0.2)\n",
    "\n",
    "X_train, X_val, y_train, y_val = train_test_split(X_train, y_train, stratify=y_train, random_state=0)\n",
    "\n",
    "dt = DecisionTreeClassifier(criterion='entropy',\n",
    "                            random_state=0)\n",
    "bag = BaggingClassifier(base_estimator=dt, n_jobs=-1, random_state=0)\n",
    "\n",
    "bag.fit(X_train, y_train)\n",
    "train_pred = bag.predict(X_train)\n",
    "val_pred = bag.predict(X_val)\n",
    "test_pred = bag.predict(X_test)\n",
    "\n",
    "acc_train = accuracy_score(y_train, train_pred)\n",
    "acc_val = accuracy_score(y_val, val_pred)\n",
    "acc_test = accuracy_score(y_test, test_pred)\n",
    "\n",
    "print(acc_train, acc_val, acc_test)\n",
    "\n",
    "bag_train_pos = bag.predict_proba(X_train)[:,1]  \n",
    "bag_test_pos = bag.predict_proba(X_test)[:,1]  \n",
    "\n",
    "print('###################################################')\n",
    "print(roc_auc_score(y_train, bag_train_pos))\n",
    "print(roc_auc_score(y_test, bag_test_pos))"
   ]
  },
  {
   "cell_type": "markdown",
   "id": "8aff0ea6",
   "metadata": {},
   "source": [
    "### stratified"
   ]
  },
  {
   "cell_type": "code",
   "execution_count": 25,
   "id": "88dac8b5",
   "metadata": {
    "ExecuteTime": {
     "end_time": "2021-11-27T12:28:31.612368Z",
     "start_time": "2021-11-27T12:28:28.774540Z"
    }
   },
   "outputs": [
    {
     "name": "stdout",
     "output_type": "stream",
     "text": [
      "train [0.9902967111088938, 0.9903465994836553, 0.9904464953853829] 0.9903632686593107\n",
      "test [0.9292092791219756, 0.9299326515340484, 0.9304297937089975] 0.9298572414550071\n",
      "###################################################\n",
      "0.9996850143594262\n",
      "0.7716233519848181\n"
     ]
    }
   ],
   "source": [
    "from sklearn.ensemble import BaggingClassifier\n",
    "import numpy as np\n",
    "\n",
    "y = drop_data['SeriousDlqin2yrs'].to_numpy()\n",
    "X = drop_data.drop('SeriousDlqin2yrs', axis=1).to_numpy()\n",
    "\n",
    "from sklearn.model_selection import train_test_split\n",
    "X_train, X_test, y_train, y_test = train_test_split(X, y, stratify=y, random_state=0, test_size=0.2)\n",
    "X_train, X_val, y_train, y_val = train_test_split(X_train, y_train, stratify=y_train, random_state=0)\n",
    "\n",
    "acc_train_list = []\n",
    "acc_test_list =[]\n",
    "\n",
    "sfold= StratifiedKFold(n_splits=3)\n",
    "\n",
    "dt = DecisionTreeClassifier(criterion='entropy',\n",
    "                            random_state=0)\n",
    "\n",
    "for train_index, test_index in sfold.split(X, y):\n",
    "    \n",
    "    X_train, y_train = X[train_index], y[train_index]\n",
    "    X_test, y_test = X[test_index], y[test_index]\n",
    "    \n",
    "    bag = BaggingClassifier(base_estimator=dt, n_jobs=-1, random_state=0)\n",
    "\n",
    "    bag.fit(X_train, y_train)\n",
    "    \n",
    "    pred_train = bag.predict(X_train)\n",
    "    pred_test = bag.predict(X_test)\n",
    "    \n",
    "    acc_train = accuracy_score(y_train, pred_train)\n",
    "    acc_test = accuracy_score(y_test, pred_test)\n",
    "    \n",
    "    acc_train_list.append(acc_train)\n",
    "    acc_test_list.append(acc_test)\n",
    "\n",
    "print('train', acc_train_list, np.mean(acc_train_list))\n",
    "print('test', acc_test_list, np.mean(acc_test_list))\n",
    "\n",
    "bag_train_pos = bag.predict_proba(X_train)[:,1]  \n",
    "bag_test_pos = bag.predict_proba(X_test)[:,1]  \n",
    "\n",
    "print('###################################################')\n",
    "print(roc_auc_score(y_train, bag_train_pos))\n",
    "print(roc_auc_score(y_test, bag_test_pos))"
   ]
  },
  {
   "cell_type": "code",
   "execution_count": null,
   "id": "58b184e8",
   "metadata": {},
   "outputs": [],
   "source": [
    "#매우 빠름 또한 roc_auc_score가 75-77퍼센트라서 사용할 여지가 있어보임"
   ]
  },
  {
   "cell_type": "markdown",
   "id": "6e3ab1fd",
   "metadata": {},
   "source": [
    "## xgboostCalssifier"
   ]
  },
  {
   "cell_type": "markdown",
   "id": "b52aa1ca",
   "metadata": {},
   "source": [
    "### holdout"
   ]
  },
  {
   "cell_type": "code",
   "execution_count": 33,
   "id": "fa76bc5f",
   "metadata": {
    "ExecuteTime": {
     "end_time": "2021-11-27T07:54:20.658758Z",
     "start_time": "2021-11-27T07:54:18.781759Z"
    }
   },
   "outputs": [
    {
     "name": "stderr",
     "output_type": "stream",
     "text": [
      "D:\\Program_Files\\anaconda3\\lib\\site-packages\\xgboost\\sklearn.py:1224: UserWarning: The use of label encoder in XGBClassifier is deprecated and will be removed in a future release. To remove this warning, do the following: 1) Pass option use_label_encoder=False when constructing XGBClassifier object; and 2) Encode your labels (y) as integers starting with 0, i.e. 0, 1, 2, ..., [num_class - 1].\n",
      "  warnings.warn(label_encoder_deprecation_msg, UserWarning)\n"
     ]
    },
    {
     "name": "stdout",
     "output_type": "stream",
     "text": [
      "[16:54:18] WARNING: C:/Users/Administrator/workspace/xgboost-win64_release_1.5.0/src/learner.cc:1115: Starting in XGBoost 1.3.0, the default evaluation metric used with the objective 'binary:logistic' was changed from 'error' to 'logloss'. Explicitly set eval_metric if you'd like to restore the old behavior.\n",
      "0.9502778509167001 0.9311964745988193 0.9335245697181342\n",
      "###################################################\n",
      "0.9230376029221624\n",
      "0.848626221602683\n"
     ]
    }
   ],
   "source": [
    "from sklearn.model_selection import train_test_split\n",
    "from xgboost import XGBClassifier\n",
    "from sklearn.metrics import accuracy_score\n",
    "import numpy as np\n",
    "\n",
    "y = drop_data['SeriousDlqin2yrs'].to_numpy()\n",
    "X = drop_data.drop('SeriousDlqin2yrs', axis=1).to_numpy()\n",
    "\n",
    "from sklearn.model_selection import train_test_split\n",
    "X_train, X_test, y_train, y_test = train_test_split(X, y, stratify=y, random_state=0, test_size=0.2)\n",
    "\n",
    "X_train, X_val, y_train, y_val = train_test_split(X_train, y_train, stratify=y_train, random_state=0)\n",
    "\n",
    "xgb = XGBClassifier(random_state=0)\n",
    "\n",
    "xgb.fit(X_train, y_train)\n",
    "train_pred = xgb.predict(X_train)\n",
    "val_pred = xgb.predict(X_val)\n",
    "test_pred = xgb.predict(X_test)\n",
    "\n",
    "acc_train = accuracy_score(y_train, train_pred)\n",
    "acc_val = accuracy_score(y_val, val_pred)\n",
    "acc_test = accuracy_score(y_test, test_pred)\n",
    "\n",
    "print(acc_train, acc_val, acc_test)\n",
    "\n",
    "xgb_train_pos = xgb.predict_proba(X_train)[:,1]  \n",
    "xgb_test_pos = xgb.predict_proba(X_test)[:,1]  \n",
    "\n",
    "print('###################################################')\n",
    "print(roc_auc_score(y_train, xgb_train_pos))\n",
    "print(roc_auc_score(y_test, xgb_test_pos))"
   ]
  },
  {
   "cell_type": "markdown",
   "id": "b9282a82",
   "metadata": {},
   "source": [
    "###  Stratified"
   ]
  },
  {
   "cell_type": "code",
   "execution_count": 34,
   "id": "aa340c01",
   "metadata": {
    "ExecuteTime": {
     "end_time": "2021-11-27T07:54:59.594604Z",
     "start_time": "2021-11-27T07:54:53.449581Z"
    },
    "scrolled": true
   },
   "outputs": [
    {
     "name": "stderr",
     "output_type": "stream",
     "text": [
      "D:\\Program_Files\\anaconda3\\lib\\site-packages\\xgboost\\sklearn.py:1224: UserWarning: The use of label encoder in XGBClassifier is deprecated and will be removed in a future release. To remove this warning, do the following: 1) Pass option use_label_encoder=False when constructing XGBClassifier object; and 2) Encode your labels (y) as integers starting with 0, i.e. 0, 1, 2, ..., [num_class - 1].\n",
      "  warnings.warn(label_encoder_deprecation_msg, UserWarning)\n"
     ]
    },
    {
     "name": "stdout",
     "output_type": "stream",
     "text": [
      "[16:54:53] WARNING: C:/Users/Administrator/workspace/xgboost-win64_release_1.5.0/src/learner.cc:1115: Starting in XGBoost 1.3.0, the default evaluation metric used with the objective 'binary:logistic' was changed from 'error' to 'logloss'. Explicitly set eval_metric if you'd like to restore the old behavior.\n"
     ]
    },
    {
     "name": "stderr",
     "output_type": "stream",
     "text": [
      "D:\\Program_Files\\anaconda3\\lib\\site-packages\\xgboost\\sklearn.py:1224: UserWarning: The use of label encoder in XGBClassifier is deprecated and will be removed in a future release. To remove this warning, do the following: 1) Pass option use_label_encoder=False when constructing XGBClassifier object; and 2) Encode your labels (y) as integers starting with 0, i.e. 0, 1, 2, ..., [num_class - 1].\n",
      "  warnings.warn(label_encoder_deprecation_msg, UserWarning)\n"
     ]
    },
    {
     "name": "stdout",
     "output_type": "stream",
     "text": [
      "[16:54:55] WARNING: C:/Users/Administrator/workspace/xgboost-win64_release_1.5.0/src/learner.cc:1115: Starting in XGBoost 1.3.0, the default evaluation metric used with the objective 'binary:logistic' was changed from 'error' to 'logloss'. Explicitly set eval_metric if you'd like to restore the old behavior.\n"
     ]
    },
    {
     "name": "stderr",
     "output_type": "stream",
     "text": [
      "D:\\Program_Files\\anaconda3\\lib\\site-packages\\xgboost\\sklearn.py:1224: UserWarning: The use of label encoder in XGBClassifier is deprecated and will be removed in a future release. To remove this warning, do the following: 1) Pass option use_label_encoder=False when constructing XGBClassifier object; and 2) Encode your labels (y) as integers starting with 0, i.e. 0, 1, 2, ..., [num_class - 1].\n",
      "  warnings.warn(label_encoder_deprecation_msg, UserWarning)\n"
     ]
    },
    {
     "name": "stdout",
     "output_type": "stream",
     "text": [
      "[16:54:57] WARNING: C:/Users/Administrator/workspace/xgboost-win64_release_1.5.0/src/learner.cc:1115: Starting in XGBoost 1.3.0, the default evaluation metric used with the objective 'binary:logistic' was changed from 'error' to 'logloss'. Explicitly set eval_metric if you'd like to restore the old behavior.\n",
      "train [0.9499869043016251, 0.9506728694545954, 0.9491144923921178] 0.9499247553827793\n",
      "test [0.9318782738837615, 0.9332252432027938, 0.9329491880565741] 0.9326842350477098\n",
      "###################################################\n",
      "0.9207350492755897\n",
      "0.8463333238362587\n"
     ]
    }
   ],
   "source": [
    "from xgboost import XGBClassifier\n",
    "import numpy as np\n",
    "\n",
    "y = drop_data['SeriousDlqin2yrs'].to_numpy()\n",
    "X = drop_data.drop('SeriousDlqin2yrs', axis=1).to_numpy()\n",
    "\n",
    "from sklearn.model_selection import train_test_split\n",
    "X_train, X_test, y_train, y_test = train_test_split(X, y, stratify=y, random_state=0, test_size=0.2)\n",
    "X_train, X_val, y_train, y_val = train_test_split(X_train, y_train, stratify=y_train, random_state=0)\n",
    "\n",
    "acc_train_list = []\n",
    "acc_test_list =[]\n",
    "\n",
    "sfold= StratifiedKFold(n_splits=3)\n",
    "\n",
    "for train_index, test_index in sfold.split(X, y):\n",
    "    \n",
    "    X_train, y_train = X[train_index], y[train_index]\n",
    "    X_test, y_test = X[test_index], y[test_index]\n",
    "    \n",
    "    xgb = XGBClassifier(random_state=0)\n",
    "    \n",
    "    xgb.fit(X_train, y_train)\n",
    "    \n",
    "    pred_train = xgb.predict(X_train)\n",
    "    pred_test = xgb.predict(X_test)\n",
    "    \n",
    "    acc_train = accuracy_score(y_train, pred_train)\n",
    "    acc_test = accuracy_score(y_test, pred_test)\n",
    "    \n",
    "    acc_train_list.append(acc_train)\n",
    "    acc_test_list.append(acc_test)\n",
    "\n",
    "print('train', acc_train_list, np.mean(acc_train_list))\n",
    "print('test', acc_test_list, np.mean(acc_test_list))\n",
    "\n",
    "xgb_train_pos = xgb.predict_proba(X_train)[:,1]  \n",
    "xgb_test_pos = xgb.predict_proba(X_test)[:,1]  \n",
    "\n",
    "print('###################################################')\n",
    "print(roc_auc_score(y_train, xgb_train_pos))\n",
    "print(roc_auc_score(y_test, xgb_test_pos))"
   ]
  },
  {
   "cell_type": "code",
   "execution_count": 157,
   "id": "46b69a16",
   "metadata": {
    "ExecuteTime": {
     "end_time": "2021-11-26T16:42:43.057705Z",
     "start_time": "2021-11-26T16:42:43.032707Z"
    }
   },
   "outputs": [
    {
     "data": {
      "text/plain": [
       "0.8463333238362587"
      ]
     },
     "execution_count": 157,
     "metadata": {},
     "output_type": "execute_result"
    }
   ],
   "source": [
    "#84언저리로 나오는 것으로 보아 xgboost는 튜닝하면 85는 금방 넘길 듯 함"
   ]
  },
  {
   "cell_type": "markdown",
   "id": "49ca6b0b",
   "metadata": {},
   "source": [
    "## lightgbm"
   ]
  },
  {
   "cell_type": "markdown",
   "id": "a11270b4",
   "metadata": {
    "ExecuteTime": {
     "end_time": "2021-11-25T01:22:27.993297Z",
     "start_time": "2021-11-25T01:22:27.982274Z"
    }
   },
   "source": [
    "### holdout"
   ]
  },
  {
   "cell_type": "code",
   "execution_count": 36,
   "id": "2ee03133",
   "metadata": {
    "ExecuteTime": {
     "end_time": "2021-11-27T07:58:38.937180Z",
     "start_time": "2021-11-27T07:58:38.636027Z"
    }
   },
   "outputs": [
    {
     "name": "stdout",
     "output_type": "stream",
     "text": [
      "0.9413533626196976 0.9322773759042156 0.935187494803359\n",
      "###################################################\n",
      "0.8987340057130102\n",
      "0.8537307089491194\n"
     ]
    }
   ],
   "source": [
    "from sklearn.model_selection import train_test_split\n",
    "from lightgbm import LGBMClassifier\n",
    "from sklearn.metrics import accuracy_score\n",
    "import numpy as np\n",
    "\n",
    "y = drop_data['SeriousDlqin2yrs'].to_numpy()\n",
    "X = drop_data.drop('SeriousDlqin2yrs', axis=1).to_numpy()\n",
    "\n",
    "from sklearn.model_selection import train_test_split\n",
    "X_train, X_test, y_train, y_test = train_test_split(X, y, stratify=y, random_state=0, test_size=0.2)\n",
    "\n",
    "X_train, X_val, y_train, y_val = train_test_split(X_train, y_train, stratify=y_train, random_state=0)\n",
    "\n",
    "lgb = LGBMClassifier(random_state=0)\n",
    "\n",
    "lgb.fit(X_train, y_train)\n",
    "\n",
    "train_pred = lgb.predict(X_train)\n",
    "val_pred = lgb.predict(X_val)\n",
    "test_pred = lgb.predict(X_test)\n",
    "\n",
    "acc_train = accuracy_score(y_train, train_pred)\n",
    "acc_val = accuracy_score(y_val, val_pred)\n",
    "acc_test = accuracy_score(y_test, test_pred)\n",
    "\n",
    "print(acc_train, acc_val, acc_test)\n",
    "\n",
    "lgb_train_pos = lgb.predict_proba(X_train)[:,1]  \n",
    "lgb_test_pos = lgb.predict_proba(X_test)[:,1]  \n",
    "\n",
    "print('###################################################')\n",
    "print(roc_auc_score(y_train, lgb_train_pos))\n",
    "print(roc_auc_score(y_test, lgb_test_pos))"
   ]
  },
  {
   "cell_type": "markdown",
   "id": "087724b9",
   "metadata": {},
   "source": [
    "### StratifiedKFold"
   ]
  },
  {
   "cell_type": "code",
   "execution_count": 39,
   "id": "4d56a11e",
   "metadata": {
    "ExecuteTime": {
     "end_time": "2021-11-27T08:02:30.896625Z",
     "start_time": "2021-11-27T08:02:30.127424Z"
    }
   },
   "outputs": [
    {
     "name": "stdout",
     "output_type": "stream",
     "text": [
      "train [0.9409446363761085, 0.9402960875042093, 0.9404963831379396] 0.9405790356727525\n",
      "test [0.9336991768520828, 0.9346221002743826, 0.9346703584524433] 0.9343305451929695\n",
      "###################################################\n",
      "0.8966056510686764\n",
      "0.8560074564228651\n"
     ]
    }
   ],
   "source": [
    "from sklearn.model_selection import StratifiedKFold\n",
    "from lightgbm import LGBMClassifier\n",
    "import numpy as np\n",
    "\n",
    "y = drop_data['SeriousDlqin2yrs'].to_numpy()\n",
    "X = drop_data.drop('SeriousDlqin2yrs', axis=1).to_numpy()\n",
    "\n",
    "from sklearn.model_selection import train_test_split\n",
    "X_train, X_test, y_train, y_test = train_test_split(X, y, stratify=y, random_state=0, test_size=0.2)\n",
    "X_train, X_val, y_train, y_val = train_test_split(X_train, y_train, stratify=y_train, random_state=0)\n",
    "\n",
    "acc_train_list = []\n",
    "acc_test_list =[]\n",
    "\n",
    "sfold = StratifiedKFold(n_splits=3)\n",
    "\n",
    "for train_index, test_index in sfold.split(X, y):\n",
    "    \n",
    "    X_train, y_train = X[train_index], y[train_index]\n",
    "    X_test, y_test = X[test_index], y[test_index]\n",
    "    \n",
    "    lgb = LGBMClassifier(random_state=0)\n",
    "    \n",
    "    lgb.fit(X_train, y_train)\n",
    "    \n",
    "    pred_train = lgb.predict(X_train)\n",
    "    pred_test = lgb.predict(X_test)\n",
    "    \n",
    "    acc_train = accuracy_score(y_train, pred_train)\n",
    "    acc_test = accuracy_score(y_test, pred_test)\n",
    "    \n",
    "    acc_train_list.append(acc_train)\n",
    "    acc_test_list.append(acc_test)\n",
    "\n",
    "print('train', acc_train_list, np.mean(acc_train_list))\n",
    "print('test', acc_test_list, np.mean(acc_test_list))\n",
    "\n",
    "lgb_train_pos = lgb.predict_proba(X_train)[:,1]  \n",
    "lgb_test_pos = lgb.predict_proba(X_test)[:,1]  \n",
    "\n",
    "print('###################################################')\n",
    "print(roc_auc_score(y_train, lgb_train_pos))\n",
    "print(roc_auc_score(y_test, lgb_test_pos))  "
   ]
  },
  {
   "cell_type": "code",
   "execution_count": 38,
   "id": "78e7b416",
   "metadata": {
    "ExecuteTime": {
     "end_time": "2021-11-27T08:02:25.705977Z",
     "start_time": "2021-11-27T08:02:25.701803Z"
    }
   },
   "outputs": [],
   "source": [
    "#트리 모델 중에서 가장 빠른 속도를 보임.\n",
    "#roc_auc_score 또한 85% 기준치를 충족함 "
   ]
  },
  {
   "cell_type": "markdown",
   "id": "c178a5a0",
   "metadata": {},
   "source": [
    "##  ExtraTreesClassifier"
   ]
  },
  {
   "cell_type": "markdown",
   "id": "d504f0b7",
   "metadata": {},
   "source": [
    "### holdout"
   ]
  },
  {
   "cell_type": "code",
   "execution_count": 40,
   "id": "d5f5c7bd",
   "metadata": {
    "ExecuteTime": {
     "end_time": "2021-11-27T08:04:24.860114Z",
     "start_time": "2021-11-27T08:04:24.709603Z"
    }
   },
   "outputs": [
    {
     "name": "stdout",
     "output_type": "stream",
     "text": [
      "0.9999722841978353 0.8937806601812588 0.8968154984617943\n",
      "###################################################\n",
      "0.9999999910893309\n",
      "0.6111721372708668\n"
     ]
    }
   ],
   "source": [
    "# ExtraTreesClassifier\n",
    "#포레스트 트리의 각 후보 특성을 무작위로 분할하는 식으로 무작위성을 증가시킴\n",
    "from sklearn.model_selection import train_test_split\n",
    "from sklearn.tree import ExtraTreeClassifier\n",
    "from sklearn.metrics import accuracy_score\n",
    "import numpy as np\n",
    "\n",
    "y = drop_data['SeriousDlqin2yrs'].to_numpy()\n",
    "X = drop_data.drop('SeriousDlqin2yrs', axis=1).to_numpy()\n",
    "\n",
    "from sklearn.model_selection import train_test_split\n",
    "X_train, X_test, y_train, y_test = train_test_split(X, y, stratify=y, random_state=0, test_size=0.2)\n",
    "\n",
    "X_train, X_val, y_train, y_val = train_test_split(X_train, y_train, stratify=y_train, random_state=0)\n",
    "\n",
    "extree = ExtraTreeClassifier(random_state=0)\n",
    "\n",
    "extree.fit(X_train, y_train)\n",
    "train_pred = extree.predict(X_train)\n",
    "val_pred = extree.predict(X_val)\n",
    "test_pred = extree.predict(X_test)\n",
    "\n",
    "acc_train = accuracy_score(y_train, train_pred)\n",
    "acc_val = accuracy_score(y_val, val_pred)\n",
    "acc_test = accuracy_score(y_test, test_pred)\n",
    "\n",
    "print(acc_train, acc_val, acc_test)\n",
    "\n",
    "extree_train_pos = extree.predict_proba(X_train)[:,1]  \n",
    "extree_test_pos = extree.predict_proba(X_test)[:,1]  \n",
    "\n",
    "print('###################################################')\n",
    "print(roc_auc_score(y_train, extree_train_pos))\n",
    "print(roc_auc_score(y_test, extree_test_pos))"
   ]
  },
  {
   "cell_type": "markdown",
   "id": "da4c22a1",
   "metadata": {},
   "source": [
    "### StratifiedKFold"
   ]
  },
  {
   "cell_type": "code",
   "execution_count": 41,
   "id": "42628a66",
   "metadata": {
    "ExecuteTime": {
     "end_time": "2021-11-27T08:06:01.233913Z",
     "start_time": "2021-11-27T08:06:00.917884Z"
    }
   },
   "outputs": [
    {
     "name": "stdout",
     "output_type": "stream",
     "text": [
      "train [0.9999875279063096, 0.9999750558126193, 1.0] 0.9999875279063096\n",
      "test [0.893788974806685, 0.8953105512596657, 0.8970789992267205] 0.8953928417643571\n",
      "###################################################\n",
      "1.0\n",
      "0.6069556847884969\n"
     ]
    }
   ],
   "source": [
    "from sklearn.model_selection import StratifiedKFold\n",
    "from sklearn.tree import ExtraTreeClassifier\n",
    "import numpy as np\n",
    "\n",
    "y = drop_data['SeriousDlqin2yrs'].to_numpy()\n",
    "X = drop_data.drop('SeriousDlqin2yrs', axis=1).to_numpy()\n",
    "\n",
    "from sklearn.model_selection import train_test_split\n",
    "X_train, X_test, y_train, y_test = train_test_split(X, y, stratify=y, random_state=0, test_size=0.2)\n",
    "X_train, X_val, y_train, y_val = train_test_split(X_train, y_train, stratify=y_train, random_state=0)\n",
    "\n",
    "acc_train_list = []\n",
    "acc_test_list =[]\n",
    "\n",
    "sfold = StratifiedKFold(n_splits=3)\n",
    "\n",
    "for train_index, test_index in sfold.split(X, y):\n",
    "    \n",
    "    X_train, y_train = X[train_index], y[train_index]\n",
    "    X_test, y_test = X[test_index], y[test_index]\n",
    "    \n",
    "    extree = ExtraTreeClassifier(random_state=0)\n",
    "    \n",
    "    extree.fit(X_train, y_train)\n",
    "    \n",
    "    pred_train = extree.predict(X_train)\n",
    "    pred_test = extree.predict(X_test)\n",
    "    \n",
    "    acc_train = accuracy_score(y_train, pred_train)\n",
    "    acc_test = accuracy_score(y_test, pred_test)\n",
    "    \n",
    "    acc_train_list.append(acc_train)\n",
    "    acc_test_list.append(acc_test)\n",
    "\n",
    "    \n",
    "print('train', acc_train_list, np.mean(acc_train_list))\n",
    "print('test', acc_test_list, np.mean(acc_test_list))   \n",
    "\n",
    "extree_train_pos = extree.predict_proba(X_train)[:,1]  \n",
    "extree_test_pos = extree.predict_proba(X_test)[:,1]  \n",
    "\n",
    "print('###################################################')\n",
    "print(roc_auc_score(y_train, extree_train_pos))\n",
    "print(roc_auc_score(y_test, extree_test_pos))"
   ]
  },
  {
   "cell_type": "code",
   "execution_count": 42,
   "id": "42eab88b",
   "metadata": {
    "ExecuteTime": {
     "end_time": "2021-11-27T08:06:40.039226Z",
     "start_time": "2021-11-27T08:06:40.023228Z"
    }
   },
   "outputs": [],
   "source": [
    "#ExtraTreeClassifier 속도는 빠르나 roc_auc_score는 떨어짐"
   ]
  },
  {
   "cell_type": "markdown",
   "id": "610e6a98",
   "metadata": {
    "ExecuteTime": {
     "end_time": "2021-11-24T16:38:10.322111Z",
     "start_time": "2021-11-24T16:38:10.313075Z"
    }
   },
   "source": [
    "# 그외 baseline model"
   ]
  },
  {
   "cell_type": "markdown",
   "id": "eaba72c0",
   "metadata": {
    "ExecuteTime": {
     "end_time": "2021-11-25T00:13:06.522858Z",
     "start_time": "2021-11-25T00:13:06.508824Z"
    }
   },
   "source": [
    "## 원핫인코딩"
   ]
  },
  {
   "cell_type": "markdown",
   "id": "5d898c15",
   "metadata": {},
   "source": [
    "#레이블 인코딩\n",
    "- 숫자의 차이가 모델에 영향을 주지 않는 트리 계열 모델(의사결정나무, 랜덤포레스트)에 적용한다.\n",
    "- 숫자의 차이가 모델에 영향을 미치는 선형 계열 모델(로지스틱회귀, SVM, 신경망)에는 사용하면 안된다.\n",
    "\n",
    "#원핫인코딩\n",
    "- 숫자의 차이가 모델에 영향을 미치는 선형 계열 모델(로지스틱회귀, SVM, 신경망)에서 범주형 데이터 변환시 Label Encoding보다 One Hot Encoding을 사용한다.\n",
    "- DecisionTree 계열의 알고리즘은 Feature에 0이 많은 경우(Sparse Matrix라고 한다.) 성능이 떨어지기 때문에 Label Encoding을 한다.\n",
    "\n",
    "선형모델(로지스틱 회귀, svm, 신경망)\n",
    "-원핫인코딩 ,스케일 변환 필요\n",
    "\n",
    "비선형모델(트리계열 알고리즘)\n",
    "-레이블인코딩\n",
    "\n"
   ]
  },
  {
   "cell_type": "code",
   "execution_count": 208,
   "id": "fbad7595",
   "metadata": {
    "ExecuteTime": {
     "end_time": "2021-11-25T07:24:56.282295Z",
     "start_time": "2021-11-25T07:24:56.269294Z"
    },
    "scrolled": true
   },
   "outputs": [
    {
     "data": {
      "text/plain": [
       "Index(['SeriousDlqin2yrs', 'RevolvingUtilizationOfUnsecuredLines', 'age',\n",
       "       'NumberOfTime30-59DaysPastDueNotWorse', 'DebtRatio', 'MonthlyIncome',\n",
       "       'NumberOfOpenCreditLinesAndLoans', 'NumberOfTimes90DaysLate',\n",
       "       'NumberRealEstateLoansOrLines', 'NumberOfTime60-89DaysPastDueNotWorse',\n",
       "       'NumberOfDependents'],\n",
       "      dtype='object')"
      ]
     },
     "execution_count": 208,
     "metadata": {},
     "output_type": "execute_result"
    }
   ],
   "source": [
    "drop_data.columns"
   ]
  },
  {
   "cell_type": "code",
   "execution_count": 207,
   "id": "02843a3a",
   "metadata": {
    "ExecuteTime": {
     "end_time": "2021-11-25T07:24:26.491570Z",
     "start_time": "2021-11-25T07:24:26.456559Z"
    },
    "scrolled": true
   },
   "outputs": [
    {
     "data": {
      "text/html": [
       "<div>\n",
       "<style scoped>\n",
       "    .dataframe tbody tr th:only-of-type {\n",
       "        vertical-align: middle;\n",
       "    }\n",
       "\n",
       "    .dataframe tbody tr th {\n",
       "        vertical-align: top;\n",
       "    }\n",
       "\n",
       "    .dataframe thead th {\n",
       "        text-align: right;\n",
       "    }\n",
       "</style>\n",
       "<table border=\"1\" class=\"dataframe\">\n",
       "  <thead>\n",
       "    <tr style=\"text-align: right;\">\n",
       "      <th></th>\n",
       "      <th>RevolvingUtilizationOfUnsecuredLines</th>\n",
       "      <th>age</th>\n",
       "      <th>NumberOfTime30-59DaysPastDueNotWorse</th>\n",
       "      <th>DebtRatio</th>\n",
       "      <th>MonthlyIncome</th>\n",
       "      <th>NumberOfOpenCreditLinesAndLoans</th>\n",
       "      <th>NumberOfTimes90DaysLate</th>\n",
       "      <th>NumberRealEstateLoansOrLines</th>\n",
       "      <th>NumberOfTime60-89DaysPastDueNotWorse</th>\n",
       "      <th>NumberOfDependents</th>\n",
       "      <th>SeriousDlqin2yrs</th>\n",
       "    </tr>\n",
       "  </thead>\n",
       "  <tbody>\n",
       "    <tr>\n",
       "      <th>0</th>\n",
       "      <td>0.766127</td>\n",
       "      <td>45</td>\n",
       "      <td>2</td>\n",
       "      <td>0.802982</td>\n",
       "      <td>9120.0</td>\n",
       "      <td>13</td>\n",
       "      <td>0</td>\n",
       "      <td>6</td>\n",
       "      <td>0</td>\n",
       "      <td>2.0</td>\n",
       "      <td>1</td>\n",
       "    </tr>\n",
       "    <tr>\n",
       "      <th>1</th>\n",
       "      <td>0.957151</td>\n",
       "      <td>40</td>\n",
       "      <td>0</td>\n",
       "      <td>0.121876</td>\n",
       "      <td>2600.0</td>\n",
       "      <td>4</td>\n",
       "      <td>0</td>\n",
       "      <td>0</td>\n",
       "      <td>0</td>\n",
       "      <td>1.0</td>\n",
       "      <td>0</td>\n",
       "    </tr>\n",
       "    <tr>\n",
       "      <th>2</th>\n",
       "      <td>0.658180</td>\n",
       "      <td>38</td>\n",
       "      <td>1</td>\n",
       "      <td>0.085113</td>\n",
       "      <td>3042.0</td>\n",
       "      <td>2</td>\n",
       "      <td>1</td>\n",
       "      <td>0</td>\n",
       "      <td>0</td>\n",
       "      <td>0.0</td>\n",
       "      <td>0</td>\n",
       "    </tr>\n",
       "    <tr>\n",
       "      <th>3</th>\n",
       "      <td>0.233810</td>\n",
       "      <td>30</td>\n",
       "      <td>0</td>\n",
       "      <td>0.036050</td>\n",
       "      <td>3300.0</td>\n",
       "      <td>5</td>\n",
       "      <td>0</td>\n",
       "      <td>0</td>\n",
       "      <td>0</td>\n",
       "      <td>0.0</td>\n",
       "      <td>0</td>\n",
       "    </tr>\n",
       "    <tr>\n",
       "      <th>4</th>\n",
       "      <td>0.907239</td>\n",
       "      <td>49</td>\n",
       "      <td>1</td>\n",
       "      <td>0.024926</td>\n",
       "      <td>63588.0</td>\n",
       "      <td>7</td>\n",
       "      <td>0</td>\n",
       "      <td>1</td>\n",
       "      <td>0</td>\n",
       "      <td>0.0</td>\n",
       "      <td>0</td>\n",
       "    </tr>\n",
       "  </tbody>\n",
       "</table>\n",
       "</div>"
      ],
      "text/plain": [
       "   RevolvingUtilizationOfUnsecuredLines  age  \\\n",
       "0                              0.766127   45   \n",
       "1                              0.957151   40   \n",
       "2                              0.658180   38   \n",
       "3                              0.233810   30   \n",
       "4                              0.907239   49   \n",
       "\n",
       "   NumberOfTime30-59DaysPastDueNotWorse  DebtRatio  MonthlyIncome  \\\n",
       "0                                     2   0.802982         9120.0   \n",
       "1                                     0   0.121876         2600.0   \n",
       "2                                     1   0.085113         3042.0   \n",
       "3                                     0   0.036050         3300.0   \n",
       "4                                     1   0.024926        63588.0   \n",
       "\n",
       "   NumberOfOpenCreditLinesAndLoans  NumberOfTimes90DaysLate  \\\n",
       "0                               13                        0   \n",
       "1                                4                        0   \n",
       "2                                2                        1   \n",
       "3                                5                        0   \n",
       "4                                7                        0   \n",
       "\n",
       "   NumberRealEstateLoansOrLines  NumberOfTime60-89DaysPastDueNotWorse  \\\n",
       "0                             6                                     0   \n",
       "1                             0                                     0   \n",
       "2                             0                                     0   \n",
       "3                             0                                     0   \n",
       "4                             1                                     0   \n",
       "\n",
       "   NumberOfDependents  SeriousDlqin2yrs  \n",
       "0                 2.0                 1  \n",
       "1                 1.0                 0  \n",
       "2                 0.0                 0  \n",
       "3                 0.0                 0  \n",
       "4                 0.0                 0  "
      ]
     },
     "execution_count": 207,
     "metadata": {},
     "output_type": "execute_result"
    }
   ],
   "source": [
    "#test\n",
    "from sklearn.preprocessing import OneHotEncoder\n",
    "ohe = OneHotEncoder()\n",
    "\n",
    "#get_dummies\n",
    "ohe_drop_data_data=pd.get_dummies(drop_data.drop(columns='SeriousDlqin2yrs'))\n",
    "\n",
    "ohe_d=ohe_drop_data_data.join(drop_data['SeriousDlqin2yrs'])\n",
    "ohe_d.head()\n",
    "\n",
    "#변환할게 없음"
   ]
  },
  {
   "cell_type": "markdown",
   "id": "f85c558f",
   "metadata": {},
   "source": [
    "## LogisticRegression"
   ]
  },
  {
   "cell_type": "markdown",
   "id": "1b7fde69",
   "metadata": {},
   "source": [
    "### StandardScaler"
   ]
  },
  {
   "cell_type": "markdown",
   "id": "eec47ec2",
   "metadata": {},
   "source": [
    "#### holdout"
   ]
  },
  {
   "cell_type": "code",
   "execution_count": 67,
   "id": "5883c3b4",
   "metadata": {
    "ExecuteTime": {
     "end_time": "2021-11-27T10:56:00.161693Z",
     "start_time": "2021-11-27T10:55:59.982694Z"
    }
   },
   "outputs": [
    {
     "name": "stdout",
     "output_type": "stream",
     "text": [
      "0.9309460789068887 0.9305313045647293 0.9321942296499542\n",
      "###################################################\n",
      "0.6854431699540986\n",
      "0.6921501215189255\n"
     ]
    }
   ],
   "source": [
    "from sklearn.linear_model import LogisticRegression\n",
    "\n",
    "y = drop_data['SeriousDlqin2yrs'].to_numpy()\n",
    "X = drop_data.drop('SeriousDlqin2yrs', axis=1).to_numpy()\n",
    "\n",
    "from sklearn.model_selection import train_test_split\n",
    "X_train, X_test, y_train, y_test = train_test_split(X, y, stratify=y, random_state=0, test_size=0.2)\n",
    "\n",
    "X_train, X_val, y_train, y_val = train_test_split(X_train, y_train, stratify=y_train, random_state=0)\n",
    "\n",
    "#scaling\n",
    "from sklearn.preprocessing import StandardScaler\n",
    "sd=StandardScaler()\n",
    "\n",
    "X_train=sd.fit_transform(X_train)\n",
    "X_val=sd.transform(X_val)\n",
    "X_test=sd.transform(X_test)\n",
    "\n",
    "lr = LogisticRegression(random_state=0)\n",
    "\n",
    "lr=lr.fit(X_train, y_train)\n",
    "train_pred = lr.predict(X_train)\n",
    "val_pred = lr.predict(X_val)\n",
    "test_pred = lr.predict(X_test)\n",
    "\n",
    "acc_train = accuracy_score(y_train, train_pred)\n",
    "acc_val = accuracy_score(y_val, val_pred)\n",
    "acc_test = accuracy_score(y_test, test_pred)\n",
    "\n",
    "print(acc_train, acc_val, acc_test)\n",
    "\n",
    "lr_train_pos = lr.predict_proba(X_train)[:,1]  \n",
    "lr_test_pos = lr.predict_proba(X_test)[:,1]  \n",
    "\n",
    "print('###################################################')\n",
    "print(roc_auc_score(y_train, lr_train_pos))\n",
    "print(roc_auc_score(y_test, lr_test_pos))"
   ]
  },
  {
   "cell_type": "markdown",
   "id": "11ed0924",
   "metadata": {},
   "source": [
    "#### StratifiedKFold"
   ]
  },
  {
   "cell_type": "code",
   "execution_count": 68,
   "id": "6ba0b3b9",
   "metadata": {
    "ExecuteTime": {
     "end_time": "2021-11-27T10:56:00.626694Z",
     "start_time": "2021-11-27T10:56:00.222694Z"
    }
   },
   "outputs": [
    {
     "name": "stdout",
     "output_type": "stream",
     "text": [
      "[0.93090546 0.93127962 0.93145252] 0.931212533903036\n",
      "###################################################\n",
      "0.6854431699540986\n",
      "0.6921501215189255\n"
     ]
    }
   ],
   "source": [
    "from sklearn.model_selection import StratifiedKFold\n",
    "from sklearn.model_selection import cross_val_score\n",
    "\n",
    "from sklearn.linear_model import LogisticRegression\n",
    "from sklearn.metrics import auc\n",
    "\n",
    "import numpy as np\n",
    "\n",
    "y = drop_data['SeriousDlqin2yrs'].to_numpy()\n",
    "X = drop_data.drop('SeriousDlqin2yrs', axis=1).to_numpy()\n",
    "\n",
    "from sklearn.pipeline import Pipeline\n",
    "scalar = StandardScaler()\n",
    "lr = LogisticRegression(random_state=0)\n",
    "\n",
    "pipeline = Pipeline([('transformer', scalar), ('estimator', lr)])\n",
    "\n",
    "cv = StratifiedKFold(n_splits=3)\n",
    "\n",
    "scores = cross_val_score(pipeline, X, y, cv = cv)\n",
    "print(scores, np.mean(scores)) \n",
    "\n",
    "#아래 부분처럼 하는게 맞는지 확신이 안 들음\n",
    "pipeline.fit(X_train, y_train)\n",
    "\n",
    "lr_train_pos = pipeline.predict_proba(X_train)\n",
    "lr_test_pos = pipeline.predict_proba(X_test)\n",
    "\n",
    "print('###################################################')\n",
    "print(roc_auc_score(y_train,lr_train_pos[:,1]))\n",
    "print(roc_auc_score(y_test, lr_test_pos[:,1]))"
   ]
  },
  {
   "cell_type": "markdown",
   "id": "af16287c",
   "metadata": {},
   "source": [
    "### MinMaxScaler"
   ]
  },
  {
   "cell_type": "markdown",
   "id": "9435ed8a",
   "metadata": {},
   "source": [
    "#### holdout"
   ]
  },
  {
   "cell_type": "code",
   "execution_count": 69,
   "id": "05d74a92",
   "metadata": {
    "ExecuteTime": {
     "end_time": "2021-11-27T10:56:00.926693Z",
     "start_time": "2021-11-27T10:56:00.687694Z"
    }
   },
   "outputs": [
    {
     "name": "stdout",
     "output_type": "stream",
     "text": [
      "0.9305996313798313 0.9304897314375987 0.9311133283445581\n",
      "###################################################\n",
      "0.655966531384692\n",
      "0.6505858658387537\n"
     ]
    }
   ],
   "source": [
    "from sklearn.linear_model import LogisticRegression\n",
    "\n",
    "y = drop_data['SeriousDlqin2yrs'].to_numpy()\n",
    "X = drop_data.drop('SeriousDlqin2yrs', axis=1).to_numpy()\n",
    "\n",
    "from sklearn.model_selection import train_test_split\n",
    "X_train, X_test, y_train, y_test = train_test_split(X, y, stratify=y, random_state=0, test_size=0.2)\n",
    "\n",
    "X_train, X_val, y_train, y_val = train_test_split(X_train, y_train, stratify=y_train, random_state=0)\n",
    "\n",
    "#scaling\n",
    "from sklearn.preprocessing import MinMaxScaler\n",
    "mm=MinMaxScaler()\n",
    "\n",
    "X_train=mm.fit_transform(X_train)\n",
    "X_val=mm.transform(X_val)\n",
    "X_test=mm.transform(X_test)\n",
    "\n",
    "lr = LogisticRegression(random_state=0)\n",
    "\n",
    "lr=lr.fit(X_train, y_train)\n",
    "train_pred = lr.predict(X_train)\n",
    "val_pred = lr.predict(X_val)\n",
    "test_pred = lr.predict(X_test)\n",
    "\n",
    "acc_train = accuracy_score(y_train, train_pred)\n",
    "acc_val = accuracy_score(y_val, val_pred)\n",
    "acc_test = accuracy_score(y_test, test_pred)\n",
    "\n",
    "print(acc_train, acc_val, acc_test)\n",
    "\n",
    "lr_train_pos = lr.predict_proba(X_train)[:,1]  \n",
    "lr_test_pos = lr.predict_proba(X_test)[:,1]  \n",
    "\n",
    "print('###################################################')\n",
    "print(roc_auc_score(y_train, lr_train_pos))\n",
    "print(roc_auc_score(y_test, lr_test_pos))"
   ]
  },
  {
   "cell_type": "markdown",
   "id": "c47d71ef",
   "metadata": {},
   "source": [
    "#### StratifiedKFold"
   ]
  },
  {
   "cell_type": "code",
   "execution_count": null,
   "id": "77581cac",
   "metadata": {
    "ExecuteTime": {
     "end_time": "2021-11-27T12:18:16.421273Z",
     "start_time": "2021-11-27T12:18:16.421273Z"
    }
   },
   "outputs": [],
   "source": [
    "from sklearn.model_selection import StratifiedKFold\n",
    "from sklearn.linear_model import LogisticRegression\n",
    "import numpy as np\n",
    "\n",
    "y = drop_data['SeriousDlqin2yrs'].to_numpy()\n",
    "X = drop_data.drop('SeriousDlqin2yrs', axis=1).to_numpy()\n",
    "\n",
    "from sklearn.pipeline import Pipeline\n",
    "from sklearn.preprocessing import MinMaxScaler\n",
    "scaler= MinMaxScaler()\n",
    "lr = LogisticRegression(random_state=0)\n",
    "\n",
    "pipeline = Pipeline([('transformer', scaler), ('estimator', lr)])\n",
    "cv = StratifiedKFold(n_splits=3)\n",
    "\n",
    "scores = cross_val_score(pipeline, X, y, cv=cv)\n",
    "print(scores, np.mean(scores))\n",
    "\n",
    "pipeline.fit(X_train, y_train)\n",
    "\n",
    "lr_train_pos = pipeline.predict_proba(X_train)\n",
    "lr_test_pos = pipeline.predict_proba(X_test)\n",
    "\n",
    "print('###################################################')\n",
    "print(roc_auc_score(y_train,lr_train_pos[:,1]))\n",
    "print(roc_auc_score(y_test, lr_test_pos[:,1]))"
   ]
  },
  {
   "cell_type": "code",
   "execution_count": null,
   "id": "1af8c968",
   "metadata": {
    "ExecuteTime": {
     "end_time": "2021-11-27T12:18:16.423272Z",
     "start_time": "2021-11-27T12:18:16.423272Z"
    }
   },
   "outputs": [],
   "source": [
    "#logisticRegression은 생각보다 베이스라인 모델의 점수가 낮게나옴"
   ]
  },
  {
   "cell_type": "markdown",
   "id": "f005fd96",
   "metadata": {},
   "source": [
    "## knn"
   ]
  },
  {
   "cell_type": "markdown",
   "id": "b263e5e8",
   "metadata": {},
   "source": [
    "### StandardScaler"
   ]
  },
  {
   "cell_type": "markdown",
   "id": "2d302131",
   "metadata": {},
   "source": [
    "#### holdout"
   ]
  },
  {
   "cell_type": "code",
   "execution_count": 66,
   "id": "3ceac9dd",
   "metadata": {
    "ExecuteTime": {
     "end_time": "2021-11-27T10:55:59.921694Z",
     "start_time": "2021-11-27T10:55:37.587991Z"
    }
   },
   "outputs": [
    {
     "name": "stdout",
     "output_type": "stream",
     "text": [
      "0.9397597039952329 0.9313211939802112 0.9300324270391619\n",
      "###################################################\n",
      "0.9437909653527111\n",
      "0.6860000481792508\n"
     ]
    }
   ],
   "source": [
    "from sklearn.neighbors import KNeighborsClassifier\n",
    "from sklearn.preprocessing import StandardScaler\n",
    "\n",
    "y = drop_data['SeriousDlqin2yrs'].to_numpy()\n",
    "X = drop_data.drop('SeriousDlqin2yrs', axis=1).to_numpy()\n",
    "\n",
    "from sklearn.model_selection import train_test_split\n",
    "X_train, X_test, y_train, y_test = train_test_split(X, y, stratify=y, random_state=0, test_size=0.2)\n",
    "\n",
    "X_train, X_val, y_train, y_val = train_test_split(X_train, y_train, stratify=y_train, random_state=0)\n",
    "\n",
    "#scaling\n",
    "ss=StandardScaler()\n",
    "\n",
    "X_train=ss.fit_transform(X_train)\n",
    "X_val=ss.transform(X_val)\n",
    "X_test=ss.transform(X_test)\n",
    "\n",
    "knn = KNeighborsClassifier()\n",
    "knn = knn.fit(X_train, y_train)\n",
    "\n",
    "train_pred = knn.predict(X_train)\n",
    "val_pred = knn.predict(X_val)\n",
    "test_pred = knn.predict(X_test)\n",
    "\n",
    "acc_train = accuracy_score(y_train, train_pred)\n",
    "acc_val = accuracy_score(y_val, val_pred)\n",
    "acc_test = accuracy_score(y_test, test_pred)\n",
    "\n",
    "print(acc_train, acc_val, acc_test)\n",
    "\n",
    "knn_train_pos = knn.predict_proba(X_train)[:,1]  \n",
    "knn_test_pos = knn.predict_proba(X_test)[:,1]  \n",
    "\n",
    "print('###################################################')\n",
    "print(roc_auc_score(y_train, knn_train_pos))\n",
    "print(roc_auc_score(y_test, knn_test_pos))"
   ]
  },
  {
   "cell_type": "markdown",
   "id": "a2216dd2",
   "metadata": {},
   "source": [
    "#### StratifiedKFold"
   ]
  },
  {
   "cell_type": "code",
   "execution_count": 73,
   "id": "82fcdab5",
   "metadata": {
    "ExecuteTime": {
     "end_time": "2021-11-27T10:57:33.001348Z",
     "start_time": "2021-11-27T10:57:09.613063Z"
    }
   },
   "outputs": [
    {
     "name": "stdout",
     "output_type": "stream",
     "text": [
      "[0.92960838 0.92965827 0.93023024] 0.9298322959194955\n",
      "###################################################\n",
      "0.9437909653527111\n",
      "0.6860000481792508\n"
     ]
    }
   ],
   "source": [
    "from sklearn.model_selection import StratifiedKFold\n",
    "from sklearn.neighbors import KNeighborsClassifier\n",
    "from sklearn.model_selection import cross_val_score\n",
    "import numpy as np\n",
    "\n",
    "y= drop_data['SeriousDlqin2yrs'].to_numpy() #values\n",
    "X= drop_data.drop('SeriousDlqin2yrs', axis=1).to_numpy()\n",
    "\n",
    "from sklearn.pipeline import Pipeline \n",
    "from sklearn.preprocessing import StandardScaler\n",
    "\n",
    "ss = StandardScaler()\n",
    "knn = KNeighborsClassifier()\n",
    "\n",
    "pipeline = Pipeline([('transformer', ss), ('estimator', knn)])\n",
    "cv = StratifiedKFold(n_splits=3)\n",
    "\n",
    "scores = cross_val_score(pipeline, X, y, cv=cv)\n",
    "print(scores, np.mean(scores))\n",
    "\n",
    "pipeline.fit(X_train, y_train)\n",
    "\n",
    "knn_train_pos = pipeline.predict_proba(X_train)\n",
    "knn_test_pos = pipeline.predict_proba(X_test)\n",
    "\n",
    "print('###################################################')\n",
    "print(roc_auc_score(y_train,knn_train_pos[:,1]))\n",
    "print(roc_auc_score(y_test, knn_test_pos[:,1]))"
   ]
  },
  {
   "cell_type": "markdown",
   "id": "056e0729",
   "metadata": {},
   "source": [
    "### MinMaxScaler"
   ]
  },
  {
   "cell_type": "markdown",
   "id": "b96b7545",
   "metadata": {
    "ExecuteTime": {
     "end_time": "2021-11-26T13:47:10.713748Z",
     "start_time": "2021-11-26T13:47:10.710749Z"
    }
   },
   "source": [
    "#### holdoutScaler"
   ]
  },
  {
   "cell_type": "code",
   "execution_count": 12,
   "id": "144903ae",
   "metadata": {
    "ExecuteTime": {
     "end_time": "2021-11-27T12:37:06.273209Z",
     "start_time": "2021-11-27T12:36:52.987912Z"
    },
    "scrolled": true
   },
   "outputs": [
    {
     "name": "stdout",
     "output_type": "stream",
     "text": [
      "0.9382907664805089 0.9303234389290762 0.9308223164546438\n",
      "###################################################\n",
      "0.9443044188916425\n",
      "0.6427852922169147\n"
     ]
    }
   ],
   "source": [
    "from sklearn.linear_model import LogisticRegression\n",
    "from sklearn.neighbors import KNeighborsClassifier\n",
    "from sklearn.preprocessing import MinMaxScaler\n",
    "from sklearn.metrics import roc_auc_score\n",
    "\n",
    "y = drop_data['SeriousDlqin2yrs'].to_numpy()\n",
    "X = drop_data.drop('SeriousDlqin2yrs', axis=1).to_numpy()\n",
    "\n",
    "from sklearn.model_selection import train_test_split\n",
    "X_train, X_test, y_train, y_test = train_test_split(X, y, stratify=y, random_state=0, test_size=0.2)\n",
    "\n",
    "X_train, X_val, y_train, y_val = train_test_split(X_train, y_train, stratify=y_train, random_state=0)\n",
    "\n",
    "#scaling\n",
    "from sklearn.preprocessing import MinMaxScaler\n",
    "mm=MinMaxScaler()\n",
    "\n",
    "X_train=mm.fit_transform(X_train)\n",
    "X_val=mm.transform(X_val)\n",
    "X_test=mm.transform(X_test)\n",
    "\n",
    "knn = KNeighborsClassifier()\n",
    "knn = knn.fit(X_train, y_train)\n",
    "\n",
    "train_pred = knn.predict(X_train)\n",
    "val_pred = knn.predict(X_val)\n",
    "test_pred = knn.predict(X_test)\n",
    "\n",
    "acc_train = accuracy_score(y_train, train_pred)\n",
    "acc_val = accuracy_score(y_val, val_pred)\n",
    "acc_test = accuracy_score(y_test, test_pred)\n",
    "\n",
    "acc_train = accuracy_score(y_train, train_pred)\n",
    "acc_val = accuracy_score(y_val, val_pred)\n",
    "acc_test = accuracy_score(y_test, test_pred)\n",
    "\n",
    "print(acc_train, acc_val, acc_test)\n",
    "\n",
    "knn_train_pos = knn.predict_proba(X_train)[:,1]  \n",
    "knn_test_pos = knn.predict_proba(X_test)[:,1]  \n",
    "\n",
    "print('###################################################')\n",
    "print(roc_auc_score(y_train, knn_train_pos))\n",
    "print(roc_auc_score(y_test, knn_test_pos))"
   ]
  },
  {
   "cell_type": "markdown",
   "id": "589c89ae",
   "metadata": {},
   "source": [
    "#### StratifiedKfold"
   ]
  },
  {
   "cell_type": "code",
   "execution_count": 14,
   "id": "3b996165",
   "metadata": {
    "ExecuteTime": {
     "end_time": "2021-11-27T11:33:02.304830Z",
     "start_time": "2021-11-27T11:32:48.147396Z"
    }
   },
   "outputs": [
    {
     "name": "stdout",
     "output_type": "stream",
     "text": [
      "[0.92980793 0.93020703 0.93065429] 0.9302230868403941\n",
      "###################################################\n",
      "0.9442939533109103\n",
      "0.6427852922169147\n"
     ]
    }
   ],
   "source": [
    "from sklearn.preprocessing import MinMaxScaler\n",
    "from sklearn.model_selection import StratifiedKFold\n",
    "from sklearn.neighbors import KNeighborsClassifier\n",
    "from sklearn.model_selection import cross_val_score\n",
    "import numpy as np\n",
    "\n",
    "y= drop_data['SeriousDlqin2yrs'].to_numpy() #values\n",
    "X= drop_data.drop('SeriousDlqin2yrs', axis=1).to_numpy()\n",
    "\n",
    "from sklearn.pipeline import Pipeline \n",
    "from sklearn.preprocessing import StandardScaler\n",
    "\n",
    "mm = MinMaxScaler()\n",
    "knn = KNeighborsClassifier()\n",
    "\n",
    "pipeline = Pipeline([('transformer', mm), ('estimator', knn)])\n",
    "cv = StratifiedKFold(n_splits=3)\n",
    "\n",
    "scores = cross_val_score(pipeline, X, y, cv=cv)\n",
    "print(scores, np.mean(scores))\n",
    "\n",
    "pipeline.fit(X_train, y_train)\n",
    "\n",
    "knn_train_pos = pipeline.predict_proba(X_train)\n",
    "knn_test_pos = pipeline.predict_proba(X_test)\n",
    "\n",
    "print('###################################################')\n",
    "print(roc_auc_score(y_train,knn_train_pos[:,1]))\n",
    "print(roc_auc_score(y_test, knn_test_pos[:,1]))"
   ]
  },
  {
   "cell_type": "code",
   "execution_count": null,
   "id": "1fc73643",
   "metadata": {},
   "outputs": [],
   "source": [
    "#knn 모델은 70 이하로 나와서 제외"
   ]
  },
  {
   "cell_type": "markdown",
   "id": "884c6665",
   "metadata": {},
   "source": [
    "## SVC"
   ]
  },
  {
   "cell_type": "markdown",
   "id": "6376f939",
   "metadata": {},
   "source": [
    "### StandardScaler"
   ]
  },
  {
   "cell_type": "markdown",
   "id": "8b75f70b",
   "metadata": {},
   "source": [
    "#### holdout"
   ]
  },
  {
   "cell_type": "code",
   "execution_count": 16,
   "id": "6233b08f",
   "metadata": {
    "ExecuteTime": {
     "end_time": "2021-11-27T11:43:24.545551Z",
     "start_time": "2021-11-27T11:33:47.814787Z"
    },
    "scrolled": true
   },
   "outputs": [
    {
     "name": "stdout",
     "output_type": "stream",
     "text": [
      "0.9327060323443411 0.9315706327429949 0.933108838446828\n",
      "###################################################\n",
      "0.4972195920732566\n",
      "0.49663292006925935\n"
     ]
    }
   ],
   "source": [
    "from sklearn.svm import SVC\n",
    "from sklearn.model_selection import train_test_split\n",
    "from sklearn.preprocessing import StandardScaler\n",
    "from sklearn.metrics import accuracy_score\n",
    "\n",
    "X_train, X_test, y_train, y_test = train_test_split(X, y, stratify=y, random_state=0, test_size=0.2)\n",
    "\n",
    "X_train, X_val, y_train, y_val = train_test_split(X_train, y_train, stratify=y_train, random_state=0)\n",
    "\n",
    "ss=StandardScaler()\n",
    "X_train_scaled = ss.fit_transform(X_train)\n",
    "X_val_scaled = ss.transform(X_val)\n",
    "X_test_scaled = ss.transform(X_test)\n",
    "\n",
    "svc = SVC(random_state=0, probability=True)\n",
    "svc.fit(X_train_scaled, y_train)\n",
    "\n",
    "pred_train = svc.predict(X_train_scaled)\n",
    "pred_val = svc.predict(X_val_scaled)\n",
    "pred_test = svc.predict(X_test_scaled)\n",
    "\n",
    "acc_train = accuracy_score(y_train, pred_train)\n",
    "acc_val = accuracy_score(y_val, pred_val)\n",
    "acc_test = accuracy_score(y_test, pred_test)\n",
    "\n",
    "print(acc_train, acc_val, acc_test)\n",
    "\n",
    "svc_train_pos = pipeline.predict_proba(X_train)\n",
    "svc_test_pos = pipeline.predict_proba(X_test)\n",
    "\n",
    "print('###################################################')\n",
    "print(roc_auc_score(y_train, svc_train_pos[:,1]))\n",
    "print(roc_auc_score(y_test, svc_test_pos[:,1]))"
   ]
  },
  {
   "cell_type": "markdown",
   "id": "dcf011ea",
   "metadata": {
    "ExecuteTime": {
     "end_time": "2021-11-26T14:12:59.292256Z",
     "start_time": "2021-11-26T14:12:59.274998Z"
    }
   },
   "source": [
    "#### StrafifiedKfold"
   ]
  },
  {
   "cell_type": "code",
   "execution_count": 24,
   "id": "6ba5b399",
   "metadata": {
    "ExecuteTime": {
     "end_time": "2021-11-27T14:23:12.107345Z",
     "start_time": "2021-11-27T13:51:52.128247Z"
    },
    "scrolled": true
   },
   "outputs": [
    {
     "name": "stdout",
     "output_type": "stream",
     "text": [
      "[0.93277625 0.93267648 0.9326748 ] 0.9327091766425424\n"
     ]
    },
    {
     "ename": "NotFittedError",
     "evalue": "This StandardScaler instance is not fitted yet. Call 'fit' with appropriate arguments before using this estimator.",
     "output_type": "error",
     "traceback": [
      "\u001b[1;31m---------------------------------------------------------------------------\u001b[0m",
      "\u001b[1;31mNotFittedError\u001b[0m                            Traceback (most recent call last)",
      "\u001b[1;32m~\\AppData\\Local\\Temp/ipykernel_27636/1080281828.py\u001b[0m in \u001b[0;36m<module>\u001b[1;34m\u001b[0m\n\u001b[0;32m     19\u001b[0m \u001b[0mprint\u001b[0m\u001b[1;33m(\u001b[0m\u001b[0mscores\u001b[0m\u001b[1;33m,\u001b[0m \u001b[0mnp\u001b[0m\u001b[1;33m.\u001b[0m\u001b[0mmean\u001b[0m\u001b[1;33m(\u001b[0m\u001b[0mscores\u001b[0m\u001b[1;33m)\u001b[0m\u001b[1;33m)\u001b[0m\u001b[1;33m\u001b[0m\u001b[1;33m\u001b[0m\u001b[0m\n\u001b[0;32m     20\u001b[0m \u001b[1;33m\u001b[0m\u001b[0m\n\u001b[1;32m---> 21\u001b[1;33m \u001b[0msvc_train_pos\u001b[0m \u001b[1;33m=\u001b[0m \u001b[0mpipeline\u001b[0m\u001b[1;33m.\u001b[0m\u001b[0mpredict_proba\u001b[0m\u001b[1;33m(\u001b[0m\u001b[0mX_train\u001b[0m\u001b[1;33m)\u001b[0m\u001b[1;33m[\u001b[0m\u001b[1;33m:\u001b[0m\u001b[1;33m,\u001b[0m\u001b[1;36m1\u001b[0m\u001b[1;33m]\u001b[0m\u001b[1;33m\u001b[0m\u001b[1;33m\u001b[0m\u001b[0m\n\u001b[0m\u001b[0;32m     22\u001b[0m \u001b[0msvc_test_pos\u001b[0m \u001b[1;33m=\u001b[0m \u001b[0mpipeline\u001b[0m\u001b[1;33m.\u001b[0m\u001b[0mpredict_proba\u001b[0m\u001b[1;33m(\u001b[0m\u001b[0mX_test\u001b[0m\u001b[1;33m)\u001b[0m\u001b[1;33m[\u001b[0m\u001b[1;33m:\u001b[0m\u001b[1;33m,\u001b[0m\u001b[1;36m1\u001b[0m\u001b[1;33m]\u001b[0m\u001b[1;33m\u001b[0m\u001b[1;33m\u001b[0m\u001b[0m\n\u001b[0;32m     23\u001b[0m \u001b[1;33m\u001b[0m\u001b[0m\n",
      "\u001b[1;32mD:\\Program_Files\\anaconda3\\lib\\site-packages\\sklearn\\utils\\metaestimators.py\u001b[0m in \u001b[0;36m<lambda>\u001b[1;34m(*args, **kwargs)\u001b[0m\n\u001b[0;32m    111\u001b[0m \u001b[1;33m\u001b[0m\u001b[0m\n\u001b[0;32m    112\u001b[0m             \u001b[1;31m# lambda, but not partial, allows help() to work with update_wrapper\u001b[0m\u001b[1;33m\u001b[0m\u001b[1;33m\u001b[0m\u001b[0m\n\u001b[1;32m--> 113\u001b[1;33m             \u001b[0mout\u001b[0m \u001b[1;33m=\u001b[0m \u001b[1;32mlambda\u001b[0m \u001b[1;33m*\u001b[0m\u001b[0margs\u001b[0m\u001b[1;33m,\u001b[0m \u001b[1;33m**\u001b[0m\u001b[0mkwargs\u001b[0m\u001b[1;33m:\u001b[0m \u001b[0mself\u001b[0m\u001b[1;33m.\u001b[0m\u001b[0mfn\u001b[0m\u001b[1;33m(\u001b[0m\u001b[0mobj\u001b[0m\u001b[1;33m,\u001b[0m \u001b[1;33m*\u001b[0m\u001b[0margs\u001b[0m\u001b[1;33m,\u001b[0m \u001b[1;33m**\u001b[0m\u001b[0mkwargs\u001b[0m\u001b[1;33m)\u001b[0m  \u001b[1;31m# noqa\u001b[0m\u001b[1;33m\u001b[0m\u001b[1;33m\u001b[0m\u001b[0m\n\u001b[0m\u001b[0;32m    114\u001b[0m         \u001b[1;32melse\u001b[0m\u001b[1;33m:\u001b[0m\u001b[1;33m\u001b[0m\u001b[1;33m\u001b[0m\u001b[0m\n\u001b[0;32m    115\u001b[0m \u001b[1;33m\u001b[0m\u001b[0m\n",
      "\u001b[1;32mD:\\Program_Files\\anaconda3\\lib\\site-packages\\sklearn\\pipeline.py\u001b[0m in \u001b[0;36mpredict_proba\u001b[1;34m(self, X, **predict_proba_params)\u001b[0m\n\u001b[0;32m    533\u001b[0m         \u001b[0mXt\u001b[0m \u001b[1;33m=\u001b[0m \u001b[0mX\u001b[0m\u001b[1;33m\u001b[0m\u001b[1;33m\u001b[0m\u001b[0m\n\u001b[0;32m    534\u001b[0m         \u001b[1;32mfor\u001b[0m \u001b[0m_\u001b[0m\u001b[1;33m,\u001b[0m \u001b[0mname\u001b[0m\u001b[1;33m,\u001b[0m \u001b[0mtransform\u001b[0m \u001b[1;32min\u001b[0m \u001b[0mself\u001b[0m\u001b[1;33m.\u001b[0m\u001b[0m_iter\u001b[0m\u001b[1;33m(\u001b[0m\u001b[0mwith_final\u001b[0m\u001b[1;33m=\u001b[0m\u001b[1;32mFalse\u001b[0m\u001b[1;33m)\u001b[0m\u001b[1;33m:\u001b[0m\u001b[1;33m\u001b[0m\u001b[1;33m\u001b[0m\u001b[0m\n\u001b[1;32m--> 535\u001b[1;33m             \u001b[0mXt\u001b[0m \u001b[1;33m=\u001b[0m \u001b[0mtransform\u001b[0m\u001b[1;33m.\u001b[0m\u001b[0mtransform\u001b[0m\u001b[1;33m(\u001b[0m\u001b[0mXt\u001b[0m\u001b[1;33m)\u001b[0m\u001b[1;33m\u001b[0m\u001b[1;33m\u001b[0m\u001b[0m\n\u001b[0m\u001b[0;32m    536\u001b[0m         \u001b[1;32mreturn\u001b[0m \u001b[0mself\u001b[0m\u001b[1;33m.\u001b[0m\u001b[0msteps\u001b[0m\u001b[1;33m[\u001b[0m\u001b[1;33m-\u001b[0m\u001b[1;36m1\u001b[0m\u001b[1;33m]\u001b[0m\u001b[1;33m[\u001b[0m\u001b[1;36m1\u001b[0m\u001b[1;33m]\u001b[0m\u001b[1;33m.\u001b[0m\u001b[0mpredict_proba\u001b[0m\u001b[1;33m(\u001b[0m\u001b[0mXt\u001b[0m\u001b[1;33m,\u001b[0m \u001b[1;33m**\u001b[0m\u001b[0mpredict_proba_params\u001b[0m\u001b[1;33m)\u001b[0m\u001b[1;33m\u001b[0m\u001b[1;33m\u001b[0m\u001b[0m\n\u001b[0;32m    537\u001b[0m \u001b[1;33m\u001b[0m\u001b[0m\n",
      "\u001b[1;32mD:\\Program_Files\\anaconda3\\lib\\site-packages\\sklearn\\preprocessing\\_data.py\u001b[0m in \u001b[0;36mtransform\u001b[1;34m(self, X, copy)\u001b[0m\n\u001b[0;32m    968\u001b[0m             \u001b[0mTransformed\u001b[0m \u001b[0marray\u001b[0m\u001b[1;33m.\u001b[0m\u001b[1;33m\u001b[0m\u001b[1;33m\u001b[0m\u001b[0m\n\u001b[0;32m    969\u001b[0m         \"\"\"\n\u001b[1;32m--> 970\u001b[1;33m         \u001b[0mcheck_is_fitted\u001b[0m\u001b[1;33m(\u001b[0m\u001b[0mself\u001b[0m\u001b[1;33m)\u001b[0m\u001b[1;33m\u001b[0m\u001b[1;33m\u001b[0m\u001b[0m\n\u001b[0m\u001b[0;32m    971\u001b[0m \u001b[1;33m\u001b[0m\u001b[0m\n\u001b[0;32m    972\u001b[0m         \u001b[0mcopy\u001b[0m \u001b[1;33m=\u001b[0m \u001b[0mcopy\u001b[0m \u001b[1;32mif\u001b[0m \u001b[0mcopy\u001b[0m \u001b[1;32mis\u001b[0m \u001b[1;32mnot\u001b[0m \u001b[1;32mNone\u001b[0m \u001b[1;32melse\u001b[0m \u001b[0mself\u001b[0m\u001b[1;33m.\u001b[0m\u001b[0mcopy\u001b[0m\u001b[1;33m\u001b[0m\u001b[1;33m\u001b[0m\u001b[0m\n",
      "\u001b[1;32mD:\\Program_Files\\anaconda3\\lib\\site-packages\\sklearn\\utils\\validation.py\u001b[0m in \u001b[0;36mcheck_is_fitted\u001b[1;34m(estimator, attributes, msg, all_or_any)\u001b[0m\n\u001b[0;32m   1207\u001b[0m \u001b[1;33m\u001b[0m\u001b[0m\n\u001b[0;32m   1208\u001b[0m     \u001b[1;32mif\u001b[0m \u001b[1;32mnot\u001b[0m \u001b[0mfitted\u001b[0m\u001b[1;33m:\u001b[0m\u001b[1;33m\u001b[0m\u001b[1;33m\u001b[0m\u001b[0m\n\u001b[1;32m-> 1209\u001b[1;33m         \u001b[1;32mraise\u001b[0m \u001b[0mNotFittedError\u001b[0m\u001b[1;33m(\u001b[0m\u001b[0mmsg\u001b[0m \u001b[1;33m%\u001b[0m \u001b[1;33m{\u001b[0m\u001b[1;34m\"name\"\u001b[0m\u001b[1;33m:\u001b[0m \u001b[0mtype\u001b[0m\u001b[1;33m(\u001b[0m\u001b[0mestimator\u001b[0m\u001b[1;33m)\u001b[0m\u001b[1;33m.\u001b[0m\u001b[0m__name__\u001b[0m\u001b[1;33m}\u001b[0m\u001b[1;33m)\u001b[0m\u001b[1;33m\u001b[0m\u001b[1;33m\u001b[0m\u001b[0m\n\u001b[0m\u001b[0;32m   1210\u001b[0m \u001b[1;33m\u001b[0m\u001b[0m\n\u001b[0;32m   1211\u001b[0m \u001b[1;33m\u001b[0m\u001b[0m\n",
      "\u001b[1;31mNotFittedError\u001b[0m: This StandardScaler instance is not fitted yet. Call 'fit' with appropriate arguments before using this estimator."
     ]
    }
   ],
   "source": [
    "from sklearn.preprocessing import StandardScaler\n",
    "from sklearn.model_selection import StratifiedKFold\n",
    "from sklearn.svm import SVC\n",
    "from sklearn.model_selection import cross_val_score\n",
    "import numpy as np\n",
    "\n",
    "y= drop_data['SeriousDlqin2yrs'].to_numpy() #values\n",
    "X= drop_data.drop('SeriousDlqin2yrs', axis=1).to_numpy()\n",
    "\n",
    "ss = StandardScaler()\n",
    "svc = SVC(random_state=0, probability=True)\n",
    "\n",
    "from sklearn.pipeline import Pipeline\n",
    "\n",
    "pipeline = Pipeline([('transformer', ss), ('estimator', svc)])\n",
    "cv = StratifiedKFold(n_splits=3)\n",
    "\n",
    "scores = cross_val_score(pipeline, X, y, cv=cv)\n",
    "print(scores, np.mean(scores))\n",
    "\n",
    "svc_train_pos = pipeline.predict_proba(X_train)[:,1]\n",
    "svc_test_pos = pipeline.predict_proba(X_test)[:,1]\n",
    "\n",
    "print('###################################################')\n",
    "print(roc_auc_score(y_train,svc_train_pos))\n",
    "print(roc_auc_score(y_test, svc_test_pos))"
   ]
  },
  {
   "cell_type": "markdown",
   "id": "78b5db35",
   "metadata": {},
   "source": [
    "### MinMaxScaler"
   ]
  },
  {
   "cell_type": "markdown",
   "id": "95287a7e",
   "metadata": {},
   "source": [
    "#### holdout"
   ]
  },
  {
   "cell_type": "code",
   "execution_count": 11,
   "id": "031821ff",
   "metadata": {
    "ExecuteTime": {
     "end_time": "2021-11-27T12:47:36.058779Z",
     "start_time": "2021-11-27T12:47:36.042731Z"
    },
    "scrolled": true
   },
   "outputs": [
    {
     "ename": "SyntaxError",
     "evalue": "positional argument follows keyword argument (Temp/ipykernel_25252/3928268190.py, line 15)",
     "output_type": "error",
     "traceback": [
      "\u001b[1;36m  File \u001b[1;32m\"C:\\Users\\zuho0\\AppData\\Local\\Temp/ipykernel_25252/3928268190.py\"\u001b[1;36m, line \u001b[1;32m15\u001b[0m\n\u001b[1;33m    svc = SVC(random_state=0, probability=True, n_jobs)\u001b[0m\n\u001b[1;37m                                                      ^\u001b[0m\n\u001b[1;31mSyntaxError\u001b[0m\u001b[1;31m:\u001b[0m positional argument follows keyword argument\n"
     ]
    }
   ],
   "source": [
    "from sklearn.svm import SVC\n",
    "from sklearn.model_selection import train_test_split\n",
    "from sklearn.preprocessing import MinMaxScaler\n",
    "from sklearn.metrics import accuracy_score\n",
    "\n",
    "X_train, X_test, y_train, y_test = train_test_split(X, y, stratify=y, random_state=0, test_size=0.2)\n",
    "\n",
    "X_train, X_val, y_train, y_val = train_test_split(X_train, y_train, stratify=y_train, random_state=0)\n",
    "\n",
    "mm=MinMaxScaler()\n",
    "X_train_scaled = mm.fit_transform(X_train)\n",
    "X_val_scaled = mm.transform(X_val)\n",
    "X_test_scaled = mm.transform(X_test)\n",
    "\n",
    "svc = SVC(random_state=0, probability=True)\n",
    "svc.fit(X_train_scaled, y_train)\n",
    "\n",
    "pred_train = svc.predict(X_train_scaled)\n",
    "pred_val = svc.predict(X_val_scaled)\n",
    "pred_test = svc.predict(X_test_scaled)\n",
    "\n",
    "acc_train = accuracy_score(y_train, pred_train)\n",
    "acc_val = accuracy_score(y_val, pred_val)\n",
    "acc_test = accuracy_score(y_test, pred_test)\n",
    "\n",
    "print(acc_train, acc_val, acc_test)\n",
    "\n",
    "svc_train_pos = pipeline.predict_proba(X_train)\n",
    "svc_test_pos = pipeline.predict_proba(X_test)\n",
    "\n",
    "print('###################################################')\n",
    "print(roc_auc_score(y_train, svc_train_pos[:,1]))\n",
    "print(roc_auc_score(y_test, svc_test_pos[:,1]))"
   ]
  },
  {
   "cell_type": "markdown",
   "id": "0b6a4abf",
   "metadata": {},
   "source": [
    "#### StratifiedKFold"
   ]
  },
  {
   "cell_type": "code",
   "execution_count": 14,
   "id": "64076391",
   "metadata": {
    "ExecuteTime": {
     "end_time": "2021-11-27T12:51:00.950077Z",
     "start_time": "2021-11-27T12:50:12.312289Z"
    },
    "scrolled": true
   },
   "outputs": [
    {
     "ename": "KeyboardInterrupt",
     "evalue": "",
     "output_type": "error",
     "traceback": [
      "\u001b[1;31m---------------------------------------------------------------------------\u001b[0m",
      "\u001b[1;31mKeyboardInterrupt\u001b[0m                         Traceback (most recent call last)",
      "\u001b[1;32m~\\AppData\\Local\\Temp/ipykernel_25252/3305245980.py\u001b[0m in \u001b[0;36m<module>\u001b[1;34m\u001b[0m\n\u001b[0;32m     15\u001b[0m \u001b[0mcv\u001b[0m \u001b[1;33m=\u001b[0m \u001b[0mStratifiedKFold\u001b[0m\u001b[1;33m(\u001b[0m\u001b[0mn_splits\u001b[0m\u001b[1;33m=\u001b[0m\u001b[1;36m3\u001b[0m\u001b[1;33m)\u001b[0m\u001b[1;33m\u001b[0m\u001b[1;33m\u001b[0m\u001b[0m\n\u001b[0;32m     16\u001b[0m \u001b[1;33m\u001b[0m\u001b[0m\n\u001b[1;32m---> 17\u001b[1;33m \u001b[0mscores\u001b[0m \u001b[1;33m=\u001b[0m \u001b[0mcross_val_score\u001b[0m\u001b[1;33m(\u001b[0m\u001b[0mpipeline\u001b[0m\u001b[1;33m,\u001b[0m \u001b[0mX\u001b[0m\u001b[1;33m,\u001b[0m \u001b[0my\u001b[0m\u001b[1;33m,\u001b[0m \u001b[0mcv\u001b[0m\u001b[1;33m=\u001b[0m\u001b[0mcv\u001b[0m\u001b[1;33m)\u001b[0m\u001b[1;33m\u001b[0m\u001b[1;33m\u001b[0m\u001b[0m\n\u001b[0m\u001b[0;32m     18\u001b[0m \u001b[0mprint\u001b[0m\u001b[1;33m(\u001b[0m\u001b[0mscores\u001b[0m\u001b[1;33m,\u001b[0m \u001b[0mnp\u001b[0m\u001b[1;33m.\u001b[0m\u001b[0mmean\u001b[0m\u001b[1;33m(\u001b[0m\u001b[0mscores\u001b[0m\u001b[1;33m)\u001b[0m\u001b[1;33m)\u001b[0m\u001b[1;33m\u001b[0m\u001b[1;33m\u001b[0m\u001b[0m\n\u001b[0;32m     19\u001b[0m \u001b[1;33m\u001b[0m\u001b[0m\n",
      "\u001b[1;32mD:\\Program_Files\\anaconda3\\lib\\site-packages\\sklearn\\model_selection\\_validation.py\u001b[0m in \u001b[0;36mcross_val_score\u001b[1;34m(estimator, X, y, groups, scoring, cv, n_jobs, verbose, fit_params, pre_dispatch, error_score)\u001b[0m\n\u001b[0;32m    508\u001b[0m     \u001b[0mscorer\u001b[0m \u001b[1;33m=\u001b[0m \u001b[0mcheck_scoring\u001b[0m\u001b[1;33m(\u001b[0m\u001b[0mestimator\u001b[0m\u001b[1;33m,\u001b[0m \u001b[0mscoring\u001b[0m\u001b[1;33m=\u001b[0m\u001b[0mscoring\u001b[0m\u001b[1;33m)\u001b[0m\u001b[1;33m\u001b[0m\u001b[1;33m\u001b[0m\u001b[0m\n\u001b[0;32m    509\u001b[0m \u001b[1;33m\u001b[0m\u001b[0m\n\u001b[1;32m--> 510\u001b[1;33m     cv_results = cross_validate(\n\u001b[0m\u001b[0;32m    511\u001b[0m         \u001b[0mestimator\u001b[0m\u001b[1;33m=\u001b[0m\u001b[0mestimator\u001b[0m\u001b[1;33m,\u001b[0m\u001b[1;33m\u001b[0m\u001b[1;33m\u001b[0m\u001b[0m\n\u001b[0;32m    512\u001b[0m         \u001b[0mX\u001b[0m\u001b[1;33m=\u001b[0m\u001b[0mX\u001b[0m\u001b[1;33m,\u001b[0m\u001b[1;33m\u001b[0m\u001b[1;33m\u001b[0m\u001b[0m\n",
      "\u001b[1;32mD:\\Program_Files\\anaconda3\\lib\\site-packages\\sklearn\\model_selection\\_validation.py\u001b[0m in \u001b[0;36mcross_validate\u001b[1;34m(estimator, X, y, groups, scoring, cv, n_jobs, verbose, fit_params, pre_dispatch, return_train_score, return_estimator, error_score)\u001b[0m\n\u001b[0;32m    265\u001b[0m     \u001b[1;31m# independent, and that it is pickle-able.\u001b[0m\u001b[1;33m\u001b[0m\u001b[1;33m\u001b[0m\u001b[0m\n\u001b[0;32m    266\u001b[0m     \u001b[0mparallel\u001b[0m \u001b[1;33m=\u001b[0m \u001b[0mParallel\u001b[0m\u001b[1;33m(\u001b[0m\u001b[0mn_jobs\u001b[0m\u001b[1;33m=\u001b[0m\u001b[0mn_jobs\u001b[0m\u001b[1;33m,\u001b[0m \u001b[0mverbose\u001b[0m\u001b[1;33m=\u001b[0m\u001b[0mverbose\u001b[0m\u001b[1;33m,\u001b[0m \u001b[0mpre_dispatch\u001b[0m\u001b[1;33m=\u001b[0m\u001b[0mpre_dispatch\u001b[0m\u001b[1;33m)\u001b[0m\u001b[1;33m\u001b[0m\u001b[1;33m\u001b[0m\u001b[0m\n\u001b[1;32m--> 267\u001b[1;33m     results = parallel(\n\u001b[0m\u001b[0;32m    268\u001b[0m         delayed(_fit_and_score)(\n\u001b[0;32m    269\u001b[0m             \u001b[0mclone\u001b[0m\u001b[1;33m(\u001b[0m\u001b[0mestimator\u001b[0m\u001b[1;33m)\u001b[0m\u001b[1;33m,\u001b[0m\u001b[1;33m\u001b[0m\u001b[1;33m\u001b[0m\u001b[0m\n",
      "\u001b[1;32mD:\\Program_Files\\anaconda3\\lib\\site-packages\\joblib\\parallel.py\u001b[0m in \u001b[0;36m__call__\u001b[1;34m(self, iterable)\u001b[0m\n\u001b[0;32m   1041\u001b[0m             \u001b[1;31m# remaining jobs.\u001b[0m\u001b[1;33m\u001b[0m\u001b[1;33m\u001b[0m\u001b[0m\n\u001b[0;32m   1042\u001b[0m             \u001b[0mself\u001b[0m\u001b[1;33m.\u001b[0m\u001b[0m_iterating\u001b[0m \u001b[1;33m=\u001b[0m \u001b[1;32mFalse\u001b[0m\u001b[1;33m\u001b[0m\u001b[1;33m\u001b[0m\u001b[0m\n\u001b[1;32m-> 1043\u001b[1;33m             \u001b[1;32mif\u001b[0m \u001b[0mself\u001b[0m\u001b[1;33m.\u001b[0m\u001b[0mdispatch_one_batch\u001b[0m\u001b[1;33m(\u001b[0m\u001b[0miterator\u001b[0m\u001b[1;33m)\u001b[0m\u001b[1;33m:\u001b[0m\u001b[1;33m\u001b[0m\u001b[1;33m\u001b[0m\u001b[0m\n\u001b[0m\u001b[0;32m   1044\u001b[0m                 \u001b[0mself\u001b[0m\u001b[1;33m.\u001b[0m\u001b[0m_iterating\u001b[0m \u001b[1;33m=\u001b[0m \u001b[0mself\u001b[0m\u001b[1;33m.\u001b[0m\u001b[0m_original_iterator\u001b[0m \u001b[1;32mis\u001b[0m \u001b[1;32mnot\u001b[0m \u001b[1;32mNone\u001b[0m\u001b[1;33m\u001b[0m\u001b[1;33m\u001b[0m\u001b[0m\n\u001b[0;32m   1045\u001b[0m \u001b[1;33m\u001b[0m\u001b[0m\n",
      "\u001b[1;32mD:\\Program_Files\\anaconda3\\lib\\site-packages\\joblib\\parallel.py\u001b[0m in \u001b[0;36mdispatch_one_batch\u001b[1;34m(self, iterator)\u001b[0m\n\u001b[0;32m    859\u001b[0m                 \u001b[1;32mreturn\u001b[0m \u001b[1;32mFalse\u001b[0m\u001b[1;33m\u001b[0m\u001b[1;33m\u001b[0m\u001b[0m\n\u001b[0;32m    860\u001b[0m             \u001b[1;32melse\u001b[0m\u001b[1;33m:\u001b[0m\u001b[1;33m\u001b[0m\u001b[1;33m\u001b[0m\u001b[0m\n\u001b[1;32m--> 861\u001b[1;33m                 \u001b[0mself\u001b[0m\u001b[1;33m.\u001b[0m\u001b[0m_dispatch\u001b[0m\u001b[1;33m(\u001b[0m\u001b[0mtasks\u001b[0m\u001b[1;33m)\u001b[0m\u001b[1;33m\u001b[0m\u001b[1;33m\u001b[0m\u001b[0m\n\u001b[0m\u001b[0;32m    862\u001b[0m                 \u001b[1;32mreturn\u001b[0m \u001b[1;32mTrue\u001b[0m\u001b[1;33m\u001b[0m\u001b[1;33m\u001b[0m\u001b[0m\n\u001b[0;32m    863\u001b[0m \u001b[1;33m\u001b[0m\u001b[0m\n",
      "\u001b[1;32mD:\\Program_Files\\anaconda3\\lib\\site-packages\\joblib\\parallel.py\u001b[0m in \u001b[0;36m_dispatch\u001b[1;34m(self, batch)\u001b[0m\n\u001b[0;32m    777\u001b[0m         \u001b[1;32mwith\u001b[0m \u001b[0mself\u001b[0m\u001b[1;33m.\u001b[0m\u001b[0m_lock\u001b[0m\u001b[1;33m:\u001b[0m\u001b[1;33m\u001b[0m\u001b[1;33m\u001b[0m\u001b[0m\n\u001b[0;32m    778\u001b[0m             \u001b[0mjob_idx\u001b[0m \u001b[1;33m=\u001b[0m \u001b[0mlen\u001b[0m\u001b[1;33m(\u001b[0m\u001b[0mself\u001b[0m\u001b[1;33m.\u001b[0m\u001b[0m_jobs\u001b[0m\u001b[1;33m)\u001b[0m\u001b[1;33m\u001b[0m\u001b[1;33m\u001b[0m\u001b[0m\n\u001b[1;32m--> 779\u001b[1;33m             \u001b[0mjob\u001b[0m \u001b[1;33m=\u001b[0m \u001b[0mself\u001b[0m\u001b[1;33m.\u001b[0m\u001b[0m_backend\u001b[0m\u001b[1;33m.\u001b[0m\u001b[0mapply_async\u001b[0m\u001b[1;33m(\u001b[0m\u001b[0mbatch\u001b[0m\u001b[1;33m,\u001b[0m \u001b[0mcallback\u001b[0m\u001b[1;33m=\u001b[0m\u001b[0mcb\u001b[0m\u001b[1;33m)\u001b[0m\u001b[1;33m\u001b[0m\u001b[1;33m\u001b[0m\u001b[0m\n\u001b[0m\u001b[0;32m    780\u001b[0m             \u001b[1;31m# A job can complete so quickly than its callback is\u001b[0m\u001b[1;33m\u001b[0m\u001b[1;33m\u001b[0m\u001b[0m\n\u001b[0;32m    781\u001b[0m             \u001b[1;31m# called before we get here, causing self._jobs to\u001b[0m\u001b[1;33m\u001b[0m\u001b[1;33m\u001b[0m\u001b[0m\n",
      "\u001b[1;32mD:\\Program_Files\\anaconda3\\lib\\site-packages\\joblib\\_parallel_backends.py\u001b[0m in \u001b[0;36mapply_async\u001b[1;34m(self, func, callback)\u001b[0m\n\u001b[0;32m    206\u001b[0m     \u001b[1;32mdef\u001b[0m \u001b[0mapply_async\u001b[0m\u001b[1;33m(\u001b[0m\u001b[0mself\u001b[0m\u001b[1;33m,\u001b[0m \u001b[0mfunc\u001b[0m\u001b[1;33m,\u001b[0m \u001b[0mcallback\u001b[0m\u001b[1;33m=\u001b[0m\u001b[1;32mNone\u001b[0m\u001b[1;33m)\u001b[0m\u001b[1;33m:\u001b[0m\u001b[1;33m\u001b[0m\u001b[1;33m\u001b[0m\u001b[0m\n\u001b[0;32m    207\u001b[0m         \u001b[1;34m\"\"\"Schedule a func to be run\"\"\"\u001b[0m\u001b[1;33m\u001b[0m\u001b[1;33m\u001b[0m\u001b[0m\n\u001b[1;32m--> 208\u001b[1;33m         \u001b[0mresult\u001b[0m \u001b[1;33m=\u001b[0m \u001b[0mImmediateResult\u001b[0m\u001b[1;33m(\u001b[0m\u001b[0mfunc\u001b[0m\u001b[1;33m)\u001b[0m\u001b[1;33m\u001b[0m\u001b[1;33m\u001b[0m\u001b[0m\n\u001b[0m\u001b[0;32m    209\u001b[0m         \u001b[1;32mif\u001b[0m \u001b[0mcallback\u001b[0m\u001b[1;33m:\u001b[0m\u001b[1;33m\u001b[0m\u001b[1;33m\u001b[0m\u001b[0m\n\u001b[0;32m    210\u001b[0m             \u001b[0mcallback\u001b[0m\u001b[1;33m(\u001b[0m\u001b[0mresult\u001b[0m\u001b[1;33m)\u001b[0m\u001b[1;33m\u001b[0m\u001b[1;33m\u001b[0m\u001b[0m\n",
      "\u001b[1;32mD:\\Program_Files\\anaconda3\\lib\\site-packages\\joblib\\_parallel_backends.py\u001b[0m in \u001b[0;36m__init__\u001b[1;34m(self, batch)\u001b[0m\n\u001b[0;32m    570\u001b[0m         \u001b[1;31m# Don't delay the application, to avoid keeping the input\u001b[0m\u001b[1;33m\u001b[0m\u001b[1;33m\u001b[0m\u001b[0m\n\u001b[0;32m    571\u001b[0m         \u001b[1;31m# arguments in memory\u001b[0m\u001b[1;33m\u001b[0m\u001b[1;33m\u001b[0m\u001b[0m\n\u001b[1;32m--> 572\u001b[1;33m         \u001b[0mself\u001b[0m\u001b[1;33m.\u001b[0m\u001b[0mresults\u001b[0m \u001b[1;33m=\u001b[0m \u001b[0mbatch\u001b[0m\u001b[1;33m(\u001b[0m\u001b[1;33m)\u001b[0m\u001b[1;33m\u001b[0m\u001b[1;33m\u001b[0m\u001b[0m\n\u001b[0m\u001b[0;32m    573\u001b[0m \u001b[1;33m\u001b[0m\u001b[0m\n\u001b[0;32m    574\u001b[0m     \u001b[1;32mdef\u001b[0m \u001b[0mget\u001b[0m\u001b[1;33m(\u001b[0m\u001b[0mself\u001b[0m\u001b[1;33m)\u001b[0m\u001b[1;33m:\u001b[0m\u001b[1;33m\u001b[0m\u001b[1;33m\u001b[0m\u001b[0m\n",
      "\u001b[1;32mD:\\Program_Files\\anaconda3\\lib\\site-packages\\joblib\\parallel.py\u001b[0m in \u001b[0;36m__call__\u001b[1;34m(self)\u001b[0m\n\u001b[0;32m    260\u001b[0m         \u001b[1;31m# change the default number of processes to -1\u001b[0m\u001b[1;33m\u001b[0m\u001b[1;33m\u001b[0m\u001b[0m\n\u001b[0;32m    261\u001b[0m         \u001b[1;32mwith\u001b[0m \u001b[0mparallel_backend\u001b[0m\u001b[1;33m(\u001b[0m\u001b[0mself\u001b[0m\u001b[1;33m.\u001b[0m\u001b[0m_backend\u001b[0m\u001b[1;33m,\u001b[0m \u001b[0mn_jobs\u001b[0m\u001b[1;33m=\u001b[0m\u001b[0mself\u001b[0m\u001b[1;33m.\u001b[0m\u001b[0m_n_jobs\u001b[0m\u001b[1;33m)\u001b[0m\u001b[1;33m:\u001b[0m\u001b[1;33m\u001b[0m\u001b[1;33m\u001b[0m\u001b[0m\n\u001b[1;32m--> 262\u001b[1;33m             return [func(*args, **kwargs)\n\u001b[0m\u001b[0;32m    263\u001b[0m                     for func, args, kwargs in self.items]\n\u001b[0;32m    264\u001b[0m \u001b[1;33m\u001b[0m\u001b[0m\n",
      "\u001b[1;32mD:\\Program_Files\\anaconda3\\lib\\site-packages\\joblib\\parallel.py\u001b[0m in \u001b[0;36m<listcomp>\u001b[1;34m(.0)\u001b[0m\n\u001b[0;32m    260\u001b[0m         \u001b[1;31m# change the default number of processes to -1\u001b[0m\u001b[1;33m\u001b[0m\u001b[1;33m\u001b[0m\u001b[0m\n\u001b[0;32m    261\u001b[0m         \u001b[1;32mwith\u001b[0m \u001b[0mparallel_backend\u001b[0m\u001b[1;33m(\u001b[0m\u001b[0mself\u001b[0m\u001b[1;33m.\u001b[0m\u001b[0m_backend\u001b[0m\u001b[1;33m,\u001b[0m \u001b[0mn_jobs\u001b[0m\u001b[1;33m=\u001b[0m\u001b[0mself\u001b[0m\u001b[1;33m.\u001b[0m\u001b[0m_n_jobs\u001b[0m\u001b[1;33m)\u001b[0m\u001b[1;33m:\u001b[0m\u001b[1;33m\u001b[0m\u001b[1;33m\u001b[0m\u001b[0m\n\u001b[1;32m--> 262\u001b[1;33m             return [func(*args, **kwargs)\n\u001b[0m\u001b[0;32m    263\u001b[0m                     for func, args, kwargs in self.items]\n\u001b[0;32m    264\u001b[0m \u001b[1;33m\u001b[0m\u001b[0m\n",
      "\u001b[1;32mD:\\Program_Files\\anaconda3\\lib\\site-packages\\sklearn\\utils\\fixes.py\u001b[0m in \u001b[0;36m__call__\u001b[1;34m(self, *args, **kwargs)\u001b[0m\n\u001b[0;32m    209\u001b[0m     \u001b[1;32mdef\u001b[0m \u001b[0m__call__\u001b[0m\u001b[1;33m(\u001b[0m\u001b[0mself\u001b[0m\u001b[1;33m,\u001b[0m \u001b[1;33m*\u001b[0m\u001b[0margs\u001b[0m\u001b[1;33m,\u001b[0m \u001b[1;33m**\u001b[0m\u001b[0mkwargs\u001b[0m\u001b[1;33m)\u001b[0m\u001b[1;33m:\u001b[0m\u001b[1;33m\u001b[0m\u001b[1;33m\u001b[0m\u001b[0m\n\u001b[0;32m    210\u001b[0m         \u001b[1;32mwith\u001b[0m \u001b[0mconfig_context\u001b[0m\u001b[1;33m(\u001b[0m\u001b[1;33m**\u001b[0m\u001b[0mself\u001b[0m\u001b[1;33m.\u001b[0m\u001b[0mconfig\u001b[0m\u001b[1;33m)\u001b[0m\u001b[1;33m:\u001b[0m\u001b[1;33m\u001b[0m\u001b[1;33m\u001b[0m\u001b[0m\n\u001b[1;32m--> 211\u001b[1;33m             \u001b[1;32mreturn\u001b[0m \u001b[0mself\u001b[0m\u001b[1;33m.\u001b[0m\u001b[0mfunction\u001b[0m\u001b[1;33m(\u001b[0m\u001b[1;33m*\u001b[0m\u001b[0margs\u001b[0m\u001b[1;33m,\u001b[0m \u001b[1;33m**\u001b[0m\u001b[0mkwargs\u001b[0m\u001b[1;33m)\u001b[0m\u001b[1;33m\u001b[0m\u001b[1;33m\u001b[0m\u001b[0m\n\u001b[0m\u001b[0;32m    212\u001b[0m \u001b[1;33m\u001b[0m\u001b[0m\n\u001b[0;32m    213\u001b[0m \u001b[1;33m\u001b[0m\u001b[0m\n",
      "\u001b[1;32mD:\\Program_Files\\anaconda3\\lib\\site-packages\\sklearn\\model_selection\\_validation.py\u001b[0m in \u001b[0;36m_fit_and_score\u001b[1;34m(estimator, X, y, scorer, train, test, verbose, parameters, fit_params, return_train_score, return_parameters, return_n_test_samples, return_times, return_estimator, split_progress, candidate_progress, error_score)\u001b[0m\n\u001b[0;32m    679\u001b[0m             \u001b[0mestimator\u001b[0m\u001b[1;33m.\u001b[0m\u001b[0mfit\u001b[0m\u001b[1;33m(\u001b[0m\u001b[0mX_train\u001b[0m\u001b[1;33m,\u001b[0m \u001b[1;33m**\u001b[0m\u001b[0mfit_params\u001b[0m\u001b[1;33m)\u001b[0m\u001b[1;33m\u001b[0m\u001b[1;33m\u001b[0m\u001b[0m\n\u001b[0;32m    680\u001b[0m         \u001b[1;32melse\u001b[0m\u001b[1;33m:\u001b[0m\u001b[1;33m\u001b[0m\u001b[1;33m\u001b[0m\u001b[0m\n\u001b[1;32m--> 681\u001b[1;33m             \u001b[0mestimator\u001b[0m\u001b[1;33m.\u001b[0m\u001b[0mfit\u001b[0m\u001b[1;33m(\u001b[0m\u001b[0mX_train\u001b[0m\u001b[1;33m,\u001b[0m \u001b[0my_train\u001b[0m\u001b[1;33m,\u001b[0m \u001b[1;33m**\u001b[0m\u001b[0mfit_params\u001b[0m\u001b[1;33m)\u001b[0m\u001b[1;33m\u001b[0m\u001b[1;33m\u001b[0m\u001b[0m\n\u001b[0m\u001b[0;32m    682\u001b[0m \u001b[1;33m\u001b[0m\u001b[0m\n\u001b[0;32m    683\u001b[0m     \u001b[1;32mexcept\u001b[0m \u001b[0mException\u001b[0m\u001b[1;33m:\u001b[0m\u001b[1;33m\u001b[0m\u001b[1;33m\u001b[0m\u001b[0m\n",
      "\u001b[1;32mD:\\Program_Files\\anaconda3\\lib\\site-packages\\sklearn\\pipeline.py\u001b[0m in \u001b[0;36mfit\u001b[1;34m(self, X, y, **fit_params)\u001b[0m\n\u001b[0;32m    392\u001b[0m             \u001b[1;32mif\u001b[0m \u001b[0mself\u001b[0m\u001b[1;33m.\u001b[0m\u001b[0m_final_estimator\u001b[0m \u001b[1;33m!=\u001b[0m \u001b[1;34m\"passthrough\"\u001b[0m\u001b[1;33m:\u001b[0m\u001b[1;33m\u001b[0m\u001b[1;33m\u001b[0m\u001b[0m\n\u001b[0;32m    393\u001b[0m                 \u001b[0mfit_params_last_step\u001b[0m \u001b[1;33m=\u001b[0m \u001b[0mfit_params_steps\u001b[0m\u001b[1;33m[\u001b[0m\u001b[0mself\u001b[0m\u001b[1;33m.\u001b[0m\u001b[0msteps\u001b[0m\u001b[1;33m[\u001b[0m\u001b[1;33m-\u001b[0m\u001b[1;36m1\u001b[0m\u001b[1;33m]\u001b[0m\u001b[1;33m[\u001b[0m\u001b[1;36m0\u001b[0m\u001b[1;33m]\u001b[0m\u001b[1;33m]\u001b[0m\u001b[1;33m\u001b[0m\u001b[1;33m\u001b[0m\u001b[0m\n\u001b[1;32m--> 394\u001b[1;33m                 \u001b[0mself\u001b[0m\u001b[1;33m.\u001b[0m\u001b[0m_final_estimator\u001b[0m\u001b[1;33m.\u001b[0m\u001b[0mfit\u001b[0m\u001b[1;33m(\u001b[0m\u001b[0mXt\u001b[0m\u001b[1;33m,\u001b[0m \u001b[0my\u001b[0m\u001b[1;33m,\u001b[0m \u001b[1;33m**\u001b[0m\u001b[0mfit_params_last_step\u001b[0m\u001b[1;33m)\u001b[0m\u001b[1;33m\u001b[0m\u001b[1;33m\u001b[0m\u001b[0m\n\u001b[0m\u001b[0;32m    395\u001b[0m \u001b[1;33m\u001b[0m\u001b[0m\n\u001b[0;32m    396\u001b[0m         \u001b[1;32mreturn\u001b[0m \u001b[0mself\u001b[0m\u001b[1;33m\u001b[0m\u001b[1;33m\u001b[0m\u001b[0m\n",
      "\u001b[1;32mD:\\Program_Files\\anaconda3\\lib\\site-packages\\sklearn\\svm\\_base.py\u001b[0m in \u001b[0;36mfit\u001b[1;34m(self, X, y, sample_weight)\u001b[0m\n\u001b[0;32m    253\u001b[0m \u001b[1;33m\u001b[0m\u001b[0m\n\u001b[0;32m    254\u001b[0m         \u001b[0mseed\u001b[0m \u001b[1;33m=\u001b[0m \u001b[0mrnd\u001b[0m\u001b[1;33m.\u001b[0m\u001b[0mrandint\u001b[0m\u001b[1;33m(\u001b[0m\u001b[0mnp\u001b[0m\u001b[1;33m.\u001b[0m\u001b[0miinfo\u001b[0m\u001b[1;33m(\u001b[0m\u001b[1;34m\"i\"\u001b[0m\u001b[1;33m)\u001b[0m\u001b[1;33m.\u001b[0m\u001b[0mmax\u001b[0m\u001b[1;33m)\u001b[0m\u001b[1;33m\u001b[0m\u001b[1;33m\u001b[0m\u001b[0m\n\u001b[1;32m--> 255\u001b[1;33m         \u001b[0mfit\u001b[0m\u001b[1;33m(\u001b[0m\u001b[0mX\u001b[0m\u001b[1;33m,\u001b[0m \u001b[0my\u001b[0m\u001b[1;33m,\u001b[0m \u001b[0msample_weight\u001b[0m\u001b[1;33m,\u001b[0m \u001b[0msolver_type\u001b[0m\u001b[1;33m,\u001b[0m \u001b[0mkernel\u001b[0m\u001b[1;33m,\u001b[0m \u001b[0mrandom_seed\u001b[0m\u001b[1;33m=\u001b[0m\u001b[0mseed\u001b[0m\u001b[1;33m)\u001b[0m\u001b[1;33m\u001b[0m\u001b[1;33m\u001b[0m\u001b[0m\n\u001b[0m\u001b[0;32m    256\u001b[0m         \u001b[1;31m# see comment on the other call to np.iinfo in this file\u001b[0m\u001b[1;33m\u001b[0m\u001b[1;33m\u001b[0m\u001b[0m\n\u001b[0;32m    257\u001b[0m \u001b[1;33m\u001b[0m\u001b[0m\n",
      "\u001b[1;32mD:\\Program_Files\\anaconda3\\lib\\site-packages\\sklearn\\svm\\_base.py\u001b[0m in \u001b[0;36m_dense_fit\u001b[1;34m(self, X, y, sample_weight, solver_type, kernel, random_seed)\u001b[0m\n\u001b[0;32m    313\u001b[0m             \u001b[0mself\u001b[0m\u001b[1;33m.\u001b[0m\u001b[0m_probB\u001b[0m\u001b[1;33m,\u001b[0m\u001b[1;33m\u001b[0m\u001b[1;33m\u001b[0m\u001b[0m\n\u001b[0;32m    314\u001b[0m             \u001b[0mself\u001b[0m\u001b[1;33m.\u001b[0m\u001b[0mfit_status_\u001b[0m\u001b[1;33m,\u001b[0m\u001b[1;33m\u001b[0m\u001b[1;33m\u001b[0m\u001b[0m\n\u001b[1;32m--> 315\u001b[1;33m         \u001b[1;33m)\u001b[0m \u001b[1;33m=\u001b[0m \u001b[0mlibsvm\u001b[0m\u001b[1;33m.\u001b[0m\u001b[0mfit\u001b[0m\u001b[1;33m(\u001b[0m\u001b[1;33m\u001b[0m\u001b[1;33m\u001b[0m\u001b[0m\n\u001b[0m\u001b[0;32m    316\u001b[0m             \u001b[0mX\u001b[0m\u001b[1;33m,\u001b[0m\u001b[1;33m\u001b[0m\u001b[1;33m\u001b[0m\u001b[0m\n\u001b[0;32m    317\u001b[0m             \u001b[0my\u001b[0m\u001b[1;33m,\u001b[0m\u001b[1;33m\u001b[0m\u001b[1;33m\u001b[0m\u001b[0m\n",
      "\u001b[1;31mKeyboardInterrupt\u001b[0m: "
     ]
    }
   ],
   "source": [
    "from sklearn.preprocessing import MinMaxScaler\n",
    "from sklearn.model_selection import StratifiedKFold, cross_val_score\n",
    "from sklearn.svm import SVC\n",
    "from sklearn.pipeline import Pipeline\n",
    "import numpy as np\n",
    "\n",
    "y= drop_data['SeriousDlqin2yrs'].to_numpy() #values\n",
    "X= drop_data.drop('SeriousDlqin2yrs', axis=1).to_numpy()\n",
    "\n",
    "mm = MinMaxScaler()\n",
    "svc = SVC(random_state=0)\n",
    "\n",
    "pipeline = Pipeline([('transformer', mm),('estimator', svc)])\n",
    "\n",
    "cv = StratifiedKFold(n_splits=3)\n",
    "\n",
    "scores = cross_val_score(pipeline, X, y, cv=cv) \n",
    "print(scores, np.mean(scores))\n",
    "\n",
    "svc_train_pos = pipeline.predict_proba(X_train)\n",
    "svc_test_pos = pipeline.predict_proba(X_test)\n",
    "\n",
    "print('###################################################')\n",
    "print(roc_auc_score(y_train,svc_train_pos[:,1]))\n",
    "print(roc_auc_score(y_test, svc_test_pos[:,1]))"
   ]
  },
  {
   "cell_type": "markdown",
   "id": "f15a73d9",
   "metadata": {},
   "source": [
    "## BernoulliNB"
   ]
  },
  {
   "cell_type": "code",
   "execution_count": null,
   "id": "fb745d42",
   "metadata": {
    "ExecuteTime": {
     "start_time": "2021-11-27T12:37:51.137Z"
    }
   },
   "outputs": [],
   "source": [
    "#가우시안은 연속형, 베르누이는 이항 분류\n",
    "#가우시안 나이브베이즈를 할때는 scaling을 안하는 모양"
   ]
  },
  {
   "cell_type": "markdown",
   "id": "e5905044",
   "metadata": {},
   "source": [
    "### StandardScaler"
   ]
  },
  {
   "cell_type": "markdown",
   "id": "9fe1e70d",
   "metadata": {},
   "source": [
    "#### holuout"
   ]
  },
  {
   "cell_type": "code",
   "execution_count": 13,
   "id": "93defcd7",
   "metadata": {
    "ExecuteTime": {
     "end_time": "2021-11-27T13:45:29.889878Z",
     "start_time": "2021-11-27T13:45:29.746880Z"
    }
   },
   "outputs": [
    {
     "name": "stdout",
     "output_type": "stream",
     "text": [
      "0.9262066767367415 0.9262908455974058 0.9282032094454145\n",
      "###################################################\n",
      "0.7812057048787974\n",
      "0.7844596142243008\n"
     ]
    },
    {
     "name": "stderr",
     "output_type": "stream",
     "text": [
      "D:\\Program_Files\\anaconda3\\lib\\site-packages\\sklearn\\base.py:438: UserWarning: X has feature names, but BernoulliNB was fitted without feature names\n",
      "  warnings.warn(\n",
      "D:\\Program_Files\\anaconda3\\lib\\site-packages\\sklearn\\base.py:438: UserWarning: X has feature names, but BernoulliNB was fitted without feature names\n",
      "  warnings.warn(\n"
     ]
    }
   ],
   "source": [
    "from sklearn.naive_bayes import GaussianNB, BernoulliNB\n",
    "from sklearn.model_selection import train_test_split\n",
    "from sklearn.preprocessing import StandardScaler\n",
    "from sklearn.metrics import accuracy_score\n",
    "from sklearn.pipeline import Pipeline\n",
    "\n",
    "X_train, X_test, y_train, y_test = train_test_split(X, y, stratify=y, random_state=0, test_size=0.2)\n",
    "\n",
    "X_train, X_val, y_train, y_val = train_test_split(X_train, y_train, stratify=y_train, random_state=0)\n",
    "\n",
    "ss=StandardScaler()\n",
    "X_train_scaled = ss.fit_transform(X_train)\n",
    "X_val_scaled = ss.transform(X_val)\n",
    "X_test_scaled = ss.transform(X_test)\n",
    "\n",
    "#nb = GaussianNB()\n",
    "bn = BernoulliNB()\n",
    "#nb.fit(X_train_scaled, y_train)\n",
    "bn.fit(X_train_scaled, y_train)\n",
    "\n",
    "#pred_train = nb.predict(X_train_scaled)\n",
    "#pred_val = nb.predict(X_val_scaled)\n",
    "#pred_test = nb.predict(X_test_scaled)\n",
    "pred_train = bn.predict(X_train_scaled)\n",
    "pred_val = bn.predict(X_val_scaled)\n",
    "pred_test = bn.predict(X_test_scaled)\n",
    "\n",
    "acc_train = accuracy_score(y_train, pred_train)\n",
    "acc_val = accuracy_score(y_val, pred_val)\n",
    "acc_test = accuracy_score(y_test, pred_test)\n",
    "\n",
    "print(acc_train, acc_val, acc_test)\n",
    "\n",
    "bn_train_pos = bn.predict_proba(X_train)\n",
    "bn_test_pos = bn.predict_proba(X_test)\n",
    "\n",
    "print('###################################################')\n",
    "print(roc_auc_score(y_train, bn_train_pos[:,1]))\n",
    "print(roc_auc_score(y_test, bn_test_pos[:,1]))"
   ]
  },
  {
   "cell_type": "markdown",
   "id": "33574ab0",
   "metadata": {},
   "source": [
    "#### StratifiedKFold"
   ]
  },
  {
   "cell_type": "code",
   "execution_count": 15,
   "id": "a4c9a4eb",
   "metadata": {
    "ExecuteTime": {
     "end_time": "2021-11-27T13:45:50.920513Z",
     "start_time": "2021-11-27T13:45:50.789481Z"
    },
    "scrolled": true
   },
   "outputs": [
    {
     "name": "stdout",
     "output_type": "stream",
     "text": [
      "[0.92923422 0.92960838 0.92923246] 0.9293583539740399\n"
     ]
    },
    {
     "ename": "NotFittedError",
     "evalue": "This StandardScaler instance is not fitted yet. Call 'fit' with appropriate arguments before using this estimator.",
     "output_type": "error",
     "traceback": [
      "\u001b[1;31m---------------------------------------------------------------------------\u001b[0m",
      "\u001b[1;31mNotFittedError\u001b[0m                            Traceback (most recent call last)",
      "\u001b[1;32m~\\AppData\\Local\\Temp/ipykernel_27636/3088727340.py\u001b[0m in \u001b[0;36m<module>\u001b[1;34m\u001b[0m\n\u001b[0;32m     17\u001b[0m \u001b[0mprint\u001b[0m\u001b[1;33m(\u001b[0m\u001b[0mscores\u001b[0m\u001b[1;33m,\u001b[0m \u001b[0mnp\u001b[0m\u001b[1;33m.\u001b[0m\u001b[0mmean\u001b[0m\u001b[1;33m(\u001b[0m\u001b[0mscores\u001b[0m\u001b[1;33m)\u001b[0m\u001b[1;33m)\u001b[0m\u001b[1;33m\u001b[0m\u001b[1;33m\u001b[0m\u001b[0m\n\u001b[0;32m     18\u001b[0m \u001b[1;33m\u001b[0m\u001b[0m\n\u001b[1;32m---> 19\u001b[1;33m \u001b[0mnb_train_pos\u001b[0m \u001b[1;33m=\u001b[0m \u001b[0mpipeline\u001b[0m\u001b[1;33m.\u001b[0m\u001b[0mpredict_proba\u001b[0m\u001b[1;33m(\u001b[0m\u001b[0mX_train\u001b[0m\u001b[1;33m)\u001b[0m\u001b[1;33m\u001b[0m\u001b[1;33m\u001b[0m\u001b[0m\n\u001b[0m\u001b[0;32m     20\u001b[0m \u001b[0mnb_test_pos\u001b[0m \u001b[1;33m=\u001b[0m \u001b[0mpipeline\u001b[0m\u001b[1;33m.\u001b[0m\u001b[0mpredict_proba\u001b[0m\u001b[1;33m(\u001b[0m\u001b[0mX_test\u001b[0m\u001b[1;33m)\u001b[0m\u001b[1;33m\u001b[0m\u001b[1;33m\u001b[0m\u001b[0m\n\u001b[0;32m     21\u001b[0m \u001b[1;33m\u001b[0m\u001b[0m\n",
      "\u001b[1;32mD:\\Program_Files\\anaconda3\\lib\\site-packages\\sklearn\\utils\\metaestimators.py\u001b[0m in \u001b[0;36m<lambda>\u001b[1;34m(*args, **kwargs)\u001b[0m\n\u001b[0;32m    111\u001b[0m \u001b[1;33m\u001b[0m\u001b[0m\n\u001b[0;32m    112\u001b[0m             \u001b[1;31m# lambda, but not partial, allows help() to work with update_wrapper\u001b[0m\u001b[1;33m\u001b[0m\u001b[1;33m\u001b[0m\u001b[0m\n\u001b[1;32m--> 113\u001b[1;33m             \u001b[0mout\u001b[0m \u001b[1;33m=\u001b[0m \u001b[1;32mlambda\u001b[0m \u001b[1;33m*\u001b[0m\u001b[0margs\u001b[0m\u001b[1;33m,\u001b[0m \u001b[1;33m**\u001b[0m\u001b[0mkwargs\u001b[0m\u001b[1;33m:\u001b[0m \u001b[0mself\u001b[0m\u001b[1;33m.\u001b[0m\u001b[0mfn\u001b[0m\u001b[1;33m(\u001b[0m\u001b[0mobj\u001b[0m\u001b[1;33m,\u001b[0m \u001b[1;33m*\u001b[0m\u001b[0margs\u001b[0m\u001b[1;33m,\u001b[0m \u001b[1;33m**\u001b[0m\u001b[0mkwargs\u001b[0m\u001b[1;33m)\u001b[0m  \u001b[1;31m# noqa\u001b[0m\u001b[1;33m\u001b[0m\u001b[1;33m\u001b[0m\u001b[0m\n\u001b[0m\u001b[0;32m    114\u001b[0m         \u001b[1;32melse\u001b[0m\u001b[1;33m:\u001b[0m\u001b[1;33m\u001b[0m\u001b[1;33m\u001b[0m\u001b[0m\n\u001b[0;32m    115\u001b[0m \u001b[1;33m\u001b[0m\u001b[0m\n",
      "\u001b[1;32mD:\\Program_Files\\anaconda3\\lib\\site-packages\\sklearn\\pipeline.py\u001b[0m in \u001b[0;36mpredict_proba\u001b[1;34m(self, X, **predict_proba_params)\u001b[0m\n\u001b[0;32m    533\u001b[0m         \u001b[0mXt\u001b[0m \u001b[1;33m=\u001b[0m \u001b[0mX\u001b[0m\u001b[1;33m\u001b[0m\u001b[1;33m\u001b[0m\u001b[0m\n\u001b[0;32m    534\u001b[0m         \u001b[1;32mfor\u001b[0m \u001b[0m_\u001b[0m\u001b[1;33m,\u001b[0m \u001b[0mname\u001b[0m\u001b[1;33m,\u001b[0m \u001b[0mtransform\u001b[0m \u001b[1;32min\u001b[0m \u001b[0mself\u001b[0m\u001b[1;33m.\u001b[0m\u001b[0m_iter\u001b[0m\u001b[1;33m(\u001b[0m\u001b[0mwith_final\u001b[0m\u001b[1;33m=\u001b[0m\u001b[1;32mFalse\u001b[0m\u001b[1;33m)\u001b[0m\u001b[1;33m:\u001b[0m\u001b[1;33m\u001b[0m\u001b[1;33m\u001b[0m\u001b[0m\n\u001b[1;32m--> 535\u001b[1;33m             \u001b[0mXt\u001b[0m \u001b[1;33m=\u001b[0m \u001b[0mtransform\u001b[0m\u001b[1;33m.\u001b[0m\u001b[0mtransform\u001b[0m\u001b[1;33m(\u001b[0m\u001b[0mXt\u001b[0m\u001b[1;33m)\u001b[0m\u001b[1;33m\u001b[0m\u001b[1;33m\u001b[0m\u001b[0m\n\u001b[0m\u001b[0;32m    536\u001b[0m         \u001b[1;32mreturn\u001b[0m \u001b[0mself\u001b[0m\u001b[1;33m.\u001b[0m\u001b[0msteps\u001b[0m\u001b[1;33m[\u001b[0m\u001b[1;33m-\u001b[0m\u001b[1;36m1\u001b[0m\u001b[1;33m]\u001b[0m\u001b[1;33m[\u001b[0m\u001b[1;36m1\u001b[0m\u001b[1;33m]\u001b[0m\u001b[1;33m.\u001b[0m\u001b[0mpredict_proba\u001b[0m\u001b[1;33m(\u001b[0m\u001b[0mXt\u001b[0m\u001b[1;33m,\u001b[0m \u001b[1;33m**\u001b[0m\u001b[0mpredict_proba_params\u001b[0m\u001b[1;33m)\u001b[0m\u001b[1;33m\u001b[0m\u001b[1;33m\u001b[0m\u001b[0m\n\u001b[0;32m    537\u001b[0m \u001b[1;33m\u001b[0m\u001b[0m\n",
      "\u001b[1;32mD:\\Program_Files\\anaconda3\\lib\\site-packages\\sklearn\\preprocessing\\_data.py\u001b[0m in \u001b[0;36mtransform\u001b[1;34m(self, X, copy)\u001b[0m\n\u001b[0;32m    968\u001b[0m             \u001b[0mTransformed\u001b[0m \u001b[0marray\u001b[0m\u001b[1;33m.\u001b[0m\u001b[1;33m\u001b[0m\u001b[1;33m\u001b[0m\u001b[0m\n\u001b[0;32m    969\u001b[0m         \"\"\"\n\u001b[1;32m--> 970\u001b[1;33m         \u001b[0mcheck_is_fitted\u001b[0m\u001b[1;33m(\u001b[0m\u001b[0mself\u001b[0m\u001b[1;33m)\u001b[0m\u001b[1;33m\u001b[0m\u001b[1;33m\u001b[0m\u001b[0m\n\u001b[0m\u001b[0;32m    971\u001b[0m \u001b[1;33m\u001b[0m\u001b[0m\n\u001b[0;32m    972\u001b[0m         \u001b[0mcopy\u001b[0m \u001b[1;33m=\u001b[0m \u001b[0mcopy\u001b[0m \u001b[1;32mif\u001b[0m \u001b[0mcopy\u001b[0m \u001b[1;32mis\u001b[0m \u001b[1;32mnot\u001b[0m \u001b[1;32mNone\u001b[0m \u001b[1;32melse\u001b[0m \u001b[0mself\u001b[0m\u001b[1;33m.\u001b[0m\u001b[0mcopy\u001b[0m\u001b[1;33m\u001b[0m\u001b[1;33m\u001b[0m\u001b[0m\n",
      "\u001b[1;32mD:\\Program_Files\\anaconda3\\lib\\site-packages\\sklearn\\utils\\validation.py\u001b[0m in \u001b[0;36mcheck_is_fitted\u001b[1;34m(estimator, attributes, msg, all_or_any)\u001b[0m\n\u001b[0;32m   1207\u001b[0m \u001b[1;33m\u001b[0m\u001b[0m\n\u001b[0;32m   1208\u001b[0m     \u001b[1;32mif\u001b[0m \u001b[1;32mnot\u001b[0m \u001b[0mfitted\u001b[0m\u001b[1;33m:\u001b[0m\u001b[1;33m\u001b[0m\u001b[1;33m\u001b[0m\u001b[0m\n\u001b[1;32m-> 1209\u001b[1;33m         \u001b[1;32mraise\u001b[0m \u001b[0mNotFittedError\u001b[0m\u001b[1;33m(\u001b[0m\u001b[0mmsg\u001b[0m \u001b[1;33m%\u001b[0m \u001b[1;33m{\u001b[0m\u001b[1;34m\"name\"\u001b[0m\u001b[1;33m:\u001b[0m \u001b[0mtype\u001b[0m\u001b[1;33m(\u001b[0m\u001b[0mestimator\u001b[0m\u001b[1;33m)\u001b[0m\u001b[1;33m.\u001b[0m\u001b[0m__name__\u001b[0m\u001b[1;33m}\u001b[0m\u001b[1;33m)\u001b[0m\u001b[1;33m\u001b[0m\u001b[1;33m\u001b[0m\u001b[0m\n\u001b[0m\u001b[0;32m   1210\u001b[0m \u001b[1;33m\u001b[0m\u001b[0m\n\u001b[0;32m   1211\u001b[0m \u001b[1;33m\u001b[0m\u001b[0m\n",
      "\u001b[1;31mNotFittedError\u001b[0m: This StandardScaler instance is not fitted yet. Call 'fit' with appropriate arguments before using this estimator."
     ]
    }
   ],
   "source": [
    "from sklearn.naive_bayes import GaussianNB\n",
    "from sklearn.model_selection import StratifiedKFold, cross_val_score\n",
    "from sklearn.preprocessing import StandardScaler\n",
    "from sklearn.pipeline import Pipeline\n",
    "import numpy as np\n",
    "\n",
    "y= drop_data['SeriousDlqin2yrs'].to_numpy() #values\n",
    "X= drop_data.drop('SeriousDlqin2yrs', axis=1).to_numpy()\n",
    "\n",
    "ss = StandardScaler()\n",
    "nb = GaussianNB()\n",
    "\n",
    "pipeline = Pipeline([('transformer',ss),('estimator',nb)])\n",
    "cv = StratifiedKFold(n_splits=3)\n",
    "\n",
    "scores = cross_val_score(pipeline, X, y, cv=cv)\n",
    "print(scores, np.mean(scores))\n",
    "\n",
    "nb_train_pos = pipeline.predict_proba(X_train)\n",
    "nb_test_pos = pipeline.predict_proba(X_test)\n",
    "\n",
    "print('###################################################')\n",
    "print(roc_auc_score(y_train, nb_train_pos[:,1]))\n",
    "print(roc_auc_score(y_test, nb_test_pos[:,1]))"
   ]
  },
  {
   "cell_type": "markdown",
   "id": "47d363e6",
   "metadata": {},
   "source": [
    "### MinMaxScaler"
   ]
  },
  {
   "cell_type": "markdown",
   "id": "fe192214",
   "metadata": {},
   "source": [
    "#### holdout"
   ]
  },
  {
   "cell_type": "code",
   "execution_count": 17,
   "id": "dfb7adc7",
   "metadata": {
    "ExecuteTime": {
     "end_time": "2021-11-27T13:46:28.432923Z",
     "start_time": "2021-11-27T13:46:28.308913Z"
    }
   },
   "outputs": [
    {
     "name": "stdout",
     "output_type": "stream",
     "text": [
      "0.9244328653982068 0.9250020786563565 0.9267481499958427\n",
      "###################################################\n",
      "0.7836749967976541\n",
      "0.7883675877913777\n"
     ]
    }
   ],
   "source": [
    "from sklearn.naive_bayes import GaussianNB,BernoulliNB\n",
    "from sklearn.model_selection import train_test_split\n",
    "from sklearn.preprocessing import MinMaxScaler\n",
    "from sklearn.metrics import accuracy_score\n",
    "\n",
    "X_train, X_test, y_train, y_test = train_test_split(X, y, stratify=y, random_state=0, test_size=0.2)\n",
    "\n",
    "X_train, X_val, y_train, y_val = train_test_split(X_train, y_train, stratify=y_train, random_state=0)\n",
    "\n",
    "mm=MinMaxScaler()\n",
    "X_train_scaled = mm.fit_transform(X_train)\n",
    "X_val_scaled = mm.transform(X_val)\n",
    "X_test_scaled = mm.transform(X_test)\n",
    "\n",
    "#nb = GaussianNB()\n",
    "bn = BernoulliNB()\n",
    "#nb.fit(X_train_scaled, y_train)\n",
    "bn.fit(X_train_scaled, y_train)\n",
    "\n",
    "#pred_train = nb.predict(X_train_scaled)\n",
    "#pred_val = nb.predict(X_val_scaled)\n",
    "#pred_test = nb.predict(X_test_scaled)\n",
    "pred_train = bn.predict(X_train_scaled)\n",
    "pred_val = bn.predict(X_val_scaled)\n",
    "pred_test = bn.predict(X_test_scaled)\n",
    "\n",
    "acc_train = accuracy_score(y_train, pred_train)\n",
    "acc_val = accuracy_score(y_val, pred_val)\n",
    "acc_test = accuracy_score(y_test, pred_test)\n",
    "\n",
    "print(acc_train, acc_val, acc_test)\n",
    "\n",
    "bn_train_pos = bn.predict_proba(X_train)\n",
    "bn_test_pos = bn.predict_proba(X_test)\n",
    "\n",
    "print('###################################################')\n",
    "print(roc_auc_score(y_train, bn_train_pos[:,1]))\n",
    "print(roc_auc_score(y_test, bn_test_pos[:,1]))"
   ]
  },
  {
   "cell_type": "markdown",
   "id": "766df3e4",
   "metadata": {},
   "source": [
    "#### StratifiedKFold"
   ]
  },
  {
   "cell_type": "code",
   "execution_count": 21,
   "id": "7c20317f",
   "metadata": {
    "ExecuteTime": {
     "end_time": "2021-11-27T13:49:40.212302Z",
     "start_time": "2021-11-27T13:49:40.092866Z"
    },
    "scrolled": true
   },
   "outputs": [
    {
     "name": "stdout",
     "output_type": "stream",
     "text": [
      "[0.92923422 0.92960838 0.92923246] 0.9293583539740399\n"
     ]
    },
    {
     "ename": "NotFittedError",
     "evalue": "This MinMaxScaler instance is not fitted yet. Call 'fit' with appropriate arguments before using this estimator.",
     "output_type": "error",
     "traceback": [
      "\u001b[1;31m---------------------------------------------------------------------------\u001b[0m",
      "\u001b[1;31mNotFittedError\u001b[0m                            Traceback (most recent call last)",
      "\u001b[1;32m~\\AppData\\Local\\Temp/ipykernel_27636/102035918.py\u001b[0m in \u001b[0;36m<module>\u001b[1;34m\u001b[0m\n\u001b[0;32m     17\u001b[0m \u001b[0mprint\u001b[0m\u001b[1;33m(\u001b[0m\u001b[0mscores\u001b[0m\u001b[1;33m,\u001b[0m \u001b[0mnp\u001b[0m\u001b[1;33m.\u001b[0m\u001b[0mmean\u001b[0m\u001b[1;33m(\u001b[0m\u001b[0mscores\u001b[0m\u001b[1;33m)\u001b[0m\u001b[1;33m)\u001b[0m\u001b[1;33m\u001b[0m\u001b[1;33m\u001b[0m\u001b[0m\n\u001b[0;32m     18\u001b[0m \u001b[1;33m\u001b[0m\u001b[0m\n\u001b[1;32m---> 19\u001b[1;33m \u001b[0mnb_train_pos\u001b[0m \u001b[1;33m=\u001b[0m \u001b[0mpipeline\u001b[0m\u001b[1;33m.\u001b[0m\u001b[0mpredict_proba\u001b[0m\u001b[1;33m(\u001b[0m\u001b[0mX_train\u001b[0m\u001b[1;33m)\u001b[0m\u001b[1;33m\u001b[0m\u001b[1;33m\u001b[0m\u001b[0m\n\u001b[0m\u001b[0;32m     20\u001b[0m \u001b[0mnb_test_pos\u001b[0m \u001b[1;33m=\u001b[0m \u001b[0mpipeline\u001b[0m\u001b[1;33m.\u001b[0m\u001b[0mpredict_proba\u001b[0m\u001b[1;33m(\u001b[0m\u001b[0mX_test\u001b[0m\u001b[1;33m)\u001b[0m\u001b[1;33m\u001b[0m\u001b[1;33m\u001b[0m\u001b[0m\n\u001b[0;32m     21\u001b[0m \u001b[1;33m\u001b[0m\u001b[0m\n",
      "\u001b[1;32mD:\\Program_Files\\anaconda3\\lib\\site-packages\\sklearn\\utils\\metaestimators.py\u001b[0m in \u001b[0;36m<lambda>\u001b[1;34m(*args, **kwargs)\u001b[0m\n\u001b[0;32m    111\u001b[0m \u001b[1;33m\u001b[0m\u001b[0m\n\u001b[0;32m    112\u001b[0m             \u001b[1;31m# lambda, but not partial, allows help() to work with update_wrapper\u001b[0m\u001b[1;33m\u001b[0m\u001b[1;33m\u001b[0m\u001b[0m\n\u001b[1;32m--> 113\u001b[1;33m             \u001b[0mout\u001b[0m \u001b[1;33m=\u001b[0m \u001b[1;32mlambda\u001b[0m \u001b[1;33m*\u001b[0m\u001b[0margs\u001b[0m\u001b[1;33m,\u001b[0m \u001b[1;33m**\u001b[0m\u001b[0mkwargs\u001b[0m\u001b[1;33m:\u001b[0m \u001b[0mself\u001b[0m\u001b[1;33m.\u001b[0m\u001b[0mfn\u001b[0m\u001b[1;33m(\u001b[0m\u001b[0mobj\u001b[0m\u001b[1;33m,\u001b[0m \u001b[1;33m*\u001b[0m\u001b[0margs\u001b[0m\u001b[1;33m,\u001b[0m \u001b[1;33m**\u001b[0m\u001b[0mkwargs\u001b[0m\u001b[1;33m)\u001b[0m  \u001b[1;31m# noqa\u001b[0m\u001b[1;33m\u001b[0m\u001b[1;33m\u001b[0m\u001b[0m\n\u001b[0m\u001b[0;32m    114\u001b[0m         \u001b[1;32melse\u001b[0m\u001b[1;33m:\u001b[0m\u001b[1;33m\u001b[0m\u001b[1;33m\u001b[0m\u001b[0m\n\u001b[0;32m    115\u001b[0m \u001b[1;33m\u001b[0m\u001b[0m\n",
      "\u001b[1;32mD:\\Program_Files\\anaconda3\\lib\\site-packages\\sklearn\\pipeline.py\u001b[0m in \u001b[0;36mpredict_proba\u001b[1;34m(self, X, **predict_proba_params)\u001b[0m\n\u001b[0;32m    533\u001b[0m         \u001b[0mXt\u001b[0m \u001b[1;33m=\u001b[0m \u001b[0mX\u001b[0m\u001b[1;33m\u001b[0m\u001b[1;33m\u001b[0m\u001b[0m\n\u001b[0;32m    534\u001b[0m         \u001b[1;32mfor\u001b[0m \u001b[0m_\u001b[0m\u001b[1;33m,\u001b[0m \u001b[0mname\u001b[0m\u001b[1;33m,\u001b[0m \u001b[0mtransform\u001b[0m \u001b[1;32min\u001b[0m \u001b[0mself\u001b[0m\u001b[1;33m.\u001b[0m\u001b[0m_iter\u001b[0m\u001b[1;33m(\u001b[0m\u001b[0mwith_final\u001b[0m\u001b[1;33m=\u001b[0m\u001b[1;32mFalse\u001b[0m\u001b[1;33m)\u001b[0m\u001b[1;33m:\u001b[0m\u001b[1;33m\u001b[0m\u001b[1;33m\u001b[0m\u001b[0m\n\u001b[1;32m--> 535\u001b[1;33m             \u001b[0mXt\u001b[0m \u001b[1;33m=\u001b[0m \u001b[0mtransform\u001b[0m\u001b[1;33m.\u001b[0m\u001b[0mtransform\u001b[0m\u001b[1;33m(\u001b[0m\u001b[0mXt\u001b[0m\u001b[1;33m)\u001b[0m\u001b[1;33m\u001b[0m\u001b[1;33m\u001b[0m\u001b[0m\n\u001b[0m\u001b[0;32m    536\u001b[0m         \u001b[1;32mreturn\u001b[0m \u001b[0mself\u001b[0m\u001b[1;33m.\u001b[0m\u001b[0msteps\u001b[0m\u001b[1;33m[\u001b[0m\u001b[1;33m-\u001b[0m\u001b[1;36m1\u001b[0m\u001b[1;33m]\u001b[0m\u001b[1;33m[\u001b[0m\u001b[1;36m1\u001b[0m\u001b[1;33m]\u001b[0m\u001b[1;33m.\u001b[0m\u001b[0mpredict_proba\u001b[0m\u001b[1;33m(\u001b[0m\u001b[0mXt\u001b[0m\u001b[1;33m,\u001b[0m \u001b[1;33m**\u001b[0m\u001b[0mpredict_proba_params\u001b[0m\u001b[1;33m)\u001b[0m\u001b[1;33m\u001b[0m\u001b[1;33m\u001b[0m\u001b[0m\n\u001b[0;32m    537\u001b[0m \u001b[1;33m\u001b[0m\u001b[0m\n",
      "\u001b[1;32mD:\\Program_Files\\anaconda3\\lib\\site-packages\\sklearn\\preprocessing\\_data.py\u001b[0m in \u001b[0;36mtransform\u001b[1;34m(self, X)\u001b[0m\n\u001b[0;32m    492\u001b[0m             \u001b[0mTransformed\u001b[0m \u001b[0mdata\u001b[0m\u001b[1;33m.\u001b[0m\u001b[1;33m\u001b[0m\u001b[1;33m\u001b[0m\u001b[0m\n\u001b[0;32m    493\u001b[0m         \"\"\"\n\u001b[1;32m--> 494\u001b[1;33m         \u001b[0mcheck_is_fitted\u001b[0m\u001b[1;33m(\u001b[0m\u001b[0mself\u001b[0m\u001b[1;33m)\u001b[0m\u001b[1;33m\u001b[0m\u001b[1;33m\u001b[0m\u001b[0m\n\u001b[0m\u001b[0;32m    495\u001b[0m \u001b[1;33m\u001b[0m\u001b[0m\n\u001b[0;32m    496\u001b[0m         X = self._validate_data(\n",
      "\u001b[1;32mD:\\Program_Files\\anaconda3\\lib\\site-packages\\sklearn\\utils\\validation.py\u001b[0m in \u001b[0;36mcheck_is_fitted\u001b[1;34m(estimator, attributes, msg, all_or_any)\u001b[0m\n\u001b[0;32m   1207\u001b[0m \u001b[1;33m\u001b[0m\u001b[0m\n\u001b[0;32m   1208\u001b[0m     \u001b[1;32mif\u001b[0m \u001b[1;32mnot\u001b[0m \u001b[0mfitted\u001b[0m\u001b[1;33m:\u001b[0m\u001b[1;33m\u001b[0m\u001b[1;33m\u001b[0m\u001b[0m\n\u001b[1;32m-> 1209\u001b[1;33m         \u001b[1;32mraise\u001b[0m \u001b[0mNotFittedError\u001b[0m\u001b[1;33m(\u001b[0m\u001b[0mmsg\u001b[0m \u001b[1;33m%\u001b[0m \u001b[1;33m{\u001b[0m\u001b[1;34m\"name\"\u001b[0m\u001b[1;33m:\u001b[0m \u001b[0mtype\u001b[0m\u001b[1;33m(\u001b[0m\u001b[0mestimator\u001b[0m\u001b[1;33m)\u001b[0m\u001b[1;33m.\u001b[0m\u001b[0m__name__\u001b[0m\u001b[1;33m}\u001b[0m\u001b[1;33m)\u001b[0m\u001b[1;33m\u001b[0m\u001b[1;33m\u001b[0m\u001b[0m\n\u001b[0m\u001b[0;32m   1210\u001b[0m \u001b[1;33m\u001b[0m\u001b[0m\n\u001b[0;32m   1211\u001b[0m \u001b[1;33m\u001b[0m\u001b[0m\n",
      "\u001b[1;31mNotFittedError\u001b[0m: This MinMaxScaler instance is not fitted yet. Call 'fit' with appropriate arguments before using this estimator."
     ]
    }
   ],
   "source": [
    "from sklearn.naive_bayes import GaussianNB\n",
    "from sklearn.model_selection import StratifiedKFold, cross_val_score\n",
    "from sklearn.preprocessing import MinMaxScaler\n",
    "from sklearn.pipeline import Pipeline\n",
    "import numpy as np\n",
    "\n",
    "y= drop_data['SeriousDlqin2yrs'].to_numpy() #values\n",
    "X= drop_data.drop('SeriousDlqin2yrs', axis=1).to_numpy()\n",
    "\n",
    "mm = MinMaxScaler()\n",
    "nb = GaussianNB()\n",
    "\n",
    "pipeline = Pipeline([('transformer',mm),('estimator',nb)])\n",
    "cv = StratifiedKFold(n_splits=3)\n",
    "\n",
    "scores = cross_val_score(pipeline, X, y, cv=cv)\n",
    "print(scores, np.mean(scores))\n",
    "\n",
    "nb_train_pos = pipeline.predict_proba(X_train)\n",
    "nb_test_pos = pipeline.predict_proba(X_test)\n",
    "\n",
    "print('###################################################')\n",
    "print(roc_auc_score(y_train, nb_train_pos[:,1]))\n",
    "print(roc_auc_score(y_test, nb_test_pos[:,1]))"
   ]
  },
  {
   "cell_type": "code",
   "execution_count": null,
   "id": "5922e071",
   "metadata": {},
   "outputs": [],
   "source": [
    "#가우시안 나이브 베이즈는 홀드아웃 환경에서는 튜닝을 해볼만한 여지가 보이나\n",
    "#stratifiedkfold 적용에러"
   ]
  },
  {
   "cell_type": "markdown",
   "id": "5e3ff47a",
   "metadata": {},
   "source": [
    "## MLP(Multi_Layer Perception)"
   ]
  },
  {
   "cell_type": "markdown",
   "id": "a06bc4b7",
   "metadata": {
    "ExecuteTime": {
     "end_time": "2021-11-26T15:09:34.089425Z",
     "start_time": "2021-11-26T15:09:34.079426Z"
    }
   },
   "source": [
    "### StandardScaler"
   ]
  },
  {
   "cell_type": "markdown",
   "id": "c84c19b1",
   "metadata": {},
   "source": [
    "#### holdout"
   ]
  },
  {
   "cell_type": "code",
   "execution_count": 19,
   "id": "a599fcbd",
   "metadata": {
    "ExecuteTime": {
     "end_time": "2021-11-27T13:47:47.522089Z",
     "start_time": "2021-11-27T13:47:34.990051Z"
    }
   },
   "outputs": [
    {
     "name": "stdout",
     "output_type": "stream",
     "text": [
      "0.9350618755283325 0.9333582772096117 0.9351459216762285\n",
      "###################################################\n",
      "0.5638960088929428\n",
      "0.5848417222044825\n"
     ]
    }
   ],
   "source": [
    "from sklearn.neural_network import MLPClassifier\n",
    "from sklearn.model_selection import train_test_split\n",
    "from sklearn.preprocessing import StandardScaler\n",
    "from sklearn.metrics import accuracy_score\n",
    "\n",
    "X_train, X_test, y_train, y_test = train_test_split(X, y, stratify=y, random_state=0, test_size=0.2)\n",
    "\n",
    "X_train, X_val, y_train, y_val = train_test_split(X_train, y_train, stratify=y_train, random_state=0)\n",
    "\n",
    "ss=StandardScaler()\n",
    "X_train_scaled = ss.fit_transform(X_train)\n",
    "X_val_scaled = ss.transform(X_val)\n",
    "X_test_scaled = ss.transform(X_test)\n",
    "\n",
    "mlp = MLPClassifier(random_state=0)\n",
    "mlp.fit(X_train_scaled, y_train)\n",
    "\n",
    "pred_train = mlp.predict(X_train_scaled)\n",
    "pred_val = mlp.predict(X_val_scaled)\n",
    "pred_test = mlp.predict(X_test_scaled)\n",
    "\n",
    "acc_train = accuracy_score(y_train, pred_train)\n",
    "acc_val = accuracy_score(y_val, pred_val)\n",
    "acc_test = accuracy_score(y_test, pred_test)\n",
    "\n",
    "print(acc_train, acc_val, acc_test)\n",
    "\n",
    "mlp_train_pos = mlp.predict_proba(X_train)\n",
    "mlp_test_pos = mlp.predict_proba(X_test)\n",
    "\n",
    "print('###################################################')\n",
    "print(roc_auc_score(y_train, mlp_train_pos[:,1]))\n",
    "print(roc_auc_score(y_test, mlp_test_pos[:,1]))"
   ]
  },
  {
   "cell_type": "markdown",
   "id": "5a0a2ca1",
   "metadata": {},
   "source": [
    "#### StratifiedKFold"
   ]
  },
  {
   "cell_type": "code",
   "execution_count": 20,
   "id": "de5a291f",
   "metadata": {
    "ExecuteTime": {
     "end_time": "2021-11-27T13:48:40.471043Z",
     "start_time": "2021-11-27T13:47:49.518125Z"
    },
    "scrolled": true
   },
   "outputs": [
    {
     "name": "stdout",
     "output_type": "stream",
     "text": [
      "[0.93352457 0.93334996 0.93566814] 0.9341808902314658\n"
     ]
    },
    {
     "ename": "NotFittedError",
     "evalue": "This StandardScaler instance is not fitted yet. Call 'fit' with appropriate arguments before using this estimator.",
     "output_type": "error",
     "traceback": [
      "\u001b[1;31m---------------------------------------------------------------------------\u001b[0m",
      "\u001b[1;31mNotFittedError\u001b[0m                            Traceback (most recent call last)",
      "\u001b[1;32m~\\AppData\\Local\\Temp/ipykernel_27636/3451020144.py\u001b[0m in \u001b[0;36m<module>\u001b[1;34m\u001b[0m\n\u001b[0;32m     17\u001b[0m \u001b[0mprint\u001b[0m\u001b[1;33m(\u001b[0m\u001b[0mscores\u001b[0m\u001b[1;33m,\u001b[0m \u001b[0mnp\u001b[0m\u001b[1;33m.\u001b[0m\u001b[0mmean\u001b[0m\u001b[1;33m(\u001b[0m\u001b[0mscores\u001b[0m\u001b[1;33m)\u001b[0m\u001b[1;33m)\u001b[0m\u001b[1;33m\u001b[0m\u001b[1;33m\u001b[0m\u001b[0m\n\u001b[0;32m     18\u001b[0m \u001b[1;33m\u001b[0m\u001b[0m\n\u001b[1;32m---> 19\u001b[1;33m \u001b[0mmlp_train_pos\u001b[0m \u001b[1;33m=\u001b[0m \u001b[0mpipeline\u001b[0m\u001b[1;33m.\u001b[0m\u001b[0mpredict_proba\u001b[0m\u001b[1;33m(\u001b[0m\u001b[0mX_train\u001b[0m\u001b[1;33m)\u001b[0m\u001b[1;33m\u001b[0m\u001b[1;33m\u001b[0m\u001b[0m\n\u001b[0m\u001b[0;32m     20\u001b[0m \u001b[0mmlp_test_pos\u001b[0m \u001b[1;33m=\u001b[0m \u001b[0mpipeline\u001b[0m\u001b[1;33m.\u001b[0m\u001b[0mpredict_proba\u001b[0m\u001b[1;33m(\u001b[0m\u001b[0mX_test\u001b[0m\u001b[1;33m)\u001b[0m\u001b[1;33m\u001b[0m\u001b[1;33m\u001b[0m\u001b[0m\n\u001b[0;32m     21\u001b[0m \u001b[1;33m\u001b[0m\u001b[0m\n",
      "\u001b[1;32mD:\\Program_Files\\anaconda3\\lib\\site-packages\\sklearn\\utils\\metaestimators.py\u001b[0m in \u001b[0;36m<lambda>\u001b[1;34m(*args, **kwargs)\u001b[0m\n\u001b[0;32m    111\u001b[0m \u001b[1;33m\u001b[0m\u001b[0m\n\u001b[0;32m    112\u001b[0m             \u001b[1;31m# lambda, but not partial, allows help() to work with update_wrapper\u001b[0m\u001b[1;33m\u001b[0m\u001b[1;33m\u001b[0m\u001b[0m\n\u001b[1;32m--> 113\u001b[1;33m             \u001b[0mout\u001b[0m \u001b[1;33m=\u001b[0m \u001b[1;32mlambda\u001b[0m \u001b[1;33m*\u001b[0m\u001b[0margs\u001b[0m\u001b[1;33m,\u001b[0m \u001b[1;33m**\u001b[0m\u001b[0mkwargs\u001b[0m\u001b[1;33m:\u001b[0m \u001b[0mself\u001b[0m\u001b[1;33m.\u001b[0m\u001b[0mfn\u001b[0m\u001b[1;33m(\u001b[0m\u001b[0mobj\u001b[0m\u001b[1;33m,\u001b[0m \u001b[1;33m*\u001b[0m\u001b[0margs\u001b[0m\u001b[1;33m,\u001b[0m \u001b[1;33m**\u001b[0m\u001b[0mkwargs\u001b[0m\u001b[1;33m)\u001b[0m  \u001b[1;31m# noqa\u001b[0m\u001b[1;33m\u001b[0m\u001b[1;33m\u001b[0m\u001b[0m\n\u001b[0m\u001b[0;32m    114\u001b[0m         \u001b[1;32melse\u001b[0m\u001b[1;33m:\u001b[0m\u001b[1;33m\u001b[0m\u001b[1;33m\u001b[0m\u001b[0m\n\u001b[0;32m    115\u001b[0m \u001b[1;33m\u001b[0m\u001b[0m\n",
      "\u001b[1;32mD:\\Program_Files\\anaconda3\\lib\\site-packages\\sklearn\\pipeline.py\u001b[0m in \u001b[0;36mpredict_proba\u001b[1;34m(self, X, **predict_proba_params)\u001b[0m\n\u001b[0;32m    533\u001b[0m         \u001b[0mXt\u001b[0m \u001b[1;33m=\u001b[0m \u001b[0mX\u001b[0m\u001b[1;33m\u001b[0m\u001b[1;33m\u001b[0m\u001b[0m\n\u001b[0;32m    534\u001b[0m         \u001b[1;32mfor\u001b[0m \u001b[0m_\u001b[0m\u001b[1;33m,\u001b[0m \u001b[0mname\u001b[0m\u001b[1;33m,\u001b[0m \u001b[0mtransform\u001b[0m \u001b[1;32min\u001b[0m \u001b[0mself\u001b[0m\u001b[1;33m.\u001b[0m\u001b[0m_iter\u001b[0m\u001b[1;33m(\u001b[0m\u001b[0mwith_final\u001b[0m\u001b[1;33m=\u001b[0m\u001b[1;32mFalse\u001b[0m\u001b[1;33m)\u001b[0m\u001b[1;33m:\u001b[0m\u001b[1;33m\u001b[0m\u001b[1;33m\u001b[0m\u001b[0m\n\u001b[1;32m--> 535\u001b[1;33m             \u001b[0mXt\u001b[0m \u001b[1;33m=\u001b[0m \u001b[0mtransform\u001b[0m\u001b[1;33m.\u001b[0m\u001b[0mtransform\u001b[0m\u001b[1;33m(\u001b[0m\u001b[0mXt\u001b[0m\u001b[1;33m)\u001b[0m\u001b[1;33m\u001b[0m\u001b[1;33m\u001b[0m\u001b[0m\n\u001b[0m\u001b[0;32m    536\u001b[0m         \u001b[1;32mreturn\u001b[0m \u001b[0mself\u001b[0m\u001b[1;33m.\u001b[0m\u001b[0msteps\u001b[0m\u001b[1;33m[\u001b[0m\u001b[1;33m-\u001b[0m\u001b[1;36m1\u001b[0m\u001b[1;33m]\u001b[0m\u001b[1;33m[\u001b[0m\u001b[1;36m1\u001b[0m\u001b[1;33m]\u001b[0m\u001b[1;33m.\u001b[0m\u001b[0mpredict_proba\u001b[0m\u001b[1;33m(\u001b[0m\u001b[0mXt\u001b[0m\u001b[1;33m,\u001b[0m \u001b[1;33m**\u001b[0m\u001b[0mpredict_proba_params\u001b[0m\u001b[1;33m)\u001b[0m\u001b[1;33m\u001b[0m\u001b[1;33m\u001b[0m\u001b[0m\n\u001b[0;32m    537\u001b[0m \u001b[1;33m\u001b[0m\u001b[0m\n",
      "\u001b[1;32mD:\\Program_Files\\anaconda3\\lib\\site-packages\\sklearn\\preprocessing\\_data.py\u001b[0m in \u001b[0;36mtransform\u001b[1;34m(self, X, copy)\u001b[0m\n\u001b[0;32m    968\u001b[0m             \u001b[0mTransformed\u001b[0m \u001b[0marray\u001b[0m\u001b[1;33m.\u001b[0m\u001b[1;33m\u001b[0m\u001b[1;33m\u001b[0m\u001b[0m\n\u001b[0;32m    969\u001b[0m         \"\"\"\n\u001b[1;32m--> 970\u001b[1;33m         \u001b[0mcheck_is_fitted\u001b[0m\u001b[1;33m(\u001b[0m\u001b[0mself\u001b[0m\u001b[1;33m)\u001b[0m\u001b[1;33m\u001b[0m\u001b[1;33m\u001b[0m\u001b[0m\n\u001b[0m\u001b[0;32m    971\u001b[0m \u001b[1;33m\u001b[0m\u001b[0m\n\u001b[0;32m    972\u001b[0m         \u001b[0mcopy\u001b[0m \u001b[1;33m=\u001b[0m \u001b[0mcopy\u001b[0m \u001b[1;32mif\u001b[0m \u001b[0mcopy\u001b[0m \u001b[1;32mis\u001b[0m \u001b[1;32mnot\u001b[0m \u001b[1;32mNone\u001b[0m \u001b[1;32melse\u001b[0m \u001b[0mself\u001b[0m\u001b[1;33m.\u001b[0m\u001b[0mcopy\u001b[0m\u001b[1;33m\u001b[0m\u001b[1;33m\u001b[0m\u001b[0m\n",
      "\u001b[1;32mD:\\Program_Files\\anaconda3\\lib\\site-packages\\sklearn\\utils\\validation.py\u001b[0m in \u001b[0;36mcheck_is_fitted\u001b[1;34m(estimator, attributes, msg, all_or_any)\u001b[0m\n\u001b[0;32m   1207\u001b[0m \u001b[1;33m\u001b[0m\u001b[0m\n\u001b[0;32m   1208\u001b[0m     \u001b[1;32mif\u001b[0m \u001b[1;32mnot\u001b[0m \u001b[0mfitted\u001b[0m\u001b[1;33m:\u001b[0m\u001b[1;33m\u001b[0m\u001b[1;33m\u001b[0m\u001b[0m\n\u001b[1;32m-> 1209\u001b[1;33m         \u001b[1;32mraise\u001b[0m \u001b[0mNotFittedError\u001b[0m\u001b[1;33m(\u001b[0m\u001b[0mmsg\u001b[0m \u001b[1;33m%\u001b[0m \u001b[1;33m{\u001b[0m\u001b[1;34m\"name\"\u001b[0m\u001b[1;33m:\u001b[0m \u001b[0mtype\u001b[0m\u001b[1;33m(\u001b[0m\u001b[0mestimator\u001b[0m\u001b[1;33m)\u001b[0m\u001b[1;33m.\u001b[0m\u001b[0m__name__\u001b[0m\u001b[1;33m}\u001b[0m\u001b[1;33m)\u001b[0m\u001b[1;33m\u001b[0m\u001b[1;33m\u001b[0m\u001b[0m\n\u001b[0m\u001b[0;32m   1210\u001b[0m \u001b[1;33m\u001b[0m\u001b[0m\n\u001b[0;32m   1211\u001b[0m \u001b[1;33m\u001b[0m\u001b[0m\n",
      "\u001b[1;31mNotFittedError\u001b[0m: This StandardScaler instance is not fitted yet. Call 'fit' with appropriate arguments before using this estimator."
     ]
    }
   ],
   "source": [
    "from sklearn.neural_network import MLPClassifier\n",
    "from sklearn.model_selection import StratifiedKFold, cross_val_score\n",
    "from sklearn.preprocessing import StandardScaler\n",
    "from sklearn.pipeline import Pipeline\n",
    "import numpy as np\n",
    "\n",
    "y= drop_data['SeriousDlqin2yrs'].to_numpy() #values\n",
    "X= drop_data.drop('SeriousDlqin2yrs', axis=1).to_numpy()\n",
    "\n",
    "ss = StandardScaler()\n",
    "mlp = MLPClassifier(random_state=0)\n",
    "\n",
    "pipeline = Pipeline([('transformer',ss),('estimator',mlp)])\n",
    "cv = StratifiedKFold(n_splits=3)\n",
    "\n",
    "scores = cross_val_score(pipeline, X, y, cv=cv)\n",
    "print(scores, np.mean(scores))\n",
    "\n",
    "mlp_train_pos = pipeline.predict_proba(X_train)\n",
    "mlp_test_pos = pipeline.predict_proba(X_test)\n",
    "\n",
    "print('###################################################')\n",
    "print(roc_auc_score(y_train,mlp_train_pos[:,1]))\n",
    "print(roc_auc_score(y_test, mlp_test_pos[:,1]))"
   ]
  },
  {
   "cell_type": "markdown",
   "id": "4e8853a4",
   "metadata": {},
   "source": [
    "### MinMaxScaler"
   ]
  },
  {
   "cell_type": "markdown",
   "id": "5ef38f30",
   "metadata": {},
   "source": [
    "#### holdout"
   ]
  },
  {
   "cell_type": "code",
   "execution_count": 22,
   "id": "1ddbad79",
   "metadata": {
    "ExecuteTime": {
     "end_time": "2021-11-27T13:50:51.715648Z",
     "start_time": "2021-11-27T13:50:42.969375Z"
    }
   },
   "outputs": [
    {
     "name": "stdout",
     "output_type": "stream",
     "text": [
      "0.933800806529843 0.9332335578282198 0.9351459216762285\n",
      "###################################################\n",
      "0.4989313850508047\n",
      "0.49836604963805\n"
     ]
    }
   ],
   "source": [
    "from sklearn.neural_network import MLPClassifier\n",
    "from sklearn.model_selection import train_test_split\n",
    "from sklearn.preprocessing import MinMaxScaler\n",
    "from sklearn.metrics import accuracy_score\n",
    "\n",
    "X_train, X_test, y_train, y_test = train_test_split(X, y, stratify=y, random_state=0, test_size=0.2)\n",
    "\n",
    "X_train, X_val, y_train, y_val = train_test_split(X_train, y_train, stratify=y_train, random_state=0)\n",
    "\n",
    "mm=MinMaxScaler()\n",
    "X_train_scaled = mm.fit_transform(X_train)\n",
    "X_val_scaled = mm.transform(X_val)\n",
    "X_test_scaled = mm.transform(X_test)\n",
    "\n",
    "mlp = MLPClassifier(random_state=0)\n",
    "mlp.fit(X_train_scaled, y_train)\n",
    "\n",
    "pred_train = mlp.predict(X_train_scaled)\n",
    "pred_val = mlp.predict(X_val_scaled)\n",
    "pred_test = mlp.predict(X_test_scaled)\n",
    "\n",
    "acc_train = accuracy_score(y_train, pred_train)\n",
    "acc_val = accuracy_score(y_val, pred_val)\n",
    "acc_test = accuracy_score(y_test, pred_test)\n",
    "\n",
    "print(acc_train, acc_val, acc_test)\n",
    "\n",
    "mlp_train_pos = mlp.predict_proba(X_train)\n",
    "mlp_test_pos = mlp.predict_proba(X_test)\n",
    "\n",
    "print('###################################################')\n",
    "print(roc_auc_score(y_train, mlp_train_pos[:,1]))\n",
    "print(roc_auc_score(y_test, mlp_test_pos[:,1]))"
   ]
  },
  {
   "cell_type": "markdown",
   "id": "777cda0f",
   "metadata": {},
   "source": [
    "#### StratifiedKfold"
   ]
  },
  {
   "cell_type": "code",
   "execution_count": 23,
   "id": "101669b0",
   "metadata": {
    "ExecuteTime": {
     "end_time": "2021-11-27T13:51:19.256464Z",
     "start_time": "2021-11-27T13:50:51.776648Z"
    },
    "scrolled": true
   },
   "outputs": [
    {
     "name": "stdout",
     "output_type": "stream",
     "text": [
      "[0.9329758  0.9338239  0.93382225] 0.9335406487257463\n"
     ]
    },
    {
     "ename": "NotFittedError",
     "evalue": "This MinMaxScaler instance is not fitted yet. Call 'fit' with appropriate arguments before using this estimator.",
     "output_type": "error",
     "traceback": [
      "\u001b[1;31m---------------------------------------------------------------------------\u001b[0m",
      "\u001b[1;31mNotFittedError\u001b[0m                            Traceback (most recent call last)",
      "\u001b[1;32m~\\AppData\\Local\\Temp/ipykernel_27636/1579251997.py\u001b[0m in \u001b[0;36m<module>\u001b[1;34m\u001b[0m\n\u001b[0;32m     17\u001b[0m \u001b[0mprint\u001b[0m\u001b[1;33m(\u001b[0m\u001b[0mscores\u001b[0m\u001b[1;33m,\u001b[0m \u001b[0mnp\u001b[0m\u001b[1;33m.\u001b[0m\u001b[0mmean\u001b[0m\u001b[1;33m(\u001b[0m\u001b[0mscores\u001b[0m\u001b[1;33m)\u001b[0m\u001b[1;33m)\u001b[0m\u001b[1;33m\u001b[0m\u001b[1;33m\u001b[0m\u001b[0m\n\u001b[0;32m     18\u001b[0m \u001b[1;33m\u001b[0m\u001b[0m\n\u001b[1;32m---> 19\u001b[1;33m \u001b[0mmlp_train_pos\u001b[0m \u001b[1;33m=\u001b[0m \u001b[0mpipeline\u001b[0m\u001b[1;33m.\u001b[0m\u001b[0mpredict_proba\u001b[0m\u001b[1;33m(\u001b[0m\u001b[0mX_train\u001b[0m\u001b[1;33m)\u001b[0m\u001b[1;33m\u001b[0m\u001b[1;33m\u001b[0m\u001b[0m\n\u001b[0m\u001b[0;32m     20\u001b[0m \u001b[0mmlp_test_pos\u001b[0m \u001b[1;33m=\u001b[0m \u001b[0mpipeline\u001b[0m\u001b[1;33m.\u001b[0m\u001b[0mpredict_proba\u001b[0m\u001b[1;33m(\u001b[0m\u001b[0mX_test\u001b[0m\u001b[1;33m)\u001b[0m\u001b[1;33m\u001b[0m\u001b[1;33m\u001b[0m\u001b[0m\n\u001b[0;32m     21\u001b[0m \u001b[1;33m\u001b[0m\u001b[0m\n",
      "\u001b[1;32mD:\\Program_Files\\anaconda3\\lib\\site-packages\\sklearn\\utils\\metaestimators.py\u001b[0m in \u001b[0;36m<lambda>\u001b[1;34m(*args, **kwargs)\u001b[0m\n\u001b[0;32m    111\u001b[0m \u001b[1;33m\u001b[0m\u001b[0m\n\u001b[0;32m    112\u001b[0m             \u001b[1;31m# lambda, but not partial, allows help() to work with update_wrapper\u001b[0m\u001b[1;33m\u001b[0m\u001b[1;33m\u001b[0m\u001b[0m\n\u001b[1;32m--> 113\u001b[1;33m             \u001b[0mout\u001b[0m \u001b[1;33m=\u001b[0m \u001b[1;32mlambda\u001b[0m \u001b[1;33m*\u001b[0m\u001b[0margs\u001b[0m\u001b[1;33m,\u001b[0m \u001b[1;33m**\u001b[0m\u001b[0mkwargs\u001b[0m\u001b[1;33m:\u001b[0m \u001b[0mself\u001b[0m\u001b[1;33m.\u001b[0m\u001b[0mfn\u001b[0m\u001b[1;33m(\u001b[0m\u001b[0mobj\u001b[0m\u001b[1;33m,\u001b[0m \u001b[1;33m*\u001b[0m\u001b[0margs\u001b[0m\u001b[1;33m,\u001b[0m \u001b[1;33m**\u001b[0m\u001b[0mkwargs\u001b[0m\u001b[1;33m)\u001b[0m  \u001b[1;31m# noqa\u001b[0m\u001b[1;33m\u001b[0m\u001b[1;33m\u001b[0m\u001b[0m\n\u001b[0m\u001b[0;32m    114\u001b[0m         \u001b[1;32melse\u001b[0m\u001b[1;33m:\u001b[0m\u001b[1;33m\u001b[0m\u001b[1;33m\u001b[0m\u001b[0m\n\u001b[0;32m    115\u001b[0m \u001b[1;33m\u001b[0m\u001b[0m\n",
      "\u001b[1;32mD:\\Program_Files\\anaconda3\\lib\\site-packages\\sklearn\\pipeline.py\u001b[0m in \u001b[0;36mpredict_proba\u001b[1;34m(self, X, **predict_proba_params)\u001b[0m\n\u001b[0;32m    533\u001b[0m         \u001b[0mXt\u001b[0m \u001b[1;33m=\u001b[0m \u001b[0mX\u001b[0m\u001b[1;33m\u001b[0m\u001b[1;33m\u001b[0m\u001b[0m\n\u001b[0;32m    534\u001b[0m         \u001b[1;32mfor\u001b[0m \u001b[0m_\u001b[0m\u001b[1;33m,\u001b[0m \u001b[0mname\u001b[0m\u001b[1;33m,\u001b[0m \u001b[0mtransform\u001b[0m \u001b[1;32min\u001b[0m \u001b[0mself\u001b[0m\u001b[1;33m.\u001b[0m\u001b[0m_iter\u001b[0m\u001b[1;33m(\u001b[0m\u001b[0mwith_final\u001b[0m\u001b[1;33m=\u001b[0m\u001b[1;32mFalse\u001b[0m\u001b[1;33m)\u001b[0m\u001b[1;33m:\u001b[0m\u001b[1;33m\u001b[0m\u001b[1;33m\u001b[0m\u001b[0m\n\u001b[1;32m--> 535\u001b[1;33m             \u001b[0mXt\u001b[0m \u001b[1;33m=\u001b[0m \u001b[0mtransform\u001b[0m\u001b[1;33m.\u001b[0m\u001b[0mtransform\u001b[0m\u001b[1;33m(\u001b[0m\u001b[0mXt\u001b[0m\u001b[1;33m)\u001b[0m\u001b[1;33m\u001b[0m\u001b[1;33m\u001b[0m\u001b[0m\n\u001b[0m\u001b[0;32m    536\u001b[0m         \u001b[1;32mreturn\u001b[0m \u001b[0mself\u001b[0m\u001b[1;33m.\u001b[0m\u001b[0msteps\u001b[0m\u001b[1;33m[\u001b[0m\u001b[1;33m-\u001b[0m\u001b[1;36m1\u001b[0m\u001b[1;33m]\u001b[0m\u001b[1;33m[\u001b[0m\u001b[1;36m1\u001b[0m\u001b[1;33m]\u001b[0m\u001b[1;33m.\u001b[0m\u001b[0mpredict_proba\u001b[0m\u001b[1;33m(\u001b[0m\u001b[0mXt\u001b[0m\u001b[1;33m,\u001b[0m \u001b[1;33m**\u001b[0m\u001b[0mpredict_proba_params\u001b[0m\u001b[1;33m)\u001b[0m\u001b[1;33m\u001b[0m\u001b[1;33m\u001b[0m\u001b[0m\n\u001b[0;32m    537\u001b[0m \u001b[1;33m\u001b[0m\u001b[0m\n",
      "\u001b[1;32mD:\\Program_Files\\anaconda3\\lib\\site-packages\\sklearn\\preprocessing\\_data.py\u001b[0m in \u001b[0;36mtransform\u001b[1;34m(self, X)\u001b[0m\n\u001b[0;32m    492\u001b[0m             \u001b[0mTransformed\u001b[0m \u001b[0mdata\u001b[0m\u001b[1;33m.\u001b[0m\u001b[1;33m\u001b[0m\u001b[1;33m\u001b[0m\u001b[0m\n\u001b[0;32m    493\u001b[0m         \"\"\"\n\u001b[1;32m--> 494\u001b[1;33m         \u001b[0mcheck_is_fitted\u001b[0m\u001b[1;33m(\u001b[0m\u001b[0mself\u001b[0m\u001b[1;33m)\u001b[0m\u001b[1;33m\u001b[0m\u001b[1;33m\u001b[0m\u001b[0m\n\u001b[0m\u001b[0;32m    495\u001b[0m \u001b[1;33m\u001b[0m\u001b[0m\n\u001b[0;32m    496\u001b[0m         X = self._validate_data(\n",
      "\u001b[1;32mD:\\Program_Files\\anaconda3\\lib\\site-packages\\sklearn\\utils\\validation.py\u001b[0m in \u001b[0;36mcheck_is_fitted\u001b[1;34m(estimator, attributes, msg, all_or_any)\u001b[0m\n\u001b[0;32m   1207\u001b[0m \u001b[1;33m\u001b[0m\u001b[0m\n\u001b[0;32m   1208\u001b[0m     \u001b[1;32mif\u001b[0m \u001b[1;32mnot\u001b[0m \u001b[0mfitted\u001b[0m\u001b[1;33m:\u001b[0m\u001b[1;33m\u001b[0m\u001b[1;33m\u001b[0m\u001b[0m\n\u001b[1;32m-> 1209\u001b[1;33m         \u001b[1;32mraise\u001b[0m \u001b[0mNotFittedError\u001b[0m\u001b[1;33m(\u001b[0m\u001b[0mmsg\u001b[0m \u001b[1;33m%\u001b[0m \u001b[1;33m{\u001b[0m\u001b[1;34m\"name\"\u001b[0m\u001b[1;33m:\u001b[0m \u001b[0mtype\u001b[0m\u001b[1;33m(\u001b[0m\u001b[0mestimator\u001b[0m\u001b[1;33m)\u001b[0m\u001b[1;33m.\u001b[0m\u001b[0m__name__\u001b[0m\u001b[1;33m}\u001b[0m\u001b[1;33m)\u001b[0m\u001b[1;33m\u001b[0m\u001b[1;33m\u001b[0m\u001b[0m\n\u001b[0m\u001b[0;32m   1210\u001b[0m \u001b[1;33m\u001b[0m\u001b[0m\n\u001b[0;32m   1211\u001b[0m \u001b[1;33m\u001b[0m\u001b[0m\n",
      "\u001b[1;31mNotFittedError\u001b[0m: This MinMaxScaler instance is not fitted yet. Call 'fit' with appropriate arguments before using this estimator."
     ]
    }
   ],
   "source": [
    "from sklearn.neural_network import MLPClassifier\n",
    "from sklearn.model_selection import StratifiedKFold, cross_val_score\n",
    "from sklearn.preprocessing import MinMaxScaler\n",
    "from sklearn.pipeline import Pipeline\n",
    "import numpy as np\n",
    "\n",
    "y= drop_data['SeriousDlqin2yrs'].to_numpy() #values\n",
    "X= drop_data.drop('SeriousDlqin2yrs', axis=1).to_numpy()\n",
    "\n",
    "mm = MinMaxScaler()\n",
    "mlp = MLPClassifier(random_state=0)\n",
    "\n",
    "pipeline = Pipeline([('transformer',mm),('estimator',mlp)])\n",
    "cv = StratifiedKFold(n_splits=3)\n",
    "\n",
    "scores = cross_val_score(pipeline, X, y, cv=cv)\n",
    "print(scores, np.mean(scores))\n",
    "\n",
    "mlp_train_pos = pipeline.predict_proba(X_train)\n",
    "mlp_test_pos = pipeline.predict_proba(X_test)\n",
    "\n",
    "print('###################################################')\n",
    "print(roc_auc_score(y_train, mlp_train_pos[:,1]))\n",
    "print(roc_auc_score(y_test, mlp_test_pos[:,1]))"
   ]
  },
  {
   "cell_type": "code",
   "execution_count": null,
   "id": "75bbd6a1",
   "metadata": {},
   "outputs": [],
   "source": [
    "#MLP는 튜닝조차 고려할 수 없을 정도의 값이 나옴"
   ]
  },
  {
   "cell_type": "markdown",
   "id": "c0efa316",
   "metadata": {},
   "source": [
    "# 베이스라인 모델 평가"
   ]
  },
  {
   "cell_type": "code",
   "execution_count": null,
   "id": "0d58e9de",
   "metadata": {},
   "outputs": [],
   "source": [
    "\"\"\"\n",
    "- 지금까지의 경험으로 비추어 봤을 때 앙상블 모형이 가장 괜찮았음 \n",
    "  roc_auc_score가 85퍼센트에 가깝거나 해당 기준치를 넘는 베이스라인 모델은\n",
    "#랜덤포레스트\n",
    "#에이다부스트\n",
    "#bagging\n",
    "#xgb\n",
    "#lightbgm\n",
    "다음과 같이 트리모델이 압도적이었고 특히 앙상블 모델의 성능이 가장 좋았음\n",
    "\n",
    "-그 외로 \n",
    "#베르누이 나이브베이즈\n",
    "#로지스틱 이항분류\n",
    "다음의 모델들이 70퍼센트 중후반을 기록하며 차순위로 고려할 대상 목록에 오름\n",
    "\n",
    "#스케일러에 대해선 해당 모델들에 한해 큰 차이가 없었음\n",
    "\n",
    "\"\"\"\n",
    "##지금까지의 경험으로 비추어 봤을 때 앙상블 모형이 가장 괜찮았음 "
   ]
  },
  {
   "cell_type": "markdown",
   "id": "24da9140",
   "metadata": {},
   "source": [
    "## softvoting "
   ]
  },
  {
   "cell_type": "code",
   "execution_count": 36,
   "id": "aae6e4a0",
   "metadata": {
    "ExecuteTime": {
     "end_time": "2021-11-27T16:53:28.009800Z",
     "start_time": "2021-11-27T16:53:03.051262Z"
    },
    "scrolled": true
   },
   "outputs": [
    {
     "name": "stderr",
     "output_type": "stream",
     "text": [
      "D:\\Program_Files\\anaconda3\\lib\\site-packages\\xgboost\\sklearn.py:1224: UserWarning: The use of label encoder in XGBClassifier is deprecated and will be removed in a future release. To remove this warning, do the following: 1) Pass option use_label_encoder=False when constructing XGBClassifier object; and 2) Encode your labels (y) as integers starting with 0, i.e. 0, 1, 2, ..., [num_class - 1].\n",
      "  warnings.warn(label_encoder_deprecation_msg, UserWarning)\n"
     ]
    },
    {
     "name": "stdout",
     "output_type": "stream",
     "text": [
      "[01:53:25] WARNING: C:/Users/Administrator/workspace/xgboost-win64_release_1.5.0/src/learner.cc:1115: Starting in XGBoost 1.3.0, the default evaluation metric used with the objective 'binary:logistic' was changed from 'error' to 'logloss'. Explicitly set eval_metric if you'd like to restore the old behavior.\n"
     ]
    },
    {
     "data": {
      "text/plain": [
       "0.8500912489205098"
      ]
     },
     "execution_count": 36,
     "metadata": {},
     "output_type": "execute_result"
    }
   ],
   "source": [
    "#트리모델만 보기\n",
    "\n",
    "# soft: 다수의 추정기에서 각 레이블별 예측한 확률들의 평균을 내서 \n",
    "#       높은 레이블값을 결과값으로 선택하는 방식\n",
    "#hard는 안됨\n",
    "from sklearn.pipeline import Pipeline, make_pipeline\n",
    "from sklearn.tree import DecisionTreeClassifier\n",
    "from sklearn.ensemble import RandomForestClassifier, BaggingClassifier, AdaBoostClassifier, VotingClassifier, GradientBoostingClassifier \n",
    "from xgboost import XGBClassifier\n",
    "from lightgbm import LGBMClassifier\n",
    "from sklearn.naive_bayes import BernoulliNB\n",
    "from sklearn.linear_model import LogisticRegression\n",
    "from sklearn.model_selection import GridSearchCV\n",
    "from sklearn.metrics import roc_auc_score\n",
    "\n",
    "order_rf = [\n",
    "    ('rf', RandomForestClassifier(random_state=0))\n",
    "]\n",
    "\n",
    "order_gb = [\n",
    "    ('gb', GradientBoostingClassifier(random_state=0))\n",
    "] \n",
    "\n",
    "\n",
    "order_ada = [\n",
    "    ('ada', AdaBoostClassifier(random_state=0))\n",
    "]\n",
    "\n",
    "#bagging을 쓰기위헤선  314p 참조\n",
    "#decisiontree 이용\n",
    "order_bag = [\n",
    "    ('bag', BaggingClassifier(base_estimator=DecisionTreeClassifier(criterion='entropy', random_state=0), random_state=0))\n",
    "]\n",
    "\n",
    "order_xgb = [\n",
    "    ('xgb', XGBClassifier(random_state=0))\n",
    "]\n",
    "\n",
    "order_lg = [\n",
    "    ('lg', LGBMClassifier(random_state=0))\n",
    "]\n",
    "\n",
    "order_bn = [\n",
    "    ('scaler', MinMaxScaler()),\n",
    "    ('bn', BernoulliNB())\n",
    "]\n",
    "\n",
    "order_logi = [\n",
    "    ('scaler', StandardScaler()),\n",
    "    ('logi', LogisticRegression(random_state=0))\n",
    "]\n",
    "\n",
    "\n",
    "rf_pl = Pipeline(order_rf)\n",
    "gb_pl = Pipeline(order_gb)\n",
    "ada_pl = Pipeline(order_ada)\n",
    "bag_pl = Pipeline(order_bag)\n",
    "xgb_pl = Pipeline(order_xgb)\n",
    "lg_pl = Pipeline(order_lg)\n",
    "bn_pl = Pipeline(order_bn)\n",
    "logi_pl = Pipeline(order_logi)\n",
    "\n",
    "rf = RandomForestClassifier(random_state=0)\n",
    "\n",
    "estimators= [\n",
    "    ('rf', rf_pl),\n",
    "    ('gb', gb_pl),\n",
    "    ('ada', ada_pl),\n",
    "    ('bag', bag_pl),\n",
    "    ('xgb', xgb_pl),\n",
    "    ('lg', lg_pl),\n",
    "#    ('bn', bn_pl),\n",
    "#    ('logi', logi_pl)\n",
    "]\n",
    "voting  = VotingClassifier(estimators, voting='soft')\n",
    "\n",
    "#soft_voting\n",
    "voting.fit(X_train, y_train)\n",
    "\n",
    "pos_pred = voting.predict_proba(X_test)[:,1]\n",
    "roc_auc_score(y_test, pos_pred)"
   ]
  },
  {
   "cell_type": "code",
   "execution_count": 39,
   "id": "b3c1e677",
   "metadata": {
    "ExecuteTime": {
     "end_time": "2021-11-27T16:54:36.503863Z",
     "start_time": "2021-11-27T16:54:36.330864Z"
    }
   },
   "outputs": [
    {
     "data": {
      "text/plain": [
       "0.8138376725981031"
      ]
     },
     "execution_count": 39,
     "metadata": {},
     "output_type": "execute_result"
    }
   ],
   "source": [
    "#트리 외 모델 보기\n",
    "\n",
    "# soft: 다수의 추정기에서 각 레이블별 예측한 확률들의 평균을 내서 \n",
    "#       높은 레이블값을 결과값으로 선택하는 방식\n",
    "#hard는 안됨\n",
    "from sklearn.pipeline import Pipeline, make_pipeline\n",
    "from sklearn.tree import DecisionTreeClassifier\n",
    "from sklearn.ensemble import RandomForestClassifier, BaggingClassifier, AdaBoostClassifier, VotingClassifier, GradientBoostingClassifier \n",
    "from xgboost import XGBClassifier\n",
    "from lightgbm import LGBMClassifier\n",
    "from sklearn.naive_bayes import BernoulliNB\n",
    "from sklearn.linear_model import LogisticRegression\n",
    "from sklearn.model_selection import GridSearchCV\n",
    "from sklearn.metrics import roc_auc_score\n",
    "\n",
    "std= StandardScaler()\n",
    "X_train_scaled = std.fit_transform(X_train)\n",
    "X_test_scaled = std.transform(X_test)\n",
    "\n",
    "estimators= [\n",
    "    ('bn', bn_pl),\n",
    "    ('logi', logi_pl)\n",
    "]\n",
    "voting2  = VotingClassifier(estimators, voting='soft')\n",
    "\n",
    "#soft_voting\n",
    "voting2.fit(X_train_scaled, y_train)\n",
    "\n",
    "pos_pred2 = voting2.predict_proba(X_test_scaled)[:,1]\n",
    "roc_auc_score(y_test, pos_pred2)"
   ]
  },
  {
   "cell_type": "code",
   "execution_count": null,
   "id": "bf8a1a88",
   "metadata": {},
   "outputs": [],
   "source": [
    "#선정한 모델들의 roc_auc score가 80대 초중반으로 나타나 튜닝을 하면 \n",
    "#85%를 넘을 수 있을 것이라고 예상 "
   ]
  },
  {
   "cell_type": "markdown",
   "id": "5f127022",
   "metadata": {},
   "source": [
    "# RandomizedSearchCV"
   ]
  },
  {
   "cell_type": "markdown",
   "id": "495b6994",
   "metadata": {},
   "source": [
    "## RandomForestClassifier"
   ]
  },
  {
   "cell_type": "code",
   "execution_count": 89,
   "id": "45e2a393",
   "metadata": {
    "ExecuteTime": {
     "end_time": "2021-11-28T05:15:25.947143Z",
     "start_time": "2021-11-28T05:14:49.383414Z"
    },
    "scrolled": true
   },
   "outputs": [
    {
     "name": "stderr",
     "output_type": "stream",
     "text": [
      "D:\\Program_Files\\anaconda3\\lib\\site-packages\\sklearn\\model_selection\\_validation.py:372: FitFailedWarning: \n",
      "10 fits failed out of a total of 50.\n",
      "The score on these train-test partitions for these parameters will be set to nan.\n",
      "If these failures are not expected, you can try to debug them by setting error_score='raise'.\n",
      "\n",
      "Below are more details about the failures:\n",
      "--------------------------------------------------------------------------------\n",
      "10 fits failed with the following error:\n",
      "Traceback (most recent call last):\n",
      "  File \"D:\\Program_Files\\anaconda3\\lib\\site-packages\\sklearn\\model_selection\\_validation.py\", line 681, in _fit_and_score\n",
      "    estimator.fit(X_train, y_train, **fit_params)\n",
      "  File \"D:\\Program_Files\\anaconda3\\lib\\site-packages\\sklearn\\ensemble\\_forest.py\", line 442, in fit\n",
      "    trees = Parallel(\n",
      "  File \"D:\\Program_Files\\anaconda3\\lib\\site-packages\\joblib\\parallel.py\", line 1043, in __call__\n",
      "    if self.dispatch_one_batch(iterator):\n",
      "  File \"D:\\Program_Files\\anaconda3\\lib\\site-packages\\joblib\\parallel.py\", line 861, in dispatch_one_batch\n",
      "    self._dispatch(tasks)\n",
      "  File \"D:\\Program_Files\\anaconda3\\lib\\site-packages\\joblib\\parallel.py\", line 779, in _dispatch\n",
      "    job = self._backend.apply_async(batch, callback=cb)\n",
      "  File \"D:\\Program_Files\\anaconda3\\lib\\site-packages\\joblib\\_parallel_backends.py\", line 208, in apply_async\n",
      "    result = ImmediateResult(func)\n",
      "  File \"D:\\Program_Files\\anaconda3\\lib\\site-packages\\joblib\\_parallel_backends.py\", line 572, in __init__\n",
      "    self.results = batch()\n",
      "  File \"D:\\Program_Files\\anaconda3\\lib\\site-packages\\joblib\\parallel.py\", line 262, in __call__\n",
      "    return [func(*args, **kwargs)\n",
      "  File \"D:\\Program_Files\\anaconda3\\lib\\site-packages\\joblib\\parallel.py\", line 262, in <listcomp>\n",
      "    return [func(*args, **kwargs)\n",
      "  File \"D:\\Program_Files\\anaconda3\\lib\\site-packages\\sklearn\\utils\\fixes.py\", line 211, in __call__\n",
      "    return self.function(*args, **kwargs)\n",
      "  File \"D:\\Program_Files\\anaconda3\\lib\\site-packages\\sklearn\\ensemble\\_forest.py\", line 185, in _parallel_build_trees\n",
      "    tree.fit(X, y, sample_weight=curr_sample_weight, check_input=False)\n",
      "  File \"D:\\Program_Files\\anaconda3\\lib\\site-packages\\sklearn\\tree\\_classes.py\", line 937, in fit\n",
      "    super().fit(\n",
      "  File \"D:\\Program_Files\\anaconda3\\lib\\site-packages\\sklearn\\tree\\_classes.py\", line 314, in fit\n",
      "    raise ValueError(\n",
      "ValueError: max_leaf_nodes 1 must be either None or larger than 1\n",
      "\n",
      "  warnings.warn(some_fits_failed_message, FitFailedWarning)\n",
      "D:\\Program_Files\\anaconda3\\lib\\site-packages\\sklearn\\model_selection\\_search.py:969: UserWarning: One or more of the test scores are non-finite: [       nan 0.84661416        nan 0.84326211 0.83982285 0.84912042\n",
      " 0.84564506 0.84779384 0.8452693  0.84365761]\n",
      "  warnings.warn(\n"
     ]
    },
    {
     "name": "stdout",
     "output_type": "stream",
     "text": [
      "0.8533104151124851\n",
      "0.8521183750823117\n",
      "{'n_estimators': 200, 'min_samples_leaf': 300, 'max_leaf_nodes': 26, 'max_depth': 10}\n"
     ]
    }
   ],
   "source": [
    "from sklearn.model_selection import RandomizedSearchCV\n",
    "from sklearn.ensemble import RandomForestClassifier\n",
    "\n",
    "rf = RandomForestClassifier(random_state=0)\n",
    "param_grid = {'n_estimators': range(100, 501, 100),\n",
    "         'max_depth': range(1,16),\n",
    "         'max_leaf_nodes':range(1, 31, 5),\n",
    "         'min_samples_leaf':range(100,1001, 100)\n",
    "}\n",
    "\n",
    "\n",
    "grid_search = RandomizedSearchCV(rf,\n",
    "                          param_grid,\n",
    "                          scoring='roc_auc',\n",
    "                          cv=5,\n",
    "                          n_jobs=-1\n",
    "                          )\n",
    "\n",
    "grid_search.fit(X_train, y_train)\n",
    "\n",
    "best_model=grid_search.best_estimator_\n",
    "\n",
    "train_pos = best_model.predict_proba(X_train)[:,1]\n",
    "test_pos = best_model.predict_proba(X_test)[:,1]\n",
    "print(roc_auc_score(y_train, train_pos))\n",
    "print(roc_auc_score(y_test, test_pos))\n",
    "print(grid_search.best_params_)\n",
    "#pd.DataFrame(grid_search.cv_results_)"
   ]
  },
  {
   "cell_type": "markdown",
   "id": "a31ab74f",
   "metadata": {},
   "source": [
    "## Gradient Boost Machine(GBM)"
   ]
  },
  {
   "cell_type": "code",
   "execution_count": 90,
   "id": "589febf1",
   "metadata": {
    "ExecuteTime": {
     "end_time": "2021-11-28T05:24:04.061409Z",
     "start_time": "2021-11-28T05:20:41.989108Z"
    },
    "scrolled": true
   },
   "outputs": [
    {
     "name": "stderr",
     "output_type": "stream",
     "text": [
      "D:\\Program_Files\\anaconda3\\lib\\site-packages\\sklearn\\model_selection\\_validation.py:372: FitFailedWarning: \n",
      "5 fits failed out of a total of 50.\n",
      "The score on these train-test partitions for these parameters will be set to nan.\n",
      "If these failures are not expected, you can try to debug them by setting error_score='raise'.\n",
      "\n",
      "Below are more details about the failures:\n",
      "--------------------------------------------------------------------------------\n",
      "5 fits failed with the following error:\n",
      "Traceback (most recent call last):\n",
      "  File \"D:\\Program_Files\\anaconda3\\lib\\site-packages\\sklearn\\model_selection\\_validation.py\", line 681, in _fit_and_score\n",
      "    estimator.fit(X_train, y_train, **fit_params)\n",
      "  File \"D:\\Program_Files\\anaconda3\\lib\\site-packages\\sklearn\\ensemble\\_gb.py\", line 586, in fit\n",
      "    n_stages = self._fit_stages(\n",
      "  File \"D:\\Program_Files\\anaconda3\\lib\\site-packages\\sklearn\\ensemble\\_gb.py\", line 663, in _fit_stages\n",
      "    raw_predictions = self._fit_stage(\n",
      "  File \"D:\\Program_Files\\anaconda3\\lib\\site-packages\\sklearn\\ensemble\\_gb.py\", line 246, in _fit_stage\n",
      "    tree.fit(X, residual, sample_weight=sample_weight, check_input=False)\n",
      "  File \"D:\\Program_Files\\anaconda3\\lib\\site-packages\\sklearn\\tree\\_classes.py\", line 1315, in fit\n",
      "    super().fit(\n",
      "  File \"D:\\Program_Files\\anaconda3\\lib\\site-packages\\sklearn\\tree\\_classes.py\", line 314, in fit\n",
      "    raise ValueError(\n",
      "ValueError: max_leaf_nodes 1 must be either None or larger than 1\n",
      "\n",
      "  warnings.warn(some_fits_failed_message, FitFailedWarning)\n",
      "D:\\Program_Files\\anaconda3\\lib\\site-packages\\sklearn\\model_selection\\_search.py:969: UserWarning: One or more of the test scores are non-finite: [0.83915814 0.84931046 0.85033777        nan 0.828087   0.84712207\n",
      " 0.85079995 0.84929724 0.85055911 0.85084987]\n",
      "  warnings.warn(\n"
     ]
    },
    {
     "name": "stdout",
     "output_type": "stream",
     "text": [
      "0.8533104151124851\n",
      "0.8521183750823117\n",
      "{'n_estimators': 400, 'min_samples_leaf': 700, 'max_leaf_nodes': 21, 'max_depth': 15, 'learning_rate': 0.01}\n"
     ]
    }
   ],
   "source": [
    "from sklearn.ensemble import GradientBoostingClassifier\n",
    "gdb=GradientBoostingClassifier(random_state=0)\n",
    "\n",
    "param_grid = {\n",
    "    'n_estimators': range(100, 501, 100),\n",
    "    'max_depth': range(1,16),\n",
    "    'max_leaf_nodes':range(1, 31, 5),\n",
    "    'min_samples_leaf':range(100,1001, 100),\n",
    "    'learning_rate': [0.05, 0.01, 0.1, 0.5]}\n",
    "\n",
    "grid_search = RandomizedSearchCV(gdb, param_grid, scoring='roc_auc', cv=5, n_jobs=-1)\n",
    "\n",
    "grid_search.fit(X_train, y_train)\n",
    "\n",
    "best_modle = grid_search.best_estimator_\n",
    "\n",
    "train_pos = best_model.predict_proba(X_train)[:,1]\n",
    "test_pos = best_model.predict_proba(X_test)[:,1]\n",
    "print(roc_auc_score(y_train, train_pos))\n",
    "print(roc_auc_score(y_test, test_pos))\n",
    "print(grid_search.best_params_)"
   ]
  },
  {
   "cell_type": "markdown",
   "id": "fd9e736b",
   "metadata": {},
   "source": [
    "## AdaBoostClassifier"
   ]
  },
  {
   "cell_type": "code",
   "execution_count": 111,
   "id": "af930ef1",
   "metadata": {
    "ExecuteTime": {
     "end_time": "2021-11-28T05:57:12.971153Z",
     "start_time": "2021-11-28T05:55:55.678581Z"
    }
   },
   "outputs": [
    {
     "name": "stdout",
     "output_type": "stream",
     "text": [
      "0.8525060044691519\n",
      "0.8515472290473933\n",
      "{'n_estimators': 400, 'learning_rate': 0.1}\n"
     ]
    }
   ],
   "source": [
    "from sklearn.model_selection import RandomizedSearchCV\n",
    "from sklearn.ensemble import AdaBoostClassifier\n",
    "\n",
    "#dt=DecisionTreeClassifier(random_state=0)\n",
    "ada = AdaBoostClassifier(random_state=0) #, base_estimators=dt)\n",
    "\n",
    "param_grid = {\n",
    "    'n_estimators': range(100, 501, 100),\n",
    "    'learning_rate': [0.05, 0.01, 0.1, 0.5]\n",
    "   }\n",
    "\n",
    "grid_search = RandomizedSearchCV(ada, \n",
    "                                 param_grid,\n",
    "                                 scoring='roc_auc',\n",
    "                                 cv=5,\n",
    "                                 n_jobs=-1\n",
    "                          )\n",
    "\n",
    "grid_search.fit(X_train, y_train)\n",
    "\n",
    "best_model=grid_search.best_estimator_\n",
    "\n",
    "train_pos = best_model.predict_proba(X_train)[:,1]\n",
    "test_pos = best_model.predict_proba(X_test)[:,1]\n",
    "print(roc_auc_score(y_train, train_pos))\n",
    "print(roc_auc_score(y_test, test_pos))\n",
    "print(grid_search.best_params_)\n",
    "\n",
    "#pd.DataFrame(grid_search.cv_results_)"
   ]
  },
  {
   "cell_type": "markdown",
   "id": "d5fe0e6c",
   "metadata": {},
   "source": [
    "## BaggingClassifier"
   ]
  },
  {
   "cell_type": "code",
   "execution_count": 107,
   "id": "0b72e883",
   "metadata": {
    "ExecuteTime": {
     "end_time": "2021-11-28T05:53:25.907609Z",
     "start_time": "2021-11-28T05:51:39.823322Z"
    },
    "scrolled": true
   },
   "outputs": [
    {
     "name": "stderr",
     "output_type": "stream",
     "text": [
      "D:\\Program_Files\\anaconda3\\lib\\site-packages\\sklearn\\model_selection\\_validation.py:372: FitFailedWarning: \n",
      "15 fits failed out of a total of 50.\n",
      "The score on these train-test partitions for these parameters will be set to nan.\n",
      "If these failures are not expected, you can try to debug them by setting error_score='raise'.\n",
      "\n",
      "Below are more details about the failures:\n",
      "--------------------------------------------------------------------------------\n",
      "15 fits failed with the following error:\n",
      "Traceback (most recent call last):\n",
      "  File \"D:\\Program_Files\\anaconda3\\lib\\site-packages\\sklearn\\model_selection\\_validation.py\", line 681, in _fit_and_score\n",
      "    estimator.fit(X_train, y_train, **fit_params)\n",
      "  File \"D:\\Program_Files\\anaconda3\\lib\\site-packages\\sklearn\\ensemble\\_bagging.py\", line 269, in fit\n",
      "    return self._fit(X, y, self.max_samples, sample_weight=sample_weight)\n",
      "  File \"D:\\Program_Files\\anaconda3\\lib\\site-packages\\sklearn\\ensemble\\_bagging.py\", line 394, in _fit\n",
      "    all_results = Parallel(\n",
      "  File \"D:\\Program_Files\\anaconda3\\lib\\site-packages\\joblib\\parallel.py\", line 1043, in __call__\n",
      "    if self.dispatch_one_batch(iterator):\n",
      "  File \"D:\\Program_Files\\anaconda3\\lib\\site-packages\\joblib\\parallel.py\", line 861, in dispatch_one_batch\n",
      "    self._dispatch(tasks)\n",
      "  File \"D:\\Program_Files\\anaconda3\\lib\\site-packages\\joblib\\parallel.py\", line 779, in _dispatch\n",
      "    job = self._backend.apply_async(batch, callback=cb)\n",
      "  File \"D:\\Program_Files\\anaconda3\\lib\\site-packages\\joblib\\_parallel_backends.py\", line 208, in apply_async\n",
      "    result = ImmediateResult(func)\n",
      "  File \"D:\\Program_Files\\anaconda3\\lib\\site-packages\\joblib\\_parallel_backends.py\", line 572, in __init__\n",
      "    self.results = batch()\n",
      "  File \"D:\\Program_Files\\anaconda3\\lib\\site-packages\\joblib\\parallel.py\", line 262, in __call__\n",
      "    return [func(*args, **kwargs)\n",
      "  File \"D:\\Program_Files\\anaconda3\\lib\\site-packages\\joblib\\parallel.py\", line 262, in <listcomp>\n",
      "    return [func(*args, **kwargs)\n",
      "  File \"D:\\Program_Files\\anaconda3\\lib\\site-packages\\sklearn\\utils\\fixes.py\", line 211, in __call__\n",
      "    return self.function(*args, **kwargs)\n",
      "  File \"D:\\Program_Files\\anaconda3\\lib\\site-packages\\sklearn\\ensemble\\_bagging.py\", line 123, in _parallel_build_estimators\n",
      "    estimator.fit(X[:, features], y, sample_weight=curr_sample_weight)\n",
      "  File \"D:\\Program_Files\\anaconda3\\lib\\site-packages\\sklearn\\tree\\_classes.py\", line 937, in fit\n",
      "    super().fit(\n",
      "  File \"D:\\Program_Files\\anaconda3\\lib\\site-packages\\sklearn\\tree\\_classes.py\", line 314, in fit\n",
      "    raise ValueError(\n",
      "ValueError: max_leaf_nodes 1 must be either None or larger than 1\n",
      "\n",
      "  warnings.warn(some_fits_failed_message, FitFailedWarning)\n",
      "D:\\Program_Files\\anaconda3\\lib\\site-packages\\sklearn\\model_selection\\_search.py:969: UserWarning: One or more of the test scores are non-finite: [0.83846556 0.82138744 0.81976405 0.84090188 0.80296448 0.8313079\n",
      "        nan        nan 0.83817337        nan]\n",
      "  warnings.warn(\n"
     ]
    },
    {
     "name": "stdout",
     "output_type": "stream",
     "text": [
      "0.8479172000320856\n",
      "0.8467446908510998\n",
      "{'n_estimators': 400, 'base_estimator__min_samples_leaf': 700, 'base_estimator__max_leaf_nodes': 21, 'base_estimator__max_depth': 6, 'base_estimator__criterion': 'gini'}\n"
     ]
    }
   ],
   "source": [
    "#bagging\n",
    "from sklearn.ensemble import BaggingClassifier\n",
    "\n",
    "from sklearn.model_selection import RandomizedSearchCV\n",
    "\n",
    "#dt=DecisionTreeClassifier(random_state=0)\n",
    "bag = BaggingClassifier(random_state=0, base_estimator=DecisionTreeClassifier()) #, base_estimators=dt)\n",
    "\n",
    "param_grid = {\n",
    "    'n_estimators': range(100, 501, 100),\n",
    "    'base_estimator__criterion':['gini','entropy'], \n",
    "    'base_estimator__max_depth':range(1,16), \n",
    "    'base_estimator__max_leaf_nodes':range(1,31,5), \n",
    "    'base_estimator__min_samples_leaf': range(100, 1001, 100) \n",
    "}\n",
    "\n",
    "grid_search = RandomizedSearchCV(bag, \n",
    "                                 param_grid,\n",
    "                                 scoring='roc_auc',\n",
    "                                 cv=5,\n",
    "                                 n_jobs=-1\n",
    "                          )\n",
    "\n",
    "grid_search.fit(X_train, y_train)\n",
    "\n",
    "best_model=grid_search.best_estimator_\n",
    "\n",
    "train_pos = best_model.predict_proba(X_train)[:,1]\n",
    "test_pos = best_model.predict_proba(X_test)[:,1]\n",
    "print(roc_auc_score(y_train, train_pos))\n",
    "print(roc_auc_score(y_test, test_pos))\n",
    "print(grid_search.best_params_)\n",
    "#pd.DataFrame(grid_search.cv_results_)"
   ]
  },
  {
   "cell_type": "markdown",
   "id": "8a6b5c8e",
   "metadata": {},
   "source": [
    "## XGBClassifier"
   ]
  },
  {
   "cell_type": "code",
   "execution_count": 131,
   "id": "a08fdf5c",
   "metadata": {
    "ExecuteTime": {
     "end_time": "2021-11-28T06:17:15.274679Z",
     "start_time": "2021-11-28T06:16:18.933685Z"
    },
    "scrolled": true
   },
   "outputs": [
    {
     "name": "stderr",
     "output_type": "stream",
     "text": [
      "D:\\Program_Files\\anaconda3\\lib\\site-packages\\xgboost\\sklearn.py:1224: UserWarning: The use of label encoder in XGBClassifier is deprecated and will be removed in a future release. To remove this warning, do the following: 1) Pass option use_label_encoder=False when constructing XGBClassifier object; and 2) Encode your labels (y) as integers starting with 0, i.e. 0, 1, 2, ..., [num_class - 1].\n",
      "  warnings.warn(label_encoder_deprecation_msg, UserWarning)\n"
     ]
    },
    {
     "name": "stdout",
     "output_type": "stream",
     "text": [
      "[15:17:12] WARNING: C:/Users/Administrator/workspace/xgboost-win64_release_1.5.0/src/learner.cc:576: \n",
      "Parameters: { \"cosample_bytree\" } might not be used.\n",
      "\n",
      "  This could be a false alarm, with some parameters getting used by language bindings but\n",
      "  then being mistakenly passed down to XGBoost core, or some parameter actually being used\n",
      "  but getting flagged wrongly here. Please open an issue if you find any such cases.\n",
      "\n",
      "\n",
      "[15:17:12] WARNING: C:/Users/Administrator/workspace/xgboost-win64_release_1.5.0/src/learner.cc:1115: Starting in XGBoost 1.3.0, the default evaluation metric used with the objective 'binary:logistic' was changed from 'error' to 'logloss'. Explicitly set eval_metric if you'd like to restore the old behavior.\n",
      "0.8633444268984132\n",
      "0.8556082693240437\n",
      "{'n_estimators': 300, 'min_split_loss': 1, 'max_depth': 3, 'learning_rate': 0.05, 'cosample_bytree': 0.5}\n"
     ]
    }
   ],
   "source": [
    "#https://lsjsj92.tistory.com/547 참조\n",
    "\n",
    "from xgboost import XGBClassifier\n",
    "from sklearn.model_selection import RandomizedSearchCV\n",
    "\n",
    "#dt=DecisionTreeClassifier(random_state=0)\n",
    "xgb = XGBClassifier(random_state=0) #, base_estimators=dt)\n",
    "\n",
    "param_grid = {\n",
    "    'n_estimators': range(100, 501, 100),\n",
    "    'max_depth': range(3,11),\n",
    "    #=max_features\n",
    "    'cosample_bytree': [0.5, 0.7, 0.9],\n",
    "    'min_split_loss': range(1, 101, 10),\n",
    "    'learning_rate': [0.01, 0.05, 0.1, 0.5]\n",
    "    }\n",
    "\n",
    "\n",
    "grid_search = RandomizedSearchCV(xgb, \n",
    "                                 param_grid,\n",
    "                                 scoring='roc_auc',\n",
    "                                 cv=5,\n",
    "                                 n_jobs=-1\n",
    "                          )\n",
    "\n",
    "grid_search.fit(X_train, y_train)\n",
    "\n",
    "best_model=grid_search.best_estimator_\n",
    "\n",
    "train_pos = best_model.predict_proba(X_train)[:,1]\n",
    "test_pos = best_model.predict_proba(X_test)[:,1]\n",
    "print(roc_auc_score(y_train, train_pos))\n",
    "print(roc_auc_score(y_test, test_pos))\n",
    "print(grid_search.best_params_)\n",
    "#pd.DataFrame(grid_search.cv_results_)"
   ]
  },
  {
   "cell_type": "markdown",
   "id": "0f3be2e7",
   "metadata": {},
   "source": [
    "## Lightbgm"
   ]
  },
  {
   "cell_type": "code",
   "execution_count": 136,
   "id": "1f68ae23",
   "metadata": {
    "ExecuteTime": {
     "end_time": "2021-11-28T06:29:15.044138Z",
     "start_time": "2021-11-28T06:29:09.879893Z"
    },
    "scrolled": true
   },
   "outputs": [
    {
     "name": "stdout",
     "output_type": "stream",
     "text": [
      "[LightGBM] [Warning] Unknown parameter: min_split_loss\n",
      "[LightGBM] [Warning] Unknown parameter: min_child_sampes\n",
      "[LightGBM] [Warning] Unknown parameter: cosample_bytree\n",
      "0.8750489440771106\n",
      "0.8553227364113993\n",
      "{'n_estimators': 400, 'min_split_loss': 41, 'min_child_sampes': 20, 'max_depth': 15, 'learning_rate': 0.01, 'cosample_bytree': 0.5}\n"
     ]
    }
   ],
   "source": [
    "from lightgbm import LGBMClassifier\n",
    "from sklearn.model_selection import RandomizedSearchCV\n",
    "\n",
    "#dt=DecisionTreeClassifier(random_state=0)\n",
    "lg = LGBMClassifier(random_state=0) #, base_estimators=dt)\n",
    "\n",
    "param_grid = {\n",
    "    'learning_rate': [0.01, 0.05, 0.1, 0.5],\n",
    "    'n_estimators': range(100, 501, 100),\n",
    "    'max_depth': range(3, 21, 3),\n",
    "    #=max_features\n",
    "    'cosample_bytree': [0.5, 0.7, 0.9],\n",
    "    'min_split_loss': range(1, 101, 10),\n",
    "    'min_child_sampes': range(10, 101, 10)\n",
    "    }\n",
    "\n",
    "\n",
    "grid_search = RandomizedSearchCV(lg, \n",
    "                                 param_grid,\n",
    "                                 scoring='roc_auc',\n",
    "                                 cv=5,\n",
    "                                 n_jobs=-1\n",
    "                          )\n",
    "\n",
    "grid_search.fit(X_train, y_train)\n",
    "\n",
    "best_model=grid_search.best_estimator_\n",
    "\n",
    "train_pos = best_model.predict_proba(X_train)[:,1]\n",
    "test_pos = best_model.predict_proba(X_test)[:,1]\n",
    "print(roc_auc_score(y_train, train_pos))\n",
    "print(roc_auc_score(y_test, test_pos))\n",
    "print(grid_search.best_params_)\n",
    "#pd.DataFrame(grid_search.cv_results_)"
   ]
  },
  {
   "cell_type": "markdown",
   "id": "13c659ac",
   "metadata": {},
   "source": [
    "## BernoulliNB"
   ]
  },
  {
   "cell_type": "code",
   "execution_count": 152,
   "id": "6d91e3b7",
   "metadata": {
    "ExecuteTime": {
     "end_time": "2021-11-28T06:58:14.426336Z",
     "start_time": "2021-11-28T06:58:12.273902Z"
    },
    "scrolled": true
   },
   "outputs": [
    {
     "name": "stdout",
     "output_type": "stream",
     "text": [
      "0.7838135042364796\n",
      "0.7877627269755384\n",
      "{'alpha': 6}\n"
     ]
    }
   ],
   "source": [
    "from sklearn.naive_bayes import BernoulliNB\n",
    "\n",
    "from sklearn.model_selection import RandomizedSearchCV, GridSearchCV\n",
    "\n",
    "#dt=DecisionTreeClassifier(random_state=0)\n",
    "bn = BernoulliNB() #, base_estimators=dt)\n",
    "\n",
    "param_grid = {\n",
    "    'alpha': range(1, 30, 1)\n",
    "    }\n",
    "\n",
    "\n",
    "grid_search = GridSearchCV(bn, \n",
    "                           param_grid,\n",
    "                           scoring='roc_auc',\n",
    "                           cv=5,\n",
    "                           n_jobs=-1\n",
    "                          )\n",
    "\n",
    "grid_search.fit(X_train, y_train)\n",
    "\n",
    "best_model=grid_search.best_estimator_\n",
    "\n",
    "train_pos = best_model.predict_proba(X_train)[:,1]\n",
    "test_pos = best_model.predict_proba(X_test)[:,1]\n",
    "print(roc_auc_score(y_train, train_pos))\n",
    "print(roc_auc_score(y_test, test_pos))\n",
    "print(grid_search.best_params_)\n",
    "#pd.DataFrame(grid_search.cv_results_)"
   ]
  },
  {
   "cell_type": "code",
   "execution_count": null,
   "id": "53fa6352",
   "metadata": {},
   "outputs": [],
   "source": [
    "#요건을 충족하지 못함"
   ]
  },
  {
   "cell_type": "markdown",
   "id": "d2023ea7",
   "metadata": {},
   "source": [
    "## LogisticRegression"
   ]
  },
  {
   "cell_type": "code",
   "execution_count": 153,
   "id": "55c59b35",
   "metadata": {
    "ExecuteTime": {
     "end_time": "2021-11-28T06:59:46.016000Z",
     "start_time": "2021-11-28T06:59:42.631973Z"
    }
   },
   "outputs": [
    {
     "name": "stderr",
     "output_type": "stream",
     "text": [
      "D:\\Program_Files\\anaconda3\\lib\\site-packages\\sklearn\\linear_model\\_logistic.py:814: ConvergenceWarning: lbfgs failed to converge (status=1):\n",
      "STOP: TOTAL NO. of ITERATIONS REACHED LIMIT.\n",
      "\n",
      "Increase the number of iterations (max_iter) or scale the data as shown in:\n",
      "    https://scikit-learn.org/stable/modules/preprocessing.html\n",
      "Please also refer to the documentation for alternative solver options:\n",
      "    https://scikit-learn.org/stable/modules/linear_model.html#logistic-regression\n",
      "  n_iter_i = _check_optimize_result(\n",
      "D:\\Program_Files\\anaconda3\\lib\\site-packages\\sklearn\\linear_model\\_logistic.py:814: ConvergenceWarning: lbfgs failed to converge (status=1):\n",
      "STOP: TOTAL NO. of ITERATIONS REACHED LIMIT.\n",
      "\n",
      "Increase the number of iterations (max_iter) or scale the data as shown in:\n",
      "    https://scikit-learn.org/stable/modules/preprocessing.html\n",
      "Please also refer to the documentation for alternative solver options:\n",
      "    https://scikit-learn.org/stable/modules/linear_model.html#logistic-regression\n",
      "  n_iter_i = _check_optimize_result(\n",
      "D:\\Program_Files\\anaconda3\\lib\\site-packages\\sklearn\\linear_model\\_logistic.py:814: ConvergenceWarning: lbfgs failed to converge (status=1):\n",
      "STOP: TOTAL NO. of ITERATIONS REACHED LIMIT.\n",
      "\n",
      "Increase the number of iterations (max_iter) or scale the data as shown in:\n",
      "    https://scikit-learn.org/stable/modules/preprocessing.html\n",
      "Please also refer to the documentation for alternative solver options:\n",
      "    https://scikit-learn.org/stable/modules/linear_model.html#logistic-regression\n",
      "  n_iter_i = _check_optimize_result(\n",
      "D:\\Program_Files\\anaconda3\\lib\\site-packages\\sklearn\\linear_model\\_logistic.py:814: ConvergenceWarning: lbfgs failed to converge (status=1):\n",
      "STOP: TOTAL NO. of ITERATIONS REACHED LIMIT.\n",
      "\n",
      "Increase the number of iterations (max_iter) or scale the data as shown in:\n",
      "    https://scikit-learn.org/stable/modules/preprocessing.html\n",
      "Please also refer to the documentation for alternative solver options:\n",
      "    https://scikit-learn.org/stable/modules/linear_model.html#logistic-regression\n",
      "  n_iter_i = _check_optimize_result(\n",
      "D:\\Program_Files\\anaconda3\\lib\\site-packages\\sklearn\\linear_model\\_logistic.py:814: ConvergenceWarning: lbfgs failed to converge (status=1):\n",
      "STOP: TOTAL NO. of ITERATIONS REACHED LIMIT.\n",
      "\n",
      "Increase the number of iterations (max_iter) or scale the data as shown in:\n",
      "    https://scikit-learn.org/stable/modules/preprocessing.html\n",
      "Please also refer to the documentation for alternative solver options:\n",
      "    https://scikit-learn.org/stable/modules/linear_model.html#logistic-regression\n",
      "  n_iter_i = _check_optimize_result(\n",
      "D:\\Program_Files\\anaconda3\\lib\\site-packages\\sklearn\\linear_model\\_logistic.py:814: ConvergenceWarning: lbfgs failed to converge (status=1):\n",
      "STOP: TOTAL NO. of ITERATIONS REACHED LIMIT.\n",
      "\n",
      "Increase the number of iterations (max_iter) or scale the data as shown in:\n",
      "    https://scikit-learn.org/stable/modules/preprocessing.html\n",
      "Please also refer to the documentation for alternative solver options:\n",
      "    https://scikit-learn.org/stable/modules/linear_model.html#logistic-regression\n",
      "  n_iter_i = _check_optimize_result(\n",
      "D:\\Program_Files\\anaconda3\\lib\\site-packages\\sklearn\\linear_model\\_logistic.py:814: ConvergenceWarning: lbfgs failed to converge (status=1):\n",
      "STOP: TOTAL NO. of ITERATIONS REACHED LIMIT.\n",
      "\n",
      "Increase the number of iterations (max_iter) or scale the data as shown in:\n",
      "    https://scikit-learn.org/stable/modules/preprocessing.html\n",
      "Please also refer to the documentation for alternative solver options:\n",
      "    https://scikit-learn.org/stable/modules/linear_model.html#logistic-regression\n",
      "  n_iter_i = _check_optimize_result(\n",
      "D:\\Program_Files\\anaconda3\\lib\\site-packages\\sklearn\\linear_model\\_logistic.py:814: ConvergenceWarning: lbfgs failed to converge (status=1):\n",
      "STOP: TOTAL NO. of ITERATIONS REACHED LIMIT.\n",
      "\n",
      "Increase the number of iterations (max_iter) or scale the data as shown in:\n",
      "    https://scikit-learn.org/stable/modules/preprocessing.html\n",
      "Please also refer to the documentation for alternative solver options:\n",
      "    https://scikit-learn.org/stable/modules/linear_model.html#logistic-regression\n",
      "  n_iter_i = _check_optimize_result(\n",
      "D:\\Program_Files\\anaconda3\\lib\\site-packages\\sklearn\\linear_model\\_logistic.py:814: ConvergenceWarning: lbfgs failed to converge (status=1):\n",
      "STOP: TOTAL NO. of ITERATIONS REACHED LIMIT.\n",
      "\n",
      "Increase the number of iterations (max_iter) or scale the data as shown in:\n",
      "    https://scikit-learn.org/stable/modules/preprocessing.html\n",
      "Please also refer to the documentation for alternative solver options:\n",
      "    https://scikit-learn.org/stable/modules/linear_model.html#logistic-regression\n",
      "  n_iter_i = _check_optimize_result(\n",
      "D:\\Program_Files\\anaconda3\\lib\\site-packages\\sklearn\\linear_model\\_logistic.py:814: ConvergenceWarning: lbfgs failed to converge (status=1):\n",
      "STOP: TOTAL NO. of ITERATIONS REACHED LIMIT.\n",
      "\n",
      "Increase the number of iterations (max_iter) or scale the data as shown in:\n",
      "    https://scikit-learn.org/stable/modules/preprocessing.html\n",
      "Please also refer to the documentation for alternative solver options:\n",
      "    https://scikit-learn.org/stable/modules/linear_model.html#logistic-regression\n",
      "  n_iter_i = _check_optimize_result(\n",
      "D:\\Program_Files\\anaconda3\\lib\\site-packages\\sklearn\\linear_model\\_logistic.py:814: ConvergenceWarning: lbfgs failed to converge (status=1):\n",
      "STOP: TOTAL NO. of ITERATIONS REACHED LIMIT.\n",
      "\n",
      "Increase the number of iterations (max_iter) or scale the data as shown in:\n",
      "    https://scikit-learn.org/stable/modules/preprocessing.html\n",
      "Please also refer to the documentation for alternative solver options:\n",
      "    https://scikit-learn.org/stable/modules/linear_model.html#logistic-regression\n",
      "  n_iter_i = _check_optimize_result(\n",
      "D:\\Program_Files\\anaconda3\\lib\\site-packages\\sklearn\\linear_model\\_logistic.py:814: ConvergenceWarning: lbfgs failed to converge (status=1):\n",
      "STOP: TOTAL NO. of ITERATIONS REACHED LIMIT.\n",
      "\n",
      "Increase the number of iterations (max_iter) or scale the data as shown in:\n",
      "    https://scikit-learn.org/stable/modules/preprocessing.html\n",
      "Please also refer to the documentation for alternative solver options:\n",
      "    https://scikit-learn.org/stable/modules/linear_model.html#logistic-regression\n",
      "  n_iter_i = _check_optimize_result(\n",
      "D:\\Program_Files\\anaconda3\\lib\\site-packages\\sklearn\\linear_model\\_logistic.py:814: ConvergenceWarning: lbfgs failed to converge (status=1):\n",
      "STOP: TOTAL NO. of ITERATIONS REACHED LIMIT.\n",
      "\n",
      "Increase the number of iterations (max_iter) or scale the data as shown in:\n",
      "    https://scikit-learn.org/stable/modules/preprocessing.html\n",
      "Please also refer to the documentation for alternative solver options:\n",
      "    https://scikit-learn.org/stable/modules/linear_model.html#logistic-regression\n",
      "  n_iter_i = _check_optimize_result(\n",
      "D:\\Program_Files\\anaconda3\\lib\\site-packages\\sklearn\\linear_model\\_logistic.py:814: ConvergenceWarning: lbfgs failed to converge (status=1):\n",
      "STOP: TOTAL NO. of ITERATIONS REACHED LIMIT.\n",
      "\n",
      "Increase the number of iterations (max_iter) or scale the data as shown in:\n",
      "    https://scikit-learn.org/stable/modules/preprocessing.html\n",
      "Please also refer to the documentation for alternative solver options:\n",
      "    https://scikit-learn.org/stable/modules/linear_model.html#logistic-regression\n",
      "  n_iter_i = _check_optimize_result(\n",
      "D:\\Program_Files\\anaconda3\\lib\\site-packages\\sklearn\\linear_model\\_logistic.py:814: ConvergenceWarning: lbfgs failed to converge (status=1):\n",
      "STOP: TOTAL NO. of ITERATIONS REACHED LIMIT.\n",
      "\n",
      "Increase the number of iterations (max_iter) or scale the data as shown in:\n",
      "    https://scikit-learn.org/stable/modules/preprocessing.html\n",
      "Please also refer to the documentation for alternative solver options:\n",
      "    https://scikit-learn.org/stable/modules/linear_model.html#logistic-regression\n",
      "  n_iter_i = _check_optimize_result(\n",
      "D:\\Program_Files\\anaconda3\\lib\\site-packages\\sklearn\\model_selection\\_validation.py:372: FitFailedWarning: \n",
      "15 fits failed out of a total of 30.\n",
      "The score on these train-test partitions for these parameters will be set to nan.\n",
      "If these failures are not expected, you can try to debug them by setting error_score='raise'.\n",
      "\n",
      "Below are more details about the failures:\n",
      "--------------------------------------------------------------------------------\n",
      "15 fits failed with the following error:\n",
      "Traceback (most recent call last):\n",
      "  File \"D:\\Program_Files\\anaconda3\\lib\\site-packages\\sklearn\\model_selection\\_validation.py\", line 681, in _fit_and_score\n",
      "    estimator.fit(X_train, y_train, **fit_params)\n",
      "  File \"D:\\Program_Files\\anaconda3\\lib\\site-packages\\sklearn\\linear_model\\_logistic.py\", line 1461, in fit\n",
      "    solver = _check_solver(self.solver, self.penalty, self.dual)\n",
      "  File \"D:\\Program_Files\\anaconda3\\lib\\site-packages\\sklearn\\linear_model\\_logistic.py\", line 447, in _check_solver\n",
      "    raise ValueError(\n",
      "ValueError: Solver lbfgs supports only 'l2' or 'none' penalties, got l1 penalty.\n",
      "\n",
      "  warnings.warn(some_fits_failed_message, FitFailedWarning)\n",
      "D:\\Program_Files\\anaconda3\\lib\\site-packages\\sklearn\\model_selection\\_search.py:969: UserWarning: One or more of the test scores are non-finite: [0.93051649        nan 0.93055806        nan 0.93057192        nan\n",
      " 0.93059963        nan 0.93062735        nan]\n",
      "  warnings.warn(\n"
     ]
    },
    {
     "name": "stdout",
     "output_type": "stream",
     "text": [
      "0.7838135042364796\n",
      "0.7877627269755384\n",
      "{'alpha': 6}\n"
     ]
    },
    {
     "name": "stderr",
     "output_type": "stream",
     "text": [
      "D:\\Program_Files\\anaconda3\\lib\\site-packages\\sklearn\\linear_model\\_logistic.py:814: ConvergenceWarning: lbfgs failed to converge (status=1):\n",
      "STOP: TOTAL NO. of ITERATIONS REACHED LIMIT.\n",
      "\n",
      "Increase the number of iterations (max_iter) or scale the data as shown in:\n",
      "    https://scikit-learn.org/stable/modules/preprocessing.html\n",
      "Please also refer to the documentation for alternative solver options:\n",
      "    https://scikit-learn.org/stable/modules/linear_model.html#logistic-regression\n",
      "  n_iter_i = _check_optimize_result(\n"
     ]
    }
   ],
   "source": [
    "from sklearn.linear_model import LogisticRegression\n",
    "from sklearn.model_selection import RandomizedSearchCV\n",
    "\n",
    "lr = LogisticRegression(random_state=0)\n",
    "\n",
    "param_grid = {\n",
    "    'penalty':['l2', 'l1'],\n",
    "    'C':[0.001, 0.01, 0.1, 1, 5, 10]}\n",
    "\n",
    "grid_clf = GridSearchCV(lr, param_grid=params, scoring='accuracy', cv=3)\n",
    "grid_clf.fit(X_train, y_train)\n",
    "\n",
    "best_model=grid_search.best_estimator_\n",
    "\n",
    "train_pos = best_model.predict_proba(X_train)[:,1]\n",
    "test_pos = best_model.predict_proba(X_test)[:,1]\n",
    "print(roc_auc_score(y_train, train_pos))\n",
    "print(roc_auc_score(y_test, test_pos))\n",
    "print(grid_search.best_params_)\n",
    "#pd.DataFrame(grid_search.cv_results_)"
   ]
  },
  {
   "cell_type": "markdown",
   "id": "4af3b869",
   "metadata": {},
   "source": [
    "## Knn"
   ]
  },
  {
   "cell_type": "code",
   "execution_count": 148,
   "id": "5d01d36c",
   "metadata": {
    "ExecuteTime": {
     "end_time": "2021-11-28T06:48:34.053263Z",
     "start_time": "2021-11-28T06:48:31.572046Z"
    }
   },
   "outputs": [
    {
     "name": "stderr",
     "output_type": "stream",
     "text": [
      "D:\\Program_Files\\anaconda3\\lib\\site-packages\\sklearn\\model_selection\\_search.py:292: UserWarning: The total space of parameters 5 is smaller than n_iter=10. Running 5 iterations. For exhaustive searches, use GridSearchCV.\n",
      "  warnings.warn(\n"
     ]
    },
    {
     "name": "stdout",
     "output_type": "stream",
     "text": [
      "0.7836907063070887\n",
      "0.7885625506640782\n",
      "{'alpha': 0.01}\n"
     ]
    }
   ],
   "source": [
    "from sklearn.neighbors import KNeighborsClassifier\n",
    "\n",
    "from sklearn.model_selection import RandomizedSearchCV\n",
    "\n",
    "#dt=DecisionTreeClassifier(random_state=0)\n",
    "bn = BernoulliNB() #, base_estimators=dt)\n",
    "\n",
    "param_grid = {\n",
    "    'alpha':[0.01, 0.1, 0.5, 1.0, 10]\n",
    "    }\n",
    "\n",
    "\n",
    "grid_search = RandomizedSearchCV(bn, \n",
    "                                 param_grid,\n",
    "                                 scoring='roc_auc',\n",
    "                                 cv=5,\n",
    "                                 n_jobs=-1\n",
    "                          )\n",
    "\n",
    "grid_search.fit(X_train, y_train)\n",
    "\n",
    "best_model=grid_search.best_estimator_\n",
    "\n",
    "train_pos = best_model.predict_proba(X_train)[:,1]\n",
    "test_pos = best_model.predict_proba(X_test)[:,1]\n",
    "print(roc_auc_score(y_train, train_pos))\n",
    "print(roc_auc_score(y_test, test_pos))\n",
    "print(grid_search.best_params_)\n",
    "#pd.DataFrame(grid_search.cv_results_)"
   ]
  },
  {
   "cell_type": "code",
   "execution_count": null,
   "id": "5bccbbc0",
   "metadata": {},
   "outputs": [],
   "source": [
    "#요건을 충족한 모델들\n",
    "\n",
    "AdaboostClassifier\n",
    "test_roc_auc_score:0.8515472290473933\n",
    "best_params:{'n_estimators': 400, 'learning_rate': 0.1}\n",
    "\n",
    "RandomForestClassifier\n",
    "test_roc_auc_score:0.8521183750823117\n",
    "best_params:{'n_estimators': 200, 'min_samples_leaf': 300, 'max_leaf_nodes': 26, 'max_depth': 10}\n",
    "\n",
    "GradientBoostClassifier\n",
    "test_roc_auc_score:0.8521183750823117\n",
    "best_params:{'n_estimators': 400, 'min_samples_leaf': 700, 'max_leaf_nodes': 21, 'max_depth': 15, 'learning_rate': 0.01}\n",
    "\n",
    "XGBClassifier\n",
    "test_roc_auc_score:0.8553227364113993\n",
    "best_params:{'n_estimators': 400, 'min_split_loss': 41, 'min_child_sampes': 20, 'max_depth': 15, 'learning_rate': 0.01, 'cosample_bytree': 0.5}\n",
    "\n",
    "XGBClassifier\n",
    "test_roc_auc_score:0.8556082693240437\n",
    "best_params:{'n_estimators': 300, 'min_split_loss': 1, 'max_depth': 3, 'learning_rate': 0.05, 'cosample_bytree': 0.5}\n"
   ]
  }
 ],
 "metadata": {
  "kernelspec": {
   "display_name": "Python 3 (ipykernel)",
   "language": "python",
   "name": "python3"
  },
  "language_info": {
   "codemirror_mode": {
    "name": "ipython",
    "version": 3
   },
   "file_extension": ".py",
   "mimetype": "text/x-python",
   "name": "python",
   "nbconvert_exporter": "python",
   "pygments_lexer": "ipython3",
   "version": "3.9.7"
  },
  "toc": {
   "base_numbering": 1,
   "nav_menu": {},
   "number_sections": true,
   "sideBar": true,
   "skip_h1_title": false,
   "title_cell": "Table of Contents",
   "title_sidebar": "Contents",
   "toc_cell": false,
   "toc_position": {
    "height": "calc(100% - 180px)",
    "left": "10px",
    "top": "150px",
    "width": "165px"
   },
   "toc_section_display": true,
   "toc_window_display": true
  },
  "varInspector": {
   "cols": {
    "lenName": 16,
    "lenType": 16,
    "lenVar": 40
   },
   "kernels_config": {
    "python": {
     "delete_cmd_postfix": "",
     "delete_cmd_prefix": "del ",
     "library": "var_list.py",
     "varRefreshCmd": "print(var_dic_list())"
    },
    "r": {
     "delete_cmd_postfix": ") ",
     "delete_cmd_prefix": "rm(",
     "library": "var_list.r",
     "varRefreshCmd": "cat(var_dic_list()) "
    }
   },
   "position": {
    "height": "144.85px",
    "left": "286.8px",
    "right": "20px",
    "top": "121px",
    "width": "350px"
   },
   "types_to_exclude": [
    "module",
    "function",
    "builtin_function_or_method",
    "instance",
    "_Feature"
   ],
   "window_display": false
  }
 },
 "nbformat": 4,
 "nbformat_minor": 5
}
