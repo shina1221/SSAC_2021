{
 "cells": [
  {
   "cell_type": "markdown",
   "id": "a280fc16",
   "metadata": {},
   "source": [
    "#  Feature Engineering 데이터 확인 및 전처리"
   ]
  },
  {
   "cell_type": "code",
   "execution_count": 1,
   "id": "a5dda81a",
   "metadata": {
    "ExecuteTime": {
     "end_time": "2021-11-26T09:10:02.630824Z",
     "start_time": "2021-11-26T09:10:02.618825Z"
    }
   },
   "outputs": [
    {
     "name": "stdout",
     "output_type": "stream",
     "text": [
      "D:\\Program_Files\\mini_project\n"
     ]
    }
   ],
   "source": [
    "cd .."
   ]
  },
  {
   "cell_type": "code",
   "execution_count": 2,
   "id": "587c9c9b",
   "metadata": {
    "ExecuteTime": {
     "end_time": "2021-11-26T09:10:03.459306Z",
     "start_time": "2021-11-26T09:10:03.421290Z"
    },
    "scrolled": true
   },
   "outputs": [
    {
     "name": "stdout",
     "output_type": "stream",
     "text": [
      " D 드라이브의 볼륨: 새 볼륨\n",
      " 볼륨 일련 번호: A8D6-BD12\n",
      "\n",
      " D:\\Program_Files\\mini_project 디렉터리\n",
      "\n",
      "2021-11-23  오후 05:47    <DIR>          .\n",
      "2021-11-23  오후 05:47    <DIR>          ..\n",
      "2021-11-23  오후 05:47    <DIR>          .ipynb_checkpoints\n",
      "2020-11-18  오전 11:32         7,564,965 cs_data.csv\n",
      "2021-11-26  오후 06:09    <DIR>          etc\n",
      "2021-11-23  오전 09:11           276,772 대출 위험도 예측 모델.pdf\n",
      "               2개 파일           7,841,737 바이트\n",
      "               4개 디렉터리  419,526,676,480 바이트 남음\n"
     ]
    }
   ],
   "source": [
    "ls"
   ]
  },
  {
   "cell_type": "code",
   "execution_count": 3,
   "id": "46c5331a",
   "metadata": {
    "ExecuteTime": {
     "end_time": "2021-11-26T09:10:04.796074Z",
     "start_time": "2021-11-26T09:10:04.481036Z"
    }
   },
   "outputs": [],
   "source": [
    "import pandas as pd\n",
    "#data=pd.read_csv('./mini_project/cs_data.csv')\n",
    "data=pd.read_csv('./cs_data.csv')\n",
    "#data=pd.read_csv('./Program_Files/mini_project/cs_data.csv')"
   ]
  },
  {
   "cell_type": "code",
   "execution_count": 5,
   "id": "8bd2ab98",
   "metadata": {
    "ExecuteTime": {
     "end_time": "2021-11-26T09:10:44.482107Z",
     "start_time": "2021-11-26T09:10:44.460107Z"
    }
   },
   "outputs": [
    {
     "data": {
      "text/html": [
       "<div>\n",
       "<style scoped>\n",
       "    .dataframe tbody tr th:only-of-type {\n",
       "        vertical-align: middle;\n",
       "    }\n",
       "\n",
       "    .dataframe tbody tr th {\n",
       "        vertical-align: top;\n",
       "    }\n",
       "\n",
       "    .dataframe thead th {\n",
       "        text-align: right;\n",
       "    }\n",
       "</style>\n",
       "<table border=\"1\" class=\"dataframe\">\n",
       "  <thead>\n",
       "    <tr style=\"text-align: right;\">\n",
       "      <th></th>\n",
       "      <th>SeriousDlqin2yrs</th>\n",
       "      <th>RevolvingUtilizationOfUnsecuredLines</th>\n",
       "      <th>age</th>\n",
       "      <th>NumberOfTime30-59DaysPastDueNotWorse</th>\n",
       "      <th>DebtRatio</th>\n",
       "      <th>MonthlyIncome</th>\n",
       "      <th>NumberOfOpenCreditLinesAndLoans</th>\n",
       "      <th>NumberOfTimes90DaysLate</th>\n",
       "      <th>NumberRealEstateLoansOrLines</th>\n",
       "      <th>NumberOfTime60-89DaysPastDueNotWorse</th>\n",
       "      <th>NumberOfDependents</th>\n",
       "    </tr>\n",
       "  </thead>\n",
       "  <tbody>\n",
       "    <tr>\n",
       "      <th>0</th>\n",
       "      <td>1</td>\n",
       "      <td>0.766127</td>\n",
       "      <td>45</td>\n",
       "      <td>2</td>\n",
       "      <td>0.802982</td>\n",
       "      <td>9120.0</td>\n",
       "      <td>13</td>\n",
       "      <td>0</td>\n",
       "      <td>6</td>\n",
       "      <td>0</td>\n",
       "      <td>2.0</td>\n",
       "    </tr>\n",
       "    <tr>\n",
       "      <th>1</th>\n",
       "      <td>0</td>\n",
       "      <td>0.957151</td>\n",
       "      <td>40</td>\n",
       "      <td>0</td>\n",
       "      <td>0.121876</td>\n",
       "      <td>2600.0</td>\n",
       "      <td>4</td>\n",
       "      <td>0</td>\n",
       "      <td>0</td>\n",
       "      <td>0</td>\n",
       "      <td>1.0</td>\n",
       "    </tr>\n",
       "    <tr>\n",
       "      <th>2</th>\n",
       "      <td>0</td>\n",
       "      <td>0.658180</td>\n",
       "      <td>38</td>\n",
       "      <td>1</td>\n",
       "      <td>0.085113</td>\n",
       "      <td>3042.0</td>\n",
       "      <td>2</td>\n",
       "      <td>1</td>\n",
       "      <td>0</td>\n",
       "      <td>0</td>\n",
       "      <td>0.0</td>\n",
       "    </tr>\n",
       "    <tr>\n",
       "      <th>3</th>\n",
       "      <td>0</td>\n",
       "      <td>0.233810</td>\n",
       "      <td>30</td>\n",
       "      <td>0</td>\n",
       "      <td>0.036050</td>\n",
       "      <td>3300.0</td>\n",
       "      <td>5</td>\n",
       "      <td>0</td>\n",
       "      <td>0</td>\n",
       "      <td>0</td>\n",
       "      <td>0.0</td>\n",
       "    </tr>\n",
       "    <tr>\n",
       "      <th>4</th>\n",
       "      <td>0</td>\n",
       "      <td>0.907239</td>\n",
       "      <td>49</td>\n",
       "      <td>1</td>\n",
       "      <td>0.024926</td>\n",
       "      <td>63588.0</td>\n",
       "      <td>7</td>\n",
       "      <td>0</td>\n",
       "      <td>1</td>\n",
       "      <td>0</td>\n",
       "      <td>0.0</td>\n",
       "    </tr>\n",
       "    <tr>\n",
       "      <th>...</th>\n",
       "      <td>...</td>\n",
       "      <td>...</td>\n",
       "      <td>...</td>\n",
       "      <td>...</td>\n",
       "      <td>...</td>\n",
       "      <td>...</td>\n",
       "      <td>...</td>\n",
       "      <td>...</td>\n",
       "      <td>...</td>\n",
       "      <td>...</td>\n",
       "      <td>...</td>\n",
       "    </tr>\n",
       "    <tr>\n",
       "      <th>149995</th>\n",
       "      <td>0</td>\n",
       "      <td>0.040674</td>\n",
       "      <td>74</td>\n",
       "      <td>0</td>\n",
       "      <td>0.225131</td>\n",
       "      <td>2100.0</td>\n",
       "      <td>4</td>\n",
       "      <td>0</td>\n",
       "      <td>1</td>\n",
       "      <td>0</td>\n",
       "      <td>0.0</td>\n",
       "    </tr>\n",
       "    <tr>\n",
       "      <th>149996</th>\n",
       "      <td>0</td>\n",
       "      <td>0.299745</td>\n",
       "      <td>44</td>\n",
       "      <td>0</td>\n",
       "      <td>0.716562</td>\n",
       "      <td>5584.0</td>\n",
       "      <td>4</td>\n",
       "      <td>0</td>\n",
       "      <td>1</td>\n",
       "      <td>0</td>\n",
       "      <td>2.0</td>\n",
       "    </tr>\n",
       "    <tr>\n",
       "      <th>149997</th>\n",
       "      <td>0</td>\n",
       "      <td>0.246044</td>\n",
       "      <td>58</td>\n",
       "      <td>0</td>\n",
       "      <td>3870.000000</td>\n",
       "      <td>NaN</td>\n",
       "      <td>18</td>\n",
       "      <td>0</td>\n",
       "      <td>1</td>\n",
       "      <td>0</td>\n",
       "      <td>0.0</td>\n",
       "    </tr>\n",
       "    <tr>\n",
       "      <th>149998</th>\n",
       "      <td>0</td>\n",
       "      <td>0.000000</td>\n",
       "      <td>30</td>\n",
       "      <td>0</td>\n",
       "      <td>0.000000</td>\n",
       "      <td>5716.0</td>\n",
       "      <td>4</td>\n",
       "      <td>0</td>\n",
       "      <td>0</td>\n",
       "      <td>0</td>\n",
       "      <td>0.0</td>\n",
       "    </tr>\n",
       "    <tr>\n",
       "      <th>149999</th>\n",
       "      <td>0</td>\n",
       "      <td>0.850283</td>\n",
       "      <td>64</td>\n",
       "      <td>0</td>\n",
       "      <td>0.249908</td>\n",
       "      <td>8158.0</td>\n",
       "      <td>8</td>\n",
       "      <td>0</td>\n",
       "      <td>2</td>\n",
       "      <td>0</td>\n",
       "      <td>0.0</td>\n",
       "    </tr>\n",
       "  </tbody>\n",
       "</table>\n",
       "<p>150000 rows × 11 columns</p>\n",
       "</div>"
      ],
      "text/plain": [
       "        SeriousDlqin2yrs  RevolvingUtilizationOfUnsecuredLines  age  \\\n",
       "0                      1                              0.766127   45   \n",
       "1                      0                              0.957151   40   \n",
       "2                      0                              0.658180   38   \n",
       "3                      0                              0.233810   30   \n",
       "4                      0                              0.907239   49   \n",
       "...                  ...                                   ...  ...   \n",
       "149995                 0                              0.040674   74   \n",
       "149996                 0                              0.299745   44   \n",
       "149997                 0                              0.246044   58   \n",
       "149998                 0                              0.000000   30   \n",
       "149999                 0                              0.850283   64   \n",
       "\n",
       "        NumberOfTime30-59DaysPastDueNotWorse    DebtRatio  MonthlyIncome  \\\n",
       "0                                          2     0.802982         9120.0   \n",
       "1                                          0     0.121876         2600.0   \n",
       "2                                          1     0.085113         3042.0   \n",
       "3                                          0     0.036050         3300.0   \n",
       "4                                          1     0.024926        63588.0   \n",
       "...                                      ...          ...            ...   \n",
       "149995                                     0     0.225131         2100.0   \n",
       "149996                                     0     0.716562         5584.0   \n",
       "149997                                     0  3870.000000            NaN   \n",
       "149998                                     0     0.000000         5716.0   \n",
       "149999                                     0     0.249908         8158.0   \n",
       "\n",
       "        NumberOfOpenCreditLinesAndLoans  NumberOfTimes90DaysLate  \\\n",
       "0                                    13                        0   \n",
       "1                                     4                        0   \n",
       "2                                     2                        1   \n",
       "3                                     5                        0   \n",
       "4                                     7                        0   \n",
       "...                                 ...                      ...   \n",
       "149995                                4                        0   \n",
       "149996                                4                        0   \n",
       "149997                               18                        0   \n",
       "149998                                4                        0   \n",
       "149999                                8                        0   \n",
       "\n",
       "        NumberRealEstateLoansOrLines  NumberOfTime60-89DaysPastDueNotWorse  \\\n",
       "0                                  6                                     0   \n",
       "1                                  0                                     0   \n",
       "2                                  0                                     0   \n",
       "3                                  0                                     0   \n",
       "4                                  1                                     0   \n",
       "...                              ...                                   ...   \n",
       "149995                             1                                     0   \n",
       "149996                             1                                     0   \n",
       "149997                             1                                     0   \n",
       "149998                             0                                     0   \n",
       "149999                             2                                     0   \n",
       "\n",
       "        NumberOfDependents  \n",
       "0                      2.0  \n",
       "1                      1.0  \n",
       "2                      0.0  \n",
       "3                      0.0  \n",
       "4                      0.0  \n",
       "...                    ...  \n",
       "149995                 0.0  \n",
       "149996                 2.0  \n",
       "149997                 0.0  \n",
       "149998                 0.0  \n",
       "149999                 0.0  \n",
       "\n",
       "[150000 rows x 11 columns]"
      ]
     },
     "execution_count": 5,
     "metadata": {},
     "output_type": "execute_result"
    }
   ],
   "source": [
    "data.drop(columns='Unnamed: 0', inplace=True)\n",
    "data"
   ]
  },
  {
   "cell_type": "markdown",
   "id": "e9e43b13",
   "metadata": {},
   "source": [
    "## 데이터 확인"
   ]
  },
  {
   "cell_type": "code",
   "execution_count": 10,
   "id": "4ce61a8b",
   "metadata": {
    "ExecuteTime": {
     "end_time": "2021-11-24T03:36:28.006634Z",
     "start_time": "2021-11-24T03:36:27.985269Z"
    },
    "scrolled": true
   },
   "outputs": [
    {
     "name": "stdout",
     "output_type": "stream",
     "text": [
      "<class 'pandas.core.frame.DataFrame'>\n",
      "RangeIndex: 150000 entries, 0 to 149999\n",
      "Data columns (total 11 columns):\n",
      " #   Column                                Non-Null Count   Dtype  \n",
      "---  ------                                --------------   -----  \n",
      " 0   SeriousDlqin2yrs                      150000 non-null  int64  \n",
      " 1   RevolvingUtilizationOfUnsecuredLines  150000 non-null  float64\n",
      " 2   age                                   150000 non-null  int64  \n",
      " 3   NumberOfTime30-59DaysPastDueNotWorse  150000 non-null  int64  \n",
      " 4   DebtRatio                             150000 non-null  float64\n",
      " 5   MonthlyIncome                         120269 non-null  float64\n",
      " 6   NumberOfOpenCreditLinesAndLoans       150000 non-null  int64  \n",
      " 7   NumberOfTimes90DaysLate               150000 non-null  int64  \n",
      " 8   NumberRealEstateLoansOrLines          150000 non-null  int64  \n",
      " 9   NumberOfTime60-89DaysPastDueNotWorse  150000 non-null  int64  \n",
      " 10  NumberOfDependents                    146076 non-null  float64\n",
      "dtypes: float64(4), int64(7)\n",
      "memory usage: 12.6 MB\n"
     ]
    }
   ],
   "source": [
    "data.info()"
   ]
  },
  {
   "cell_type": "code",
   "execution_count": 12,
   "id": "67d03484",
   "metadata": {
    "ExecuteTime": {
     "end_time": "2021-11-24T03:36:30.764737Z",
     "start_time": "2021-11-24T03:36:30.720866Z"
    }
   },
   "outputs": [
    {
     "data": {
      "text/html": [
       "<div>\n",
       "<style scoped>\n",
       "    .dataframe tbody tr th:only-of-type {\n",
       "        vertical-align: middle;\n",
       "    }\n",
       "\n",
       "    .dataframe tbody tr th {\n",
       "        vertical-align: top;\n",
       "    }\n",
       "\n",
       "    .dataframe thead th {\n",
       "        text-align: right;\n",
       "    }\n",
       "</style>\n",
       "<table border=\"1\" class=\"dataframe\">\n",
       "  <thead>\n",
       "    <tr style=\"text-align: right;\">\n",
       "      <th></th>\n",
       "      <th>SeriousDlqin2yrs</th>\n",
       "      <th>RevolvingUtilizationOfUnsecuredLines</th>\n",
       "      <th>age</th>\n",
       "      <th>NumberOfTime30-59DaysPastDueNotWorse</th>\n",
       "      <th>DebtRatio</th>\n",
       "      <th>MonthlyIncome</th>\n",
       "      <th>NumberOfOpenCreditLinesAndLoans</th>\n",
       "      <th>NumberOfTimes90DaysLate</th>\n",
       "      <th>NumberRealEstateLoansOrLines</th>\n",
       "      <th>NumberOfTime60-89DaysPastDueNotWorse</th>\n",
       "      <th>NumberOfDependents</th>\n",
       "    </tr>\n",
       "  </thead>\n",
       "  <tbody>\n",
       "    <tr>\n",
       "      <th>count</th>\n",
       "      <td>150000.000000</td>\n",
       "      <td>150000.000000</td>\n",
       "      <td>150000.000000</td>\n",
       "      <td>150000.000000</td>\n",
       "      <td>150000.000000</td>\n",
       "      <td>1.202690e+05</td>\n",
       "      <td>150000.000000</td>\n",
       "      <td>150000.000000</td>\n",
       "      <td>150000.000000</td>\n",
       "      <td>150000.000000</td>\n",
       "      <td>146076.000000</td>\n",
       "    </tr>\n",
       "    <tr>\n",
       "      <th>mean</th>\n",
       "      <td>0.066840</td>\n",
       "      <td>6.048438</td>\n",
       "      <td>52.295207</td>\n",
       "      <td>0.421033</td>\n",
       "      <td>353.005076</td>\n",
       "      <td>6.670221e+03</td>\n",
       "      <td>8.452760</td>\n",
       "      <td>0.265973</td>\n",
       "      <td>1.018240</td>\n",
       "      <td>0.240387</td>\n",
       "      <td>0.757222</td>\n",
       "    </tr>\n",
       "    <tr>\n",
       "      <th>std</th>\n",
       "      <td>0.249746</td>\n",
       "      <td>249.755371</td>\n",
       "      <td>14.771866</td>\n",
       "      <td>4.192781</td>\n",
       "      <td>2037.818523</td>\n",
       "      <td>1.438467e+04</td>\n",
       "      <td>5.145951</td>\n",
       "      <td>4.169304</td>\n",
       "      <td>1.129771</td>\n",
       "      <td>4.155179</td>\n",
       "      <td>1.115086</td>\n",
       "    </tr>\n",
       "    <tr>\n",
       "      <th>min</th>\n",
       "      <td>0.000000</td>\n",
       "      <td>0.000000</td>\n",
       "      <td>0.000000</td>\n",
       "      <td>0.000000</td>\n",
       "      <td>0.000000</td>\n",
       "      <td>0.000000e+00</td>\n",
       "      <td>0.000000</td>\n",
       "      <td>0.000000</td>\n",
       "      <td>0.000000</td>\n",
       "      <td>0.000000</td>\n",
       "      <td>0.000000</td>\n",
       "    </tr>\n",
       "    <tr>\n",
       "      <th>25%</th>\n",
       "      <td>0.000000</td>\n",
       "      <td>0.029867</td>\n",
       "      <td>41.000000</td>\n",
       "      <td>0.000000</td>\n",
       "      <td>0.175074</td>\n",
       "      <td>3.400000e+03</td>\n",
       "      <td>5.000000</td>\n",
       "      <td>0.000000</td>\n",
       "      <td>0.000000</td>\n",
       "      <td>0.000000</td>\n",
       "      <td>0.000000</td>\n",
       "    </tr>\n",
       "    <tr>\n",
       "      <th>50%</th>\n",
       "      <td>0.000000</td>\n",
       "      <td>0.154181</td>\n",
       "      <td>52.000000</td>\n",
       "      <td>0.000000</td>\n",
       "      <td>0.366508</td>\n",
       "      <td>5.400000e+03</td>\n",
       "      <td>8.000000</td>\n",
       "      <td>0.000000</td>\n",
       "      <td>1.000000</td>\n",
       "      <td>0.000000</td>\n",
       "      <td>0.000000</td>\n",
       "    </tr>\n",
       "    <tr>\n",
       "      <th>75%</th>\n",
       "      <td>0.000000</td>\n",
       "      <td>0.559046</td>\n",
       "      <td>63.000000</td>\n",
       "      <td>0.000000</td>\n",
       "      <td>0.868254</td>\n",
       "      <td>8.249000e+03</td>\n",
       "      <td>11.000000</td>\n",
       "      <td>0.000000</td>\n",
       "      <td>2.000000</td>\n",
       "      <td>0.000000</td>\n",
       "      <td>1.000000</td>\n",
       "    </tr>\n",
       "    <tr>\n",
       "      <th>max</th>\n",
       "      <td>1.000000</td>\n",
       "      <td>50708.000000</td>\n",
       "      <td>109.000000</td>\n",
       "      <td>98.000000</td>\n",
       "      <td>329664.000000</td>\n",
       "      <td>3.008750e+06</td>\n",
       "      <td>58.000000</td>\n",
       "      <td>98.000000</td>\n",
       "      <td>54.000000</td>\n",
       "      <td>98.000000</td>\n",
       "      <td>20.000000</td>\n",
       "    </tr>\n",
       "  </tbody>\n",
       "</table>\n",
       "</div>"
      ],
      "text/plain": [
       "       SeriousDlqin2yrs  RevolvingUtilizationOfUnsecuredLines            age  \\\n",
       "count     150000.000000                         150000.000000  150000.000000   \n",
       "mean           0.066840                              6.048438      52.295207   \n",
       "std            0.249746                            249.755371      14.771866   \n",
       "min            0.000000                              0.000000       0.000000   \n",
       "25%            0.000000                              0.029867      41.000000   \n",
       "50%            0.000000                              0.154181      52.000000   \n",
       "75%            0.000000                              0.559046      63.000000   \n",
       "max            1.000000                          50708.000000     109.000000   \n",
       "\n",
       "       NumberOfTime30-59DaysPastDueNotWorse      DebtRatio  MonthlyIncome  \\\n",
       "count                         150000.000000  150000.000000   1.202690e+05   \n",
       "mean                               0.421033     353.005076   6.670221e+03   \n",
       "std                                4.192781    2037.818523   1.438467e+04   \n",
       "min                                0.000000       0.000000   0.000000e+00   \n",
       "25%                                0.000000       0.175074   3.400000e+03   \n",
       "50%                                0.000000       0.366508   5.400000e+03   \n",
       "75%                                0.000000       0.868254   8.249000e+03   \n",
       "max                               98.000000  329664.000000   3.008750e+06   \n",
       "\n",
       "       NumberOfOpenCreditLinesAndLoans  NumberOfTimes90DaysLate  \\\n",
       "count                    150000.000000            150000.000000   \n",
       "mean                          8.452760                 0.265973   \n",
       "std                           5.145951                 4.169304   \n",
       "min                           0.000000                 0.000000   \n",
       "25%                           5.000000                 0.000000   \n",
       "50%                           8.000000                 0.000000   \n",
       "75%                          11.000000                 0.000000   \n",
       "max                          58.000000                98.000000   \n",
       "\n",
       "       NumberRealEstateLoansOrLines  NumberOfTime60-89DaysPastDueNotWorse  \\\n",
       "count                 150000.000000                         150000.000000   \n",
       "mean                       1.018240                              0.240387   \n",
       "std                        1.129771                              4.155179   \n",
       "min                        0.000000                              0.000000   \n",
       "25%                        0.000000                              0.000000   \n",
       "50%                        1.000000                              0.000000   \n",
       "75%                        2.000000                              0.000000   \n",
       "max                       54.000000                             98.000000   \n",
       "\n",
       "       NumberOfDependents  \n",
       "count       146076.000000  \n",
       "mean             0.757222  \n",
       "std              1.115086  \n",
       "min              0.000000  \n",
       "25%              0.000000  \n",
       "50%              0.000000  \n",
       "75%              1.000000  \n",
       "max             20.000000  "
      ]
     },
     "execution_count": 12,
     "metadata": {},
     "output_type": "execute_result"
    }
   ],
   "source": [
    "#기초 통계량 확인\n",
    "data.describe()\n",
    "\n",
    "#전체적으로 이상치 분포되어 있음."
   ]
  },
  {
   "cell_type": "markdown",
   "id": "5b9fd12b",
   "metadata": {},
   "source": [
    "## 결측치 처리"
   ]
  },
  {
   "cell_type": "code",
   "execution_count": 13,
   "id": "47f7692b",
   "metadata": {
    "ExecuteTime": {
     "end_time": "2021-11-24T03:36:31.275010Z",
     "start_time": "2021-11-24T03:36:31.255105Z"
    }
   },
   "outputs": [
    {
     "data": {
      "text/plain": [
       "SeriousDlqin2yrs                            0\n",
       "RevolvingUtilizationOfUnsecuredLines        0\n",
       "age                                         0\n",
       "NumberOfTime30-59DaysPastDueNotWorse        0\n",
       "DebtRatio                                   0\n",
       "MonthlyIncome                           29731\n",
       "NumberOfOpenCreditLinesAndLoans             0\n",
       "NumberOfTimes90DaysLate                     0\n",
       "NumberRealEstateLoansOrLines                0\n",
       "NumberOfTime60-89DaysPastDueNotWorse        0\n",
       "NumberOfDependents                       3924\n",
       "dtype: int64"
      ]
     },
     "execution_count": 13,
     "metadata": {},
     "output_type": "execute_result"
    }
   ],
   "source": [
    "#결측지 확인\n",
    "data.isna().sum()"
   ]
  },
  {
   "cell_type": "code",
   "execution_count": 6,
   "id": "da5ceda9",
   "metadata": {
    "ExecuteTime": {
     "end_time": "2021-11-26T09:10:54.273408Z",
     "start_time": "2021-11-26T09:10:54.255386Z"
    },
    "scrolled": true
   },
   "outputs": [],
   "source": [
    "#결측치 버리기\n",
    "drop_data=data.dropna()"
   ]
  },
  {
   "cell_type": "code",
   "execution_count": 15,
   "id": "fa88236d",
   "metadata": {
    "ExecuteTime": {
     "end_time": "2021-11-24T03:36:32.250950Z",
     "start_time": "2021-11-24T03:36:31.550947Z"
    }
   },
   "outputs": [],
   "source": [
    "#결측치 처리\n",
    "#평균값으로 대체\n",
    "#각 특성 열의 전체 평균으로 누락된 값 대체\n",
    "import numpy as np\n",
    "from sklearn.impute import SimpleImputer\n",
    "#data.fillna(data.mean())\n",
    "\n",
    "imr = SimpleImputer(missing_values=np.nan, strategy='mean')\n",
    "imr = imr.fit(data.values)\n",
    "imputed_data = imr.transform(data.values)"
   ]
  },
  {
   "cell_type": "code",
   "execution_count": 16,
   "id": "45be7822",
   "metadata": {
    "ExecuteTime": {
     "end_time": "2021-11-24T03:36:32.355947Z",
     "start_time": "2021-11-24T03:36:32.295947Z"
    }
   },
   "outputs": [],
   "source": [
    "#각 열별 최빈값으로 변경하는 것은 사용하지 않겠음\n",
    "#mode()\n",
    "\"\"\"\n",
    "참고\n",
    "# Null 값을 mode로 대체하는 코드 예제\n",
    "freq_values = df_ms.documentposition.value_counts().index[0]\n",
    "df['col1'] = df['col1'].fillna(freq_values)\n",
    "\"\"\"\n",
    "for i in range(len(data.columns)):\n",
    "    freq_values=data.iloc[:,i].mode()\n",
    "    data.iloc[:,i]=data.iloc[:,i].fillna(freq_values)"
   ]
  },
  {
   "cell_type": "code",
   "execution_count": 17,
   "id": "7a1e6c67",
   "metadata": {
    "ExecuteTime": {
     "end_time": "2021-11-24T03:36:32.415947Z",
     "start_time": "2021-11-24T03:36:32.400948Z"
    }
   },
   "outputs": [],
   "source": [
    "#군집으로 \n",
    "#결측치가 포함된 집단들을 확인하고 해당 집단내에서 평균이나 최빈값으로 하는 편이 \n",
    "#나을 듯 함\n",
    "#시간이 되면 하는 방향으로"
   ]
  },
  {
   "cell_type": "markdown",
   "id": "099bb095",
   "metadata": {},
   "source": [
    "## (재확인) 이상치 처리"
   ]
  },
  {
   "cell_type": "markdown",
   "id": "244696a8",
   "metadata": {},
   "source": [
    "1. 그 값을 그대로 유지한다.\n",
    "2. 결측치 처리를 한다.\n",
    "3. 다른 값으로 대체한다.\n",
    " - 보통 그 값이 가질 수 있는 Min/Max값을 설정한 뒤 그 값으로 변경한다."
   ]
  },
  {
   "cell_type": "code",
   "execution_count": 18,
   "id": "527eb836",
   "metadata": {
    "ExecuteTime": {
     "end_time": "2021-11-24T03:36:32.520947Z",
     "start_time": "2021-11-24T03:36:32.461949Z"
    },
    "scrolled": true
   },
   "outputs": [
    {
     "data": {
      "text/html": [
       "<div>\n",
       "<style scoped>\n",
       "    .dataframe tbody tr th:only-of-type {\n",
       "        vertical-align: middle;\n",
       "    }\n",
       "\n",
       "    .dataframe tbody tr th {\n",
       "        vertical-align: top;\n",
       "    }\n",
       "\n",
       "    .dataframe thead th {\n",
       "        text-align: right;\n",
       "    }\n",
       "</style>\n",
       "<table border=\"1\" class=\"dataframe\">\n",
       "  <thead>\n",
       "    <tr style=\"text-align: right;\">\n",
       "      <th></th>\n",
       "      <th>SeriousDlqin2yrs</th>\n",
       "      <th>RevolvingUtilizationOfUnsecuredLines</th>\n",
       "      <th>age</th>\n",
       "      <th>NumberOfTime30-59DaysPastDueNotWorse</th>\n",
       "      <th>DebtRatio</th>\n",
       "      <th>MonthlyIncome</th>\n",
       "      <th>NumberOfOpenCreditLinesAndLoans</th>\n",
       "      <th>NumberOfTimes90DaysLate</th>\n",
       "      <th>NumberRealEstateLoansOrLines</th>\n",
       "      <th>NumberOfTime60-89DaysPastDueNotWorse</th>\n",
       "      <th>NumberOfDependents</th>\n",
       "    </tr>\n",
       "  </thead>\n",
       "  <tbody>\n",
       "    <tr>\n",
       "      <th>0</th>\n",
       "      <td>1</td>\n",
       "      <td>0.766127</td>\n",
       "      <td>45</td>\n",
       "      <td>2</td>\n",
       "      <td>0.802982</td>\n",
       "      <td>9120.0</td>\n",
       "      <td>13</td>\n",
       "      <td>0</td>\n",
       "      <td>6</td>\n",
       "      <td>0</td>\n",
       "      <td>2.0</td>\n",
       "    </tr>\n",
       "    <tr>\n",
       "      <th>2</th>\n",
       "      <td>0</td>\n",
       "      <td>0.658180</td>\n",
       "      <td>38</td>\n",
       "      <td>1</td>\n",
       "      <td>0.085113</td>\n",
       "      <td>3042.0</td>\n",
       "      <td>2</td>\n",
       "      <td>1</td>\n",
       "      <td>0</td>\n",
       "      <td>0</td>\n",
       "      <td>0.0</td>\n",
       "    </tr>\n",
       "    <tr>\n",
       "      <th>4</th>\n",
       "      <td>0</td>\n",
       "      <td>0.907239</td>\n",
       "      <td>49</td>\n",
       "      <td>1</td>\n",
       "      <td>0.024926</td>\n",
       "      <td>63588.0</td>\n",
       "      <td>7</td>\n",
       "      <td>0</td>\n",
       "      <td>1</td>\n",
       "      <td>0</td>\n",
       "      <td>0.0</td>\n",
       "    </tr>\n",
       "    <tr>\n",
       "      <th>6</th>\n",
       "      <td>0</td>\n",
       "      <td>0.305682</td>\n",
       "      <td>57</td>\n",
       "      <td>0</td>\n",
       "      <td>5710.000000</td>\n",
       "      <td>NaN</td>\n",
       "      <td>8</td>\n",
       "      <td>0</td>\n",
       "      <td>3</td>\n",
       "      <td>0</td>\n",
       "      <td>0.0</td>\n",
       "    </tr>\n",
       "    <tr>\n",
       "      <th>8</th>\n",
       "      <td>0</td>\n",
       "      <td>0.116951</td>\n",
       "      <td>27</td>\n",
       "      <td>0</td>\n",
       "      <td>46.000000</td>\n",
       "      <td>NaN</td>\n",
       "      <td>2</td>\n",
       "      <td>0</td>\n",
       "      <td>0</td>\n",
       "      <td>0</td>\n",
       "      <td>NaN</td>\n",
       "    </tr>\n",
       "    <tr>\n",
       "      <th>...</th>\n",
       "      <td>...</td>\n",
       "      <td>...</td>\n",
       "      <td>...</td>\n",
       "      <td>...</td>\n",
       "      <td>...</td>\n",
       "      <td>...</td>\n",
       "      <td>...</td>\n",
       "      <td>...</td>\n",
       "      <td>...</td>\n",
       "      <td>...</td>\n",
       "      <td>...</td>\n",
       "    </tr>\n",
       "    <tr>\n",
       "      <th>149987</th>\n",
       "      <td>0</td>\n",
       "      <td>1.000000</td>\n",
       "      <td>28</td>\n",
       "      <td>0</td>\n",
       "      <td>0.055692</td>\n",
       "      <td>3249.0</td>\n",
       "      <td>3</td>\n",
       "      <td>1</td>\n",
       "      <td>0</td>\n",
       "      <td>0</td>\n",
       "      <td>0.0</td>\n",
       "    </tr>\n",
       "    <tr>\n",
       "      <th>149988</th>\n",
       "      <td>0</td>\n",
       "      <td>0.902051</td>\n",
       "      <td>31</td>\n",
       "      <td>1</td>\n",
       "      <td>0.347924</td>\n",
       "      <td>7515.0</td>\n",
       "      <td>10</td>\n",
       "      <td>0</td>\n",
       "      <td>1</td>\n",
       "      <td>0</td>\n",
       "      <td>0.0</td>\n",
       "    </tr>\n",
       "    <tr>\n",
       "      <th>149989</th>\n",
       "      <td>0</td>\n",
       "      <td>0.013356</td>\n",
       "      <td>62</td>\n",
       "      <td>0</td>\n",
       "      <td>0.001408</td>\n",
       "      <td>9233.0</td>\n",
       "      <td>4</td>\n",
       "      <td>0</td>\n",
       "      <td>0</td>\n",
       "      <td>0</td>\n",
       "      <td>3.0</td>\n",
       "    </tr>\n",
       "    <tr>\n",
       "      <th>149992</th>\n",
       "      <td>0</td>\n",
       "      <td>0.871976</td>\n",
       "      <td>50</td>\n",
       "      <td>0</td>\n",
       "      <td>4132.000000</td>\n",
       "      <td>NaN</td>\n",
       "      <td>11</td>\n",
       "      <td>0</td>\n",
       "      <td>1</td>\n",
       "      <td>0</td>\n",
       "      <td>3.0</td>\n",
       "    </tr>\n",
       "    <tr>\n",
       "      <th>149997</th>\n",
       "      <td>0</td>\n",
       "      <td>0.246044</td>\n",
       "      <td>58</td>\n",
       "      <td>0</td>\n",
       "      <td>3870.000000</td>\n",
       "      <td>NaN</td>\n",
       "      <td>18</td>\n",
       "      <td>0</td>\n",
       "      <td>1</td>\n",
       "      <td>0</td>\n",
       "      <td>0.0</td>\n",
       "    </tr>\n",
       "  </tbody>\n",
       "</table>\n",
       "<p>73146 rows × 11 columns</p>\n",
       "</div>"
      ],
      "text/plain": [
       "        SeriousDlqin2yrs  RevolvingUtilizationOfUnsecuredLines  age  \\\n",
       "0                      1                              0.766127   45   \n",
       "2                      0                              0.658180   38   \n",
       "4                      0                              0.907239   49   \n",
       "6                      0                              0.305682   57   \n",
       "8                      0                              0.116951   27   \n",
       "...                  ...                                   ...  ...   \n",
       "149987                 0                              1.000000   28   \n",
       "149988                 0                              0.902051   31   \n",
       "149989                 0                              0.013356   62   \n",
       "149992                 0                              0.871976   50   \n",
       "149997                 0                              0.246044   58   \n",
       "\n",
       "        NumberOfTime30-59DaysPastDueNotWorse    DebtRatio  MonthlyIncome  \\\n",
       "0                                          2     0.802982         9120.0   \n",
       "2                                          1     0.085113         3042.0   \n",
       "4                                          1     0.024926        63588.0   \n",
       "6                                          0  5710.000000            NaN   \n",
       "8                                          0    46.000000            NaN   \n",
       "...                                      ...          ...            ...   \n",
       "149987                                     0     0.055692         3249.0   \n",
       "149988                                     1     0.347924         7515.0   \n",
       "149989                                     0     0.001408         9233.0   \n",
       "149992                                     0  4132.000000            NaN   \n",
       "149997                                     0  3870.000000            NaN   \n",
       "\n",
       "        NumberOfOpenCreditLinesAndLoans  NumberOfTimes90DaysLate  \\\n",
       "0                                    13                        0   \n",
       "2                                     2                        1   \n",
       "4                                     7                        0   \n",
       "6                                     8                        0   \n",
       "8                                     2                        0   \n",
       "...                                 ...                      ...   \n",
       "149987                                3                        1   \n",
       "149988                               10                        0   \n",
       "149989                                4                        0   \n",
       "149992                               11                        0   \n",
       "149997                               18                        0   \n",
       "\n",
       "        NumberRealEstateLoansOrLines  NumberOfTime60-89DaysPastDueNotWorse  \\\n",
       "0                                  6                                     0   \n",
       "2                                  0                                     0   \n",
       "4                                  1                                     0   \n",
       "6                                  3                                     0   \n",
       "8                                  0                                     0   \n",
       "...                              ...                                   ...   \n",
       "149987                             0                                     0   \n",
       "149988                             1                                     0   \n",
       "149989                             0                                     0   \n",
       "149992                             1                                     0   \n",
       "149997                             1                                     0   \n",
       "\n",
       "        NumberOfDependents  \n",
       "0                      2.0  \n",
       "2                      0.0  \n",
       "4                      0.0  \n",
       "6                      0.0  \n",
       "8                      NaN  \n",
       "...                    ...  \n",
       "149987                 0.0  \n",
       "149988                 0.0  \n",
       "149989                 3.0  \n",
       "149992                 3.0  \n",
       "149997                 0.0  \n",
       "\n",
       "[73146 rows x 11 columns]"
      ]
     },
     "execution_count": 18,
     "metadata": {},
     "output_type": "execute_result"
    }
   ],
   "source": [
    "#이상치 처리\n",
    "#1분위수 이하 3분위수 이상인 이상치 제거\n",
    "quatile_1 = data.quantile(0.25)\n",
    "quatile_3 = data.quantile(0.75)\n",
    "IQR = quatile_3-quatile_1\n",
    "condition = (data < (quatile_1 - 1.5 * IQR)) | (data > (quatile_3 + 1.5*IQR))\n",
    "#any() : 하나라도 True인게 있으면 True / axis=1 이면 열 기준\n",
    "condition = condition.any(axis=1)\n",
    "#팬시 인덱싱\n",
    "search_df = data[condition]\n",
    "IQR_data = pd.DataFrame(search_df)\n",
    "IQR_data"
   ]
  },
  {
   "cell_type": "markdown",
   "id": "da3ae461",
   "metadata": {},
   "source": [
    "## (재확인)군집화를 통한 결측치 예측 시도 16강 참조"
   ]
  },
  {
   "cell_type": "code",
   "execution_count": 19,
   "id": "6e93f87d",
   "metadata": {
    "ExecuteTime": {
     "end_time": "2021-11-24T03:36:32.670947Z",
     "start_time": "2021-11-24T03:36:32.653947Z"
    }
   },
   "outputs": [
    {
     "data": {
      "text/plain": [
       "'\\n아이디어\\n\\n결측치가 포함된 값을 knn을 기반으로 군집화 하여\\n해당 군집내의 결측치들을 예측해봄\\n'"
      ]
     },
     "execution_count": 19,
     "metadata": {},
     "output_type": "execute_result"
    }
   ],
   "source": [
    "\"\"\"\n",
    "아이디어\n",
    "\n",
    "결측치가 포함된 값을 knn을 기반으로 군집화 하여\n",
    "해당 군집내의 결측치들을 예측해봄\n",
    "\"\"\""
   ]
  },
  {
   "cell_type": "code",
   "execution_count": 20,
   "id": "45dbc92e",
   "metadata": {
    "ExecuteTime": {
     "end_time": "2021-11-24T03:36:32.806307Z",
     "start_time": "2021-11-24T03:36:32.790307Z"
    },
    "scrolled": false
   },
   "outputs": [],
   "source": [
    "#drop_data 이용\n",
    "#결측치가 제거된 X와 y\n",
    "#y = drop_data['SeriousDlqin2yrs']\n",
    "\n",
    "X1 = drop_data.drop(['MonthlyIncome'], axis =1)\n",
    "X2= drop_data.drop(['NumberOfDependents'], axis =1)\n",
    "\n",
    "y1= drop_data['MonthlyIncome']\n",
    "y2= drop_data['NumberOfDependents']\n",
    "\n",
    "#X1and2= drop_data.drop(['SeriousDlqin2yrs', 'MonthlyIncome','NumberOfDependents'], axis =1)\n",
    "X1and2= drop_data.drop(['MonthlyIncome','NumberOfDependents'], axis =1)\n"
   ]
  },
  {
   "cell_type": "code",
   "execution_count": 21,
   "id": "f5e8667f",
   "metadata": {
    "ExecuteTime": {
     "end_time": "2021-11-24T03:36:32.955947Z",
     "start_time": "2021-11-24T03:36:32.942947Z"
    }
   },
   "outputs": [
    {
     "name": "stdout",
     "output_type": "stream",
     "text": [
      "<class 'pandas.core.frame.DataFrame'>\n",
      "Int64Index: 120269 entries, 0 to 149999\n",
      "Data columns (total 9 columns):\n",
      " #   Column                                Non-Null Count   Dtype  \n",
      "---  ------                                --------------   -----  \n",
      " 0   SeriousDlqin2yrs                      120269 non-null  int64  \n",
      " 1   RevolvingUtilizationOfUnsecuredLines  120269 non-null  float64\n",
      " 2   age                                   120269 non-null  int64  \n",
      " 3   NumberOfTime30-59DaysPastDueNotWorse  120269 non-null  int64  \n",
      " 4   DebtRatio                             120269 non-null  float64\n",
      " 5   NumberOfOpenCreditLinesAndLoans       120269 non-null  int64  \n",
      " 6   NumberOfTimes90DaysLate               120269 non-null  int64  \n",
      " 7   NumberRealEstateLoansOrLines          120269 non-null  int64  \n",
      " 8   NumberOfTime60-89DaysPastDueNotWorse  120269 non-null  int64  \n",
      "dtypes: float64(2), int64(7)\n",
      "memory usage: 9.2 MB\n"
     ]
    }
   ],
   "source": [
    "X1and2.info()"
   ]
  },
  {
   "cell_type": "code",
   "execution_count": 22,
   "id": "c9fb38e5",
   "metadata": {
    "ExecuteTime": {
     "end_time": "2021-11-24T03:36:33.151275Z",
     "start_time": "2021-11-24T03:36:33.136276Z"
    }
   },
   "outputs": [
    {
     "data": {
      "text/plain": [
       "9"
      ]
     },
     "execution_count": 22,
     "metadata": {},
     "output_type": "execute_result"
    }
   ],
   "source": [
    "len(X1and2.columns)"
   ]
  },
  {
   "cell_type": "code",
   "execution_count": 23,
   "id": "e6e8af91",
   "metadata": {
    "ExecuteTime": {
     "end_time": "2021-11-24T03:36:33.316365Z",
     "start_time": "2021-11-24T03:36:33.286368Z"
    }
   },
   "outputs": [
    {
     "data": {
      "text/plain": [
       "33655"
      ]
     },
     "execution_count": 23,
     "metadata": {},
     "output_type": "execute_result"
    }
   ],
   "source": [
    "#군집화를 위해 결측치만 따로 빼둠\n",
    "\n",
    "#빈 df생성\n",
    "isna_df=pd.DataFrame(index=range(0), columns=data.columns)\n",
    "isna_df\n",
    "\n",
    "#data[data[i].isnull()]\n",
    "#data[data.iloc['MonthlyIncome'].isna()]\n",
    "#data[data.iloc['NumberOfDependents'].isna()]\n",
    "\n",
    "isna_df1=data[data['MonthlyIncome'].isna()].drop(['MonthlyIncome'], axis=1)\n",
    "isna_df2=data[data['NumberOfDependents'].isna()].drop(['NumberOfDependents'], axis=1)\n",
    "isna_df1and2 = isna_df1[isna_df1['NumberOfDependents'].isna()].drop(['NumberOfDependents'], axis=1)\n",
    "\n",
    "#결측치가 포함된 행만 추출_total\n",
    "isna_df=pd.concat([isna_df,data[data['MonthlyIncome'].isna()]])\n",
    "isna_df=pd.concat([isna_df,data[data['NumberOfDependents'].isna()]])\n",
    "len(isna_df)\n"
   ]
  },
  {
   "cell_type": "code",
   "execution_count": 24,
   "id": "5c26e8c4",
   "metadata": {
    "ExecuteTime": {
     "end_time": "2021-11-24T03:36:33.466365Z",
     "start_time": "2021-11-24T03:36:33.452364Z"
    }
   },
   "outputs": [],
   "source": [
    "#결측치들의 y값 제거\n",
    "isna_df.drop(['SeriousDlqin2yrs'], axis=1, inplace=True)\n",
    "isna_df1.drop(['SeriousDlqin2yrs'], axis=1, inplace=True)\n",
    "isna_df2.drop(['SeriousDlqin2yrs'], axis=1, inplace=True)\n",
    "isna_df1and2.drop(['SeriousDlqin2yrs'], axis=1, inplace=True)"
   ]
  },
  {
   "cell_type": "code",
   "execution_count": 25,
   "id": "827cc8ca",
   "metadata": {
    "ExecuteTime": {
     "end_time": "2021-11-24T03:36:33.631366Z",
     "start_time": "2021-11-24T03:36:33.606366Z"
    }
   },
   "outputs": [],
   "source": [
    "from sklearn.preprocessing import StandardScaler\n",
    "scaler = StandardScaler()\n",
    "X_scaled = scaler.fit_transform(X1and2)"
   ]
  },
  {
   "cell_type": "code",
   "execution_count": 26,
   "id": "b8b83d19",
   "metadata": {
    "ExecuteTime": {
     "end_time": "2021-11-24T03:36:34.111364Z",
     "start_time": "2021-11-24T03:36:33.777366Z"
    },
    "scrolled": false
   },
   "outputs": [
    {
     "data": {
      "text/plain": [
       "KMeans(n_clusters=2, random_state=0)"
      ]
     },
     "execution_count": 26,
     "metadata": {},
     "output_type": "execute_result"
    }
   ],
   "source": [
    "from sklearn.cluster import KMeans\n",
    "#분류는 2가지 0,1 최근 2년 동안 90일 이상 연체한 적이 있는지 여부\n",
    "kmeans = KMeans(n_clusters=2, random_state=0)\n",
    "kmeans.fit(X_scaled)"
   ]
  },
  {
   "cell_type": "code",
   "execution_count": 27,
   "id": "47fdeed9",
   "metadata": {
    "ExecuteTime": {
     "end_time": "2021-11-24T03:36:34.276367Z",
     "start_time": "2021-11-24T03:36:34.261365Z"
    }
   },
   "outputs": [
    {
     "data": {
      "text/plain": [
       "(120269,)"
      ]
     },
     "execution_count": 27,
     "metadata": {},
     "output_type": "execute_result"
    }
   ],
   "source": [
    "#예측한 값\n",
    "cluster = kmeans.labels_\n",
    "#결측치를 제외하고 예측한 값\n",
    "cluster.shape"
   ]
  },
  {
   "cell_type": "code",
   "execution_count": 28,
   "id": "599d6065",
   "metadata": {
    "ExecuteTime": {
     "end_time": "2021-11-24T03:36:34.426365Z",
     "start_time": "2021-11-24T03:36:34.411365Z"
    }
   },
   "outputs": [],
   "source": [
    "#NA값이 존재하면 분류가 안되는 모양\n",
    "#따라서 결측치 열이 없는 상태로 예측"
   ]
  },
  {
   "cell_type": "code",
   "execution_count": 29,
   "id": "41d08f69",
   "metadata": {
    "ExecuteTime": {
     "end_time": "2021-11-24T03:36:34.696366Z",
     "start_time": "2021-11-24T03:36:34.562365Z"
    },
    "scrolled": true
   },
   "outputs": [
    {
     "name": "stderr",
     "output_type": "stream",
     "text": [
      "D:\\Program_Files\\anaconda3\\lib\\site-packages\\sklearn\\base.py:488: FutureWarning: The feature names should match those that were passed during fit. Starting version 1.2, an error will be raised.\n",
      "Feature names seen at fit time, yet now missing:\n",
      "- SeriousDlqin2yrs\n",
      "\n",
      "  warnings.warn(message, FutureWarning)\n"
     ]
    },
    {
     "ename": "ValueError",
     "evalue": "X has 8 features, but StandardScaler is expecting 9 features as input.",
     "output_type": "error",
     "traceback": [
      "\u001b[1;31m---------------------------------------------------------------------------\u001b[0m",
      "\u001b[1;31mValueError\u001b[0m                                Traceback (most recent call last)",
      "\u001b[1;32m~\\AppData\\Local\\Temp/ipykernel_33584/2116372116.py\u001b[0m in \u001b[0;36m<module>\u001b[1;34m\u001b[0m\n\u001b[0;32m      9\u001b[0m \u001b[1;31m#cluster3\u001b[0m\u001b[1;33m\u001b[0m\u001b[1;33m\u001b[0m\u001b[0m\n\u001b[0;32m     10\u001b[0m \u001b[1;33m\u001b[0m\u001b[0m\n\u001b[1;32m---> 11\u001b[1;33m \u001b[0misna_df1and2_scaled\u001b[0m\u001b[1;33m=\u001b[0m \u001b[0mscaler\u001b[0m\u001b[1;33m.\u001b[0m\u001b[0mtransform\u001b[0m\u001b[1;33m(\u001b[0m\u001b[0misna_df1and2\u001b[0m\u001b[1;33m)\u001b[0m\u001b[1;33m\u001b[0m\u001b[1;33m\u001b[0m\u001b[0m\n\u001b[0m\u001b[0;32m     12\u001b[0m \u001b[0mcluster_left\u001b[0m \u001b[1;33m=\u001b[0m \u001b[0mkmeans\u001b[0m\u001b[1;33m.\u001b[0m\u001b[0mpredict\u001b[0m\u001b[1;33m(\u001b[0m\u001b[0misna_df1and2_scaled\u001b[0m\u001b[1;33m)\u001b[0m\u001b[1;33m\u001b[0m\u001b[1;33m\u001b[0m\u001b[0m\n\u001b[0;32m     13\u001b[0m \u001b[0mcluster_left\u001b[0m\u001b[1;33m\u001b[0m\u001b[1;33m\u001b[0m\u001b[0m\n",
      "\u001b[1;32mD:\\Program_Files\\anaconda3\\lib\\site-packages\\sklearn\\preprocessing\\_data.py\u001b[0m in \u001b[0;36mtransform\u001b[1;34m(self, X, copy)\u001b[0m\n\u001b[0;32m    971\u001b[0m \u001b[1;33m\u001b[0m\u001b[0m\n\u001b[0;32m    972\u001b[0m         \u001b[0mcopy\u001b[0m \u001b[1;33m=\u001b[0m \u001b[0mcopy\u001b[0m \u001b[1;32mif\u001b[0m \u001b[0mcopy\u001b[0m \u001b[1;32mis\u001b[0m \u001b[1;32mnot\u001b[0m \u001b[1;32mNone\u001b[0m \u001b[1;32melse\u001b[0m \u001b[0mself\u001b[0m\u001b[1;33m.\u001b[0m\u001b[0mcopy\u001b[0m\u001b[1;33m\u001b[0m\u001b[1;33m\u001b[0m\u001b[0m\n\u001b[1;32m--> 973\u001b[1;33m         X = self._validate_data(\n\u001b[0m\u001b[0;32m    974\u001b[0m             \u001b[0mX\u001b[0m\u001b[1;33m,\u001b[0m\u001b[1;33m\u001b[0m\u001b[1;33m\u001b[0m\u001b[0m\n\u001b[0;32m    975\u001b[0m             \u001b[0mreset\u001b[0m\u001b[1;33m=\u001b[0m\u001b[1;32mFalse\u001b[0m\u001b[1;33m,\u001b[0m\u001b[1;33m\u001b[0m\u001b[1;33m\u001b[0m\u001b[0m\n",
      "\u001b[1;32mD:\\Program_Files\\anaconda3\\lib\\site-packages\\sklearn\\base.py\u001b[0m in \u001b[0;36m_validate_data\u001b[1;34m(self, X, y, reset, validate_separately, **check_params)\u001b[0m\n\u001b[0;32m    578\u001b[0m \u001b[1;33m\u001b[0m\u001b[0m\n\u001b[0;32m    579\u001b[0m         \u001b[1;32mif\u001b[0m \u001b[1;32mnot\u001b[0m \u001b[0mno_val_X\u001b[0m \u001b[1;32mand\u001b[0m \u001b[0mcheck_params\u001b[0m\u001b[1;33m.\u001b[0m\u001b[0mget\u001b[0m\u001b[1;33m(\u001b[0m\u001b[1;34m\"ensure_2d\"\u001b[0m\u001b[1;33m,\u001b[0m \u001b[1;32mTrue\u001b[0m\u001b[1;33m)\u001b[0m\u001b[1;33m:\u001b[0m\u001b[1;33m\u001b[0m\u001b[1;33m\u001b[0m\u001b[0m\n\u001b[1;32m--> 580\u001b[1;33m             \u001b[0mself\u001b[0m\u001b[1;33m.\u001b[0m\u001b[0m_check_n_features\u001b[0m\u001b[1;33m(\u001b[0m\u001b[0mX\u001b[0m\u001b[1;33m,\u001b[0m \u001b[0mreset\u001b[0m\u001b[1;33m=\u001b[0m\u001b[0mreset\u001b[0m\u001b[1;33m)\u001b[0m\u001b[1;33m\u001b[0m\u001b[1;33m\u001b[0m\u001b[0m\n\u001b[0m\u001b[0;32m    581\u001b[0m \u001b[1;33m\u001b[0m\u001b[0m\n\u001b[0;32m    582\u001b[0m         \u001b[1;32mreturn\u001b[0m \u001b[0mout\u001b[0m\u001b[1;33m\u001b[0m\u001b[1;33m\u001b[0m\u001b[0m\n",
      "\u001b[1;32mD:\\Program_Files\\anaconda3\\lib\\site-packages\\sklearn\\base.py\u001b[0m in \u001b[0;36m_check_n_features\u001b[1;34m(self, X, reset)\u001b[0m\n\u001b[0;32m    393\u001b[0m \u001b[1;33m\u001b[0m\u001b[0m\n\u001b[0;32m    394\u001b[0m         \u001b[1;32mif\u001b[0m \u001b[0mn_features\u001b[0m \u001b[1;33m!=\u001b[0m \u001b[0mself\u001b[0m\u001b[1;33m.\u001b[0m\u001b[0mn_features_in_\u001b[0m\u001b[1;33m:\u001b[0m\u001b[1;33m\u001b[0m\u001b[1;33m\u001b[0m\u001b[0m\n\u001b[1;32m--> 395\u001b[1;33m             raise ValueError(\n\u001b[0m\u001b[0;32m    396\u001b[0m                 \u001b[1;34mf\"X has {n_features} features, but {self.__class__.__name__} \"\u001b[0m\u001b[1;33m\u001b[0m\u001b[1;33m\u001b[0m\u001b[0m\n\u001b[0;32m    397\u001b[0m                 \u001b[1;34mf\"is expecting {self.n_features_in_} features as input.\"\u001b[0m\u001b[1;33m\u001b[0m\u001b[1;33m\u001b[0m\u001b[0m\n",
      "\u001b[1;31mValueError\u001b[0m: X has 8 features, but StandardScaler is expecting 9 features as input."
     ]
    }
   ],
   "source": [
    "#아래 두개는 컬럼 갯수가 안맞아서 안됨\n",
    "#isna_df1_scaled= scaler.transform(isna_df1)\n",
    "#isna_df2_scaled= scaler.transform(isna_df2)\n",
    "\n",
    "#아래도 안됨\n",
    "#cluster2 = kmeans.predict(isna_df_scaled1)\n",
    "#cluster2\n",
    "#cluster3 = kmeans.predict(isna_df_scaled2)\n",
    "#cluster3\n",
    "\n",
    "isna_df1and2_scaled= scaler.transform(isna_df1and2)\n",
    "cluster_left = kmeans.predict(isna_df1and2_scaled)\n",
    "cluster_left"
   ]
  },
  {
   "cell_type": "code",
   "execution_count": null,
   "id": "0bd4cb59",
   "metadata": {
    "ExecuteTime": {
     "end_time": "2021-11-24T03:36:34.699365Z",
     "start_time": "2021-11-24T03:36:34.699365Z"
    }
   },
   "outputs": [],
   "source": [
    "len(isna_df1and2.columns)\n",
    "isna_df1and2.columns\n"
   ]
  },
  {
   "cell_type": "code",
   "execution_count": null,
   "id": "4488090e",
   "metadata": {
    "ExecuteTime": {
     "end_time": "2021-11-24T03:36:34.701366Z",
     "start_time": "2021-11-24T03:36:34.701366Z"
    }
   },
   "outputs": [],
   "source": [
    "#기존 결측치 인덱스 기준 \n",
    "isna_df1and2.index"
   ]
  },
  {
   "cell_type": "code",
   "execution_count": 30,
   "id": "a3d48177",
   "metadata": {
    "ExecuteTime": {
     "end_time": "2021-11-24T03:36:34.771364Z",
     "start_time": "2021-11-24T03:36:34.758364Z"
    },
    "scrolled": true
   },
   "outputs": [
    {
     "data": {
      "text/html": [
       "<div>\n",
       "<style scoped>\n",
       "    .dataframe tbody tr th:only-of-type {\n",
       "        vertical-align: middle;\n",
       "    }\n",
       "\n",
       "    .dataframe tbody tr th {\n",
       "        vertical-align: top;\n",
       "    }\n",
       "\n",
       "    .dataframe thead th {\n",
       "        text-align: right;\n",
       "    }\n",
       "</style>\n",
       "<table border=\"1\" class=\"dataframe\">\n",
       "  <thead>\n",
       "    <tr style=\"text-align: right;\">\n",
       "      <th></th>\n",
       "      <th>RevolvingUtilizationOfUnsecuredLines</th>\n",
       "      <th>age</th>\n",
       "      <th>NumberOfTime30-59DaysPastDueNotWorse</th>\n",
       "      <th>DebtRatio</th>\n",
       "      <th>NumberOfOpenCreditLinesAndLoans</th>\n",
       "      <th>NumberOfTimes90DaysLate</th>\n",
       "      <th>NumberRealEstateLoansOrLines</th>\n",
       "      <th>NumberOfTime60-89DaysPastDueNotWorse</th>\n",
       "    </tr>\n",
       "  </thead>\n",
       "  <tbody>\n",
       "    <tr>\n",
       "      <th>8</th>\n",
       "      <td>0.116951</td>\n",
       "      <td>27</td>\n",
       "      <td>0</td>\n",
       "      <td>46.0</td>\n",
       "      <td>2</td>\n",
       "      <td>0</td>\n",
       "      <td>0</td>\n",
       "      <td>0</td>\n",
       "    </tr>\n",
       "    <tr>\n",
       "      <th>96</th>\n",
       "      <td>0.542243</td>\n",
       "      <td>48</td>\n",
       "      <td>2</td>\n",
       "      <td>10.0</td>\n",
       "      <td>2</td>\n",
       "      <td>0</td>\n",
       "      <td>0</td>\n",
       "      <td>0</td>\n",
       "    </tr>\n",
       "    <tr>\n",
       "      <th>109</th>\n",
       "      <td>0.041258</td>\n",
       "      <td>61</td>\n",
       "      <td>0</td>\n",
       "      <td>4739.0</td>\n",
       "      <td>11</td>\n",
       "      <td>0</td>\n",
       "      <td>4</td>\n",
       "      <td>0</td>\n",
       "    </tr>\n",
       "    <tr>\n",
       "      <th>159</th>\n",
       "      <td>0.000000</td>\n",
       "      <td>63</td>\n",
       "      <td>0</td>\n",
       "      <td>2.0</td>\n",
       "      <td>4</td>\n",
       "      <td>0</td>\n",
       "      <td>0</td>\n",
       "      <td>0</td>\n",
       "    </tr>\n",
       "    <tr>\n",
       "      <th>238</th>\n",
       "      <td>1.000000</td>\n",
       "      <td>28</td>\n",
       "      <td>0</td>\n",
       "      <td>0.0</td>\n",
       "      <td>0</td>\n",
       "      <td>0</td>\n",
       "      <td>0</td>\n",
       "      <td>0</td>\n",
       "    </tr>\n",
       "  </tbody>\n",
       "</table>\n",
       "</div>"
      ],
      "text/plain": [
       "     RevolvingUtilizationOfUnsecuredLines  age  \\\n",
       "8                                0.116951   27   \n",
       "96                               0.542243   48   \n",
       "109                              0.041258   61   \n",
       "159                              0.000000   63   \n",
       "238                              1.000000   28   \n",
       "\n",
       "     NumberOfTime30-59DaysPastDueNotWorse  DebtRatio  \\\n",
       "8                                       0       46.0   \n",
       "96                                      2       10.0   \n",
       "109                                     0     4739.0   \n",
       "159                                     0        2.0   \n",
       "238                                     0        0.0   \n",
       "\n",
       "     NumberOfOpenCreditLinesAndLoans  NumberOfTimes90DaysLate  \\\n",
       "8                                  2                        0   \n",
       "96                                 2                        0   \n",
       "109                               11                        0   \n",
       "159                                4                        0   \n",
       "238                                0                        0   \n",
       "\n",
       "     NumberRealEstateLoansOrLines  NumberOfTime60-89DaysPastDueNotWorse  \n",
       "8                               0                                     0  \n",
       "96                              0                                     0  \n",
       "109                             4                                     0  \n",
       "159                             0                                     0  \n",
       "238                             0                                     0  "
      ]
     },
     "execution_count": 30,
     "metadata": {},
     "output_type": "execute_result"
    }
   ],
   "source": [
    "isna_df1and2.head()"
   ]
  },
  {
   "cell_type": "code",
   "execution_count": 32,
   "id": "20c8d129",
   "metadata": {
    "ExecuteTime": {
     "end_time": "2021-11-24T03:36:35.266869Z",
     "start_time": "2021-11-24T03:36:35.254870Z"
    },
    "scrolled": true
   },
   "outputs": [
    {
     "ename": "NameError",
     "evalue": "name 'cluster_left' is not defined",
     "output_type": "error",
     "traceback": [
      "\u001b[1;31m---------------------------------------------------------------------------\u001b[0m",
      "\u001b[1;31mNameError\u001b[0m                                 Traceback (most recent call last)",
      "\u001b[1;32m~\\AppData\\Local\\Temp/ipykernel_33584/2375876262.py\u001b[0m in \u001b[0;36m<module>\u001b[1;34m\u001b[0m\n\u001b[1;32m----> 1\u001b[1;33m \u001b[0misna_df1and2\u001b[0m\u001b[1;33m.\u001b[0m\u001b[0mjoin\u001b[0m\u001b[1;33m(\u001b[0m\u001b[0mcluster_left\u001b[0m\u001b[1;33m)\u001b[0m\u001b[1;33m\u001b[0m\u001b[1;33m\u001b[0m\u001b[0m\n\u001b[0m",
      "\u001b[1;31mNameError\u001b[0m: name 'cluster_left' is not defined"
     ]
    }
   ],
   "source": [
    "isna_df1and2.join(cluster_left)"
   ]
  },
  {
   "cell_type": "markdown",
   "id": "a87af053",
   "metadata": {},
   "source": [
    "## Feature Selection"
   ]
  },
  {
   "cell_type": "code",
   "execution_count": 33,
   "id": "705c6e40",
   "metadata": {
    "ExecuteTime": {
     "end_time": "2021-11-24T03:36:35.762536Z",
     "start_time": "2021-11-24T03:36:35.745536Z"
    }
   },
   "outputs": [],
   "source": [
    "#순차특성 알고리즘 책178p 참조\n",
    "from sklearn.base import clone \n",
    "from itertools import combinations \n",
    "import numpy as np \n",
    "from sklearn.metrics import accuracy_score \n",
    "from sklearn.model_selection import train_test_split \n",
    "class SBS():\n",
    "    \n",
    "    def __init__(self, estimator, k_features, scoring=accuracy_score,\\\n",
    "                 test_size=0.25, random_state=1):\n",
    "        self.scoring = scoring \n",
    "        self.estimator = clone(estimator) \n",
    "        self.k_features = k_features \n",
    "        self.test_size = test_size \n",
    "        self.random_state = random_state \n",
    "        \n",
    "    def fit(self, X, y): \n",
    "        X_train, X_test, y_train, y_test = train_test_split(X, y, test_size=self.test_size, random_state=self.random_state) \n",
    "        dim = X_train.shape[1] \n",
    "        self.indices_ = tuple(range(dim)) \n",
    "        self.subsets_ = [self.indices_] \n",
    "        score = self._calc_score(X_train, y_train,X_test, y_test, self.indices_) \n",
    "        self.scores_ = [score] \n",
    "        \n",
    "        while dim > self.k_features:\n",
    "            scores = [] \n",
    "            subsets = [] \n",
    "            \n",
    "            for p in combinations(self.indices_, r=dim - 1):\n",
    "                score = self._calc_score(X_train, y_train, X_test, y_test, p) \n",
    "                scores.append(score) \n",
    "                subsets.append(p) \n",
    "                best = np.argmax(scores) \n",
    "                self.indices_ = subsets[best] \n",
    "                self.subsets_.append(self.indices_) \n",
    "                dim -= 1 \n",
    "                \n",
    "                self.scores_.append(scores[best]) \n",
    "                self.k_score_ = self.scores_[-1] \n",
    "                \n",
    "                return self \n",
    "            \n",
    "            def transform(self, X):\n",
    "                return X[:, self.indices_] \n",
    "            \n",
    "            def _calc_score(self, X_train, y_train, X_test, y_test, indices): \n",
    "                self.estimator.fit(X_train[:, indices], y_train) \n",
    "                y_pred = self.estimator.predict(X_test[:, indices]) \n",
    "                score = self.scoring(y_test, y_pred) \n",
    "                return score"
   ]
  },
  {
   "cell_type": "code",
   "execution_count": 34,
   "id": "b41eb37c",
   "metadata": {
    "ExecuteTime": {
     "end_time": "2021-11-24T03:36:36.878253Z",
     "start_time": "2021-11-24T03:36:36.598230Z"
    },
    "scrolled": true
   },
   "outputs": [
    {
     "ename": "AttributeError",
     "evalue": "'SBS' object has no attribute '_calc_score'",
     "output_type": "error",
     "traceback": [
      "\u001b[1;31m---------------------------------------------------------------------------\u001b[0m",
      "\u001b[1;31mAttributeError\u001b[0m                            Traceback (most recent call last)",
      "\u001b[1;32m~\\AppData\\Local\\Temp/ipykernel_33584/3268111559.py\u001b[0m in \u001b[0;36m<module>\u001b[1;34m\u001b[0m\n\u001b[0;32m     16\u001b[0m \u001b[0mknn\u001b[0m \u001b[1;33m=\u001b[0m \u001b[0mKNeighborsClassifier\u001b[0m\u001b[1;33m(\u001b[0m\u001b[0mn_neighbors\u001b[0m\u001b[1;33m=\u001b[0m\u001b[1;36m5\u001b[0m\u001b[1;33m)\u001b[0m\u001b[1;33m\u001b[0m\u001b[1;33m\u001b[0m\u001b[0m\n\u001b[0;32m     17\u001b[0m \u001b[0msbs\u001b[0m \u001b[1;33m=\u001b[0m \u001b[0mSBS\u001b[0m\u001b[1;33m(\u001b[0m\u001b[0mknn\u001b[0m\u001b[1;33m,\u001b[0m \u001b[0mk_features\u001b[0m\u001b[1;33m=\u001b[0m\u001b[1;36m1\u001b[0m\u001b[1;33m)\u001b[0m\u001b[1;33m\u001b[0m\u001b[1;33m\u001b[0m\u001b[0m\n\u001b[1;32m---> 18\u001b[1;33m \u001b[0msbs\u001b[0m\u001b[1;33m.\u001b[0m\u001b[0mfit\u001b[0m\u001b[1;33m(\u001b[0m\u001b[0mX_train_std\u001b[0m\u001b[1;33m,\u001b[0m \u001b[0my_train\u001b[0m\u001b[1;33m)\u001b[0m\u001b[1;33m\u001b[0m\u001b[1;33m\u001b[0m\u001b[0m\n\u001b[0m\u001b[0;32m     19\u001b[0m \u001b[1;33m\u001b[0m\u001b[0m\n\u001b[0;32m     20\u001b[0m \u001b[0mk_feat\u001b[0m \u001b[1;33m=\u001b[0m \u001b[1;33m[\u001b[0m\u001b[0mlen\u001b[0m\u001b[1;33m(\u001b[0m\u001b[0mk\u001b[0m\u001b[1;33m)\u001b[0m \u001b[1;32mfor\u001b[0m \u001b[0mk\u001b[0m \u001b[1;32min\u001b[0m \u001b[0msbs\u001b[0m\u001b[1;33m.\u001b[0m\u001b[0msubsets_\u001b[0m\u001b[1;33m]\u001b[0m\u001b[1;33m\u001b[0m\u001b[1;33m\u001b[0m\u001b[0m\n",
      "\u001b[1;32m~\\AppData\\Local\\Temp/ipykernel_33584/4222170723.py\u001b[0m in \u001b[0;36mfit\u001b[1;34m(self, X, y)\u001b[0m\n\u001b[0;32m     20\u001b[0m         \u001b[0mself\u001b[0m\u001b[1;33m.\u001b[0m\u001b[0mindices_\u001b[0m \u001b[1;33m=\u001b[0m \u001b[0mtuple\u001b[0m\u001b[1;33m(\u001b[0m\u001b[0mrange\u001b[0m\u001b[1;33m(\u001b[0m\u001b[0mdim\u001b[0m\u001b[1;33m)\u001b[0m\u001b[1;33m)\u001b[0m\u001b[1;33m\u001b[0m\u001b[1;33m\u001b[0m\u001b[0m\n\u001b[0;32m     21\u001b[0m         \u001b[0mself\u001b[0m\u001b[1;33m.\u001b[0m\u001b[0msubsets_\u001b[0m \u001b[1;33m=\u001b[0m \u001b[1;33m[\u001b[0m\u001b[0mself\u001b[0m\u001b[1;33m.\u001b[0m\u001b[0mindices_\u001b[0m\u001b[1;33m]\u001b[0m\u001b[1;33m\u001b[0m\u001b[1;33m\u001b[0m\u001b[0m\n\u001b[1;32m---> 22\u001b[1;33m         \u001b[0mscore\u001b[0m \u001b[1;33m=\u001b[0m \u001b[0mself\u001b[0m\u001b[1;33m.\u001b[0m\u001b[0m_calc_score\u001b[0m\u001b[1;33m(\u001b[0m\u001b[0mX_train\u001b[0m\u001b[1;33m,\u001b[0m \u001b[0my_train\u001b[0m\u001b[1;33m,\u001b[0m\u001b[0mX_test\u001b[0m\u001b[1;33m,\u001b[0m \u001b[0my_test\u001b[0m\u001b[1;33m,\u001b[0m \u001b[0mself\u001b[0m\u001b[1;33m.\u001b[0m\u001b[0mindices_\u001b[0m\u001b[1;33m)\u001b[0m\u001b[1;33m\u001b[0m\u001b[1;33m\u001b[0m\u001b[0m\n\u001b[0m\u001b[0;32m     23\u001b[0m         \u001b[0mself\u001b[0m\u001b[1;33m.\u001b[0m\u001b[0mscores_\u001b[0m \u001b[1;33m=\u001b[0m \u001b[1;33m[\u001b[0m\u001b[0mscore\u001b[0m\u001b[1;33m]\u001b[0m\u001b[1;33m\u001b[0m\u001b[1;33m\u001b[0m\u001b[0m\n\u001b[0;32m     24\u001b[0m \u001b[1;33m\u001b[0m\u001b[0m\n",
      "\u001b[1;31mAttributeError\u001b[0m: 'SBS' object has no attribute '_calc_score'"
     ]
    }
   ],
   "source": [
    "import matplotlib.pyplot as plt \n",
    "from sklearn.neighbors import KNeighborsClassifier \n",
    "from sklearn.preprocessing import StandardScaler\n",
    "from sklearn.model_selection import train_test_split\n",
    "\n",
    "#X, y = drop_data.iloc[:, 1:], drop_data.iloc[:, 0].values\n",
    "X, y = drop_data.iloc[:, 1:], drop_data.iloc[:, 0]\n",
    "\n",
    "X_train, X_test, y_train, y_test = train_test_split(X, y, test_size=0.2, \n",
    "                                                    random_state=0) \n",
    "\n",
    "std= StandardScaler()\n",
    "X_train_std=std.fit_transform(X_train)\n",
    "X_test_std= std.transform(X_test)\n",
    "\n",
    "knn = KNeighborsClassifier(n_neighbors=5) \n",
    "sbs = SBS(knn, k_features=1) \n",
    "sbs.fit(X_train_std, y_train) \n",
    "\n",
    "k_feat = [len(k) for k in sbs.subsets_] \n",
    "plt.plot(k_feat, sbs.scores_, marker='o') \n",
    "plt.ylim([0.7, 1.02]) \n",
    "plt.ylabel('Accuracy') \n",
    "plt.xlabel('Number of features') \n",
    "plt.grid() \n",
    "plt.tight_layout() \n",
    "plt.show()"
   ]
  },
  {
   "cell_type": "code",
   "execution_count": 35,
   "id": "2bf58e71",
   "metadata": {
    "ExecuteTime": {
     "end_time": "2021-11-24T03:36:41.907384Z",
     "start_time": "2021-11-24T03:36:38.374799Z"
    }
   },
   "outputs": [],
   "source": [
    "#랜덤 포레스트를 이용한 특성 중요도\n",
    "from sklearn.ensemble import RandomForestClassifier\n",
    "\n",
    "y=drop_data['SeriousDlqin2yrs']\n",
    "feat_labels = drop_data.drop(['SeriousDlqin2yrs'], axis =1)\n",
    "\n",
    "rf = RandomForestClassifier(n_estimators=500,\n",
    "                            n_jobs=-1,\n",
    "                            random_state=0)\n",
    "\n",
    "from sklearn.model_selection import train_test_split\n",
    "X_train, X_test, y_train, y_test = train_test_split(feat_labels, y, stratify=y, random_state=0)\n",
    "\n",
    "rf.fit(X_train, y_train)\n",
    "importances = rf.feature_importances_\n",
    "\n",
    "#argsort 작은값부터 순서대로 데이터의 위치 반환\n",
    "indices = np.argsort(importances)[::-1]"
   ]
  },
  {
   "cell_type": "code",
   "execution_count": 36,
   "id": "fa4cc58f",
   "metadata": {
    "ExecuteTime": {
     "end_time": "2021-11-24T03:36:42.102407Z",
     "start_time": "2021-11-24T03:36:42.088384Z"
    }
   },
   "outputs": [
    {
     "data": {
      "text/plain": [
       "array([0.18943532, 0.12165108, 0.05075381, 0.17346249, 0.16301655,\n",
       "       0.08918309, 0.08636972, 0.03507374, 0.04570237, 0.04535183])"
      ]
     },
     "execution_count": 36,
     "metadata": {},
     "output_type": "execute_result"
    }
   ],
   "source": [
    "importances\n",
    "#indices[0]\n",
    "#feat_labels.columns[0]"
   ]
  },
  {
   "cell_type": "code",
   "execution_count": 186,
   "id": "87695cd5",
   "metadata": {
    "ExecuteTime": {
     "end_time": "2021-11-24T07:12:01.084260Z",
     "start_time": "2021-11-24T07:12:00.986260Z"
    },
    "scrolled": true
   },
   "outputs": [
    {
     "name": "stdout",
     "output_type": "stream",
     "text": [
      "이 임계 조건을 만족하는 feature의 수 4\n",
      " 1) RevolvingUtilizationOfUnsecuredLines 0.267501\n",
      " 2) NumberOfTime30-59DaysPastDueNotWorse 0.260304\n",
      " 3) DebtRatio                      0.228540\n",
      " 4) age                            0.137074\n"
     ]
    },
    {
     "name": "stderr",
     "output_type": "stream",
     "text": [
      "D:\\Program_Files\\anaconda3\\lib\\site-packages\\sklearn\\base.py:438: UserWarning: X has feature names, but SelectFromModel was fitted without feature names\n",
      "  warnings.warn(\n"
     ]
    }
   ],
   "source": [
    "#SelectFromModel을 이용한 특성 중요도 추출\n",
    "from sklearn.feature_selection import SelectFromModel\n",
    "\n",
    "#만약 피처를 더 허용하고 싶다면 threshold값을 낮출것\n",
    "sfm = SelectFromModel(rf, threshold=0.1, prefit=True)\n",
    "X_selected = sfm.transform(X_train)\n",
    "print('이 임계 조건을 만족하는 feature의 수', X_selected.shape[1])\n",
    "\n",
    "for f in range(X_selected.shape[1]):\n",
    "    print(\"%2d) %-*s %f\" % (f+1, 30,\n",
    "                           feat_labels.columns[indices[f]],\n",
    "                           importances[indices[f]]))"
   ]
  },
  {
   "cell_type": "code",
   "execution_count": 187,
   "id": "e73acd0e",
   "metadata": {
    "ExecuteTime": {
     "end_time": "2021-11-24T07:12:04.025830Z",
     "start_time": "2021-11-24T07:12:04.011831Z"
    }
   },
   "outputs": [
    {
     "data": {
      "text/plain": [
       "array([0.27, 0.14, 0.26, 0.23, 0.11])"
      ]
     },
     "execution_count": 187,
     "metadata": {},
     "output_type": "execute_result"
    }
   ],
   "source": [
    "importances"
   ]
  },
  {
   "cell_type": "code",
   "execution_count": 188,
   "id": "20e53045",
   "metadata": {
    "ExecuteTime": {
     "end_time": "2021-11-24T07:12:27.749971Z",
     "start_time": "2021-11-24T07:12:06.761334Z"
    }
   },
   "outputs": [
    {
     "name": "stdout",
     "output_type": "stream",
     "text": [
      "[1 1 3 1 1 2 1 6 5 4]\n",
      "( 1) RevolvingUtilizationOfUnsecuredLines 0.266873\n",
      "( 3) DebtRatio                      0.259344\n",
      "( 4) MonthlyIncome                  0.228719\n",
      "( 2) age                            0.138728\n",
      "( 5) NumberOfTimes90DaysLate        0.106335\n"
     ]
    }
   ],
   "source": [
    "#RFE는 재귀적 특성 제거 방법 사용 (처음에 모든 특성으로 모델 만들고 특성 중요도가 가장 낮은 특성을 제거해나감)\n",
    "#이런식으로 미리 정의한 특성 개수가 남을 때까지 계속\n",
    "from sklearn.feature_selection import RFE\n",
    "rfe = RFE(rf, n_features_to_select=5)\n",
    "rfe.fit(X_train, y_train)\n",
    "#선택한 특성의 우선순위 확인\n",
    "print(rfe.ranking_)\n",
    "\n",
    "#선택된 특성은 True 반환\n",
    "f_mask = rfe.support_\n",
    "importances = rfe.estimator_.feature_importances_\n",
    "indices = np.argsort(importances)[::-1]\n",
    "for i in indices:\n",
    "    print(\"(%2d) %-*s %f\" % (i+1, 30,\n",
    "                           feat_labels.columns[f_mask][i],\n",
    "                           importances[i]))"
   ]
  },
  {
   "cell_type": "code",
   "execution_count": 189,
   "id": "27ba5eb4",
   "metadata": {
    "ExecuteTime": {
     "end_time": "2021-11-24T07:12:29.397136Z",
     "start_time": "2021-11-24T07:12:29.385136Z"
    }
   },
   "outputs": [
    {
     "data": {
      "text/plain": [
       "array([0.27, 0.14, 0.26, 0.23, 0.11])"
      ]
     },
     "execution_count": 189,
     "metadata": {},
     "output_type": "execute_result"
    }
   ],
   "source": [
    "importances"
   ]
  },
  {
   "cell_type": "code",
   "execution_count": 42,
   "id": "ff6c83a5",
   "metadata": {
    "ExecuteTime": {
     "end_time": "2021-11-24T03:37:39.333831Z",
     "start_time": "2021-11-24T03:37:39.317809Z"
    }
   },
   "outputs": [
    {
     "data": {
      "text/plain": [
       "'\\n##선형\\n#주성분 분석\\n-비지도 학습\\n-클래스에 속한 샘플이 몇개 되지 않을때\\n#선형 판별 분석(LDA)\\n-지도학습\\n-규제가 없는 모델에서 차원의 저주로 인한 과대 적합 정도를 줄이고 계산 효율성을 높이기 위한 특성 추출 기법\\n#산포행렬\\n\\n##비선형\\n#커널 PCA\\n'"
      ]
     },
     "execution_count": 42,
     "metadata": {},
     "output_type": "execute_result"
    }
   ],
   "source": [
    "#차원 축소를 통한 데이터 압축\n",
    "\"\"\"\n",
    "##선형\n",
    "#주성분 분석\n",
    "-비지도 학습\n",
    "-클래스에 속한 샘플이 몇개 되지 않을때\n",
    "#선형 판별 분석(LDA)\n",
    "-지도학습\n",
    "-규제가 없는 모델에서 차원의 저주로 인한 과대 적합 정도를 줄이고 계산 효율성을 높이기 위한 특성 추출 기법\n",
    "\n",
    "##비선형\n",
    "#커널 PCA\n",
    "\"\"\""
   ]
  },
  {
   "cell_type": "code",
   "execution_count": 140,
   "id": "3bd175fe",
   "metadata": {
    "ExecuteTime": {
     "end_time": "2021-11-24T06:32:12.727907Z",
     "start_time": "2021-11-24T06:32:12.718897Z"
    }
   },
   "outputs": [],
   "source": [
    "#201P\n",
    "#분류모델 그래프를 그리기 위한 함수\n",
    "\n",
    "from matplotlib.colors import ListedColormap\n",
    "\n",
    "def plot_decision_regions(X, y, classifier, resolution=0.02):\n",
    "\n",
    "    # 마커와 컬러맵 준비\n",
    "    markers = ('s', 'x', 'o', '^', 'v')\n",
    "    colors = ('red', 'blue', 'lightgreen', 'gray', 'cyan')\n",
    "    cmap = ListedColormap(colors[:len(np.unique(y))])\n",
    "\n",
    "    # 결정 경계를 그리기\n",
    "    \n",
    "    x1_min, x1_max = X[:, 0].min() - 1, X[:, 0].max() + 1\n",
    "    x2_min, x2_max = X[:, 1].min() - 1, X[:, 1].max() + 1\n",
    "    #meshgrid( ) 함수는 2차원의 평면에 정사각형, 혹은 직사각형의 그리드(Grid)를 생성해주는 기능을 가진 함수    \n",
    "    xx1, xx2 = np.meshgrid(np.arange(x1_min, x1_max, resolution),\n",
    "                           np.arange(x2_min, x2_max, resolution))\n",
    "    #ravel()함수는 데이터를 평평하게 만들어주는 기능을 가짐\n",
    "    Z = classifier.predict(np.array([xx1.ravel(), xx2.ravel()]).T)\n",
    "    Z = Z.reshape(xx1.shape)\n",
    "    #contourf는 등고선을 그려주는 함수 인자는 반드시 2D여야 함\n",
    "    plt.contourf(xx1, xx2, Z, alpha=0.4, cmap=cmap)\n",
    "    plt.xlim(xx1.min(), xx1.max())\n",
    "    plt.ylim(xx2.min(), xx2.max())\n",
    "\n",
    "    # 클래스 샘플을 표시\n",
    "    for idx, cl in enumerate(np.unique(y)):\n",
    "        plt.scatter(x=X[y == cl, 0], \n",
    "                    y=X[y == cl, 1],\n",
    "                    alpha=0.6, \n",
    "                    c=cmap.colors[idx],\n",
    "                    edgecolor='black',\n",
    "                    marker=markers[idx], \n",
    "                    label=cl)"
   ]
  },
  {
   "cell_type": "code",
   "execution_count": 141,
   "id": "354b31be",
   "metadata": {
    "ExecuteTime": {
     "end_time": "2021-11-24T06:32:13.436015Z",
     "start_time": "2021-11-24T06:32:13.425932Z"
    }
   },
   "outputs": [
    {
     "data": {
      "text/plain": [
       "SeriousDlqin2yrs                        0\n",
       "RevolvingUtilizationOfUnsecuredLines    0\n",
       "age                                     0\n",
       "NumberOfTime30-59DaysPastDueNotWorse    0\n",
       "DebtRatio                               0\n",
       "MonthlyIncome                           0\n",
       "NumberOfOpenCreditLinesAndLoans         0\n",
       "NumberOfTimes90DaysLate                 0\n",
       "NumberRealEstateLoansOrLines            0\n",
       "NumberOfTime60-89DaysPastDueNotWorse    0\n",
       "NumberOfDependents                      0\n",
       "dtype: int64"
      ]
     },
     "execution_count": 141,
     "metadata": {},
     "output_type": "execute_result"
    }
   ],
   "source": [
    "drop_data.isna().sum()"
   ]
  },
  {
   "cell_type": "code",
   "execution_count": 142,
   "id": "1281d582",
   "metadata": {
    "ExecuteTime": {
     "end_time": "2021-11-24T06:32:14.353459Z",
     "start_time": "2021-11-24T06:32:14.345460Z"
    }
   },
   "outputs": [
    {
     "data": {
      "text/plain": [
       "((120269, 10), (120269,))"
      ]
     },
     "execution_count": 142,
     "metadata": {},
     "output_type": "execute_result"
    }
   ],
   "source": [
    "X.shape, y.shape"
   ]
  },
  {
   "cell_type": "code",
   "execution_count": 155,
   "id": "271d5284",
   "metadata": {
    "ExecuteTime": {
     "end_time": "2021-11-24T06:35:38.295152Z",
     "start_time": "2021-11-24T06:35:37.323154Z"
    }
   },
   "outputs": [
    {
     "name": "stderr",
     "output_type": "stream",
     "text": [
      "C:\\Users\\zuho0\\AppData\\Local\\Temp/ipykernel_33584/2924354127.py:30: UserWarning: You passed a edgecolor/edgecolors ('black') for an unfilled marker ('x').  Matplotlib is ignoring the edgecolor in favor of the facecolor.  This behavior may change in the future.\n",
      "  plt.scatter(x=X[y == cl, 0],\n"
     ]
    },
    {
     "data": {
      "image/png": "[encoded data removed]",
      "text/plain": [
       "<Figure size 432x288 with 1 Axes>"
      ]
     },
     "metadata": {
      "needs_background": "light"
     },
     "output_type": "display_data"
    }
   ],
   "source": [
    "#PCA(주성분 분석)\n",
    "from sklearn.model_selection import train_test_split\n",
    "X, y = drop_data.iloc[:, 1:], drop_data.iloc[:, 0].values\n",
    "X_train, X_test, y_train, y_test = train_test_split(X, y, test_size=0.3, \n",
    "                                                    stratify=y,\n",
    "                                                    random_state=0)\n",
    "\n",
    "#특성을 표준화 전처리\n",
    "std= StandardScaler()\n",
    "X_train_scaled = std.fit_transform(X_train)\n",
    "X_test_scaled = std.transform(X_test)\n",
    "\n",
    "#PCA\n",
    "from sklearn.linear_model import LogisticRegression\n",
    "from sklearn.decomposition import PCA\n",
    "\n",
    "#PCA 변환기와 로지스틱 회귀 추정기 초기화\n",
    "pca = PCA(n_components=2)\n",
    "lr = LogisticRegression(random_state=0)\n",
    "\n",
    "#차원 축소\n",
    "X_train_pca = pca.fit_transform(X_train_scaled)\n",
    "X_test_pca = pca.transform(X_test_scaled)\n",
    "\n",
    "#축소된 데이터셋으로 로지스틱 회귀모델 훈련\n",
    "lr.fit(X_train_pca, y_train)\n",
    "#결정경계 그리기\n",
    "plot_decision_regions(X_train_pca, y_train, classifier=lr)\n",
    "plt.xlabel('PC1')\n",
    "plt.ylabel('PC2')\n",
    "plt.legend(loc='lower left')\n",
    "plt.tight_layout()\n",
    "plt.show()"
   ]
  },
  {
   "cell_type": "code",
   "execution_count": 144,
   "id": "8daace00",
   "metadata": {
    "ExecuteTime": {
     "end_time": "2021-11-24T06:32:17.672886Z",
     "start_time": "2021-11-24T06:32:17.187875Z"
    }
   },
   "outputs": [
    {
     "name": "stderr",
     "output_type": "stream",
     "text": [
      "C:\\Users\\zuho0\\AppData\\Local\\Temp/ipykernel_33584/2924354127.py:30: UserWarning: You passed a edgecolor/edgecolors ('black') for an unfilled marker ('x').  Matplotlib is ignoring the edgecolor in favor of the facecolor.  This behavior may change in the future.\n",
      "  plt.scatter(x=X[y == cl, 0],\n"
     ]
    },
    {
     "data": {
      "image/png": "[encoded data removed]",
      "text/plain": [
       "<Figure size 432x288 with 1 Axes>"
      ]
     },
     "metadata": {
      "needs_background": "light"
     },
     "output_type": "display_data"
    }
   ],
   "source": [
    "#테스트 데이터셋 기준\n",
    "plot_decision_regions(X_test_pca, y_test, classifier=lr)\n",
    "plt.xlabel('PC1')\n",
    "plt.ylabel('PC2')\n",
    "plt.legend(loc='lower left')\n",
    "plt.tight_layout()\n",
    "plt.show()"
   ]
  },
  {
   "cell_type": "code",
   "execution_count": 156,
   "id": "e9e9313a",
   "metadata": {
    "ExecuteTime": {
     "end_time": "2021-11-24T06:35:48.918251Z",
     "start_time": "2021-11-24T06:35:48.914251Z"
    }
   },
   "outputs": [],
   "source": [
    "#주성분 분석을 이용한 분류는 매우 안좋게 나옴"
   ]
  },
  {
   "cell_type": "code",
   "execution_count": null,
   "id": "d0abb6d1",
   "metadata": {},
   "outputs": [],
   "source": [
    "#선형판별분석\n",
    "\"\"\"\n",
    "-데이터셋 표준화\n",
    "-각 클래스에 대해 d 차원의 평균벡터 계산\n",
    "-클래스 간의 산포 행렬 Sb와 클래스내 산포행렬 Sw를 구성\n",
    "-행렬의 고유벡터와 고윳값 계산\n",
    "-고윳값을 내림차순으로 정렬하여 고유 벡터의 순서를 매김\n",
    "-고윳값이 가장 큰 k개의 고유벡터를 선택하여 d x k 차원의 변환 행렬 w를 구성..\n",
    " 이 행렬의 열이 고유벡터\n",
    "-변환행렬 w를 사용해 샘플을 샐운 특성 부분 공간으로 투영\n",
    "\"\"\""
   ]
  },
  {
   "cell_type": "code",
   "execution_count": 130,
   "id": "48f6013e",
   "metadata": {
    "ExecuteTime": {
     "end_time": "2021-11-24T06:30:39.793193Z",
     "start_time": "2021-11-24T06:30:39.781164Z"
    }
   },
   "outputs": [
    {
     "data": {
      "text/plain": [
       "Index(['SeriousDlqin2yrs', 'RevolvingUtilizationOfUnsecuredLines', 'age',\n",
       "       'NumberOfTime30-59DaysPastDueNotWorse', 'DebtRatio', 'MonthlyIncome',\n",
       "       'NumberOfOpenCreditLinesAndLoans', 'NumberOfTimes90DaysLate',\n",
       "       'NumberRealEstateLoansOrLines', 'NumberOfTime60-89DaysPastDueNotWorse',\n",
       "       'NumberOfDependents'],\n",
       "      dtype='object')"
      ]
     },
     "execution_count": 130,
     "metadata": {},
     "output_type": "execute_result"
    }
   ],
   "source": [
    "drop_data.columns"
   ]
  },
  {
   "cell_type": "code",
   "execution_count": 147,
   "id": "b8dc3861",
   "metadata": {
    "ExecuteTime": {
     "end_time": "2021-11-24T06:33:20.739122Z",
     "start_time": "2021-11-24T06:33:20.593106Z"
    }
   },
   "outputs": [
    {
     "ename": "IndexError",
     "evalue": "index 1 is out of bounds for axis 1 with size 1",
     "output_type": "error",
     "traceback": [
      "\u001b[1;31m---------------------------------------------------------------------------\u001b[0m",
      "\u001b[1;31mIndexError\u001b[0m                                Traceback (most recent call last)",
      "\u001b[1;32m~\\AppData\\Local\\Temp/ipykernel_33584/4082212331.py\u001b[0m in \u001b[0;36m<module>\u001b[1;34m\u001b[0m\n\u001b[0;32m     20\u001b[0m \u001b[0mlr\u001b[0m \u001b[1;33m=\u001b[0m \u001b[0mlr\u001b[0m\u001b[1;33m.\u001b[0m\u001b[0mfit\u001b[0m\u001b[1;33m(\u001b[0m\u001b[0mX_train_lda\u001b[0m\u001b[1;33m,\u001b[0m \u001b[0my_train\u001b[0m\u001b[1;33m)\u001b[0m\u001b[1;33m\u001b[0m\u001b[1;33m\u001b[0m\u001b[0m\n\u001b[0;32m     21\u001b[0m \u001b[1;31m#아래 코드 안됨\u001b[0m\u001b[1;33m\u001b[0m\u001b[1;33m\u001b[0m\u001b[0m\n\u001b[1;32m---> 22\u001b[1;33m \u001b[0mplot_decision_regions\u001b[0m\u001b[1;33m(\u001b[0m\u001b[0mX_train_lda\u001b[0m\u001b[1;33m,\u001b[0m \u001b[0my_train\u001b[0m\u001b[1;33m,\u001b[0m \u001b[0mclassifier\u001b[0m\u001b[1;33m=\u001b[0m\u001b[0mlr\u001b[0m\u001b[1;33m)\u001b[0m\u001b[1;33m\u001b[0m\u001b[1;33m\u001b[0m\u001b[0m\n\u001b[0m\u001b[0;32m     23\u001b[0m \u001b[1;33m\u001b[0m\u001b[0m\n\u001b[0;32m     24\u001b[0m \u001b[0mplt\u001b[0m\u001b[1;33m.\u001b[0m\u001b[0mxlabel\u001b[0m\u001b[1;33m(\u001b[0m\u001b[1;34m'LD 1'\u001b[0m\u001b[1;33m)\u001b[0m\u001b[1;33m\u001b[0m\u001b[1;33m\u001b[0m\u001b[0m\n",
      "\u001b[1;32m~\\AppData\\Local\\Temp/ipykernel_33584/2924354127.py\u001b[0m in \u001b[0;36mplot_decision_regions\u001b[1;34m(X, y, classifier, resolution)\u001b[0m\n\u001b[0;32m     14\u001b[0m \u001b[1;33m\u001b[0m\u001b[0m\n\u001b[0;32m     15\u001b[0m     \u001b[0mx1_min\u001b[0m\u001b[1;33m,\u001b[0m \u001b[0mx1_max\u001b[0m \u001b[1;33m=\u001b[0m \u001b[0mX\u001b[0m\u001b[1;33m[\u001b[0m\u001b[1;33m:\u001b[0m\u001b[1;33m,\u001b[0m \u001b[1;36m0\u001b[0m\u001b[1;33m]\u001b[0m\u001b[1;33m.\u001b[0m\u001b[0mmin\u001b[0m\u001b[1;33m(\u001b[0m\u001b[1;33m)\u001b[0m \u001b[1;33m-\u001b[0m \u001b[1;36m1\u001b[0m\u001b[1;33m,\u001b[0m \u001b[0mX\u001b[0m\u001b[1;33m[\u001b[0m\u001b[1;33m:\u001b[0m\u001b[1;33m,\u001b[0m \u001b[1;36m0\u001b[0m\u001b[1;33m]\u001b[0m\u001b[1;33m.\u001b[0m\u001b[0mmax\u001b[0m\u001b[1;33m(\u001b[0m\u001b[1;33m)\u001b[0m \u001b[1;33m+\u001b[0m \u001b[1;36m1\u001b[0m\u001b[1;33m\u001b[0m\u001b[1;33m\u001b[0m\u001b[0m\n\u001b[1;32m---> 16\u001b[1;33m     \u001b[0mx2_min\u001b[0m\u001b[1;33m,\u001b[0m \u001b[0mx2_max\u001b[0m \u001b[1;33m=\u001b[0m \u001b[0mX\u001b[0m\u001b[1;33m[\u001b[0m\u001b[1;33m:\u001b[0m\u001b[1;33m,\u001b[0m \u001b[1;36m1\u001b[0m\u001b[1;33m]\u001b[0m\u001b[1;33m.\u001b[0m\u001b[0mmin\u001b[0m\u001b[1;33m(\u001b[0m\u001b[1;33m)\u001b[0m \u001b[1;33m-\u001b[0m \u001b[1;36m1\u001b[0m\u001b[1;33m,\u001b[0m \u001b[0mX\u001b[0m\u001b[1;33m[\u001b[0m\u001b[1;33m:\u001b[0m\u001b[1;33m,\u001b[0m \u001b[1;36m1\u001b[0m\u001b[1;33m]\u001b[0m\u001b[1;33m.\u001b[0m\u001b[0mmax\u001b[0m\u001b[1;33m(\u001b[0m\u001b[1;33m)\u001b[0m \u001b[1;33m+\u001b[0m \u001b[1;36m1\u001b[0m\u001b[1;33m\u001b[0m\u001b[1;33m\u001b[0m\u001b[0m\n\u001b[0m\u001b[0;32m     17\u001b[0m     \u001b[1;31m#meshgrid( ) 함수는 2차원의 평면에 정사각형, 혹은 직사각형의 그리드(Grid)를 생성해주는 기능을 가진 함수\u001b[0m\u001b[1;33m\u001b[0m\u001b[1;33m\u001b[0m\u001b[0m\n\u001b[0;32m     18\u001b[0m     xx1, xx2 = np.meshgrid(np.arange(x1_min, x1_max, resolution),\n",
      "\u001b[1;31mIndexError\u001b[0m: index 1 is out of bounds for axis 1 with size 1"
     ]
    }
   ],
   "source": [
    "#LDA\n",
    "from sklearn.discriminant_analysis import LinearDiscriminantAnalysis as LDA\n",
    "\n",
    "from sklearn.model_selection import train_test_split\n",
    "X, y = drop_data.iloc[:, 1:], drop_data.iloc[:, 0].values\n",
    "X_train, X_test, y_train, y_test = train_test_split(X, y, test_size=0.3, \n",
    "                                                    stratify=y,\n",
    "                                                    random_state=0)\n",
    "\n",
    "# 데이터 정규 스케일링\n",
    "std= StandardScaler()\n",
    "X_train_scaled = std.fit_transform(X_train)\n",
    "X_test_scaled = std.transform(X_test)\n",
    "\n",
    "# n_components로 주성분을 몇개로 할지 결정\n",
    "lda = LDA(n_components=1)\n",
    "X_train_lda = lda.fit_transform(X_train_scaled, y_train)\n",
    "\n",
    "lr = LogisticRegression(random_state=0)\n",
    "lr = lr.fit(X_train_lda, y_train)\n",
    "#아래 코드 안됨\n",
    "plot_decision_regions(X_train_lda, y_train, classifier=lr)\n",
    "    \n",
    "plt.xlabel('LD 1')\n",
    "plt.ylabel('LD 2')\n",
    "plt.legend(loc='lower left')\n",
    "plt.tight_layout()\n",
    "plt.show()"
   ]
  },
  {
   "cell_type": "code",
   "execution_count": 152,
   "id": "e57102e3",
   "metadata": {
    "ExecuteTime": {
     "end_time": "2021-11-24T06:34:03.126730Z",
     "start_time": "2021-11-24T06:34:03.113511Z"
    }
   },
   "outputs": [
    {
     "data": {
      "text/html": [
       "<div>\n",
       "<style scoped>\n",
       "    .dataframe tbody tr th:only-of-type {\n",
       "        vertical-align: middle;\n",
       "    }\n",
       "\n",
       "    .dataframe tbody tr th {\n",
       "        vertical-align: top;\n",
       "    }\n",
       "\n",
       "    .dataframe thead th {\n",
       "        text-align: right;\n",
       "    }\n",
       "</style>\n",
       "<table border=\"1\" class=\"dataframe\">\n",
       "  <thead>\n",
       "    <tr style=\"text-align: right;\">\n",
       "      <th></th>\n",
       "      <th>0</th>\n",
       "    </tr>\n",
       "  </thead>\n",
       "  <tbody>\n",
       "    <tr>\n",
       "      <th>0</th>\n",
       "      <td>-0.573178</td>\n",
       "    </tr>\n",
       "    <tr>\n",
       "      <th>1</th>\n",
       "      <td>1.004205</td>\n",
       "    </tr>\n",
       "    <tr>\n",
       "      <th>2</th>\n",
       "      <td>2.046455</td>\n",
       "    </tr>\n",
       "    <tr>\n",
       "      <th>3</th>\n",
       "      <td>-0.084336</td>\n",
       "    </tr>\n",
       "    <tr>\n",
       "      <th>4</th>\n",
       "      <td>-0.857725</td>\n",
       "    </tr>\n",
       "    <tr>\n",
       "      <th>...</th>\n",
       "      <td>...</td>\n",
       "    </tr>\n",
       "    <tr>\n",
       "      <th>84183</th>\n",
       "      <td>0.334759</td>\n",
       "    </tr>\n",
       "    <tr>\n",
       "      <th>84184</th>\n",
       "      <td>0.011466</td>\n",
       "    </tr>\n",
       "    <tr>\n",
       "      <th>84185</th>\n",
       "      <td>-0.038593</td>\n",
       "    </tr>\n",
       "    <tr>\n",
       "      <th>84186</th>\n",
       "      <td>0.030675</td>\n",
       "    </tr>\n",
       "    <tr>\n",
       "      <th>84187</th>\n",
       "      <td>0.421350</td>\n",
       "    </tr>\n",
       "  </tbody>\n",
       "</table>\n",
       "<p>84188 rows × 1 columns</p>\n",
       "</div>"
      ],
      "text/plain": [
       "              0\n",
       "0     -0.573178\n",
       "1      1.004205\n",
       "2      2.046455\n",
       "3     -0.084336\n",
       "4     -0.857725\n",
       "...         ...\n",
       "84183  0.334759\n",
       "84184  0.011466\n",
       "84185 -0.038593\n",
       "84186  0.030675\n",
       "84187  0.421350\n",
       "\n",
       "[84188 rows x 1 columns]"
      ]
     },
     "execution_count": 152,
     "metadata": {},
     "output_type": "execute_result"
    }
   ],
   "source": [
    "pd.DataFrame(X_train_lda)\n",
    "#LDA는 못쓰겠음"
   ]
  },
  {
   "cell_type": "code",
   "execution_count": 162,
   "id": "bb54d459",
   "metadata": {
    "ExecuteTime": {
     "end_time": "2021-11-24T06:38:41.035001Z",
     "start_time": "2021-11-24T06:38:41.023978Z"
    }
   },
   "outputs": [
    {
     "name": "stdout",
     "output_type": "stream",
     "text": [
      "에러\n"
     ]
    }
   ],
   "source": [
    "#LDA 책의 다른버전 못씀\n",
    "\n",
    "\"\"\"from sklearn.discriminant_analysis import LinearDiscriminantAnalysis\n",
    "from sklearn.preprocessing import StandardScaler\n",
    "from sklearn.datasets import load_iris\n",
    "import pandas as pd\n",
    "import matplotlib.pyplot as plt\n",
    "#notebook을 실행한 브라우저에서 바로 그림을 볼 수 있게 해주는 것\n",
    "%matplotlib inline\n",
    "\n",
    "from sklearn.model_selection import train_test_split\n",
    "X, y = drop_data.iloc[:, 1:], drop_data.iloc[:, 0].values\n",
    "X_train, X_test, y_train, y_test = train_test_split(X, y, test_size=0.3, \n",
    "                                                    stratify=y,\n",
    "                                                    random_state=0)\n",
    "\n",
    "# 데이터 정규 스케일링\n",
    "std= StandardScaler()\n",
    "X_train_scaled = std.fit_transform(X_train)\n",
    "X_test_scaled = std.transform(X_test)\n",
    "\n",
    "# 2개의 클래스로 구분하기 위한 LDA 생성\n",
    "# n_components로 주성분을 몇개로 할지 결정\n",
    "lda = LinearDiscriminantAnalysis(n_components=2)\n",
    "\n",
    "#학습\n",
    "lda.fit(X_train_scaled, y_train)\n",
    "lda_train = lda.transform(X_train_scaled)\n",
    "\n",
    "lr=LogisticRegression(random_state=2)\n",
    "lr = lr.fit()\n",
    "\n",
    "# fit()호출 시 target값 입력 \n",
    "#lda.fit(iris_scaled, iris.target)\n",
    "#iris_lda = lda.transform(iris_scaled)\n",
    "\n",
    "lda_columns=['lda_component_1','lda_component_2']\n",
    "lda_df = pd.DataFrame(lda_train, columns=lda_columns)\n",
    "lda_df['target']=y_train\n",
    "\n",
    "markers=['^', 's', 'o']\n",
    "#target 값은 0, 그외는 1~ 각 target 별로 다른 shape으로 scatter plot\n",
    "for i, marker in enumerate(markers):\n",
    "    x_axis_data = lda_df[lda_df['target']==i]['lda_component_1']\n",
    "    y_axis_data = lda_df[lda_df['target']==i]['lda_component_2']\n",
    "\n",
    "    plt.scatter(x_axis_data, y_axis_data, marker=marker, label=drop_data.columns[i])\n",
    "                #label=iris.target_names[i])\n",
    "\n",
    "plt.legend(loc='upper right')\n",
    "plt.xlabel('lda_component_1')\n",
    "plt.ylabel('lda_component_2')\n",
    "plt.show()\n",
    "\"\"\"\n",
    "print('에러')"
   ]
  },
  {
   "cell_type": "code",
   "execution_count": 167,
   "id": "a97595b3",
   "metadata": {
    "ExecuteTime": {
     "end_time": "2021-11-24T06:51:19.759810Z",
     "start_time": "2021-11-24T06:50:59.983227Z"
    }
   },
   "outputs": [
    {
     "ename": "MemoryError",
     "evalue": "Unable to allocate 2.20 GiB for an array with shape (84188, 3508) and data type float64",
     "output_type": "error",
     "traceback": [
      "\u001b[1;31m---------------------------------------------------------------------------\u001b[0m",
      "\u001b[1;31mMemoryError\u001b[0m                               Traceback (most recent call last)",
      "\u001b[1;32m~\\AppData\\Local\\Temp/ipykernel_33584/1550977438.py\u001b[0m in \u001b[0;36m<module>\u001b[1;34m\u001b[0m\n\u001b[0;32m     24\u001b[0m                         \u001b[0mn_jobs\u001b[0m\u001b[1;33m=\u001b[0m\u001b[1;33m-\u001b[0m\u001b[1;36m1\u001b[0m\u001b[1;33m\u001b[0m\u001b[1;33m\u001b[0m\u001b[0m\n\u001b[0;32m     25\u001b[0m                        )\n\u001b[1;32m---> 26\u001b[1;33m \u001b[0mX_skernpca\u001b[0m \u001b[1;33m=\u001b[0m \u001b[0mscikit_kpca\u001b[0m\u001b[1;33m.\u001b[0m\u001b[0mfit_transform\u001b[0m\u001b[1;33m(\u001b[0m\u001b[0mX_train_scaled\u001b[0m\u001b[1;33m)\u001b[0m\u001b[1;33m\u001b[0m\u001b[1;33m\u001b[0m\u001b[0m\n\u001b[0m\u001b[0;32m     27\u001b[0m \u001b[1;33m\u001b[0m\u001b[0m\n\u001b[0;32m     28\u001b[0m plt.scatter(X_skernpca[y==0, 0], X_sklernpca[y==0, 1],\n",
      "\u001b[1;32mD:\\Program_Files\\anaconda3\\lib\\site-packages\\sklearn\\decomposition\\_kernel_pca.py\u001b[0m in \u001b[0;36mfit_transform\u001b[1;34m(self, X, y, **params)\u001b[0m\n\u001b[0;32m    454\u001b[0m             \u001b[0mReturns\u001b[0m \u001b[0mthe\u001b[0m \u001b[0minstance\u001b[0m \u001b[0mitself\u001b[0m\u001b[1;33m.\u001b[0m\u001b[1;33m\u001b[0m\u001b[1;33m\u001b[0m\u001b[0m\n\u001b[0;32m    455\u001b[0m         \"\"\"\n\u001b[1;32m--> 456\u001b[1;33m         \u001b[0mself\u001b[0m\u001b[1;33m.\u001b[0m\u001b[0mfit\u001b[0m\u001b[1;33m(\u001b[0m\u001b[0mX\u001b[0m\u001b[1;33m,\u001b[0m \u001b[1;33m**\u001b[0m\u001b[0mparams\u001b[0m\u001b[1;33m)\u001b[0m\u001b[1;33m\u001b[0m\u001b[1;33m\u001b[0m\u001b[0m\n\u001b[0m\u001b[0;32m    457\u001b[0m \u001b[1;33m\u001b[0m\u001b[0m\n\u001b[0;32m    458\u001b[0m         \u001b[1;31m# no need to use the kernel to transform X, use shortcut expression\u001b[0m\u001b[1;33m\u001b[0m\u001b[1;33m\u001b[0m\u001b[0m\n",
      "\u001b[1;32mD:\\Program_Files\\anaconda3\\lib\\site-packages\\sklearn\\decomposition\\_kernel_pca.py\u001b[0m in \u001b[0;36mfit\u001b[1;34m(self, X, y)\u001b[0m\n\u001b[0;32m    421\u001b[0m         \u001b[0mX\u001b[0m \u001b[1;33m=\u001b[0m \u001b[0mself\u001b[0m\u001b[1;33m.\u001b[0m\u001b[0m_validate_data\u001b[0m\u001b[1;33m(\u001b[0m\u001b[0mX\u001b[0m\u001b[1;33m,\u001b[0m \u001b[0maccept_sparse\u001b[0m\u001b[1;33m=\u001b[0m\u001b[1;34m\"csr\"\u001b[0m\u001b[1;33m,\u001b[0m \u001b[0mcopy\u001b[0m\u001b[1;33m=\u001b[0m\u001b[0mself\u001b[0m\u001b[1;33m.\u001b[0m\u001b[0mcopy_X\u001b[0m\u001b[1;33m)\u001b[0m\u001b[1;33m\u001b[0m\u001b[1;33m\u001b[0m\u001b[0m\n\u001b[0;32m    422\u001b[0m         \u001b[0mself\u001b[0m\u001b[1;33m.\u001b[0m\u001b[0m_centerer\u001b[0m \u001b[1;33m=\u001b[0m \u001b[0mKernelCenterer\u001b[0m\u001b[1;33m(\u001b[0m\u001b[1;33m)\u001b[0m\u001b[1;33m\u001b[0m\u001b[1;33m\u001b[0m\u001b[0m\n\u001b[1;32m--> 423\u001b[1;33m         \u001b[0mK\u001b[0m \u001b[1;33m=\u001b[0m \u001b[0mself\u001b[0m\u001b[1;33m.\u001b[0m\u001b[0m_get_kernel\u001b[0m\u001b[1;33m(\u001b[0m\u001b[0mX\u001b[0m\u001b[1;33m)\u001b[0m\u001b[1;33m\u001b[0m\u001b[1;33m\u001b[0m\u001b[0m\n\u001b[0m\u001b[0;32m    424\u001b[0m         \u001b[0mself\u001b[0m\u001b[1;33m.\u001b[0m\u001b[0m_fit_transform\u001b[0m\u001b[1;33m(\u001b[0m\u001b[0mK\u001b[0m\u001b[1;33m)\u001b[0m\u001b[1;33m\u001b[0m\u001b[1;33m\u001b[0m\u001b[0m\n\u001b[0;32m    425\u001b[0m \u001b[1;33m\u001b[0m\u001b[0m\n",
      "\u001b[1;32mD:\\Program_Files\\anaconda3\\lib\\site-packages\\sklearn\\decomposition\\_kernel_pca.py\u001b[0m in \u001b[0;36m_get_kernel\u001b[1;34m(self, X, Y)\u001b[0m\n\u001b[0;32m    300\u001b[0m         \u001b[1;32melse\u001b[0m\u001b[1;33m:\u001b[0m\u001b[1;33m\u001b[0m\u001b[1;33m\u001b[0m\u001b[0m\n\u001b[0;32m    301\u001b[0m             \u001b[0mparams\u001b[0m \u001b[1;33m=\u001b[0m \u001b[1;33m{\u001b[0m\u001b[1;34m\"gamma\"\u001b[0m\u001b[1;33m:\u001b[0m \u001b[0mself\u001b[0m\u001b[1;33m.\u001b[0m\u001b[0mgamma\u001b[0m\u001b[1;33m,\u001b[0m \u001b[1;34m\"degree\"\u001b[0m\u001b[1;33m:\u001b[0m \u001b[0mself\u001b[0m\u001b[1;33m.\u001b[0m\u001b[0mdegree\u001b[0m\u001b[1;33m,\u001b[0m \u001b[1;34m\"coef0\"\u001b[0m\u001b[1;33m:\u001b[0m \u001b[0mself\u001b[0m\u001b[1;33m.\u001b[0m\u001b[0mcoef0\u001b[0m\u001b[1;33m}\u001b[0m\u001b[1;33m\u001b[0m\u001b[1;33m\u001b[0m\u001b[0m\n\u001b[1;32m--> 302\u001b[1;33m         return pairwise_kernels(\n\u001b[0m\u001b[0;32m    303\u001b[0m             \u001b[0mX\u001b[0m\u001b[1;33m,\u001b[0m \u001b[0mY\u001b[0m\u001b[1;33m,\u001b[0m \u001b[0mmetric\u001b[0m\u001b[1;33m=\u001b[0m\u001b[0mself\u001b[0m\u001b[1;33m.\u001b[0m\u001b[0mkernel\u001b[0m\u001b[1;33m,\u001b[0m \u001b[0mfilter_params\u001b[0m\u001b[1;33m=\u001b[0m\u001b[1;32mTrue\u001b[0m\u001b[1;33m,\u001b[0m \u001b[0mn_jobs\u001b[0m\u001b[1;33m=\u001b[0m\u001b[0mself\u001b[0m\u001b[1;33m.\u001b[0m\u001b[0mn_jobs\u001b[0m\u001b[1;33m,\u001b[0m \u001b[1;33m**\u001b[0m\u001b[0mparams\u001b[0m\u001b[1;33m\u001b[0m\u001b[1;33m\u001b[0m\u001b[0m\n\u001b[0;32m    304\u001b[0m         )\n",
      "\u001b[1;32mD:\\Program_Files\\anaconda3\\lib\\site-packages\\sklearn\\metrics\\pairwise.py\u001b[0m in \u001b[0;36mpairwise_kernels\u001b[1;34m(X, Y, metric, filter_params, n_jobs, **kwds)\u001b[0m\n\u001b[0;32m   2046\u001b[0m         \u001b[1;32mraise\u001b[0m \u001b[0mValueError\u001b[0m\u001b[1;33m(\u001b[0m\u001b[1;34m\"Unknown kernel %r\"\u001b[0m \u001b[1;33m%\u001b[0m \u001b[0mmetric\u001b[0m\u001b[1;33m)\u001b[0m\u001b[1;33m\u001b[0m\u001b[1;33m\u001b[0m\u001b[0m\n\u001b[0;32m   2047\u001b[0m \u001b[1;33m\u001b[0m\u001b[0m\n\u001b[1;32m-> 2048\u001b[1;33m     \u001b[1;32mreturn\u001b[0m \u001b[0m_parallel_pairwise\u001b[0m\u001b[1;33m(\u001b[0m\u001b[0mX\u001b[0m\u001b[1;33m,\u001b[0m \u001b[0mY\u001b[0m\u001b[1;33m,\u001b[0m \u001b[0mfunc\u001b[0m\u001b[1;33m,\u001b[0m \u001b[0mn_jobs\u001b[0m\u001b[1;33m,\u001b[0m \u001b[1;33m**\u001b[0m\u001b[0mkwds\u001b[0m\u001b[1;33m)\u001b[0m\u001b[1;33m\u001b[0m\u001b[1;33m\u001b[0m\u001b[0m\n\u001b[0m",
      "\u001b[1;32mD:\\Program_Files\\anaconda3\\lib\\site-packages\\sklearn\\metrics\\pairwise.py\u001b[0m in \u001b[0;36m_parallel_pairwise\u001b[1;34m(X, Y, func, n_jobs, **kwds)\u001b[0m\n\u001b[0;32m   1428\u001b[0m     \u001b[0mfd\u001b[0m \u001b[1;33m=\u001b[0m \u001b[0mdelayed\u001b[0m\u001b[1;33m(\u001b[0m\u001b[0m_dist_wrapper\u001b[0m\u001b[1;33m)\u001b[0m\u001b[1;33m\u001b[0m\u001b[1;33m\u001b[0m\u001b[0m\n\u001b[0;32m   1429\u001b[0m     \u001b[0mret\u001b[0m \u001b[1;33m=\u001b[0m \u001b[0mnp\u001b[0m\u001b[1;33m.\u001b[0m\u001b[0mempty\u001b[0m\u001b[1;33m(\u001b[0m\u001b[1;33m(\u001b[0m\u001b[0mX\u001b[0m\u001b[1;33m.\u001b[0m\u001b[0mshape\u001b[0m\u001b[1;33m[\u001b[0m\u001b[1;36m0\u001b[0m\u001b[1;33m]\u001b[0m\u001b[1;33m,\u001b[0m \u001b[0mY\u001b[0m\u001b[1;33m.\u001b[0m\u001b[0mshape\u001b[0m\u001b[1;33m[\u001b[0m\u001b[1;36m0\u001b[0m\u001b[1;33m]\u001b[0m\u001b[1;33m)\u001b[0m\u001b[1;33m,\u001b[0m \u001b[0mdtype\u001b[0m\u001b[1;33m=\u001b[0m\u001b[0mdtype\u001b[0m\u001b[1;33m,\u001b[0m \u001b[0morder\u001b[0m\u001b[1;33m=\u001b[0m\u001b[1;34m\"F\"\u001b[0m\u001b[1;33m)\u001b[0m\u001b[1;33m\u001b[0m\u001b[1;33m\u001b[0m\u001b[0m\n\u001b[1;32m-> 1430\u001b[1;33m     Parallel(backend=\"threading\", n_jobs=n_jobs)(\n\u001b[0m\u001b[0;32m   1431\u001b[0m         \u001b[0mfd\u001b[0m\u001b[1;33m(\u001b[0m\u001b[0mfunc\u001b[0m\u001b[1;33m,\u001b[0m \u001b[0mret\u001b[0m\u001b[1;33m,\u001b[0m \u001b[0ms\u001b[0m\u001b[1;33m,\u001b[0m \u001b[0mX\u001b[0m\u001b[1;33m,\u001b[0m \u001b[0mY\u001b[0m\u001b[1;33m[\u001b[0m\u001b[0ms\u001b[0m\u001b[1;33m]\u001b[0m\u001b[1;33m,\u001b[0m \u001b[1;33m**\u001b[0m\u001b[0mkwds\u001b[0m\u001b[1;33m)\u001b[0m\u001b[1;33m\u001b[0m\u001b[1;33m\u001b[0m\u001b[0m\n\u001b[0;32m   1432\u001b[0m         \u001b[1;32mfor\u001b[0m \u001b[0ms\u001b[0m \u001b[1;32min\u001b[0m \u001b[0mgen_even_slices\u001b[0m\u001b[1;33m(\u001b[0m\u001b[0m_num_samples\u001b[0m\u001b[1;33m(\u001b[0m\u001b[0mY\u001b[0m\u001b[1;33m)\u001b[0m\u001b[1;33m,\u001b[0m \u001b[0meffective_n_jobs\u001b[0m\u001b[1;33m(\u001b[0m\u001b[0mn_jobs\u001b[0m\u001b[1;33m)\u001b[0m\u001b[1;33m)\u001b[0m\u001b[1;33m\u001b[0m\u001b[1;33m\u001b[0m\u001b[0m\n",
      "\u001b[1;32mD:\\Program_Files\\anaconda3\\lib\\site-packages\\joblib\\parallel.py\u001b[0m in \u001b[0;36m__call__\u001b[1;34m(self, iterable)\u001b[0m\n\u001b[0;32m   1054\u001b[0m \u001b[1;33m\u001b[0m\u001b[0m\n\u001b[0;32m   1055\u001b[0m             \u001b[1;32mwith\u001b[0m \u001b[0mself\u001b[0m\u001b[1;33m.\u001b[0m\u001b[0m_backend\u001b[0m\u001b[1;33m.\u001b[0m\u001b[0mretrieval_context\u001b[0m\u001b[1;33m(\u001b[0m\u001b[1;33m)\u001b[0m\u001b[1;33m:\u001b[0m\u001b[1;33m\u001b[0m\u001b[1;33m\u001b[0m\u001b[0m\n\u001b[1;32m-> 1056\u001b[1;33m                 \u001b[0mself\u001b[0m\u001b[1;33m.\u001b[0m\u001b[0mretrieve\u001b[0m\u001b[1;33m(\u001b[0m\u001b[1;33m)\u001b[0m\u001b[1;33m\u001b[0m\u001b[1;33m\u001b[0m\u001b[0m\n\u001b[0m\u001b[0;32m   1057\u001b[0m             \u001b[1;31m# Make sure that we get a last message telling us we are done\u001b[0m\u001b[1;33m\u001b[0m\u001b[1;33m\u001b[0m\u001b[0m\n\u001b[0;32m   1058\u001b[0m             \u001b[0melapsed_time\u001b[0m \u001b[1;33m=\u001b[0m \u001b[0mtime\u001b[0m\u001b[1;33m.\u001b[0m\u001b[0mtime\u001b[0m\u001b[1;33m(\u001b[0m\u001b[1;33m)\u001b[0m \u001b[1;33m-\u001b[0m \u001b[0mself\u001b[0m\u001b[1;33m.\u001b[0m\u001b[0m_start_time\u001b[0m\u001b[1;33m\u001b[0m\u001b[1;33m\u001b[0m\u001b[0m\n",
      "\u001b[1;32mD:\\Program_Files\\anaconda3\\lib\\site-packages\\joblib\\parallel.py\u001b[0m in \u001b[0;36mretrieve\u001b[1;34m(self)\u001b[0m\n\u001b[0;32m    933\u001b[0m             \u001b[1;32mtry\u001b[0m\u001b[1;33m:\u001b[0m\u001b[1;33m\u001b[0m\u001b[1;33m\u001b[0m\u001b[0m\n\u001b[0;32m    934\u001b[0m                 \u001b[1;32mif\u001b[0m \u001b[0mgetattr\u001b[0m\u001b[1;33m(\u001b[0m\u001b[0mself\u001b[0m\u001b[1;33m.\u001b[0m\u001b[0m_backend\u001b[0m\u001b[1;33m,\u001b[0m \u001b[1;34m'supports_timeout'\u001b[0m\u001b[1;33m,\u001b[0m \u001b[1;32mFalse\u001b[0m\u001b[1;33m)\u001b[0m\u001b[1;33m:\u001b[0m\u001b[1;33m\u001b[0m\u001b[1;33m\u001b[0m\u001b[0m\n\u001b[1;32m--> 935\u001b[1;33m                     \u001b[0mself\u001b[0m\u001b[1;33m.\u001b[0m\u001b[0m_output\u001b[0m\u001b[1;33m.\u001b[0m\u001b[0mextend\u001b[0m\u001b[1;33m(\u001b[0m\u001b[0mjob\u001b[0m\u001b[1;33m.\u001b[0m\u001b[0mget\u001b[0m\u001b[1;33m(\u001b[0m\u001b[0mtimeout\u001b[0m\u001b[1;33m=\u001b[0m\u001b[0mself\u001b[0m\u001b[1;33m.\u001b[0m\u001b[0mtimeout\u001b[0m\u001b[1;33m)\u001b[0m\u001b[1;33m)\u001b[0m\u001b[1;33m\u001b[0m\u001b[1;33m\u001b[0m\u001b[0m\n\u001b[0m\u001b[0;32m    936\u001b[0m                 \u001b[1;32melse\u001b[0m\u001b[1;33m:\u001b[0m\u001b[1;33m\u001b[0m\u001b[1;33m\u001b[0m\u001b[0m\n\u001b[0;32m    937\u001b[0m                     \u001b[0mself\u001b[0m\u001b[1;33m.\u001b[0m\u001b[0m_output\u001b[0m\u001b[1;33m.\u001b[0m\u001b[0mextend\u001b[0m\u001b[1;33m(\u001b[0m\u001b[0mjob\u001b[0m\u001b[1;33m.\u001b[0m\u001b[0mget\u001b[0m\u001b[1;33m(\u001b[0m\u001b[1;33m)\u001b[0m\u001b[1;33m)\u001b[0m\u001b[1;33m\u001b[0m\u001b[1;33m\u001b[0m\u001b[0m\n",
      "\u001b[1;32mD:\\Program_Files\\anaconda3\\lib\\multiprocessing\\pool.py\u001b[0m in \u001b[0;36mget\u001b[1;34m(self, timeout)\u001b[0m\n\u001b[0;32m    769\u001b[0m             \u001b[1;32mreturn\u001b[0m \u001b[0mself\u001b[0m\u001b[1;33m.\u001b[0m\u001b[0m_value\u001b[0m\u001b[1;33m\u001b[0m\u001b[1;33m\u001b[0m\u001b[0m\n\u001b[0;32m    770\u001b[0m         \u001b[1;32melse\u001b[0m\u001b[1;33m:\u001b[0m\u001b[1;33m\u001b[0m\u001b[1;33m\u001b[0m\u001b[0m\n\u001b[1;32m--> 771\u001b[1;33m             \u001b[1;32mraise\u001b[0m \u001b[0mself\u001b[0m\u001b[1;33m.\u001b[0m\u001b[0m_value\u001b[0m\u001b[1;33m\u001b[0m\u001b[1;33m\u001b[0m\u001b[0m\n\u001b[0m\u001b[0;32m    772\u001b[0m \u001b[1;33m\u001b[0m\u001b[0m\n\u001b[0;32m    773\u001b[0m     \u001b[1;32mdef\u001b[0m \u001b[0m_set\u001b[0m\u001b[1;33m(\u001b[0m\u001b[0mself\u001b[0m\u001b[1;33m,\u001b[0m \u001b[0mi\u001b[0m\u001b[1;33m,\u001b[0m \u001b[0mobj\u001b[0m\u001b[1;33m)\u001b[0m\u001b[1;33m:\u001b[0m\u001b[1;33m\u001b[0m\u001b[1;33m\u001b[0m\u001b[0m\n",
      "\u001b[1;32mD:\\Program_Files\\anaconda3\\lib\\multiprocessing\\pool.py\u001b[0m in \u001b[0;36mworker\u001b[1;34m(inqueue, outqueue, initializer, initargs, maxtasks, wrap_exception)\u001b[0m\n\u001b[0;32m    123\u001b[0m         \u001b[0mjob\u001b[0m\u001b[1;33m,\u001b[0m \u001b[0mi\u001b[0m\u001b[1;33m,\u001b[0m \u001b[0mfunc\u001b[0m\u001b[1;33m,\u001b[0m \u001b[0margs\u001b[0m\u001b[1;33m,\u001b[0m \u001b[0mkwds\u001b[0m \u001b[1;33m=\u001b[0m \u001b[0mtask\u001b[0m\u001b[1;33m\u001b[0m\u001b[1;33m\u001b[0m\u001b[0m\n\u001b[0;32m    124\u001b[0m         \u001b[1;32mtry\u001b[0m\u001b[1;33m:\u001b[0m\u001b[1;33m\u001b[0m\u001b[1;33m\u001b[0m\u001b[0m\n\u001b[1;32m--> 125\u001b[1;33m             \u001b[0mresult\u001b[0m \u001b[1;33m=\u001b[0m \u001b[1;33m(\u001b[0m\u001b[1;32mTrue\u001b[0m\u001b[1;33m,\u001b[0m \u001b[0mfunc\u001b[0m\u001b[1;33m(\u001b[0m\u001b[1;33m*\u001b[0m\u001b[0margs\u001b[0m\u001b[1;33m,\u001b[0m \u001b[1;33m**\u001b[0m\u001b[0mkwds\u001b[0m\u001b[1;33m)\u001b[0m\u001b[1;33m)\u001b[0m\u001b[1;33m\u001b[0m\u001b[1;33m\u001b[0m\u001b[0m\n\u001b[0m\u001b[0;32m    126\u001b[0m         \u001b[1;32mexcept\u001b[0m \u001b[0mException\u001b[0m \u001b[1;32mas\u001b[0m \u001b[0me\u001b[0m\u001b[1;33m:\u001b[0m\u001b[1;33m\u001b[0m\u001b[1;33m\u001b[0m\u001b[0m\n\u001b[0;32m    127\u001b[0m             \u001b[1;32mif\u001b[0m \u001b[0mwrap_exception\u001b[0m \u001b[1;32mand\u001b[0m \u001b[0mfunc\u001b[0m \u001b[1;32mis\u001b[0m \u001b[1;32mnot\u001b[0m \u001b[0m_helper_reraises_exception\u001b[0m\u001b[1;33m:\u001b[0m\u001b[1;33m\u001b[0m\u001b[1;33m\u001b[0m\u001b[0m\n",
      "\u001b[1;32mD:\\Program_Files\\anaconda3\\lib\\site-packages\\joblib\\_parallel_backends.py\u001b[0m in \u001b[0;36m__call__\u001b[1;34m(self, *args, **kwargs)\u001b[0m\n\u001b[0;32m    593\u001b[0m     \u001b[1;32mdef\u001b[0m \u001b[0m__call__\u001b[0m\u001b[1;33m(\u001b[0m\u001b[0mself\u001b[0m\u001b[1;33m,\u001b[0m \u001b[1;33m*\u001b[0m\u001b[0margs\u001b[0m\u001b[1;33m,\u001b[0m \u001b[1;33m**\u001b[0m\u001b[0mkwargs\u001b[0m\u001b[1;33m)\u001b[0m\u001b[1;33m:\u001b[0m\u001b[1;33m\u001b[0m\u001b[1;33m\u001b[0m\u001b[0m\n\u001b[0;32m    594\u001b[0m         \u001b[1;32mtry\u001b[0m\u001b[1;33m:\u001b[0m\u001b[1;33m\u001b[0m\u001b[1;33m\u001b[0m\u001b[0m\n\u001b[1;32m--> 595\u001b[1;33m             \u001b[1;32mreturn\u001b[0m \u001b[0mself\u001b[0m\u001b[1;33m.\u001b[0m\u001b[0mfunc\u001b[0m\u001b[1;33m(\u001b[0m\u001b[1;33m*\u001b[0m\u001b[0margs\u001b[0m\u001b[1;33m,\u001b[0m \u001b[1;33m**\u001b[0m\u001b[0mkwargs\u001b[0m\u001b[1;33m)\u001b[0m\u001b[1;33m\u001b[0m\u001b[1;33m\u001b[0m\u001b[0m\n\u001b[0m\u001b[0;32m    596\u001b[0m         \u001b[1;32mexcept\u001b[0m \u001b[0mKeyboardInterrupt\u001b[0m \u001b[1;32mas\u001b[0m \u001b[0me\u001b[0m\u001b[1;33m:\u001b[0m\u001b[1;33m\u001b[0m\u001b[1;33m\u001b[0m\u001b[0m\n\u001b[0;32m    597\u001b[0m             \u001b[1;31m# We capture the KeyboardInterrupt and reraise it as\u001b[0m\u001b[1;33m\u001b[0m\u001b[1;33m\u001b[0m\u001b[0m\n",
      "\u001b[1;32mD:\\Program_Files\\anaconda3\\lib\\site-packages\\joblib\\parallel.py\u001b[0m in \u001b[0;36m__call__\u001b[1;34m(self)\u001b[0m\n\u001b[0;32m    260\u001b[0m         \u001b[1;31m# change the default number of processes to -1\u001b[0m\u001b[1;33m\u001b[0m\u001b[1;33m\u001b[0m\u001b[0m\n\u001b[0;32m    261\u001b[0m         \u001b[1;32mwith\u001b[0m \u001b[0mparallel_backend\u001b[0m\u001b[1;33m(\u001b[0m\u001b[0mself\u001b[0m\u001b[1;33m.\u001b[0m\u001b[0m_backend\u001b[0m\u001b[1;33m,\u001b[0m \u001b[0mn_jobs\u001b[0m\u001b[1;33m=\u001b[0m\u001b[0mself\u001b[0m\u001b[1;33m.\u001b[0m\u001b[0m_n_jobs\u001b[0m\u001b[1;33m)\u001b[0m\u001b[1;33m:\u001b[0m\u001b[1;33m\u001b[0m\u001b[1;33m\u001b[0m\u001b[0m\n\u001b[1;32m--> 262\u001b[1;33m             return [func(*args, **kwargs)\n\u001b[0m\u001b[0;32m    263\u001b[0m                     for func, args, kwargs in self.items]\n\u001b[0;32m    264\u001b[0m \u001b[1;33m\u001b[0m\u001b[0m\n",
      "\u001b[1;32mD:\\Program_Files\\anaconda3\\lib\\site-packages\\joblib\\parallel.py\u001b[0m in \u001b[0;36m<listcomp>\u001b[1;34m(.0)\u001b[0m\n\u001b[0;32m    260\u001b[0m         \u001b[1;31m# change the default number of processes to -1\u001b[0m\u001b[1;33m\u001b[0m\u001b[1;33m\u001b[0m\u001b[0m\n\u001b[0;32m    261\u001b[0m         \u001b[1;32mwith\u001b[0m \u001b[0mparallel_backend\u001b[0m\u001b[1;33m(\u001b[0m\u001b[0mself\u001b[0m\u001b[1;33m.\u001b[0m\u001b[0m_backend\u001b[0m\u001b[1;33m,\u001b[0m \u001b[0mn_jobs\u001b[0m\u001b[1;33m=\u001b[0m\u001b[0mself\u001b[0m\u001b[1;33m.\u001b[0m\u001b[0m_n_jobs\u001b[0m\u001b[1;33m)\u001b[0m\u001b[1;33m:\u001b[0m\u001b[1;33m\u001b[0m\u001b[1;33m\u001b[0m\u001b[0m\n\u001b[1;32m--> 262\u001b[1;33m             return [func(*args, **kwargs)\n\u001b[0m\u001b[0;32m    263\u001b[0m                     for func, args, kwargs in self.items]\n\u001b[0;32m    264\u001b[0m \u001b[1;33m\u001b[0m\u001b[0m\n",
      "\u001b[1;32mD:\\Program_Files\\anaconda3\\lib\\site-packages\\sklearn\\utils\\fixes.py\u001b[0m in \u001b[0;36m__call__\u001b[1;34m(self, *args, **kwargs)\u001b[0m\n\u001b[0;32m    209\u001b[0m     \u001b[1;32mdef\u001b[0m \u001b[0m__call__\u001b[0m\u001b[1;33m(\u001b[0m\u001b[0mself\u001b[0m\u001b[1;33m,\u001b[0m \u001b[1;33m*\u001b[0m\u001b[0margs\u001b[0m\u001b[1;33m,\u001b[0m \u001b[1;33m**\u001b[0m\u001b[0mkwargs\u001b[0m\u001b[1;33m)\u001b[0m\u001b[1;33m:\u001b[0m\u001b[1;33m\u001b[0m\u001b[1;33m\u001b[0m\u001b[0m\n\u001b[0;32m    210\u001b[0m         \u001b[1;32mwith\u001b[0m \u001b[0mconfig_context\u001b[0m\u001b[1;33m(\u001b[0m\u001b[1;33m**\u001b[0m\u001b[0mself\u001b[0m\u001b[1;33m.\u001b[0m\u001b[0mconfig\u001b[0m\u001b[1;33m)\u001b[0m\u001b[1;33m:\u001b[0m\u001b[1;33m\u001b[0m\u001b[1;33m\u001b[0m\u001b[0m\n\u001b[1;32m--> 211\u001b[1;33m             \u001b[1;32mreturn\u001b[0m \u001b[0mself\u001b[0m\u001b[1;33m.\u001b[0m\u001b[0mfunction\u001b[0m\u001b[1;33m(\u001b[0m\u001b[1;33m*\u001b[0m\u001b[0margs\u001b[0m\u001b[1;33m,\u001b[0m \u001b[1;33m**\u001b[0m\u001b[0mkwargs\u001b[0m\u001b[1;33m)\u001b[0m\u001b[1;33m\u001b[0m\u001b[1;33m\u001b[0m\u001b[0m\n\u001b[0m\u001b[0;32m    212\u001b[0m \u001b[1;33m\u001b[0m\u001b[0m\n\u001b[0;32m    213\u001b[0m \u001b[1;33m\u001b[0m\u001b[0m\n",
      "\u001b[1;32mD:\\Program_Files\\anaconda3\\lib\\site-packages\\sklearn\\metrics\\pairwise.py\u001b[0m in \u001b[0;36m_dist_wrapper\u001b[1;34m(dist_func, dist_matrix, slice_, *args, **kwargs)\u001b[0m\n\u001b[0;32m   1411\u001b[0m \u001b[1;32mdef\u001b[0m \u001b[0m_dist_wrapper\u001b[0m\u001b[1;33m(\u001b[0m\u001b[0mdist_func\u001b[0m\u001b[1;33m,\u001b[0m \u001b[0mdist_matrix\u001b[0m\u001b[1;33m,\u001b[0m \u001b[0mslice_\u001b[0m\u001b[1;33m,\u001b[0m \u001b[1;33m*\u001b[0m\u001b[0margs\u001b[0m\u001b[1;33m,\u001b[0m \u001b[1;33m**\u001b[0m\u001b[0mkwargs\u001b[0m\u001b[1;33m)\u001b[0m\u001b[1;33m:\u001b[0m\u001b[1;33m\u001b[0m\u001b[1;33m\u001b[0m\u001b[0m\n\u001b[0;32m   1412\u001b[0m     \u001b[1;34m\"\"\"Write in-place to a slice of a distance matrix.\"\"\"\u001b[0m\u001b[1;33m\u001b[0m\u001b[1;33m\u001b[0m\u001b[0m\n\u001b[1;32m-> 1413\u001b[1;33m     \u001b[0mdist_matrix\u001b[0m\u001b[1;33m[\u001b[0m\u001b[1;33m:\u001b[0m\u001b[1;33m,\u001b[0m \u001b[0mslice_\u001b[0m\u001b[1;33m]\u001b[0m \u001b[1;33m=\u001b[0m \u001b[0mdist_func\u001b[0m\u001b[1;33m(\u001b[0m\u001b[1;33m*\u001b[0m\u001b[0margs\u001b[0m\u001b[1;33m,\u001b[0m \u001b[1;33m**\u001b[0m\u001b[0mkwargs\u001b[0m\u001b[1;33m)\u001b[0m\u001b[1;33m\u001b[0m\u001b[1;33m\u001b[0m\u001b[0m\n\u001b[0m\u001b[0;32m   1414\u001b[0m \u001b[1;33m\u001b[0m\u001b[0m\n\u001b[0;32m   1415\u001b[0m \u001b[1;33m\u001b[0m\u001b[0m\n",
      "\u001b[1;32mD:\\Program_Files\\anaconda3\\lib\\site-packages\\sklearn\\metrics\\pairwise.py\u001b[0m in \u001b[0;36mrbf_kernel\u001b[1;34m(X, Y, gamma)\u001b[0m\n\u001b[0;32m   1168\u001b[0m         \u001b[0mgamma\u001b[0m \u001b[1;33m=\u001b[0m \u001b[1;36m1.0\u001b[0m \u001b[1;33m/\u001b[0m \u001b[0mX\u001b[0m\u001b[1;33m.\u001b[0m\u001b[0mshape\u001b[0m\u001b[1;33m[\u001b[0m\u001b[1;36m1\u001b[0m\u001b[1;33m]\u001b[0m\u001b[1;33m\u001b[0m\u001b[1;33m\u001b[0m\u001b[0m\n\u001b[0;32m   1169\u001b[0m \u001b[1;33m\u001b[0m\u001b[0m\n\u001b[1;32m-> 1170\u001b[1;33m     \u001b[0mK\u001b[0m \u001b[1;33m=\u001b[0m \u001b[0meuclidean_distances\u001b[0m\u001b[1;33m(\u001b[0m\u001b[0mX\u001b[0m\u001b[1;33m,\u001b[0m \u001b[0mY\u001b[0m\u001b[1;33m,\u001b[0m \u001b[0msquared\u001b[0m\u001b[1;33m=\u001b[0m\u001b[1;32mTrue\u001b[0m\u001b[1;33m)\u001b[0m\u001b[1;33m\u001b[0m\u001b[1;33m\u001b[0m\u001b[0m\n\u001b[0m\u001b[0;32m   1171\u001b[0m     \u001b[0mK\u001b[0m \u001b[1;33m*=\u001b[0m \u001b[1;33m-\u001b[0m\u001b[0mgamma\u001b[0m\u001b[1;33m\u001b[0m\u001b[1;33m\u001b[0m\u001b[0m\n\u001b[0;32m   1172\u001b[0m     \u001b[0mnp\u001b[0m\u001b[1;33m.\u001b[0m\u001b[0mexp\u001b[0m\u001b[1;33m(\u001b[0m\u001b[0mK\u001b[0m\u001b[1;33m,\u001b[0m \u001b[0mK\u001b[0m\u001b[1;33m)\u001b[0m  \u001b[1;31m# exponentiate K in-place\u001b[0m\u001b[1;33m\u001b[0m\u001b[1;33m\u001b[0m\u001b[0m\n",
      "\u001b[1;32mD:\\Program_Files\\anaconda3\\lib\\site-packages\\sklearn\\metrics\\pairwise.py\u001b[0m in \u001b[0;36meuclidean_distances\u001b[1;34m(X, Y, Y_norm_squared, squared, X_norm_squared)\u001b[0m\n\u001b[0;32m    325\u001b[0m             )\n\u001b[0;32m    326\u001b[0m \u001b[1;33m\u001b[0m\u001b[0m\n\u001b[1;32m--> 327\u001b[1;33m     \u001b[1;32mreturn\u001b[0m \u001b[0m_euclidean_distances\u001b[0m\u001b[1;33m(\u001b[0m\u001b[0mX\u001b[0m\u001b[1;33m,\u001b[0m \u001b[0mY\u001b[0m\u001b[1;33m,\u001b[0m \u001b[0mX_norm_squared\u001b[0m\u001b[1;33m,\u001b[0m \u001b[0mY_norm_squared\u001b[0m\u001b[1;33m,\u001b[0m \u001b[0msquared\u001b[0m\u001b[1;33m)\u001b[0m\u001b[1;33m\u001b[0m\u001b[1;33m\u001b[0m\u001b[0m\n\u001b[0m\u001b[0;32m    328\u001b[0m \u001b[1;33m\u001b[0m\u001b[0m\n\u001b[0;32m    329\u001b[0m \u001b[1;33m\u001b[0m\u001b[0m\n",
      "\u001b[1;32mD:\\Program_Files\\anaconda3\\lib\\site-packages\\sklearn\\metrics\\pairwise.py\u001b[0m in \u001b[0;36m_euclidean_distances\u001b[1;34m(X, Y, X_norm_squared, Y_norm_squared, squared)\u001b[0m\n\u001b[0;32m    366\u001b[0m     \u001b[1;32melse\u001b[0m\u001b[1;33m:\u001b[0m\u001b[1;33m\u001b[0m\u001b[1;33m\u001b[0m\u001b[0m\n\u001b[0;32m    367\u001b[0m         \u001b[1;31m# if dtype is already float64, no need to chunk and upcast\u001b[0m\u001b[1;33m\u001b[0m\u001b[1;33m\u001b[0m\u001b[0m\n\u001b[1;32m--> 368\u001b[1;33m         \u001b[0mdistances\u001b[0m \u001b[1;33m=\u001b[0m \u001b[1;33m-\u001b[0m\u001b[1;36m2\u001b[0m \u001b[1;33m*\u001b[0m \u001b[0msafe_sparse_dot\u001b[0m\u001b[1;33m(\u001b[0m\u001b[0mX\u001b[0m\u001b[1;33m,\u001b[0m \u001b[0mY\u001b[0m\u001b[1;33m.\u001b[0m\u001b[0mT\u001b[0m\u001b[1;33m,\u001b[0m \u001b[0mdense_output\u001b[0m\u001b[1;33m=\u001b[0m\u001b[1;32mTrue\u001b[0m\u001b[1;33m)\u001b[0m\u001b[1;33m\u001b[0m\u001b[1;33m\u001b[0m\u001b[0m\n\u001b[0m\u001b[0;32m    369\u001b[0m         \u001b[0mdistances\u001b[0m \u001b[1;33m+=\u001b[0m \u001b[0mXX\u001b[0m\u001b[1;33m\u001b[0m\u001b[1;33m\u001b[0m\u001b[0m\n\u001b[0;32m    370\u001b[0m         \u001b[0mdistances\u001b[0m \u001b[1;33m+=\u001b[0m \u001b[0mYY\u001b[0m\u001b[1;33m\u001b[0m\u001b[1;33m\u001b[0m\u001b[0m\n",
      "\u001b[1;31mMemoryError\u001b[0m: Unable to allocate 2.20 GiB for an array with shape (84188, 3508) and data type float64"
     ]
    }
   ],
   "source": [
    "#커널 PCA\n",
    "from sklearn.decomposition import KernelPCA\n",
    "\n",
    "from sklearn.discriminant_analysis import LinearDiscriminantAnalysis\n",
    "from sklearn.preprocessing import StandardScaler\n",
    "from sklearn.datasets import load_iris\n",
    "import pandas as pd\n",
    "import matplotlib.pyplot as plt\n",
    "\n",
    "from sklearn.model_selection import train_test_split\n",
    "X, y = drop_data.iloc[:, 1:], drop_data.iloc[:, 0].values\n",
    "X_train, X_test, y_train, y_test = train_test_split(X, y, test_size=0.3, \n",
    "                                                    stratify=y,\n",
    "                                                    random_state=0)\n",
    "\n",
    "# 데이터 정규 스케일링\n",
    "std= StandardScaler()\n",
    "X_train_scaled = std.fit_transform(X_train)\n",
    "X_test_scaled = std.transform(X_test)\n",
    "\n",
    "scikit_kpca = KernelPCA(n_components=2,\n",
    "                       kernel='rbf',\n",
    "                       gamma=15,\n",
    "                        n_jobs=-1\n",
    "                       )\n",
    "X_skernpca = scikit_kpca.fit_transform(X_train_scaled)\n",
    "\n",
    "plt.scatter(X_skernpca[y==0, 0], X_sklernpca[y==0, 1],\n",
    "           color = 'red', marker='^', alpha=0.5)\n",
    "plt.scatter(X_skernpca[y==1, 0], X_sklernpca[y==1, 1],\n",
    "           color = 'blue', marker='o', alpha=0.5)\n",
    "\n",
    "plt.xlabel('PC1')\n",
    "plt.ylabel('PC2')\n",
    "plt.tight_layout()\n",
    "plt.show()\n",
    "\n",
    "#메모리 에러나서 못함"
   ]
  },
  {
   "cell_type": "code",
   "execution_count": 168,
   "id": "4790c6ec",
   "metadata": {
    "ExecuteTime": {
     "end_time": "2021-11-24T06:54:43.382223Z",
     "start_time": "2021-11-24T06:54:43.366236Z"
    }
   },
   "outputs": [],
   "source": [
    "#매니폴드 학습\n",
    "#비선형 차원축소\n",
    "\n",
    "#그래프 함수\n",
    "def plot_manifold(X, y):\n",
    "    plt.scatter(X[y==0, 0], X[y==0, 1],\n",
    "               color='red', marker='^', alpha=0.5)\n",
    "    plt.scatter(X[y==1, 0], X[y==1, 1],\n",
    "               color='blue', marker='o', alpha=0.5)\n",
    "    plt.xlabel('PC1')\n",
    "    plt.ylabel('PC2')\n",
    "    plt.tight_layout()\n",
    "    plt.show()"
   ]
  },
  {
   "cell_type": "code",
   "execution_count": 170,
   "id": "d78ddc42",
   "metadata": {
    "ExecuteTime": {
     "end_time": "2021-11-24T06:57:16.442986Z",
     "start_time": "2021-11-24T06:57:10.933059Z"
    }
   },
   "outputs": [
    {
     "data": {
      "image/png": "[encoded data removed]",
      "text/plain": [
       "<Figure size 432x288 with 1 Axes>"
      ]
     },
     "metadata": {
      "needs_background": "light"
     },
     "output_type": "display_data"
    }
   ],
   "source": [
    "#지역 선형 임베딩\n",
    "from sklearn.manifold import LocallyLinearEmbedding\n",
    "lie = LocallyLinearEmbedding(n_components=2, random_state=0, n_jobs=-1)\n",
    "X_lie=lie.fit_transform(X_train)\n",
    "plot_manifold(X_lie, y_train)"
   ]
  },
  {
   "cell_type": "code",
   "execution_count": 177,
   "id": "bcf2de97",
   "metadata": {
    "ExecuteTime": {
     "end_time": "2021-11-24T07:07:19.084554Z",
     "start_time": "2021-11-24T07:03:55.671134Z"
    },
    "scrolled": true
   },
   "outputs": [
    {
     "name": "stderr",
     "output_type": "stream",
     "text": [
      "D:\\Program_Files\\anaconda3\\lib\\site-packages\\sklearn\\manifold\\_t_sne.py:780: FutureWarning: The default initialization in TSNE will change from 'random' to 'pca' in 1.2.\n",
      "  warnings.warn(\n",
      "D:\\Program_Files\\anaconda3\\lib\\site-packages\\sklearn\\manifold\\_t_sne.py:790: FutureWarning: The default learning rate in TSNE will change from 200.0 to 'auto' in 1.2.\n",
      "  warnings.warn(\n"
     ]
    },
    {
     "data": {
      "image/png": "[encoded data removed]",
      "text/plain": [
       "<Figure size 432x288 with 1 Axes>"
      ]
     },
     "metadata": {
      "needs_background": "light"
     },
     "output_type": "display_data"
    }
   ],
   "source": [
    "#TSNE\n",
    "from sklearn.manifold import TSNE\n",
    "lie = TSNE(n_components=2, random_state=0, n_jobs=-1)\n",
    "X_lie=lie.fit_transform(X_train)\n",
    "plot_manifold(X_lie, y_train)"
   ]
  },
  {
   "cell_type": "code",
   "execution_count": null,
   "id": "bef59aae",
   "metadata": {},
   "outputs": [],
   "source": [
    "#차원축소는 모두 성과가 좋지 못함"
   ]
  },
  {
   "cell_type": "markdown",
   "id": "520ad63d",
   "metadata": {},
   "source": [
    "# 트리 baseline model"
   ]
  },
  {
   "cell_type": "code",
   "execution_count": 5,
   "id": "2bc9fbd0",
   "metadata": {
    "ExecuteTime": {
     "end_time": "2021-11-24T15:02:58.511932Z",
     "start_time": "2021-11-24T15:02:58.502935Z"
    },
    "scrolled": true
   },
   "outputs": [
    {
     "name": "stdout",
     "output_type": "stream",
     "text": [
      "D:\\Program_Files\\mini_project\n"
     ]
    }
   ],
   "source": [
    "cd .."
   ]
  },
  {
   "cell_type": "code",
   "execution_count": 6,
   "id": "f913feeb",
   "metadata": {
    "ExecuteTime": {
     "end_time": "2021-11-24T15:02:59.158003Z",
     "start_time": "2021-11-24T15:02:58.866847Z"
    }
   },
   "outputs": [],
   "source": [
    "import pandas as pd\n",
    "#data=pd.read_csv('./mini_project/cs_data.csv')\n",
    "data=pd.read_csv('./cs_data.csv')\n",
    "#data=pd.read_csv('./Program_Files/mini_project/cs_data.csv')\n",
    "\n",
    "data.drop(columns='Unnamed: 0', inplace=True)\n",
    "drop_data=data.dropna()"
   ]
  },
  {
   "cell_type": "markdown",
   "id": "f26efd70",
   "metadata": {},
   "source": [
    "## !!!검증곡선"
   ]
  },
  {
   "cell_type": "code",
   "execution_count": 76,
   "id": "48cc66a5",
   "metadata": {
    "ExecuteTime": {
     "end_time": "2021-11-25T00:46:45.067133Z",
     "start_time": "2021-11-25T00:46:45.045126Z"
    }
   },
   "outputs": [
    {
     "ename": "TypeError",
     "evalue": "estimator should be an estimator implementing 'fit' method, 'model' was passed",
     "output_type": "error",
     "traceback": [
      "\u001b[1;31m---------------------------------------------------------------------------\u001b[0m",
      "\u001b[1;31mTypeError\u001b[0m                                 Traceback (most recent call last)",
      "\u001b[1;32m~\\AppData\\Local\\Temp/ipykernel_28484/101102397.py\u001b[0m in \u001b[0;36m<module>\u001b[1;34m\u001b[0m\n\u001b[0;32m      2\u001b[0m \u001b[1;32mfrom\u001b[0m \u001b[0msklearn\u001b[0m\u001b[1;33m.\u001b[0m\u001b[0mmodel_selection\u001b[0m \u001b[1;32mimport\u001b[0m \u001b[0mvalidation_curve\u001b[0m\u001b[1;33m\u001b[0m\u001b[1;33m\u001b[0m\u001b[0m\n\u001b[0;32m      3\u001b[0m \u001b[0mparam_range\u001b[0m\u001b[1;33m=\u001b[0m\u001b[1;33m[\u001b[0m\u001b[1;36m0.1\u001b[0m\u001b[1;33m,\u001b[0m\u001b[1;36m0.01\u001b[0m\u001b[1;33m,\u001b[0m\u001b[1;36m0.001\u001b[0m\u001b[1;33m,\u001b[0m\u001b[1;36m10\u001b[0m\u001b[1;33m,\u001b[0m\u001b[1;36m100\u001b[0m\u001b[1;33m]\u001b[0m\u001b[1;33m\u001b[0m\u001b[1;33m\u001b[0m\u001b[0m\n\u001b[1;32m----> 4\u001b[1;33m train_scores, test_scores = validation_curve(\n\u001b[0m\u001b[0;32m      5\u001b[0m     \u001b[0mestimator\u001b[0m \u001b[1;33m=\u001b[0m \u001b[1;34m\"model\"\u001b[0m\u001b[1;33m,\u001b[0m\u001b[1;33m\u001b[0m\u001b[1;33m\u001b[0m\u001b[0m\n\u001b[0;32m      6\u001b[0m     \u001b[0mX\u001b[0m\u001b[1;33m=\u001b[0m\u001b[0mX_train\u001b[0m\u001b[1;33m,\u001b[0m\u001b[1;33m\u001b[0m\u001b[1;33m\u001b[0m\u001b[0m\n",
      "\u001b[1;32mD:\\Program_Files\\anaconda3\\lib\\site-packages\\sklearn\\model_selection\\_validation.py\u001b[0m in \u001b[0;36mvalidation_curve\u001b[1;34m(estimator, X, y, param_name, param_range, groups, cv, scoring, n_jobs, pre_dispatch, verbose, error_score, fit_params)\u001b[0m\n\u001b[0;32m   1826\u001b[0m \u001b[1;33m\u001b[0m\u001b[0m\n\u001b[0;32m   1827\u001b[0m     \u001b[0mcv\u001b[0m \u001b[1;33m=\u001b[0m \u001b[0mcheck_cv\u001b[0m\u001b[1;33m(\u001b[0m\u001b[0mcv\u001b[0m\u001b[1;33m,\u001b[0m \u001b[0my\u001b[0m\u001b[1;33m,\u001b[0m \u001b[0mclassifier\u001b[0m\u001b[1;33m=\u001b[0m\u001b[0mis_classifier\u001b[0m\u001b[1;33m(\u001b[0m\u001b[0mestimator\u001b[0m\u001b[1;33m)\u001b[0m\u001b[1;33m)\u001b[0m\u001b[1;33m\u001b[0m\u001b[1;33m\u001b[0m\u001b[0m\n\u001b[1;32m-> 1828\u001b[1;33m     \u001b[0mscorer\u001b[0m \u001b[1;33m=\u001b[0m \u001b[0mcheck_scoring\u001b[0m\u001b[1;33m(\u001b[0m\u001b[0mestimator\u001b[0m\u001b[1;33m,\u001b[0m \u001b[0mscoring\u001b[0m\u001b[1;33m=\u001b[0m\u001b[0mscoring\u001b[0m\u001b[1;33m)\u001b[0m\u001b[1;33m\u001b[0m\u001b[1;33m\u001b[0m\u001b[0m\n\u001b[0m\u001b[0;32m   1829\u001b[0m \u001b[1;33m\u001b[0m\u001b[0m\n\u001b[0;32m   1830\u001b[0m     \u001b[0mparallel\u001b[0m \u001b[1;33m=\u001b[0m \u001b[0mParallel\u001b[0m\u001b[1;33m(\u001b[0m\u001b[0mn_jobs\u001b[0m\u001b[1;33m=\u001b[0m\u001b[0mn_jobs\u001b[0m\u001b[1;33m,\u001b[0m \u001b[0mpre_dispatch\u001b[0m\u001b[1;33m=\u001b[0m\u001b[0mpre_dispatch\u001b[0m\u001b[1;33m,\u001b[0m \u001b[0mverbose\u001b[0m\u001b[1;33m=\u001b[0m\u001b[0mverbose\u001b[0m\u001b[1;33m)\u001b[0m\u001b[1;33m\u001b[0m\u001b[1;33m\u001b[0m\u001b[0m\n",
      "\u001b[1;32mD:\\Program_Files\\anaconda3\\lib\\site-packages\\sklearn\\metrics\\_scorer.py\u001b[0m in \u001b[0;36mcheck_scoring\u001b[1;34m(estimator, scoring, allow_none)\u001b[0m\n\u001b[0;32m    446\u001b[0m     \"\"\"\n\u001b[0;32m    447\u001b[0m     \u001b[1;32mif\u001b[0m \u001b[1;32mnot\u001b[0m \u001b[0mhasattr\u001b[0m\u001b[1;33m(\u001b[0m\u001b[0mestimator\u001b[0m\u001b[1;33m,\u001b[0m \u001b[1;34m\"fit\"\u001b[0m\u001b[1;33m)\u001b[0m\u001b[1;33m:\u001b[0m\u001b[1;33m\u001b[0m\u001b[1;33m\u001b[0m\u001b[0m\n\u001b[1;32m--> 448\u001b[1;33m         raise TypeError(\n\u001b[0m\u001b[0;32m    449\u001b[0m             \u001b[1;34m\"estimator should be an estimator implementing 'fit' method, %r was passed\"\u001b[0m\u001b[1;33m\u001b[0m\u001b[1;33m\u001b[0m\u001b[0m\n\u001b[0;32m    450\u001b[0m             \u001b[1;33m%\u001b[0m \u001b[0mestimator\u001b[0m\u001b[1;33m\u001b[0m\u001b[1;33m\u001b[0m\u001b[0m\n",
      "\u001b[1;31mTypeError\u001b[0m: estimator should be an estimator implementing 'fit' method, 'model' was passed"
     ]
    }
   ],
   "source": [
    "#검증 곡선\n",
    "from sklearn.model_selection import validation_curve\n",
    "param_range=[0.1,0.01,0.001,10,100]\n",
    "train_scores, test_scores = validation_curve(\n",
    "    estimator = \"model\",\n",
    "    X=X_train,\n",
    "    y=y_train,\n",
    "    param_name='param_name',\n",
    "    param_range=param_range,\n",
    "    cv=10\n",
    ")\n",
    "\n",
    "train_mean = np.mean(train_scores, axis=1)\n",
    "train_std = np.std(train_scores, axis=1)\n",
    "test_mean = np.mean(test_scores, axis=1),\n",
    "test_std = np.std(test_scores, axis=1)\n",
    "plt.plot(param_range, train_mean,\n",
    "        color='blue', marker='o',\n",
    "        markersize=5, label='Training accuracy')\n",
    "\n",
    "plt.fill_between(param_range, train_mean + train_std,\n",
    "        train_mean-train_std, alpha=0.5,\n",
    "        color='blue')\n",
    "plt.plot(param_range, test_mean,\n",
    "        color='green', linestyle='--',\n",
    "        marker='s', markersize=5,\n",
    "        label='Validation accuracy')\n",
    "\n",
    "plt.fill_between(param_range,\n",
    "                test_mean + test_std,\n",
    "                 train_mean - test_std,\n",
    "                 alpha=0.15, color='green')\n",
    "\n",
    "plt.grid()\n",
    "plt.xscale('log')\n",
    "plt.legend(loc='lower right')\n",
    "plt.xlabel('param')\n",
    "plt.ylabel('Accuracy')\n",
    "plt.ylim([0.6, 1.0])\n",
    "plt.tight_layout()\n",
    "plt.show()"
   ]
  },
  {
   "cell_type": "code",
   "execution_count": 141,
   "id": "0553e1e8",
   "metadata": {
    "ExecuteTime": {
     "end_time": "2021-11-25T02:33:42.695221Z",
     "start_time": "2021-11-25T02:33:42.686144Z"
    }
   },
   "outputs": [
    {
     "name": "stdout",
     "output_type": "stream",
     "text": [
      "\n"
     ]
    }
   ],
   "source": [
    "\"\"\"\n",
    "결정나무 계열 : 범주형을 라벨 인코딩, 스케일변환 안 해도 됨\n",
    "\n",
    "  - DecisionTreeClassifier\n",
    "\n",
    "  - ExtraTreesClassifier\n",
    "\n",
    "  - RandomForestClassifier\n",
    "\n",
    "  - AdaBoostClassifier\n",
    "\n",
    "  - GradientBoostingClassifier\n",
    "\n",
    "  - XGBClassifier (sklearn에 없음, 별도 패키지)\n",
    "\n",
    "\n",
    "\n",
    "그외 : 범주형을 원핫인코딩, 스케일변화 필요함\n",
    "\n",
    "  - LogisticRegression\n",
    "\n",
    "  - KNeighborsClassifier\n",
    "\n",
    "  - SVC\n",
    "\n",
    "  - GaussianNB\n",
    "\n",
    "  - MLPClassifier\n",
    "  \n",
    "#https://deepcell.kr/bbs/board.php?bo_table=bigbungi&wr_id=21\n",
    "\"\"\"\n",
    "print('')"
   ]
  },
  {
   "cell_type": "markdown",
   "id": "62cdbb5f",
   "metadata": {},
   "source": [
    "## 레이블 인코딩\n",
    "#레이블 인코딩\n",
    "- 숫자의 차이가 모델에 영향을 주지 않는 트리 계열 모델(의사결정나무, 랜덤포레스트)에 적용한다.\n",
    "- 숫자의 차이가 모델에 영향을 미치는 선형 계열 모델(로지스틱회귀, SVM, 신경망)에는 사용하면 안된다.\n",
    "\n",
    "#원핫인코딩\n",
    "- 숫자의 차이가 모델에 영향을 미치는 선형 계열 모델(로지스틱회귀, SVM, 신경망)에서 범주형 데이터 변환시 Label Encoding보다 One Hot Encoding을 사용한다.\n",
    "- DecisionTree 계열의 알고리즘은 Feature에 0이 많은 경우(Sparse Matrix라고 한다.) 성능이 떨어지기 때문에 Label Encoding을 한다.\n",
    "\n",
    "선형모델(로지스틱 회귀, svm, 신경망)\n",
    "-원핫인코딩\n",
    "\n",
    "비선형모델(트리계열 알고리즘)\n",
    "-레이블인코딩"
   ]
  },
  {
   "cell_type": "code",
   "execution_count": 88,
   "id": "70f3114a",
   "metadata": {
    "ExecuteTime": {
     "end_time": "2021-11-24T14:53:32.606551Z",
     "start_time": "2021-11-24T14:53:32.593527Z"
    }
   },
   "outputs": [
    {
     "name": "stdout",
     "output_type": "stream",
     "text": [
      "\n"
     ]
    }
   ],
   "source": []
  },
  {
   "cell_type": "markdown",
   "id": "4be602cc",
   "metadata": {
    "ExecuteTime": {
     "end_time": "2021-11-24T13:50:54.654188Z",
     "start_time": "2021-11-24T13:50:54.646188Z"
    }
   },
   "source": [
    "## (재확인 요함)레이블인코딩"
   ]
  },
  {
   "cell_type": "code",
   "execution_count": 77,
   "id": "29c130f0",
   "metadata": {
    "ExecuteTime": {
     "end_time": "2021-11-25T00:46:56.640525Z",
     "start_time": "2021-11-25T00:46:56.621414Z"
    }
   },
   "outputs": [
    {
     "data": {
      "text/plain": [
       "array([1, 0, 0, ..., 0, 0, 0], dtype=int64)"
      ]
     },
     "execution_count": 77,
     "metadata": {},
     "output_type": "execute_result"
    }
   ],
   "source": [
    "#레이블인코딩(트리모델)\n",
    "from sklearn.preprocessing import LabelEncoder\n",
    "import numpy as np\n",
    "import pandas as np\n",
    "\n",
    "#현재 데이터 기준 굳이 하지 않았어도 되어보임\n",
    "items= list(np.unique(drop_data['SeriousDlqin2yrs']))\n",
    "le = LabelEncoder()\n",
    "le.fit(drop_data['SeriousDlqin2yrs'])\n",
    "labels=le.transform(drop_data['SeriousDlqin2yrs'])\n",
    "labels"
   ]
  },
  {
   "cell_type": "code",
   "execution_count": 78,
   "id": "eb5df350",
   "metadata": {
    "ExecuteTime": {
     "end_time": "2021-11-25T00:46:57.121654Z",
     "start_time": "2021-11-25T00:46:57.109614Z"
    }
   },
   "outputs": [
    {
     "data": {
      "text/plain": [
       "array([1, 0, 0, ..., 0, 0, 0], dtype=int64)"
      ]
     },
     "execution_count": 78,
     "metadata": {},
     "output_type": "execute_result"
    }
   ],
   "source": [
    "le.classes_\n",
    "le.inverse_transform(drop_data['SeriousDlqin2yrs'])"
   ]
  },
  {
   "cell_type": "code",
   "execution_count": 79,
   "id": "3d1c8838",
   "metadata": {
    "ExecuteTime": {
     "end_time": "2021-11-25T00:46:57.557704Z",
     "start_time": "2021-11-25T00:46:57.544704Z"
    }
   },
   "outputs": [],
   "source": [
    "#이번 데이터는 모든 컬럼에 범주형 데이터가 존재하지 않음"
   ]
  },
  {
   "cell_type": "code",
   "execution_count": 80,
   "id": "74281e51",
   "metadata": {
    "ExecuteTime": {
     "end_time": "2021-11-25T00:46:58.206590Z",
     "start_time": "2021-11-25T00:46:58.148569Z"
    }
   },
   "outputs": [],
   "source": [
    "X,y = drop_data.iloc[:,:1], drop_data.iloc[:,0]\n",
    "from sklearn.model_selection import train_test_split\n",
    "X_train, X_test, y_train, y_test = train_test_split(X, y, stratify=y, random_state=0, test_size=0.2)\n",
    "\n",
    "X_train, X_val, y_train, y_val = train_test_split(X_train, y_train, stratify=y_train, random_state=0)"
   ]
  },
  {
   "cell_type": "code",
   "execution_count": 75,
   "id": "f636ab4c",
   "metadata": {
    "ExecuteTime": {
     "end_time": "2021-11-25T00:35:51.124909Z",
     "start_time": "2021-11-25T00:35:51.107906Z"
    }
   },
   "outputs": [
    {
     "name": "stdout",
     "output_type": "stream",
     "text": [
      "train 1.0\n",
      "val 1.0\n",
      "test 1.0\n"
     ]
    }
   ],
   "source": [
    "from sklearn.tree import DecisionTreeClassifier\n",
    "df = DecisionTreeClassifier()\n",
    "df.fit(X_train, y_train)\n",
    "pred_X_train=df.predict(X_train)\n",
    "pred_X_test=df.predict(X_test)\n",
    "pred_val= df.predict(X_val)\n",
    "\n",
    "from sklearn.metrics import accuracy_score\n",
    "print('train',accuracy_score(y_train, pred_X_train))\n",
    "print('val', accuracy_score(y_val, pred_val))\n",
    "\n",
    "print('test', accuracy_score(y_test, pred_X_test))\n",
    "#???"
   ]
  },
  {
   "cell_type": "markdown",
   "id": "e4bc798a",
   "metadata": {},
   "source": [
    "## 의사결정나무"
   ]
  },
  {
   "cell_type": "code",
   "execution_count": 94,
   "id": "b51e78dd",
   "metadata": {
    "ExecuteTime": {
     "end_time": "2021-11-24T14:53:40.263136Z",
     "start_time": "2021-11-24T14:53:39.562136Z"
    }
   },
   "outputs": [
    {
     "data": {
      "text/plain": [
       "(0.9999792132203918, 0.8912031262991602)"
      ]
     },
     "execution_count": 94,
     "metadata": {},
     "output_type": "execute_result"
    }
   ],
   "source": [
    "from sklearn.model_selection import train_test_split\n",
    "from sklearn.preprocessing import StandardScaler\n",
    "from sklearn.tree import DecisionTreeClassifier\n",
    "from sklearn.metrics import accuracy_score\n",
    "X, y = drop_data.iloc[:, 1:], drop_data.iloc[:, 0].values\n",
    "\n",
    "X_train, X_test, y_train, y_test = train_test_split(X, \n",
    "                                                   y,\n",
    "                                                   test_size=0.2,\n",
    "                                                   random_state=0,\n",
    "                                                   stratify=y)\n",
    "# 데이터 정규 스케일링\n",
    "std= StandardScaler()\n",
    "X_train_scaled = std.fit_transform(X_train)\n",
    "X_test_scaled = std.transform(X_test)\n",
    "\n",
    "#X_train.shape, X_test.shape, y_train.shape, y_test.shape\n",
    "\n",
    "tree = DecisionTreeClassifier(random_state=0)\n",
    "tree.fit(X_train, y_train)\n",
    "\n",
    "pred_train = tree.predict(X_train)\n",
    "pred_test = tree.predict(X_test)\n",
    "\n",
    "acc_train = accuracy_score(y_train, pred_train)\n",
    "acc_test = accuracy_score(y_test, pred_test)\n",
    "\n",
    "acc_train, acc_test"
   ]
  },
  {
   "cell_type": "code",
   "execution_count": 95,
   "id": "b9dc93fc",
   "metadata": {
    "ExecuteTime": {
     "end_time": "2021-11-24T14:53:40.428383Z",
     "start_time": "2021-11-24T14:53:40.413382Z"
    }
   },
   "outputs": [
    {
     "name": "stdout",
     "output_type": "stream",
     "text": [
      "[[89528     1]\n",
      " [    1  6685]]\n",
      "###################################################\n",
      "[[20931  1452]\n",
      " [ 1165   506]]\n"
     ]
    }
   ],
   "source": [
    "from sklearn.metrics import confusion_matrix\n",
    "print(confusion_matrix(y_train, pred_train))\n",
    "print('###################################################')\n",
    "print(confusion_matrix(y_test, pred_test))"
   ]
  },
  {
   "cell_type": "code",
   "execution_count": 96,
   "id": "e0bbcfd0",
   "metadata": {
    "ExecuteTime": {
     "end_time": "2021-11-24T14:53:41.406065Z",
     "start_time": "2021-11-24T14:53:41.388019Z"
    }
   },
   "outputs": [
    {
     "name": "stdout",
     "output_type": "stream",
     "text": [
      "train\n"
     ]
    },
    {
     "data": {
      "text/html": [
       "<div>\n",
       "<style scoped>\n",
       "    .dataframe tbody tr th:only-of-type {\n",
       "        vertical-align: middle;\n",
       "    }\n",
       "\n",
       "    .dataframe tbody tr th {\n",
       "        vertical-align: top;\n",
       "    }\n",
       "\n",
       "    .dataframe thead tr th {\n",
       "        text-align: left;\n",
       "    }\n",
       "</style>\n",
       "<table border=\"1\" class=\"dataframe\">\n",
       "  <thead>\n",
       "    <tr>\n",
       "      <th></th>\n",
       "      <th></th>\n",
       "      <th colspan=\"2\" halign=\"left\">예측</th>\n",
       "    </tr>\n",
       "    <tr>\n",
       "      <th></th>\n",
       "      <th></th>\n",
       "      <th>완납</th>\n",
       "      <th>연체</th>\n",
       "    </tr>\n",
       "  </thead>\n",
       "  <tbody>\n",
       "    <tr>\n",
       "      <th rowspan=\"2\" valign=\"top\">실제</th>\n",
       "      <th>완납</th>\n",
       "      <td>89528</td>\n",
       "      <td>1</td>\n",
       "    </tr>\n",
       "    <tr>\n",
       "      <th>연체</th>\n",
       "      <td>1</td>\n",
       "      <td>6685</td>\n",
       "    </tr>\n",
       "  </tbody>\n",
       "</table>\n",
       "</div>"
      ],
      "text/plain": [
       "          예측      \n",
       "          완납    연체\n",
       "실제 완납  89528     1\n",
       "   연체      1  6685"
      ]
     },
     "execution_count": 96,
     "metadata": {},
     "output_type": "execute_result"
    }
   ],
   "source": [
    "import pandas as pd\n",
    "print('train')\n",
    "pd.DataFrame(confusion_matrix(y_train, pred_train), columns=[['예측', '예측'], ['완납','연체']], index=[['실제', '실제'], ['완납','연체']]) "
   ]
  },
  {
   "cell_type": "code",
   "execution_count": 97,
   "id": "cf0b34cc",
   "metadata": {
    "ExecuteTime": {
     "end_time": "2021-11-24T14:53:42.052933Z",
     "start_time": "2021-11-24T14:53:42.034935Z"
    }
   },
   "outputs": [
    {
     "name": "stdout",
     "output_type": "stream",
     "text": [
      "test\n"
     ]
    },
    {
     "data": {
      "text/html": [
       "<div>\n",
       "<style scoped>\n",
       "    .dataframe tbody tr th:only-of-type {\n",
       "        vertical-align: middle;\n",
       "    }\n",
       "\n",
       "    .dataframe tbody tr th {\n",
       "        vertical-align: top;\n",
       "    }\n",
       "\n",
       "    .dataframe thead tr th {\n",
       "        text-align: left;\n",
       "    }\n",
       "</style>\n",
       "<table border=\"1\" class=\"dataframe\">\n",
       "  <thead>\n",
       "    <tr>\n",
       "      <th></th>\n",
       "      <th></th>\n",
       "      <th colspan=\"2\" halign=\"left\">예측</th>\n",
       "    </tr>\n",
       "    <tr>\n",
       "      <th></th>\n",
       "      <th></th>\n",
       "      <th>완납</th>\n",
       "      <th>연체</th>\n",
       "    </tr>\n",
       "  </thead>\n",
       "  <tbody>\n",
       "    <tr>\n",
       "      <th rowspan=\"2\" valign=\"top\">실제</th>\n",
       "      <th>완납</th>\n",
       "      <td>20931</td>\n",
       "      <td>1452</td>\n",
       "    </tr>\n",
       "    <tr>\n",
       "      <th>연체</th>\n",
       "      <td>1165</td>\n",
       "      <td>506</td>\n",
       "    </tr>\n",
       "  </tbody>\n",
       "</table>\n",
       "</div>"
      ],
      "text/plain": [
       "          예측      \n",
       "          완납    연체\n",
       "실제 완납  20931  1452\n",
       "   연체   1165   506"
      ]
     },
     "execution_count": 97,
     "metadata": {},
     "output_type": "execute_result"
    }
   ],
   "source": [
    "import pandas as pd\n",
    "print('test')\n",
    "pd.DataFrame(confusion_matrix(y_test, pred_test), columns=[['예측', '예측'], ['완납','연체']], index=[['실제', '실제'], ['완납','연체']]) "
   ]
  },
  {
   "cell_type": "markdown",
   "id": "61b98921",
   "metadata": {},
   "source": [
    "### holdout"
   ]
  },
  {
   "cell_type": "code",
   "execution_count": 131,
   "id": "e04f4b0b",
   "metadata": {
    "ExecuteTime": {
     "end_time": "2021-11-26T16:32:42.132669Z",
     "start_time": "2021-11-26T16:32:42.077681Z"
    }
   },
   "outputs": [
    {
     "name": "stdout",
     "output_type": "stream",
     "text": [
      "train 1.0\n",
      "validation 1.0\n",
      "test 1.0\n"
     ]
    }
   ],
   "source": [
    "from sklearn.tree import DecisionTreeClassifier\n",
    "#Hold out 방식\n",
    "#(다양한 패턴을 가진) 데이터의 양이 많을 경우에 사용한다.\n",
    "\n",
    "#train/validation/test set 분리\n",
    "X_train, X_test, y_train, y_test = train_test_split(X, \n",
    "                                                   y,\n",
    "                                                   test_size=0.2,\n",
    "                                                   random_state=0,\n",
    "                                                   stratify=y)\n",
    "\n",
    "#validation set을 만들땐 stratify넣으면 안됨\n",
    "X_train, X_val, y_train, y_val = train_test_split(X_train,\n",
    "                                                  y_train,\n",
    "                                                  test_size=0.2,\n",
    "                                                  random_state=0)\n",
    "                                                  \n",
    "\n",
    "tree_clf = DecisionTreeClassifier(random_state=0)\n",
    "tree_clf.fit(X_train, y_train)\n",
    "train_pred = tree_clf.predict(X_train)\n",
    "print('train', accuracy_score(y_train, train_pred))\n",
    "val_pred = tree_clf.predict(X_val)\n",
    "print('validation', accuracy_score(y_val, val_pred))\n",
    "\n",
    "test_pred = tree_clf.predict(X_test)\n",
    "print('test', accuracy_score(y_test, test_pred))"
   ]
  },
  {
   "cell_type": "code",
   "execution_count": 135,
   "id": "46289c7e",
   "metadata": {
    "ExecuteTime": {
     "end_time": "2021-11-26T16:36:01.613387Z",
     "start_time": "2021-11-26T16:36:01.606318Z"
    }
   },
   "outputs": [
    {
     "data": {
      "text/plain": [
       "1.0"
      ]
     },
     "execution_count": 135,
     "metadata": {},
     "output_type": "execute_result"
    }
   ],
   "source": [
    "from sklearn.metrics import roc_auc_score\n",
    "tree_clf_pos = tree_clf.predict_proba(X_test)[:,1]\n",
    "roc_auc_score(y_test, tree_clf_pos)"
   ]
  },
  {
   "cell_type": "markdown",
   "id": "c5d14ba7",
   "metadata": {},
   "source": [
    "### StratifiedKFold"
   ]
  },
  {
   "cell_type": "code",
   "execution_count": 137,
   "id": "ecc3f93a",
   "metadata": {
    "ExecuteTime": {
     "end_time": "2021-11-26T16:37:25.039656Z",
     "start_time": "2021-11-26T16:37:25.027634Z"
    }
   },
   "outputs": [
    {
     "data": {
      "text/plain": [
       "'\\nKFold\\n- 회귀문제의 Dataset을 분리할 때 사용\\nStratifiedKFold\\n- 분류분제의 Dataset을 분리할 때 사용\\n'"
      ]
     },
     "execution_count": 137,
     "metadata": {},
     "output_type": "execute_result"
    }
   ],
   "source": [
    "#k-fold cross validation\n",
    "#데이터양이 충분치 않을때 사용\n",
    "\"\"\"\n",
    "KFold\n",
    "- 회귀문제의 Dataset을 분리할 때 사용\n",
    "StratifiedKFold\n",
    "- 분류분제의 Dataset을 분리할 때 사용\n",
    "\"\"\""
   ]
  },
  {
   "cell_type": "code",
   "execution_count": 138,
   "id": "78d1e5b7",
   "metadata": {
    "ExecuteTime": {
     "end_time": "2021-11-26T16:37:25.731834Z",
     "start_time": "2021-11-26T16:37:25.728833Z"
    }
   },
   "outputs": [],
   "source": [
    "from sklearn.model_selection import StratifiedKFold\n",
    "#옵션 n_splits\n",
    "sfold= StratifiedKFold(n_splits=3)\n",
    "\n",
    "#회귀문제에 사용된 kfold는 x만 split하는 것과 달리\n",
    "#stratiedkfold는 x와 y를 split 하도록 한다.\n",
    "ex = sfold.split(X, y)"
   ]
  },
  {
   "cell_type": "code",
   "execution_count": 139,
   "id": "f6d2f84c",
   "metadata": {
    "ExecuteTime": {
     "end_time": "2021-11-26T16:37:26.500346Z",
     "start_time": "2021-11-26T16:37:26.487326Z"
    }
   },
   "outputs": [],
   "source": [
    "#df.rename(columns=df.iloc[0],inplace=True)\n",
    "#df.columns = df.iloc[1]\n",
    "#df=df.reindex(df.index.drop(0))\n",
    "\n",
    "y = drop_data['SeriousDlqin2yrs']\n",
    "X = drop_data.drop('SeriousDlqin2yrs', axis=True)"
   ]
  },
  {
   "cell_type": "code",
   "execution_count": 140,
   "id": "4502168e",
   "metadata": {
    "ExecuteTime": {
     "end_time": "2021-11-26T16:37:27.072009Z",
     "start_time": "2021-11-26T16:37:27.047983Z"
    }
   },
   "outputs": [
    {
     "name": "stdout",
     "output_type": "stream",
     "text": [
      "[ 40063  40064  40065 ... 120266 120267 120268]\n",
      "[    0     1     2 ... 40354 40370 40396]\n"
     ]
    }
   ],
   "source": [
    "for train_index, test_index in sfold.split(X, y):\n",
    "    print(train_index)\n",
    "    print(test_index)\n",
    "    break"
   ]
  },
  {
   "cell_type": "code",
   "execution_count": 141,
   "id": "3bf4de62",
   "metadata": {
    "ExecuteTime": {
     "end_time": "2021-11-26T16:37:27.781069Z",
     "start_time": "2021-11-26T16:37:27.763049Z"
    }
   },
   "outputs": [
    {
     "data": {
      "text/plain": [
       "pandas.core.series.Series"
      ]
     },
     "execution_count": 141,
     "metadata": {},
     "output_type": "execute_result"
    }
   ],
   "source": [
    "type(y)"
   ]
  },
  {
   "cell_type": "code",
   "execution_count": 142,
   "id": "91ccaa5a",
   "metadata": {
    "ExecuteTime": {
     "end_time": "2021-11-26T16:37:28.549603Z",
     "start_time": "2021-11-26T16:37:28.532583Z"
    }
   },
   "outputs": [],
   "source": [
    "XX=X.to_numpy()\n",
    "yy=y.to_numpy()"
   ]
  },
  {
   "cell_type": "code",
   "execution_count": 143,
   "id": "cbfa955d",
   "metadata": {
    "ExecuteTime": {
     "end_time": "2021-11-26T16:37:30.791109Z",
     "start_time": "2021-11-26T16:37:29.303563Z"
    }
   },
   "outputs": [],
   "source": [
    "#데이터가 Dataframe형식이면 안됨 반드시 numpy array 형식이어야 함\n",
    "#각 폴드의 결과를 저장할 리스트 생성\n",
    "acc_train_list = []\n",
    "acc_test_list = []\n",
    "\n",
    "                                         #(X, y)    \n",
    "for train_index, test_index in sfold.split(XX, yy):\n",
    "    #기존에 train_test_split과는 다르게 \n",
    "    #fold에서는 train별 test별로 데이터를 받음\n",
    "    X_train, y_train = XX[train_index], yy[train_index]\n",
    "    X_test, y_test = XX[test_index], yy[test_index]\n",
    "    \n",
    "    #모델 생성\n",
    "    tree = DecisionTreeClassifier()\n",
    "    \n",
    "    #학습\n",
    "    tree.fit(X_train, y_train)\n",
    "    \n",
    "    #검증\n",
    "    pred_train = tree.predict(X_train)\n",
    "    pred_test = tree.predict(X_test)\n",
    "    \n",
    "    #평가\n",
    "    acc_train = accuracy_score(y_train, pred_train)\n",
    "    acc_test = accuracy_score(y_test, pred_test)\n",
    "    \n",
    "    acc_train_list.append(acc_train)\n",
    "    acc_test_list.append(acc_test)"
   ]
  },
  {
   "cell_type": "code",
   "execution_count": 144,
   "id": "15ffeee2",
   "metadata": {
    "ExecuteTime": {
     "end_time": "2021-11-26T16:37:32.786397Z",
     "start_time": "2021-11-26T16:37:32.769376Z"
    }
   },
   "outputs": [
    {
     "name": "stdout",
     "output_type": "stream",
     "text": [
      "train [0.9999875279063096, 0.9999750558126193, 1.0] 0.9999875279063096\n",
      "test [0.89171863307558, 0.8910700922923422, 0.8930379904712016] 0.8919422386130412\n"
     ]
    }
   ],
   "source": [
    "import pandas as pd\n",
    "import numpy as np\n",
    "\n",
    "print('train', acc_train_list, np.mean(acc_train_list))\n",
    "print('test', acc_test_list, np.mean(acc_test_list))"
   ]
  },
  {
   "cell_type": "code",
   "execution_count": 145,
   "id": "363cd880",
   "metadata": {
    "ExecuteTime": {
     "end_time": "2021-11-26T16:38:09.007959Z",
     "start_time": "2021-11-26T16:38:08.984961Z"
    }
   },
   "outputs": [
    {
     "data": {
      "text/plain": [
       "0.6061133744736342"
      ]
     },
     "execution_count": 145,
     "metadata": {},
     "output_type": "execute_result"
    }
   ],
   "source": [
    "from sklearn.metrics import roc_auc_score\n",
    "tree_pos = tree.predict_proba(X_test)[:,1]\n",
    "roc_auc_score(y_test, tree_pos)"
   ]
  },
  {
   "cell_type": "markdown",
   "id": "2121514c",
   "metadata": {},
   "source": [
    "### cross validation"
   ]
  },
  {
   "cell_type": "code",
   "execution_count": 74,
   "id": "b7e59a1d",
   "metadata": {
    "ExecuteTime": {
     "end_time": "2021-11-24T14:43:02.921292Z",
     "start_time": "2021-11-24T14:43:02.906263Z"
    }
   },
   "outputs": [
    {
     "name": "stdout",
     "output_type": "stream",
     "text": [
      "\n"
     ]
    }
   ],
   "source": [
    "#cross_val_score\n",
    "\"\"\"\n",
    "estimator: 학습할 평가모델객체\n",
    "X: feature\n",
    "y: label\n",
    "scoring: 평가지표\n",
    "cv: 나눌 개수 (K)\n",
    "반환값: array - 각 반복마다의 평가점수\n",
    "\"\"\"\n",
    "print('')"
   ]
  },
  {
   "cell_type": "code",
   "execution_count": 101,
   "id": "a35f7f24",
   "metadata": {
    "ExecuteTime": {
     "end_time": "2021-11-25T01:16:29.676270Z",
     "start_time": "2021-11-25T01:16:26.584272Z"
    }
   },
   "outputs": [
    {
     "name": "stdout",
     "output_type": "stream",
     "text": [
      "교차 검증별 정확도 [0.8915 0.8929 0.8929 0.8929 0.8909]\n",
      "평균 검증 정확도 0.8922\n"
     ]
    }
   ],
   "source": [
    "from sklearn.tree import DecisionTreeClassifier\n",
    "from sklearn.model_selection import cross_val_score, cross_val_score\n",
    "import numpy as np\n",
    "\n",
    "tree_clf = DecisionTreeClassifier(random_state=0)\n",
    "\n",
    "score = cross_val_score(tree_clf, X, y, scoring='accuracy')\n",
    "print('교차 검증별 정확도', np.round(score, 4))\n",
    "print('평균 검증 정확도', np.round(np.mean(score),4))"
   ]
  },
  {
   "cell_type": "markdown",
   "id": "d6da4699",
   "metadata": {},
   "source": [
    "## randomforest"
   ]
  },
  {
   "cell_type": "markdown",
   "id": "55582d70",
   "metadata": {},
   "source": [
    "### holdout"
   ]
  },
  {
   "cell_type": "code",
   "execution_count": 128,
   "id": "aa891e12",
   "metadata": {
    "ExecuteTime": {
     "end_time": "2021-11-26T16:30:50.666776Z",
     "start_time": "2021-11-26T16:30:49.909745Z"
    }
   },
   "outputs": [
    {
     "name": "stdout",
     "output_type": "stream",
     "text": [
      "train 1.0\n",
      "val 1.0\n",
      "test 1.0\n"
     ]
    }
   ],
   "source": [
    "from sklearn.ensemble import RandomForestClassifier\n",
    "\n",
    "X,y = drop_data.iloc[:,:1], drop_data.iloc[:,0]\n",
    "from sklearn.model_selection import train_test_split\n",
    "X_train, X_test, y_train, y_test = train_test_split(X, y, stratify=y, random_state=0, test_size=0.2)\n",
    "\n",
    "X_train, X_val, y_train, y_val = train_test_split(X_train, y_train, stratify=y_train, random_state=0)\n",
    "\n",
    "rf = RandomForestClassifier()\n",
    "rf.fit(X_train, y_train)\n",
    "pred_train = rf.predict(X_train)\n",
    "pred_val = rf.predict(X_val)\n",
    "\n",
    "from sklearn.metrics import accuracy_score\n",
    "print('train',accuracy_score(y_train, pred_train))\n",
    "print('val', accuracy_score(y_val, pred_val))\n",
    "\n",
    "pred_test = rf.predict(X_test)\n",
    "print('test', accuracy_score(y_test, pred_test))"
   ]
  },
  {
   "cell_type": "code",
   "execution_count": 129,
   "id": "1a7e9ea3",
   "metadata": {
    "ExecuteTime": {
     "end_time": "2021-11-26T16:30:51.980803Z",
     "start_time": "2021-11-26T16:30:51.910796Z"
    }
   },
   "outputs": [
    {
     "data": {
      "text/plain": [
       "1.0"
      ]
     },
     "execution_count": 129,
     "metadata": {},
     "output_type": "execute_result"
    }
   ],
   "source": [
    "from sklearn.metrics import roc_auc_score\n",
    "rf_pos = rf.predict_proba(X_test)[:,1]\n",
    "roc_auc_score(y_test, rf_pos)"
   ]
  },
  {
   "cell_type": "markdown",
   "id": "81d5fd36",
   "metadata": {},
   "source": [
    "### StrafifiedKFold"
   ]
  },
  {
   "cell_type": "code",
   "execution_count": 125,
   "id": "a57aaab2",
   "metadata": {
    "ExecuteTime": {
     "end_time": "2021-11-26T16:26:19.626482Z",
     "start_time": "2021-11-26T16:25:48.375838Z"
    }
   },
   "outputs": [
    {
     "name": "stdout",
     "output_type": "stream",
     "text": [
      "train [0.9999376395315481, 0.9998877511567867, 0.9999501122474432] 0.9999251676452593\n",
      "test [0.932776253429783, 0.933374906460464, 0.9326249095761929] 0.9329253564888133\n"
     ]
    }
   ],
   "source": [
    "from sklearn.ensemble import RandomForestClassifier\n",
    "from sklearn.model_selection import StratifiedKFold\n",
    "from sklearn.metrics import accuracy_score\n",
    "import numpy as np\n",
    "\n",
    "sfold=StratifiedKFold(n_splits=3)\n",
    "ex=sfold.split(X,y)\n",
    "\n",
    "y = drop_data['SeriousDlqin2yrs'].to_numpy()\n",
    "X = drop_data.drop('SeriousDlqin2yrs', axis=1).to_numpy()\n",
    "\n",
    "acc_train_list=[]\n",
    "acc_test_list=[]\n",
    "\n",
    "for train_index, test_index in sfold.split(X,y):\n",
    "    X_train, y_train = X[train_index], y[train_index]\n",
    "    X_test, y_test = X[test_index], y[test_index]\n",
    "    \n",
    "    rf = RandomForestClassifier(random_state=0)\n",
    "    \n",
    "    rf.fit(X_train, y_train)\n",
    "    \n",
    "    pred_train = rf.predict(X_train)\n",
    "    pred_test = rf.predict(X_test)\n",
    "    \n",
    "    acc_train = accuracy_score(y_train, pred_train)\n",
    "    acc_test = accuracy_score(y_test, pred_test)\n",
    "    \n",
    "    acc_train_list.append(acc_train)\n",
    "    acc_test_list.append(acc_test)\n",
    "    \n",
    "print('train', acc_train_list, np.mean(acc_train_list))\n",
    "print('test', acc_test_list, np.mean(acc_test_list))"
   ]
  },
  {
   "cell_type": "code",
   "execution_count": 127,
   "id": "bf735e7e",
   "metadata": {
    "ExecuteTime": {
     "end_time": "2021-11-26T16:29:07.465233Z",
     "start_time": "2021-11-26T16:29:07.030210Z"
    }
   },
   "outputs": [
    {
     "data": {
      "text/plain": [
       "0.8331662778641284"
      ]
     },
     "execution_count": 127,
     "metadata": {},
     "output_type": "execute_result"
    }
   ],
   "source": [
    "from sklearn.metrics import roc_auc_score\n",
    "rf_pos = rf.predict_proba(X_test)[:,1]\n",
    "roc_auc_score(y_test, rf_pos)"
   ]
  },
  {
   "cell_type": "markdown",
   "id": "5567c1a4",
   "metadata": {},
   "source": [
    "### cross validation"
   ]
  },
  {
   "cell_type": "code",
   "execution_count": 100,
   "id": "0f125c35",
   "metadata": {
    "ExecuteTime": {
     "end_time": "2021-11-25T01:16:26.493270Z",
     "start_time": "2021-11-25T01:15:27.118463Z"
    }
   },
   "outputs": [
    {
     "name": "stdout",
     "output_type": "stream",
     "text": [
      "교차 검증별 정확도 [0.9329 0.9332 0.9329 0.9341 0.9311]\n",
      "평균 검증 정확도 0.9328\n"
     ]
    }
   ],
   "source": [
    "from sklearn.ensemble import RandomForestClassifier\n",
    "from sklearn.model_selection import cross_val_score\n",
    "import numpy as np\n",
    "\n",
    "rf = RandomForestClassifier(random_state=0)\n",
    "score = cross_val_score(rf, X, y, scoring='accuracy')\n",
    "print('교차 검증별 정확도', np.round(score, 4))\n",
    "print('평균 검증 정확도', np.round(np.mean(score), 4))"
   ]
  },
  {
   "cell_type": "markdown",
   "id": "d001e692",
   "metadata": {},
   "source": [
    "## AdaBoostClassifier"
   ]
  },
  {
   "cell_type": "markdown",
   "id": "e40d220f",
   "metadata": {},
   "source": [
    "### holdout"
   ]
  },
  {
   "cell_type": "code",
   "execution_count": 148,
   "id": "f9b9097a",
   "metadata": {
    "ExecuteTime": {
     "end_time": "2021-11-26T16:39:35.481956Z",
     "start_time": "2021-11-26T16:39:33.230747Z"
    }
   },
   "outputs": [
    {
     "name": "stdout",
     "output_type": "stream",
     "text": [
      "0.9333296378930447 0.932776253429783 0.9336908622266566\n"
     ]
    }
   ],
   "source": [
    "from sklearn.ensemble import AdaBoostClassifier\n",
    "\n",
    "y = drop_data['SeriousDlqin2yrs'].to_numpy()\n",
    "X = drop_data.drop('SeriousDlqin2yrs', axis=1).to_numpy()\n",
    "\n",
    "from sklearn.model_selection import train_test_split\n",
    "X_train, X_test, y_train, y_test = train_test_split(X, y, stratify=y, random_state=0, test_size=0.2)\n",
    "\n",
    "X_train, X_val, y_train, y_val = train_test_split(X_train, y_train, stratify=y_train, random_state=0)\n",
    "\n",
    "ada = AdaBoostClassifier(random_state=0)\n",
    "\n",
    "ada=ada.fit(X_train, y_train)\n",
    "train_pred = ada.predict(X_train)\n",
    "val_pred = ada.predict(X_val)\n",
    "test_pred = ada.predict(X_test)\n",
    "\n",
    "acc_train = accuracy_score(y_train, train_pred)\n",
    "acc_val = accuracy_score(y_val, val_pred)\n",
    "acc_test = accuracy_score(y_test, test_pred)\n",
    "\n",
    "print(acc_train, acc_val, acc_test)"
   ]
  },
  {
   "cell_type": "code",
   "execution_count": 149,
   "id": "bc093f73",
   "metadata": {
    "ExecuteTime": {
     "end_time": "2021-11-26T16:39:39.086695Z",
     "start_time": "2021-11-26T16:39:39.004673Z"
    }
   },
   "outputs": [
    {
     "data": {
      "text/plain": [
       "0.8485245692656004"
      ]
     },
     "execution_count": 149,
     "metadata": {},
     "output_type": "execute_result"
    }
   ],
   "source": [
    "from sklearn.metrics import roc_auc_score\n",
    "ada_pos = ada.predict_proba(X_test)[:,1]\n",
    "roc_auc_score(y_test, ada_pos)"
   ]
  },
  {
   "cell_type": "markdown",
   "id": "d882725c",
   "metadata": {},
   "source": [
    "### StrafifiedKFold"
   ]
  },
  {
   "cell_type": "code",
   "execution_count": 150,
   "id": "8563a710",
   "metadata": {
    "ExecuteTime": {
     "end_time": "2021-11-26T16:40:23.442041Z",
     "start_time": "2021-11-26T16:40:16.053976Z"
    }
   },
   "outputs": [
    {
     "name": "stdout",
     "output_type": "stream",
     "text": [
      "train [0.933635989473553, 0.9336983499420047, 0.9334622100274382] 0.933598849814332\n",
      "test [0.9329259166874533, 0.933649289099526, 0.9336476340143182] 0.9334076132670992\n"
     ]
    }
   ],
   "source": [
    "from sklearn.ensemble import AdaBoostClassifier\n",
    "import numpy as np\n",
    "\n",
    "y = drop_data['SeriousDlqin2yrs'].to_numpy()\n",
    "X = drop_data.drop('SeriousDlqin2yrs', axis=1).to_numpy()\n",
    "\n",
    "from sklearn.model_selection import train_test_split\n",
    "X_train, X_test, y_train, y_test = train_test_split(X, y, stratify=y, random_state=0, test_size=0.2)\n",
    "X_train, X_val, y_train, y_val = train_test_split(X_train, y_train, stratify=y_train, random_state=0)\n",
    "\n",
    "acc_train_list = []\n",
    "acc_test_list =[]\n",
    "\n",
    "sfold= StratifiedKFold(n_splits=3)\n",
    "\n",
    "for train_index, test_index in sfold.split(X, y):\n",
    "    \n",
    "    X_train, y_train = X[train_index], y[train_index]\n",
    "    X_test, y_test = X[test_index], y[test_index]\n",
    "    \n",
    "    adb = AdaBoostClassifier(random_state=0)\n",
    "    \n",
    "    adb.fit(X_train, y_train)\n",
    "    \n",
    "    pred_train = adb.predict(X_train)\n",
    "    pred_test = adb.predict(X_test)\n",
    "    \n",
    "    acc_train = accuracy_score(y_train, pred_train)\n",
    "    acc_test = accuracy_score(y_test, pred_test)\n",
    "    \n",
    "    acc_train_list.append(acc_train)\n",
    "    acc_test_list.append(acc_test)\n",
    "\n",
    "print('train', acc_train_list, np.mean(acc_train_list))\n",
    "print('test', acc_test_list, np.mean(acc_test_list))\n",
    "\n",
    "##!!!!!!!! "
   ]
  },
  {
   "cell_type": "code",
   "execution_count": 151,
   "id": "3b35f810",
   "metadata": {
    "ExecuteTime": {
     "end_time": "2021-11-26T16:40:48.558196Z",
     "start_time": "2021-11-26T16:40:48.423163Z"
    }
   },
   "outputs": [
    {
     "data": {
      "text/plain": [
       "0.8508383494571844"
      ]
     },
     "execution_count": 151,
     "metadata": {},
     "output_type": "execute_result"
    }
   ],
   "source": [
    "from sklearn.metrics import roc_auc_score\n",
    "adb_pos = adb.predict_proba(X_test)[:,1]\n",
    "roc_auc_score(y_test, adb_pos)"
   ]
  },
  {
   "cell_type": "markdown",
   "id": "d60c9565",
   "metadata": {},
   "source": [
    "### cross validation"
   ]
  },
  {
   "cell_type": "code",
   "execution_count": 113,
   "id": "768d6f38",
   "metadata": {
    "ExecuteTime": {
     "end_time": "2021-11-25T01:58:22.850390Z",
     "start_time": "2021-11-25T01:58:10.101028Z"
    }
   },
   "outputs": [
    {
     "name": "stdout",
     "output_type": "stream",
     "text": [
      "교차 검증별 정확도 [0.9329 0.9334 0.9337 0.9341 0.9331]\n",
      "평균 검증 정확도 0.9335\n"
     ]
    }
   ],
   "source": [
    "from sklearn.ensemble import AdaBoostClassifier\n",
    "from sklearn.model_selection import cross_val_score\n",
    "import numpy as np\n",
    "\n",
    "adb = AdaBoostClassifier(random_state=0)\n",
    "score = cross_val_score(adb, X, y, scoring='accuracy')\n",
    "\n",
    "print('교차 검증별 정확도', np.round(score, 4))\n",
    "print('평균 검증 정확도', np.round(np.mean(score),4))"
   ]
  },
  {
   "cell_type": "markdown",
   "id": "6e3ab1fd",
   "metadata": {},
   "source": [
    "## xgboostCalssifier"
   ]
  },
  {
   "cell_type": "markdown",
   "id": "b52aa1ca",
   "metadata": {},
   "source": [
    "### holdout"
   ]
  },
  {
   "cell_type": "code",
   "execution_count": 153,
   "id": "fa76bc5f",
   "metadata": {
    "ExecuteTime": {
     "end_time": "2021-11-26T16:41:25.963776Z",
     "start_time": "2021-11-26T16:41:24.131777Z"
    }
   },
   "outputs": [
    {
     "name": "stderr",
     "output_type": "stream",
     "text": [
      "D:\\Program_Files\\anaconda3\\lib\\site-packages\\xgboost\\sklearn.py:1224: UserWarning: The use of label encoder in XGBClassifier is deprecated and will be removed in a future release. To remove this warning, do the following: 1) Pass option use_label_encoder=False when constructing XGBClassifier object; and 2) Encode your labels (y) as integers starting with 0, i.e. 0, 1, 2, ..., [num_class - 1].\n",
      "  warnings.warn(label_encoder_deprecation_msg, UserWarning)\n"
     ]
    },
    {
     "name": "stdout",
     "output_type": "stream",
     "text": [
      "[01:41:24] WARNING: C:/Users/Administrator/workspace/xgboost-win64_release_1.5.0/src/learner.cc:1115: Starting in XGBoost 1.3.0, the default evaluation metric used with the objective 'binary:logistic' was changed from 'error' to 'logloss'. Explicitly set eval_metric if you'd like to restore the old behavior.\n",
      "0.9502778509167001 0.9311964745988193 0.9335245697181342\n"
     ]
    }
   ],
   "source": [
    "from xgboost import XGBClassifier\n",
    "\n",
    "y = drop_data['SeriousDlqin2yrs'].to_numpy()\n",
    "X = drop_data.drop('SeriousDlqin2yrs', axis=1).to_numpy()\n",
    "\n",
    "from sklearn.model_selection import train_test_split\n",
    "X_train, X_test, y_train, y_test = train_test_split(X, y, stratify=y, random_state=0, test_size=0.2)\n",
    "\n",
    "X_train, X_val, y_train, y_val = train_test_split(X_train, y_train, stratify=y_train, random_state=0)\n",
    "\n",
    "xgb = XGBClassifier(random_state=0)\n",
    "\n",
    "xgb=xgb.fit(X_train, y_train)\n",
    "train_pred = xgb.predict(X_train)\n",
    "val_pred = xgb.predict(X_val)\n",
    "test_pred = xgb.predict(X_test)\n",
    "\n",
    "acc_train = accuracy_score(y_train, train_pred)\n",
    "acc_val = accuracy_score(y_val, val_pred)\n",
    "acc_test = accuracy_score(y_test, test_pred)\n",
    "\n",
    "print(acc_train, acc_val, acc_test)"
   ]
  },
  {
   "cell_type": "code",
   "execution_count": 154,
   "id": "6d087869",
   "metadata": {
    "ExecuteTime": {
     "end_time": "2021-11-26T16:41:43.549519Z",
     "start_time": "2021-11-26T16:41:43.531520Z"
    }
   },
   "outputs": [
    {
     "data": {
      "text/plain": [
       "0.848626221602683"
      ]
     },
     "execution_count": 154,
     "metadata": {},
     "output_type": "execute_result"
    }
   ],
   "source": [
    "from sklearn.metrics import roc_auc_score\n",
    "xgb_pos = xgb.predict_proba(X_test)[:,1]\n",
    "roc_auc_score(y_test, xgb_pos)"
   ]
  },
  {
   "cell_type": "markdown",
   "id": "b9282a82",
   "metadata": {},
   "source": [
    "###  Stratified"
   ]
  },
  {
   "cell_type": "code",
   "execution_count": 155,
   "id": "aa340c01",
   "metadata": {
    "ExecuteTime": {
     "end_time": "2021-11-26T16:42:11.790216Z",
     "start_time": "2021-11-26T16:42:05.784194Z"
    },
    "scrolled": true
   },
   "outputs": [
    {
     "name": "stderr",
     "output_type": "stream",
     "text": [
      "D:\\Program_Files\\anaconda3\\lib\\site-packages\\xgboost\\sklearn.py:1224: UserWarning: The use of label encoder in XGBClassifier is deprecated and will be removed in a future release. To remove this warning, do the following: 1) Pass option use_label_encoder=False when constructing XGBClassifier object; and 2) Encode your labels (y) as integers starting with 0, i.e. 0, 1, 2, ..., [num_class - 1].\n",
      "  warnings.warn(label_encoder_deprecation_msg, UserWarning)\n"
     ]
    },
    {
     "name": "stdout",
     "output_type": "stream",
     "text": [
      "[01:42:05] WARNING: C:/Users/Administrator/workspace/xgboost-win64_release_1.5.0/src/learner.cc:1115: Starting in XGBoost 1.3.0, the default evaluation metric used with the objective 'binary:logistic' was changed from 'error' to 'logloss'. Explicitly set eval_metric if you'd like to restore the old behavior.\n"
     ]
    },
    {
     "name": "stderr",
     "output_type": "stream",
     "text": [
      "D:\\Program_Files\\anaconda3\\lib\\site-packages\\xgboost\\sklearn.py:1224: UserWarning: The use of label encoder in XGBClassifier is deprecated and will be removed in a future release. To remove this warning, do the following: 1) Pass option use_label_encoder=False when constructing XGBClassifier object; and 2) Encode your labels (y) as integers starting with 0, i.e. 0, 1, 2, ..., [num_class - 1].\n",
      "  warnings.warn(label_encoder_deprecation_msg, UserWarning)\n"
     ]
    },
    {
     "name": "stdout",
     "output_type": "stream",
     "text": [
      "[01:42:07] WARNING: C:/Users/Administrator/workspace/xgboost-win64_release_1.5.0/src/learner.cc:1115: Starting in XGBoost 1.3.0, the default evaluation metric used with the objective 'binary:logistic' was changed from 'error' to 'logloss'. Explicitly set eval_metric if you'd like to restore the old behavior.\n"
     ]
    },
    {
     "name": "stderr",
     "output_type": "stream",
     "text": [
      "D:\\Program_Files\\anaconda3\\lib\\site-packages\\xgboost\\sklearn.py:1224: UserWarning: The use of label encoder in XGBClassifier is deprecated and will be removed in a future release. To remove this warning, do the following: 1) Pass option use_label_encoder=False when constructing XGBClassifier object; and 2) Encode your labels (y) as integers starting with 0, i.e. 0, 1, 2, ..., [num_class - 1].\n",
      "  warnings.warn(label_encoder_deprecation_msg, UserWarning)\n"
     ]
    },
    {
     "name": "stdout",
     "output_type": "stream",
     "text": [
      "[01:42:09] WARNING: C:/Users/Administrator/workspace/xgboost-win64_release_1.5.0/src/learner.cc:1115: Starting in XGBoost 1.3.0, the default evaluation metric used with the objective 'binary:logistic' was changed from 'error' to 'logloss'. Explicitly set eval_metric if you'd like to restore the old behavior.\n",
      "train [0.9499869043016251, 0.9506728694545954, 0.9491144923921178] 0.9499247553827793\n",
      "test [0.9318782738837615, 0.9332252432027938, 0.9329491880565741] 0.9326842350477098\n"
     ]
    }
   ],
   "source": [
    "from xgboost import XGBClassifier\n",
    "import numpy as np\n",
    "\n",
    "y = drop_data['SeriousDlqin2yrs'].to_numpy()\n",
    "X = drop_data.drop('SeriousDlqin2yrs', axis=1).to_numpy()\n",
    "\n",
    "from sklearn.model_selection import train_test_split\n",
    "X_train, X_test, y_train, y_test = train_test_split(X, y, stratify=y, random_state=0, test_size=0.2)\n",
    "X_train, X_val, y_train, y_val = train_test_split(X_train, y_train, stratify=y_train, random_state=0)\n",
    "\n",
    "acc_train_list = []\n",
    "acc_test_list =[]\n",
    "\n",
    "sfold= StratifiedKFold(n_splits=3)\n",
    "\n",
    "for train_index, test_index in sfold.split(X, y):\n",
    "    \n",
    "    X_train, y_train = X[train_index], y[train_index]\n",
    "    X_test, y_test = X[test_index], y[test_index]\n",
    "    \n",
    "    xgb = XGBClassifier(random_state=0)\n",
    "    \n",
    "    xgb.fit(X_train, y_train)\n",
    "    \n",
    "    pred_train = xgb.predict(X_train)\n",
    "    pred_test = xgb.predict(X_test)\n",
    "    \n",
    "    acc_train = accuracy_score(y_train, pred_train)\n",
    "    acc_test = accuracy_score(y_test, pred_test)\n",
    "    \n",
    "    acc_train_list.append(acc_train)\n",
    "    acc_test_list.append(acc_test)\n",
    "\n",
    "print('train', acc_train_list, np.mean(acc_train_list))\n",
    "print('test', acc_test_list, np.mean(acc_test_list))\n"
   ]
  },
  {
   "cell_type": "code",
   "execution_count": 157,
   "id": "1926dbea",
   "metadata": {
    "ExecuteTime": {
     "end_time": "2021-11-26T16:42:43.057705Z",
     "start_time": "2021-11-26T16:42:43.032707Z"
    }
   },
   "outputs": [
    {
     "data": {
      "text/plain": [
       "0.8463333238362587"
      ]
     },
     "execution_count": 157,
     "metadata": {},
     "output_type": "execute_result"
    }
   ],
   "source": [
    "from sklearn.metrics import roc_auc_score\n",
    "xgb_pos = xgb.predict_proba(X_test)[:,1]\n",
    "roc_auc_score(y_test, xgb_pos)"
   ]
  },
  {
   "cell_type": "markdown",
   "id": "e2bfbfcc",
   "metadata": {},
   "source": [
    "### cross val"
   ]
  },
  {
   "cell_type": "code",
   "execution_count": 122,
   "id": "38c05853",
   "metadata": {
    "ExecuteTime": {
     "end_time": "2021-11-25T02:06:54.663961Z",
     "start_time": "2021-11-25T02:06:43.160787Z"
    },
    "scrolled": true
   },
   "outputs": [
    {
     "name": "stderr",
     "output_type": "stream",
     "text": [
      "D:\\Program_Files\\anaconda3\\lib\\site-packages\\xgboost\\sklearn.py:1224: UserWarning: The use of label encoder in XGBClassifier is deprecated and will be removed in a future release. To remove this warning, do the following: 1) Pass option use_label_encoder=False when constructing XGBClassifier object; and 2) Encode your labels (y) as integers starting with 0, i.e. 0, 1, 2, ..., [num_class - 1].\n",
      "  warnings.warn(label_encoder_deprecation_msg, UserWarning)\n"
     ]
    },
    {
     "name": "stdout",
     "output_type": "stream",
     "text": [
      "[11:06:43] WARNING: C:/Users/Administrator/workspace/xgboost-win64_release_1.5.0/src/learner.cc:1115: Starting in XGBoost 1.3.0, the default evaluation metric used with the objective 'binary:logistic' was changed from 'error' to 'logloss'. Explicitly set eval_metric if you'd like to restore the old behavior.\n"
     ]
    },
    {
     "name": "stderr",
     "output_type": "stream",
     "text": [
      "D:\\Program_Files\\anaconda3\\lib\\site-packages\\xgboost\\sklearn.py:1224: UserWarning: The use of label encoder in XGBClassifier is deprecated and will be removed in a future release. To remove this warning, do the following: 1) Pass option use_label_encoder=False when constructing XGBClassifier object; and 2) Encode your labels (y) as integers starting with 0, i.e. 0, 1, 2, ..., [num_class - 1].\n",
      "  warnings.warn(label_encoder_deprecation_msg, UserWarning)\n"
     ]
    },
    {
     "name": "stdout",
     "output_type": "stream",
     "text": [
      "[11:06:45] WARNING: C:/Users/Administrator/workspace/xgboost-win64_release_1.5.0/src/learner.cc:1115: Starting in XGBoost 1.3.0, the default evaluation metric used with the objective 'binary:logistic' was changed from 'error' to 'logloss'. Explicitly set eval_metric if you'd like to restore the old behavior.\n"
     ]
    },
    {
     "name": "stderr",
     "output_type": "stream",
     "text": [
      "D:\\Program_Files\\anaconda3\\lib\\site-packages\\xgboost\\sklearn.py:1224: UserWarning: The use of label encoder in XGBClassifier is deprecated and will be removed in a future release. To remove this warning, do the following: 1) Pass option use_label_encoder=False when constructing XGBClassifier object; and 2) Encode your labels (y) as integers starting with 0, i.e. 0, 1, 2, ..., [num_class - 1].\n",
      "  warnings.warn(label_encoder_deprecation_msg, UserWarning)\n"
     ]
    },
    {
     "name": "stdout",
     "output_type": "stream",
     "text": [
      "[11:06:47] WARNING: C:/Users/Administrator/workspace/xgboost-win64_release_1.5.0/src/learner.cc:1115: Starting in XGBoost 1.3.0, the default evaluation metric used with the objective 'binary:logistic' was changed from 'error' to 'logloss'. Explicitly set eval_metric if you'd like to restore the old behavior.\n"
     ]
    },
    {
     "name": "stderr",
     "output_type": "stream",
     "text": [
      "D:\\Program_Files\\anaconda3\\lib\\site-packages\\xgboost\\sklearn.py:1224: UserWarning: The use of label encoder in XGBClassifier is deprecated and will be removed in a future release. To remove this warning, do the following: 1) Pass option use_label_encoder=False when constructing XGBClassifier object; and 2) Encode your labels (y) as integers starting with 0, i.e. 0, 1, 2, ..., [num_class - 1].\n",
      "  warnings.warn(label_encoder_deprecation_msg, UserWarning)\n"
     ]
    },
    {
     "name": "stdout",
     "output_type": "stream",
     "text": [
      "[11:06:50] WARNING: C:/Users/Administrator/workspace/xgboost-win64_release_1.5.0/src/learner.cc:1115: Starting in XGBoost 1.3.0, the default evaluation metric used with the objective 'binary:logistic' was changed from 'error' to 'logloss'. Explicitly set eval_metric if you'd like to restore the old behavior.\n"
     ]
    },
    {
     "name": "stderr",
     "output_type": "stream",
     "text": [
      "D:\\Program_Files\\anaconda3\\lib\\site-packages\\xgboost\\sklearn.py:1224: UserWarning: The use of label encoder in XGBClassifier is deprecated and will be removed in a future release. To remove this warning, do the following: 1) Pass option use_label_encoder=False when constructing XGBClassifier object; and 2) Encode your labels (y) as integers starting with 0, i.e. 0, 1, 2, ..., [num_class - 1].\n",
      "  warnings.warn(label_encoder_deprecation_msg, UserWarning)\n"
     ]
    },
    {
     "name": "stdout",
     "output_type": "stream",
     "text": [
      "[11:06:52] WARNING: C:/Users/Administrator/workspace/xgboost-win64_release_1.5.0/src/learner.cc:1115: Starting in XGBoost 1.3.0, the default evaluation metric used with the objective 'binary:logistic' was changed from 'error' to 'logloss'. Explicitly set eval_metric if you'd like to restore the old behavior.\n",
      "교차 검증별 정확도 [0.9327 0.9328 0.9327 0.934  0.9321]\n",
      "평균 검증 정확도 0.9329\n"
     ]
    }
   ],
   "source": [
    "from sklearn.model_selection import cross_val_score\n",
    "from xgboost import XGBClassifier\n",
    "import numpy as np\n",
    "\n",
    "xgb = XGBClassifier(random_state=0)\n",
    "score = cross_val_score(xgb, X, y, scoring = 'accuracy')\n",
    "\n",
    "print('교차 검증별 정확도', np.round(score,4))\n",
    "print('평균 검증 정확도', np.round(np.mean(score), 4))"
   ]
  },
  {
   "cell_type": "markdown",
   "id": "49ca6b0b",
   "metadata": {},
   "source": [
    "## lightgbm"
   ]
  },
  {
   "cell_type": "code",
   "execution_count": 158,
   "id": "92b1b327",
   "metadata": {
    "ExecuteTime": {
     "end_time": "2021-11-26T16:43:11.370810Z",
     "start_time": "2021-11-26T16:43:11.044811Z"
    },
    "scrolled": true
   },
   "outputs": [
    {
     "name": "stdout",
     "output_type": "stream",
     "text": [
      "0.9404963831379396 0.9346703584524433\n"
     ]
    }
   ],
   "source": [
    "from lightgbm import LGBMClassifier\n",
    "\n",
    "lgb = LGBMClassifier(random_state=0)\n",
    "\n",
    "lgb.fit(X_train, y_train)\n",
    "\n",
    "lgb_train_score = lgb.score(X_train, y_train)\n",
    "lgb_test_score = lgb.score(X_test, y_test)\n",
    "\n",
    "print(lgb_train_score, lgb_test_score)"
   ]
  },
  {
   "cell_type": "markdown",
   "id": "a11270b4",
   "metadata": {
    "ExecuteTime": {
     "end_time": "2021-11-25T01:22:27.993297Z",
     "start_time": "2021-11-25T01:22:27.982274Z"
    }
   },
   "source": [
    "### holdout"
   ]
  },
  {
   "cell_type": "code",
   "execution_count": 159,
   "id": "a9282de3",
   "metadata": {
    "ExecuteTime": {
     "end_time": "2021-11-26T16:43:32.571429Z",
     "start_time": "2021-11-26T16:43:32.449409Z"
    }
   },
   "outputs": [
    {
     "name": "stdout",
     "output_type": "stream",
     "text": [
      "1.0 1.0 1.0\n"
     ]
    }
   ],
   "source": [
    "from sklearn.tree import DecisionTreeClassifier\n",
    "from lightgbm import LGBMClassifier\n",
    "\n",
    "X,y = drop_data.iloc[:,:1], drop_data.iloc[:,0]\n",
    "\n",
    "from sklearn.model_selection import train_test_split\n",
    "X_train, X_test, y_train, y_test = train_test_split(X, y, stratify=y, random_state=0, test_size=0.2)\n",
    "\n",
    "X_train, X_val, y_train, y_val = train_test_split(X_train, y_train, stratify=y_train, random_state=0)\n",
    "\n",
    "lg = LGBMClassifier(random_state=0)\n",
    "\n",
    "lg.fit(X_train, y_train)\n",
    "train_pred = lg.predict(X_train)\n",
    "val_pred = lg.predict(X_val)\n",
    "test_pred = lg.predict(X_test)\n",
    "\n",
    "acc_train = accuracy_score(y_train, train_pred)\n",
    "acc_val = accuracy_score(y_val, val_pred)\n",
    "acc_test = accuracy_score(y_test, test_pred)\n",
    "\n",
    "print(acc_train, acc_val, acc_test)\n",
    "\n",
    "#??? 진짜 빠름"
   ]
  },
  {
   "cell_type": "code",
   "execution_count": 160,
   "id": "4806441a",
   "metadata": {
    "ExecuteTime": {
     "end_time": "2021-11-26T16:44:03.149904Z",
     "start_time": "2021-11-26T16:44:03.124905Z"
    }
   },
   "outputs": [
    {
     "data": {
      "text/plain": [
       "1.0"
      ]
     },
     "execution_count": 160,
     "metadata": {},
     "output_type": "execute_result"
    }
   ],
   "source": [
    "from sklearn.metrics import roc_auc_score\n",
    "lg_pos = lg.predict_proba(X_test)[:,1]\n",
    "roc_auc_score(y_test, lg_pos)"
   ]
  },
  {
   "cell_type": "markdown",
   "id": "087724b9",
   "metadata": {},
   "source": [
    "### StratifiedKFold"
   ]
  },
  {
   "cell_type": "code",
   "execution_count": 161,
   "id": "4d56a11e",
   "metadata": {
    "ExecuteTime": {
     "end_time": "2021-11-26T16:44:20.428715Z",
     "start_time": "2021-11-26T16:44:19.763687Z"
    }
   },
   "outputs": [
    {
     "name": "stdout",
     "output_type": "stream",
     "text": [
      "train [0.9409446363761085, 0.9402960875042093, 0.9404963831379396] 0.9405790356727525\n",
      "test [0.9336991768520828, 0.9346221002743826, 0.9346703584524433] 0.9343305451929695\n"
     ]
    }
   ],
   "source": [
    "from sklearn.model_selection import StratifiedKFold\n",
    "from lightgbm import LGBMClassifier\n",
    "import numpy as np\n",
    "\n",
    "y = drop_data['SeriousDlqin2yrs'].to_numpy()\n",
    "X = drop_data.drop('SeriousDlqin2yrs', axis=1).to_numpy()\n",
    "\n",
    "from sklearn.model_selection import train_test_split\n",
    "X_train, X_test, y_train, y_test = train_test_split(X, y, stratify=y, random_state=0, test_size=0.2)\n",
    "X_train, X_val, y_train, y_val = train_test_split(X_train, y_train, stratify=y_train, random_state=0)\n",
    "\n",
    "acc_train_list = []\n",
    "acc_test_list =[]\n",
    "\n",
    "sfold = StratifiedKFold(n_splits=3)\n",
    "\n",
    "for train_index, test_index in sfold.split(X, y):\n",
    "    \n",
    "    X_train, y_train = X[train_index], y[train_index]\n",
    "    X_test, y_test = X[test_index], y[test_index]\n",
    "    \n",
    "    lg = LGBMClassifier(random_state=0)\n",
    "    \n",
    "    lg.fit(X_train, y_train)\n",
    "    \n",
    "    pred_train = lg.predict(X_train)\n",
    "    pred_test = lg.predict(X_test)\n",
    "    \n",
    "    acc_train = accuracy_score(y_train, pred_train)\n",
    "    acc_test = accuracy_score(y_test, pred_test)\n",
    "    \n",
    "    acc_train_list.append(acc_train)\n",
    "    acc_test_list.append(acc_test)\n",
    "\n",
    "print('train', acc_train_list, np.mean(acc_train_list))\n",
    "print('test', acc_test_list, np.mean(acc_test_list))    "
   ]
  },
  {
   "cell_type": "code",
   "execution_count": 163,
   "id": "4fa1f505",
   "metadata": {
    "ExecuteTime": {
     "end_time": "2021-11-26T16:44:52.385766Z",
     "start_time": "2021-11-26T16:44:52.345767Z"
    }
   },
   "outputs": [
    {
     "data": {
      "text/plain": [
       "0.8560074564228651"
      ]
     },
     "execution_count": 163,
     "metadata": {},
     "output_type": "execute_result"
    }
   ],
   "source": [
    "from sklearn.metrics import roc_auc_score\n",
    "lg_pos = lg.predict_proba(X_test)[:,1]\n",
    "roc_auc_score(y_test, lg_pos)"
   ]
  },
  {
   "cell_type": "markdown",
   "id": "b244ddad",
   "metadata": {},
   "source": [
    "### cross validation"
   ]
  },
  {
   "cell_type": "code",
   "execution_count": 120,
   "id": "afacd3bd",
   "metadata": {
    "ExecuteTime": {
     "end_time": "2021-11-25T02:03:31.202700Z",
     "start_time": "2021-11-25T02:03:30.202654Z"
    },
    "scrolled": true
   },
   "outputs": [
    {
     "name": "stdout",
     "output_type": "stream",
     "text": [
      "교차 검증별 정확도 [0.9329 0.9334 0.9337 0.9341 0.9331]\n",
      "평균 검증 정확도 0.9335\n"
     ]
    }
   ],
   "source": [
    "from sklearn.model_selection import cross_val_score\n",
    "import numpy as np\n",
    "from lightgbm import LGBMClassifier\n",
    "\n",
    "lg = LGBMClassifier(random_state=0)\n",
    "scores = cross_val_score(lg, X, y, scoring='accuracy')\n",
    "\n",
    "print('교차 검증별 정확도', np.round(score, 4))\n",
    "print('평균 검증 정확도', np.round(np.mean(score),4))"
   ]
  },
  {
   "cell_type": "markdown",
   "id": "c178a5a0",
   "metadata": {},
   "source": [
    "##  ExtraTreesClassifier"
   ]
  },
  {
   "cell_type": "markdown",
   "id": "d504f0b7",
   "metadata": {},
   "source": [
    "### holdout"
   ]
  },
  {
   "cell_type": "code",
   "execution_count": 164,
   "id": "d5f5c7bd",
   "metadata": {
    "ExecuteTime": {
     "end_time": "2021-11-26T16:45:29.993624Z",
     "start_time": "2021-11-26T16:45:29.864601Z"
    }
   },
   "outputs": [
    {
     "name": "stdout",
     "output_type": "stream",
     "text": [
      "0.9999722841978353 0.8937806601812588 0.8968154984617943\n"
     ]
    }
   ],
   "source": [
    "# ExtraTreesClassifier\n",
    "#포레스트 트리의 각 후보 특성을 무작위로 분할하는 식으로 무작위성을 증가시킴\n",
    "from sklearn.tree import ExtraTreeClassifier\n",
    "\n",
    "y = drop_data['SeriousDlqin2yrs'].to_numpy()\n",
    "X = drop_data.drop('SeriousDlqin2yrs', axis=1).to_numpy()\n",
    "\n",
    "from sklearn.model_selection import train_test_split\n",
    "X_train, X_test, y_train, y_test = train_test_split(X, y, stratify=y, random_state=0, test_size=0.2)\n",
    "\n",
    "X_train, X_val, y_train, y_val = train_test_split(X_train, y_train, stratify=y_train, random_state=0)\n",
    "\n",
    "extree = ExtraTreeClassifier(random_state=0)\n",
    "\n",
    "tree=extree.fit(X_train, y_train)\n",
    "train_pred = extree.predict(X_train)\n",
    "val_pred = extree.predict(X_val)\n",
    "test_pred = extree.predict(X_test)\n",
    "\n",
    "acc_train = accuracy_score(y_train, train_pred)\n",
    "acc_val = accuracy_score(y_val, val_pred)\n",
    "acc_test = accuracy_score(y_test, test_pred)\n",
    "\n",
    "print(acc_train, acc_val, acc_test)"
   ]
  },
  {
   "cell_type": "code",
   "execution_count": 165,
   "id": "ddc329d0",
   "metadata": {
    "ExecuteTime": {
     "end_time": "2021-11-26T16:45:49.213733Z",
     "start_time": "2021-11-26T16:45:49.189734Z"
    }
   },
   "outputs": [
    {
     "data": {
      "text/plain": [
       "0.8845609109653595"
      ]
     },
     "execution_count": 165,
     "metadata": {},
     "output_type": "execute_result"
    }
   ],
   "source": [
    "from sklearn.metrics import roc_auc_score\n",
    "lg_pos = lg.predict_proba(X_test)[:,1]\n",
    "roc_auc_score(y_test, lg_pos)"
   ]
  },
  {
   "cell_type": "code",
   "execution_count": null,
   "id": "26f7e65e",
   "metadata": {},
   "outputs": [],
   "source": [
    "#cross validation"
   ]
  },
  {
   "cell_type": "markdown",
   "id": "da4c22a1",
   "metadata": {},
   "source": [
    "### StratifiedKFold"
   ]
  },
  {
   "cell_type": "code",
   "execution_count": 166,
   "id": "42628a66",
   "metadata": {
    "ExecuteTime": {
     "end_time": "2021-11-26T16:46:02.682437Z",
     "start_time": "2021-11-26T16:46:02.387427Z"
    }
   },
   "outputs": [
    {
     "name": "stdout",
     "output_type": "stream",
     "text": [
      "train [0.9999875279063096, 0.9999750558126193, 1.0] 0.9999875279063096\n",
      "test [0.893788974806685, 0.8953105512596657, 0.8970789992267205] 0.8953928417643571\n"
     ]
    }
   ],
   "source": [
    "from sklearn.model_selection import StratifiedKFold\n",
    "from sklearn.tree import ExtraTreeClassifier\n",
    "import numpy as np\n",
    "\n",
    "y = drop_data['SeriousDlqin2yrs'].to_numpy()\n",
    "X = drop_data.drop('SeriousDlqin2yrs', axis=1).to_numpy()\n",
    "\n",
    "from sklearn.model_selection import train_test_split\n",
    "X_train, X_test, y_train, y_test = train_test_split(X, y, stratify=y, random_state=0, test_size=0.2)\n",
    "X_train, X_val, y_train, y_val = train_test_split(X_train, y_train, stratify=y_train, random_state=0)\n",
    "\n",
    "acc_train_list = []\n",
    "acc_test_list =[]\n",
    "\n",
    "sfold = StratifiedKFold(n_splits=3)\n",
    "\n",
    "for train_index, test_index in sfold.split(X, y):\n",
    "    \n",
    "    X_train, y_train = X[train_index], y[train_index]\n",
    "    X_test, y_test = X[test_index], y[test_index]\n",
    "    \n",
    "    extree = ExtraTreeClassifier(random_state=0)\n",
    "    \n",
    "    extree.fit(X_train, y_train)\n",
    "    \n",
    "    pred_train = extree.predict(X_train)\n",
    "    pred_test = extree.predict(X_test)\n",
    "    \n",
    "    acc_train = accuracy_score(y_train, pred_train)\n",
    "    acc_test = accuracy_score(y_test, pred_test)\n",
    "    \n",
    "    acc_train_list.append(acc_train)\n",
    "    acc_test_list.append(acc_test)\n",
    "\n",
    "    \n",
    "print('train', acc_train_list, np.mean(acc_train_list))\n",
    "print('test', acc_test_list, np.mean(acc_test_list))    "
   ]
  },
  {
   "cell_type": "code",
   "execution_count": 167,
   "id": "7b0b3867",
   "metadata": {
    "ExecuteTime": {
     "end_time": "2021-11-26T16:46:26.267920Z",
     "start_time": "2021-11-26T16:46:26.243897Z"
    }
   },
   "outputs": [
    {
     "data": {
      "text/plain": [
       "0.6069556847884969"
      ]
     },
     "execution_count": 167,
     "metadata": {},
     "output_type": "execute_result"
    }
   ],
   "source": [
    "from sklearn.metrics import roc_auc_score\n",
    "extree_pos = extree.predict_proba(X_test)[:,1]\n",
    "roc_auc_score(y_test, extree_pos)"
   ]
  },
  {
   "cell_type": "markdown",
   "id": "31a6d342",
   "metadata": {},
   "source": [
    "### cross validation"
   ]
  },
  {
   "cell_type": "code",
   "execution_count": 127,
   "id": "b527daff",
   "metadata": {
    "ExecuteTime": {
     "end_time": "2021-11-25T02:14:05.779021Z",
     "start_time": "2021-11-25T02:14:05.434619Z"
    }
   },
   "outputs": [
    {
     "name": "stdout",
     "output_type": "stream",
     "text": [
      "교차 검증별 정확도 [0.9327 0.9328 0.9327 0.934  0.9321]\n",
      "평균 검증 정확도 0.9329\n"
     ]
    }
   ],
   "source": [
    "from sklearn.model_selection import cross_val_score\n",
    "import numpy as np\n",
    "from sklearn.tree import ExtraTreeClassifier\n",
    "\n",
    "extree = ExtraTreeClassifier(random_state=0)\n",
    "scores = cross_val_score(extree, X, y, scoring='accuracy')\n",
    "\n",
    "print('교차 검증별 정확도', np.round(score, 4))\n",
    "print('평균 검증 정확도', np.round(np.mean(score),4))"
   ]
  },
  {
   "cell_type": "markdown",
   "id": "610e6a98",
   "metadata": {
    "ExecuteTime": {
     "end_time": "2021-11-24T16:38:10.322111Z",
     "start_time": "2021-11-24T16:38:10.313075Z"
    }
   },
   "source": [
    "# 그외 baseline model"
   ]
  },
  {
   "cell_type": "markdown",
   "id": "eaba72c0",
   "metadata": {
    "ExecuteTime": {
     "end_time": "2021-11-25T00:13:06.522858Z",
     "start_time": "2021-11-25T00:13:06.508824Z"
    }
   },
   "source": [
    "## 원핫인코딩"
   ]
  },
  {
   "cell_type": "markdown",
   "id": "5d898c15",
   "metadata": {},
   "source": [
    "#레이블 인코딩\n",
    "- 숫자의 차이가 모델에 영향을 주지 않는 트리 계열 모델(의사결정나무, 랜덤포레스트)에 적용한다.\n",
    "- 숫자의 차이가 모델에 영향을 미치는 선형 계열 모델(로지스틱회귀, SVM, 신경망)에는 사용하면 안된다.\n",
    "\n",
    "#원핫인코딩\n",
    "- 숫자의 차이가 모델에 영향을 미치는 선형 계열 모델(로지스틱회귀, SVM, 신경망)에서 범주형 데이터 변환시 Label Encoding보다 One Hot Encoding을 사용한다.\n",
    "- DecisionTree 계열의 알고리즘은 Feature에 0이 많은 경우(Sparse Matrix라고 한다.) 성능이 떨어지기 때문에 Label Encoding을 한다.\n",
    "\n",
    "선형모델(로지스틱 회귀, svm, 신경망)\n",
    "-원핫인코딩 ,스케일 변환 필요\n",
    "\n",
    "비선형모델(트리계열 알고리즘)\n",
    "-레이블인코딩\n",
    "\n"
   ]
  },
  {
   "cell_type": "code",
   "execution_count": 208,
   "id": "fbad7595",
   "metadata": {
    "ExecuteTime": {
     "end_time": "2021-11-25T07:24:56.282295Z",
     "start_time": "2021-11-25T07:24:56.269294Z"
    },
    "scrolled": true
   },
   "outputs": [
    {
     "data": {
      "text/plain": [
       "Index(['SeriousDlqin2yrs', 'RevolvingUtilizationOfUnsecuredLines', 'age',\n",
       "       'NumberOfTime30-59DaysPastDueNotWorse', 'DebtRatio', 'MonthlyIncome',\n",
       "       'NumberOfOpenCreditLinesAndLoans', 'NumberOfTimes90DaysLate',\n",
       "       'NumberRealEstateLoansOrLines', 'NumberOfTime60-89DaysPastDueNotWorse',\n",
       "       'NumberOfDependents'],\n",
       "      dtype='object')"
      ]
     },
     "execution_count": 208,
     "metadata": {},
     "output_type": "execute_result"
    }
   ],
   "source": [
    "drop_data.columns"
   ]
  },
  {
   "cell_type": "code",
   "execution_count": 207,
   "id": "02843a3a",
   "metadata": {
    "ExecuteTime": {
     "end_time": "2021-11-25T07:24:26.491570Z",
     "start_time": "2021-11-25T07:24:26.456559Z"
    },
    "scrolled": true
   },
   "outputs": [
    {
     "data": {
      "text/html": [
       "<div>\n",
       "<style scoped>\n",
       "    .dataframe tbody tr th:only-of-type {\n",
       "        vertical-align: middle;\n",
       "    }\n",
       "\n",
       "    .dataframe tbody tr th {\n",
       "        vertical-align: top;\n",
       "    }\n",
       "\n",
       "    .dataframe thead th {\n",
       "        text-align: right;\n",
       "    }\n",
       "</style>\n",
       "<table border=\"1\" class=\"dataframe\">\n",
       "  <thead>\n",
       "    <tr style=\"text-align: right;\">\n",
       "      <th></th>\n",
       "      <th>RevolvingUtilizationOfUnsecuredLines</th>\n",
       "      <th>age</th>\n",
       "      <th>NumberOfTime30-59DaysPastDueNotWorse</th>\n",
       "      <th>DebtRatio</th>\n",
       "      <th>MonthlyIncome</th>\n",
       "      <th>NumberOfOpenCreditLinesAndLoans</th>\n",
       "      <th>NumberOfTimes90DaysLate</th>\n",
       "      <th>NumberRealEstateLoansOrLines</th>\n",
       "      <th>NumberOfTime60-89DaysPastDueNotWorse</th>\n",
       "      <th>NumberOfDependents</th>\n",
       "      <th>SeriousDlqin2yrs</th>\n",
       "    </tr>\n",
       "  </thead>\n",
       "  <tbody>\n",
       "    <tr>\n",
       "      <th>0</th>\n",
       "      <td>0.766127</td>\n",
       "      <td>45</td>\n",
       "      <td>2</td>\n",
       "      <td>0.802982</td>\n",
       "      <td>9120.0</td>\n",
       "      <td>13</td>\n",
       "      <td>0</td>\n",
       "      <td>6</td>\n",
       "      <td>0</td>\n",
       "      <td>2.0</td>\n",
       "      <td>1</td>\n",
       "    </tr>\n",
       "    <tr>\n",
       "      <th>1</th>\n",
       "      <td>0.957151</td>\n",
       "      <td>40</td>\n",
       "      <td>0</td>\n",
       "      <td>0.121876</td>\n",
       "      <td>2600.0</td>\n",
       "      <td>4</td>\n",
       "      <td>0</td>\n",
       "      <td>0</td>\n",
       "      <td>0</td>\n",
       "      <td>1.0</td>\n",
       "      <td>0</td>\n",
       "    </tr>\n",
       "    <tr>\n",
       "      <th>2</th>\n",
       "      <td>0.658180</td>\n",
       "      <td>38</td>\n",
       "      <td>1</td>\n",
       "      <td>0.085113</td>\n",
       "      <td>3042.0</td>\n",
       "      <td>2</td>\n",
       "      <td>1</td>\n",
       "      <td>0</td>\n",
       "      <td>0</td>\n",
       "      <td>0.0</td>\n",
       "      <td>0</td>\n",
       "    </tr>\n",
       "    <tr>\n",
       "      <th>3</th>\n",
       "      <td>0.233810</td>\n",
       "      <td>30</td>\n",
       "      <td>0</td>\n",
       "      <td>0.036050</td>\n",
       "      <td>3300.0</td>\n",
       "      <td>5</td>\n",
       "      <td>0</td>\n",
       "      <td>0</td>\n",
       "      <td>0</td>\n",
       "      <td>0.0</td>\n",
       "      <td>0</td>\n",
       "    </tr>\n",
       "    <tr>\n",
       "      <th>4</th>\n",
       "      <td>0.907239</td>\n",
       "      <td>49</td>\n",
       "      <td>1</td>\n",
       "      <td>0.024926</td>\n",
       "      <td>63588.0</td>\n",
       "      <td>7</td>\n",
       "      <td>0</td>\n",
       "      <td>1</td>\n",
       "      <td>0</td>\n",
       "      <td>0.0</td>\n",
       "      <td>0</td>\n",
       "    </tr>\n",
       "  </tbody>\n",
       "</table>\n",
       "</div>"
      ],
      "text/plain": [
       "   RevolvingUtilizationOfUnsecuredLines  age  \\\n",
       "0                              0.766127   45   \n",
       "1                              0.957151   40   \n",
       "2                              0.658180   38   \n",
       "3                              0.233810   30   \n",
       "4                              0.907239   49   \n",
       "\n",
       "   NumberOfTime30-59DaysPastDueNotWorse  DebtRatio  MonthlyIncome  \\\n",
       "0                                     2   0.802982         9120.0   \n",
       "1                                     0   0.121876         2600.0   \n",
       "2                                     1   0.085113         3042.0   \n",
       "3                                     0   0.036050         3300.0   \n",
       "4                                     1   0.024926        63588.0   \n",
       "\n",
       "   NumberOfOpenCreditLinesAndLoans  NumberOfTimes90DaysLate  \\\n",
       "0                               13                        0   \n",
       "1                                4                        0   \n",
       "2                                2                        1   \n",
       "3                                5                        0   \n",
       "4                                7                        0   \n",
       "\n",
       "   NumberRealEstateLoansOrLines  NumberOfTime60-89DaysPastDueNotWorse  \\\n",
       "0                             6                                     0   \n",
       "1                             0                                     0   \n",
       "2                             0                                     0   \n",
       "3                             0                                     0   \n",
       "4                             1                                     0   \n",
       "\n",
       "   NumberOfDependents  SeriousDlqin2yrs  \n",
       "0                 2.0                 1  \n",
       "1                 1.0                 0  \n",
       "2                 0.0                 0  \n",
       "3                 0.0                 0  \n",
       "4                 0.0                 0  "
      ]
     },
     "execution_count": 207,
     "metadata": {},
     "output_type": "execute_result"
    }
   ],
   "source": [
    "#test\n",
    "from sklearn.preprocessing import OneHotEncoder\n",
    "ohe = OneHotEncoder()\n",
    "\n",
    "#get_dummies\n",
    "ohe_drop_data_data=pd.get_dummies(drop_data.drop(columns='SeriousDlqin2yrs'))\n",
    "\n",
    "ohe_d=ohe_drop_data_data.join(drop_data['SeriousDlqin2yrs'])\n",
    "ohe_d.head()\n",
    "\n",
    "#변환할게 없음"
   ]
  },
  {
   "cell_type": "markdown",
   "id": "f85c558f",
   "metadata": {},
   "source": [
    "## LogisticRegression"
   ]
  },
  {
   "cell_type": "markdown",
   "id": "1b7fde69",
   "metadata": {},
   "source": [
    "### StandardScaler"
   ]
  },
  {
   "cell_type": "markdown",
   "id": "eec47ec2",
   "metadata": {},
   "source": [
    "#### holdout"
   ]
  },
  {
   "cell_type": "code",
   "execution_count": 169,
   "id": "5883c3b4",
   "metadata": {
    "ExecuteTime": {
     "end_time": "2021-11-26T16:48:36.851063Z",
     "start_time": "2021-11-26T16:48:36.699040Z"
    }
   },
   "outputs": [
    {
     "name": "stdout",
     "output_type": "stream",
     "text": [
      "0.9309460789068887 0.9305313045647293 0.9321942296499542\n"
     ]
    }
   ],
   "source": [
    "from sklearn.linear_model import LogisticRegression\n",
    "\n",
    "y = drop_data['SeriousDlqin2yrs'].to_numpy()\n",
    "X = drop_data.drop('SeriousDlqin2yrs', axis=1).to_numpy()\n",
    "\n",
    "from sklearn.model_selection import train_test_split\n",
    "X_train, X_test, y_train, y_test = train_test_split(X, y, stratify=y, random_state=0, test_size=0.2)\n",
    "\n",
    "X_train, X_val, y_train, y_val = train_test_split(X_train, y_train, stratify=y_train, random_state=0)\n",
    "\n",
    "#scaling\n",
    "from sklearn.preprocessing import StandardScaler\n",
    "sd=StandardScaler()\n",
    "\n",
    "X_train=sd.fit_transform(X_train)\n",
    "X_val=sd.transform(X_val)\n",
    "X_test=sd.transform(X_test)\n",
    "\n",
    "lr = LogisticRegression(random_state=0)\n",
    "\n",
    "lr=lr.fit(X_train, y_train)\n",
    "train_pred = lr.predict(X_train)\n",
    "val_pred = lr.predict(X_val)\n",
    "test_pred = lr.predict(X_test)\n",
    "\n",
    "acc_train = accuracy_score(y_train, train_pred)\n",
    "acc_val = accuracy_score(y_val, val_pred)\n",
    "acc_test = accuracy_score(y_test, test_pred)\n",
    "\n",
    "print(acc_train, acc_val, acc_test)"
   ]
  },
  {
   "cell_type": "code",
   "execution_count": 170,
   "id": "ad5771b9",
   "metadata": {
    "ExecuteTime": {
     "end_time": "2021-11-26T16:48:50.225718Z",
     "start_time": "2021-11-26T16:48:50.207719Z"
    }
   },
   "outputs": [
    {
     "data": {
      "text/plain": [
       "0.6921501215189255"
      ]
     },
     "execution_count": 170,
     "metadata": {},
     "output_type": "execute_result"
    }
   ],
   "source": [
    "from sklearn.metrics import roc_auc_score\n",
    "lr_pos = lr.predict_proba(X_test)[:,1]\n",
    "roc_auc_score(y_test, lr_pos)"
   ]
  },
  {
   "cell_type": "markdown",
   "id": "11ed0924",
   "metadata": {},
   "source": [
    "#### StratifiedKFold"
   ]
  },
  {
   "cell_type": "code",
   "execution_count": 171,
   "id": "6ba0b3b9",
   "metadata": {
    "ExecuteTime": {
     "end_time": "2021-11-26T16:49:01.669340Z",
     "start_time": "2021-11-26T16:49:01.359035Z"
    }
   },
   "outputs": [
    {
     "data": {
      "text/plain": [
       "(array([0.93090546, 0.93127962, 0.93145252]), 0.931212533903036)"
      ]
     },
     "execution_count": 171,
     "metadata": {},
     "output_type": "execute_result"
    }
   ],
   "source": [
    "from sklearn.model_selection import StratifiedKFold\n",
    "from sklearn.linear_model import LogisticRegression\n",
    "import numpy as np\n",
    "\n",
    "y = drop_data['SeriousDlqin2yrs'].to_numpy()\n",
    "X = drop_data.drop('SeriousDlqin2yrs', axis=1).to_numpy()\n",
    "\n",
    "from sklearn.pipeline import Pipeline\n",
    "scalar = StandardScaler()\n",
    "lr = LogisticRegression(random_state=0)\n",
    "\n",
    "pipeline = Pipeline([('transformer', scalar), ('estimator', lr)])\n",
    "\n",
    "cv = StratifiedKFold(n_splits=3)\n",
    "\n",
    "scores = cross_val_score(pipeline, X, y, cv = cv)\n",
    "scores, np.mean(scores)  "
   ]
  },
  {
   "cell_type": "markdown",
   "id": "af16287c",
   "metadata": {},
   "source": [
    "### MinMaxScaler"
   ]
  },
  {
   "cell_type": "markdown",
   "id": "9435ed8a",
   "metadata": {},
   "source": [
    "#### holdout"
   ]
  },
  {
   "cell_type": "code",
   "execution_count": 172,
   "id": "05d74a92",
   "metadata": {
    "ExecuteTime": {
     "end_time": "2021-11-26T16:49:38.883483Z",
     "start_time": "2021-11-26T16:49:38.653461Z"
    }
   },
   "outputs": [
    {
     "name": "stdout",
     "output_type": "stream",
     "text": [
      "0.9305996313798313 0.9304897314375987 0.9311133283445581\n"
     ]
    }
   ],
   "source": [
    "from sklearn.linear_model import LogisticRegression\n",
    "\n",
    "y = drop_data['SeriousDlqin2yrs'].to_numpy()\n",
    "X = drop_data.drop('SeriousDlqin2yrs', axis=1).to_numpy()\n",
    "\n",
    "from sklearn.model_selection import train_test_split\n",
    "X_train, X_test, y_train, y_test = train_test_split(X, y, stratify=y, random_state=0, test_size=0.2)\n",
    "\n",
    "X_train, X_val, y_train, y_val = train_test_split(X_train, y_train, stratify=y_train, random_state=0)\n",
    "\n",
    "#scaling\n",
    "from sklearn.preprocessing import MinMaxScaler\n",
    "mm=MinMaxScaler()\n",
    "\n",
    "X_train=mm.fit_transform(X_train)\n",
    "X_val=mm.transform(X_val)\n",
    "X_test=mm.transform(X_test)\n",
    "\n",
    "lr = LogisticRegression(random_state=0)\n",
    "\n",
    "lr=lr.fit(X_train, y_train)\n",
    "train_pred = lr.predict(X_train)\n",
    "val_pred = lr.predict(X_val)\n",
    "test_pred = lr.predict(X_test)\n",
    "\n",
    "acc_train = accuracy_score(y_train, train_pred)\n",
    "acc_val = accuracy_score(y_val, val_pred)\n",
    "acc_test = accuracy_score(y_test, test_pred)\n",
    "\n",
    "print(acc_train, acc_val, acc_test)"
   ]
  },
  {
   "cell_type": "code",
   "execution_count": 173,
   "id": "0eedfe56",
   "metadata": {
    "ExecuteTime": {
     "end_time": "2021-11-26T16:49:52.217067Z",
     "start_time": "2021-11-26T16:49:52.201068Z"
    }
   },
   "outputs": [
    {
     "data": {
      "text/plain": [
       "0.6505858658387537"
      ]
     },
     "execution_count": 173,
     "metadata": {},
     "output_type": "execute_result"
    }
   ],
   "source": [
    "from sklearn.metrics import roc_auc_score\n",
    "lr_pos = lr.predict_proba(X_test)[:,1]\n",
    "roc_auc_score(y_test, lr_pos)"
   ]
  },
  {
   "cell_type": "markdown",
   "id": "c47d71ef",
   "metadata": {},
   "source": [
    "#### StratifiedKFold"
   ]
  },
  {
   "cell_type": "code",
   "execution_count": 250,
   "id": "77581cac",
   "metadata": {
    "ExecuteTime": {
     "end_time": "2021-11-25T08:35:03.685167Z",
     "start_time": "2021-11-25T08:35:03.113102Z"
    }
   },
   "outputs": [
    {
     "data": {
      "text/plain": [
       "(array([0.93055625, 0.93050636, 0.93097857]), 0.9306803939350851)"
      ]
     },
     "execution_count": 250,
     "metadata": {},
     "output_type": "execute_result"
    }
   ],
   "source": [
    "from sklearn.model_selection import StratifiedKFold\n",
    "from sklearn.linear_model import LogisticRegression\n",
    "import numpy as np\n",
    "\n",
    "y = drop_data['SeriousDlqin2yrs'].to_numpy()\n",
    "X = drop_data.drop('SeriousDlqin2yrs', axis=1).to_numpy()\n",
    "\n",
    "from sklearn.pipeline import Pipeline\n",
    "from sklearn.preprocessing import MinMaxScaler\n",
    "scaler= MinMaxScaler()\n",
    "lr = LogisticRegression(random_state=0)\n",
    "\n",
    "pipeline = Pipeline([('transformer', scaler), ('estimator', lr)])\n",
    "cv = StratifiedKFold(n_splits=3)\n",
    "\n",
    "scores = cross_val_score(pipeline, X, y, cv=cv)\n",
    "scores, np.mean(scores)"
   ]
  },
  {
   "cell_type": "markdown",
   "id": "f005fd96",
   "metadata": {},
   "source": [
    "## knn"
   ]
  },
  {
   "cell_type": "markdown",
   "id": "b2832a53",
   "metadata": {},
   "source": [
    "### StandardScaler"
   ]
  },
  {
   "cell_type": "markdown",
   "id": "2d302131",
   "metadata": {},
   "source": [
    "#### holdout"
   ]
  },
  {
   "cell_type": "code",
   "execution_count": 174,
   "id": "3ceac9dd",
   "metadata": {
    "ExecuteTime": {
     "end_time": "2021-11-26T16:50:41.510290Z",
     "start_time": "2021-11-26T16:50:28.781124Z"
    }
   },
   "outputs": [
    {
     "name": "stdout",
     "output_type": "stream",
     "text": [
      "0.9397597039952329 0.9313211939802112 0.9300324270391619\n"
     ]
    }
   ],
   "source": [
    "from sklearn.neighbors import KNeighborsClassifier\n",
    "from sklearn.preprocessing import StandardScaler\n",
    "\n",
    "y = drop_data['SeriousDlqin2yrs'].to_numpy()\n",
    "X = drop_data.drop('SeriousDlqin2yrs', axis=1).to_numpy()\n",
    "\n",
    "from sklearn.model_selection import train_test_split\n",
    "X_train, X_test, y_train, y_test = train_test_split(X, y, stratify=y, random_state=0, test_size=0.2)\n",
    "\n",
    "X_train, X_val, y_train, y_val = train_test_split(X_train, y_train, stratify=y_train, random_state=0)\n",
    "\n",
    "#scaling\n",
    "ss=StandardScaler()\n",
    "\n",
    "X_train=ss.fit_transform(X_train)\n",
    "X_val=ss.transform(X_val)\n",
    "X_test=ss.transform(X_test)\n",
    "\n",
    "knn = KNeighborsClassifier()\n",
    "knn = knn.fit(X_train, y_train)\n",
    "train_pred = knn.predict(X_train)\n",
    "val_pred = knn.predict(X_val)\n",
    "test_pred = knn.predict(X_test)\n",
    "acc_train = accuracy_score(y_train, train_pred)\n",
    "acc_val = accuracy_score(y_val, val_pred)\n",
    "acc_test = accuracy_score(y_test, test_pred)\n",
    "\n",
    "print(acc_train, acc_val, acc_test)"
   ]
  },
  {
   "cell_type": "code",
   "execution_count": 175,
   "id": "1763bb64",
   "metadata": {
    "ExecuteTime": {
     "end_time": "2021-11-26T16:50:47.263988Z",
     "start_time": "2021-11-26T16:50:44.972988Z"
    }
   },
   "outputs": [
    {
     "data": {
      "text/plain": [
       "0.6860000481792508"
      ]
     },
     "execution_count": 175,
     "metadata": {},
     "output_type": "execute_result"
    }
   ],
   "source": [
    "from sklearn.metrics import roc_auc_score\n",
    "knn_pos = knn.predict_proba(X_test)[:,1]\n",
    "roc_auc_score(y_test, knn_pos)"
   ]
  },
  {
   "cell_type": "markdown",
   "id": "3d3323ae",
   "metadata": {},
   "source": [
    "#### StratifiedKFold"
   ]
  },
  {
   "cell_type": "code",
   "execution_count": null,
   "id": "c0008dba",
   "metadata": {
    "ExecuteTime": {
     "end_time": "2021-11-26T14:25:36.619206Z",
     "start_time": "2021-11-26T14:25:36.619206Z"
    }
   },
   "outputs": [],
   "source": [
    "from sklearn.model_selection import StratifiedKFold\n",
    "from sklearn.neighbors import KNeighborsClassifier\n",
    "from sklearn.model_selection import cross_val_score\n",
    "import numpy as np\n",
    "\n",
    "y= drop_data['SeriousDlqin2yrs'].to_numpy() #values\n",
    "X= drop_data.drop('SeriousDlqin2yrs', axis=1).to_numpy()\n",
    "\n",
    "from sklearn.pipeline import Pipeline \n",
    "from sklearn.preprocessing import StandardScaler\n",
    "\n",
    "ss = StandardScaler()\n",
    "knn = KNeighborsClassifier(random_state=0)\n",
    "\n",
    "pipeline = Pipeline([('transformer', ss), ('estimator', knn)])\n",
    "cv = StratifiedKFold(n_splits=3)\n",
    "\n",
    "scores = cross_val_score(pipeline, X, y, cv=cv)\n",
    "scores, np.mean(scores)"
   ]
  },
  {
   "cell_type": "markdown",
   "id": "3a1b0e98",
   "metadata": {},
   "source": [
    "### MinMaxScaler"
   ]
  },
  {
   "cell_type": "markdown",
   "id": "d9562aca",
   "metadata": {
    "ExecuteTime": {
     "end_time": "2021-11-26T13:47:10.713748Z",
     "start_time": "2021-11-26T13:47:10.710749Z"
    }
   },
   "source": [
    "#### holdoutScaler"
   ]
  },
  {
   "cell_type": "code",
   "execution_count": 176,
   "id": "144903ae",
   "metadata": {
    "ExecuteTime": {
     "end_time": "2021-11-27T01:47:21.892486Z",
     "start_time": "2021-11-27T01:47:13.611886Z"
    },
    "scrolled": true
   },
   "outputs": [
    {
     "name": "stdout",
     "output_type": "stream",
     "text": [
      "0.9382907664805089 0.9303234389290762 0.9308223164546438\n"
     ]
    }
   ],
   "source": [
    "from sklearn.linear_model import LogisticRegression\n",
    "from sklearn.preprocessing import MinMaxScaler\n",
    "\n",
    "y = drop_data['SeriousDlqin2yrs'].to_numpy()\n",
    "X = drop_data.drop('SeriousDlqin2yrs', axis=1).to_numpy()\n",
    "\n",
    "from sklearn.model_selection import train_test_split\n",
    "X_train, X_test, y_train, y_test = train_test_split(X, y, stratify=y, random_state=0, test_size=0.2)\n",
    "\n",
    "X_train, X_val, y_train, y_val = train_test_split(X_train, y_train, stratify=y_train, random_state=0)\n",
    "\n",
    "#scaling\n",
    "from sklearn.preprocessing import MinMaxScaler\n",
    "mm=MinMaxScaler()\n",
    "\n",
    "X_train=mm.fit_transform(X_train)\n",
    "X_val=mm.transform(X_val)\n",
    "X_test=mm.transform(X_test)\n",
    "\n",
    "knn = KNeighborsClassifier()\n",
    "\n",
    "knn = knn.fit(X_train, y_train)\n",
    "train_pred = knn.predict(X_train)\n",
    "val_pred = knn.predict(X_val)\n",
    "test_pred = knn.predict(X_test)\n",
    "acc_train = accuracy_score(y_train, train_pred)\n",
    "acc_val = accuracy_score(y_val, val_pred)\n",
    "acc_test = accuracy_score(y_test, test_pred)\n",
    "\n",
    "acc_train = accuracy_score(y_train, train_pred)\n",
    "acc_val = accuracy_score(y_val, val_pred)\n",
    "acc_test = accuracy_score(y_test, test_pred)\n",
    "\n",
    "print(acc_train, acc_val, acc_test)"
   ]
  },
  {
   "cell_type": "code",
   "execution_count": 177,
   "id": "c13d8fda",
   "metadata": {
    "ExecuteTime": {
     "end_time": "2021-11-27T01:47:30.256598Z",
     "start_time": "2021-11-27T01:47:28.890257Z"
    }
   },
   "outputs": [
    {
     "data": {
      "text/plain": [
       "0.6427852922169147"
      ]
     },
     "execution_count": 177,
     "metadata": {},
     "output_type": "execute_result"
    }
   ],
   "source": [
    "from sklearn.metrics import roc_auc_score\n",
    "knn_pos = knn.predict_proba(X_test)[:,1]\n",
    "roc_auc_score(y_test, knn_pos)"
   ]
  },
  {
   "cell_type": "markdown",
   "id": "96531d00",
   "metadata": {},
   "source": [
    "#### StratifiedKfold"
   ]
  },
  {
   "cell_type": "code",
   "execution_count": null,
   "id": "13cb15ee",
   "metadata": {
    "ExecuteTime": {
     "end_time": "2021-11-26T14:25:36.624205Z",
     "start_time": "2021-11-26T14:25:36.624205Z"
    }
   },
   "outputs": [],
   "source": [
    "from sklearn.preprocessing import MinMaxScaler\n",
    "from sklearn.model_selection import StratifiedKFold\n",
    "from sklearn.neighbors import KNeighborsClassifier\n",
    "from sklearn.model_selection import cross_val_score\n",
    "import numpy as np\n",
    "\n",
    "y= drop_data['SeriousDlqin2yrs'].to_numpy() #values\n",
    "X= drop_data.drop('SeriousDlqin2yrs', axis=1).to_numpy()\n",
    "\n",
    "from sklearn.pipeline import Pipeline \n",
    "from sklearn.preprocessing import StandardScaler\n",
    "\n",
    "mm = MinMaxScaler()\n",
    "knn = KNeighborsClassifier(random_state=0)\n",
    "\n",
    "pipeline = Pipeline([('transformer', mm), ('estimator', knn)])\n",
    "cv = StratifiedKFold(n_splits=3)\n",
    "\n",
    "scores = cross_val_score(pipeline, X, y, cv=cv)\n",
    "scores, np.mean(scores)"
   ]
  },
  {
   "cell_type": "markdown",
   "id": "2b58db81",
   "metadata": {},
   "source": [
    "## SVC"
   ]
  },
  {
   "cell_type": "markdown",
   "id": "0f10db96",
   "metadata": {},
   "source": [
    "### StandardScaler"
   ]
  },
  {
   "cell_type": "markdown",
   "id": "eea873a5",
   "metadata": {},
   "source": [
    "#### holdout"
   ]
  },
  {
   "cell_type": "code",
   "execution_count": 179,
   "id": "b834e4d8",
   "metadata": {
    "ExecuteTime": {
     "end_time": "2021-11-27T01:51:29.795922Z",
     "start_time": "2021-11-27T01:48:07.517632Z"
    }
   },
   "outputs": [
    {
     "name": "stdout",
     "output_type": "stream",
     "text": [
      "0.9327060323443411 0.9315706327429949 0.933108838446828\n"
     ]
    }
   ],
   "source": [
    "from sklearn.svm import SVC\n",
    "from sklearn.model_selection import train_test_split\n",
    "from sklearn.preprocessing import StandardScaler\n",
    "from sklearn.metrics import accuracy_score\n",
    "\n",
    "X_train, X_test, y_train, y_test = train_test_split(X, y, stratify=y, random_state=0, test_size=0.2)\n",
    "\n",
    "X_train, X_val, y_train, y_val = train_test_split(X_train, y_train, stratify=y_train, random_state=0)\n",
    "\n",
    "ss=StandardScaler()\n",
    "X_train_scaled = ss.fit_transform(X_train)\n",
    "X_val_scaled = ss.transform(X_val)\n",
    "X_test_scaled = ss.transform(X_test)\n",
    "\n",
    "svc = SVC(random_state=0)\n",
    "svc.fit(X_train_scaled, y_train)\n",
    "\n",
    "pred_train = svc.predict(X_train_scaled)\n",
    "pred_val = svc.predict(X_val_scaled)\n",
    "pred_test = svc.predict(X_test_scaled)\n",
    "\n",
    "acc_train = accuracy_score(y_train, pred_train)\n",
    "acc_val = accuracy_score(y_val, pred_val)\n",
    "acc_test = accuracy_score(y_test, pred_test)\n",
    "\n",
    "print(acc_train, acc_val, acc_test)"
   ]
  },
  {
   "cell_type": "code",
   "execution_count": 180,
   "id": "acd4232c",
   "metadata": {
    "ExecuteTime": {
     "end_time": "2021-11-27T01:51:29.885950Z",
     "start_time": "2021-11-27T01:51:29.856922Z"
    }
   },
   "outputs": [
    {
     "ename": "AttributeError",
     "evalue": "predict_proba is not available when  probability=False",
     "output_type": "error",
     "traceback": [
      "\u001b[1;31m---------------------------------------------------------------------------\u001b[0m",
      "\u001b[1;31mAttributeError\u001b[0m                            Traceback (most recent call last)",
      "\u001b[1;32m~\\AppData\\Local\\Temp/ipykernel_26576/1353464465.py\u001b[0m in \u001b[0;36m<module>\u001b[1;34m\u001b[0m\n\u001b[0;32m      1\u001b[0m \u001b[1;32mfrom\u001b[0m \u001b[0msklearn\u001b[0m\u001b[1;33m.\u001b[0m\u001b[0mmetrics\u001b[0m \u001b[1;32mimport\u001b[0m \u001b[0mroc_auc_score\u001b[0m\u001b[1;33m\u001b[0m\u001b[1;33m\u001b[0m\u001b[0m\n\u001b[1;32m----> 2\u001b[1;33m \u001b[0msvc_pos\u001b[0m \u001b[1;33m=\u001b[0m \u001b[0msvc\u001b[0m\u001b[1;33m.\u001b[0m\u001b[0mpredict_proba\u001b[0m\u001b[1;33m(\u001b[0m\u001b[0mX_test\u001b[0m\u001b[1;33m)\u001b[0m\u001b[1;33m[\u001b[0m\u001b[1;33m:\u001b[0m\u001b[1;33m,\u001b[0m\u001b[1;36m1\u001b[0m\u001b[1;33m]\u001b[0m\u001b[1;33m\u001b[0m\u001b[1;33m\u001b[0m\u001b[0m\n\u001b[0m\u001b[0;32m      3\u001b[0m \u001b[0mroc_auc_score\u001b[0m\u001b[1;33m(\u001b[0m\u001b[0my_test\u001b[0m\u001b[1;33m,\u001b[0m \u001b[0msvc_pos\u001b[0m\u001b[1;33m)\u001b[0m\u001b[1;33m\u001b[0m\u001b[1;33m\u001b[0m\u001b[0m\n",
      "\u001b[1;32mD:\\Program_Files\\anaconda3\\lib\\site-packages\\sklearn\\utils\\metaestimators.py\u001b[0m in \u001b[0;36m__get__\u001b[1;34m(self, obj, owner)\u001b[0m\n\u001b[0;32m    107\u001b[0m             \u001b[1;31m# delegate only on instances, not the classes.\u001b[0m\u001b[1;33m\u001b[0m\u001b[1;33m\u001b[0m\u001b[0m\n\u001b[0;32m    108\u001b[0m             \u001b[1;31m# this is to allow access to the docstrings.\u001b[0m\u001b[1;33m\u001b[0m\u001b[1;33m\u001b[0m\u001b[0m\n\u001b[1;32m--> 109\u001b[1;33m             \u001b[1;32mif\u001b[0m \u001b[1;32mnot\u001b[0m \u001b[0mself\u001b[0m\u001b[1;33m.\u001b[0m\u001b[0mcheck\u001b[0m\u001b[1;33m(\u001b[0m\u001b[0mobj\u001b[0m\u001b[1;33m)\u001b[0m\u001b[1;33m:\u001b[0m\u001b[1;33m\u001b[0m\u001b[1;33m\u001b[0m\u001b[0m\n\u001b[0m\u001b[0;32m    110\u001b[0m                 \u001b[1;32mraise\u001b[0m \u001b[0mattr_err\u001b[0m\u001b[1;33m\u001b[0m\u001b[1;33m\u001b[0m\u001b[0m\n\u001b[0;32m    111\u001b[0m \u001b[1;33m\u001b[0m\u001b[0m\n",
      "\u001b[1;32mD:\\Program_Files\\anaconda3\\lib\\site-packages\\sklearn\\svm\\_base.py\u001b[0m in \u001b[0;36m_check_proba\u001b[1;34m(self)\u001b[0m\n\u001b[0;32m    798\u001b[0m     \u001b[1;32mdef\u001b[0m \u001b[0m_check_proba\u001b[0m\u001b[1;33m(\u001b[0m\u001b[0mself\u001b[0m\u001b[1;33m)\u001b[0m\u001b[1;33m:\u001b[0m\u001b[1;33m\u001b[0m\u001b[1;33m\u001b[0m\u001b[0m\n\u001b[0;32m    799\u001b[0m         \u001b[1;32mif\u001b[0m \u001b[1;32mnot\u001b[0m \u001b[0mself\u001b[0m\u001b[1;33m.\u001b[0m\u001b[0mprobability\u001b[0m\u001b[1;33m:\u001b[0m\u001b[1;33m\u001b[0m\u001b[1;33m\u001b[0m\u001b[0m\n\u001b[1;32m--> 800\u001b[1;33m             raise AttributeError(\n\u001b[0m\u001b[0;32m    801\u001b[0m                 \u001b[1;34m\"predict_proba is not available when  probability=False\"\u001b[0m\u001b[1;33m\u001b[0m\u001b[1;33m\u001b[0m\u001b[0m\n\u001b[0;32m    802\u001b[0m             )\n",
      "\u001b[1;31mAttributeError\u001b[0m: predict_proba is not available when  probability=False"
     ]
    }
   ],
   "source": [
    "from sklearn.metrics import roc_auc_score\n",
    "svc_pos = svc.predict_proba(X_test)[:,1]\n",
    "roc_auc_score(y_test, svc_pos)"
   ]
  },
  {
   "cell_type": "markdown",
   "id": "6c17a76e",
   "metadata": {
    "ExecuteTime": {
     "end_time": "2021-11-26T14:12:59.292256Z",
     "start_time": "2021-11-26T14:12:59.274998Z"
    }
   },
   "source": [
    "#### StrafifiedKfold"
   ]
  },
  {
   "cell_type": "code",
   "execution_count": 94,
   "id": "f5bbc2b3",
   "metadata": {
    "ExecuteTime": {
     "end_time": "2021-11-26T14:35:36.262309Z",
     "start_time": "2021-11-26T14:25:52.513232Z"
    }
   },
   "outputs": [
    {
     "data": {
      "text/plain": [
       "(array([0.93277625, 0.93267648, 0.9326748 ]), 0.9327091766425424)"
      ]
     },
     "execution_count": 94,
     "metadata": {},
     "output_type": "execute_result"
    }
   ],
   "source": [
    "from sklearn.preprocessing import StandardScaler\n",
    "from sklearn.model_selection import StratifiedKFold\n",
    "from sklearn.svm import SVC\n",
    "from sklearn.model_selection import cross_val_score\n",
    "import numpy as np\n",
    "\n",
    "y= drop_data['SeriousDlqin2yrs'].to_numpy() #values\n",
    "X= drop_data.drop('SeriousDlqin2yrs', axis=1).to_numpy()\n",
    "\n",
    "ss = StandardScaler()\n",
    "svc = SVC(random_state=0)\n",
    "\n",
    "from sklearn.pipeline import Pipeline\n",
    "\n",
    "pipeline = Pipeline([('transformer', ss), ('estimator', svc)])\n",
    "cv = StratifiedKFold(n_splits=3)\n",
    "\n",
    "scores = cross_val_score(pipeline, X, y, cv=cv)\n",
    "scores, np.mean(scores)"
   ]
  },
  {
   "cell_type": "markdown",
   "id": "a05a1596",
   "metadata": {},
   "source": [
    "### MinMaxScaler"
   ]
  },
  {
   "cell_type": "markdown",
   "id": "275ab065",
   "metadata": {},
   "source": [
    "#### holdout"
   ]
  },
  {
   "cell_type": "code",
   "execution_count": null,
   "id": "d5574390",
   "metadata": {
    "ExecuteTime": {
     "end_time": "2021-11-27T01:51:29.888949Z",
     "start_time": "2021-11-27T01:51:29.888949Z"
    }
   },
   "outputs": [],
   "source": [
    "from sklearn.svm import SVC\n",
    "from sklearn.model_selection import train_test_split\n",
    "from sklearn.preprocessing import MinMaxScaler\n",
    "from sklearn.metrics import accuracy_score\n",
    "\n",
    "X_train, X_test, y_train, y_test = train_test_split(X, y, stratify=y, random_state=0, test_size=0.2)\n",
    "\n",
    "X_train, X_val, y_train, y_val = train_test_split(X_train, y_train, stratify=y_train, random_state=0)\n",
    "\n",
    "mm=MinMaxScaler()\n",
    "X_train_scaled = mm.fit_transform(X_train)\n",
    "X_val_scaled = mm.transform(X_val)\n",
    "X_test_scaled = mm.transform(X_test)\n",
    "\n",
    "svc = SVC(random_state=0)\n",
    "svc.fit(X_train_scaled, y_train)\n",
    "\n",
    "pred_train = svc.predict(X_train_scaled)\n",
    "pred_val = svc.predict(X_val_scaled)\n",
    "pred_test = svc.predict(X_test_scaled)\n",
    "\n",
    "acc_train = accuracy_score(y_train, pred_train)\n",
    "acc_val = accuracy_score(y_val, pred_val)\n",
    "acc_test = accuracy_score(y_test, pred_test)\n",
    "\n",
    "print(acc_train, acc_val, acc_test)"
   ]
  },
  {
   "cell_type": "code",
   "execution_count": null,
   "id": "a83bdb27",
   "metadata": {
    "ExecuteTime": {
     "end_time": "2021-11-27T01:51:29.890950Z",
     "start_time": "2021-11-27T01:51:29.890950Z"
    }
   },
   "outputs": [],
   "source": [
    "from sklearn.metrics import roc_auc_score\n",
    "svc_pos = svc.predict_proba(X_test)[:,1]\n",
    "roc_auc_score(y_test, svc_pos)"
   ]
  },
  {
   "cell_type": "markdown",
   "id": "8ac9ed4c",
   "metadata": {},
   "source": [
    "#### StratifiedKFold"
   ]
  },
  {
   "cell_type": "code",
   "execution_count": 98,
   "id": "141c30f5",
   "metadata": {
    "ExecuteTime": {
     "end_time": "2021-11-26T14:41:43.313309Z",
     "start_time": "2021-11-26T14:37:36.938308Z"
    }
   },
   "outputs": [
    {
     "data": {
      "text/plain": [
       "(array([0.93055625, 0.93060614, 0.93092868]), 0.930697022771129)"
      ]
     },
     "execution_count": 98,
     "metadata": {},
     "output_type": "execute_result"
    }
   ],
   "source": [
    "from sklearn.preprocessing import MinMaxScaler\n",
    "from sklearn.model_selection import StratifiedKFold, cross_val_score\n",
    "from sklearn.svm import SVC\n",
    "from sklearn.pipeline import Pipeline\n",
    "import numpy as np\n",
    "\n",
    "y= drop_data['SeriousDlqin2yrs'].to_numpy() #values\n",
    "X= drop_data.drop('SeriousDlqin2yrs', axis=1).to_numpy()\n",
    "\n",
    "mm = MinMaxScaler()\n",
    "svc = SVC(random_state=0)\n",
    "\n",
    "pipeline = Pipeline([('transformer', mm),('estimator', svc)])\n",
    "\n",
    "cv = StratifiedKFold(n_splits=3)\n",
    "\n",
    "scores = cross_val_score(pipeline, X, y, cv=cv) \n",
    "scores, np.mean(scores)"
   ]
  },
  {
   "cell_type": "markdown",
   "id": "4c31242a",
   "metadata": {},
   "source": [
    "## (제외하자)BernoulliNB"
   ]
  },
  {
   "cell_type": "code",
   "execution_count": null,
   "id": "796f6a5d",
   "metadata": {},
   "outputs": [],
   "source": [
    "#가우시안은 연속형, 베르누이는 이항 분류\n",
    "#가우시안 나이브베이즈를 할때는 scaling을 안하는 모양"
   ]
  },
  {
   "cell_type": "markdown",
   "id": "6c89e1f2",
   "metadata": {},
   "source": [
    "### StandardScaler"
   ]
  },
  {
   "cell_type": "markdown",
   "id": "e92582cb",
   "metadata": {},
   "source": [
    "#### holuout"
   ]
  },
  {
   "cell_type": "code",
   "execution_count": 181,
   "id": "60af62fc",
   "metadata": {
    "ExecuteTime": {
     "end_time": "2021-11-27T06:01:01.796236Z",
     "start_time": "2021-11-27T06:01:01.695215Z"
    }
   },
   "outputs": [
    {
     "name": "stdout",
     "output_type": "stream",
     "text": [
      "0.9262066767367415 0.9262908455974058 0.9282032094454145\n"
     ]
    }
   ],
   "source": [
    "from sklearn.naive_bayes import GaussianNB, BernoulliNB\n",
    "from sklearn.model_selection import train_test_split\n",
    "from sklearn.preprocessing import StandardScaler\n",
    "from sklearn.metrics import accuracy_score\n",
    "\n",
    "X_train, X_test, y_train, y_test = train_test_split(X, y, stratify=y, random_state=0, test_size=0.2)\n",
    "\n",
    "X_train, X_val, y_train, y_val = train_test_split(X_train, y_train, stratify=y_train, random_state=0)\n",
    "\n",
    "ss=StandardScaler()\n",
    "X_train_scaled = ss.fit_transform(X_train)\n",
    "X_val_scaled = ss.transform(X_val)\n",
    "X_test_scaled = ss.transform(X_test)\n",
    "\n",
    "#nb = GaussianNB()\n",
    "bn = BernoulliNB()\n",
    "#nb.fit(X_train_scaled, y_train)\n",
    "bn.fit(X_train_scaled, y_train)\n",
    "\n",
    "#pred_train = nb.predict(X_train_scaled)\n",
    "#pred_val = nb.predict(X_val_scaled)\n",
    "#pred_test = nb.predict(X_test_scaled)\n",
    "pred_train = bn.predict(X_train_scaled)\n",
    "pred_val = bn.predict(X_val_scaled)\n",
    "pred_test = bn.predict(X_test_scaled)\n",
    "\n",
    "acc_train = accuracy_score(y_train, pred_train)\n",
    "acc_val = accuracy_score(y_val, pred_val)\n",
    "acc_test = accuracy_score(y_test, pred_test)\n",
    "\n",
    "print(acc_train, acc_val, acc_test)"
   ]
  },
  {
   "cell_type": "code",
   "execution_count": 183,
   "id": "1e285393",
   "metadata": {
    "ExecuteTime": {
     "end_time": "2021-11-27T06:03:00.456186Z",
     "start_time": "2021-11-27T06:03:00.441186Z"
    }
   },
   "outputs": [
    {
     "data": {
      "text/plain": [
       "0.7844596142243008"
      ]
     },
     "execution_count": 183,
     "metadata": {},
     "output_type": "execute_result"
    }
   ],
   "source": [
    "from sklearn.metrics import roc_auc_score\n",
    "#nb_pos = nb.predict_proba(X_test)[:,1]\n",
    "#roc_auc_score(y_test, nb_pos)\n",
    "bn_pos = bn.predict_proba(X_test)[:,1]\n",
    "roc_auc_score(y_test, bn_pos)"
   ]
  },
  {
   "cell_type": "markdown",
   "id": "76eabd45",
   "metadata": {},
   "source": [
    "#### StratifiedKFold"
   ]
  },
  {
   "cell_type": "code",
   "execution_count": 101,
   "id": "b5292b09",
   "metadata": {
    "ExecuteTime": {
     "end_time": "2021-11-26T14:57:30.278794Z",
     "start_time": "2021-11-26T14:57:30.149760Z"
    }
   },
   "outputs": [
    {
     "data": {
      "text/plain": [
       "(array([0.92923422, 0.92960838, 0.92923246]), 0.9293583539740399)"
      ]
     },
     "execution_count": 101,
     "metadata": {},
     "output_type": "execute_result"
    }
   ],
   "source": [
    "from sklearn.naive_bayes import GaussianNB\n",
    "from sklearn.model_selection import StratifiedKFold, cross_val_score\n",
    "from sklearn.preprocessing import StandardScaler\n",
    "from sklearn.pipeline import Pipeline\n",
    "import numpy as np\n",
    "\n",
    "y= drop_data['SeriousDlqin2yrs'].to_numpy() #values\n",
    "X= drop_data.drop('SeriousDlqin2yrs', axis=1).to_numpy()\n",
    "\n",
    "ss = StandardScaler()\n",
    "nb = GaussianNB()\n",
    "\n",
    "pipeline = Pipeline([('transformer',ss),('estimator',nb)])\n",
    "cv = StratifiedKFold(n_splits=3)\n",
    "\n",
    "scores = cross_val_score(pipeline, X, y, cv=cv)\n",
    "scores, np.mean(scores)"
   ]
  },
  {
   "cell_type": "markdown",
   "id": "3c1e8b54",
   "metadata": {},
   "source": [
    "### MinMaxScaler"
   ]
  },
  {
   "cell_type": "markdown",
   "id": "0ca44b27",
   "metadata": {},
   "source": [
    "#### holdout"
   ]
  },
  {
   "cell_type": "code",
   "execution_count": 185,
   "id": "4b849617",
   "metadata": {
    "ExecuteTime": {
     "end_time": "2021-11-27T06:04:26.129626Z",
     "start_time": "2021-11-27T06:04:26.034599Z"
    }
   },
   "outputs": [
    {
     "name": "stdout",
     "output_type": "stream",
     "text": [
      "0.9244328653982068 0.9250020786563565 0.9267481499958427\n"
     ]
    }
   ],
   "source": [
    "from sklearn.naive_bayes import GaussianNB,BernoulliNB\n",
    "from sklearn.model_selection import train_test_split\n",
    "from sklearn.preprocessing import MinMaxScaler\n",
    "from sklearn.metrics import accuracy_score\n",
    "\n",
    "X_train, X_test, y_train, y_test = train_test_split(X, y, stratify=y, random_state=0, test_size=0.2)\n",
    "\n",
    "X_train, X_val, y_train, y_val = train_test_split(X_train, y_train, stratify=y_train, random_state=0)\n",
    "\n",
    "mm=MinMaxScaler()\n",
    "X_train_scaled = mm.fit_transform(X_train)\n",
    "X_val_scaled = mm.transform(X_val)\n",
    "X_test_scaled = mm.transform(X_test)\n",
    "\n",
    "#nb = GaussianNB()\n",
    "bn = BernoulliNB()\n",
    "#nb.fit(X_train_scaled, y_train)\n",
    "bn.fit(X_train_scaled, y_train)\n",
    "\n",
    "#pred_train = nb.predict(X_train_scaled)\n",
    "#pred_val = nb.predict(X_val_scaled)\n",
    "#pred_test = nb.predict(X_test_scaled)\n",
    "pred_train = bn.predict(X_train_scaled)\n",
    "pred_val = bn.predict(X_val_scaled)\n",
    "pred_test = bn.predict(X_test_scaled)\n",
    "\n",
    "acc_train = accuracy_score(y_train, pred_train)\n",
    "acc_val = accuracy_score(y_val, pred_val)\n",
    "acc_test = accuracy_score(y_test, pred_test)\n",
    "\n",
    "print(acc_train, acc_val, acc_test)"
   ]
  },
  {
   "cell_type": "code",
   "execution_count": 186,
   "id": "12c346a9",
   "metadata": {
    "ExecuteTime": {
     "end_time": "2021-11-27T06:04:27.077453Z",
     "start_time": "2021-11-27T06:04:27.065378Z"
    }
   },
   "outputs": [
    {
     "data": {
      "text/plain": [
       "0.7883675877913777"
      ]
     },
     "execution_count": 186,
     "metadata": {},
     "output_type": "execute_result"
    }
   ],
   "source": [
    "from sklearn.metrics import roc_auc_score\n",
    "#nb_pos = nb.predict_proba(X_test)[:,1]\n",
    "#roc_auc_score(y_test, nb_pos)\n",
    "bn_pos = bn.predict_proba(X_test)[:,1]\n",
    "roc_auc_score(y_test, bn_pos)"
   ]
  },
  {
   "cell_type": "markdown",
   "id": "4e4e9670",
   "metadata": {},
   "source": [
    "#### StratifiedKFold"
   ]
  },
  {
   "cell_type": "code",
   "execution_count": 104,
   "id": "8cba3541",
   "metadata": {
    "ExecuteTime": {
     "end_time": "2021-11-26T15:06:17.589836Z",
     "start_time": "2021-11-26T15:06:17.467802Z"
    }
   },
   "outputs": [
    {
     "data": {
      "text/plain": [
       "(array([0.92923422, 0.92960838, 0.92923246]), 0.9293583539740399)"
      ]
     },
     "execution_count": 104,
     "metadata": {},
     "output_type": "execute_result"
    }
   ],
   "source": [
    "from sklearn.naive_bayes import GaussianNB\n",
    "from sklearn.model_selection import StratifiedKFold, cross_val_score\n",
    "from sklearn.preprocessing import MinMaxScaler\n",
    "from sklearn.pipeline import Pipeline\n",
    "import numpy as np\n",
    "\n",
    "y= drop_data['SeriousDlqin2yrs'].to_numpy() #values\n",
    "X= drop_data.drop('SeriousDlqin2yrs', axis=1).to_numpy()\n",
    "\n",
    "mm = MinMaxScaler()\n",
    "nb = GaussianNB()\n",
    "\n",
    "pipeline = Pipeline([('transformer',mm),('estimator',nb)])\n",
    "cv = StratifiedKFold(n_splits=3)\n",
    "\n",
    "scores = cross_val_score(pipeline, X, y, cv=cv)\n",
    "scores, np.mean(scores)"
   ]
  },
  {
   "cell_type": "markdown",
   "id": "0db2c553",
   "metadata": {},
   "source": [
    "## MLP(Multi_Layer Perception)"
   ]
  },
  {
   "cell_type": "markdown",
   "id": "a49ed778",
   "metadata": {
    "ExecuteTime": {
     "end_time": "2021-11-26T15:09:34.089425Z",
     "start_time": "2021-11-26T15:09:34.079426Z"
    }
   },
   "source": [
    "### StandardScaler"
   ]
  },
  {
   "cell_type": "markdown",
   "id": "c5362551",
   "metadata": {},
   "source": [
    "#### holdout"
   ]
  },
  {
   "cell_type": "code",
   "execution_count": 110,
   "id": "a41d6e82",
   "metadata": {
    "ExecuteTime": {
     "end_time": "2021-11-26T15:13:57.353665Z",
     "start_time": "2021-11-26T15:13:44.108958Z"
    }
   },
   "outputs": [
    {
     "name": "stdout",
     "output_type": "stream",
     "text": [
      "0.9350618755283325 0.9333582772096117 0.9351459216762285\n"
     ]
    }
   ],
   "source": [
    "from sklearn.neural_network import MLPClassifier\n",
    "from sklearn.model_selection import train_test_split\n",
    "from sklearn.preprocessing import StandardScaler\n",
    "from sklearn.metrics import accuracy_score\n",
    "\n",
    "X_train, X_test, y_train, y_test = train_test_split(X, y, stratify=y, random_state=0, test_size=0.2)\n",
    "\n",
    "X_train, X_val, y_train, y_val = train_test_split(X_train, y_train, stratify=y_train, random_state=0)\n",
    "\n",
    "ss=StandardScaler()\n",
    "X_train_scaled = ss.fit_transform(X_train)\n",
    "X_val_scaled = ss.transform(X_val)\n",
    "X_test_scaled = ss.transform(X_test)\n",
    "\n",
    "mlp = MLPClassifier(random_state=0)\n",
    "mlp.fit(X_train_scaled, y_train)\n",
    "\n",
    "pred_train = mlp.predict(X_train_scaled)\n",
    "pred_val = mlp.predict(X_val_scaled)\n",
    "pred_test = mlp.predict(X_test_scaled)\n",
    "\n",
    "acc_train = accuracy_score(y_train, pred_train)\n",
    "acc_val = accuracy_score(y_val, pred_val)\n",
    "acc_test = accuracy_score(y_test, pred_test)\n",
    "\n",
    "print(acc_train, acc_val, acc_test)"
   ]
  },
  {
   "cell_type": "code",
   "execution_count": null,
   "id": "f088596f",
   "metadata": {},
   "outputs": [],
   "source": [
    "from sklearn.metrics import roc_auc_score\n",
    "nb_pos = nb.predict_proba(X_test)[:,1]\n",
    "roc_auc_score(y_test, nb_pos)"
   ]
  },
  {
   "cell_type": "markdown",
   "id": "ed8d85ca",
   "metadata": {},
   "source": [
    "#### StratifiedKFold"
   ]
  },
  {
   "cell_type": "code",
   "execution_count": 120,
   "id": "f5a1716e",
   "metadata": {
    "ExecuteTime": {
     "end_time": "2021-11-26T15:24:52.125347Z",
     "start_time": "2021-11-26T15:23:56.500027Z"
    }
   },
   "outputs": [
    {
     "data": {
      "text/plain": [
       "(array([0.93352457, 0.93334996, 0.93566814]), 0.9341808902314658)"
      ]
     },
     "execution_count": 120,
     "metadata": {},
     "output_type": "execute_result"
    }
   ],
   "source": [
    "from sklearn.neural_network import MLPClassifier\n",
    "from sklearn.model_selection import StratifiedKFold, cross_val_score\n",
    "from sklearn.preprocessing import StandardScaler\n",
    "from sklearn.pipeline import Pipeline\n",
    "import numpy as np\n",
    "\n",
    "y= drop_data['SeriousDlqin2yrs'].to_numpy() #values\n",
    "X= drop_data.drop('SeriousDlqin2yrs', axis=1).to_numpy()\n",
    "\n",
    "ss = StandardScaler()\n",
    "mlp = MLPClassifier(random_state=0)\n",
    "\n",
    "pipeline = Pipeline([('transformer',ss),('estimator',mlp)])\n",
    "cv = StratifiedKFold(n_splits=3)\n",
    "\n",
    "scores = cross_val_score(pipeline, X, y, cv=cv)\n",
    "scores, np.mean(scores)"
   ]
  },
  {
   "cell_type": "markdown",
   "id": "231314b1",
   "metadata": {},
   "source": [
    "### MinMaxScaler"
   ]
  },
  {
   "cell_type": "markdown",
   "id": "6cc994ed",
   "metadata": {},
   "source": [
    "#### holdout"
   ]
  },
  {
   "cell_type": "code",
   "execution_count": 111,
   "id": "c6a72ad4",
   "metadata": {
    "ExecuteTime": {
     "end_time": "2021-11-26T15:17:17.968797Z",
     "start_time": "2021-11-26T15:17:08.819708Z"
    }
   },
   "outputs": [
    {
     "name": "stdout",
     "output_type": "stream",
     "text": [
      "0.933800806529843 0.9332335578282198 0.9351459216762285\n"
     ]
    }
   ],
   "source": [
    "from sklearn.neural_network import MLPClassifier\n",
    "from sklearn.model_selection import train_test_split\n",
    "from sklearn.preprocessing import MinMaxScaler\n",
    "from sklearn.metrics import accuracy_score\n",
    "\n",
    "X_train, X_test, y_train, y_test = train_test_split(X, y, stratify=y, random_state=0, test_size=0.2)\n",
    "\n",
    "X_train, X_val, y_train, y_val = train_test_split(X_train, y_train, stratify=y_train, random_state=0)\n",
    "\n",
    "mm=MinMaxScaler()\n",
    "X_train_scaled = mm.fit_transform(X_train)\n",
    "X_val_scaled = mm.transform(X_val)\n",
    "X_test_scaled = mm.transform(X_test)\n",
    "\n",
    "mlp = MLPClassifier(random_state=0)\n",
    "mlp.fit(X_train_scaled, y_train)\n",
    "\n",
    "pred_train = mlp.predict(X_train_scaled)\n",
    "pred_val = mlp.predict(X_val_scaled)\n",
    "pred_test = mlp.predict(X_test_scaled)\n",
    "\n",
    "acc_train = accuracy_score(y_train, pred_train)\n",
    "acc_val = accuracy_score(y_val, pred_val)\n",
    "acc_test = accuracy_score(y_test, pred_test)\n",
    "\n",
    "print(acc_train, acc_val, acc_test)"
   ]
  },
  {
   "cell_type": "markdown",
   "id": "724bf622",
   "metadata": {},
   "source": [
    "#### StratifiedKfold"
   ]
  },
  {
   "cell_type": "code",
   "execution_count": 119,
   "id": "3dfd5f4b",
   "metadata": {
    "ExecuteTime": {
     "end_time": "2021-11-26T15:23:27.147156Z",
     "start_time": "2021-11-26T15:22:58.368503Z"
    }
   },
   "outputs": [
    {
     "data": {
      "text/plain": [
       "(array([0.9329758 , 0.9338239 , 0.93382225]), 0.9335406487257463)"
      ]
     },
     "execution_count": 119,
     "metadata": {},
     "output_type": "execute_result"
    }
   ],
   "source": [
    "from sklearn.neural_network import MLPClassifier\n",
    "from sklearn.model_selection import StratifiedKFold, cross_val_score\n",
    "from sklearn.preprocessing import MinMaxScaler\n",
    "from sklearn.pipeline import Pipeline\n",
    "import numpy as np\n",
    "\n",
    "y= drop_data['SeriousDlqin2yrs'].to_numpy() #values\n",
    "X= drop_data.drop('SeriousDlqin2yrs', axis=1).to_numpy()\n",
    "\n",
    "mm = MinMaxScaler()\n",
    "mlp = MLPClassifier(random_state=0)\n",
    "\n",
    "pipeline = Pipeline([('transformer',mm),('estimator',mlp)])\n",
    "cv = StratifiedKFold(n_splits=3)\n",
    "\n",
    "scores = cross_val_score(pipeline, X, y, cv=cv)\n",
    "scores, np.mean(scores)"
   ]
  },
  {
   "cell_type": "markdown",
   "id": "e080e6f0",
   "metadata": {},
   "source": [
    "## GridsearchCV"
   ]
  },
  {
   "cell_type": "markdown",
   "id": "44fda0ed",
   "metadata": {},
   "source": [
    "### softvoting "
   ]
  },
  {
   "cell_type": "code",
   "execution_count": 192,
   "id": "5b1be341",
   "metadata": {
    "ExecuteTime": {
     "end_time": "2021-11-27T06:28:02.392457Z",
     "start_time": "2021-11-27T06:20:29.140770Z"
    }
   },
   "outputs": [
    {
     "data": {
      "text/plain": [
       "VotingClassifier(estimators=[('knn',\n",
       "                              Pipeline(steps=[('scaler', StandardScaler()),\n",
       "                                              ('knn',\n",
       "                                               KNeighborsClassifier())])),\n",
       "                             ('svc',\n",
       "                              Pipeline(steps=[('scaler', StandardScaler()),\n",
       "                                              ('svc',\n",
       "                                               SVC(probability=True,\n",
       "                                                   random_state=0))])),\n",
       "                             ('rf', RandomForestClassifier(random_state=0))],\n",
       "                 voting='soft')"
      ]
     },
     "execution_count": 192,
     "metadata": {},
     "output_type": "execute_result"
    }
   ],
   "source": [
    "#투표\n",
    "from sklearn.pipeline import Pipeline, make_pipeline\n",
    "from sklearn.ensemble import VotingClassifier\n",
    "\n",
    "order_knn = [\n",
    "    ('scaler', StandardScaler()),\n",
    "    ('knn', KNeighborsClassifier())\n",
    "]\n",
    "order_svc = [\n",
    "    ('scaler', StandardScaler()),\n",
    "    ('svc', SVC(random_state=0, probability=True))\n",
    "]\n",
    "\n",
    "knn_pl = Pipeline(order_knn)\n",
    "svc_pl = Pipeline(order_svc)\n",
    "\n",
    "rf = RandomForestClassifier(random_state=0)\n",
    "\n",
    "estimators= [\n",
    "    ('knn', knn_pl),\n",
    "    ('svc', svc_pl),\n",
    "    ('rf', rf)\n",
    "]\n",
    "voting  = VotingClassifier(estimators, voting='soft')\n",
    "\n",
    "voting.fit(X_train, y_train)\n"
   ]
  },
  {
   "cell_type": "code",
   "execution_count": 198,
   "id": "d5005ac6",
   "metadata": {
    "ExecuteTime": {
     "end_time": "2021-11-27T06:41:45.373640Z",
     "start_time": "2021-11-27T06:34:09.652294Z"
    }
   },
   "outputs": [
    {
     "data": {
      "text/plain": [
       "0.8141353323070244"
      ]
     },
     "execution_count": 198,
     "metadata": {},
     "output_type": "execute_result"
    }
   ],
   "source": [
    "#이후는 알아서 검증\n",
    "voting.fit(X_train_scaled, y_train)\n",
    "\n",
    "pos_pred = voting.predict_proba(X_test_scaled)[:,1]\n",
    "roc_auc_score(y_test, pos_pred)"
   ]
  },
  {
   "cell_type": "code",
   "execution_count": null,
   "id": "52b34ef3",
   "metadata": {},
   "outputs": [],
   "source": [
    "#각 모델별 파라미터와 규제\n",
    "\n",
    "#트리모델 \n",
    "param = {'max_depth': range(1,15),\n",
    "         'max_leaf_nodes':range(1, 31, 5),\n",
    "         'min_samples_leaf':range(100,1001, 100)\n",
    "    \n",
    "}\n",
    "\n",
    "#tree.feature_importances_\n",
    "#fi_s = pd.Series(fi, index=X.columns)\n",
    "#fi_s.sort_values(ascending=False)\n",
    "\n",
    "#앙상블\n",
    "param = {\n",
    "    'n_estimators': range([500, 1001, 100]),\n",
    "    'learning_rate': [0.05, 0.01, 0.1, 0.5],\n",
    "    'max_depth':[1,2,3],\n",
    "    'subsample':[0.5, 0.7, 0.9, 1] #샘플링 비율\n",
    "}\n",
    "\n",
    "\n",
    "\n",
    "logisticRegression\n",
    "param = ('C':[0.001, 0.01, 0.1, 1],\n",
    "        'n_iter':range(100, 501, 100))\n",
    "\n",
    "#knn\n",
    "param = {'knn__n_neighbors':range(1,11),\n",
    "        'knn__p':[1,2] \n",
    "        }\n",
    "\n",
    "svc #probalility=True \n",
    "param = {\n",
    "    'kernel': ['rbf', 'linear'],\n",
    "    'C':[0.001, 0.01, 0.1, 1, 10, 100],\n",
    "    'gamma': [0.001, 0.01, 0.1, 1, 10]}\n",
    "\n",
    "order = [\n",
    "    ('scaler', 종류),\n",
    "    #roc_auc_score를 확인하기 위해\n",
    "    ('모델변수', 모델(random_state=0, probability = True))\n",
    "    ]\n",
    "\n",
    "\n",
    "#model.best_params_\n",
    "#best_model = model.best_estimator_\n",
    "#pos_proba = best_model.predict(X_test)[:,1]\n",
    "#roc_auc_score(y_test, pos_proba)\n",
    "\n",
    "\n",
    "estimators= [\n",
    "    ('svc', SVC(random_state=0))\n",
    "    ('knn', KneighborsClassifier(random_state=0)),\n",
    "    ('rf', RandomForestClassifier(random_state=0))\n",
    "]\n",
    "\n",
    "#ensemble voting\n",
    "from sklearn.ensemble import VotingClassifier\n",
    "voting = VotingClassifier(estimators, voting='soft') #voting=hard(기본값). \n",
    "voting.fit(X_train_scaled, y_train)"
   ]
  },
  {
   "cell_type": "code",
   "execution_count": null,
   "id": "486156ef",
   "metadata": {},
   "outputs": [],
   "source": [
    "#\n",
    "#성능평가지표 roc auc score\n",
    "from sklearn.metrics import roc_auc_score\n",
    "\n",
    "pred_proba = model.predict_proba(X_train)[:, 1]\n",
    "roc_score = roc_auc_score(y_test, pred_proba)"
   ]
  },
  {
   "cell_type": "code",
   "execution_count": null,
   "id": "7f42de03",
   "metadata": {},
   "outputs": [],
   "source": [
    "#\n",
    "rs = RandomizedSearchCV(GradientBoostingClassifier(random_state=0),\n",
    "                        param,\n",
    "                        cv=4, \n",
    "                        n_iter=60, \n",
    "                        scoring='accuracy', \n",
    "                        n_jobs=-1)"
   ]
  },
  {
   "cell_type": "markdown",
   "id": "6767684b",
   "metadata": {},
   "source": [
    "#### 주요 하이퍼 파라미터\n",
    "- **sklearn.neighbors.KNeighborsClassifier** 사용\n",
    "- 이웃 수 \n",
    "    - n_neighbors = K\n",
    "    - **K가 작을 수록 모델이 복잡해져 과적합이 일어나고 너무 크면 단순해져 성능이 나빠진다.**\n",
    "    - n_neighbors는 Feature수의 제곱근 정도를 지정할 때 성능이 좋은 것으로 알려져 있다.\n",
    "- 거리 재는 방법 \n",
    "    - p=2: 유클리디안 거리(Euclidean distance - 기본값)\n",
    "    - p=1: 맨하탄 거리(Manhattan distance)\n",
    "    \n",
    "################################################################    \n",
    "SVM\n",
    "- 규제 - Hard Margin, Soft Margin\n",
    "\n",
    "- SVM은 데이터 포인트들을 잘 분리하면서 Margin 의 크기를 최대화하는 것이 목적이다. \n",
    "    - Margin의 최대화에 가장 문제가 되는 것이 Outlier(이상치) 들이다. \n",
    "    - Train set의 Outlier들은 Overfitting에 주 원인이 된다.\n",
    "- Margine을 나눌 때 Outlier을 얼마나 무시할 것인지에 따라 Hard margin과 soft margin으로 나뉜다.\n",
    "- **Hard Margin**\n",
    "    - Outlier들을 무시하지 않고 Support Vector를 찾는다. 그래서 Support Vector와 결정 경계 사이의 거리 즉 Margin이 매우 좁아 질 수 있다. 학습시 이렇게 개별 데이터포인트들을 다 놓치지 않으려는 기준으로 결정 경계를 정해버리면 overfitting 문제가 발생할 수 있다.\n",
    "- **Soft Margin**    \n",
    "    - 일부 Outlier들을 무시하고 Support Vector를 찾는다. 즉 Outlier들이 Margin 안에 어느정도 포함되도록 기준을 잡는다. 그래서 Support Vector와 결정 경계 사이 즉 Margin의 거리가 넓어진다. 얼마나 많은 Outlier들을 무시할 지는 하이퍼파라미터로 설정한다. 무시비율이 너무 커지면 underfitting 문제가 발생할 수 있다.\n",
    "\n",
    "#하이퍼파라미터 C\n",
    "- Outlier 를 무시하는 비율을 설정하는 하이퍼파라미터\n",
    "- 노이즈가 있는 데이터나 선형적으로 분리 되지 않는 경우 **하이퍼파라미터인 C값을** 조정해 마진을 변경한다.\n",
    "- 기본값 1\n",
    "- 파라미터값을 크게주면 제약조건을 강하게 한다.\n",
    "    - 마진폭이 좁아져 마진 오류가 작아지나 Overfitting이 일어날 가능성이 크다.\n",
    "- 파라미터값을 작게 주면 제약조건을 약하게 한다.\n",
    "    - 마진폭이 넓어져 마진 오류가 커진다. \n",
    "    - 훈련데이터에서는 성능이 안좋아지나 일반화(generalization)되어 테스트 데이터의 성능이 올라간다. 그러나 underfitting 이 날 가능성이 있다.\n",
    "\n",
    "#비선형 방식_커널 서포트벡터\n",
    "- ### rbf(radial basis function) 하이퍼파라미터\n",
    "    - C\n",
    "        - 오차 허용기준. 작은 값일 수록 많이 허용한다.\n",
    "            - 큰 값일 수록 과적합이 날 가능성이 높아진다.\n",
    "        - 과적합일 경우 값을 감소시키고, 과소적합일 경우 값을 증가 시킨다.\n",
    "    - gamma \n",
    "        - 방사기저함수의 $\\gamma$로 규제의 역할을 한다.\n",
    "            - 큰 값일 수록 과적합이 날 가능성이 높아진다.\n",
    "        - 모델이 과대적합일 경우 값을 감소시키고, 과소적합일 경우 값을 증가시킨다.\n",
    "        \n",
    "#####################################################################\n",
    "#트리모델\n",
    "#하이퍼파라미터\n",
    "- 가지치기 관련 하이퍼파라미터\n",
    "    - max_depth : 최대 깊이\n",
    "    - max_leaf_nodes : 생성될 최대 Leaf Node 개수 제한\n",
    "    - min_samples_leaf: 가지를 칠 최소 sample 수. sample 수가 지정한 값보다 작으면 불순도와 상관없이 가지를 치지 않는다.\n",
    "- criterion (크라이티어리언-판단기준)\n",
    "    - 불순도 계산 방식을 하이퍼파라미터\n",
    "    - gini (기본값)\n",
    "    - entropy\n",
    "\n",
    "#앙상블(gdb)\n",
    "#주요 파라미터\n",
    "- **Decision Tree 의 가지치기 관련 매개변수**\n",
    "    - 각각의 decision tree가 복잡한 모델이 되지 않도록 한다. \n",
    "- **learning rate**\n",
    "    - 이전 decision tree의 오차를 얼마나 강하게 보정할 것인지 제어하는 값. \n",
    "    - 값이 크면 보정을 강하게 하여 복잡한 모델을 만든다. 학습데이터의 정확도는 올라가지만 과대적합이 날 수있다. \n",
    "    - 값을 작게 잡으면 보정을 약하게 하여 모델의 복잡도를 줄인다. 과대적합을 줄일 수 있지만 성능 자체가 낮아질 수있다.\n",
    "    - 기본값 : 0.1\n",
    "- **n_iter_no_change, validation_fraction**\n",
    "    - validation_fraction에 지정한 비율만큼 n_iter_no_change에 지정한 반복 횟수동안 검증점수가 좋아 지지 않으면 훈련을 조기 종료한다.\n",
    "- **보통 max_depth를 낮춰 개별 decision tree의 복잡도를 낮춘다. 보통 5가 넘지 않게 설정한다. 그리고 n_estimators를 가용시간, 메모리 한도에 맞춰 크게 설정하고 적절한 learning_rate을 찾는다.**   \n",
    "\n",
    "#######################################\n",
    "#로지스틱리그레션 이진분류\n",
    "##LogisticRegression 주요 하이퍼파라미터\n",
    "- penalty: 과적합을 줄이기 위한 규제방식\n",
    "    - 'l1'(lasso), 'l2'(기본값/ridge), 'elasticnet', 'none' \n",
    "- C: 규제강도(기본값 1) - 작을 수록 규제가 강하다.\n",
    "- max_iter(기본값 100) : 경사하강법 반복횟수"
   ]
  },
  {
   "cell_type": "code",
   "execution_count": null,
   "id": "25b576b4",
   "metadata": {},
   "outputs": [],
   "source": [
    "from sklearn.preprocessing import StandardScaler\n",
    "from sklearn.model_selection import StratifiedKFold\n",
    "from sklearn.svm import SVC\n",
    "from sklearn.model_selection import cross_val_score\n",
    "import numpy as np\n",
    "\n",
    "y= drop_data['SeriousDlqin2yrs'].to_numpy() #values\n",
    "X= drop_data.drop('SeriousDlqin2yrs', axis=1).to_numpy()\n",
    "\n",
    "ss = StandardScaler()\n",
    "svc = SVC(random_state=0)\n",
    "\n",
    "from sklearn.pipeline import Pipeline\n",
    "\n",
    "pipeline = Pipeline([('transformer', ss), ('estimator', svc)])\n",
    "cv = StratifiedKFold(n_splits=3)\n",
    "\n",
    "scores = cross_val_score(pipeline, X, y, cv=cv)\n",
    "scores, np.mean(scores)"
   ]
  },
  {
   "cell_type": "code",
   "execution_count": null,
   "id": "82429f99",
   "metadata": {},
   "outputs": [],
   "source": [
    "from sklearn.neighbors import KNeighborsClassifier\n",
    "from sklearn.metrics import accuracy_score, classification_report\n",
    "from sklearn.preprocessing import StandardScaler\n",
    "\n",
    "from sklearn.model_selection import train_test_split\n",
    "X_train, X_test, y_train, y_test = train_test_split(X, y, stratify=y, random_state=0, test_size=0.2)\n",
    "\n",
    "X_train, X_val, y_train, y_val = train_test_split(X_train, y_train, stratify=y_train, random_state=0)\n",
    "\n",
    "ss=StandardScaler()\n",
    "X_train_scaled = ss.fit_transform(X_train)\n",
    "X_val_scaled = ss.transform(X_val)\n",
    "X_test_scaled = ss.transform(X_test)\n",
    "\n",
    "train_acc = []\n",
    "val_acc = []\n",
    "test_acc = []\n",
    "\n",
    "k_params = range(1, 10)\n",
    "\n",
    "for k in k_params:    \n",
    "    \n",
    "    knn = KNeighborsClassifier(n_neighbors=k)\n",
    "    knn.fit(X_train_scaled, y_train)\n",
    "\n",
    "    pred_train = knn.predict(X_train_scaled)\n",
    "    pred_val = knn.predict(X_val_scaled)\n",
    "    pred_test = knn.predict(X_test_scaled)\n",
    "\n",
    "    train_acc.append(accuracy_score(y_train, pred_train))\n",
    "    val_acc.append(accuracy_score(y_val, pred_val))\n",
    "    test_acc.append(accuracy_score(y_test, pred_test))\n"
   ]
  },
  {
   "cell_type": "code",
   "execution_count": 60,
   "id": "f479a035",
   "metadata": {
    "ExecuteTime": {
     "end_time": "2021-11-26T13:37:48.246943Z",
     "start_time": "2021-11-26T13:37:34.876783Z"
    }
   },
   "outputs": [
    {
     "data": {
      "text/plain": [
       "0.9300324270391619"
      ]
     },
     "execution_count": 60,
     "metadata": {},
     "output_type": "execute_result"
    }
   ],
   "source": [
    "knn = KNeighborsClassifier()\n",
    "knn.fit(X_train_scaled, y_train)\n",
    "pred_train = knn.predict(X_train_scaled)\n",
    "pred_val = knn.predict(X_val_scaled)\n",
    "pred_test = knn.predict(X_test_scaled)\n",
    "\n",
    "accuracy_score(y_train, pred_train)\n",
    "accuracy_score(y_val, pred_val)\n",
    "accuracy_score(y_test, pred_test)"
   ]
  },
  {
   "cell_type": "code",
   "execution_count": 56,
   "id": "409f1c30",
   "metadata": {
    "ExecuteTime": {
     "end_time": "2021-11-26T10:29:49.002105Z",
     "start_time": "2021-11-26T10:29:48.984116Z"
    }
   },
   "outputs": [],
   "source": [
    "df = pd.DataFrame({\n",
    "    \"K\":k_params,\n",
    "    \"Train\":train_acc,\n",
    "    \"Test\": test_acc   \n",
    "})\n",
    "df.set_index('K', inplace=True) #컬럼을 index name으로 변환"
   ]
  },
  {
   "cell_type": "code",
   "execution_count": 50,
   "id": "93e436bc",
   "metadata": {
    "ExecuteTime": {
     "end_time": "2021-11-26T10:15:25.453820Z",
     "start_time": "2021-11-26T10:15:25.440819Z"
    }
   },
   "outputs": [
    {
     "data": {
      "text/html": [
       "<div>\n",
       "<style scoped>\n",
       "    .dataframe tbody tr th:only-of-type {\n",
       "        vertical-align: middle;\n",
       "    }\n",
       "\n",
       "    .dataframe tbody tr th {\n",
       "        vertical-align: top;\n",
       "    }\n",
       "\n",
       "    .dataframe thead th {\n",
       "        text-align: right;\n",
       "    }\n",
       "</style>\n",
       "<table border=\"1\" class=\"dataframe\">\n",
       "  <thead>\n",
       "    <tr style=\"text-align: right;\">\n",
       "      <th></th>\n",
       "      <th>Train</th>\n",
       "      <th>Test</th>\n",
       "    </tr>\n",
       "    <tr>\n",
       "      <th>K</th>\n",
       "      <th></th>\n",
       "      <th></th>\n",
       "    </tr>\n",
       "  </thead>\n",
       "  <tbody>\n",
       "    <tr>\n",
       "      <th>1</th>\n",
       "      <td>0.999958</td>\n",
       "      <td>0.897314</td>\n",
       "    </tr>\n",
       "    <tr>\n",
       "      <th>101</th>\n",
       "      <td>0.931542</td>\n",
       "      <td>0.932652</td>\n",
       "    </tr>\n",
       "    <tr>\n",
       "      <th>201</th>\n",
       "      <td>0.931015</td>\n",
       "      <td>0.932028</td>\n",
       "    </tr>\n",
       "    <tr>\n",
       "      <th>301</th>\n",
       "      <td>0.930794</td>\n",
       "      <td>0.931612</td>\n",
       "    </tr>\n",
       "    <tr>\n",
       "      <th>401</th>\n",
       "      <td>0.930821</td>\n",
       "      <td>0.931571</td>\n",
       "    </tr>\n",
       "    <tr>\n",
       "      <th>501</th>\n",
       "      <td>0.930683</td>\n",
       "      <td>0.931404</td>\n",
       "    </tr>\n",
       "    <tr>\n",
       "      <th>601</th>\n",
       "      <td>0.930655</td>\n",
       "      <td>0.931280</td>\n",
       "    </tr>\n",
       "    <tr>\n",
       "      <th>701</th>\n",
       "      <td>0.930627</td>\n",
       "      <td>0.931155</td>\n",
       "    </tr>\n",
       "    <tr>\n",
       "      <th>801</th>\n",
       "      <td>0.930641</td>\n",
       "      <td>0.931113</td>\n",
       "    </tr>\n",
       "    <tr>\n",
       "      <th>901</th>\n",
       "      <td>0.930627</td>\n",
       "      <td>0.931072</td>\n",
       "    </tr>\n",
       "  </tbody>\n",
       "</table>\n",
       "</div>"
      ],
      "text/plain": [
       "        Train      Test\n",
       "K                      \n",
       "1    0.999958  0.897314\n",
       "101  0.931542  0.932652\n",
       "201  0.931015  0.932028\n",
       "301  0.930794  0.931612\n",
       "401  0.930821  0.931571\n",
       "501  0.930683  0.931404\n",
       "601  0.930655  0.931280\n",
       "701  0.930627  0.931155\n",
       "801  0.930641  0.931113\n",
       "901  0.930627  0.931072"
      ]
     },
     "execution_count": 50,
     "metadata": {},
     "output_type": "execute_result"
    }
   ],
   "source": [
    "df"
   ]
  },
  {
   "cell_type": "code",
   "execution_count": 53,
   "id": "e9135a4d",
   "metadata": {
    "ExecuteTime": {
     "end_time": "2021-11-26T10:24:49.675480Z",
     "start_time": "2021-11-26T10:24:49.659458Z"
    }
   },
   "outputs": [
    {
     "data": {
      "text/html": [
       "<div>\n",
       "<style scoped>\n",
       "    .dataframe tbody tr th:only-of-type {\n",
       "        vertical-align: middle;\n",
       "    }\n",
       "\n",
       "    .dataframe tbody tr th {\n",
       "        vertical-align: top;\n",
       "    }\n",
       "\n",
       "    .dataframe thead th {\n",
       "        text-align: right;\n",
       "    }\n",
       "</style>\n",
       "<table border=\"1\" class=\"dataframe\">\n",
       "  <thead>\n",
       "    <tr style=\"text-align: right;\">\n",
       "      <th></th>\n",
       "      <th>Train</th>\n",
       "      <th>Test</th>\n",
       "    </tr>\n",
       "    <tr>\n",
       "      <th>K</th>\n",
       "      <th></th>\n",
       "      <th></th>\n",
       "    </tr>\n",
       "  </thead>\n",
       "  <tbody>\n",
       "    <tr>\n",
       "      <th>1</th>\n",
       "      <td>0.999958</td>\n",
       "      <td>0.897314</td>\n",
       "    </tr>\n",
       "    <tr>\n",
       "      <th>11</th>\n",
       "      <td>0.935159</td>\n",
       "      <td>0.933150</td>\n",
       "    </tr>\n",
       "    <tr>\n",
       "      <th>21</th>\n",
       "      <td>0.933441</td>\n",
       "      <td>0.933525</td>\n",
       "    </tr>\n",
       "    <tr>\n",
       "      <th>31</th>\n",
       "      <td>0.932983</td>\n",
       "      <td>0.932859</td>\n",
       "    </tr>\n",
       "    <tr>\n",
       "      <th>41</th>\n",
       "      <td>0.932498</td>\n",
       "      <td>0.932818</td>\n",
       "    </tr>\n",
       "    <tr>\n",
       "      <th>51</th>\n",
       "      <td>0.932249</td>\n",
       "      <td>0.932568</td>\n",
       "    </tr>\n",
       "    <tr>\n",
       "      <th>61</th>\n",
       "      <td>0.932124</td>\n",
       "      <td>0.932361</td>\n",
       "    </tr>\n",
       "    <tr>\n",
       "      <th>71</th>\n",
       "      <td>0.931930</td>\n",
       "      <td>0.932319</td>\n",
       "    </tr>\n",
       "    <tr>\n",
       "      <th>81</th>\n",
       "      <td>0.931556</td>\n",
       "      <td>0.932568</td>\n",
       "    </tr>\n",
       "    <tr>\n",
       "      <th>91</th>\n",
       "      <td>0.931597</td>\n",
       "      <td>0.932568</td>\n",
       "    </tr>\n",
       "  </tbody>\n",
       "</table>\n",
       "</div>"
      ],
      "text/plain": [
       "       Train      Test\n",
       "K                     \n",
       "1   0.999958  0.897314\n",
       "11  0.935159  0.933150\n",
       "21  0.933441  0.933525\n",
       "31  0.932983  0.932859\n",
       "41  0.932498  0.932818\n",
       "51  0.932249  0.932568\n",
       "61  0.932124  0.932361\n",
       "71  0.931930  0.932319\n",
       "81  0.931556  0.932568\n",
       "91  0.931597  0.932568"
      ]
     },
     "execution_count": 53,
     "metadata": {},
     "output_type": "execute_result"
    }
   ],
   "source": [
    "df"
   ]
  },
  {
   "cell_type": "code",
   "execution_count": 57,
   "id": "73387454",
   "metadata": {
    "ExecuteTime": {
     "end_time": "2021-11-26T10:29:52.552547Z",
     "start_time": "2021-11-26T10:29:52.546548Z"
    }
   },
   "outputs": [
    {
     "data": {
      "text/html": [
       "<div>\n",
       "<style scoped>\n",
       "    .dataframe tbody tr th:only-of-type {\n",
       "        vertical-align: middle;\n",
       "    }\n",
       "\n",
       "    .dataframe tbody tr th {\n",
       "        vertical-align: top;\n",
       "    }\n",
       "\n",
       "    .dataframe thead th {\n",
       "        text-align: right;\n",
       "    }\n",
       "</style>\n",
       "<table border=\"1\" class=\"dataframe\">\n",
       "  <thead>\n",
       "    <tr style=\"text-align: right;\">\n",
       "      <th></th>\n",
       "      <th>Train</th>\n",
       "      <th>Test</th>\n",
       "    </tr>\n",
       "    <tr>\n",
       "      <th>K</th>\n",
       "      <th></th>\n",
       "      <th></th>\n",
       "    </tr>\n",
       "  </thead>\n",
       "  <tbody>\n",
       "    <tr>\n",
       "      <th>1</th>\n",
       "      <td>0.999958</td>\n",
       "      <td>0.897314</td>\n",
       "    </tr>\n",
       "    <tr>\n",
       "      <th>2</th>\n",
       "      <td>0.944873</td>\n",
       "      <td>0.929159</td>\n",
       "    </tr>\n",
       "    <tr>\n",
       "      <th>3</th>\n",
       "      <td>0.946120</td>\n",
       "      <td>0.925750</td>\n",
       "    </tr>\n",
       "    <tr>\n",
       "      <th>4</th>\n",
       "      <td>0.938942</td>\n",
       "      <td>0.930781</td>\n",
       "    </tr>\n",
       "    <tr>\n",
       "      <th>5</th>\n",
       "      <td>0.939760</td>\n",
       "      <td>0.930032</td>\n",
       "    </tr>\n",
       "    <tr>\n",
       "      <th>6</th>\n",
       "      <td>0.936725</td>\n",
       "      <td>0.931612</td>\n",
       "    </tr>\n",
       "    <tr>\n",
       "      <th>7</th>\n",
       "      <td>0.937251</td>\n",
       "      <td>0.931446</td>\n",
       "    </tr>\n",
       "    <tr>\n",
       "      <th>8</th>\n",
       "      <td>0.935117</td>\n",
       "      <td>0.932527</td>\n",
       "    </tr>\n",
       "    <tr>\n",
       "      <th>9</th>\n",
       "      <td>0.935824</td>\n",
       "      <td>0.932070</td>\n",
       "    </tr>\n",
       "  </tbody>\n",
       "</table>\n",
       "</div>"
      ],
      "text/plain": [
       "      Train      Test\n",
       "K                    \n",
       "1  0.999958  0.897314\n",
       "2  0.944873  0.929159\n",
       "3  0.946120  0.925750\n",
       "4  0.938942  0.930781\n",
       "5  0.939760  0.930032\n",
       "6  0.936725  0.931612\n",
       "7  0.937251  0.931446\n",
       "8  0.935117  0.932527\n",
       "9  0.935824  0.932070"
      ]
     },
     "execution_count": 57,
     "metadata": {},
     "output_type": "execute_result"
    }
   ],
   "source": [
    "df"
   ]
  },
  {
   "cell_type": "code",
   "execution_count": null,
   "id": "8fcb16ed",
   "metadata": {},
   "outputs": [],
   "source": []
  },
  {
   "cell_type": "code",
   "execution_count": null,
   "id": "cdeace63",
   "metadata": {},
   "outputs": [],
   "source": []
  },
  {
   "cell_type": "code",
   "execution_count": null,
   "id": "ee54cfec",
   "metadata": {},
   "outputs": [],
   "source": []
  },
  {
   "cell_type": "code",
   "execution_count": 63,
   "id": "55f239c7",
   "metadata": {
    "ExecuteTime": {
     "end_time": "2021-11-24T14:33:18.484853Z",
     "start_time": "2021-11-24T14:33:18.471543Z"
    }
   },
   "outputs": [],
   "source": []
  },
  {
   "cell_type": "code",
   "execution_count": null,
   "id": "1f5a769f",
   "metadata": {},
   "outputs": [],
   "source": []
  },
  {
   "cell_type": "code",
   "execution_count": null,
   "id": "91a69c3e",
   "metadata": {},
   "outputs": [],
   "source": []
  },
  {
   "cell_type": "code",
   "execution_count": null,
   "id": "f23651cb",
   "metadata": {},
   "outputs": [],
   "source": []
  },
  {
   "cell_type": "code",
   "execution_count": null,
   "id": "a2a7b188",
   "metadata": {},
   "outputs": [],
   "source": []
  },
  {
   "cell_type": "code",
   "execution_count": null,
   "id": "62c996a1",
   "metadata": {},
   "outputs": [],
   "source": []
  },
  {
   "cell_type": "code",
   "execution_count": null,
   "id": "9d733b91",
   "metadata": {},
   "outputs": [],
   "source": []
  },
  {
   "cell_type": "code",
   "execution_count": null,
   "id": "5889ea04",
   "metadata": {},
   "outputs": [],
   "source": []
  },
  {
   "cell_type": "code",
   "execution_count": 64,
   "id": "092026a5",
   "metadata": {
    "ExecuteTime": {
     "end_time": "2021-11-24T14:33:56.293130Z",
     "start_time": "2021-11-24T14:33:56.279080Z"
    }
   },
   "outputs": [],
   "source": []
  },
  {
   "cell_type": "code",
   "execution_count": null,
   "id": "4615f94e",
   "metadata": {},
   "outputs": [],
   "source": []
  },
  {
   "cell_type": "code",
   "execution_count": null,
   "id": "05b27f73",
   "metadata": {},
   "outputs": [],
   "source": []
  },
  {
   "cell_type": "code",
   "execution_count": null,
   "id": "2a525ca0",
   "metadata": {},
   "outputs": [],
   "source": []
  },
  {
   "cell_type": "code",
   "execution_count": null,
   "id": "b21d0338",
   "metadata": {},
   "outputs": [],
   "source": []
  },
  {
   "cell_type": "code",
   "execution_count": null,
   "id": "481d31fe",
   "metadata": {},
   "outputs": [],
   "source": []
  },
  {
   "cell_type": "code",
   "execution_count": null,
   "id": "bc3646c3",
   "metadata": {},
   "outputs": [],
   "source": []
  },
  {
   "cell_type": "code",
   "execution_count": 67,
   "id": "02b9dcb5",
   "metadata": {
    "ExecuteTime": {
     "end_time": "2021-11-24T14:34:43.683914Z",
     "start_time": "2021-11-24T14:34:43.670536Z"
    }
   },
   "outputs": [],
   "source": []
  },
  {
   "cell_type": "code",
   "execution_count": null,
   "id": "dd1bea26",
   "metadata": {},
   "outputs": [],
   "source": []
  },
  {
   "cell_type": "code",
   "execution_count": 43,
   "id": "d19081bb",
   "metadata": {
    "ExecuteTime": {
     "end_time": "2021-11-24T14:19:04.694777Z",
     "start_time": "2021-11-24T14:19:04.677687Z"
    }
   },
   "outputs": [],
   "source": []
  },
  {
   "cell_type": "code",
   "execution_count": 44,
   "id": "7aaad2a9",
   "metadata": {
    "ExecuteTime": {
     "end_time": "2021-11-24T14:19:24.410137Z",
     "start_time": "2021-11-24T14:19:24.399137Z"
    }
   },
   "outputs": [],
   "source": []
  },
  {
   "cell_type": "code",
   "execution_count": 49,
   "id": "b9664457",
   "metadata": {
    "ExecuteTime": {
     "end_time": "2021-11-24T14:22:57.618898Z",
     "start_time": "2021-11-24T14:22:57.452345Z"
    }
   },
   "outputs": [],
   "source": []
  },
  {
   "cell_type": "code",
   "execution_count": null,
   "id": "48de5edd",
   "metadata": {},
   "outputs": [],
   "source": []
  },
  {
   "cell_type": "code",
   "execution_count": null,
   "id": "861c4602",
   "metadata": {},
   "outputs": [],
   "source": []
  },
  {
   "cell_type": "code",
   "execution_count": null,
   "id": "ded2ca51",
   "metadata": {
    "ExecuteTime": {
     "end_time": "2021-11-23T14:03:26.580305Z",
     "start_time": "2021-11-23T14:03:26.565841Z"
    }
   },
   "outputs": [],
   "source": [
    "####5강 binarizer 임계값 변경 참조"
   ]
  },
  {
   "cell_type": "code",
   "execution_count": null,
   "id": "2eba0f78",
   "metadata": {},
   "outputs": [],
   "source": [
    "#PR curve 그리고 AP 점수 확인\n",
    "from sklearn.metrics import precision_recall_curve, average_precision_score\n",
    "import matplotlib.pyplot as plt\n",
    "\n",
    "pos_proba_tree0 = tree0.predict_proba(X_test)[:, 1]\n",
    "pos_proba_rf0 = rf0.predict_proba(X_test)[:, 1]\n",
    "\n",
    "precisions_tree0, recalls_tree0, thresholds_tree0 = precision_recall_curve(y_test, pos_proba_tree0)\n",
    "precisions_rf0, recalls_rf0, thresholds_rf0 = precision_recall_curve(y_test, pos_proba_rf0)\n",
    "\n",
    "#PR curve\n",
    "fig, ax = plt.subplots(1,2, figsize=(15,7))\n",
    "plot_precision_recall_curve(tree0, X_test, y_test, ax=ax[0])\n",
    "plot_precision_recall_curve(rf0, X_test, y_test, ax=ax[1])\n",
    "plt.grid(True)\n",
    "plt.show()\n",
    "\n",
    "#AP확인\n",
    "print('tree_AP:', average_precision_score(y_test, pos_proba_tree0))\n",
    "print('rf_AP:', average_precision_score(y_test, pos_proba_rf0))\n"
   ]
  },
  {
   "cell_type": "code",
   "execution_count": null,
   "id": "155133e6",
   "metadata": {},
   "outputs": [],
   "source": [
    "import matplotlib.pyplot as plt \n",
    "from sklearn.metrics import roc_curve, roc_auc_score, RocCurveDisplay\n",
    "\n",
    "pos_proba_tree0 = tree0.predict_proba(X_test)[:,1]\n",
    "pos_proba_rf0 = rf0.predict_proba(X_test)[:, 1]\n",
    "\n",
    "fprs_tree, tprs_tree, thresholds_tree = roc_curve(y_test, pos_proba_tree0)\n",
    "fprs_rf, tprs_rf, thredholds_rf = roc_curve(y_test, pos_proba_rf0)\n",
    "\n",
    "#roc score\n",
    "tree_auc = roc_auc_score(y_test, pos_proba_tree0)\n",
    "rf_auc = roc_auc_score(y_test, pos_proba_rf0)"
   ]
  },
  {
   "cell_type": "code",
   "execution_count": null,
   "id": "67f08991",
   "metadata": {},
   "outputs": [],
   "source": [
    "#roc_curve\n",
    "from sklearn.metrics import RocCurveDisplay\n",
    "\n",
    "disp1 = RocCurveDisplay(fpr = fprs_tree, tpr=tprs_tree, roc_auc=tree_auc, estimator_name='tree')\n",
    "disp2 = RocCurveDisplay(fpr = fprs_rf, tpr=tprs_rf, roc_auc=rf_auc, estimator_name='rf')\n",
    "\n",
    "disp1.plot()\n",
    "disp2.plot()"
   ]
  },
  {
   "cell_type": "code",
   "execution_count": null,
   "id": "f2b85c79",
   "metadata": {},
   "outputs": [],
   "source": [
    "from sklearn.tree import export_graphviz\n",
    "from graphviz import Source\n",
    "graph = Source(export_graphviz(tree, \n",
    "                               out_file=None, \n",
    "                               feature_names=cancer.feature_names, \n",
    "                               class_names=cancer.target_names, \n",
    "                               rounded=True, filled=True))\n",
    "graph"
   ]
  },
  {
   "cell_type": "markdown",
   "id": "9b5687fc",
   "metadata": {},
   "source": [
    "## 참고"
   ]
  },
  {
   "cell_type": "code",
   "execution_count": 254,
   "id": "89a33eeb",
   "metadata": {
    "ExecuteTime": {
     "end_time": "2021-11-25T12:23:21.745023Z",
     "start_time": "2021-11-25T12:23:21.738002Z"
    }
   },
   "outputs": [],
   "source": [
    "from sklearn.tree import DecisionTreeClassifier\n",
    "\n",
    "from sklearn.model_selection import GridSearchCV\n",
    "\n",
    "tree = DecisionTreeClassifier()\n",
    "\n",
    "param_grid = {\n",
    "    'max_depth': [None, 1, 2, 3, 4, 5],\n",
    "    'max_leaf_nodes':[3,5,7,9]\n",
    "}\n",
    "\n",
    "grid_search = GridSearchCV(tree,\n",
    "                          param_grid=param_grid,\n",
    "                           scoring='accuracy',\n",
    "                           cv=5,\n",
    "                           n_jobs=-1)"
   ]
  },
  {
   "cell_type": "code",
   "execution_count": null,
   "id": "06e4f9b4",
   "metadata": {},
   "outputs": [],
   "source": [
    "import pandas as pd\n",
    "result_df = pd.DataFrame({'Train Acc':train_acc_list, \n",
    "                          'Test Acc':test_acc_list}, \n",
    "                         index=max_depth_candidates\n",
    "                        )\n",
    "#DataFrame.rename_axix() : 축의 이름(index/column label)을 지정/변경\n",
    "result_df.rename_axis(index='Max Depth', columns='dataset', \n",
    "                      inplace=True)\n",
    "result_df"
   ]
  },
  {
   "cell_type": "code",
   "execution_count": null,
   "id": "3ddf1f21",
   "metadata": {},
   "outputs": [],
   "source": [
    "# 단순       복잡\n",
    "# 1          5\n",
    "\n",
    "import matplotlib.pyplot as plt\n",
    "result_df.plot(figsize=(8,7))\n",
    "plt.show()"
   ]
  },
  {
   "cell_type": "markdown",
   "id": "188bef30",
   "metadata": {},
   "source": [
    "### [GridSearchCV](https://scikit-learn.org/stable/modules/generated/sklearn.model_selection.GridSearchCV.html) 매개변수및 결과조회\n",
    "- **Initializer 매개변수**\n",
    "    - **estimator:** 모델객체 지정\n",
    "    - **params :** 하이퍼파라미터 목록을 dictionary로 전달 '파라미터명':[파라미터값 list] 형식\n",
    "    - **scoring:** 평가 지표\n",
    "        - 평가지표문자열: https://scikit-learn.org/stable/modules/model_evaluation.html\n",
    "        - 생략시 분류는 **accuracy**, 회귀는 **$R^2$** 를 기본 평가지표로 설정한다.\n",
    "        - 여러개일 경우 List로 묶어서 지정\n",
    "    - **refit:** best parameter를 정할 때 사용할 평가지표\n",
    "        - scoring에 여러개의 평가지표를 설정한 경우 refit을 반드시 설정해야 한다.\n",
    "    - **cv:** 교차검증시 fold 개수. \n",
    "    - **n_jobs:** 사용할 CPU 코어 개수 (None:1(기본값), -1: 모든 코어 다 사용)"
   ]
  },
  {
   "cell_type": "markdown",
   "id": "4b2d634d",
   "metadata": {},
   "source": [
    "- **결과 조회 속성**\n",
    "    - fit() 후에 호출 할 수 있다.\n",
    "    - **cv_results_:** 파라미터 조합별 평가 결과를 Dictionary로 반환한다.\n",
    "    - **best_params_:** 가장 좋은 성능을 낸 parameter 조합을 반환한다.\n",
    "    - **best_estimator_:** 가장 좋은 성능을 낸 모델을 반환한다.\n",
    "    - **best_score_:** 가장 좋은 점수 반환한다."
   ]
  },
  {
   "cell_type": "code",
   "execution_count": null,
   "id": "d1143a80",
   "metadata": {},
   "outputs": [],
   "source": [
    "from sklearn.model_selection import GridSearchCV\n",
    "from sklearn.tree import DecisionTreeClassifier\n",
    "\n",
    "tree = DecisionTreeClassifier(random_state=0)\n",
    "param_grid={\n",
    "    'max_dapth':[None, 1,2,3,4,5],\n",
    "    'max_leaf_nodes':[3,5,7,9]\n",
    "}\n",
    "\n",
    "grid_search = GridSearchCV(tree,\n",
    "                          param_grid=param_grid,\n",
    "                          scoring='accuracy',\n",
    "                          cv=5,\n",
    "                          n_jobs=-1\n",
    "                          )"
   ]
  },
  {
   "cell_type": "code",
   "execution_count": 18,
   "id": "bd9cb667",
   "metadata": {
    "ExecuteTime": {
     "end_time": "2021-11-26T07:40:03.930322Z",
     "start_time": "2021-11-26T07:40:03.854323Z"
    }
   },
   "outputs": [
    {
     "ename": "NameError",
     "evalue": "name 'drop_data' is not defined",
     "output_type": "error",
     "traceback": [
      "\u001b[1;31m---------------------------------------------------------------------------\u001b[0m",
      "\u001b[1;31mNameError\u001b[0m                                 Traceback (most recent call last)",
      "\u001b[1;32m~\\AppData\\Local\\Temp/ipykernel_4044/803399828.py\u001b[0m in \u001b[0;36m<module>\u001b[1;34m\u001b[0m\n\u001b[1;32m----> 1\u001b[1;33m \u001b[0mdrop_data\u001b[0m\u001b[1;33m[\u001b[0m\u001b[1;33m:\u001b[0m\u001b[1;36m1\u001b[0m\u001b[1;33m]\u001b[0m\u001b[1;33m\u001b[0m\u001b[1;33m\u001b[0m\u001b[0m\n\u001b[0m",
      "\u001b[1;31mNameError\u001b[0m: name 'drop_data' is not defined"
     ]
    }
   ],
   "source": [
    "drop_data[:1]"
   ]
  },
  {
   "cell_type": "code",
   "execution_count": 7,
   "id": "3302f3d8",
   "metadata": {
    "ExecuteTime": {
     "end_time": "2021-11-26T09:11:32.750396Z",
     "start_time": "2021-11-26T09:11:32.390361Z"
    }
   },
   "outputs": [],
   "source": [
    "####\n",
    "\n",
    "X, y = drop_data.drop('SeriousDlqin2yrs', axis=True) , drop_data['SeriousDlqin2yrs']\n",
    "from sklearn.model_selection import train_test_split\n",
    "X_train, X_test, y_train, y_test = train_test_split(X, y, test_size=0.2, stratify=y)"
   ]
  },
  {
   "cell_type": "code",
   "execution_count": 23,
   "id": "ca142b0b",
   "metadata": {
    "ExecuteTime": {
     "end_time": "2021-11-26T07:41:40.962515Z",
     "start_time": "2021-11-26T07:41:40.952495Z"
    }
   },
   "outputs": [],
   "source": [
    "from sklearn.tree import DecisionTreeClassifier\n",
    "##model_selection!!!!!\n",
    "from sklearn.model_selection import GridSearchCV\n",
    "\n",
    "tree=DecisionTreeClassifier(random_state=0)\n",
    "param_grid = {'max_depth':[None, 1,2,3,4,5],\n",
    "             'max_leaf_nodes': [3,5,7,9]}\n",
    "             \n",
    "grid_search =GridSearchCV(tree,\n",
    "                         param_grid=param_grid,\n",
    "                         scoring='roc_auc', #scoring=['accuracy', 'recall', 'precision','roc_auc', 'f1'], \n",
    "                         refit='roc_auc',\n",
    "                         cv=5,\n",
    "                         n_jobs=-1\n",
    "                         )\n",
    "# refit:  best parameter를 선택할 평가지표 설정. \n",
    "#        여기서 지정한 평가지표가 가장 좋은 파라미터로 모델을 재학습시킨다."
   ]
  },
  {
   "cell_type": "code",
   "execution_count": 24,
   "id": "59e51882",
   "metadata": {
    "ExecuteTime": {
     "end_time": "2021-11-26T07:41:47.432853Z",
     "start_time": "2021-11-26T07:41:41.836841Z"
    },
    "scrolled": true
   },
   "outputs": [
    {
     "data": {
      "text/plain": [
       "GridSearchCV(cv=5, estimator=DecisionTreeClassifier(random_state=0), n_jobs=-1,\n",
       "             param_grid={'max_depth': [None, 1, 2, 3, 4, 5],\n",
       "                         'max_leaf_nodes': [3, 5, 7, 9]},\n",
       "             refit='roc_auc', scoring='roc_auc')"
      ]
     },
     "execution_count": 24,
     "metadata": {},
     "output_type": "execute_result"
    }
   ],
   "source": [
    "grid_search.fit(X_train, y_train)"
   ]
  },
  {
   "cell_type": "code",
   "execution_count": 29,
   "id": "3deaf09c",
   "metadata": {
    "ExecuteTime": {
     "end_time": "2021-11-26T07:42:06.360618Z",
     "start_time": "2021-11-26T07:42:06.347582Z"
    }
   },
   "outputs": [
    {
     "data": {
      "text/plain": [
       "{'max_depth': None, 'max_leaf_nodes': 9}"
      ]
     },
     "execution_count": 29,
     "metadata": {},
     "output_type": "execute_result"
    }
   ],
   "source": [
    "grid_search.best_params_"
   ]
  },
  {
   "cell_type": "code",
   "execution_count": 31,
   "id": "9e9e2e39",
   "metadata": {
    "ExecuteTime": {
     "end_time": "2021-11-26T07:42:20.950763Z",
     "start_time": "2021-11-26T07:42:20.940740Z"
    },
    "scrolled": true
   },
   "outputs": [
    {
     "data": {
      "text/plain": [
       "0.8123731431809122"
      ]
     },
     "execution_count": 31,
     "metadata": {},
     "output_type": "execute_result"
    }
   ],
   "source": [
    "grid_search.best_score_"
   ]
  },
  {
   "cell_type": "code",
   "execution_count": 39,
   "id": "2fa707e3",
   "metadata": {
    "ExecuteTime": {
     "end_time": "2021-11-26T08:00:21.820125Z",
     "start_time": "2021-11-26T08:00:21.810119Z"
    }
   },
   "outputs": [
    {
     "data": {
      "text/plain": [
       "{'mean_fit_time': array([0.13620033, 0.16200018, 0.19899907, 0.23559852, 0.08559933,\n",
       "        0.06979852, 0.0674006 , 0.06420097, 0.09399905, 0.08892031,\n",
       "        0.09192019, 0.09091845, 0.12372851, 0.13079925, 0.12999997,\n",
       "        0.13779945, 0.13780036, 0.15300064, 0.1800004 , 0.18159904,\n",
       "        0.16059971, 0.15799952, 0.16080008, 0.16339908]),\n",
       " 'std_fit_time': array([0.00318779, 0.01191598, 0.01571029, 0.01694342, 0.01135889,\n",
       "        0.00655445, 0.00895798, 0.00147028, 0.007266  , 0.00110722,\n",
       "        0.0054921 , 0.00636741, 0.00594427, 0.00699757, 0.00275735,\n",
       "        0.003544  , 0.0047498 , 0.01109985, 0.0293192 , 0.00875474,\n",
       "        0.02178546, 0.00981827, 0.0062735 , 0.01112827]),\n",
       " 'mean_score_time': array([0.00800028, 0.01000042, 0.0089993 , 0.00800052, 0.00980005,\n",
       "        0.00779948, 0.0082006 , 0.00759978, 0.00600028, 0.00600009,\n",
       "        0.00699987, 0.00739975, 0.00759983, 0.00780001, 0.00760021,\n",
       "        0.00819983, 0.00780058, 0.00879965, 0.00979929, 0.00900006,\n",
       "        0.00800028, 0.00699978, 0.00619965, 0.00560088]),\n",
       " 'std_score_time': array([8.06404806e-07, 1.89738026e-03, 6.32108858e-04, 1.09506134e-03,\n",
       "        3.12427350e-03, 7.46952382e-04, 3.99375827e-04, 4.89357543e-04,\n",
       "        8.96175029e-04, 1.01601008e-06, 8.94522649e-04, 8.00693200e-04,\n",
       "        4.89690473e-04, 7.48621819e-04, 4.90583421e-04, 4.00353983e-04,\n",
       "        7.48073799e-04, 7.48991571e-04, 3.18727471e-03, 8.93989203e-04,\n",
       "        1.09575805e-03, 6.32409951e-04, 9.80581448e-04, 7.99811240e-04]),\n",
       " 'param_max_depth': masked_array(data=[None, None, None, None, 1, 1, 1, 1, 2, 2, 2, 2, 3, 3,\n",
       "                    3, 3, 4, 4, 4, 4, 5, 5, 5, 5],\n",
       "              mask=[False, False, False, False, False, False, False, False,\n",
       "                    False, False, False, False, False, False, False, False,\n",
       "                    False, False, False, False, False, False, False, False],\n",
       "        fill_value='?',\n",
       "             dtype=object),\n",
       " 'param_max_leaf_nodes': masked_array(data=[3, 5, 7, 9, 3, 5, 7, 9, 3, 5, 7, 9, 3, 5, 7, 9, 3, 5,\n",
       "                    7, 9, 3, 5, 7, 9],\n",
       "              mask=[False, False, False, False, False, False, False, False,\n",
       "                    False, False, False, False, False, False, False, False,\n",
       "                    False, False, False, False, False, False, False, False],\n",
       "        fill_value='?',\n",
       "             dtype=object),\n",
       " 'params': [{'max_depth': None, 'max_leaf_nodes': 3},\n",
       "  {'max_depth': None, 'max_leaf_nodes': 5},\n",
       "  {'max_depth': None, 'max_leaf_nodes': 7},\n",
       "  {'max_depth': None, 'max_leaf_nodes': 9},\n",
       "  {'max_depth': 1, 'max_leaf_nodes': 3},\n",
       "  {'max_depth': 1, 'max_leaf_nodes': 5},\n",
       "  {'max_depth': 1, 'max_leaf_nodes': 7},\n",
       "  {'max_depth': 1, 'max_leaf_nodes': 9},\n",
       "  {'max_depth': 2, 'max_leaf_nodes': 3},\n",
       "  {'max_depth': 2, 'max_leaf_nodes': 5},\n",
       "  {'max_depth': 2, 'max_leaf_nodes': 7},\n",
       "  {'max_depth': 2, 'max_leaf_nodes': 9},\n",
       "  {'max_depth': 3, 'max_leaf_nodes': 3},\n",
       "  {'max_depth': 3, 'max_leaf_nodes': 5},\n",
       "  {'max_depth': 3, 'max_leaf_nodes': 7},\n",
       "  {'max_depth': 3, 'max_leaf_nodes': 9},\n",
       "  {'max_depth': 4, 'max_leaf_nodes': 3},\n",
       "  {'max_depth': 4, 'max_leaf_nodes': 5},\n",
       "  {'max_depth': 4, 'max_leaf_nodes': 7},\n",
       "  {'max_depth': 4, 'max_leaf_nodes': 9},\n",
       "  {'max_depth': 5, 'max_leaf_nodes': 3},\n",
       "  {'max_depth': 5, 'max_leaf_nodes': 5},\n",
       "  {'max_depth': 5, 'max_leaf_nodes': 7},\n",
       "  {'max_depth': 5, 'max_leaf_nodes': 9}],\n",
       " 'split0_test_score': array([0.76782447, 0.77513982, 0.78413551, 0.81029739, 0.64856321,\n",
       "        0.64856321, 0.64856321, 0.64856321, 0.76782447, 0.76899743,\n",
       "        0.76899743, 0.76899743, 0.76782447, 0.77513982, 0.80035584,\n",
       "        0.80036921, 0.76782447, 0.77513982, 0.78413551, 0.81029739,\n",
       "        0.76782447, 0.77513982, 0.78413551, 0.81029739]),\n",
       " 'split1_test_score': array([0.76230169, 0.77029248, 0.77458718, 0.80704572, 0.64443256,\n",
       "        0.64443256, 0.64443256, 0.64443256, 0.76230169, 0.76354917,\n",
       "        0.76354917, 0.76354917, 0.76230169, 0.77029248, 0.78254361,\n",
       "        0.78257047, 0.76230169, 0.77029248, 0.77458718, 0.80704572,\n",
       "        0.76230169, 0.77029248, 0.77458718, 0.80704572]),\n",
       " 'split2_test_score': array([0.77128896, 0.77961182, 0.80901919, 0.81347126, 0.64993541,\n",
       "        0.64993541, 0.64993541, 0.64993541, 0.77128896, 0.77268075,\n",
       "        0.77268075, 0.77268075, 0.77128896, 0.77961182, 0.80558027,\n",
       "        0.80573772, 0.77128896, 0.77961182, 0.80901919, 0.81035334,\n",
       "        0.77128896, 0.77961182, 0.80901919, 0.81347126]),\n",
       " 'split3_test_score': array([0.76702778, 0.77400041, 0.79224866, 0.81406434, 0.64789903,\n",
       "        0.64789903, 0.64789903, 0.64789903, 0.76702778, 0.76826139,\n",
       "        0.76826139, 0.76826139, 0.76702778, 0.77400041, 0.78529121,\n",
       "        0.78551648, 0.76702778, 0.77400041, 0.79224866, 0.81406434,\n",
       "        0.76702778, 0.77400041, 0.79224866, 0.81406434]),\n",
       " 'split4_test_score': array([0.77637655, 0.78650326, 0.81563769, 0.81698699, 0.65772051,\n",
       "        0.65772051, 0.65772051, 0.65772051, 0.77637655, 0.77743019,\n",
       "        0.77743019, 0.77743019, 0.77637655, 0.78650326, 0.81345999,\n",
       "        0.81368857, 0.77637655, 0.78650326, 0.81563769, 0.81698699,\n",
       "        0.77637655, 0.78650326, 0.81563769, 0.81698699]),\n",
       " 'mean_test_score': array([0.76896389, 0.77710956, 0.79512565, 0.81237314, 0.64971014,\n",
       "        0.64971014, 0.64971014, 0.64971014, 0.76896389, 0.77018378,\n",
       "        0.77018378, 0.77018378, 0.76896389, 0.77710956, 0.79744618,\n",
       "        0.79757649, 0.76896389, 0.77710956, 0.79512565, 0.81174956,\n",
       "        0.76896389, 0.77710956, 0.79512565, 0.81237314]),\n",
       " 'std_test_score': array([0.00468583, 0.00555917, 0.01526213, 0.00340716, 0.00439694,\n",
       "        0.00439694, 0.00439694, 0.00439694, 0.00468583, 0.0046447 ,\n",
       "        0.0046447 , 0.0046447 , 0.00468583, 0.00555917, 0.01183978,\n",
       "        0.01187121, 0.00468583, 0.00555917, 0.01526213, 0.00343433,\n",
       "        0.00468583, 0.00555917, 0.01526213, 0.00340716]),\n",
       " 'rank_test_score': array([16,  9,  6,  1, 21, 21, 21, 21, 16, 13, 13, 13, 16,  9,  5,  4, 16,\n",
       "         9,  6,  3, 16,  9,  6,  1])}"
      ]
     },
     "execution_count": 39,
     "metadata": {},
     "output_type": "execute_result"
    }
   ],
   "source": [
    "grid_search.cv_results_"
   ]
  },
  {
   "cell_type": "code",
   "execution_count": null,
   "id": "ed984dcb",
   "metadata": {},
   "outputs": [],
   "source": []
  },
  {
   "cell_type": "code",
   "execution_count": 34,
   "id": "0279841d",
   "metadata": {
    "ExecuteTime": {
     "end_time": "2021-11-26T07:42:58.605091Z",
     "start_time": "2021-11-26T07:42:58.589070Z"
    }
   },
   "outputs": [
    {
     "data": {
      "text/plain": [
       "DecisionTreeClassifier(max_leaf_nodes=9, random_state=0)"
      ]
     },
     "execution_count": 34,
     "metadata": {},
     "output_type": "execute_result"
    }
   ],
   "source": [
    "best_model=grid_search.best_estimator_\n",
    "best_model"
   ]
  },
  {
   "cell_type": "code",
   "execution_count": 42,
   "id": "3e69a9d2",
   "metadata": {
    "ExecuteTime": {
     "end_time": "2021-11-26T08:54:54.659016Z",
     "start_time": "2021-11-26T08:54:54.643969Z"
    }
   },
   "outputs": [
    {
     "data": {
      "text/plain": [
       "0.8107866872227906"
      ]
     },
     "execution_count": 42,
     "metadata": {},
     "output_type": "execute_result"
    }
   ],
   "source": [
    "pred_test_pos =best_model.predict_proba(X_test)[:,1]\n",
    "from sklearn.metrics import roc_auc_score, roc_curve\n",
    "roc_auc_score(y_test, pred_test_pos)"
   ]
  },
  {
   "cell_type": "markdown",
   "id": "8d22ced3",
   "metadata": {},
   "source": [
    "### randimizedSearchCV"
   ]
  },
  {
   "cell_type": "markdown",
   "id": "42702977",
   "metadata": {
    "ExecuteTime": {
     "end_time": "2021-11-26T07:59:50.263277Z",
     "start_time": "2021-11-26T07:59:50.255278Z"
    }
   },
   "source": [
    "- **Initializer 매개변수**\n",
    "    - **estimator:** 모델객체 지정\n",
    "    - **param_distributions:** 하이퍼파라미터 목록을 dictionary로 전달 '파라미터명':[파라미터값 list] 형식\n",
    "    - **<font color='red'>n_iter</font>:** 파라미터 검색 횟수\n",
    "    - **scoring:** 평가 지표\n",
    "    - **refit:** best parameter를 정할 때 사용할 평가지표. Scoring에 여러개의 평가지표를 설정한 경우 설정.\n",
    "    - **cv:** 교차검증시 fold 개수. \n",
    "    - **n_jobs:** 사용할 CPU 코어 개수 (None:1(기본값), -1: 모든 코어 다 사용)"
   ]
  },
  {
   "cell_type": "code",
   "execution_count": 47,
   "id": "b80ab694",
   "metadata": {
    "ExecuteTime": {
     "end_time": "2021-11-26T08:58:19.245312Z",
     "start_time": "2021-11-26T08:58:19.240263Z"
    }
   },
   "outputs": [],
   "source": [
    "from sklearn.model_selection import RandomizedSearchCV\n",
    "tree = DecisionTreeClassifier(random_state=0)\n",
    "param_grid = {\n",
    "    'max_depth': range(1,11),\n",
    "    'max_leaf_nodes':range(3,31,3),\n",
    "    'criterion':['gini', 'entropy']\n",
    "}\n",
    "\n",
    "n_iter_search = 100\n",
    "random_search = RandomizedSearchCV(tree,\n",
    "                                  param_distributions=param_grid,\n",
    "                                  n_iter=n_iter_search,\n",
    "                                  scoring='roc_auc',\n",
    "                                  cv=5,\n",
    "                                  n_jobs=-1)"
   ]
  },
  {
   "cell_type": "code",
   "execution_count": 48,
   "id": "6612df54",
   "metadata": {
    "ExecuteTime": {
     "end_time": "2021-11-26T08:58:28.720612Z",
     "start_time": "2021-11-26T08:58:20.909618Z"
    }
   },
   "outputs": [
    {
     "data": {
      "text/plain": [
       "RandomizedSearchCV(cv=5, estimator=DecisionTreeClassifier(random_state=0),\n",
       "                   n_iter=50, n_jobs=-1,\n",
       "                   param_distributions={'criterion': ['gini', 'entropy'],\n",
       "                                        'max_depth': range(1, 11),\n",
       "                                        'max_leaf_nodes': range(3, 31, 3)},\n",
       "                   scoring='roc_auc')"
      ]
     },
     "execution_count": 48,
     "metadata": {},
     "output_type": "execute_result"
    }
   ],
   "source": [
    "random_search.fit(X_train, y_train)"
   ]
  },
  {
   "cell_type": "code",
   "execution_count": 51,
   "id": "e0a8d28b",
   "metadata": {
    "ExecuteTime": {
     "end_time": "2021-11-26T09:00:20.189559Z",
     "start_time": "2021-11-26T09:00:20.176551Z"
    }
   },
   "outputs": [
    {
     "data": {
      "text/plain": [
       "{'mean_fit_time': array([0.09299507, 0.27639108, 0.13979092, 0.28059063, 0.11779432,\n",
       "        0.21180024, 0.07080164, 0.17659941, 0.12119818, 0.21179886,\n",
       "        0.25600009, 0.14759927, 0.19199977, 0.22119985, 0.13519921,\n",
       "        0.21139956, 0.11860027, 0.20920019, 0.05959973, 0.13399916,\n",
       "        0.06700001, 0.23291626, 0.31061311, 0.17460084, 0.23720155,\n",
       "        0.1960012 , 0.0760005 , 0.14299889, 0.28159857, 0.2598001 ,\n",
       "        0.37279849, 0.32419896, 0.36100049, 0.10219946, 0.2412014 ,\n",
       "        0.21060076, 0.22015109, 0.13673253, 0.06162047, 0.19064112,\n",
       "        0.23560023, 0.09400358, 0.23939958, 0.30459952, 0.34940019,\n",
       "        0.2444016 , 0.2110013 , 0.16819968, 0.18599858, 0.05479913]),\n",
       " 'std_fit_time': array([0.00687173, 0.04096732, 0.02479347, 0.01418787, 0.02121659,\n",
       "        0.01361425, 0.00348674, 0.00233414, 0.0032481 , 0.00643017,\n",
       "        0.00363125, 0.00205966, 0.0117473 , 0.00503533, 0.00453453,\n",
       "        0.01647607, 0.00195985, 0.002227  , 0.00215431, 0.0015489 ,\n",
       "        0.001897  , 0.01162009, 0.01940339, 0.00939363, 0.01260797,\n",
       "        0.0082948 , 0.00547766, 0.00409951, 0.01684867, 0.00617773,\n",
       "        0.01243194, 0.02076022, 0.01044984, 0.00727811, 0.0152632 ,\n",
       "        0.01488122, 0.00272748, 0.00318552, 0.00228902, 0.01169975,\n",
       "        0.00722814, 0.00485979, 0.01142905, 0.00677122, 0.00398032,\n",
       "        0.0114124 , 0.0066031 , 0.00391947, 0.01331169, 0.0017207 ]),\n",
       " 'mean_score_time': array([0.00660081, 0.0079988 , 0.00759988, 0.00840178, 0.01020017,\n",
       "        0.00819921, 0.00719848, 0.00779839, 0.00780063, 0.00759997,\n",
       "        0.00820036, 0.00800056, 0.00780025, 0.00819983, 0.0080184 ,\n",
       "        0.00800138, 0.00839992, 0.00800152, 0.00760055, 0.00819993,\n",
       "        0.00739994, 0.00880003, 0.00880027, 0.00800047, 0.00940089,\n",
       "        0.00839944, 0.00819998, 0.00860124, 0.00859971, 0.0099999 ,\n",
       "        0.00919986, 0.00819993, 0.00899987, 0.00759983, 0.00819969,\n",
       "        0.00850997, 0.00720081, 0.00802054, 0.00840278, 0.0078012 ,\n",
       "        0.00839987, 0.00799761, 0.00740047, 0.00740037, 0.00739989,\n",
       "        0.0086    , 0.0085999 , 0.00759997, 0.00659995, 0.00579948]),\n",
       " 'std_score_time': array([4.90037926e-04, 1.54791165e-03, 1.62552992e-03, 4.88990882e-04,\n",
       "        6.58431916e-03, 1.16654751e-03, 7.49502326e-04, 9.80435854e-04,\n",
       "        7.46877568e-04, 8.00323728e-04, 4.00333900e-04, 6.31958879e-04,\n",
       "        7.48750237e-04, 3.99160399e-04, 3.67655364e-05, 6.33767681e-04,\n",
       "        1.01938421e-03, 2.20276059e-06, 4.88910628e-04, 3.99708986e-04,\n",
       "        4.89376203e-04, 4.00067029e-04, 3.98755341e-04, 6.32486315e-04,\n",
       "        4.90623483e-04, 4.88949236e-04, 7.48890927e-04, 1.01835547e-03,\n",
       "        4.89648459e-04, 3.99940015e-03, 1.46922444e-03, 7.48392160e-04,\n",
       "        6.32183961e-04, 4.90271412e-04, 3.99947945e-04, 4.47764706e-04,\n",
       "        7.47921714e-04, 7.08590070e-04, 4.88757306e-04, 3.99782207e-04,\n",
       "        4.89960067e-04, 6.34898758e-04, 4.90603184e-04, 4.90291692e-04,\n",
       "        1.01974903e-03, 7.99538943e-04, 1.02026340e-03, 1.35652237e-03,\n",
       "        2.05915286e-03, 7.48379391e-04]),\n",
       " 'param_max_leaf_nodes': masked_array(data=[6, 27, 3, 30, 6, 24, 30, 30, 24, 18, 30, 6, 9, 6, 3,\n",
       "                    15, 15, 12, 24, 9, 27, 21, 12, 24, 27, 24, 12, 15, 15,\n",
       "                    30, 24, 24, 21, 3, 21, 12, 6, 3, 30, 12, 24, 12, 27,\n",
       "                    15, 30, 27, 18, 12, 15, 15],\n",
       "              mask=[False, False, False, False, False, False, False, False,\n",
       "                    False, False, False, False, False, False, False, False,\n",
       "                    False, False, False, False, False, False, False, False,\n",
       "                    False, False, False, False, False, False, False, False,\n",
       "                    False, False, False, False, False, False, False, False,\n",
       "                    False, False, False, False, False, False, False, False,\n",
       "                    False, False],\n",
       "        fill_value='?',\n",
       "             dtype=object),\n",
       " 'param_max_depth': masked_array(data=[1, 8, 2, 6, 2, 4, 1, 4, 2, 6, 9, 5, 9, 5, 6, 8, 2, 4,\n",
       "                    1, 3, 1, 6, 8, 3, 5, 4, 1, 3, 5, 7, 8, 6, 10, 2, 8, 8,\n",
       "                    7, 7, 1, 6, 7, 2, 6, 7, 7, 9, 4, 4, 10, 1],\n",
       "              mask=[False, False, False, False, False, False, False, False,\n",
       "                    False, False, False, False, False, False, False, False,\n",
       "                    False, False, False, False, False, False, False, False,\n",
       "                    False, False, False, False, False, False, False, False,\n",
       "                    False, False, False, False, False, False, False, False,\n",
       "                    False, False, False, False, False, False, False, False,\n",
       "                    False, False],\n",
       "        fill_value='?',\n",
       "             dtype=object),\n",
       " 'param_criterion': masked_array(data=['gini', 'gini', 'entropy', 'gini', 'gini', 'entropy',\n",
       "                    'entropy', 'gini', 'entropy', 'gini', 'gini', 'gini',\n",
       "                    'gini', 'entropy', 'gini', 'gini', 'entropy',\n",
       "                    'entropy', 'gini', 'gini', 'entropy', 'gini',\n",
       "                    'entropy', 'entropy', 'gini', 'gini', 'entropy',\n",
       "                    'gini', 'entropy', 'gini', 'entropy', 'entropy',\n",
       "                    'entropy', 'gini', 'gini', 'gini', 'entropy', 'gini',\n",
       "                    'gini', 'gini', 'gini', 'gini', 'gini', 'entropy',\n",
       "                    'entropy', 'gini', 'entropy', 'gini', 'gini', 'gini'],\n",
       "              mask=[False, False, False, False, False, False, False, False,\n",
       "                    False, False, False, False, False, False, False, False,\n",
       "                    False, False, False, False, False, False, False, False,\n",
       "                    False, False, False, False, False, False, False, False,\n",
       "                    False, False, False, False, False, False, False, False,\n",
       "                    False, False, False, False, False, False, False, False,\n",
       "                    False, False],\n",
       "        fill_value='?',\n",
       "             dtype=object),\n",
       " 'params': [{'max_leaf_nodes': 6, 'max_depth': 1, 'criterion': 'gini'},\n",
       "  {'max_leaf_nodes': 27, 'max_depth': 8, 'criterion': 'gini'},\n",
       "  {'max_leaf_nodes': 3, 'max_depth': 2, 'criterion': 'entropy'},\n",
       "  {'max_leaf_nodes': 30, 'max_depth': 6, 'criterion': 'gini'},\n",
       "  {'max_leaf_nodes': 6, 'max_depth': 2, 'criterion': 'gini'},\n",
       "  {'max_leaf_nodes': 24, 'max_depth': 4, 'criterion': 'entropy'},\n",
       "  {'max_leaf_nodes': 30, 'max_depth': 1, 'criterion': 'entropy'},\n",
       "  {'max_leaf_nodes': 30, 'max_depth': 4, 'criterion': 'gini'},\n",
       "  {'max_leaf_nodes': 24, 'max_depth': 2, 'criterion': 'entropy'},\n",
       "  {'max_leaf_nodes': 18, 'max_depth': 6, 'criterion': 'gini'},\n",
       "  {'max_leaf_nodes': 30, 'max_depth': 9, 'criterion': 'gini'},\n",
       "  {'max_leaf_nodes': 6, 'max_depth': 5, 'criterion': 'gini'},\n",
       "  {'max_leaf_nodes': 9, 'max_depth': 9, 'criterion': 'gini'},\n",
       "  {'max_leaf_nodes': 6, 'max_depth': 5, 'criterion': 'entropy'},\n",
       "  {'max_leaf_nodes': 3, 'max_depth': 6, 'criterion': 'gini'},\n",
       "  {'max_leaf_nodes': 15, 'max_depth': 8, 'criterion': 'gini'},\n",
       "  {'max_leaf_nodes': 15, 'max_depth': 2, 'criterion': 'entropy'},\n",
       "  {'max_leaf_nodes': 12, 'max_depth': 4, 'criterion': 'entropy'},\n",
       "  {'max_leaf_nodes': 24, 'max_depth': 1, 'criterion': 'gini'},\n",
       "  {'max_leaf_nodes': 9, 'max_depth': 3, 'criterion': 'gini'},\n",
       "  {'max_leaf_nodes': 27, 'max_depth': 1, 'criterion': 'entropy'},\n",
       "  {'max_leaf_nodes': 21, 'max_depth': 6, 'criterion': 'gini'},\n",
       "  {'max_leaf_nodes': 12, 'max_depth': 8, 'criterion': 'entropy'},\n",
       "  {'max_leaf_nodes': 24, 'max_depth': 3, 'criterion': 'entropy'},\n",
       "  {'max_leaf_nodes': 27, 'max_depth': 5, 'criterion': 'gini'},\n",
       "  {'max_leaf_nodes': 24, 'max_depth': 4, 'criterion': 'gini'},\n",
       "  {'max_leaf_nodes': 12, 'max_depth': 1, 'criterion': 'entropy'},\n",
       "  {'max_leaf_nodes': 15, 'max_depth': 3, 'criterion': 'gini'},\n",
       "  {'max_leaf_nodes': 15, 'max_depth': 5, 'criterion': 'entropy'},\n",
       "  {'max_leaf_nodes': 30, 'max_depth': 7, 'criterion': 'gini'},\n",
       "  {'max_leaf_nodes': 24, 'max_depth': 8, 'criterion': 'entropy'},\n",
       "  {'max_leaf_nodes': 24, 'max_depth': 6, 'criterion': 'entropy'},\n",
       "  {'max_leaf_nodes': 21, 'max_depth': 10, 'criterion': 'entropy'},\n",
       "  {'max_leaf_nodes': 3, 'max_depth': 2, 'criterion': 'gini'},\n",
       "  {'max_leaf_nodes': 21, 'max_depth': 8, 'criterion': 'gini'},\n",
       "  {'max_leaf_nodes': 12, 'max_depth': 8, 'criterion': 'gini'},\n",
       "  {'max_leaf_nodes': 6, 'max_depth': 7, 'criterion': 'entropy'},\n",
       "  {'max_leaf_nodes': 3, 'max_depth': 7, 'criterion': 'gini'},\n",
       "  {'max_leaf_nodes': 30, 'max_depth': 1, 'criterion': 'gini'},\n",
       "  {'max_leaf_nodes': 12, 'max_depth': 6, 'criterion': 'gini'},\n",
       "  {'max_leaf_nodes': 24, 'max_depth': 7, 'criterion': 'gini'},\n",
       "  {'max_leaf_nodes': 12, 'max_depth': 2, 'criterion': 'gini'},\n",
       "  {'max_leaf_nodes': 27, 'max_depth': 6, 'criterion': 'gini'},\n",
       "  {'max_leaf_nodes': 15, 'max_depth': 7, 'criterion': 'entropy'},\n",
       "  {'max_leaf_nodes': 30, 'max_depth': 7, 'criterion': 'entropy'},\n",
       "  {'max_leaf_nodes': 27, 'max_depth': 9, 'criterion': 'gini'},\n",
       "  {'max_leaf_nodes': 18, 'max_depth': 4, 'criterion': 'entropy'},\n",
       "  {'max_leaf_nodes': 12, 'max_depth': 4, 'criterion': 'gini'},\n",
       "  {'max_leaf_nodes': 15, 'max_depth': 10, 'criterion': 'gini'},\n",
       "  {'max_leaf_nodes': 15, 'max_depth': 1, 'criterion': 'gini'}],\n",
       " 'split0_test_score': array([0.64856321, 0.82290787, 0.7727932 , 0.82305973, 0.76899743,\n",
       "        0.82270362, 0.64856321, 0.81839962, 0.77396616, 0.81964652,\n",
       "        0.82349673, 0.78340772, 0.81029739, 0.80964471, 0.76782447,\n",
       "        0.81925569, 0.77396616, 0.82278954, 0.64856321, 0.80036921,\n",
       "        0.64856321, 0.8224804 , 0.83254615, 0.8099801 , 0.83383657,\n",
       "        0.81839962, 0.64856321, 0.80036921, 0.83554064, 0.82349673,\n",
       "        0.84234613, 0.84035845, 0.83998803, 0.76782447, 0.81961581,\n",
       "        0.81204261, 0.80964471, 0.76782447, 0.64856321, 0.81204261,\n",
       "        0.82328711, 0.76899743, 0.82294066, 0.83475112, 0.84377497,\n",
       "        0.82290787, 0.82270362, 0.81198714, 0.81925569, 0.64856321]),\n",
       " 'split1_test_score': array([0.64443256, 0.82691106, 0.76483146, 0.82716918, 0.76354917,\n",
       "        0.81325562, 0.64443256, 0.80783594, 0.76607894, 0.81375718,\n",
       "        0.82907352, 0.77383046, 0.80704572, 0.80591287, 0.76230169,\n",
       "        0.81158157, 0.76607894, 0.81321239, 0.64443256, 0.78257047,\n",
       "        0.64443256, 0.81446956, 0.82040104, 0.80325043, 0.82658744,\n",
       "        0.80783594, 0.64443256, 0.78257047, 0.82505171, 0.82907352,\n",
       "        0.83522187, 0.83115724, 0.8333611 , 0.76230169, 0.81446956,\n",
       "        0.81160644, 0.80591287, 0.76230169, 0.64443256, 0.81160644,\n",
       "        0.82697875, 0.76354917, 0.82691106, 0.82478247, 0.83529935,\n",
       "        0.82691106, 0.81325562, 0.80787476, 0.81158157, 0.64443256]),\n",
       " 'split2_test_score': array([0.64993541, 0.84002224, 0.77990066, 0.84030877, 0.77268075,\n",
       "        0.82977909, 0.64993541, 0.82273791, 0.78129246, 0.82590437,\n",
       "        0.84017297, 0.78405316, 0.81347126, 0.81468501, 0.77128896,\n",
       "        0.81613965, 0.78129246, 0.82962092, 0.64993541, 0.80573772,\n",
       "        0.64993541, 0.8396092 , 0.83769938, 0.8153024 , 0.83980541,\n",
       "        0.82273791, 0.64993541, 0.80573772, 0.83993753, 0.84035919,\n",
       "        0.84980327, 0.84718487, 0.84764585, 0.77128896, 0.8396092 ,\n",
       "        0.81545089, 0.81468501, 0.77128896, 0.64993541, 0.81545089,\n",
       "        0.84026762, 0.77268075, 0.84028577, 0.84222086, 0.85062164,\n",
       "        0.84002224, 0.82977909, 0.81301503, 0.81613965, 0.64993541]),\n",
       " 'split3_test_score': array([0.64789903, 0.83183946, 0.77133877, 0.83172697, 0.76826139,\n",
       "        0.8175074 , 0.64789903, 0.81464813, 0.77257238, 0.81578851,\n",
       "        0.8319012 , 0.78095171, 0.81406434, 0.80970705, 0.76702778,\n",
       "        0.81558824, 0.77257238, 0.81720494, 0.64789903, 0.78551648,\n",
       "        0.64789903, 0.82997436, 0.82531607, 0.80826271, 0.83065219,\n",
       "        0.81464813, 0.64789903, 0.78551648, 0.829501  , 0.8319012 ,\n",
       "        0.8390331 , 0.83756793, 0.83769529, 0.76702778, 0.82997436,\n",
       "        0.81453593, 0.80970705, 0.76702778, 0.64789903, 0.81453593,\n",
       "        0.83075349, 0.76826139, 0.83145496, 0.8310189 , 0.83978394,\n",
       "        0.83183946, 0.8175074 , 0.81444316, 0.81558824, 0.64789903]),\n",
       " 'split4_test_score': array([0.65772051, 0.84029596, 0.77872518, 0.84044102, 0.77743019,\n",
       "        0.82885013, 0.65772051, 0.82681598, 0.77977882, 0.82868296,\n",
       "        0.84032656, 0.78841256, 0.81698699, 0.81615725, 0.77637655,\n",
       "        0.82821959, 0.77977882, 0.82858186, 0.65772051, 0.81368857,\n",
       "        0.65772051, 0.83036246, 0.83099634, 0.81490296, 0.83923491,\n",
       "        0.82681598, 0.65772051, 0.81368857, 0.83309036, 0.84032656,\n",
       "        0.84313506, 0.84252098, 0.84231449, 0.77637655, 0.83036246,\n",
       "        0.82173181, 0.81615725, 0.77637655, 0.65772051, 0.82173181,\n",
       "        0.84004155, 0.77743019, 0.84017688, 0.83309036, 0.84499647,\n",
       "        0.84029596, 0.82885013, 0.82654771, 0.82821959, 0.65772051]),\n",
       " 'mean_test_score': array([0.64971014, 0.83239532, 0.77351785, 0.83254113, 0.77018378,\n",
       "        0.82241917, 0.64971014, 0.81808752, 0.77473775, 0.82075591,\n",
       "        0.8329942 , 0.78213112, 0.81237314, 0.81122138, 0.76896389,\n",
       "        0.81815695, 0.77473775, 0.82228193, 0.64971014, 0.79757649,\n",
       "        0.64971014, 0.82737919, 0.8293918 , 0.81033972, 0.83402331,\n",
       "        0.81808752, 0.64971014, 0.79757649, 0.83262425, 0.83303144,\n",
       "        0.84190789, 0.8397579 , 0.84020095, 0.76896389, 0.82680628,\n",
       "        0.81507354, 0.81122138, 0.76896389, 0.64971014, 0.81507354,\n",
       "        0.8322657 , 0.77018378, 0.83235387, 0.83317274, 0.84289528,\n",
       "        0.83239532, 0.82241917, 0.81477356, 0.81815695, 0.64971014]),\n",
       " 'std_test_score': array([0.00439694, 0.00694245, 0.0054513 , 0.00695934, 0.0046447 ,\n",
       "        0.00638283, 0.00439694, 0.00655491, 0.00545226, 0.00573119,\n",
       "        0.00651255, 0.00479734, 0.00340716, 0.00372341, 0.00468583,\n",
       "        0.00559227, 0.00545226, 0.00635358, 0.00439694, 0.01187121,\n",
       "        0.00439694, 0.0084364 , 0.00598307, 0.00447555, 0.00504549,\n",
       "        0.00655491, 0.00439694, 0.01187121, 0.00508537, 0.0065539 ,\n",
       "        0.0048374 , 0.00532771, 0.00475396, 0.00468583, 0.00883737,\n",
       "        0.00363239, 0.00372341, 0.00468583, 0.00439694, 0.00363239,\n",
       "        0.00686073, 0.0046447 , 0.0069736 , 0.00564627, 0.00514323,\n",
       "        0.00694245, 0.00638283, 0.00627996, 0.00559227, 0.00439694]),\n",
       " 'rank_test_score': array([44, 11, 38, 10, 39, 18, 44, 24, 36, 21,  8, 35, 29, 30, 41, 22, 36,\n",
       "        20, 44, 33, 44, 16, 15, 32,  5, 24, 44, 33,  9,  7,  2,  4,  3, 41,\n",
       "        17, 26, 30, 41, 44, 26, 14, 39, 13,  6,  1, 11, 18, 28, 22, 44])}"
      ]
     },
     "execution_count": 51,
     "metadata": {},
     "output_type": "execute_result"
    }
   ],
   "source": [
    "result_dict=random_search.cv_results_\n",
    "random_search.cv_results_"
   ]
  },
  {
   "cell_type": "code",
   "execution_count": 52,
   "id": "1b6e9e85",
   "metadata": {
    "ExecuteTime": {
     "end_time": "2021-11-26T09:00:23.215757Z",
     "start_time": "2021-11-26T09:00:23.183741Z"
    }
   },
   "outputs": [
    {
     "name": "stdout",
     "output_type": "stream",
     "text": [
      "(50, 16)\n"
     ]
    },
    {
     "data": {
      "text/html": [
       "<div>\n",
       "<style scoped>\n",
       "    .dataframe tbody tr th:only-of-type {\n",
       "        vertical-align: middle;\n",
       "    }\n",
       "\n",
       "    .dataframe tbody tr th {\n",
       "        vertical-align: top;\n",
       "    }\n",
       "\n",
       "    .dataframe thead th {\n",
       "        text-align: right;\n",
       "    }\n",
       "</style>\n",
       "<table border=\"1\" class=\"dataframe\">\n",
       "  <thead>\n",
       "    <tr style=\"text-align: right;\">\n",
       "      <th></th>\n",
       "      <th>param_criterion</th>\n",
       "      <th>params</th>\n",
       "      <th>split0_test_score</th>\n",
       "      <th>split1_test_score</th>\n",
       "      <th>split2_test_score</th>\n",
       "      <th>split3_test_score</th>\n",
       "      <th>split4_test_score</th>\n",
       "      <th>mean_test_score</th>\n",
       "      <th>std_test_score</th>\n",
       "      <th>rank_test_score</th>\n",
       "    </tr>\n",
       "  </thead>\n",
       "  <tbody>\n",
       "    <tr>\n",
       "      <th>44</th>\n",
       "      <td>entropy</td>\n",
       "      <td>{'max_leaf_nodes': 30, 'max_depth': 7, 'criter...</td>\n",
       "      <td>0.843775</td>\n",
       "      <td>0.835299</td>\n",
       "      <td>0.850622</td>\n",
       "      <td>0.839784</td>\n",
       "      <td>0.844996</td>\n",
       "      <td>0.842895</td>\n",
       "      <td>0.005143</td>\n",
       "      <td>1</td>\n",
       "    </tr>\n",
       "    <tr>\n",
       "      <th>30</th>\n",
       "      <td>entropy</td>\n",
       "      <td>{'max_leaf_nodes': 24, 'max_depth': 8, 'criter...</td>\n",
       "      <td>0.842346</td>\n",
       "      <td>0.835222</td>\n",
       "      <td>0.849803</td>\n",
       "      <td>0.839033</td>\n",
       "      <td>0.843135</td>\n",
       "      <td>0.841908</td>\n",
       "      <td>0.004837</td>\n",
       "      <td>2</td>\n",
       "    </tr>\n",
       "    <tr>\n",
       "      <th>32</th>\n",
       "      <td>entropy</td>\n",
       "      <td>{'max_leaf_nodes': 21, 'max_depth': 10, 'crite...</td>\n",
       "      <td>0.839988</td>\n",
       "      <td>0.833361</td>\n",
       "      <td>0.847646</td>\n",
       "      <td>0.837695</td>\n",
       "      <td>0.842314</td>\n",
       "      <td>0.840201</td>\n",
       "      <td>0.004754</td>\n",
       "      <td>3</td>\n",
       "    </tr>\n",
       "    <tr>\n",
       "      <th>31</th>\n",
       "      <td>entropy</td>\n",
       "      <td>{'max_leaf_nodes': 24, 'max_depth': 6, 'criter...</td>\n",
       "      <td>0.840358</td>\n",
       "      <td>0.831157</td>\n",
       "      <td>0.847185</td>\n",
       "      <td>0.837568</td>\n",
       "      <td>0.842521</td>\n",
       "      <td>0.839758</td>\n",
       "      <td>0.005328</td>\n",
       "      <td>4</td>\n",
       "    </tr>\n",
       "    <tr>\n",
       "      <th>24</th>\n",
       "      <td>gini</td>\n",
       "      <td>{'max_leaf_nodes': 27, 'max_depth': 5, 'criter...</td>\n",
       "      <td>0.833837</td>\n",
       "      <td>0.826587</td>\n",
       "      <td>0.839805</td>\n",
       "      <td>0.830652</td>\n",
       "      <td>0.839235</td>\n",
       "      <td>0.834023</td>\n",
       "      <td>0.005045</td>\n",
       "      <td>5</td>\n",
       "    </tr>\n",
       "    <tr>\n",
       "      <th>43</th>\n",
       "      <td>entropy</td>\n",
       "      <td>{'max_leaf_nodes': 15, 'max_depth': 7, 'criter...</td>\n",
       "      <td>0.834751</td>\n",
       "      <td>0.824782</td>\n",
       "      <td>0.842221</td>\n",
       "      <td>0.831019</td>\n",
       "      <td>0.833090</td>\n",
       "      <td>0.833173</td>\n",
       "      <td>0.005646</td>\n",
       "      <td>6</td>\n",
       "    </tr>\n",
       "    <tr>\n",
       "      <th>29</th>\n",
       "      <td>gini</td>\n",
       "      <td>{'max_leaf_nodes': 30, 'max_depth': 7, 'criter...</td>\n",
       "      <td>0.823497</td>\n",
       "      <td>0.829074</td>\n",
       "      <td>0.840359</td>\n",
       "      <td>0.831901</td>\n",
       "      <td>0.840327</td>\n",
       "      <td>0.833031</td>\n",
       "      <td>0.006554</td>\n",
       "      <td>7</td>\n",
       "    </tr>\n",
       "    <tr>\n",
       "      <th>10</th>\n",
       "      <td>gini</td>\n",
       "      <td>{'max_leaf_nodes': 30, 'max_depth': 9, 'criter...</td>\n",
       "      <td>0.823497</td>\n",
       "      <td>0.829074</td>\n",
       "      <td>0.840173</td>\n",
       "      <td>0.831901</td>\n",
       "      <td>0.840327</td>\n",
       "      <td>0.832994</td>\n",
       "      <td>0.006513</td>\n",
       "      <td>8</td>\n",
       "    </tr>\n",
       "    <tr>\n",
       "      <th>28</th>\n",
       "      <td>entropy</td>\n",
       "      <td>{'max_leaf_nodes': 15, 'max_depth': 5, 'criter...</td>\n",
       "      <td>0.835541</td>\n",
       "      <td>0.825052</td>\n",
       "      <td>0.839938</td>\n",
       "      <td>0.829501</td>\n",
       "      <td>0.833090</td>\n",
       "      <td>0.832624</td>\n",
       "      <td>0.005085</td>\n",
       "      <td>9</td>\n",
       "    </tr>\n",
       "    <tr>\n",
       "      <th>3</th>\n",
       "      <td>gini</td>\n",
       "      <td>{'max_leaf_nodes': 30, 'max_depth': 6, 'criter...</td>\n",
       "      <td>0.823060</td>\n",
       "      <td>0.827169</td>\n",
       "      <td>0.840309</td>\n",
       "      <td>0.831727</td>\n",
       "      <td>0.840441</td>\n",
       "      <td>0.832541</td>\n",
       "      <td>0.006959</td>\n",
       "      <td>10</td>\n",
       "    </tr>\n",
       "    <tr>\n",
       "      <th>1</th>\n",
       "      <td>gini</td>\n",
       "      <td>{'max_leaf_nodes': 27, 'max_depth': 8, 'criter...</td>\n",
       "      <td>0.822908</td>\n",
       "      <td>0.826911</td>\n",
       "      <td>0.840022</td>\n",
       "      <td>0.831839</td>\n",
       "      <td>0.840296</td>\n",
       "      <td>0.832395</td>\n",
       "      <td>0.006942</td>\n",
       "      <td>11</td>\n",
       "    </tr>\n",
       "    <tr>\n",
       "      <th>45</th>\n",
       "      <td>gini</td>\n",
       "      <td>{'max_leaf_nodes': 27, 'max_depth': 9, 'criter...</td>\n",
       "      <td>0.822908</td>\n",
       "      <td>0.826911</td>\n",
       "      <td>0.840022</td>\n",
       "      <td>0.831839</td>\n",
       "      <td>0.840296</td>\n",
       "      <td>0.832395</td>\n",
       "      <td>0.006942</td>\n",
       "      <td>11</td>\n",
       "    </tr>\n",
       "    <tr>\n",
       "      <th>42</th>\n",
       "      <td>gini</td>\n",
       "      <td>{'max_leaf_nodes': 27, 'max_depth': 6, 'criter...</td>\n",
       "      <td>0.822941</td>\n",
       "      <td>0.826911</td>\n",
       "      <td>0.840286</td>\n",
       "      <td>0.831455</td>\n",
       "      <td>0.840177</td>\n",
       "      <td>0.832354</td>\n",
       "      <td>0.006974</td>\n",
       "      <td>13</td>\n",
       "    </tr>\n",
       "    <tr>\n",
       "      <th>40</th>\n",
       "      <td>gini</td>\n",
       "      <td>{'max_leaf_nodes': 24, 'max_depth': 7, 'criter...</td>\n",
       "      <td>0.823287</td>\n",
       "      <td>0.826979</td>\n",
       "      <td>0.840268</td>\n",
       "      <td>0.830753</td>\n",
       "      <td>0.840042</td>\n",
       "      <td>0.832266</td>\n",
       "      <td>0.006861</td>\n",
       "      <td>14</td>\n",
       "    </tr>\n",
       "    <tr>\n",
       "      <th>22</th>\n",
       "      <td>entropy</td>\n",
       "      <td>{'max_leaf_nodes': 12, 'max_depth': 8, 'criter...</td>\n",
       "      <td>0.832546</td>\n",
       "      <td>0.820401</td>\n",
       "      <td>0.837699</td>\n",
       "      <td>0.825316</td>\n",
       "      <td>0.830996</td>\n",
       "      <td>0.829392</td>\n",
       "      <td>0.005983</td>\n",
       "      <td>15</td>\n",
       "    </tr>\n",
       "    <tr>\n",
       "      <th>21</th>\n",
       "      <td>gini</td>\n",
       "      <td>{'max_leaf_nodes': 21, 'max_depth': 6, 'criter...</td>\n",
       "      <td>0.822480</td>\n",
       "      <td>0.814470</td>\n",
       "      <td>0.839609</td>\n",
       "      <td>0.829974</td>\n",
       "      <td>0.830362</td>\n",
       "      <td>0.827379</td>\n",
       "      <td>0.008436</td>\n",
       "      <td>16</td>\n",
       "    </tr>\n",
       "    <tr>\n",
       "      <th>34</th>\n",
       "      <td>gini</td>\n",
       "      <td>{'max_leaf_nodes': 21, 'max_depth': 8, 'criter...</td>\n",
       "      <td>0.819616</td>\n",
       "      <td>0.814470</td>\n",
       "      <td>0.839609</td>\n",
       "      <td>0.829974</td>\n",
       "      <td>0.830362</td>\n",
       "      <td>0.826806</td>\n",
       "      <td>0.008837</td>\n",
       "      <td>17</td>\n",
       "    </tr>\n",
       "    <tr>\n",
       "      <th>46</th>\n",
       "      <td>entropy</td>\n",
       "      <td>{'max_leaf_nodes': 18, 'max_depth': 4, 'criter...</td>\n",
       "      <td>0.822704</td>\n",
       "      <td>0.813256</td>\n",
       "      <td>0.829779</td>\n",
       "      <td>0.817507</td>\n",
       "      <td>0.828850</td>\n",
       "      <td>0.822419</td>\n",
       "      <td>0.006383</td>\n",
       "      <td>18</td>\n",
       "    </tr>\n",
       "    <tr>\n",
       "      <th>5</th>\n",
       "      <td>entropy</td>\n",
       "      <td>{'max_leaf_nodes': 24, 'max_depth': 4, 'criter...</td>\n",
       "      <td>0.822704</td>\n",
       "      <td>0.813256</td>\n",
       "      <td>0.829779</td>\n",
       "      <td>0.817507</td>\n",
       "      <td>0.828850</td>\n",
       "      <td>0.822419</td>\n",
       "      <td>0.006383</td>\n",
       "      <td>18</td>\n",
       "    </tr>\n",
       "    <tr>\n",
       "      <th>17</th>\n",
       "      <td>entropy</td>\n",
       "      <td>{'max_leaf_nodes': 12, 'max_depth': 4, 'criter...</td>\n",
       "      <td>0.822790</td>\n",
       "      <td>0.813212</td>\n",
       "      <td>0.829621</td>\n",
       "      <td>0.817205</td>\n",
       "      <td>0.828582</td>\n",
       "      <td>0.822282</td>\n",
       "      <td>0.006354</td>\n",
       "      <td>20</td>\n",
       "    </tr>\n",
       "    <tr>\n",
       "      <th>9</th>\n",
       "      <td>gini</td>\n",
       "      <td>{'max_leaf_nodes': 18, 'max_depth': 6, 'criter...</td>\n",
       "      <td>0.819647</td>\n",
       "      <td>0.813757</td>\n",
       "      <td>0.825904</td>\n",
       "      <td>0.815789</td>\n",
       "      <td>0.828683</td>\n",
       "      <td>0.820756</td>\n",
       "      <td>0.005731</td>\n",
       "      <td>21</td>\n",
       "    </tr>\n",
       "    <tr>\n",
       "      <th>15</th>\n",
       "      <td>gini</td>\n",
       "      <td>{'max_leaf_nodes': 15, 'max_depth': 8, 'criter...</td>\n",
       "      <td>0.819256</td>\n",
       "      <td>0.811582</td>\n",
       "      <td>0.816140</td>\n",
       "      <td>0.815588</td>\n",
       "      <td>0.828220</td>\n",
       "      <td>0.818157</td>\n",
       "      <td>0.005592</td>\n",
       "      <td>22</td>\n",
       "    </tr>\n",
       "    <tr>\n",
       "      <th>48</th>\n",
       "      <td>gini</td>\n",
       "      <td>{'max_leaf_nodes': 15, 'max_depth': 10, 'crite...</td>\n",
       "      <td>0.819256</td>\n",
       "      <td>0.811582</td>\n",
       "      <td>0.816140</td>\n",
       "      <td>0.815588</td>\n",
       "      <td>0.828220</td>\n",
       "      <td>0.818157</td>\n",
       "      <td>0.005592</td>\n",
       "      <td>22</td>\n",
       "    </tr>\n",
       "    <tr>\n",
       "      <th>25</th>\n",
       "      <td>gini</td>\n",
       "      <td>{'max_leaf_nodes': 24, 'max_depth': 4, 'criter...</td>\n",
       "      <td>0.818400</td>\n",
       "      <td>0.807836</td>\n",
       "      <td>0.822738</td>\n",
       "      <td>0.814648</td>\n",
       "      <td>0.826816</td>\n",
       "      <td>0.818088</td>\n",
       "      <td>0.006555</td>\n",
       "      <td>24</td>\n",
       "    </tr>\n",
       "    <tr>\n",
       "      <th>7</th>\n",
       "      <td>gini</td>\n",
       "      <td>{'max_leaf_nodes': 30, 'max_depth': 4, 'criter...</td>\n",
       "      <td>0.818400</td>\n",
       "      <td>0.807836</td>\n",
       "      <td>0.822738</td>\n",
       "      <td>0.814648</td>\n",
       "      <td>0.826816</td>\n",
       "      <td>0.818088</td>\n",
       "      <td>0.006555</td>\n",
       "      <td>24</td>\n",
       "    </tr>\n",
       "    <tr>\n",
       "      <th>35</th>\n",
       "      <td>gini</td>\n",
       "      <td>{'max_leaf_nodes': 12, 'max_depth': 8, 'criter...</td>\n",
       "      <td>0.812043</td>\n",
       "      <td>0.811606</td>\n",
       "      <td>0.815451</td>\n",
       "      <td>0.814536</td>\n",
       "      <td>0.821732</td>\n",
       "      <td>0.815074</td>\n",
       "      <td>0.003632</td>\n",
       "      <td>26</td>\n",
       "    </tr>\n",
       "    <tr>\n",
       "      <th>39</th>\n",
       "      <td>gini</td>\n",
       "      <td>{'max_leaf_nodes': 12, 'max_depth': 6, 'criter...</td>\n",
       "      <td>0.812043</td>\n",
       "      <td>0.811606</td>\n",
       "      <td>0.815451</td>\n",
       "      <td>0.814536</td>\n",
       "      <td>0.821732</td>\n",
       "      <td>0.815074</td>\n",
       "      <td>0.003632</td>\n",
       "      <td>26</td>\n",
       "    </tr>\n",
       "    <tr>\n",
       "      <th>47</th>\n",
       "      <td>gini</td>\n",
       "      <td>{'max_leaf_nodes': 12, 'max_depth': 4, 'criter...</td>\n",
       "      <td>0.811987</td>\n",
       "      <td>0.807875</td>\n",
       "      <td>0.813015</td>\n",
       "      <td>0.814443</td>\n",
       "      <td>0.826548</td>\n",
       "      <td>0.814774</td>\n",
       "      <td>0.006280</td>\n",
       "      <td>28</td>\n",
       "    </tr>\n",
       "    <tr>\n",
       "      <th>12</th>\n",
       "      <td>gini</td>\n",
       "      <td>{'max_leaf_nodes': 9, 'max_depth': 9, 'criteri...</td>\n",
       "      <td>0.810297</td>\n",
       "      <td>0.807046</td>\n",
       "      <td>0.813471</td>\n",
       "      <td>0.814064</td>\n",
       "      <td>0.816987</td>\n",
       "      <td>0.812373</td>\n",
       "      <td>0.003407</td>\n",
       "      <td>29</td>\n",
       "    </tr>\n",
       "    <tr>\n",
       "      <th>36</th>\n",
       "      <td>entropy</td>\n",
       "      <td>{'max_leaf_nodes': 6, 'max_depth': 7, 'criteri...</td>\n",
       "      <td>0.809645</td>\n",
       "      <td>0.805913</td>\n",
       "      <td>0.814685</td>\n",
       "      <td>0.809707</td>\n",
       "      <td>0.816157</td>\n",
       "      <td>0.811221</td>\n",
       "      <td>0.003723</td>\n",
       "      <td>30</td>\n",
       "    </tr>\n",
       "    <tr>\n",
       "      <th>13</th>\n",
       "      <td>entropy</td>\n",
       "      <td>{'max_leaf_nodes': 6, 'max_depth': 5, 'criteri...</td>\n",
       "      <td>0.809645</td>\n",
       "      <td>0.805913</td>\n",
       "      <td>0.814685</td>\n",
       "      <td>0.809707</td>\n",
       "      <td>0.816157</td>\n",
       "      <td>0.811221</td>\n",
       "      <td>0.003723</td>\n",
       "      <td>30</td>\n",
       "    </tr>\n",
       "    <tr>\n",
       "      <th>23</th>\n",
       "      <td>entropy</td>\n",
       "      <td>{'max_leaf_nodes': 24, 'max_depth': 3, 'criter...</td>\n",
       "      <td>0.809980</td>\n",
       "      <td>0.803250</td>\n",
       "      <td>0.815302</td>\n",
       "      <td>0.808263</td>\n",
       "      <td>0.814903</td>\n",
       "      <td>0.810340</td>\n",
       "      <td>0.004476</td>\n",
       "      <td>32</td>\n",
       "    </tr>\n",
       "    <tr>\n",
       "      <th>19</th>\n",
       "      <td>gini</td>\n",
       "      <td>{'max_leaf_nodes': 9, 'max_depth': 3, 'criteri...</td>\n",
       "      <td>0.800369</td>\n",
       "      <td>0.782570</td>\n",
       "      <td>0.805738</td>\n",
       "      <td>0.785516</td>\n",
       "      <td>0.813689</td>\n",
       "      <td>0.797576</td>\n",
       "      <td>0.011871</td>\n",
       "      <td>33</td>\n",
       "    </tr>\n",
       "    <tr>\n",
       "      <th>27</th>\n",
       "      <td>gini</td>\n",
       "      <td>{'max_leaf_nodes': 15, 'max_depth': 3, 'criter...</td>\n",
       "      <td>0.800369</td>\n",
       "      <td>0.782570</td>\n",
       "      <td>0.805738</td>\n",
       "      <td>0.785516</td>\n",
       "      <td>0.813689</td>\n",
       "      <td>0.797576</td>\n",
       "      <td>0.011871</td>\n",
       "      <td>33</td>\n",
       "    </tr>\n",
       "    <tr>\n",
       "      <th>11</th>\n",
       "      <td>gini</td>\n",
       "      <td>{'max_leaf_nodes': 6, 'max_depth': 5, 'criteri...</td>\n",
       "      <td>0.783408</td>\n",
       "      <td>0.773830</td>\n",
       "      <td>0.784053</td>\n",
       "      <td>0.780952</td>\n",
       "      <td>0.788413</td>\n",
       "      <td>0.782131</td>\n",
       "      <td>0.004797</td>\n",
       "      <td>35</td>\n",
       "    </tr>\n",
       "    <tr>\n",
       "      <th>16</th>\n",
       "      <td>entropy</td>\n",
       "      <td>{'max_leaf_nodes': 15, 'max_depth': 2, 'criter...</td>\n",
       "      <td>0.773966</td>\n",
       "      <td>0.766079</td>\n",
       "      <td>0.781292</td>\n",
       "      <td>0.772572</td>\n",
       "      <td>0.779779</td>\n",
       "      <td>0.774738</td>\n",
       "      <td>0.005452</td>\n",
       "      <td>36</td>\n",
       "    </tr>\n",
       "    <tr>\n",
       "      <th>8</th>\n",
       "      <td>entropy</td>\n",
       "      <td>{'max_leaf_nodes': 24, 'max_depth': 2, 'criter...</td>\n",
       "      <td>0.773966</td>\n",
       "      <td>0.766079</td>\n",
       "      <td>0.781292</td>\n",
       "      <td>0.772572</td>\n",
       "      <td>0.779779</td>\n",
       "      <td>0.774738</td>\n",
       "      <td>0.005452</td>\n",
       "      <td>36</td>\n",
       "    </tr>\n",
       "    <tr>\n",
       "      <th>2</th>\n",
       "      <td>entropy</td>\n",
       "      <td>{'max_leaf_nodes': 3, 'max_depth': 2, 'criteri...</td>\n",
       "      <td>0.772793</td>\n",
       "      <td>0.764831</td>\n",
       "      <td>0.779901</td>\n",
       "      <td>0.771339</td>\n",
       "      <td>0.778725</td>\n",
       "      <td>0.773518</td>\n",
       "      <td>0.005451</td>\n",
       "      <td>38</td>\n",
       "    </tr>\n",
       "    <tr>\n",
       "      <th>4</th>\n",
       "      <td>gini</td>\n",
       "      <td>{'max_leaf_nodes': 6, 'max_depth': 2, 'criteri...</td>\n",
       "      <td>0.768997</td>\n",
       "      <td>0.763549</td>\n",
       "      <td>0.772681</td>\n",
       "      <td>0.768261</td>\n",
       "      <td>0.777430</td>\n",
       "      <td>0.770184</td>\n",
       "      <td>0.004645</td>\n",
       "      <td>39</td>\n",
       "    </tr>\n",
       "    <tr>\n",
       "      <th>41</th>\n",
       "      <td>gini</td>\n",
       "      <td>{'max_leaf_nodes': 12, 'max_depth': 2, 'criter...</td>\n",
       "      <td>0.768997</td>\n",
       "      <td>0.763549</td>\n",
       "      <td>0.772681</td>\n",
       "      <td>0.768261</td>\n",
       "      <td>0.777430</td>\n",
       "      <td>0.770184</td>\n",
       "      <td>0.004645</td>\n",
       "      <td>39</td>\n",
       "    </tr>\n",
       "    <tr>\n",
       "      <th>33</th>\n",
       "      <td>gini</td>\n",
       "      <td>{'max_leaf_nodes': 3, 'max_depth': 2, 'criteri...</td>\n",
       "      <td>0.767824</td>\n",
       "      <td>0.762302</td>\n",
       "      <td>0.771289</td>\n",
       "      <td>0.767028</td>\n",
       "      <td>0.776377</td>\n",
       "      <td>0.768964</td>\n",
       "      <td>0.004686</td>\n",
       "      <td>41</td>\n",
       "    </tr>\n",
       "    <tr>\n",
       "      <th>37</th>\n",
       "      <td>gini</td>\n",
       "      <td>{'max_leaf_nodes': 3, 'max_depth': 7, 'criteri...</td>\n",
       "      <td>0.767824</td>\n",
       "      <td>0.762302</td>\n",
       "      <td>0.771289</td>\n",
       "      <td>0.767028</td>\n",
       "      <td>0.776377</td>\n",
       "      <td>0.768964</td>\n",
       "      <td>0.004686</td>\n",
       "      <td>41</td>\n",
       "    </tr>\n",
       "    <tr>\n",
       "      <th>14</th>\n",
       "      <td>gini</td>\n",
       "      <td>{'max_leaf_nodes': 3, 'max_depth': 6, 'criteri...</td>\n",
       "      <td>0.767824</td>\n",
       "      <td>0.762302</td>\n",
       "      <td>0.771289</td>\n",
       "      <td>0.767028</td>\n",
       "      <td>0.776377</td>\n",
       "      <td>0.768964</td>\n",
       "      <td>0.004686</td>\n",
       "      <td>41</td>\n",
       "    </tr>\n",
       "    <tr>\n",
       "      <th>0</th>\n",
       "      <td>gini</td>\n",
       "      <td>{'max_leaf_nodes': 6, 'max_depth': 1, 'criteri...</td>\n",
       "      <td>0.648563</td>\n",
       "      <td>0.644433</td>\n",
       "      <td>0.649935</td>\n",
       "      <td>0.647899</td>\n",
       "      <td>0.657721</td>\n",
       "      <td>0.649710</td>\n",
       "      <td>0.004397</td>\n",
       "      <td>44</td>\n",
       "    </tr>\n",
       "    <tr>\n",
       "      <th>26</th>\n",
       "      <td>entropy</td>\n",
       "      <td>{'max_leaf_nodes': 12, 'max_depth': 1, 'criter...</td>\n",
       "      <td>0.648563</td>\n",
       "      <td>0.644433</td>\n",
       "      <td>0.649935</td>\n",
       "      <td>0.647899</td>\n",
       "      <td>0.657721</td>\n",
       "      <td>0.649710</td>\n",
       "      <td>0.004397</td>\n",
       "      <td>44</td>\n",
       "    </tr>\n",
       "    <tr>\n",
       "      <th>20</th>\n",
       "      <td>entropy</td>\n",
       "      <td>{'max_leaf_nodes': 27, 'max_depth': 1, 'criter...</td>\n",
       "      <td>0.648563</td>\n",
       "      <td>0.644433</td>\n",
       "      <td>0.649935</td>\n",
       "      <td>0.647899</td>\n",
       "      <td>0.657721</td>\n",
       "      <td>0.649710</td>\n",
       "      <td>0.004397</td>\n",
       "      <td>44</td>\n",
       "    </tr>\n",
       "    <tr>\n",
       "      <th>18</th>\n",
       "      <td>gini</td>\n",
       "      <td>{'max_leaf_nodes': 24, 'max_depth': 1, 'criter...</td>\n",
       "      <td>0.648563</td>\n",
       "      <td>0.644433</td>\n",
       "      <td>0.649935</td>\n",
       "      <td>0.647899</td>\n",
       "      <td>0.657721</td>\n",
       "      <td>0.649710</td>\n",
       "      <td>0.004397</td>\n",
       "      <td>44</td>\n",
       "    </tr>\n",
       "    <tr>\n",
       "      <th>6</th>\n",
       "      <td>entropy</td>\n",
       "      <td>{'max_leaf_nodes': 30, 'max_depth': 1, 'criter...</td>\n",
       "      <td>0.648563</td>\n",
       "      <td>0.644433</td>\n",
       "      <td>0.649935</td>\n",
       "      <td>0.647899</td>\n",
       "      <td>0.657721</td>\n",
       "      <td>0.649710</td>\n",
       "      <td>0.004397</td>\n",
       "      <td>44</td>\n",
       "    </tr>\n",
       "    <tr>\n",
       "      <th>38</th>\n",
       "      <td>gini</td>\n",
       "      <td>{'max_leaf_nodes': 30, 'max_depth': 1, 'criter...</td>\n",
       "      <td>0.648563</td>\n",
       "      <td>0.644433</td>\n",
       "      <td>0.649935</td>\n",
       "      <td>0.647899</td>\n",
       "      <td>0.657721</td>\n",
       "      <td>0.649710</td>\n",
       "      <td>0.004397</td>\n",
       "      <td>44</td>\n",
       "    </tr>\n",
       "    <tr>\n",
       "      <th>49</th>\n",
       "      <td>gini</td>\n",
       "      <td>{'max_leaf_nodes': 15, 'max_depth': 1, 'criter...</td>\n",
       "      <td>0.648563</td>\n",
       "      <td>0.644433</td>\n",
       "      <td>0.649935</td>\n",
       "      <td>0.647899</td>\n",
       "      <td>0.657721</td>\n",
       "      <td>0.649710</td>\n",
       "      <td>0.004397</td>\n",
       "      <td>44</td>\n",
       "    </tr>\n",
       "  </tbody>\n",
       "</table>\n",
       "</div>"
      ],
      "text/plain": [
       "   param_criterion                                             params  \\\n",
       "44         entropy  {'max_leaf_nodes': 30, 'max_depth': 7, 'criter...   \n",
       "30         entropy  {'max_leaf_nodes': 24, 'max_depth': 8, 'criter...   \n",
       "32         entropy  {'max_leaf_nodes': 21, 'max_depth': 10, 'crite...   \n",
       "31         entropy  {'max_leaf_nodes': 24, 'max_depth': 6, 'criter...   \n",
       "24            gini  {'max_leaf_nodes': 27, 'max_depth': 5, 'criter...   \n",
       "43         entropy  {'max_leaf_nodes': 15, 'max_depth': 7, 'criter...   \n",
       "29            gini  {'max_leaf_nodes': 30, 'max_depth': 7, 'criter...   \n",
       "10            gini  {'max_leaf_nodes': 30, 'max_depth': 9, 'criter...   \n",
       "28         entropy  {'max_leaf_nodes': 15, 'max_depth': 5, 'criter...   \n",
       "3             gini  {'max_leaf_nodes': 30, 'max_depth': 6, 'criter...   \n",
       "1             gini  {'max_leaf_nodes': 27, 'max_depth': 8, 'criter...   \n",
       "45            gini  {'max_leaf_nodes': 27, 'max_depth': 9, 'criter...   \n",
       "42            gini  {'max_leaf_nodes': 27, 'max_depth': 6, 'criter...   \n",
       "40            gini  {'max_leaf_nodes': 24, 'max_depth': 7, 'criter...   \n",
       "22         entropy  {'max_leaf_nodes': 12, 'max_depth': 8, 'criter...   \n",
       "21            gini  {'max_leaf_nodes': 21, 'max_depth': 6, 'criter...   \n",
       "34            gini  {'max_leaf_nodes': 21, 'max_depth': 8, 'criter...   \n",
       "46         entropy  {'max_leaf_nodes': 18, 'max_depth': 4, 'criter...   \n",
       "5          entropy  {'max_leaf_nodes': 24, 'max_depth': 4, 'criter...   \n",
       "17         entropy  {'max_leaf_nodes': 12, 'max_depth': 4, 'criter...   \n",
       "9             gini  {'max_leaf_nodes': 18, 'max_depth': 6, 'criter...   \n",
       "15            gini  {'max_leaf_nodes': 15, 'max_depth': 8, 'criter...   \n",
       "48            gini  {'max_leaf_nodes': 15, 'max_depth': 10, 'crite...   \n",
       "25            gini  {'max_leaf_nodes': 24, 'max_depth': 4, 'criter...   \n",
       "7             gini  {'max_leaf_nodes': 30, 'max_depth': 4, 'criter...   \n",
       "35            gini  {'max_leaf_nodes': 12, 'max_depth': 8, 'criter...   \n",
       "39            gini  {'max_leaf_nodes': 12, 'max_depth': 6, 'criter...   \n",
       "47            gini  {'max_leaf_nodes': 12, 'max_depth': 4, 'criter...   \n",
       "12            gini  {'max_leaf_nodes': 9, 'max_depth': 9, 'criteri...   \n",
       "36         entropy  {'max_leaf_nodes': 6, 'max_depth': 7, 'criteri...   \n",
       "13         entropy  {'max_leaf_nodes': 6, 'max_depth': 5, 'criteri...   \n",
       "23         entropy  {'max_leaf_nodes': 24, 'max_depth': 3, 'criter...   \n",
       "19            gini  {'max_leaf_nodes': 9, 'max_depth': 3, 'criteri...   \n",
       "27            gini  {'max_leaf_nodes': 15, 'max_depth': 3, 'criter...   \n",
       "11            gini  {'max_leaf_nodes': 6, 'max_depth': 5, 'criteri...   \n",
       "16         entropy  {'max_leaf_nodes': 15, 'max_depth': 2, 'criter...   \n",
       "8          entropy  {'max_leaf_nodes': 24, 'max_depth': 2, 'criter...   \n",
       "2          entropy  {'max_leaf_nodes': 3, 'max_depth': 2, 'criteri...   \n",
       "4             gini  {'max_leaf_nodes': 6, 'max_depth': 2, 'criteri...   \n",
       "41            gini  {'max_leaf_nodes': 12, 'max_depth': 2, 'criter...   \n",
       "33            gini  {'max_leaf_nodes': 3, 'max_depth': 2, 'criteri...   \n",
       "37            gini  {'max_leaf_nodes': 3, 'max_depth': 7, 'criteri...   \n",
       "14            gini  {'max_leaf_nodes': 3, 'max_depth': 6, 'criteri...   \n",
       "0             gini  {'max_leaf_nodes': 6, 'max_depth': 1, 'criteri...   \n",
       "26         entropy  {'max_leaf_nodes': 12, 'max_depth': 1, 'criter...   \n",
       "20         entropy  {'max_leaf_nodes': 27, 'max_depth': 1, 'criter...   \n",
       "18            gini  {'max_leaf_nodes': 24, 'max_depth': 1, 'criter...   \n",
       "6          entropy  {'max_leaf_nodes': 30, 'max_depth': 1, 'criter...   \n",
       "38            gini  {'max_leaf_nodes': 30, 'max_depth': 1, 'criter...   \n",
       "49            gini  {'max_leaf_nodes': 15, 'max_depth': 1, 'criter...   \n",
       "\n",
       "    split0_test_score  split1_test_score  split2_test_score  \\\n",
       "44           0.843775           0.835299           0.850622   \n",
       "30           0.842346           0.835222           0.849803   \n",
       "32           0.839988           0.833361           0.847646   \n",
       "31           0.840358           0.831157           0.847185   \n",
       "24           0.833837           0.826587           0.839805   \n",
       "43           0.834751           0.824782           0.842221   \n",
       "29           0.823497           0.829074           0.840359   \n",
       "10           0.823497           0.829074           0.840173   \n",
       "28           0.835541           0.825052           0.839938   \n",
       "3            0.823060           0.827169           0.840309   \n",
       "1            0.822908           0.826911           0.840022   \n",
       "45           0.822908           0.826911           0.840022   \n",
       "42           0.822941           0.826911           0.840286   \n",
       "40           0.823287           0.826979           0.840268   \n",
       "22           0.832546           0.820401           0.837699   \n",
       "21           0.822480           0.814470           0.839609   \n",
       "34           0.819616           0.814470           0.839609   \n",
       "46           0.822704           0.813256           0.829779   \n",
       "5            0.822704           0.813256           0.829779   \n",
       "17           0.822790           0.813212           0.829621   \n",
       "9            0.819647           0.813757           0.825904   \n",
       "15           0.819256           0.811582           0.816140   \n",
       "48           0.819256           0.811582           0.816140   \n",
       "25           0.818400           0.807836           0.822738   \n",
       "7            0.818400           0.807836           0.822738   \n",
       "35           0.812043           0.811606           0.815451   \n",
       "39           0.812043           0.811606           0.815451   \n",
       "47           0.811987           0.807875           0.813015   \n",
       "12           0.810297           0.807046           0.813471   \n",
       "36           0.809645           0.805913           0.814685   \n",
       "13           0.809645           0.805913           0.814685   \n",
       "23           0.809980           0.803250           0.815302   \n",
       "19           0.800369           0.782570           0.805738   \n",
       "27           0.800369           0.782570           0.805738   \n",
       "11           0.783408           0.773830           0.784053   \n",
       "16           0.773966           0.766079           0.781292   \n",
       "8            0.773966           0.766079           0.781292   \n",
       "2            0.772793           0.764831           0.779901   \n",
       "4            0.768997           0.763549           0.772681   \n",
       "41           0.768997           0.763549           0.772681   \n",
       "33           0.767824           0.762302           0.771289   \n",
       "37           0.767824           0.762302           0.771289   \n",
       "14           0.767824           0.762302           0.771289   \n",
       "0            0.648563           0.644433           0.649935   \n",
       "26           0.648563           0.644433           0.649935   \n",
       "20           0.648563           0.644433           0.649935   \n",
       "18           0.648563           0.644433           0.649935   \n",
       "6            0.648563           0.644433           0.649935   \n",
       "38           0.648563           0.644433           0.649935   \n",
       "49           0.648563           0.644433           0.649935   \n",
       "\n",
       "    split3_test_score  split4_test_score  mean_test_score  std_test_score  \\\n",
       "44           0.839784           0.844996         0.842895        0.005143   \n",
       "30           0.839033           0.843135         0.841908        0.004837   \n",
       "32           0.837695           0.842314         0.840201        0.004754   \n",
       "31           0.837568           0.842521         0.839758        0.005328   \n",
       "24           0.830652           0.839235         0.834023        0.005045   \n",
       "43           0.831019           0.833090         0.833173        0.005646   \n",
       "29           0.831901           0.840327         0.833031        0.006554   \n",
       "10           0.831901           0.840327         0.832994        0.006513   \n",
       "28           0.829501           0.833090         0.832624        0.005085   \n",
       "3            0.831727           0.840441         0.832541        0.006959   \n",
       "1            0.831839           0.840296         0.832395        0.006942   \n",
       "45           0.831839           0.840296         0.832395        0.006942   \n",
       "42           0.831455           0.840177         0.832354        0.006974   \n",
       "40           0.830753           0.840042         0.832266        0.006861   \n",
       "22           0.825316           0.830996         0.829392        0.005983   \n",
       "21           0.829974           0.830362         0.827379        0.008436   \n",
       "34           0.829974           0.830362         0.826806        0.008837   \n",
       "46           0.817507           0.828850         0.822419        0.006383   \n",
       "5            0.817507           0.828850         0.822419        0.006383   \n",
       "17           0.817205           0.828582         0.822282        0.006354   \n",
       "9            0.815789           0.828683         0.820756        0.005731   \n",
       "15           0.815588           0.828220         0.818157        0.005592   \n",
       "48           0.815588           0.828220         0.818157        0.005592   \n",
       "25           0.814648           0.826816         0.818088        0.006555   \n",
       "7            0.814648           0.826816         0.818088        0.006555   \n",
       "35           0.814536           0.821732         0.815074        0.003632   \n",
       "39           0.814536           0.821732         0.815074        0.003632   \n",
       "47           0.814443           0.826548         0.814774        0.006280   \n",
       "12           0.814064           0.816987         0.812373        0.003407   \n",
       "36           0.809707           0.816157         0.811221        0.003723   \n",
       "13           0.809707           0.816157         0.811221        0.003723   \n",
       "23           0.808263           0.814903         0.810340        0.004476   \n",
       "19           0.785516           0.813689         0.797576        0.011871   \n",
       "27           0.785516           0.813689         0.797576        0.011871   \n",
       "11           0.780952           0.788413         0.782131        0.004797   \n",
       "16           0.772572           0.779779         0.774738        0.005452   \n",
       "8            0.772572           0.779779         0.774738        0.005452   \n",
       "2            0.771339           0.778725         0.773518        0.005451   \n",
       "4            0.768261           0.777430         0.770184        0.004645   \n",
       "41           0.768261           0.777430         0.770184        0.004645   \n",
       "33           0.767028           0.776377         0.768964        0.004686   \n",
       "37           0.767028           0.776377         0.768964        0.004686   \n",
       "14           0.767028           0.776377         0.768964        0.004686   \n",
       "0            0.647899           0.657721         0.649710        0.004397   \n",
       "26           0.647899           0.657721         0.649710        0.004397   \n",
       "20           0.647899           0.657721         0.649710        0.004397   \n",
       "18           0.647899           0.657721         0.649710        0.004397   \n",
       "6            0.647899           0.657721         0.649710        0.004397   \n",
       "38           0.647899           0.657721         0.649710        0.004397   \n",
       "49           0.647899           0.657721         0.649710        0.004397   \n",
       "\n",
       "    rank_test_score  \n",
       "44                1  \n",
       "30                2  \n",
       "32                3  \n",
       "31                4  \n",
       "24                5  \n",
       "43                6  \n",
       "29                7  \n",
       "10                8  \n",
       "28                9  \n",
       "3                10  \n",
       "1                11  \n",
       "45               11  \n",
       "42               13  \n",
       "40               14  \n",
       "22               15  \n",
       "21               16  \n",
       "34               17  \n",
       "46               18  \n",
       "5                18  \n",
       "17               20  \n",
       "9                21  \n",
       "15               22  \n",
       "48               22  \n",
       "25               24  \n",
       "7                24  \n",
       "35               26  \n",
       "39               26  \n",
       "47               28  \n",
       "12               29  \n",
       "36               30  \n",
       "13               30  \n",
       "23               32  \n",
       "19               33  \n",
       "27               33  \n",
       "11               35  \n",
       "16               36  \n",
       "8                36  \n",
       "2                38  \n",
       "4                39  \n",
       "41               39  \n",
       "33               41  \n",
       "37               41  \n",
       "14               41  \n",
       "0                44  \n",
       "26               44  \n",
       "20               44  \n",
       "18               44  \n",
       "6                44  \n",
       "38               44  \n",
       "49               44  "
      ]
     },
     "execution_count": 52,
     "metadata": {},
     "output_type": "execute_result"
    }
   ],
   "source": [
    "result_df = pd.DataFrame(result_dict)\n",
    "print(result_df.shape)\n",
    "result_df.head()\n",
    "result_df[result_df.columns[6:]].sort_values('rank_test_score')"
   ]
  },
  {
   "cell_type": "code",
   "execution_count": null,
   "id": "3152548c",
   "metadata": {},
   "outputs": [],
   "source": [
    "random_search.best_score"
   ]
  },
  {
   "cell_type": "code",
   "execution_count": null,
   "id": "d2d1cadc",
   "metadata": {},
   "outputs": [],
   "source": []
  },
  {
   "cell_type": "markdown",
   "id": "f96d58fe",
   "metadata": {},
   "source": [
    "##파이프라인"
   ]
  },
  {
   "cell_type": "code",
   "execution_count": 55,
   "id": "7047881a",
   "metadata": {
    "ExecuteTime": {
     "end_time": "2021-11-26T09:02:56.500442Z",
     "start_time": "2021-11-26T09:02:56.490265Z"
    }
   },
   "outputs": [],
   "source": [
    "#파이프라인 생성\n",
    "from sklearn.svm import SVC\n",
    "from sklearn.model_selection import train_test_split\n",
    "from sklearn.preprocessing import StandardScaler\n",
    "from sklearn.metrics import roc_auc_score\n",
    "from sklearn.pipeline import Pipeline"
   ]
  },
  {
   "cell_type": "code",
   "execution_count": 56,
   "id": "58975a90",
   "metadata": {
    "ExecuteTime": {
     "end_time": "2021-11-26T09:04:50.622131Z",
     "start_time": "2021-11-26T09:04:50.608132Z"
    }
   },
   "outputs": [],
   "source": [
    "order = [\n",
    "    ('scaler', StandardScaler()),\n",
    "    ('svm', SVC())\n",
    "]\n",
    "\n",
    "pipeline = Pipeline(order, verbose=True)  #verbose=True : 어떤 단계를 처리하는지 로그를 남긴다."
   ]
  },
  {
   "cell_type": "code",
   "execution_count": null,
   "id": "0d57f637",
   "metadata": {
    "ExecuteTime": {
     "start_time": "2021-11-26T09:04:52.455Z"
    },
    "scrolled": false
   },
   "outputs": [
    {
     "name": "stdout",
     "output_type": "stream",
     "text": [
      "[Pipeline] ............ (step 1 of 2) Processing scaler, total=   0.0s\n"
     ]
    }
   ],
   "source": [
    "pipeline.fit(X_train, y_train)"
   ]
  },
  {
   "cell_type": "code",
   "execution_count": null,
   "id": "3e53bfdf",
   "metadata": {
    "ExecuteTime": {
     "start_time": "2021-11-26T09:05:16.985Z"
    }
   },
   "outputs": [],
   "source": [
    "pred_train = pipeline.predict(X_train)\n",
    "pred_test = pipeline.predict(X_test)"
   ]
  },
  {
   "cell_type": "code",
   "execution_count": null,
   "id": "8c0cd4a3",
   "metadata": {},
   "outputs": [],
   "source": []
  },
  {
   "cell_type": "code",
   "execution_count": null,
   "id": "c25172c5",
   "metadata": {},
   "outputs": [],
   "source": []
  },
  {
   "cell_type": "code",
   "execution_count": null,
   "id": "df32024f",
   "metadata": {},
   "outputs": [],
   "source": [
    "#그리드 서치에서 파이프라인 사용"
   ]
  },
  {
   "cell_type": "code",
   "execution_count": 15,
   "id": "e76f7c34",
   "metadata": {
    "ExecuteTime": {
     "end_time": "2021-11-26T09:18:59.575421Z",
     "start_time": "2021-11-26T09:18:59.565226Z"
    }
   },
   "outputs": [],
   "source": [
    "from sklearn.svm import SVC\n",
    "from sklearn.preprocessing import StandardScaler\n",
    "from sklearn.model_selection import GridSearchCV\n",
    "from sklearn.pipeline import Pipeline\n",
    "\n",
    "order = [\n",
    "    ('scaler', StandardScaler()),\n",
    "    ('svc', SVC(random_state=0))\n",
    "]\n",
    "pipeline = Pipeline(order)\n"
   ]
  },
  {
   "cell_type": "code",
   "execution_count": 20,
   "id": "35e7e89b",
   "metadata": {
    "ExecuteTime": {
     "end_time": "2021-11-26T09:24:11.968796Z",
     "start_time": "2021-11-26T09:24:11.951775Z"
    }
   },
   "outputs": [],
   "source": [
    "param = {\n",
    "    \"svc__C\": [0.001, 0.01, 0.1, 1, 10],\n",
    "    \"svc__gamma\": [0.001, 0.01, 0.1, 1, 10]\n",
    "}\n",
    "\n",
    "param = {\n",
    "    \"svc__C\": [0.01, 0.1, 1, 10],\n",
    "    \"svc__gamma\": [0.01, 0.1, 1, 10]\n",
    "}\n",
    "\n",
    "\n",
    "gs = GridSearchCV(pipeline,\n",
    "                 param,\n",
    "                 scoring = 'roc_auc',\n",
    "                 cv=5,\n",
    "                 n_jobs=-1)"
   ]
  },
  {
   "cell_type": "code",
   "execution_count": 21,
   "id": "e99436c9",
   "metadata": {
    "ExecuteTime": {
     "end_time": "2021-11-26T09:40:39.364385Z",
     "start_time": "2021-11-26T09:24:14.858343Z"
    }
   },
   "outputs": [
    {
     "ename": "KeyboardInterrupt",
     "evalue": "",
     "output_type": "error",
     "traceback": [
      "\u001b[1;31m---------------------------------------------------------------------------\u001b[0m",
      "\u001b[1;31mKeyboardInterrupt\u001b[0m                         Traceback (most recent call last)",
      "\u001b[1;32m~\\AppData\\Local\\Temp/ipykernel_26576/1784265858.py\u001b[0m in \u001b[0;36m<module>\u001b[1;34m\u001b[0m\n\u001b[1;32m----> 1\u001b[1;33m \u001b[0mgs\u001b[0m\u001b[1;33m.\u001b[0m\u001b[0mfit\u001b[0m\u001b[1;33m(\u001b[0m\u001b[0mX_train\u001b[0m\u001b[1;33m,\u001b[0m \u001b[0my_train\u001b[0m\u001b[1;33m)\u001b[0m\u001b[1;33m\u001b[0m\u001b[1;33m\u001b[0m\u001b[0m\n\u001b[0m",
      "\u001b[1;32mD:\\Program_Files\\anaconda3\\lib\\site-packages\\sklearn\\model_selection\\_search.py\u001b[0m in \u001b[0;36mfit\u001b[1;34m(self, X, y, groups, **fit_params)\u001b[0m\n\u001b[0;32m    889\u001b[0m                 \u001b[1;32mreturn\u001b[0m \u001b[0mresults\u001b[0m\u001b[1;33m\u001b[0m\u001b[1;33m\u001b[0m\u001b[0m\n\u001b[0;32m    890\u001b[0m \u001b[1;33m\u001b[0m\u001b[0m\n\u001b[1;32m--> 891\u001b[1;33m             \u001b[0mself\u001b[0m\u001b[1;33m.\u001b[0m\u001b[0m_run_search\u001b[0m\u001b[1;33m(\u001b[0m\u001b[0mevaluate_candidates\u001b[0m\u001b[1;33m)\u001b[0m\u001b[1;33m\u001b[0m\u001b[1;33m\u001b[0m\u001b[0m\n\u001b[0m\u001b[0;32m    892\u001b[0m \u001b[1;33m\u001b[0m\u001b[0m\n\u001b[0;32m    893\u001b[0m             \u001b[1;31m# multimetric is determined here because in the case of a callable\u001b[0m\u001b[1;33m\u001b[0m\u001b[1;33m\u001b[0m\u001b[0m\n",
      "\u001b[1;32mD:\\Program_Files\\anaconda3\\lib\\site-packages\\sklearn\\model_selection\\_search.py\u001b[0m in \u001b[0;36m_run_search\u001b[1;34m(self, evaluate_candidates)\u001b[0m\n\u001b[0;32m   1390\u001b[0m     \u001b[1;32mdef\u001b[0m \u001b[0m_run_search\u001b[0m\u001b[1;33m(\u001b[0m\u001b[0mself\u001b[0m\u001b[1;33m,\u001b[0m \u001b[0mevaluate_candidates\u001b[0m\u001b[1;33m)\u001b[0m\u001b[1;33m:\u001b[0m\u001b[1;33m\u001b[0m\u001b[1;33m\u001b[0m\u001b[0m\n\u001b[0;32m   1391\u001b[0m         \u001b[1;34m\"\"\"Search all candidates in param_grid\"\"\"\u001b[0m\u001b[1;33m\u001b[0m\u001b[1;33m\u001b[0m\u001b[0m\n\u001b[1;32m-> 1392\u001b[1;33m         \u001b[0mevaluate_candidates\u001b[0m\u001b[1;33m(\u001b[0m\u001b[0mParameterGrid\u001b[0m\u001b[1;33m(\u001b[0m\u001b[0mself\u001b[0m\u001b[1;33m.\u001b[0m\u001b[0mparam_grid\u001b[0m\u001b[1;33m)\u001b[0m\u001b[1;33m)\u001b[0m\u001b[1;33m\u001b[0m\u001b[1;33m\u001b[0m\u001b[0m\n\u001b[0m\u001b[0;32m   1393\u001b[0m \u001b[1;33m\u001b[0m\u001b[0m\n\u001b[0;32m   1394\u001b[0m \u001b[1;33m\u001b[0m\u001b[0m\n",
      "\u001b[1;32mD:\\Program_Files\\anaconda3\\lib\\site-packages\\sklearn\\model_selection\\_search.py\u001b[0m in \u001b[0;36mevaluate_candidates\u001b[1;34m(candidate_params, cv, more_results)\u001b[0m\n\u001b[0;32m    836\u001b[0m                     )\n\u001b[0;32m    837\u001b[0m \u001b[1;33m\u001b[0m\u001b[0m\n\u001b[1;32m--> 838\u001b[1;33m                 out = parallel(\n\u001b[0m\u001b[0;32m    839\u001b[0m                     delayed(_fit_and_score)(\n\u001b[0;32m    840\u001b[0m                         \u001b[0mclone\u001b[0m\u001b[1;33m(\u001b[0m\u001b[0mbase_estimator\u001b[0m\u001b[1;33m)\u001b[0m\u001b[1;33m,\u001b[0m\u001b[1;33m\u001b[0m\u001b[1;33m\u001b[0m\u001b[0m\n",
      "\u001b[1;32mD:\\Program_Files\\anaconda3\\lib\\site-packages\\joblib\\parallel.py\u001b[0m in \u001b[0;36m__call__\u001b[1;34m(self, iterable)\u001b[0m\n\u001b[0;32m   1054\u001b[0m \u001b[1;33m\u001b[0m\u001b[0m\n\u001b[0;32m   1055\u001b[0m             \u001b[1;32mwith\u001b[0m \u001b[0mself\u001b[0m\u001b[1;33m.\u001b[0m\u001b[0m_backend\u001b[0m\u001b[1;33m.\u001b[0m\u001b[0mretrieval_context\u001b[0m\u001b[1;33m(\u001b[0m\u001b[1;33m)\u001b[0m\u001b[1;33m:\u001b[0m\u001b[1;33m\u001b[0m\u001b[1;33m\u001b[0m\u001b[0m\n\u001b[1;32m-> 1056\u001b[1;33m                 \u001b[0mself\u001b[0m\u001b[1;33m.\u001b[0m\u001b[0mretrieve\u001b[0m\u001b[1;33m(\u001b[0m\u001b[1;33m)\u001b[0m\u001b[1;33m\u001b[0m\u001b[1;33m\u001b[0m\u001b[0m\n\u001b[0m\u001b[0;32m   1057\u001b[0m             \u001b[1;31m# Make sure that we get a last message telling us we are done\u001b[0m\u001b[1;33m\u001b[0m\u001b[1;33m\u001b[0m\u001b[0m\n\u001b[0;32m   1058\u001b[0m             \u001b[0melapsed_time\u001b[0m \u001b[1;33m=\u001b[0m \u001b[0mtime\u001b[0m\u001b[1;33m.\u001b[0m\u001b[0mtime\u001b[0m\u001b[1;33m(\u001b[0m\u001b[1;33m)\u001b[0m \u001b[1;33m-\u001b[0m \u001b[0mself\u001b[0m\u001b[1;33m.\u001b[0m\u001b[0m_start_time\u001b[0m\u001b[1;33m\u001b[0m\u001b[1;33m\u001b[0m\u001b[0m\n",
      "\u001b[1;32mD:\\Program_Files\\anaconda3\\lib\\site-packages\\joblib\\parallel.py\u001b[0m in \u001b[0;36mretrieve\u001b[1;34m(self)\u001b[0m\n\u001b[0;32m    933\u001b[0m             \u001b[1;32mtry\u001b[0m\u001b[1;33m:\u001b[0m\u001b[1;33m\u001b[0m\u001b[1;33m\u001b[0m\u001b[0m\n\u001b[0;32m    934\u001b[0m                 \u001b[1;32mif\u001b[0m \u001b[0mgetattr\u001b[0m\u001b[1;33m(\u001b[0m\u001b[0mself\u001b[0m\u001b[1;33m.\u001b[0m\u001b[0m_backend\u001b[0m\u001b[1;33m,\u001b[0m \u001b[1;34m'supports_timeout'\u001b[0m\u001b[1;33m,\u001b[0m \u001b[1;32mFalse\u001b[0m\u001b[1;33m)\u001b[0m\u001b[1;33m:\u001b[0m\u001b[1;33m\u001b[0m\u001b[1;33m\u001b[0m\u001b[0m\n\u001b[1;32m--> 935\u001b[1;33m                     \u001b[0mself\u001b[0m\u001b[1;33m.\u001b[0m\u001b[0m_output\u001b[0m\u001b[1;33m.\u001b[0m\u001b[0mextend\u001b[0m\u001b[1;33m(\u001b[0m\u001b[0mjob\u001b[0m\u001b[1;33m.\u001b[0m\u001b[0mget\u001b[0m\u001b[1;33m(\u001b[0m\u001b[0mtimeout\u001b[0m\u001b[1;33m=\u001b[0m\u001b[0mself\u001b[0m\u001b[1;33m.\u001b[0m\u001b[0mtimeout\u001b[0m\u001b[1;33m)\u001b[0m\u001b[1;33m)\u001b[0m\u001b[1;33m\u001b[0m\u001b[1;33m\u001b[0m\u001b[0m\n\u001b[0m\u001b[0;32m    936\u001b[0m                 \u001b[1;32melse\u001b[0m\u001b[1;33m:\u001b[0m\u001b[1;33m\u001b[0m\u001b[1;33m\u001b[0m\u001b[0m\n\u001b[0;32m    937\u001b[0m                     \u001b[0mself\u001b[0m\u001b[1;33m.\u001b[0m\u001b[0m_output\u001b[0m\u001b[1;33m.\u001b[0m\u001b[0mextend\u001b[0m\u001b[1;33m(\u001b[0m\u001b[0mjob\u001b[0m\u001b[1;33m.\u001b[0m\u001b[0mget\u001b[0m\u001b[1;33m(\u001b[0m\u001b[1;33m)\u001b[0m\u001b[1;33m)\u001b[0m\u001b[1;33m\u001b[0m\u001b[1;33m\u001b[0m\u001b[0m\n",
      "\u001b[1;32mD:\\Program_Files\\anaconda3\\lib\\site-packages\\joblib\\_parallel_backends.py\u001b[0m in \u001b[0;36mwrap_future_result\u001b[1;34m(future, timeout)\u001b[0m\n\u001b[0;32m    540\u001b[0m         AsyncResults.get from multiprocessing.\"\"\"\n\u001b[0;32m    541\u001b[0m         \u001b[1;32mtry\u001b[0m\u001b[1;33m:\u001b[0m\u001b[1;33m\u001b[0m\u001b[1;33m\u001b[0m\u001b[0m\n\u001b[1;32m--> 542\u001b[1;33m             \u001b[1;32mreturn\u001b[0m \u001b[0mfuture\u001b[0m\u001b[1;33m.\u001b[0m\u001b[0mresult\u001b[0m\u001b[1;33m(\u001b[0m\u001b[0mtimeout\u001b[0m\u001b[1;33m=\u001b[0m\u001b[0mtimeout\u001b[0m\u001b[1;33m)\u001b[0m\u001b[1;33m\u001b[0m\u001b[1;33m\u001b[0m\u001b[0m\n\u001b[0m\u001b[0;32m    543\u001b[0m         \u001b[1;32mexcept\u001b[0m \u001b[0mCfTimeoutError\u001b[0m \u001b[1;32mas\u001b[0m \u001b[0me\u001b[0m\u001b[1;33m:\u001b[0m\u001b[1;33m\u001b[0m\u001b[1;33m\u001b[0m\u001b[0m\n\u001b[0;32m    544\u001b[0m             \u001b[1;32mraise\u001b[0m \u001b[0mTimeoutError\u001b[0m \u001b[1;32mfrom\u001b[0m \u001b[0me\u001b[0m\u001b[1;33m\u001b[0m\u001b[1;33m\u001b[0m\u001b[0m\n",
      "\u001b[1;32mD:\\Program_Files\\anaconda3\\lib\\concurrent\\futures\\_base.py\u001b[0m in \u001b[0;36mresult\u001b[1;34m(self, timeout)\u001b[0m\n\u001b[0;32m    438\u001b[0m                     \u001b[1;32mreturn\u001b[0m \u001b[0mself\u001b[0m\u001b[1;33m.\u001b[0m\u001b[0m__get_result\u001b[0m\u001b[1;33m(\u001b[0m\u001b[1;33m)\u001b[0m\u001b[1;33m\u001b[0m\u001b[1;33m\u001b[0m\u001b[0m\n\u001b[0;32m    439\u001b[0m \u001b[1;33m\u001b[0m\u001b[0m\n\u001b[1;32m--> 440\u001b[1;33m                 \u001b[0mself\u001b[0m\u001b[1;33m.\u001b[0m\u001b[0m_condition\u001b[0m\u001b[1;33m.\u001b[0m\u001b[0mwait\u001b[0m\u001b[1;33m(\u001b[0m\u001b[0mtimeout\u001b[0m\u001b[1;33m)\u001b[0m\u001b[1;33m\u001b[0m\u001b[1;33m\u001b[0m\u001b[0m\n\u001b[0m\u001b[0;32m    441\u001b[0m \u001b[1;33m\u001b[0m\u001b[0m\n\u001b[0;32m    442\u001b[0m                 \u001b[1;32mif\u001b[0m \u001b[0mself\u001b[0m\u001b[1;33m.\u001b[0m\u001b[0m_state\u001b[0m \u001b[1;32min\u001b[0m \u001b[1;33m[\u001b[0m\u001b[0mCANCELLED\u001b[0m\u001b[1;33m,\u001b[0m \u001b[0mCANCELLED_AND_NOTIFIED\u001b[0m\u001b[1;33m]\u001b[0m\u001b[1;33m:\u001b[0m\u001b[1;33m\u001b[0m\u001b[1;33m\u001b[0m\u001b[0m\n",
      "\u001b[1;32mD:\\Program_Files\\anaconda3\\lib\\threading.py\u001b[0m in \u001b[0;36mwait\u001b[1;34m(self, timeout)\u001b[0m\n\u001b[0;32m    310\u001b[0m         \u001b[1;32mtry\u001b[0m\u001b[1;33m:\u001b[0m    \u001b[1;31m# restore state no matter what (e.g., KeyboardInterrupt)\u001b[0m\u001b[1;33m\u001b[0m\u001b[1;33m\u001b[0m\u001b[0m\n\u001b[0;32m    311\u001b[0m             \u001b[1;32mif\u001b[0m \u001b[0mtimeout\u001b[0m \u001b[1;32mis\u001b[0m \u001b[1;32mNone\u001b[0m\u001b[1;33m:\u001b[0m\u001b[1;33m\u001b[0m\u001b[1;33m\u001b[0m\u001b[0m\n\u001b[1;32m--> 312\u001b[1;33m                 \u001b[0mwaiter\u001b[0m\u001b[1;33m.\u001b[0m\u001b[0macquire\u001b[0m\u001b[1;33m(\u001b[0m\u001b[1;33m)\u001b[0m\u001b[1;33m\u001b[0m\u001b[1;33m\u001b[0m\u001b[0m\n\u001b[0m\u001b[0;32m    313\u001b[0m                 \u001b[0mgotit\u001b[0m \u001b[1;33m=\u001b[0m \u001b[1;32mTrue\u001b[0m\u001b[1;33m\u001b[0m\u001b[1;33m\u001b[0m\u001b[0m\n\u001b[0;32m    314\u001b[0m             \u001b[1;32melse\u001b[0m\u001b[1;33m:\u001b[0m\u001b[1;33m\u001b[0m\u001b[1;33m\u001b[0m\u001b[0m\n",
      "\u001b[1;31mKeyboardInterrupt\u001b[0m: "
     ]
    }
   ],
   "source": [
    "gs.fit(X_train, y_train)"
   ]
  },
  {
   "cell_type": "code",
   "execution_count": null,
   "id": "dbb81f10",
   "metadata": {},
   "outputs": [],
   "source": [
    "print(gs.best_params_)\n",
    "print(gs.best_score_)"
   ]
  },
  {
   "cell_type": "code",
   "execution_count": null,
   "id": "d3169f58",
   "metadata": {},
   "outputs": [],
   "source": [
    "df = pd.DataFrame(gs.cv_results_)\n",
    "df[df.columns[6:]].sort_values('rank_test_score')"
   ]
  },
  {
   "cell_type": "code",
   "execution_count": null,
   "id": "08814d09",
   "metadata": {},
   "outputs": [],
   "source": [
    "\"\"\"\n",
    "from sklearn.pipeline import make_pipeline\n",
    "from sklearn.preprocessing import MinMaxScaler\n",
    "pipeline2 = make_pipeline(MinMaxScaler(), SVC(C=100))\n",
    "\n",
    "print(pipeline2.steps)\n",
    "print(type(pipeline2))\n",
    "\n",
    "pipeline2.fit(X_train, y_train).score(X_test, y_test)\n",
    "\"\"\""
   ]
  },
  {
   "cell_type": "markdown",
   "id": "cba59f1e",
   "metadata": {},
   "source": [
    "##### knn Pipeline/GridSearchCV 생성 및 학습"
   ]
  },
  {
   "cell_type": "code",
   "execution_count": null,
   "id": "609a410c",
   "metadata": {},
   "outputs": [],
   "source": [
    "from sklearn.preprocessin import StandardScaler\n",
    "order = [\n",
    "    ('scaler', StandardSclaer()),\n",
    "    ('knn', KNeighborsClssifier())\n",
    "]\n",
    "pipeline = Pipeline(order, verbose=True)\n",
    "\n",
    "param = {\n",
    "    \"knn__n_neighbors\": range(1,11),\n",
    "    \"knn__p\":[1,2]\n",
    "}\n",
    "\n",
    "gs = GridsearchCV(pipline, param, scoring='accuray', cv=5, n_jobs=-1)\n",
    "gs.fit(X_train, y_train)"
   ]
  },
  {
   "cell_type": "code",
   "execution_count": 59,
   "id": "fe754376",
   "metadata": {
    "ExecuteTime": {
     "end_time": "2021-11-26T13:21:53.343392Z",
     "start_time": "2021-11-26T13:21:53.330361Z"
    },
    "scrolled": false
   },
   "outputs": [
    {
     "ename": "AttributeError",
     "evalue": "'GridSearchCV' object has no attribute 'cv_results_'",
     "output_type": "error",
     "traceback": [
      "\u001b[1;31m---------------------------------------------------------------------------\u001b[0m",
      "\u001b[1;31mAttributeError\u001b[0m                            Traceback (most recent call last)",
      "\u001b[1;32m~\\AppData\\Local\\Temp/ipykernel_26576/377358959.py\u001b[0m in \u001b[0;36m<module>\u001b[1;34m\u001b[0m\n\u001b[1;32m----> 1\u001b[1;33m \u001b[0mresult_df\u001b[0m \u001b[1;33m=\u001b[0m\u001b[0mpd\u001b[0m\u001b[1;33m.\u001b[0m\u001b[0mDataFrame\u001b[0m\u001b[1;33m(\u001b[0m\u001b[0mgs\u001b[0m\u001b[1;33m.\u001b[0m\u001b[0mcv_results_\u001b[0m\u001b[1;33m)\u001b[0m\u001b[1;33m\u001b[0m\u001b[1;33m\u001b[0m\u001b[0m\n\u001b[0m\u001b[0;32m      2\u001b[0m \u001b[0mresult_df\u001b[0m\u001b[1;33m[\u001b[0m\u001b[0mresult_df\u001b[0m\u001b[1;33m.\u001b[0m\u001b[0mcolumns\u001b[0m\u001b[1;33m[\u001b[0m\u001b[1;36m6\u001b[0m\u001b[1;33m:\u001b[0m\u001b[1;33m]\u001b[0m\u001b[1;33m]\u001b[0m\u001b[1;33m.\u001b[0m\u001b[0msort_values\u001b[0m\u001b[1;33m(\u001b[0m\u001b[1;34m'rank_test_score'\u001b[0m\u001b[1;33m)\u001b[0m\u001b[1;33m.\u001b[0m\u001b[0mhead\u001b[0m\u001b[1;33m(\u001b[0m\u001b[1;33m)\u001b[0m\u001b[1;33m\u001b[0m\u001b[1;33m\u001b[0m\u001b[0m\n",
      "\u001b[1;31mAttributeError\u001b[0m: 'GridSearchCV' object has no attribute 'cv_results_'"
     ]
    }
   ],
   "source": [
    "result_df =pd.DataFrame(gs.cv_results_)\n",
    "result_df[result_df.columns[6:]].sort_values('rank_test_score').head()"
   ]
  },
  {
   "cell_type": "code",
   "execution_count": null,
   "id": "686ea41b",
   "metadata": {},
   "outputs": [],
   "source": [
    "#https://dlsdn73.tistory.com/757\n",
    "\"\"\"\n",
    "나이브 베이즈모델에서 가우시안은 연속형 을 대상으로\n",
    "베르누이는 이항 \n",
    "\"\"\""
   ]
  }
 ],
 "metadata": {
  "kernelspec": {
   "display_name": "Python 3 (ipykernel)",
   "language": "python",
   "name": "python3"
  },
  "language_info": {
   "codemirror_mode": {
    "name": "ipython",
    "version": 3
   },
   "file_extension": ".py",
   "mimetype": "text/x-python",
   "name": "python",
   "nbconvert_exporter": "python",
   "pygments_lexer": "ipython3",
   "version": "3.9.7"
  },
  "toc": {
   "base_numbering": 1,
   "nav_menu": {},
   "number_sections": true,
   "sideBar": true,
   "skip_h1_title": false,
   "title_cell": "Table of Contents",
   "title_sidebar": "Contents",
   "toc_cell": false,
   "toc_position": {
    "height": "calc(100% - 180px)",
    "left": "10px",
    "top": "150px",
    "width": "165px"
   },
   "toc_section_display": true,
   "toc_window_display": true
  },
  "varInspector": {
   "cols": {
    "lenName": 16,
    "lenType": 16,
    "lenVar": 40
   },
   "kernels_config": {
    "python": {
     "delete_cmd_postfix": "",
     "delete_cmd_prefix": "del ",
     "library": "var_list.py",
     "varRefreshCmd": "print(var_dic_list())"
    },
    "r": {
     "delete_cmd_postfix": ") ",
     "delete_cmd_prefix": "rm(",
     "library": "var_list.r",
     "varRefreshCmd": "cat(var_dic_list()) "
    }
   },
   "types_to_exclude": [
    "module",
    "function",
    "builtin_function_or_method",
    "instance",
    "_Feature"
   ],
   "window_display": false
  }
 },
 "nbformat": 4,
 "nbformat_minor": 5
}
