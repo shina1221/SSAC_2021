{
 "cells": [
  {
   "cell_type": "markdown",
   "id": "8925f6d8",
   "metadata": {},
   "source": [
    "# 1.Tkinter Initialization"
   ]
  },
  {
   "cell_type": "code",
   "execution_count": 1,
   "id": "2655e6b6",
   "metadata": {},
   "outputs": [],
   "source": [
    "from tkinter import *\n",
    "from PIL import Image, ImageTk\n",
    "import webbrowser\n",
    "import time\n",
    "window=Tk()\n",
    "title=Label(window, justify=CENTER, text=\"코로나 이전과 이후 사업장 추이 분석\" )\n",
    "title.grid(row=0,column=0,columnspan=7)\n"
   ]
  },
  {
   "cell_type": "markdown",
   "id": "ac5de027",
   "metadata": {},
   "source": [
    "# 2. 년도별 사업장 변화 그래프 창 출력 함수"
   ]
  },
  {
   "cell_type": "code",
   "execution_count": 2,
   "id": "a0f0358e",
   "metadata": {},
   "outputs": [],
   "source": [
    "def new2018():\n",
    "    new_window=Toplevel()\n",
    "    title=Label(new_window, justify=CENTER, text=\"year : 2018\")\n",
    "    title.grid(row=0,column=0)\n",
    "    whole_graph = ImageTk.PhotoImage(Image.open(\"./whole_period_business_number2018.png\").\\\n",
    "                                     resize((600,240)))\n",
    "    canvas=Canvas(new_window,width=600,height=240)\n",
    "    canvas.grid(row=1,column=0)\n",
    "    canvas.create_image(0,0,anchor=NW,image=whole_graph)\n",
    "    new_window.mainloop()\n",
    "def new2019():\n",
    "    new_window=Toplevel()\n",
    "    title=Label(new_window, justify=CENTER, text=\"year : 2019\")\n",
    "    title.grid(row=0,column=0)\n",
    "    whole_graph = ImageTk.PhotoImage(Image.open(\"./whole_period_business_number2019.png\").\\\n",
    "                                     resize((600,240)))\n",
    "    canvas=Canvas(new_window,width=600,height=240)\n",
    "    canvas.grid(row=1,column=0)\n",
    "    canvas.create_image(0,0,anchor=NW,image=whole_graph)\n",
    "    window.mainloop()\n",
    "def new2020():\n",
    "    new_window=Toplevel()\n",
    "    title=Label(new_window, justify=CENTER, text=\"year : 2020\")\n",
    "    title.grid(row=0,column=0)\n",
    "    whole_graph = ImageTk.PhotoImage(Image.open(\"./whole_period_business_number2020.png\").\\\n",
    "                                     resize((600,240)))\n",
    "    canvas=Canvas(new_window,width=600,height=240)\n",
    "    canvas.grid(row=1,column=0)\n",
    "    canvas.create_image(0,0,anchor=NW,image=whole_graph)\n",
    "    window.mainloop()\n",
    "def new2021():\n",
    "    new_window=Toplevel()\n",
    "    title=Label(new_window, justify=CENTER, text=\"year : 2021\")\n",
    "    title.grid(row=0,column=0)\n",
    "    whole_graph = ImageTk.PhotoImage(Image.open(\"./whole_period_business_number2021.png\").\\\n",
    "                                     resize((600,240)))\n",
    "    canvas=Canvas(new_window,width=600,height=240)\n",
    "    canvas.grid(row=1,column=0)\n",
    "    canvas.create_image(0,0,anchor=NW,image=whole_graph)\n",
    "    window.mainloop()"
   ]
  },
  {
   "cell_type": "markdown",
   "id": "d886733b",
   "metadata": {},
   "source": [
    "# 3. 업종별 사업장 변화 그래프 창 출력 함수"
   ]
  },
  {
   "cell_type": "code",
   "execution_count": 3,
   "id": "e0330036",
   "metadata": {},
   "outputs": [],
   "source": [
    "def 일차산업():\n",
    "    new_window=Toplevel()\n",
    "    title=Label(new_window, justify=CENTER, text=\"1차 산업\")\n",
    "    title.grid(row=0,column=0)\n",
    "    service = ImageTk.PhotoImage(Image.open(\"./1차산업.png\").resize((600,240)))\n",
    "    canvas=Canvas(new_window,width=600,height=240)\n",
    "    canvas.grid(row=1,column=0)\n",
    "    canvas.create_image(0,0,anchor=NW,image=service)\n",
    "    new_window.mainloop()\n",
    "def 제조업():\n",
    "    new_window=Toplevel()\n",
    "    service = ImageTk.PhotoImage(Image.open(\"./제조업.png\").resize((600,240)))\n",
    "    canvas=Canvas(new_window,width=600,height=240)\n",
    "    canvas.grid(row=1,column=0)\n",
    "    canvas.create_image(0,0,anchor=NW,image=service)\n",
    "    new_window.mainloop()\n",
    "def 자원():\n",
    "    new_window=Toplevel()\n",
    "    service = ImageTk.PhotoImage(Image.open(\"./자원.png\").resize((600,240)))\n",
    "    canvas=Canvas(new_window,width=600,height=240)\n",
    "    canvas.grid(row=1,column=0)\n",
    "    canvas.create_image(0,0,anchor=NW,image=service)\n",
    "    new_window.mainloop()\n",
    "def 건설업():\n",
    "    new_window=Toplevel()\n",
    "    service = ImageTk.PhotoImage(Image.open(\"./건설업.png\").resize((600,240)))\n",
    "    canvas=Canvas(new_window,width=600,height=240)\n",
    "    canvas.grid(row=1,column=0)\n",
    "    canvas.create_image(0,0,anchor=NW,image=service)\n",
    "    new_window.mainloop()\n",
    "def 도매및소매업():\n",
    "    new_window=Toplevel()\n",
    "    service = ImageTk.PhotoImage(Image.open(\"./도매 및 소매업.png\").resize((600,240)))\n",
    "    canvas=Canvas(new_window,width=600,height=240)\n",
    "    canvas.grid(row=1,column=0)\n",
    "    canvas.create_image(0,0,anchor=NW,image=service)\n",
    "    new_window.mainloop()\n",
    "def 숙박및음식업():\n",
    "    new_window=Toplevel()\n",
    "    service = ImageTk.PhotoImage(Image.open(\"./숙박 및 음식업.png\").resize((600,240)))\n",
    "    canvas=Canvas(new_window,width=600,height=240)\n",
    "    canvas.grid(row=1,column=0)\n",
    "    canvas.create_image(0,0,anchor=NW,image=service)\n",
    "    new_window.mainloop()\n",
    "def 운수및창고업():\n",
    "    new_window=Toplevel()\n",
    "    service = ImageTk.PhotoImage(Image.open(\"./운수 및 창고업.png\").resize((600,240)))\n",
    "    canvas=Canvas(new_window,width=600,height=240)\n",
    "    canvas.grid(row=1,column=0)\n",
    "    canvas.create_image(0,0,anchor=NW,image=service)\n",
    "    new_window.mainloop()\n",
    "def 임대업():\n",
    "    new_window=Toplevel()\n",
    "    service = ImageTk.PhotoImage(Image.open(\"./임대업.png\").resize((600,240)))\n",
    "    canvas=Canvas(new_window,width=600,height=240)\n",
    "    canvas.grid(row=1,column=0)\n",
    "    canvas.create_image(0,0,anchor=NW,image=service)\n",
    "    new_window.mainloop()\n",
    "def 서비스업():\n",
    "    new_window=Toplevel()\n",
    "    service = ImageTk.PhotoImage(Image.open(\"./서비스업.png\").resize((600,240)))\n",
    "    canvas=Canvas(new_window,width=600,height=240)\n",
    "    canvas.grid(row=1,column=0)\n",
    "    canvas.create_image(0,0,anchor=NW,image=service)\n",
    "    new_window.mainloop()\n",
    "def 부동산업():\n",
    "    new_window=Toplevel()\n",
    "    service = ImageTk.PhotoImage(Image.open(\"./부동산업.png\").resize((600,240)))\n",
    "    canvas=Canvas(new_window,width=600,height=240)\n",
    "    canvas.grid(row=1,column=0)\n",
    "    canvas.create_image(0,0,anchor=NW,image=service)\n",
    "    new_window.mainloop()\n",
    "def 정보통신업():\n",
    "    new_window=Toplevel()\n",
    "    service = ImageTk.PhotoImage(Image.open(\"./정보통신업.png\").resize((600,240)))\n",
    "    canvas=Canvas(new_window,width=600,height=240)\n",
    "    canvas.grid(row=1,column=0)\n",
    "    canvas.create_image(0,0,anchor=NW,image=service)\n",
    "    new_window.mainloop()\n"
   ]
  },
  {
   "cell_type": "markdown",
   "id": "6e117f04",
   "metadata": {},
   "source": [
    "# 4. 지역별 사업장 변화 Folium 자료 연동 함수"
   ]
  },
  {
   "cell_type": "code",
   "execution_count": 4,
   "id": "933074d8",
   "metadata": {},
   "outputs": [],
   "source": [
    "chrome_path='C;'\n",
    "def regional():\n",
    "    file_path=\"south_korea_job.html\"\n",
    "    webbrowser.open_new_tab(file_path)"
   ]
  },
  {
   "cell_type": "markdown",
   "id": "ad5254a5",
   "metadata": {},
   "source": [
    "# 5. 전체 기간 사업장 변화 그래프 출력"
   ]
  },
  {
   "cell_type": "code",
   "execution_count": 5,
   "id": "9b2b0169",
   "metadata": {},
   "outputs": [
    {
     "data": {
      "text/plain": [
       "1"
      ]
     },
     "execution_count": 5,
     "metadata": {},
     "output_type": "execute_result"
    }
   ],
   "source": [
    "whole_graph = ImageTk.PhotoImage(Image.open(\"./whole_period_business_number.png\").resize((600,240)))\n",
    "canvas=Canvas(window,width=600,height=240)\n",
    "canvas.grid(row=1,column=0,columnspan=7)\n",
    "canvas.create_image(0,0,anchor=NW,image=whole_graph)"
   ]
  },
  {
   "cell_type": "markdown",
   "id": "de7c7bb7",
   "metadata": {},
   "source": [
    "# 6. 년도별 버튼 생성"
   ]
  },
  {
   "cell_type": "code",
   "execution_count": 6,
   "id": "d622e1fe",
   "metadata": {},
   "outputs": [],
   "source": [
    "title=Label(window, justify=CENTER, text=\"year : \")\n",
    "title.grid(row=3,column=0)\n",
    "\n",
    "year2018_button=Button(window,text=\"2018\",command=new2018)\n",
    "year2018_button.grid(row=3,column=1)\n",
    "year2019_button=Button(window,text=\"2019\",command=new2019)\n",
    "year2019_button.grid(row=3,column=2)\n",
    "year2020_button=Button(window,text=\"2020\",command=new2020)\n",
    "year2020_button.grid(row=3,column=3)\n",
    "year2021_button=Button(window,text=\"2021\",command=new2021)\n",
    "year2021_button.grid(row=3,column=4)"
   ]
  },
  {
   "cell_type": "markdown",
   "id": "fefc5b6b",
   "metadata": {},
   "source": [
    "# 7. 업종별 버튼 생성"
   ]
  },
  {
   "cell_type": "code",
   "execution_count": 7,
   "id": "ff6f0c30",
   "metadata": {},
   "outputs": [],
   "source": [
    "industry_title=Label(window, justify=CENTER, text=\"industry : \")\n",
    "industry_title.grid(row=4,column=0)\n",
    "일차산업=Button(window,text='1차 산업',command=일차산업)\n",
    "일차산업.grid(row=4,column=1)\n",
    "제조업=Button(window,text='제조업',command=제조업)\n",
    "제조업.grid(row=4,column=2)\n",
    "자원=Button(window,text='자원',command=자원)\n",
    "자원.grid(row=4,column=3)\n",
    "건설업=Button(window,text='건설업',command=건설업)\n",
    "건설업.grid(row=4,column=4)\n",
    "도매및소매업=Button(window,text='도매 및 소매업',command=도매및소매업)\n",
    "도매및소매업.grid(row=4,column=5)\n",
    "숙박및음식업=Button(window,text='숙박 및 음식업',command=숙박및음식업)\n",
    "숙박및음식업.grid(row=4,column=6)\n",
    "운수및창고업=Button(window,text='운수 및 창고업',command=운수및창고업)\n",
    "운수및창고업.grid(row=5,column=1)\n",
    "임대업=Button(window,text='임대업',command=임대업)\n",
    "임대업.grid(row=5,column=2)\n",
    "서비스업=Button(window,text='서비스업',command=서비스업)\n",
    "서비스업.grid(row=5,column=3)\n",
    "부동산업=Button(window,text='부동산업',command=부동산업)\n",
    "부동산업.grid(row=5,column=4)\n",
    "정보통신업=Button(window,text='정보통신업',command=정보통신업)\n",
    "정보통신업.grid(row=5,column=5)\n"
   ]
  },
  {
   "cell_type": "markdown",
   "id": "cdcaf0ed",
   "metadata": {},
   "source": [
    "# 7. 지역별 버튼 생성"
   ]
  },
  {
   "cell_type": "code",
   "execution_count": 8,
   "id": "6140c00e",
   "metadata": {},
   "outputs": [],
   "source": [
    "regional_title=Label(window, justify=CENTER, text=\"region : \")\n",
    "regional_title.grid(row=6,column=0)\n",
    "regional_button=Button(window,text=\"광역시도별 지도\",command=regional)\n",
    "regional_button.grid(row=6,column=1)"
   ]
  },
  {
   "cell_type": "code",
   "execution_count": null,
   "id": "72f9766f",
   "metadata": {},
   "outputs": [],
   "source": [
    "window.mainloop()"
   ]
  },
  {
   "cell_type": "code",
   "execution_count": null,
   "id": "8e8bbd1b",
   "metadata": {},
   "outputs": [],
   "source": []
  }
 ],
 "metadata": {
  "kernelspec": {
   "display_name": "Python 3 (ipykernel)",
   "language": "python",
   "name": "python3"
  },
  "language_info": {
   "codemirror_mode": {
    "name": "ipython",
    "version": 3
   },
   "file_extension": ".py",
   "mimetype": "text/x-python",
   "name": "python",
   "nbconvert_exporter": "python",
   "pygments_lexer": "ipython3",
   "version": "3.7.0"
  }
 },
 "nbformat": 4,
 "nbformat_minor": 5
}
