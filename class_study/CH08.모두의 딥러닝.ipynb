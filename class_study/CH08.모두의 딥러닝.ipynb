{
 "cells": [
  {
   "cell_type": "code",
   "execution_count": null,
   "id": "7670abe8",
   "metadata": {},
   "outputs": [],
   "source": [
    "#딥러닝을 이용한 자연어 처리\n",
    "\"\"\"\n",
    "텍스트의 토큰화\n",
    ":입력된 텍스트를 잘게 나누는 과정\n",
    "\n",
    "토큰\n",
    ":입력할 텍스트가 준비되면 이를 단어별, 문장별, 형태소별로 나눌 수 있는데, 이렇게 작게 나누어진 하나의 단위\n",
    "\n",
    "\"\"\""
   ]
  },
  {
   "cell_type": "code",
   "execution_count": null,
   "id": "ba65e020",
   "metadata": {},
   "outputs": [],
   "source": [
    "#케라스에서는 text_to_word_sequence를 통해 손쉽게 토크나이저 가능\n"
   ]
  },
  {
   "cell_type": "code",
   "execution_count": null,
   "id": "47f99b7a",
   "metadata": {},
   "outputs": [],
   "source": [
    "#텍스트의 토큰화"
   ]
  },
  {
   "cell_type": "code",
   "execution_count": 2,
   "id": "5e437999",
   "metadata": {},
   "outputs": [
    {
     "name": "stdout",
     "output_type": "stream",
     "text": [
      "['해보지', '않으면', '해낼수', '없다']\n"
     ]
    }
   ],
   "source": [
    "from tensorflow.keras.preprocessing.text import text_to_word_sequence\n",
    "\n",
    "text='해보지 않으면 해낼수 없다'\n",
    "result= text_to_word_sequence(text)\n",
    "print(result)"
   ]
  },
  {
   "cell_type": "code",
   "execution_count": 8,
   "id": "b6d68fe7",
   "metadata": {},
   "outputs": [
    {
     "name": "stdout",
     "output_type": "stream",
     "text": [
      "OrderedDict([('먼저', 1), ('텍스트의', 2), ('각', 1), ('단어를', 1), ('나누어', 1), ('토큰화합니다', 1), ('단어로', 1), ('토큰화해야', 1), ('딥러닝에서', 2), ('인식됩니다', 1), ('토큰화한', 1), ('결과는', 1), ('사용할', 1), ('수', 1), ('있습니다', 1)])\n"
     ]
    }
   ],
   "source": [
    "from tensorflow.keras.preprocessing.text import Tokenizer\n",
    "docs= ['먼저 텍스트의 각 단어를 나누어 토큰화합니다.',\n",
    "      '텍스트의 단어로 토큰화해야 딥러닝에서 인식됩니다.',\n",
    "      '토큰화한 결과는 딥러닝에서 사용할 수 있습니다.']\n",
    "\n",
    "token=Tokenizer()\n",
    "token.fit_on_texts(docs)\n",
    "print(token.word_counts)"
   ]
  },
  {
   "cell_type": "code",
   "execution_count": 10,
   "id": "6ac0621e",
   "metadata": {},
   "outputs": [
    {
     "name": "stdout",
     "output_type": "stream",
     "text": [
      "defaultdict(<class 'int'>, {'텍스트의': 2, '먼저': 1, '토큰화합니다': 1, '각': 1, '단어를': 1, '나누어': 1, '인식됩니다': 1, '딥러닝에서': 2, '토큰화해야': 1, '단어로': 1, '결과는': 1, '토큰화한': 1, '수': 1, '사용할': 1, '있습니다': 1})\n",
      "{'텍스트의': 1, '딥러닝에서': 2, '먼저': 3, '각': 4, '단어를': 5, '나누어': 6, '토큰화합니다': 7, '단어로': 8, '토큰화해야': 9, '인식됩니다': 10, '토큰화한': 11, '결과는': 12, '사용할': 13, '수': 14, '있습니다': 15}\n"
     ]
    }
   ],
   "source": [
    "print(token.word_docs)\n",
    "print(token.word_index)"
   ]
  },
  {
   "cell_type": "code",
   "execution_count": 14,
   "id": "b517d249",
   "metadata": {},
   "outputs": [
    {
     "name": "stdout",
     "output_type": "stream",
     "text": [
      "원문: 해보지 않으면 해낼수 없다\n",
      "토큰화: ['해보지', '않으면', '해낼수', '없다']\n",
      "단어 카운트: OrderedDict([('먼저', 1), ('텍스트의', 2), ('각', 1), ('단어를', 1), ('나누어', 1), ('토큰화합니다', 1), ('단어로', 1), ('토큰화해야', 1), ('딥러닝에서', 2), ('인식됩니다', 1), ('토큰화한', 1), ('결과는', 1), ('사용할', 1), ('수', 1), ('있습니다', 1)])\n",
      "문장 카운트 3\n",
      "문장 카운트 3\n",
      "각 단어가 몇개의 문장에 포함되어 있는가 defaultdict(<class 'int'>, {'텍스트의': 2, '먼저': 1, '토큰화합니다': 1, '각': 1, '단어를': 1, '나누어': 1, '인식됩니다': 1, '딥러닝에서': 2, '토큰화해야': 1, '단어로': 1, '결과는': 1, '토큰화한': 1, '수': 1, '사용할': 1, '있습니다': 1})\n",
      "각 단어에 매겨진 인덱스 값 {'텍스트의': 1, '딥러닝에서': 2, '먼저': 3, '각': 4, '단어를': 5, '나누어': 6, '토큰화합니다': 7, '단어로': 8, '토큰화해야': 9, '인식됩니다': 10, '토큰화한': 11, '결과는': 12, '사용할': 13, '수': 14, '있습니다': 15}\n"
     ]
    }
   ],
   "source": [
    "#주어진 문장을 단어로 토큰화하기\n",
    "\n",
    "#텍스트 전처리 함수 text_to_sequece 호출\n",
    "\n",
    "from tensorflow.keras.preprocessing.text import text_to_word_sequence\n",
    "\n",
    "#전처리할 텍스트 정하기\n",
    "text='해보지 않으면 해낼수 없다'\n",
    "\n",
    "#해당 텍스트 토큰화\n",
    "result= text_to_word_sequence(text)\n",
    "print('원문:', text)\n",
    "print('토큰화:', result)\n",
    "\n",
    "from keras.preprocessing.text import Tokenizer\n",
    "\n",
    "docs= ['먼저 텍스트의 각 단어를 나누어 토큰화합니다.',\n",
    "      '텍스트의 단어로 토큰화해야 딥러닝에서 인식됩니다.',\n",
    "      '토큰화한 결과는 딥러닝에서 사용할 수 있습니다.']\n",
    "\n",
    "#토큰화 함수를 이용해 전처리하는 과정\n",
    "token = Tokenizer() #토큰화 함수 지정\n",
    "token.fit_on_texts(docs) #토큰화 함수에 문장 적용하기\n",
    "\n",
    "#각 옵션에 맞춰 단어의 빈도 수를 계산한 결과 출력\n",
    "print('단어 카운트:', token.word_counts)\n",
    "\n",
    "#츨력되는 순서는 랜덤\n",
    "print('문장 카운트', token.document_count)\n",
    "\n",
    "#출석 되는 순서는 랜덤\n",
    "print('문장 카운트', token.document_count)\n",
    "print('각 단어가 몇개의 문장에 포함되어 있는가', token.word_docs)\n",
    "print('각 단어에 매겨진 인덱스 값', token.word_index)\n"
   ]
  },
  {
   "cell_type": "code",
   "execution_count": 16,
   "id": "399721db",
   "metadata": {},
   "outputs": [
    {
     "name": "stdout",
     "output_type": "stream",
     "text": [
      "{'오랫동안': 1, '꿈꾸는': 2, '이는': 3, '그': 4, '꿈을': 5, '닮아간다': 6}\n"
     ]
    }
   ],
   "source": [
    "#파이썬의 배열 인덱스는 0부터 시작하므로, 맨 앞에 0이 추가되는 것에 주의\n",
    "from tensorflow.keras.preprocessing.text import Tokenizer\n",
    "\n",
    "text='오랫동안 꿈꾸는 이는 그 꿈을 닮아간다'\n",
    "\n",
    "token=Tokenizer()\n",
    "token.fit_on_texts([text])\n",
    "print(token.word_index)\n",
    "\n"
   ]
  },
  {
   "cell_type": "code",
   "execution_count": 17,
   "id": "36c24efe",
   "metadata": {},
   "outputs": [
    {
     "name": "stdout",
     "output_type": "stream",
     "text": [
      "[[1, 2, 3, 4, 5, 6]]\n"
     ]
    }
   ],
   "source": [
    "#원 핫 인코딩 방식으로표현\n",
    "#케라스에서 제공하는 Tokenizer의 texts_to_sequences( ) 함수를 사용해서 \n",
    "#앞서 만들어진 토큰의 인덱스로만 채워진 새로운 배열을 만들어 줌\n",
    "\n",
    "x= token.texts_to_sequences([text])\n",
    "print(x)"
   ]
  },
  {
   "cell_type": "code",
   "execution_count": 50,
   "id": "c208dac8",
   "metadata": {
    "scrolled": true
   },
   "outputs": [
    {
     "ename": "AttributeError",
     "evalue": "'list' object has no attribute 'word_index'",
     "output_type": "error",
     "traceback": [
      "\u001b[1;31m---------------------------------------------------------------------------\u001b[0m",
      "\u001b[1;31mAttributeError\u001b[0m                            Traceback (most recent call last)",
      "\u001b[1;32m~\\AppData\\Local\\Temp/ipykernel_25136/1917750403.py\u001b[0m in \u001b[0;36m<module>\u001b[1;34m\u001b[0m\n\u001b[0;32m      3\u001b[0m \u001b[1;31m#인덱스 수에 하나를 추가해서 원 핫 인코딩 배열 생성\u001b[0m\u001b[1;33m\u001b[0m\u001b[1;33m\u001b[0m\u001b[1;33m\u001b[0m\u001b[0m\n\u001b[0;32m      4\u001b[0m \u001b[1;33m\u001b[0m\u001b[0m\n\u001b[1;32m----> 5\u001b[1;33m \u001b[0mword_sixe\u001b[0m\u001b[1;33m=\u001b[0m \u001b[0mlen\u001b[0m\u001b[1;33m(\u001b[0m\u001b[0mx\u001b[0m\u001b[1;33m.\u001b[0m\u001b[0mword_index\u001b[0m\u001b[1;33m)\u001b[0m\u001b[1;33m+\u001b[0m\u001b[1;36m1\u001b[0m\u001b[1;33m\u001b[0m\u001b[1;33m\u001b[0m\u001b[0m\n\u001b[0m\u001b[0;32m      6\u001b[0m \u001b[0mx\u001b[0m\u001b[1;33m=\u001b[0m \u001b[0mto_categorical\u001b[0m\u001b[1;33m(\u001b[0m\u001b[0mx\u001b[0m\u001b[1;33m,\u001b[0m \u001b[0mnum_classes\u001b[0m\u001b[1;33m=\u001b[0m\u001b[0mword_size\u001b[0m\u001b[1;33m)\u001b[0m\u001b[1;33m\u001b[0m\u001b[1;33m\u001b[0m\u001b[0m\n\u001b[0;32m      7\u001b[0m \u001b[1;33m\u001b[0m\u001b[0m\n",
      "\u001b[1;31mAttributeError\u001b[0m: 'list' object has no attribute 'word_index'"
     ]
    }
   ],
   "source": [
    "#단어의 원핫 인코딩\n",
    "from tensorflow.keras.utils import to_categorical\n",
    "#인덱스 수에 하나를 추가해서 원 핫 인코딩 배열 생성\n",
    "\n",
    "word_sixe= len(t.word_index)+1\n",
    "x= to_categorical(x, num_classes=word_size)\n",
    "\n",
    "print(x)"
   ]
  },
  {
   "cell_type": "code",
   "execution_count": 21,
   "id": "a8ab2a95",
   "metadata": {},
   "outputs": [
    {
     "name": "stdout",
     "output_type": "stream",
     "text": [
      "\n"
     ]
    }
   ],
   "source": [
    "#단어 임베딩\n",
    "\"\"\"\n",
    "원-핫 인코딩을 그대로 사용하면 벡터의 길이가 너무 길어진다는 단점이 있음\n",
    "공간적 낭비를 해결하기 위해 등장한 것이 단어 임베딩(word embedding)이라는 방법\n",
    "단어 임베딩은 주어진 배열을 정해진 길이로 압축시킴\n",
    "\n",
    "단어 임베딩으로 얻은 결과가 밀집된 정보를 가지고 있고 \n",
    "공간의 낭비가 적다는 것을 알 수 있음\n",
    "이런 결과가 가능한 이유는 각 단어 간의 유사도를 계산했기 때문임\n",
    "\n",
    "단어간 유사도 계산은 오차 역전파가 또 다시 등장\n",
    "적절한 크기로 배열을 바꾸어 주기 위해 최적의 유사도를 계산하는 학습 과정을 거치는 것\n",
    "이 과정은 케라스에서 제공하는 Embedding( ) 함수를 사용하면 간단히 해낼 수 있음\n",
    "\"\"\"\n",
    "print('')"
   ]
  },
  {
   "cell_type": "code",
   "execution_count": null,
   "id": "8a09cea3",
   "metadata": {},
   "outputs": [],
   "source": [
    "from keras.layers import Embedding\n",
    "\n",
    "model = Sequential()\n",
    "model.add(Embedding(16,4))\n",
    "\n",
    "#Embedding(16,4)가 의미하는 바는 입력될 총 단어 수는 16,\n",
    "#임베딩 후 출력되는 벡터 크기는 4로 하겠다는 뜻\n"
   ]
  },
  {
   "cell_type": "code",
   "execution_count": 47,
   "id": "61b8da0b",
   "metadata": {},
   "outputs": [],
   "source": [
    "#짧은 리뷰 10개를 불러와 각각 긍정이면 1이라는 클래스를 부정적이면 0이라는 클래스로 지정\n",
    "\n",
    "#텍스트 리뷰 자료 지정\n",
    "docs=['너무 재밌네요',' 최고에요', '참 잘 만든 영화에요', '추천하고 싶은 영화입니다', '한 번 더 보고싶네요', '글쎄요', '별로에요', '생각보다 지루하네요', '연기가 어색해요', '재미없어요']\n",
    "\n",
    "#긍정리뷰는 1, 부정리뷰는 0으로 클래스 지정\n",
    "classes = array([1,1,1,1,1,0,0,0,0,0])\n",
    "\n",
    "#???"
   ]
  },
  {
   "cell_type": "code",
   "execution_count": 23,
   "id": "47a378bd",
   "metadata": {},
   "outputs": [
    {
     "name": "stdout",
     "output_type": "stream",
     "text": [
      "{'텍스트의': 1, '딥러닝에서': 2, '먼저': 3, '각': 4, '단어를': 5, '나누어': 6, '토큰화합니다': 7, '단어로': 8, '토큰화해야': 9, '인식됩니다': 10, '토큰화한': 11, '결과는': 12, '사용할': 13, '수': 14, '있습니다': 15}\n"
     ]
    }
   ],
   "source": [
    "#케라스에서 제공하는 Tokenizer( ) 함수의 fit_on_text를 이용해 \n",
    "#각 단어를 하나의 토큰으로 변환함\n",
    "\n",
    "#토큰화\n",
    "token=Tokenizer()\n",
    "token.fit_on_texts(docs)\n",
    "print(token.word_index)\n",
    "\n",
    "#???"
   ]
  },
  {
   "cell_type": "code",
   "execution_count": 24,
   "id": "4e83f74a",
   "metadata": {
    "scrolled": true
   },
   "outputs": [
    {
     "name": "stdout",
     "output_type": "stream",
     "text": [
      "[[3, 1, 4, 5, 6, 7], [1, 8, 9, 2, 10], [11, 12, 2, 13, 14, 15]]\n"
     ]
    }
   ],
   "source": [
    "#토큰에 지정된 인덱스로 새로운 배열 생성\n",
    "x= token.texts_to_sequences(docs)\n",
    "print(x)\n",
    "\n",
    "#???"
   ]
  },
  {
   "cell_type": "code",
   "execution_count": null,
   "id": "c92d1286",
   "metadata": {},
   "outputs": [],
   "source": [
    "#패딩\n",
    "\"\"\"\n",
    "패딩( padding) 과정 :\n",
    "     길이를 똑같이 맞춰 주는 작업\n",
    "패딩은 자연어 처리뿐 아니라 GAN에서도 중요한 역할을 함\n",
    "패딩 작업을 위해 케라스는 pad_sequence( ) 함수를 제공함\n",
    "pad_sequnce( ) 함수를 사용하면 원하는 길이보다 짧은 부분은 숫자 0을 넣어서 채워주고, 긴 데이터는 잘라서 같은 길이로 맞춤\n",
    "\"\"\"\n",
    "padded_x = pad_sequnces(x,4) #서로다른 길이의 데이터를 4로 맞추기\n",
    "print(padded_x)"
   ]
  },
  {
   "cell_type": "code",
   "execution_count": null,
   "id": "7d81aeac",
   "metadata": {},
   "outputs": [],
   "source": [
    "\"\"\"\n",
    "임베딩 함수에 필요한 세 가지 파라미터는 ‘입력, 출력, 단어 수’임\n",
    "총 몇 개의 단어 집합에서(입력), 몇 개의 임베딩 결과를 사용할 것인지(출력), 그리고 매번 입력될 단어 수는 몇 개로 할지(단어 수)를 정해야 하는 것\n",
    "\n",
    "\"\"\"\n",
    "\n",
    "\"\"\"\n",
    "먼저 총 몇 개의 인덱스가 ‘입력’되어야 하는지를 정함\n",
    "word_size라는 변수를 만든 뒤, 길이를 세는 len( ) 함수를 이용해 word_index 값을 앞서 만든 변수에 대입함\n",
    "이때 전체 단어의 맨 앞에 0이 먼저 나와야 하므로 총 단어 수에 1을 더하는 것을 잊지 마시기 바람\n",
    "#???\n",
    "\n",
    "\"\"\"\n",
    "\n",
    "\"\"\"\n",
    "몇 개의 임베딩 결과를 사용할 것인지, 즉 ‘출력’을 정할 차례임\n",
    "word_size만큼의 입력 값을 이용해 8개의 임베딩 결과를 만듦\n",
    "여기서 8이라는 숫자는 임의로 정한 것\n",
    "데이터에 따라 적절한 값으로 바꿀 수 있음\n",
    "이때 만들어진 8개의 임베딩 결과는 우리 눈에 보이지 않음\n",
    "내부에서 계산하여 딥러닝의 레이어로 활용됨\n",
    "\n",
    "\"\"\"\n",
    "\n",
    "\"\"\"\n",
    "끝으로 매번 입력될 ‘단어 수’를 정함\n",
    "패딩 과정을 거쳐 4개의 길이로 맞춰 주었으므로 4개의 단어가 들어가게 설정하면 임베딩 과정은 다음 한 줄로 표현됨\n",
    "\n",
    "\"\"\"\n",
    "\n",
    "Embedding(word_size, 8, input_length=4)"
   ]
  },
  {
   "cell_type": "code",
   "execution_count": null,
   "id": "a263aa60",
   "metadata": {},
   "outputs": [],
   "source": [
    "#단어 임베딩을 포함하여 딥러닝 모델을 만들고 결과를 출력\n",
    "model = Sequential()\n",
    "model.add(Embedding(word_size, 8, input_length=4))\n",
    "model.add(Flatten())\n",
    "#긍정 혹은 부정 출력이므로 1\n",
    "model.add(Dense(1, activation='sigmoid'))\n",
    "model.compile(optimizer='adam', loss='binary_crossentropy', metrics=['accuracy'])\n",
    "model.fit(padded_x, labels, epochs=20)\n",
    "print('Accuracy:%.4f' % (model.evaluate(padded_x, labels)[1]))\n",
    "\n"
   ]
  },
  {
   "cell_type": "code",
   "execution_count": 34,
   "id": "c68b13f1",
   "metadata": {},
   "outputs": [
    {
     "name": "stdout",
     "output_type": "stream",
     "text": [
      "{'너무': 1, '재밌네요': 2, '최고에요': 3, '참': 4, '잘': 5, '만든': 6, '영화에요': 7, '추천하고': 8, '싶은': 9, '영화입니다': 10, '한': 11, '번': 12, '더': 13, '보고싶네요': 14, '글쎄요': 15, '별로에요': 16, '생각보다': 17, '지루하네요': 18, '연기가': 19, '어색해요': 20, '재미없어요': 21}\n",
      "패딩결과 [[ 4  5  6  7]\n",
      " [ 8  9  2 10]\n",
      " [ 2 13 14 15]]\n"
     ]
    },
    {
     "ename": "NameError",
     "evalue": "name 'labels' is not defined",
     "output_type": "error",
     "traceback": [
      "\u001b[1;31m---------------------------------------------------------------------------\u001b[0m",
      "\u001b[1;31mNameError\u001b[0m                                 Traceback (most recent call last)",
      "\u001b[1;32m~\\AppData\\Local\\Temp/ipykernel_25136/964495089.py\u001b[0m in \u001b[0;36m<module>\u001b[1;34m\u001b[0m\n\u001b[0;32m     34\u001b[0m \u001b[0mmodel\u001b[0m\u001b[1;33m.\u001b[0m\u001b[0madd\u001b[0m\u001b[1;33m(\u001b[0m\u001b[0mDense\u001b[0m\u001b[1;33m(\u001b[0m\u001b[1;36m1\u001b[0m\u001b[1;33m,\u001b[0m \u001b[0mactivation\u001b[0m\u001b[1;33m=\u001b[0m\u001b[1;34m'sigmoid'\u001b[0m\u001b[1;33m)\u001b[0m\u001b[1;33m)\u001b[0m\u001b[1;33m\u001b[0m\u001b[1;33m\u001b[0m\u001b[0m\n\u001b[0;32m     35\u001b[0m \u001b[0mmodel\u001b[0m\u001b[1;33m.\u001b[0m\u001b[0mcompile\u001b[0m\u001b[1;33m(\u001b[0m\u001b[0moptimizer\u001b[0m\u001b[1;33m=\u001b[0m\u001b[1;34m'adam'\u001b[0m\u001b[1;33m,\u001b[0m \u001b[0mloss\u001b[0m\u001b[1;33m=\u001b[0m\u001b[1;34m'binary_crossentropy'\u001b[0m\u001b[1;33m,\u001b[0m \u001b[0mmetrics\u001b[0m\u001b[1;33m=\u001b[0m\u001b[1;33m[\u001b[0m\u001b[1;34m'accuracy'\u001b[0m\u001b[1;33m]\u001b[0m\u001b[1;33m)\u001b[0m\u001b[1;33m\u001b[0m\u001b[1;33m\u001b[0m\u001b[0m\n\u001b[1;32m---> 36\u001b[1;33m \u001b[0mmodel\u001b[0m\u001b[1;33m.\u001b[0m\u001b[0mfit\u001b[0m\u001b[1;33m(\u001b[0m\u001b[0mpadded_x\u001b[0m\u001b[1;33m,\u001b[0m \u001b[0mlabels\u001b[0m\u001b[1;33m,\u001b[0m \u001b[0mepochs\u001b[0m\u001b[1;33m=\u001b[0m\u001b[1;36m20\u001b[0m\u001b[1;33m)\u001b[0m\u001b[1;33m\u001b[0m\u001b[1;33m\u001b[0m\u001b[0m\n\u001b[0m\u001b[0;32m     37\u001b[0m \u001b[0mprint\u001b[0m\u001b[1;33m(\u001b[0m\u001b[1;34m'Accuracy:%.4f'\u001b[0m \u001b[1;33m%\u001b[0m \u001b[1;33m(\u001b[0m\u001b[0mmodel\u001b[0m\u001b[1;33m.\u001b[0m\u001b[0mevaluate\u001b[0m\u001b[1;33m(\u001b[0m\u001b[0mpadded_x\u001b[0m\u001b[1;33m,\u001b[0m \u001b[0mlabels\u001b[0m\u001b[1;33m)\u001b[0m\u001b[1;33m[\u001b[0m\u001b[1;36m1\u001b[0m\u001b[1;33m]\u001b[0m\u001b[1;33m)\u001b[0m\u001b[1;33m)\u001b[0m\u001b[1;33m\u001b[0m\u001b[1;33m\u001b[0m\u001b[0m\n",
      "\u001b[1;31mNameError\u001b[0m: name 'labels' is not defined"
     ]
    }
   ],
   "source": [
    "#영화리뷰가 긍정적인지 부정적인지 예측하기\n",
    "import numpy\n",
    "import tensorflow as tf\n",
    "from numpy import array\n",
    "from tensorflow.keras.preprocessing.text import Tokenizer\n",
    "from tensorflow.keras.preprocessing.sequence import pad_sequences\n",
    "from tensorflow.keras.models import Sequential\n",
    "from tensorflow.keras.layers import Dense, Flatten, Embedding\n",
    "\n",
    "#짧은 리뷰 10개를 불러와 각각 긍정이면 1이라는 클래스를 부정적이면 0이라는 클래스로 지정\n",
    "\n",
    "#텍스트 리뷰 자료 지정\n",
    "docs=['너무 재밌네요',' 최고에요', '참 잘 만든 영화에요', '추천하고 싶은 영화입니다', '한 번 더 보고싶네요', '글쎄요', '별로에요', '생각보다 지루하네요', '연기가 어색해요', '재미없어요']\n",
    "\n",
    "#긍정리뷰는 1, 부정리뷰는 0으로 클래스 지정\n",
    "classes = array([1,1,1,1,1,0,0,0,0,0])\n",
    "\n",
    "#토큰화\n",
    "token=Tokenizer()\n",
    "token.fit_on_texts(docs)\n",
    "print(token.word_index)\n",
    "\n",
    "padded_x = pad_sequences(x,4) #서로다른 길이의 데이터를 4로 맞추기\n",
    "print('패딩결과',padded_x)\n",
    "\n",
    "#임베딩에 입력될 단어 수 지정\n",
    "word_size = len(token.word_index)+1\n",
    "\n",
    "#단어 임베딩을 포함하여 딥러닝 모델을 만들고 결과 출력\n",
    "model = Sequential()\n",
    "model.add(Embedding(word_size, 8, input_length=4))\n",
    "model.add(Flatten())\n",
    "\n",
    "model.add(Dense(1, activation='sigmoid'))\n",
    "model.compile(optimizer='adam', loss='binary_crossentropy', metrics=['accuracy'])\n",
    "model.fit(padded_x, labels, epochs=20)\n",
    "print('Accuracy:%.4f' % (model.evaluate(padded_x, labels)[1]))"
   ]
  },
  {
   "cell_type": "code",
   "execution_count": 35,
   "id": "1d8877fa",
   "metadata": {},
   "outputs": [
    {
     "name": "stdout",
     "output_type": "stream",
     "text": [
      "{'너무': 1, '재밌네요': 2, '최고예요': 3, '참': 4, '잘': 5, '만든': 6, '영화예요': 7, '추천하고': 8, '싶은': 9, '영화입니다': 10, '한번': 11, '더': 12, '보고싶네요': 13, '글쎄요': 14, '별로예요': 15, '생각보다': 16, '지루하네요': 17, '연기가': 18, '어색해요': 19, '재미없어요': 20}\n",
      "[[ 4  5  6  7]\n",
      " [ 8  9  2 10]\n",
      " [ 2 13 14 15]]\n"
     ]
    },
    {
     "ename": "NameError",
     "evalue": "name 'labels' is not defined",
     "output_type": "error",
     "traceback": [
      "\u001b[1;31m---------------------------------------------------------------------------\u001b[0m",
      "\u001b[1;31mNameError\u001b[0m                                 Traceback (most recent call last)",
      "\u001b[1;32m~\\AppData\\Local\\Temp/ipykernel_25136/1609954422.py\u001b[0m in \u001b[0;36m<module>\u001b[1;34m\u001b[0m\n\u001b[0;32m     31\u001b[0m \u001b[0mmodel\u001b[0m\u001b[1;33m.\u001b[0m\u001b[0madd\u001b[0m\u001b[1;33m(\u001b[0m\u001b[0mDense\u001b[0m\u001b[1;33m(\u001b[0m\u001b[1;36m1\u001b[0m\u001b[1;33m,\u001b[0m \u001b[0mactivation\u001b[0m\u001b[1;33m=\u001b[0m\u001b[1;34m'sigmoid'\u001b[0m\u001b[1;33m)\u001b[0m\u001b[1;33m)\u001b[0m\u001b[1;33m\u001b[0m\u001b[1;33m\u001b[0m\u001b[0m\n\u001b[0;32m     32\u001b[0m \u001b[0mmodel\u001b[0m\u001b[1;33m.\u001b[0m\u001b[0mcompile\u001b[0m\u001b[1;33m(\u001b[0m\u001b[0moptimizer\u001b[0m\u001b[1;33m=\u001b[0m\u001b[1;34m'adam'\u001b[0m\u001b[1;33m,\u001b[0m \u001b[0mloss\u001b[0m\u001b[1;33m=\u001b[0m\u001b[1;34m'binary_crossentropy'\u001b[0m\u001b[1;33m,\u001b[0m \u001b[0mmetrics\u001b[0m\u001b[1;33m=\u001b[0m\u001b[1;33m[\u001b[0m\u001b[1;34m'accuracy'\u001b[0m\u001b[1;33m]\u001b[0m\u001b[1;33m)\u001b[0m\u001b[1;33m\u001b[0m\u001b[1;33m\u001b[0m\u001b[0m\n\u001b[1;32m---> 33\u001b[1;33m \u001b[0mmodel\u001b[0m\u001b[1;33m.\u001b[0m\u001b[0mfit\u001b[0m\u001b[1;33m(\u001b[0m\u001b[0mpadded_x\u001b[0m\u001b[1;33m,\u001b[0m \u001b[0mlabels\u001b[0m\u001b[1;33m,\u001b[0m \u001b[0mepochs\u001b[0m\u001b[1;33m=\u001b[0m\u001b[1;36m20\u001b[0m\u001b[1;33m)\u001b[0m\u001b[1;33m\u001b[0m\u001b[1;33m\u001b[0m\u001b[0m\n\u001b[0m\u001b[0;32m     34\u001b[0m \u001b[1;33m\u001b[0m\u001b[0m\n\u001b[0;32m     35\u001b[0m \u001b[0mprint\u001b[0m\u001b[1;33m(\u001b[0m\u001b[1;34m\"\\n Accuracy: %.4f\"\u001b[0m \u001b[1;33m%\u001b[0m \u001b[1;33m(\u001b[0m\u001b[0mmodel\u001b[0m\u001b[1;33m.\u001b[0m\u001b[0mevaluate\u001b[0m\u001b[1;33m(\u001b[0m\u001b[0mpadded_x\u001b[0m\u001b[1;33m,\u001b[0m \u001b[0mclasses\u001b[0m\u001b[1;33m)\u001b[0m\u001b[1;33m[\u001b[0m\u001b[1;36m1\u001b[0m\u001b[1;33m]\u001b[0m\u001b[1;33m)\u001b[0m\u001b[1;33m)\u001b[0m\u001b[1;33m\u001b[0m\u001b[1;33m\u001b[0m\u001b[0m\n",
      "\u001b[1;31mNameError\u001b[0m: name 'labels' is not defined"
     ]
    }
   ],
   "source": [
    "import numpy\n",
    "import tensorflow as tf\n",
    "from numpy import array\n",
    "from tensorflow.keras.preprocessing.text import Tokenizer\n",
    "from tensorflow.keras.preprocessing.sequence import pad_sequences\n",
    "from tensorflow.keras.models import Sequential\n",
    "from tensorflow.keras.layers import Dense,Flatten,Embedding\n",
    "  \n",
    "# 텍스트 리뷰 자료 지정\n",
    "docs = ['너무 재밌네요','최고예요','참 잘 만든 영화예요','추천하고 싶은 영화입니다.','한번 더 보고싶네요','글쎄요','별로예요','생각보다 지루하네요','연기가 어색해요','재미없어요']\n",
    "  \n",
    "# 긍정 리뷰는 1, 부정 리뷰는 0으로 클래스 지정\n",
    "classes = array([1,1,1,1,1,0,0,0,0,0])\n",
    "  \n",
    "# 토큰화 \n",
    "token = Tokenizer()\n",
    "token.fit_on_texts(docs)\n",
    "print(token.word_index)\n",
    "  \n",
    "# 패딩, 서로 다른 길이의 데이터를 4로 맞춤\n",
    "padded_x = pad_sequences(x, 4)  \n",
    "\"\\n패딩 결과\\n\", print(padded_x)\n",
    "  \n",
    "# 임베딩에 입력될 단어 수 지정\n",
    "word_size = len(token.word_index)+1\n",
    "  \n",
    "# 단어 임베딩을 포함하여 딥러닝 모델을 만들고 결과 출력\n",
    "model = Sequential()\n",
    "model.add(Embedding(word_size, 8, input_length=4))\n",
    "model.add(Flatten())\n",
    "model.add(Dense(1, activation='sigmoid'))\n",
    "model.compile(optimizer='adam', loss='binary_crossentropy', metrics=['accuracy'])\n",
    "model.fit(padded_x, labels, epochs=20)\n",
    " \n",
    "print(\"\\n Accuracy: %.4f\" % (model.evaluate(padded_x, classes)[1]))"
   ]
  },
  {
   "cell_type": "code",
   "execution_count": 37,
   "id": "7be3e740",
   "metadata": {
    "scrolled": true
   },
   "outputs": [
    {
     "name": "stdout",
     "output_type": "stream",
     "text": [
      "46 카테고리\n",
      "8982 학습용 뉴스 기사\n",
      "2246 테스트용 뉴스 기사\n",
      "[1, 2, 2, 8, 43, 10, 447, 5, 25, 207, 270, 5, 2, 111, 16, 369, 186, 90, 67, 7, 89, 5, 19, 102, 6, 19, 124, 15, 90, 67, 84, 22, 482, 26, 7, 48, 4, 49, 8, 864, 39, 209, 154, 6, 151, 6, 83, 11, 15, 22, 155, 11, 15, 7, 48, 9, 2, 2, 504, 6, 258, 6, 272, 11, 15, 22, 134, 44, 11, 15, 16, 8, 197, 2, 90, 67, 52, 29, 209, 30, 32, 132, 6, 109, 15, 17, 12]\n"
     ]
    }
   ],
   "source": [
    "#LSTM을 이용한 로이터 뉴스 카테고리 분류하기\n",
    "from keras.datasets import reuters\n",
    "\n",
    "#불러온 데이터를 학습셋과 테스트 셋으로 나누기\n",
    "(X_train, Y_train), (X_test, Y_test) = reuters.load_data(num_words=1000, test_split=0.2)\n",
    "\n",
    "#데이터 확인 후 출력\n",
    "category = numpy.max(Y_train)+1\n",
    "\n",
    "print(category, '카테고리')\n",
    "print(len(X_train), '학습용 뉴스 기사')\n",
    "print(len(X_test),'테스트용 뉴스 기사')\n",
    "print(X_train[0])"
   ]
  },
  {
   "cell_type": "code",
   "execution_count": null,
   "id": "c815d451",
   "metadata": {},
   "outputs": [],
   "source": [
    "\"\"\"\n",
    "딥러닝은 단어를 그대로 사용하지 않고 숫자로 변환한 다음 학습할 수 있음\n",
    "여기서는 데이터 안에서 해당 단어가 몇 번이나 나타나는지 세어 빈도에 따라 번호를 붙임\n",
    "이러한 작업을 위해서 tokenizer( ) 같은 함수를 사용하는데, 케라스는 이 작업을 이미 마친 데이터를 불러올 수 있음\n",
    "#중요\n",
    "모든 단어를 다 사용하는 것은 비효율적이므로 빈도가 높은 단어만 불러와 사용함\n",
    "\n",
    "사용하는 인자가 바로 테스트셋과 학습셋으로 나눌 때 함께 적용했던 num_word=1000의 의미\n",
    ">>>빈도가 1~1,000에 해당하는 단어만 선택해서 불러오는 것\n",
    "\"\"\""
   ]
  },
  {
   "cell_type": "code",
   "execution_count": null,
   "id": "61c6f2d0",
   "metadata": {},
   "outputs": [],
   "source": [
    "#또 하나 주의해야 할 점은 각 기사의 단어 수가 제각각 다르므로 이를 동일하게맞춰야 한다는 것\n",
    "from keras.preprocessing import sequence\n",
    "\n",
    "#데이터 전처리\n",
    "x_train = sequence.pad_sequences(X_train, maxlen=100)\n",
    "x_test = sequence.pad_sequences(X_test, maxlen=100)\n",
    "\n",
    "\"\"\"\n",
    "여기서 maxlen=100은 단어 수를 100개로 맞추라는 뜻임\n",
    "만일 입력된 기사의 단어 수가 100보다 크면 100개째 단어만 선택하고 나머지는 버림\n",
    "100에서 모자랄 때는 모자라는 부분을 모두 0으로 채움\n",
    "이제 y 데이터에 원-핫 인코딩 처리를 하여 데이터 전처리 과정을 마침\n",
    "\"\"\"\n",
    "y_train = np_utils.to_categorical(Y_train)\n",
    "y_test = np_utils.to_categorical(Y_test)"
   ]
  },
  {
   "cell_type": "code",
   "execution_count": null,
   "id": "b2ec8852",
   "metadata": {},
   "outputs": [],
   "source": [
    "#데이터 전처리 과정이 끝났으므로 딥러닝의 구조를 만듦\n",
    "model = Sequential()\n",
    "model.add(Embedding(1000,100))\n",
    "model.add(LSTM(100, activation='tanh'))\n",
    "model.add(Dense(46, activation='softmax'))\n",
    "\"\"\"\n",
    "Embedding\n",
    "데이터 전처리 과정을 통해 입력된 값을 받아 다음 층이 알아들을 수 있는 형태로 변환하는 역할을 함\n",
    "Embedding('불러온 단어의 총 개수', '기사당 단어 수') 형식으로 사용하며, 모델 설정 부분의 맨 처음에 있어야 함\n",
    "\n",
    "LSTM\n",
    "RNN에서 기억 값에 대한 가중치를 제어하며, LSTM(기사당 단어 수, 기타 옵션)의 형식으로 적용됨\n",
    "LSTM의 활성화 함수로는 tanh를 사용함\n",
    "\"\"\""
   ]
  },
  {
   "cell_type": "code",
   "execution_count": null,
   "id": "040732ef",
   "metadata": {},
   "outputs": [],
   "source": [
    "#컴파일, 실행 및 정확도를 측정해보기\n",
    "\n",
    "#모델의 컴파일\n",
    "model.compile(loss='categorical_crossentropy', optimizer='adam', metrics=['accuracy'])\n",
    "\n",
    "#모델의 실행\n",
    "history = model.fit(x_train, y_train, batch_size=100, epochs=20, validation_data=(x_test, y_test))\n",
    "\n",
    "#테스트 정확도 출력\n",
    "print('test accuracy %.4f' % (model.evaluate(x_test, y_test)[1]))\n"
   ]
  },
  {
   "cell_type": "code",
   "execution_count": 45,
   "id": "09feb19b",
   "metadata": {
    "scrolled": true
   },
   "outputs": [
    {
     "name": "stdout",
     "output_type": "stream",
     "text": [
      "46 카테고리\n",
      "8982 학습용 뉴스 기사\n",
      "2246 테스트용 뉴스 기사\n",
      "[1, 2, 2, 8, 43, 10, 447, 5, 25, 207, 270, 5, 2, 111, 16, 369, 186, 90, 67, 7, 89, 5, 19, 102, 6, 19, 124, 15, 90, 67, 84, 22, 482, 26, 7, 48, 4, 49, 8, 864, 39, 209, 154, 6, 151, 6, 83, 11, 15, 22, 155, 11, 15, 7, 48, 9, 2, 2, 504, 6, 258, 6, 272, 11, 15, 22, 134, 44, 11, 15, 16, 8, 197, 2, 90, 67, 52, 29, 209, 30, 32, 132, 6, 109, 15, 17, 12]\n",
      "Epoch 1/20\n",
      "90/90 [==============================] - 19s 184ms/step - loss: 2.5777 - accuracy: 0.3497 - val_loss: 2.1698 - val_accuracy: 0.4488\n",
      "Epoch 2/20\n",
      "90/90 [==============================] - 18s 206ms/step - loss: 2.0353 - accuracy: 0.4901 - val_loss: 1.9301 - val_accuracy: 0.5120\n",
      "Epoch 3/20\n",
      "90/90 [==============================] - 18s 200ms/step - loss: 1.9073 - accuracy: 0.5066 - val_loss: 1.8073 - val_accuracy: 0.5503\n",
      "Epoch 4/20\n",
      "90/90 [==============================] - 22s 244ms/step - loss: 1.7661 - accuracy: 0.5445 - val_loss: 1.7396 - val_accuracy: 0.5557\n",
      "Epoch 5/20\n",
      "90/90 [==============================] - 19s 215ms/step - loss: 1.6994 - accuracy: 0.5617 - val_loss: 1.6931 - val_accuracy: 0.5672\n",
      "Epoch 6/20\n",
      "90/90 [==============================] - 16s 182ms/step - loss: 1.6247 - accuracy: 0.5826 - val_loss: 1.6604 - val_accuracy: 0.5824\n",
      "Epoch 7/20\n",
      "90/90 [==============================] - 20s 218ms/step - loss: 1.5499 - accuracy: 0.6126 - val_loss: 1.5656 - val_accuracy: 0.6131ss: 1.5550 - accu\n",
      "Epoch 8/20\n",
      "90/90 [==============================] - 21s 231ms/step - loss: 1.4445 - accuracy: 0.6404 - val_loss: 1.4991 - val_accuracy: 0.6331\n",
      "Epoch 9/20\n",
      "90/90 [==============================] - 18s 198ms/step - loss: 1.3320 - accuracy: 0.6659 - val_loss: 1.4288 - val_accuracy: 0.6465\n",
      "Epoch 10/20\n",
      "90/90 [==============================] - 18s 195ms/step - loss: 1.2304 - accuracy: 0.6890 - val_loss: 1.3807 - val_accuracy: 0.6451\n",
      "Epoch 11/20\n",
      "90/90 [==============================] - 17s 184ms/step - loss: 1.1654 - accuracy: 0.6997 - val_loss: 1.3769 - val_accuracy: 0.6647\n",
      "Epoch 12/20\n",
      "90/90 [==============================] - 18s 201ms/step - loss: 1.1181 - accuracy: 0.7163 - val_loss: 1.3131 - val_accuracy: 0.6754\n",
      "Epoch 13/20\n",
      "90/90 [==============================] - 17s 187ms/step - loss: 1.0523 - accuracy: 0.7306 - val_loss: 1.2648 - val_accuracy: 0.6799\n",
      "Epoch 14/20\n",
      "90/90 [==============================] - 18s 198ms/step - loss: 0.9992 - accuracy: 0.7454 - val_loss: 1.2437 - val_accuracy: 0.6906\n",
      "Epoch 15/20\n",
      "90/90 [==============================] - 19s 213ms/step - loss: 0.9507 - accuracy: 0.7558 - val_loss: 1.2481 - val_accuracy: 0.7012\n",
      "Epoch 16/20\n",
      "90/90 [==============================] - 17s 191ms/step - loss: 0.9322 - accuracy: 0.7620 - val_loss: 1.2208 - val_accuracy: 0.6972\n",
      "Epoch 17/20\n",
      "90/90 [==============================] - 21s 228ms/step - loss: 0.8954 - accuracy: 0.7688 - val_loss: 1.2239 - val_accuracy: 0.7053\n",
      "Epoch 18/20\n",
      "90/90 [==============================] - 18s 201ms/step - loss: 0.8480 - accuracy: 0.7835 - val_loss: 1.2083 - val_accuracy: 0.7066\n",
      "Epoch 19/20\n",
      "90/90 [==============================] - 19s 207ms/step - loss: 0.8156 - accuracy: 0.7908 - val_loss: 1.2293 - val_accuracy: 0.7030\n",
      "Epoch 20/20\n",
      "90/90 [==============================] - 19s 210ms/step - loss: 0.7720 - accuracy: 0.8043 - val_loss: 1.2409 - val_accuracy: 0.7053\n",
      "71/71 [==============================] - 2s 31ms/step - loss: 1.2409 - accuracy: 0.7053 0s - loss: 1.2146 - accuracy\n",
      "test accuracy 0.7053\n"
     ]
    },
    {
     "data": {
      "image/png": "[encoded data removed]",
      "text/plain": [
       "<Figure size 432x288 with 1 Axes>"
      ]
     },
     "metadata": {
      "needs_background": "light"
     },
     "output_type": "display_data"
    }
   ],
   "source": [
    "from keras.datasets import reuters\n",
    "from keras.models import Sequential\n",
    "from keras.layers import Dense, LSTM, Embedding\n",
    "from keras.preprocessing import sequence\n",
    "from keras.utils import np_utils\n",
    "\n",
    "import numpy \n",
    "import tensorflow as tf\n",
    "import matplotlib.pyplot as plt\n",
    "\n",
    "#seed 값 설정\n",
    "seed=0\n",
    "numpy.random.seed(seed)\n",
    "tf.random.set_seed(3)\n",
    "\n",
    "#불러온 데이터를 학습셋과 테스트 셋으로 나누기\n",
    "(X_train, Y_train), (X_test, Y_test) = reuters.load_data(num_words=1000, test_split=0.2)\n",
    "\n",
    "#데이터 확인하기\n",
    "category = numpy.max(Y_train)+1\n",
    "\n",
    "print(category, '카테고리')\n",
    "print(len(X_train), '학습용 뉴스 기사')\n",
    "print(len(X_test),'테스트용 뉴스 기사')\n",
    "print(X_train[0])\n",
    "\n",
    "#데이터 전처리\n",
    "x_train = sequence.pad_sequences(X_train, maxlen=100)\n",
    "x_test = sequence.pad_sequences(X_test, maxlen=100)\n",
    "y_train = np_utils.to_categorical(Y_train)\n",
    "y_test = np_utils.to_categorical(Y_test)\n",
    "\n",
    "#모델의 설정\n",
    "model = Sequential()\n",
    "model.add(Embedding(1000,100))\n",
    "model.add(LSTM(100, activation='tanh'))\n",
    "model.add(Dense(46, activation='softmax'))\n",
    "\n",
    "#모델의 컴파일\n",
    "model.compile(loss='categorical_crossentropy', optimizer='adam', metrics=['accuracy'])\n",
    "\n",
    "#모델의 실행\n",
    "history = model.fit(x_train, y_train, batch_size=100, epochs=20, validation_data=(x_test, y_test))\n",
    "\n",
    "#테스트 정확도 출력\n",
    "print('test accuracy %.4f' % (model.evaluate(x_test, y_test)[1]))\n",
    "\n",
    "#테스트 셋의 오차\n",
    "y_vloss = history.history['val_loss']\n",
    "\n",
    "#학습셋의 오차\n",
    "y_loss = history.history['loss']\n",
    "\n",
    "#그래프로 표현\n",
    "x_len = numpy.arange(len(y_loss))\n",
    "plt.plot(x_len, y_vloss, marker='.', c='red', label='Testset_loss')\n",
    "plt.plot(x_len, y_loss, marker='.', c='blue', label='Trainset_loss')\n",
    "\n",
    "#그래프에 그리드를 추가하고 레이블 표시\n",
    "plt.legend(loc='upper right')\n",
    "plt.grid()\n",
    "plt.xlabel('epoch')\n",
    "plt.ylabel('loss')\n",
    "plt.show()"
   ]
  },
  {
   "cell_type": "code",
   "execution_count": 46,
   "id": "7d62c47b",
   "metadata": {},
   "outputs": [
    {
     "name": "stdout",
     "output_type": "stream",
     "text": [
      "1.19.5\n"
     ]
    }
   ],
   "source": [
    "import numpy\n",
    "print(numpy.__version__)\n",
    "\n",
    "#numpy가 1.19버전대가 아니면 위의 코드 오류남"
   ]
  },
  {
   "cell_type": "code",
   "execution_count": null,
   "id": "8ead0c25",
   "metadata": {},
   "outputs": [],
   "source": [
    "#LSTM과 CNN의 조합을 이용한 영화 리뷰 분류하기\n",
    "\"\"\"\n",
    "이번에 사용할 인터넷 영화 데이터베이스(Internet Movie Database, IMDB)는 영화와 \n",
    "관련된 정보와 출연진 정보, 개봉 정보, 영화 후기, 평점에 이르기까지\n",
    "매우 폭넓은 데이터가 저장된 자료임\n",
    "\n",
    "로이터 뉴스 데이터와 마찬가지로 각 단어에 대한 전처리를 마친 상태임\n",
    "데이터셋에서 나타나는 빈도에 따라 번호가 정해지므로 빈도가 높은\n",
    "데이터를 불러와 학습시킬 수 있음\n",
    "\"\"\""
   ]
  },
  {
   "cell_type": "code",
   "execution_count": null,
   "id": "bef8a847",
   "metadata": {},
   "outputs": [],
   "source": [
    "#데이터 전처리 과정은 로이터 뉴스 데이터와 거의 같음 \n",
    "#다만 클래스가 긍정 또는 부정 두가지 뿐이라 원 핫인코딩 과정이 없음"
   ]
  },
  {
   "cell_type": "code",
   "execution_count": null,
   "id": "d9430541",
   "metadata": {},
   "outputs": [],
   "source": [
    "#마지막에 model.summary( ) 함수를 넣으면 현재 설정된 모델의 구조를 한눈에 볼 수 있음\n",
    "\n",
    "#Conv1D는 Conv2D의 개념을 1차원으로 옮긴 것\n",
    "#컨볼루션 층이 1차원이고 이동하는 배열도 1차임\n"
   ]
  },
  {
   "cell_type": "code",
   "execution_count": 57,
   "id": "e620cb5b",
   "metadata": {},
   "outputs": [
    {
     "name": "stdout",
     "output_type": "stream",
     "text": [
      "Model: \"sequential_10\"\n",
      "_________________________________________________________________\n",
      "Layer (type)                 Output Shape              Param #   \n",
      "=================================================================\n",
      "embedding_10 (Embedding)     (None, None, 100)         500000    \n",
      "_________________________________________________________________\n",
      "dropout_2 (Dropout)          (None, None, 100)         0         \n",
      "_________________________________________________________________\n",
      "conv1d_2 (Conv1D)            (None, None, 64)          32064     \n",
      "_________________________________________________________________\n",
      "max_pooling1d_1 (MaxPooling1 (None, None, 64)          0         \n",
      "_________________________________________________________________\n",
      "lstm_3 (LSTM)                (None, 55)                26400     \n",
      "_________________________________________________________________\n",
      "dense_8 (Dense)              (None, 1)                 56        \n",
      "_________________________________________________________________\n",
      "activation (Activation)      (None, 1)                 0         \n",
      "=================================================================\n",
      "Total params: 558,520\n",
      "Trainable params: 558,520\n",
      "Non-trainable params: 0\n",
      "_________________________________________________________________\n",
      "Epoch 1/5\n",
      "250/250 [==============================] - 33s 123ms/step - loss: 0.4484 - accuracy: 0.7738 - val_loss: 0.3673 - val_accuracy: 0.8376\n",
      "Epoch 2/5\n",
      "250/250 [==============================] - 32s 129ms/step - loss: 0.2959 - accuracy: 0.8756 - val_loss: 0.3337 - val_accuracy: 0.8556\n",
      "Epoch 3/5\n",
      "250/250 [==============================] - 30s 122ms/step - loss: 0.2534 - accuracy: 0.8942 - val_loss: 0.3250 - val_accuracy: 0.8593\n",
      "Epoch 4/5\n",
      "250/250 [==============================] - 33s 130ms/step - loss: 0.2160 - accuracy: 0.9153 - val_loss: 0.3277 - val_accuracy: 0.8556\n",
      "Epoch 5/5\n",
      "250/250 [==============================] - 33s 130ms/step - loss: 0.1798 - accuracy: 0.9326 - val_loss: 0.3504 - val_accuracy: 0.8554\n",
      "782/782 [==============================] - 8s 10ms/step - loss: 0.3504 - accuracy: 0.8554\n"
     ]
    },
    {
     "ename": "TypeError",
     "evalue": "unsupported operand type(s) for &: 'str' and 'float'",
     "output_type": "error",
     "traceback": [
      "\u001b[1;31m---------------------------------------------------------------------------\u001b[0m",
      "\u001b[1;31mTypeError\u001b[0m                                 Traceback (most recent call last)",
      "\u001b[1;32m~\\AppData\\Local\\Temp/ipykernel_25136/1573152507.py\u001b[0m in \u001b[0;36m<module>\u001b[1;34m\u001b[0m\n\u001b[0;32m     42\u001b[0m \u001b[1;33m\u001b[0m\u001b[0m\n\u001b[0;32m     43\u001b[0m \u001b[1;31m#테스트 정확도 출력\u001b[0m\u001b[1;33m\u001b[0m\u001b[1;33m\u001b[0m\u001b[1;33m\u001b[0m\u001b[0m\n\u001b[1;32m---> 44\u001b[1;33m \u001b[0mprint\u001b[0m\u001b[1;33m(\u001b[0m\u001b[1;34m'test accuracy: %.4f'\u001b[0m \u001b[1;33m&\u001b[0m \u001b[1;33m(\u001b[0m\u001b[0mmodel\u001b[0m\u001b[1;33m.\u001b[0m\u001b[0mevaluate\u001b[0m\u001b[1;33m(\u001b[0m\u001b[0mx_test\u001b[0m\u001b[1;33m,\u001b[0m \u001b[0my_test\u001b[0m\u001b[1;33m)\u001b[0m\u001b[1;33m[\u001b[0m\u001b[1;36m1\u001b[0m\u001b[1;33m]\u001b[0m\u001b[1;33m)\u001b[0m\u001b[1;33m)\u001b[0m\u001b[1;33m\u001b[0m\u001b[1;33m\u001b[0m\u001b[0m\n\u001b[0m\u001b[0;32m     45\u001b[0m \u001b[1;33m\u001b[0m\u001b[0m\n\u001b[0;32m     46\u001b[0m \u001b[1;31m#테스트 셋의 오차\u001b[0m\u001b[1;33m\u001b[0m\u001b[1;33m\u001b[0m\u001b[1;33m\u001b[0m\u001b[0m\n",
      "\u001b[1;31mTypeError\u001b[0m: unsupported operand type(s) for &: 'str' and 'float'"
     ]
    }
   ],
   "source": [
    "#LSTM과 CNN의 조합을 이용한 영화 리뷰 분류하기\n",
    "from keras.preprocessing import sequence\n",
    "from keras.models import Sequential\n",
    "from keras.layers import Dense, Dropout, Activation\n",
    "from keras.layers import Embedding\n",
    "from keras.layers import LSTM\n",
    "from keras.layers import Conv1D, MaxPooling1D\n",
    "from keras.datasets import imdb\n",
    "\n",
    "import numpy \n",
    "import tensorflow as tf\n",
    "import matplotlib.pyplot as plt\n",
    "\n",
    "#seed값 설정\n",
    "seed=0\n",
    "numpy.random.seed(seed)\n",
    "tf.random.set_seed(3)\n",
    "\n",
    "#학습셋과 테스트셋 지정하기\n",
    "(x_train, y_train), (x_test, y_test) = imdb.load_data(num_words=5000)\n",
    "\n",
    "#데이터 전처리\n",
    "x_train = sequence.pad_sequences(x_train, maxlen=100)\n",
    "x_test = sequence.pad_sequences(x_test,maxlen=100)\n",
    "\n",
    "#모델의 설정\n",
    "model = Sequential()\n",
    "model.add(Embedding(5000,100))\n",
    "model.add(Dropout(0.5))\n",
    "model.add(Conv1D(64, 5, padding='valid', activation='relu', strides=1))\n",
    "model.add(MaxPooling1D(pool_size=4))\n",
    "model.add(LSTM(55))\n",
    "model.add(Dense(1))\n",
    "model.add(Activation('sigmoid'))\n",
    "model.summary()\n",
    "\n",
    "#모델의 컴파일\n",
    "model.compile(loss='binary_crossentropy', optimizer='adam', metrics=['accuracy'])\n",
    "\n",
    "#모델의 실행\n",
    "history = model.fit(x_train, y_train, batch_size=100, epochs=5, validation_data=(x_test, y_test))\n",
    "\n",
    "#테스트 정확도 출력\n",
    "print('test accuracy: %.4f' & (model.evaluate(x_test, y_test)[1]))\n",
    "\n",
    "#테스트 셋의 오차\n",
    "y_vloss = history.history['val_loss']\n",
    "\n",
    "#학습셋의 오차\n",
    "y_loss = history,history['loss']\n",
    "\n",
    "#그래프로 표현\n",
    "x_len = numpy.arange(len(y_loss))\n",
    "plt.plot(x_len, y_vloss, marker='.', c='red', label='Testset_loss')\n",
    "plt.plot(x_len, y_loss, marker='.', c='blue', label='Trainset_loss')\n",
    "\n",
    "#그래프에 그리드를 주고 레이블 표시\n",
    "plt.legend(loc='upper right')\n",
    "plt.grid()\n",
    "plt.xlabel('epoch')\n",
    "plt.ylabel('loss')\n",
    "plt.show()"
   ]
  },
  {
   "cell_type": "code",
   "execution_count": 58,
   "id": "2195b859",
   "metadata": {},
   "outputs": [
    {
     "name": "stdout",
     "output_type": "stream",
     "text": [
      "Model: \"sequential_11\"\n",
      "_________________________________________________________________\n",
      "Layer (type)                 Output Shape              Param #   \n",
      "=================================================================\n",
      "embedding_11 (Embedding)     (None, None, 100)         500000    \n",
      "_________________________________________________________________\n",
      "dropout_3 (Dropout)          (None, None, 100)         0         \n",
      "_________________________________________________________________\n",
      "conv1d_3 (Conv1D)            (None, None, 64)          32064     \n",
      "_________________________________________________________________\n",
      "max_pooling1d_2 (MaxPooling1 (None, None, 64)          0         \n",
      "_________________________________________________________________\n",
      "lstm_4 (LSTM)                (None, 55)                26400     \n",
      "_________________________________________________________________\n",
      "dense_9 (Dense)              (None, 1)                 56        \n",
      "_________________________________________________________________\n",
      "activation_1 (Activation)    (None, 1)                 0         \n",
      "=================================================================\n",
      "Total params: 558,520\n",
      "Trainable params: 558,520\n",
      "Non-trainable params: 0\n",
      "_________________________________________________________________\n",
      "Epoch 1/5\n",
      "250/250 [==============================] - 32s 120ms/step - loss: 0.4484 - accuracy: 0.7738 - val_loss: 0.3673 - val_accuracy: 0.8376\n",
      "Epoch 2/5\n",
      "250/250 [==============================] - 31s 123ms/step - loss: 0.2959 - accuracy: 0.8756 - val_loss: 0.3337 - val_accuracy: 0.8556\n",
      "Epoch 3/5\n",
      "250/250 [==============================] - 29s 117ms/step - loss: 0.2534 - accuracy: 0.8942 - val_loss: 0.3250 - val_accuracy: 0.8593\n",
      "Epoch 4/5\n",
      "250/250 [==============================] - 28s 113ms/step - loss: 0.2160 - accuracy: 0.9153 - val_loss: 0.3277 - val_accuracy: 0.8556\n",
      "Epoch 5/5\n",
      "250/250 [==============================] - 28s 114ms/step - loss: 0.1798 - accuracy: 0.9326 - val_loss: 0.3504 - val_accuracy: 0.8554\n",
      "782/782 [==============================] - 8s 10ms/step - loss: 0.3504 - accuracy: 0.8554\n",
      "\n",
      " Test Accuracy: 0.8554\n"
     ]
    },
    {
     "data": {
      "image/png": "[encoded data removed]",
      "text/plain": [
       "<Figure size 432x288 with 1 Axes>"
      ]
     },
     "metadata": {
      "needs_background": "light"
     },
     "output_type": "display_data"
    }
   ],
   "source": [
    "from keras.preprocessing import sequence\n",
    "from keras.models import Sequential\n",
    "from keras.layers import Dense, Dropout, Activation\n",
    "from keras.layers import Embedding\n",
    "from keras.layers import LSTM\n",
    "from keras.layers import Conv1D, MaxPooling1D\n",
    "from keras.datasets import imdb\n",
    " \n",
    "import numpy\n",
    "import tensorflow as tf\n",
    "import matplotlib.pyplot as plt\n",
    "  \n",
    "# seed 값 설정\n",
    "seed = 0\n",
    "numpy.random.seed(seed)\n",
    "tf.random.set_seed(3)\n",
    "  \n",
    "# 학습셋과 테스트셋 지정하기\n",
    "(x_train, y_train), (x_test, y_test) = imdb.load_data(num_words=5000)\n",
    "  \n",
    "# 데이터 전처리\n",
    "x_train = sequence.pad_sequences(x_train, maxlen=100)\n",
    "x_test = sequence.pad_sequences(x_test, maxlen=100)\n",
    "  \n",
    "# 모델의 설정\n",
    "model = Sequential()\n",
    "model.add(Embedding(5000, 100))\n",
    "model.add(Dropout(0.5))\n",
    "model.add(Conv1D(64, 5, padding='valid', activation='relu',strides=1))\n",
    "model.add(MaxPooling1D(pool_size=4))\n",
    "model.add(LSTM(55))\n",
    "model.add(Dense(1))\n",
    "model.add(Activation('sigmoid'))\n",
    "model.summary()\n",
    "  \n",
    "# 모델의 컴파일\n",
    "model.compile(loss='binary_crossentropy', optimizer='adam', metrics=['accuracy'])\n",
    "  \n",
    "# 모델의 실행\n",
    "history = model.fit(x_train, y_train, batch_size=100, epochs=5, validation_data=(x_test, y_test))\n",
    "  \n",
    "# 테스트 정확도 출력\n",
    "print(\"\\n Test Accuracy: %.4f\" % (model.evaluate(x_test, y_test)[1]))\n",
    "  \n",
    "# 테스트셋의 오차\n",
    "y_vloss = history.history['val_loss']\n",
    "  \n",
    "# 학습셋의 오차\n",
    "y_loss = history.history['loss']\n",
    "  \n",
    "# 그래프로 표현\n",
    "x_len = numpy.arange(len(y_loss))\n",
    "plt.plot(x_len, y_vloss, marker='.', c=\"red\", label='Testset_loss')\n",
    "plt.plot(x_len, y_loss, marker='.', c=\"blue\", label='Trainset_loss')\n",
    "  \n",
    "# 그래프에 그리드를 주고 레이블을 표시\n",
    "plt.legend(loc='upper right')\n",
    "plt.grid()\n",
    "plt.xlabel('epoch')\n",
    "plt.ylabel('loss')\n",
    "plt.show()"
   ]
  }
 ],
 "metadata": {
  "kernelspec": {
   "display_name": "Python 3 (ipykernel)",
   "language": "python",
   "name": "python3"
  },
  "language_info": {
   "codemirror_mode": {
    "name": "ipython",
    "version": 3
   },
   "file_extension": ".py",
   "mimetype": "text/x-python",
   "name": "python",
   "nbconvert_exporter": "python",
   "pygments_lexer": "ipython3",
   "version": "3.9.6"
  }
 },
 "nbformat": 4,
 "nbformat_minor": 5
}
