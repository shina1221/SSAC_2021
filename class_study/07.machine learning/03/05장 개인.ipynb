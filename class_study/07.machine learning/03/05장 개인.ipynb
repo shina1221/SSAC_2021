{
 "cells": [
  {
   "cell_type": "code",
   "execution_count": null,
   "id": "e5c0e72d",
   "metadata": {},
   "outputs": [],
   "source": [
    "#회귀분석은 추론한것과 정답과 얼마나 차이가 나는지\n",
    "#분류나 회귀등 영역에 따라 평가지표가 달라짐\n"
   ]
  },
  {
   "cell_type": "code",
   "execution_count": 22,
   "id": "002fc983",
   "metadata": {
    "ExecuteTime": {
     "end_time": "2021-11-12T06:34:30.491078Z",
     "start_time": "2021-11-12T06:34:30.482204Z"
    }
   },
   "outputs": [],
   "source": [
    "import numpy as np\n",
    "import matplotlib.pyplot as plt\n",
    "\n",
    "from sklearn.datasets import load_digits"
   ]
  },
  {
   "cell_type": "code",
   "execution_count": 23,
   "id": "83260c06",
   "metadata": {
    "ExecuteTime": {
     "end_time": "2021-11-12T06:34:54.516163Z",
     "start_time": "2021-11-12T06:34:54.449983Z"
    }
   },
   "outputs": [
    {
     "data": {
      "text/plain": [
       "dict_keys(['data', 'target', 'frame', 'feature_names', 'target_names', 'images', 'DESCR'])"
      ]
     },
     "execution_count": 23,
     "metadata": {},
     "output_type": "execute_result"
    }
   ],
   "source": [
    "digits = load_digits()\n",
    "digits.keys()"
   ]
  },
  {
   "cell_type": "code",
   "execution_count": 24,
   "id": "2f48ed38",
   "metadata": {
    "ExecuteTime": {
     "end_time": "2021-11-12T06:34:58.889792Z",
     "start_time": "2021-11-12T06:34:58.881839Z"
    }
   },
   "outputs": [
    {
     "data": {
      "text/plain": [
       "{'data': array([[ 0.,  0.,  5., ...,  0.,  0.,  0.],\n",
       "        [ 0.,  0.,  0., ..., 10.,  0.,  0.],\n",
       "        [ 0.,  0.,  0., ..., 16.,  9.,  0.],\n",
       "        ...,\n",
       "        [ 0.,  0.,  1., ...,  6.,  0.,  0.],\n",
       "        [ 0.,  0.,  2., ..., 12.,  0.,  0.],\n",
       "        [ 0.,  0., 10., ..., 12.,  1.,  0.]]),\n",
       " 'target': array([0, 1, 2, ..., 8, 9, 8]),\n",
       " 'frame': None,\n",
       " 'feature_names': ['pixel_0_0',\n",
       "  'pixel_0_1',\n",
       "  'pixel_0_2',\n",
       "  'pixel_0_3',\n",
       "  'pixel_0_4',\n",
       "  'pixel_0_5',\n",
       "  'pixel_0_6',\n",
       "  'pixel_0_7',\n",
       "  'pixel_1_0',\n",
       "  'pixel_1_1',\n",
       "  'pixel_1_2',\n",
       "  'pixel_1_3',\n",
       "  'pixel_1_4',\n",
       "  'pixel_1_5',\n",
       "  'pixel_1_6',\n",
       "  'pixel_1_7',\n",
       "  'pixel_2_0',\n",
       "  'pixel_2_1',\n",
       "  'pixel_2_2',\n",
       "  'pixel_2_3',\n",
       "  'pixel_2_4',\n",
       "  'pixel_2_5',\n",
       "  'pixel_2_6',\n",
       "  'pixel_2_7',\n",
       "  'pixel_3_0',\n",
       "  'pixel_3_1',\n",
       "  'pixel_3_2',\n",
       "  'pixel_3_3',\n",
       "  'pixel_3_4',\n",
       "  'pixel_3_5',\n",
       "  'pixel_3_6',\n",
       "  'pixel_3_7',\n",
       "  'pixel_4_0',\n",
       "  'pixel_4_1',\n",
       "  'pixel_4_2',\n",
       "  'pixel_4_3',\n",
       "  'pixel_4_4',\n",
       "  'pixel_4_5',\n",
       "  'pixel_4_6',\n",
       "  'pixel_4_7',\n",
       "  'pixel_5_0',\n",
       "  'pixel_5_1',\n",
       "  'pixel_5_2',\n",
       "  'pixel_5_3',\n",
       "  'pixel_5_4',\n",
       "  'pixel_5_5',\n",
       "  'pixel_5_6',\n",
       "  'pixel_5_7',\n",
       "  'pixel_6_0',\n",
       "  'pixel_6_1',\n",
       "  'pixel_6_2',\n",
       "  'pixel_6_3',\n",
       "  'pixel_6_4',\n",
       "  'pixel_6_5',\n",
       "  'pixel_6_6',\n",
       "  'pixel_6_7',\n",
       "  'pixel_7_0',\n",
       "  'pixel_7_1',\n",
       "  'pixel_7_2',\n",
       "  'pixel_7_3',\n",
       "  'pixel_7_4',\n",
       "  'pixel_7_5',\n",
       "  'pixel_7_6',\n",
       "  'pixel_7_7'],\n",
       " 'target_names': array([0, 1, 2, 3, 4, 5, 6, 7, 8, 9]),\n",
       " 'images': array([[[ 0.,  0.,  5., ...,  1.,  0.,  0.],\n",
       "         [ 0.,  0., 13., ..., 15.,  5.,  0.],\n",
       "         [ 0.,  3., 15., ..., 11.,  8.,  0.],\n",
       "         ...,\n",
       "         [ 0.,  4., 11., ..., 12.,  7.,  0.],\n",
       "         [ 0.,  2., 14., ..., 12.,  0.,  0.],\n",
       "         [ 0.,  0.,  6., ...,  0.,  0.,  0.]],\n",
       " \n",
       "        [[ 0.,  0.,  0., ...,  5.,  0.,  0.],\n",
       "         [ 0.,  0.,  0., ...,  9.,  0.,  0.],\n",
       "         [ 0.,  0.,  3., ...,  6.,  0.,  0.],\n",
       "         ...,\n",
       "         [ 0.,  0.,  1., ...,  6.,  0.,  0.],\n",
       "         [ 0.,  0.,  1., ...,  6.,  0.,  0.],\n",
       "         [ 0.,  0.,  0., ..., 10.,  0.,  0.]],\n",
       " \n",
       "        [[ 0.,  0.,  0., ..., 12.,  0.,  0.],\n",
       "         [ 0.,  0.,  3., ..., 14.,  0.,  0.],\n",
       "         [ 0.,  0.,  8., ..., 16.,  0.,  0.],\n",
       "         ...,\n",
       "         [ 0.,  9., 16., ...,  0.,  0.,  0.],\n",
       "         [ 0.,  3., 13., ..., 11.,  5.,  0.],\n",
       "         [ 0.,  0.,  0., ..., 16.,  9.,  0.]],\n",
       " \n",
       "        ...,\n",
       " \n",
       "        [[ 0.,  0.,  1., ...,  1.,  0.,  0.],\n",
       "         [ 0.,  0., 13., ...,  2.,  1.,  0.],\n",
       "         [ 0.,  0., 16., ..., 16.,  5.,  0.],\n",
       "         ...,\n",
       "         [ 0.,  0., 16., ..., 15.,  0.,  0.],\n",
       "         [ 0.,  0., 15., ..., 16.,  0.,  0.],\n",
       "         [ 0.,  0.,  2., ...,  6.,  0.,  0.]],\n",
       " \n",
       "        [[ 0.,  0.,  2., ...,  0.,  0.,  0.],\n",
       "         [ 0.,  0., 14., ..., 15.,  1.,  0.],\n",
       "         [ 0.,  4., 16., ..., 16.,  7.,  0.],\n",
       "         ...,\n",
       "         [ 0.,  0.,  0., ..., 16.,  2.,  0.],\n",
       "         [ 0.,  0.,  4., ..., 16.,  2.,  0.],\n",
       "         [ 0.,  0.,  5., ..., 12.,  0.,  0.]],\n",
       " \n",
       "        [[ 0.,  0., 10., ...,  1.,  0.,  0.],\n",
       "         [ 0.,  2., 16., ...,  1.,  0.,  0.],\n",
       "         [ 0.,  0., 15., ..., 15.,  0.,  0.],\n",
       "         ...,\n",
       "         [ 0.,  4., 16., ..., 16.,  6.,  0.],\n",
       "         [ 0.,  8., 16., ..., 16.,  8.,  0.],\n",
       "         [ 0.,  1.,  8., ..., 12.,  1.,  0.]]]),\n",
       " 'DESCR': \".. _digits_dataset:\\n\\nOptical recognition of handwritten digits dataset\\n--------------------------------------------------\\n\\n**Data Set Characteristics:**\\n\\n    :Number of Instances: 1797\\n    :Number of Attributes: 64\\n    :Attribute Information: 8x8 image of integer pixels in the range 0..16.\\n    :Missing Attribute Values: None\\n    :Creator: E. Alpaydin (alpaydin '@' boun.edu.tr)\\n    :Date: July; 1998\\n\\nThis is a copy of the test set of the UCI ML hand-written digits datasets\\nhttps://archive.ics.uci.edu/ml/datasets/Optical+Recognition+of+Handwritten+Digits\\n\\nThe data set contains images of hand-written digits: 10 classes where\\neach class refers to a digit.\\n\\nPreprocessing programs made available by NIST were used to extract\\nnormalized bitmaps of handwritten digits from a preprinted form. From a\\ntotal of 43 people, 30 contributed to the training set and different 13\\nto the test set. 32x32 bitmaps are divided into nonoverlapping blocks of\\n4x4 and the number of on pixels are counted in each block. This generates\\nan input matrix of 8x8 where each element is an integer in the range\\n0..16. This reduces dimensionality and gives invariance to small\\ndistortions.\\n\\nFor info on NIST preprocessing routines, see M. D. Garris, J. L. Blue, G.\\nT. Candela, D. L. Dimmick, J. Geist, P. J. Grother, S. A. Janet, and C.\\nL. Wilson, NIST Form-Based Handprint Recognition System, NISTIR 5469,\\n1994.\\n\\n.. topic:: References\\n\\n  - C. Kaynak (1995) Methods of Combining Multiple Classifiers and Their\\n    Applications to Handwritten Digit Recognition, MSc Thesis, Institute of\\n    Graduate Studies in Science and Engineering, Bogazici University.\\n  - E. Alpaydin, C. Kaynak (1998) Cascading Classifiers, Kybernetika.\\n  - Ken Tang and Ponnuthurai N. Suganthan and Xi Yao and A. Kai Qin.\\n    Linear dimensionalityreduction using relevance weighted LDA. School of\\n    Electrical and Electronic Engineering Nanyang Technological University.\\n    2005.\\n  - Claudio Gentile. A New Approximate Maximal Margin Classification\\n    Algorithm. NIPS. 2000.\\n\"}"
      ]
     },
     "execution_count": 24,
     "metadata": {},
     "output_type": "execute_result"
    }
   ],
   "source": [
    "digits"
   ]
  },
  {
   "cell_type": "code",
   "execution_count": 26,
   "id": "bf8a5d7f",
   "metadata": {
    "ExecuteTime": {
     "end_time": "2021-11-12T06:35:22.477905Z",
     "start_time": "2021-11-12T06:35:22.465967Z"
    }
   },
   "outputs": [
    {
     "data": {
      "text/plain": [
       "['pixel_0_0',\n",
       " 'pixel_0_1',\n",
       " 'pixel_0_2',\n",
       " 'pixel_0_3',\n",
       " 'pixel_0_4',\n",
       " 'pixel_0_5',\n",
       " 'pixel_0_6',\n",
       " 'pixel_0_7',\n",
       " 'pixel_1_0',\n",
       " 'pixel_1_1',\n",
       " 'pixel_1_2',\n",
       " 'pixel_1_3',\n",
       " 'pixel_1_4',\n",
       " 'pixel_1_5',\n",
       " 'pixel_1_6',\n",
       " 'pixel_1_7',\n",
       " 'pixel_2_0',\n",
       " 'pixel_2_1',\n",
       " 'pixel_2_2',\n",
       " 'pixel_2_3',\n",
       " 'pixel_2_4',\n",
       " 'pixel_2_5',\n",
       " 'pixel_2_6',\n",
       " 'pixel_2_7',\n",
       " 'pixel_3_0',\n",
       " 'pixel_3_1',\n",
       " 'pixel_3_2',\n",
       " 'pixel_3_3',\n",
       " 'pixel_3_4',\n",
       " 'pixel_3_5',\n",
       " 'pixel_3_6',\n",
       " 'pixel_3_7',\n",
       " 'pixel_4_0',\n",
       " 'pixel_4_1',\n",
       " 'pixel_4_2',\n",
       " 'pixel_4_3',\n",
       " 'pixel_4_4',\n",
       " 'pixel_4_5',\n",
       " 'pixel_4_6',\n",
       " 'pixel_4_7',\n",
       " 'pixel_5_0',\n",
       " 'pixel_5_1',\n",
       " 'pixel_5_2',\n",
       " 'pixel_5_3',\n",
       " 'pixel_5_4',\n",
       " 'pixel_5_5',\n",
       " 'pixel_5_6',\n",
       " 'pixel_5_7',\n",
       " 'pixel_6_0',\n",
       " 'pixel_6_1',\n",
       " 'pixel_6_2',\n",
       " 'pixel_6_3',\n",
       " 'pixel_6_4',\n",
       " 'pixel_6_5',\n",
       " 'pixel_6_6',\n",
       " 'pixel_6_7',\n",
       " 'pixel_7_0',\n",
       " 'pixel_7_1',\n",
       " 'pixel_7_2',\n",
       " 'pixel_7_3',\n",
       " 'pixel_7_4',\n",
       " 'pixel_7_5',\n",
       " 'pixel_7_6',\n",
       " 'pixel_7_7']"
      ]
     },
     "execution_count": 26,
     "metadata": {},
     "output_type": "execute_result"
    }
   ],
   "source": [
    "digits.feature_names"
   ]
  },
  {
   "cell_type": "code",
   "execution_count": 28,
   "id": "ec4f9e2c",
   "metadata": {
    "ExecuteTime": {
     "end_time": "2021-11-12T06:39:47.065785Z",
     "start_time": "2021-11-12T06:39:47.057806Z"
    }
   },
   "outputs": [
    {
     "data": {
      "text/plain": [
       "((1797, 64), (1797,))"
      ]
     },
     "execution_count": 28,
     "metadata": {},
     "output_type": "execute_result"
    }
   ],
   "source": [
    "X=digits.data\n",
    "y=digits.target\n",
    "X.shape, y.shape"
   ]
  },
  {
   "cell_type": "code",
   "execution_count": 6,
   "id": "0692ade7",
   "metadata": {
    "ExecuteTime": {
     "end_time": "2021-11-12T06:24:00.296281Z",
     "start_time": "2021-11-12T06:24:00.290324Z"
    }
   },
   "outputs": [
    {
     "data": {
      "text/plain": [
       "(array([0, 1, 2, 3, 4, 5, 6, 7, 8, 9]),\n",
       " array([178, 182, 177, 183, 181, 182, 181, 179, 174, 180], dtype=int64))"
      ]
     },
     "execution_count": 6,
     "metadata": {},
     "output_type": "execute_result"
    }
   ],
   "source": [
    "np.unique(y, return_counts=True) #(고유값을 가진 배열, 개수) #개수 출력"
   ]
  },
  {
   "cell_type": "code",
   "execution_count": 33,
   "id": "ac918cad",
   "metadata": {
    "ExecuteTime": {
     "end_time": "2021-11-12T06:42:58.137333Z",
     "start_time": "2021-11-12T06:42:58.049763Z"
    }
   },
   "outputs": [
    {
     "data": {
      "image/png": "[encoded data removed]",
      "text/plain": [
       "<Figure size 432x288 with 1 Axes>"
      ]
     },
     "metadata": {
      "needs_background": "light"
     },
     "output_type": "display_data"
    }
   ],
   "source": [
    "#plt.bar(x값 배열, y값 배열)\n",
    "plt.bar(np.unique(y, return_counts=True)[0], np.unique(y, return_counts=True)[1])\n",
    "plt.show()"
   ]
  },
  {
   "cell_type": "code",
   "execution_count": 40,
   "id": "9a438073",
   "metadata": {
    "ExecuteTime": {
     "end_time": "2021-11-12T06:47:45.162525Z",
     "start_time": "2021-11-12T06:47:45.121814Z"
    }
   },
   "outputs": [
    {
     "data": {
      "image/png": "[encoded data removed]",
      "text/plain": [
       "<Figure size 432x288 with 1 Axes>"
      ]
     },
     "metadata": {},
     "output_type": "display_data"
    }
   ],
   "source": [
    "img_idx = 0\n",
    "#이미지를 보기위해 2차원으로 변환\n",
    "img = X[img_idx].reshape(8,8)\n",
    "plt.imshow(img, cmap='gray')\n",
    "\n",
    "plt.title(y[img_idx])\n",
    "plt.xticks([])\n",
    "plt.yticks([])\n",
    "plt.show()"
   ]
  },
  {
   "cell_type": "code",
   "execution_count": 43,
   "id": "cb787536",
   "metadata": {
    "ExecuteTime": {
     "end_time": "2021-11-12T06:48:52.906316Z",
     "start_time": "2021-11-12T06:48:52.896815Z"
    }
   },
   "outputs": [
    {
     "data": {
      "text/plain": [
       "array([0, 1, 2, ..., 8, 9, 8])"
      ]
     },
     "execution_count": 43,
     "metadata": {},
     "output_type": "execute_result"
    }
   ],
   "source": [
    "y"
   ]
  },
  {
   "cell_type": "code",
   "execution_count": 44,
   "id": "555249a6",
   "metadata": {
    "ExecuteTime": {
     "end_time": "2021-11-12T06:49:04.758675Z",
     "start_time": "2021-11-12T06:49:04.752694Z"
    }
   },
   "outputs": [
    {
     "data": {
      "text/plain": [
       "array([0, 0, 0, ..., 0, 1, 0])"
      ]
     },
     "execution_count": 44,
     "metadata": {},
     "output_type": "execute_result"
    }
   ],
   "source": [
    "#조건에 맞는 것만 1반환\n",
    "np.where(y==9,1,0)"
   ]
  },
  {
   "cell_type": "code",
   "execution_count": 47,
   "id": "1f63f725",
   "metadata": {
    "ExecuteTime": {
     "end_time": "2021-11-12T06:49:50.307083Z",
     "start_time": "2021-11-12T06:49:50.289840Z"
    }
   },
   "outputs": [
    {
     "data": {
      "text/plain": [
       "(array([   9,   19,   29,   31,   37,   39,   69,   73,   92,  105,  119,\n",
       "         125,  128,  139,  149,  159,  161,  167,  169,  199,  203,  220,\n",
       "         233,  251,  254,  265,  275,  285,  287,  293,  295,  325,  329,\n",
       "         348,  361,  375,  381,  384,  395,  405,  415,  417,  423,  425,\n",
       "         455,  459,  478,  491,  505,  511,  514,  525,  535,  545,  547,\n",
       "         553,  555,  585,  589,  608,  621,  635,  641,  644,  655,  665,\n",
       "         675,  677,  683,  685,  715,  719,  738,  751,  765,  771,  774,\n",
       "         785,  795,  805,  807,  813,  815,  845,  849,  868,  881,  895,\n",
       "         901,  904,  914,  924,  934,  936,  942,  944,  971,  975,  993,\n",
       "        1006, 1020, 1024, 1027, 1038, 1048, 1058, 1060, 1066, 1068, 1096,\n",
       "        1100, 1119, 1132, 1146, 1152, 1155, 1166, 1176, 1186, 1188, 1194,\n",
       "        1196, 1226, 1230, 1249, 1262, 1276, 1282, 1285, 1296, 1306, 1316,\n",
       "        1318, 1324, 1326, 1356, 1360, 1379, 1392, 1406, 1412, 1424, 1434,\n",
       "        1444, 1446, 1452, 1454, 1484, 1488, 1507, 1520, 1534, 1540, 1543,\n",
       "        1554, 1562, 1572, 1574, 1580, 1582, 1612, 1616, 1633, 1646, 1658,\n",
       "        1662, 1665, 1676, 1686, 1696, 1698, 1704, 1706, 1736, 1740, 1759,\n",
       "        1772, 1786, 1792, 1795], dtype=int64),)"
      ]
     },
     "execution_count": 47,
     "metadata": {},
     "output_type": "execute_result"
    }
   ],
   "source": [
    "#조건을 만족하는 값만 출력\n",
    "np.where(y==9)"
   ]
  },
  {
   "cell_type": "code",
   "execution_count": 50,
   "id": "333c98d9",
   "metadata": {
    "ExecuteTime": {
     "end_time": "2021-11-12T06:52:11.886898Z",
     "start_time": "2021-11-12T06:52:11.874088Z"
    }
   },
   "outputs": [],
   "source": [
    "#불균형 데이터 만들기\n",
    "y= np.where(y==9,1,0)"
   ]
  },
  {
   "cell_type": "code",
   "execution_count": 51,
   "id": "838f440a",
   "metadata": {
    "ExecuteTime": {
     "end_time": "2021-11-12T06:52:12.647421Z",
     "start_time": "2021-11-12T06:52:12.641470Z"
    }
   },
   "outputs": [
    {
     "data": {
      "text/plain": [
       "(array([0, 1]), array([1617,  180], dtype=int64))"
      ]
     },
     "execution_count": 51,
     "metadata": {},
     "output_type": "execute_result"
    }
   ],
   "source": [
    "#각 결과는 array로 반환\n",
    "y_pct = np.unique(y, return_counts=True)\n",
    "y_pct"
   ]
  },
  {
   "cell_type": "code",
   "execution_count": 54,
   "id": "463766b7",
   "metadata": {
    "ExecuteTime": {
     "end_time": "2021-11-12T06:52:30.547613Z",
     "start_time": "2021-11-12T06:52:30.529766Z"
    }
   },
   "outputs": [
    {
     "data": {
      "text/plain": [
       "1797"
      ]
     },
     "execution_count": 54,
     "metadata": {},
     "output_type": "execute_result"
    }
   ],
   "source": [
    "#y.size는 len(y)와 동일"
   ]
  },
  {
   "cell_type": "code",
   "execution_count": 52,
   "id": "cb1bba34",
   "metadata": {
    "ExecuteTime": {
     "end_time": "2021-11-12T06:52:13.350310Z",
     "start_time": "2021-11-12T06:52:13.345353Z"
    }
   },
   "outputs": [
    {
     "data": {
      "text/plain": [
       "array([0.89983306, 0.10016694])"
      ]
     },
     "execution_count": 52,
     "metadata": {},
     "output_type": "execute_result"
    }
   ],
   "source": [
    "y_pct[1]/y.size\n",
    "#음성은 검출을 잘하나\n",
    "#양성은 잘 검출하지 못하므로 성능이 좋지 못함"
   ]
  },
  {
   "cell_type": "code",
   "execution_count": 55,
   "id": "177717db",
   "metadata": {
    "ExecuteTime": {
     "end_time": "2021-11-12T06:54:15.897449Z",
     "start_time": "2021-11-12T06:54:15.826421Z"
    }
   },
   "outputs": [
    {
     "data": {
      "image/png": "[encoded data removed]",
      "text/plain": [
       "<Figure size 504x504 with 1 Axes>"
      ]
     },
     "metadata": {
      "needs_background": "light"
     },
     "output_type": "display_data"
    }
   ],
   "source": [
    "plt.figure(figsize=(7,7))\n",
    "plt.bar(y_pct[0], y_pct[1])\n",
    "plt.xticks([0,1], labels=['Negative(not 9)', 'Positive(9)'])\n",
    "plt.show()"
   ]
  },
  {
   "cell_type": "code",
   "execution_count": 56,
   "id": "8da989ad",
   "metadata": {
    "ExecuteTime": {
     "end_time": "2021-11-12T07:06:31.620473Z",
     "start_time": "2021-11-12T07:06:31.585118Z"
    }
   },
   "outputs": [
    {
     "name": "stdout",
     "output_type": "stream",
     "text": [
      "[0.89977728 0.10022272]\n",
      "[0.9 0.1]\n"
     ]
    }
   ],
   "source": [
    "from sklearn.model_selection import train_test_split\n",
    "\n",
    "X_train, X_test, y_train, y_test = train_test_split(X, y, stratify=y,  random_state=0)\n",
    "\n",
    "print(np.unique(y_train, return_counts=True)[1]/y_train.size)\n",
    "print(np.unique(y_test, return_counts=True)[1]/y_test.size)"
   ]
  },
  {
   "cell_type": "code",
   "execution_count": 57,
   "id": "a9c36e34",
   "metadata": {
    "ExecuteTime": {
     "end_time": "2021-11-12T07:09:29.928027Z",
     "start_time": "2021-11-12T07:09:29.664285Z"
    }
   },
   "outputs": [],
   "source": [
    "import pandas as pd\n",
    "import numpy as np\n",
    "\n",
    "from sklearn.dummy import DummyClassifier\n",
    "from sklearn.metrics import accuracy_score"
   ]
  },
  {
   "cell_type": "code",
   "execution_count": 58,
   "id": "ac273c10",
   "metadata": {
    "ExecuteTime": {
     "end_time": "2021-11-12T07:09:30.614738Z",
     "start_time": "2021-11-12T07:09:30.608756Z"
    }
   },
   "outputs": [
    {
     "name": "stdout",
     "output_type": "stream",
     "text": [
      "훈련데이터 정확도 0.8997772828507795, 테스트데이터 정확도: 0.9\n"
     ]
    }
   ],
   "source": [
    "#dummy = 목업같은 것\n",
    "#y값 중 빈도수가 제일 높은 class로 예측\n",
    "dummy_model = DummyClassifier(strategy='most_frequent') \n",
    "\n",
    "\n",
    "dummy_model.fit(X_train, y_train)\n",
    "\n",
    "pred_train_dummy = dummy_model.predict(X_train)\n",
    "pred_test_dummy = dummy_model.predict(X_test)\n",
    "\n",
    "train_acc = accuracy_score(y_train, pred_train_dummy)\n",
    "test_acc = accuracy_score(y_test, pred_test_dummy)\n",
    "print(f\"훈련데이터 정확도 {train_acc}, 테스트데이터 정확도: {test_acc}\") \n",
    "#위와 동일한 결과"
   ]
  },
  {
   "cell_type": "code",
   "execution_count": null,
   "id": "ed4826c9",
   "metadata": {},
   "outputs": [],
   "source": [
    "from sklearn.metrics import confusion_matrix, plot_confusion_matrix, accuracy_score, recall_score, precision_score, f1_score"
   ]
  },
  {
   "cell_type": "markdown",
   "id": "cfdde04e",
   "metadata": {},
   "source": [
    "# TODO 머신 모델을 이용해 학습\n",
    "- DecisionTreeClassifier 사용(max_depth=3)\n",
    "- 모델생성\n",
    "- 학습(train)\n",
    "- 평가(train/test)\n",
    "    - accuracy, recall, precision, f1 score, confusion_matrix 확인"
   ]
  },
  {
   "cell_type": "code",
   "execution_count": 60,
   "id": "304e341a",
   "metadata": {
    "ExecuteTime": {
     "end_time": "2021-11-12T07:59:27.786365Z",
     "start_time": "2021-11-12T07:59:27.775291Z"
    }
   },
   "outputs": [],
   "source": [
    "import pandas as pd\n",
    "import numpy as np\n",
    "\n",
    "from sklearn.dummy import DummyClassifier\n",
    "from sklearn.metrics import accuracy_score"
   ]
  },
  {
   "cell_type": "code",
   "execution_count": 66,
   "id": "876f43e0",
   "metadata": {
    "ExecuteTime": {
     "end_time": "2021-11-12T08:01:54.824965Z",
     "start_time": "2021-11-12T08:01:54.814991Z"
    }
   },
   "outputs": [
    {
     "name": "stdout",
     "output_type": "stream",
     "text": [
      "훈련데이터 정확도 0.8997772828507795, 테스트데이터 정확도: 0.9\n"
     ]
    }
   ],
   "source": [
    "#dummy\n",
    "dummy_model = DummyClassifier(strategy='most_frequent')\n",
    "\n",
    "dummy_model.fit(X_train, y_train)\n",
    "\n",
    "pred_train_dummy = dummy_model.predict(X_train)\n",
    "pred_test_dummy = dummy_model.predict(X_test)\n",
    "\n",
    "train_acc = accuracy_score(y_train, pred_train_dummy)\n",
    "test_acc = accuracy_score(y_test, pred_test_dummy)\n",
    "print(f\"훈련데이터 정확도 {train_acc}, 테스트데이터 정확도: {test_acc}\") \n",
    "#비록 정확도는 90%(0.9) 이지만 10%(0.1)의 9는 아예 분류하지 못한다. \n",
    "#찾으려는 대상(positive)이 9일 경우 하나도 분류해 내지 못하는 모델이 된다."
   ]
  },
  {
   "cell_type": "code",
   "execution_count": 68,
   "id": "aaafaca1",
   "metadata": {
    "ExecuteTime": {
     "end_time": "2021-11-12T08:09:12.519875Z",
     "start_time": "2021-11-12T08:09:12.510821Z"
    }
   },
   "outputs": [],
   "source": [
    "#혼동행렬\n",
    "from sklearn.metrics import confusion_matrix\n",
    "from sklearn.metrics import plot_confusion_matrix\n",
    "from sklearn.metrics import accuracy_score\n",
    "from sklearn.metrics import recall_score\n",
    "from sklearn.metrics import precision_score\n",
    "from sklearn.metrics import f1_score"
   ]
  },
  {
   "cell_type": "markdown",
   "id": "e122d38b",
   "metadata": {},
   "source": [
    "# 각 평가 지표 계산 함수\n",
    "- sklearn.metrics 모듈\n",
    "- numpy 배열로 반환\n",
    "- plot_confusion_matrix() 표 그리기\n",
    "- **confusion_matrix(y 실제값, y 예측값)/plot_confusion_matrix()**\n",
    "    - 혼돈 행렬 반환\n",
    "- **recall_score(y 실제값, y 예측값)**\n",
    "  - Recall(재현율) 점수 반환 (Positive 중 Positive로 예측한 비율 (TPR))\n",
    "- **precision_score(y 실제값, y 예측값)**\n",
    "  - Precision(정밀도) 점수 반환 (Positive로 예측한 것 중 Positive인 것의 비율 (PPV))\n",
    "- **f1_score(y 실제값, y 예측값)**\n",
    "    - F1 점수 반환 (recall과 precision의 조화 평균값)\n",
    "- **classification_report(y 실제값, y 예측값)**\n",
    "    - 클래스 별로 recall, precision, f1 점수와 accuracy를 종합해서 보여준다."
   ]
  },
  {
   "cell_type": "code",
   "execution_count": 69,
   "id": "2c24e82c",
   "metadata": {
    "ExecuteTime": {
     "end_time": "2021-11-12T08:10:40.061395Z",
     "start_time": "2021-11-12T08:10:40.047470Z"
    }
   },
   "outputs": [
    {
     "name": "stdout",
     "output_type": "stream",
     "text": [
      "Train confusion matrix\n",
      "[[1212    0]\n",
      " [ 135    0]]\n",
      "--------------------------------------------------\n",
      "Test confusion matrix\n",
      "[[405   0]\n",
      " [ 45   0]]\n"
     ]
    }
   ],
   "source": [
    "print('Train confusion matrix')\n",
    "print(confusion_matrix(y_train, pred_train_dummy))\n",
    "print(\"-\"*50)\n",
    "print('Test confusion matrix')\n",
    "print(confusion_matrix(y_test, pred_test_dummy))"
   ]
  },
  {
   "cell_type": "code",
   "execution_count": 89,
   "id": "056b908c",
   "metadata": {
    "ExecuteTime": {
     "end_time": "2021-11-12T08:29:22.995459Z",
     "start_time": "2021-11-12T08:29:22.767548Z"
    }
   },
   "outputs": [
    {
     "data": {
      "text/plain": [
       "<sklearn.metrics._plot.confusion_matrix.ConfusionMatrixDisplay at 0x1cdcf803460>"
      ]
     },
     "execution_count": 89,
     "metadata": {},
     "output_type": "execute_result"
    },
    {
     "data": {
      "image/png": "[encoded data removed]",
      "text/plain": [
       "<Figure size 504x504 with 2 Axes>"
      ]
     },
     "metadata": {
      "needs_background": "light"
     },
     "output_type": "display_data"
    }
   ],
   "source": [
    "from sklearn.metrics import plot_confusion_matrix\n",
    "import matplotlib as mpl\n",
    "mpl.rcParams['font.size']=17\n",
    "_, ax = plt.subplots(1,1,figsize=(7,7))\n",
    "\n",
    "#sklearn\n",
    "plot_confusion_matrix(dummy_model,\n",
    "                     X_test,\n",
    "                     y_test,\n",
    "                     display_labels=['neg', 'pos'],\n",
    "                     cmap=plt.cm.Blues,\n",
    "                     values_format='d',\n",
    "                     ax=ax)"
   ]
  },
  {
   "cell_type": "code",
   "execution_count": 91,
   "id": "57c158a2",
   "metadata": {
    "ExecuteTime": {
     "end_time": "2021-11-12T08:31:52.409990Z",
     "start_time": "2021-11-12T08:31:52.303335Z"
    }
   },
   "outputs": [
    {
     "data": {
      "text/plain": [
       "<sklearn.metrics._plot.confusion_matrix.ConfusionMatrixDisplay at 0x1cdcc3dbcd0>"
      ]
     },
     "execution_count": 91,
     "metadata": {},
     "output_type": "execute_result"
    },
    {
     "data": {
      "image/png": "[encoded data removed]",
      "text/plain": [
       "<Figure size 432x288 with 2 Axes>"
      ]
     },
     "metadata": {
      "needs_background": "light"
     },
     "output_type": "display_data"
    }
   ],
   "source": [
    "#confusion_matrix 값을 주고 바로 그래프 그리기\n",
    "from sklearn.metrics import ConfusionMatrixDisplay\n",
    "\n",
    "cm=confusion_matrix(y_test, pred_test_dummy)\n",
    "\n",
    "disp=ConfusionMatrixDisplay(cm,\n",
    "                           display_labels=['1', '0'])\n",
    "disp.plot(cmap='Blues')"
   ]
  },
  {
   "cell_type": "code",
   "execution_count": 92,
   "id": "0fe5a35f",
   "metadata": {
    "ExecuteTime": {
     "end_time": "2021-11-12T08:32:12.520108Z",
     "start_time": "2021-11-12T08:32:12.511160Z"
    }
   },
   "outputs": [
    {
     "name": "stdout",
     "output_type": "stream",
     "text": [
      "Accuracy\n"
     ]
    },
    {
     "data": {
      "text/plain": [
       "(0.9465478841870824, 0.9511111111111111)"
      ]
     },
     "execution_count": 92,
     "metadata": {},
     "output_type": "execute_result"
    }
   ],
   "source": [
    "print(\"Accuracy\")\n",
    "accuracy_score(y_train,pred_train_dummy), accuracy_score(y_test, pred_test_dummy)"
   ]
  },
  {
   "cell_type": "code",
   "execution_count": 93,
   "id": "8b17647a",
   "metadata": {
    "ExecuteTime": {
     "end_time": "2021-11-12T08:32:13.121899Z",
     "start_time": "2021-11-12T08:32:13.103270Z"
    }
   },
   "outputs": [
    {
     "name": "stdout",
     "output_type": "stream",
     "text": [
      "Recall\n"
     ]
    },
    {
     "data": {
      "text/plain": [
       "(0.8, 0.7555555555555555)"
      ]
     },
     "execution_count": 93,
     "metadata": {},
     "output_type": "execute_result"
    }
   ],
   "source": [
    "print(\"Recall\") \n",
    "recall_score(y_train, pred_train_dummy), recall_score(y_test, pred_test_dummy)\n",
    "#0이 나왔다는건 positive로 맞춘게 하나도 없다는 것"
   ]
  },
  {
   "cell_type": "code",
   "execution_count": 94,
   "id": "679d5f1d",
   "metadata": {
    "ExecuteTime": {
     "end_time": "2021-11-12T08:32:13.672468Z",
     "start_time": "2021-11-12T08:32:13.661491Z"
    }
   },
   "outputs": [
    {
     "name": "stdout",
     "output_type": "stream",
     "text": [
      "Precision\n"
     ]
    },
    {
     "data": {
      "text/plain": [
       "(0.7058823529411765, 0.7555555555555555)"
      ]
     },
     "execution_count": 94,
     "metadata": {},
     "output_type": "execute_result"
    }
   ],
   "source": [
    "print('Precision')\n",
    "precision_score(y_train, pred_train_dummy), precision_score(y_test, pred_test_dummy)\n",
    "#0이 나왔다는건 0이라고 예측한것 중 맞춘게 하나도 없다는 것"
   ]
  },
  {
   "cell_type": "code",
   "execution_count": 95,
   "id": "27c4ad39",
   "metadata": {
    "ExecuteTime": {
     "end_time": "2021-11-12T08:32:14.238711Z",
     "start_time": "2021-11-12T08:32:14.222167Z"
    }
   },
   "outputs": [
    {
     "name": "stdout",
     "output_type": "stream",
     "text": [
      "f1 score\n"
     ]
    },
    {
     "data": {
      "text/plain": [
       "(0.7500000000000001, 0.7555555555555555)"
      ]
     },
     "execution_count": 95,
     "metadata": {},
     "output_type": "execute_result"
    }
   ],
   "source": [
    "print('f1 score')\n",
    "f1_score(y_train, pred_train_dummy), f1_score(y_test, pred_test_dummy)\n"
   ]
  },
  {
   "cell_type": "markdown",
   "id": "44c67492",
   "metadata": {
    "ExecuteTime": {
     "end_time": "2021-11-12T08:11:19.480733Z",
     "start_time": "2021-11-12T08:11:19.471759Z"
    }
   },
   "source": [
    "# 개인) 머신 모델을 이용해 학습"
   ]
  },
  {
   "cell_type": "markdown",
   "id": "7d03e831",
   "metadata": {
    "ExecuteTime": {
     "end_time": "2021-11-12T08:25:56.119323Z",
     "start_time": "2021-11-12T08:25:56.111346Z"
    }
   },
   "source": [
    "### TODO 머신 모델을 이용해 학습\n",
    "- DecisionTreeClassifier 사용(max_depth=3)\n",
    "- 모델생성\n",
    "- 학습(train)\n",
    "- 평가(train/test)\n",
    "    - accuracy, recall, precision, f1 score, confusion_matrix 확인"
   ]
  },
  {
   "cell_type": "code",
   "execution_count": 79,
   "id": "8cbffae8",
   "metadata": {
    "ExecuteTime": {
     "end_time": "2021-11-12T08:19:22.400482Z",
     "start_time": "2021-11-12T08:19:22.383796Z"
    }
   },
   "outputs": [
    {
     "name": "stdout",
     "output_type": "stream",
     "text": [
      "0.9465478841870824\n",
      "0.9511111111111111\n"
     ]
    }
   ],
   "source": [
    "#더미모델 사용\n",
    "\n",
    "from sklearn.tree import DecisionTreeClassifier\n",
    "from sklearn.model_selection import train_test_split\n",
    "from sklearn.metrics import accuracy_score\n",
    "\n",
    "dummy_model = DecisionTreeClassifier(max_depth=3, random_state=0)\n",
    "dummy_model.fit(X_train, y_train)\n",
    "\n",
    "pred_train_dummy = dummy_model.predict(X_train)\n",
    "pred_test_dummy = dummy_model.predict(X_test)\n",
    "\n",
    "train_acc = accuracy_score(y_train, pred_train_dummy)\n",
    "test_acc = accuracy_score(y_test, pred_test_dummy)\n",
    "\n",
    "print(train_acc)\n",
    "print(test_acc)\n",
    "#accuracy_"
   ]
  },
  {
   "cell_type": "code",
   "execution_count": 82,
   "id": "396def1c",
   "metadata": {
    "ExecuteTime": {
     "end_time": "2021-11-12T08:22:07.137090Z",
     "start_time": "2021-11-12T08:22:07.120057Z"
    }
   },
   "outputs": [],
   "source": [
    "from sklearn.metrics import accuracy_score\n",
    "from sklearn.metrics import recall_score\n",
    "from sklearn.metrics import precision_score\n",
    "from sklearn.metrics import f1_score\n",
    "from sklearn.metrics import confusion_matrix\n",
    "#실제y 예측y"
   ]
  },
  {
   "cell_type": "code",
   "execution_count": 103,
   "id": "e628acaf",
   "metadata": {
    "ExecuteTime": {
     "end_time": "2021-11-12T08:48:45.635221Z",
     "start_time": "2021-11-12T08:48:45.613565Z"
    }
   },
   "outputs": [
    {
     "name": "stdout",
     "output_type": "stream",
     "text": [
      "accuracy_score#########################################\n",
      "0.9465478841870824\n",
      "0.9511111111111111\n",
      " \n",
      "recall_score#########################################\n",
      "0.8\n",
      "0.7555555555555555\n",
      " \n",
      "precision_score#########################################\n",
      "0.7058823529411765\n",
      "0.7555555555555555\n",
      " \n",
      "f1_score#########################################\n",
      "0.7500000000000001\n",
      "0.7555555555555555\n",
      " \n",
      "confusion_matrix#########################################\n",
      "[[1167   45]\n",
      " [  27  108]]\n",
      "[[394  11]\n",
      " [ 11  34]]\n"
     ]
    }
   ],
   "source": [
    "print('accuracy_score#########################################')\n",
    "print(accuracy_score(y_train, pred_train_dummy))\n",
    "print(accuracy_score(y_test, pred_test_dummy))\n",
    "print(' ')\n",
    "print('recall_score#########################################')\n",
    "print(recall_score(y_train, pred_train_dummy))\n",
    "print(recall_score(y_test, pred_test_dummy))\n",
    "print(' ')\n",
    "print('precision_score#########################################')\n",
    "print(precision_score(y_train, pred_train_dummy))\n",
    "print(precision_score(y_test, pred_test_dummy))\n",
    "print(' ')\n",
    "print('f1_score#########################################')\n",
    "print(f1_score(y_train, pred_train_dummy))\n",
    "print(f1_score(y_test, pred_test_dummy))\n",
    "print(' ')\n",
    "print('confusion_matrix#########################################')\n",
    "print(confusion_matrix(y_train, pred_train_dummy))\n",
    "print(confusion_matrix(y_test, pred_test_dummy))"
   ]
  },
  {
   "cell_type": "markdown",
   "id": "e6627a1b",
   "metadata": {},
   "source": [
    "#dummy로 실제 테스트 했을 때\n",
    "\n",
    "#정확도: train과 test 셋을 기준으로 모두 정확도는 90퍼센트 이상으로 높게 나옴\n",
    "#민감도(recall):train셋에 비해 test셋은 성능이 낮게 나옴\n",
    "               >참이라고 예측한 것/실제 값이 참인것\n",
    "#정밀도(precision):train셋에 비해 test셋은 성능이 낮게 나옴\n",
    "                  >실제값이 참인것/참이라고 예측한 것\n",
    "#f1_score:2*(민감도*정밀도)/(민감도+정밀도)"
   ]
  },
  {
   "cell_type": "code",
   "execution_count": 99,
   "id": "4f1bae09",
   "metadata": {
    "ExecuteTime": {
     "end_time": "2021-11-12T08:36:23.321785Z",
     "start_time": "2021-11-12T08:36:23.135581Z"
    }
   },
   "outputs": [
    {
     "data": {
      "text/plain": [
       "<sklearn.metrics._plot.confusion_matrix.ConfusionMatrixDisplay at 0x1cdce33d340>"
      ]
     },
     "execution_count": 99,
     "metadata": {},
     "output_type": "execute_result"
    },
    {
     "data": {
      "image/png": "[encoded data removed]",
      "text/plain": [
       "<Figure size 432x288 with 2 Axes>"
      ]
     },
     "metadata": {
      "needs_background": "light"
     },
     "output_type": "display_data"
    },
    {
     "data": {
      "image/png": "[encoded data removed]",
      "text/plain": [
       "<Figure size 432x288 with 2 Axes>"
      ]
     },
     "metadata": {
      "needs_background": "light"
     },
     "output_type": "display_data"
    }
   ],
   "source": [
    "from sklearn.metrics import ConfusionMatrixDisplay\n",
    "train_cm = confusion_matrix(y_train, pred_train_dummy)\n",
    "test_cm = confusion_matrix(y_test, pred_test_dummy)\n",
    "train_disp = ConfusionMatrixDisplay(train_cm, display_labels=['0','1'])\n",
    "test_disp = ConfusionMatrixDisplay(test_cm, display_labels=['0', '1'])\n",
    "train_disp.plot(cmap='Blues')\n",
    "test_disp.plot()\n"
   ]
  },
  {
   "cell_type": "markdown",
   "id": "0f854135",
   "metadata": {},
   "source": [
    "# 강사님) 머신 모델을 이용해 학습"
   ]
  },
  {
   "cell_type": "code",
   "execution_count": 100,
   "id": "dd15f895",
   "metadata": {
    "ExecuteTime": {
     "end_time": "2021-11-12T08:44:58.105057Z",
     "start_time": "2021-11-12T08:44:58.095348Z"
    }
   },
   "outputs": [],
   "source": [
    "#강사님 버전 "
   ]
  },
  {
   "cell_type": "code",
   "execution_count": null,
   "id": "954d58f5",
   "metadata": {},
   "outputs": [],
   "source": []
  },
  {
   "cell_type": "code",
   "execution_count": null,
   "id": "1d9ec922",
   "metadata": {},
   "outputs": [],
   "source": []
  },
  {
   "cell_type": "code",
   "execution_count": null,
   "id": "0c2a9086",
   "metadata": {},
   "outputs": [],
   "source": []
  },
  {
   "cell_type": "code",
   "execution_count": null,
   "id": "fb23fbce",
   "metadata": {},
   "outputs": [],
   "source": []
  },
  {
   "cell_type": "code",
   "execution_count": null,
   "id": "4a13baab",
   "metadata": {},
   "outputs": [],
   "source": []
  }
 ],
 "metadata": {
  "kernelspec": {
   "display_name": "Python 3 (ipykernel)",
   "language": "python",
   "name": "python3"
  },
  "language_info": {
   "codemirror_mode": {
    "name": "ipython",
    "version": 3
   },
   "file_extension": ".py",
   "mimetype": "text/x-python",
   "name": "python",
   "nbconvert_exporter": "python",
   "pygments_lexer": "ipython3",
   "version": "3.8.12"
  },
  "toc": {
   "base_numbering": 1,
   "nav_menu": {},
   "number_sections": true,
   "sideBar": true,
   "skip_h1_title": false,
   "title_cell": "Table of Contents",
   "title_sidebar": "Contents",
   "toc_cell": false,
   "toc_position": {
    "height": "calc(100% - 180px)",
    "left": "10px",
    "top": "150px",
    "width": "191.594px"
   },
   "toc_section_display": true,
   "toc_window_display": true
  },
  "varInspector": {
   "cols": {
    "lenName": 16,
    "lenType": 16,
    "lenVar": 40
   },
   "kernels_config": {
    "python": {
     "delete_cmd_postfix": "",
     "delete_cmd_prefix": "del ",
     "library": "var_list.py",
     "varRefreshCmd": "print(var_dic_list())"
    },
    "r": {
     "delete_cmd_postfix": ") ",
     "delete_cmd_prefix": "rm(",
     "library": "var_list.r",
     "varRefreshCmd": "cat(var_dic_list()) "
    }
   },
   "types_to_exclude": [
    "module",
    "function",
    "builtin_function_or_method",
    "instance",
    "_Feature"
   ],
   "window_display": false
  }
 },
 "nbformat": 4,
 "nbformat_minor": 5
}
