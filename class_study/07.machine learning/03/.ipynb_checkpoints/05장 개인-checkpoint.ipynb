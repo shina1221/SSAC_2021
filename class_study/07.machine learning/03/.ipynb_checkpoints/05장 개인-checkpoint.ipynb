{
 "cells": [
  {
   "cell_type": "code",
   "execution_count": 1,
   "id": "e5c0e72d",
   "metadata": {
    "ExecuteTime": {
     "end_time": "2021-11-15T00:24:48.199659Z",
     "start_time": "2021-11-15T00:24:48.191674Z"
    }
   },
   "outputs": [],
   "source": [
    "#회귀분석은 추론한것과 정답과 얼마나 차이가 나는지\n",
    "#분류나 회귀등 영역에 따라 평가지표가 달라짐\n"
   ]
  },
  {
   "cell_type": "code",
   "execution_count": 2,
   "id": "002fc983",
   "metadata": {
    "ExecuteTime": {
     "end_time": "2021-11-15T00:24:50.449389Z",
     "start_time": "2021-11-15T00:24:48.200648Z"
    }
   },
   "outputs": [],
   "source": [
    "import numpy as np\n",
    "import matplotlib.pyplot as plt\n",
    "\n",
    "from sklearn.datasets import load_digits"
   ]
  },
  {
   "cell_type": "code",
   "execution_count": 3,
   "id": "83260c06",
   "metadata": {
    "ExecuteTime": {
     "end_time": "2021-11-15T00:24:50.528746Z",
     "start_time": "2021-11-15T00:24:50.450104Z"
    }
   },
   "outputs": [
    {
     "data": {
      "text/plain": [
       "dict_keys(['data', 'target', 'frame', 'feature_names', 'target_names', 'images', 'DESCR'])"
      ]
     },
     "execution_count": 3,
     "metadata": {},
     "output_type": "execute_result"
    }
   ],
   "source": [
    "digits = load_digits()\n",
    "digits.keys()"
   ]
  },
  {
   "cell_type": "code",
   "execution_count": 4,
   "id": "2f48ed38",
   "metadata": {
    "ExecuteTime": {
     "end_time": "2021-11-15T00:24:50.544446Z",
     "start_time": "2021-11-15T00:24:50.530606Z"
    }
   },
   "outputs": [
    {
     "data": {
      "text/plain": [
       "{'data': array([[ 0.,  0.,  5., ...,  0.,  0.,  0.],\n",
       "        [ 0.,  0.,  0., ..., 10.,  0.,  0.],\n",
       "        [ 0.,  0.,  0., ..., 16.,  9.,  0.],\n",
       "        ...,\n",
       "        [ 0.,  0.,  1., ...,  6.,  0.,  0.],\n",
       "        [ 0.,  0.,  2., ..., 12.,  0.,  0.],\n",
       "        [ 0.,  0., 10., ..., 12.,  1.,  0.]]),\n",
       " 'target': array([0, 1, 2, ..., 8, 9, 8]),\n",
       " 'frame': None,\n",
       " 'feature_names': ['pixel_0_0',\n",
       "  'pixel_0_1',\n",
       "  'pixel_0_2',\n",
       "  'pixel_0_3',\n",
       "  'pixel_0_4',\n",
       "  'pixel_0_5',\n",
       "  'pixel_0_6',\n",
       "  'pixel_0_7',\n",
       "  'pixel_1_0',\n",
       "  'pixel_1_1',\n",
       "  'pixel_1_2',\n",
       "  'pixel_1_3',\n",
       "  'pixel_1_4',\n",
       "  'pixel_1_5',\n",
       "  'pixel_1_6',\n",
       "  'pixel_1_7',\n",
       "  'pixel_2_0',\n",
       "  'pixel_2_1',\n",
       "  'pixel_2_2',\n",
       "  'pixel_2_3',\n",
       "  'pixel_2_4',\n",
       "  'pixel_2_5',\n",
       "  'pixel_2_6',\n",
       "  'pixel_2_7',\n",
       "  'pixel_3_0',\n",
       "  'pixel_3_1',\n",
       "  'pixel_3_2',\n",
       "  'pixel_3_3',\n",
       "  'pixel_3_4',\n",
       "  'pixel_3_5',\n",
       "  'pixel_3_6',\n",
       "  'pixel_3_7',\n",
       "  'pixel_4_0',\n",
       "  'pixel_4_1',\n",
       "  'pixel_4_2',\n",
       "  'pixel_4_3',\n",
       "  'pixel_4_4',\n",
       "  'pixel_4_5',\n",
       "  'pixel_4_6',\n",
       "  'pixel_4_7',\n",
       "  'pixel_5_0',\n",
       "  'pixel_5_1',\n",
       "  'pixel_5_2',\n",
       "  'pixel_5_3',\n",
       "  'pixel_5_4',\n",
       "  'pixel_5_5',\n",
       "  'pixel_5_6',\n",
       "  'pixel_5_7',\n",
       "  'pixel_6_0',\n",
       "  'pixel_6_1',\n",
       "  'pixel_6_2',\n",
       "  'pixel_6_3',\n",
       "  'pixel_6_4',\n",
       "  'pixel_6_5',\n",
       "  'pixel_6_6',\n",
       "  'pixel_6_7',\n",
       "  'pixel_7_0',\n",
       "  'pixel_7_1',\n",
       "  'pixel_7_2',\n",
       "  'pixel_7_3',\n",
       "  'pixel_7_4',\n",
       "  'pixel_7_5',\n",
       "  'pixel_7_6',\n",
       "  'pixel_7_7'],\n",
       " 'target_names': array([0, 1, 2, 3, 4, 5, 6, 7, 8, 9]),\n",
       " 'images': array([[[ 0.,  0.,  5., ...,  1.,  0.,  0.],\n",
       "         [ 0.,  0., 13., ..., 15.,  5.,  0.],\n",
       "         [ 0.,  3., 15., ..., 11.,  8.,  0.],\n",
       "         ...,\n",
       "         [ 0.,  4., 11., ..., 12.,  7.,  0.],\n",
       "         [ 0.,  2., 14., ..., 12.,  0.,  0.],\n",
       "         [ 0.,  0.,  6., ...,  0.,  0.,  0.]],\n",
       " \n",
       "        [[ 0.,  0.,  0., ...,  5.,  0.,  0.],\n",
       "         [ 0.,  0.,  0., ...,  9.,  0.,  0.],\n",
       "         [ 0.,  0.,  3., ...,  6.,  0.,  0.],\n",
       "         ...,\n",
       "         [ 0.,  0.,  1., ...,  6.,  0.,  0.],\n",
       "         [ 0.,  0.,  1., ...,  6.,  0.,  0.],\n",
       "         [ 0.,  0.,  0., ..., 10.,  0.,  0.]],\n",
       " \n",
       "        [[ 0.,  0.,  0., ..., 12.,  0.,  0.],\n",
       "         [ 0.,  0.,  3., ..., 14.,  0.,  0.],\n",
       "         [ 0.,  0.,  8., ..., 16.,  0.,  0.],\n",
       "         ...,\n",
       "         [ 0.,  9., 16., ...,  0.,  0.,  0.],\n",
       "         [ 0.,  3., 13., ..., 11.,  5.,  0.],\n",
       "         [ 0.,  0.,  0., ..., 16.,  9.,  0.]],\n",
       " \n",
       "        ...,\n",
       " \n",
       "        [[ 0.,  0.,  1., ...,  1.,  0.,  0.],\n",
       "         [ 0.,  0., 13., ...,  2.,  1.,  0.],\n",
       "         [ 0.,  0., 16., ..., 16.,  5.,  0.],\n",
       "         ...,\n",
       "         [ 0.,  0., 16., ..., 15.,  0.,  0.],\n",
       "         [ 0.,  0., 15., ..., 16.,  0.,  0.],\n",
       "         [ 0.,  0.,  2., ...,  6.,  0.,  0.]],\n",
       " \n",
       "        [[ 0.,  0.,  2., ...,  0.,  0.,  0.],\n",
       "         [ 0.,  0., 14., ..., 15.,  1.,  0.],\n",
       "         [ 0.,  4., 16., ..., 16.,  7.,  0.],\n",
       "         ...,\n",
       "         [ 0.,  0.,  0., ..., 16.,  2.,  0.],\n",
       "         [ 0.,  0.,  4., ..., 16.,  2.,  0.],\n",
       "         [ 0.,  0.,  5., ..., 12.,  0.,  0.]],\n",
       " \n",
       "        [[ 0.,  0., 10., ...,  1.,  0.,  0.],\n",
       "         [ 0.,  2., 16., ...,  1.,  0.,  0.],\n",
       "         [ 0.,  0., 15., ..., 15.,  0.,  0.],\n",
       "         ...,\n",
       "         [ 0.,  4., 16., ..., 16.,  6.,  0.],\n",
       "         [ 0.,  8., 16., ..., 16.,  8.,  0.],\n",
       "         [ 0.,  1.,  8., ..., 12.,  1.,  0.]]]),\n",
       " 'DESCR': \".. _digits_dataset:\\n\\nOptical recognition of handwritten digits dataset\\n--------------------------------------------------\\n\\n**Data Set Characteristics:**\\n\\n    :Number of Instances: 1797\\n    :Number of Attributes: 64\\n    :Attribute Information: 8x8 image of integer pixels in the range 0..16.\\n    :Missing Attribute Values: None\\n    :Creator: E. Alpaydin (alpaydin '@' boun.edu.tr)\\n    :Date: July; 1998\\n\\nThis is a copy of the test set of the UCI ML hand-written digits datasets\\nhttps://archive.ics.uci.edu/ml/datasets/Optical+Recognition+of+Handwritten+Digits\\n\\nThe data set contains images of hand-written digits: 10 classes where\\neach class refers to a digit.\\n\\nPreprocessing programs made available by NIST were used to extract\\nnormalized bitmaps of handwritten digits from a preprinted form. From a\\ntotal of 43 people, 30 contributed to the training set and different 13\\nto the test set. 32x32 bitmaps are divided into nonoverlapping blocks of\\n4x4 and the number of on pixels are counted in each block. This generates\\nan input matrix of 8x8 where each element is an integer in the range\\n0..16. This reduces dimensionality and gives invariance to small\\ndistortions.\\n\\nFor info on NIST preprocessing routines, see M. D. Garris, J. L. Blue, G.\\nT. Candela, D. L. Dimmick, J. Geist, P. J. Grother, S. A. Janet, and C.\\nL. Wilson, NIST Form-Based Handprint Recognition System, NISTIR 5469,\\n1994.\\n\\n.. topic:: References\\n\\n  - C. Kaynak (1995) Methods of Combining Multiple Classifiers and Their\\n    Applications to Handwritten Digit Recognition, MSc Thesis, Institute of\\n    Graduate Studies in Science and Engineering, Bogazici University.\\n  - E. Alpaydin, C. Kaynak (1998) Cascading Classifiers, Kybernetika.\\n  - Ken Tang and Ponnuthurai N. Suganthan and Xi Yao and A. Kai Qin.\\n    Linear dimensionalityreduction using relevance weighted LDA. School of\\n    Electrical and Electronic Engineering Nanyang Technological University.\\n    2005.\\n  - Claudio Gentile. A New Approximate Maximal Margin Classification\\n    Algorithm. NIPS. 2000.\\n\"}"
      ]
     },
     "execution_count": 4,
     "metadata": {},
     "output_type": "execute_result"
    }
   ],
   "source": [
    "digits"
   ]
  },
  {
   "cell_type": "code",
   "execution_count": 5,
   "id": "bf8a5d7f",
   "metadata": {
    "ExecuteTime": {
     "end_time": "2021-11-15T00:24:50.560434Z",
     "start_time": "2021-11-15T00:24:50.545435Z"
    }
   },
   "outputs": [
    {
     "data": {
      "text/plain": [
       "['pixel_0_0',\n",
       " 'pixel_0_1',\n",
       " 'pixel_0_2',\n",
       " 'pixel_0_3',\n",
       " 'pixel_0_4',\n",
       " 'pixel_0_5',\n",
       " 'pixel_0_6',\n",
       " 'pixel_0_7',\n",
       " 'pixel_1_0',\n",
       " 'pixel_1_1',\n",
       " 'pixel_1_2',\n",
       " 'pixel_1_3',\n",
       " 'pixel_1_4',\n",
       " 'pixel_1_5',\n",
       " 'pixel_1_6',\n",
       " 'pixel_1_7',\n",
       " 'pixel_2_0',\n",
       " 'pixel_2_1',\n",
       " 'pixel_2_2',\n",
       " 'pixel_2_3',\n",
       " 'pixel_2_4',\n",
       " 'pixel_2_5',\n",
       " 'pixel_2_6',\n",
       " 'pixel_2_7',\n",
       " 'pixel_3_0',\n",
       " 'pixel_3_1',\n",
       " 'pixel_3_2',\n",
       " 'pixel_3_3',\n",
       " 'pixel_3_4',\n",
       " 'pixel_3_5',\n",
       " 'pixel_3_6',\n",
       " 'pixel_3_7',\n",
       " 'pixel_4_0',\n",
       " 'pixel_4_1',\n",
       " 'pixel_4_2',\n",
       " 'pixel_4_3',\n",
       " 'pixel_4_4',\n",
       " 'pixel_4_5',\n",
       " 'pixel_4_6',\n",
       " 'pixel_4_7',\n",
       " 'pixel_5_0',\n",
       " 'pixel_5_1',\n",
       " 'pixel_5_2',\n",
       " 'pixel_5_3',\n",
       " 'pixel_5_4',\n",
       " 'pixel_5_5',\n",
       " 'pixel_5_6',\n",
       " 'pixel_5_7',\n",
       " 'pixel_6_0',\n",
       " 'pixel_6_1',\n",
       " 'pixel_6_2',\n",
       " 'pixel_6_3',\n",
       " 'pixel_6_4',\n",
       " 'pixel_6_5',\n",
       " 'pixel_6_6',\n",
       " 'pixel_6_7',\n",
       " 'pixel_7_0',\n",
       " 'pixel_7_1',\n",
       " 'pixel_7_2',\n",
       " 'pixel_7_3',\n",
       " 'pixel_7_4',\n",
       " 'pixel_7_5',\n",
       " 'pixel_7_6',\n",
       " 'pixel_7_7']"
      ]
     },
     "execution_count": 5,
     "metadata": {},
     "output_type": "execute_result"
    }
   ],
   "source": [
    "digits.feature_names"
   ]
  },
  {
   "cell_type": "code",
   "execution_count": 6,
   "id": "ec4f9e2c",
   "metadata": {
    "ExecuteTime": {
     "end_time": "2021-11-15T00:24:50.575595Z",
     "start_time": "2021-11-15T00:24:50.561434Z"
    }
   },
   "outputs": [
    {
     "data": {
      "text/plain": [
       "((1797, 64), (1797,))"
      ]
     },
     "execution_count": 6,
     "metadata": {},
     "output_type": "execute_result"
    }
   ],
   "source": [
    "X=digits.data\n",
    "y=digits.target\n",
    "X.shape, y.shape"
   ]
  },
  {
   "cell_type": "code",
   "execution_count": 7,
   "id": "0692ade7",
   "metadata": {
    "ExecuteTime": {
     "end_time": "2021-11-15T00:24:50.591650Z",
     "start_time": "2021-11-15T00:24:50.576565Z"
    }
   },
   "outputs": [
    {
     "data": {
      "text/plain": [
       "(array([0, 1, 2, 3, 4, 5, 6, 7, 8, 9]),\n",
       " array([178, 182, 177, 183, 181, 182, 181, 179, 174, 180], dtype=int64))"
      ]
     },
     "execution_count": 7,
     "metadata": {},
     "output_type": "execute_result"
    }
   ],
   "source": [
    "np.unique(y, return_counts=True) #(고유값을 가진 배열, 개수) #개수 출력"
   ]
  },
  {
   "cell_type": "code",
   "execution_count": 8,
   "id": "ac918cad",
   "metadata": {
    "ExecuteTime": {
     "end_time": "2021-11-15T00:24:50.779163Z",
     "start_time": "2021-11-15T00:24:50.592662Z"
    }
   },
   "outputs": [
    {
     "data": {
      "image/png": "[encoded data removed]",
      "text/plain": [
       "<Figure size 432x288 with 1 Axes>"
      ]
     },
     "metadata": {
      "needs_background": "light"
     },
     "output_type": "display_data"
    }
   ],
   "source": [
    "#plt.bar(x값 배열, y값 배열)\n",
    "plt.bar(np.unique(y, return_counts=True)[0], np.unique(y, return_counts=True)[1])\n",
    "plt.show()"
   ]
  },
  {
   "cell_type": "code",
   "execution_count": 9,
   "id": "9a438073",
   "metadata": {
    "ExecuteTime": {
     "end_time": "2021-11-15T00:24:50.827034Z",
     "start_time": "2021-11-15T00:24:50.780131Z"
    }
   },
   "outputs": [
    {
     "data": {
      "image/png": "[encoded data removed]",
      "text/plain": [
       "<Figure size 432x288 with 1 Axes>"
      ]
     },
     "metadata": {},
     "output_type": "display_data"
    }
   ],
   "source": [
    "img_idx = 0\n",
    "#이미지를 보기위해 2차원으로 변환\n",
    "img = X[img_idx].reshape(8,8)\n",
    "plt.imshow(img, cmap='gray')\n",
    "\n",
    "plt.title(y[img_idx])\n",
    "plt.xticks([])\n",
    "plt.yticks([])\n",
    "plt.show()"
   ]
  },
  {
   "cell_type": "code",
   "execution_count": 10,
   "id": "cb787536",
   "metadata": {
    "ExecuteTime": {
     "end_time": "2021-11-15T00:24:50.843143Z",
     "start_time": "2021-11-15T00:24:50.829028Z"
    }
   },
   "outputs": [
    {
     "data": {
      "text/plain": [
       "array([0, 1, 2, ..., 8, 9, 8])"
      ]
     },
     "execution_count": 10,
     "metadata": {},
     "output_type": "execute_result"
    }
   ],
   "source": [
    "y"
   ]
  },
  {
   "cell_type": "code",
   "execution_count": 11,
   "id": "555249a6",
   "metadata": {
    "ExecuteTime": {
     "end_time": "2021-11-15T00:24:50.859214Z",
     "start_time": "2021-11-15T00:24:50.844117Z"
    }
   },
   "outputs": [
    {
     "data": {
      "text/plain": [
       "array([0, 0, 0, ..., 0, 1, 0])"
      ]
     },
     "execution_count": 11,
     "metadata": {},
     "output_type": "execute_result"
    }
   ],
   "source": [
    "#조건에 맞는 것만 1반환\n",
    "np.where(y==9,1,0)"
   ]
  },
  {
   "cell_type": "code",
   "execution_count": 12,
   "id": "1f63f725",
   "metadata": {
    "ExecuteTime": {
     "end_time": "2021-11-15T00:24:50.875232Z",
     "start_time": "2021-11-15T00:24:50.860206Z"
    }
   },
   "outputs": [
    {
     "data": {
      "text/plain": [
       "(array([   9,   19,   29,   31,   37,   39,   69,   73,   92,  105,  119,\n",
       "         125,  128,  139,  149,  159,  161,  167,  169,  199,  203,  220,\n",
       "         233,  251,  254,  265,  275,  285,  287,  293,  295,  325,  329,\n",
       "         348,  361,  375,  381,  384,  395,  405,  415,  417,  423,  425,\n",
       "         455,  459,  478,  491,  505,  511,  514,  525,  535,  545,  547,\n",
       "         553,  555,  585,  589,  608,  621,  635,  641,  644,  655,  665,\n",
       "         675,  677,  683,  685,  715,  719,  738,  751,  765,  771,  774,\n",
       "         785,  795,  805,  807,  813,  815,  845,  849,  868,  881,  895,\n",
       "         901,  904,  914,  924,  934,  936,  942,  944,  971,  975,  993,\n",
       "        1006, 1020, 1024, 1027, 1038, 1048, 1058, 1060, 1066, 1068, 1096,\n",
       "        1100, 1119, 1132, 1146, 1152, 1155, 1166, 1176, 1186, 1188, 1194,\n",
       "        1196, 1226, 1230, 1249, 1262, 1276, 1282, 1285, 1296, 1306, 1316,\n",
       "        1318, 1324, 1326, 1356, 1360, 1379, 1392, 1406, 1412, 1424, 1434,\n",
       "        1444, 1446, 1452, 1454, 1484, 1488, 1507, 1520, 1534, 1540, 1543,\n",
       "        1554, 1562, 1572, 1574, 1580, 1582, 1612, 1616, 1633, 1646, 1658,\n",
       "        1662, 1665, 1676, 1686, 1696, 1698, 1704, 1706, 1736, 1740, 1759,\n",
       "        1772, 1786, 1792, 1795], dtype=int64),)"
      ]
     },
     "execution_count": 12,
     "metadata": {},
     "output_type": "execute_result"
    }
   ],
   "source": [
    "#조건을 만족하는 값만 출력\n",
    "np.where(y==9)"
   ]
  },
  {
   "cell_type": "code",
   "execution_count": 13,
   "id": "333c98d9",
   "metadata": {
    "ExecuteTime": {
     "end_time": "2021-11-15T00:24:50.890280Z",
     "start_time": "2021-11-15T00:24:50.876202Z"
    }
   },
   "outputs": [],
   "source": [
    "#불균형 데이터 만들기\n",
    "y= np.where(y==9,1,0)"
   ]
  },
  {
   "cell_type": "code",
   "execution_count": 14,
   "id": "838f440a",
   "metadata": {
    "ExecuteTime": {
     "end_time": "2021-11-15T00:24:50.905374Z",
     "start_time": "2021-11-15T00:24:50.895298Z"
    }
   },
   "outputs": [
    {
     "data": {
      "text/plain": [
       "(array([0, 1]), array([1617,  180], dtype=int64))"
      ]
     },
     "execution_count": 14,
     "metadata": {},
     "output_type": "execute_result"
    }
   ],
   "source": [
    "#각 결과는 array로 반환\n",
    "y_pct = np.unique(y, return_counts=True)\n",
    "y_pct"
   ]
  },
  {
   "cell_type": "code",
   "execution_count": 15,
   "id": "463766b7",
   "metadata": {
    "ExecuteTime": {
     "end_time": "2021-11-15T00:24:50.920596Z",
     "start_time": "2021-11-15T00:24:50.907368Z"
    }
   },
   "outputs": [],
   "source": [
    "#y.size는 len(y)와 동일"
   ]
  },
  {
   "cell_type": "code",
   "execution_count": 16,
   "id": "cb1bba34",
   "metadata": {
    "ExecuteTime": {
     "end_time": "2021-11-15T00:24:50.936524Z",
     "start_time": "2021-11-15T00:24:50.921261Z"
    }
   },
   "outputs": [
    {
     "data": {
      "text/plain": [
       "array([0.89983306, 0.10016694])"
      ]
     },
     "execution_count": 16,
     "metadata": {},
     "output_type": "execute_result"
    }
   ],
   "source": [
    "y_pct[1]/y.size\n",
    "#음성은 검출을 잘하나\n",
    "#양성은 잘 검출하지 못하므로 성능이 좋지 못함"
   ]
  },
  {
   "cell_type": "code",
   "execution_count": 17,
   "id": "177717db",
   "metadata": {
    "ExecuteTime": {
     "end_time": "2021-11-15T00:24:51.014692Z",
     "start_time": "2021-11-15T00:24:50.937524Z"
    }
   },
   "outputs": [
    {
     "data": {
      "image/png": "[encoded data removed]",
      "text/plain": [
       "<Figure size 504x504 with 1 Axes>"
      ]
     },
     "metadata": {
      "needs_background": "light"
     },
     "output_type": "display_data"
    }
   ],
   "source": [
    "plt.figure(figsize=(7,7))\n",
    "plt.bar(y_pct[0], y_pct[1])\n",
    "plt.xticks([0,1], labels=['Negative(not 9)', 'Positive(9)'])\n",
    "plt.show()"
   ]
  },
  {
   "cell_type": "code",
   "execution_count": 18,
   "id": "8da989ad",
   "metadata": {
    "ExecuteTime": {
     "end_time": "2021-11-15T00:24:51.124336Z",
     "start_time": "2021-11-15T00:24:51.015706Z"
    }
   },
   "outputs": [
    {
     "name": "stdout",
     "output_type": "stream",
     "text": [
      "[0.89977728 0.10022272]\n",
      "[0.9 0.1]\n"
     ]
    }
   ],
   "source": [
    "from sklearn.model_selection import train_test_split\n",
    "\n",
    "X_train, X_test, y_train, y_test = train_test_split(X, y, stratify=y,  random_state=0)\n",
    "\n",
    "print(np.unique(y_train, return_counts=True)[1]/y_train.size)\n",
    "print(np.unique(y_test, return_counts=True)[1]/y_test.size)"
   ]
  },
  {
   "cell_type": "code",
   "execution_count": 19,
   "id": "a9c36e34",
   "metadata": {
    "ExecuteTime": {
     "end_time": "2021-11-15T00:24:52.555614Z",
     "start_time": "2021-11-15T00:24:51.125331Z"
    }
   },
   "outputs": [],
   "source": [
    "import pandas as pd\n",
    "import numpy as np\n",
    "\n",
    "from sklearn.dummy import DummyClassifier\n",
    "from sklearn.metrics import accuracy_score"
   ]
  },
  {
   "cell_type": "code",
   "execution_count": 20,
   "id": "ac273c10",
   "metadata": {
    "ExecuteTime": {
     "end_time": "2021-11-15T00:24:52.571360Z",
     "start_time": "2021-11-15T00:24:52.556616Z"
    }
   },
   "outputs": [
    {
     "name": "stdout",
     "output_type": "stream",
     "text": [
      "훈련데이터 정확도 0.8997772828507795, 테스트데이터 정확도: 0.9\n"
     ]
    }
   ],
   "source": [
    "#dummy = 목업같은 것\n",
    "#y값 중 빈도수가 제일 높은 class로 예측\n",
    "dummy_model = DummyClassifier(strategy='most_frequent') \n",
    "\n",
    "\n",
    "dummy_model.fit(X_train, y_train)\n",
    "\n",
    "pred_train_dummy = dummy_model.predict(X_train)\n",
    "pred_test_dummy = dummy_model.predict(X_test)\n",
    "\n",
    "train_acc = accuracy_score(y_train, pred_train_dummy)\n",
    "test_acc = accuracy_score(y_test, pred_test_dummy)\n",
    "print(f\"훈련데이터 정확도 {train_acc}, 테스트데이터 정확도: {test_acc}\") \n",
    "#위와 동일한 결과"
   ]
  },
  {
   "cell_type": "code",
   "execution_count": 21,
   "id": "ed4826c9",
   "metadata": {
    "ExecuteTime": {
     "end_time": "2021-11-15T00:24:52.586795Z",
     "start_time": "2021-11-15T00:24:52.572258Z"
    }
   },
   "outputs": [],
   "source": [
    "from sklearn.metrics import confusion_matrix, plot_confusion_matrix, accuracy_score, recall_score, precision_score, f1_score"
   ]
  },
  {
   "cell_type": "markdown",
   "id": "cfdde04e",
   "metadata": {},
   "source": [
    "# TODO 머신 모델을 이용해 학습\n",
    "- DecisionTreeClassifier 사용(max_depth=3)\n",
    "- 모델생성\n",
    "- 학습(train)\n",
    "- 평가(train/test)\n",
    "    - accuracy, recall, precision, f1 score, confusion_matrix 확인"
   ]
  },
  {
   "cell_type": "code",
   "execution_count": 22,
   "id": "304e341a",
   "metadata": {
    "ExecuteTime": {
     "end_time": "2021-11-15T00:24:52.601943Z",
     "start_time": "2021-11-15T00:24:52.587477Z"
    }
   },
   "outputs": [],
   "source": [
    "import pandas as pd\n",
    "import numpy as np\n",
    "\n",
    "from sklearn.dummy import DummyClassifier\n",
    "from sklearn.metrics import accuracy_score"
   ]
  },
  {
   "cell_type": "code",
   "execution_count": 23,
   "id": "876f43e0",
   "metadata": {
    "ExecuteTime": {
     "end_time": "2021-11-15T00:24:52.617819Z",
     "start_time": "2021-11-15T00:24:52.602672Z"
    }
   },
   "outputs": [
    {
     "name": "stdout",
     "output_type": "stream",
     "text": [
      "훈련데이터 정확도 0.8997772828507795, 테스트데이터 정확도: 0.9\n"
     ]
    }
   ],
   "source": [
    "#dummy\n",
    "dummy_model = DummyClassifier(strategy='most_frequent')\n",
    "\n",
    "dummy_model.fit(X_train, y_train)\n",
    "\n",
    "pred_train_dummy = dummy_model.predict(X_train)\n",
    "pred_test_dummy = dummy_model.predict(X_test)\n",
    "\n",
    "train_acc = accuracy_score(y_train, pred_train_dummy)\n",
    "test_acc = accuracy_score(y_test, pred_test_dummy)\n",
    "print(f\"훈련데이터 정확도 {train_acc}, 테스트데이터 정확도: {test_acc}\") \n",
    "#비록 정확도는 90%(0.9) 이지만 10%(0.1)의 9는 아예 분류하지 못한다. \n",
    "#찾으려는 대상(positive)이 9일 경우 하나도 분류해 내지 못하는 모델이 된다."
   ]
  },
  {
   "cell_type": "code",
   "execution_count": 24,
   "id": "aaafaca1",
   "metadata": {
    "ExecuteTime": {
     "end_time": "2021-11-15T00:24:52.633345Z",
     "start_time": "2021-11-15T00:24:52.618850Z"
    }
   },
   "outputs": [],
   "source": [
    "#혼동행렬\n",
    "from sklearn.metrics import confusion_matrix\n",
    "from sklearn.metrics import plot_confusion_matrix\n",
    "from sklearn.metrics import accuracy_score\n",
    "from sklearn.metrics import recall_score\n",
    "from sklearn.metrics import precision_score\n",
    "from sklearn.metrics import f1_score"
   ]
  },
  {
   "cell_type": "markdown",
   "id": "e122d38b",
   "metadata": {},
   "source": [
    "# 각 평가 지표 계산 함수\n",
    "- sklearn.metrics 모듈\n",
    "- numpy 배열로 반환\n",
    "- plot_confusion_matrix() 표 그리기\n",
    "- **confusion_matrix(y 실제값, y 예측값)/plot_confusion_matrix()**\n",
    "    - 혼돈 행렬 반환\n",
    "- **recall_score(y 실제값, y 예측값)**\n",
    "  - Recall(재현율) 점수 반환 (Positive 중 Positive로 예측한 비율 (TPR))\n",
    "- **precision_score(y 실제값, y 예측값)**\n",
    "  - Precision(정밀도) 점수 반환 (Positive로 예측한 것 중 Positive인 것의 비율 (PPV))\n",
    "- **f1_score(y 실제값, y 예측값)**\n",
    "    - F1 점수 반환 (recall과 precision의 조화 평균값)\n",
    "- **classification_report(y 실제값, y 예측값)**\n",
    "    - 클래스 별로 recall, precision, f1 점수와 accuracy를 종합해서 보여준다."
   ]
  },
  {
   "cell_type": "code",
   "execution_count": 25,
   "id": "2c24e82c",
   "metadata": {
    "ExecuteTime": {
     "end_time": "2021-11-15T00:24:52.648577Z",
     "start_time": "2021-11-15T00:24:52.633882Z"
    }
   },
   "outputs": [
    {
     "name": "stdout",
     "output_type": "stream",
     "text": [
      "Train confusion matrix\n",
      "[[1212    0]\n",
      " [ 135    0]]\n",
      "--------------------------------------------------\n",
      "Test confusion matrix\n",
      "[[405   0]\n",
      " [ 45   0]]\n"
     ]
    }
   ],
   "source": [
    "print('Train confusion matrix')\n",
    "print(confusion_matrix(y_train, pred_train_dummy))\n",
    "print(\"-\"*50)\n",
    "print('Test confusion matrix')\n",
    "print(confusion_matrix(y_test, pred_test_dummy))"
   ]
  },
  {
   "cell_type": "code",
   "execution_count": 26,
   "id": "056b908c",
   "metadata": {
    "ExecuteTime": {
     "end_time": "2021-11-15T00:24:52.789554Z",
     "start_time": "2021-11-15T00:24:52.649577Z"
    }
   },
   "outputs": [
    {
     "name": "stderr",
     "output_type": "stream",
     "text": [
      "C:\\Users\\user\\anaconda3\\envs\\ml\\lib\\site-packages\\sklearn\\utils\\deprecation.py:87: FutureWarning: Function plot_confusion_matrix is deprecated; Function `plot_confusion_matrix` is deprecated in 1.0 and will be removed in 1.2. Use one of the class methods: ConfusionMatrixDisplay.from_predictions or ConfusionMatrixDisplay.from_estimator.\n",
      "  warnings.warn(msg, category=FutureWarning)\n"
     ]
    },
    {
     "data": {
      "text/plain": [
       "<sklearn.metrics._plot.confusion_matrix.ConfusionMatrixDisplay at 0x196b517b580>"
      ]
     },
     "execution_count": 26,
     "metadata": {},
     "output_type": "execute_result"
    },
    {
     "data": {
      "image/png": "[encoded data removed]",
      "text/plain": [
       "<Figure size 504x504 with 2 Axes>"
      ]
     },
     "metadata": {
      "needs_background": "light"
     },
     "output_type": "display_data"
    }
   ],
   "source": [
    "from sklearn.metrics import plot_confusion_matrix\n",
    "import matplotlib as mpl\n",
    "mpl.rcParams['font.size']=17\n",
    "_, ax = plt.subplots(1,1,figsize=(7,7))\n",
    "\n",
    "#sklearn\n",
    "plot_confusion_matrix(dummy_model,\n",
    "                     X_test,\n",
    "                     y_test,\n",
    "                     display_labels=['neg', 'pos'],\n",
    "                     cmap=plt.cm.Blues,\n",
    "                     values_format='d',\n",
    "                     ax=ax)"
   ]
  },
  {
   "cell_type": "code",
   "execution_count": 27,
   "id": "57c158a2",
   "metadata": {
    "ExecuteTime": {
     "end_time": "2021-11-15T00:24:52.898161Z",
     "start_time": "2021-11-15T00:24:52.790584Z"
    }
   },
   "outputs": [
    {
     "data": {
      "text/plain": [
       "<sklearn.metrics._plot.confusion_matrix.ConfusionMatrixDisplay at 0x196b5200070>"
      ]
     },
     "execution_count": 27,
     "metadata": {},
     "output_type": "execute_result"
    },
    {
     "data": {
      "image/png": "[encoded data removed]",
      "text/plain": [
       "<Figure size 432x288 with 2 Axes>"
      ]
     },
     "metadata": {
      "needs_background": "light"
     },
     "output_type": "display_data"
    }
   ],
   "source": [
    "#confusion_matrix 값을 주고 바로 그래프 그리기\n",
    "from sklearn.metrics import ConfusionMatrixDisplay\n",
    "\n",
    "cm=confusion_matrix(y_test, pred_test_dummy)\n",
    "\n",
    "disp=ConfusionMatrixDisplay(cm,\n",
    "                           display_labels=['1', '0'])\n",
    "disp.plot(cmap='Blues')"
   ]
  },
  {
   "cell_type": "code",
   "execution_count": 28,
   "id": "0fe5a35f",
   "metadata": {
    "ExecuteTime": {
     "end_time": "2021-11-15T00:24:52.913150Z",
     "start_time": "2021-11-15T00:24:52.901184Z"
    }
   },
   "outputs": [
    {
     "name": "stdout",
     "output_type": "stream",
     "text": [
      "Accuracy\n"
     ]
    },
    {
     "data": {
      "text/plain": [
       "(0.8997772828507795, 0.9)"
      ]
     },
     "execution_count": 28,
     "metadata": {},
     "output_type": "execute_result"
    }
   ],
   "source": [
    "print(\"Accuracy\")\n",
    "accuracy_score(y_train,pred_train_dummy), accuracy_score(y_test, pred_test_dummy)"
   ]
  },
  {
   "cell_type": "code",
   "execution_count": 29,
   "id": "8b17647a",
   "metadata": {
    "ExecuteTime": {
     "end_time": "2021-11-15T00:24:52.929108Z",
     "start_time": "2021-11-15T00:24:52.914120Z"
    }
   },
   "outputs": [
    {
     "name": "stdout",
     "output_type": "stream",
     "text": [
      "Recall\n"
     ]
    },
    {
     "data": {
      "text/plain": [
       "(0.0, 0.0)"
      ]
     },
     "execution_count": 29,
     "metadata": {},
     "output_type": "execute_result"
    }
   ],
   "source": [
    "print(\"Recall\") \n",
    "recall_score(y_train, pred_train_dummy), recall_score(y_test, pred_test_dummy)\n",
    "#0이 나왔다는건 positive로 맞춘게 하나도 없다는 것"
   ]
  },
  {
   "cell_type": "code",
   "execution_count": 30,
   "id": "679d5f1d",
   "metadata": {
    "ExecuteTime": {
     "end_time": "2021-11-15T00:24:52.960516Z",
     "start_time": "2021-11-15T00:24:52.930078Z"
    }
   },
   "outputs": [
    {
     "name": "stdout",
     "output_type": "stream",
     "text": [
      "Precision\n"
     ]
    },
    {
     "name": "stderr",
     "output_type": "stream",
     "text": [
      "C:\\Users\\user\\anaconda3\\envs\\ml\\lib\\site-packages\\sklearn\\metrics\\_classification.py:1308: UndefinedMetricWarning: Precision is ill-defined and being set to 0.0 due to no predicted samples. Use `zero_division` parameter to control this behavior.\n",
      "  _warn_prf(average, modifier, msg_start, len(result))\n",
      "C:\\Users\\user\\anaconda3\\envs\\ml\\lib\\site-packages\\sklearn\\metrics\\_classification.py:1308: UndefinedMetricWarning: Precision is ill-defined and being set to 0.0 due to no predicted samples. Use `zero_division` parameter to control this behavior.\n",
      "  _warn_prf(average, modifier, msg_start, len(result))\n"
     ]
    },
    {
     "data": {
      "text/plain": [
       "(0.0, 0.0)"
      ]
     },
     "execution_count": 30,
     "metadata": {},
     "output_type": "execute_result"
    }
   ],
   "source": [
    "print('Precision')\n",
    "precision_score(y_train, pred_train_dummy), precision_score(y_test, pred_test_dummy)\n",
    "#0이 나왔다는건 0이라고 예측한것 중 맞춘게 하나도 없다는 것"
   ]
  },
  {
   "cell_type": "code",
   "execution_count": 31,
   "id": "27c4ad39",
   "metadata": {
    "ExecuteTime": {
     "end_time": "2021-11-15T00:24:52.976525Z",
     "start_time": "2021-11-15T00:24:52.962484Z"
    }
   },
   "outputs": [
    {
     "name": "stdout",
     "output_type": "stream",
     "text": [
      "f1 score\n"
     ]
    },
    {
     "data": {
      "text/plain": [
       "(0.0, 0.0)"
      ]
     },
     "execution_count": 31,
     "metadata": {},
     "output_type": "execute_result"
    }
   ],
   "source": [
    "print('f1 score')\n",
    "f1_score(y_train, pred_train_dummy), f1_score(y_test, pred_test_dummy)\n"
   ]
  },
  {
   "cell_type": "markdown",
   "id": "44c67492",
   "metadata": {
    "ExecuteTime": {
     "end_time": "2021-11-12T08:11:19.480733Z",
     "start_time": "2021-11-12T08:11:19.471759Z"
    }
   },
   "source": [
    "# 개인) 머신 모델을 이용해 학습"
   ]
  },
  {
   "cell_type": "markdown",
   "id": "7d03e831",
   "metadata": {
    "ExecuteTime": {
     "end_time": "2021-11-12T08:25:56.119323Z",
     "start_time": "2021-11-12T08:25:56.111346Z"
    }
   },
   "source": [
    "### TODO 머신 모델을 이용해 학습\n",
    "- DecisionTreeClassifier 사용(max_depth=3)\n",
    "- 모델생성\n",
    "- 학습(train)\n",
    "- 평가(train/test)\n",
    "    - accuracy, recall, precision, f1 score, confusion_matrix 확인"
   ]
  },
  {
   "cell_type": "code",
   "execution_count": 32,
   "id": "8cbffae8",
   "metadata": {
    "ExecuteTime": {
     "end_time": "2021-11-15T00:24:53.414376Z",
     "start_time": "2021-11-15T00:24:52.977495Z"
    }
   },
   "outputs": [
    {
     "name": "stdout",
     "output_type": "stream",
     "text": [
      "0.9465478841870824\n",
      "0.9511111111111111\n"
     ]
    }
   ],
   "source": [
    "#더미모델 사용\n",
    "\n",
    "from sklearn.tree import DecisionTreeClassifier\n",
    "from sklearn.model_selection import train_test_split\n",
    "from sklearn.metrics import accuracy_score\n",
    "\n",
    "dummy_model = DecisionTreeClassifier(max_depth=3, random_state=0)\n",
    "dummy_model.fit(X_train, y_train)\n",
    "\n",
    "pred_train_dummy = dummy_model.predict(X_train)\n",
    "pred_test_dummy = dummy_model.predict(X_test)\n",
    "\n",
    "train_acc = accuracy_score(y_train, pred_train_dummy)\n",
    "test_acc = accuracy_score(y_test, pred_test_dummy)\n",
    "\n",
    "print(train_acc)\n",
    "print(test_acc)\n",
    "#accuracy_"
   ]
  },
  {
   "cell_type": "code",
   "execution_count": 33,
   "id": "396def1c",
   "metadata": {
    "ExecuteTime": {
     "end_time": "2021-11-15T00:24:53.430556Z",
     "start_time": "2021-11-15T00:24:53.415374Z"
    }
   },
   "outputs": [],
   "source": [
    "from sklearn.metrics import accuracy_score\n",
    "from sklearn.metrics import recall_score\n",
    "from sklearn.metrics import precision_score\n",
    "from sklearn.metrics import f1_score\n",
    "from sklearn.metrics import confusion_matrix\n",
    "#실제y 예측y"
   ]
  },
  {
   "cell_type": "code",
   "execution_count": 34,
   "id": "e628acaf",
   "metadata": {
    "ExecuteTime": {
     "end_time": "2021-11-15T00:24:53.445249Z",
     "start_time": "2021-11-15T00:24:53.431259Z"
    }
   },
   "outputs": [
    {
     "name": "stdout",
     "output_type": "stream",
     "text": [
      "accuracy_score#########################################\n",
      "0.9465478841870824\n",
      "0.9511111111111111\n",
      " \n",
      "recall_score#########################################\n",
      "0.8\n",
      "0.7555555555555555\n",
      " \n",
      "precision_score#########################################\n",
      "0.7058823529411765\n",
      "0.7555555555555555\n",
      " \n",
      "f1_score#########################################\n",
      "0.7500000000000001\n",
      "0.7555555555555555\n",
      " \n",
      "confusion_matrix#########################################\n",
      "[[1167   45]\n",
      " [  27  108]]\n",
      "[[394  11]\n",
      " [ 11  34]]\n"
     ]
    }
   ],
   "source": [
    "print('accuracy_score#########################################')\n",
    "print(accuracy_score(y_train, pred_train_dummy))\n",
    "print(accuracy_score(y_test, pred_test_dummy))\n",
    "print(' ')\n",
    "print('recall_score#########################################')\n",
    "print(recall_score(y_train, pred_train_dummy))\n",
    "print(recall_score(y_test, pred_test_dummy))\n",
    "print(' ')\n",
    "print('precision_score#########################################')\n",
    "print(precision_score(y_train, pred_train_dummy))\n",
    "print(precision_score(y_test, pred_test_dummy))\n",
    "print(' ')\n",
    "print('f1_score#########################################')\n",
    "print(f1_score(y_train, pred_train_dummy))\n",
    "print(f1_score(y_test, pred_test_dummy))\n",
    "print(' ')\n",
    "print('confusion_matrix#########################################')\n",
    "print(confusion_matrix(y_train, pred_train_dummy))\n",
    "print(confusion_matrix(y_test, pred_test_dummy))"
   ]
  },
  {
   "cell_type": "markdown",
   "id": "e6627a1b",
   "metadata": {},
   "source": [
    "#dummy로 실제 테스트 했을 때\n",
    "\n",
    "#정확도: train과 test 셋을 기준으로 모두 정확도는 90퍼센트 이상으로 높게 나옴\n",
    "#민감도(recall):train셋에 비해 test셋은 성능이 낮게 나옴\n",
    "               >참이라고 예측한 것/실제 값이 참인것\n",
    "#정밀도(precision):train셋에 비해 test셋은 성능이 낮게 나옴\n",
    "                  >실제값이 참인것/참이라고 예측한 것\n",
    "#f1_score:2*(민감도*정밀도)/(민감도+정밀도)"
   ]
  },
  {
   "cell_type": "code",
   "execution_count": 35,
   "id": "4f1bae09",
   "metadata": {
    "ExecuteTime": {
     "end_time": "2021-11-15T00:24:53.652345Z",
     "start_time": "2021-11-15T00:24:53.446220Z"
    }
   },
   "outputs": [
    {
     "data": {
      "text/plain": [
       "<sklearn.metrics._plot.confusion_matrix.ConfusionMatrixDisplay at 0x196b5306520>"
      ]
     },
     "execution_count": 35,
     "metadata": {},
     "output_type": "execute_result"
    },
    {
     "data": {
      "image/png": "[encoded data removed]",
      "text/plain": [
       "<Figure size 432x288 with 2 Axes>"
      ]
     },
     "metadata": {
      "needs_background": "light"
     },
     "output_type": "display_data"
    },
    {
     "data": {
      "image/png": "[encoded data removed]",
      "text/plain": [
       "<Figure size 432x288 with 2 Axes>"
      ]
     },
     "metadata": {
      "needs_background": "light"
     },
     "output_type": "display_data"
    }
   ],
   "source": [
    "from sklearn.metrics import ConfusionMatrixDisplay\n",
    "train_cm = confusion_matrix(y_train, pred_train_dummy)\n",
    "test_cm = confusion_matrix(y_test, pred_test_dummy)\n",
    "train_disp = ConfusionMatrixDisplay(train_cm, display_labels=['0','1'])\n",
    "test_disp = ConfusionMatrixDisplay(test_cm, display_labels=['0', '1'])\n",
    "train_disp.plot(cmap='Blues')\n",
    "test_disp.plot()\n"
   ]
  },
  {
   "cell_type": "markdown",
   "id": "0f854135",
   "metadata": {},
   "source": [
    "# 강사님) 머신 모델을 이용해 학습"
   ]
  },
  {
   "cell_type": "code",
   "execution_count": 50,
   "id": "dd15f895",
   "metadata": {
    "ExecuteTime": {
     "end_time": "2021-11-15T01:24:15.326143Z",
     "start_time": "2021-11-15T01:24:15.313191Z"
    }
   },
   "outputs": [],
   "source": [
    "#강사님 버전 "
   ]
  },
  {
   "cell_type": "code",
   "execution_count": 51,
   "id": "954d58f5",
   "metadata": {
    "ExecuteTime": {
     "end_time": "2021-11-15T01:24:15.950456Z",
     "start_time": "2021-11-15T01:24:15.937245Z"
    }
   },
   "outputs": [],
   "source": [
    "from sklearn.tree import DecisionTreeClassifier\n",
    "#앙상블 모델\n",
    "from sklearn.ensemble import RandomForestClassifier\n",
    "from sklearn.metrics import accuracy_score, recall_score, precision_score, \\\n",
    "f1_score, confusion_matrix, ConfusionMatrixDisplay"
   ]
  },
  {
   "cell_type": "code",
   "execution_count": 80,
   "id": "1d9ec922",
   "metadata": {
    "ExecuteTime": {
     "end_time": "2021-11-15T01:38:20.202621Z",
     "start_time": "2021-11-15T01:38:20.032891Z"
    }
   },
   "outputs": [],
   "source": [
    "#모델생성\n",
    "tree = DecisionTreeClassifier(max_depth=3, random_state=0)\n",
    "#n_estimators= DecisionTree를100 개를 만들라는 것\n",
    "rf = RandomForestClassifier(n_estimators=100, max_depth=3, random_state=0)\n",
    "\n",
    "\n",
    "#학습\n",
    "tree.fit(X_train, y_train)\n",
    "rf.fit(X_train, y_train);\n",
    "#리턴값 보기 싫을 때 ;를 맨 뒤에(단 주피터노트북에서만 가능)\n",
    "\n",
    "#추론\n",
    "pred_train_tree= tree.predict(X_train)\n",
    "pred_test_tree = tree.predict(X_test)\n",
    "\n",
    "pred_train_rf = rf.predict(X_train)\n",
    "pred_test_rf= rf.predict(X_test)"
   ]
  },
  {
   "cell_type": "code",
   "execution_count": 93,
   "id": "0c2a9086",
   "metadata": {
    "ExecuteTime": {
     "end_time": "2021-11-15T02:10:07.095493Z",
     "start_time": "2021-11-15T02:10:07.088543Z"
    }
   },
   "outputs": [
    {
     "name": "stdout",
     "output_type": "stream",
     "text": [
      "Tree : train set\n",
      "[[1167   45]\n",
      " [  27  108]]\n",
      "------------------------------\n",
      "[[394  11]\n",
      " [ 11  34]]\n"
     ]
    }
   ],
   "source": [
    "#confusion matrix \n",
    "print('Tree : train set')\n",
    "print(confusion_matrix(y_train, pred_train_tree))\n",
    "print(\"-\" * 30)\n",
    "print(confusion_matrix(y_test, pred_test_tree))    \n",
    "      \n"
   ]
  },
  {
   "cell_type": "code",
   "execution_count": 74,
   "id": "fb23fbce",
   "metadata": {
    "ExecuteTime": {
     "end_time": "2021-11-15T01:33:55.112713Z",
     "start_time": "2021-11-15T01:33:54.992928Z"
    }
   },
   "outputs": [
    {
     "data": {
      "image/png": "[encoded data removed]",
      "text/plain": [
       "<Figure size 504x432 with 2 Axes>"
      ]
     },
     "metadata": {
      "needs_background": "light"
     },
     "output_type": "display_data"
    }
   ],
   "source": [
    "#test set\n",
    "#print(confusion_matrix(y_train, pred_train_rf))\n",
    "#그래프 크기 변경\n",
    "#axis에 그림을 그리고 figure에 담는 것임\n",
    "plt.figure(figsize=(7,6))\n",
    "ax=plt.gca()\n",
    "\n",
    "cm=confusion_matrix(y_train, pred_train_rf)\n",
    "disp = ConfusionMatrixDisplay(cm, display_labels=['Not 9', '9'])\n",
    "disp.plot(cmap='Blues', ax=ax)\n",
    "plt.title('rf train cm')\n",
    "plt.show()\n",
    "#print(confusion_matrix(y_test, pred_train_rf))"
   ]
  },
  {
   "cell_type": "code",
   "execution_count": 81,
   "id": "110294bf",
   "metadata": {
    "ExecuteTime": {
     "end_time": "2021-11-15T01:38:22.382337Z",
     "start_time": "2021-11-15T01:38:22.369097Z"
    }
   },
   "outputs": [],
   "source": [
    "def display(y, pred, title):\n",
    "    \"\"\"\n",
    "    confusion matrix 시각화 함수\n",
    "    [파라미터]\n",
    "      y: ndarray - 정답(Ground Truth)\n",
    "      pred:ndarray - 모델이 예측한 값\n",
    "      title: str- 그래프의 제목\n",
    "    [Return]\n",
    "    [Exception]\n",
    "    \"\"\"\n",
    "    plt.figure(figsize=(7,6))\n",
    "    ax=plt.gca()\n",
    "\n",
    "    cm=confusion_matrix(y, pred)\n",
    "    disp = ConfusionMatrixDisplay(cm, display_labels=['Not 9', '9'])\n",
    "    disp.plot(cmap='Blues', ax=ax)\n",
    "    plt.title(title)\n",
    "    plt.show()"
   ]
  },
  {
   "cell_type": "code",
   "execution_count": 82,
   "id": "cf863566",
   "metadata": {
    "ExecuteTime": {
     "end_time": "2021-11-15T01:38:23.129486Z",
     "start_time": "2021-11-15T01:38:23.008730Z"
    }
   },
   "outputs": [
    {
     "data": {
      "image/png": "[encoded data removed]",
      "text/plain": [
       "<Figure size 504x432 with 2 Axes>"
      ]
     },
     "metadata": {
      "needs_background": "light"
     },
     "output_type": "display_data"
    }
   ],
   "source": [
    "display(y_train, pred_train_rf, 'randomforest train confusion matrix')"
   ]
  },
  {
   "cell_type": "code",
   "execution_count": 83,
   "id": "e3866fa3",
   "metadata": {
    "ExecuteTime": {
     "end_time": "2021-11-15T01:38:23.862679Z",
     "start_time": "2021-11-15T01:38:23.728635Z"
    }
   },
   "outputs": [
    {
     "data": {
      "image/png": "[encoded data removed]",
      "text/plain": [
       "<Figure size 504x432 with 2 Axes>"
      ]
     },
     "metadata": {
      "needs_background": "light"
     },
     "output_type": "display_data"
    }
   ],
   "source": [
    "display(y_test, pred_test_rf, 'randomforest test confusion matrix')"
   ]
  },
  {
   "cell_type": "code",
   "execution_count": 85,
   "id": "4a13baab",
   "metadata": {
    "ExecuteTime": {
     "end_time": "2021-11-15T01:39:06.901643Z",
     "start_time": "2021-11-15T01:39:06.881697Z"
    }
   },
   "outputs": [
    {
     "name": "stdout",
     "output_type": "stream",
     "text": [
      "tree_train\n"
     ]
    },
    {
     "data": {
      "text/plain": [
       "(0.9465478841870824, 0.8)"
      ]
     },
     "execution_count": 85,
     "metadata": {},
     "output_type": "execute_result"
    }
   ],
   "source": [
    "#평가지표 출력\n",
    "print('tree_train')\n",
    "accuracy_score(y_train, pred_train_tree), recall_score(y_train, pred_train_tree)\n"
   ]
  },
  {
   "cell_type": "code",
   "execution_count": 86,
   "id": "1302f8ef",
   "metadata": {
    "ExecuteTime": {
     "end_time": "2021-11-15T01:43:43.090495Z",
     "start_time": "2021-11-15T01:43:43.072739Z"
    }
   },
   "outputs": [],
   "source": [
    "#평가지표  출력 함수\n",
    "def print_metrics_classifier(y, pred, title):\n",
    "    \"\"\"\n",
    "    accuracy, recall, precision, f1점수를 출력하는 함수\n",
    "    [parameter]\n",
    "      y: ndarray - 정답(Ground Truth)\n",
    "      pred:ndarray - 모델이 예측한 값\n",
    "      title:str - 제목\n",
    "    [return]\n",
    "    [exception]\n",
    "    \"\"\"\n",
    "    print(title)\n",
    "    print('정확도(accuracy): ', accuracy_score(y, pred))\n",
    "    print('재현률(recall)', recall_score(y, pred))\n",
    "    print('정밀도(precision):', precision_score(y, pred))\n",
    "    print('f1 score:', f1_score(y, pred))"
   ]
  },
  {
   "cell_type": "code",
   "execution_count": 88,
   "id": "29341578",
   "metadata": {
    "ExecuteTime": {
     "end_time": "2021-11-15T01:44:17.578321Z",
     "start_time": "2021-11-15T01:44:17.568376Z"
    }
   },
   "outputs": [
    {
     "name": "stdout",
     "output_type": "stream",
     "text": [
      "tree_train\n",
      "정확도(accuracy):  0.9465478841870824\n",
      "재현률(recall) 0.8\n",
      "정밀도(precision): 0.7058823529411765\n",
      "f1 score: 0.7500000000000001\n"
     ]
    }
   ],
   "source": [
    "print_metrics_classifier(y_train, pred_train_tree, 'tree_train')"
   ]
  },
  {
   "cell_type": "code",
   "execution_count": 89,
   "id": "f7f4fcfa",
   "metadata": {
    "ExecuteTime": {
     "end_time": "2021-11-15T01:44:41.682668Z",
     "start_time": "2021-11-15T01:44:41.664717Z"
    }
   },
   "outputs": [
    {
     "name": "stdout",
     "output_type": "stream",
     "text": [
      "tree_test\n",
      "정확도(accuracy):  0.9511111111111111\n",
      "재현률(recall) 0.7555555555555555\n",
      "정밀도(precision): 0.7555555555555555\n",
      "f1 score: 0.7555555555555555\n"
     ]
    }
   ],
   "source": [
    "print_metrics_classifier(y_test, pred_test_tree, 'tree_test')"
   ]
  },
  {
   "cell_type": "code",
   "execution_count": 91,
   "id": "f51c867d",
   "metadata": {
    "ExecuteTime": {
     "end_time": "2021-11-15T01:45:42.470962Z",
     "start_time": "2021-11-15T01:45:42.448913Z"
    }
   },
   "outputs": [
    {
     "name": "stdout",
     "output_type": "stream",
     "text": [
      "rf_train\n",
      "정확도(accuracy):  0.9346696362286563\n",
      "재현률(recall) 0.34814814814814815\n",
      "정밀도(precision): 1.0\n",
      "f1 score: 0.5164835164835165\n"
     ]
    }
   ],
   "source": [
    "print_metrics_classifier(y_train, pred_train_rf, 'rf_train')\n",
    "#재현률로 보아 실제 9인건 35퍼 정도밖에 못맞춤"
   ]
  },
  {
   "cell_type": "code",
   "execution_count": 90,
   "id": "448f7408",
   "metadata": {
    "ExecuteTime": {
     "end_time": "2021-11-15T01:45:41.726970Z",
     "start_time": "2021-11-15T01:45:41.713008Z"
    },
    "scrolled": true
   },
   "outputs": [
    {
     "name": "stdout",
     "output_type": "stream",
     "text": [
      "rf_test\n",
      "정확도(accuracy):  0.9311111111111111\n",
      "재현률(recall) 0.3111111111111111\n",
      "정밀도(precision): 1.0\n",
      "f1 score: 0.4745762711864407\n"
     ]
    }
   ],
   "source": [
    "print_metrics_classifier(y_test, pred_test_rf, 'rf_test')"
   ]
  },
  {
   "cell_type": "code",
   "execution_count": 96,
   "id": "b46cf048",
   "metadata": {
    "ExecuteTime": {
     "end_time": "2021-11-15T03:26:00.282494Z",
     "start_time": "2021-11-15T03:26:00.270525Z"
    }
   },
   "outputs": [
    {
     "name": "stdout",
     "output_type": "stream",
     "text": [
      "(8,) (8,) (7,)\n"
     ]
    }
   ],
   "source": [
    "##임계값\n",
    "from sklearn.metrics import precision_recall_curve\n",
    "pos_proba = tree.predict_proba(X_test)[:,1] #(1)pos일 확률만 추출(450,2) / 1일 확률인 인덱스만 가져옴\n",
    "precisions, recalls, thresholds = precision_recall_curve(y_test, pos_proba)\n",
    "#threshold 마지막에 1이 생략됨. precision과 recall은 threshold 1일 때 결과를 가지고 있음.\n",
    "print(precisions.shape, recalls.shape, thresholds.shape) "
   ]
  },
  {
   "cell_type": "code",
   "execution_count": 97,
   "id": "aff59866",
   "metadata": {
    "ExecuteTime": {
     "end_time": "2021-11-15T03:26:00.951164Z",
     "start_time": "2021-11-15T03:26:00.942154Z"
    }
   },
   "outputs": [
    {
     "name": "stdout",
     "output_type": "stream",
     "text": [
      "(8,) (8,) (8,)\n"
     ]
    }
   ],
   "source": [
    "thresholds = np.append(thresholds, 1) #threshold 1을 추가\n",
    "print(precisions.shape, recalls.shape, thresholds.shape) "
   ]
  },
  {
   "cell_type": "code",
   "execution_count": 99,
   "id": "42698b37",
   "metadata": {
    "ExecuteTime": {
     "end_time": "2021-11-15T03:31:55.094869Z",
     "start_time": "2021-11-15T03:31:55.086863Z"
    }
   },
   "outputs": [
    {
     "data": {
      "text/html": [
       "<div>\n",
       "<style scoped>\n",
       "    .dataframe tbody tr th:only-of-type {\n",
       "        vertical-align: middle;\n",
       "    }\n",
       "\n",
       "    .dataframe tbody tr th {\n",
       "        vertical-align: top;\n",
       "    }\n",
       "\n",
       "    .dataframe thead th {\n",
       "        text-align: right;\n",
       "    }\n",
       "</style>\n",
       "<table border=\"1\" class=\"dataframe\">\n",
       "  <thead>\n",
       "    <tr style=\"text-align: right;\">\n",
       "      <th></th>\n",
       "      <th>threshold</th>\n",
       "      <th>precision</th>\n",
       "      <th>recall</th>\n",
       "    </tr>\n",
       "  </thead>\n",
       "  <tbody>\n",
       "    <tr>\n",
       "      <th>0</th>\n",
       "      <td>0.008264</td>\n",
       "      <td>0.100000</td>\n",
       "      <td>1.000000</td>\n",
       "    </tr>\n",
       "    <tr>\n",
       "      <th>1</th>\n",
       "      <td>0.013043</td>\n",
       "      <td>0.107579</td>\n",
       "      <td>0.977778</td>\n",
       "    </tr>\n",
       "    <tr>\n",
       "      <th>2</th>\n",
       "      <td>0.033898</td>\n",
       "      <td>0.431818</td>\n",
       "      <td>0.844444</td>\n",
       "    </tr>\n",
       "    <tr>\n",
       "      <th>3</th>\n",
       "      <td>0.040000</td>\n",
       "      <td>0.513889</td>\n",
       "      <td>0.822222</td>\n",
       "    </tr>\n",
       "    <tr>\n",
       "      <th>4</th>\n",
       "      <td>0.149254</td>\n",
       "      <td>0.560606</td>\n",
       "      <td>0.822222</td>\n",
       "    </tr>\n",
       "    <tr>\n",
       "      <th>5</th>\n",
       "      <td>0.545455</td>\n",
       "      <td>0.755556</td>\n",
       "      <td>0.755556</td>\n",
       "    </tr>\n",
       "    <tr>\n",
       "      <th>6</th>\n",
       "      <td>0.750000</td>\n",
       "      <td>0.823529</td>\n",
       "      <td>0.622222</td>\n",
       "    </tr>\n",
       "    <tr>\n",
       "      <th>7</th>\n",
       "      <td>1.000000</td>\n",
       "      <td>1.000000</td>\n",
       "      <td>0.000000</td>\n",
       "    </tr>\n",
       "  </tbody>\n",
       "</table>\n",
       "</div>"
      ],
      "text/plain": [
       "   threshold  precision    recall\n",
       "0   0.008264   0.100000  1.000000\n",
       "1   0.013043   0.107579  0.977778\n",
       "2   0.033898   0.431818  0.844444\n",
       "3   0.040000   0.513889  0.822222\n",
       "4   0.149254   0.560606  0.822222\n",
       "5   0.545455   0.755556  0.755556\n",
       "6   0.750000   0.823529  0.622222\n",
       "7   1.000000   1.000000  0.000000"
      ]
     },
     "execution_count": 99,
     "metadata": {},
     "output_type": "execute_result"
    }
   ],
   "source": [
    "import pandas as pd\n",
    "pd.DataFrame({\n",
    "    'threshold':thresholds,\n",
    "    'precision':precisions,\n",
    "    'recall':recalls\n",
    "})\n",
    "\n",
    "#임계값이 바뀌는 시점에 따라 precision과 recall 변화 확인\n",
    "#threshold 가 1일 때 맞춘건 하나도 없으므로 recall(실제 pos값 대비 예측pos한)이 0"
   ]
  },
  {
   "cell_type": "code",
   "execution_count": 105,
   "id": "72c713d2",
   "metadata": {
    "ExecuteTime": {
     "end_time": "2021-11-15T03:39:00.634797Z",
     "start_time": "2021-11-15T03:39:00.509087Z"
    }
   },
   "outputs": [
    {
     "data": {
      "image/png": "[encoded data removed]",
      "text/plain": [
       "<Figure size 504x504 with 1 Axes>"
      ]
     },
     "metadata": {
      "needs_background": "light"
     },
     "output_type": "display_data"
    }
   ],
   "source": [
    "#plotting\n",
    "plt.figure(figsize=(7,7))\n",
    "plt.plot(thresholds, precisions, marker='o', label='precision') #y: precision\n",
    "plt.plot(thresholds, recalls, marker='x', label='recall') #y:recall\n",
    "\n",
    "plt.xticks(np.arange(0, 1.1, 0.1)) \n",
    "plt.grid(True)\n",
    "#범례위치 조작\n",
    "#plt.legend(loc='upper left', bbox_to_anchor=(1,1))\n",
    "#plt.legend(loc='upper left', bbox_to_anchor=(1,0.6))\n",
    "plt.legend()\n",
    "plt.show()"
   ]
  },
  {
   "cell_type": "markdown",
   "id": "21eda915",
   "metadata": {},
   "source": [
    "### Binarizer - 임계값 변경\n",
    "- Transformer로 설정한 임계점 보다 작으거나 같으면 0, 크면 1로 변환하는 변환기\n",
    "- Binarizer를 이용해 원하는 임계값을 설정하여 양성/음성 분류기준을 변경할 수 있다."
   ]
  },
  {
   "cell_type": "code",
   "execution_count": 109,
   "id": "5180f8e4",
   "metadata": {
    "ExecuteTime": {
     "end_time": "2021-11-15T05:27:10.246668Z",
     "start_time": "2021-11-15T05:27:10.235697Z"
    }
   },
   "outputs": [],
   "source": [
    "from sklearn.preprocessing import Binarizer"
   ]
  },
  {
   "cell_type": "code",
   "execution_count": 110,
   "id": "63dda090",
   "metadata": {
    "ExecuteTime": {
     "end_time": "2021-11-15T05:27:11.790206Z",
     "start_time": "2021-11-15T05:27:11.771285Z"
    }
   },
   "outputs": [
    {
     "data": {
      "text/plain": [
       "array([[0., 0., 0., 0.]])"
      ]
     },
     "execution_count": 110,
     "metadata": {},
     "output_type": "execute_result"
    }
   ],
   "source": [
    "exam = [[0.3, 0.7,0.4, 0.6]]\n",
    "\n",
    "#binarizer = Binarizer(threshold=0.1) #0.1 이하는 0 초과는 1로 변환\n",
    "#binarizer = Binarizer(threshold=0.5) #0.5 이하는 0 초과는 1로 변환\n",
    "binarizer = Binarizer(threshold=0.7) #0.7이하는 0 초과는 1로 변환\n",
    "\n",
    "binarizer.fit_transform(exam) "
   ]
  },
  {
   "cell_type": "code",
   "execution_count": 111,
   "id": "3b1b2f8b",
   "metadata": {
    "ExecuteTime": {
     "end_time": "2021-11-15T05:29:25.674369Z",
     "start_time": "2021-11-15T05:29:25.660406Z"
    }
   },
   "outputs": [
    {
     "data": {
      "text/plain": [
       "array([[0, 1, 0, 1]])"
      ]
     },
     "execution_count": 111,
     "metadata": {},
     "output_type": "execute_result"
    }
   ],
   "source": [
    "#true는 0으로 false는 1로\n",
    "#이 방법은 반드시 numpy배열로 가능\n",
    "exam = np.array(exam)\n",
    "th=0.5\n",
    "np.where(exam<=th, 0, 1)"
   ]
  },
  {
   "cell_type": "code",
   "execution_count": 113,
   "id": "cb48cdc0",
   "metadata": {
    "ExecuteTime": {
     "end_time": "2021-11-15T05:33:11.253038Z",
     "start_time": "2021-11-15T05:33:11.244066Z"
    }
   },
   "outputs": [],
   "source": [
    "binarizer1 = Binarizer(threshold=0.1)\n",
    "binarizer2= Binarizer(threshold=0.4)\n",
    "pred_proba = tree.predict_proba(X_test)\n",
    "\n",
    "pred_test_tree2 = binarizer1.fit_transform(pred_proba)[:, 1]\n",
    "pred_test_tree3 = binarizer2.fit_transform(pred_proba)[:, 1]"
   ]
  },
  {
   "cell_type": "code",
   "execution_count": 116,
   "id": "46b83373",
   "metadata": {
    "ExecuteTime": {
     "end_time": "2021-11-15T05:34:29.978374Z",
     "start_time": "2021-11-15T05:34:29.964440Z"
    }
   },
   "outputs": [
    {
     "data": {
      "text/plain": [
       "(0.8222222222222222, 0.5606060606060606)"
      ]
     },
     "execution_count": 116,
     "metadata": {},
     "output_type": "execute_result"
    }
   ],
   "source": [
    "recall_score(y_test, pred_test_tree2), precision_score(y_test, pred_test_tree2)\n",
    "recall_score(y_test, pred_test_tree2), precision_score(y_test, pred_test_tree3)"
   ]
  },
  {
   "cell_type": "code",
   "execution_count": 118,
   "id": "f1bbd1a0",
   "metadata": {
    "ExecuteTime": {
     "end_time": "2021-11-15T05:35:12.936080Z",
     "start_time": "2021-11-15T05:35:12.924107Z"
    }
   },
   "outputs": [
    {
     "name": "stdout",
     "output_type": "stream",
     "text": [
      "th 0.1\n",
      "정확도(accuracy):  0.9177777777777778\n",
      "재현률(recall) 0.8222222222222222\n",
      "정밀도(precision): 0.5606060606060606\n",
      "f1 score: 0.6666666666666666\n"
     ]
    }
   ],
   "source": [
    "print_metrics_classifier(y_test, pred_test_tree2, 'th 0.1')"
   ]
  },
  {
   "cell_type": "code",
   "execution_count": 119,
   "id": "b20d3192",
   "metadata": {
    "ExecuteTime": {
     "end_time": "2021-11-15T05:35:19.671932Z",
     "start_time": "2021-11-15T05:35:19.659992Z"
    }
   },
   "outputs": [
    {
     "name": "stdout",
     "output_type": "stream",
     "text": [
      "th 0.4\n",
      "정확도(accuracy):  0.9511111111111111\n",
      "재현률(recall) 0.7555555555555555\n",
      "정밀도(precision): 0.7555555555555555\n",
      "f1 score: 0.7555555555555555\n"
     ]
    }
   ],
   "source": [
    "print_metrics_classifier(y_test, pred_test_tree3, 'th 0.4')"
   ]
  },
  {
   "cell_type": "code",
   "execution_count": 121,
   "id": "c18b5014",
   "metadata": {
    "ExecuteTime": {
     "end_time": "2021-11-15T05:39:29.743936Z",
     "start_time": "2021-11-15T05:39:29.723927Z"
    }
   },
   "outputs": [
    {
     "name": "stdout",
     "output_type": "stream",
     "text": [
      "              precision    recall  f1-score   support\n",
      "\n",
      "       other       0.93      1.00      0.96       405\n",
      "           9       1.00      0.31      0.47        45\n",
      "\n",
      "    accuracy                           0.93       450\n",
      "   macro avg       0.96      0.66      0.72       450\n",
      "weighted avg       0.94      0.93      0.91       450\n",
      "\n"
     ]
    }
   ],
   "source": [
    "#개인적으로 쳐보기\n",
    "from sklearn.metrics import classification_report\n",
    "\n",
    "result = classification_report(y_test, pred_test_rf, target_names=['other', '9'])\n",
    "print(result)"
   ]
  },
  {
   "cell_type": "code",
   "execution_count": null,
   "id": "7fce0684",
   "metadata": {},
   "outputs": [],
   "source": [
    "#정밀도가 더 중요한 경우 \n",
    "#정상메일을 스팸메일로 분류할 경우\n",
    "#실제 neg를 pos로 잘못 판단하면 안되는 경우\n",
    "#FP를 낮추는데 초점을 맞춤\n"
   ]
  },
  {
   "cell_type": "code",
   "execution_count": 131,
   "id": "e678cb53",
   "metadata": {
    "ExecuteTime": {
     "end_time": "2021-11-15T05:50:03.394780Z",
     "start_time": "2021-11-15T05:50:03.386802Z"
    }
   },
   "outputs": [
    {
     "data": {
      "text/plain": [
       "array([[0.99173554, 0.00826446],\n",
       "       [0.98695652, 0.01304348],\n",
       "       [0.98695652, 0.01304348],\n",
       "       [0.98695652, 0.01304348],\n",
       "       [0.98695652, 0.01304348]])"
      ]
     },
     "execution_count": 131,
     "metadata": {},
     "output_type": "execute_result"
    }
   ],
   "source": [
    "tree.predict_proba(X_test)[:5]"
   ]
  },
  {
   "cell_type": "code",
   "execution_count": 132,
   "id": "4f11a945",
   "metadata": {
    "ExecuteTime": {
     "end_time": "2021-11-15T05:50:06.810633Z",
     "start_time": "2021-11-15T05:50:06.795708Z"
    }
   },
   "outputs": [
    {
     "data": {
      "text/plain": [
       "array([[0.88798088, 0.11201912],\n",
       "       [0.95586889, 0.04413111],\n",
       "       [0.83626994, 0.16373006],\n",
       "       [0.99095049, 0.00904951],\n",
       "       [0.98509411, 0.01490589]])"
      ]
     },
     "execution_count": 132,
     "metadata": {},
     "output_type": "execute_result"
    }
   ],
   "source": [
    "rf.predict_proba(X_test)[:5]"
   ]
  },
  {
   "cell_type": "code",
   "execution_count": 142,
   "id": "60de6d1c",
   "metadata": {
    "ExecuteTime": {
     "end_time": "2021-11-15T05:56:06.190216Z",
     "start_time": "2021-11-15T05:56:06.171531Z"
    }
   },
   "outputs": [],
   "source": [
    "from sklearn.metrics import precision_recall_curve\n",
    "\n",
    "pos_proba = tree.predict_proba(X_test)[:, 1] \n",
    " \n",
    "#precision_recall\n",
    "precisions, recalls, thresholds = precision_recall_curve(y_test, pos_proba)\n",
    "\n",
    "precisions.shape, recalls.shape, thresholds.shape \n",
    "\n",
    "thresholds = np.append(thresholds,1)"
   ]
  },
  {
   "cell_type": "code",
   "execution_count": 143,
   "id": "77ab87db",
   "metadata": {
    "ExecuteTime": {
     "end_time": "2021-11-15T05:56:07.886795Z",
     "start_time": "2021-11-15T05:56:07.867407Z"
    }
   },
   "outputs": [
    {
     "data": {
      "text/html": [
       "<div>\n",
       "<style scoped>\n",
       "    .dataframe tbody tr th:only-of-type {\n",
       "        vertical-align: middle;\n",
       "    }\n",
       "\n",
       "    .dataframe tbody tr th {\n",
       "        vertical-align: top;\n",
       "    }\n",
       "\n",
       "    .dataframe thead th {\n",
       "        text-align: right;\n",
       "    }\n",
       "</style>\n",
       "<table border=\"1\" class=\"dataframe\">\n",
       "  <thead>\n",
       "    <tr style=\"text-align: right;\">\n",
       "      <th></th>\n",
       "      <th>threshold</th>\n",
       "      <th>precision</th>\n",
       "      <th>recall</th>\n",
       "    </tr>\n",
       "  </thead>\n",
       "  <tbody>\n",
       "    <tr>\n",
       "      <th>0</th>\n",
       "      <td>0.008264</td>\n",
       "      <td>0.100000</td>\n",
       "      <td>1.000000</td>\n",
       "    </tr>\n",
       "    <tr>\n",
       "      <th>1</th>\n",
       "      <td>0.013043</td>\n",
       "      <td>0.107579</td>\n",
       "      <td>0.977778</td>\n",
       "    </tr>\n",
       "    <tr>\n",
       "      <th>2</th>\n",
       "      <td>0.033898</td>\n",
       "      <td>0.431818</td>\n",
       "      <td>0.844444</td>\n",
       "    </tr>\n",
       "    <tr>\n",
       "      <th>3</th>\n",
       "      <td>0.040000</td>\n",
       "      <td>0.513889</td>\n",
       "      <td>0.822222</td>\n",
       "    </tr>\n",
       "    <tr>\n",
       "      <th>4</th>\n",
       "      <td>0.149254</td>\n",
       "      <td>0.560606</td>\n",
       "      <td>0.822222</td>\n",
       "    </tr>\n",
       "    <tr>\n",
       "      <th>5</th>\n",
       "      <td>0.545455</td>\n",
       "      <td>0.755556</td>\n",
       "      <td>0.755556</td>\n",
       "    </tr>\n",
       "    <tr>\n",
       "      <th>6</th>\n",
       "      <td>0.750000</td>\n",
       "      <td>0.823529</td>\n",
       "      <td>0.622222</td>\n",
       "    </tr>\n",
       "    <tr>\n",
       "      <th>7</th>\n",
       "      <td>1.000000</td>\n",
       "      <td>1.000000</td>\n",
       "      <td>0.000000</td>\n",
       "    </tr>\n",
       "  </tbody>\n",
       "</table>\n",
       "</div>"
      ],
      "text/plain": [
       "   threshold  precision    recall\n",
       "0   0.008264   0.100000  1.000000\n",
       "1   0.013043   0.107579  0.977778\n",
       "2   0.033898   0.431818  0.844444\n",
       "3   0.040000   0.513889  0.822222\n",
       "4   0.149254   0.560606  0.822222\n",
       "5   0.545455   0.755556  0.755556\n",
       "6   0.750000   0.823529  0.622222\n",
       "7   1.000000   1.000000  0.000000"
      ]
     },
     "execution_count": 143,
     "metadata": {},
     "output_type": "execute_result"
    }
   ],
   "source": [
    "import pandas as pd\n",
    "pd.DataFrame({\n",
    "    'threshold':thresholds,\n",
    "    'precision':precisions,\n",
    "    'recall':recalls\n",
    "})"
   ]
  },
  {
   "cell_type": "code",
   "execution_count": 147,
   "id": "2836200b",
   "metadata": {
    "ExecuteTime": {
     "end_time": "2021-11-15T05:58:23.950422Z",
     "start_time": "2021-11-15T05:58:23.834652Z"
    }
   },
   "outputs": [
    {
     "data": {
      "image/png": "[encoded data removed]",
      "text/plain": [
       "<Figure size 504x504 with 1 Axes>"
      ]
     },
     "metadata": {
      "needs_background": "light"
     },
     "output_type": "display_data"
    }
   ],
   "source": [
    "#plotting\n",
    "plt.figure(figsize=(7,7))\n",
    "plt.plot(thresholds, precisions, marker='o', label='precision')\n",
    "plt.plot(thresholds, recalls, marker='x', label='recall')\n",
    "\n",
    "plt.xticks(np.arange(0, 1, 0.1))\n",
    "plt.grid(True)\n",
    "\n",
    "plt.legend()\n",
    "plt.show()\n"
   ]
  },
  {
   "cell_type": "code",
   "execution_count": 148,
   "id": "d44aca65",
   "metadata": {
    "ExecuteTime": {
     "end_time": "2021-11-15T05:58:48.939413Z",
     "start_time": "2021-11-15T05:58:48.923488Z"
    }
   },
   "outputs": [],
   "source": [
    "#Binarizer - 임계값 변경¶\n",
    "\n",
    "#Binarizer\n",
    "from sklearn.preprocessing import Binarizer"
   ]
  },
  {
   "cell_type": "code",
   "execution_count": 150,
   "id": "af106335",
   "metadata": {
    "ExecuteTime": {
     "end_time": "2021-11-15T06:00:34.601620Z",
     "start_time": "2021-11-15T06:00:34.586630Z"
    }
   },
   "outputs": [
    {
     "data": {
      "text/plain": [
       "array([[0., 0., 0., 0.]])"
      ]
     },
     "execution_count": 150,
     "metadata": {},
     "output_type": "execute_result"
    }
   ],
   "source": [
    "exam = [[0.3, 0.7, 0.4, 0.6]]\n",
    "\n",
    "binarizer = Binarizer(threshold=0.7)\n",
    "binarizer.fit_transform(exam)"
   ]
  },
  {
   "cell_type": "code",
   "execution_count": 151,
   "id": "367a5e2b",
   "metadata": {
    "ExecuteTime": {
     "end_time": "2021-11-15T06:01:15.198157Z",
     "start_time": "2021-11-15T06:01:15.179239Z"
    }
   },
   "outputs": [
    {
     "data": {
      "text/plain": [
       "array([[0, 1, 0, 1]])"
      ]
     },
     "execution_count": 151,
     "metadata": {},
     "output_type": "execute_result"
    }
   ],
   "source": [
    "exam = np.array(exam)\n",
    "th=0.5\n",
    "np.where(exam<=th, 0, 1)"
   ]
  },
  {
   "cell_type": "code",
   "execution_count": 152,
   "id": "aa2e4e50",
   "metadata": {
    "ExecuteTime": {
     "end_time": "2021-11-15T06:03:44.474500Z",
     "start_time": "2021-11-15T06:03:44.459560Z"
    }
   },
   "outputs": [],
   "source": [
    "#모델 예측 결과에 적용\n",
    "binarizer1 = Binarizer(threshold=0.1)\n",
    "binarizer2 = Binarizer(threshold=0.4)\n",
    "pred_proba = tree.predict_proba(X_test)\n",
    "\n",
    "pred_test_tree2 = binarizer1.fit_transform(pred_proba)[:,1]\n",
    "pred_test_tree3 = binarizer2.fit_transform(pred_proba)[:,1]\n"
   ]
  },
  {
   "cell_type": "code",
   "execution_count": 155,
   "id": "f0faff45",
   "metadata": {
    "ExecuteTime": {
     "end_time": "2021-11-15T06:05:28.400690Z",
     "start_time": "2021-11-15T06:05:28.394710Z"
    }
   },
   "outputs": [
    {
     "name": "stdout",
     "output_type": "stream",
     "text": [
      "0.8222222222222222 0.5606060606060606\n"
     ]
    }
   ],
   "source": [
    "print(recall_score(y_test, pred_test_tree2), precision_score(y_test, pred_test_tree2))"
   ]
  },
  {
   "cell_type": "code",
   "execution_count": 156,
   "id": "c7a71fcf",
   "metadata": {
    "ExecuteTime": {
     "end_time": "2021-11-15T06:05:29.088044Z",
     "start_time": "2021-11-15T06:05:29.066590Z"
    }
   },
   "outputs": [
    {
     "name": "stdout",
     "output_type": "stream",
     "text": [
      "0.7555555555555555 0.7555555555555555\n"
     ]
    }
   ],
   "source": [
    "print(recall_score(y_test, pred_test_tree3), precision_score(y_test, pred_test_tree3))"
   ]
  },
  {
   "cell_type": "code",
   "execution_count": 158,
   "id": "c7e4d748",
   "metadata": {
    "ExecuteTime": {
     "end_time": "2021-11-15T06:41:52.948809Z",
     "start_time": "2021-11-15T06:41:52.922846Z"
    }
   },
   "outputs": [],
   "source": [
    "#x축에 recall y축에 precision\n",
    "import matplotlib.pyplot as plt\n",
    "from sklearn.metrics import precision_score, average_precision_score\n",
    "\n",
    "tree_pos = tree.predict_proba(X_test)[:, 1]\n",
    "rf_pos = rf.predict_proba(X_test)[:, 1]\n",
    "\n",
    "precision1, recall1, threshold1 = precision_recall_curve(y_test, tree_pos)\n"
   ]
  },
  {
   "cell_type": "code",
   "execution_count": null,
   "id": "cd6d7100",
   "metadata": {},
   "outputs": [],
   "source": [
    "import matplotlib.pyplot as plt\n",
    "from sklearn.metrics import precision_score, avarage_precision_score\n",
    "\n",
    "tree_pos = tree.predict_proba(X_test)[:, 1]"
   ]
  },
  {
   "cell_type": "code",
   "execution_count": null,
   "id": "bd2b1a3e",
   "metadata": {},
   "outputs": [],
   "source": []
  },
  {
   "cell_type": "code",
   "execution_count": 1,
   "id": "2ef54ce9",
   "metadata": {
    "ExecuteTime": {
     "end_time": "2021-11-15T08:21:10.721689Z",
     "start_time": "2021-11-15T08:21:10.713684Z"
    }
   },
   "outputs": [],
   "source": [
    "###개인"
   ]
  },
  {
   "cell_type": "code",
   "execution_count": 2,
   "id": "93d00975",
   "metadata": {
    "ExecuteTime": {
     "end_time": "2021-11-15T08:21:13.127932Z",
     "start_time": "2021-11-15T08:21:13.111951Z"
    }
   },
   "outputs": [],
   "source": [
    "#breast_cancer data 모델링"
   ]
  },
  {
   "cell_type": "code",
   "execution_count": 4,
   "id": "6e65113d",
   "metadata": {
    "ExecuteTime": {
     "end_time": "2021-11-15T08:21:46.614316Z",
     "start_time": "2021-11-15T08:21:46.519965Z"
    }
   },
   "outputs": [
    {
     "data": {
      "text/plain": [
       "dict_keys(['data', 'target', 'frame', 'target_names', 'DESCR', 'feature_names', 'filename', 'data_module'])"
      ]
     },
     "execution_count": 4,
     "metadata": {},
     "output_type": "execute_result"
    }
   ],
   "source": [
    "from sklearn.datasets import load_breast_cancer\n",
    "from sklearn.model_selection import train_test_split\n",
    "data= load_breast_cancer()\n",
    "data.keys()"
   ]
  },
  {
   "cell_type": "code",
   "execution_count": 7,
   "id": "41aa0779",
   "metadata": {
    "ExecuteTime": {
     "end_time": "2021-11-15T08:22:51.565912Z",
     "start_time": "2021-11-15T08:22:51.559934Z"
    }
   },
   "outputs": [],
   "source": [
    "X=data.data"
   ]
  },
  {
   "cell_type": "code",
   "execution_count": 8,
   "id": "6bc0a852",
   "metadata": {
    "ExecuteTime": {
     "end_time": "2021-11-15T08:22:52.936574Z",
     "start_time": "2021-11-15T08:22:52.919910Z"
    }
   },
   "outputs": [],
   "source": [
    "y=data.target"
   ]
  },
  {
   "cell_type": "markdown",
   "id": "99ad0adf",
   "metadata": {},
   "source": [
    "# TODO\n",
    "- breast_cancer data 모델링\n",
    "1. breast cancer data 로딩 및 \n",
    "1. train/test set으로 분리\n",
    "1. 모델링 (DecisionTreeClassifier(max_depth=3), RandomForestClassifier(max_depth=2, n_estimators=200)\n",
    "1. 평가 (Train/Test set)\n",
    "    - 평가지표\n",
    "        - accuracy, recall, precision, f1 score, confusion matrix\n",
    "        - PR curve 그리고 AP 점수 확인\n",
    "        - ROC curve 그리고 AUC 점수확인"
   ]
  },
  {
   "cell_type": "code",
   "execution_count": 18,
   "id": "b7ea3647",
   "metadata": {
    "ExecuteTime": {
     "end_time": "2021-11-15T08:37:22.783162Z",
     "start_time": "2021-11-15T08:37:22.534711Z"
    }
   },
   "outputs": [],
   "source": [
    "#데이터 분리\n",
    "X_train, X_test, y_train, y_test = train_test_split(X, y, test_size=0.2, random_state=0)\n",
    "\n",
    "#모델링\n",
    "from sklearn.tree import DecisionTreeClassifier\n",
    "from sklearn.ensemble import RandomForestClassifier\n",
    "\n",
    "tree0 = DecisionTreeClassifier(max_depth=3, random_state=0)\n",
    "rf0 = RandomForestClassifier(max_depth=2, n_estimators=200, random_state=0)\n",
    "\n",
    "#학습 #fit으로만\n",
    "tree0.fit(X_train, y_train)\n",
    "rf0.fit(X_train, y_train)\n",
    "\n",
    "#예측\n",
    "pred_train_tree0 = tree0.predict(X_train)\n",
    "pred_test_tree0 = tree0.predict(X_test)\n",
    "\n",
    "pred_train_rf0 = rf0.predict(X_train)\n",
    "pred_test_rf0 = rf0.predict(X_test)\n"
   ]
  },
  {
   "cell_type": "code",
   "execution_count": 91,
   "id": "3195339e",
   "metadata": {
    "ExecuteTime": {
     "end_time": "2021-11-15T10:06:52.281394Z",
     "start_time": "2021-11-15T10:06:52.266436Z"
    }
   },
   "outputs": [],
   "source": [
    "def my_func(y, pred, title):\n",
    "    print('정확도:', accuracy_score(y, pred))\n",
    "    print('재현률:', recall_score(y, pred))\n",
    "    print('민감도:', precision_score(y,pred))\n",
    "    print('f1', f1_score(y, pred))"
   ]
  },
  {
   "cell_type": "code",
   "execution_count": 29,
   "id": "647cd220",
   "metadata": {
    "ExecuteTime": {
     "end_time": "2021-11-15T08:42:47.889177Z",
     "start_time": "2021-11-15T08:42:47.879205Z"
    }
   },
   "outputs": [
    {
     "name": "stdout",
     "output_type": "stream",
     "text": [
      "tree\n",
      "[[154  11]\n",
      " [  2 288]]\n",
      "=============================\n",
      "[[44  3]\n",
      " [ 1 66]]\n",
      "                                               \n",
      "rf\n",
      "[[152  13]\n",
      " [  5 285]]\n",
      "=============================\n",
      "[[45  2]\n",
      " [ 2 65]]\n"
     ]
    }
   ],
   "source": [
    "#accuracy, recall, precision, f1 score, confusion matrix\n",
    "#tree \n",
    "print('tree')\n",
    "from sklearn.metrics import accuracy_score, recall_score, precision_score, f1_score, confusion_matrix\n",
    "print(confusion_matrix(y_train, pred_train_tree0))\n",
    "print('=============================')\n",
    "print(confusion_matrix(y_test, pred_test_tree0))\n",
    "\n",
    "print('                                               ')\n",
    "#rf\n",
    "print('rf')\n",
    "print(confusion_matrix(y_train, pred_train_rf0))\n",
    "print('=============================')\n",
    "print(confusion_matrix(y_test, pred_test_rf0))\n"
   ]
  },
  {
   "cell_type": "code",
   "execution_count": 35,
   "id": "77de303c",
   "metadata": {
    "ExecuteTime": {
     "end_time": "2021-11-15T08:46:44.672602Z",
     "start_time": "2021-11-15T08:46:44.663625Z"
    }
   },
   "outputs": [
    {
     "name": "stdout",
     "output_type": "stream",
     "text": [
      "정확도: 0.9714285714285714\n",
      "재현률: 0.993103448275862\n",
      "민감도: 0.9632107023411371\n",
      "f1 0.9779286926994907\n"
     ]
    }
   ],
   "source": [
    "my_func(y_train, pred_train_tree0, 'tree_train')"
   ]
  },
  {
   "cell_type": "code",
   "execution_count": 36,
   "id": "924a5fcc",
   "metadata": {
    "ExecuteTime": {
     "end_time": "2021-11-15T08:46:57.191142Z",
     "start_time": "2021-11-15T08:46:57.175185Z"
    },
    "scrolled": true
   },
   "outputs": [
    {
     "name": "stdout",
     "output_type": "stream",
     "text": [
      "정확도: 0.9649122807017544\n",
      "재현률: 0.9850746268656716\n",
      "민감도: 0.9565217391304348\n",
      "f1 0.9705882352941176\n"
     ]
    }
   ],
   "source": [
    "my_func(y_test, pred_test_tree0, 'tree_test')"
   ]
  },
  {
   "cell_type": "code",
   "execution_count": 37,
   "id": "3e424156",
   "metadata": {
    "ExecuteTime": {
     "end_time": "2021-11-15T08:47:44.572246Z",
     "start_time": "2021-11-15T08:47:44.551422Z"
    }
   },
   "outputs": [
    {
     "name": "stdout",
     "output_type": "stream",
     "text": [
      "정확도: 0.9604395604395605\n",
      "재현률: 0.9827586206896551\n",
      "민감도: 0.9563758389261745\n",
      "f1 0.9693877551020409\n"
     ]
    }
   ],
   "source": [
    "my_func(y_train, pred_train_rf0, 'rf_train')"
   ]
  },
  {
   "cell_type": "code",
   "execution_count": 38,
   "id": "101a5688",
   "metadata": {
    "ExecuteTime": {
     "end_time": "2021-11-15T08:48:00.517422Z",
     "start_time": "2021-11-15T08:48:00.503459Z"
    }
   },
   "outputs": [
    {
     "name": "stdout",
     "output_type": "stream",
     "text": [
      "정확도: 0.9649122807017544\n",
      "재현률: 0.9701492537313433\n",
      "민감도: 0.9701492537313433\n",
      "f1 0.9701492537313433\n"
     ]
    }
   ],
   "source": [
    "my_func(y_test, pred_test_rf0, 'rf_test')"
   ]
  },
  {
   "cell_type": "code",
   "execution_count": 41,
   "id": "73af1c89",
   "metadata": {
    "ExecuteTime": {
     "end_time": "2021-11-15T08:49:45.027203Z",
     "start_time": "2021-11-15T08:49:45.015236Z"
    },
    "scrolled": true
   },
   "outputs": [
    {
     "name": "stdout",
     "output_type": "stream",
     "text": [
      "              precision    recall  f1-score   support\n",
      "\n",
      "           0       0.98      0.94      0.96        47\n",
      "           1       0.96      0.99      0.97        67\n",
      "\n",
      "    accuracy                           0.96       114\n",
      "   macro avg       0.97      0.96      0.96       114\n",
      "weighted avg       0.97      0.96      0.96       114\n",
      "\n"
     ]
    }
   ],
   "source": [
    "from sklearn.metrics import classification_report\n",
    "\n",
    "#test기준\n",
    "result_tree = classification_report(y_test, pred_test_tree0)\n",
    "print(result_tree)"
   ]
  },
  {
   "cell_type": "code",
   "execution_count": 42,
   "id": "cc8111d5",
   "metadata": {
    "ExecuteTime": {
     "end_time": "2021-11-15T08:50:16.203141Z",
     "start_time": "2021-11-15T08:50:16.184191Z"
    },
    "scrolled": true
   },
   "outputs": [
    {
     "name": "stdout",
     "output_type": "stream",
     "text": [
      "              precision    recall  f1-score   support\n",
      "\n",
      "           0       0.96      0.96      0.96        47\n",
      "           1       0.97      0.97      0.97        67\n",
      "\n",
      "    accuracy                           0.96       114\n",
      "   macro avg       0.96      0.96      0.96       114\n",
      "weighted avg       0.96      0.96      0.96       114\n",
      "\n"
     ]
    }
   ],
   "source": [
    "result_rf =classification_report(y_test, pred_test_rf0)\n",
    "print(result_rf)"
   ]
  },
  {
   "cell_type": "code",
   "execution_count": 70,
   "id": "e0c9b779",
   "metadata": {
    "ExecuteTime": {
     "end_time": "2021-11-15T09:45:37.193790Z",
     "start_time": "2021-11-15T09:45:36.963233Z"
    }
   },
   "outputs": [
    {
     "name": "stderr",
     "output_type": "stream",
     "text": [
      "C:\\Users\\user\\anaconda3\\envs\\ml\\lib\\site-packages\\sklearn\\utils\\deprecation.py:87: FutureWarning: Function plot_precision_recall_curve is deprecated; Function `plot_precision_recall_curve` is deprecated in 1.0 and will be removed in 1.2. Use one of the class methods: PrecisionRecallDisplay.from_predictions or PrecisionRecallDisplay.from_estimator.\n",
      "  warnings.warn(msg, category=FutureWarning)\n",
      "C:\\Users\\user\\anaconda3\\envs\\ml\\lib\\site-packages\\sklearn\\utils\\deprecation.py:87: FutureWarning: Function plot_precision_recall_curve is deprecated; Function `plot_precision_recall_curve` is deprecated in 1.0 and will be removed in 1.2. Use one of the class methods: PrecisionRecallDisplay.from_predictions or PrecisionRecallDisplay.from_estimator.\n",
      "  warnings.warn(msg, category=FutureWarning)\n"
     ]
    },
    {
     "data": {
      "image/png": "[encoded data removed]",
      "text/plain": [
       "<Figure size 1080x504 with 2 Axes>"
      ]
     },
     "metadata": {
      "needs_background": "light"
     },
     "output_type": "display_data"
    },
    {
     "name": "stdout",
     "output_type": "stream",
     "text": [
      "tree_AP: 0.9540839392026359\n",
      "rf_AP: 0.9966839021235625\n"
     ]
    }
   ],
   "source": [
    "#PR curve 그리고 AP 점수 확인\n",
    "from sklearn.metrics import precision_recall_curve, average_precision_score\n",
    "import matplotlib.pyplot as plt\n",
    "\n",
    "pos_proba_tree0 = tree0.predict_proba(X_test)[:, 1]\n",
    "pos_proba_rf0 = rf0.predict_proba(X_test)[:, 1]\n",
    "\n",
    "precisions_tree0, recalls_tree0, thresholds_tree0 = precision_recall_curve(y_test, pos_proba_tree0)\n",
    "precisions_rf0, recalls_rf0, thresholds_rf0 = precision_recall_curve(y_test, pos_proba_rf0)\n",
    "\n",
    "#PR curve\n",
    "fig, ax = plt.subplots(1,2, figsize=(15,7))\n",
    "plot_precision_recall_curve(tree0, X_test, y_test, ax=ax[0])\n",
    "plot_precision_recall_curve(rf0, X_test, y_test, ax=ax[1])\n",
    "plt.grid(True)\n",
    "plt.show()\n",
    "\n",
    "#AP확인\n",
    "print('tree_AP:', average_precision_score(y_test, pos_proba_tree0))\n",
    "print('rf_AP:', average_precision_score(y_test, pos_proba_rf0))\n"
   ]
  },
  {
   "cell_type": "code",
   "execution_count": 58,
   "id": "f697e63e",
   "metadata": {
    "ExecuteTime": {
     "end_time": "2021-11-15T09:31:37.836210Z",
     "start_time": "2021-11-15T09:31:37.661419Z"
    }
   },
   "outputs": [
    {
     "data": {
      "text/plain": [
       "<sklearn.metrics._plot.precision_recall_curve.PrecisionRecallDisplay at 0x1b99bf842e0>"
      ]
     },
     "execution_count": 58,
     "metadata": {},
     "output_type": "execute_result"
    },
    {
     "data": {
      "image/png": "[encoded data removed]",
      "text/plain": [
       "<Figure size 432x288 with 1 Axes>"
      ]
     },
     "metadata": {
      "needs_background": "light"
     },
     "output_type": "display_data"
    },
    {
     "data": {
      "image/png": "[encoded data removed]",
      "text/plain": [
       "<Figure size 432x288 with 1 Axes>"
      ]
     },
     "metadata": {
      "needs_background": "light"
     },
     "output_type": "display_data"
    }
   ],
   "source": [
    "from sklearn.metrics import PrecisionRecallDisplay\n",
    "\n",
    "disp_tree0 = PrecisionRecallDisplay(precisions_tree0, recalls_tree0)\n",
    "disp_rf0 = PrecisionRecallDisplay(precisions_rf0, recalls_rf0)\n",
    "\n",
    "disp_tree0.plot()\n",
    "disp_rf0.plot()"
   ]
  },
  {
   "cell_type": "code",
   "execution_count": 116,
   "id": "a78d30c2",
   "metadata": {
    "ExecuteTime": {
     "end_time": "2021-11-15T10:46:13.455407Z",
     "start_time": "2021-11-15T10:46:13.425369Z"
    }
   },
   "outputs": [],
   "source": [
    "import matplotlib.pyplot as plt \n",
    "from sklearn.metrics import roc_curve, roc_auc_score, RocCurveDisplay\n",
    "\n",
    "pos_proba_tree0 = tree0.predict_proba(X_test)[:,1]\n",
    "pos_proba_rf0 = rf0.predict_proba(X_test)[:, 1]\n",
    "\n",
    "fprs_tree, tprs_tree, thresholds_tree = roc_curve(y_test, pos_proba_tree0)\n",
    "fprs_rf, tprs_rf, thredholds_rf = roc_curve(y_test, pos_proba_rf0)\n",
    "\n",
    "#roc score\n",
    "tree_auc = roc_auc_score(y_test, pos_proba_tree0)\n",
    "rf_auc = roc_auc_score(y_test, pos_proba_rf0)"
   ]
  },
  {
   "cell_type": "code",
   "execution_count": 117,
   "id": "d07face3",
   "metadata": {
    "ExecuteTime": {
     "end_time": "2021-11-15T10:46:14.270921Z",
     "start_time": "2021-11-15T10:46:14.081285Z"
    }
   },
   "outputs": [
    {
     "data": {
      "text/plain": [
       "<sklearn.metrics._plot.roc_curve.RocCurveDisplay at 0x1b99e7e8e50>"
      ]
     },
     "execution_count": 117,
     "metadata": {},
     "output_type": "execute_result"
    },
    {
     "data": {
      "image/png": "[encoded data removed]",
      "text/plain": [
       "<Figure size 432x288 with 1 Axes>"
      ]
     },
     "metadata": {
      "needs_background": "light"
     },
     "output_type": "display_data"
    },
    {
     "data": {
      "image/png": "[encoded data removed]",
      "text/plain": [
       "<Figure size 432x288 with 1 Axes>"
      ]
     },
     "metadata": {
      "needs_background": "light"
     },
     "output_type": "display_data"
    }
   ],
   "source": [
    "#roc_curve\n",
    "from sklearn.metrics import RocCurveDisplay\n",
    "\n",
    "disp1 = RocCurveDisplay(fpr = fprs_tree, tpr=tprs_tree, roc_auc=tree_auc, estimator_name='tree')\n",
    "disp2 = RocCurveDisplay(fpr = fprs_rf, tpr=tprs_rf, roc_auc=rf_auc, estimator_name='rf')\n",
    "\n",
    "disp1.plot()\n",
    "disp2.plot()"
   ]
  },
  {
   "cell_type": "code",
   "execution_count": 75,
   "id": "1732125a",
   "metadata": {
    "ExecuteTime": {
     "end_time": "2021-11-15T09:54:58.467315Z",
     "start_time": "2021-11-15T09:54:58.434645Z"
    }
   },
   "outputs": [
    {
     "name": "stdout",
     "output_type": "stream",
     "text": [
      "(6,) (6,) (6,)\n",
      "(20,) (20,) (20,)\n"
     ]
    }
   ],
   "source": [
    "#ROC curve 그리고 AUC 점수확인\n",
    "\n",
    "#두개의 모델 확인하기\n",
    "import matplotlib.pyplot as plt\n",
    "from sklearn.metrics import roc_curve\n",
    "\n",
    "pos_proba_tree0 = tree0.predict_proba(X_test)[:,1]\n",
    "pos_proba_rf0 = rf0.predict_proba(X_test)[:,1]\n",
    "\n",
    "fprs_tree, tprs_tree, thresholds_tree = roc_curve(y_test, pos_proba_tree0)\n",
    "fprs_rf, tprs_rf, thresholds_rf = roc_curve(y_test, pos_proba_rf0)\n",
    "\n",
    "\n",
    "print(fprs_tree.shape, tprs_tree.shape, thresholds_tree.shape) \n",
    "print(fprs_rf.shape, tprs_rf.shape, thresholds_rf.shape) "
   ]
  },
  {
   "cell_type": "code",
   "execution_count": 77,
   "id": "a0449a74",
   "metadata": {
    "ExecuteTime": {
     "end_time": "2021-11-15T09:55:24.665513Z",
     "start_time": "2021-11-15T09:55:23.602026Z"
    }
   },
   "outputs": [
    {
     "data": {
      "text/html": [
       "<div>\n",
       "<style scoped>\n",
       "    .dataframe tbody tr th:only-of-type {\n",
       "        vertical-align: middle;\n",
       "    }\n",
       "\n",
       "    .dataframe tbody tr th {\n",
       "        vertical-align: top;\n",
       "    }\n",
       "\n",
       "    .dataframe thead th {\n",
       "        text-align: right;\n",
       "    }\n",
       "</style>\n",
       "<table border=\"1\" class=\"dataframe\">\n",
       "  <thead>\n",
       "    <tr style=\"text-align: right;\">\n",
       "      <th></th>\n",
       "      <th>Threshold</th>\n",
       "      <th>FPR</th>\n",
       "      <th>TPR</th>\n",
       "    </tr>\n",
       "  </thead>\n",
       "  <tbody>\n",
       "    <tr>\n",
       "      <th>0</th>\n",
       "      <td>2.000000</td>\n",
       "      <td>0.000000</td>\n",
       "      <td>0.000000</td>\n",
       "    </tr>\n",
       "    <tr>\n",
       "      <th>1</th>\n",
       "      <td>1.000000</td>\n",
       "      <td>0.021277</td>\n",
       "      <td>0.014925</td>\n",
       "    </tr>\n",
       "    <tr>\n",
       "      <th>2</th>\n",
       "      <td>0.981413</td>\n",
       "      <td>0.042553</td>\n",
       "      <td>0.895522</td>\n",
       "    </tr>\n",
       "    <tr>\n",
       "      <th>3</th>\n",
       "      <td>0.684211</td>\n",
       "      <td>0.063830</td>\n",
       "      <td>0.985075</td>\n",
       "    </tr>\n",
       "    <tr>\n",
       "      <th>4</th>\n",
       "      <td>0.014599</td>\n",
       "      <td>0.829787</td>\n",
       "      <td>0.985075</td>\n",
       "    </tr>\n",
       "    <tr>\n",
       "      <th>5</th>\n",
       "      <td>0.000000</td>\n",
       "      <td>1.000000</td>\n",
       "      <td>1.000000</td>\n",
       "    </tr>\n",
       "  </tbody>\n",
       "</table>\n",
       "</div>"
      ],
      "text/plain": [
       "   Threshold       FPR       TPR\n",
       "0   2.000000  0.000000  0.000000\n",
       "1   1.000000  0.021277  0.014925\n",
       "2   0.981413  0.042553  0.895522\n",
       "3   0.684211  0.063830  0.985075\n",
       "4   0.014599  0.829787  0.985075\n",
       "5   0.000000  1.000000  1.000000"
      ]
     },
     "execution_count": 77,
     "metadata": {},
     "output_type": "execute_result"
    }
   ],
   "source": [
    "import pandas as pd\n",
    "pd.DataFrame({\n",
    "    \"Threshold\":thresholds_tree,\n",
    "    \"FPR\": fprs_tree,\n",
    "    \"TPR\": tprs_tree\n",
    "})"
   ]
  },
  {
   "cell_type": "code",
   "execution_count": 80,
   "id": "9f078798",
   "metadata": {
    "ExecuteTime": {
     "end_time": "2021-11-15T09:57:12.266932Z",
     "start_time": "2021-11-15T09:57:12.107857Z"
    }
   },
   "outputs": [
    {
     "name": "stderr",
     "output_type": "stream",
     "text": [
      "C:\\Users\\user\\anaconda3\\envs\\ml\\lib\\site-packages\\sklearn\\utils\\deprecation.py:87: FutureWarning: Function plot_roc_curve is deprecated; Function `plot_roc_curve` is deprecated in 1.0 and will be removed in 1.2. Use one of the class methods: RocCurveDisplay.from_predictions or RocCurveDisplay.from_estimator.\n",
      "  warnings.warn(msg, category=FutureWarning)\n",
      "C:\\Users\\user\\anaconda3\\envs\\ml\\lib\\site-packages\\sklearn\\utils\\deprecation.py:87: FutureWarning: Function plot_roc_curve is deprecated; Function `plot_roc_curve` is deprecated in 1.0 and will be removed in 1.2. Use one of the class methods: RocCurveDisplay.from_predictions or RocCurveDisplay.from_estimator.\n",
      "  warnings.warn(msg, category=FutureWarning)\n"
     ]
    },
    {
     "data": {
      "image/png": "[encoded data removed]",
      "text/plain": [
       "<Figure size 576x504 with 1 Axes>"
      ]
     },
     "metadata": {
      "needs_background": "light"
     },
     "output_type": "display_data"
    }
   ],
   "source": [
    "from sklearn.metrics import plot_roc_curve\n",
    "fig, ax = plt.subplots(1,1, figsize=(8,7))\n",
    "plot_roc_curve(tree0, X_test, y_test, ax=ax)\n",
    "plot_roc_curve(rf0, X_test, y_test, ax=ax)\n",
    "\n",
    "plt.tight_layout()\n",
    "plt.show()"
   ]
  },
  {
   "cell_type": "code",
   "execution_count": 86,
   "id": "a8ca5c34",
   "metadata": {
    "ExecuteTime": {
     "end_time": "2021-11-15T10:01:41.062092Z",
     "start_time": "2021-11-15T10:01:40.875568Z"
    }
   },
   "outputs": [
    {
     "data": {
      "text/plain": [
       "<sklearn.metrics._plot.roc_curve.RocCurveDisplay at 0x1b99b181f40>"
      ]
     },
     "execution_count": 86,
     "metadata": {},
     "output_type": "execute_result"
    },
    {
     "data": {
      "image/png": "[encoded data removed]",
      "text/plain": [
       "<Figure size 432x288 with 1 Axes>"
      ]
     },
     "metadata": {
      "needs_background": "light"
     },
     "output_type": "display_data"
    },
    {
     "data": {
      "image/png": "[encoded data removed]",
      "text/plain": [
       "<Figure size 432x288 with 1 Axes>"
      ]
     },
     "metadata": {
      "needs_background": "light"
     },
     "output_type": "display_data"
    }
   ],
   "source": [
    "from sklearn.metrics import roc_auc_score, RocCurveDisplay\n",
    "auc1 = roc_auc_score(y_test, pos_proba_tree0)\n",
    "auc2 = roc_auc_score(y_test, pos_proba_rf0)\n",
    "\n",
    "disp1 = RocCurveDisplay(fpr = fprs_tree, tpr=tprs_tree, roc_auc=auc1, estimator_name='tree')\n",
    "disp1.plot()\n",
    "\n",
    "disp2 = RocCurveDisplay(fpr = fprs_rf, tpr=tprs_rf, roc_auc=auc2, estimator_name='rf')\n",
    "disp2.plot()"
   ]
  },
  {
   "cell_type": "code",
   "execution_count": 90,
   "id": "3e5e8400",
   "metadata": {
    "ExecuteTime": {
     "end_time": "2021-11-15T10:03:25.368808Z",
     "start_time": "2021-11-15T10:03:25.348861Z"
    }
   },
   "outputs": [
    {
     "name": "stdout",
     "output_type": "stream",
     "text": [
      "0.9533185138139092\n",
      "0.9952365830422356\n"
     ]
    }
   ],
   "source": [
    "#roc score\n",
    "from sklearn.metrics import roc_auc_score\n",
    "\n",
    "roc_auc_tree = roc_auc_score(y_test, pos_proba_tree0)\n",
    "roc_auc_rf = roc_auc_score(y_test, pos_proba_rf0)\n",
    "\n",
    "print(roc_auc_tree)\n",
    "print(roc_auc_rf)"
   ]
  }
 ],
 "metadata": {
  "kernelspec": {
   "display_name": "Python 3 (ipykernel)",
   "language": "python",
   "name": "python3"
  },
  "language_info": {
   "codemirror_mode": {
    "name": "ipython",
    "version": 3
   },
   "file_extension": ".py",
   "mimetype": "text/x-python",
   "name": "python",
   "nbconvert_exporter": "python",
   "pygments_lexer": "ipython3",
   "version": "3.8.12"
  },
  "toc": {
   "base_numbering": 1,
   "nav_menu": {},
   "number_sections": true,
   "sideBar": true,
   "skip_h1_title": false,
   "title_cell": "Table of Contents",
   "title_sidebar": "Contents",
   "toc_cell": false,
   "toc_position": {
    "height": "calc(100% - 180px)",
    "left": "10px",
    "top": "150px",
    "width": "191.594px"
   },
   "toc_section_display": true,
   "toc_window_display": true
  },
  "varInspector": {
   "cols": {
    "lenName": 16,
    "lenType": 16,
    "lenVar": 40
   },
   "kernels_config": {
    "python": {
     "delete_cmd_postfix": "",
     "delete_cmd_prefix": "del ",
     "library": "var_list.py",
     "varRefreshCmd": "print(var_dic_list())"
    },
    "r": {
     "delete_cmd_postfix": ") ",
     "delete_cmd_prefix": "rm(",
     "library": "var_list.r",
     "varRefreshCmd": "cat(var_dic_list()) "
    }
   },
   "types_to_exclude": [
    "module",
    "function",
    "builtin_function_or_method",
    "instance",
    "_Feature"
   ],
   "window_display": false
  }
 },
 "nbformat": 4,
 "nbformat_minor": 5
}
