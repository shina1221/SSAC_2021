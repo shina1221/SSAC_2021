{
 "cells": [
  {
   "cell_type": "code",
   "execution_count": null,
   "id": "1ef91d7b",
   "metadata": {},
   "outputs": [],
   "source": [
    "#시험에 사용할 수 있는 패키지\n",
    "#numpy, pandas, scikit-learn, xgboost"
   ]
  },
  {
   "cell_type": "code",
   "execution_count": null,
   "id": "caf7ccf3",
   "metadata": {},
   "outputs": [],
   "source": [
    "https://hwiyong.tistory.com/91\n",
    "https://blog.nerdfactory.ai/2021/06/15/Normalization-Theorem-1.html"
   ]
  },
  {
   "cell_type": "code",
   "execution_count": 15,
   "id": "d4a0ba01",
   "metadata": {
    "ExecuteTime": {
     "end_time": "2021-11-09T08:09:36.611343Z",
     "start_time": "2021-11-09T08:09:35.814933Z"
    }
   },
   "outputs": [],
   "source": [
    "#표준화와 정규화\n",
    "import numpy as np\n",
    "\n",
    "\"\"\"\n",
    "정규화\n",
    "- 데이터가 가진 feature의 스케일이 심하게 차이가 나는 경우 사용\n",
    "- 데이터의 범위를 0에서 1사이로 변환\n",
    "\n",
    ">min_max\n",
    ">>> (X - MIN) / (MAX-MIN) \n",
    "\n",
    "표준화\n",
    "-평균이 0이고 분산이 1로 변환해서 데이터 분포를 조정하는 방법\n",
    "\n",
    ">z_score\n",
    ">>> (X - 평균) / 표준편차\n",
    "\n",
    "정칙화\n",
    "-일반적으로 가중치를 조정할 때 추가적인 제약을 주는 것\n",
    "\n",
    "\"\"\"\n",
    "#정규화\n",
    "#min_max\n",
    "def min_max(list_n):\n",
    "    mylist=[]\n",
    "    for i in list_n:\n",
    "        mylist.append((i-min(list_n)) /(max(list_n)-min(list_n)))\n",
    "    return mylist\n",
    "\n",
    "#max_abs\n",
    "#절댓값이 가장 큰 수의 절대값으로 전체를 나누어 모든 데이터의 범위를 [-1,1]로 조절 \n",
    "df = pd.DataFrame([[1.0, 18],\n",
    "                  [0.8, 25],\n",
    "                  [-0.5, 30],\n",
    "                  [-1.8, 21],\n",
    "                  [1.2, 26],\n",
    "                  [0.6, 15]])\n",
    "df.columns = ['sight', 'age']\n",
    "df_new = df/df.abs().max()\n",
    "\n",
    "#Robust scaler\n",
    "#평균과 분산 대신에 중간값과 사분위 값 사용\n",
    "#중앙값과 IQR 사용, 아웃라이어의 영향 최소화\n",
    "#i - median(list_n)/IQR\n",
    "scalar = RobustScalar()\n",
    "scalar.fit(df)\n",
    "print(scalar.transform(df))\n",
    "\n",
    "#표준화\n",
    "def z_score(list_n):\n",
    "    my_list=[]\n",
    "    for i in list_n:\n",
    "        my_list.append((i-np.mean(list_n))/np.std(list_n))\n",
    "    return my_list\n",
    "\n",
    "#sklearn을 이용한 표준화\n",
    "import sklearn\n",
    "from sklearn.preprocessing import *\n",
    "#StandardScaler().fit_transform(data)\n",
    "\n",
    "#scipy를 이용한 표준화\n",
    "import scipy.stats as ss \n",
    "#ss.zscore(data)\n",
    "\n",
    "#Regularization(정칙화)\n",
    "#학습 데이터에 대한 민감도를 낮춰줍니다.\n",
    "#결과적으로) 과적합을 방지하기 위해 사용됩니다.\n",
    "\"\"\"\n",
    "-Ridge\n",
    "-Lasso\n",
    "-Elastic Net\n",
    "-Fused Lasso\n",
    "-Group Lasso\n",
    "-Graph Constrained Regularization\n",
    "\n",
    "\"\"\"\n",
    "\n"
   ]
  },
  {
   "cell_type": "code",
   "execution_count": 7,
   "id": "dba005f5",
   "metadata": {
    "ExecuteTime": {
     "end_time": "2021-11-09T06:54:08.451252Z",
     "start_time": "2021-11-09T06:54:08.435230Z"
    }
   },
   "outputs": [
    {
     "data": {
      "text/plain": [
       "[0.0,\n",
       " 0.1111111111111111,\n",
       " 0.2222222222222222,\n",
       " 0.3333333333333333,\n",
       " 0.4444444444444444,\n",
       " 0.5555555555555556,\n",
       " 0.6666666666666666,\n",
       " 0.7777777777777778,\n",
       " 0.8888888888888888,\n",
       " 1.0]"
      ]
     },
     "execution_count": 7,
     "metadata": {},
     "output_type": "execute_result"
    }
   ],
   "source": [
    "list_m=[10,20,30,40,50,60,70,80,90,100]\n",
    "min_max(list_m)"
   ]
  },
  {
   "cell_type": "code",
   "execution_count": 10,
   "id": "e929a098",
   "metadata": {
    "ExecuteTime": {
     "end_time": "2021-11-09T06:54:42.995489Z",
     "start_time": "2021-11-09T06:54:42.979416Z"
    }
   },
   "outputs": [
    {
     "data": {
      "text/plain": [
       "[-1.5666989036012806,\n",
       " -1.2185435916898848,\n",
       " -0.8703882797784892,\n",
       " -0.5222329678670935,\n",
       " -0.17407765595569785,\n",
       " 0.17407765595569785,\n",
       " 0.5222329678670935,\n",
       " 0.8703882797784892,\n",
       " 1.2185435916898848,\n",
       " 1.5666989036012806]"
      ]
     },
     "execution_count": 10,
     "metadata": {},
     "output_type": "execute_result"
    }
   ],
   "source": [
    "list_m=[10,20,30,40,50,60,70,80,90,100]\n",
    "z_score(list_m)"
   ]
  },
  {
   "cell_type": "code",
   "execution_count": 16,
   "id": "48dac67b",
   "metadata": {
    "ExecuteTime": {
     "end_time": "2021-11-09T08:09:42.805327Z",
     "start_time": "2021-11-09T08:09:42.799386Z"
    }
   },
   "outputs": [
    {
     "data": {
      "text/plain": [
       "array([[28,  2,  9,  4, 17],\n",
       "       [ 3, 27, 16, 26,  3],\n",
       "       [23, 20,  9, 16, 26],\n",
       "       [28, 16,  7, 22, 24],\n",
       "       [ 3, 10, 28, 29, 25],\n",
       "       [13, 11, 12, 29,  1]])"
      ]
     },
     "execution_count": 16,
     "metadata": {},
     "output_type": "execute_result"
    }
   ],
   "source": [
    "data=np.random.randint(30 , size=(6,5))\n",
    "data"
   ]
  },
  {
   "cell_type": "code",
   "execution_count": 18,
   "id": "018a4a78",
   "metadata": {
    "ExecuteTime": {
     "end_time": "2021-11-09T08:10:12.688238Z",
     "start_time": "2021-11-09T08:10:12.671341Z"
    }
   },
   "outputs": [
    {
     "data": {
      "text/plain": [
       "array([[ 1.09321633, -1.555226  , -0.63481105, -1.92487096,  0.09682458],\n",
       "       [-1.2493901 ,  1.59725914,  0.35267281,  0.56613852, -1.25871959],\n",
       "       [ 0.62469505,  0.7145633 , -0.63481105, -0.56613852,  0.96824584],\n",
       "       [ 1.09321633,  0.21016568, -0.9169493 ,  0.1132277 ,  0.77459667],\n",
       "       [-1.2493901 , -0.54643076,  2.04550229,  0.90582163,  0.87142125],\n",
       "       [-0.31234752, -0.42033135, -0.21160368,  0.90582163, -1.45236875]])"
      ]
     },
     "execution_count": 18,
     "metadata": {},
     "output_type": "execute_result"
    }
   ],
   "source": [
    "#sklearn을 이용한 표준화\n",
    "import sklearn\n",
    "from sklearn.preprocessing import *\n",
    "StandardScaler().fit_transform(data)"
   ]
  },
  {
   "cell_type": "code",
   "execution_count": 19,
   "id": "c149770b",
   "metadata": {
    "ExecuteTime": {
     "end_time": "2021-11-09T08:10:16.505143Z",
     "start_time": "2021-11-09T08:10:16.495283Z"
    },
    "scrolled": true
   },
   "outputs": [
    {
     "data": {
      "text/plain": [
       "array([[ 1.09321633, -1.555226  , -0.63481105, -1.92487096,  0.09682458],\n",
       "       [-1.2493901 ,  1.59725914,  0.35267281,  0.56613852, -1.25871959],\n",
       "       [ 0.62469505,  0.7145633 , -0.63481105, -0.56613852,  0.96824584],\n",
       "       [ 1.09321633,  0.21016568, -0.9169493 ,  0.1132277 ,  0.77459667],\n",
       "       [-1.2493901 , -0.54643076,  2.04550229,  0.90582163,  0.87142125],\n",
       "       [-0.31234752, -0.42033135, -0.21160368,  0.90582163, -1.45236875]])"
      ]
     },
     "execution_count": 19,
     "metadata": {},
     "output_type": "execute_result"
    }
   ],
   "source": [
    "#scipy를 이용한 표준화\n",
    "import scipy.stats as ss \n",
    "ss.zscore(data)"
   ]
  },
  {
   "cell_type": "code",
   "execution_count": 21,
   "id": "2537f56e",
   "metadata": {
    "ExecuteTime": {
     "end_time": "2021-11-09T08:11:29.629232Z",
     "start_time": "2021-11-09T08:11:29.615349Z"
    }
   },
   "outputs": [
    {
     "data": {
      "text/plain": [
       "[1.0, 0.0, 0.2692307692307692, 0.07692307692307693, 0.5769230769230769]"
      ]
     },
     "execution_count": 21,
     "metadata": {},
     "output_type": "execute_result"
    }
   ],
   "source": [
    "min_max(data[0])"
   ]
  },
  {
   "cell_type": "code",
   "execution_count": 22,
   "id": "99544b9a",
   "metadata": {
    "ExecuteTime": {
     "end_time": "2021-11-09T08:11:44.630193Z",
     "start_time": "2021-11-09T08:11:44.623802Z"
    },
    "scrolled": false
   },
   "outputs": [
    {
     "data": {
      "text/plain": [
       "[1.6791019206444542,\n",
       " -1.0494387004027839,\n",
       " -0.31483161012083516,\n",
       " -0.8395509603222271,\n",
       " 0.5247193502013919]"
      ]
     },
     "execution_count": 22,
     "metadata": {},
     "output_type": "execute_result"
    }
   ],
   "source": [
    "z_score(data[0])"
   ]
  },
  {
   "cell_type": "code",
   "execution_count": null,
   "id": "c78535c4",
   "metadata": {
    "ExecuteTime": {
     "end_time": "2021-11-09T08:46:41.085507Z",
     "start_time": "2021-11-09T08:46:40.947714Z"
    }
   },
   "outputs": [],
   "source": []
  },
  {
   "cell_type": "code",
   "execution_count": null,
   "id": "8985eb9c",
   "metadata": {},
   "outputs": [],
   "source": [
    "#total 정리\n",
    "#결정트리 사용하기\n",
    "import numpy as np\n",
    "from sklearn.tree import DecisionTreeClassfier\n",
    "tree_model = DecisionTreeClassifier(max_depth=2, random_state=3)\n",
    "tree_model.fit(iris.data,iris.target)\n",
    "#라벨링 되지 않은 데이터들\n",
    "my_iris = np.array([[5, 3.5, 1.4, 0.25], [6.7, 3.0, 5.2, 2.2]]) \n",
    "result = tree_model.predict(my_iris)\n",
    "print(result, iris.target_name[result])\n",
    "#추론\n",
    "tree_model.predict_proba(my_iris)\n",
    "#데이터셋 분할\n",
    "from sklearn.model_selection import train_test_split\n",
    "\n",
    "X_train, X_test, Y_train, Y_test = train_test_split(iris.data,\n",
    "                                                   iris.target,\n",
    "                                                   test_size=0.2,\n",
    "                                                   random_state=12,\n",
    "                                                   stratify = iris.target)##원본 데이터의 클래스별 비율에 맞춰 나누도록 처리\n",
    "\n",
    "#평가\n",
    "pred_train = tree_model.predict(X_train)\n",
    "pred_test = tree_model.predict(X_test)\n",
    "#정확도 \n",
    "from sklearn.metrics import accuracy_score\n",
    "#accuracy_score(정답, 예측값)\n",
    "\n",
    "acc_train = accuracy_score(Y_train, pred_train)\n",
    "acc_test = accuracy_score(Y_test, pred_test)\n",
    "print('훈련데이터셋 정확도: {}, 테스트데이터셋 정확도: {}'.format(acc_train, acc_test))"
   ]
  },
  {
   "cell_type": "code",
   "execution_count": null,
   "id": "5170a161",
   "metadata": {},
   "outputs": [],
   "source": []
  },
  {
   "cell_type": "code",
   "execution_count": null,
   "id": "9d3711dd",
   "metadata": {},
   "outputs": [],
   "source": []
  }
 ],
 "metadata": {
  "kernelspec": {
   "display_name": "Python 3 (ipykernel)",
   "language": "python",
   "name": "python3"
  },
  "language_info": {
   "codemirror_mode": {
    "name": "ipython",
    "version": 3
   },
   "file_extension": ".py",
   "mimetype": "text/x-python",
   "name": "python",
   "nbconvert_exporter": "python",
   "pygments_lexer": "ipython3",
   "version": "3.8.12"
  },
  "toc": {
   "base_numbering": 1,
   "nav_menu": {},
   "number_sections": true,
   "sideBar": true,
   "skip_h1_title": false,
   "title_cell": "Table of Contents",
   "title_sidebar": "Contents",
   "toc_cell": false,
   "toc_position": {},
   "toc_section_display": true,
   "toc_window_display": false
  },
  "varInspector": {
   "cols": {
    "lenName": 16,
    "lenType": 16,
    "lenVar": 40
   },
   "kernels_config": {
    "python": {
     "delete_cmd_postfix": "",
     "delete_cmd_prefix": "del ",
     "library": "var_list.py",
     "varRefreshCmd": "print(var_dic_list())"
    },
    "r": {
     "delete_cmd_postfix": ") ",
     "delete_cmd_prefix": "rm(",
     "library": "var_list.r",
     "varRefreshCmd": "cat(var_dic_list()) "
    }
   },
   "types_to_exclude": [
    "module",
    "function",
    "builtin_function_or_method",
    "instance",
    "_Feature"
   ],
   "window_display": false
  }
 },
 "nbformat": 4,
 "nbformat_minor": 5
}
