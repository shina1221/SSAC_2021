{
 "cells": [
  {
   "cell_type": "code",
   "execution_count": null,
   "id": "cee6f7c7",
   "metadata": {},
   "outputs": [],
   "source": [
    "\"\"\"\n",
    "N은 1 이상 9 이하입니다.\n",
    "number는 1 이상 32,000 이하입니다.\n",
    "수식에는 괄호와 사칙연산만 가능하며 나누기 연산에서 나머지는 무시합니다.\n",
    "최솟값이 8보다 크면 -1을 return 합니다.\n",
    "\n",
    "N\tnumber\treturn\n",
    "5\t12\t4\n",
    "2\t11\t3\n",
    "\"\"\"\n",
    "N=2\n",
    "number=11\n",
    "\n",
    "#만약 number가 n으로만 이루어진 숫자일 경우\n",
    "if len(str(number))==str(number).count(str(N)) and str(number).count(str(N))<=8:\n",
    "    cnt=str(number).count(str(N))\n",
    "else:\n",
    "    cnt =0\n",
    "\n",
    "#중간에 계산하기 위한 중간 수 \n",
    "mid = 0\n",
    "\n",
    "while cnt<=8:\n",
    "    mid+=str(N)\n",
    "    cnt += (number-int(mid))//N\n",
    "    \n",
    "    if len(str(number))==str(number).count(str(N)):\n",
    "        cnt=str(number).count(str(N))\n",
    "    \n",
    "return -1    \n"
   ]
  },
  {
   "cell_type": "code",
   "execution_count": null,
   "id": "519b654c",
   "metadata": {},
   "outputs": [],
   "source": [
    "N+N +?\n",
    "N*N +? -?\n",
    "int(str(N)+str(N)) +?  /? -? \n",
    "중에서 가장 가까운 수\n",
    "\n",
    "나머지가 N보다 작을 경우 N/N으로 나머지 수를 채움\n"
   ]
  },
  {
   "cell_type": "code",
   "execution_count": 1,
   "id": "e72caa69",
   "metadata": {
    "ExecuteTime": {
     "end_time": "2021-11-10T05:03:40.372452Z",
     "start_time": "2021-11-10T05:03:40.357325Z"
    }
   },
   "outputs": [
    {
     "data": {
      "text/plain": [
       "'55555'"
      ]
     },
     "execution_count": 1,
     "metadata": {},
     "output_type": "execute_result"
    }
   ],
   "source": [
    "t='5555'\n",
    "t+'5'"
   ]
  }
 ],
 "metadata": {
  "kernelspec": {
   "display_name": "Python 3 (ipykernel)",
   "language": "python",
   "name": "python3"
  },
  "language_info": {
   "codemirror_mode": {
    "name": "ipython",
    "version": 3
   },
   "file_extension": ".py",
   "mimetype": "text/x-python",
   "name": "python",
   "nbconvert_exporter": "python",
   "pygments_lexer": "ipython3",
   "version": "3.8.12"
  },
  "toc": {
   "base_numbering": 1,
   "nav_menu": {},
   "number_sections": true,
   "sideBar": true,
   "skip_h1_title": false,
   "title_cell": "Table of Contents",
   "title_sidebar": "Contents",
   "toc_cell": false,
   "toc_position": {},
   "toc_section_display": true,
   "toc_window_display": false
  },
  "varInspector": {
   "cols": {
    "lenName": 16,
    "lenType": 16,
    "lenVar": 40
   },
   "kernels_config": {
    "python": {
     "delete_cmd_postfix": "",
     "delete_cmd_prefix": "del ",
     "library": "var_list.py",
     "varRefreshCmd": "print(var_dic_list())"
    },
    "r": {
     "delete_cmd_postfix": ") ",
     "delete_cmd_prefix": "rm(",
     "library": "var_list.r",
     "varRefreshCmd": "cat(var_dic_list()) "
    }
   },
   "types_to_exclude": [
    "module",
    "function",
    "builtin_function_or_method",
    "instance",
    "_Feature"
   ],
   "window_display": false
  }
 },
 "nbformat": 4,
 "nbformat_minor": 5
}
