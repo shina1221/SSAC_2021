{
 "cells": [
  {
   "cell_type": "code",
   "execution_count": null,
   "id": "cee6f7c7",
   "metadata": {},
   "outputs": [],
   "source": [
    "\"\"\"\n",
    "N은 1 이상 9 이하입니다.\n",
    "number는 1 이상 32,000 이하입니다.\n",
    "수식에는 괄호와 사칙연산만 가능하며 나누기 연산에서 나머지는 무시합니다.\n",
    "최솟값이 8보다 크면 -1을 return 합니다.\n",
    "\n",
    "N\tnumber\treturn\n",
    "5\t12\t4\n",
    "2\t11\t3\n",
    "\"\"\"\n",
    "N=2\n",
    "number=11\n",
    "\n",
    "#만약 number가 n으로만 이루어진 숫자일 경우\n",
    "if len(str(number))==str(number).count(str(N)) and str(number).count(str(N))<=8:\n",
    "    cnt=str(number).count(str(N))\n",
    "else:\n",
    "    cnt =0\n",
    "\n",
    "#중간에 계산하기 위한 중간 수 \n",
    "mid = 0\n",
    "\n",
    "while cnt<=8:\n",
    "    mid+=str(N)\n",
    "    cnt += (number-int(mid))//N\n",
    "    \n",
    "    if len(str(number))==str(number).count(str(N)):\n",
    "        cnt=str(number).count(str(N))\n",
    "    \n",
    "return -1    \n"
   ]
  },
  {
   "cell_type": "code",
   "execution_count": null,
   "id": "d300b9ef",
   "metadata": {},
   "outputs": [],
   "source": [
    "\"\"\"\n",
    "N은 1 이상 9 이하입니다.\n",
    "number는 1 이상 32,000 이하입니다.\n",
    "수식에는 괄호와 사칙연산만 가능하며 나누기 연산에서 나머지는 무시합니다.\n",
    "최솟값이 8보다 크면 -1을 return 합니다.\n",
    "\n",
    "N\tnumber\treturn\n",
    "5\t12\t4\n",
    "2\t11\t3\n",
    "\"\"\"\n",
    "N=2\n",
    "number=11\n",
    "\n",
    "#만약 number가 n으로만 이루어진 숫자일 경우\n",
    "if len(str(number))==str(number).count(str(N)) and str(number).count(str(N))<=8:\n",
    "    cnt=str(number).count(str(N))\n",
    "else:\n",
    "    cnt =0\n",
    "\n",
    "#중간에 계산하기 위한 중간 수 \n",
    "mid = 0\n",
    "\n",
    "while cnt<=8:\n",
    "    mid+=str(N)\n",
    "    cnt += (number-int(mid))//N\n",
    "    \n",
    "    if len(str(number))==str(number).count(str(N)):\n",
    "        cnt=str(number).count(str(N))\n",
    "    \n",
    "return -1    \n"
   ]
  },
  {
   "cell_type": "code",
   "execution_count": null,
   "id": "519b654c",
   "metadata": {},
   "outputs": [],
   "source": [
    "N+N +?\n",
    "N*N +? -?\n",
    "int(str(N)+str(N)) +?  /? -? \n",
    "중에서 가장 가까운 수\n",
    "\n",
    "나머지가 N보다 작을 경우 N/N으로 나머지 수를 채움\n"
   ]
  },
  {
   "cell_type": "code",
   "execution_count": 1,
   "id": "e72caa69",
   "metadata": {
    "ExecuteTime": {
     "end_time": "2021-11-10T05:03:40.372452Z",
     "start_time": "2021-11-10T05:03:40.357325Z"
    }
   },
   "outputs": [
    {
     "data": {
      "text/plain": [
       "'55555'"
      ]
     },
     "execution_count": 1,
     "metadata": {},
     "output_type": "execute_result"
    }
   ],
   "source": [
    "t='5555'\n",
    "t+'5'"
   ]
  },
  {
   "cell_type": "code",
   "execution_count": null,
   "id": "35f17018",
   "metadata": {},
   "outputs": [],
   "source": [
    "def solution(N, road, K):    \n",
    "    cost = [[] for i in range(len(road))]\n",
    "    visited=[1]\n",
    "    min_i=999\n",
    "    for fisrt_i in road:\n",
    "        if fisrt_i[0]==1 and min_i >= fisrt_i[2]:\n",
    "            min_i = fisrt_i[2]\n",
    "            min_li = fisrt_i\n",
    "    road[road.index(min_li)]=True\n",
    "    visited.append(min_li[1]) \n",
    "    total_cost = [min_li[2]]\n",
    "\n",
    "    while sum(total_cost) <= K:\n",
    "        for arr_i in road:        \n",
    "            min_i=999\n",
    "            if arr_i==True:\n",
    "                continue\n",
    "            for v_i in visited:\n",
    "                if v_i==arr_i[0] and arr_i[2] < min_i:\n",
    "                    min_i = arr_i[2]\n",
    "                    min_li = arr_i\n",
    "        #해당 노드 리스트는 탐색했다고 True 표시\n",
    "        road[road.index(min_li)]=True   ####\n",
    "        #탐색한 노드 표시\n",
    "        visited.append(min_li[1]) \n",
    "        total_cost.append(min_li[2])\n",
    "    return len(visited)"
   ]
  }
 ],
 "metadata": {
  "kernelspec": {
   "display_name": "Python 3 (ipykernel)",
   "language": "python",
   "name": "python3"
  },
  "language_info": {
   "codemirror_mode": {
    "name": "ipython",
    "version": 3
   },
   "file_extension": ".py",
   "mimetype": "text/x-python",
   "name": "python",
   "nbconvert_exporter": "python",
   "pygments_lexer": "ipython3",
   "version": "3.9.6"
  },
  "toc": {
   "base_numbering": 1,
   "nav_menu": {},
   "number_sections": true,
   "sideBar": true,
   "skip_h1_title": false,
   "title_cell": "Table of Contents",
   "title_sidebar": "Contents",
   "toc_cell": false,
   "toc_position": {},
   "toc_section_display": true,
   "toc_window_display": false
  },
  "varInspector": {
   "cols": {
    "lenName": 16,
    "lenType": 16,
    "lenVar": 40
   },
   "kernels_config": {
    "python": {
     "delete_cmd_postfix": "",
     "delete_cmd_prefix": "del ",
     "library": "var_list.py",
     "varRefreshCmd": "print(var_dic_list())"
    },
    "r": {
     "delete_cmd_postfix": ") ",
     "delete_cmd_prefix": "rm(",
     "library": "var_list.r",
     "varRefreshCmd": "cat(var_dic_list()) "
    }
   },
   "types_to_exclude": [
    "module",
    "function",
    "builtin_function_or_method",
    "instance",
    "_Feature"
   ],
   "window_display": false
  }
 },
 "nbformat": 4,
 "nbformat_minor": 5
}
