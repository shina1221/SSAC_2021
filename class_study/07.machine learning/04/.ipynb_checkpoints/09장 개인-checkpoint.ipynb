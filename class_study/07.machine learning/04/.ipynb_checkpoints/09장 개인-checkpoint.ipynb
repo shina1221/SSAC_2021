{
 "cells": [
  {
   "cell_type": "code",
   "execution_count": 1,
   "id": "d99311fe",
   "metadata": {
    "ExecuteTime": {
     "end_time": "2021-11-18T05:48:31.043164Z",
     "start_time": "2021-11-18T05:48:30.504924Z"
    }
   },
   "outputs": [
    {
     "data": {
      "text/plain": [
       "<bound method DataFrame.info of       fixed acidity  volatile acidity  citric acid  residual sugar  chlorides  \\\n",
       "0               7.4              0.70         0.00             1.9      0.076   \n",
       "1               7.8              0.88         0.00             2.6      0.098   \n",
       "2               7.8              0.76         0.04             2.3      0.092   \n",
       "3              11.2              0.28         0.56             1.9      0.075   \n",
       "4               7.4              0.70         0.00             1.9      0.076   \n",
       "...             ...               ...          ...             ...        ...   \n",
       "6492            6.2              0.21         0.29             1.6      0.039   \n",
       "6493            6.6              0.32         0.36             8.0      0.047   \n",
       "6494            6.5              0.24         0.19             1.2      0.041   \n",
       "6495            5.5              0.29         0.30             1.1      0.022   \n",
       "6496            6.0              0.21         0.38             0.8      0.020   \n",
       "\n",
       "      free sulfur dioxide  total sulfur dioxide  density    pH  sulphates  \\\n",
       "0                    11.0                  34.0  0.99780  3.51       0.56   \n",
       "1                    25.0                  67.0  0.99680  3.20       0.68   \n",
       "2                    15.0                  54.0  0.99700  3.26       0.65   \n",
       "3                    17.0                  60.0  0.99800  3.16       0.58   \n",
       "4                    11.0                  34.0  0.99780  3.51       0.56   \n",
       "...                   ...                   ...      ...   ...        ...   \n",
       "6492                 24.0                  92.0  0.99114  3.27       0.50   \n",
       "6493                 57.0                 168.0  0.99490  3.15       0.46   \n",
       "6494                 30.0                 111.0  0.99254  2.99       0.46   \n",
       "6495                 20.0                 110.0  0.98869  3.34       0.38   \n",
       "6496                 22.0                  98.0  0.98941  3.26       0.32   \n",
       "\n",
       "      alcohol quality  color  \n",
       "0         9.4       C      1  \n",
       "1         9.8       C      1  \n",
       "2         9.8       C      1  \n",
       "3         9.8       B      1  \n",
       "4         9.4       C      1  \n",
       "...       ...     ...    ...  \n",
       "6492     11.2       B      0  \n",
       "6493      9.6       C      0  \n",
       "6494      9.4       B      0  \n",
       "6495     12.8       A      0  \n",
       "6496     11.8       B      0  \n",
       "\n",
       "[6497 rows x 13 columns]>"
      ]
     },
     "execution_count": 1,
     "metadata": {},
     "output_type": "execute_result"
    }
   ],
   "source": [
    "import pandas as pd\n",
    "import numpy as np\n",
    "\n",
    "wine = pd.read_csv('./data/wine.csv')\n",
    "wine.info"
   ]
  },
  {
   "cell_type": "code",
   "execution_count": 4,
   "id": "2f7e8c3a",
   "metadata": {
    "ExecuteTime": {
     "end_time": "2021-11-18T05:49:30.044083Z",
     "start_time": "2021-11-18T05:49:30.036134Z"
    }
   },
   "outputs": [],
   "source": [
    "y = wine['color']\n",
    "X = wine.drop(labels='color',axis=1)"
   ]
  },
  {
   "cell_type": "code",
   "execution_count": 6,
   "id": "b4cfadb8",
   "metadata": {
    "ExecuteTime": {
     "end_time": "2021-11-18T05:50:57.580638Z",
     "start_time": "2021-11-18T05:50:57.570639Z"
    }
   },
   "outputs": [
    {
     "name": "stdout",
     "output_type": "stream",
     "text": [
      "['A' 'B' 'C']\n"
     ]
    }
   ],
   "source": [
    "#레이블 인코더\n",
    "from sklearn.preprocessing import LabelEncoder\n",
    "encoder = LabelEncoder()\n",
    "X['quality'] = encoder.fit_transform(X['quality'])\n",
    "\n",
    "print(encoder.classes_)\n",
    "\n",
    "#기존에 ABC로 되어있으므로 "
   ]
  },
  {
   "cell_type": "code",
   "execution_count": 7,
   "id": "b1065b2d",
   "metadata": {
    "ExecuteTime": {
     "end_time": "2021-11-18T05:51:04.516076Z",
     "start_time": "2021-11-18T05:51:04.500118Z"
    }
   },
   "outputs": [
    {
     "data": {
      "text/html": [
       "<div>\n",
       "<style scoped>\n",
       "    .dataframe tbody tr th:only-of-type {\n",
       "        vertical-align: middle;\n",
       "    }\n",
       "\n",
       "    .dataframe tbody tr th {\n",
       "        vertical-align: top;\n",
       "    }\n",
       "\n",
       "    .dataframe thead th {\n",
       "        text-align: right;\n",
       "    }\n",
       "</style>\n",
       "<table border=\"1\" class=\"dataframe\">\n",
       "  <thead>\n",
       "    <tr style=\"text-align: right;\">\n",
       "      <th></th>\n",
       "      <th>fixed acidity</th>\n",
       "      <th>volatile acidity</th>\n",
       "      <th>citric acid</th>\n",
       "      <th>residual sugar</th>\n",
       "      <th>chlorides</th>\n",
       "      <th>free sulfur dioxide</th>\n",
       "      <th>total sulfur dioxide</th>\n",
       "      <th>density</th>\n",
       "      <th>pH</th>\n",
       "      <th>sulphates</th>\n",
       "      <th>alcohol</th>\n",
       "      <th>quality</th>\n",
       "    </tr>\n",
       "  </thead>\n",
       "  <tbody>\n",
       "    <tr>\n",
       "      <th>0</th>\n",
       "      <td>7.4</td>\n",
       "      <td>0.70</td>\n",
       "      <td>0.00</td>\n",
       "      <td>1.9</td>\n",
       "      <td>0.076</td>\n",
       "      <td>11.0</td>\n",
       "      <td>34.0</td>\n",
       "      <td>0.9978</td>\n",
       "      <td>3.51</td>\n",
       "      <td>0.56</td>\n",
       "      <td>9.4</td>\n",
       "      <td>2</td>\n",
       "    </tr>\n",
       "    <tr>\n",
       "      <th>1</th>\n",
       "      <td>7.8</td>\n",
       "      <td>0.88</td>\n",
       "      <td>0.00</td>\n",
       "      <td>2.6</td>\n",
       "      <td>0.098</td>\n",
       "      <td>25.0</td>\n",
       "      <td>67.0</td>\n",
       "      <td>0.9968</td>\n",
       "      <td>3.20</td>\n",
       "      <td>0.68</td>\n",
       "      <td>9.8</td>\n",
       "      <td>2</td>\n",
       "    </tr>\n",
       "    <tr>\n",
       "      <th>2</th>\n",
       "      <td>7.8</td>\n",
       "      <td>0.76</td>\n",
       "      <td>0.04</td>\n",
       "      <td>2.3</td>\n",
       "      <td>0.092</td>\n",
       "      <td>15.0</td>\n",
       "      <td>54.0</td>\n",
       "      <td>0.9970</td>\n",
       "      <td>3.26</td>\n",
       "      <td>0.65</td>\n",
       "      <td>9.8</td>\n",
       "      <td>2</td>\n",
       "    </tr>\n",
       "    <tr>\n",
       "      <th>3</th>\n",
       "      <td>11.2</td>\n",
       "      <td>0.28</td>\n",
       "      <td>0.56</td>\n",
       "      <td>1.9</td>\n",
       "      <td>0.075</td>\n",
       "      <td>17.0</td>\n",
       "      <td>60.0</td>\n",
       "      <td>0.9980</td>\n",
       "      <td>3.16</td>\n",
       "      <td>0.58</td>\n",
       "      <td>9.8</td>\n",
       "      <td>1</td>\n",
       "    </tr>\n",
       "    <tr>\n",
       "      <th>4</th>\n",
       "      <td>7.4</td>\n",
       "      <td>0.70</td>\n",
       "      <td>0.00</td>\n",
       "      <td>1.9</td>\n",
       "      <td>0.076</td>\n",
       "      <td>11.0</td>\n",
       "      <td>34.0</td>\n",
       "      <td>0.9978</td>\n",
       "      <td>3.51</td>\n",
       "      <td>0.56</td>\n",
       "      <td>9.4</td>\n",
       "      <td>2</td>\n",
       "    </tr>\n",
       "  </tbody>\n",
       "</table>\n",
       "</div>"
      ],
      "text/plain": [
       "   fixed acidity  volatile acidity  citric acid  residual sugar  chlorides  \\\n",
       "0            7.4              0.70         0.00             1.9      0.076   \n",
       "1            7.8              0.88         0.00             2.6      0.098   \n",
       "2            7.8              0.76         0.04             2.3      0.092   \n",
       "3           11.2              0.28         0.56             1.9      0.075   \n",
       "4            7.4              0.70         0.00             1.9      0.076   \n",
       "\n",
       "   free sulfur dioxide  total sulfur dioxide  density    pH  sulphates  \\\n",
       "0                 11.0                  34.0   0.9978  3.51       0.56   \n",
       "1                 25.0                  67.0   0.9968  3.20       0.68   \n",
       "2                 15.0                  54.0   0.9970  3.26       0.65   \n",
       "3                 17.0                  60.0   0.9980  3.16       0.58   \n",
       "4                 11.0                  34.0   0.9978  3.51       0.56   \n",
       "\n",
       "   alcohol  quality  \n",
       "0      9.4        2  \n",
       "1      9.8        2  \n",
       "2      9.8        2  \n",
       "3      9.8        1  \n",
       "4      9.4        2  "
      ]
     },
     "execution_count": 7,
     "metadata": {},
     "output_type": "execute_result"
    }
   ],
   "source": [
    "X.head()"
   ]
  },
  {
   "cell_type": "code",
   "execution_count": 9,
   "id": "9460db54",
   "metadata": {
    "ExecuteTime": {
     "end_time": "2021-11-18T05:52:56.903455Z",
     "start_time": "2021-11-18T05:52:56.852723Z"
    }
   },
   "outputs": [],
   "source": [
    "from sklearn.model_selection import train_test_split\n",
    "X_train, X_test, y_train, y_test = train_test_split(X, y, stratify=y, test_size=0.2)"
   ]
  },
  {
   "cell_type": "code",
   "execution_count": 11,
   "id": "d80d4b31",
   "metadata": {
    "ExecuteTime": {
     "end_time": "2021-11-18T05:53:51.659690Z",
     "start_time": "2021-11-18T05:53:51.620195Z"
    }
   },
   "outputs": [
    {
     "data": {
      "text/plain": [
       "DecisionTreeClassifier(random_state=0)"
      ]
     },
     "execution_count": 11,
     "metadata": {},
     "output_type": "execute_result"
    }
   ],
   "source": [
    "from sklearn.tree import DecisionTreeClassifier\n",
    "tree = DecisionTreeClassifier(random_state=0)\n",
    "tree.fit(X_train, y_train)"
   ]
  },
  {
   "cell_type": "code",
   "execution_count": 21,
   "id": "d1632eb0",
   "metadata": {
    "ExecuteTime": {
     "end_time": "2021-11-18T05:59:49.235256Z",
     "start_time": "2021-11-18T05:59:49.220295Z"
    }
   },
   "outputs": [
    {
     "name": "stdout",
     "output_type": "stream",
     "text": [
      "[[3918    0]\n",
      " [   2 1277]]\n",
      "[[975   5]\n",
      " [ 12 308]]\n"
     ]
    }
   ],
   "source": [
    "from sklearn.metrics import accuracy_score, confusion_matrix, classification_report, plot_roc_curve\n",
    "pred_train = tree.predict(X_train)\n",
    "pred_test = tree.predict(X_test)\n",
    "\n",
    "###\n",
    "proba_train = tree.predict_proba(X_train)[:,1]\n",
    "proba_train = tree.predict_proba(X_test)[:,1]\n",
    "\n",
    "###\n",
    "print(confusion_matrix(y_train, pred_train))\n",
    "print(confusion_matrix(y_test, pred_test))"
   ]
  },
  {
   "cell_type": "code",
   "execution_count": 22,
   "id": "035ddcf0",
   "metadata": {
    "ExecuteTime": {
     "end_time": "2021-11-18T05:59:51.154961Z",
     "start_time": "2021-11-18T05:59:51.138007Z"
    }
   },
   "outputs": [
    {
     "name": "stdout",
     "output_type": "stream",
     "text": [
      "accuracy\n"
     ]
    },
    {
     "data": {
      "text/plain": [
       "(0.9996151625938041, 0.9869230769230769)"
      ]
     },
     "execution_count": 22,
     "metadata": {},
     "output_type": "execute_result"
    }
   ],
   "source": [
    "print('accuracy')\n",
    "accuracy_score(y_train, pred_train), accuracy_score(y_test, pred_test)"
   ]
  },
  {
   "cell_type": "code",
   "execution_count": 25,
   "id": "76a09867",
   "metadata": {
    "ExecuteTime": {
     "end_time": "2021-11-18T06:00:32.332472Z",
     "start_time": "2021-11-18T06:00:32.195212Z"
    }
   },
   "outputs": [
    {
     "data": {
      "text/plain": [
       "<sklearn.metrics._plot.roc_curve.RocCurveDisplay at 0x1fce7449850>"
      ]
     },
     "execution_count": 25,
     "metadata": {},
     "output_type": "execute_result"
    },
    {
     "data": {
      "image/png": "[encoded data removed]",
      "text/plain": [
       "<Figure size 576x432 with 1 Axes>"
      ]
     },
     "metadata": {
      "needs_background": "light"
     },
     "output_type": "display_data"
    }
   ],
   "source": [
    "import matplotlib.pyplot as plt\n",
    "_, ax = plt.subplots(1,1,figsize=(8,6))\n",
    "###\n",
    "plot_roc_curve(tree, X_train, y_train, ax=ax, name='train')\n",
    "plot_roc_curve(tree, X_test, y_test, ax=ax, name='test')"
   ]
  },
  {
   "cell_type": "code",
   "execution_count": 26,
   "id": "7408c9ae",
   "metadata": {
    "ExecuteTime": {
     "end_time": "2021-11-18T06:01:02.933920Z",
     "start_time": "2021-11-18T06:01:02.901780Z"
    }
   },
   "outputs": [
    {
     "name": "stdout",
     "output_type": "stream",
     "text": [
      "              precision    recall  f1-score   support\n",
      "\n",
      "           0       1.00      1.00      1.00      3918\n",
      "           1       1.00      1.00      1.00      1279\n",
      "\n",
      "    accuracy                           1.00      5197\n",
      "   macro avg       1.00      1.00      1.00      5197\n",
      "weighted avg       1.00      1.00      1.00      5197\n",
      "\n"
     ]
    }
   ],
   "source": [
    "#recall precision\n",
    "print(classification_report(y_train, pred_train))"
   ]
  },
  {
   "cell_type": "code",
   "execution_count": 27,
   "id": "f451a8d9",
   "metadata": {
    "ExecuteTime": {
     "end_time": "2021-11-18T06:01:14.231622Z",
     "start_time": "2021-11-18T06:01:14.211225Z"
    }
   },
   "outputs": [
    {
     "name": "stdout",
     "output_type": "stream",
     "text": [
      "              precision    recall  f1-score   support\n",
      "\n",
      "           0       0.99      0.99      0.99       980\n",
      "           1       0.98      0.96      0.97       320\n",
      "\n",
      "    accuracy                           0.99      1300\n",
      "   macro avg       0.99      0.98      0.98      1300\n",
      "weighted avg       0.99      0.99      0.99      1300\n",
      "\n"
     ]
    }
   ],
   "source": [
    "print(classification_report(y_test, pred_test))"
   ]
  },
  {
   "cell_type": "code",
   "execution_count": 31,
   "id": "a28df443",
   "metadata": {
    "ExecuteTime": {
     "end_time": "2021-11-18T06:03:20.352810Z",
     "start_time": "2021-11-18T06:03:20.339874Z"
    }
   },
   "outputs": [
    {
     "data": {
      "text/plain": [
       "array([0.00830574, 0.05251625, 0.00171819, 0.00802786, 0.20126779,\n",
       "       0.00129771, 0.6743692 , 0.01831294, 0.0128673 , 0.01521809,\n",
       "       0.00454168, 0.00155725])"
      ]
     },
     "execution_count": 31,
     "metadata": {},
     "output_type": "execute_result"
    }
   ],
   "source": [
    "#feature 중요도 조회\n",
    "fi = tree.feature_importances_\n",
    "fi"
   ]
  },
  {
   "cell_type": "code",
   "execution_count": 37,
   "id": "3acf056c",
   "metadata": {
    "ExecuteTime": {
     "end_time": "2021-11-18T06:04:16.747785Z",
     "start_time": "2021-11-18T06:04:16.739811Z"
    }
   },
   "outputs": [],
   "source": [
    "fi_s = pd.Series(fi,index=X.columns)"
   ]
  },
  {
   "cell_type": "code",
   "execution_count": 38,
   "id": "36cddd09",
   "metadata": {
    "ExecuteTime": {
     "end_time": "2021-11-18T06:05:08.609342Z",
     "start_time": "2021-11-18T06:05:08.451064Z"
    }
   },
   "outputs": [
    {
     "data": {
      "image/png": "[encoded data removed]",
      "text/plain": [
       "<Figure size 576x432 with 1 Axes>"
      ]
     },
     "metadata": {
      "needs_background": "light"
     },
     "output_type": "display_data"
    }
   ],
   "source": [
    "import matplotlib.pyplot as plt\n",
    "fi_s.sort_values().plot(kind='barh', figsize=(8,6))\n",
    "plt.show()"
   ]
  },
  {
   "cell_type": "markdown",
   "id": "9cb84e82",
   "metadata": {},
   "source": [
    "# 개인"
   ]
  },
  {
   "cell_type": "markdown",
   "id": "58c3dad4",
   "metadata": {},
   "source": [
    "# TODO: GridSearchCV \n",
    "- 가지치기(모델 복잡도 관련 규제) 파라미터 찾기\n",
    "- max_depth, max_leaf_nodes, min_samples_leaf 최적의 조합을 GridSearch를 이용해 찾아본다.\n",
    "- best_estimator_ 를 이용해서 feature 중요도를 조회한다.\n",
    "- best_estimator_를 이용해 graphviz로 구조를 확인한다."
   ]
  },
  {
   "cell_type": "code",
   "execution_count": 39,
   "id": "f1109f3e",
   "metadata": {
    "ExecuteTime": {
     "end_time": "2021-11-18T06:07:26.716422Z",
     "start_time": "2021-11-18T06:07:26.693359Z"
    }
   },
   "outputs": [
    {
     "data": {
      "text/plain": [
       "(6497, 13)"
      ]
     },
     "execution_count": 39,
     "metadata": {},
     "output_type": "execute_result"
    }
   ],
   "source": [
    "import pandas as pd\n",
    "import numpy as np\n",
    "\n",
    "wine= pd.read_csv('./data/wine.csv')\n",
    "wine.shape"
   ]
  },
  {
   "cell_type": "code",
   "execution_count": 45,
   "id": "1a82783a",
   "metadata": {
    "ExecuteTime": {
     "end_time": "2021-11-18T06:12:15.107158Z",
     "start_time": "2021-11-18T06:12:15.092172Z"
    }
   },
   "outputs": [],
   "source": [
    "X_train, X_test, y_train, y_test = train_test_split(X, y, stratify=y, random_state=0)"
   ]
  },
  {
   "cell_type": "code",
   "execution_count": 46,
   "id": "f51ee8f6",
   "metadata": {
    "ExecuteTime": {
     "end_time": "2021-11-18T06:12:16.383176Z",
     "start_time": "2021-11-18T06:12:16.355705Z"
    }
   },
   "outputs": [
    {
     "data": {
      "text/plain": [
       "DecisionTreeClassifier(random_state=0)"
      ]
     },
     "execution_count": 46,
     "metadata": {},
     "output_type": "execute_result"
    }
   ],
   "source": [
    "tree = DecisionTreeClassifier(n_estimators, masrandom_state=0)\n",
    "tree.fit(X_train, y_train)"
   ]
  },
  {
   "cell_type": "code",
   "execution_count": null,
   "id": "bacae761",
   "metadata": {},
   "outputs": [],
   "source": [
    "from sklearn.pipeline jo"
   ]
  },
  {
   "cell_type": "code",
   "execution_count": 59,
   "id": "92ca470f",
   "metadata": {
    "ExecuteTime": {
     "end_time": "2021-11-18T06:24:14.800297Z",
     "start_time": "2021-11-18T06:24:14.786799Z"
    }
   },
   "outputs": [],
   "source": [
    "from sklearn.model_selection import GridSearchCV\n",
    "from sklearn.preprocessing import StandardScaler \n",
    "order = [\n",
    "    ('scaler', StandardScaler()),\n",
    "    ('tree', DecisionTreeClassifier(random_state=0))\n",
    "]"
   ]
  },
  {
   "cell_type": "code",
   "execution_count": null,
   "id": "f19ece21",
   "metadata": {},
   "outputs": [],
   "source": []
  },
  {
   "cell_type": "code",
   "execution_count": null,
   "id": "f682e654",
   "metadata": {},
   "outputs": [],
   "source": []
  },
  {
   "cell_type": "code",
   "execution_count": null,
   "id": "0539c653",
   "metadata": {},
   "outputs": [],
   "source": []
  },
  {
   "cell_type": "code",
   "execution_count": null,
   "id": "63fea76d",
   "metadata": {},
   "outputs": [],
   "source": []
  },
  {
   "cell_type": "code",
   "execution_count": null,
   "id": "0688d549",
   "metadata": {},
   "outputs": [],
   "source": []
  },
  {
   "cell_type": "code",
   "execution_count": null,
   "id": "dd641cd7",
   "metadata": {},
   "outputs": [],
   "source": []
  },
  {
   "cell_type": "code",
   "execution_count": null,
   "id": "67e786ed",
   "metadata": {},
   "outputs": [],
   "source": []
  },
  {
   "cell_type": "code",
   "execution_count": null,
   "id": "25ea0909",
   "metadata": {},
   "outputs": [],
   "source": []
  },
  {
   "cell_type": "markdown",
   "id": "df69872c",
   "metadata": {},
   "source": [
    "# 강사님 버전 \n"
   ]
  },
  {
   "cell_type": "code",
   "execution_count": 64,
   "id": "8438311e",
   "metadata": {
    "ExecuteTime": {
     "end_time": "2021-11-18T07:46:10.637776Z",
     "start_time": "2021-11-18T07:46:10.625837Z"
    }
   },
   "outputs": [
    {
     "data": {
      "text/plain": [
       "GridSearchCV(cv=5, estimator=DecisionTreeClassifier(random_state=0), n_jobs=-1,\n",
       "             param_grid={'max_depth': range(1, 14),\n",
       "                         'max_leaf_nodes': [5, 10, 15, 20, 30],\n",
       "                         'min_samples_leaf': range(100, 1001, 100)},\n",
       "             scoring='accuracy')"
      ]
     },
     "execution_count": 64,
     "metadata": {},
     "output_type": "execute_result"
    }
   ],
   "source": [
    "from sklearn.model_selection import GridSearchCV\n",
    "from sklearn.tree import DecisionTreeClassifier\n",
    "param = {\n",
    "    \"max_depth\":range(1,14),\n",
    "    \"max_leaf_nodes\": [5,10,15,20,30],\n",
    "    \"min_samples_leaf\" : range(100, 1001, 100)\n",
    "}\n",
    "\n",
    "gs = GridSearchCV(DecisionTreeClassifier(random_state=0),\n",
    "                  param,\n",
    "                  scoring='accuracy',\n",
    "                  cv=5,\n",
    "                  n_jobs=-1)\n",
    "\n",
    "gs"
   ]
  },
  {
   "cell_type": "code",
   "execution_count": null,
   "id": "164565de",
   "metadata": {},
   "outputs": [],
   "source": [
    "gs.fit(X_train, y_train)"
   ]
  },
  {
   "cell_type": "code",
   "execution_count": 71,
   "id": "a1bf9d3e",
   "metadata": {
    "ExecuteTime": {
     "end_time": "2021-11-18T07:47:52.740727Z",
     "start_time": "2021-11-18T07:47:52.721650Z"
    }
   },
   "outputs": [
    {
     "data": {
      "text/plain": [
       "{'max_depth': 3, 'max_leaf_nodes': 5, 'min_samples_leaf': 100}"
      ]
     },
     "execution_count": 71,
     "metadata": {},
     "output_type": "execute_result"
    }
   ],
   "source": [
    "gs.best_params_"
   ]
  },
  {
   "cell_type": "code",
   "execution_count": 72,
   "id": "f2857ed6",
   "metadata": {
    "ExecuteTime": {
     "end_time": "2021-11-18T07:47:53.320463Z",
     "start_time": "2021-11-18T07:47:53.312510Z"
    }
   },
   "outputs": [
    {
     "data": {
      "text/plain": [
       "0.9702385089243405"
      ]
     },
     "execution_count": 72,
     "metadata": {},
     "output_type": "execute_result"
    }
   ],
   "source": [
    "gs.best_score_"
   ]
  },
  {
   "cell_type": "code",
   "execution_count": 73,
   "id": "0c1c7035",
   "metadata": {
    "ExecuteTime": {
     "end_time": "2021-11-18T07:47:53.902644Z",
     "start_time": "2021-11-18T07:47:53.888504Z"
    }
   },
   "outputs": [
    {
     "data": {
      "text/plain": [
       "array([0.        , 0.        , 0.        , 0.        , 0.22732443,\n",
       "       0.        , 0.72221908, 0.05045649, 0.        , 0.        ,\n",
       "       0.        , 0.        ])"
      ]
     },
     "execution_count": 73,
     "metadata": {},
     "output_type": "execute_result"
    }
   ],
   "source": [
    "#\n",
    "gs.best_estimator_.feature_importances_"
   ]
  },
  {
   "cell_type": "code",
   "execution_count": 75,
   "id": "069de1a2",
   "metadata": {
    "ExecuteTime": {
     "end_time": "2021-11-18T07:49:58.782759Z",
     "start_time": "2021-11-18T07:49:58.769818Z"
    }
   },
   "outputs": [
    {
     "data": {
      "text/plain": [
       "total sulfur dioxide    0.686318\n",
       "chlorides               0.209503\n",
       "density                 0.050939\n",
       "volatile acidity        0.017080\n",
       "sulphates               0.013149\n",
       "pH                      0.011584\n",
       "residual sugar          0.004433\n",
       "citric acid             0.003065\n",
       "fixed acidity           0.002153\n",
       "alcohol                 0.000996\n",
       "free sulfur dioxide     0.000780\n",
       "quality                 0.000000\n",
       "dtype: float64"
      ]
     },
     "execution_count": 75,
     "metadata": {},
     "output_type": "execute_result"
    }
   ],
   "source": [
    "fi=tree.feature_importances_\n",
    "pd.Series(fi, index=X.columns).sort_values(ascending=False)"
   ]
  },
  {
   "cell_type": "markdown",
   "id": "b4739fcc",
   "metadata": {
    "ExecuteTime": {
     "end_time": "2021-11-18T07:51:08.604351Z",
     "start_time": "2021-11-18T07:51:08.595402Z"
    }
   },
   "source": [
    "# 수업(와인 데이터셋 color 분류)"
   ]
  },
  {
   "cell_type": "code",
   "execution_count": 77,
   "id": "6ecf7578",
   "metadata": {
    "ExecuteTime": {
     "end_time": "2021-11-18T07:52:36.707993Z",
     "start_time": "2021-11-18T07:52:36.689985Z"
    }
   },
   "outputs": [],
   "source": [
    "import numpy as np\n",
    "import pandas as pd\n",
    "\n",
    "from sklearn.model_selection import train_test_split\n",
    "from sklearn.ensemble import RandomForestClassifier\n",
    "from sklearn.metrics import accuracy_score, roc_auc_score"
   ]
  },
  {
   "cell_type": "code",
   "execution_count": 97,
   "id": "e7d4cb1e",
   "metadata": {
    "ExecuteTime": {
     "end_time": "2021-11-18T07:59:57.910746Z",
     "start_time": "2021-11-18T07:59:57.888361Z"
    }
   },
   "outputs": [],
   "source": [
    "data = pd.read_csv('./data/wine.csv')\n",
    "y= data['color']\n",
    "X= data.drop(columns='color')"
   ]
  },
  {
   "cell_type": "code",
   "execution_count": 104,
   "id": "2d50ab6d",
   "metadata": {
    "ExecuteTime": {
     "end_time": "2021-11-18T08:01:01.586530Z",
     "start_time": "2021-11-18T08:01:01.569575Z"
    }
   },
   "outputs": [
    {
     "name": "stdout",
     "output_type": "stream",
     "text": [
      "<class 'pandas.core.frame.DataFrame'>\n",
      "RangeIndex: 6497 entries, 0 to 6496\n",
      "Data columns (total 13 columns):\n",
      " #   Column                Non-Null Count  Dtype  \n",
      "---  ------                --------------  -----  \n",
      " 0   fixed acidity         6497 non-null   float64\n",
      " 1   volatile acidity      6497 non-null   float64\n",
      " 2   citric acid           6497 non-null   float64\n",
      " 3   residual sugar        6497 non-null   float64\n",
      " 4   chlorides             6497 non-null   float64\n",
      " 5   free sulfur dioxide   6497 non-null   float64\n",
      " 6   total sulfur dioxide  6497 non-null   float64\n",
      " 7   density               6497 non-null   float64\n",
      " 8   pH                    6497 non-null   float64\n",
      " 9   sulphates             6497 non-null   float64\n",
      " 10  alcohol               6497 non-null   float64\n",
      " 11  quality               6497 non-null   int32  \n",
      " 12  color                 6497 non-null   int64  \n",
      "dtypes: float64(11), int32(1), int64(1)\n",
      "memory usage: 634.6 KB\n"
     ]
    }
   ],
   "source": [
    "from sklearn.preprocessing import LabelEncoder\n",
    "le = LabelEncoder()\n",
    "X['quality']=le.fit_transform(X['quality'])\n",
    "data.info()"
   ]
  },
  {
   "cell_type": "code",
   "execution_count": 105,
   "id": "3c89975b",
   "metadata": {
    "ExecuteTime": {
     "end_time": "2021-11-18T08:01:02.353309Z",
     "start_time": "2021-11-18T08:01:02.336453Z"
    }
   },
   "outputs": [],
   "source": [
    "X_train, X_test, y_train, y_test = train_test_split(X, y, stratify=y, random_state=0)"
   ]
  },
  {
   "cell_type": "code",
   "execution_count": 106,
   "id": "1472fe98",
   "metadata": {
    "ExecuteTime": {
     "end_time": "2021-11-18T08:01:02.820165Z",
     "start_time": "2021-11-18T08:01:02.801049Z"
    }
   },
   "outputs": [
    {
     "name": "stdout",
     "output_type": "stream",
     "text": [
      "<class 'pandas.core.frame.DataFrame'>\n",
      "RangeIndex: 6497 entries, 0 to 6496\n",
      "Data columns (total 13 columns):\n",
      " #   Column                Non-Null Count  Dtype  \n",
      "---  ------                --------------  -----  \n",
      " 0   fixed acidity         6497 non-null   float64\n",
      " 1   volatile acidity      6497 non-null   float64\n",
      " 2   citric acid           6497 non-null   float64\n",
      " 3   residual sugar        6497 non-null   float64\n",
      " 4   chlorides             6497 non-null   float64\n",
      " 5   free sulfur dioxide   6497 non-null   float64\n",
      " 6   total sulfur dioxide  6497 non-null   float64\n",
      " 7   density               6497 non-null   float64\n",
      " 8   pH                    6497 non-null   float64\n",
      " 9   sulphates             6497 non-null   float64\n",
      " 10  alcohol               6497 non-null   float64\n",
      " 11  quality               6497 non-null   int32  \n",
      " 12  color                 6497 non-null   int64  \n",
      "dtypes: float64(11), int32(1), int64(1)\n",
      "memory usage: 634.6 KB\n"
     ]
    }
   ],
   "source": [
    "data.info()"
   ]
  },
  {
   "cell_type": "code",
   "execution_count": 107,
   "id": "8071fc22",
   "metadata": {
    "ExecuteTime": {
     "end_time": "2021-11-18T08:01:04.033507Z",
     "start_time": "2021-11-18T08:01:03.392987Z"
    }
   },
   "outputs": [
    {
     "data": {
      "text/plain": [
       "RandomForestClassifier(max_depth=5, max_features=10, n_estimators=500,\n",
       "                       n_jobs=-1, random_state=0)"
      ]
     },
     "execution_count": 107,
     "metadata": {},
     "output_type": "execute_result"
    }
   ],
   "source": [
    "rf = RandomForestClassifier(n_estimators=500,\n",
    "                           max_depth=5,\n",
    "                           random_state=0,\n",
    "                           max_features=10, ####\n",
    "                           n_jobs=-1 \n",
    "                           )\n",
    "rf.fit(X_train, y_train)"
   ]
  },
  {
   "cell_type": "code",
   "execution_count": 115,
   "id": "ffa64400",
   "metadata": {
    "ExecuteTime": {
     "end_time": "2021-11-18T08:07:28.951383Z",
     "start_time": "2021-11-18T08:07:28.641275Z"
    }
   },
   "outputs": [],
   "source": [
    "pred_train = rf.predict(X_train)\n",
    "pred_test = rf.predict(X_test)\n",
    "\n",
    "proba_train = rf.predict_proba(X_train)[:,1]\n",
    "proba_test = rf.predict_proba(X_test)[:,1]"
   ]
  },
  {
   "cell_type": "code",
   "execution_count": 121,
   "id": "0409bc7e",
   "metadata": {
    "ExecuteTime": {
     "end_time": "2021-11-18T08:09:25.181328Z",
     "start_time": "2021-11-18T08:09:25.169332Z"
    }
   },
   "outputs": [
    {
     "name": "stdout",
     "output_type": "stream",
     "text": [
      "0.9952791461412152 / 0.9883076923076923\n",
      "0.9993187897982869 / 0.9967500000000001\n"
     ]
    }
   ],
   "source": [
    "print(accuracy_score(y_train, pred_train),'/', accuracy_score(y_test, pred_test))\n",
    "print(roc_auc_score(y_train, proba_train), '/', roc_auc_score(y_test, proba_test) )"
   ]
  },
  {
   "cell_type": "code",
   "execution_count": 132,
   "id": "b09096b3",
   "metadata": {
    "ExecuteTime": {
     "end_time": "2021-11-18T08:11:25.029203Z",
     "start_time": "2021-11-18T08:11:24.976119Z"
    }
   },
   "outputs": [
    {
     "data": {
      "text/plain": [
       "total sulfur dioxide    0.504782\n",
       "chlorides               0.370821\n",
       "volatile acidity        0.043422\n",
       "density                 0.029867\n",
       "sulphates               0.014663\n",
       "fixed acidity           0.011035\n",
       "residual sugar          0.010183\n",
       "pH                      0.009304\n",
       "citric acid             0.002435\n",
       "alcohol                 0.002117\n",
       "free sulfur dioxide     0.001196\n",
       "quality                 0.000173\n",
       "dtype: float64"
      ]
     },
     "execution_count": 132,
     "metadata": {},
     "output_type": "execute_result"
    }
   ],
   "source": [
    "fi = pd.Series(rf.feature_importances_, index=X_train.columns)\n",
    "fi.sort_values(ascending=False)"
   ]
  },
  {
   "cell_type": "code",
   "execution_count": 133,
   "id": "cd72d4cb",
   "metadata": {
    "ExecuteTime": {
     "end_time": "2021-11-18T08:11:51.812660Z",
     "start_time": "2021-11-18T08:11:51.680510Z"
    }
   },
   "outputs": [
    {
     "data": {
      "text/plain": [
       "<AxesSubplot:>"
      ]
     },
     "execution_count": 133,
     "metadata": {},
     "output_type": "execute_result"
    },
    {
     "data": {
      "image/png": "[encoded data removed]",
      "text/plain": [
       "<Figure size 504x360 with 1 Axes>"
      ]
     },
     "metadata": {
      "needs_background": "light"
     },
     "output_type": "display_data"
    }
   ],
   "source": [
    "fi.sort_values().plot(kind='barh', figsize=(7,5))"
   ]
  },
  {
   "cell_type": "markdown",
   "id": "c430c44b",
   "metadata": {},
   "source": [
    "# TODO 위스콘신 유방암 데이터셋\n",
    "- Random Forest를 이용해 target을 분류\n",
    "- Feature importance 확인\n",
    "\n",
    "- GridSearch를 이용해 n_estimators, max_depth, max_features의 최적의 파라미터 탐색\n",
    "- max_depth는 5 이하, max_features는 1개 부터 11개 까지 적당히  "
   ]
  },
  {
   "cell_type": "code",
   "execution_count": 153,
   "id": "150259a8",
   "metadata": {
    "ExecuteTime": {
     "end_time": "2021-11-18T08:17:31.172205Z",
     "start_time": "2021-11-18T08:17:31.153075Z"
    }
   },
   "outputs": [
    {
     "data": {
      "text/plain": [
       "dict_keys(['data', 'target', 'frame', 'target_names', 'DESCR', 'feature_names', 'filename'])"
      ]
     },
     "execution_count": 153,
     "metadata": {},
     "output_type": "execute_result"
    }
   ],
   "source": [
    "from sklearn.datasets import load_breast_cancer\n",
    "X, y = load_breast_cancer(return_X_y=True)\n",
    "#load_breast_cancer().feature_names"
   ]
  },
  {
   "cell_type": "code",
   "execution_count": 157,
   "id": "21047040",
   "metadata": {
    "ExecuteTime": {
     "end_time": "2021-11-18T08:22:14.708048Z",
     "start_time": "2021-11-18T08:22:14.687940Z"
    }
   },
   "outputs": [
    {
     "data": {
      "text/plain": [
       "GridSearchCV(cv=5, estimator=RandomForestClassifier(random_state=0), n_jobs=-1,\n",
       "             param_grid={'max_features': range(1, 12),\n",
       "                         'n_estimators': [1, 2, 3, 4, 5]},\n",
       "             scoring='accuracy')"
      ]
     },
     "execution_count": 157,
     "metadata": {},
     "output_type": "execute_result"
    }
   ],
   "source": [
    "from sklearn.model_selection import train_test_split\n",
    "X_train, X_test, y_train, y_test = train_test_split(X, y, stratify=y, random_state=0)\n",
    "\n",
    "from sklearn.ensemble import RandomForestClassifier\n",
    "rf = RandomForestClassifier(random_state=0)\n",
    "\n",
    "#틀림 조건을 제대로 못 받아 적음\n",
    "param = {\n",
    "    'n_estimators': [1,2,3,4,5],\n",
    "    'max_features': range(1,12)\n",
    "}\n",
    "\n",
    "gs = GridSearchCV(rf, param, scoring='accuracy', cv=5, n_jobs=-1)\n",
    "gs\n"
   ]
  },
  {
   "cell_type": "code",
   "execution_count": 158,
   "id": "d9365676",
   "metadata": {
    "ExecuteTime": {
     "end_time": "2021-11-18T08:22:25.269127Z",
     "start_time": "2021-11-18T08:22:23.887443Z"
    }
   },
   "outputs": [
    {
     "data": {
      "text/plain": [
       "GridSearchCV(cv=5, estimator=RandomForestClassifier(random_state=0), n_jobs=-1,\n",
       "             param_grid={'max_features': range(1, 12),\n",
       "                         'n_estimators': [1, 2, 3, 4, 5]},\n",
       "             scoring='accuracy')"
      ]
     },
     "execution_count": 158,
     "metadata": {},
     "output_type": "execute_result"
    }
   ],
   "source": [
    "gs.fit(X_train, y_train)"
   ]
  },
  {
   "cell_type": "code",
   "execution_count": 159,
   "id": "93a00e5a",
   "metadata": {
    "ExecuteTime": {
     "end_time": "2021-11-18T08:25:07.656898Z",
     "start_time": "2021-11-18T08:25:07.648949Z"
    }
   },
   "outputs": [
    {
     "data": {
      "text/plain": [
       "{'max_features': 1, 'n_estimators': 5}"
      ]
     },
     "execution_count": 159,
     "metadata": {},
     "output_type": "execute_result"
    }
   ],
   "source": [
    "gs.best_params_"
   ]
  },
  {
   "cell_type": "code",
   "execution_count": 160,
   "id": "9a780947",
   "metadata": {
    "ExecuteTime": {
     "end_time": "2021-11-18T08:25:25.914713Z",
     "start_time": "2021-11-18T08:25:25.887783Z"
    }
   },
   "outputs": [
    {
     "data": {
      "text/plain": [
       "{'mean_fit_time': array([0.        , 0.00624914, 0.00937243, 0.00624676, 0.00312414,\n",
       "        0.00624828, 0.00312414, 0.        , 0.00312419, 0.00937257,\n",
       "        0.        , 0.00312438, 0.00624876, 0.00624876, 0.        ,\n",
       "        0.        , 0.00312419, 0.00624838, 0.00624838, 0.00312419,\n",
       "        0.        , 0.00624838, 0.        , 0.0101593 , 0.00703487,\n",
       "        0.00312452, 0.00624905, 0.00392203, 0.00994792, 0.00559044,\n",
       "        0.00079751, 0.00299196, 0.00398893, 0.00359597, 0.00672069,\n",
       "        0.00159578, 0.00220003, 0.00259862, 0.00379548, 0.00624905,\n",
       "        0.00199461, 0.00200014, 0.00352917, 0.00312457, 0.00312409,\n",
       "        0.        , 0.00624905, 0.00624857, 0.00312457, 0.00937262,\n",
       "        0.        , 0.00312448, 0.        , 0.00312409, 0.00624824]),\n",
       " 'std_fit_time': array([0.00000000e+00, 7.65360424e-03, 7.65255350e-03, 7.65068422e-03,\n",
       "        6.24828339e-03, 7.65255303e-03, 6.24828339e-03, 0.00000000e+00,\n",
       "        6.24837875e-03, 7.65266983e-03, 0.00000000e+00, 6.24876022e-03,\n",
       "        7.65313704e-03, 7.65313704e-03, 0.00000000e+00, 0.00000000e+00,\n",
       "        6.24837875e-03, 7.65266983e-03, 7.65266983e-03, 6.24837875e-03,\n",
       "        0.00000000e+00, 7.65266983e-03, 0.00000000e+00, 8.41816640e-03,\n",
       "        6.58048110e-03, 6.24904633e-03, 7.65348744e-03, 6.05070177e-03,\n",
       "        6.42469777e-03, 1.34196683e-03, 9.76746489e-04, 3.50402318e-07,\n",
       "        7.13664510e-07, 2.23494633e-03, 5.28697033e-03, 7.97891624e-04,\n",
       "        1.16710149e-03, 1.73372598e-03, 3.47820403e-03, 7.65348744e-03,\n",
       "        6.30826438e-04, 1.25702103e-03, 6.09739164e-03, 6.24914169e-03,\n",
       "        6.24818802e-03, 0.00000000e+00, 7.65348744e-03, 7.65290346e-03,\n",
       "        6.24914169e-03, 7.65270880e-03, 0.00000000e+00, 6.24895096e-03,\n",
       "        0.00000000e+00, 6.24818802e-03, 7.65249463e-03]),\n",
       " 'mean_score_time': array([0.        , 0.        , 0.        , 0.        , 0.        ,\n",
       "        0.00312414, 0.        , 0.        , 0.00312419, 0.        ,\n",
       "        0.        , 0.00312438, 0.        , 0.        , 0.00624838,\n",
       "        0.        , 0.        , 0.        , 0.        , 0.        ,\n",
       "        0.        , 0.        , 0.        , 0.        , 0.00039892,\n",
       "        0.        , 0.        , 0.00482931, 0.00039878, 0.00079803,\n",
       "        0.00019951, 0.00039892, 0.00099735, 0.00039892, 0.00039887,\n",
       "        0.00039892, 0.00039873, 0.00059843, 0.00332408, 0.        ,\n",
       "        0.00039902, 0.00039887, 0.        , 0.00312448, 0.00624862,\n",
       "        0.        , 0.        , 0.        , 0.        , 0.        ,\n",
       "        0.00312409, 0.        , 0.00624814, 0.00312405, 0.        ]),\n",
       " 'std_score_time': array([0.00000000e+00, 0.00000000e+00, 0.00000000e+00, 0.00000000e+00,\n",
       "        0.00000000e+00, 6.24828339e-03, 0.00000000e+00, 0.00000000e+00,\n",
       "        6.24837875e-03, 0.00000000e+00, 0.00000000e+00, 6.24876022e-03,\n",
       "        0.00000000e+00, 0.00000000e+00, 7.65266983e-03, 0.00000000e+00,\n",
       "        0.00000000e+00, 0.00000000e+00, 0.00000000e+00, 0.00000000e+00,\n",
       "        0.00000000e+00, 0.00000000e+00, 0.00000000e+00, 0.00000000e+00,\n",
       "        4.88577656e-04, 0.00000000e+00, 0.00000000e+00, 5.51946129e-03,\n",
       "        4.88402577e-04, 3.99017448e-04, 3.99017334e-04, 4.88577633e-04,\n",
       "        2.78041453e-07, 4.88577633e-04, 4.88519238e-04, 4.88577656e-04,\n",
       "        4.88344054e-04, 4.88616597e-04, 6.16151189e-03, 0.00000000e+00,\n",
       "        4.88694526e-04, 4.88519238e-04, 0.00000000e+00, 6.24895096e-03,\n",
       "        7.65296188e-03, 0.00000000e+00, 0.00000000e+00, 0.00000000e+00,\n",
       "        0.00000000e+00, 0.00000000e+00, 6.24818802e-03, 0.00000000e+00,\n",
       "        7.65237783e-03, 6.24809265e-03, 0.00000000e+00]),\n",
       " 'param_max_features': masked_array(data=[1, 1, 1, 1, 1, 2, 2, 2, 2, 2, 3, 3, 3, 3, 3, 4, 4, 4,\n",
       "                    4, 4, 5, 5, 5, 5, 5, 6, 6, 6, 6, 6, 7, 7, 7, 7, 7, 8,\n",
       "                    8, 8, 8, 8, 9, 9, 9, 9, 9, 10, 10, 10, 10, 10, 11, 11,\n",
       "                    11, 11, 11],\n",
       "              mask=[False, False, False, False, False, False, False, False,\n",
       "                    False, False, False, False, False, False, False, False,\n",
       "                    False, False, False, False, False, False, False, False,\n",
       "                    False, False, False, False, False, False, False, False,\n",
       "                    False, False, False, False, False, False, False, False,\n",
       "                    False, False, False, False, False, False, False, False,\n",
       "                    False, False, False, False, False, False, False],\n",
       "        fill_value='?',\n",
       "             dtype=object),\n",
       " 'param_n_estimators': masked_array(data=[1, 2, 3, 4, 5, 1, 2, 3, 4, 5, 1, 2, 3, 4, 5, 1, 2, 3,\n",
       "                    4, 5, 1, 2, 3, 4, 5, 1, 2, 3, 4, 5, 1, 2, 3, 4, 5, 1,\n",
       "                    2, 3, 4, 5, 1, 2, 3, 4, 5, 1, 2, 3, 4, 5, 1, 2, 3, 4,\n",
       "                    5],\n",
       "              mask=[False, False, False, False, False, False, False, False,\n",
       "                    False, False, False, False, False, False, False, False,\n",
       "                    False, False, False, False, False, False, False, False,\n",
       "                    False, False, False, False, False, False, False, False,\n",
       "                    False, False, False, False, False, False, False, False,\n",
       "                    False, False, False, False, False, False, False, False,\n",
       "                    False, False, False, False, False, False, False],\n",
       "        fill_value='?',\n",
       "             dtype=object),\n",
       " 'params': [{'max_features': 1, 'n_estimators': 1},\n",
       "  {'max_features': 1, 'n_estimators': 2},\n",
       "  {'max_features': 1, 'n_estimators': 3},\n",
       "  {'max_features': 1, 'n_estimators': 4},\n",
       "  {'max_features': 1, 'n_estimators': 5},\n",
       "  {'max_features': 2, 'n_estimators': 1},\n",
       "  {'max_features': 2, 'n_estimators': 2},\n",
       "  {'max_features': 2, 'n_estimators': 3},\n",
       "  {'max_features': 2, 'n_estimators': 4},\n",
       "  {'max_features': 2, 'n_estimators': 5},\n",
       "  {'max_features': 3, 'n_estimators': 1},\n",
       "  {'max_features': 3, 'n_estimators': 2},\n",
       "  {'max_features': 3, 'n_estimators': 3},\n",
       "  {'max_features': 3, 'n_estimators': 4},\n",
       "  {'max_features': 3, 'n_estimators': 5},\n",
       "  {'max_features': 4, 'n_estimators': 1},\n",
       "  {'max_features': 4, 'n_estimators': 2},\n",
       "  {'max_features': 4, 'n_estimators': 3},\n",
       "  {'max_features': 4, 'n_estimators': 4},\n",
       "  {'max_features': 4, 'n_estimators': 5},\n",
       "  {'max_features': 5, 'n_estimators': 1},\n",
       "  {'max_features': 5, 'n_estimators': 2},\n",
       "  {'max_features': 5, 'n_estimators': 3},\n",
       "  {'max_features': 5, 'n_estimators': 4},\n",
       "  {'max_features': 5, 'n_estimators': 5},\n",
       "  {'max_features': 6, 'n_estimators': 1},\n",
       "  {'max_features': 6, 'n_estimators': 2},\n",
       "  {'max_features': 6, 'n_estimators': 3},\n",
       "  {'max_features': 6, 'n_estimators': 4},\n",
       "  {'max_features': 6, 'n_estimators': 5},\n",
       "  {'max_features': 7, 'n_estimators': 1},\n",
       "  {'max_features': 7, 'n_estimators': 2},\n",
       "  {'max_features': 7, 'n_estimators': 3},\n",
       "  {'max_features': 7, 'n_estimators': 4},\n",
       "  {'max_features': 7, 'n_estimators': 5},\n",
       "  {'max_features': 8, 'n_estimators': 1},\n",
       "  {'max_features': 8, 'n_estimators': 2},\n",
       "  {'max_features': 8, 'n_estimators': 3},\n",
       "  {'max_features': 8, 'n_estimators': 4},\n",
       "  {'max_features': 8, 'n_estimators': 5},\n",
       "  {'max_features': 9, 'n_estimators': 1},\n",
       "  {'max_features': 9, 'n_estimators': 2},\n",
       "  {'max_features': 9, 'n_estimators': 3},\n",
       "  {'max_features': 9, 'n_estimators': 4},\n",
       "  {'max_features': 9, 'n_estimators': 5},\n",
       "  {'max_features': 10, 'n_estimators': 1},\n",
       "  {'max_features': 10, 'n_estimators': 2},\n",
       "  {'max_features': 10, 'n_estimators': 3},\n",
       "  {'max_features': 10, 'n_estimators': 4},\n",
       "  {'max_features': 10, 'n_estimators': 5},\n",
       "  {'max_features': 11, 'n_estimators': 1},\n",
       "  {'max_features': 11, 'n_estimators': 2},\n",
       "  {'max_features': 11, 'n_estimators': 3},\n",
       "  {'max_features': 11, 'n_estimators': 4},\n",
       "  {'max_features': 11, 'n_estimators': 5}],\n",
       " 'split0_test_score': array([0.90697674, 0.89534884, 0.87209302, 0.94186047, 0.93023256,\n",
       "        0.87209302, 0.87209302, 0.84883721, 0.90697674, 0.88372093,\n",
       "        0.90697674, 0.91860465, 0.89534884, 0.88372093, 0.88372093,\n",
       "        0.88372093, 0.89534884, 0.90697674, 0.94186047, 0.94186047,\n",
       "        0.88372093, 0.90697674, 0.90697674, 0.90697674, 0.91860465,\n",
       "        0.89534884, 0.89534884, 0.91860465, 0.93023256, 0.93023256,\n",
       "        0.89534884, 0.89534884, 0.94186047, 0.94186047, 0.94186047,\n",
       "        0.90697674, 0.94186047, 0.95348837, 0.96511628, 0.96511628,\n",
       "        0.90697674, 0.89534884, 0.94186047, 0.94186047, 0.96511628,\n",
       "        0.88372093, 0.90697674, 0.90697674, 0.91860465, 0.93023256,\n",
       "        0.91860465, 0.94186047, 0.94186047, 0.96511628, 0.96511628]),\n",
       " 'split1_test_score': array([0.95294118, 0.94117647, 0.97647059, 0.95294118, 0.97647059,\n",
       "        0.95294118, 0.90588235, 0.94117647, 0.92941176, 0.97647059,\n",
       "        0.91764706, 0.92941176, 0.95294118, 0.94117647, 0.95294118,\n",
       "        0.88235294, 0.89411765, 0.92941176, 0.95294118, 0.94117647,\n",
       "        0.92941176, 0.94117647, 0.97647059, 0.96470588, 0.97647059,\n",
       "        0.97647059, 0.97647059, 0.97647059, 0.92941176, 0.95294118,\n",
       "        0.90588235, 0.89411765, 0.91764706, 0.90588235, 0.90588235,\n",
       "        0.95294118, 0.95294118, 0.95294118, 0.95294118, 0.98823529,\n",
       "        0.94117647, 0.96470588, 0.96470588, 0.92941176, 0.95294118,\n",
       "        0.95294118, 0.95294118, 0.95294118, 0.96470588, 0.96470588,\n",
       "        0.97647059, 0.95294118, 0.97647059, 0.95294118, 0.94117647]),\n",
       " 'split2_test_score': array([0.94117647, 0.94117647, 0.90588235, 0.95294118, 0.95294118,\n",
       "        0.91764706, 0.89411765, 0.89411765, 0.91764706, 0.92941176,\n",
       "        0.92941176, 0.91764706, 0.94117647, 0.96470588, 0.95294118,\n",
       "        0.88235294, 0.91764706, 0.95294118, 0.96470588, 0.95294118,\n",
       "        0.91764706, 0.90588235, 0.92941176, 0.92941176, 0.91764706,\n",
       "        0.90588235, 0.88235294, 0.87058824, 0.91764706, 0.91764706,\n",
       "        0.94117647, 0.91764706, 0.89411765, 0.91764706, 0.92941176,\n",
       "        0.91764706, 0.90588235, 0.91764706, 0.91764706, 0.91764706,\n",
       "        0.90588235, 0.88235294, 0.94117647, 0.95294118, 0.95294118,\n",
       "        0.95294118, 0.91764706, 0.92941176, 0.95294118, 0.95294118,\n",
       "        0.89411765, 0.90588235, 0.92941176, 0.91764706, 0.92941176]),\n",
       " 'split3_test_score': array([0.96470588, 0.94117647, 0.97647059, 0.97647059, 0.97647059,\n",
       "        0.96470588, 0.95294118, 0.97647059, 0.97647059, 0.97647059,\n",
       "        0.96470588, 0.96470588, 0.96470588, 0.95294118, 0.95294118,\n",
       "        0.94117647, 0.94117647, 0.96470588, 0.95294118, 0.95294118,\n",
       "        0.91764706, 0.95294118, 0.97647059, 0.94117647, 0.95294118,\n",
       "        0.94117647, 0.91764706, 0.96470588, 0.96470588, 0.96470588,\n",
       "        0.90588235, 0.90588235, 0.91764706, 0.92941176, 0.92941176,\n",
       "        0.90588235, 0.87058824, 0.94117647, 0.92941176, 0.94117647,\n",
       "        0.96470588, 0.94117647, 0.94117647, 0.96470588, 0.96470588,\n",
       "        0.95294118, 0.94117647, 0.94117647, 0.94117647, 0.94117647,\n",
       "        0.92941176, 0.91764706, 0.90588235, 0.91764706, 0.92941176]),\n",
       " 'split4_test_score': array([0.91764706, 0.91764706, 0.95294118, 0.94117647, 0.97647059,\n",
       "        0.90588235, 0.89411765, 0.98823529, 0.97647059, 0.98823529,\n",
       "        0.95294118, 0.91764706, 0.95294118, 0.94117647, 0.94117647,\n",
       "        0.94117647, 0.95294118, 0.95294118, 0.96470588, 0.96470588,\n",
       "        0.97647059, 0.97647059, 0.97647059, 0.98823529, 0.97647059,\n",
       "        0.96470588, 0.94117647, 0.97647059, 0.95294118, 0.97647059,\n",
       "        0.92941176, 0.92941176, 0.94117647, 0.96470588, 0.96470588,\n",
       "        0.98823529, 0.96470588, 1.        , 0.97647059, 1.        ,\n",
       "        0.92941176, 0.94117647, 0.98823529, 0.96470588, 0.97647059,\n",
       "        0.95294118, 0.96470588, 0.98823529, 0.98823529, 0.98823529,\n",
       "        0.95294118, 0.96470588, 0.97647059, 0.97647059, 0.96470588]),\n",
       " 'mean_test_score': array([0.93668947, 0.92730506, 0.93677155, 0.95307798, 0.9625171 ,\n",
       "        0.9226539 , 0.90383037, 0.92976744, 0.94139535, 0.95086183,\n",
       "        0.93433653, 0.92960328, 0.94142271, 0.93674419, 0.93674419,\n",
       "        0.90615595, 0.92024624, 0.94139535, 0.95543092, 0.95072503,\n",
       "        0.92497948, 0.93668947, 0.95316005, 0.94610123, 0.94842681,\n",
       "        0.93671683, 0.92259918, 0.94136799, 0.93898769, 0.94839945,\n",
       "        0.91554036, 0.90848153, 0.92248974, 0.9319015 , 0.93425445,\n",
       "        0.93433653, 0.92719562, 0.95305062, 0.94831737, 0.96243502,\n",
       "        0.92963064, 0.92495212, 0.95543092, 0.95072503, 0.96243502,\n",
       "        0.93909713, 0.93668947, 0.94374829, 0.95313269, 0.95545828,\n",
       "        0.93430917, 0.93660739, 0.94601915, 0.94596443, 0.94596443]),\n",
       " 'std_test_score': array([0.02151572, 0.01839416, 0.04135442, 0.01276503, 0.01853693,\n",
       "        0.03331199, 0.02687756, 0.05205852, 0.02950516, 0.03918265,\n",
       "        0.02153964, 0.01810581, 0.02420875, 0.02791041, 0.02690033,\n",
       "        0.0285985 , 0.02373341, 0.02067965, 0.00858609, 0.00866074,\n",
       "        0.02993585, 0.02719821, 0.02941776, 0.02812447, 0.02619176,\n",
       "        0.031767  , 0.03356817, 0.04132066, 0.01720406, 0.02168069,\n",
       "        0.0169934 , 0.01347313, 0.01775555, 0.02030612, 0.01916779,\n",
       "        0.03189967, 0.03447771, 0.02682855, 0.02188276, 0.03013921,\n",
       "        0.02209437, 0.03097698, 0.01872265, 0.01362847, 0.00882734,\n",
       "        0.0276881 , 0.02151572, 0.02693659, 0.02324351, 0.02003244,\n",
       "        0.02832212, 0.02185147, 0.02741767, 0.02428926, 0.01605579]),\n",
       " 'rank_test_score': array([32, 44, 28,  9,  1, 48, 55, 41, 24, 11, 36, 43, 22, 29, 29, 54, 51,\n",
       "        23,  5, 12, 46, 33,  7, 17, 14, 31, 49, 25, 27, 15, 52, 53, 50, 40,\n",
       "        39, 36, 45, 10, 16,  3, 42, 47,  5, 12,  2, 26, 33, 21,  8,  4, 38,\n",
       "        35, 18, 20, 19])}"
      ]
     },
     "execution_count": 160,
     "metadata": {},
     "output_type": "execute_result"
    }
   ],
   "source": [
    "gs.cv_results_"
   ]
  },
  {
   "cell_type": "code",
   "execution_count": 161,
   "id": "2f7eec86",
   "metadata": {
    "ExecuteTime": {
     "end_time": "2021-11-18T08:26:57.813943Z",
     "start_time": "2021-11-18T08:26:57.807962Z"
    }
   },
   "outputs": [
    {
     "data": {
      "text/plain": [
       "RandomForestClassifier(max_features=1, n_estimators=5, random_state=0)"
      ]
     },
     "execution_count": 161,
     "metadata": {},
     "output_type": "execute_result"
    }
   ],
   "source": [
    "gs.best_estimator_"
   ]
  },
  {
   "cell_type": "code",
   "execution_count": 163,
   "id": "7768934a",
   "metadata": {
    "ExecuteTime": {
     "end_time": "2021-11-18T08:33:21.463604Z",
     "start_time": "2021-11-18T08:33:21.456622Z"
    },
    "scrolled": true
   },
   "outputs": [
    {
     "data": {
      "text/plain": [
       "array([0.17636277, 0.01039849, 0.00319085, 0.0045743 , 0.01724488,\n",
       "       0.04033987, 0.00555614, 0.01471278, 0.000989  , 0.01444989,\n",
       "       0.10216601, 0.01050706, 0.01204312, 0.00734159, 0.00362485,\n",
       "       0.005956  , 0.00663899, 0.        , 0.02185012, 0.02039119,\n",
       "       0.00583704, 0.07641162, 0.08893218, 0.        , 0.        ,\n",
       "       0.01990804, 0.11894194, 0.1892688 , 0.01468922, 0.00767325])"
      ]
     },
     "execution_count": 163,
     "metadata": {},
     "output_type": "execute_result"
    }
   ],
   "source": [
    "gs.best_estimator_.feature_importances_"
   ]
  },
  {
   "cell_type": "code",
   "execution_count": 165,
   "id": "8b061af3",
   "metadata": {
    "ExecuteTime": {
     "end_time": "2021-11-18T08:37:57.122096Z",
     "start_time": "2021-11-18T08:37:57.104085Z"
    }
   },
   "outputs": [
    {
     "data": {
      "text/plain": [
       "0.9230769230769231"
      ]
     },
     "execution_count": 165,
     "metadata": {},
     "output_type": "execute_result"
    }
   ],
   "source": [
    "from sklearn.metrics import accuracy_score\n",
    "pred_test=gs.best_estimator_.predict(X_test)\n",
    "accuracy_score(y_test, pred_test)"
   ]
  }
 ],
 "metadata": {
  "kernelspec": {
   "display_name": "Python 3",
   "language": "python",
   "name": "python3"
  },
  "language_info": {
   "codemirror_mode": {
    "name": "ipython",
    "version": 3
   },
   "file_extension": ".py",
   "mimetype": "text/x-python",
   "name": "python",
   "nbconvert_exporter": "python",
   "pygments_lexer": "ipython3",
   "version": "3.8.8"
  },
  "toc": {
   "base_numbering": 1,
   "nav_menu": {},
   "number_sections": true,
   "sideBar": true,
   "skip_h1_title": false,
   "title_cell": "Table of Contents",
   "title_sidebar": "Contents",
   "toc_cell": false,
   "toc_position": {},
   "toc_section_display": true,
   "toc_window_display": false
  },
  "varInspector": {
   "cols": {
    "lenName": 16,
    "lenType": 16,
    "lenVar": 40
   },
   "kernels_config": {
    "python": {
     "delete_cmd_postfix": "",
     "delete_cmd_prefix": "del ",
     "library": "var_list.py",
     "varRefreshCmd": "print(var_dic_list())"
    },
    "r": {
     "delete_cmd_postfix": ") ",
     "delete_cmd_prefix": "rm(",
     "library": "var_list.r",
     "varRefreshCmd": "cat(var_dic_list()) "
    }
   },
   "types_to_exclude": [
    "module",
    "function",
    "builtin_function_or_method",
    "instance",
    "_Feature"
   ],
   "window_display": false
  }
 },
 "nbformat": 4,
 "nbformat_minor": 5
}
