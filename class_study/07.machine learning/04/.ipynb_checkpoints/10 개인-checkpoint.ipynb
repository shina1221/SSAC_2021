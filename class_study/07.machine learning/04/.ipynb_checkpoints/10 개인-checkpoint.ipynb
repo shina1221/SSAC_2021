{
 "cells": [
  {
   "cell_type": "code",
   "execution_count": 5,
   "id": "03f03eee",
   "metadata": {},
   "outputs": [],
   "source": [
    "from sklearn.datasets import load_breast_cancer\n",
    "from sklearn.preprocessing import StandardScaler\n",
    "\n",
    "from sklearn.model_selection import train_test_split\n",
    "\n",
    "from sklearn.svm import SVC\n",
    "##\n",
    "from sklearn.neighbors import KNeighborsClassifier\n",
    "from sklearn.ensemble import RandomForestClassifier, VotingClassifier\n",
    "\n",
    "from sklearn.metrics import accuracy_score"
   ]
  },
  {
   "cell_type": "code",
   "execution_count": 9,
   "id": "16589401",
   "metadata": {},
   "outputs": [],
   "source": [
    "X, y= load_breast_cancer(return_X_y=True)\n",
    "X_train, X_test, y_train, y_test = train_test_split(X, y, stratify = y, random_state=0)"
   ]
  },
  {
   "cell_type": "code",
   "execution_count": 10,
   "id": "262304c1",
   "metadata": {},
   "outputs": [],
   "source": [
    "scaler = StandardScaler()\n",
    "X_train_scaled = scaler.fit_transform(X_train)\n",
    "X_test_scaled = scaler.transform(X_test)"
   ]
  },
  {
   "cell_type": "code",
   "execution_count": 18,
   "id": "40b18aaf",
   "metadata": {},
   "outputs": [],
   "source": [
    "####\n",
    "svc = SVC(random_state = 0)\n",
    "knn = KNeighborsClassifier(n_neighbors=5)\n",
    "rf = RandomForestClassifier(n_estimators=200, max_depth=5, random_state=0)\n",
    "\n",
    "svc.fit(X_train_scaled, y_train)\n",
    "knn.fit(X_train_scaled, y_train)\n",
    "rf.fit(X_train, y_train)\n",
    "\n",
    "#평가\n",
    "pred_train_svc = svc.predict(X_train_scaled)\n",
    "pred_train_knn = knn.predict(X_train_scaled)\n",
    "pred_train_rf = rf.predict(X_train)\n",
    "\n",
    "pred_test_svc = svc.predict(X_test_scaled)\n",
    "pred_test_knn = knn.predict(X_test_scaled)\n",
    "pred_test_rf = rf.predict(X_test)"
   ]
  },
  {
   "cell_type": "code",
   "execution_count": 19,
   "id": "5eb61b36",
   "metadata": {},
   "outputs": [
    {
     "name": "stdout",
     "output_type": "stream",
     "text": [
      "0.9929577464788732\n",
      "0.9788732394366197\n",
      "0.9976525821596244\n"
     ]
    }
   ],
   "source": [
    "print(accuracy_score(y_train, pred_train_svc))\n",
    "print(accuracy_score(y_train, pred_train_knn))\n",
    "print(accuracy_score(y_train, pred_train_rf))"
   ]
  },
  {
   "cell_type": "code",
   "execution_count": 22,
   "id": "becefb74",
   "metadata": {},
   "outputs": [
    {
     "name": "stdout",
     "output_type": "stream",
     "text": [
      "0.958041958041958\n",
      "0.951048951048951\n",
      "0.9440559440559441\n"
     ]
    }
   ],
   "source": [
    "print(accuracy_score(y_test, pred_test_svc))\n",
    "print(accuracy_score(y_test, pred_test_knn))\n",
    "print(accuracy_score(y_test, pred_test_rf))"
   ]
  },
  {
   "cell_type": "code",
   "execution_count": 23,
   "id": "6553ae2e",
   "metadata": {},
   "outputs": [],
   "source": [
    "#hard voting\n",
    "#앙상블\n",
    "estimators = [\n",
    "    ('svc', svc),\n",
    "    ('knn', knn),\n",
    "    ('rf', rf)\n",
    "]"
   ]
  },
  {
   "cell_type": "code",
   "execution_count": 24,
   "id": "6589f199",
   "metadata": {},
   "outputs": [],
   "source": [
    "###\n",
    "voting = VotingClassifier(estimators)"
   ]
  },
  {
   "cell_type": "code",
   "execution_count": 25,
   "id": "d0983ec9",
   "metadata": {},
   "outputs": [
    {
     "data": {
      "text/plain": [
       "VotingClassifier(estimators=[('svc', SVC(random_state=0)),\n",
       "                             ('knn', KNeighborsClassifier()),\n",
       "                             ('rf',\n",
       "                              RandomForestClassifier(max_depth=5,\n",
       "                                                     n_estimators=200,\n",
       "                                                     random_state=0))])"
      ]
     },
     "execution_count": 25,
     "metadata": {},
     "output_type": "execute_result"
    }
   ],
   "source": [
    "voting.fit(X_train_scaled, y_train)"
   ]
  },
  {
   "cell_type": "code",
   "execution_count": 28,
   "id": "70f403b1",
   "metadata": {},
   "outputs": [
    {
     "name": "stdout",
     "output_type": "stream",
     "text": [
      "0.9929577464788732\n"
     ]
    },
    {
     "data": {
      "text/plain": [
       "0.951048951048951"
      ]
     },
     "execution_count": 28,
     "metadata": {},
     "output_type": "execute_result"
    }
   ],
   "source": [
    "###\n",
    "pred_train = voting.predict(X_train_scaled)\n",
    "pred_test = voting.predict(X_test_scaled)\n",
    "\n",
    "##\n",
    "\n",
    "print(accuracy_score(y_train, pred_train))\n",
    "accuracy_score(y_test, pred_test)"
   ]
  },
  {
   "cell_type": "code",
   "execution_count": 30,
   "id": "0d2c40c8",
   "metadata": {},
   "outputs": [
    {
     "data": {
      "text/plain": [
       "VotingClassifier(estimators=[('svc', SVC(probability=True, random_state=0)),\n",
       "                             ('knn', KNeighborsClassifier()),\n",
       "                             ('rf',\n",
       "                              RandomForestClassifier(max_depth=5,\n",
       "                                                     n_estimators=200,\n",
       "                                                     random_state=0))],\n",
       "                 voting='soft')"
      ]
     },
     "execution_count": 30,
     "metadata": {},
     "output_type": "execute_result"
    }
   ],
   "source": [
    "#\n",
    "estimators = [\n",
    "    ###\n",
    "    ('svc', SVC(random_state=0, probability=True)),\n",
    "    ('knn', knn),\n",
    "    ('rf', rf)\n",
    "]\n",
    "\n",
    "#\n",
    "voting = VotingClassifier(estimators, voting='soft')\n",
    "#\n",
    "voting.fit(X_train_scaled, y_train)"
   ]
  },
  {
   "cell_type": "code",
   "execution_count": 32,
   "id": "bb47bd53",
   "metadata": {},
   "outputs": [
    {
     "name": "stdout",
     "output_type": "stream",
     "text": [
      "0.9953051643192489\n"
     ]
    },
    {
     "data": {
      "text/plain": [
       "0.958041958041958"
      ]
     },
     "execution_count": 32,
     "metadata": {},
     "output_type": "execute_result"
    }
   ],
   "source": [
    "pred_train = voting.predict(X_train_scaled)\n",
    "pred_test = voting.predict(X_test_scaled)\n",
    "\n",
    "print(accuracy_score(y_train, pred_train))\n",
    "accuracy_score(y_test, pred_test)"
   ]
  },
  {
   "cell_type": "code",
   "execution_count": 39,
   "id": "b61a77f1",
   "metadata": {},
   "outputs": [],
   "source": [
    "#파이프라인 이용하기\n",
    "##\n",
    "from sklearn.pipeline import Pipeline, make_pipeline\n",
    "\n",
    "order_knn = [\n",
    "    ('scaler', StandardScaler()),\n",
    "    ('knn', KNeighborsClassifier(n_neighbors=5))\n",
    "]\n",
    "\n",
    "order_svc = [\n",
    "    ('scaler', StandardScaler()),\n",
    "    ('svc', SVC(random_state=0, probability=True))\n",
    "]\n",
    "\n",
    "#\n",
    "knn_pl = Pipeline(order_knn)\n",
    "svc_pl = Pipeline(order_svc)\n",
    "\n",
    "rf = RandomForestClassifier(n_estimators=500, max_depth=5, random_state=0)\n",
    "\n",
    "##\n",
    "estimators=[\n",
    "    ('knn', knn_pl),\n",
    "    ('svc', svc_pl),\n",
    "    ('rf', rf)\n",
    "]\n",
    "\n",
    "voting = VotingClassifier(estimators, voting='soft')"
   ]
  },
  {
   "cell_type": "code",
   "execution_count": 40,
   "id": "d8fad661",
   "metadata": {},
   "outputs": [
    {
     "data": {
      "text/plain": [
       "VotingClassifier(estimators=[('knn',\n",
       "                              Pipeline(steps=[('scaler', StandardScaler()),\n",
       "                                              ('knn',\n",
       "                                               KNeighborsClassifier())])),\n",
       "                             ('svc',\n",
       "                              Pipeline(steps=[('scaler', StandardScaler()),\n",
       "                                              ('svc',\n",
       "                                               SVC(probability=True,\n",
       "                                                   random_state=0))])),\n",
       "                             ('rf',\n",
       "                              RandomForestClassifier(max_depth=5,\n",
       "                                                     n_estimators=500,\n",
       "                                                     random_state=0))],\n",
       "                 voting='soft')"
      ]
     },
     "execution_count": 40,
     "metadata": {},
     "output_type": "execute_result"
    }
   ],
   "source": [
    "voting.fit(X_train, y_train)"
   ]
  },
  {
   "cell_type": "code",
   "execution_count": 41,
   "id": "ee014816",
   "metadata": {},
   "outputs": [
    {
     "name": "stdout",
     "output_type": "stream",
     "text": [
      "0.9929577464788732\n",
      "0.958041958041958\n"
     ]
    }
   ],
   "source": [
    "###\n",
    "print(accuracy_score(y_train, voting.predict(X_train)))\n",
    "print(accuracy_score(y_test, voting.predict(X_test)))\n"
   ]
  },
  {
   "cell_type": "code",
   "execution_count": null,
   "id": "ec737e11",
   "metadata": {},
   "outputs": [],
   "source": []
  },
  {
   "cell_type": "code",
   "execution_count": null,
   "id": "e99930b1",
   "metadata": {},
   "outputs": [],
   "source": []
  },
  {
   "cell_type": "code",
   "execution_count": null,
   "id": "ca00fe76",
   "metadata": {},
   "outputs": [],
   "source": []
  },
  {
   "cell_type": "code",
   "execution_count": null,
   "id": "d93fd2b5",
   "metadata": {},
   "outputs": [],
   "source": []
  },
  {
   "cell_type": "code",
   "execution_count": null,
   "id": "87d3f24f",
   "metadata": {},
   "outputs": [],
   "source": []
  },
  {
   "cell_type": "code",
   "execution_count": null,
   "id": "1b80e684",
   "metadata": {},
   "outputs": [],
   "source": []
  },
  {
   "cell_type": "code",
   "execution_count": null,
   "id": "b562b556",
   "metadata": {},
   "outputs": [],
   "source": []
  },
  {
   "cell_type": "code",
   "execution_count": null,
   "id": "6bdebaa4",
   "metadata": {},
   "outputs": [],
   "source": []
  },
  {
   "cell_type": "code",
   "execution_count": null,
   "id": "e7d92a41",
   "metadata": {},
   "outputs": [],
   "source": []
  },
  {
   "cell_type": "code",
   "execution_count": null,
   "id": "9f86e254",
   "metadata": {},
   "outputs": [],
   "source": []
  }
 ],
 "metadata": {
  "kernelspec": {
   "display_name": "Python 3 (ipykernel)",
   "language": "python",
   "name": "python3"
  },
  "language_info": {
   "codemirror_mode": {
    "name": "ipython",
    "version": 3
   },
   "file_extension": ".py",
   "mimetype": "text/x-python",
   "name": "python",
   "nbconvert_exporter": "python",
   "pygments_lexer": "ipython3",
   "version": "3.9.6"
  }
 },
 "nbformat": 4,
 "nbformat_minor": 5
}
