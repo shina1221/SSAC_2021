{
 "cells": [
  {
   "cell_type": "code",
   "execution_count": 1,
   "id": "7f9f3413",
   "metadata": {
    "scrolled": true
   },
   "outputs": [
    {
     "ename": "ModuleNotFoundError",
     "evalue": "No module named 'sklearn.datasets'",
     "output_type": "error",
     "traceback": [
      "\u001b[1;31m---------------------------------------------------------------------------\u001b[0m",
      "\u001b[1;31mModuleNotFoundError\u001b[0m                       Traceback (most recent call last)",
      "\u001b[1;32m~\\AppData\\Local\\Temp/ipykernel_13808/1228193908.py\u001b[0m in \u001b[0;36m<module>\u001b[1;34m\u001b[0m\n\u001b[0;32m      4\u001b[0m \u001b[1;33m\u001b[0m\u001b[0m\n\u001b[0;32m      5\u001b[0m \u001b[1;31m##\u001b[0m\u001b[1;33m\u001b[0m\u001b[1;33m\u001b[0m\u001b[1;33m\u001b[0m\u001b[0m\n\u001b[1;32m----> 6\u001b[1;33m \u001b[1;32mfrom\u001b[0m \u001b[0msklearn\u001b[0m\u001b[1;33m.\u001b[0m\u001b[0mdatasets\u001b[0m \u001b[1;32mimport\u001b[0m \u001b[0mmake_regression\u001b[0m\u001b[1;33m\u001b[0m\u001b[1;33m\u001b[0m\u001b[0m\n\u001b[0m\u001b[0;32m      7\u001b[0m \u001b[1;31m##\u001b[0m\u001b[1;33m\u001b[0m\u001b[1;33m\u001b[0m\u001b[1;33m\u001b[0m\u001b[0m\n\u001b[0;32m      8\u001b[0m \u001b[1;32mfrom\u001b[0m \u001b[0msklearn\u001b[0m\u001b[1;33m.\u001b[0m\u001b[0mmodel_selection\u001b[0m \u001b[1;32mimport\u001b[0m \u001b[0mcross_val_score\u001b[0m\u001b[1;33m\u001b[0m\u001b[1;33m\u001b[0m\u001b[0m\n",
      "\u001b[1;31mModuleNotFoundError\u001b[0m: No module named 'sklearn.datasets'"
     ]
    }
   ],
   "source": [
    "import numpy as np\n",
    "import matplotlib.pyplot as plt\n",
    "import seaborn as sns\n",
    "\n",
    "##\n",
    "from sklearn.datasets import make_regression\n",
    "##\n",
    "from sklearn.model_selection import cross_val_score\n",
    "\n",
    "from sklearn.linear_model import LinearRegression"
   ]
  },
  {
   "cell_type": "code",
   "execution_count": null,
   "id": "04a7f365",
   "metadata": {},
   "outputs": [],
   "source": [
    "X, y = make_regression(n_samples=100, # 데이터포인트(샘플)개수\n",
    "                       n_features=1,  # Feature개수\n",
    "                       n_informative=1,#정답(y)에 영향을 주는 Feature개수\n",
    "                       noise = 50, #잡음 - 예측(추론) 할수 없는 절대 오차 (0 ~ 50 값을 랜덤하게 사용.)\n",
    "                       coef = False,# Feature간의 상관성(연관성) 여부\n",
    "                       random_state = 1)"
   ]
  },
  {
   "cell_type": "code",
   "execution_count": null,
   "id": "3b5c1679",
   "metadata": {},
   "outputs": [],
   "source": [
    "X.shape, y.shape"
   ]
  },
  {
   "cell_type": "code",
   "execution_count": null,
   "id": "96641ffb",
   "metadata": {},
   "outputs": [],
   "source": [
    "plt.scatter(X, y)"
   ]
  },
  {
   "cell_type": "code",
   "execution_count": null,
   "id": "f9724971",
   "metadata": {},
   "outputs": [],
   "source": [
    "np.mean(y), np.min(y), np.max(y), np.median(y)"
   ]
  },
  {
   "cell_type": "code",
   "execution_count": null,
   "id": "dae39f66",
   "metadata": {},
   "outputs": [],
   "source": [
    "lr = LinearRegression()\n",
    "lr.fit(X, y)\n",
    "pred = lr.predict(X)"
   ]
  },
  {
   "cell_type": "code",
   "execution_count": null,
   "id": "30cabf86",
   "metadata": {},
   "outputs": [],
   "source": [
    "from sklearn.metrics import mean_squared_error, r2_score\n",
    "\n",
    "mse = mean_squared_error(y, pred)\n",
    "r2 = re_score(y, pred)\n",
    "print(\"MSE\", mse)\n",
    "print(\"RMSE\", np.sqrt(mse))\n",
    "print(\"R^2 (결정계수):\", r2)"
   ]
  },
  {
   "cell_type": "code",
   "execution_count": null,
   "id": "e4f83c9d",
   "metadata": {},
   "outputs": [],
   "source": [
    "#교차검증\n",
    "score = cross_val_score(lr, X, y, cv=5)\n",
    "print('cv별 R2', score)\n",
    "print('평균 r2', np.mean(score))"
   ]
  },
  {
   "cell_type": "code",
   "execution_count": null,
   "id": "53e5aef0",
   "metadata": {},
   "outputs": [],
   "source": [
    "score = cross_val_score(lr, X, y, scoring='neg_mean_squared_error', cv=5)\n",
    "print('mse': score*-1)\n",
    "print('mse평균', np.mean(score)*-1)"
   ]
  },
  {
   "cell_type": "code",
   "execution_count": null,
   "id": "ae44c837",
   "metadata": {},
   "outputs": [],
   "source": [
    "#계수와 절편\n",
    "lr.fit(X, y)\n",
    "print('coef', lr.coef_, 'intercept', lr.intercept_)"
   ]
  },
  {
   "cell_type": "code",
   "execution_count": null,
   "id": "a9e9d3e3",
   "metadata": {},
   "outputs": [],
   "source": [
    "X*85.14546889 + 10.135071944054275"
   ]
  },
  {
   "cell_type": "code",
   "execution_count": null,
   "id": "6d56d38e",
   "metadata": {},
   "outputs": [],
   "source": [
    "y.reshape(-1, 1)"
   ]
  },
  {
   "cell_type": "code",
   "execution_count": null,
   "id": "f921c80f",
   "metadata": {},
   "outputs": [],
   "source": [
    "plt.figure(figsize=(8,6))\n",
    "plt.scatter(X,y)\n",
    "y_hat = X*lr.coef_ + lr.intercept_\n",
    "plt.plot(X, y_hat, color='red')\n",
    "plt.show()"
   ]
  },
  {
   "cell_type": "code",
   "execution_count": null,
   "id": "53c87ee9",
   "metadata": {},
   "outputs": [],
   "source": [
    "#회귀\n",
    "#xxxxRegresssor\n",
    "from sklearn.model_selction import train_test_split\n",
    "from sklearn.neighbors import KNeighborsRegressor\n",
    "from sklearn.tree import DecitionTreeRegressor\n",
    "from sklearn.ensemble import RandomForestRegressor, GradientBoostingRegressor,\n",
    "votingRegressor\n",
    "from sklearn.linear_model import LinearRegression\n",
    "\n",
    "X_train, X_test, y_train, y_test = train_test_split(X, y, test_size=0.2, random_state=0)"
   ]
  },
  {
   "cell_type": "code",
   "execution_count": null,
   "id": "d93741d2",
   "metadata": {},
   "outputs": [],
   "source": [
    "knn_reg = KNeighborsRegressor(n_neighbors=3)\n",
    "tree_reg = DecisionTreeRegressor(max_dapth=5)\n",
    "#\n",
    "rf_reg = RandomForestRegressor(n_estimators=300, max_dapth=2)\n",
    "gb_reg = GrandientBoostingRegressor(n_estimators=200, max_depth=1)\n",
    "lr_reg = LinearRegression()\n",
    "\n",
    "#\n",
    "estimators=[\n",
    "    ('knn', knn_reg),\n",
    "    ('tree', tree_reg),\n",
    "    ('rf', rf_reg),\n",
    "    ('gb', gb_reg),\n",
    "    ('lr', lr_reg)\n",
    "]"
   ]
  },
  {
   "cell_type": "code",
   "execution_count": null,
   "id": "d13e750b",
   "metadata": {},
   "outputs": [],
   "source": [
    "#모델 학습 및 평가\n",
    "for name, model in estimators:\n",
    "    #학습\n",
    "    model.fit(X_train, y_train)\n",
    "    #추론\n",
    "    pred_train = model.prdict(X_train)\n",
    "    pred_test = model.predict(X_test)\n",
    "    #평가\n",
    "    print('train: ', 'mse', mean_squared_error(y_train, pred_train), 'rmse', np.sqrt(mean_squared_error(y_train, pred_train), r2_score(y, pred_train))\n",
    "    print('test: ', 'mse', mean_squared_error(y_test, pred_test), 'rmse', np.sqrt(mean_squared_error(y_test, pred_test), r2_score(y, pred_test))\n",
    "    print('====================================')    "
   ]
  },
  {
   "cell_type": "code",
   "execution_count": null,
   "id": "6fd2cdef",
   "metadata": {},
   "outputs": [],
   "source": [
    "#voting \n",
    "#######\n",
    "vote_reg = VotingRegressor(estimators)\n",
    "vote_reg.fit(X_train, y_train)\n",
    "pred_train = vote_reg.predict(X_train)\n",
    "pred_test = vote_reg.predict(X_test)\n",
    "print('train: ', 'mse', mean_squared_error(y_train, pred_train), 'rmse', np.sqrt(mean_squared_error(y_train, pred_train), r2_score(y, pred_train))\n",
    "print('test: ', 'mse', mean_squared_error(y_test, pred_test), 'rmse', np.sqrt(mean_squared_error(y_test, pred_test), r2_score(y, pred_test))"
   ]
  },
  {
   "cell_type": "code",
   "execution_count": null,
   "id": "9901bea1",
   "metadata": {},
   "outputs": [],
   "source": [
    "tree_reg = DecisionTreeRegressor()"
   ]
  },
  {
   "cell_type": "code",
   "execution_count": null,
   "id": "8ab9ddbc",
   "metadata": {},
   "outputs": [],
   "source": [
    "tree.fit(X_train, y_train)"
   ]
  },
  {
   "cell_type": "code",
   "execution_count": null,
   "id": "849724ef",
   "metadata": {},
   "outputs": [],
   "source": [
    "tree.feature_importances_"
   ]
  },
  {
   "cell_type": "code",
   "execution_count": null,
   "id": "0f7ecb09",
   "metadata": {},
   "outputs": [],
   "source": [
    "from sklearn.tree import export_graphviz\n",
    "from graphviz import Source\n",
    "from IPython.display import SVG\n",
    "graph = Source(export_graphviz(tree_reg, \n",
    "                               out_file=None,\n",
    "                               rounded=True, filled=True))\n",
    "# display(SVG(graph.pipe(format='svg')))\n",
    "graph"
   ]
  },
  {
   "cell_type": "code",
   "execution_count": null,
   "id": "636ca70b",
   "metadata": {},
   "outputs": [],
   "source": []
  },
  {
   "cell_type": "code",
   "execution_count": null,
   "id": "58d76b91",
   "metadata": {},
   "outputs": [],
   "source": []
  },
  {
   "cell_type": "code",
   "execution_count": null,
   "id": "63356dd3",
   "metadata": {},
   "outputs": [],
   "source": []
  },
  {
   "cell_type": "code",
   "execution_count": null,
   "id": "e7641623",
   "metadata": {},
   "outputs": [],
   "source": []
  },
  {
   "cell_type": "code",
   "execution_count": null,
   "id": "9809a4fe",
   "metadata": {},
   "outputs": [],
   "source": []
  },
  {
   "cell_type": "code",
   "execution_count": null,
   "id": "98f7f163",
   "metadata": {},
   "outputs": [],
   "source": []
  },
  {
   "cell_type": "code",
   "execution_count": null,
   "id": "b652a3ed",
   "metadata": {},
   "outputs": [],
   "source": []
  },
  {
   "cell_type": "code",
   "execution_count": null,
   "id": "6cbe4984",
   "metadata": {},
   "outputs": [],
   "source": []
  },
  {
   "cell_type": "code",
   "execution_count": null,
   "id": "1d48d0b9",
   "metadata": {},
   "outputs": [],
   "source": []
  },
  {
   "cell_type": "code",
   "execution_count": null,
   "id": "571eefb9",
   "metadata": {},
   "outputs": [],
   "source": []
  },
  {
   "cell_type": "code",
   "execution_count": null,
   "id": "5a6c552f",
   "metadata": {},
   "outputs": [],
   "source": []
  },
  {
   "cell_type": "code",
   "execution_count": null,
   "id": "376d801d",
   "metadata": {},
   "outputs": [],
   "source": []
  },
  {
   "cell_type": "code",
   "execution_count": null,
   "id": "f597c6f6",
   "metadata": {},
   "outputs": [],
   "source": []
  },
  {
   "cell_type": "code",
   "execution_count": null,
   "id": "77364c74",
   "metadata": {},
   "outputs": [],
   "source": []
  },
  {
   "cell_type": "code",
   "execution_count": null,
   "id": "e1f8680b",
   "metadata": {},
   "outputs": [],
   "source": []
  },
  {
   "cell_type": "code",
   "execution_count": null,
   "id": "9104c9a3",
   "metadata": {},
   "outputs": [],
   "source": []
  },
  {
   "cell_type": "code",
   "execution_count": null,
   "id": "b5f611b3",
   "metadata": {},
   "outputs": [],
   "source": []
  },
  {
   "cell_type": "code",
   "execution_count": null,
   "id": "9f524431",
   "metadata": {},
   "outputs": [],
   "source": []
  },
  {
   "cell_type": "code",
   "execution_count": null,
   "id": "8e962460",
   "metadata": {},
   "outputs": [],
   "source": []
  }
 ],
 "metadata": {
  "anaconda-cloud": {},
  "kernelspec": {
   "display_name": "Python 3 (ipykernel)",
   "language": "python",
   "name": "python3"
  },
  "language_info": {
   "codemirror_mode": {
    "name": "ipython",
    "version": 3
   },
   "file_extension": ".py",
   "mimetype": "text/x-python",
   "name": "python",
   "nbconvert_exporter": "python",
   "pygments_lexer": "ipython3",
   "version": "3.9.6"
  }
 },
 "nbformat": 4,
 "nbformat_minor": 5
}
