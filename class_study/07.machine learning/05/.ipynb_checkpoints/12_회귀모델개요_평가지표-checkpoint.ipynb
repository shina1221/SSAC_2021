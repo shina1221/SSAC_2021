{
 "cells": [
  {
   "cell_type": "markdown",
   "metadata": {
    "slideshow": {
     "slide_type": "slide"
    }
   },
   "source": [
    "# 회귀(Regression)\n",
    "\n",
    "예측할 값(Target)이 연속형(continuous) 데이터**(float)**인 지도 학습(Supervised Learning)."
   ]
  },
  {
   "cell_type": "markdown",
   "metadata": {
    "slideshow": {
     "slide_type": "fragment"
    }
   },
   "source": [
    "## 회귀의 주요 평가 지표\n",
    "\n",
    "- ### MSE (Mean Squared Error) / 평균제곱오차\n",
    "    - 실제 값과 예측값의 차를 제곱해 평균 낸 것\n",
    "    - scikit-learn 평가함수: mean_squared_error() \n",
    "    - 교차검증시 지정할 문자열: 'neg_mean_squared_error' >>-를 붙이는 것 !!!!!!\n",
    "    $$\n",
    "    MSE = \\frac{1}{n}\\sum_{i=1}^{n}(y_i - \\hat{y_i})^2\\\\\n",
    "    y_i: 실제값, \\hat{y_i}: 모델이 예측한 값\n",
    "    $$\n",
    "    "
   ]
  },
  {
   "cell_type": "markdown",
   "metadata": {
    "slideshow": {
     "slide_type": "fragment"
    }
   },
   "source": [
    "- ### RMSE (Root Mean Squared Error)\n",
    "    - MSE는 오차의 제곱한 값이므로 실제 오차의 평균보다 큰 값이 나온다.  MSE의 제곱근이 RMSE이다.\n",
    "    - scikit-learn은 함수를 지원하지 않는다. (MSE를 구한 뒤 np.sqrt()로 제곱근을 구한다.)\n",
    "    \n",
    "    $$\n",
    "    RMSE = \\sqrt{\\frac{1}{n}\\sum_{i=1}^{n}(y_i - \\hat{y_i})^2}\n",
    "    $$"
   ]
  },
  {
   "cell_type": "markdown",
   "metadata": {
    "slideshow": {
     "slide_type": "fragment"
    }
   },
   "source": [
    "- ### $R^2$ (R square, 결정계수)\n",
    "    - 평균으로 예측했을 때 오차(총오차) 보다 모델을 사용했을 때 얼마 만큼 더 좋은 성능을 내는지를 비율로 나타낸 값. \n",
    "    - 1에 가까울 수록 좋은 모델.\n",
    "    - scikit-learn 평가함수: r2_score()\n",
    "    - 교차검증시 지정할 문자열: 'r2'\n",
    "    - [참고](https://ko.khanacademy.org/math/statistics-probability/describing-relationships-quantitative-data/assessing-the-fit-in-least-squares-regression/a/r-squared-intuition)\n",
    "    $$\n",
    "    R^2 = \\cfrac{\\sum_{i=1}^{n}(\\hat{y_i}-\\bar{y})^2}{\\sum_{i=1}^{n}(y_i - \\bar{y})^2}\\\\\n",
    "    R^2 = 1 - \\cfrac{\\sum_{i=1}^{n}(y_i - \\hat{y_i})^2}{\\sum_{i=1}^{n}(y_i - \\bar{y})^2}\n",
    "    $$\n",
    "\n",
    "- $y_i$ : i번째 실제 값, \n",
    "- $\\hat{y_i}$ : i 번째 예측 값, \n",
    "- $\\bar{y}$ : y의 평균    "
   ]
  },
  {
   "cell_type": "markdown",
   "metadata": {
    "slideshow": {
     "slide_type": "slide"
    }
   },
   "source": [
    "### 예제"
   ]
  },
  {
   "cell_type": "markdown",
   "metadata": {
    "slideshow": {
     "slide_type": "fragment"
    }
   },
   "source": [
    "##### import"
   ]
  },
  {
   "cell_type": "code",
   "execution_count": null,
   "metadata": {},
   "outputs": [],
   "source": [
    "\"\"\"\n",
    "ax+b //a=계수(기울기), b=편향(절편)\n",
    "\n",
    "\"\"\""
   ]
  },
  {
   "cell_type": "code",
   "execution_count": 25,
   "metadata": {
    "ExecuteTime": {
     "end_time": "2021-10-29T03:48:20.726311Z",
     "start_time": "2021-10-29T03:48:20.714236Z"
    },
    "slideshow": {
     "slide_type": "fragment"
    }
   },
   "outputs": [],
   "source": [
    "import numpy as np\n",
    "import matplotlib.pyplot as plt\n",
    "import seaborn as sns\n",
    "\n",
    "from sklearn.datasets import make_regression #데이터셋을 랜덤하게 만들어주는 함수\n",
    "from sklearn.model_selection import cross_val_score\n",
    "\n",
    "from sklearn.linear_model import LinearRegression"
   ]
  },
  {
   "cell_type": "markdown",
   "metadata": {
    "slideshow": {
     "slide_type": "slide"
    }
   },
   "source": [
    "##### Dataset 생성\n",
    "- make_xxxxx() 함수\n",
    "    - 머신러닝 학습을 위한 dummy dataset 구현 함수\n",
    "    - 필요한 설정을 직접하여 테스트할 수 있는 데이터셋을 생성해준다.\n",
    "- make_regression(): 회귀 문제를 위한 dummy dataset 생성\n",
    "- make_classification(): 분류 문제를 위한 dummy dataset 생성"
   ]
  },
  {
   "cell_type": "code",
   "execution_count": 26,
   "metadata": {
    "ExecuteTime": {
     "end_time": "2021-10-29T03:48:25.222308Z",
     "start_time": "2021-10-29T03:48:25.210431Z"
    },
    "slideshow": {
     "slide_type": "fragment"
    }
   },
   "outputs": [],
   "source": [
    "X, y = make_regression(n_samples=100,  #데이터포인트(샘플)개수 >>컬럼당 데이터가 100개\n",
    "                       n_features=1,   #feature개수 \n",
    "                       n_informative=1,#정답(y)에 영향을 주는 feature개수  1개의 독립변수 생성\n",
    "                       noise = 50, #잡음 - 예측(추론)할 수 없는 절대 오차 (0-50 값을 랜덤하게 사용)\n",
    "                       coef = False, #Feature간의 상관성(연관성) 여부\n",
    "                       random_state = 1)"
   ]
  },
  {
   "cell_type": "code",
   "execution_count": 27,
   "metadata": {
    "ExecuteTime": {
     "end_time": "2021-10-29T03:48:26.988622Z",
     "start_time": "2021-10-29T03:48:26.977709Z"
    },
    "slideshow": {
     "slide_type": "fragment"
    }
   },
   "outputs": [
    {
     "data": {
      "text/plain": [
       "((100, 1), (100,))"
      ]
     },
     "execution_count": 27,
     "metadata": {},
     "output_type": "execute_result"
    }
   ],
   "source": [
    "X.shape, y.shape"
   ]
  },
  {
   "cell_type": "code",
   "execution_count": 28,
   "metadata": {
    "ExecuteTime": {
     "end_time": "2021-10-29T03:48:29.064787Z",
     "start_time": "2021-10-29T03:48:28.962266Z"
    },
    "slideshow": {
     "slide_type": "fragment"
    }
   },
   "outputs": [
    {
     "data": {
      "text/plain": [
       "<matplotlib.collections.PathCollection at 0x1870231f3c8>"
      ]
     },
     "execution_count": 28,
     "metadata": {},
     "output_type": "execute_result"
    },
    {
     "data": {
      "image/png": "[encoded data removed]",
      "text/plain": [
       "<matplotlib.figure.Figure at 0x1876f523080>"
      ]
     },
     "metadata": {},
     "output_type": "display_data"
    }
   ],
   "source": [
    "plt.scatter(X, y)"
   ]
  },
  {
   "cell_type": "code",
   "execution_count": 29,
   "metadata": {
    "ExecuteTime": {
     "end_time": "2021-10-29T03:48:42.219094Z",
     "start_time": "2021-10-29T03:48:42.202095Z"
    },
    "slideshow": {
     "slide_type": "fragment"
    }
   },
   "outputs": [
    {
     "data": {
      "text/plain": [
       "(15.293427290684107,\n",
       " -255.11169199137663,\n",
       " 247.19463389209255,\n",
       " 20.62597485010551)"
      ]
     },
     "execution_count": 29,
     "metadata": {},
     "output_type": "execute_result"
    }
   ],
   "source": [
    "np.mean(y), np.min(y), np.max(y), np.median(y)"
   ]
  },
  {
   "cell_type": "markdown",
   "metadata": {
    "slideshow": {
     "slide_type": "slide"
    }
   },
   "source": [
    "##### 모델 생성, 학습, 추론"
   ]
  },
  {
   "cell_type": "code",
   "execution_count": 30,
   "metadata": {
    "ExecuteTime": {
     "end_time": "2021-10-29T03:48:52.581435Z",
     "start_time": "2021-10-29T03:48:52.561470Z"
    },
    "slideshow": {
     "slide_type": "fragment"
    }
   },
   "outputs": [],
   "source": [
    "lr = LinearRegression()\n",
    "lr.fit(X, y)\n",
    "pred = lr.predict(X)\n",
    "\n",
    "#y:정답, pred:y_hat"
   ]
  },
  {
   "cell_type": "markdown",
   "metadata": {
    "slideshow": {
     "slide_type": "fragment"
    }
   },
   "source": [
    "##### 평가"
   ]
  },
  {
   "cell_type": "code",
   "execution_count": 31,
   "metadata": {
    "ExecuteTime": {
     "end_time": "2021-10-29T03:48:53.816083Z",
     "start_time": "2021-10-29T03:48:53.802031Z"
    },
    "slideshow": {
     "slide_type": "fragment"
    }
   },
   "outputs": [
    {
     "name": "stdout",
     "output_type": "stream",
     "text": [
      "MSE :  2078.5472792307764\n",
      "RMSE :  45.59108771712709\n",
      "R^2 :  0.7321024057172182\n"
     ]
    }
   ],
   "source": [
    "from sklearn.metrics import mean_squared_error, r2_score\n",
    "\n",
    "mse = mean_squared_error(y, pred)\n",
    "r2 = r2_score(y, pred)\n",
    "print(\"MSE : \", mse)\n",
    "print(\"RMSE : \", np.sqrt(mse))\n",
    "print('R^2 : ', r2)\n",
    "\n",
    "#RMSE가 0.45인데 이건 선형으로 찾지 못하는 모델임\n",
    "#R^2가 0.73정도면 나쁘진 않음"
   ]
  },
  {
   "cell_type": "markdown",
   "metadata": {
    "slideshow": {
     "slide_type": "slide"
    }
   },
   "source": [
    "##### 교차검증 (cross validation)"
   ]
  },
  {
   "cell_type": "code",
   "execution_count": 32,
   "metadata": {
    "ExecuteTime": {
     "end_time": "2021-10-29T03:48:57.564470Z",
     "start_time": "2021-10-29T03:48:57.538440Z"
    },
    "slideshow": {
     "slide_type": "fragment"
    }
   },
   "outputs": [
    {
     "name": "stdout",
     "output_type": "stream",
     "text": [
      "cv별 R2: [0.58124097 0.82853824 0.52826294 0.76611492 0.7184243 ]\n",
      "평균 R2:  0.6845162761863837\n"
     ]
    }
   ],
   "source": [
    "score = cross_val_score(lr, X, y, cv=5) #기본 평가지표:R2\n",
    "print(\"cv별 R2:\", score) #n번 폴드에 대한 검증결과 리스트 반환\n",
    "print(\"평균 R2: \", np.mean(score))"
   ]
  },
  {
   "cell_type": "code",
   "execution_count": 33,
   "metadata": {
    "ExecuteTime": {
     "end_time": "2021-10-29T02:45:19.485437Z",
     "start_time": "2021-10-29T02:45:19.455462Z"
    },
    "slideshow": {
     "slide_type": "fragment"
    }
   },
   "outputs": [
    {
     "name": "stdout",
     "output_type": "stream",
     "text": [
      "mse [2345.81697166 1813.79924962 2204.02751713 1490.54918087 3044.11453168]\n",
      "mse평균 :  2179.661490191461\n"
     ]
    }
   ],
   "source": [
    "score = cross_val_score(lr, X, y, scoring='neg_mean_squared_error', cv=5)\n",
    "#neg_mean_squared_error : mse * -1값을 평가지표로 출력\n",
    "#print('mse', score)\n",
    "#MSE 값을 보려면 -1을 다시 곱해줘야 함\n",
    "print('mse', score*-1) #*-1해줘야 함.\n",
    "print('mse평균 : ', np.mean(score)*-1)"
   ]
  },
  {
   "cell_type": "markdown",
   "metadata": {
    "slideshow": {
     "slide_type": "slide"
    }
   },
   "source": [
    "##### 모델이 계수(coef)와 절편(intercept) 조회\n",
    "- LinearRegression 모델이 학습해서 찾는 파라미터\n",
    "    - coef_: Feature에 곱하는 가중치\n",
    "    - intercept_: 모든 Feature가 0일때 예측값"
   ]
  },
  {
   "cell_type": "code",
   "execution_count": 34,
   "metadata": {
    "ExecuteTime": {
     "end_time": "2021-10-29T03:49:01.132046Z",
     "start_time": "2021-10-29T03:49:01.122041Z"
    },
    "slideshow": {
     "slide_type": "fragment"
    }
   },
   "outputs": [
    {
     "name": "stdout",
     "output_type": "stream",
     "text": [
      "coef: [85.14546889] intercept: 10.135071944054275\n"
     ]
    }
   ],
   "source": [
    "lr.fit(X, y)\n",
    "print(\"coef:\", lr.coef_, \"intercept:\",lr.intercept_)"
   ]
  },
  {
   "cell_type": "code",
   "execution_count": 35,
   "metadata": {},
   "outputs": [
    {
     "data": {
      "text/plain": [
       "array([[ -41.95320949],\n",
       "       [ -11.09768035],\n",
       "       [  51.73018384],\n",
       "       [  75.01687644],\n",
       "       [ 139.54059266],\n",
       "       [  42.28292282],\n",
       "       [  53.80872726],\n",
       "       [ -47.01848936],\n",
       "       [-108.77025809],\n",
       "       [  37.00996278],\n",
       "       [ -44.10221581],\n",
       "       [ -23.64668788],\n",
       "       [ -83.57765872],\n",
       "       [  86.8388794 ],\n",
       "       [ -83.51568049],\n",
       "       [  80.63336637],\n",
       "       [   3.70048825],\n",
       "       [ -19.85740115],\n",
       "       [ -46.96877764],\n",
       "       [ -81.22333924],\n",
       "       [ -15.93680704],\n",
       "       [ 196.22691998],\n",
       "       [  83.82061557],\n",
       "       [  27.01939985],\n",
       "       [ -22.56541091],\n",
       "       [ -48.08125197],\n",
       "       [  14.4611273 ],\n",
       "       [  59.75915184],\n",
       "       [ 116.81112373],\n",
       "       [ -54.09848922],\n",
       "       [ -19.60987271],\n",
       "       [ -65.44250715],\n",
       "       [  26.01993431],\n",
       "       [  84.73689081],\n",
       "       [  81.57071336],\n",
       "       [ -32.81790525],\n",
       "       [ -19.14250524],\n",
       "       [ 154.23991777],\n",
       "       [-185.83051432],\n",
       "       [  89.41420049],\n",
       "       [ 188.96228558],\n",
       "       [ 134.62694306],\n",
       "       [ -61.83035346],\n",
       "       [ -64.61058942],\n",
       "       [ -17.31728682],\n",
       "       [  85.50083666],\n",
       "       [  23.76150851],\n",
       "       [ 106.488192  ],\n",
       "       [ -21.81873585],\n",
       "       [  52.92019329],\n",
       "       [  -7.65132025],\n",
       "       [  20.36606754],\n",
       "       [  60.08338387],\n",
       "       [  37.29981062],\n",
       "       [ -48.75670182],\n",
       "       [  69.56934204],\n",
       "       [ 112.21750224],\n",
       "       [  -6.95856272],\n",
       "       [  55.29244209],\n",
       "       [  73.31677518],\n",
       "       [  45.04911697],\n",
       "       [  20.26812414],\n",
       "       [ -54.6782413 ],\n",
       "       [  46.19370254],\n",
       "       [  35.69321983],\n",
       "       [ -87.14517049],\n",
       "       [  25.90030718],\n",
       "       [ -69.54145006],\n",
       "       [ -42.65518538],\n",
       "       [ -84.99883634],\n",
       "       [-112.8246699 ],\n",
       "       [  -8.79515676],\n",
       "       [ 148.44072482],\n",
       "       [  62.68712537],\n",
       "       [ -48.37456457],\n",
       "       [  16.72023358],\n",
       "       [   9.05674398],\n",
       "       [ -44.24992284],\n",
       "       [ 106.67040798],\n",
       "       [ 158.69789298],\n",
       "       [  86.90144185],\n",
       "       [-165.2765695 ],\n",
       "       [  30.0945117 ],\n",
       "       [  -4.54640339],\n",
       "       [  20.50760643],\n",
       "       [ 107.60311422],\n",
       "       [  -0.32846868],\n",
       "       [ -53.48206606],\n",
       "       [  34.45154391],\n",
       "       [-162.04619352],\n",
       "       [  29.72660133],\n",
       "       [ -12.67437896],\n",
       "       [ -34.83635431],\n",
       "       [ 106.30551414],\n",
       "       [  26.39066565],\n",
       "       [ -15.24617702],\n",
       "       [ 151.45971183],\n",
       "       [  13.84715201],\n",
       "       [  13.72938645],\n",
       "       [  -6.19885086]])"
      ]
     },
     "execution_count": 35,
     "metadata": {},
     "output_type": "execute_result"
    }
   ],
   "source": [
    "#예측값\n",
    "X*85.14546889 +10.1350771944054275"
   ]
  },
  {
   "cell_type": "code",
   "execution_count": 36,
   "metadata": {},
   "outputs": [
    {
     "data": {
      "text/plain": [
       "array([[-6.47837150e+01],\n",
       "       [ 3.53525698e+00],\n",
       "       [-2.24930988e+00],\n",
       "       [ 1.60486845e+02],\n",
       "       [ 1.76846086e+02],\n",
       "       [ 3.75120284e+01],\n",
       "       [ 2.04399290e+01],\n",
       "       [ 1.65475124e+01],\n",
       "       [-8.00299319e+01],\n",
       "       [ 2.12950877e+01],\n",
       "       [-3.68533417e+01],\n",
       "       [ 2.71863822e+01],\n",
       "       [-1.05041229e+02],\n",
       "       [-1.80445868e+01],\n",
       "       [-8.50723156e+01],\n",
       "       [ 6.89340357e+01],\n",
       "       [-2.50673768e+01],\n",
       "       [-9.59581539e+01],\n",
       "       [-8.21563475e+01],\n",
       "       [-6.22450275e+00],\n",
       "       [-3.50170055e+01],\n",
       "       [ 1.82489231e+02],\n",
       "       [ 5.79386310e+01],\n",
       "       [ 4.26634726e+01],\n",
       "       [ 1.30913351e-01],\n",
       "       [-2.09715557e+01],\n",
       "       [-4.01151102e+00],\n",
       "       [ 4.08451522e+01],\n",
       "       [ 1.38282568e+02],\n",
       "       [-7.02177235e+01],\n",
       "       [-2.25347306e+01],\n",
       "       [-4.47436142e+01],\n",
       "       [ 2.42126703e+01],\n",
       "       [ 8.16001763e+01],\n",
       "       [ 1.91435758e+02],\n",
       "       [ 4.32788040e+00],\n",
       "       [-9.92775395e+01],\n",
       "       [ 2.47194634e+02],\n",
       "       [-2.02799798e+02],\n",
       "       [ 5.85334904e+01],\n",
       "       [ 1.59536038e+02],\n",
       "       [ 8.54897401e+01],\n",
       "       [-7.37592095e+01],\n",
       "       [-4.06447270e+01],\n",
       "       [-6.49055955e+01],\n",
       "       [ 7.59577622e+01],\n",
       "       [ 8.30410079e+01],\n",
       "       [ 6.41532713e+01],\n",
       "       [-2.65508208e+01],\n",
       "       [ 2.47503948e+01],\n",
       "       [-7.89972479e+01],\n",
       "       [ 2.13397064e+01],\n",
       "       [ 1.27320816e+02],\n",
       "       [ 2.91983014e+01],\n",
       "       [-1.49819398e+01],\n",
       "       [ 8.25052252e+01],\n",
       "       [ 9.36791817e+01],\n",
       "       [ 3.32075339e+01],\n",
       "       [-6.39364756e+01],\n",
       "       [ 5.14020686e+01],\n",
       "       [ 7.92951311e+01],\n",
       "       [-1.96514023e+01],\n",
       "       [ 2.55162469e+01],\n",
       "       [ 4.80842807e+01],\n",
       "       [ 5.39131601e+01],\n",
       "       [-5.06850039e+01],\n",
       "       [ 2.68654102e+01],\n",
       "       [-6.57129269e+01],\n",
       "       [ 2.53019418e+01],\n",
       "       [-5.65030259e+01],\n",
       "       [-1.21012923e+02],\n",
       "       [-4.76451909e+01],\n",
       "       [ 1.81054320e+02],\n",
       "       [ 5.75844468e+01],\n",
       "       [-6.56860939e+01],\n",
       "       [ 6.74404512e+01],\n",
       "       [-7.18544164e+01],\n",
       "       [-3.46370248e+01],\n",
       "       [ 1.12885224e+02],\n",
       "       [ 1.65204374e+02],\n",
       "       [ 1.95849271e+02],\n",
       "       [-2.05230375e+02],\n",
       "       [-1.96949084e+01],\n",
       "       [-3.65752004e+01],\n",
       "       [ 9.82123058e+01],\n",
       "       [ 1.07928957e+02],\n",
       "       [-8.31690754e+00],\n",
       "       [-4.07394013e+01],\n",
       "       [ 6.19072274e+01],\n",
       "       [-2.55111692e+02],\n",
       "       [-5.16569648e+01],\n",
       "       [ 2.37511719e+01],\n",
       "       [-2.43370994e+01],\n",
       "       [ 5.17725460e+01],\n",
       "       [ 2.08120207e+01],\n",
       "       [-2.38112047e+01],\n",
       "       [ 1.29269644e+02],\n",
       "       [ 4.62408701e+01],\n",
       "       [ 1.22667384e+02],\n",
       "       [-4.25403786e+01]])"
      ]
     },
     "execution_count": 36,
     "metadata": {},
     "output_type": "execute_result"
    }
   ],
   "source": [
    "y.reshape(-1,1)\n",
    "\n",
    "#예측/정답\n",
    "#-41=-60\n",
    "#-12=3.5\n",
    "#52=-2\n",
    "#75=160"
   ]
  },
  {
   "cell_type": "markdown",
   "metadata": {
    "slideshow": {
     "slide_type": "fragment"
    }
   },
   "source": [
    "##### X, y와 추론결과  시각화"
   ]
  },
  {
   "cell_type": "code",
   "execution_count": 37,
   "metadata": {
    "ExecuteTime": {
     "end_time": "2021-10-29T03:49:02.627844Z",
     "start_time": "2021-10-29T03:49:02.449863Z"
    },
    "slideshow": {
     "slide_type": "fragment"
    }
   },
   "outputs": [
    {
     "data": {
      "image/png": "[encoded data removed]",
      "text/plain": [
       "<matplotlib.figure.Figure at 0x1870231f6d8>"
      ]
     },
     "metadata": {},
     "output_type": "display_data"
    }
   ],
   "source": [
    "plt.scatter(X, y)\n",
    "y_hat = X*lr.coef_ + lr.intercept_\n",
    "plt.plot(X, y_hat, color='red') #회귀선\n",
    "plt.show()"
   ]
  },
  {
   "cell_type": "markdown",
   "metadata": {
    "slideshow": {
     "slide_type": "slide"
    }
   },
   "source": [
    "## 기존 분류 모델의 회귀 모델"
   ]
  },
  {
   "cell_type": "markdown",
   "metadata": {
    "slideshow": {
     "slide_type": "fragment"
    }
   },
   "source": [
    "##### import"
   ]
  },
  {
   "cell_type": "code",
   "execution_count": 40,
   "metadata": {},
   "outputs": [
    {
     "name": "stdout",
     "output_type": "stream",
     "text": [
      "Requirement already satisfied: scikit-learn in c:\\users\\admin\\anaconda3\\lib\\site-packages (0.20.0)\n",
      "Collecting scikit-learn\n",
      "  Using cached scikit_learn-0.22.2.post1-cp35-cp35m-win_amd64.whl (6.2 MB)\n",
      "Requirement already satisfied: numpy>=1.11.0 in c:\\users\\admin\\anaconda3\\lib\\site-packages (from scikit-learn) (1.14.5)\n",
      "Requirement already satisfied: joblib>=0.11 in c:\\users\\admin\\anaconda3\\lib\\site-packages (from scikit-learn) (0.14.1)\n",
      "Requirement already satisfied: scipy>=0.17.0 in c:\\users\\admin\\anaconda3\\lib\\site-packages (from scikit-learn) (1.4.1)\n",
      "Installing collected packages: scikit-learn\n",
      "  Attempting uninstall: scikit-learn\n",
      "    Found existing installation: scikit-learn 0.20.0\n",
      "    Uninstalling scikit-learn-0.20.0:\n",
      "      Successfully uninstalled scikit-learn-0.20.0\n"
     ]
    },
    {
     "name": "stderr",
     "output_type": "stream",
     "text": [
      "DEPRECATION: Python 3.5 reached the end of its life on September 13th, 2020. Please upgrade your Python as Python 3.5 is no longer maintained. pip 21.0 will drop support for Python 3.5 in January 2021. pip 21.0 will remove support for this functionality.\n",
      "ERROR: Could not install packages due to an EnvironmentError: [WinError 5] 액세스가 거부되었습니다: 'c:\\\\users\\\\admin\\\\anaconda3\\\\lib\\\\site-packages\\\\~-learn\\\\datasets\\\\_svmlight_format.cp35-win_amd64.pyd'\n",
      "Consider using the `--user` option or check the permissions.\n",
      "\n"
     ]
    }
   ],
   "source": [
    "!pip install --upgrade scikit-learn"
   ]
  },
  {
   "cell_type": "code",
   "execution_count": 45,
   "metadata": {
    "ExecuteTime": {
     "end_time": "2021-10-29T03:52:09.466497Z",
     "start_time": "2021-10-29T03:52:09.458496Z"
    },
    "slideshow": {
     "slide_type": "fragment"
    }
   },
   "outputs": [
    {
     "ename": "ImportError",
     "evalue": "cannot import name 'VotingRegressor'",
     "output_type": "error",
     "traceback": [
      "\u001b[1;31m---------------------------------------------------------------------------\u001b[0m",
      "\u001b[1;31mImportError\u001b[0m                               Traceback (most recent call last)",
      "\u001b[1;32m<ipython-input-45-52038d0b05c5>\u001b[0m in \u001b[0;36m<module>\u001b[1;34m()\u001b[0m\n\u001b[0;32m      3\u001b[0m \u001b[1;32mfrom\u001b[0m \u001b[0msklearn\u001b[0m\u001b[1;33m.\u001b[0m\u001b[0mneighbors\u001b[0m \u001b[1;32mimport\u001b[0m \u001b[0mKNeighborsRegressor\u001b[0m\u001b[1;33m\u001b[0m\u001b[0m\n\u001b[0;32m      4\u001b[0m \u001b[1;32mfrom\u001b[0m \u001b[0msklearn\u001b[0m\u001b[1;33m.\u001b[0m\u001b[0mtree\u001b[0m \u001b[1;32mimport\u001b[0m \u001b[0mDecisionTreeRegressor\u001b[0m\u001b[1;33m\u001b[0m\u001b[0m\n\u001b[1;32m----> 5\u001b[1;33m \u001b[1;32mfrom\u001b[0m \u001b[0msklearn\u001b[0m\u001b[1;33m.\u001b[0m\u001b[0mensemble\u001b[0m \u001b[1;32mimport\u001b[0m \u001b[0mRandomForestRegressor\u001b[0m\u001b[1;33m,\u001b[0m \u001b[0mGradientBoostingRegressor\u001b[0m\u001b[1;33m,\u001b[0m \u001b[0mVotingRegressor\u001b[0m\u001b[1;33m\u001b[0m\u001b[0m\n\u001b[0m\u001b[0;32m      6\u001b[0m \u001b[1;32mfrom\u001b[0m \u001b[0msklearn\u001b[0m\u001b[1;33m.\u001b[0m\u001b[0mlinear_model\u001b[0m \u001b[1;32mimport\u001b[0m \u001b[0mLinearRegression\u001b[0m\u001b[1;33m\u001b[0m\u001b[0m\n\u001b[0;32m      7\u001b[0m \u001b[1;33m\u001b[0m\u001b[0m\n",
      "\u001b[1;31mImportError\u001b[0m: cannot import name 'VotingRegressor'"
     ]
    }
   ],
   "source": [
    "from sklearn.model_selection import train_test_split\n",
    "\n",
    "from sklearn.neighbors import KNeighborsRegressor\n",
    "from sklearn.tree import DecisionTreeRegressor\n",
    "from sklearn.ensemble import RandomForestRegressor, GradientBoostingRegressor, VotingRegressor\n",
    "from sklearn.linear_model import LinearRegression\n",
    "\n",
    "X_train, X_test, y_train, y_test = train_test_split(X, y, test_size=0.2, random_state=12)"
   ]
  },
  {
   "cell_type": "markdown",
   "metadata": {
    "slideshow": {
     "slide_type": "fragment"
    }
   },
   "source": [
    "##### 모델들 생성"
   ]
  },
  {
   "cell_type": "code",
   "execution_count": 39,
   "metadata": {
    "ExecuteTime": {
     "end_time": "2021-10-29T03:53:15.131581Z",
     "start_time": "2021-10-29T03:53:15.122580Z"
    },
    "slideshow": {
     "slide_type": "fragment"
    }
   },
   "outputs": [],
   "source": [
    "knn_reg = KNeighborsRegressor(n_neighbors=3)\n",
    "tree_reg = DecisionTreeRegressor(max_depth=5)\n",
    "rf_reg = RandomForestRegressor(n_estimators=300, max_depth=2)\n",
    "gb_reg = GradientBoostingRegressor(n_estimators=200, max_depth=1)\n",
    "lr_reg = LinearRegression()\n",
    "\n",
    "estimators = [(\"knn\",knn_reg), \n",
    "              ('decision tree',tree_reg),\n",
    "              ('random forest',rf_reg), \n",
    "              ('Gradient Boosting', gb_reg), \n",
    "              ('linear reg',lr_reg)]"
   ]
  },
  {
   "cell_type": "markdown",
   "metadata": {
    "slideshow": {
     "slide_type": "slide"
    }
   },
   "source": [
    "##### 평가출력 함수"
   ]
  },
  {
   "cell_type": "code",
   "execution_count": 42,
   "metadata": {},
   "outputs": [
    {
     "name": "stdout",
     "output_type": "stream",
     "text": [
      "Overwriting util.py\n"
     ]
    }
   ],
   "source": [
    "%%writefile util.py\n",
    "#%load util.py\n",
    "\n",
    "# %%writefile 파일경로 - cell의 내용을 파일로 저장한다. 반드시 첫줄에 작성한다.\n",
    "\n",
    "import numpy as np\n",
    "from sklearn.metrics import (accuracy_score,\n",
    "                            recall_score,\n",
    "                            precision_score,\n",
    "                            f1_score,\n",
    "                            mean_squared_error,\n",
    "                            r2_score)\n",
    "\n",
    "def print_metrics(y, pred, title=None):\n",
    "    acc = accuracy_score(y, pred)\n",
    "    recall = recall_score(y, pred)\n",
    "    precision = precision_score(y, pred)\n",
    "    f1 = f1_score(y, pred)   \n",
    "    \n",
    "    if title:\n",
    "        print(title)\n",
    "    print('정확도: {acc}, recall: {recall}, Precision: {precision}, f1점수: {f1}'.format(acc, recall, precision, f1))\n",
    "    \n",
    "def print_regression_metrics(y, y_pred, title=None):\n",
    "    mse = mean_squared_error(y, y_pred)\n",
    "    rmse = np.sqrt(mse)\n",
    "    r2 = r2_score(y, y_pred)\n",
    "    if title:\n",
    "        print(title)\n",
    "    #print(f\"MSE:{mse}, RMSE:{rmse}, R Square:{r2}\")\n",
    "    print(\"MSE:{mse}, RMSE:{rmse}, R Square:{r2}\".format(mse, rmse, r2))"
   ]
  },
  {
   "cell_type": "code",
   "execution_count": null,
   "metadata": {},
   "outputs": [],
   "source": [
    "#순서1)\n",
    "%load util.py\n",
    "\n",
    "from skelarn.metrics import (accuracy_score,\n",
    "                            recall_score,\n",
    "                            precision_score,\n",
    "                            f1_score,\n",
    "                            mean_squared_error,\n",
    "                            r2_score)\n",
    "\n",
    "#기존 불러온 코드 밑에 추가\n",
    "def print_regression_metrics(y, y_pred, title=None):\n",
    "    mse = mean_squared_error(y, y_pred)\n",
    "    rmse = np.sqrt(mse)\n",
    "    r2 = r2_score(y, y_pred)\n",
    "    if title:\n",
    "        print(title)\n",
    "    print(f\"MSE:{mse}, RMSE:{rmse}, R Square:{r2}\")"
   ]
  },
  {
   "cell_type": "code",
   "execution_count": 5,
   "metadata": {
    "ExecuteTime": {
     "end_time": "2021-10-29T03:53:15.540328Z",
     "start_time": "2021-10-29T03:53:15.530333Z"
    },
    "slideshow": {
     "slide_type": "fragment"
    }
   },
   "outputs": [
    {
     "data": {
      "text/plain": [
       "'\\ndef print_metrics(y, y_pred, title=None):\\n    mse = mean_squared_error(y, y_pred)\\n    rmse = np.sqrt(mse)\\n    r2 = r2_score(y, y_pred)\\n    if title:\\n        print(title)\\n    print(f\"MSE:{mse}, RMSE:{rmse}, R Square:{r2}\")\\n'"
      ]
     },
     "execution_count": 5,
     "metadata": {},
     "output_type": "execute_result"
    }
   ],
   "source": [
    "\"\"\"\n",
    "def print_metrics(y, y_pred, title=None):\n",
    "    mse = mean_squared_error(y, y_pred)\n",
    "    rmse = np.sqrt(mse)\n",
    "    r2 = r2_score(y, y_pred)\n",
    "    if title:\n",
    "        print(title)\n",
    "    print(f\"MSE:{mse}, RMSE:{rmse}, R Square:{r2}\")\n",
    "\"\"\""
   ]
  },
  {
   "cell_type": "code",
   "execution_count": null,
   "metadata": {},
   "outputs": [],
   "source": [
    "#순서2)\n",
    "%%writefile util.py\n",
    "#위의 코드를 실행한 다음 실행"
   ]
  },
  {
   "cell_type": "code",
   "execution_count": 43,
   "metadata": {},
   "outputs": [],
   "source": [
    "from util import print_regression_metrics as print_metrics"
   ]
  },
  {
   "cell_type": "markdown",
   "metadata": {
    "slideshow": {
     "slide_type": "fragment"
    }
   },
   "source": [
    "##### 모델 학습 및 평가"
   ]
  },
  {
   "cell_type": "code",
   "execution_count": null,
   "metadata": {},
   "outputs": [],
   "source": [
    "#util.py np에러로 이걸 쓰기로 함\n",
    "def print_metrics(y, y_pred, title=None):\n",
    "    mse = mean_squared_error(y, y_pred)\n",
    "    rmse = np.sqrt(mse)\n",
    "    r2 = r2_score(y, y_pred)\n",
    "    if title:\n",
    "        print(title)\n",
    "    print(f\"MSE:{mse}, RMSE:{rmse}, R Square:{r2}\")"
   ]
  },
  {
   "cell_type": "code",
   "execution_count": 44,
   "metadata": {
    "ExecuteTime": {
     "end_time": "2021-10-29T03:53:16.577601Z",
     "start_time": "2021-10-29T03:53:16.226304Z"
    },
    "slideshow": {
     "slide_type": "fragment"
    }
   },
   "outputs": [
    {
     "ename": "NameError",
     "evalue": "name 'X_train' is not defined",
     "output_type": "error",
     "traceback": [
      "\u001b[1;31m---------------------------------------------------------------------------\u001b[0m",
      "\u001b[1;31mNameError\u001b[0m                                 Traceback (most recent call last)",
      "\u001b[1;32m<ipython-input-44-08b592342edb>\u001b[0m in \u001b[0;36m<module>\u001b[1;34m()\u001b[0m\n\u001b[0;32m      2\u001b[0m \u001b[1;32mfor\u001b[0m \u001b[0mname\u001b[0m\u001b[1;33m,\u001b[0m \u001b[0mmodel\u001b[0m \u001b[1;32min\u001b[0m \u001b[0mestimators\u001b[0m\u001b[1;33m:\u001b[0m\u001b[1;33m\u001b[0m\u001b[0m\n\u001b[0;32m      3\u001b[0m     \u001b[1;31m#학습\u001b[0m\u001b[1;33m\u001b[0m\u001b[1;33m\u001b[0m\u001b[0m\n\u001b[1;32m----> 4\u001b[1;33m     \u001b[0mmodel\u001b[0m\u001b[1;33m.\u001b[0m\u001b[0mfit\u001b[0m\u001b[1;33m(\u001b[0m\u001b[0mX_train\u001b[0m\u001b[1;33m,\u001b[0m \u001b[0my_train\u001b[0m\u001b[1;33m)\u001b[0m\u001b[1;33m\u001b[0m\u001b[0m\n\u001b[0m\u001b[0;32m      5\u001b[0m     \u001b[1;31m#추론\u001b[0m\u001b[1;33m\u001b[0m\u001b[1;33m\u001b[0m\u001b[0m\n\u001b[0;32m      6\u001b[0m     \u001b[0mpred_train\u001b[0m \u001b[1;33m=\u001b[0m \u001b[0mmodel\u001b[0m\u001b[1;33m.\u001b[0m\u001b[0mpredict\u001b[0m\u001b[1;33m(\u001b[0m\u001b[0mX_train\u001b[0m\u001b[1;33m)\u001b[0m\u001b[1;33m\u001b[0m\u001b[0m\n",
      "\u001b[1;31mNameError\u001b[0m: name 'X_train' is not defined"
     ]
    }
   ],
   "source": [
    "for name, model in estimators:\n",
    "    #학습\n",
    "    model.fit(X_train, y_train)\n",
    "    #추론\n",
    "    pred_train = model.predict(X_train)\n",
    "    pred_test = model.predict(X_test)\n",
    "    #평가\n",
    "    print_metrics(y_train, pred_train, name+\" - Train\")\n",
    "    print_metrics(y_test, pred_test, name+\" - Test\")\n",
    "    print(\"-------------------------------------------\")\n",
    "    \n",
    "#train과 test의 rmse간 차이가 적은 것을 볼 수 있음."
   ]
  },
  {
   "cell_type": "markdown",
   "metadata": {
    "slideshow": {
     "slide_type": "slide"
    }
   },
   "source": [
    "##### Voting\n",
    "- VotingRegressor \n",
    "    - 각 모델이 예측한 값의 평균을 반환한다."
   ]
  },
  {
   "cell_type": "code",
   "execution_count": null,
   "metadata": {
    "ExecuteTime": {
     "end_time": "2021-10-29T03:53:36.995703Z",
     "start_time": "2021-10-29T03:53:36.745592Z"
    },
    "slideshow": {
     "slide_type": "fragment"
    }
   },
   "outputs": [],
   "source": [
    "knn_reg = KNeighborsRegressor(n_neighbors=3)\n",
    "tree_reg = DecisionTreeRegressor(max_depth=2)\n",
    "rf_reg = RandomForestRegressor(n_estimators=200, max_depth=2)\n",
    "gb_reg = GradientBoostingRegressor(n_estimators=200, max_depth=1)\n",
    "lr_reg = LinearRegression()\n",
    "\n",
    "estimators = [(\"knn\",knn_reg), ('random forest',rf_reg), ('Gradient Boosting', gb_reg), ('linear reg',lr_reg)]\n",
    "\n",
    "vote_reg = VotingRegressor(estimators)\n",
    "vote_reg.fit(X_train, y_train)\n",
    "pred_train = vote_reg.predict(X_train)\n",
    "pred_test = vote_reg.predict(X_test)\n",
    "\n",
    "#y예측값에 대한 평균을 기반으로 최종값 추출"
   ]
  },
  {
   "cell_type": "code",
   "execution_count": null,
   "metadata": {
    "ExecuteTime": {
     "end_time": "2021-10-29T03:53:39.689389Z",
     "start_time": "2021-10-29T03:53:39.681351Z"
    },
    "slideshow": {
     "slide_type": "fragment"
    }
   },
   "outputs": [],
   "source": [
    "print_metrics(y_train, pred_train)\n",
    "print_metrics(y_test, pred_test)"
   ]
  },
  {
   "cell_type": "markdown",
   "metadata": {
    "slideshow": {
     "slide_type": "slide"
    }
   },
   "source": [
    "##### DecisionTreeRegressor Tree 시각화"
   ]
  },
  {
   "cell_type": "code",
   "execution_count": null,
   "metadata": {
    "ExecuteTime": {
     "end_time": "2021-10-29T03:49:33.286730Z",
     "start_time": "2021-10-29T03:49:33.274525Z"
    },
    "slideshow": {
     "slide_type": "fragment"
    }
   },
   "outputs": [],
   "source": [
    "tree_reg = DecisionTreeRegressor(max_depth=2)"
   ]
  },
  {
   "cell_type": "code",
   "execution_count": null,
   "metadata": {
    "ExecuteTime": {
     "end_time": "2021-10-29T03:49:36.032344Z",
     "start_time": "2021-10-29T03:49:36.025340Z"
    },
    "slideshow": {
     "slide_type": "fragment"
    }
   },
   "outputs": [],
   "source": [
    "tree_reg.fit(X_train, y_train)"
   ]
  },
  {
   "cell_type": "code",
   "execution_count": null,
   "metadata": {
    "ExecuteTime": {
     "end_time": "2020-09-01T21:18:28.332064Z",
     "start_time": "2020-09-01T21:18:27.959030Z"
    },
    "slideshow": {
     "slide_type": "fragment"
    }
   },
   "outputs": [],
   "source": [
    "from sklearn.tree import export_graphviz\n",
    "from graphviz import Source\n",
    "from IPython.display import SVG\n",
    "graph = Source(export_graphviz(tree_reg, \n",
    "                               out_file=None,\n",
    "                               rounded=True, filled=True))\n",
    "#옛날 방식\n",
    "#display(SVG(graph.pipe(format='svg')))\n",
    "#최근방식\n",
    "graph\n",
    "\n",
    "#value는 예측결과이고 이는 samples의 평균값\n",
    "\n",
    "#DecisionTreeClassifier는 불순도가 낮아지는 쪽으로 질문 진행\n",
    "#DecisionTreeRegressor는 mse가 낮아지는 쪽으로 질문을 진행\n",
    "#Regressor는 squared_error가 0이 될때까지 진행"
   ]
  },
  {
   "cell_type": "code",
   "execution_count": null,
   "metadata": {},
   "outputs": [],
   "source": [
    "#중요도 확인\n",
    "tree_reg.feature_importances_ "
   ]
  }
 ],
 "metadata": {
  "anaconda-cloud": {},
  "kernelspec": {
   "display_name": "Python 3 (ipykernel)",
   "language": "python",
   "name": "python3"
  },
  "language_info": {
   "codemirror_mode": {
    "name": "ipython",
    "version": 3
   },
   "file_extension": ".py",
   "mimetype": "text/x-python",
   "name": "python",
   "nbconvert_exporter": "python",
   "pygments_lexer": "ipython3",
   "version": "3.9.6"
  },
  "toc": {
   "base_numbering": 1,
   "nav_menu": {},
   "number_sections": false,
   "sideBar": true,
   "skip_h1_title": false,
   "title_cell": "Table of Contents",
   "title_sidebar": "Contents",
   "toc_cell": false,
   "toc_position": {},
   "toc_section_display": true,
   "toc_window_display": false
  },
  "varInspector": {
   "cols": {
    "lenName": 16,
    "lenType": 16,
    "lenVar": 40
   },
   "kernels_config": {
    "python": {
     "delete_cmd_postfix": "",
     "delete_cmd_prefix": "del ",
     "library": "var_list.py",
     "varRefreshCmd": "print(var_dic_list())"
    },
    "r": {
     "delete_cmd_postfix": ") ",
     "delete_cmd_prefix": "rm(",
     "library": "var_list.r",
     "varRefreshCmd": "cat(var_dic_list()) "
    }
   },
   "types_to_exclude": [
    "module",
    "function",
    "builtin_function_or_method",
    "instance",
    "_Feature"
   ],
   "window_display": false
  }
 },
 "nbformat": 4,
 "nbformat_minor": 2
}
