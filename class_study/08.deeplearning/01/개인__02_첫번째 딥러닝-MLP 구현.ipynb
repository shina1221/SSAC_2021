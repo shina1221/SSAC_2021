{
 "cells": [
  {
   "cell_type": "code",
   "execution_count": 1,
   "metadata": {
    "ExecuteTime": {
     "end_time": "2021-11-29T05:17:01.300274Z",
     "start_time": "2021-11-29T05:16:58.630097Z"
    },
    "slideshow": {
     "slide_type": "skip"
    }
   },
   "outputs": [
    {
     "name": "stdout",
     "output_type": "stream",
     "text": [
      "Collecting pydot\n",
      "  Downloading pydot-1.4.2-py2.py3-none-any.whl (21 kB)\n",
      "Collecting pydotplus\n",
      "  Downloading pydotplus-2.0.2.tar.gz (278 kB)\n",
      "Requirement already satisfied: graphviz in d:\\program_files\\anaconda3\\lib\\site-packages (0.16)\n",
      "Requirement already satisfied: pyparsing>=2.1.4 in d:\\program_files\\anaconda3\\lib\\site-packages (from pydot) (3.0.4)\n",
      "Building wheels for collected packages: pydotplus\n",
      "  Building wheel for pydotplus (setup.py): started\n",
      "  Building wheel for pydotplus (setup.py): finished with status 'done'\n",
      "  Created wheel for pydotplus: filename=pydotplus-2.0.2-py3-none-any.whl size=24575 sha256=e9fa9a41166ee927b28321607e48b6cce97c8a60897da876f6c98f13d2ac39ed\n",
      "  Stored in directory: c:\\users\\zuho0\\appdata\\local\\pip\\cache\\wheels\\89\\e5\\de\\6966007cf223872eedfbebbe0e074534e72e9128c8fd4b55eb\n",
      "Successfully built pydotplus\n",
      "Installing collected packages: pydotplus, pydot\n",
      "Successfully installed pydot-1.4.2 pydotplus-2.0.2\n"
     ]
    }
   ],
   "source": [
    "#!pip install pydot pydotplus graphviz\n",
    "# 설치후 jupyter notebook 은 껐다 켜야 한다."
   ]
  },
  {
   "cell_type": "markdown",
   "metadata": {
    "slideshow": {
     "slide_type": "slide"
    }
   },
   "source": [
    "# Keras 개발 Process"
   ]
  },
  {
   "cell_type": "markdown",
   "metadata": {
    "slideshow": {
     "slide_type": "fragment"
    }
   },
   "source": [
    "1. 입력 텐서(X)와 출력 텐서(y)로 이뤄진 **훈련 데이터를 정의**"
   ]
  },
  {
   "cell_type": "markdown",
   "metadata": {
    "slideshow": {
     "slide_type": "fragment"
    }
   },
   "source": [
    "2. 입력과 출력을 연결하는 Layer(층)으로 이뤄진 **네트워크(모델)을 정의**\n",
    "    - Sequential 방식: 순서대로 쌓아올린 네트워크로 이뤄진 모델을 생성하는 방식\n",
    "    - Functional API 방식: 다양한 구조의 네트워크로 이뤄진 모델을 생성하는 방식\n",
    "    - Subclass 방식: 네트워크를 정의하는 클래스를 구현.\n",
    "    "
   ]
  },
  {
   "cell_type": "code",
   "execution_count": null,
   "metadata": {},
   "outputs": [],
   "source": [
    "\"\"\"\n",
    "sequential방식은 단순한 모델을 쉽게 만들 수 있는데\n",
    "Functional API는 복잡한 모델을 만드는데 용이\n",
    "\n",
    "네트워크를 정의 한다는 것은 구조를 정의한다는 것\n",
    "\n",
    "컴파일을 하면서 구조안에 필요한 요소들을 넣게됨\n",
    "\"\"\""
   ]
  },
  {
   "cell_type": "markdown",
   "metadata": {
    "slideshow": {
     "slide_type": "fragment"
    }
   },
   "source": [
    "3. **모델 Compile(컴파일)**\n",
    "    - 모델이 Train(학습)할때 사용할 손실함수(Loss Function), 최적화기법(Optimizer), 학습과정을 모니터링할 평가지표(Metrics)를 설정\n",
    "    \n",
    "    > Compile: 실행할 수 있는 상태로 만들어 주는 것."
   ]
  },
  {
   "cell_type": "markdown",
   "metadata": {
    "slideshow": {
     "slide_type": "fragment"
    }
   },
   "source": [
    "4. **Training(학습/훈련)**\n",
    "    - Train dataset을 이용해 모델을 Train 시킨다."
   ]
  },
  {
   "cell_type": "markdown",
   "metadata": {
    "slideshow": {
     "slide_type": "slide"
    }
   },
   "source": [
    "# MNIST 이미지 분류 \n",
    "- ### [MNIST](https://ko.wikipedia.org/wiki/MNIST_%EB%8D%B0%EC%9D%B4%ED%84%B0%EB%B2%A0%EC%9D%B4%EC%8A%A4)(Modified National Institute of Standards and Technology) database\n",
    "- 흑백 손글씨 숫자 0-9까지 10개의 범주로 구분해놓은 데이터셋\n",
    "- 하나의 이미지는 28 * 28 pixel 의 크기\n",
    "- 6만개의 Train 이미지와 1만개의 Test 이미지로 구성됨."
   ]
  },
  {
   "cell_type": "markdown",
   "metadata": {},
   "source": [
    "##### import"
   ]
  },
  {
   "cell_type": "code",
   "execution_count": 1,
   "metadata": {
    "ExecuteTime": {
     "end_time": "2021-11-29T05:37:44.356324Z",
     "start_time": "2021-11-29T05:37:38.044085Z"
    },
    "slideshow": {
     "slide_type": "slide"
    }
   },
   "outputs": [],
   "source": [
    "import numpy as np\n",
    "import tensorflow as tf\n",
    "from tensorflow import keras"
   ]
  },
  {
   "cell_type": "markdown",
   "metadata": {
    "ExecuteTime": {
     "end_time": "2021-08-30T05:02:52.852140Z",
     "start_time": "2021-08-30T05:02:52.563117Z"
    },
    "slideshow": {
     "slide_type": "slide"
    }
   },
   "source": [
    "##### MNIST dataset Loading"
   ]
  },
  {
   "cell_type": "code",
   "execution_count": 2,
   "metadata": {
    "ExecuteTime": {
     "end_time": "2021-11-29T05:39:00.543144Z",
     "start_time": "2021-11-29T05:38:59.089597Z"
    },
    "slideshow": {
     "slide_type": "fragment"
    }
   },
   "outputs": [
    {
     "name": "stdout",
     "output_type": "stream",
     "text": [
      "Downloading data from https://storage.googleapis.com/tensorflow/tf-keras-datasets/mnist.npz\n",
      "11493376/11490434 [==============================] - 1s 0us/step\n",
      "11501568/11490434 [==============================] - 1s 0us/step\n"
     ]
    }
   ],
   "source": [
    "(train_image, train_label), (test_image, test_label) = keras.datasets.mnist.load_data()"
   ]
  },
  {
   "cell_type": "code",
   "execution_count": 6,
   "metadata": {
    "ExecuteTime": {
     "end_time": "2021-11-29T05:39:14.096741Z",
     "start_time": "2021-11-29T05:39:14.090742Z"
    },
    "slideshow": {
     "slide_type": "fragment"
    }
   },
   "outputs": [
    {
     "name": "stdout",
     "output_type": "stream",
     "text": [
      "(60000, 28, 28) (10000, 28, 28)\n"
     ]
    }
   ],
   "source": [
    "print(train_image.shape, test_image.shape)\n",
    "#(데이터 수,높이,너비)"
   ]
  },
  {
   "cell_type": "code",
   "execution_count": 7,
   "metadata": {
    "ExecuteTime": {
     "end_time": "2021-11-29T05:39:18.041630Z",
     "start_time": "2021-11-29T05:39:18.032613Z"
    },
    "slideshow": {
     "slide_type": "fragment"
    }
   },
   "outputs": [
    {
     "name": "stdout",
     "output_type": "stream",
     "text": [
      "(60000,) (10000,)\n"
     ]
    }
   ],
   "source": [
    "print(train_label.shape, test_label.shape)\n",
    "#정답(Ground Truth, Label)"
   ]
  },
  {
   "cell_type": "code",
   "execution_count": 8,
   "metadata": {
    "ExecuteTime": {
     "end_time": "2021-11-29T05:39:18.928173Z",
     "start_time": "2021-11-29T05:39:18.486793Z"
    },
    "slideshow": {
     "slide_type": "slide"
    }
   },
   "outputs": [
    {
     "data": {
      "image/png": "[encoded data removed]",
      "text/plain": [
       "<Figure size 1080x360 with 10 Axes>"
      ]
     },
     "metadata": {
      "needs_background": "light"
     },
     "output_type": "display_data"
    }
   ],
   "source": [
    "import matplotlib.pyplot as plt\n",
    "plt.figure(figsize=(15, 5))\n",
    "\n",
    "N = 10\n",
    "for i in range(N):\n",
    "    plt.subplot(2, int(N/2), i+1)\n",
    "    plt.imshow(train_image[i], cmap='gray')\n",
    "    plt.title(str(train_label[i]), fontsize=20) #title을 label로 정의\n",
    "    plt.axis('off')# thick 나오는 외곽선 제거\n",
    "    \n",
    "plt.tight_layout()\n",
    "plt.show()    "
   ]
  },
  {
   "cell_type": "markdown",
   "metadata": {
    "slideshow": {
     "slide_type": "slide"
    }
   },
   "source": [
    "## 네트워크(모델) 구현\n",
    "- Network : 전체 모델 구조"
   ]
  },
  {
   "cell_type": "code",
   "execution_count": 9,
   "metadata": {
    "ExecuteTime": {
     "end_time": "2021-11-29T05:39:21.941299Z",
     "start_time": "2021-11-29T05:39:21.720510Z"
    },
    "slideshow": {
     "slide_type": "fragment"
    }
   },
   "outputs": [],
   "source": [
    "model = keras.Sequential()\n",
    "\n",
    "#입력layer - 입력데이터의 shape 지정\n",
    "#=28x28 데이터를 받을 것이다\n",
    "model.add(keras.layers.InputLayer((28,28))) \n",
    "\n",
    "#N차원으로 받은 배열(텐서)을 1차원 배열로 변환\n",
    "model.add(keras.layers.Flatten())  \n",
    "\n",
    "#특성 추출기(feature Extractor)\n",
    "#아래의 두 줄이 특성 추출기\n",
    "model.add(keras.layers.Dense(256, activation='relu')) #시그모이드 대신 들어간다고 생각하면 됨 sig(x*w+b) 이런 알고리즘이 256개\n",
    "model.add(keras.layers.Dense(128, activation='relu'))\n",
    "#256, 128 -> unit(Node, Neuron)의 개수 -1개 unit은 logisticRegression 모델 한개와 같음\n",
    "#256, 128(노드, 유닛의 개수로 각 하나는 로지스틱 리그레션모델과 같음)은 \n",
    "#특성을 추출해 주는 것들이 256개가 있다는 의미, 128또한 동일\n",
    "\n",
    "#출력 레이어\n",
    "#unit 수:10개 -출력 결과 개수와 동일 0~9일 확률\n",
    "#출력(분류기)\n",
    "model.add(keras.layers.Dense(10, activation='softmax'))\n",
    "\n",
    "#dense:밀집한"
   ]
  },
  {
   "cell_type": "code",
   "execution_count": null,
   "metadata": {},
   "outputs": [],
   "source": [
    "#이렇게 해도 됨\n",
    "#layer 생성시 바로 받음\n",
    "model = keras.Sequential([\n",
    "    keras.layers.InputLayer((28,28)),\n",
    "    keras.layers.Flatten(),\n",
    "    keras.layers.Dense(256, activation='relu'),\n",
    "    keras.layers.Dense(128, activation='relu'),\n",
    "    keras.layser.Dense(10, activation='sotfmax')\n",
    "])"
   ]
  },
  {
   "cell_type": "code",
   "execution_count": 10,
   "metadata": {
    "ExecuteTime": {
     "end_time": "2021-11-29T05:39:22.001440Z",
     "start_time": "2021-11-29T05:39:21.987440Z"
    },
    "slideshow": {
     "slide_type": "fragment"
    }
   },
   "outputs": [
    {
     "name": "stdout",
     "output_type": "stream",
     "text": [
      "Model: \"sequential\"\n",
      "_________________________________________________________________\n",
      " Layer (type)                Output Shape              Param #   \n",
      "=================================================================\n",
      " flatten (Flatten)           (None, 784)               0         \n",
      "                                                                 \n",
      " dense (Dense)               (None, 256)               200960    \n",
      "                                                                 \n",
      " dense_1 (Dense)             (None, 128)               32896     \n",
      "                                                                 \n",
      " dense_2 (Dense)             (None, 10)                1290      \n",
      "                                                                 \n",
      "=================================================================\n",
      "Total params: 235,146\n",
      "Trainable params: 235,146\n",
      "Non-trainable params: 0\n",
      "_________________________________________________________________\n"
     ]
    }
   ],
   "source": [
    "model.summary() \n",
    "#None은 갯수는 모르겠다고 표시한거임.\n",
    "#output shape: 각 layer(층)의 출력 (배열) 형태 (None, 784) \n",
    "#None: 데이터개수(안정해짐), 784: 데이터 1개가 784개 원소인 1차원 배열\n",
    "\n",
    "#param : 학습시킬 파라미터(weight, bias)의 개수\n",
    "\n",
    "#total_params:23만 5개 있다는 의미"
   ]
  },
  {
   "cell_type": "code",
   "execution_count": 30,
   "metadata": {
    "ExecuteTime": {
     "end_time": "2021-11-29T06:41:04.223549Z",
     "start_time": "2021-11-29T06:41:04.086524Z"
    },
    "slideshow": {
     "slide_type": "fragment"
    }
   },
   "outputs": [
    {
     "data": {
      "image/png": "[encoded data removed]",
      "text/plain": [
       "<IPython.core.display.Image object>"
      ]
     },
     "execution_count": 30,
     "metadata": {},
     "output_type": "execute_result"
    }
   ],
   "source": [
    "from tensorflow.keras.utils import plot_model\n",
    "#plot_model(model)\n",
    "plot_model(model, to_file='model_shapes.png', show_shapes=True)"
   ]
  },
  {
   "cell_type": "markdown",
   "metadata": {
    "slideshow": {
     "slide_type": "slide"
    }
   },
   "source": [
    "## 컴파일 단계\n",
    "- 정의된 네트워크 모델에 학습을 위한 추가 설정을 한다.\n",
    "    - Optimizer\n",
    "    - 손실함수\n",
    "    - 평가지표"
   ]
  },
  {
   "cell_type": "code",
   "execution_count": 12,
   "metadata": {
    "ExecuteTime": {
     "end_time": "2021-11-29T06:29:44.302267Z",
     "start_time": "2021-11-29T06:29:44.281267Z"
    },
    "slideshow": {
     "slide_type": "fragment"
    }
   },
   "outputs": [],
   "source": [
    "model.compile(optimizer='adam',  #최적화 방법(parameter 업데이트) #y와 y_hat의 오차를 줄이는 과정\n",
    "              loss='categorical_crossentropy',  #손실함수 정의-오차 구하는 함수 #다중분류에 categorical\n",
    "              metrics=['accuracy']) #학습도중 출력할 평가지표 지정(loss, 지정한 평가지표)"
   ]
  },
  {
   "cell_type": "markdown",
   "metadata": {
    "slideshow": {
     "slide_type": "slide"
    }
   },
   "source": [
    "## 데이터 준비\n",
    "- X (Input Data Image)\n",
    "    - 0 ~ 1 사이의 값으로 정규화 시킨다.\n",
    "- y (Output Data)\n",
    "    - one hot encoding 처리\n",
    "        - Label이 다중분류(Multi class classification)일 경우 One Hot Encoding 한다.\n",
    "    - Keras의 onehot encoding 처리 함수\n",
    "        - tensorflow.keras.utils.to_categorical()"
   ]
  },
  {
   "cell_type": "code",
   "execution_count": 13,
   "metadata": {
    "ExecuteTime": {
     "end_time": "2021-11-29T06:29:45.445000Z",
     "start_time": "2021-11-29T06:29:45.369480Z"
    },
    "slideshow": {
     "slide_type": "fragment"
    }
   },
   "outputs": [
    {
     "name": "stdout",
     "output_type": "stream",
     "text": [
      "0, 255, uint8\n"
     ]
    }
   ],
   "source": [
    "print(np.min(train_image), np.max(train_image), train_image.dtype, sep=', ')"
   ]
  },
  {
   "cell_type": "markdown",
   "metadata": {
    "ExecuteTime": {
     "end_time": "2021-08-30T05:07:46.170159Z",
     "start_time": "2021-08-30T05:07:45.800170Z"
    },
    "slideshow": {
     "slide_type": "fragment"
    }
   },
   "source": [
    "##### input image(X)를 정규화. \n",
    "- 이미지를 0 ~ 1 로 정규화 하고 타입을 float32로 변환"
   ]
  },
  {
   "cell_type": "code",
   "execution_count": 14,
   "metadata": {
    "ExecuteTime": {
     "end_time": "2021-11-29T06:29:46.137048Z",
     "start_time": "2021-11-29T06:29:46.000049Z"
    },
    "slideshow": {
     "slide_type": "fragment"
    }
   },
   "outputs": [],
   "source": [
    "####!!!!!!!!\n",
    "X_train = (train_image/255.0).astype(np.float32)\n",
    "X_test = (test_image/255.).astype(np.float32)"
   ]
  },
  {
   "cell_type": "code",
   "execution_count": 15,
   "metadata": {
    "ExecuteTime": {
     "end_time": "2021-11-29T06:29:46.197048Z",
     "start_time": "2021-11-29T06:29:46.183050Z"
    },
    "slideshow": {
     "slide_type": "fragment"
    }
   },
   "outputs": [
    {
     "name": "stdout",
     "output_type": "stream",
     "text": [
      "0.0, 1.0, float32\n"
     ]
    }
   ],
   "source": [
    "print(np.min(X_train), np.max(X_test), X_train.dtype, sep=', ')"
   ]
  },
  {
   "cell_type": "markdown",
   "metadata": {
    "ExecuteTime": {
     "end_time": "2021-08-30T05:08:02.687904Z",
     "start_time": "2021-08-30T05:08:02.678864Z"
    },
    "slideshow": {
     "slide_type": "slide"
    }
   },
   "source": [
    "##### label(y)를 one hot encoding"
   ]
  },
  {
   "cell_type": "code",
   "execution_count": 16,
   "metadata": {
    "ExecuteTime": {
     "end_time": "2021-11-29T06:29:46.528243Z",
     "start_time": "2021-11-29T06:29:46.509244Z"
    },
    "slideshow": {
     "slide_type": "fragment"
    }
   },
   "outputs": [
    {
     "name": "stdout",
     "output_type": "stream",
     "text": [
      "(60000,) (10000,)\n"
     ]
    },
    {
     "data": {
      "text/plain": [
       "array([5, 0, 4, 1, 9], dtype=uint8)"
      ]
     },
     "execution_count": 16,
     "metadata": {},
     "output_type": "execute_result"
    }
   ],
   "source": [
    "print(train_label.shape, test_label.shape)\n",
    "train_label[:5]"
   ]
  },
  {
   "cell_type": "code",
   "execution_count": 17,
   "metadata": {
    "ExecuteTime": {
     "end_time": "2021-11-29T06:29:46.693672Z",
     "start_time": "2021-11-29T06:29:46.676672Z"
    },
    "slideshow": {
     "slide_type": "fragment"
    }
   },
   "outputs": [],
   "source": [
    "#원핫인코딩\n",
    "y_train = keras.utils.to_categorical(train_label)\n",
    "y_test = keras.utils.to_categorical(test_label)"
   ]
  },
  {
   "cell_type": "code",
   "execution_count": 18,
   "metadata": {
    "ExecuteTime": {
     "end_time": "2021-11-29T06:29:46.858209Z",
     "start_time": "2021-11-29T06:29:46.844210Z"
    },
    "slideshow": {
     "slide_type": "fragment"
    }
   },
   "outputs": [
    {
     "data": {
      "text/plain": [
       "array([[0., 0., 0., 0., 0., 1., 0., 0., 0., 0.],\n",
       "       [1., 0., 0., 0., 0., 0., 0., 0., 0., 0.],\n",
       "       [0., 0., 0., 0., 1., 0., 0., 0., 0., 0.],\n",
       "       [0., 1., 0., 0., 0., 0., 0., 0., 0., 0.],\n",
       "       [0., 0., 0., 0., 0., 0., 0., 0., 0., 1.]], dtype=float32)"
      ]
     },
     "execution_count": 18,
     "metadata": {},
     "output_type": "execute_result"
    }
   ],
   "source": [
    "y_train[:5]"
   ]
  },
  {
   "cell_type": "code",
   "execution_count": 19,
   "metadata": {
    "ExecuteTime": {
     "end_time": "2021-11-29T06:29:47.008437Z",
     "start_time": "2021-11-29T06:29:47.006437Z"
    },
    "slideshow": {
     "slide_type": "fragment"
    }
   },
   "outputs": [
    {
     "name": "stdout",
     "output_type": "stream",
     "text": [
      "(60000, 10) (10000, 10)\n"
     ]
    }
   ],
   "source": [
    "print(y_train.shape, y_test.shape)"
   ]
  },
  {
   "cell_type": "markdown",
   "metadata": {
    "slideshow": {
     "slide_type": "slide"
    }
   },
   "source": [
    "## 학습 (fit)\n",
    "- model.fit()\n",
    "    - 모델 학습 메소드. \n",
    "    - 학습과정의 Log를 History 객체로 반환한다.\n",
    "- History : train 시 에폭별 평가지표값들을 모아서 제공.    "
   ]
  },
  {
   "cell_type": "code",
   "execution_count": 31,
   "metadata": {
    "ExecuteTime": {
     "end_time": "2021-11-29T07:33:06.202015Z",
     "start_time": "2021-11-29T07:32:59.534328Z"
    },
    "scrolled": true,
    "slideshow": {
     "slide_type": "fragment"
    }
   },
   "outputs": [
    {
     "name": "stdout",
     "output_type": "stream",
     "text": [
      "Epoch 1/10\n",
      "420/420 [==============================] - 1s 2ms/step - loss: 0.0133 - accuracy: 0.9954 - val_loss: 0.1215 - val_accuracy: 0.9720\n",
      "Epoch 2/10\n",
      "420/420 [==============================] - 1s 2ms/step - loss: 0.0124 - accuracy: 0.9960 - val_loss: 0.1357 - val_accuracy: 0.9717\n",
      "Epoch 3/10\n",
      "420/420 [==============================] - 1s 2ms/step - loss: 0.0103 - accuracy: 0.9966 - val_loss: 0.1301 - val_accuracy: 0.9727\n",
      "Epoch 4/10\n",
      "420/420 [==============================] - 1s 2ms/step - loss: 0.0090 - accuracy: 0.9970 - val_loss: 0.1146 - val_accuracy: 0.9756\n",
      "Epoch 5/10\n",
      "420/420 [==============================] - 1s 2ms/step - loss: 0.0089 - accuracy: 0.9970 - val_loss: 0.1271 - val_accuracy: 0.9729\n",
      "Epoch 6/10\n",
      "420/420 [==============================] - 1s 2ms/step - loss: 0.0085 - accuracy: 0.9970 - val_loss: 0.1227 - val_accuracy: 0.9757\n",
      "Epoch 7/10\n",
      "420/420 [==============================] - 1s 2ms/step - loss: 0.0083 - accuracy: 0.9972 - val_loss: 0.1351 - val_accuracy: 0.9733\n",
      "Epoch 8/10\n",
      "420/420 [==============================] - 1s 2ms/step - loss: 0.0068 - accuracy: 0.9977 - val_loss: 0.1330 - val_accuracy: 0.9750\n",
      "Epoch 9/10\n",
      "420/420 [==============================] - 1s 2ms/step - loss: 0.0044 - accuracy: 0.9987 - val_loss: 0.1157 - val_accuracy: 0.9792\n",
      "Epoch 10/10\n",
      "420/420 [==============================] - 1s 2ms/step - loss: 0.0056 - accuracy: 0.9982 - val_loss: 0.1571 - val_accuracy: 0.9723\n"
     ]
    }
   ],
   "source": [
    "#epoch : Train dataset 전체를 한번 학습\n",
    "#step : 1번 최적화\n",
    "#총 step 수 : 데이터크기/batch_size*에폭수\n",
    "hist = model.fit(X_train, y_train, \n",
    "                  epochs=10, #Epoch 수 \n",
    "                  batch_size=100, #최적화 단위, batch_size 만큼의 데이터를 학습한 뒤 최적화 \n",
    "                 #6만건의 데이터 100 배치사이즈 600번 최적화\n",
    "                  validation_split=0.3 #train셋을 검증 데이터셋으로 나눌 비율\n",
    "                 )\n"
   ]
  },
  {
   "cell_type": "code",
   "execution_count": null,
   "metadata": {},
   "outputs": [],
   "source": [
    "#                                             걸린시간    \n",
    "\n",
    "#420/420 [==============================] - 1s 2ms/step - loss: 0.2971 - accuracy: 0.9136 - val_loss: 0.1515 - val_accuracy: 0.9553\n",
    "\n",
    "#trainset : loss, accuracy, validation,:val_loss, val_accuracy\n",
    "\n",
    "\"\"\"\n",
    "손실 함수는 데이터를 토대로 산출한 모델의 예측 값과 실제 값과의 차이를 표현하는 지표입니다. \n",
    "조금 더 쉽게 설명하면, 손실 함수는 모델 성능의 '나쁨'을 나타내는 지표로, \n",
    "“현재의 모델이 데이터를 얼마나 잘 처리하지 못하느냐”를 나타내는 지표라고 할 수 있습니다.\n",
    "\"\"\""
   ]
  },
  {
   "cell_type": "markdown",
   "metadata": {
    "slideshow": {
     "slide_type": "slide"
    }
   },
   "source": [
    "##### History 시각화"
   ]
  },
  {
   "cell_type": "code",
   "execution_count": 21,
   "metadata": {
    "ExecuteTime": {
     "end_time": "2021-11-29T06:29:54.374196Z",
     "start_time": "2021-11-29T06:29:54.225187Z"
    },
    "slideshow": {
     "slide_type": "fragment"
    }
   },
   "outputs": [
    {
     "data": {
      "image/png": "[encoded data removed]",
      "text/plain": [
       "<Figure size 504x720 with 2 Axes>"
      ]
     },
     "metadata": {
      "needs_background": "light"
     },
     "output_type": "display_data"
    }
   ],
   "source": [
    "import matplotlib.pyplot as plt\n",
    "plt.figure(figsize=(7,10))\n",
    "\n",
    "plt.subplot(2,1,1)\n",
    "plt.plot(range(1,11), hist.history['loss'], label='Train Loss')\n",
    "plt.plot(range(1,11), hist.history['val_loss'], label=\"Validation Loss\")\n",
    "plt.title(\"Loss per Epoch\", fontsize=20)\n",
    "plt.legend()\n",
    "\n",
    "plt.subplot(2,1,2)\n",
    "plt.plot(range(1,11), hist.history['accuracy'], label='Train Accuracy')\n",
    "plt.plot(range(1,11), hist.history['val_accuracy'], label='Validation Accuracy')\n",
    "plt.title(\"Accuracy per Epoch\", fontsize=20)\n",
    "\n",
    "plt.legend()\n",
    "plt.tight_layout()\n",
    "plt.show()\n",
    "\n",
    "#에폭이 진행되면 validation의 성능은 좋아지다가 어느 순간부터 정체 또는 나빠진다.\n",
    "#이 때가 overfitting이 발생했다고 볼 수 있다."
   ]
  },
  {
   "cell_type": "markdown",
   "metadata": {
    "slideshow": {
     "slide_type": "slide"
    }
   },
   "source": [
    "## 테스트셋 평가"
   ]
  },
  {
   "cell_type": "code",
   "execution_count": 22,
   "metadata": {
    "ExecuteTime": {
     "end_time": "2021-11-29T06:29:54.734196Z",
     "start_time": "2021-11-29T06:29:54.420197Z"
    },
    "slideshow": {
     "slide_type": "fragment"
    }
   },
   "outputs": [
    {
     "name": "stdout",
     "output_type": "stream",
     "text": [
      "313/313 [==============================] - 0s 744us/step - loss: 0.1046 - accuracy: 0.9767\n"
     ]
    }
   ],
   "source": [
    "#model.evaluate() : 평가 함수\n",
    "#loss와 컴파일시 지정한 metrics 값을 출력\n",
    "\n",
    "test_loss, test_acc = model.evaluate(X_test, y_test)"
   ]
  },
  {
   "cell_type": "code",
   "execution_count": 23,
   "metadata": {
    "ExecuteTime": {
     "end_time": "2021-11-29T06:29:54.794226Z",
     "start_time": "2021-11-29T06:29:54.780212Z"
    },
    "slideshow": {
     "slide_type": "fragment"
    }
   },
   "outputs": [
    {
     "name": "stdout",
     "output_type": "stream",
     "text": [
      "0.10462658852338791 0.9767000079154968\n"
     ]
    }
   ],
   "source": [
    "print(test_loss, test_acc)"
   ]
  },
  {
   "cell_type": "markdown",
   "metadata": {
    "slideshow": {
     "slide_type": "slide"
    }
   },
   "source": [
    "## 새로운 데이터 추론\n",
    "- 새로운 데이터를 추론하기 전에 학습데이터에 했던 전처리과정을 동일하게 적용 한 뒤 추론한다."
   ]
  },
  {
   "cell_type": "markdown",
   "metadata": {
    "slideshow": {
     "slide_type": "fragment"
    }
   },
   "source": [
    "### 추론 메소드\n",
    "- predict()\n",
    "    - **분류:** 각 클래스 별 확률 반환\n",
    "    - **회귀:** 최종 예측 결과\n",
    "- <del>predict_classes()</del>\n",
    "    - 분류 문제에서 클래스(범주값) 반환\n",
    "    - tensorflow 2.3 부터 deprecated되고 2.6버전에서 제거됨.\n",
    "- 이진 분류(binary classification)\n",
    "    - `numpy.where(model.predict(x) > 0.5, 1, 0).astype(\"int32\")`\n",
    "- 다중클래스 분류(multi-class classification)\n",
    "    - `numpy.argmax(model.predict(x), axis=1)`"
   ]
  },
  {
   "cell_type": "code",
   "execution_count": 24,
   "metadata": {
    "ExecuteTime": {
     "end_time": "2021-11-29T06:29:54.854237Z",
     "start_time": "2021-11-29T06:29:54.840237Z"
    },
    "slideshow": {
     "slide_type": "slide"
    }
   },
   "outputs": [
    {
     "data": {
      "text/plain": [
       "(5, 28, 28)"
      ]
     },
     "execution_count": 24,
     "metadata": {},
     "output_type": "execute_result"
    }
   ],
   "source": [
    "new_image = X_test[:5] #이미 0~1로 정규화 된 X.\n",
    "new_image.shape"
   ]
  },
  {
   "cell_type": "code",
   "execution_count": 25,
   "metadata": {
    "ExecuteTime": {
     "end_time": "2021-11-29T06:29:54.974122Z",
     "start_time": "2021-11-29T06:29:54.900123Z"
    },
    "slideshow": {
     "slide_type": "fragment"
    }
   },
   "outputs": [
    {
     "data": {
      "text/plain": [
       "(5, 10)"
      ]
     },
     "execution_count": 25,
     "metadata": {},
     "output_type": "execute_result"
    }
   ],
   "source": [
    "result = model.predict(new_image)\n",
    "result.shape  #0일확률 ~1일 확률 5개"
   ]
  },
  {
   "cell_type": "code",
   "execution_count": 26,
   "metadata": {
    "ExecuteTime": {
     "end_time": "2021-11-29T06:29:55.034136Z",
     "start_time": "2021-11-29T06:29:55.020122Z"
    },
    "slideshow": {
     "slide_type": "fragment"
    }
   },
   "outputs": [
    {
     "data": {
      "text/plain": [
       "array([9.9263008e-11, 4.8166502e-09, 1.5955240e-07, 2.9939895e-06,\n",
       "       9.0608978e-16, 8.7869626e-13, 1.1314517e-15, 9.9999690e-01,\n",
       "       2.5819943e-10, 8.3339415e-09], dtype=float32)"
      ]
     },
     "execution_count": 26,
     "metadata": {},
     "output_type": "execute_result"
    }
   ],
   "source": [
    "result[0]"
   ]
  },
  {
   "cell_type": "code",
   "execution_count": 27,
   "metadata": {
    "ExecuteTime": {
     "end_time": "2021-11-29T06:29:55.094150Z",
     "start_time": "2021-11-29T06:29:55.079151Z"
    },
    "slideshow": {
     "slide_type": "fragment"
    }
   },
   "outputs": [],
   "source": [
    "result_label = np.argmax(result, axis=-1) #np.argmax 값을 통해서 가장 큰 값을 추출"
   ]
  },
  {
   "cell_type": "code",
   "execution_count": 28,
   "metadata": {
    "ExecuteTime": {
     "end_time": "2021-11-29T06:29:55.154186Z",
     "start_time": "2021-11-29T06:29:55.140169Z"
    },
    "slideshow": {
     "slide_type": "fragment"
    }
   },
   "outputs": [
    {
     "data": {
      "text/plain": [
       "array([7, 2, 1, 0, 4], dtype=int64)"
      ]
     },
     "execution_count": 28,
     "metadata": {},
     "output_type": "execute_result"
    }
   ],
   "source": [
    "result_label"
   ]
  },
  {
   "cell_type": "code",
   "execution_count": null,
   "metadata": {},
   "outputs": [],
   "source": [
    "#정답셋과 비교해봤을 때 전부 맞춘것을 확인\n",
    "test_label[:5]"
   ]
  }
 ],
 "metadata": {
  "kernelspec": {
   "display_name": "Python 3 (ipykernel)",
   "language": "python",
   "name": "python3"
  },
  "language_info": {
   "codemirror_mode": {
    "name": "ipython",
    "version": 3
   },
   "file_extension": ".py",
   "mimetype": "text/x-python",
   "name": "python",
   "nbconvert_exporter": "python",
   "pygments_lexer": "ipython3",
   "version": "3.9.7"
  },
  "toc": {
   "base_numbering": 1,
   "nav_menu": {},
   "number_sections": false,
   "sideBar": true,
   "skip_h1_title": false,
   "title_cell": "Table of Contents",
   "title_sidebar": "Contents",
   "toc_cell": false,
   "toc_position": {},
   "toc_section_display": true,
   "toc_window_display": false
  },
  "varInspector": {
   "cols": {
    "lenName": 16,
    "lenType": 16,
    "lenVar": 40
   },
   "kernels_config": {
    "python": {
     "delete_cmd_postfix": "",
     "delete_cmd_prefix": "del ",
     "library": "var_list.py",
     "varRefreshCmd": "print(var_dic_list())"
    },
    "r": {
     "delete_cmd_postfix": ") ",
     "delete_cmd_prefix": "rm(",
     "library": "var_list.r",
     "varRefreshCmd": "cat(var_dic_list()) "
    }
   },
   "types_to_exclude": [
    "module",
    "function",
    "builtin_function_or_method",
    "instance",
    "_Feature"
   ],
   "window_display": false
  }
 },
 "nbformat": 4,
 "nbformat_minor": 2
}
