{
 "cells": [
  {
   "cell_type": "code",
   "execution_count": 1,
   "id": "4866f080",
   "metadata": {
    "ExecuteTime": {
     "end_time": "2021-12-01T05:18:45.816481Z",
     "start_time": "2021-12-01T05:18:39.326964Z"
    }
   },
   "outputs": [],
   "source": [
    "import tensorflow as tf\n",
    "import numpy as np"
   ]
  },
  {
   "cell_type": "code",
   "execution_count": 3,
   "id": "67fe19a8",
   "metadata": {
    "ExecuteTime": {
     "end_time": "2021-12-01T05:19:06.214188Z",
     "start_time": "2021-12-01T05:19:06.194190Z"
    }
   },
   "outputs": [
    {
     "data": {
      "text/plain": [
       "<tf.Tensor: shape=(3,), dtype=float32, numpy=array([1., 2., 3.], dtype=float32)>"
      ]
     },
     "execution_count": 3,
     "metadata": {},
     "output_type": "execute_result"
    }
   ],
   "source": [
    "t = tf.constant([1,2,3], dtype='float32')\n",
    "t"
   ]
  },
  {
   "cell_type": "code",
   "execution_count": 5,
   "id": "6747565d",
   "metadata": {
    "ExecuteTime": {
     "end_time": "2021-12-01T05:19:33.473417Z",
     "start_time": "2021-12-01T05:19:33.463374Z"
    }
   },
   "outputs": [
    {
     "data": {
      "text/plain": [
       "array([1., 2., 3.], dtype=float32)"
      ]
     },
     "execution_count": 5,
     "metadata": {},
     "output_type": "execute_result"
    }
   ],
   "source": [
    "a=t.numpy()\n",
    "a"
   ]
  },
  {
   "cell_type": "code",
   "execution_count": 6,
   "id": "82c0136e",
   "metadata": {
    "ExecuteTime": {
     "end_time": "2021-12-01T05:19:49.699880Z",
     "start_time": "2021-12-01T05:19:49.690572Z"
    }
   },
   "outputs": [
    {
     "data": {
      "text/plain": [
       "<tf.Tensor: shape=(3,), dtype=float32, numpy=array([1., 2., 3.], dtype=float32)>"
      ]
     },
     "execution_count": 6,
     "metadata": {},
     "output_type": "execute_result"
    }
   ],
   "source": [
    "t2= tf.constant(a)\n",
    "t2"
   ]
  },
  {
   "cell_type": "code",
   "execution_count": 7,
   "id": "eeb55fc7",
   "metadata": {
    "ExecuteTime": {
     "end_time": "2021-12-01T05:20:12.687324Z",
     "start_time": "2021-12-01T05:20:12.680324Z"
    },
    "scrolled": true
   },
   "outputs": [
    {
     "data": {
      "text/plain": [
       "<tf.Tensor: shape=(3,), dtype=float32, numpy=array([1., 2., 3.], dtype=float32)>"
      ]
     },
     "execution_count": 7,
     "metadata": {},
     "output_type": "execute_result"
    }
   ],
   "source": [
    "t3 = tf.convert_to_tensor(a)\n",
    "t3"
   ]
  },
  {
   "cell_type": "code",
   "execution_count": 8,
   "id": "b2a91d60",
   "metadata": {
    "ExecuteTime": {
     "end_time": "2021-12-01T05:20:43.660973Z",
     "start_time": "2021-12-01T05:20:43.651930Z"
    }
   },
   "outputs": [
    {
     "data": {
      "text/plain": [
       "array([0, 1, 2, 3, 4, 5, 6, 7, 8, 9])"
      ]
     },
     "execution_count": 8,
     "metadata": {},
     "output_type": "execute_result"
    }
   ],
   "source": [
    "raw_data1=np.arange(10)\n",
    "raw_data1"
   ]
  },
  {
   "cell_type": "code",
   "execution_count": 10,
   "id": "7c12cbc7",
   "metadata": {
    "ExecuteTime": {
     "end_time": "2021-12-01T05:21:24.859205Z",
     "start_time": "2021-12-01T05:21:24.840068Z"
    }
   },
   "outputs": [
    {
     "data": {
      "text/plain": [
       "<TensorSliceDataset shapes: (), types: tf.int32>"
      ]
     },
     "execution_count": 10,
     "metadata": {},
     "output_type": "execute_result"
    }
   ],
   "source": [
    "dataset = tf.data.Dataset.from_tensor_slices(raw_data1)\n",
    "dataset"
   ]
  },
  {
   "cell_type": "code",
   "execution_count": 11,
   "id": "b63837d3",
   "metadata": {
    "ExecuteTime": {
     "end_time": "2021-12-01T05:21:39.332406Z",
     "start_time": "2021-12-01T05:21:39.310915Z"
    }
   },
   "outputs": [
    {
     "name": "stdout",
     "output_type": "stream",
     "text": [
      "tf.Tensor(0, shape=(), dtype=int32)\n",
      "tf.Tensor(1, shape=(), dtype=int32)\n",
      "tf.Tensor(2, shape=(), dtype=int32)\n",
      "tf.Tensor(3, shape=(), dtype=int32)\n",
      "tf.Tensor(4, shape=(), dtype=int32)\n",
      "tf.Tensor(5, shape=(), dtype=int32)\n",
      "tf.Tensor(6, shape=(), dtype=int32)\n",
      "tf.Tensor(7, shape=(), dtype=int32)\n",
      "tf.Tensor(8, shape=(), dtype=int32)\n",
      "tf.Tensor(9, shape=(), dtype=int32)\n"
     ]
    }
   ],
   "source": [
    "for data in dataset:\n",
    "    print(data)"
   ]
  },
  {
   "cell_type": "code",
   "execution_count": 13,
   "id": "7f4e6e72",
   "metadata": {
    "ExecuteTime": {
     "end_time": "2021-12-01T05:22:25.586630Z",
     "start_time": "2021-12-01T05:22:25.568592Z"
    }
   },
   "outputs": [
    {
     "data": {
      "text/plain": [
       "array([10, 11, 12, 13, 14, 15, 16, 17, 18, 19])"
      ]
     },
     "execution_count": 13,
     "metadata": {},
     "output_type": "execute_result"
    }
   ],
   "source": [
    "raw_data2 = np.arange(10,20)\n",
    "raw_data2"
   ]
  },
  {
   "cell_type": "code",
   "execution_count": 14,
   "id": "09bc3f14",
   "metadata": {
    "ExecuteTime": {
     "end_time": "2021-12-01T05:22:44.464509Z",
     "start_time": "2021-12-01T05:22:44.450459Z"
    }
   },
   "outputs": [
    {
     "name": "stdout",
     "output_type": "stream",
     "text": [
      "[0 1 2 3 4 5 6 7 8 9]\n",
      "[10 11 12 13 14 15 16 17 18 19]\n"
     ]
    }
   ],
   "source": [
    "print(raw_data1)\n",
    "print(raw_data2)"
   ]
  },
  {
   "cell_type": "code",
   "execution_count": 17,
   "id": "6022aaab",
   "metadata": {
    "ExecuteTime": {
     "end_time": "2021-12-01T05:23:51.297463Z",
     "start_time": "2021-12-01T05:23:51.279585Z"
    }
   },
   "outputs": [
    {
     "name": "stdout",
     "output_type": "stream",
     "text": [
      "tf.Tensor(0, shape=(), dtype=int32)---tf.Tensor(10, shape=(), dtype=int32)\n",
      "tf.Tensor(1, shape=(), dtype=int32)---tf.Tensor(11, shape=(), dtype=int32)\n",
      "tf.Tensor(2, shape=(), dtype=int32)---tf.Tensor(12, shape=(), dtype=int32)\n",
      "tf.Tensor(3, shape=(), dtype=int32)---tf.Tensor(13, shape=(), dtype=int32)\n",
      "tf.Tensor(4, shape=(), dtype=int32)---tf.Tensor(14, shape=(), dtype=int32)\n",
      "tf.Tensor(5, shape=(), dtype=int32)---tf.Tensor(15, shape=(), dtype=int32)\n",
      "tf.Tensor(6, shape=(), dtype=int32)---tf.Tensor(16, shape=(), dtype=int32)\n",
      "tf.Tensor(7, shape=(), dtype=int32)---tf.Tensor(17, shape=(), dtype=int32)\n",
      "tf.Tensor(8, shape=(), dtype=int32)---tf.Tensor(18, shape=(), dtype=int32)\n",
      "tf.Tensor(9, shape=(), dtype=int32)---tf.Tensor(19, shape=(), dtype=int32)\n"
     ]
    }
   ],
   "source": [
    "dataset2 = tf.data.Dataset.from_tensor_slices((raw_data1, raw_data2))\n",
    "for raw1, raw2 in dataset2:\n",
    "    print(raw1, raw2, sep='---')"
   ]
  },
  {
   "cell_type": "code",
   "execution_count": 19,
   "id": "0e8c0c39",
   "metadata": {
    "ExecuteTime": {
     "end_time": "2021-12-01T05:24:47.180614Z",
     "start_time": "2021-12-01T05:24:47.165615Z"
    }
   },
   "outputs": [
    {
     "name": "stdout",
     "output_type": "stream",
     "text": [
      "<class 'tensorflow.python.data.ops.dataset_ops.TakeDataset'>\n",
      "tf.Tensor(0, shape=(), dtype=int32)\n",
      "tf.Tensor(1, shape=(), dtype=int32)\n",
      "tf.Tensor(2, shape=(), dtype=int32)\n"
     ]
    }
   ],
   "source": [
    "dataset3 = dataset.take(3)\n",
    "print(type(dataset3))\n",
    "for data in dataset3:\n",
    "    print(data)"
   ]
  },
  {
   "cell_type": "code",
   "execution_count": 23,
   "id": "36b3796b",
   "metadata": {
    "ExecuteTime": {
     "end_time": "2021-12-01T05:26:14.496883Z",
     "start_time": "2021-12-01T05:26:14.475850Z"
    }
   },
   "outputs": [
    {
     "name": "stdout",
     "output_type": "stream",
     "text": [
      "tf.Tensor(0, shape=(), dtype=int32) tf.Tensor(10, shape=(), dtype=int32)\n",
      "tf.Tensor(1, shape=(), dtype=int32) tf.Tensor(11, shape=(), dtype=int32)\n"
     ]
    }
   ],
   "source": [
    "d = dataset2.take(2)\n",
    "for x,y in d:\n",
    "    print(x,y)"
   ]
  },
  {
   "cell_type": "code",
   "execution_count": 25,
   "id": "c4580cd5",
   "metadata": {
    "ExecuteTime": {
     "end_time": "2021-12-01T05:26:59.656887Z",
     "start_time": "2021-12-01T05:26:59.646887Z"
    }
   },
   "outputs": [
    {
     "name": "stdout",
     "output_type": "stream",
     "text": [
      "<class 'tensorflow.python.data.ops.dataset_ops.ShuffleDataset'>\n",
      "tf.Tensor(4, shape=(), dtype=int32)\n",
      "tf.Tensor(6, shape=(), dtype=int32)\n",
      "tf.Tensor(1, shape=(), dtype=int32)\n",
      "tf.Tensor(0, shape=(), dtype=int32)\n",
      "tf.Tensor(8, shape=(), dtype=int32)\n",
      "tf.Tensor(3, shape=(), dtype=int32)\n",
      "tf.Tensor(5, shape=(), dtype=int32)\n",
      "tf.Tensor(7, shape=(), dtype=int32)\n",
      "tf.Tensor(2, shape=(), dtype=int32)\n",
      "tf.Tensor(9, shape=(), dtype=int32)\n"
     ]
    }
   ],
   "source": [
    "#shuffle\n",
    "dataset4 = dataset.shuffle(10)\n",
    "print(type(dataset4))\n",
    "\n",
    "for data in dataset4:\n",
    "    print(data)"
   ]
  },
  {
   "cell_type": "code",
   "execution_count": 28,
   "id": "9a43cb7a",
   "metadata": {
    "ExecuteTime": {
     "end_time": "2021-12-01T05:28:30.183848Z",
     "start_time": "2021-12-01T05:28:30.171471Z"
    }
   },
   "outputs": [
    {
     "name": "stdout",
     "output_type": "stream",
     "text": [
      "<class 'tensorflow.python.data.ops.dataset_ops.BatchDataset'>\n",
      "tf.Tensor([0 1 2], shape=(3,), dtype=int32)\n",
      "tf.Tensor([3 4 5], shape=(3,), dtype=int32)\n",
      "tf.Tensor([6 7 8], shape=(3,), dtype=int32)\n"
     ]
    }
   ],
   "source": [
    "#drop_remainder\n",
    "dataset5 = dataset.batch(3, drop_remainder=True)\n",
    "print(type(dataset5))\n",
    "for data in dataset5:\n",
    "    print(data)"
   ]
  },
  {
   "cell_type": "code",
   "execution_count": 30,
   "id": "aaa0d0bf",
   "metadata": {
    "ExecuteTime": {
     "end_time": "2021-12-01T05:29:24.693006Z",
     "start_time": "2021-12-01T05:29:24.676006Z"
    }
   },
   "outputs": [
    {
     "name": "stdout",
     "output_type": "stream",
     "text": [
      "tf.Tensor([2 5 3], shape=(3,), dtype=int32)\n",
      "tf.Tensor([1 8 0], shape=(3,), dtype=int32)\n",
      "tf.Tensor([4 6 9], shape=(3,), dtype=int32)\n",
      "tf.Tensor([7], shape=(1,), dtype=int32)\n"
     ]
    }
   ],
   "source": [
    "dataset6 = dataset.shuffle(10).batch(3)\n",
    "for data in dataset6:\n",
    "    print(data)"
   ]
  },
  {
   "cell_type": "code",
   "execution_count": 31,
   "id": "07c8e882",
   "metadata": {
    "ExecuteTime": {
     "end_time": "2021-12-01T05:29:56.443391Z",
     "start_time": "2021-12-01T05:29:56.432390Z"
    },
    "scrolled": true
   },
   "outputs": [
    {
     "name": "stdout",
     "output_type": "stream",
     "text": [
      "tf.Tensor(0, shape=(), dtype=int32)\n",
      "tf.Tensor(1, shape=(), dtype=int32)\n",
      "tf.Tensor(2, shape=(), dtype=int32)\n",
      "tf.Tensor(3, shape=(), dtype=int32)\n",
      "tf.Tensor(4, shape=(), dtype=int32)\n",
      "tf.Tensor(5, shape=(), dtype=int32)\n",
      "tf.Tensor(6, shape=(), dtype=int32)\n",
      "tf.Tensor(7, shape=(), dtype=int32)\n",
      "tf.Tensor(8, shape=(), dtype=int32)\n",
      "tf.Tensor(9, shape=(), dtype=int32)\n",
      "tf.Tensor(0, shape=(), dtype=int32)\n",
      "tf.Tensor(1, shape=(), dtype=int32)\n",
      "tf.Tensor(2, shape=(), dtype=int32)\n",
      "tf.Tensor(3, shape=(), dtype=int32)\n",
      "tf.Tensor(4, shape=(), dtype=int32)\n",
      "tf.Tensor(5, shape=(), dtype=int32)\n",
      "tf.Tensor(6, shape=(), dtype=int32)\n",
      "tf.Tensor(7, shape=(), dtype=int32)\n",
      "tf.Tensor(8, shape=(), dtype=int32)\n",
      "tf.Tensor(9, shape=(), dtype=int32)\n"
     ]
    }
   ],
   "source": [
    "dataset7 = dataset.repeat(2)\n",
    "for d in dataset7:\n",
    "    print(d)"
   ]
  },
  {
   "cell_type": "code",
   "execution_count": 32,
   "id": "33594dee",
   "metadata": {
    "ExecuteTime": {
     "end_time": "2021-12-01T05:30:27.223542Z",
     "start_time": "2021-12-01T05:30:27.202973Z"
    },
    "scrolled": true
   },
   "outputs": [
    {
     "name": "stdout",
     "output_type": "stream",
     "text": [
      "tf.Tensor([0 5 1 9 7], shape=(5,), dtype=int32)\n",
      "tf.Tensor([2 3 4 6 8], shape=(5,), dtype=int32)\n",
      "tf.Tensor([1 4 9 5 8], shape=(5,), dtype=int32)\n",
      "tf.Tensor([2 6 0 3 7], shape=(5,), dtype=int32)\n"
     ]
    }
   ],
   "source": [
    "dataset8 = dataset.shuffle(10).batch(5).repeat(2)\n",
    "for d in dataset8:\n",
    "    print(d)"
   ]
  },
  {
   "cell_type": "code",
   "execution_count": 36,
   "id": "d70f2c77",
   "metadata": {
    "ExecuteTime": {
     "end_time": "2021-12-01T05:31:42.348141Z",
     "start_time": "2021-12-01T05:31:42.327087Z"
    }
   },
   "outputs": [
    {
     "name": "stdout",
     "output_type": "stream",
     "text": [
      "tf.Tensor(6, shape=(), dtype=int32)\n",
      "tf.Tensor(7, shape=(), dtype=int32)\n",
      "tf.Tensor(8, shape=(), dtype=int32)\n",
      "tf.Tensor(9, shape=(), dtype=int32)\n"
     ]
    }
   ],
   "source": [
    "dataset14 = dataset.filter(lambda x: x>5)\n",
    "for data in dataset14:\n",
    "    print(data)\n",
    "    "
   ]
  },
  {
   "cell_type": "code",
   "execution_count": 43,
   "id": "2393c0dc",
   "metadata": {
    "ExecuteTime": {
     "end_time": "2021-12-01T05:34:35.961742Z",
     "start_time": "2021-12-01T05:34:35.937700Z"
    }
   },
   "outputs": [
    {
     "name": "stdout",
     "output_type": "stream",
     "text": [
      "tf.Tensor([14 18 19], shape=(3,), dtype=int32)\n",
      "tf.Tensor([10 17 13], shape=(3,), dtype=int32)\n",
      "tf.Tensor([16 15 20], shape=(3,), dtype=int32)\n",
      "tf.Tensor([12 11], shape=(2,), dtype=int32)\n"
     ]
    }
   ],
   "source": [
    "#종합\n",
    "raw_data = np.arange(-10,11)\n",
    "\n",
    "dataset_final = tf.data.Dataset.from_tensor_slices(raw_data)\\\n",
    "                                .filter(lambda x:x>=0)\\\n",
    "                                .map(lambda x: x+10)\\\n",
    "                                .shuffle(raw_data.size)\\\n",
    "                                .batch(3)\n",
    "\n",
    "for d in dataset_final:\n",
    "    print(d)"
   ]
  },
  {
   "cell_type": "code",
   "execution_count": 45,
   "id": "5057bf80",
   "metadata": {
    "ExecuteTime": {
     "end_time": "2021-12-01T05:35:26.377651Z",
     "start_time": "2021-12-01T05:35:26.361792Z"
    }
   },
   "outputs": [],
   "source": [
    "#회귀문제\n",
    "import numpy as np\n",
    "import tensorflow as tf\n",
    "\n",
    "from tensorflow import keras\n",
    "from tensorflow.keras import layers,models"
   ]
  },
  {
   "cell_type": "code",
   "execution_count": 46,
   "id": "81662f17",
   "metadata": {
    "ExecuteTime": {
     "end_time": "2021-12-01T05:35:49.822315Z",
     "start_time": "2021-12-01T05:35:49.812315Z"
    }
   },
   "outputs": [],
   "source": [
    "np.random.seed(0)\n",
    "tf.random.set_seed(0)"
   ]
  },
  {
   "cell_type": "code",
   "execution_count": 49,
   "id": "7700d619",
   "metadata": {
    "ExecuteTime": {
     "end_time": "2021-12-01T05:36:57.055871Z",
     "start_time": "2021-12-01T05:36:57.044870Z"
    }
   },
   "outputs": [
    {
     "name": "stdout",
     "output_type": "stream",
     "text": [
      "(404, 13) (404,)\n",
      "(102, 13) (102,)\n"
     ]
    }
   ],
   "source": [
    "(train_x, train_y),(test_x, test_y)= keras.datasets.boston_housing.load_data()\n",
    "print(train_x.shape, train_y.shape)\n",
    "print(test_x.shape, test_y.shape)"
   ]
  },
  {
   "cell_type": "code",
   "execution_count": 51,
   "id": "0e9a78b0",
   "metadata": {
    "ExecuteTime": {
     "end_time": "2021-12-01T05:38:51.227970Z",
     "start_time": "2021-12-01T05:38:51.218970Z"
    }
   },
   "outputs": [],
   "source": [
    "#하이퍼파라미터, 변수 정의\n",
    "learning_rate=0.001\n",
    "n_epochs=100\n",
    "n_batch=50\n",
    "n_train = train_x.shape[0]\n",
    "n_test = test_x.shape[0]"
   ]
  },
  {
   "cell_type": "code",
   "execution_count": 53,
   "id": "975c6537",
   "metadata": {
    "ExecuteTime": {
     "end_time": "2021-12-01T05:39:56.274380Z",
     "start_time": "2021-12-01T05:39:56.262128Z"
    }
   },
   "outputs": [],
   "source": [
    "from sklearn.preprocessing import StandardScaler\n",
    "\n",
    "ss = StandardScaler()\n",
    "x_train_scaled=ss.fit_transform(train_x)\n",
    "x_test_scaled=ss.transform(test_x)"
   ]
  },
  {
   "cell_type": "code",
   "execution_count": 58,
   "id": "d42bec8e",
   "metadata": {
    "ExecuteTime": {
     "end_time": "2021-12-01T05:45:23.489487Z",
     "start_time": "2021-12-01T05:45:23.473490Z"
    }
   },
   "outputs": [],
   "source": [
    "train_dataset = tf.data.Dataset.from_tensor_slices((x_train_scaled, train_y))\\\n",
    "                               .shuffle(n_train)\\\n",
    "                               .batch(n_batch, drop_remainder=True)\n",
    "\n",
    "test_dataset = tf.data.Dataset.from_tensor_slices((x_test_scaled, test_y))\\\n",
    "                                                  .shuffle(n_test)\\\n",
    "                                                  .batch(n_test, drop_remainder=True)"
   ]
  },
  {
   "cell_type": "code",
   "execution_count": 60,
   "id": "da12cf32",
   "metadata": {
    "ExecuteTime": {
     "end_time": "2021-12-01T05:47:02.681615Z",
     "start_time": "2021-12-01T05:47:02.674615Z"
    }
   },
   "outputs": [
    {
     "data": {
      "text/plain": [
       "(404, 13)"
      ]
     },
     "execution_count": 60,
     "metadata": {},
     "output_type": "execute_result"
    }
   ],
   "source": [
    "x_train_scaled.shape"
   ]
  },
  {
   "cell_type": "code",
   "execution_count": 64,
   "id": "9af067bd",
   "metadata": {
    "ExecuteTime": {
     "end_time": "2021-12-01T05:50:23.944429Z",
     "start_time": "2021-12-01T05:50:23.927431Z"
    }
   },
   "outputs": [],
   "source": [
    "def create_housing_model():\n",
    "    model = keras.Sequential()\n",
    "    #input_shape###\n",
    "    model.add(layers.Dense(units=128, activation='relu', input_shape=(13,)))\n",
    "    model.add(layers.Dense(units=64, activation='relu'))\n",
    "    model.add(layers.Dense(units=32, activation='relu'))\n",
    "    model.add(layers.Dense(units=16, activation='relu'))\n",
    "    \n",
    "    model.add(layers.Dense(units=1))\n",
    "    return model ###"
   ]
  },
  {
   "cell_type": "code",
   "execution_count": 65,
   "id": "3866f507",
   "metadata": {
    "ExecuteTime": {
     "end_time": "2021-12-01T05:50:24.724735Z",
     "start_time": "2021-12-01T05:50:24.695704Z"
    }
   },
   "outputs": [],
   "source": [
    "model = create_housing_model()\n",
    "\n",
    "model.compile(optimizer= keras.optimizers.Adam(learning_rate=learning_rate),\n",
    "             loss='mse')"
   ]
  },
  {
   "cell_type": "code",
   "execution_count": 66,
   "id": "d56ebdd8",
   "metadata": {
    "ExecuteTime": {
     "end_time": "2021-12-01T05:50:42.974992Z",
     "start_time": "2021-12-01T05:50:42.959988Z"
    }
   },
   "outputs": [
    {
     "name": "stdout",
     "output_type": "stream",
     "text": [
      "Model: \"sequential_2\"\n",
      "_________________________________________________________________\n",
      " Layer (type)                Output Shape              Param #   \n",
      "=================================================================\n",
      " dense (Dense)               (None, 128)               1792      \n",
      "                                                                 \n",
      " dense_1 (Dense)             (None, 64)                8256      \n",
      "                                                                 \n",
      " dense_2 (Dense)             (None, 32)                2080      \n",
      "                                                                 \n",
      " dense_3 (Dense)             (None, 16)                528       \n",
      "                                                                 \n",
      " dense_4 (Dense)             (None, 1)                 17        \n",
      "                                                                 \n",
      "=================================================================\n",
      "Total params: 12,673\n",
      "Trainable params: 12,673\n",
      "Non-trainable params: 0\n",
      "_________________________________________________________________\n"
     ]
    }
   ],
   "source": [
    "model.summary()"
   ]
  },
  {
   "cell_type": "code",
   "execution_count": 67,
   "id": "ce7fcb0b",
   "metadata": {
    "ExecuteTime": {
     "end_time": "2021-12-01T05:51:20.818002Z",
     "start_time": "2021-12-01T05:51:20.593003Z"
    }
   },
   "outputs": [
    {
     "data": {
      "image/png": "[encoded data removed]",
      "text/plain": [
       "<IPython.core.display.Image object>"
      ]
     },
     "execution_count": 67,
     "metadata": {},
     "output_type": "execute_result"
    }
   ],
   "source": [
    "keras.utils.plot_model(model, show_shapes=True)"
   ]
  },
  {
   "cell_type": "code",
   "execution_count": 68,
   "id": "4253a4c6",
   "metadata": {
    "ExecuteTime": {
     "end_time": "2021-12-01T05:52:27.755401Z",
     "start_time": "2021-12-01T05:52:25.125703Z"
    }
   },
   "outputs": [
    {
     "name": "stdout",
     "output_type": "stream",
     "text": [
      "Epoch 1/100\n",
      "8/8 [==============================] - 0s 10ms/step - loss: 574.7323 - val_loss: 593.6151\n",
      "Epoch 2/100\n",
      "8/8 [==============================] - 0s 2ms/step - loss: 549.7366 - val_loss: 554.3170\n",
      "Epoch 3/100\n",
      "8/8 [==============================] - 0s 2ms/step - loss: 500.3100 - val_loss: 489.5057\n",
      "Epoch 4/100\n",
      "8/8 [==============================] - 0s 2ms/step - loss: 420.7487 - val_loss: 380.9994\n",
      "Epoch 5/100\n",
      "8/8 [==============================] - 0s 2ms/step - loss: 292.6837 - val_loss: 219.0949\n",
      "Epoch 6/100\n",
      "8/8 [==============================] - 0s 2ms/step - loss: 141.5128 - val_loss: 84.1570\n",
      "Epoch 7/100\n",
      "8/8 [==============================] - 0s 2ms/step - loss: 70.9080 - val_loss: 69.9755\n",
      "Epoch 8/100\n",
      "8/8 [==============================] - 0s 2ms/step - loss: 57.5951 - val_loss: 44.3300\n",
      "Epoch 9/100\n",
      "8/8 [==============================] - 0s 2ms/step - loss: 36.9392 - val_loss: 37.5418\n",
      "Epoch 10/100\n",
      "8/8 [==============================] - 0s 2ms/step - loss: 30.9507 - val_loss: 30.7471\n",
      "Epoch 11/100\n",
      "8/8 [==============================] - 0s 3ms/step - loss: 25.7918 - val_loss: 27.9863\n",
      "Epoch 12/100\n",
      "8/8 [==============================] - 0s 2ms/step - loss: 23.3697 - val_loss: 26.6065\n",
      "Epoch 13/100\n",
      "8/8 [==============================] - 0s 2ms/step - loss: 21.0982 - val_loss: 25.4271\n",
      "Epoch 14/100\n",
      "8/8 [==============================] - 0s 2ms/step - loss: 19.4539 - val_loss: 24.7825\n",
      "Epoch 15/100\n",
      "8/8 [==============================] - 0s 2ms/step - loss: 18.1866 - val_loss: 23.7441\n",
      "Epoch 16/100\n",
      "8/8 [==============================] - 0s 2ms/step - loss: 17.0560 - val_loss: 23.6858\n",
      "Epoch 17/100\n",
      "8/8 [==============================] - 0s 2ms/step - loss: 16.0750 - val_loss: 23.8571\n",
      "Epoch 18/100\n",
      "8/8 [==============================] - 0s 2ms/step - loss: 15.4756 - val_loss: 23.9588\n",
      "Epoch 19/100\n",
      "8/8 [==============================] - 0s 2ms/step - loss: 14.8432 - val_loss: 23.5492\n",
      "Epoch 20/100\n",
      "8/8 [==============================] - 0s 2ms/step - loss: 14.3348 - val_loss: 23.5862\n",
      "Epoch 21/100\n",
      "8/8 [==============================] - 0s 2ms/step - loss: 13.6709 - val_loss: 23.5803\n",
      "Epoch 22/100\n",
      "8/8 [==============================] - 0s 2ms/step - loss: 13.3301 - val_loss: 23.5825\n",
      "Epoch 23/100\n",
      "8/8 [==============================] - 0s 2ms/step - loss: 12.9217 - val_loss: 22.9252\n",
      "Epoch 24/100\n",
      "8/8 [==============================] - 0s 2ms/step - loss: 12.3488 - val_loss: 23.1856\n",
      "Epoch 25/100\n",
      "8/8 [==============================] - 0s 2ms/step - loss: 12.3135 - val_loss: 23.8853\n",
      "Epoch 26/100\n",
      "8/8 [==============================] - 0s 2ms/step - loss: 11.8367 - val_loss: 23.0205\n",
      "Epoch 27/100\n",
      "8/8 [==============================] - 0s 2ms/step - loss: 11.4799 - val_loss: 22.5369\n",
      "Epoch 28/100\n",
      "8/8 [==============================] - 0s 2ms/step - loss: 11.2235 - val_loss: 24.0904\n",
      "Epoch 29/100\n",
      "8/8 [==============================] - 0s 2ms/step - loss: 11.1885 - val_loss: 23.5563\n",
      "Epoch 30/100\n",
      "8/8 [==============================] - 0s 2ms/step - loss: 10.7791 - val_loss: 23.1947\n",
      "Epoch 31/100\n",
      "8/8 [==============================] - 0s 2ms/step - loss: 10.6214 - val_loss: 23.4074\n",
      "Epoch 32/100\n",
      "8/8 [==============================] - 0s 2ms/step - loss: 10.4775 - val_loss: 23.9653\n",
      "Epoch 33/100\n",
      "8/8 [==============================] - 0s 3ms/step - loss: 10.1877 - val_loss: 22.7943\n",
      "Epoch 34/100\n",
      "8/8 [==============================] - 0s 2ms/step - loss: 10.1446 - val_loss: 23.4175\n",
      "Epoch 35/100\n",
      "8/8 [==============================] - 0s 2ms/step - loss: 9.4432 - val_loss: 23.0862\n",
      "Epoch 36/100\n",
      "8/8 [==============================] - 0s 2ms/step - loss: 9.8567 - val_loss: 22.8698\n",
      "Epoch 37/100\n",
      "8/8 [==============================] - 0s 2ms/step - loss: 9.4484 - val_loss: 23.2127\n",
      "Epoch 38/100\n",
      "8/8 [==============================] - 0s 2ms/step - loss: 9.4693 - val_loss: 23.4463\n",
      "Epoch 39/100\n",
      "8/8 [==============================] - 0s 2ms/step - loss: 9.4467 - val_loss: 23.5615\n",
      "Epoch 40/100\n",
      "8/8 [==============================] - 0s 2ms/step - loss: 9.4920 - val_loss: 23.6448\n",
      "Epoch 41/100\n",
      "8/8 [==============================] - 0s 2ms/step - loss: 9.3003 - val_loss: 23.0918\n",
      "Epoch 42/100\n",
      "8/8 [==============================] - 0s 2ms/step - loss: 9.1871 - val_loss: 22.9472\n",
      "Epoch 43/100\n",
      "8/8 [==============================] - 0s 2ms/step - loss: 8.9629 - val_loss: 23.8107\n",
      "Epoch 44/100\n",
      "8/8 [==============================] - 0s 2ms/step - loss: 8.9167 - val_loss: 22.6240\n",
      "Epoch 45/100\n",
      "8/8 [==============================] - 0s 2ms/step - loss: 8.7607 - val_loss: 22.5000\n",
      "Epoch 46/100\n",
      "8/8 [==============================] - 0s 2ms/step - loss: 8.7106 - val_loss: 22.7390\n",
      "Epoch 47/100\n",
      "8/8 [==============================] - 0s 2ms/step - loss: 8.5906 - val_loss: 23.4340\n",
      "Epoch 48/100\n",
      "8/8 [==============================] - 0s 2ms/step - loss: 8.6001 - val_loss: 22.5716\n",
      "Epoch 49/100\n",
      "8/8 [==============================] - 0s 2ms/step - loss: 8.5279 - val_loss: 22.4821\n",
      "Epoch 50/100\n",
      "8/8 [==============================] - 0s 2ms/step - loss: 8.3812 - val_loss: 22.8706\n",
      "Epoch 51/100\n",
      "8/8 [==============================] - 0s 2ms/step - loss: 8.2537 - val_loss: 22.1645\n",
      "Epoch 52/100\n",
      "8/8 [==============================] - 0s 2ms/step - loss: 8.1756 - val_loss: 22.5326\n",
      "Epoch 53/100\n",
      "8/8 [==============================] - 0s 3ms/step - loss: 8.0601 - val_loss: 22.1501\n",
      "Epoch 54/100\n",
      "8/8 [==============================] - 0s 2ms/step - loss: 7.8214 - val_loss: 22.0971\n",
      "Epoch 55/100\n",
      "8/8 [==============================] - 0s 2ms/step - loss: 7.9340 - val_loss: 22.4474\n",
      "Epoch 56/100\n",
      "8/8 [==============================] - 0s 2ms/step - loss: 7.8469 - val_loss: 22.1966\n",
      "Epoch 57/100\n",
      "8/8 [==============================] - 0s 2ms/step - loss: 7.6709 - val_loss: 21.3591\n",
      "Epoch 58/100\n",
      "8/8 [==============================] - 0s 2ms/step - loss: 7.6468 - val_loss: 21.8799\n",
      "Epoch 59/100\n",
      "8/8 [==============================] - 0s 2ms/step - loss: 7.6873 - val_loss: 20.9349\n",
      "Epoch 60/100\n",
      "8/8 [==============================] - 0s 2ms/step - loss: 7.5329 - val_loss: 21.2555\n",
      "Epoch 61/100\n",
      "8/8 [==============================] - 0s 2ms/step - loss: 7.6035 - val_loss: 20.1884\n",
      "Epoch 62/100\n",
      "8/8 [==============================] - 0s 2ms/step - loss: 7.6184 - val_loss: 21.4689\n",
      "Epoch 63/100\n",
      "8/8 [==============================] - 0s 2ms/step - loss: 7.0771 - val_loss: 20.5349\n",
      "Epoch 64/100\n",
      "8/8 [==============================] - 0s 2ms/step - loss: 7.4185 - val_loss: 20.9639\n",
      "Epoch 65/100\n",
      "8/8 [==============================] - 0s 2ms/step - loss: 7.3914 - val_loss: 20.7092\n",
      "Epoch 66/100\n",
      "8/8 [==============================] - 0s 2ms/step - loss: 7.1748 - val_loss: 20.3228\n",
      "Epoch 67/100\n",
      "8/8 [==============================] - 0s 2ms/step - loss: 6.9625 - val_loss: 20.5369\n",
      "Epoch 68/100\n",
      "8/8 [==============================] - 0s 2ms/step - loss: 6.8862 - val_loss: 20.1433\n",
      "Epoch 69/100\n",
      "8/8 [==============================] - 0s 2ms/step - loss: 6.8087 - val_loss: 19.5796\n",
      "Epoch 70/100\n",
      "8/8 [==============================] - 0s 2ms/step - loss: 6.6560 - val_loss: 19.2326\n",
      "Epoch 71/100\n",
      "8/8 [==============================] - 0s 2ms/step - loss: 6.6089 - val_loss: 20.0296\n",
      "Epoch 72/100\n",
      "8/8 [==============================] - 0s 2ms/step - loss: 6.6999 - val_loss: 19.0933\n",
      "Epoch 73/100\n",
      "8/8 [==============================] - 0s 2ms/step - loss: 6.7796 - val_loss: 19.8925\n",
      "Epoch 74/100\n",
      "8/8 [==============================] - 0s 2ms/step - loss: 6.4671 - val_loss: 18.1366\n",
      "Epoch 75/100\n",
      "8/8 [==============================] - 0s 2ms/step - loss: 6.5871 - val_loss: 18.6030\n",
      "Epoch 76/100\n",
      "8/8 [==============================] - 0s 2ms/step - loss: 6.4162 - val_loss: 17.7984\n",
      "Epoch 77/100\n",
      "8/8 [==============================] - 0s 2ms/step - loss: 6.4317 - val_loss: 18.8709\n",
      "Epoch 78/100\n",
      "8/8 [==============================] - 0s 2ms/step - loss: 6.3740 - val_loss: 18.4061\n",
      "Epoch 79/100\n",
      "8/8 [==============================] - 0s 2ms/step - loss: 6.1731 - val_loss: 18.5976\n",
      "Epoch 80/100\n",
      "8/8 [==============================] - 0s 2ms/step - loss: 6.0029 - val_loss: 17.7411\n",
      "Epoch 81/100\n",
      "8/8 [==============================] - 0s 2ms/step - loss: 5.8131 - val_loss: 18.3053\n",
      "Epoch 82/100\n",
      "8/8 [==============================] - 0s 2ms/step - loss: 5.9425 - val_loss: 17.3586\n",
      "Epoch 83/100\n"
     ]
    },
    {
     "name": "stdout",
     "output_type": "stream",
     "text": [
      "8/8 [==============================] - 0s 2ms/step - loss: 5.8014 - val_loss: 17.6507\n",
      "Epoch 84/100\n",
      "8/8 [==============================] - 0s 2ms/step - loss: 5.8446 - val_loss: 18.0898\n",
      "Epoch 85/100\n",
      "8/8 [==============================] - 0s 2ms/step - loss: 5.7284 - val_loss: 16.8600\n",
      "Epoch 86/100\n",
      "8/8 [==============================] - 0s 2ms/step - loss: 5.5859 - val_loss: 17.5110\n",
      "Epoch 87/100\n",
      "8/8 [==============================] - 0s 2ms/step - loss: 5.6011 - val_loss: 16.7307\n",
      "Epoch 88/100\n",
      "8/8 [==============================] - 0s 2ms/step - loss: 5.8007 - val_loss: 16.2438\n",
      "Epoch 89/100\n",
      "8/8 [==============================] - 0s 2ms/step - loss: 5.6975 - val_loss: 17.4954\n",
      "Epoch 90/100\n",
      "8/8 [==============================] - 0s 2ms/step - loss: 5.2078 - val_loss: 16.3524\n",
      "Epoch 91/100\n",
      "8/8 [==============================] - 0s 2ms/step - loss: 5.3113 - val_loss: 17.3208\n",
      "Epoch 92/100\n",
      "8/8 [==============================] - 0s 2ms/step - loss: 5.2097 - val_loss: 16.2846\n",
      "Epoch 93/100\n",
      "8/8 [==============================] - 0s 2ms/step - loss: 5.0907 - val_loss: 15.9190\n",
      "Epoch 94/100\n",
      "8/8 [==============================] - 0s 2ms/step - loss: 5.0722 - val_loss: 15.7850\n",
      "Epoch 95/100\n",
      "8/8 [==============================] - 0s 2ms/step - loss: 4.7051 - val_loss: 16.5109\n",
      "Epoch 96/100\n",
      "8/8 [==============================] - 0s 2ms/step - loss: 4.7817 - val_loss: 15.6142\n",
      "Epoch 97/100\n",
      "8/8 [==============================] - 0s 2ms/step - loss: 4.8110 - val_loss: 16.3025\n",
      "Epoch 98/100\n",
      "8/8 [==============================] - 0s 2ms/step - loss: 4.8791 - val_loss: 15.5732\n",
      "Epoch 99/100\n",
      "8/8 [==============================] - 0s 2ms/step - loss: 4.8133 - val_loss: 15.2580\n",
      "Epoch 100/100\n",
      "8/8 [==============================] - 0s 2ms/step - loss: 4.8036 - val_loss: 15.3784\n"
     ]
    }
   ],
   "source": [
    "#학습\n",
    "hist = model.fit(train_dataset,\n",
    "                epochs=n_epochs,\n",
    "                validation_data=test_dataset)"
   ]
  },
  {
   "cell_type": "code",
   "execution_count": 73,
   "id": "5edce49c",
   "metadata": {
    "ExecuteTime": {
     "end_time": "2021-12-01T05:53:40.264772Z",
     "start_time": "2021-12-01T05:53:40.179772Z"
    }
   },
   "outputs": [
    {
     "data": {
      "image/png": "[encoded data removed]",
      "text/plain": [
       "<Figure size 576x432 with 1 Axes>"
      ]
     },
     "metadata": {
      "needs_background": "light"
     },
     "output_type": "display_data"
    }
   ],
   "source": [
    "import matplotlib.pyplot as plt\n",
    "plt.figure(figsize=(8,6))\n",
    "plt.plot(range(1,n_epochs+1), hist.history['loss'], label='Train Loss')\n",
    "plt.plot(range(1,n_epochs+1), hist.history['val_loss'], label='Validation Loss')\n",
    "plt.xlabel(\"Epochs\")\n",
    "plt.ylabel('Loss')\n",
    "\n",
    "#\n",
    "#plt.ylim(0,50)\n",
    "\n",
    "plt.legend()\n",
    "plt.show()"
   ]
  },
  {
   "cell_type": "code",
   "execution_count": 74,
   "id": "ca86a9d3",
   "metadata": {
    "ExecuteTime": {
     "end_time": "2021-12-01T05:54:17.493692Z",
     "start_time": "2021-12-01T05:54:17.464692Z"
    },
    "scrolled": true
   },
   "outputs": [
    {
     "name": "stdout",
     "output_type": "stream",
     "text": [
      "1/1 [==============================] - 0s 10ms/step - loss: 15.3784\n"
     ]
    },
    {
     "data": {
      "text/plain": [
       "15.378376960754395"
      ]
     },
     "execution_count": 74,
     "metadata": {},
     "output_type": "execute_result"
    }
   ],
   "source": [
    "#최종테스트\n",
    "loss=model.evaluate(test_dataset)\n",
    "loss"
   ]
  },
  {
   "cell_type": "code",
   "execution_count": 75,
   "id": "ef2d30c6",
   "metadata": {
    "ExecuteTime": {
     "end_time": "2021-12-01T05:54:37.878518Z",
     "start_time": "2021-12-01T05:54:37.866518Z"
    }
   },
   "outputs": [],
   "source": [
    "#model.save('model/my_reslut0')"
   ]
  },
  {
   "cell_type": "code",
   "execution_count": 79,
   "id": "e4bd92ea",
   "metadata": {
    "ExecuteTime": {
     "end_time": "2021-12-01T05:55:29.461192Z",
     "start_time": "2021-12-01T05:55:29.420278Z"
    }
   },
   "outputs": [
    {
     "data": {
      "text/plain": [
       "array([[ 8.168396],\n",
       "       [18.796722],\n",
       "       [21.631514],\n",
       "       [30.355867],\n",
       "       [24.970098]], dtype=float32)"
      ]
     },
     "execution_count": 79,
     "metadata": {},
     "output_type": "execute_result"
    }
   ],
   "source": [
    "#데이터 추론\n",
    "new_data = x_test_scaled[:5]\n",
    "pred = model.predict(new_data)\n",
    "pred"
   ]
  },
  {
   "cell_type": "code",
   "execution_count": 81,
   "id": "bffcfb79",
   "metadata": {
    "ExecuteTime": {
     "end_time": "2021-12-01T05:55:52.099832Z",
     "start_time": "2021-12-01T05:55:52.085810Z"
    }
   },
   "outputs": [
    {
     "data": {
      "text/plain": [
       "array([ 7.2, 18.8, 19. , 27. , 22.2])"
      ]
     },
     "execution_count": 81,
     "metadata": {},
     "output_type": "execute_result"
    }
   ],
   "source": [
    "test_y[:5]"
   ]
  },
  {
   "cell_type": "code",
   "execution_count": 82,
   "id": "ebfdfd27",
   "metadata": {
    "ExecuteTime": {
     "end_time": "2021-12-01T08:19:08.896006Z",
     "start_time": "2021-12-01T08:19:08.884982Z"
    }
   },
   "outputs": [],
   "source": [
    "#분류#######################################################"
   ]
  },
  {
   "cell_type": "code",
   "execution_count": 84,
   "id": "2451ddeb",
   "metadata": {
    "ExecuteTime": {
     "end_time": "2021-12-01T08:20:09.093486Z",
     "start_time": "2021-12-01T08:20:09.074194Z"
    }
   },
   "outputs": [],
   "source": [
    "import numpy as np\n",
    "import tensorflow as tf\n",
    "from tensorflow import keras\n",
    "from tensorflow.keras import layers\n",
    "import matplotlib.pyplot as plt\n",
    "\n",
    "np.random.seed(0)\n",
    "tf.random.set_seed(0)"
   ]
  },
  {
   "cell_type": "code",
   "execution_count": 86,
   "id": "7362d0f3",
   "metadata": {
    "ExecuteTime": {
     "end_time": "2021-12-01T08:20:20.443804Z",
     "start_time": "2021-12-01T08:20:20.434719Z"
    }
   },
   "outputs": [],
   "source": [
    "class_names = ['T-shirt/top', 'Trousers', 'Pullover', 'Dress', 'Coat', 'Sandal', 'Shirt', 'Sneaker', 'Bag', 'Ankle boot']"
   ]
  },
  {
   "cell_type": "code",
   "execution_count": 88,
   "id": "f4ee327d",
   "metadata": {
    "ExecuteTime": {
     "end_time": "2021-12-01T08:21:22.998188Z",
     "start_time": "2021-12-01T08:21:22.759188Z"
    }
   },
   "outputs": [
    {
     "data": {
      "text/plain": [
       "((60000, 28, 28), (10000, 28, 28))"
      ]
     },
     "execution_count": 88,
     "metadata": {},
     "output_type": "execute_result"
    }
   ],
   "source": [
    "(train_img, train_label), (test_img, test_label) = keras.datasets.fashion_mnist.load_data()\n",
    "\n",
    "train_img.shape, test_img.shape"
   ]
  },
  {
   "cell_type": "code",
   "execution_count": 89,
   "id": "6831c5f8",
   "metadata": {
    "ExecuteTime": {
     "end_time": "2021-12-01T08:24:39.104498Z",
     "start_time": "2021-12-01T08:24:39.055496Z"
    }
   },
   "outputs": [],
   "source": [
    "#train_x,y 만으로 함!!!!!!\n",
    "from sklearn.model_selection import train_test_split\n",
    "\n",
    "train_img, val_img, train_label, val_label = train_test_split(train_img, train_label, test_size=0.2, stratify=train_label, random_state=0)"
   ]
  },
  {
   "cell_type": "code",
   "execution_count": 90,
   "id": "533f0317",
   "metadata": {
    "ExecuteTime": {
     "end_time": "2021-12-01T08:25:09.787581Z",
     "start_time": "2021-12-01T08:25:09.772611Z"
    }
   },
   "outputs": [
    {
     "data": {
      "text/plain": [
       "((48000, 28, 28), (12000, 28, 28), (10000, 28, 28))"
      ]
     },
     "execution_count": 90,
     "metadata": {},
     "output_type": "execute_result"
    }
   ],
   "source": [
    "train_img.shape, val_img.shape, test_img.shape"
   ]
  },
  {
   "cell_type": "code",
   "execution_count": 123,
   "id": "2a738c62",
   "metadata": {
    "ExecuteTime": {
     "end_time": "2021-12-01T08:47:58.655723Z",
     "start_time": "2021-12-01T08:47:58.644723Z"
    }
   },
   "outputs": [],
   "source": [
    "#하이퍼파라미터, 변수 설정\n",
    "Learning_rate = 0.001\n",
    "n_epochs = 100\n",
    "n_batchs= 100\n",
    "\n",
    "n_train = train_img.shape[0]\n",
    "n_val = val_img.shape[0]\n",
    "n_test = test_img.shape[0]"
   ]
  },
  {
   "cell_type": "code",
   "execution_count": 92,
   "id": "c7349221",
   "metadata": {
    "ExecuteTime": {
     "end_time": "2021-12-01T08:26:38.134232Z",
     "start_time": "2021-12-01T08:26:38.126216Z"
    }
   },
   "outputs": [
    {
     "data": {
      "text/plain": [
       "array([6, 5, 0, ..., 7, 4, 9], dtype=uint8)"
      ]
     },
     "execution_count": 92,
     "metadata": {},
     "output_type": "execute_result"
    }
   ],
   "source": [
    "train_label"
   ]
  },
  {
   "cell_type": "code",
   "execution_count": 93,
   "id": "954e3d18",
   "metadata": {
    "ExecuteTime": {
     "end_time": "2021-12-01T08:26:53.684665Z",
     "start_time": "2021-12-01T08:26:53.673225Z"
    }
   },
   "outputs": [
    {
     "data": {
      "text/plain": [
       "(48000,)"
      ]
     },
     "execution_count": 93,
     "metadata": {},
     "output_type": "execute_result"
    }
   ],
   "source": [
    "#\n",
    "train_label.shape"
   ]
  },
  {
   "cell_type": "code",
   "execution_count": 95,
   "id": "bf2b93b9",
   "metadata": {
    "ExecuteTime": {
     "end_time": "2021-12-01T08:29:35.797718Z",
     "start_time": "2021-12-01T08:29:35.788362Z"
    }
   },
   "outputs": [
    {
     "name": "stdout",
     "output_type": "stream",
     "text": [
      "(48000, 10) (12000, 10) (10000, 10)\n"
     ]
    }
   ],
   "source": [
    "#원핫인코딩 처리 #y값을 원핫인코딩\n",
    "y_train = keras.utils.to_categorical(train_label)\n",
    "y_val = keras.utils.to_categorical(val_label)\n",
    "y_test = keras.utils.to_categorical(test_label)\n",
    "print(y_train.shape, y_val.shape, y_test.shape)"
   ]
  },
  {
   "cell_type": "code",
   "execution_count": 101,
   "id": "5b87a7ab",
   "metadata": {
    "ExecuteTime": {
     "end_time": "2021-12-01T08:36:54.794480Z",
     "start_time": "2021-12-01T08:36:54.734437Z"
    }
   },
   "outputs": [],
   "source": [
    "X_train = train_img.astype(np.float32)\n",
    "X_val = val_img.astype(np.float32)\n",
    "X_test = test_img.astype(np.float32)"
   ]
  },
  {
   "cell_type": "code",
   "execution_count": 105,
   "id": "8f45d255",
   "metadata": {
    "ExecuteTime": {
     "end_time": "2021-12-01T08:38:55.162187Z",
     "start_time": "2021-12-01T08:38:55.136151Z"
    }
   },
   "outputs": [],
   "source": [
    "#dataset 생성\n",
    "train_dataset = tf.data.Dataset.from_tensor_slices((X_train, y_train))\\\n",
    "                               .map(lambda x, y : (x/225, y))\\\n",
    "                               .shuffle(n_train)\\\n",
    "                               .batch(n_batchs, drop_remainder=True)\n",
    "\n",
    "val_dataset = tf.data.Dataset.from_tensor_slices((X_val, y_val))\\\n",
    "                             .map(lambda x,y: (x/255,y))\\\n",
    "                             .shuffle(n_val)\\\n",
    "                             .batch(n_batchs, drop_remainder=True)\n",
    "\n",
    "test_datdaset = tf.data.Dataset.from_tensor_slices((X_test, y_test))\\\n",
    "                               .map(lambda x,y : (x/255, y))\\\n",
    "                               .shuffle(n_test)\\\n",
    "                               .batch(n_batchs, drop_remainder=True)"
   ]
  },
  {
   "cell_type": "code",
   "execution_count": 117,
   "id": "affb7e58",
   "metadata": {
    "ExecuteTime": {
     "end_time": "2021-12-01T08:46:23.911904Z",
     "start_time": "2021-12-01T08:46:23.902906Z"
    }
   },
   "outputs": [],
   "source": [
    "def create_model():\n",
    "    model = keras.Sequential()\n",
    "    model.add(layers.Flatten(input_shape=(28,28)))    \n",
    "    model.add(layers.Dense(256, activation='relu'))\n",
    "    model.add(layers.Dense(128, activation='relu'))\n",
    "    model.add(layers.Dense(64, activation='relu'))\n",
    "#    model.add(layers.Dense(10, activiation='softmax'))\n",
    "    model.add(layers.Dense(10, activation='softmax'))    \n",
    "    return model"
   ]
  },
  {
   "cell_type": "code",
   "execution_count": 126,
   "id": "a7143c9b",
   "metadata": {
    "ExecuteTime": {
     "end_time": "2021-12-01T08:48:27.631640Z",
     "start_time": "2021-12-01T08:48:27.604398Z"
    }
   },
   "outputs": [],
   "source": [
    "model = create_model()\n",
    "model.compile(optimizer=keras.optimizers.Adam(Learning_rate),\n",
    "        loss='categorical_crossentropy',\n",
    "        metrics=['accuracy'])"
   ]
  },
  {
   "cell_type": "code",
   "execution_count": 128,
   "id": "e97b2cd9",
   "metadata": {
    "ExecuteTime": {
     "end_time": "2021-12-01T08:48:31.126146Z",
     "start_time": "2021-12-01T08:48:31.110114Z"
    }
   },
   "outputs": [
    {
     "name": "stdout",
     "output_type": "stream",
     "text": [
      "Model: \"sequential_14\"\n",
      "_________________________________________________________________\n",
      " Layer (type)                Output Shape              Param #   \n",
      "=================================================================\n",
      " flatten_9 (Flatten)         (None, 784)               0         \n",
      "                                                                 \n",
      " dense_39 (Dense)            (None, 256)               200960    \n",
      "                                                                 \n",
      " dense_40 (Dense)            (None, 128)               32896     \n",
      "                                                                 \n",
      " dense_41 (Dense)            (None, 64)                8256      \n",
      "                                                                 \n",
      " dense_42 (Dense)            (None, 10)                650       \n",
      "                                                                 \n",
      "=================================================================\n",
      "Total params: 242,762\n",
      "Trainable params: 242,762\n",
      "Non-trainable params: 0\n",
      "_________________________________________________________________\n"
     ]
    }
   ],
   "source": [
    "model.summary()"
   ]
  },
  {
   "cell_type": "code",
   "execution_count": 129,
   "id": "0e8227b5",
   "metadata": {
    "ExecuteTime": {
     "end_time": "2021-12-01T08:49:29.336818Z",
     "start_time": "2021-12-01T08:49:29.032777Z"
    }
   },
   "outputs": [
    {
     "data": {
      "image/png": "[encoded data removed]",
      "text/plain": [
       "<IPython.core.display.Image object>"
      ]
     },
     "execution_count": 129,
     "metadata": {},
     "output_type": "execute_result"
    }
   ],
   "source": [
    "keras.utils.plot_model(model, show_shapes=True, to_file='fashion_result.png')"
   ]
  },
  {
   "cell_type": "code",
   "execution_count": 130,
   "id": "5af30ffe",
   "metadata": {
    "ExecuteTime": {
     "end_time": "2021-12-01T08:52:41.672350Z",
     "start_time": "2021-12-01T08:50:12.244657Z"
    },
    "scrolled": true
   },
   "outputs": [
    {
     "name": "stdout",
     "output_type": "stream",
     "text": [
      "Epoch 1/100\n",
      "480/480 [==============================] - 1s 2ms/step - loss: 0.5338 - accuracy: 0.8097 - val_loss: 0.4250 - val_accuracy: 0.8433\n",
      "Epoch 2/100\n",
      "480/480 [==============================] - 1s 2ms/step - loss: 0.3789 - accuracy: 0.8629 - val_loss: 0.3761 - val_accuracy: 0.8567\n",
      "Epoch 3/100\n",
      "480/480 [==============================] - 1s 2ms/step - loss: 0.3425 - accuracy: 0.8744 - val_loss: 0.3441 - val_accuracy: 0.8735\n",
      "Epoch 4/100\n",
      "480/480 [==============================] - 1s 2ms/step - loss: 0.3128 - accuracy: 0.8848 - val_loss: 0.3371 - val_accuracy: 0.8747\n",
      "Epoch 5/100\n",
      "480/480 [==============================] - 1s 2ms/step - loss: 0.2952 - accuracy: 0.8915 - val_loss: 0.3211 - val_accuracy: 0.8832\n",
      "Epoch 6/100\n",
      "480/480 [==============================] - 1s 2ms/step - loss: 0.2785 - accuracy: 0.8964 - val_loss: 0.3323 - val_accuracy: 0.8795\n",
      "Epoch 7/100\n",
      "480/480 [==============================] - 1s 2ms/step - loss: 0.2647 - accuracy: 0.9006 - val_loss: 0.3087 - val_accuracy: 0.8852\n",
      "Epoch 8/100\n",
      "480/480 [==============================] - 1s 2ms/step - loss: 0.2563 - accuracy: 0.9027 - val_loss: 0.3080 - val_accuracy: 0.8850\n",
      "Epoch 9/100\n",
      "480/480 [==============================] - 1s 2ms/step - loss: 0.2440 - accuracy: 0.9084 - val_loss: 0.3026 - val_accuracy: 0.8866\n",
      "Epoch 10/100\n",
      "480/480 [==============================] - 2s 2ms/step - loss: 0.2359 - accuracy: 0.9112 - val_loss: 0.3210 - val_accuracy: 0.8853\n",
      "Epoch 11/100\n",
      "480/480 [==============================] - 1s 2ms/step - loss: 0.2251 - accuracy: 0.9151 - val_loss: 0.3005 - val_accuracy: 0.8918\n",
      "Epoch 12/100\n",
      "480/480 [==============================] - 1s 2ms/step - loss: 0.2201 - accuracy: 0.9163 - val_loss: 0.2960 - val_accuracy: 0.8932\n",
      "Epoch 13/100\n",
      "480/480 [==============================] - 1s 2ms/step - loss: 0.2099 - accuracy: 0.9208 - val_loss: 0.3178 - val_accuracy: 0.8857\n",
      "Epoch 14/100\n",
      "480/480 [==============================] - 2s 3ms/step - loss: 0.1991 - accuracy: 0.9232 - val_loss: 0.3162 - val_accuracy: 0.8928\n",
      "Epoch 15/100\n",
      "480/480 [==============================] - 2s 2ms/step - loss: 0.1930 - accuracy: 0.9272 - val_loss: 0.3066 - val_accuracy: 0.8928\n",
      "Epoch 16/100\n",
      "480/480 [==============================] - 1s 2ms/step - loss: 0.1929 - accuracy: 0.9267 - val_loss: 0.3058 - val_accuracy: 0.8947\n",
      "Epoch 17/100\n",
      "480/480 [==============================] - 1s 2ms/step - loss: 0.1830 - accuracy: 0.9312 - val_loss: 0.3109 - val_accuracy: 0.8925\n",
      "Epoch 18/100\n",
      "480/480 [==============================] - 2s 3ms/step - loss: 0.1740 - accuracy: 0.9349 - val_loss: 0.3118 - val_accuracy: 0.8959\n",
      "Epoch 19/100\n",
      "480/480 [==============================] - 1s 2ms/step - loss: 0.1661 - accuracy: 0.9365 - val_loss: 0.3084 - val_accuracy: 0.8966\n",
      "Epoch 20/100\n",
      "480/480 [==============================] - 1s 2ms/step - loss: 0.1665 - accuracy: 0.9374 - val_loss: 0.3087 - val_accuracy: 0.8957\n",
      "Epoch 21/100\n",
      "480/480 [==============================] - 1s 2ms/step - loss: 0.1586 - accuracy: 0.9394 - val_loss: 0.3066 - val_accuracy: 0.8989\n",
      "Epoch 22/100\n",
      "480/480 [==============================] - 2s 3ms/step - loss: 0.1576 - accuracy: 0.9397 - val_loss: 0.3197 - val_accuracy: 0.8949\n",
      "Epoch 23/100\n",
      "480/480 [==============================] - 1s 2ms/step - loss: 0.1508 - accuracy: 0.9425 - val_loss: 0.3272 - val_accuracy: 0.8973\n",
      "Epoch 24/100\n",
      "480/480 [==============================] - 1s 2ms/step - loss: 0.1437 - accuracy: 0.9454 - val_loss: 0.3540 - val_accuracy: 0.8911\n",
      "Epoch 25/100\n",
      "480/480 [==============================] - 1s 2ms/step - loss: 0.1401 - accuracy: 0.9467 - val_loss: 0.3545 - val_accuracy: 0.8908\n",
      "Epoch 26/100\n",
      "480/480 [==============================] - 1s 2ms/step - loss: 0.1363 - accuracy: 0.9472 - val_loss: 0.3640 - val_accuracy: 0.8919\n",
      "Epoch 27/100\n",
      "480/480 [==============================] - 1s 2ms/step - loss: 0.1351 - accuracy: 0.9481 - val_loss: 0.3291 - val_accuracy: 0.8978\n",
      "Epoch 28/100\n",
      "480/480 [==============================] - 1s 2ms/step - loss: 0.1267 - accuracy: 0.9510 - val_loss: 0.3561 - val_accuracy: 0.8983\n",
      "Epoch 29/100\n",
      "480/480 [==============================] - 1s 2ms/step - loss: 0.1260 - accuracy: 0.9521 - val_loss: 0.3702 - val_accuracy: 0.8960\n",
      "Epoch 30/100\n",
      "480/480 [==============================] - 2s 3ms/step - loss: 0.1194 - accuracy: 0.9539 - val_loss: 0.3757 - val_accuracy: 0.8918\n",
      "Epoch 31/100\n",
      "480/480 [==============================] - 1s 2ms/step - loss: 0.1165 - accuracy: 0.9548 - val_loss: 0.3738 - val_accuracy: 0.9004\n",
      "Epoch 32/100\n",
      "480/480 [==============================] - 2s 2ms/step - loss: 0.1142 - accuracy: 0.9555 - val_loss: 0.3784 - val_accuracy: 0.8947\n",
      "Epoch 33/100\n",
      "480/480 [==============================] - 1s 2ms/step - loss: 0.1128 - accuracy: 0.9571 - val_loss: 0.3958 - val_accuracy: 0.8933\n",
      "Epoch 34/100\n",
      "480/480 [==============================] - 1s 2ms/step - loss: 0.1117 - accuracy: 0.9577 - val_loss: 0.4003 - val_accuracy: 0.8987\n",
      "Epoch 35/100\n",
      "480/480 [==============================] - 1s 2ms/step - loss: 0.1015 - accuracy: 0.9607 - val_loss: 0.3961 - val_accuracy: 0.8962\n",
      "Epoch 36/100\n",
      "480/480 [==============================] - 1s 2ms/step - loss: 0.1009 - accuracy: 0.9621 - val_loss: 0.3671 - val_accuracy: 0.8963\n",
      "Epoch 37/100\n",
      "480/480 [==============================] - 1s 2ms/step - loss: 0.1011 - accuracy: 0.9618 - val_loss: 0.4115 - val_accuracy: 0.8983\n",
      "Epoch 38/100\n",
      "480/480 [==============================] - 2s 3ms/step - loss: 0.0931 - accuracy: 0.9644 - val_loss: 0.4375 - val_accuracy: 0.8972\n",
      "Epoch 39/100\n",
      "480/480 [==============================] - 1s 2ms/step - loss: 0.0938 - accuracy: 0.9644 - val_loss: 0.4384 - val_accuracy: 0.8943\n",
      "Epoch 40/100\n",
      "480/480 [==============================] - 2s 2ms/step - loss: 0.0884 - accuracy: 0.9655 - val_loss: 0.4952 - val_accuracy: 0.8939\n",
      "Epoch 41/100\n",
      "480/480 [==============================] - 1s 2ms/step - loss: 0.1010 - accuracy: 0.9613 - val_loss: 0.4183 - val_accuracy: 0.8957\n",
      "Epoch 42/100\n",
      "480/480 [==============================] - 1s 2ms/step - loss: 0.0891 - accuracy: 0.9658 - val_loss: 0.4370 - val_accuracy: 0.8918\n",
      "Epoch 43/100\n",
      "480/480 [==============================] - 1s 2ms/step - loss: 0.0844 - accuracy: 0.9684 - val_loss: 0.4597 - val_accuracy: 0.8918\n",
      "Epoch 44/100\n",
      "480/480 [==============================] - 1s 2ms/step - loss: 0.0813 - accuracy: 0.9691 - val_loss: 0.4322 - val_accuracy: 0.8986\n",
      "Epoch 45/100\n",
      "480/480 [==============================] - 1s 2ms/step - loss: 0.0788 - accuracy: 0.9698 - val_loss: 0.4928 - val_accuracy: 0.8950\n",
      "Epoch 46/100\n",
      "480/480 [==============================] - 1s 2ms/step - loss: 0.0817 - accuracy: 0.9685 - val_loss: 0.4724 - val_accuracy: 0.8982\n",
      "Epoch 47/100\n",
      "480/480 [==============================] - 1s 2ms/step - loss: 0.0779 - accuracy: 0.9696 - val_loss: 0.4653 - val_accuracy: 0.8978\n",
      "Epoch 48/100\n",
      "480/480 [==============================] - 1s 2ms/step - loss: 0.0714 - accuracy: 0.9725 - val_loss: 0.4925 - val_accuracy: 0.8960\n",
      "Epoch 49/100\n",
      "480/480 [==============================] - 1s 2ms/step - loss: 0.0714 - accuracy: 0.9727 - val_loss: 0.4892 - val_accuracy: 0.8973\n",
      "Epoch 50/100\n",
      "480/480 [==============================] - 1s 2ms/step - loss: 0.0699 - accuracy: 0.9735 - val_loss: 0.5142 - val_accuracy: 0.8948\n",
      "Epoch 51/100\n",
      "480/480 [==============================] - 1s 2ms/step - loss: 0.0742 - accuracy: 0.9718 - val_loss: 0.5097 - val_accuracy: 0.8992\n",
      "Epoch 52/100\n",
      "480/480 [==============================] - 1s 2ms/step - loss: 0.0766 - accuracy: 0.9719 - val_loss: 0.5065 - val_accuracy: 0.8939\n",
      "Epoch 53/100\n",
      "480/480 [==============================] - 1s 2ms/step - loss: 0.0679 - accuracy: 0.9743 - val_loss: 0.4936 - val_accuracy: 0.8968\n",
      "Epoch 54/100\n",
      "480/480 [==============================] - 2s 2ms/step - loss: 0.0635 - accuracy: 0.9760 - val_loss: 0.5027 - val_accuracy: 0.9015\n",
      "Epoch 55/100\n",
      "480/480 [==============================] - 2s 3ms/step - loss: 0.0683 - accuracy: 0.9745 - val_loss: 0.4925 - val_accuracy: 0.8986\n",
      "Epoch 56/100\n",
      "480/480 [==============================] - 1s 2ms/step - loss: 0.0608 - accuracy: 0.9765 - val_loss: 0.5115 - val_accuracy: 0.8964\n",
      "Epoch 57/100\n",
      "480/480 [==============================] - 2s 2ms/step - loss: 0.0659 - accuracy: 0.9745 - val_loss: 0.5110 - val_accuracy: 0.9002\n"
     ]
    },
    {
     "name": "stdout",
     "output_type": "stream",
     "text": [
      "Epoch 58/100\n",
      "480/480 [==============================] - 2s 3ms/step - loss: 0.0712 - accuracy: 0.9744 - val_loss: 0.5502 - val_accuracy: 0.8892\n",
      "Epoch 59/100\n",
      "480/480 [==============================] - 1s 2ms/step - loss: 0.0566 - accuracy: 0.9783 - val_loss: 0.5187 - val_accuracy: 0.8999\n",
      "Epoch 60/100\n",
      "480/480 [==============================] - 2s 2ms/step - loss: 0.0586 - accuracy: 0.9777 - val_loss: 0.5553 - val_accuracy: 0.8905\n",
      "Epoch 61/100\n",
      "480/480 [==============================] - 1s 2ms/step - loss: 0.0606 - accuracy: 0.9770 - val_loss: 0.5769 - val_accuracy: 0.8974\n",
      "Epoch 62/100\n",
      "480/480 [==============================] - 1s 2ms/step - loss: 0.0602 - accuracy: 0.9778 - val_loss: 0.5783 - val_accuracy: 0.8955\n",
      "Epoch 63/100\n",
      "480/480 [==============================] - 1s 2ms/step - loss: 0.0547 - accuracy: 0.9791 - val_loss: 0.5575 - val_accuracy: 0.8996\n",
      "Epoch 64/100\n",
      "480/480 [==============================] - 1s 2ms/step - loss: 0.0636 - accuracy: 0.9764 - val_loss: 0.5484 - val_accuracy: 0.8944\n",
      "Epoch 65/100\n",
      "480/480 [==============================] - 2s 3ms/step - loss: 0.0538 - accuracy: 0.9800 - val_loss: 0.5268 - val_accuracy: 0.8954\n",
      "Epoch 66/100\n",
      "480/480 [==============================] - 2s 2ms/step - loss: 0.0571 - accuracy: 0.9783 - val_loss: 0.5694 - val_accuracy: 0.8928\n",
      "Epoch 67/100\n",
      "480/480 [==============================] - 2s 3ms/step - loss: 0.0556 - accuracy: 0.9789 - val_loss: 0.5468 - val_accuracy: 0.8992\n",
      "Epoch 68/100\n",
      "480/480 [==============================] - 2s 3ms/step - loss: 0.0465 - accuracy: 0.9829 - val_loss: 0.6488 - val_accuracy: 0.8875\n",
      "Epoch 69/100\n",
      "480/480 [==============================] - 1s 2ms/step - loss: 0.0531 - accuracy: 0.9794 - val_loss: 0.5956 - val_accuracy: 0.8932\n",
      "Epoch 70/100\n",
      "480/480 [==============================] - 1s 2ms/step - loss: 0.0579 - accuracy: 0.9791 - val_loss: 0.5474 - val_accuracy: 0.8938\n",
      "Epoch 71/100\n",
      "480/480 [==============================] - 2s 3ms/step - loss: 0.0481 - accuracy: 0.9816 - val_loss: 0.5873 - val_accuracy: 0.8985\n",
      "Epoch 72/100\n",
      "480/480 [==============================] - 2s 2ms/step - loss: 0.0540 - accuracy: 0.9802 - val_loss: 0.5777 - val_accuracy: 0.8981\n",
      "Epoch 73/100\n",
      "480/480 [==============================] - 2s 3ms/step - loss: 0.0446 - accuracy: 0.9839 - val_loss: 0.6071 - val_accuracy: 0.8991\n",
      "Epoch 74/100\n",
      "480/480 [==============================] - 2s 3ms/step - loss: 0.0476 - accuracy: 0.9823 - val_loss: 0.6643 - val_accuracy: 0.8861\n",
      "Epoch 75/100\n",
      "480/480 [==============================] - 1s 2ms/step - loss: 0.0553 - accuracy: 0.9795 - val_loss: 0.6125 - val_accuracy: 0.8907\n",
      "Epoch 76/100\n",
      "480/480 [==============================] - 1s 2ms/step - loss: 0.0393 - accuracy: 0.9850 - val_loss: 0.6203 - val_accuracy: 0.8963\n",
      "Epoch 77/100\n",
      "480/480 [==============================] - 1s 2ms/step - loss: 0.0471 - accuracy: 0.9831 - val_loss: 0.6391 - val_accuracy: 0.8967\n",
      "Epoch 78/100\n",
      "480/480 [==============================] - 2s 2ms/step - loss: 0.0390 - accuracy: 0.9853 - val_loss: 0.6335 - val_accuracy: 0.8972\n",
      "Epoch 79/100\n",
      "480/480 [==============================] - 2s 3ms/step - loss: 0.0455 - accuracy: 0.9829 - val_loss: 0.6915 - val_accuracy: 0.8951\n",
      "Epoch 80/100\n",
      "480/480 [==============================] - 1s 2ms/step - loss: 0.0478 - accuracy: 0.9813 - val_loss: 0.6583 - val_accuracy: 0.8978\n",
      "Epoch 81/100\n",
      "480/480 [==============================] - 1s 2ms/step - loss: 0.0411 - accuracy: 0.9851 - val_loss: 0.6526 - val_accuracy: 0.8973\n",
      "Epoch 82/100\n",
      "480/480 [==============================] - 2s 3ms/step - loss: 0.0483 - accuracy: 0.9826 - val_loss: 0.6941 - val_accuracy: 0.8952\n",
      "Epoch 83/100\n",
      "480/480 [==============================] - 1s 2ms/step - loss: 0.0465 - accuracy: 0.9835 - val_loss: 0.6482 - val_accuracy: 0.8944\n",
      "Epoch 84/100\n",
      "480/480 [==============================] - 2s 2ms/step - loss: 0.0375 - accuracy: 0.9864 - val_loss: 0.6547 - val_accuracy: 0.8982\n",
      "Epoch 85/100\n",
      "480/480 [==============================] - 1s 2ms/step - loss: 0.0438 - accuracy: 0.9847 - val_loss: 0.6812 - val_accuracy: 0.8906\n",
      "Epoch 86/100\n",
      "480/480 [==============================] - 2s 2ms/step - loss: 0.0373 - accuracy: 0.9862 - val_loss: 0.6925 - val_accuracy: 0.8948\n",
      "Epoch 87/100\n",
      "480/480 [==============================] - 1s 2ms/step - loss: 0.0364 - accuracy: 0.9867 - val_loss: 0.6246 - val_accuracy: 0.8953\n",
      "Epoch 88/100\n",
      "480/480 [==============================] - 1s 2ms/step - loss: 0.0426 - accuracy: 0.9841 - val_loss: 0.6507 - val_accuracy: 0.8935\n",
      "Epoch 89/100\n",
      "480/480 [==============================] - 1s 2ms/step - loss: 0.0470 - accuracy: 0.9839 - val_loss: 0.6732 - val_accuracy: 0.8941\n",
      "Epoch 90/100\n",
      "480/480 [==============================] - 2s 2ms/step - loss: 0.0331 - accuracy: 0.9876 - val_loss: 0.6495 - val_accuracy: 0.8910\n",
      "Epoch 91/100\n",
      "480/480 [==============================] - 1s 2ms/step - loss: 0.0430 - accuracy: 0.9842 - val_loss: 0.6629 - val_accuracy: 0.8971\n",
      "Epoch 92/100\n",
      "480/480 [==============================] - 1s 2ms/step - loss: 0.0355 - accuracy: 0.9870 - val_loss: 0.6657 - val_accuracy: 0.8895\n",
      "Epoch 93/100\n",
      "480/480 [==============================] - 1s 2ms/step - loss: 0.0371 - accuracy: 0.9863 - val_loss: 0.6771 - val_accuracy: 0.8967\n",
      "Epoch 94/100\n",
      "480/480 [==============================] - 1s 2ms/step - loss: 0.0393 - accuracy: 0.9847 - val_loss: 0.7177 - val_accuracy: 0.8975\n",
      "Epoch 95/100\n",
      "480/480 [==============================] - 1s 2ms/step - loss: 0.0347 - accuracy: 0.9870 - val_loss: 0.7039 - val_accuracy: 0.8976\n",
      "Epoch 96/100\n",
      "480/480 [==============================] - 1s 2ms/step - loss: 0.0442 - accuracy: 0.9842 - val_loss: 0.7317 - val_accuracy: 0.8922\n",
      "Epoch 97/100\n",
      "480/480 [==============================] - 1s 2ms/step - loss: 0.0352 - accuracy: 0.9874 - val_loss: 0.6951 - val_accuracy: 0.9004\n",
      "Epoch 98/100\n",
      "480/480 [==============================] - 1s 2ms/step - loss: 0.0384 - accuracy: 0.9860 - val_loss: 0.7200 - val_accuracy: 0.8937\n",
      "Epoch 99/100\n",
      "480/480 [==============================] - 1s 2ms/step - loss: 0.0258 - accuracy: 0.9904 - val_loss: 0.7299 - val_accuracy: 0.8985\n",
      "Epoch 100/100\n",
      "480/480 [==============================] - 2s 3ms/step - loss: 0.0385 - accuracy: 0.9862 - val_loss: 0.7889 - val_accuracy: 0.8972\n"
     ]
    }
   ],
   "source": [
    "#train\n",
    "hist = model.fit(train_dataset,\n",
    "                epochs=n_epochs,\n",
    "                 validation_data=val_dataset\n",
    "                )"
   ]
  },
  {
   "cell_type": "code",
   "execution_count": 131,
   "id": "5c18da58",
   "metadata": {
    "ExecuteTime": {
     "end_time": "2021-12-01T08:54:24.630377Z",
     "start_time": "2021-12-01T08:54:24.592369Z"
    }
   },
   "outputs": [],
   "source": [
    "#12가 제일 낮음\n",
    "model = create_model()\n",
    "\n",
    "model.compile(optimizer=keras.optimizers.Adam(Learning_rate),\n",
    "             loss='categorical_crossentropy',\n",
    "              metrics = ['accuracy']\n",
    "             )"
   ]
  },
  {
   "cell_type": "code",
   "execution_count": 133,
   "id": "e9130de4",
   "metadata": {
    "ExecuteTime": {
     "end_time": "2021-12-01T08:55:42.904790Z",
     "start_time": "2021-12-01T08:55:24.264649Z"
    }
   },
   "outputs": [
    {
     "name": "stdout",
     "output_type": "stream",
     "text": [
      "Epoch 1/12\n",
      "480/480 [==============================] - 2s 2ms/step - loss: 0.5406 - accuracy: 0.8097 - val_loss: 0.4169 - val_accuracy: 0.8528\n",
      "Epoch 2/12\n",
      "480/480 [==============================] - 2s 2ms/step - loss: 0.3845 - accuracy: 0.8624 - val_loss: 0.3964 - val_accuracy: 0.8519\n",
      "Epoch 3/12\n",
      "480/480 [==============================] - 2s 3ms/step - loss: 0.3432 - accuracy: 0.8749 - val_loss: 0.3551 - val_accuracy: 0.8679\n",
      "Epoch 4/12\n",
      "480/480 [==============================] - 1s 2ms/step - loss: 0.3168 - accuracy: 0.8827 - val_loss: 0.3255 - val_accuracy: 0.8808\n",
      "Epoch 5/12\n",
      "480/480 [==============================] - 2s 3ms/step - loss: 0.2968 - accuracy: 0.8908 - val_loss: 0.3326 - val_accuracy: 0.8784\n",
      "Epoch 6/12\n",
      "480/480 [==============================] - 1s 2ms/step - loss: 0.2794 - accuracy: 0.8956 - val_loss: 0.3117 - val_accuracy: 0.8829\n",
      "Epoch 7/12\n",
      "480/480 [==============================] - 2s 3ms/step - loss: 0.2660 - accuracy: 0.9014 - val_loss: 0.3107 - val_accuracy: 0.8876\n",
      "Epoch 8/12\n",
      "480/480 [==============================] - 1s 2ms/step - loss: 0.2554 - accuracy: 0.9039 - val_loss: 0.3078 - val_accuracy: 0.8868\n",
      "Epoch 9/12\n",
      "480/480 [==============================] - 1s 2ms/step - loss: 0.2457 - accuracy: 0.9064 - val_loss: 0.3102 - val_accuracy: 0.8914\n",
      "Epoch 10/12\n",
      "480/480 [==============================] - 2s 3ms/step - loss: 0.2359 - accuracy: 0.9115 - val_loss: 0.3070 - val_accuracy: 0.8880\n",
      "Epoch 11/12\n",
      "480/480 [==============================] - 1s 2ms/step - loss: 0.2281 - accuracy: 0.9145 - val_loss: 0.3092 - val_accuracy: 0.8926\n",
      "Epoch 12/12\n",
      "480/480 [==============================] - 1s 2ms/step - loss: 0.2213 - accuracy: 0.9171 - val_loss: 0.3081 - val_accuracy: 0.8877\n"
     ]
    }
   ],
   "source": [
    "hist = model.fit(train_dataset,\n",
    "                epochs=12,\n",
    "                validation_data=val_dataset)"
   ]
  },
  {
   "cell_type": "code",
   "execution_count": 134,
   "id": "fccfab8c",
   "metadata": {
    "ExecuteTime": {
     "end_time": "2021-12-01T08:55:49.543680Z",
     "start_time": "2021-12-01T08:55:49.462118Z"
    },
    "scrolled": true
   },
   "outputs": [
    {
     "data": {
      "image/png": "[encoded data removed]",
      "text/plain": [
       "<Figure size 504x432 with 1 Axes>"
      ]
     },
     "metadata": {
      "needs_background": "light"
     },
     "output_type": "display_data"
    }
   ],
   "source": [
    "plt.figure(figsize=(7,6))\n",
    "plt.plot(range(1, 12+1), hist.history['loss'], label='train loss')\n",
    "plt.plot(range(1, 12+1), hist.history['val_loss'], label='validation loss')\n",
    "plt.title(\"LOSS\", fontsize=20)\n",
    "plt.xlabel(\"Epochs\")\n",
    "plt.ylabel(\"Loss\")\n",
    "plt.legend()\n",
    "plt.show()"
   ]
  },
  {
   "cell_type": "code",
   "execution_count": 135,
   "id": "55fe2f71",
   "metadata": {
    "ExecuteTime": {
     "end_time": "2021-12-01T08:56:06.489100Z",
     "start_time": "2021-12-01T08:56:06.403912Z"
    },
    "scrolled": true
   },
   "outputs": [
    {
     "data": {
      "image/png": "[encoded data removed]",
      "text/plain": [
       "<Figure size 504x432 with 1 Axes>"
      ]
     },
     "metadata": {
      "needs_background": "light"
     },
     "output_type": "display_data"
    }
   ],
   "source": [
    "plt.figure(figsize=(7,6))\n",
    "plt.plot(range(1, 12+1), hist.history['accuracy'], label='train accuracy')\n",
    "plt.plot(range(1, 12+1), hist.history['val_accuracy'], label='validation accuracy')\n",
    "plt.title(\"Accuracy\", fontsize=20)\n",
    "plt.xlabel(\"Epochs\")\n",
    "plt.ylabel(\"Accuracy\")\n",
    "plt.legend()\n",
    "plt.show()"
   ]
  },
  {
   "cell_type": "code",
   "execution_count": 138,
   "id": "80b5c250",
   "metadata": {
    "ExecuteTime": {
     "end_time": "2021-12-01T08:57:46.716865Z",
     "start_time": "2021-12-01T08:57:46.494866Z"
    }
   },
   "outputs": [
    {
     "name": "stdout",
     "output_type": "stream",
     "text": [
      "100/100 [==============================] - 0s 1ms/step - loss: 0.3311 - accuracy: 0.8831\n"
     ]
    }
   ],
   "source": [
    "loss, accuracy = model.evaluate(test_datdaset)"
   ]
  },
  {
   "cell_type": "code",
   "execution_count": 140,
   "id": "2fb8bd18",
   "metadata": {
    "ExecuteTime": {
     "end_time": "2021-12-01T08:57:59.856360Z",
     "start_time": "2021-12-01T08:57:59.844337Z"
    }
   },
   "outputs": [
    {
     "data": {
      "text/plain": [
       "(0.331143319606781, 0.8830999732017517)"
      ]
     },
     "execution_count": 140,
     "metadata": {},
     "output_type": "execute_result"
    }
   ],
   "source": [
    "loss, accuracy"
   ]
  },
  {
   "cell_type": "code",
   "execution_count": 141,
   "id": "463d2156",
   "metadata": {
    "ExecuteTime": {
     "end_time": "2021-12-01T08:58:33.136785Z",
     "start_time": "2021-12-01T08:58:33.119785Z"
    }
   },
   "outputs": [],
   "source": [
    "#새로운 데이터 추론\n",
    "new_input = X_test[:5]\n",
    "\n",
    "new_input = new_input/255.0"
   ]
  },
  {
   "cell_type": "code",
   "execution_count": 142,
   "id": "79ffa255",
   "metadata": {
    "ExecuteTime": {
     "end_time": "2021-12-01T08:58:49.852112Z",
     "start_time": "2021-12-01T08:58:49.804631Z"
    }
   },
   "outputs": [
    {
     "data": {
      "text/plain": [
       "(5, 10)"
      ]
     },
     "execution_count": 142,
     "metadata": {},
     "output_type": "execute_result"
    }
   ],
   "source": [
    "pred = model.predict(new_input)\n",
    "pred.shape"
   ]
  },
  {
   "cell_type": "code",
   "execution_count": 143,
   "id": "473e3171",
   "metadata": {
    "ExecuteTime": {
     "end_time": "2021-12-01T08:58:54.277424Z",
     "start_time": "2021-12-01T08:58:54.260423Z"
    }
   },
   "outputs": [
    {
     "data": {
      "text/plain": [
       "array([[2.38794996e-06, 3.14521931e-05, 2.00002273e-06, 2.57307374e-06,\n",
       "        9.61721798e-06, 6.95888139e-03, 5.05169965e-06, 3.78316781e-03,\n",
       "        3.88294893e-07, 9.89204586e-01],\n",
       "       [5.36578264e-05, 4.71882267e-09, 9.86414254e-01, 2.97512975e-06,\n",
       "        1.16158407e-02, 1.06865707e-08, 1.91275089e-03, 8.45061354e-09,\n",
       "        1.47948214e-07, 3.32363243e-07],\n",
       "       [7.05196526e-11, 1.00000000e+00, 8.45510565e-13, 1.08511516e-11,\n",
       "        4.82704751e-13, 4.43907458e-19, 9.64119784e-10, 5.49318496e-19,\n",
       "        2.01941816e-13, 5.52214229e-17],\n",
       "       [8.83371501e-11, 1.00000000e+00, 2.29944640e-11, 1.55961591e-10,\n",
       "        9.76695461e-12, 1.75645358e-16, 3.11015724e-09, 1.89064940e-16,\n",
       "        2.03911215e-12, 7.97145248e-15],\n",
       "       [2.31578544e-01, 4.70117720e-06, 1.17695555e-02, 9.52223141e-04,\n",
       "        3.08990106e-03, 1.49570383e-06, 7.52528489e-01, 2.52186851e-07,\n",
       "        7.12097099e-05, 3.62212609e-06]], dtype=float32)"
      ]
     },
     "execution_count": 143,
     "metadata": {},
     "output_type": "execute_result"
    }
   ],
   "source": [
    "pred"
   ]
  },
  {
   "cell_type": "code",
   "execution_count": 147,
   "id": "a367684a",
   "metadata": {
    "ExecuteTime": {
     "end_time": "2021-12-01T08:59:52.345231Z",
     "start_time": "2021-12-01T08:59:52.332207Z"
    }
   },
   "outputs": [
    {
     "data": {
      "text/plain": [
       "array([9, 2, 1, 1, 6], dtype=int64)"
      ]
     },
     "execution_count": 147,
     "metadata": {},
     "output_type": "execute_result"
    }
   ],
   "source": [
    "pred_class = np.argmax(pred, axis=-1) #1\n",
    "pred_class"
   ]
  },
  {
   "cell_type": "code",
   "execution_count": 148,
   "id": "846fc879",
   "metadata": {
    "ExecuteTime": {
     "end_time": "2021-12-01T09:00:31.832707Z",
     "start_time": "2021-12-01T09:00:31.819681Z"
    }
   },
   "outputs": [
    {
     "data": {
      "text/plain": [
       "array([9, 2, 1, 1, 6], dtype=uint8)"
      ]
     },
     "execution_count": 148,
     "metadata": {},
     "output_type": "execute_result"
    }
   ],
   "source": [
    "test_label[:5]"
   ]
  },
  {
   "cell_type": "code",
   "execution_count": 150,
   "id": "852732fc",
   "metadata": {
    "ExecuteTime": {
     "end_time": "2021-12-01T09:01:02.485757Z",
     "start_time": "2021-12-01T09:01:02.479759Z"
    }
   },
   "outputs": [
    {
     "data": {
      "text/plain": [
       "array(['Ankle boot', 'Pullover', 'Trousers', 'Trousers', 'Shirt'],\n",
       "      dtype='<U11')"
      ]
     },
     "execution_count": 150,
     "metadata": {},
     "output_type": "execute_result"
    }
   ],
   "source": [
    "class_names= np.array(class_names)\n",
    "class_names[pred_class]"
   ]
  }
 ],
 "metadata": {
  "kernelspec": {
   "display_name": "Python 3 (ipykernel)",
   "language": "python",
   "name": "python3"
  },
  "language_info": {
   "codemirror_mode": {
    "name": "ipython",
    "version": 3
   },
   "file_extension": ".py",
   "mimetype": "text/x-python",
   "name": "python",
   "nbconvert_exporter": "python",
   "pygments_lexer": "ipython3",
   "version": "3.9.7"
  },
  "toc": {
   "base_numbering": 1,
   "nav_menu": {},
   "number_sections": true,
   "sideBar": true,
   "skip_h1_title": false,
   "title_cell": "Table of Contents",
   "title_sidebar": "Contents",
   "toc_cell": false,
   "toc_position": {},
   "toc_section_display": true,
   "toc_window_display": false
  },
  "varInspector": {
   "cols": {
    "lenName": 16,
    "lenType": 16,
    "lenVar": 40
   },
   "kernels_config": {
    "python": {
     "delete_cmd_postfix": "",
     "delete_cmd_prefix": "del ",
     "library": "var_list.py",
     "varRefreshCmd": "print(var_dic_list())"
    },
    "r": {
     "delete_cmd_postfix": ") ",
     "delete_cmd_prefix": "rm(",
     "library": "var_list.r",
     "varRefreshCmd": "cat(var_dic_list()) "
    }
   },
   "types_to_exclude": [
    "module",
    "function",
    "builtin_function_or_method",
    "instance",
    "_Feature"
   ],
   "window_display": false
  }
 },
 "nbformat": 4,
 "nbformat_minor": 5
}
