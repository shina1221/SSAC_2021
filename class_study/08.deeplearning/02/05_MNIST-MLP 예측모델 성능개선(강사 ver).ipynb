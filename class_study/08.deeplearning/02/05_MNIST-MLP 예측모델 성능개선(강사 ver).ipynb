{
 "cells": [
  {
   "cell_type": "markdown",
   "metadata": {},
   "source": [
    "# MNIST 예측 모델 성능개선"
   ]
  },
  {
   "cell_type": "code",
   "execution_count": 1,
   "metadata": {
    "ExecuteTime": {
     "end_time": "2021-09-03T06:02:08.755178Z",
     "start_time": "2021-09-03T06:02:05.017485Z"
    },
    "colab": {},
    "colab_type": "code",
    "executionInfo": {
     "elapsed": 2159,
     "status": "ok",
     "timestamp": 1600330621208,
     "user": {
      "displayName": "김성환",
      "photoUrl": "https://lh3.googleusercontent.com/a-/AOh14GjqNkeEG8Sp5Fmsq56VZoiRsSxwUXmtH2Mb14M3YQA=s64",
      "userId": "02802166581970122576"
     },
     "user_tz": -540
    },
    "id": "MvF60Ok4IiTJ"
   },
   "outputs": [],
   "source": [
    "import numpy as np\n",
    "import matplotlib.pyplot as plt\n",
    "import tensorflow as tf\n",
    "import tensorflow.keras as keras"
   ]
  },
  {
   "cell_type": "code",
   "execution_count": 2,
   "metadata": {
    "ExecuteTime": {
     "end_time": "2021-09-03T06:02:08.785615Z",
     "start_time": "2021-09-03T06:02:08.755178Z"
    },
    "colab": {},
    "colab_type": "code",
    "executionInfo": {
     "elapsed": 876,
     "status": "ok",
     "timestamp": 1600332318488,
     "user": {
      "displayName": "김성환",
      "photoUrl": "https://lh3.googleusercontent.com/a-/AOh14GjqNkeEG8Sp5Fmsq56VZoiRsSxwUXmtH2Mb14M3YQA=s64",
      "userId": "02802166581970122576"
     },
     "user_tz": -540
    },
    "id": "DE0nHvfuIiTU"
   },
   "outputs": [],
   "source": [
    "# 학습결과 그래프 함수\n",
    "# loss 그래프\n",
    "def loss_plot(history):\n",
    "    plt.figure(figsize=(10,7))\n",
    "    plt.plot(history.history['loss'], label='Train loss')\n",
    "    plt.plot(history.history['val_loss'], label='Validation loss')\n",
    "    plt.title('Loss')\n",
    "    plt.xlabel('Epoch')\n",
    "    plt.ylabel('Loss')\n",
    "    plt.ylim(0, 0.5)\n",
    "    plt.legend()\n",
    "    plt.show()"
   ]
  },
  {
   "cell_type": "code",
   "execution_count": 3,
   "metadata": {
    "ExecuteTime": {
     "end_time": "2021-09-03T06:02:08.801756Z",
     "start_time": "2021-09-03T06:02:08.787534Z"
    },
    "colab": {},
    "colab_type": "code",
    "executionInfo": {
     "elapsed": 812,
     "status": "ok",
     "timestamp": 1600332328490,
     "user": {
      "displayName": "김성환",
      "photoUrl": "https://lh3.googleusercontent.com/a-/AOh14GjqNkeEG8Sp5Fmsq56VZoiRsSxwUXmtH2Mb14M3YQA=s64",
      "userId": "02802166581970122576"
     },
     "user_tz": -540
    },
    "id": "56xuhkv7IiTi"
   },
   "outputs": [],
   "source": [
    "# accuracy 그래프\n",
    "def accuracy_plot(history):\n",
    "    plt.figure(figsize=(10,7))\n",
    "    plt.plot(history.history['accuracy'], label='Train accuracy')\n",
    "    plt.plot(history.history['val_accuracy'], label='Validation accuracy')\n",
    "    plt.title('accuracy')\n",
    "    plt.xlabel('Epoch')\n",
    "    plt.ylabel('accuracy')\n",
    "    plt.ylim(0.8, 1.0)\n",
    "    plt.legend()\n",
    "    plt.show()"
   ]
  },
  {
   "cell_type": "code",
   "execution_count": 4,
   "metadata": {
    "ExecuteTime": {
     "end_time": "2021-09-03T06:02:09.135284Z",
     "start_time": "2021-09-03T06:02:08.804502Z"
    },
    "colab": {
     "base_uri": "https://localhost:8080/",
     "height": 74
    },
    "colab_type": "code",
    "executionInfo": {
     "elapsed": 2729,
     "status": "ok",
     "timestamp": 1600330621809,
     "user": {
      "displayName": "김성환",
      "photoUrl": "https://lh3.googleusercontent.com/a-/AOh14GjqNkeEG8Sp5Fmsq56VZoiRsSxwUXmtH2Mb14M3YQA=s64",
      "userId": "02802166581970122576"
     },
     "user_tz": -540
    },
    "id": "Oi4u0RCGIiTt",
    "outputId": "4150ebfd-2da1-4993-cf90-d6aee85e4f2a"
   },
   "outputs": [
    {
     "data": {
      "text/plain": [
       "((60000, 28, 28), (10000, 28, 28))"
      ]
     },
     "execution_count": 4,
     "metadata": {},
     "output_type": "execute_result"
    }
   ],
   "source": [
    "# Data 로딩\n",
    "(train_image, train_labels), (test_image, test_labels) = keras.datasets.mnist.load_data()\n",
    "train_image.shape, test_image.shape"
   ]
  },
  {
   "cell_type": "code",
   "execution_count": 5,
   "metadata": {
    "ExecuteTime": {
     "end_time": "2021-09-03T06:02:09.151284Z",
     "start_time": "2021-09-03T06:02:09.138283Z"
    },
    "colab": {},
    "colab_type": "code",
    "executionInfo": {
     "elapsed": 993,
     "status": "ok",
     "timestamp": 1600331834773,
     "user": {
      "displayName": "김성환",
      "photoUrl": "https://lh3.googleusercontent.com/a-/AOh14GjqNkeEG8Sp5Fmsq56VZoiRsSxwUXmtH2Mb14M3YQA=s64",
      "userId": "02802166581970122576"
     },
     "user_tz": -540
    },
    "id": "EUkXaH1RIiT1"
   },
   "outputs": [],
   "source": [
    "learning_rate = 0.001\n",
    "N_EPOCHS = 130\n",
    "N_BATCH = 200\n",
    "\n",
    "N_CLASS = 10 # label의 클래스(범주) 개수\n",
    "\n",
    "N_TRAIN = train_image.shape[0]  \n",
    "N_TEST = test_image.shape[0]"
   ]
  },
  {
   "cell_type": "code",
   "execution_count": 6,
   "metadata": {
    "ExecuteTime": {
     "end_time": "2021-09-03T06:02:09.342476Z",
     "start_time": "2021-09-03T06:02:09.155283Z"
    },
    "colab": {},
    "colab_type": "code",
    "executionInfo": {
     "elapsed": 652,
     "status": "ok",
     "timestamp": 1600330981498,
     "user": {
      "displayName": "김성환",
      "photoUrl": "https://lh3.googleusercontent.com/a-/AOh14GjqNkeEG8Sp5Fmsq56VZoiRsSxwUXmtH2Mb14M3YQA=s64",
      "userId": "02802166581970122576"
     },
     "user_tz": -540
    },
    "id": "26ZHtrA0IiT9"
   },
   "outputs": [],
   "source": [
    "# 전처리\n",
    "## image를 0~1사이 값으로 만들기 위하여 255로 나누어줌\n",
    "X_train = train_image/255\n",
    "X_test = test_image/255"
   ]
  },
  {
   "cell_type": "code",
   "execution_count": 7,
   "metadata": {
    "ExecuteTime": {
     "end_time": "2021-09-03T06:02:09.358279Z",
     "start_time": "2021-09-03T06:02:09.344292Z"
    },
    "colab": {},
    "colab_type": "code",
    "executionInfo": {
     "elapsed": 614,
     "status": "ok",
     "timestamp": 1600330982278,
     "user": {
      "displayName": "김성환",
      "photoUrl": "https://lh3.googleusercontent.com/a-/AOh14GjqNkeEG8Sp5Fmsq56VZoiRsSxwUXmtH2Mb14M3YQA=s64",
      "userId": "02802166581970122576"
     },
     "user_tz": -540
    },
    "id": "5DZH2TDGIiUE"
   },
   "outputs": [],
   "source": [
    "# Y를 원핫인코딩\n",
    "y_train = keras.utils.to_categorical(train_labels, N_CLASS)\n",
    "y_test = keras.utils.to_categorical(test_labels, N_CLASS)"
   ]
  },
  {
   "cell_type": "code",
   "execution_count": 8,
   "metadata": {
    "ExecuteTime": {
     "end_time": "2021-09-03T06:02:09.404496Z",
     "start_time": "2021-09-03T06:02:09.361284Z"
    },
    "colab": {},
    "colab_type": "code",
    "executionInfo": {
     "elapsed": 671,
     "status": "ok",
     "timestamp": 1600330983301,
     "user": {
      "displayName": "김성환",
      "photoUrl": "https://lh3.googleusercontent.com/a-/AOh14GjqNkeEG8Sp5Fmsq56VZoiRsSxwUXmtH2Mb14M3YQA=s64",
      "userId": "02802166581970122576"
     },
     "user_tz": -540
    },
    "id": "M7SitkTiIiUJ"
   },
   "outputs": [],
   "source": [
    "# Dataset 구성\n",
    "train_dataset = tf.data.Dataset.from_tensor_slices((X_train, y_train))\\\n",
    "                               .shuffle(100000)\\\n",
    "                               .batch(N_BATCH, drop_remainder=True).repeat()\n",
    "test_dataset = tf.data.Dataset.from_tensor_slices((X_test, y_test)).batch(N_BATCH)"
   ]
  },
  {
   "cell_type": "code",
   "execution_count": 9,
   "metadata": {
    "ExecuteTime": {
     "end_time": "2021-09-03T06:02:09.434492Z",
     "start_time": "2021-09-03T06:02:09.406279Z"
    },
    "colab": {},
    "colab_type": "code",
    "executionInfo": {
     "elapsed": 1053,
     "status": "ok",
     "timestamp": 1600332413226,
     "user": {
      "displayName": "김성환",
      "photoUrl": "https://lh3.googleusercontent.com/a-/AOh14GjqNkeEG8Sp5Fmsq56VZoiRsSxwUXmtH2Mb14M3YQA=s64",
      "userId": "02802166581970122576"
     },
     "user_tz": -540
    },
    "id": "qk7ELZy5IiUQ"
   },
   "outputs": [],
   "source": [
    "N_EPOCHS=130\n",
    "dropout_rate=0.3\n",
    "def create_model():\n",
    "    model = keras.Sequential()\n",
    "    model.add(keras.layers.Flatten(input_shape=(28,28)))\n",
    "    # hidden layer - Dense layer: 4, unit 256, 256, 128, 128  activation=relu\n",
    "    # Dropout, BatchNormalization 적용\n",
    "    model.add(keras.layers.Dropout(dropout_rate))\n",
    "    model.add(keras.layers.Dense(512))\n",
    "    model.add(keras.layers.BatchNormalization())\n",
    "    model.add(keras.layers.ReLU())\n",
    "\n",
    "    model.add(keras.layers.Dropout(dropout_rate))\n",
    "    model.add(keras.layers.Dense(512))\n",
    "    model.add(keras.layers.BatchNormalization())\n",
    "    model.add(keras.layers.ReLU())\n",
    "\n",
    "    model.add(keras.layers.Dropout(dropout_rate))\n",
    "    model.add(keras.layers.Dense(256))\n",
    "    model.add(keras.layers.BatchNormalization())\n",
    "    model.add(keras.layers.ReLU())\n",
    "\n",
    "    model.add(keras.layers.Dropout(dropout_rate))\n",
    "    model.add(keras.layers.Dense(256))\n",
    "    model.add(keras.layers.BatchNormalization())\n",
    "    model.add(keras.layers.ReLU())\n",
    "\n",
    "    model.add(keras.layers.Dropout(dropout_rate))\n",
    "    model.add(keras.layers.Dense(128))\n",
    "    model.add(keras.layers.BatchNormalization())\n",
    "    model.add(keras.layers.ReLU())\n",
    "\n",
    "    model.add(keras.layers.Dropout(dropout_rate))\n",
    "    model.add(keras.layers.Dense(128))\n",
    "    model.add(keras.layers.BatchNormalization())\n",
    "    model.add(keras.layers.ReLU())\n",
    "\n",
    "    model.add(keras.layers.Dropout(dropout_rate))\n",
    "    model.add(keras.layers.Dense(64))\n",
    "    model.add(keras.layers.BatchNormalization())\n",
    "    model.add(keras.layers.ReLU())\n",
    "\n",
    "    model.add(keras.layers.Dropout(dropout_rate))\n",
    "    model.add(keras.layers.Dense(64))\n",
    "    model.add(keras.layers.BatchNormalization())\n",
    "    model.add(keras.layers.ReLU())\n",
    "\n",
    "    # output layer\n",
    "    model.add(keras.layers.Dropout(dropout_rate))\n",
    "    model.add(keras.layers.Dense(N_CLASS, activation='softmax'))\n",
    "    return model"
   ]
  },
  {
   "cell_type": "code",
   "execution_count": 10,
   "metadata": {
    "ExecuteTime": {
     "end_time": "2021-09-03T06:02:09.769590Z",
     "start_time": "2021-09-03T06:02:09.438281Z"
    },
    "colab": {},
    "colab_type": "code",
    "executionInfo": {
     "elapsed": 1097,
     "status": "ok",
     "timestamp": 1600332413956,
     "user": {
      "displayName": "김성환",
      "photoUrl": "https://lh3.googleusercontent.com/a-/AOh14GjqNkeEG8Sp5Fmsq56VZoiRsSxwUXmtH2Mb14M3YQA=s64",
      "userId": "02802166581970122576"
     },
     "user_tz": -540
    },
    "id": "HSDOsfFZIiUX"
   },
   "outputs": [],
   "source": [
    "model = create_model()\n",
    "model.compile(optimizer=keras.optimizers.Adam(learning_rate), loss='categorical_crossentropy',\n",
    "              metrics=['accuracy'])"
   ]
  },
  {
   "cell_type": "code",
   "execution_count": 12,
   "metadata": {
    "ExecuteTime": {
     "end_time": "2021-09-03T06:29:04.419261Z",
     "start_time": "2021-09-03T06:02:09.791111Z"
    },
    "colab": {},
    "colab_type": "code",
    "id": "cYDxzAxQIiUe"
   },
   "outputs": [
    {
     "name": "stdout",
     "output_type": "stream",
     "text": [
      "Epoch 1/130\n",
      "300/300 [==============================] - 11s 30ms/step - loss: 1.3772 - accuracy: 0.5345 - val_loss: 0.3510 - val_accuracy: 0.9099\n",
      "Epoch 2/130\n",
      "300/300 [==============================] - 10s 32ms/step - loss: 0.5115 - accuracy: 0.8628 - val_loss: 0.2069 - val_accuracy: 0.9489\n",
      "Epoch 3/130\n",
      "300/300 [==============================] - 10s 31ms/step - loss: 0.3836 - accuracy: 0.9043 - val_loss: 0.1723 - val_accuracy: 0.9584\n",
      "Epoch 4/130\n",
      "300/300 [==============================] - 10s 32ms/step - loss: 0.3169 - accuracy: 0.9223 - val_loss: 0.1420 - val_accuracy: 0.9644\n",
      "Epoch 5/130\n",
      "300/300 [==============================] - 10s 32ms/step - loss: 0.2841 - accuracy: 0.9301 - val_loss: 0.1165 - val_accuracy: 0.9700\n",
      "Epoch 6/130\n",
      "300/300 [==============================] - 10s 33ms/step - loss: 0.2568 - accuracy: 0.9377 - val_loss: 0.1217 - val_accuracy: 0.9696\n",
      "Epoch 7/130\n",
      "300/300 [==============================] - 10s 33ms/step - loss: 0.2381 - accuracy: 0.9420 - val_loss: 0.0988 - val_accuracy: 0.9743\n",
      "Epoch 8/130\n",
      "300/300 [==============================] - 10s 33ms/step - loss: 0.2234 - accuracy: 0.9450 - val_loss: 0.0986 - val_accuracy: 0.9757\n",
      "Epoch 9/130\n",
      "300/300 [==============================] - 11s 34ms/step - loss: 0.2037 - accuracy: 0.9509 - val_loss: 0.1021 - val_accuracy: 0.9743\n",
      "Epoch 10/130\n",
      "300/300 [==============================] - 11s 34ms/step - loss: 0.1958 - accuracy: 0.9527 - val_loss: 0.0917 - val_accuracy: 0.9770\n",
      "Epoch 11/130\n",
      "300/300 [==============================] - 11s 35ms/step - loss: 0.1872 - accuracy: 0.9544 - val_loss: 0.0854 - val_accuracy: 0.9786\n",
      "Epoch 12/130\n",
      "300/300 [==============================] - 11s 36ms/step - loss: 0.1839 - accuracy: 0.9548 - val_loss: 0.0829 - val_accuracy: 0.9785\n",
      "Epoch 13/130\n",
      "300/300 [==============================] - 11s 37ms/step - loss: 0.1745 - accuracy: 0.9572 - val_loss: 0.0795 - val_accuracy: 0.9796\n",
      "Epoch 14/130\n",
      "300/300 [==============================] - 11s 37ms/step - loss: 0.1655 - accuracy: 0.9596 - val_loss: 0.0815 - val_accuracy: 0.9805\n",
      "Epoch 15/130\n",
      "300/300 [==============================] - 12s 40ms/step - loss: 0.1605 - accuracy: 0.9597 - val_loss: 0.0732 - val_accuracy: 0.9807\n",
      "Epoch 16/130\n",
      "300/300 [==============================] - 12s 40ms/step - loss: 0.1534 - accuracy: 0.9612 - val_loss: 0.0772 - val_accuracy: 0.9801\n",
      "Epoch 17/130\n",
      "300/300 [==============================] - 13s 41ms/step - loss: 0.1495 - accuracy: 0.9636 - val_loss: 0.0787 - val_accuracy: 0.9798\n",
      "Epoch 18/130\n",
      "300/300 [==============================] - 12s 39ms/step - loss: 0.1472 - accuracy: 0.9631 - val_loss: 0.0817 - val_accuracy: 0.9802\n",
      "Epoch 19/130\n",
      "300/300 [==============================] - 12s 40ms/step - loss: 0.1425 - accuracy: 0.9647 - val_loss: 0.0751 - val_accuracy: 0.9804\n",
      "Epoch 20/130\n",
      "300/300 [==============================] - 12s 41ms/step - loss: 0.1352 - accuracy: 0.9659 - val_loss: 0.0716 - val_accuracy: 0.9816\n",
      "Epoch 21/130\n",
      "300/300 [==============================] - 13s 42ms/step - loss: 0.1326 - accuracy: 0.9675 - val_loss: 0.0722 - val_accuracy: 0.9809\n",
      "Epoch 22/130\n",
      "300/300 [==============================] - 13s 42ms/step - loss: 0.1317 - accuracy: 0.9673 - val_loss: 0.0725 - val_accuracy: 0.9825\n",
      "Epoch 23/130\n",
      "300/300 [==============================] - 13s 42ms/step - loss: 0.1247 - accuracy: 0.9682 - val_loss: 0.0651 - val_accuracy: 0.9834\n",
      "Epoch 24/130\n",
      "300/300 [==============================] - 13s 42ms/step - loss: 0.1279 - accuracy: 0.9680 - val_loss: 0.0672 - val_accuracy: 0.9832\n",
      "Epoch 25/130\n",
      "300/300 [==============================] - 13s 42ms/step - loss: 0.1205 - accuracy: 0.9691 - val_loss: 0.0642 - val_accuracy: 0.9841\n",
      "Epoch 26/130\n",
      "300/300 [==============================] - 13s 42ms/step - loss: 0.1232 - accuracy: 0.9692 - val_loss: 0.0624 - val_accuracy: 0.9841\n",
      "Epoch 27/130\n",
      "300/300 [==============================] - 13s 43ms/step - loss: 0.1184 - accuracy: 0.9696 - val_loss: 0.0648 - val_accuracy: 0.9838\n",
      "Epoch 28/130\n",
      "300/300 [==============================] - 13s 44ms/step - loss: 0.1135 - accuracy: 0.9716 - val_loss: 0.0662 - val_accuracy: 0.9834\n",
      "Epoch 29/130\n",
      "300/300 [==============================] - 13s 44ms/step - loss: 0.1082 - accuracy: 0.9727 - val_loss: 0.0636 - val_accuracy: 0.9839\n",
      "Epoch 30/130\n",
      "300/300 [==============================] - 13s 43ms/step - loss: 0.1106 - accuracy: 0.9723 - val_loss: 0.0605 - val_accuracy: 0.9843\n",
      "Epoch 31/130\n",
      "300/300 [==============================] - 13s 43ms/step - loss: 0.1055 - accuracy: 0.9728 - val_loss: 0.0606 - val_accuracy: 0.9849\n",
      "Epoch 32/130\n",
      "300/300 [==============================] - 13s 44ms/step - loss: 0.1089 - accuracy: 0.9729 - val_loss: 0.0640 - val_accuracy: 0.9848\n",
      "Epoch 33/130\n",
      "300/300 [==============================] - 13s 44ms/step - loss: 0.1023 - accuracy: 0.9741 - val_loss: 0.0589 - val_accuracy: 0.9858\n",
      "Epoch 34/130\n",
      "300/300 [==============================] - 14s 44ms/step - loss: 0.1008 - accuracy: 0.9743 - val_loss: 0.0603 - val_accuracy: 0.9846\n",
      "Epoch 35/130\n",
      "300/300 [==============================] - 14s 44ms/step - loss: 0.0987 - accuracy: 0.9746 - val_loss: 0.0607 - val_accuracy: 0.9851\n",
      "Epoch 36/130\n",
      "300/300 [==============================] - 14s 45ms/step - loss: 0.1002 - accuracy: 0.9755 - val_loss: 0.0564 - val_accuracy: 0.9854\n",
      "Epoch 37/130\n",
      "300/300 [==============================] - 13s 43ms/step - loss: 0.0950 - accuracy: 0.9755 - val_loss: 0.0586 - val_accuracy: 0.9853\n",
      "Epoch 38/130\n",
      "300/300 [==============================] - 12s 40ms/step - loss: 0.0992 - accuracy: 0.9747 - val_loss: 0.0527 - val_accuracy: 0.9870\n",
      "Epoch 39/130\n",
      "300/300 [==============================] - 12s 40ms/step - loss: 0.0956 - accuracy: 0.9758 - val_loss: 0.0573 - val_accuracy: 0.9870\n",
      "Epoch 40/130\n",
      "300/300 [==============================] - 12s 40ms/step - loss: 0.0934 - accuracy: 0.9760 - val_loss: 0.0563 - val_accuracy: 0.9867\n",
      "Epoch 41/130\n",
      "300/300 [==============================] - 12s 41ms/step - loss: 0.0871 - accuracy: 0.9779 - val_loss: 0.0542 - val_accuracy: 0.9865\n",
      "Epoch 42/130\n",
      "300/300 [==============================] - 12s 40ms/step - loss: 0.0902 - accuracy: 0.9772 - val_loss: 0.0550 - val_accuracy: 0.9858\n",
      "Epoch 43/130\n",
      "300/300 [==============================] - 12s 40ms/step - loss: 0.0860 - accuracy: 0.9780 - val_loss: 0.0553 - val_accuracy: 0.9869\n",
      "Epoch 44/130\n",
      "300/300 [==============================] - 12s 40ms/step - loss: 0.0881 - accuracy: 0.9774 - val_loss: 0.0533 - val_accuracy: 0.9871\n",
      "Epoch 45/130\n",
      "300/300 [==============================] - 12s 40ms/step - loss: 0.0839 - accuracy: 0.9784 - val_loss: 0.0553 - val_accuracy: 0.9865\n",
      "Epoch 46/130\n",
      "300/300 [==============================] - 12s 40ms/step - loss: 0.0816 - accuracy: 0.9786 - val_loss: 0.0566 - val_accuracy: 0.9867\n",
      "Epoch 47/130\n",
      "300/300 [==============================] - 13s 41ms/step - loss: 0.0805 - accuracy: 0.9787 - val_loss: 0.0561 - val_accuracy: 0.9863\n",
      "Epoch 48/130\n",
      "300/300 [==============================] - 12s 41ms/step - loss: 0.0842 - accuracy: 0.9785 - val_loss: 0.0514 - val_accuracy: 0.9870\n",
      "Epoch 49/130\n",
      "300/300 [==============================] - 13s 41ms/step - loss: 0.0794 - accuracy: 0.9797 - val_loss: 0.0591 - val_accuracy: 0.9856\n",
      "Epoch 50/130\n",
      "300/300 [==============================] - 13s 41ms/step - loss: 0.0796 - accuracy: 0.9791 - val_loss: 0.0562 - val_accuracy: 0.9860\n",
      "Epoch 51/130\n",
      "300/300 [==============================] - 12s 40ms/step - loss: 0.0756 - accuracy: 0.9806 - val_loss: 0.0549 - val_accuracy: 0.9862\n",
      "Epoch 52/130\n",
      "300/300 [==============================] - 12s 40ms/step - loss: 0.0796 - accuracy: 0.9794 - val_loss: 0.0578 - val_accuracy: 0.9857\n",
      "Epoch 53/130\n",
      "300/300 [==============================] - 13s 41ms/step - loss: 0.0774 - accuracy: 0.9801 - val_loss: 0.0557 - val_accuracy: 0.9864\n",
      "Epoch 54/130\n",
      "300/300 [==============================] - 13s 41ms/step - loss: 0.0764 - accuracy: 0.9804 - val_loss: 0.0553 - val_accuracy: 0.9870\n",
      "Epoch 55/130\n",
      "300/300 [==============================] - 13s 41ms/step - loss: 0.0750 - accuracy: 0.9809 - val_loss: 0.0548 - val_accuracy: 0.9871\n",
      "Epoch 56/130\n",
      "300/300 [==============================] - 12s 41ms/step - loss: 0.0715 - accuracy: 0.9813 - val_loss: 0.0539 - val_accuracy: 0.9877\n",
      "Epoch 57/130\n",
      "300/300 [==============================] - 13s 42ms/step - loss: 0.0728 - accuracy: 0.9811 - val_loss: 0.0544 - val_accuracy: 0.9883\n",
      "Epoch 58/130\n",
      "300/300 [==============================] - 14s 44ms/step - loss: 0.0717 - accuracy: 0.9819 - val_loss: 0.0541 - val_accuracy: 0.9871\n",
      "Epoch 59/130\n",
      "300/300 [==============================] - 13s 41ms/step - loss: 0.0722 - accuracy: 0.9812 - val_loss: 0.0502 - val_accuracy: 0.9876\n",
      "Epoch 60/130\n",
      "300/300 [==============================] - 13s 41ms/step - loss: 0.0711 - accuracy: 0.9819 - val_loss: 0.0562 - val_accuracy: 0.9867\n",
      "Epoch 61/130\n",
      "300/300 [==============================] - 12s 40ms/step - loss: 0.0677 - accuracy: 0.9820 - val_loss: 0.0487 - val_accuracy: 0.9884\n",
      "Epoch 62/130\n",
      "300/300 [==============================] - 13s 41ms/step - loss: 0.0673 - accuracy: 0.9819 - val_loss: 0.0539 - val_accuracy: 0.9877\n",
      "Epoch 63/130\n",
      "300/300 [==============================] - 13s 41ms/step - loss: 0.0724 - accuracy: 0.9814 - val_loss: 0.0520 - val_accuracy: 0.9878\n",
      "Epoch 64/130\n",
      "300/300 [==============================] - 13s 41ms/step - loss: 0.0658 - accuracy: 0.9821 - val_loss: 0.0534 - val_accuracy: 0.9874\n",
      "Epoch 65/130\n",
      "300/300 [==============================] - 13s 41ms/step - loss: 0.0660 - accuracy: 0.9827 - val_loss: 0.0531 - val_accuracy: 0.9873\n",
      "Epoch 66/130\n",
      "300/300 [==============================] - 12s 40ms/step - loss: 0.0664 - accuracy: 0.9828 - val_loss: 0.0555 - val_accuracy: 0.9864\n",
      "Epoch 67/130\n",
      "300/300 [==============================] - 13s 41ms/step - loss: 0.0670 - accuracy: 0.9824 - val_loss: 0.0517 - val_accuracy: 0.9880\n",
      "Epoch 68/130\n",
      "300/300 [==============================] - 13s 41ms/step - loss: 0.0638 - accuracy: 0.9826 - val_loss: 0.0504 - val_accuracy: 0.9879\n",
      "Epoch 69/130\n",
      "300/300 [==============================] - 13s 42ms/step - loss: 0.0648 - accuracy: 0.9830 - val_loss: 0.0531 - val_accuracy: 0.9878\n",
      "Epoch 70/130\n",
      "300/300 [==============================] - 13s 41ms/step - loss: 0.0666 - accuracy: 0.9829 - val_loss: 0.0531 - val_accuracy: 0.9873\n",
      "Epoch 71/130\n",
      "300/300 [==============================] - 13s 41ms/step - loss: 0.0611 - accuracy: 0.9838 - val_loss: 0.0528 - val_accuracy: 0.9876\n",
      "Epoch 72/130\n",
      "300/300 [==============================] - 12s 40ms/step - loss: 0.0622 - accuracy: 0.9837 - val_loss: 0.0539 - val_accuracy: 0.9867\n",
      "Epoch 73/130\n",
      "300/300 [==============================] - 13s 41ms/step - loss: 0.0651 - accuracy: 0.9833 - val_loss: 0.0547 - val_accuracy: 0.9875\n",
      "Epoch 74/130\n",
      "300/300 [==============================] - 12s 40ms/step - loss: 0.0576 - accuracy: 0.9849 - val_loss: 0.0519 - val_accuracy: 0.9877\n",
      "Epoch 75/130\n",
      "300/300 [==============================] - 13s 41ms/step - loss: 0.0605 - accuracy: 0.9842 - val_loss: 0.0521 - val_accuracy: 0.9873\n",
      "Epoch 76/130\n",
      "300/300 [==============================] - 13s 41ms/step - loss: 0.0597 - accuracy: 0.9843 - val_loss: 0.0493 - val_accuracy: 0.9875\n",
      "Epoch 77/130\n",
      "300/300 [==============================] - 12s 40ms/step - loss: 0.0624 - accuracy: 0.9830 - val_loss: 0.0509 - val_accuracy: 0.9880\n",
      "Epoch 78/130\n",
      "300/300 [==============================] - 12s 41ms/step - loss: 0.0616 - accuracy: 0.9841 - val_loss: 0.0504 - val_accuracy: 0.9887\n",
      "Epoch 79/130\n",
      "300/300 [==============================] - 12s 40ms/step - loss: 0.0583 - accuracy: 0.9847 - val_loss: 0.0519 - val_accuracy: 0.9879\n",
      "Epoch 80/130\n",
      "300/300 [==============================] - 13s 41ms/step - loss: 0.0587 - accuracy: 0.9852 - val_loss: 0.0506 - val_accuracy: 0.9884\n",
      "Epoch 81/130\n",
      "300/300 [==============================] - 13s 41ms/step - loss: 0.0544 - accuracy: 0.9859 - val_loss: 0.0503 - val_accuracy: 0.9884\n",
      "Epoch 82/130\n",
      "300/300 [==============================] - 13s 41ms/step - loss: 0.0605 - accuracy: 0.9835 - val_loss: 0.0523 - val_accuracy: 0.9880\n",
      "Epoch 83/130\n",
      "300/300 [==============================] - 13s 41ms/step - loss: 0.0573 - accuracy: 0.9843 - val_loss: 0.0584 - val_accuracy: 0.9873\n",
      "Epoch 84/130\n",
      "300/300 [==============================] - 12s 40ms/step - loss: 0.0554 - accuracy: 0.9859 - val_loss: 0.0512 - val_accuracy: 0.9889\n",
      "Epoch 85/130\n",
      "300/300 [==============================] - 13s 42ms/step - loss: 0.0578 - accuracy: 0.9851 - val_loss: 0.0510 - val_accuracy: 0.9885\n",
      "Epoch 86/130\n",
      "300/300 [==============================] - 13s 43ms/step - loss: 0.0571 - accuracy: 0.9846 - val_loss: 0.0492 - val_accuracy: 0.9879\n",
      "Epoch 87/130\n",
      "300/300 [==============================] - 13s 41ms/step - loss: 0.0593 - accuracy: 0.9846 - val_loss: 0.0491 - val_accuracy: 0.9881\n",
      "Epoch 88/130\n",
      "300/300 [==============================] - 13s 41ms/step - loss: 0.0549 - accuracy: 0.9862 - val_loss: 0.0543 - val_accuracy: 0.9887\n",
      "Epoch 89/130\n",
      "300/300 [==============================] - 13s 41ms/step - loss: 0.0568 - accuracy: 0.9850 - val_loss: 0.0522 - val_accuracy: 0.9890\n",
      "Epoch 90/130\n",
      "300/300 [==============================] - 13s 41ms/step - loss: 0.0518 - accuracy: 0.9868 - val_loss: 0.0531 - val_accuracy: 0.9881\n",
      "Epoch 91/130\n",
      "300/300 [==============================] - 13s 41ms/step - loss: 0.0535 - accuracy: 0.9855 - val_loss: 0.0546 - val_accuracy: 0.9878\n",
      "Epoch 92/130\n",
      "300/300 [==============================] - 12s 40ms/step - loss: 0.0503 - accuracy: 0.9861 - val_loss: 0.0546 - val_accuracy: 0.9875\n",
      "Epoch 93/130\n",
      "300/300 [==============================] - 12s 39ms/step - loss: 0.0519 - accuracy: 0.9858 - val_loss: 0.0537 - val_accuracy: 0.9887\n",
      "Epoch 94/130\n",
      "300/300 [==============================] - 12s 40ms/step - loss: 0.0527 - accuracy: 0.9859 - val_loss: 0.0563 - val_accuracy: 0.9872\n",
      "Epoch 95/130\n",
      "300/300 [==============================] - 12s 40ms/step - loss: 0.0520 - accuracy: 0.9861 - val_loss: 0.0481 - val_accuracy: 0.9887\n",
      "Epoch 96/130\n",
      "300/300 [==============================] - 12s 41ms/step - loss: 0.0551 - accuracy: 0.9858 - val_loss: 0.0479 - val_accuracy: 0.9884\n",
      "Epoch 97/130\n",
      "300/300 [==============================] - 13s 41ms/step - loss: 0.0521 - accuracy: 0.9866 - val_loss: 0.0498 - val_accuracy: 0.9895\n",
      "Epoch 98/130\n",
      "300/300 [==============================] - 12s 40ms/step - loss: 0.0504 - accuracy: 0.9860 - val_loss: 0.0533 - val_accuracy: 0.9886\n",
      "Epoch 99/130\n",
      "300/300 [==============================] - 13s 41ms/step - loss: 0.0504 - accuracy: 0.9862 - val_loss: 0.0538 - val_accuracy: 0.9883\n",
      "Epoch 100/130\n",
      "300/300 [==============================] - 12s 41ms/step - loss: 0.0520 - accuracy: 0.9861 - val_loss: 0.0530 - val_accuracy: 0.9875\n",
      "Epoch 101/130\n",
      "300/300 [==============================] - 12s 40ms/step - loss: 0.0510 - accuracy: 0.9867 - val_loss: 0.0525 - val_accuracy: 0.9877\n",
      "Epoch 102/130\n",
      "300/300 [==============================] - 13s 41ms/step - loss: 0.0507 - accuracy: 0.9866 - val_loss: 0.0522 - val_accuracy: 0.9887\n",
      "Epoch 103/130\n",
      "300/300 [==============================] - 12s 40ms/step - loss: 0.0483 - accuracy: 0.9874 - val_loss: 0.0550 - val_accuracy: 0.9883\n",
      "Epoch 104/130\n",
      "300/300 [==============================] - 12s 40ms/step - loss: 0.0503 - accuracy: 0.9864 - val_loss: 0.0536 - val_accuracy: 0.9880\n",
      "Epoch 105/130\n",
      "300/300 [==============================] - 13s 41ms/step - loss: 0.0481 - accuracy: 0.9875 - val_loss: 0.0567 - val_accuracy: 0.9871\n",
      "Epoch 106/130\n",
      "300/300 [==============================] - 13s 41ms/step - loss: 0.0480 - accuracy: 0.9866 - val_loss: 0.0558 - val_accuracy: 0.9877\n",
      "Epoch 107/130\n",
      "300/300 [==============================] - 12s 40ms/step - loss: 0.0484 - accuracy: 0.9872 - val_loss: 0.0519 - val_accuracy: 0.9880\n",
      "Epoch 108/130\n",
      "300/300 [==============================] - 13s 41ms/step - loss: 0.0497 - accuracy: 0.9870 - val_loss: 0.0546 - val_accuracy: 0.9886\n",
      "Epoch 109/130\n",
      "300/300 [==============================] - 12s 40ms/step - loss: 0.0469 - accuracy: 0.9873 - val_loss: 0.0583 - val_accuracy: 0.9877\n",
      "Epoch 110/130\n",
      "300/300 [==============================] - 13s 41ms/step - loss: 0.0471 - accuracy: 0.9874 - val_loss: 0.0540 - val_accuracy: 0.9884\n",
      "Epoch 111/130\n",
      "300/300 [==============================] - 13s 41ms/step - loss: 0.0458 - accuracy: 0.9874 - val_loss: 0.0566 - val_accuracy: 0.9879\n",
      "Epoch 112/130\n",
      "300/300 [==============================] - 12s 40ms/step - loss: 0.0499 - accuracy: 0.9869 - val_loss: 0.0531 - val_accuracy: 0.9876\n",
      "Epoch 113/130\n"
     ]
    },
    {
     "name": "stdout",
     "output_type": "stream",
     "text": [
      "300/300 [==============================] - 13s 41ms/step - loss: 0.0454 - accuracy: 0.9879 - val_loss: 0.0545 - val_accuracy: 0.9877\n",
      "Epoch 114/130\n",
      "300/300 [==============================] - 15s 49ms/step - loss: 0.0505 - accuracy: 0.9869 - val_loss: 0.0581 - val_accuracy: 0.9874\n",
      "Epoch 115/130\n",
      "300/300 [==============================] - 12s 40ms/step - loss: 0.0464 - accuracy: 0.9882 - val_loss: 0.0531 - val_accuracy: 0.9886\n",
      "Epoch 116/130\n",
      "300/300 [==============================] - 13s 41ms/step - loss: 0.0464 - accuracy: 0.9878 - val_loss: 0.0518 - val_accuracy: 0.9891\n",
      "Epoch 117/130\n",
      "300/300 [==============================] - 12s 40ms/step - loss: 0.0454 - accuracy: 0.9879 - val_loss: 0.0539 - val_accuracy: 0.9883\n",
      "Epoch 118/130\n",
      "300/300 [==============================] - 12s 40ms/step - loss: 0.0453 - accuracy: 0.9880 - val_loss: 0.0513 - val_accuracy: 0.9882\n",
      "Epoch 119/130\n",
      "300/300 [==============================] - 12s 40ms/step - loss: 0.0431 - accuracy: 0.9884 - val_loss: 0.0507 - val_accuracy: 0.9885\n",
      "Epoch 120/130\n",
      "300/300 [==============================] - 12s 40ms/step - loss: 0.0447 - accuracy: 0.9878 - val_loss: 0.0541 - val_accuracy: 0.9871\n",
      "Epoch 121/130\n",
      "300/300 [==============================] - 13s 41ms/step - loss: 0.0453 - accuracy: 0.9884 - val_loss: 0.0540 - val_accuracy: 0.9882\n",
      "Epoch 122/130\n",
      "300/300 [==============================] - 12s 40ms/step - loss: 0.0449 - accuracy: 0.9878 - val_loss: 0.0529 - val_accuracy: 0.9882\n",
      "Epoch 123/130\n",
      "300/300 [==============================] - 13s 41ms/step - loss: 0.0468 - accuracy: 0.9876 - val_loss: 0.0534 - val_accuracy: 0.9877\n",
      "Epoch 124/130\n",
      "300/300 [==============================] - 12s 40ms/step - loss: 0.0425 - accuracy: 0.9888 - val_loss: 0.0539 - val_accuracy: 0.9881\n",
      "Epoch 125/130\n",
      "300/300 [==============================] - 12s 40ms/step - loss: 0.0494 - accuracy: 0.9870 - val_loss: 0.0607 - val_accuracy: 0.9871\n",
      "Epoch 126/130\n",
      "300/300 [==============================] - 13s 41ms/step - loss: 0.0435 - accuracy: 0.9884 - val_loss: 0.0536 - val_accuracy: 0.9875\n",
      "Epoch 127/130\n",
      "300/300 [==============================] - 12s 40ms/step - loss: 0.0445 - accuracy: 0.9878 - val_loss: 0.0530 - val_accuracy: 0.9881\n",
      "Epoch 128/130\n",
      "300/300 [==============================] - 12s 41ms/step - loss: 0.0428 - accuracy: 0.9889 - val_loss: 0.0531 - val_accuracy: 0.9887\n",
      "Epoch 129/130\n",
      "300/300 [==============================] - 12s 41ms/step - loss: 0.0410 - accuracy: 0.9890 - val_loss: 0.0518 - val_accuracy: 0.9892\n",
      "Epoch 130/130\n",
      "300/300 [==============================] - 13s 42ms/step - loss: 0.0419 - accuracy: 0.9886 - val_loss: 0.0559 - val_accuracy: 0.9885\n"
     ]
    }
   ],
   "source": [
    "history = model.fit(train_dataset, \n",
    "                    epochs=N_EPOCHS\n",
    "                    validation_data=test_dataset)"
   ]
  },
  {
   "cell_type": "code",
   "execution_count": 15,
   "metadata": {
    "ExecuteTime": {
     "end_time": "2021-09-03T06:29:06.044207Z",
     "start_time": "2021-09-03T06:29:05.511844Z"
    },
    "colab": {
     "base_uri": "https://localhost:8080/",
     "height": 55
    },
    "colab_type": "code",
    "executionInfo": {
     "elapsed": 825,
     "status": "ok",
     "timestamp": 1600332226494,
     "user": {
      "displayName": "김성환",
      "photoUrl": "https://lh3.googleusercontent.com/a-/AOh14GjqNkeEG8Sp5Fmsq56VZoiRsSxwUXmtH2Mb14M3YQA=s64",
      "userId": "02802166581970122576"
     },
     "user_tz": -540
    },
    "id": "qRceJqc2O2jQ",
    "outputId": "f3feaa7a-10ac-4c39-efde-a4ead9d94151"
   },
   "outputs": [
    {
     "name": "stdout",
     "output_type": "stream",
     "text": [
      "50/50 [==============================] - 0s 9ms/step - loss: 0.0559 - accuracy: 0.9885\n"
     ]
    },
    {
     "data": {
      "text/plain": [
       "[0.055856719613075256, 0.9884999990463257]"
      ]
     },
     "execution_count": 15,
     "metadata": {},
     "output_type": "execute_result"
    }
   ],
   "source": [
    "model.evaluate(test_dataset)"
   ]
  },
  {
   "cell_type": "code",
   "execution_count": 17,
   "metadata": {
    "ExecuteTime": {
     "end_time": "2021-09-03T06:29:06.319751Z",
     "start_time": "2021-09-03T06:29:06.059832Z"
    },
    "colab": {
     "base_uri": "https://localhost:8080/",
     "height": 458
    },
    "colab_type": "code",
    "executionInfo": {
     "elapsed": 1006,
     "status": "ok",
     "timestamp": 1600332335504,
     "user": {
      "displayName": "김성환",
      "photoUrl": "https://lh3.googleusercontent.com/a-/AOh14GjqNkeEG8Sp5Fmsq56VZoiRsSxwUXmtH2Mb14M3YQA=s64",
      "userId": "02802166581970122576"
     },
     "user_tz": -540
    },
    "id": "cARA9w-3JA5s",
    "outputId": "53c3a3bb-600e-49f6-e987-d3fe9252b519"
   },
   "outputs": [
    {
     "data": {
      "image/png": "[encoded data removed]",
      "text/plain": [
       "<Figure size 720x504 with 1 Axes>"
      ]
     },
     "metadata": {
      "needs_background": "light"
     },
     "output_type": "display_data"
    }
   ],
   "source": [
    "loss_plot(history)"
   ]
  },
  {
   "cell_type": "code",
   "execution_count": 18,
   "metadata": {
    "ExecuteTime": {
     "end_time": "2021-09-03T06:29:06.508902Z",
     "start_time": "2021-09-03T06:29:06.319751Z"
    },
    "colab": {
     "base_uri": "https://localhost:8080/",
     "height": 458
    },
    "colab_type": "code",
    "executionInfo": {
     "elapsed": 930,
     "status": "ok",
     "timestamp": 1600332343678,
     "user": {
      "displayName": "김성환",
      "photoUrl": "https://lh3.googleusercontent.com/a-/AOh14GjqNkeEG8Sp5Fmsq56VZoiRsSxwUXmtH2Mb14M3YQA=s64",
      "userId": "02802166581970122576"
     },
     "user_tz": -540
    },
    "id": "EzOhycBxJV2j",
    "outputId": "2406cc12-7618-4385-964b-33cbf2a3d856"
   },
   "outputs": [
    {
     "data": {
      "image/png": "[encoded data removed]",
      "text/plain": [
       "<Figure size 720x504 with 1 Axes>"
      ]
     },
     "metadata": {
      "needs_background": "light"
     },
     "output_type": "display_data"
    }
   ],
   "source": [
    "accuracy_plot(history)"
   ]
  },
  {
   "cell_type": "code",
   "execution_count": null,
   "metadata": {
    "colab": {},
    "colab_type": "code",
    "id": "09Bt58W8JZdB"
   },
   "outputs": [],
   "source": []
  }
 ],
 "metadata": {
  "accelerator": "GPU",
  "colab": {
   "collapsed_sections": [],
   "name": "05_MNIST best model 만들기.ipynb",
   "provenance": []
  },
  "kernelspec": {
   "display_name": "Python 3 (ipykernel)",
   "language": "python",
   "name": "python3"
  },
  "language_info": {
   "codemirror_mode": {
    "name": "ipython",
    "version": 3
   },
   "file_extension": ".py",
   "mimetype": "text/x-python",
   "name": "python",
   "nbconvert_exporter": "python",
   "pygments_lexer": "ipython3",
   "version": "3.8.12"
  },
  "toc": {
   "base_numbering": 1,
   "nav_menu": {},
   "number_sections": true,
   "sideBar": true,
   "skip_h1_title": false,
   "title_cell": "Table of Contents",
   "title_sidebar": "Contents",
   "toc_cell": false,
   "toc_position": {},
   "toc_section_display": true,
   "toc_window_display": false
  },
  "varInspector": {
   "cols": {
    "lenName": 16,
    "lenType": 16,
    "lenVar": 40
   },
   "kernels_config": {
    "python": {
     "delete_cmd_postfix": "",
     "delete_cmd_prefix": "del ",
     "library": "var_list.py",
     "varRefreshCmd": "print(var_dic_list())"
    },
    "r": {
     "delete_cmd_postfix": ") ",
     "delete_cmd_prefix": "rm(",
     "library": "var_list.r",
     "varRefreshCmd": "cat(var_dic_list()) "
    }
   },
   "types_to_exclude": [
    "module",
    "function",
    "builtin_function_or_method",
    "instance",
    "_Feature"
   ],
   "window_display": false
  }
 },
 "nbformat": 4,
 "nbformat_minor": 1
}
