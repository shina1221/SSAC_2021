{
 "cells": [
  {
   "cell_type": "code",
   "execution_count": 1,
   "id": "bed638c4",
   "metadata": {
    "ExecuteTime": {
     "end_time": "2021-12-02T01:05:14.718917Z",
     "start_time": "2021-12-02T01:05:06.704317Z"
    }
   },
   "outputs": [],
   "source": [
    "import numpy as np\n",
    "import tensorflow as tf\n",
    "from tensorflow import keras\n",
    "from tensorflow.keras import layers\n",
    "\n",
    "import matplotlib.pyplot as plt\n",
    "import matplotlib as mpl"
   ]
  },
  {
   "cell_type": "code",
   "execution_count": 2,
   "id": "4d88ad59",
   "metadata": {
    "ExecuteTime": {
     "end_time": "2021-12-02T01:07:39.401071Z",
     "start_time": "2021-12-02T01:07:39.389106Z"
    }
   },
   "outputs": [],
   "source": [
    "mpl.rcParams['font.family'] = \"malgun gothic\"\n",
    "mpl.rcParams['axes.unicode_minus'] = False\n",
    "mpl.rcParams['axes.titlesize'] = 20"
   ]
  },
  {
   "cell_type": "code",
   "execution_count": 3,
   "id": "549e744b",
   "metadata": {
    "ExecuteTime": {
     "end_time": "2021-12-02T01:08:16.871628Z",
     "start_time": "2021-12-02T01:08:16.860645Z"
    }
   },
   "outputs": [],
   "source": [
    "np.random.seed(0)\n",
    "tf.random.set_seed(0)"
   ]
  },
  {
   "cell_type": "markdown",
   "id": "6a1f9559",
   "metadata": {},
   "source": [
    "#### 학습결과 시각화 함수"
   ]
  },
  {
   "cell_type": "code",
   "execution_count": 4,
   "id": "d2fdac01",
   "metadata": {
    "ExecuteTime": {
     "end_time": "2021-12-02T01:13:00.219899Z",
     "start_time": "2021-12-02T01:13:00.197957Z"
    }
   },
   "outputs": [],
   "source": [
    "def plot_loss(epochs, history):\n",
    "    \"\"\"\n",
    "    학습 loss를 시각화 하는 함수\n",
    "    \"\"\"\n",
    "    plt.figure(figsize=(8,7))\n",
    "    plt.plot(range(1, epochs+1), history.history['loss'], label='Train Loss')\n",
    "    plt.plot(range(1, epochs+1), history.history['val_loss'], label='Validation Loss')\n",
    "    plt.title(\"Loss\")\n",
    "    plt.xlabel('Epochs')\n",
    "    plt.ylabel('Loss')\n",
    "    plt.legend()\n",
    "    plt.show()    "
   ]
  },
  {
   "cell_type": "code",
   "execution_count": 5,
   "id": "0b661837",
   "metadata": {
    "ExecuteTime": {
     "end_time": "2021-12-02T01:15:31.594508Z",
     "start_time": "2021-12-02T01:15:31.581545Z"
    }
   },
   "outputs": [],
   "source": [
    "def plot_accuracy(epochs, history):\n",
    "    \"\"\"\n",
    "    학습 Accuracy를 시각화 하는 함수\n",
    "    \"\"\"\n",
    "    plt.figure(figsize=(8,7))\n",
    "    plt.plot(range(1, epochs+1), history.history['accuracy'], label='Train Accuracy')\n",
    "    plt.plot(range(1, epochs+1), history.history['val_accuracy'], \n",
    "                                                 label='Validation Accuracy')\n",
    "    plt.title(\"Accuracy\")\n",
    "    plt.xlabel('Epochs')\n",
    "    plt.ylabel('Accuracy')\n",
    "    plt.legend()\n",
    "    plt.show()  "
   ]
  },
  {
   "cell_type": "markdown",
   "id": "b238fcca",
   "metadata": {},
   "source": [
    "#### 데이터 로딩"
   ]
  },
  {
   "cell_type": "code",
   "execution_count": 6,
   "id": "57d8db9e",
   "metadata": {
    "ExecuteTime": {
     "end_time": "2021-12-02T01:16:29.368492Z",
     "start_time": "2021-12-02T01:16:28.886161Z"
    }
   },
   "outputs": [],
   "source": [
    "(train_image, train_label), (test_image, test_label) = keras.datasets.mnist.load_data()"
   ]
  },
  {
   "cell_type": "code",
   "execution_count": 7,
   "id": "0470b87c",
   "metadata": {
    "ExecuteTime": {
     "end_time": "2021-12-02T01:16:49.864290Z",
     "start_time": "2021-12-02T01:16:49.845824Z"
    }
   },
   "outputs": [
    {
     "data": {
      "text/plain": [
       "((60000, 28, 28), (10000, 28, 28))"
      ]
     },
     "execution_count": 7,
     "metadata": {},
     "output_type": "execute_result"
    }
   ],
   "source": [
    "train_image.shape, test_image.shape"
   ]
  },
  {
   "cell_type": "markdown",
   "id": "d1f70f58",
   "metadata": {},
   "source": [
    "#### 하이퍼파라미터 변수 정의"
   ]
  },
  {
   "cell_type": "code",
   "execution_count": 8,
   "id": "b8f29a95",
   "metadata": {
    "ExecuteTime": {
     "end_time": "2021-12-02T01:18:42.762764Z",
     "start_time": "2021-12-02T01:18:42.748802Z"
    }
   },
   "outputs": [],
   "source": [
    "LEARNING_RATE = 0.001\n",
    "N_EPOCHS = 20\n",
    "N_BATCHS = 100\n",
    "\n",
    "# 데이터 개수\n",
    "N_TRAIN = train_image.shape[0]\n",
    "N_TEST = test_image.shape[0]"
   ]
  },
  {
   "cell_type": "markdown",
   "id": "074048f1",
   "metadata": {},
   "source": [
    "#### 전처리\n",
    "- image : 0 ~ 1 사이의 값으로 정규화\n",
    "- label : one hot encoding (다중분류문제이므로)"
   ]
  },
  {
   "cell_type": "code",
   "execution_count": 9,
   "id": "6c9bdb68",
   "metadata": {
    "ExecuteTime": {
     "end_time": "2021-12-02T01:20:28.839802Z",
     "start_time": "2021-12-02T01:20:28.476837Z"
    }
   },
   "outputs": [],
   "source": [
    "X_train = (train_image/255.0).astype(\"float32\")\n",
    "X_test = (test_image/255.0).astype('float32')"
   ]
  },
  {
   "cell_type": "code",
   "execution_count": 10,
   "id": "209234ba",
   "metadata": {
    "ExecuteTime": {
     "end_time": "2021-12-02T01:20:59.712461Z",
     "start_time": "2021-12-02T01:20:59.701490Z"
    }
   },
   "outputs": [],
   "source": [
    "y_train = keras.utils.to_categorical(train_label)\n",
    "y_test = keras.utils.to_categorical(test_label)"
   ]
  },
  {
   "cell_type": "code",
   "execution_count": 11,
   "id": "4b12f2c9",
   "metadata": {
    "ExecuteTime": {
     "end_time": "2021-12-02T01:21:35.315669Z",
     "start_time": "2021-12-02T01:21:35.246845Z"
    }
   },
   "outputs": [
    {
     "data": {
      "text/plain": [
       "(0.0, 1.0, 0.0, 1.0)"
      ]
     },
     "execution_count": 11,
     "metadata": {},
     "output_type": "execute_result"
    }
   ],
   "source": [
    "#확인\n",
    "np.min(X_train), np.max(X_train), np.min(X_test), np.max(X_test)"
   ]
  },
  {
   "cell_type": "code",
   "execution_count": 12,
   "id": "b44f22d5",
   "metadata": {
    "ExecuteTime": {
     "end_time": "2021-12-02T01:21:57.812568Z",
     "start_time": "2021-12-02T01:21:57.800601Z"
    }
   },
   "outputs": [
    {
     "data": {
      "text/plain": [
       "((60000, 10), (10000, 10))"
      ]
     },
     "execution_count": 12,
     "metadata": {},
     "output_type": "execute_result"
    }
   ],
   "source": [
    "y_train.shape, y_test.shape"
   ]
  },
  {
   "cell_type": "markdown",
   "id": "d35391bb",
   "metadata": {},
   "source": [
    "#### Dataset 생성"
   ]
  },
  {
   "cell_type": "code",
   "execution_count": 13,
   "id": "359f2624",
   "metadata": {
    "ExecuteTime": {
     "end_time": "2021-12-02T01:25:18.042033Z",
     "start_time": "2021-12-02T01:25:17.828740Z"
    }
   },
   "outputs": [],
   "source": [
    "train_dataset = tf.data.Dataset.from_tensor_slices((X_train, y_train))\\\n",
    "                               .shuffle(N_TRAIN)\\\n",
    "                               .batch(N_BATCHS)\n",
    "\n",
    "test_dataset = tf.data.Dataset.from_tensor_slices((X_test, y_test))\\\n",
    "                              .batch(N_BATCHS)"
   ]
  },
  {
   "cell_type": "code",
   "execution_count": null,
   "id": "99e40409",
   "metadata": {},
   "outputs": [],
   "source": []
  },
  {
   "cell_type": "markdown",
   "id": "08474af5",
   "metadata": {},
   "source": [
    "# 모델의 크기 변경"
   ]
  },
  {
   "cell_type": "code",
   "execution_count": 14,
   "id": "2865a6be",
   "metadata": {
    "ExecuteTime": {
     "end_time": "2021-12-02T02:18:21.191909Z",
     "start_time": "2021-12-02T02:18:21.182933Z"
    }
   },
   "outputs": [],
   "source": [
    "# 작은 모델\n",
    "def create_small_model():\n",
    "    #모델생성\n",
    "    model = keras.Sequential()\n",
    "    # 레이어 추가 - Hidden\n",
    "    model.add(layers.Flatten(input_shape=(28,28)))\n",
    "    model.add(layers.Dense(units=8, activation='relu'))\n",
    "    # 출력레이어\n",
    "    model.add(layers.Dense(units=10, activation='softmax'))\n",
    "    return model"
   ]
  },
  {
   "cell_type": "code",
   "execution_count": 16,
   "id": "73e3e137",
   "metadata": {
    "ExecuteTime": {
     "end_time": "2021-12-02T02:20:51.122664Z",
     "start_time": "2021-12-02T02:20:51.033729Z"
    }
   },
   "outputs": [],
   "source": [
    "# 모델 생성, 컴파일\n",
    "small_model =  create_small_model()\n",
    "small_model.compile(optimizer=keras.optimizers.Adam(learning_rate=LEARNING_RATE),\n",
    "                    loss='categorical_crossentropy',\n",
    "                    metrics=['accuracy'])"
   ]
  },
  {
   "cell_type": "code",
   "execution_count": 17,
   "id": "88c5e702",
   "metadata": {
    "ExecuteTime": {
     "end_time": "2021-12-02T02:21:03.744453Z",
     "start_time": "2021-12-02T02:21:03.731487Z"
    }
   },
   "outputs": [
    {
     "name": "stdout",
     "output_type": "stream",
     "text": [
      "Model: \"sequential_1\"\n",
      "_________________________________________________________________\n",
      " Layer (type)                Output Shape              Param #   \n",
      "=================================================================\n",
      " flatten_1 (Flatten)         (None, 784)               0         \n",
      "                                                                 \n",
      " dense_2 (Dense)             (None, 8)                 6280      \n",
      "                                                                 \n",
      " dense_3 (Dense)             (None, 10)                90        \n",
      "                                                                 \n",
      "=================================================================\n",
      "Total params: 6,370\n",
      "Trainable params: 6,370\n",
      "Non-trainable params: 0\n",
      "_________________________________________________________________\n"
     ]
    }
   ],
   "source": [
    "small_model.summary()"
   ]
  },
  {
   "cell_type": "code",
   "execution_count": 18,
   "id": "a6a9faec",
   "metadata": {
    "ExecuteTime": {
     "end_time": "2021-12-02T02:22:29.590855Z",
     "start_time": "2021-12-02T02:22:29.034632Z"
    }
   },
   "outputs": [
    {
     "data": {
      "image/png": "[encoded data removed]",
      "text/plain": [
       "<IPython.core.display.Image object>"
      ]
     },
     "execution_count": 18,
     "metadata": {},
     "output_type": "execute_result"
    }
   ],
   "source": [
    "keras.utils.plot_model(small_model, show_shapes=True)"
   ]
  },
  {
   "cell_type": "code",
   "execution_count": 19,
   "id": "2228c1d1",
   "metadata": {
    "ExecuteTime": {
     "end_time": "2021-12-02T02:25:17.238790Z",
     "start_time": "2021-12-02T02:24:04.054445Z"
    },
    "scrolled": true
   },
   "outputs": [
    {
     "name": "stdout",
     "output_type": "stream",
     "text": [
      "Epoch 1/20\n",
      "600/600 [==============================] - 3s 4ms/step - loss: 0.8624 - accuracy: 0.7400 - val_loss: 0.4291 - val_accuracy: 0.8833\n",
      "Epoch 2/20\n",
      "600/600 [==============================] - 2s 4ms/step - loss: 0.3977 - accuracy: 0.8875 - val_loss: 0.3442 - val_accuracy: 0.9017\n",
      "Epoch 3/20\n",
      "600/600 [==============================] - 3s 4ms/step - loss: 0.3420 - accuracy: 0.9042 - val_loss: 0.3125 - val_accuracy: 0.9144\n",
      "Epoch 4/20\n",
      "600/600 [==============================] - 3s 4ms/step - loss: 0.3169 - accuracy: 0.9118 - val_loss: 0.3020 - val_accuracy: 0.9150\n",
      "Epoch 5/20\n",
      "600/600 [==============================] - 2s 4ms/step - loss: 0.3028 - accuracy: 0.9155 - val_loss: 0.2940 - val_accuracy: 0.9194\n",
      "Epoch 6/20\n",
      "600/600 [==============================] - 3s 4ms/step - loss: 0.2942 - accuracy: 0.9181 - val_loss: 0.2935 - val_accuracy: 0.9176\n",
      "Epoch 7/20\n",
      "600/600 [==============================] - 3s 5ms/step - loss: 0.2881 - accuracy: 0.9201 - val_loss: 0.2869 - val_accuracy: 0.9199\n",
      "Epoch 8/20\n",
      "600/600 [==============================] - 4s 6ms/step - loss: 0.2831 - accuracy: 0.9214 - val_loss: 0.2841 - val_accuracy: 0.9212\n",
      "Epoch 9/20\n",
      "600/600 [==============================] - 3s 5ms/step - loss: 0.2795 - accuracy: 0.9226 - val_loss: 0.2817 - val_accuracy: 0.9229\n",
      "Epoch 10/20\n",
      "600/600 [==============================] - 3s 5ms/step - loss: 0.2763 - accuracy: 0.9232 - val_loss: 0.2829 - val_accuracy: 0.9207\n",
      "Epoch 11/20\n",
      "600/600 [==============================] - 3s 5ms/step - loss: 0.2739 - accuracy: 0.9251 - val_loss: 0.2879 - val_accuracy: 0.9209\n",
      "Epoch 12/20\n",
      "600/600 [==============================] - 4s 7ms/step - loss: 0.2719 - accuracy: 0.9250 - val_loss: 0.2797 - val_accuracy: 0.9227\n",
      "Epoch 13/20\n",
      "600/600 [==============================] - 3s 5ms/step - loss: 0.2693 - accuracy: 0.9259 - val_loss: 0.2839 - val_accuracy: 0.9228\n",
      "Epoch 14/20\n",
      "600/600 [==============================] - 3s 5ms/step - loss: 0.2674 - accuracy: 0.9259 - val_loss: 0.2849 - val_accuracy: 0.9220\n",
      "Epoch 15/20\n",
      "600/600 [==============================] - 3s 5ms/step - loss: 0.2661 - accuracy: 0.9263 - val_loss: 0.2820 - val_accuracy: 0.9236\n",
      "Epoch 16/20\n",
      "600/600 [==============================] - 4s 6ms/step - loss: 0.2645 - accuracy: 0.9262 - val_loss: 0.2816 - val_accuracy: 0.9229\n",
      "Epoch 17/20\n",
      "600/600 [==============================] - 3s 5ms/step - loss: 0.2631 - accuracy: 0.9266 - val_loss: 0.2812 - val_accuracy: 0.9221\n",
      "Epoch 18/20\n",
      "600/600 [==============================] - 4s 6ms/step - loss: 0.2616 - accuracy: 0.9265 - val_loss: 0.2803 - val_accuracy: 0.9244racy - ETA: 0s - loss: 0.2615 - ac\n",
      "Epoch 19/20\n",
      "600/600 [==============================] - 3s 5ms/step - loss: 0.2598 - accuracy: 0.9284 - val_loss: 0.2842 - val_accuracy: 0.9222\n",
      "Epoch 20/20\n",
      "600/600 [==============================] - 4s 7ms/step - loss: 0.2586 - accuracy: 0.9282 - val_loss: 0.2785 - val_accuracy: 0.9234\n"
     ]
    }
   ],
   "source": [
    "hist = small_model.fit(train_dataset, epochs=N_EPOCHS, \n",
    "                       validation_data=test_dataset)"
   ]
  },
  {
   "cell_type": "code",
   "execution_count": 20,
   "id": "1f0c00a3",
   "metadata": {
    "ExecuteTime": {
     "end_time": "2021-12-02T02:28:46.494566Z",
     "start_time": "2021-12-02T02:28:46.212219Z"
    }
   },
   "outputs": [
    {
     "data": {
      "image/png": "[encoded data removed]",
      "text/plain": [
       "<Figure size 576x504 with 1 Axes>"
      ]
     },
     "metadata": {
      "needs_background": "light"
     },
     "output_type": "display_data"
    }
   ],
   "source": [
    "plot_loss(N_EPOCHS, hist)"
   ]
  },
  {
   "cell_type": "code",
   "execution_count": 21,
   "id": "18fee369",
   "metadata": {
    "ExecuteTime": {
     "end_time": "2021-12-02T02:29:22.782421Z",
     "start_time": "2021-12-02T02:29:22.451025Z"
    }
   },
   "outputs": [
    {
     "data": {
      "image/png": "[encoded data removed]",
      "text/plain": [
       "<Figure size 576x504 with 1 Axes>"
      ]
     },
     "metadata": {
      "needs_background": "light"
     },
     "output_type": "display_data"
    }
   ],
   "source": [
    "plot_accuracy(N_EPOCHS, hist)"
   ]
  },
  {
   "cell_type": "code",
   "execution_count": 23,
   "id": "03b74a8d",
   "metadata": {
    "ExecuteTime": {
     "end_time": "2021-12-02T02:34:37.778103Z",
     "start_time": "2021-12-02T02:34:37.761151Z"
    }
   },
   "outputs": [],
   "source": [
    "# 모델의 크기를 크게\n",
    "# MLP - units 개수 : 2제곱, 큰값에서 점점 줄여나간다.\n",
    "def create_bigger_model():\n",
    "    model = keras.Sequential()\n",
    "    model.add(layers.Flatten(input_shape=(28,28)))\n",
    "    model.add(layers.Dense(units=256, activation='relu'))\n",
    "    model.add(layers.Dense(units=256, activation='relu'))\n",
    "    model.add(layers.Dense(units=128, activation='relu'))\n",
    "    model.add(layers.Dense(units=128, activation='relu'))\n",
    "    #출력\n",
    "    model.add(layers.Dense(units=10, activation='softmax'))\n",
    "    return model"
   ]
  },
  {
   "cell_type": "code",
   "execution_count": 24,
   "id": "335253dc",
   "metadata": {
    "ExecuteTime": {
     "end_time": "2021-12-02T02:35:38.888561Z",
     "start_time": "2021-12-02T02:35:38.748568Z"
    }
   },
   "outputs": [],
   "source": [
    "bigger_model = create_bigger_model()\n",
    "bigger_model.compile(optimizer=keras.optimizers.Adam(learning_rate=LEARNING_RATE),\n",
    "                     loss='categorical_crossentropy',\n",
    "                     metrics=['accuracy'])"
   ]
  },
  {
   "cell_type": "code",
   "execution_count": 25,
   "id": "72cce4fd",
   "metadata": {
    "ExecuteTime": {
     "end_time": "2021-12-02T02:35:59.824765Z",
     "start_time": "2021-12-02T02:35:59.805816Z"
    },
    "collapsed": true
   },
   "outputs": [
    {
     "name": "stdout",
     "output_type": "stream",
     "text": [
      "Model: \"sequential_2\"\n",
      "_________________________________________________________________\n",
      " Layer (type)                Output Shape              Param #   \n",
      "=================================================================\n",
      " flatten_2 (Flatten)         (None, 784)               0         \n",
      "                                                                 \n",
      " dense_4 (Dense)             (None, 256)               200960    \n",
      "                                                                 \n",
      " dense_5 (Dense)             (None, 256)               65792     \n",
      "                                                                 \n",
      " dense_6 (Dense)             (None, 128)               32896     \n",
      "                                                                 \n",
      " dense_7 (Dense)             (None, 128)               16512     \n",
      "                                                                 \n",
      " dense_8 (Dense)             (None, 10)                1290      \n",
      "                                                                 \n",
      "=================================================================\n",
      "Total params: 317,450\n",
      "Trainable params: 317,450\n",
      "Non-trainable params: 0\n",
      "_________________________________________________________________\n"
     ]
    }
   ],
   "source": [
    "bigger_model.summary()"
   ]
  },
  {
   "cell_type": "code",
   "execution_count": 27,
   "id": "a924e290",
   "metadata": {
    "ExecuteTime": {
     "end_time": "2021-12-02T02:39:53.628463Z",
     "start_time": "2021-12-02T02:38:01.340623Z"
    },
    "collapsed": true
   },
   "outputs": [
    {
     "name": "stdout",
     "output_type": "stream",
     "text": [
      "Epoch 1/20\n",
      "600/600 [==============================] - 7s 9ms/step - loss: 0.2464 - accuracy: 0.9264 - val_loss: 0.1270 - val_accuracy: 0.9579\n",
      "Epoch 2/20\n",
      "600/600 [==============================] - 6s 10ms/step - loss: 0.0943 - accuracy: 0.9704 - val_loss: 0.0968 - val_accuracy: 0.9697\n",
      "Epoch 3/20\n",
      "600/600 [==============================] - 6s 10ms/step - loss: 0.0657 - accuracy: 0.9795 - val_loss: 0.0846 - val_accuracy: 0.9741\n",
      "Epoch 4/20\n",
      "600/600 [==============================] - 6s 10ms/step - loss: 0.0490 - accuracy: 0.9841 - val_loss: 0.0741 - val_accuracy: 0.9770\n",
      "Epoch 5/20\n",
      "600/600 [==============================] - 6s 10ms/step - loss: 0.0401 - accuracy: 0.9869 - val_loss: 0.0760 - val_accuracy: 0.9785\n",
      "Epoch 6/20\n",
      "600/600 [==============================] - 6s 10ms/step - loss: 0.0318 - accuracy: 0.9899 - val_loss: 0.0756 - val_accuracy: 0.9788\n",
      "Epoch 7/20\n",
      "600/600 [==============================] - 6s 10ms/step - loss: 0.0292 - accuracy: 0.9907 - val_loss: 0.0752 - val_accuracy: 0.9785\n",
      "Epoch 8/20\n",
      "600/600 [==============================] - 6s 10ms/step - loss: 0.0236 - accuracy: 0.9924 - val_loss: 0.0770 - val_accuracy: 0.9788\n",
      "Epoch 9/20\n",
      "600/600 [==============================] - 6s 9ms/step - loss: 0.0240 - accuracy: 0.9919 - val_loss: 0.0988 - val_accuracy: 0.9768\n",
      "Epoch 10/20\n",
      "600/600 [==============================] - 5s 9ms/step - loss: 0.0215 - accuracy: 0.9932 - val_loss: 0.0849 - val_accuracy: 0.9778\n",
      "Epoch 11/20\n",
      "600/600 [==============================] - 5s 7ms/step - loss: 0.0186 - accuracy: 0.9941 - val_loss: 0.0861 - val_accuracy: 0.9790\n",
      "Epoch 12/20\n",
      "600/600 [==============================] - 5s 8ms/step - loss: 0.0175 - accuracy: 0.9941 - val_loss: 0.0927 - val_accuracy: 0.9781\n",
      "Epoch 13/20\n",
      "600/600 [==============================] - 5s 8ms/step - loss: 0.0151 - accuracy: 0.9951 - val_loss: 0.1114 - val_accuracy: 0.9773\n",
      "Epoch 14/20\n",
      "600/600 [==============================] - 5s 7ms/step - loss: 0.0134 - accuracy: 0.9954 - val_loss: 0.0862 - val_accuracy: 0.9810\n",
      "Epoch 15/20\n",
      "600/600 [==============================] - 5s 7ms/step - loss: 0.0143 - accuracy: 0.9955 - val_loss: 0.0866 - val_accuracy: 0.9800\n",
      "Epoch 16/20\n",
      "600/600 [==============================] - 5s 8ms/step - loss: 0.0117 - accuracy: 0.9962 - val_loss: 0.0906 - val_accuracy: 0.9800\n",
      "Epoch 17/20\n",
      "600/600 [==============================] - 5s 8ms/step - loss: 0.0122 - accuracy: 0.9962 - val_loss: 0.0973 - val_accuracy: 0.9785\n",
      "Epoch 18/20\n",
      "600/600 [==============================] - 5s 7ms/step - loss: 0.0112 - accuracy: 0.9964 - val_loss: 0.0895 - val_accuracy: 0.9812\n",
      "Epoch 19/20\n",
      "600/600 [==============================] - 4s 7ms/step - loss: 0.0107 - accuracy: 0.9967 - val_loss: 0.0989 - val_accuracy: 0.9803\n",
      "Epoch 20/20\n",
      "600/600 [==============================] - 5s 9ms/step - loss: 0.0094 - accuracy: 0.9973 - val_loss: 0.1061 - val_accuracy: 0.9792\n"
     ]
    }
   ],
   "source": [
    "hist = bigger_model.fit(train_dataset, \n",
    "                        epochs=N_EPOCHS, \n",
    "                        validation_data=test_dataset)"
   ]
  },
  {
   "cell_type": "code",
   "execution_count": 28,
   "id": "05faa1c1",
   "metadata": {
    "ExecuteTime": {
     "end_time": "2021-12-02T02:41:24.459397Z",
     "start_time": "2021-12-02T02:41:24.156524Z"
    }
   },
   "outputs": [
    {
     "data": {
      "image/png": "[encoded data removed]",
      "text/plain": [
       "<Figure size 576x504 with 1 Axes>"
      ]
     },
     "metadata": {
      "needs_background": "light"
     },
     "output_type": "display_data"
    }
   ],
   "source": [
    "plot_loss(N_EPOCHS, hist)"
   ]
  },
  {
   "cell_type": "code",
   "execution_count": 29,
   "id": "6d06ddcf",
   "metadata": {
    "ExecuteTime": {
     "end_time": "2021-12-02T02:42:29.201157Z",
     "start_time": "2021-12-02T02:42:28.869532Z"
    }
   },
   "outputs": [
    {
     "data": {
      "image/png": "[encoded data removed]",
      "text/plain": [
       "<Figure size 576x504 with 1 Axes>"
      ]
     },
     "metadata": {
      "needs_background": "light"
     },
     "output_type": "display_data"
    }
   ],
   "source": [
    "plot_accuracy(N_EPOCHS, hist)"
   ]
  }
 ],
 "metadata": {
  "kernelspec": {
   "display_name": "Python 3 (ipykernel)",
   "language": "python",
   "name": "python3"
  },
  "language_info": {
   "codemirror_mode": {
    "name": "ipython",
    "version": 3
   },
   "file_extension": ".py",
   "mimetype": "text/x-python",
   "name": "python",
   "nbconvert_exporter": "python",
   "pygments_lexer": "ipython3",
   "version": "3.8.12"
  },
  "toc": {
   "base_numbering": 1,
   "nav_menu": {},
   "number_sections": false,
   "sideBar": true,
   "skip_h1_title": false,
   "title_cell": "Table of Contents",
   "title_sidebar": "Contents",
   "toc_cell": false,
   "toc_position": {},
   "toc_section_display": true,
   "toc_window_display": false
  },
  "varInspector": {
   "cols": {
    "lenName": 16,
    "lenType": 16,
    "lenVar": 40
   },
   "kernels_config": {
    "python": {
     "delete_cmd_postfix": "",
     "delete_cmd_prefix": "del ",
     "library": "var_list.py",
     "varRefreshCmd": "print(var_dic_list())"
    },
    "r": {
     "delete_cmd_postfix": ") ",
     "delete_cmd_prefix": "rm(",
     "library": "var_list.r",
     "varRefreshCmd": "cat(var_dic_list()) "
    }
   },
   "types_to_exclude": [
    "module",
    "function",
    "builtin_function_or_method",
    "instance",
    "_Feature"
   ],
   "window_display": false
  }
 },
 "nbformat": 4,
 "nbformat_minor": 5
}
