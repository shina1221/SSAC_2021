{
 "cells": [
  {
   "cell_type": "code",
   "execution_count": 3,
   "id": "6cb897e8",
   "metadata": {
    "ExecuteTime": {
     "end_time": "2021-12-02T01:05:11.645549Z",
     "start_time": "2021-12-02T01:05:11.498527Z"
    }
   },
   "outputs": [],
   "source": [
    "import numpy as np\n",
    "import tensorflow as tf\n",
    "from tensorflow import keras\n",
    "from tensorflow.keras import layers\n",
    "\n",
    "import matplotlib.pyplot as plt\n",
    "import matplotlib as mpl"
   ]
  },
  {
   "cell_type": "code",
   "execution_count": 4,
   "id": "78c62fc3",
   "metadata": {
    "ExecuteTime": {
     "end_time": "2021-12-02T01:07:39.532112Z",
     "start_time": "2021-12-02T01:07:39.524089Z"
    }
   },
   "outputs": [],
   "source": [
    "#한글설정\n",
    "mpl.rcParams['font.family'] = \"malgun gothic\"\n",
    "mpl.rcParams['axes.unicode_minus'] = False\n",
    "mpl.rcParams['axes.titlesize']=20 #시각화 할때 폰트 사이즈"
   ]
  },
  {
   "cell_type": "code",
   "execution_count": 5,
   "id": "b7839323",
   "metadata": {
    "ExecuteTime": {
     "end_time": "2021-12-02T01:08:16.359432Z",
     "start_time": "2021-12-02T01:08:16.342406Z"
    }
   },
   "outputs": [],
   "source": [
    "np.random.seed(0)\n",
    "tf.random.set_seed(0)"
   ]
  },
  {
   "cell_type": "markdown",
   "id": "65324e32",
   "metadata": {},
   "source": [
    "- 학습결과 시각화"
   ]
  },
  {
   "cell_type": "code",
   "execution_count": 6,
   "id": "5a641fb6",
   "metadata": {
    "ExecuteTime": {
     "end_time": "2021-12-02T01:15:28.046470Z",
     "start_time": "2021-12-02T01:15:28.036463Z"
    }
   },
   "outputs": [],
   "source": [
    "def plot_loss(epochs, history):\n",
    "    \"\"\"\n",
    "    학습 loss를 시각화 하는 함수\n",
    "    \n",
    "    \"\"\"\n",
    "    plt.figure(figsize=(8,7))\n",
    "    plt.plot(range(1, epochs+1), history.history['loss'], label='Train Loss')\n",
    "    plt.plot(range(1, epochs+1), history.history['val_loss'], label='Validation Loss')\n",
    "    plt.title('Loss')\n",
    "    plt.xlabel('Epochs')\n",
    "    plt.ylabel('Loss')\n",
    "    plt.legend()\n",
    "    plt.show()"
   ]
  },
  {
   "cell_type": "code",
   "execution_count": 8,
   "id": "25a55fca",
   "metadata": {
    "ExecuteTime": {
     "end_time": "2021-12-02T01:15:29.899669Z",
     "start_time": "2021-12-02T01:15:29.882749Z"
    }
   },
   "outputs": [],
   "source": [
    "def plot_accuracy(epochs, history):\n",
    "    \"\"\"\n",
    "    학습 accuracy를 시각화 하는 함수\n",
    "    \n",
    "    \"\"\"\n",
    "    plt.figure(figsize=(8,7))\n",
    "    plt.plot(range(1, epochs+1), history.history['accuracy'], label='Train Accuracy')\n",
    "    plt.plot(range(1, epochs+1), history.history['val_accuracy'], label='Validation Accuracy')\n",
    "    plt.title('Accuracy')\n",
    "    plt.xlabel('Epochs')\n",
    "    plt.ylabel('Accuracy')\n",
    "    plt.legend()\n",
    "    plt.show()"
   ]
  },
  {
   "cell_type": "markdown",
   "id": "e7f57d00",
   "metadata": {
    "ExecuteTime": {
     "end_time": "2021-12-02T01:15:42.191374Z",
     "start_time": "2021-12-02T01:15:42.176356Z"
    }
   },
   "source": [
    "#### 데이터 로딩"
   ]
  },
  {
   "cell_type": "code",
   "execution_count": 11,
   "id": "125255c9",
   "metadata": {
    "ExecuteTime": {
     "end_time": "2021-12-02T01:16:39.009401Z",
     "start_time": "2021-12-02T01:16:38.846362Z"
    }
   },
   "outputs": [],
   "source": [
    "(train_image, train_label), (test_image, test_label) = keras.datasets.mnist.load_data()\n"
   ]
  },
  {
   "cell_type": "code",
   "execution_count": 12,
   "id": "a9f88fd9",
   "metadata": {
    "ExecuteTime": {
     "end_time": "2021-12-02T01:16:51.980015Z",
     "start_time": "2021-12-02T01:16:51.969014Z"
    }
   },
   "outputs": [
    {
     "data": {
      "text/plain": [
       "((60000, 28, 28), (10000, 28, 28))"
      ]
     },
     "execution_count": 12,
     "metadata": {},
     "output_type": "execute_result"
    }
   ],
   "source": [
    "train_image.shape, test_image.shape"
   ]
  },
  {
   "cell_type": "markdown",
   "id": "b15caa7c",
   "metadata": {},
   "source": [
    "#### 하이퍼파라미터 변수 정의"
   ]
  },
  {
   "cell_type": "code",
   "execution_count": 13,
   "id": "151beb7b",
   "metadata": {
    "ExecuteTime": {
     "end_time": "2021-12-02T01:18:40.219629Z",
     "start_time": "2021-12-02T01:18:40.202605Z"
    }
   },
   "outputs": [],
   "source": [
    "Learning_rate=0.001\n",
    "n_epochs = 20\n",
    "n_batchs=100\n",
    "\n",
    "#데이터 개수\n",
    "n_train = train_image.shape[0]\n",
    "n_test = test_image.shape[0]"
   ]
  },
  {
   "cell_type": "markdown",
   "id": "82ce9d0e",
   "metadata": {},
   "source": [
    "#### 전처리\n",
    "- image : 0~ 1 사이의 값으로 정규화\n",
    "- label :one hot encoding (다중분류이므로)"
   ]
  },
  {
   "cell_type": "code",
   "execution_count": 14,
   "id": "5f018985",
   "metadata": {
    "ExecuteTime": {
     "end_time": "2021-12-02T01:20:37.100809Z",
     "start_time": "2021-12-02T01:20:36.951775Z"
    }
   },
   "outputs": [],
   "source": [
    "X_train = (train_image/255).astype('float32')\n",
    "X_test = (test_image/255).astype('float32')"
   ]
  },
  {
   "cell_type": "code",
   "execution_count": 15,
   "id": "554e6eeb",
   "metadata": {
    "ExecuteTime": {
     "end_time": "2021-12-02T01:21:15.266473Z",
     "start_time": "2021-12-02T01:21:15.255452Z"
    }
   },
   "outputs": [],
   "source": [
    "y_train = keras.utils.to_categorical(train_label)\n",
    "y_test = keras.utils.to_categorical(test_label)"
   ]
  },
  {
   "cell_type": "code",
   "execution_count": 17,
   "id": "1453fae0",
   "metadata": {
    "ExecuteTime": {
     "end_time": "2021-12-02T01:21:47.488657Z",
     "start_time": "2021-12-02T01:21:47.458626Z"
    }
   },
   "outputs": [
    {
     "data": {
      "text/plain": [
       "(0.0, 1.0, 0.0, 1.0)"
      ]
     },
     "execution_count": 17,
     "metadata": {},
     "output_type": "execute_result"
    }
   ],
   "source": [
    "#확인\n",
    "np.min(X_train), np.max(X_train), np.min(X_test), np.max(X_test)"
   ]
  },
  {
   "cell_type": "code",
   "execution_count": 19,
   "id": "4549b9fb",
   "metadata": {
    "ExecuteTime": {
     "end_time": "2021-12-02T01:21:58.234100Z",
     "start_time": "2021-12-02T01:21:58.221077Z"
    }
   },
   "outputs": [
    {
     "data": {
      "text/plain": [
       "((60000, 10), (10000, 10))"
      ]
     },
     "execution_count": 19,
     "metadata": {},
     "output_type": "execute_result"
    }
   ],
   "source": [
    "y_train.shape, y_test.shape"
   ]
  },
  {
   "cell_type": "markdown",
   "id": "b0d4342a",
   "metadata": {},
   "source": [
    "- Dataset 생성"
   ]
  },
  {
   "cell_type": "code",
   "execution_count": 26,
   "id": "73bc2db5",
   "metadata": {
    "ExecuteTime": {
     "end_time": "2021-12-02T01:26:45.287012Z",
     "start_time": "2021-12-02T01:26:45.280987Z"
    }
   },
   "outputs": [],
   "source": [
    "train_dataset = tf.data.Dataset.from_tensor_slices((X_train, y_train))\\\n",
    "                               .shuffle(n_train)\\\n",
    "                               .batch(n_batchs)      \n",
    "\n",
    "test_dataset = tf.data.Dataset.from_tensor_slices((X_test, y_test))\\\n",
    "                              .batch(n_batchs)"
   ]
  },
  {
   "cell_type": "markdown",
   "id": "9e6c7786",
   "metadata": {},
   "source": [
    "# 모델 크기 변경"
   ]
  },
  {
   "cell_type": "code",
   "execution_count": 31,
   "id": "d353dc16",
   "metadata": {
    "ExecuteTime": {
     "end_time": "2021-12-02T02:20:57.211977Z",
     "start_time": "2021-12-02T02:20:57.202967Z"
    }
   },
   "outputs": [],
   "source": [
    "# 작은 모델\n",
    "def create_small_model():\n",
    "    #모델 생성\n",
    "    model= keras.Sequential()\n",
    "    #레이어 추가 - Hidden\n",
    "    model.add(layers.Flatten(input_shape=(28,28)))\n",
    "    #Dense layer는 무조건 1차원만 받음\n",
    "    model.add(layers.Dense(units=8, activation='relu'))\n",
    "    #출력 레이어\n",
    "    model.add(layers.Dense(units=10, activation='softmax'))\n",
    "    return model\n",
    "\n",
    "    "
   ]
  },
  {
   "cell_type": "code",
   "execution_count": 35,
   "id": "fc64a8a1",
   "metadata": {
    "ExecuteTime": {
     "end_time": "2021-12-02T02:22:01.265611Z",
     "start_time": "2021-12-02T02:22:01.240582Z"
    }
   },
   "outputs": [],
   "source": [
    "small_model = create_small_model()\n",
    "small_model.compile(optimizer=keras.optimizers.Adam(\n",
    "    learning_rate=Learning_rate),\n",
    "    loss='categorical_crossentropy',\n",
    "    metrics=['accuracy'])"
   ]
  },
  {
   "cell_type": "code",
   "execution_count": 37,
   "id": "20a6ad0d",
   "metadata": {
    "ExecuteTime": {
     "end_time": "2021-12-02T02:22:10.485807Z",
     "start_time": "2021-12-02T02:22:10.469784Z"
    }
   },
   "outputs": [
    {
     "name": "stdout",
     "output_type": "stream",
     "text": [
      "Model: \"sequential_3\"\n",
      "_________________________________________________________________\n",
      " Layer (type)                Output Shape              Param #   \n",
      "=================================================================\n",
      " flatten_3 (Flatten)         (None, 784)               0         \n",
      "                                                                 \n",
      " dense_6 (Dense)             (None, 8)                 6280      \n",
      "                                                                 \n",
      " dense_7 (Dense)             (None, 10)                90        \n",
      "                                                                 \n",
      "=================================================================\n",
      "Total params: 6,370\n",
      "Trainable params: 6,370\n",
      "Non-trainable params: 0\n",
      "_________________________________________________________________\n"
     ]
    }
   ],
   "source": [
    "small_model.summary()"
   ]
  },
  {
   "cell_type": "code",
   "execution_count": 38,
   "id": "71c93d56",
   "metadata": {
    "ExecuteTime": {
     "end_time": "2021-12-02T02:22:32.989984Z",
     "start_time": "2021-12-02T02:22:32.788964Z"
    },
    "scrolled": true
   },
   "outputs": [
    {
     "data": {
      "image/png": "[encoded data removed]",
      "text/plain": [
       "<IPython.core.display.Image object>"
      ]
     },
     "execution_count": 38,
     "metadata": {},
     "output_type": "execute_result"
    }
   ],
   "source": [
    "keras.utils.plot_model(small_model, show_shapes=True)"
   ]
  },
  {
   "cell_type": "code",
   "execution_count": 39,
   "id": "6e3a49a0",
   "metadata": {
    "ExecuteTime": {
     "end_time": "2021-12-02T02:23:50.217369Z",
     "start_time": "2021-12-02T02:23:36.943718Z"
    },
    "scrolled": true
   },
   "outputs": [
    {
     "name": "stdout",
     "output_type": "stream",
     "text": [
      "Epoch 1/20\n",
      "600/600 [==============================] - 1s 975us/step - loss: 0.7522 - accuracy: 0.7870 - val_loss: 0.4163 - val_accuracy: 0.8827\n",
      "Epoch 2/20\n",
      "600/600 [==============================] - 1s 871us/step - loss: 0.3881 - accuracy: 0.8886 - val_loss: 0.3392 - val_accuracy: 0.9073\n",
      "Epoch 3/20\n",
      "600/600 [==============================] - 1s 862us/step - loss: 0.3342 - accuracy: 0.9054 - val_loss: 0.3180 - val_accuracy: 0.9113\n",
      "Epoch 4/20\n",
      "600/600 [==============================] - 1s 853us/step - loss: 0.3121 - accuracy: 0.9118 - val_loss: 0.3044 - val_accuracy: 0.9177\n",
      "Epoch 5/20\n",
      "600/600 [==============================] - 1s 877us/step - loss: 0.2989 - accuracy: 0.9163 - val_loss: 0.2949 - val_accuracy: 0.9192\n",
      "Epoch 6/20\n",
      "600/600 [==============================] - 1s 858us/step - loss: 0.2893 - accuracy: 0.9195 - val_loss: 0.2899 - val_accuracy: 0.9193\n",
      "Epoch 7/20\n",
      "600/600 [==============================] - 1s 848us/step - loss: 0.2821 - accuracy: 0.9219 - val_loss: 0.2846 - val_accuracy: 0.9224\n",
      "Epoch 8/20\n",
      "600/600 [==============================] - 1s 878us/step - loss: 0.2760 - accuracy: 0.9235 - val_loss: 0.2796 - val_accuracy: 0.9218\n",
      "Epoch 9/20\n",
      "600/600 [==============================] - 1s 865us/step - loss: 0.2711 - accuracy: 0.9244 - val_loss: 0.2781 - val_accuracy: 0.9226\n",
      "Epoch 10/20\n",
      "600/600 [==============================] - 1s 901us/step - loss: 0.2657 - accuracy: 0.9258 - val_loss: 0.2729 - val_accuracy: 0.9246\n",
      "Epoch 11/20\n",
      "600/600 [==============================] - 1s 884us/step - loss: 0.2611 - accuracy: 0.9271 - val_loss: 0.2725 - val_accuracy: 0.9246\n",
      "Epoch 12/20\n",
      "600/600 [==============================] - 1s 865us/step - loss: 0.2569 - accuracy: 0.9283 - val_loss: 0.2653 - val_accuracy: 0.9267\n",
      "Epoch 13/20\n",
      "600/600 [==============================] - 1s 889us/step - loss: 0.2537 - accuracy: 0.9294 - val_loss: 0.2675 - val_accuracy: 0.9249\n",
      "Epoch 14/20\n",
      "600/600 [==============================] - 1s 881us/step - loss: 0.2493 - accuracy: 0.9299 - val_loss: 0.2633 - val_accuracy: 0.9261\n",
      "Epoch 15/20\n",
      "600/600 [==============================] - 1s 868us/step - loss: 0.2468 - accuracy: 0.9310 - val_loss: 0.2626 - val_accuracy: 0.9269\n",
      "Epoch 16/20\n",
      "600/600 [==============================] - 1s 897us/step - loss: 0.2438 - accuracy: 0.9319 - val_loss: 0.2617 - val_accuracy: 0.9269\n",
      "Epoch 17/20\n",
      "600/600 [==============================] - 1s 871us/step - loss: 0.2415 - accuracy: 0.9321 - val_loss: 0.2595 - val_accuracy: 0.9292\n",
      "Epoch 18/20\n",
      "600/600 [==============================] - 1s 875us/step - loss: 0.2392 - accuracy: 0.9327 - val_loss: 0.2624 - val_accuracy: 0.9273\n",
      "Epoch 19/20\n",
      "600/600 [==============================] - 1s 885us/step - loss: 0.2370 - accuracy: 0.9334 - val_loss: 0.2550 - val_accuracy: 0.9300\n",
      "Epoch 20/20\n",
      "600/600 [==============================] - 1s 866us/step - loss: 0.2352 - accuracy: 0.9339 - val_loss: 0.2533 - val_accuracy: 0.9309\n"
     ]
    }
   ],
   "source": [
    "hist = small_model.fit(train_dataset, epochs=n_epochs, validation_data=test_dataset)"
   ]
  },
  {
   "cell_type": "code",
   "execution_count": 42,
   "id": "2904506c",
   "metadata": {
    "ExecuteTime": {
     "end_time": "2021-12-02T02:28:51.172271Z",
     "start_time": "2021-12-02T02:28:51.072882Z"
    }
   },
   "outputs": [
    {
     "data": {
      "image/png": "[encoded data removed]",
      "text/plain": [
       "<Figure size 576x504 with 1 Axes>"
      ]
     },
     "metadata": {
      "needs_background": "light"
     },
     "output_type": "display_data"
    }
   ],
   "source": [
    "#(에폭, 모델) \n",
    "plot_loss(n_epochs,hist)"
   ]
  },
  {
   "cell_type": "code",
   "execution_count": 43,
   "id": "057ab8d9",
   "metadata": {
    "ExecuteTime": {
     "end_time": "2021-12-02T02:29:23.151676Z",
     "start_time": "2021-12-02T02:29:23.056676Z"
    },
    "scrolled": true
   },
   "outputs": [
    {
     "data": {
      "image/png": "[encoded data removed]",
      "text/plain": [
       "<Figure size 576x504 with 1 Axes>"
      ]
     },
     "metadata": {
      "needs_background": "light"
     },
     "output_type": "display_data"
    }
   ],
   "source": [
    "plot_accuracy(n_epochs, hist)"
   ]
  },
  {
   "cell_type": "code",
   "execution_count": 44,
   "id": "4ad2d552",
   "metadata": {
    "ExecuteTime": {
     "end_time": "2021-12-02T02:33:18.416663Z",
     "start_time": "2021-12-02T02:33:18.401652Z"
    }
   },
   "outputs": [],
   "source": [
    "# 모델 크기를 크게\n",
    "# MLP - units 개수: 2제곱, 큰 값에서 점점 줄여나감.\n",
    "def create_bigger_model():\n",
    "    model = keras.Sequential()\n",
    "    model.add(layers.Flatten(input_shape=(28,28)))\n",
    "    model.add(layers.Dense(units=256, activation='relu'))\n",
    "    model.add(layers.Dense(units=256, activation='relu'))\n",
    "    model.add(layers.Dense(units=128, activation='relu'))\n",
    "    model.add(layers.Dense(units=128, activation='relu'))\n",
    "    #출력\n",
    "    model.add(layers.Dense(units=10, activation='softmax'))\n",
    "    return model"
   ]
  },
  {
   "cell_type": "code",
   "execution_count": 46,
   "id": "7b0586b3",
   "metadata": {
    "ExecuteTime": {
     "end_time": "2021-12-02T02:35:38.761310Z",
     "start_time": "2021-12-02T02:35:38.721310Z"
    }
   },
   "outputs": [],
   "source": [
    "bigger_model = create_bigger_model()\n",
    "bigger_model.compile(optimizer=keras.optimizers.Adam(learning_rate=Learning_rate),\n",
    "                    loss='categorical_crossentropy',\n",
    "                    metrics=['accuracy'])"
   ]
  },
  {
   "cell_type": "code",
   "execution_count": 50,
   "id": "c47bdf7b",
   "metadata": {
    "ExecuteTime": {
     "end_time": "2021-12-02T02:36:05.877678Z",
     "start_time": "2021-12-02T02:36:05.873678Z"
    }
   },
   "outputs": [
    {
     "name": "stdout",
     "output_type": "stream",
     "text": [
      "Model: \"sequential_5\"\n",
      "_________________________________________________________________\n",
      " Layer (type)                Output Shape              Param #   \n",
      "=================================================================\n",
      " flatten_5 (Flatten)         (None, 784)               0         \n",
      "                                                                 \n",
      " dense_13 (Dense)            (None, 256)               200960    \n",
      "                                                                 \n",
      " dense_14 (Dense)            (None, 256)               65792     \n",
      "                                                                 \n",
      " dense_15 (Dense)            (None, 128)               32896     \n",
      "                                                                 \n",
      " dense_16 (Dense)            (None, 128)               16512     \n",
      "                                                                 \n",
      " dense_17 (Dense)            (None, 10)                1290      \n",
      "                                                                 \n",
      "=================================================================\n",
      "Total params: 317,450\n",
      "Trainable params: 317,450\n",
      "Non-trainable params: 0\n",
      "_________________________________________________________________\n"
     ]
    }
   ],
   "source": [
    "bigger_model.summary()"
   ]
  },
  {
   "cell_type": "code",
   "execution_count": 51,
   "id": "4942f466",
   "metadata": {
    "ExecuteTime": {
     "end_time": "2021-12-02T02:37:42.262591Z",
     "start_time": "2021-12-02T02:37:14.725450Z"
    },
    "scrolled": true
   },
   "outputs": [
    {
     "name": "stdout",
     "output_type": "stream",
     "text": [
      "Epoch 1/20\n",
      "600/600 [==============================] - 2s 2ms/step - loss: 0.2500 - accuracy: 0.9254 - val_loss: 0.1121 - val_accuracy: 0.9658\n",
      "Epoch 2/20\n",
      "600/600 [==============================] - 1s 2ms/step - loss: 0.0964 - accuracy: 0.9703 - val_loss: 0.0905 - val_accuracy: 0.9726\n",
      "Epoch 3/20\n",
      "600/600 [==============================] - 1s 2ms/step - loss: 0.0654 - accuracy: 0.9792 - val_loss: 0.0820 - val_accuracy: 0.9736\n",
      "Epoch 4/20\n",
      "600/600 [==============================] - 1s 2ms/step - loss: 0.0492 - accuracy: 0.9844 - val_loss: 0.0734 - val_accuracy: 0.9784\n",
      "Epoch 5/20\n",
      "600/600 [==============================] - 1s 2ms/step - loss: 0.0406 - accuracy: 0.9871 - val_loss: 0.0855 - val_accuracy: 0.9750\n",
      "Epoch 6/20\n",
      "600/600 [==============================] - 1s 2ms/step - loss: 0.0323 - accuracy: 0.9895 - val_loss: 0.0877 - val_accuracy: 0.9777\n",
      "Epoch 7/20\n",
      "600/600 [==============================] - 1s 2ms/step - loss: 0.0274 - accuracy: 0.9913 - val_loss: 0.0977 - val_accuracy: 0.9737\n",
      "Epoch 8/20\n",
      "600/600 [==============================] - 1s 2ms/step - loss: 0.0261 - accuracy: 0.9918 - val_loss: 0.0730 - val_accuracy: 0.9811\n",
      "Epoch 9/20\n",
      "600/600 [==============================] - 1s 2ms/step - loss: 0.0196 - accuracy: 0.9938 - val_loss: 0.1047 - val_accuracy: 0.9738\n",
      "Epoch 10/20\n",
      "600/600 [==============================] - 1s 2ms/step - loss: 0.0189 - accuracy: 0.9936 - val_loss: 0.0852 - val_accuracy: 0.9793\n",
      "Epoch 11/20\n",
      "600/600 [==============================] - 1s 2ms/step - loss: 0.0208 - accuracy: 0.9933 - val_loss: 0.0796 - val_accuracy: 0.9815\n",
      "Epoch 12/20\n",
      "600/600 [==============================] - 1s 2ms/step - loss: 0.0158 - accuracy: 0.9952 - val_loss: 0.1035 - val_accuracy: 0.9771\n",
      "Epoch 13/20\n",
      "600/600 [==============================] - 1s 2ms/step - loss: 0.0187 - accuracy: 0.9943 - val_loss: 0.0794 - val_accuracy: 0.9805\n",
      "Epoch 14/20\n",
      "600/600 [==============================] - 1s 2ms/step - loss: 0.0145 - accuracy: 0.9954 - val_loss: 0.0912 - val_accuracy: 0.9780\n",
      "Epoch 15/20\n",
      "600/600 [==============================] - 1s 2ms/step - loss: 0.0126 - accuracy: 0.9964 - val_loss: 0.0832 - val_accuracy: 0.9813\n",
      "Epoch 16/20\n",
      "600/600 [==============================] - 1s 2ms/step - loss: 0.0122 - accuracy: 0.9964 - val_loss: 0.0984 - val_accuracy: 0.9802\n",
      "Epoch 17/20\n",
      "600/600 [==============================] - 1s 2ms/step - loss: 0.0147 - accuracy: 0.9952 - val_loss: 0.0843 - val_accuracy: 0.9805\n",
      "Epoch 18/20\n",
      "600/600 [==============================] - 1s 2ms/step - loss: 0.0094 - accuracy: 0.9972 - val_loss: 0.0987 - val_accuracy: 0.9779\n",
      "Epoch 19/20\n",
      "600/600 [==============================] - 1s 2ms/step - loss: 0.0126 - accuracy: 0.9960 - val_loss: 0.0798 - val_accuracy: 0.9809\n",
      "Epoch 20/20\n",
      "600/600 [==============================] - 1s 2ms/step - loss: 0.0083 - accuracy: 0.9975 - val_loss: 0.1168 - val_accuracy: 0.9766\n"
     ]
    }
   ],
   "source": [
    "hist=bigger_model.fit(train_dataset,\n",
    "                     epochs=n_epochs,\n",
    "                     validation_data=test_dataset\n",
    "                     )"
   ]
  },
  {
   "cell_type": "code",
   "execution_count": 54,
   "id": "d2933668",
   "metadata": {
    "ExecuteTime": {
     "end_time": "2021-12-02T02:41:28.174784Z",
     "start_time": "2021-12-02T02:41:28.166758Z"
    }
   },
   "outputs": [
    {
     "data": {
      "text/plain": [
       "[0.1121344342827797,\n",
       " 0.09053678810596466,\n",
       " 0.08199471235275269,\n",
       " 0.07337479293346405,\n",
       " 0.0855327919125557,\n",
       " 0.08774711936712265,\n",
       " 0.09774872660636902,\n",
       " 0.07304771989583969,\n",
       " 0.10465467721223831,\n",
       " 0.08519776910543442,\n",
       " 0.07964527606964111,\n",
       " 0.10347022861242294,\n",
       " 0.07941053062677383,\n",
       " 0.09115450829267502,\n",
       " 0.08321458101272583,\n",
       " 0.09842690080404282,\n",
       " 0.08429184556007385,\n",
       " 0.09867072105407715,\n",
       " 0.0797736719250679,\n",
       " 0.11681866645812988]"
      ]
     },
     "execution_count": 54,
     "metadata": {},
     "output_type": "execute_result"
    }
   ],
   "source": [
    "hist.history['loss']\n",
    "hist.history['val_loss']"
   ]
  },
  {
   "cell_type": "code",
   "execution_count": 55,
   "id": "02a9d1fe",
   "metadata": {
    "ExecuteTime": {
     "end_time": "2021-12-02T02:41:42.474437Z",
     "start_time": "2021-12-02T02:41:42.390283Z"
    }
   },
   "outputs": [
    {
     "data": {
      "image/png": "[encoded data removed]",
      "text/plain": [
       "<Figure size 576x504 with 1 Axes>"
      ]
     },
     "metadata": {
      "needs_background": "light"
     },
     "output_type": "display_data"
    }
   ],
   "source": [
    "plot_loss(n_epochs, hist)"
   ]
  },
  {
   "cell_type": "code",
   "execution_count": 56,
   "id": "8374c87a",
   "metadata": {
    "ExecuteTime": {
     "end_time": "2021-12-02T02:42:15.807133Z",
     "start_time": "2021-12-02T02:42:15.718133Z"
    }
   },
   "outputs": [
    {
     "data": {
      "image/png": "[encoded data removed]",
      "text/plain": [
       "<Figure size 576x504 with 1 Axes>"
      ]
     },
     "metadata": {
      "needs_background": "light"
     },
     "output_type": "display_data"
    }
   ],
   "source": [
    "plot_accuracy(n_epochs, hist)"
   ]
  },
  {
   "cell_type": "markdown",
   "id": "5b28bcba",
   "metadata": {},
   "source": [
    "## Dropout 적용\n",
    "- layers.Dropout 객체를 이용\n",
    "- dropout rate는 0.2~0.5 정도로 설정\n",
    "- dropout node를 가질 layer 앞에 추가."
   ]
  },
  {
   "cell_type": "code",
   "execution_count": 57,
   "id": "265baf4f",
   "metadata": {
    "ExecuteTime": {
     "end_time": "2021-12-02T03:23:59.039623Z",
     "start_time": "2021-12-02T03:23:59.030609Z"
    }
   },
   "outputs": [],
   "source": [
    "# 모델 크기를 크게\n",
    "# MLP - units 개수: 2제곱, 큰 값에서 점점 줄여나감.\n",
    "def create_dropout_model():\n",
    "    model = keras.Sequential()\n",
    "    model.add(layers.Flatten(input_shape=(28,28)))\n",
    "    \n",
    "    model.add(layers.Dropout(0.5))#다음 레이어의 노드들 중 일부를 dropout 시킴\n",
    "                                  #Dropout(드롭아웃 레이트(w*0) > 튜닝 대상\n",
    "    model.add(layers.Dense(units=256, activation='relu'))\n",
    "    \n",
    "    model.add(layers.Dropout(0.5))    \n",
    "    model.add(layers.Dense(units=256, activation='relu'))\n",
    "    \n",
    "    model.add(layers.Dropout(0.3))    \n",
    "    model.add(layers.Dense(units=128, activation='relu'))\n",
    "   \n",
    "    model.add(layers.Dropout(0.3))    \n",
    "    model.add(layers.Dense(units=128, activation='relu'))\n",
    "    #출력\n",
    "    model.add(layers.Dropout(0.3))    \n",
    "    model.add(layers.Dense(units=10, activation='softmax'))\n",
    "    return model"
   ]
  },
  {
   "cell_type": "code",
   "execution_count": null,
   "id": "a63be9a8",
   "metadata": {},
   "outputs": [],
   "source": [
    "모델 생성시 마지막에 다음과 같은 내용이 있는데\n",
    "#출력\n",
    "model.add(layers.Dropout(0.3))    \n",
    "model.add(layers.Dense(units=10, activation='softmax'))\n",
    "\n",
    "이렇게 기존에 10가지로 분류하기 위해서 unit을 10으로 지정해 줬는데\n",
    "드롭아웃을 시키면 에폭당 30퍼센트 유닛이 제외되고 학습되서 7가지만 분류하게 되지 않나요?\n",
    "\n",
    "w*0"
   ]
  },
  {
   "cell_type": "code",
   "execution_count": 58,
   "id": "f4d1a1a4",
   "metadata": {
    "ExecuteTime": {
     "end_time": "2021-12-02T03:24:59.929980Z",
     "start_time": "2021-12-02T03:24:59.893593Z"
    }
   },
   "outputs": [],
   "source": [
    "dropout_model = create_dropout_model()\n",
    "dropout_model.compile(optimizer=keras.optimizers.Adam(learning_rate=Learning_rate),\n",
    "                     loss='categorical_crossentropy',\n",
    "                     metrics=['accuracy'])"
   ]
  },
  {
   "cell_type": "code",
   "execution_count": 59,
   "id": "492daa6e",
   "metadata": {
    "ExecuteTime": {
     "end_time": "2021-12-02T03:25:17.785513Z",
     "start_time": "2021-12-02T03:25:17.769497Z"
    }
   },
   "outputs": [
    {
     "name": "stdout",
     "output_type": "stream",
     "text": [
      "Model: \"sequential_6\"\n",
      "_________________________________________________________________\n",
      " Layer (type)                Output Shape              Param #   \n",
      "=================================================================\n",
      " flatten_6 (Flatten)         (None, 784)               0         \n",
      "                                                                 \n",
      " dropout (Dropout)           (None, 784)               0         \n",
      "                                                                 \n",
      " dense_18 (Dense)            (None, 256)               200960    \n",
      "                                                                 \n",
      " dropout_1 (Dropout)         (None, 256)               0         \n",
      "                                                                 \n",
      " dense_19 (Dense)            (None, 256)               65792     \n",
      "                                                                 \n",
      " dropout_2 (Dropout)         (None, 256)               0         \n",
      "                                                                 \n",
      " dense_20 (Dense)            (None, 128)               32896     \n",
      "                                                                 \n",
      " dropout_3 (Dropout)         (None, 128)               0         \n",
      "                                                                 \n",
      " dense_21 (Dense)            (None, 128)               16512     \n",
      "                                                                 \n",
      " dropout_4 (Dropout)         (None, 128)               0         \n",
      "                                                                 \n",
      " dense_22 (Dense)            (None, 10)                1290      \n",
      "                                                                 \n",
      "=================================================================\n",
      "Total params: 317,450\n",
      "Trainable params: 317,450\n",
      "Non-trainable params: 0\n",
      "_________________________________________________________________\n"
     ]
    }
   ],
   "source": [
    "dropout_model.summary()"
   ]
  },
  {
   "cell_type": "code",
   "execution_count": 60,
   "id": "66ec1422",
   "metadata": {
    "ExecuteTime": {
     "end_time": "2021-12-02T03:28:15.490254Z",
     "start_time": "2021-12-02T03:27:31.903494Z"
    }
   },
   "outputs": [
    {
     "name": "stdout",
     "output_type": "stream",
     "text": [
      "Epoch 1/20\n",
      "600/600 [==============================] - 2s 3ms/step - loss: 0.8430 - accuracy: 0.7246 - val_loss: 0.2343 - val_accuracy: 0.9343\n",
      "Epoch 2/20\n",
      "600/600 [==============================] - 2s 3ms/step - loss: 0.4352 - accuracy: 0.8727 - val_loss: 0.1673 - val_accuracy: 0.9517\n",
      "Epoch 3/20\n",
      "600/600 [==============================] - 2s 3ms/step - loss: 0.3656 - accuracy: 0.8929 - val_loss: 0.1515 - val_accuracy: 0.9556\n",
      "Epoch 4/20\n",
      "600/600 [==============================] - 2s 3ms/step - loss: 0.3202 - accuracy: 0.9061 - val_loss: 0.1294 - val_accuracy: 0.9626\n",
      "Epoch 5/20\n",
      "600/600 [==============================] - 2s 3ms/step - loss: 0.2984 - accuracy: 0.9113 - val_loss: 0.1197 - val_accuracy: 0.9658\n",
      "Epoch 6/20\n",
      "600/600 [==============================] - 2s 3ms/step - loss: 0.2780 - accuracy: 0.9182 - val_loss: 0.1217 - val_accuracy: 0.9648\n",
      "Epoch 7/20\n",
      "600/600 [==============================] - 2s 3ms/step - loss: 0.2645 - accuracy: 0.9229 - val_loss: 0.1087 - val_accuracy: 0.9681\n",
      "Epoch 8/20\n",
      "600/600 [==============================] - 2s 3ms/step - loss: 0.2554 - accuracy: 0.9249 - val_loss: 0.1068 - val_accuracy: 0.9698\n",
      "Epoch 9/20\n",
      "600/600 [==============================] - 2s 3ms/step - loss: 0.2488 - accuracy: 0.9279 - val_loss: 0.1055 - val_accuracy: 0.9709\n",
      "Epoch 10/20\n",
      "600/600 [==============================] - 2s 3ms/step - loss: 0.2391 - accuracy: 0.9302 - val_loss: 0.0997 - val_accuracy: 0.9712\n",
      "Epoch 11/20\n",
      "600/600 [==============================] - 2s 3ms/step - loss: 0.2278 - accuracy: 0.9336 - val_loss: 0.1008 - val_accuracy: 0.9707\n",
      "Epoch 12/20\n",
      "600/600 [==============================] - 2s 3ms/step - loss: 0.2297 - accuracy: 0.9330 - val_loss: 0.0993 - val_accuracy: 0.9700\n",
      "Epoch 13/20\n",
      "600/600 [==============================] - 2s 3ms/step - loss: 0.2236 - accuracy: 0.9344 - val_loss: 0.0930 - val_accuracy: 0.9727\n",
      "Epoch 14/20\n",
      "600/600 [==============================] - 2s 3ms/step - loss: 0.2207 - accuracy: 0.9344 - val_loss: 0.0918 - val_accuracy: 0.9743\n",
      "Epoch 15/20\n",
      "600/600 [==============================] - 2s 3ms/step - loss: 0.2169 - accuracy: 0.9369 - val_loss: 0.0880 - val_accuracy: 0.9737\n",
      "Epoch 16/20\n",
      "600/600 [==============================] - 2s 3ms/step - loss: 0.2110 - accuracy: 0.9388 - val_loss: 0.0893 - val_accuracy: 0.9735\n",
      "Epoch 17/20\n",
      "600/600 [==============================] - 2s 3ms/step - loss: 0.2125 - accuracy: 0.9382 - val_loss: 0.0882 - val_accuracy: 0.9739\n",
      "Epoch 18/20\n",
      "600/600 [==============================] - 2s 3ms/step - loss: 0.2063 - accuracy: 0.9399 - val_loss: 0.0862 - val_accuracy: 0.9744\n",
      "Epoch 19/20\n",
      "600/600 [==============================] - 2s 3ms/step - loss: 0.2071 - accuracy: 0.9398 - val_loss: 0.0926 - val_accuracy: 0.9736\n",
      "Epoch 20/20\n",
      "600/600 [==============================] - 2s 3ms/step - loss: 0.2030 - accuracy: 0.9403 - val_loss: 0.0884 - val_accuracy: 0.9752\n"
     ]
    }
   ],
   "source": [
    "hist = dropout_model.fit(train_dataset,\n",
    "                        epochs=n_epochs,\n",
    "                        validation_data=test_dataset)"
   ]
  },
  {
   "cell_type": "code",
   "execution_count": null,
   "id": "a744d6ee",
   "metadata": {},
   "outputs": [],
   "source": [
    "#일반적으로 train이 더 높고 val이 별로임\n",
    "#이건 독특하게 val이 좋고 train이 별로임(일반화에 더 용이)"
   ]
  },
  {
   "cell_type": "code",
   "execution_count": 61,
   "id": "20ef26cb",
   "metadata": {
    "ExecuteTime": {
     "end_time": "2021-12-02T03:31:02.270346Z",
     "start_time": "2021-12-02T03:31:02.178347Z"
    },
    "scrolled": true
   },
   "outputs": [
    {
     "data": {
      "image/png": "[encoded data removed]",
      "text/plain": [
       "<Figure size 576x504 with 1 Axes>"
      ]
     },
     "metadata": {
      "needs_background": "light"
     },
     "output_type": "display_data"
    }
   ],
   "source": [
    "plot_loss(n_epochs, hist)"
   ]
  },
  {
   "cell_type": "code",
   "execution_count": 62,
   "id": "4a979856",
   "metadata": {
    "ExecuteTime": {
     "end_time": "2021-12-02T03:31:47.446358Z",
     "start_time": "2021-12-02T03:31:47.357339Z"
    },
    "scrolled": true
   },
   "outputs": [
    {
     "data": {
      "image/png": "[encoded data removed]",
      "text/plain": [
       "<Figure size 576x504 with 1 Axes>"
      ]
     },
     "metadata": {
      "needs_background": "light"
     },
     "output_type": "display_data"
    }
   ],
   "source": [
    "plot_accuracy(n_epochs, hist)"
   ]
  },
  {
   "cell_type": "markdown",
   "id": "9a278226",
   "metadata": {},
   "source": [
    "## Batch Normalization\n",
    "- Dense -> BN -> Activation 순서로 적용\n",
    "- layers.BatchNormalization 사용"
   ]
  },
  {
   "cell_type": "code",
   "execution_count": 67,
   "id": "b608e99f",
   "metadata": {
    "ExecuteTime": {
     "end_time": "2021-12-02T05:45:17.694207Z",
     "start_time": "2021-12-02T05:45:17.683207Z"
    }
   },
   "outputs": [],
   "source": [
    "def create_bn_model():\n",
    "    model = keras.Sequential()\n",
    "    model.add(layers.Flatten(input_shape=(28,28)))\n",
    "    \n",
    "    model.add(layers.Dense(units=256)) #unit만 지정하고 activation 생략\n",
    "    model.add(layers.BatchNormalization()) #BN\n",
    "    model.add(layers.ReLU()) #activation함수명이 layer클래스 이름\n",
    "    \n",
    "    model.add(layers.Dense(units=128))\n",
    "    model.add(layers.BatchNormalization())\n",
    "    model.add(layers.ReLU())\n",
    "    \n",
    "    #보통 batchnormalization은 모든 레이어에 붙임\n",
    "    \n",
    "    #출력\n",
    "    #layers.Activation(activation='softmax') 아래와 동일\n",
    "    #sigmoid는 #layers.Activation(activation='sigmoid') 이렇게 밖에 못 부름 \n",
    "    #model.add(layers.Dropout(0.5)) 드롭아웃은 드롭아웃 시킬 레이어 이전에 옴\n",
    "    model.add(layers.Dense(units=10))\n",
    "    model.add(layers.BatchNormalization())\n",
    "    model.add(layers.Softmax())\n",
    "    \n",
    "    return model\n"
   ]
  },
  {
   "cell_type": "code",
   "execution_count": 68,
   "id": "f99ca685",
   "metadata": {
    "ExecuteTime": {
     "end_time": "2021-12-02T05:45:18.613308Z",
     "start_time": "2021-12-02T05:45:18.569300Z"
    }
   },
   "outputs": [],
   "source": [
    "bn_model = create_bn_model()\n",
    "bn_model.compile(optimizer=keras.optimizers.Adam(learning_rate=Learning_rate),\n",
    "                loss='categorical_crossentropy',\n",
    "                metrics=['accuracy'])"
   ]
  },
  {
   "cell_type": "code",
   "execution_count": 69,
   "id": "b8065fc4",
   "metadata": {
    "ExecuteTime": {
     "end_time": "2021-12-02T05:45:30.464641Z",
     "start_time": "2021-12-02T05:45:30.448642Z"
    },
    "scrolled": true
   },
   "outputs": [
    {
     "name": "stdout",
     "output_type": "stream",
     "text": [
      "Model: \"sequential_9\"\n",
      "_________________________________________________________________\n",
      " Layer (type)                Output Shape              Param #   \n",
      "=================================================================\n",
      " flatten_9 (Flatten)         (None, 784)               0         \n",
      "                                                                 \n",
      " dense_25 (Dense)            (None, 256)               200960    \n",
      "                                                                 \n",
      " batch_normalization_2 (Batc  (None, 256)              1024      \n",
      " hNormalization)                                                 \n",
      "                                                                 \n",
      " re_lu (ReLU)                (None, 256)               0         \n",
      "                                                                 \n",
      " dense_26 (Dense)            (None, 128)               32896     \n",
      "                                                                 \n",
      " batch_normalization_3 (Batc  (None, 128)              512       \n",
      " hNormalization)                                                 \n",
      "                                                                 \n",
      " re_lu_1 (ReLU)              (None, 128)               0         \n",
      "                                                                 \n",
      " dense_27 (Dense)            (None, 10)                1290      \n",
      "                                                                 \n",
      " batch_normalization_4 (Batc  (None, 10)               40        \n",
      " hNormalization)                                                 \n",
      "                                                                 \n",
      " softmax (Softmax)           (None, 10)                0         \n",
      "                                                                 \n",
      "=================================================================\n",
      "Total params: 236,722\n",
      "Trainable params: 235,934\n",
      "Non-trainable params: 788\n",
      "_________________________________________________________________\n"
     ]
    }
   ],
   "source": [
    "bn_model.summary()"
   ]
  },
  {
   "cell_type": "code",
   "execution_count": 72,
   "id": "2b8b5a6b",
   "metadata": {
    "ExecuteTime": {
     "end_time": "2021-12-02T06:09:20.262437Z",
     "start_time": "2021-12-02T06:08:52.391443Z"
    },
    "scrolled": true
   },
   "outputs": [
    {
     "name": "stdout",
     "output_type": "stream",
     "text": [
      "Epoch 1/20\n",
      "600/600 [==============================] - 1s 2ms/step - loss: 0.0079 - accuracy: 0.9980 - val_loss: 0.0685 - val_accuracy: 0.9810\n",
      "Epoch 2/20\n",
      "600/600 [==============================] - 1s 2ms/step - loss: 0.0091 - accuracy: 0.9977 - val_loss: 0.0538 - val_accuracy: 0.9834\n",
      "Epoch 3/20\n",
      "600/600 [==============================] - 1s 2ms/step - loss: 0.0059 - accuracy: 0.9987 - val_loss: 0.0571 - val_accuracy: 0.9840\n",
      "Epoch 4/20\n",
      "600/600 [==============================] - 1s 2ms/step - loss: 0.0066 - accuracy: 0.9984 - val_loss: 0.0630 - val_accuracy: 0.9831\n",
      "Epoch 5/20\n",
      "600/600 [==============================] - 1s 2ms/step - loss: 0.0069 - accuracy: 0.9983 - val_loss: 0.0598 - val_accuracy: 0.9832\n",
      "Epoch 6/20\n",
      "600/600 [==============================] - 1s 2ms/step - loss: 0.0050 - accuracy: 0.9989 - val_loss: 0.0601 - val_accuracy: 0.9829\n",
      "Epoch 7/20\n",
      "600/600 [==============================] - 1s 2ms/step - loss: 0.0045 - accuracy: 0.9991 - val_loss: 0.0624 - val_accuracy: 0.9833\n",
      "Epoch 8/20\n",
      "600/600 [==============================] - 1s 2ms/step - loss: 0.0056 - accuracy: 0.9986 - val_loss: 0.0668 - val_accuracy: 0.9831\n",
      "Epoch 9/20\n",
      "600/600 [==============================] - 1s 2ms/step - loss: 0.0046 - accuracy: 0.9990 - val_loss: 0.0603 - val_accuracy: 0.9839\n",
      "Epoch 10/20\n",
      "600/600 [==============================] - 1s 2ms/step - loss: 0.0066 - accuracy: 0.9982 - val_loss: 0.0702 - val_accuracy: 0.9817\n",
      "Epoch 11/20\n",
      "600/600 [==============================] - 1s 2ms/step - loss: 0.0062 - accuracy: 0.9984 - val_loss: 0.0702 - val_accuracy: 0.9814\n",
      "Epoch 12/20\n",
      "600/600 [==============================] - 1s 2ms/step - loss: 0.0042 - accuracy: 0.9990 - val_loss: 0.0631 - val_accuracy: 0.9838\n",
      "Epoch 13/20\n",
      "600/600 [==============================] - 1s 2ms/step - loss: 0.0056 - accuracy: 0.9984 - val_loss: 0.0655 - val_accuracy: 0.9826\n",
      "Epoch 14/20\n",
      "600/600 [==============================] - 1s 2ms/step - loss: 0.0042 - accuracy: 0.9989 - val_loss: 0.0627 - val_accuracy: 0.9843\n",
      "Epoch 15/20\n",
      "600/600 [==============================] - 1s 2ms/step - loss: 0.0042 - accuracy: 0.9990 - val_loss: 0.0638 - val_accuracy: 0.9830\n",
      "Epoch 16/20\n",
      "600/600 [==============================] - 1s 2ms/step - loss: 0.0041 - accuracy: 0.9991 - val_loss: 0.0685 - val_accuracy: 0.9825\n",
      "Epoch 17/20\n",
      "600/600 [==============================] - 1s 2ms/step - loss: 0.0044 - accuracy: 0.9988 - val_loss: 0.0589 - val_accuracy: 0.9839\n",
      "Epoch 18/20\n",
      "600/600 [==============================] - 1s 2ms/step - loss: 0.0028 - accuracy: 0.9994 - val_loss: 0.0617 - val_accuracy: 0.9836\n",
      "Epoch 19/20\n",
      "600/600 [==============================] - 1s 2ms/step - loss: 0.0050 - accuracy: 0.9985 - val_loss: 0.0634 - val_accuracy: 0.9840\n",
      "Epoch 20/20\n",
      "600/600 [==============================] - 1s 2ms/step - loss: 0.0040 - accuracy: 0.9991 - val_loss: 0.0604 - val_accuracy: 0.9845\n"
     ]
    }
   ],
   "source": [
    "hist=bn_model.fit(train_dataset,\n",
    "            epochs=n_epochs,\n",
    "            validation_data=test_dataset)"
   ]
  },
  {
   "cell_type": "code",
   "execution_count": 75,
   "id": "a8af8b83",
   "metadata": {
    "ExecuteTime": {
     "end_time": "2021-12-02T06:09:47.220924Z",
     "start_time": "2021-12-02T06:09:47.119926Z"
    }
   },
   "outputs": [
    {
     "data": {
      "image/png": "[encoded data removed]",
      "text/plain": [
       "<Figure size 576x504 with 1 Axes>"
      ]
     },
     "metadata": {
      "needs_background": "light"
     },
     "output_type": "display_data"
    }
   ],
   "source": [
    "plot_accuracy(n_epochs,hist)"
   ]
  },
  {
   "cell_type": "code",
   "execution_count": 76,
   "id": "ac8591dc",
   "metadata": {
    "ExecuteTime": {
     "end_time": "2021-12-02T06:10:06.636613Z",
     "start_time": "2021-12-02T06:10:06.546587Z"
    }
   },
   "outputs": [
    {
     "data": {
      "image/png": "[encoded data removed]",
      "text/plain": [
       "<Figure size 576x504 with 1 Axes>"
      ]
     },
     "metadata": {
      "needs_background": "light"
     },
     "output_type": "display_data"
    }
   ],
   "source": [
    "plot_loss(n_epochs,hist)"
   ]
  },
  {
   "cell_type": "markdown",
   "id": "adea3f48",
   "metadata": {},
   "source": [
    "## Learning Rate 조정을 이용한 성능 향상\n",
    "\n",
    "### Learning Rate Decay\n",
    "- 일정한 step마다 Learning rate 조정"
   ]
  },
  {
   "cell_type": "code",
   "execution_count": 79,
   "id": "f99784a2",
   "metadata": {
    "ExecuteTime": {
     "end_time": "2021-12-02T06:35:45.396794Z",
     "start_time": "2021-12-02T06:35:45.389702Z"
    }
   },
   "outputs": [],
   "source": [
    "def create_model():\n",
    "    model = keras.Sequential()\n",
    "    model.add(layers.Flatten(input_shape=(28,28)))\n",
    "    model.add(layers.Dense(units=256, activation='relu'))\n",
    "    model.add(layers.Dense(units=128, activation='relu'))\n",
    "    model.add(layers.Dense(units=128, activation='relu'))\n",
    "    model.add(layers.Dense(units=10, activation='softmax'))\n",
    "    return model"
   ]
  },
  {
   "cell_type": "code",
   "execution_count": 80,
   "id": "30eca64a",
   "metadata": {
    "ExecuteTime": {
     "end_time": "2021-12-02T06:35:48.097918Z",
     "start_time": "2021-12-02T06:35:48.064920Z"
    }
   },
   "outputs": [],
   "source": [
    "model = create_model()"
   ]
  },
  {
   "cell_type": "code",
   "execution_count": 82,
   "id": "527bcbf4",
   "metadata": {
    "ExecuteTime": {
     "end_time": "2021-12-02T06:41:19.677957Z",
     "start_time": "2021-12-02T06:41:19.663934Z"
    }
   },
   "outputs": [
    {
     "data": {
      "text/plain": [
       "6000"
      ]
     },
     "execution_count": 82,
     "metadata": {},
     "output_type": "execute_result"
    }
   ],
   "source": [
    "len(train_dataset) #1epoch = 600스탭\n",
    "\n",
    "len(train_dataset)*10 #10에폭의 step수"
   ]
  },
  {
   "cell_type": "code",
   "execution_count": 93,
   "id": "648a7d9a",
   "metadata": {
    "ExecuteTime": {
     "end_time": "2021-12-02T07:06:52.840642Z",
     "start_time": "2021-12-02T07:06:52.832628Z"
    }
   },
   "outputs": [
    {
     "data": {
      "text/plain": [
       "600"
      ]
     },
     "execution_count": 93,
     "metadata": {},
     "output_type": "execute_result"
    }
   ],
   "source": []
  },
  {
   "cell_type": "code",
   "execution_count": 87,
   "id": "27efea89",
   "metadata": {
    "ExecuteTime": {
     "end_time": "2021-12-02T06:48:34.448269Z",
     "start_time": "2021-12-02T06:48:34.442260Z"
    }
   },
   "outputs": [],
   "source": [
    "#optimizer의 learning_rate를 상수 대신 learningrate 스케줄러 객체로 설정\n",
    "# ExponentialDecay - 일정한 간격(step 기준)마다 Learning_rate(LR) 변경\n",
    "\n",
    "#케라스는 epoch , 텐서플로우는 step\n",
    "                                          #지수      감퇴 \n",
    "lr_scheduler = keras.optimizers.schedules.ExponentialDecay(\n",
    "    initial_learning_rate = Learning_rate, #시작 LR\n",
    "    decay_steps = len(train_dataset)*5, #몇 스탭 마다 변경할지, //5에폭마다\n",
    "    decay_rate=0.5, #변화율(이 값을 현재 LR에 곱해줌) #6000step이 지날때마다 곱함\n",
    "    staircase=True, #계단식으로 변화시킴 \n",
    "                    #False: 점진적으로 step마다 조금씩 줄여나감\n",
    "    \n",
    "    \n",
    "\n",
    ")\n"
   ]
  },
  {
   "cell_type": "code",
   "execution_count": 90,
   "id": "10e3c080",
   "metadata": {
    "ExecuteTime": {
     "end_time": "2021-12-02T06:48:52.344605Z",
     "start_time": "2021-12-02T06:48:52.339606Z"
    }
   },
   "outputs": [],
   "source": [
    "model.compile(optimizer=keras.optimizers.Adam(learning_rate=lr_scheduler),\n",
    "             loss='categorical_crossentropy',\n",
    "             metrics=['accuracy'])"
   ]
  },
  {
   "cell_type": "code",
   "execution_count": null,
   "id": "ce8bc3d7",
   "metadata": {},
   "outputs": [],
   "source": []
  },
  {
   "cell_type": "code",
   "execution_count": 91,
   "id": "75b7287b",
   "metadata": {
    "ExecuteTime": {
     "end_time": "2021-12-02T06:49:19.710475Z",
     "start_time": "2021-12-02T06:48:56.592423Z"
    },
    "scrolled": true
   },
   "outputs": [
    {
     "name": "stdout",
     "output_type": "stream",
     "text": [
      "Epoch 1/20\n",
      "600/600 [==============================] - 1s 2ms/step - loss: 0.2519 - accuracy: 0.9274 - val_loss: 0.1299 - val_accuracy: 0.9605\n",
      "Epoch 2/20\n",
      "600/600 [==============================] - 1s 2ms/step - loss: 0.0979 - accuracy: 0.9704 - val_loss: 0.0927 - val_accuracy: 0.9714\n",
      "Epoch 3/20\n",
      "600/600 [==============================] - 1s 2ms/step - loss: 0.0651 - accuracy: 0.9792 - val_loss: 0.0846 - val_accuracy: 0.9729\n",
      "Epoch 4/20\n",
      "600/600 [==============================] - 1s 2ms/step - loss: 0.0488 - accuracy: 0.9850 - val_loss: 0.0723 - val_accuracy: 0.9796\n",
      "Epoch 5/20\n",
      "600/600 [==============================] - 1s 2ms/step - loss: 0.0380 - accuracy: 0.9877 - val_loss: 0.0761 - val_accuracy: 0.9772\n",
      "Epoch 6/20\n",
      "600/600 [==============================] - 1s 2ms/step - loss: 0.0166 - accuracy: 0.9946 - val_loss: 0.0635 - val_accuracy: 0.9820\n",
      "Epoch 7/20\n",
      "600/600 [==============================] - 1s 2ms/step - loss: 0.0098 - accuracy: 0.9970 - val_loss: 0.0707 - val_accuracy: 0.9805\n",
      "Epoch 8/20\n",
      "600/600 [==============================] - 1s 2ms/step - loss: 0.0078 - accuracy: 0.9978 - val_loss: 0.0749 - val_accuracy: 0.9804\n",
      "Epoch 9/20\n",
      "600/600 [==============================] - 1s 2ms/step - loss: 0.0095 - accuracy: 0.9973 - val_loss: 0.0888 - val_accuracy: 0.9792\n",
      "Epoch 10/20\n",
      "600/600 [==============================] - 1s 2ms/step - loss: 0.0090 - accuracy: 0.9970 - val_loss: 0.0897 - val_accuracy: 0.9788\n",
      "Epoch 11/20\n",
      "600/600 [==============================] - 1s 2ms/step - loss: 0.0025 - accuracy: 0.9995 - val_loss: 0.0753 - val_accuracy: 0.9832\n",
      "Epoch 12/20\n",
      "600/600 [==============================] - 1s 2ms/step - loss: 8.8015e-04 - accuracy: 0.9999 - val_loss: 0.0763 - val_accuracy: 0.9837\n",
      "Epoch 13/20\n",
      "600/600 [==============================] - 1s 2ms/step - loss: 4.5339e-04 - accuracy: 1.0000 - val_loss: 0.0782 - val_accuracy: 0.9837\n",
      "Epoch 14/20\n",
      "600/600 [==============================] - 1s 2ms/step - loss: 3.3184e-04 - accuracy: 1.0000 - val_loss: 0.0804 - val_accuracy: 0.9839\n",
      "Epoch 15/20\n",
      "600/600 [==============================] - 1s 2ms/step - loss: 2.4172e-04 - accuracy: 1.0000 - val_loss: 0.0856 - val_accuracy: 0.9828\n",
      "Epoch 16/20\n",
      "600/600 [==============================] - 1s 2ms/step - loss: 2.0229e-04 - accuracy: 1.0000 - val_loss: 0.0854 - val_accuracy: 0.9832\n",
      "Epoch 17/20\n",
      "600/600 [==============================] - 1s 2ms/step - loss: 1.4759e-04 - accuracy: 1.0000 - val_loss: 0.0868 - val_accuracy: 0.9835\n",
      "Epoch 18/20\n",
      "600/600 [==============================] - 1s 2ms/step - loss: 1.1739e-04 - accuracy: 1.0000 - val_loss: 0.0889 - val_accuracy: 0.9834\n",
      "Epoch 19/20\n",
      "600/600 [==============================] - 1s 2ms/step - loss: 8.7318e-05 - accuracy: 1.0000 - val_loss: 0.0913 - val_accuracy: 0.9836\n",
      "Epoch 20/20\n",
      "600/600 [==============================] - 1s 2ms/step - loss: 7.2565e-05 - accuracy: 1.0000 - val_loss: 0.0925 - val_accuracy: 0.9834\n"
     ]
    }
   ],
   "source": [
    "hist = model.fit(train_dataset,\n",
    "                epochs=n_epochs,\n",
    "                validation_data=test_dataset)"
   ]
  },
  {
   "cell_type": "code",
   "execution_count": 94,
   "id": "b5b8ce08",
   "metadata": {
    "ExecuteTime": {
     "end_time": "2021-12-02T07:10:23.425951Z",
     "start_time": "2021-12-02T07:10:23.408890Z"
    }
   },
   "outputs": [],
   "source": [
    "#non-trainable params 학습되지 않는 파라미터 \n",
    "#평균과 표준편차를 내부적으로 저장할 변수의 개수\n",
    "#평균과 표준편차를 구한 값이 non_trainable로 빠짐\n",
    "#두가지는 계산에 의해 나오므로 non_trainable"
   ]
  },
  {
   "cell_type": "code",
   "execution_count": 95,
   "id": "4bd6db50",
   "metadata": {
    "ExecuteTime": {
     "end_time": "2021-12-02T07:10:45.060080Z",
     "start_time": "2021-12-02T07:10:44.963083Z"
    }
   },
   "outputs": [
    {
     "data": {
      "image/png": "[encoded data removed]",
      "text/plain": [
       "<Figure size 576x504 with 1 Axes>"
      ]
     },
     "metadata": {
      "needs_background": "light"
     },
     "output_type": "display_data"
    }
   ],
   "source": [
    "plot_accuracy(n_epochs, hist)"
   ]
  },
  {
   "cell_type": "code",
   "execution_count": 97,
   "id": "a32cb030",
   "metadata": {
    "ExecuteTime": {
     "end_time": "2021-12-02T07:12:57.045045Z",
     "start_time": "2021-12-02T07:12:56.954023Z"
    }
   },
   "outputs": [
    {
     "data": {
      "image/png": "[encoded data removed]",
      "text/plain": [
       "<Figure size 576x504 with 1 Axes>"
      ]
     },
     "metadata": {
      "needs_background": "light"
     },
     "output_type": "display_data"
    }
   ],
   "source": [
    "plot_loss(n_epochs, hist)"
   ]
  },
  {
   "cell_type": "markdown",
   "id": "8847d12d",
   "metadata": {},
   "source": [
    "### callback을 이용한 학습률 조정\n",
    "- ReduceLROnPlateau callback 이용\n",
    "   - 학습시 성능이 개선이 안되는 경우 LR조정\n",
    "   \n",
    "- Earlystopping\n",
    "   - 성능이 더이상 개선이 안된다면 특정 에폭에서 멈춤\n",
    "   \n",
    "- ModelCheckpoint \n",
    "   - epoch 학습이 끝난 모델 저장 (모든 에폭 단위로 모델저장 혹은 성능이 가장 좋은 모델 저장)"
   ]
  },
  {
   "cell_type": "code",
   "execution_count": 98,
   "id": "dae844a5",
   "metadata": {
    "ExecuteTime": {
     "end_time": "2021-12-02T07:16:52.981662Z",
     "start_time": "2021-12-02T07:16:52.950490Z"
    }
   },
   "outputs": [],
   "source": [
    "model = create_model()\n",
    "model.compile(optimizer=keras.optimizers.Adam(learning_rate=Learning_rate),#0.0001\n",
    "              loss='categorical_crossentropy',\n",
    "             metrics=['accuracy']) "
   ]
  },
  {
   "cell_type": "code",
   "execution_count": 99,
   "id": "0967d19d",
   "metadata": {
    "ExecuteTime": {
     "end_time": "2021-12-02T07:28:01.375751Z",
     "start_time": "2021-12-02T07:28:01.367729Z"
    }
   },
   "outputs": [],
   "source": [
    "from keras.callbacks import ReduceLROnPlateau, EarlyStopping, ModelCheckpoint\n",
    "\n",
    "lr_cb = ReduceLROnPlateau(monitor='val_loss', #성능개선과 관련해 볼 평가지표\n",
    "                         factor=0.5, #LR 조정 비율 (현재 LR * factor)\n",
    "                         #올라갔다 내려갔다 주식처럼 점점 상승선을 쓸수도 있음 반등할 수 있으므로 이때 patient 이용\n",
    "                         patience=3, #성능개선이 안될떼 몇 epoch까지 기다려 볼지 지정 (기본 10)\n",
    "                         mode=\"min\", #monitor 값이 어떨 때 성능개선이 되는지.\n",
    "                                     #(min-작을수록, max=클수록,, auto=알아서 찾음)\n",
    "                                     #accuracy는 올라가는게 좋고, loss는 내려가는게 좋음\n",
    "                         verbose=2)  #학습률 변화시 로그 남기기\n",
    "\n",
    "#보통 factor, patience, verbose 지정해줌"
   ]
  },
  {
   "cell_type": "code",
   "execution_count": 101,
   "id": "38726b3d",
   "metadata": {
    "ExecuteTime": {
     "end_time": "2021-12-02T07:30:08.948837Z",
     "start_time": "2021-12-02T07:29:45.586139Z"
    },
    "scrolled": true
   },
   "outputs": [
    {
     "name": "stdout",
     "output_type": "stream",
     "text": [
      "Epoch 1/20\n",
      "600/600 [==============================] - 1s 2ms/step - loss: 0.2532 - accuracy: 0.9263 - val_loss: 0.1253 - val_accuracy: 0.9617 - lr: 0.0010\n",
      "Epoch 2/20\n",
      "600/600 [==============================] - 1s 2ms/step - loss: 0.0977 - accuracy: 0.9698 - val_loss: 0.0989 - val_accuracy: 0.9678 - lr: 0.0010\n",
      "Epoch 3/20\n",
      "600/600 [==============================] - 1s 2ms/step - loss: 0.0667 - accuracy: 0.9793 - val_loss: 0.0776 - val_accuracy: 0.9757 - lr: 0.0010\n",
      "Epoch 4/20\n",
      "600/600 [==============================] - 1s 2ms/step - loss: 0.0488 - accuracy: 0.9847 - val_loss: 0.0784 - val_accuracy: 0.9763 - lr: 0.0010\n",
      "Epoch 5/20\n",
      "600/600 [==============================] - 1s 2ms/step - loss: 0.0370 - accuracy: 0.9882 - val_loss: 0.0780 - val_accuracy: 0.9778 - lr: 0.0010\n",
      "Epoch 6/20\n",
      "600/600 [==============================] - 1s 2ms/step - loss: 0.0306 - accuracy: 0.9901 - val_loss: 0.0765 - val_accuracy: 0.9771 - lr: 0.0010\n",
      "Epoch 7/20\n",
      "600/600 [==============================] - 1s 2ms/step - loss: 0.0252 - accuracy: 0.9916 - val_loss: 0.0781 - val_accuracy: 0.9789 - lr: 0.0010\n",
      "Epoch 8/20\n",
      "600/600 [==============================] - 1s 2ms/step - loss: 0.0217 - accuracy: 0.9927 - val_loss: 0.0855 - val_accuracy: 0.9783 - lr: 0.0010\n",
      "Epoch 9/20\n",
      "600/600 [==============================] - ETA: 0s - loss: 0.0186 - accuracy: 0.9941\n",
      "Epoch 00009: ReduceLROnPlateau reducing learning rate to 0.0005000000237487257.\n",
      "600/600 [==============================] - 1s 2ms/step - loss: 0.0186 - accuracy: 0.9941 - val_loss: 0.0840 - val_accuracy: 0.9789 - lr: 0.0010\n",
      "Epoch 10/20\n",
      "600/600 [==============================] - 1s 2ms/step - loss: 0.0053 - accuracy: 0.9984 - val_loss: 0.0696 - val_accuracy: 0.9834 - lr: 5.0000e-04\n",
      "Epoch 11/20\n",
      "600/600 [==============================] - 1s 2ms/step - loss: 0.0026 - accuracy: 0.9994 - val_loss: 0.0745 - val_accuracy: 0.9831 - lr: 5.0000e-04\n",
      "Epoch 12/20\n",
      "600/600 [==============================] - 1s 2ms/step - loss: 0.0021 - accuracy: 0.9995 - val_loss: 0.0779 - val_accuracy: 0.9843 - lr: 5.0000e-04\n",
      "Epoch 13/20\n",
      "588/600 [============================>.] - ETA: 0s - loss: 0.0055 - accuracy: 0.9980\n",
      "Epoch 00013: ReduceLROnPlateau reducing learning rate to 0.0002500000118743628.\n",
      "600/600 [==============================] - 1s 2ms/step - loss: 0.0056 - accuracy: 0.9980 - val_loss: 0.0989 - val_accuracy: 0.9801 - lr: 5.0000e-04\n",
      "Epoch 14/20\n",
      "600/600 [==============================] - 1s 2ms/step - loss: 0.0017 - accuracy: 0.9997 - val_loss: 0.0837 - val_accuracy: 0.9831 - lr: 2.5000e-04\n",
      "Epoch 15/20\n",
      "600/600 [==============================] - 1s 2ms/step - loss: 3.5275e-04 - accuracy: 1.0000 - val_loss: 0.0826 - val_accuracy: 0.9842 - lr: 2.5000e-04\n",
      "Epoch 16/20\n",
      "593/600 [============================>.] - ETA: 0s - loss: 1.7379e-04 - accuracy: 1.0000\n",
      "Epoch 00016: ReduceLROnPlateau reducing learning rate to 0.0001250000059371814.\n",
      "600/600 [==============================] - 1s 2ms/step - loss: 1.7400e-04 - accuracy: 1.0000 - val_loss: 0.0823 - val_accuracy: 0.9846 - lr: 2.5000e-04\n",
      "Epoch 17/20\n",
      "600/600 [==============================] - 1s 2ms/step - loss: 1.2070e-04 - accuracy: 1.0000 - val_loss: 0.0842 - val_accuracy: 0.9842 - lr: 1.2500e-04\n",
      "Epoch 18/20\n",
      "600/600 [==============================] - 1s 2ms/step - loss: 1.0078e-04 - accuracy: 1.0000 - val_loss: 0.0852 - val_accuracy: 0.9844 - lr: 1.2500e-04\n",
      "Epoch 19/20\n",
      "596/600 [============================>.] - ETA: 0s - loss: 8.5433e-05 - accuracy: 1.0000\n",
      "Epoch 00019: ReduceLROnPlateau reducing learning rate to 6.25000029685907e-05.\n",
      "600/600 [==============================] - 1s 2ms/step - loss: 8.5203e-05 - accuracy: 1.0000 - val_loss: 0.0868 - val_accuracy: 0.9841 - lr: 1.2500e-04\n",
      "Epoch 20/20\n",
      "600/600 [==============================] - 1s 2ms/step - loss: 6.8984e-05 - accuracy: 1.0000 - val_loss: 0.0879 - val_accuracy: 0.9843 - lr: 6.2500e-05\n"
     ]
    }
   ],
   "source": [
    "hist = model.fit(train_dataset,\n",
    "                epochs=n_epochs,\n",
    "                validation_data=test_dataset,\n",
    "                callbacks=[lr_cb]) #학습때 처리할 callback들 등록\n",
    "                                   #여러개 기능들을 callback에 등록할수 있으므로 리스트 형태"
   ]
  },
  {
   "cell_type": "code",
   "execution_count": null,
   "id": "263806b2",
   "metadata": {},
   "outputs": [],
   "source": [
    "\"\"\"y: 0.9995 - val_loss: 0.0779 - val_accuracy: 0.9843 - lr: 5.0000e-04\n",
    "Epoch 13/20\n",
    "588/600 [============================>.] - ETA: 0s - loss: 0.0055 - accuracy: 0.9980\n",
    "Epoch 00013: ReduceLROnPlateau reducing learning rate to 0.0002500000118743628.\n",
    "600/600 [==============================] - 1s 2ms/step - loss: 0.0056 - accuracy: 0.9980 - val_loss: 0.0989 - val_accuracy: 0.9801 - lr: 5.0000e-04\n",
    "Epoch 14/20\n",
    "600/600 [==============================] - 1s 2ms/step - loss: 0.0017 - accuracy: 0.9997 - val_loss: 0.0837 - val_accuracy: 0.9831 - lr: 2.5000e-04\n",
    "Epoch 15/20\n",
    "600/600 [==============================] - 1s 2ms/step - loss: 3.5275e-04 - accuracy: 1.0000 - val_loss: 0.0826 - val_accuracy: 0.9842 - lr: 2.5000e-04\n",
    "Epoch 16/20\"\"\"\n",
    "#0.0779에서 이후에 나오는 val_loss값이 3개가 모두 안좋아져서 또 조정"
   ]
  },
  {
   "cell_type": "code",
   "execution_count": 148,
   "id": "5e8961fe",
   "metadata": {
    "ExecuteTime": {
     "end_time": "2021-12-02T08:10:09.042992Z",
     "start_time": "2021-12-02T08:10:09.013983Z"
    }
   },
   "outputs": [],
   "source": [
    "#Mnist 예측 모델 네트워크를 정의하고 최대한 성능 개선 #\n",
    "import numpy as np\n",
    "import tensorflow as tf\n",
    "from tensorflow import keras\n",
    "from tensorflow.keras import layers\n",
    "import matplotlib.pyplot as plt\n",
    "\n",
    "\n",
    "np.random.seed(0)\n",
    "tf.random.set_seed(0)"
   ]
  },
  {
   "cell_type": "code",
   "execution_count": 149,
   "id": "aeec31a2",
   "metadata": {
    "ExecuteTime": {
     "end_time": "2021-12-02T08:10:10.142368Z",
     "start_time": "2021-12-02T08:10:09.986369Z"
    }
   },
   "outputs": [],
   "source": [
    "(train_image, train_label), (test_image, test_label)= keras.datasets.mnist.load_data()"
   ]
  },
  {
   "cell_type": "code",
   "execution_count": 150,
   "id": "637936cc",
   "metadata": {
    "ExecuteTime": {
     "end_time": "2021-12-02T08:10:10.668313Z",
     "start_time": "2021-12-02T08:10:10.661238Z"
    }
   },
   "outputs": [
    {
     "data": {
      "text/plain": [
       "((60000, 28, 28), (60000,), (10000, 28, 28), (10000,))"
      ]
     },
     "execution_count": 150,
     "metadata": {},
     "output_type": "execute_result"
    }
   ],
   "source": [
    "train_image.shape, train_label.shape, test_image.shape, test_label.shape"
   ]
  },
  {
   "cell_type": "code",
   "execution_count": 151,
   "id": "9592d65a",
   "metadata": {
    "ExecuteTime": {
     "end_time": "2021-12-02T08:10:11.554964Z",
     "start_time": "2021-12-02T08:10:11.322965Z"
    }
   },
   "outputs": [
    {
     "data": {
      "image/png": "[encoded data removed]",
      "text/plain": [
       "<Figure size 1080x360 with 10 Axes>"
      ]
     },
     "metadata": {
      "needs_background": "light"
     },
     "output_type": "display_data"
    }
   ],
   "source": [
    "import matplotlib.pyplot as plt\n",
    "plt.figure(figsize=(15, 5))\n",
    "\n",
    "N = 10\n",
    "for i in range(N):\n",
    "    plt.subplot(2, int(N/2), i+1)\n",
    "    plt.imshow(train_image[i], cmap='gray')\n",
    "    plt.title(str(train_label[i]), fontsize=20)\n",
    "    plt.axis('off')\n",
    "    \n",
    "plt.tight_layout()\n",
    "plt.show()    "
   ]
  },
  {
   "cell_type": "code",
   "execution_count": 152,
   "id": "ce52f2e1",
   "metadata": {
    "ExecuteTime": {
     "end_time": "2021-12-02T08:10:12.591226Z",
     "start_time": "2021-12-02T08:10:12.578212Z"
    }
   },
   "outputs": [
    {
     "data": {
      "text/plain": [
       "[0,\n",
       " 1,\n",
       " 4,\n",
       " 9,\n",
       " 16,\n",
       " 25,\n",
       " 36,\n",
       " 49,\n",
       " 64,\n",
       " 81,\n",
       " 100,\n",
       " 121,\n",
       " 144,\n",
       " 169,\n",
       " 196,\n",
       " 225,\n",
       " 256,\n",
       " 289,\n",
       " 324,\n",
       " 361,\n",
       " 400,\n",
       " 441,\n",
       " 484,\n",
       " 529,\n",
       " 576]"
      ]
     },
     "execution_count": 152,
     "metadata": {},
     "output_type": "execute_result"
    }
   ],
   "source": [
    "[i**2 for i in range(25)]"
   ]
  },
  {
   "cell_type": "code",
   "execution_count": 153,
   "id": "7f6c7d68",
   "metadata": {
    "ExecuteTime": {
     "end_time": "2021-12-02T08:10:13.447806Z",
     "start_time": "2021-12-02T08:10:13.410762Z"
    },
    "scrolled": true
   },
   "outputs": [
    {
     "name": "stdout",
     "output_type": "stream",
     "text": [
      "Model: \"sequential_18\"\n",
      "_________________________________________________________________\n",
      " Layer (type)                Output Shape              Param #   \n",
      "=================================================================\n",
      " flatten_18 (Flatten)        (None, 784)               0         \n",
      "                                                                 \n",
      " dense_58 (Dense)            (None, 121)               94985     \n",
      "                                                                 \n",
      " dense_59 (Dense)            (None, 64)                7808      \n",
      "                                                                 \n",
      " dense_60 (Dense)            (None, 64)                4160      \n",
      "                                                                 \n",
      " dense_61 (Dense)            (None, 10)                650       \n",
      "                                                                 \n",
      "=================================================================\n",
      "Total params: 107,603\n",
      "Trainable params: 107,603\n",
      "Non-trainable params: 0\n",
      "_________________________________________________________________\n"
     ]
    }
   ],
   "source": [
    "#모델 구현\n",
    "model = keras.Sequential()\n",
    "\n",
    "model.add(keras.layers.Flatten(input_shape=(28,28)))\n",
    "model.add(keras.layers.Dense(units=121, activation='relu'))\n",
    "model.add(keras.layers.Dense(units=64, activation='leaky_relu'))\n",
    "model.add(keras.layers.Dense(units=64, activation='relu'))\n",
    "model.add(keras.layers.Dense(10, activation='softmax'))\n",
    "\n",
    "model.summary()"
   ]
  },
  {
   "cell_type": "code",
   "execution_count": 154,
   "id": "e2efd7e3",
   "metadata": {
    "ExecuteTime": {
     "end_time": "2021-12-02T08:10:14.247279Z",
     "start_time": "2021-12-02T08:10:14.234281Z"
    }
   },
   "outputs": [],
   "source": [
    "from tensorflow.keras.utils import plot_model\n",
    "#plot_model(model)"
   ]
  },
  {
   "cell_type": "code",
   "execution_count": 155,
   "id": "8cb9436c",
   "metadata": {
    "ExecuteTime": {
     "end_time": "2021-12-02T08:10:15.104179Z",
     "start_time": "2021-12-02T08:10:15.092719Z"
    }
   },
   "outputs": [],
   "source": [
    "model.compile(optimizer='adam',\n",
    "             loss='categorical_crossentropy',\n",
    "             metrics=['accuracy'])"
   ]
  },
  {
   "cell_type": "code",
   "execution_count": 156,
   "id": "2c9932d9",
   "metadata": {
    "ExecuteTime": {
     "end_time": "2021-12-02T08:10:15.885759Z",
     "start_time": "2021-12-02T08:10:15.729736Z"
    },
    "scrolled": true
   },
   "outputs": [
    {
     "name": "stderr",
     "output_type": "stream",
     "text": [
      "C:\\Users\\zuho0\\AppData\\Local\\Temp/ipykernel_32664/948584597.py:2: DeprecationWarning: `np.float` is a deprecated alias for the builtin `float`. To silence this warning, use `float` by itself. Doing this will not modify any behavior and is safe. If you specifically wanted the numpy scalar type, use `np.float64` here.\n",
      "Deprecated in NumPy 1.20; for more details and guidance: https://numpy.org/devdocs/release/1.20.0-notes.html#deprecations\n",
      "  X_train = (train_image/255.0).astype(np.float)\n",
      "C:\\Users\\zuho0\\AppData\\Local\\Temp/ipykernel_32664/948584597.py:3: DeprecationWarning: `np.float` is a deprecated alias for the builtin `float`. To silence this warning, use `float` by itself. Doing this will not modify any behavior and is safe. If you specifically wanted the numpy scalar type, use `np.float64` here.\n",
      "Deprecated in NumPy 1.20; for more details and guidance: https://numpy.org/devdocs/release/1.20.0-notes.html#deprecations\n",
      "  X_test = (test_image/255.0).astype(np.float)\n"
     ]
    }
   ],
   "source": [
    "#X_data 정규화\n",
    "X_train = (train_image/255.0).astype(np.float)\n",
    "X_test = (test_image/255.0).astype(np.float)\n",
    "\n",
    "#y_data 원핫인코딩(다중분류일때 원핫인코딩)\n",
    "#keras.utils.to_categorical()\n",
    "y_train = keras.utils.to_categorical(train_label)\n",
    "y_test = keras.utils.to_categorical(test_label)"
   ]
  },
  {
   "cell_type": "code",
   "execution_count": 157,
   "id": "af48fa9b",
   "metadata": {
    "ExecuteTime": {
     "end_time": "2021-12-02T08:10:16.458114Z",
     "start_time": "2021-12-02T08:10:16.444295Z"
    }
   },
   "outputs": [
    {
     "data": {
      "text/plain": [
       "((60000, 28, 28), (60000, 10), (10000, 28, 28), (10000, 10))"
      ]
     },
     "execution_count": 157,
     "metadata": {},
     "output_type": "execute_result"
    }
   ],
   "source": [
    "X_train.shape, y_train.shape, X_test.shape, y_test.shape "
   ]
  },
  {
   "cell_type": "code",
   "execution_count": 158,
   "id": "1aabbb6e",
   "metadata": {
    "ExecuteTime": {
     "end_time": "2021-12-02T08:10:22.996789Z",
     "start_time": "2021-12-02T08:10:17.880939Z"
    },
    "scrolled": true
   },
   "outputs": [
    {
     "name": "stdout",
     "output_type": "stream",
     "text": [
      "Epoch 1/10\n",
      "420/420 [==============================] - 1s 1ms/step - loss: 0.3711 - accuracy: 0.8939 - val_loss: 0.1903 - val_accuracy: 0.9455\n",
      "Epoch 2/10\n",
      "420/420 [==============================] - 0s 1ms/step - loss: 0.1462 - accuracy: 0.9560 - val_loss: 0.1552 - val_accuracy: 0.9546\n",
      "Epoch 3/10\n",
      "420/420 [==============================] - 0s 1ms/step - loss: 0.1033 - accuracy: 0.9676 - val_loss: 0.1209 - val_accuracy: 0.9639\n",
      "Epoch 4/10\n",
      "420/420 [==============================] - 0s 1ms/step - loss: 0.0743 - accuracy: 0.9767 - val_loss: 0.1248 - val_accuracy: 0.9642\n",
      "Epoch 5/10\n",
      "420/420 [==============================] - 0s 1ms/step - loss: 0.0568 - accuracy: 0.9829 - val_loss: 0.1190 - val_accuracy: 0.9657\n",
      "Epoch 6/10\n",
      "420/420 [==============================] - 0s 1ms/step - loss: 0.0476 - accuracy: 0.9851 - val_loss: 0.1053 - val_accuracy: 0.9709\n",
      "Epoch 7/10\n",
      "420/420 [==============================] - 0s 1ms/step - loss: 0.0359 - accuracy: 0.9889 - val_loss: 0.1147 - val_accuracy: 0.9689\n",
      "Epoch 8/10\n",
      "420/420 [==============================] - 0s 1ms/step - loss: 0.0301 - accuracy: 0.9905 - val_loss: 0.1153 - val_accuracy: 0.9701\n",
      "Epoch 9/10\n",
      "420/420 [==============================] - 0s 1ms/step - loss: 0.0261 - accuracy: 0.9913 - val_loss: 0.1261 - val_accuracy: 0.9699\n",
      "Epoch 10/10\n",
      "420/420 [==============================] - 0s 1ms/step - loss: 0.0215 - accuracy: 0.9934 - val_loss: 0.1280 - val_accuracy: 0.9678\n"
     ]
    }
   ],
   "source": [
    "#학습\n",
    "hist = model.fit(X_train,y_train, \n",
    "                epochs=10,\n",
    "                 batch_size=100,\n",
    "                 validation_split=00.3\n",
    "                )"
   ]
  },
  {
   "cell_type": "code",
   "execution_count": 159,
   "id": "558ec72b",
   "metadata": {
    "ExecuteTime": {
     "end_time": "2021-12-02T08:10:27.350176Z",
     "start_time": "2021-12-02T08:10:27.195214Z"
    }
   },
   "outputs": [
    {
     "data": {
      "image/png": "[encoded data removed]",
      "text/plain": [
       "<Figure size 504x720 with 2 Axes>"
      ]
     },
     "metadata": {
      "needs_background": "light"
     },
     "output_type": "display_data"
    }
   ],
   "source": [
    "import matplotlib.pyplot as plt\n",
    "plt.figure(figsize=(7,10))\n",
    "\n",
    "plt.subplot(2,1,1)\n",
    "plt.plot(range(1,11), hist.history['loss'], label='Train Loss')\n",
    "plt.plot(range(1,11), hist.history['val_loss'], label=\"Validation Loss\")\n",
    "plt.title(\"Loss per Epoch\", fontsize=20)\n",
    "plt.legend()\n",
    "\n",
    "plt.subplot(2,1,2)\n",
    "plt.plot(range(1,11), hist.history['accuracy'], label='Train Accuracy')\n",
    "plt.plot(range(1,11), hist.history['val_accuracy'], label='Validation Accuracy')\n",
    "plt.title(\"Accuracy per Epoch\", fontsize=20)\n",
    "\n",
    "plt.legend()\n",
    "plt.tight_layout()\n",
    "plt.show()\n"
   ]
  },
  {
   "cell_type": "code",
   "execution_count": 139,
   "id": "719d0cd9",
   "metadata": {
    "ExecuteTime": {
     "end_time": "2021-12-02T08:04:15.288183Z",
     "start_time": "2021-12-02T08:04:14.972167Z"
    }
   },
   "outputs": [
    {
     "name": "stdout",
     "output_type": "stream",
     "text": [
      "313/313 [==============================] - 0s 692us/step - loss: 0.0932 - accuracy: 0.9749\n",
      "0.09319419413805008\n"
     ]
    }
   ],
   "source": [
    "#leaky relu 미적용\n",
    "#테스트 셋 평가\n",
    "test_loss, test_acc= model.evaluate(X_test, y_test)\n",
    "print(test_loss)"
   ]
  },
  {
   "cell_type": "code",
   "execution_count": 160,
   "id": "c747f0f8",
   "metadata": {
    "ExecuteTime": {
     "end_time": "2021-12-02T08:10:30.016199Z",
     "start_time": "2021-12-02T08:10:29.731270Z"
    }
   },
   "outputs": [
    {
     "name": "stdout",
     "output_type": "stream",
     "text": [
      "313/313 [==============================] - 0s 635us/step - loss: 0.1077 - accuracy: 0.9706\n",
      "0.10768238455057144\n"
     ]
    }
   ],
   "source": [
    "#leaky relu적용\n",
    "test_loss, test_acc= model.evaluate(X_test, y_test)\n",
    "print(test_loss)"
   ]
  },
  {
   "cell_type": "code",
   "execution_count": null,
   "id": "24eedc37",
   "metadata": {},
   "outputs": [],
   "source": [
    "#############################################################3"
   ]
  },
  {
   "cell_type": "code",
   "execution_count": 165,
   "id": "983e8360",
   "metadata": {
    "ExecuteTime": {
     "end_time": "2021-12-02T08:14:56.839267Z",
     "start_time": "2021-12-02T08:14:56.805178Z"
    }
   },
   "outputs": [
    {
     "data": {
      "text/plain": [
       "((42000, 28, 28), (18000, 28, 28), (10000, 28, 28))"
      ]
     },
     "execution_count": 165,
     "metadata": {},
     "output_type": "execute_result"
    }
   ],
   "source": [
    "from sklearn.model_selection import train_test_split\n",
    "##헷갈림\n",
    "train_image, val_image, train_label, val_label = train_test_split(train_image, train_label, test_size=0.3, stratify=train_label, random_state=0)\n",
    "train_image.shape, val_image.shape, test_image.shape"
   ]
  },
  {
   "cell_type": "code",
   "execution_count": 166,
   "id": "9909bd7e",
   "metadata": {
    "ExecuteTime": {
     "end_time": "2021-12-02T08:15:57.783319Z",
     "start_time": "2021-12-02T08:15:57.777319Z"
    }
   },
   "outputs": [],
   "source": [
    "#하이퍼파라미터, 변수 설정\n",
    "Learning_Rate=0.001\n",
    "N_Epochs=100\n",
    "N_Batches=100\n",
    "\n",
    "N_train=train_image.shape[0]\n",
    "N_val=train_image.shape[0]\n",
    "N_test=train_image.shape[0]"
   ]
  },
  {
   "cell_type": "code",
   "execution_count": 167,
   "id": "01430782",
   "metadata": {
    "ExecuteTime": {
     "end_time": "2021-12-02T08:18:35.126445Z",
     "start_time": "2021-12-02T08:18:34.986180Z"
    }
   },
   "outputs": [],
   "source": [
    "#X,y전처리\n",
    "X_train = (train_image/255.0).astype(np.float32)\n",
    "X_val = (val_image/255.0).astype(np.float32)\n",
    "X_test = (test_image/255.0).astype(np.float32)\n",
    "\n",
    "y_train = keras.utils.to_categorical(train_label)\n",
    "y_val = keras.utils.to_categorical(val_label)\n",
    "y_test = keras.utils.to_categorical(test_label)"
   ]
  },
  {
   "cell_type": "code",
   "execution_count": 177,
   "id": "5e0e43b3",
   "metadata": {
    "ExecuteTime": {
     "end_time": "2021-12-02T08:28:48.964092Z",
     "start_time": "2021-12-02T08:28:48.923092Z"
    }
   },
   "outputs": [],
   "source": [
    "#데이터 셋 생성\n",
    "train_dataset = tf.data.Dataset.from_tensor_slices((X_train,y_train))\\\n",
    "                               .map(lambda X, y: (X/255, y))\\\n",
    "                               .shuffle(N_train)\\\n",
    "                               .batch(batch_size=N_Batches, drop_remainder=True)\n",
    "\n",
    "val_dataset = tf.data.Dataset.from_tensor_slices((X_val, y_val))\\\n",
    "                     .map(lambda X, y : (X/255, y))\\\n",
    "                     .shuffle(N_val)\\\n",
    "                     .batch(batch_size=N_Batches, drop_remainder=True)\n",
    "\n",
    "test_dataset = tf.data.Dataset.from_tensor_slices((X_test, y_test))\\\n",
    "                      .map(lambda X,y : (X/255, y))\\\n",
    "                      .shuffle(N_test)\\\n",
    "                      .batch(batch_size=N_Batches, drop_remainder=True)"
   ]
  },
  {
   "cell_type": "code",
   "execution_count": 179,
   "id": "2bd3dfbd",
   "metadata": {
    "ExecuteTime": {
     "end_time": "2021-12-02T08:29:22.087444Z",
     "start_time": "2021-12-02T08:29:22.079430Z"
    }
   },
   "outputs": [
    {
     "data": {
      "text/plain": [
       "(42000, 28, 28)"
      ]
     },
     "execution_count": 179,
     "metadata": {},
     "output_type": "execute_result"
    }
   ],
   "source": [
    "X_train.shape"
   ]
  },
  {
   "cell_type": "code",
   "execution_count": 250,
   "id": "2ac8bcde",
   "metadata": {
    "ExecuteTime": {
     "end_time": "2021-12-02T08:59:47.067694Z",
     "start_time": "2021-12-02T08:59:47.050665Z"
    }
   },
   "outputs": [],
   "source": [
    "#모델 생성 및 컴파일\n",
    "#모델 구현\n",
    "def create_model_mnist():\n",
    "    model = keras.Sequential()\n",
    "    model.add(keras.layers.Flatten(input_shape=(28,28)))\n",
    "    model.add(keras.layers.Dense(units=121, activation='relu'))\n",
    "    model.add(keras.layers.Dense(units=64, activation='leaky_relu'))\n",
    "    model.add(keras.layers.Dense(units=64, activation='relu'))\n",
    "    model.add(keras.layers.Dense(10, activation='softmax'))\n",
    "    return model"
   ]
  },
  {
   "cell_type": "code",
   "execution_count": 251,
   "id": "44466f46",
   "metadata": {
    "ExecuteTime": {
     "end_time": "2021-12-02T08:59:47.791012Z",
     "start_time": "2021-12-02T08:59:47.753984Z"
    }
   },
   "outputs": [],
   "source": [
    "model = create_model_mnist()\n",
    "model.compile(optimizer=keras.optimizers.Adam(learning_rate=Learning_Rate),\n",
    "             loss='categorical_crossentropy',\n",
    "             metrics=['accuracy'])"
   ]
  },
  {
   "cell_type": "code",
   "execution_count": 180,
   "id": "7fa18eec",
   "metadata": {
    "ExecuteTime": {
     "end_time": "2021-12-02T08:31:28.250805Z",
     "start_time": "2021-12-02T08:29:37.285969Z"
    },
    "scrolled": true
   },
   "outputs": [
    {
     "name": "stdout",
     "output_type": "stream",
     "text": [
      "Epoch 1/100\n",
      "420/420 [==============================] - 1s 2ms/step - loss: 1.2873 - accuracy: 0.5563 - val_loss: 0.7068 - val_accuracy: 0.7783\n",
      "Epoch 2/100\n",
      "420/420 [==============================] - 1s 2ms/step - loss: 0.5645 - accuracy: 0.8258 - val_loss: 0.4655 - val_accuracy: 0.8599\n",
      "Epoch 3/100\n",
      "420/420 [==============================] - 1s 2ms/step - loss: 0.4184 - accuracy: 0.8758 - val_loss: 0.3795 - val_accuracy: 0.8868\n",
      "Epoch 4/100\n",
      "420/420 [==============================] - 1s 2ms/step - loss: 0.3565 - accuracy: 0.8948 - val_loss: 0.3325 - val_accuracy: 0.8984\n",
      "Epoch 5/100\n",
      "420/420 [==============================] - 1s 2ms/step - loss: 0.3204 - accuracy: 0.9048 - val_loss: 0.3042 - val_accuracy: 0.9089\n",
      "Epoch 6/100\n",
      "420/420 [==============================] - 1s 2ms/step - loss: 0.2913 - accuracy: 0.9143 - val_loss: 0.2767 - val_accuracy: 0.9171\n",
      "Epoch 7/100\n",
      "420/420 [==============================] - 1s 2ms/step - loss: 0.2671 - accuracy: 0.9206 - val_loss: 0.2611 - val_accuracy: 0.9225\n",
      "Epoch 8/100\n",
      "420/420 [==============================] - 1s 2ms/step - loss: 0.2456 - accuracy: 0.9280 - val_loss: 0.2443 - val_accuracy: 0.9273\n",
      "Epoch 9/100\n",
      "420/420 [==============================] - 1s 2ms/step - loss: 0.2268 - accuracy: 0.9326 - val_loss: 0.2277 - val_accuracy: 0.9316\n",
      "Epoch 10/100\n",
      "420/420 [==============================] - 1s 2ms/step - loss: 0.2079 - accuracy: 0.9380 - val_loss: 0.2190 - val_accuracy: 0.9328\n",
      "Epoch 11/100\n",
      "420/420 [==============================] - 1s 2ms/step - loss: 0.1922 - accuracy: 0.9427 - val_loss: 0.1966 - val_accuracy: 0.9402\n",
      "Epoch 12/100\n",
      "420/420 [==============================] - 1s 2ms/step - loss: 0.1789 - accuracy: 0.9463 - val_loss: 0.1876 - val_accuracy: 0.9447\n",
      "Epoch 13/100\n",
      "420/420 [==============================] - 1s 2ms/step - loss: 0.1657 - accuracy: 0.9508 - val_loss: 0.1759 - val_accuracy: 0.9471\n",
      "Epoch 14/100\n",
      "420/420 [==============================] - 1s 2ms/step - loss: 0.1558 - accuracy: 0.9538 - val_loss: 0.1804 - val_accuracy: 0.9432\n",
      "Epoch 15/100\n",
      "420/420 [==============================] - 1s 2ms/step - loss: 0.1448 - accuracy: 0.9568 - val_loss: 0.1615 - val_accuracy: 0.9509\n",
      "Epoch 16/100\n",
      "420/420 [==============================] - 1s 2ms/step - loss: 0.1354 - accuracy: 0.9594 - val_loss: 0.1551 - val_accuracy: 0.9520\n",
      "Epoch 17/100\n",
      "420/420 [==============================] - 1s 2ms/step - loss: 0.1293 - accuracy: 0.9615 - val_loss: 0.1474 - val_accuracy: 0.9559\n",
      "Epoch 18/100\n",
      "420/420 [==============================] - 1s 2ms/step - loss: 0.1220 - accuracy: 0.9639 - val_loss: 0.1432 - val_accuracy: 0.9576\n",
      "Epoch 19/100\n",
      "420/420 [==============================] - 1s 2ms/step - loss: 0.1151 - accuracy: 0.9655 - val_loss: 0.1433 - val_accuracy: 0.9567\n",
      "Epoch 20/100\n",
      "420/420 [==============================] - 1s 2ms/step - loss: 0.1088 - accuracy: 0.9679 - val_loss: 0.1338 - val_accuracy: 0.9598\n",
      "Epoch 21/100\n",
      "420/420 [==============================] - 1s 2ms/step - loss: 0.1026 - accuracy: 0.9692 - val_loss: 0.1387 - val_accuracy: 0.9589\n",
      "Epoch 22/100\n",
      "420/420 [==============================] - 1s 2ms/step - loss: 0.0973 - accuracy: 0.9702 - val_loss: 0.1280 - val_accuracy: 0.9616\n",
      "Epoch 23/100\n",
      "420/420 [==============================] - 1s 2ms/step - loss: 0.0909 - accuracy: 0.9727 - val_loss: 0.1320 - val_accuracy: 0.9591\n",
      "Epoch 24/100\n",
      "420/420 [==============================] - 1s 2ms/step - loss: 0.0865 - accuracy: 0.9738 - val_loss: 0.1330 - val_accuracy: 0.9598\n",
      "Epoch 25/100\n",
      "420/420 [==============================] - 1s 2ms/step - loss: 0.0819 - accuracy: 0.9753 - val_loss: 0.1342 - val_accuracy: 0.9612\n",
      "Epoch 26/100\n",
      "420/420 [==============================] - 1s 2ms/step - loss: 0.0794 - accuracy: 0.9750 - val_loss: 0.1204 - val_accuracy: 0.9644\n",
      "Epoch 27/100\n",
      "420/420 [==============================] - 1s 2ms/step - loss: 0.0741 - accuracy: 0.9772 - val_loss: 0.1290 - val_accuracy: 0.9624\n",
      "Epoch 28/100\n",
      "420/420 [==============================] - 1s 2ms/step - loss: 0.0699 - accuracy: 0.9786 - val_loss: 0.1205 - val_accuracy: 0.9647\n",
      "Epoch 29/100\n",
      "420/420 [==============================] - 1s 2ms/step - loss: 0.0680 - accuracy: 0.9799 - val_loss: 0.1185 - val_accuracy: 0.9652\n",
      "Epoch 30/100\n",
      "420/420 [==============================] - 1s 2ms/step - loss: 0.0633 - accuracy: 0.9811 - val_loss: 0.1257 - val_accuracy: 0.9630\n",
      "Epoch 31/100\n",
      "420/420 [==============================] - 1s 2ms/step - loss: 0.0596 - accuracy: 0.9817 - val_loss: 0.1194 - val_accuracy: 0.9646\n",
      "Epoch 32/100\n",
      "420/420 [==============================] - 1s 2ms/step - loss: 0.0585 - accuracy: 0.9818 - val_loss: 0.1139 - val_accuracy: 0.9664\n",
      "Epoch 33/100\n",
      "420/420 [==============================] - 1s 2ms/step - loss: 0.0529 - accuracy: 0.9845 - val_loss: 0.1162 - val_accuracy: 0.9671\n",
      "Epoch 34/100\n",
      "420/420 [==============================] - 1s 2ms/step - loss: 0.0507 - accuracy: 0.9847 - val_loss: 0.1146 - val_accuracy: 0.9666\n",
      "Epoch 35/100\n",
      "420/420 [==============================] - 1s 2ms/step - loss: 0.0478 - accuracy: 0.9861 - val_loss: 0.1156 - val_accuracy: 0.9671\n",
      "Epoch 36/100\n",
      "420/420 [==============================] - 1s 2ms/step - loss: 0.0461 - accuracy: 0.9854 - val_loss: 0.1197 - val_accuracy: 0.9659\n",
      "Epoch 37/100\n",
      "420/420 [==============================] - 1s 2ms/step - loss: 0.0432 - accuracy: 0.9875 - val_loss: 0.1136 - val_accuracy: 0.9689\n",
      "Epoch 38/100\n",
      "420/420 [==============================] - 1s 2ms/step - loss: 0.0428 - accuracy: 0.9872 - val_loss: 0.1190 - val_accuracy: 0.9673\n",
      "Epoch 39/100\n",
      "420/420 [==============================] - 1s 2ms/step - loss: 0.0398 - accuracy: 0.9882 - val_loss: 0.1122 - val_accuracy: 0.9680\n",
      "Epoch 40/100\n",
      "420/420 [==============================] - 1s 2ms/step - loss: 0.0359 - accuracy: 0.9893 - val_loss: 0.1171 - val_accuracy: 0.9678\n",
      "Epoch 41/100\n",
      "420/420 [==============================] - 1s 2ms/step - loss: 0.0344 - accuracy: 0.9897 - val_loss: 0.1205 - val_accuracy: 0.9676\n",
      "Epoch 42/100\n",
      "420/420 [==============================] - 1s 2ms/step - loss: 0.0315 - accuracy: 0.9904 - val_loss: 0.1258 - val_accuracy: 0.9668\n",
      "Epoch 43/100\n",
      "420/420 [==============================] - 1s 2ms/step - loss: 0.0297 - accuracy: 0.9909 - val_loss: 0.1266 - val_accuracy: 0.9671\n",
      "Epoch 44/100\n",
      "420/420 [==============================] - 1s 2ms/step - loss: 0.0284 - accuracy: 0.9916 - val_loss: 0.1169 - val_accuracy: 0.9691\n",
      "Epoch 45/100\n",
      "420/420 [==============================] - 1s 2ms/step - loss: 0.0270 - accuracy: 0.9922 - val_loss: 0.1187 - val_accuracy: 0.9699\n",
      "Epoch 46/100\n",
      "420/420 [==============================] - 1s 2ms/step - loss: 0.0269 - accuracy: 0.9919 - val_loss: 0.1152 - val_accuracy: 0.9701\n",
      "Epoch 47/100\n",
      "420/420 [==============================] - 1s 2ms/step - loss: 0.0247 - accuracy: 0.9927 - val_loss: 0.1197 - val_accuracy: 0.9695\n",
      "Epoch 48/100\n",
      "420/420 [==============================] - 1s 2ms/step - loss: 0.0247 - accuracy: 0.9926 - val_loss: 0.1376 - val_accuracy: 0.9669\n",
      "Epoch 49/100\n",
      "420/420 [==============================] - 1s 2ms/step - loss: 0.0214 - accuracy: 0.9936 - val_loss: 0.1251 - val_accuracy: 0.9685\n",
      "Epoch 50/100\n",
      "420/420 [==============================] - 1s 2ms/step - loss: 0.0211 - accuracy: 0.9939 - val_loss: 0.1215 - val_accuracy: 0.9704\n",
      "Epoch 51/100\n",
      "420/420 [==============================] - 1s 2ms/step - loss: 0.0196 - accuracy: 0.9940 - val_loss: 0.1219 - val_accuracy: 0.9697\n",
      "Epoch 52/100\n",
      "420/420 [==============================] - 1s 2ms/step - loss: 0.0186 - accuracy: 0.9943 - val_loss: 0.1309 - val_accuracy: 0.9688\n",
      "Epoch 53/100\n",
      "420/420 [==============================] - 1s 2ms/step - loss: 0.0189 - accuracy: 0.9942 - val_loss: 0.1341 - val_accuracy: 0.9679\n",
      "Epoch 54/100\n",
      "420/420 [==============================] - 1s 2ms/step - loss: 0.0161 - accuracy: 0.9953 - val_loss: 0.1299 - val_accuracy: 0.9704\n",
      "Epoch 55/100\n",
      "420/420 [==============================] - 1s 2ms/step - loss: 0.0157 - accuracy: 0.9949 - val_loss: 0.1331 - val_accuracy: 0.9694\n",
      "Epoch 56/100\n",
      "420/420 [==============================] - 1s 2ms/step - loss: 0.0138 - accuracy: 0.9962 - val_loss: 0.1308 - val_accuracy: 0.9702\n",
      "Epoch 57/100\n",
      "420/420 [==============================] - 1s 2ms/step - loss: 0.0132 - accuracy: 0.9963 - val_loss: 0.1330 - val_accuracy: 0.9701\n"
     ]
    },
    {
     "name": "stdout",
     "output_type": "stream",
     "text": [
      "Epoch 58/100\n",
      "420/420 [==============================] - 1s 2ms/step - loss: 0.0126 - accuracy: 0.9967 - val_loss: 0.1334 - val_accuracy: 0.9706\n",
      "Epoch 59/100\n",
      "420/420 [==============================] - 1s 2ms/step - loss: 0.0115 - accuracy: 0.9969 - val_loss: 0.1359 - val_accuracy: 0.9709\n",
      "Epoch 60/100\n",
      "420/420 [==============================] - 1s 2ms/step - loss: 0.0113 - accuracy: 0.9966 - val_loss: 0.1566 - val_accuracy: 0.9666\n",
      "Epoch 61/100\n",
      "420/420 [==============================] - 1s 2ms/step - loss: 0.0099 - accuracy: 0.9974 - val_loss: 0.1463 - val_accuracy: 0.9687\n",
      "Epoch 62/100\n",
      "420/420 [==============================] - 1s 2ms/step - loss: 0.0123 - accuracy: 0.9961 - val_loss: 0.1608 - val_accuracy: 0.9655\n",
      "Epoch 63/100\n",
      "420/420 [==============================] - 1s 2ms/step - loss: 0.0083 - accuracy: 0.9978 - val_loss: 0.1437 - val_accuracy: 0.9699\n",
      "Epoch 64/100\n",
      "420/420 [==============================] - 1s 2ms/step - loss: 0.0136 - accuracy: 0.9955 - val_loss: 0.1465 - val_accuracy: 0.9684\n",
      "Epoch 65/100\n",
      "420/420 [==============================] - 1s 2ms/step - loss: 0.0091 - accuracy: 0.9970 - val_loss: 0.1677 - val_accuracy: 0.9665\n",
      "Epoch 66/100\n",
      "420/420 [==============================] - 1s 2ms/step - loss: 0.0066 - accuracy: 0.9983 - val_loss: 0.1706 - val_accuracy: 0.9655\n",
      "Epoch 67/100\n",
      "420/420 [==============================] - 1s 2ms/step - loss: 0.0057 - accuracy: 0.9986 - val_loss: 0.1600 - val_accuracy: 0.9682\n",
      "Epoch 68/100\n",
      "420/420 [==============================] - 1s 2ms/step - loss: 0.0085 - accuracy: 0.9973 - val_loss: 0.1701 - val_accuracy: 0.9670\n",
      "Epoch 69/100\n",
      "420/420 [==============================] - 1s 2ms/step - loss: 0.0105 - accuracy: 0.9963 - val_loss: 0.1599 - val_accuracy: 0.9689\n",
      "Epoch 70/100\n",
      "420/420 [==============================] - 1s 2ms/step - loss: 0.0072 - accuracy: 0.9977 - val_loss: 0.1488 - val_accuracy: 0.9699\n",
      "Epoch 71/100\n",
      "420/420 [==============================] - 1s 2ms/step - loss: 0.0057 - accuracy: 0.9983 - val_loss: 0.1975 - val_accuracy: 0.9642\n",
      "Epoch 72/100\n",
      "420/420 [==============================] - 1s 2ms/step - loss: 0.0088 - accuracy: 0.9970 - val_loss: 0.1671 - val_accuracy: 0.9695\n",
      "Epoch 73/100\n",
      "420/420 [==============================] - 1s 2ms/step - loss: 0.0057 - accuracy: 0.9983 - val_loss: 0.1741 - val_accuracy: 0.9672\n",
      "Epoch 74/100\n",
      "420/420 [==============================] - 1s 2ms/step - loss: 0.0047 - accuracy: 0.9987 - val_loss: 0.1885 - val_accuracy: 0.9646\n",
      "Epoch 75/100\n",
      "420/420 [==============================] - 1s 2ms/step - loss: 0.0092 - accuracy: 0.9969 - val_loss: 0.1626 - val_accuracy: 0.9691\n",
      "Epoch 76/100\n",
      "420/420 [==============================] - 1s 2ms/step - loss: 0.0035 - accuracy: 0.9992 - val_loss: 0.1530 - val_accuracy: 0.9717\n",
      "Epoch 77/100\n",
      "420/420 [==============================] - 1s 2ms/step - loss: 0.0037 - accuracy: 0.9991 - val_loss: 0.1790 - val_accuracy: 0.9681\n",
      "Epoch 78/100\n",
      "420/420 [==============================] - 1s 2ms/step - loss: 0.0070 - accuracy: 0.9975 - val_loss: 0.1670 - val_accuracy: 0.9692\n",
      "Epoch 79/100\n",
      "420/420 [==============================] - 1s 2ms/step - loss: 0.0068 - accuracy: 0.9977 - val_loss: 0.2113 - val_accuracy: 0.9623\n",
      "Epoch 80/100\n",
      "420/420 [==============================] - 1s 2ms/step - loss: 0.0091 - accuracy: 0.9970 - val_loss: 0.1633 - val_accuracy: 0.9710\n",
      "Epoch 81/100\n",
      "420/420 [==============================] - 1s 2ms/step - loss: 0.0014 - accuracy: 0.9998 - val_loss: 0.1599 - val_accuracy: 0.9716\n",
      "Epoch 82/100\n",
      "420/420 [==============================] - 1s 2ms/step - loss: 9.4563e-04 - accuracy: 0.9999 - val_loss: 0.1706 - val_accuracy: 0.9711\n",
      "Epoch 83/100\n",
      "420/420 [==============================] - 1s 2ms/step - loss: 0.0085 - accuracy: 0.9968 - val_loss: 0.1854 - val_accuracy: 0.9678\n",
      "Epoch 84/100\n",
      "420/420 [==============================] - 1s 2ms/step - loss: 0.0076 - accuracy: 0.9977 - val_loss: 0.1873 - val_accuracy: 0.9681\n",
      "Epoch 85/100\n",
      "420/420 [==============================] - 1s 2ms/step - loss: 0.0060 - accuracy: 0.9982 - val_loss: 0.1980 - val_accuracy: 0.9665\n",
      "Epoch 86/100\n",
      "420/420 [==============================] - 1s 2ms/step - loss: 0.0065 - accuracy: 0.9979 - val_loss: 0.1689 - val_accuracy: 0.9710\n",
      "Epoch 87/100\n",
      "420/420 [==============================] - 1s 2ms/step - loss: 0.0015 - accuracy: 0.9997 - val_loss: 0.1664 - val_accuracy: 0.9724\n",
      "Epoch 88/100\n",
      "420/420 [==============================] - 1s 2ms/step - loss: 5.5961e-04 - accuracy: 1.0000 - val_loss: 0.1686 - val_accuracy: 0.9728\n",
      "Epoch 89/100\n",
      "420/420 [==============================] - 1s 2ms/step - loss: 0.0156 - accuracy: 0.9946 - val_loss: 0.2025 - val_accuracy: 0.9638\n",
      "Epoch 90/100\n",
      "420/420 [==============================] - 1s 2ms/step - loss: 0.0023 - accuracy: 0.9994 - val_loss: 0.1651 - val_accuracy: 0.9723\n",
      "Epoch 91/100\n",
      "420/420 [==============================] - 1s 2ms/step - loss: 6.6307e-04 - accuracy: 1.0000 - val_loss: 0.1728 - val_accuracy: 0.9714\n",
      "Epoch 92/100\n",
      "420/420 [==============================] - 1s 2ms/step - loss: 0.0073 - accuracy: 0.9975 - val_loss: 0.2121 - val_accuracy: 0.9657\n",
      "Epoch 93/100\n",
      "420/420 [==============================] - 1s 2ms/step - loss: 0.0034 - accuracy: 0.9990 - val_loss: 0.1774 - val_accuracy: 0.9711\n",
      "Epoch 94/100\n",
      "420/420 [==============================] - 1s 2ms/step - loss: 7.4673e-04 - accuracy: 1.0000 - val_loss: 0.1785 - val_accuracy: 0.9704\n",
      "Epoch 95/100\n",
      "420/420 [==============================] - 1s 2ms/step - loss: 0.0012 - accuracy: 0.9997 - val_loss: 0.2156 - val_accuracy: 0.9641\n",
      "Epoch 96/100\n",
      "420/420 [==============================] - 1s 2ms/step - loss: 0.0155 - accuracy: 0.9948 - val_loss: 0.2073 - val_accuracy: 0.9674\n",
      "Epoch 97/100\n",
      "420/420 [==============================] - 1s 2ms/step - loss: 0.0018 - accuracy: 0.9996 - val_loss: 0.1701 - val_accuracy: 0.9722\n",
      "Epoch 98/100\n",
      "420/420 [==============================] - 1s 2ms/step - loss: 5.4220e-04 - accuracy: 1.0000 - val_loss: 0.1754 - val_accuracy: 0.9721\n",
      "Epoch 99/100\n",
      "420/420 [==============================] - 1s 2ms/step - loss: 3.5017e-04 - accuracy: 1.0000 - val_loss: 0.1752 - val_accuracy: 0.9721\n",
      "Epoch 100/100\n",
      "420/420 [==============================] - 1s 2ms/step - loss: 2.8473e-04 - accuracy: 1.0000 - val_loss: 0.1731 - val_accuracy: 0.9729\n"
     ]
    }
   ],
   "source": [
    "hist = model.fit(train_dataset,\n",
    "                epochs=N_Epochs,\n",
    "                validation_data=val_dataset)\n",
    "#39epoch이 제일 나음"
   ]
  },
  {
   "cell_type": "code",
   "execution_count": 213,
   "id": "06d99b4a",
   "metadata": {
    "ExecuteTime": {
     "end_time": "2021-12-02T08:52:51.814284Z",
     "start_time": "2021-12-02T08:52:08.864133Z"
    },
    "scrolled": true
   },
   "outputs": [
    {
     "name": "stdout",
     "output_type": "stream",
     "text": [
      "Epoch 1/39\n",
      "420/420 [==============================] - 1s 2ms/step - loss: 1.3088 - accuracy: 0.5495 - val_loss: 0.7238 - val_accuracy: 0.7670\n",
      "Epoch 2/39\n",
      "420/420 [==============================] - 1s 2ms/step - loss: 0.6206 - accuracy: 0.8037 - val_loss: 0.5320 - val_accuracy: 0.8343\n",
      "Epoch 3/39\n",
      "420/420 [==============================] - 1s 2ms/step - loss: 0.4860 - accuracy: 0.8523 - val_loss: 0.4252 - val_accuracy: 0.8725\n",
      "Epoch 4/39\n",
      "420/420 [==============================] - 1s 2ms/step - loss: 0.3932 - accuracy: 0.8835 - val_loss: 0.3531 - val_accuracy: 0.8942\n",
      "Epoch 5/39\n",
      "420/420 [==============================] - 1s 2ms/step - loss: 0.3243 - accuracy: 0.9045 - val_loss: 0.2975 - val_accuracy: 0.9124\n",
      "Epoch 6/39\n",
      "420/420 [==============================] - 1s 2ms/step - loss: 0.2833 - accuracy: 0.9170 - val_loss: 0.2651 - val_accuracy: 0.9206\n",
      "Epoch 7/39\n",
      "420/420 [==============================] - 1s 2ms/step - loss: 0.2531 - accuracy: 0.9267 - val_loss: 0.2479 - val_accuracy: 0.9248\n",
      "Epoch 8/39\n",
      "420/420 [==============================] - 1s 2ms/step - loss: 0.2286 - accuracy: 0.9332 - val_loss: 0.2279 - val_accuracy: 0.9317\n",
      "Epoch 9/39\n",
      "420/420 [==============================] - 1s 2ms/step - loss: 0.2099 - accuracy: 0.9390 - val_loss: 0.2167 - val_accuracy: 0.9347\n",
      "Epoch 10/39\n",
      "420/420 [==============================] - 1s 2ms/step - loss: 0.1922 - accuracy: 0.9436 - val_loss: 0.1969 - val_accuracy: 0.9418\n",
      "Epoch 11/39\n",
      "420/420 [==============================] - 1s 2ms/step - loss: 0.1768 - accuracy: 0.9484 - val_loss: 0.1878 - val_accuracy: 0.9443\n",
      "Epoch 12/39\n",
      "420/420 [==============================] - 1s 2ms/step - loss: 0.1632 - accuracy: 0.9515 - val_loss: 0.1839 - val_accuracy: 0.9458\n",
      "Epoch 13/39\n",
      "420/420 [==============================] - 1s 2ms/step - loss: 0.1530 - accuracy: 0.9550 - val_loss: 0.1683 - val_accuracy: 0.9500\n",
      "Epoch 14/39\n",
      "420/420 [==============================] - 1s 2ms/step - loss: 0.1441 - accuracy: 0.9571 - val_loss: 0.1612 - val_accuracy: 0.9517\n",
      "Epoch 15/39\n",
      "420/420 [==============================] - 1s 2ms/step - loss: 0.1333 - accuracy: 0.9605 - val_loss: 0.1605 - val_accuracy: 0.9526\n",
      "Epoch 16/39\n",
      "420/420 [==============================] - 1s 2ms/step - loss: 0.1265 - accuracy: 0.9629 - val_loss: 0.1547 - val_accuracy: 0.9537\n",
      "Epoch 17/39\n",
      "420/420 [==============================] - 1s 2ms/step - loss: 0.1179 - accuracy: 0.9654 - val_loss: 0.1465 - val_accuracy: 0.9560\n",
      "Epoch 18/39\n",
      "420/420 [==============================] - 1s 2ms/step - loss: 0.1127 - accuracy: 0.9665 - val_loss: 0.1403 - val_accuracy: 0.9575\n",
      "Epoch 19/39\n",
      "420/420 [==============================] - 1s 2ms/step - loss: 0.1055 - accuracy: 0.9688 - val_loss: 0.1377 - val_accuracy: 0.9588\n",
      "Epoch 20/39\n",
      "420/420 [==============================] - 1s 2ms/step - loss: 0.1008 - accuracy: 0.9704 - val_loss: 0.1444 - val_accuracy: 0.9566\n",
      "Epoch 21/39\n",
      "420/420 [==============================] - 1s 2ms/step - loss: 0.0954 - accuracy: 0.9713 - val_loss: 0.1364 - val_accuracy: 0.9589\n",
      "Epoch 22/39\n",
      "420/420 [==============================] - 1s 2ms/step - loss: 0.0915 - accuracy: 0.9720 - val_loss: 0.1317 - val_accuracy: 0.9604\n",
      "Epoch 23/39\n",
      "420/420 [==============================] - 1s 2ms/step - loss: 0.0866 - accuracy: 0.9743 - val_loss: 0.1395 - val_accuracy: 0.9588\n",
      "Epoch 24/39\n",
      "420/420 [==============================] - 1s 2ms/step - loss: 0.0834 - accuracy: 0.9750 - val_loss: 0.1268 - val_accuracy: 0.9621\n",
      "Epoch 25/39\n",
      "420/420 [==============================] - 1s 2ms/step - loss: 0.0789 - accuracy: 0.9768 - val_loss: 0.1217 - val_accuracy: 0.9637\n",
      "Epoch 26/39\n",
      "420/420 [==============================] - 1s 2ms/step - loss: 0.0733 - accuracy: 0.9780 - val_loss: 0.1260 - val_accuracy: 0.9618\n",
      "Epoch 27/39\n",
      "420/420 [==============================] - 1s 2ms/step - loss: 0.0710 - accuracy: 0.9787 - val_loss: 0.1290 - val_accuracy: 0.9608\n",
      "Epoch 28/39\n",
      "420/420 [==============================] - 1s 2ms/step - loss: 0.0667 - accuracy: 0.9800 - val_loss: 0.1264 - val_accuracy: 0.9625\n",
      "Epoch 29/39\n",
      "420/420 [==============================] - 1s 2ms/step - loss: 0.0643 - accuracy: 0.9807 - val_loss: 0.1349 - val_accuracy: 0.9609\n",
      "Epoch 30/39\n",
      "420/420 [==============================] - 1s 2ms/step - loss: 0.0610 - accuracy: 0.9819 - val_loss: 0.1251 - val_accuracy: 0.9644\n",
      "Epoch 31/39\n",
      "420/420 [==============================] - 1s 2ms/step - loss: 0.0587 - accuracy: 0.9822 - val_loss: 0.1245 - val_accuracy: 0.9628\n",
      "Epoch 32/39\n",
      "420/420 [==============================] - 1s 2ms/step - loss: 0.0554 - accuracy: 0.9832 - val_loss: 0.1215 - val_accuracy: 0.9644\n",
      "Epoch 33/39\n",
      "420/420 [==============================] - 1s 2ms/step - loss: 0.0516 - accuracy: 0.9842 - val_loss: 0.1189 - val_accuracy: 0.9663\n",
      "Epoch 34/39\n",
      "420/420 [==============================] - 1s 2ms/step - loss: 0.0496 - accuracy: 0.9853 - val_loss: 0.1209 - val_accuracy: 0.9651\n",
      "Epoch 35/39\n",
      "420/420 [==============================] - 1s 2ms/step - loss: 0.0466 - accuracy: 0.9860 - val_loss: 0.1226 - val_accuracy: 0.9652\n",
      "Epoch 36/39\n",
      "420/420 [==============================] - 1s 2ms/step - loss: 0.0452 - accuracy: 0.9863 - val_loss: 0.1188 - val_accuracy: 0.9662\n",
      "Epoch 37/39\n",
      "420/420 [==============================] - 1s 2ms/step - loss: 0.0427 - accuracy: 0.9871 - val_loss: 0.1180 - val_accuracy: 0.9667\n",
      "Epoch 38/39\n",
      "420/420 [==============================] - 1s 2ms/step - loss: 0.0413 - accuracy: 0.9875 - val_loss: 0.1213 - val_accuracy: 0.9659\n",
      "Epoch 39/39\n",
      "420/420 [==============================] - 1s 2ms/step - loss: 0.0392 - accuracy: 0.9883 - val_loss: 0.1190 - val_accuracy: 0.9666\n"
     ]
    }
   ],
   "source": [
    "#모델 생성 및 컴파일\n",
    "#모델 구현\n",
    "def create_model_mnist2():\n",
    "    model = keras.Sequential()\n",
    "    model.add(keras.layers.Flatten(input_shape=(28,28)))\n",
    "    model.add(keras.layers.Dense(units=121, activation='relu'))\n",
    "    model.add(keras.layers.Dense(units=64, activation='leaky_relu'))\n",
    "    model.add(keras.layers.Dense(units=64, activation='relu'))\n",
    "    model.add(keras.layers.Dense(10, activation='softmax'))\n",
    "    return model\n",
    "\n",
    "model = create_model_mnist2()\n",
    "model.compile(optimizer=keras.optimizers.Adam(learning_rate=Learning_Rate),\n",
    "             loss='categorical_crossentropy',\n",
    "             metrics=['accuracy'])\n",
    "hist = model.fit(train_dataset,\n",
    "                epochs=39,\n",
    "                validation_data=val_dataset)\n"
   ]
  },
  {
   "cell_type": "code",
   "execution_count": 182,
   "id": "af6e772a",
   "metadata": {
    "ExecuteTime": {
     "end_time": "2021-12-02T08:34:18.027637Z",
     "start_time": "2021-12-02T08:34:17.855638Z"
    }
   },
   "outputs": [
    {
     "name": "stdout",
     "output_type": "stream",
     "text": [
      "100/100 [==============================] - 0s 687us/step - loss: 0.1217 - accuracy: 0.9669\n"
     ]
    },
    {
     "data": {
      "text/plain": [
       "(0.12173433601856232, 0.9668999910354614)"
      ]
     },
     "execution_count": 182,
     "metadata": {},
     "output_type": "execute_result"
    }
   ],
   "source": [
    "#최종평가\n",
    "loss, accuracy= model.evaluate(test_dataset)\n",
    "loss, accuracy"
   ]
  },
  {
   "cell_type": "code",
   "execution_count": null,
   "id": "d84bdc8d",
   "metadata": {},
   "outputs": [],
   "source": [
    "#DNN 성능개선###############################################33"
   ]
  },
  {
   "cell_type": "code",
   "execution_count": 240,
   "id": "0484fcda",
   "metadata": {
    "ExecuteTime": {
     "end_time": "2021-12-02T08:57:56.578562Z",
     "start_time": "2021-12-02T08:57:56.561550Z"
    }
   },
   "outputs": [],
   "source": [
    "import numpy as np\n",
    "import tensorflow as tf\n",
    "from tensorflow import keras\n",
    "from tensorflow.keras import layers\n",
    "\n",
    "import matplotlib.pyplot as plt\n",
    "import matplotlib as mpl"
   ]
  },
  {
   "cell_type": "code",
   "execution_count": 241,
   "id": "6f487c8b",
   "metadata": {
    "ExecuteTime": {
     "end_time": "2021-12-02T08:57:57.240361Z",
     "start_time": "2021-12-02T08:57:57.221337Z"
    }
   },
   "outputs": [],
   "source": [
    "#한글설정\n",
    "mpl.rcParams['font.family'] = \"malgun gothic\"\n",
    "mpl.rcParams['axes.unicode_minus'] = False\n",
    "mpl.rcParams['axes.titlesize']=20 #시각화 할때 폰트 사이즈\n",
    "np.random.seed(0)\n",
    "tf.random.set_seed(0)"
   ]
  },
  {
   "cell_type": "code",
   "execution_count": 242,
   "id": "bff8f838",
   "metadata": {
    "ExecuteTime": {
     "end_time": "2021-12-02T08:57:57.827710Z",
     "start_time": "2021-12-02T08:57:57.821704Z"
    }
   },
   "outputs": [],
   "source": [
    "def plot_loss(epochs, history):\n",
    "    \"\"\"\n",
    "    학습 loss를 시각화 하는 함수\n",
    "    \n",
    "    \"\"\"\n",
    "    plt.figure(figsize=(8,7))\n",
    "    plt.plot(range(1, epochs+1), history.history['loss'], label='Train Loss')\n",
    "    plt.plot(range(1, epochs+1), history.history['val_loss'], label='Validation Loss')\n",
    "    plt.title('Loss')\n",
    "    plt.xlabel('Epochs')\n",
    "    plt.ylabel('Loss')\n",
    "    plt.legend()\n",
    "    plt.show()"
   ]
  },
  {
   "cell_type": "code",
   "execution_count": 243,
   "id": "e5d628b6",
   "metadata": {
    "ExecuteTime": {
     "end_time": "2021-12-02T08:57:58.761857Z",
     "start_time": "2021-12-02T08:57:58.747327Z"
    }
   },
   "outputs": [],
   "source": [
    "def plot_accuracy(epochs, history):\n",
    "    \"\"\"\n",
    "    학습 accuracy를 시각화 하는 함수\n",
    "    \n",
    "    \"\"\"\n",
    "    plt.figure(figsize=(8,7))\n",
    "    plt.plot(range(1, epochs+1), history.history['accuracy'], label='Train Accuracy')\n",
    "    plt.plot(range(1, epochs+1), history.history['val_accuracy'], label='Validation Accuracy')\n",
    "    plt.title('Accuracy')\n",
    "    plt.xlabel('Epochs')\n",
    "    plt.ylabel('Accuracy')\n",
    "    plt.legend()\n",
    "    plt.show()"
   ]
  },
  {
   "cell_type": "code",
   "execution_count": 244,
   "id": "5691a6e2",
   "metadata": {
    "ExecuteTime": {
     "end_time": "2021-12-02T08:57:59.558727Z",
     "start_time": "2021-12-02T08:57:59.523300Z"
    }
   },
   "outputs": [],
   "source": [
    "#Learning rate decay적용\n",
    "def create_model_mnist():\n",
    "    model = keras.Sequential()\n",
    "    model.add(keras.layers.Flatten(input_shape=(28,28)))\n",
    "    model.add(keras.layers.Dense(units=121, activation='relu'))\n",
    "    model.add(keras.layers.Dense(units=64, activation='leaky_relu'))\n",
    "    model.add(keras.layers.Dense(units=64, activation='relu'))\n",
    "    model.add(keras.layers.Dense(10, activation='softmax'))\n",
    "    return model\n",
    "\n",
    "model = create_model_mnist()"
   ]
  },
  {
   "cell_type": "code",
   "execution_count": 245,
   "id": "5c36cebf",
   "metadata": {
    "ExecuteTime": {
     "end_time": "2021-12-02T08:58:00.477485Z",
     "start_time": "2021-12-02T08:58:00.465461Z"
    }
   },
   "outputs": [
    {
     "data": {
      "text/plain": [
       "4200"
      ]
     },
     "execution_count": 245,
     "metadata": {},
     "output_type": "execute_result"
    }
   ],
   "source": [
    "len(train_dataset) #1epoch = 600스탭\n",
    "len(train_dataset)*10 #10에폭의 step수"
   ]
  },
  {
   "cell_type": "code",
   "execution_count": 246,
   "id": "267809e0",
   "metadata": {
    "ExecuteTime": {
     "end_time": "2021-12-02T08:58:01.139398Z",
     "start_time": "2021-12-02T08:58:01.135400Z"
    }
   },
   "outputs": [],
   "source": [
    "lr_scheduler = keras.optimizers.schedules.ExponentialDecay(\n",
    "    initial_learning_rate = Learning_rate,\n",
    "    decay_steps = len(train_dataset)*3,\n",
    "    decay_rate=0.2,\n",
    "    staircase=True\n",
    ")"
   ]
  },
  {
   "cell_type": "code",
   "execution_count": 247,
   "id": "4738a7bb",
   "metadata": {
    "ExecuteTime": {
     "end_time": "2021-12-02T08:58:01.953049Z",
     "start_time": "2021-12-02T08:58:01.934026Z"
    }
   },
   "outputs": [],
   "source": [
    "model.compile(optimizer = keras.optimizers.Adam(learning_rate=Learning_Rate),\n",
    "             loss='categorical_crossentropy',\n",
    "             metrics=['accuracy'])"
   ]
  },
  {
   "cell_type": "code",
   "execution_count": 252,
   "id": "68385884",
   "metadata": {
    "ExecuteTime": {
     "end_time": "2021-12-02T09:01:00.170747Z",
     "start_time": "2021-12-02T09:00:04.853216Z"
    },
    "scrolled": true
   },
   "outputs": [
    {
     "name": "stdout",
     "output_type": "stream",
     "text": [
      "Epoch 1/50\n",
      "420/420 [==============================] - 1s 2ms/step - loss: 1.1752 - accuracy: 0.6256 - val_loss: 0.6565 - val_accuracy: 0.7867\n",
      "Epoch 2/50\n",
      "420/420 [==============================] - 1s 2ms/step - loss: 0.5770 - accuracy: 0.8240 - val_loss: 0.5057 - val_accuracy: 0.8464\n",
      "Epoch 3/50\n",
      "420/420 [==============================] - 1s 2ms/step - loss: 0.4648 - accuracy: 0.8630 - val_loss: 0.4167 - val_accuracy: 0.8757\n",
      "Epoch 4/50\n",
      "420/420 [==============================] - 1s 2ms/step - loss: 0.3960 - accuracy: 0.8836 - val_loss: 0.3716 - val_accuracy: 0.8871\n",
      "Epoch 5/50\n",
      "420/420 [==============================] - 1s 2ms/step - loss: 0.3491 - accuracy: 0.8983 - val_loss: 0.3307 - val_accuracy: 0.8990\n",
      "Epoch 6/50\n",
      "420/420 [==============================] - 1s 2ms/step - loss: 0.3194 - accuracy: 0.9053 - val_loss: 0.3024 - val_accuracy: 0.9093\n",
      "Epoch 7/50\n",
      "420/420 [==============================] - 1s 2ms/step - loss: 0.2944 - accuracy: 0.9129 - val_loss: 0.2836 - val_accuracy: 0.9133\n",
      "Epoch 8/50\n",
      "420/420 [==============================] - 1s 2ms/step - loss: 0.2702 - accuracy: 0.9194 - val_loss: 0.2758 - val_accuracy: 0.9173\n",
      "Epoch 9/50\n",
      "420/420 [==============================] - 1s 2ms/step - loss: 0.2491 - accuracy: 0.9248 - val_loss: 0.2422 - val_accuracy: 0.9276\n",
      "Epoch 10/50\n",
      "420/420 [==============================] - 1s 2ms/step - loss: 0.2299 - accuracy: 0.9322 - val_loss: 0.2307 - val_accuracy: 0.9304\n",
      "Epoch 11/50\n",
      "420/420 [==============================] - 1s 2ms/step - loss: 0.2082 - accuracy: 0.9383 - val_loss: 0.2202 - val_accuracy: 0.9323\n",
      "Epoch 12/50\n",
      "420/420 [==============================] - 1s 2ms/step - loss: 0.1906 - accuracy: 0.9447 - val_loss: 0.2021 - val_accuracy: 0.9381\n",
      "Epoch 13/50\n",
      "420/420 [==============================] - 1s 2ms/step - loss: 0.1768 - accuracy: 0.9480 - val_loss: 0.1863 - val_accuracy: 0.9431\n",
      "Epoch 14/50\n",
      "420/420 [==============================] - 1s 2ms/step - loss: 0.1648 - accuracy: 0.9518 - val_loss: 0.1797 - val_accuracy: 0.9464\n",
      "Epoch 15/50\n",
      "420/420 [==============================] - 1s 2ms/step - loss: 0.1538 - accuracy: 0.9542 - val_loss: 0.1704 - val_accuracy: 0.9483\n",
      "Epoch 16/50\n",
      "420/420 [==============================] - 1s 2ms/step - loss: 0.1439 - accuracy: 0.9570 - val_loss: 0.1617 - val_accuracy: 0.9517\n",
      "Epoch 17/50\n",
      "420/420 [==============================] - 1s 2ms/step - loss: 0.1364 - accuracy: 0.9591 - val_loss: 0.1565 - val_accuracy: 0.9525\n",
      "Epoch 18/50\n",
      "420/420 [==============================] - 1s 2ms/step - loss: 0.1295 - accuracy: 0.9618 - val_loss: 0.1520 - val_accuracy: 0.9547\n",
      "Epoch 19/50\n",
      "420/420 [==============================] - 1s 2ms/step - loss: 0.1222 - accuracy: 0.9638 - val_loss: 0.1511 - val_accuracy: 0.9548\n",
      "Epoch 20/50\n",
      "420/420 [==============================] - 1s 2ms/step - loss: 0.1167 - accuracy: 0.9652 - val_loss: 0.1462 - val_accuracy: 0.9554\n",
      "Epoch 21/50\n",
      "420/420 [==============================] - 1s 2ms/step - loss: 0.1112 - accuracy: 0.9665 - val_loss: 0.1410 - val_accuracy: 0.9586\n",
      "Epoch 22/50\n",
      "420/420 [==============================] - 1s 2ms/step - loss: 0.1040 - accuracy: 0.9689 - val_loss: 0.1380 - val_accuracy: 0.9581\n",
      "Epoch 23/50\n",
      "420/420 [==============================] - 1s 2ms/step - loss: 0.0987 - accuracy: 0.9703 - val_loss: 0.1417 - val_accuracy: 0.9579\n",
      "Epoch 24/50\n",
      "420/420 [==============================] - 1s 2ms/step - loss: 0.0933 - accuracy: 0.9717 - val_loss: 0.1382 - val_accuracy: 0.9585\n",
      "Epoch 25/50\n",
      "420/420 [==============================] - 1s 2ms/step - loss: 0.0885 - accuracy: 0.9734 - val_loss: 0.1393 - val_accuracy: 0.9575\n",
      "Epoch 26/50\n",
      "420/420 [==============================] - 1s 2ms/step - loss: 0.0844 - accuracy: 0.9742 - val_loss: 0.1289 - val_accuracy: 0.9612\n",
      "Epoch 27/50\n",
      "420/420 [==============================] - 1s 2ms/step - loss: 0.0809 - accuracy: 0.9762 - val_loss: 0.1287 - val_accuracy: 0.9616\n",
      "Epoch 28/50\n",
      "420/420 [==============================] - 1s 2ms/step - loss: 0.0763 - accuracy: 0.9775 - val_loss: 0.1304 - val_accuracy: 0.9621\n",
      "Epoch 29/50\n",
      "420/420 [==============================] - 1s 2ms/step - loss: 0.0734 - accuracy: 0.9781 - val_loss: 0.1316 - val_accuracy: 0.9614\n",
      "Epoch 30/50\n",
      "420/420 [==============================] - 1s 2ms/step - loss: 0.0692 - accuracy: 0.9788 - val_loss: 0.1205 - val_accuracy: 0.9649\n",
      "Epoch 31/50\n",
      "420/420 [==============================] - 1s 2ms/step - loss: 0.0649 - accuracy: 0.9805 - val_loss: 0.1263 - val_accuracy: 0.9634\n",
      "Epoch 32/50\n",
      "420/420 [==============================] - 1s 2ms/step - loss: 0.0630 - accuracy: 0.9809 - val_loss: 0.1208 - val_accuracy: 0.9656\n",
      "Epoch 33/50\n",
      "420/420 [==============================] - 1s 2ms/step - loss: 0.0586 - accuracy: 0.9828 - val_loss: 0.1282 - val_accuracy: 0.9625\n",
      "Epoch 34/50\n",
      "420/420 [==============================] - 1s 2ms/step - loss: 0.0559 - accuracy: 0.9834 - val_loss: 0.1223 - val_accuracy: 0.9651\n",
      "Epoch 35/50\n",
      "420/420 [==============================] - 1s 2ms/step - loss: 0.0533 - accuracy: 0.9837 - val_loss: 0.1204 - val_accuracy: 0.9667\n",
      "Epoch 36/50\n",
      "420/420 [==============================] - 1s 2ms/step - loss: 0.0508 - accuracy: 0.9851 - val_loss: 0.1274 - val_accuracy: 0.9636\n",
      "Epoch 37/50\n",
      "420/420 [==============================] - 1s 2ms/step - loss: 0.0480 - accuracy: 0.9855 - val_loss: 0.1297 - val_accuracy: 0.9629\n",
      "Epoch 38/50\n",
      "420/420 [==============================] - 1s 2ms/step - loss: 0.0445 - accuracy: 0.9870 - val_loss: 0.1374 - val_accuracy: 0.9623\n",
      "Epoch 39/50\n",
      "420/420 [==============================] - 1s 2ms/step - loss: 0.0434 - accuracy: 0.9867 - val_loss: 0.1287 - val_accuracy: 0.9654\n",
      "Epoch 40/50\n",
      "420/420 [==============================] - 1s 2ms/step - loss: 0.0403 - accuracy: 0.9879 - val_loss: 0.1299 - val_accuracy: 0.9655\n",
      "Epoch 41/50\n",
      "420/420 [==============================] - 1s 2ms/step - loss: 0.0387 - accuracy: 0.9886 - val_loss: 0.1294 - val_accuracy: 0.9657\n",
      "Epoch 42/50\n",
      "420/420 [==============================] - 1s 2ms/step - loss: 0.0372 - accuracy: 0.9892 - val_loss: 0.1302 - val_accuracy: 0.9661\n",
      "Epoch 43/50\n",
      "420/420 [==============================] - 1s 2ms/step - loss: 0.0353 - accuracy: 0.9894 - val_loss: 0.1353 - val_accuracy: 0.9649\n",
      "Epoch 44/50\n",
      "420/420 [==============================] - 1s 2ms/step - loss: 0.0335 - accuracy: 0.9902 - val_loss: 0.1278 - val_accuracy: 0.9672\n",
      "Epoch 45/50\n",
      "420/420 [==============================] - 1s 2ms/step - loss: 0.0324 - accuracy: 0.9904 - val_loss: 0.1232 - val_accuracy: 0.9687\n",
      "Epoch 46/50\n",
      "420/420 [==============================] - 1s 2ms/step - loss: 0.0289 - accuracy: 0.9917 - val_loss: 0.1377 - val_accuracy: 0.9646\n",
      "Epoch 47/50\n",
      "420/420 [==============================] - 1s 2ms/step - loss: 0.0280 - accuracy: 0.9920 - val_loss: 0.1393 - val_accuracy: 0.9658\n",
      "Epoch 48/50\n",
      "420/420 [==============================] - 1s 2ms/step - loss: 0.0290 - accuracy: 0.9910 - val_loss: 0.1396 - val_accuracy: 0.9652\n",
      "Epoch 49/50\n",
      "420/420 [==============================] - 1s 2ms/step - loss: 0.0246 - accuracy: 0.9931 - val_loss: 0.1323 - val_accuracy: 0.9669\n",
      "Epoch 50/50\n",
      "420/420 [==============================] - 1s 2ms/step - loss: 0.0238 - accuracy: 0.9929 - val_loss: 0.1355 - val_accuracy: 0.9664\n"
     ]
    }
   ],
   "source": [
    "hist = model.fit(train_dataset,\n",
    "                epochs=50,\n",
    "                validation_data=val_dataset)"
   ]
  },
  {
   "cell_type": "code",
   "execution_count": 249,
   "id": "f71619f7",
   "metadata": {
    "ExecuteTime": {
     "end_time": "2021-12-02T08:59:23.898953Z",
     "start_time": "2021-12-02T08:59:23.806954Z"
    }
   },
   "outputs": [
    {
     "data": {
      "image/png": "[encoded data removed]",
      "text/plain": [
       "<Figure size 576x504 with 1 Axes>"
      ]
     },
     "metadata": {
      "needs_background": "light"
     },
     "output_type": "display_data"
    }
   ],
   "source": [
    "plot_accuracy(50, hist)"
   ]
  },
  {
   "cell_type": "code",
   "execution_count": 231,
   "id": "8992fc1b",
   "metadata": {
    "ExecuteTime": {
     "end_time": "2021-12-02T08:56:37.727987Z",
     "start_time": "2021-12-02T08:56:37.713032Z"
    }
   },
   "outputs": [],
   "source": [
    "#call back이용\n",
    "from keras.callbacks import ReduceLROnPlateau, EarlyStopping, ModelCheckpoint\n",
    "\n",
    "lr_cb = ReduceLROnPlateau(monitor='val_loss',\n",
    "                         factor=0.2,\n",
    "                         patience=5,\n",
    "                         berbose=1)"
   ]
  },
  {
   "cell_type": "code",
   "execution_count": 255,
   "id": "ac32251c",
   "metadata": {
    "ExecuteTime": {
     "end_time": "2021-12-02T09:04:23.662058Z",
     "start_time": "2021-12-02T09:04:23.634032Z"
    }
   },
   "outputs": [],
   "source": [
    "def create_model_mnist2():\n",
    "    model = keras.Sequential()\n",
    "    model.add(keras.layers.Flatten(input_shape=(28,28)))\n",
    "    model.add(keras.layers.Dense(units=121, activation='relu'))\n",
    "    model.add(keras.layers.Dense(units=64, activation='leaky_relu'))\n",
    "    model.add(keras.layers.Dense(units=64, activation='relu'))\n",
    "    model.add(keras.layers.Dense(10, activation='softmax'))\n",
    "    return model\n",
    "\n",
    "model = create_model_mnist2()\n",
    "model.compile(optimizer=keras.optimizers.Adam(learning_rate=Learning_Rate),\n",
    "             loss='categorical_crossentropy',\n",
    "             metrics=['accuracy'])"
   ]
  },
  {
   "cell_type": "code",
   "execution_count": 257,
   "id": "62930c85",
   "metadata": {
    "ExecuteTime": {
     "end_time": "2021-12-02T09:06:19.015779Z",
     "start_time": "2021-12-02T09:04:30.444596Z"
    }
   },
   "outputs": [
    {
     "name": "stdout",
     "output_type": "stream",
     "text": [
      "Epoch 1/100\n",
      "420/420 [==============================] - 1s 2ms/step - loss: 1.1925 - accuracy: 0.6115 - val_loss: 0.6288 - val_accuracy: 0.8062 - lr: 0.0010\n",
      "Epoch 2/100\n",
      "420/420 [==============================] - 1s 2ms/step - loss: 0.5254 - accuracy: 0.8422 - val_loss: 0.4266 - val_accuracy: 0.8733 - lr: 0.0010\n",
      "Epoch 3/100\n",
      "420/420 [==============================] - 1s 2ms/step - loss: 0.4035 - accuracy: 0.8807 - val_loss: 0.3618 - val_accuracy: 0.8902 - lr: 0.0010\n",
      "Epoch 4/100\n",
      "420/420 [==============================] - 1s 2ms/step - loss: 0.3500 - accuracy: 0.8959 - val_loss: 0.3285 - val_accuracy: 0.8998 - lr: 0.0010\n",
      "Epoch 5/100\n",
      "420/420 [==============================] - 1s 2ms/step - loss: 0.3139 - accuracy: 0.9069 - val_loss: 0.2997 - val_accuracy: 0.9103 - lr: 0.0010\n",
      "Epoch 6/100\n",
      "420/420 [==============================] - 1s 2ms/step - loss: 0.2839 - accuracy: 0.9152 - val_loss: 0.2829 - val_accuracy: 0.9134 - lr: 0.0010\n",
      "Epoch 7/100\n",
      "420/420 [==============================] - 1s 2ms/step - loss: 0.2615 - accuracy: 0.9218 - val_loss: 0.2516 - val_accuracy: 0.9231 - lr: 0.0010\n",
      "Epoch 8/100\n",
      "420/420 [==============================] - 1s 2ms/step - loss: 0.2410 - accuracy: 0.9285 - val_loss: 0.2385 - val_accuracy: 0.9279 - lr: 0.0010\n",
      "Epoch 9/100\n",
      "420/420 [==============================] - 1s 2ms/step - loss: 0.2258 - accuracy: 0.9324 - val_loss: 0.2251 - val_accuracy: 0.9323 - lr: 0.0010\n",
      "Epoch 10/100\n",
      "420/420 [==============================] - 1s 2ms/step - loss: 0.2085 - accuracy: 0.9363 - val_loss: 0.2151 - val_accuracy: 0.9359 - lr: 0.0010\n",
      "Epoch 11/100\n",
      "420/420 [==============================] - 1s 2ms/step - loss: 0.1962 - accuracy: 0.9414 - val_loss: 0.2054 - val_accuracy: 0.9394 - lr: 0.0010\n",
      "Epoch 12/100\n",
      "420/420 [==============================] - 1s 2ms/step - loss: 0.1806 - accuracy: 0.9467 - val_loss: 0.1958 - val_accuracy: 0.9407 - lr: 0.0010\n",
      "Epoch 13/100\n",
      "420/420 [==============================] - 1s 2ms/step - loss: 0.1691 - accuracy: 0.9503 - val_loss: 0.1835 - val_accuracy: 0.9458 - lr: 0.0010\n",
      "Epoch 14/100\n",
      "420/420 [==============================] - 1s 2ms/step - loss: 0.1585 - accuracy: 0.9531 - val_loss: 0.1726 - val_accuracy: 0.9488 - lr: 0.0010\n",
      "Epoch 15/100\n",
      "420/420 [==============================] - 1s 2ms/step - loss: 0.1490 - accuracy: 0.9564 - val_loss: 0.1710 - val_accuracy: 0.9482 - lr: 0.0010\n",
      "Epoch 16/100\n",
      "420/420 [==============================] - 1s 2ms/step - loss: 0.1383 - accuracy: 0.9590 - val_loss: 0.1567 - val_accuracy: 0.9541 - lr: 0.0010\n",
      "Epoch 17/100\n",
      "420/420 [==============================] - 1s 2ms/step - loss: 0.1313 - accuracy: 0.9608 - val_loss: 0.1724 - val_accuracy: 0.9470 - lr: 0.0010\n",
      "Epoch 18/100\n",
      "420/420 [==============================] - 1s 2ms/step - loss: 0.1260 - accuracy: 0.9624 - val_loss: 0.1566 - val_accuracy: 0.9528 - lr: 0.0010\n",
      "Epoch 19/100\n",
      "420/420 [==============================] - 1s 2ms/step - loss: 0.1188 - accuracy: 0.9644 - val_loss: 0.1428 - val_accuracy: 0.9576 - lr: 0.0010\n",
      "Epoch 20/100\n",
      "420/420 [==============================] - 1s 2ms/step - loss: 0.1111 - accuracy: 0.9673 - val_loss: 0.1358 - val_accuracy: 0.9605 - lr: 0.0010\n",
      "Epoch 21/100\n",
      "420/420 [==============================] - 1s 2ms/step - loss: 0.1066 - accuracy: 0.9685 - val_loss: 0.1326 - val_accuracy: 0.9607 - lr: 0.0010\n",
      "Epoch 22/100\n",
      "420/420 [==============================] - 1s 2ms/step - loss: 0.1005 - accuracy: 0.9702 - val_loss: 0.1354 - val_accuracy: 0.9610 - lr: 0.0010\n",
      "Epoch 23/100\n",
      "420/420 [==============================] - 1s 2ms/step - loss: 0.0960 - accuracy: 0.9717 - val_loss: 0.1360 - val_accuracy: 0.9596 - lr: 0.0010\n",
      "Epoch 24/100\n",
      "420/420 [==============================] - 1s 2ms/step - loss: 0.0917 - accuracy: 0.9728 - val_loss: 0.1376 - val_accuracy: 0.9602 - lr: 0.0010\n",
      "Epoch 25/100\n",
      "420/420 [==============================] - 1s 2ms/step - loss: 0.0867 - accuracy: 0.9740 - val_loss: 0.1248 - val_accuracy: 0.9622 - lr: 0.0010\n",
      "Epoch 26/100\n",
      "420/420 [==============================] - 1s 2ms/step - loss: 0.0817 - accuracy: 0.9759 - val_loss: 0.1231 - val_accuracy: 0.9643 - lr: 0.0010\n",
      "Epoch 27/100\n",
      "420/420 [==============================] - 1s 2ms/step - loss: 0.0780 - accuracy: 0.9772 - val_loss: 0.1188 - val_accuracy: 0.9656 - lr: 0.0010\n",
      "Epoch 28/100\n",
      "420/420 [==============================] - 1s 2ms/step - loss: 0.0751 - accuracy: 0.9770 - val_loss: 0.1317 - val_accuracy: 0.9612 - lr: 0.0010\n",
      "Epoch 29/100\n",
      "420/420 [==============================] - 1s 2ms/step - loss: 0.0723 - accuracy: 0.9784 - val_loss: 0.1191 - val_accuracy: 0.9658 - lr: 0.0010\n",
      "Epoch 30/100\n",
      "420/420 [==============================] - 1s 2ms/step - loss: 0.0696 - accuracy: 0.9789 - val_loss: 0.1234 - val_accuracy: 0.9619 - lr: 0.0010\n",
      "Epoch 31/100\n",
      "420/420 [==============================] - 1s 2ms/step - loss: 0.0655 - accuracy: 0.9804 - val_loss: 0.1159 - val_accuracy: 0.9666 - lr: 0.0010\n",
      "Epoch 32/100\n",
      "420/420 [==============================] - 1s 2ms/step - loss: 0.0632 - accuracy: 0.9809 - val_loss: 0.1191 - val_accuracy: 0.9652 - lr: 0.0010\n",
      "Epoch 33/100\n",
      "420/420 [==============================] - 1s 2ms/step - loss: 0.0609 - accuracy: 0.9816 - val_loss: 0.1163 - val_accuracy: 0.9670 - lr: 0.0010\n",
      "Epoch 34/100\n",
      "420/420 [==============================] - 1s 2ms/step - loss: 0.0571 - accuracy: 0.9832 - val_loss: 0.1132 - val_accuracy: 0.9683 - lr: 0.0010\n",
      "Epoch 35/100\n",
      "420/420 [==============================] - 1s 2ms/step - loss: 0.0550 - accuracy: 0.9831 - val_loss: 0.1297 - val_accuracy: 0.9604 - lr: 0.0010\n",
      "Epoch 36/100\n",
      "420/420 [==============================] - 1s 2ms/step - loss: 0.0518 - accuracy: 0.9846 - val_loss: 0.1122 - val_accuracy: 0.9683 - lr: 0.0010\n",
      "Epoch 37/100\n",
      "420/420 [==============================] - 1s 2ms/step - loss: 0.0490 - accuracy: 0.9856 - val_loss: 0.1202 - val_accuracy: 0.9666 - lr: 0.0010\n",
      "Epoch 38/100\n",
      "420/420 [==============================] - 1s 2ms/step - loss: 0.0482 - accuracy: 0.9858 - val_loss: 0.1143 - val_accuracy: 0.9682 - lr: 0.0010\n",
      "Epoch 39/100\n",
      "420/420 [==============================] - 1s 2ms/step - loss: 0.0454 - accuracy: 0.9867 - val_loss: 0.1167 - val_accuracy: 0.9664 - lr: 0.0010\n",
      "Epoch 40/100\n",
      "420/420 [==============================] - 1s 2ms/step - loss: 0.0455 - accuracy: 0.9860 - val_loss: 0.1121 - val_accuracy: 0.9692 - lr: 0.0010\n",
      "Epoch 41/100\n",
      "420/420 [==============================] - 1s 2ms/step - loss: 0.0406 - accuracy: 0.9877 - val_loss: 0.1196 - val_accuracy: 0.9667 - lr: 0.0010\n",
      "Epoch 42/100\n",
      "420/420 [==============================] - 1s 2ms/step - loss: 0.0397 - accuracy: 0.9887 - val_loss: 0.1141 - val_accuracy: 0.9692 - lr: 0.0010\n",
      "Epoch 43/100\n",
      "420/420 [==============================] - 1s 2ms/step - loss: 0.0376 - accuracy: 0.9889 - val_loss: 0.1093 - val_accuracy: 0.9696 - lr: 0.0010\n",
      "Epoch 44/100\n",
      "420/420 [==============================] - 1s 2ms/step - loss: 0.0348 - accuracy: 0.9899 - val_loss: 0.1316 - val_accuracy: 0.9631 - lr: 0.0010\n",
      "Epoch 45/100\n",
      "420/420 [==============================] - 1s 2ms/step - loss: 0.0325 - accuracy: 0.9906 - val_loss: 0.1183 - val_accuracy: 0.9688 - lr: 0.0010\n",
      "Epoch 46/100\n",
      "420/420 [==============================] - 1s 2ms/step - loss: 0.0310 - accuracy: 0.9911 - val_loss: 0.1157 - val_accuracy: 0.9702 - lr: 0.0010\n",
      "Epoch 47/100\n",
      "420/420 [==============================] - 1s 2ms/step - loss: 0.0312 - accuracy: 0.9907 - val_loss: 0.1190 - val_accuracy: 0.9678 - lr: 0.0010\n",
      "Epoch 48/100\n",
      "420/420 [==============================] - 1s 2ms/step - loss: 0.0278 - accuracy: 0.9917 - val_loss: 0.1207 - val_accuracy: 0.9683 - lr: 0.0010\n",
      "Epoch 49/100\n",
      "420/420 [==============================] - 1s 2ms/step - loss: 0.0190 - accuracy: 0.9955 - val_loss: 0.1126 - val_accuracy: 0.9708 - lr: 2.0000e-04\n",
      "Epoch 50/100\n",
      "420/420 [==============================] - 1s 2ms/step - loss: 0.0179 - accuracy: 0.9962 - val_loss: 0.1125 - val_accuracy: 0.9717 - lr: 2.0000e-04\n",
      "Epoch 51/100\n",
      "420/420 [==============================] - 1s 2ms/step - loss: 0.0175 - accuracy: 0.9964 - val_loss: 0.1177 - val_accuracy: 0.9703 - lr: 2.0000e-04\n",
      "Epoch 52/100\n",
      "420/420 [==============================] - 1s 2ms/step - loss: 0.0173 - accuracy: 0.9960 - val_loss: 0.1150 - val_accuracy: 0.9718 - lr: 2.0000e-04\n",
      "Epoch 53/100\n"
     ]
    },
    {
     "name": "stdout",
     "output_type": "stream",
     "text": [
      "420/420 [==============================] - 1s 2ms/step - loss: 0.0167 - accuracy: 0.9962 - val_loss: 0.1155 - val_accuracy: 0.9714 - lr: 2.0000e-04\n",
      "Epoch 54/100\n",
      "420/420 [==============================] - 1s 2ms/step - loss: 0.0152 - accuracy: 0.9967 - val_loss: 0.1144 - val_accuracy: 0.9715 - lr: 4.0000e-05\n",
      "Epoch 55/100\n",
      "420/420 [==============================] - 1s 2ms/step - loss: 0.0150 - accuracy: 0.9969 - val_loss: 0.1147 - val_accuracy: 0.9714 - lr: 4.0000e-05\n",
      "Epoch 56/100\n",
      "420/420 [==============================] - 1s 2ms/step - loss: 0.0149 - accuracy: 0.9970 - val_loss: 0.1148 - val_accuracy: 0.9718 - lr: 4.0000e-05\n",
      "Epoch 57/100\n",
      "420/420 [==============================] - 1s 2ms/step - loss: 0.0148 - accuracy: 0.9970 - val_loss: 0.1156 - val_accuracy: 0.9714 - lr: 4.0000e-05\n",
      "Epoch 58/100\n",
      "420/420 [==============================] - 1s 2ms/step - loss: 0.0147 - accuracy: 0.9972 - val_loss: 0.1145 - val_accuracy: 0.9710 - lr: 4.0000e-05\n",
      "Epoch 59/100\n",
      "420/420 [==============================] - 1s 2ms/step - loss: 0.0144 - accuracy: 0.9971 - val_loss: 0.1148 - val_accuracy: 0.9713 - lr: 8.0000e-06\n",
      "Epoch 60/100\n",
      "420/420 [==============================] - 1s 2ms/step - loss: 0.0143 - accuracy: 0.9972 - val_loss: 0.1149 - val_accuracy: 0.9712 - lr: 8.0000e-06\n",
      "Epoch 61/100\n",
      "420/420 [==============================] - 1s 2ms/step - loss: 0.0143 - accuracy: 0.9971 - val_loss: 0.1148 - val_accuracy: 0.9714 - lr: 8.0000e-06\n",
      "Epoch 62/100\n",
      "420/420 [==============================] - 1s 2ms/step - loss: 0.0143 - accuracy: 0.9972 - val_loss: 0.1150 - val_accuracy: 0.9711 - lr: 8.0000e-06\n",
      "Epoch 63/100\n",
      "420/420 [==============================] - 1s 2ms/step - loss: 0.0143 - accuracy: 0.9972 - val_loss: 0.1149 - val_accuracy: 0.9714 - lr: 8.0000e-06\n",
      "Epoch 64/100\n",
      "420/420 [==============================] - 1s 2ms/step - loss: 0.0142 - accuracy: 0.9972 - val_loss: 0.1149 - val_accuracy: 0.9714 - lr: 1.6000e-06\n",
      "Epoch 65/100\n",
      "420/420 [==============================] - 1s 2ms/step - loss: 0.0142 - accuracy: 0.9972 - val_loss: 0.1149 - val_accuracy: 0.9713 - lr: 1.6000e-06\n",
      "Epoch 66/100\n",
      "420/420 [==============================] - 1s 2ms/step - loss: 0.0142 - accuracy: 0.9972 - val_loss: 0.1149 - val_accuracy: 0.9714 - lr: 1.6000e-06\n",
      "Epoch 67/100\n",
      "420/420 [==============================] - 1s 2ms/step - loss: 0.0142 - accuracy: 0.9972 - val_loss: 0.1149 - val_accuracy: 0.9714 - lr: 1.6000e-06\n",
      "Epoch 68/100\n",
      "420/420 [==============================] - 1s 2ms/step - loss: 0.0142 - accuracy: 0.9972 - val_loss: 0.1149 - val_accuracy: 0.9713 - lr: 1.6000e-06\n",
      "Epoch 69/100\n",
      "420/420 [==============================] - 1s 2ms/step - loss: 0.0141 - accuracy: 0.9972 - val_loss: 0.1149 - val_accuracy: 0.9713 - lr: 3.2000e-07\n",
      "Epoch 70/100\n",
      "420/420 [==============================] - 1s 2ms/step - loss: 0.0141 - accuracy: 0.9972 - val_loss: 0.1149 - val_accuracy: 0.9713 - lr: 3.2000e-07\n",
      "Epoch 71/100\n",
      "420/420 [==============================] - 1s 2ms/step - loss: 0.0141 - accuracy: 0.9972 - val_loss: 0.1149 - val_accuracy: 0.9713 - lr: 3.2000e-07\n",
      "Epoch 72/100\n",
      "420/420 [==============================] - 1s 2ms/step - loss: 0.0141 - accuracy: 0.9972 - val_loss: 0.1149 - val_accuracy: 0.9713 - lr: 3.2000e-07\n",
      "Epoch 73/100\n",
      "420/420 [==============================] - 1s 2ms/step - loss: 0.0141 - accuracy: 0.9972 - val_loss: 0.1149 - val_accuracy: 0.9713 - lr: 3.2000e-07\n",
      "Epoch 74/100\n",
      "420/420 [==============================] - 1s 2ms/step - loss: 0.0141 - accuracy: 0.9972 - val_loss: 0.1149 - val_accuracy: 0.9713 - lr: 6.4000e-08\n",
      "Epoch 75/100\n",
      "420/420 [==============================] - 1s 2ms/step - loss: 0.0141 - accuracy: 0.9972 - val_loss: 0.1149 - val_accuracy: 0.9713 - lr: 6.4000e-08\n",
      "Epoch 76/100\n",
      "420/420 [==============================] - 1s 2ms/step - loss: 0.0141 - accuracy: 0.9972 - val_loss: 0.1149 - val_accuracy: 0.9713 - lr: 6.4000e-08\n",
      "Epoch 77/100\n",
      "420/420 [==============================] - 1s 2ms/step - loss: 0.0141 - accuracy: 0.9972 - val_loss: 0.1149 - val_accuracy: 0.9713 - lr: 6.4000e-08\n",
      "Epoch 78/100\n",
      "420/420 [==============================] - 1s 2ms/step - loss: 0.0141 - accuracy: 0.9972 - val_loss: 0.1149 - val_accuracy: 0.9713 - lr: 6.4000e-08\n",
      "Epoch 79/100\n",
      "420/420 [==============================] - 1s 2ms/step - loss: 0.0141 - accuracy: 0.9972 - val_loss: 0.1149 - val_accuracy: 0.9713 - lr: 1.2800e-08\n",
      "Epoch 80/100\n",
      "420/420 [==============================] - 1s 2ms/step - loss: 0.0141 - accuracy: 0.9972 - val_loss: 0.1149 - val_accuracy: 0.9713 - lr: 1.2800e-08\n",
      "Epoch 81/100\n",
      "420/420 [==============================] - 1s 2ms/step - loss: 0.0141 - accuracy: 0.9972 - val_loss: 0.1149 - val_accuracy: 0.9713 - lr: 1.2800e-08\n",
      "Epoch 82/100\n",
      "420/420 [==============================] - 1s 2ms/step - loss: 0.0141 - accuracy: 0.9972 - val_loss: 0.1149 - val_accuracy: 0.9713 - lr: 1.2800e-08\n",
      "Epoch 83/100\n",
      "420/420 [==============================] - 1s 2ms/step - loss: 0.0141 - accuracy: 0.9972 - val_loss: 0.1149 - val_accuracy: 0.9713 - lr: 1.2800e-08\n",
      "Epoch 84/100\n",
      "420/420 [==============================] - 1s 2ms/step - loss: 0.0141 - accuracy: 0.9972 - val_loss: 0.1149 - val_accuracy: 0.9713 - lr: 2.5600e-09\n",
      "Epoch 85/100\n",
      "420/420 [==============================] - 1s 2ms/step - loss: 0.0141 - accuracy: 0.9972 - val_loss: 0.1149 - val_accuracy: 0.9713 - lr: 2.5600e-09\n",
      "Epoch 86/100\n",
      "420/420 [==============================] - 1s 2ms/step - loss: 0.0141 - accuracy: 0.9972 - val_loss: 0.1149 - val_accuracy: 0.9713 - lr: 2.5600e-09\n",
      "Epoch 87/100\n",
      "420/420 [==============================] - 1s 2ms/step - loss: 0.0141 - accuracy: 0.9972 - val_loss: 0.1149 - val_accuracy: 0.9713 - lr: 2.5600e-09\n",
      "Epoch 88/100\n",
      "420/420 [==============================] - 1s 2ms/step - loss: 0.0141 - accuracy: 0.9972 - val_loss: 0.1149 - val_accuracy: 0.9713 - lr: 2.5600e-09\n",
      "Epoch 89/100\n",
      "420/420 [==============================] - 1s 2ms/step - loss: 0.0141 - accuracy: 0.9972 - val_loss: 0.1149 - val_accuracy: 0.9713 - lr: 5.1200e-10\n",
      "Epoch 90/100\n",
      "420/420 [==============================] - 1s 2ms/step - loss: 0.0141 - accuracy: 0.9972 - val_loss: 0.1149 - val_accuracy: 0.9713 - lr: 5.1200e-10\n",
      "Epoch 91/100\n",
      "420/420 [==============================] - 1s 2ms/step - loss: 0.0141 - accuracy: 0.9972 - val_loss: 0.1149 - val_accuracy: 0.9713 - lr: 5.1200e-10\n",
      "Epoch 92/100\n",
      "420/420 [==============================] - 1s 2ms/step - loss: 0.0141 - accuracy: 0.9972 - val_loss: 0.1149 - val_accuracy: 0.9713 - lr: 5.1200e-10\n",
      "Epoch 93/100\n",
      "420/420 [==============================] - 1s 2ms/step - loss: 0.0141 - accuracy: 0.9972 - val_loss: 0.1149 - val_accuracy: 0.9713 - lr: 5.1200e-10\n",
      "Epoch 94/100\n",
      "420/420 [==============================] - 1s 2ms/step - loss: 0.0141 - accuracy: 0.9972 - val_loss: 0.1149 - val_accuracy: 0.9713 - lr: 1.0240e-10\n",
      "Epoch 95/100\n",
      "420/420 [==============================] - 1s 2ms/step - loss: 0.0141 - accuracy: 0.9972 - val_loss: 0.1149 - val_accuracy: 0.9713 - lr: 1.0240e-10\n",
      "Epoch 96/100\n",
      "420/420 [==============================] - 1s 2ms/step - loss: 0.0141 - accuracy: 0.9972 - val_loss: 0.1149 - val_accuracy: 0.9713 - lr: 1.0240e-10\n",
      "Epoch 97/100\n",
      "420/420 [==============================] - 1s 2ms/step - loss: 0.0141 - accuracy: 0.9972 - val_loss: 0.1149 - val_accuracy: 0.9713 - lr: 1.0240e-10\n",
      "Epoch 98/100\n",
      "420/420 [==============================] - 1s 2ms/step - loss: 0.0141 - accuracy: 0.9972 - val_loss: 0.1149 - val_accuracy: 0.9713 - lr: 1.0240e-10\n",
      "Epoch 99/100\n",
      "420/420 [==============================] - 1s 2ms/step - loss: 0.0141 - accuracy: 0.9972 - val_loss: 0.1149 - val_accuracy: 0.9713 - lr: 2.0480e-11\n",
      "Epoch 100/100\n",
      "420/420 [==============================] - 1s 2ms/step - loss: 0.0141 - accuracy: 0.9972 - val_loss: 0.1149 - val_accuracy: 0.9713 - lr: 2.0480e-11\n"
     ]
    }
   ],
   "source": [
    "hist = model.fit(train_dataset,\n",
    "                epochs=N_Epochs,\n",
    "                validation_data=val_dataset,\n",
    "                callbacks=[lr_cb]) #학습때 처리할 callback들 등록\n",
    "                                   #여러개 기능들을 callback에 등록할수 있으므로 리스트 형태"
   ]
  },
  {
   "cell_type": "code",
   "execution_count": 259,
   "id": "b1d6d934",
   "metadata": {
    "ExecuteTime": {
     "end_time": "2021-12-02T09:09:09.511268Z",
     "start_time": "2021-12-02T09:09:09.186224Z"
    }
   },
   "outputs": [
    {
     "name": "stdout",
     "output_type": "stream",
     "text": [
      "313/313 [==============================] - 0s 747us/step - loss: 51.9552 - accuracy: 0.9072\n"
     ]
    }
   ],
   "source": [
    "acc, loss = model.evaluate(X_test, y_test)"
   ]
  }
 ],
 "metadata": {
  "kernelspec": {
   "display_name": "Python 3 (ipykernel)",
   "language": "python",
   "name": "python3"
  },
  "language_info": {
   "codemirror_mode": {
    "name": "ipython",
    "version": 3
   },
   "file_extension": ".py",
   "mimetype": "text/x-python",
   "name": "python",
   "nbconvert_exporter": "python",
   "pygments_lexer": "ipython3",
   "version": "3.9.7"
  },
  "toc": {
   "base_numbering": 1,
   "nav_menu": {},
   "number_sections": true,
   "sideBar": true,
   "skip_h1_title": false,
   "title_cell": "Table of Contents",
   "title_sidebar": "Contents",
   "toc_cell": false,
   "toc_position": {},
   "toc_section_display": true,
   "toc_window_display": false
  },
  "varInspector": {
   "cols": {
    "lenName": 16,
    "lenType": 16,
    "lenVar": 40
   },
   "kernels_config": {
    "python": {
     "delete_cmd_postfix": "",
     "delete_cmd_prefix": "del ",
     "library": "var_list.py",
     "varRefreshCmd": "print(var_dic_list())"
    },
    "r": {
     "delete_cmd_postfix": ") ",
     "delete_cmd_prefix": "rm(",
     "library": "var_list.r",
     "varRefreshCmd": "cat(var_dic_list()) "
    }
   },
   "types_to_exclude": [
    "module",
    "function",
    "builtin_function_or_method",
    "instance",
    "_Feature"
   ],
   "window_display": false
  }
 },
 "nbformat": 4,
 "nbformat_minor": 5
}
