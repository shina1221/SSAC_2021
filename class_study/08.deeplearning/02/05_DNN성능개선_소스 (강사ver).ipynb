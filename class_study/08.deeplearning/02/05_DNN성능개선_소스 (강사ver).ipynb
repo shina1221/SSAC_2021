{
 "cells": [
  {
   "cell_type": "code",
   "execution_count": 1,
   "id": "cc1c5f3e",
   "metadata": {
    "ExecuteTime": {
     "end_time": "2021-12-02T01:05:14.718917Z",
     "start_time": "2021-12-02T01:05:06.704317Z"
    }
   },
   "outputs": [],
   "source": [
    "import numpy as np\n",
    "import tensorflow as tf\n",
    "from tensorflow import keras\n",
    "from tensorflow.keras import layers\n",
    "\n",
    "import matplotlib.pyplot as plt\n",
    "import matplotlib as mpl"
   ]
  },
  {
   "cell_type": "code",
   "execution_count": 2,
   "id": "356bca1a",
   "metadata": {
    "ExecuteTime": {
     "end_time": "2021-12-02T01:07:39.401071Z",
     "start_time": "2021-12-02T01:07:39.389106Z"
    }
   },
   "outputs": [],
   "source": [
    "mpl.rcParams['font.family'] = \"malgun gothic\"\n",
    "mpl.rcParams['axes.unicode_minus'] = False\n",
    "mpl.rcParams['axes.titlesize'] = 20"
   ]
  },
  {
   "cell_type": "code",
   "execution_count": 3,
   "id": "346cdc4d",
   "metadata": {
    "ExecuteTime": {
     "end_time": "2021-12-02T01:08:16.871628Z",
     "start_time": "2021-12-02T01:08:16.860645Z"
    }
   },
   "outputs": [],
   "source": [
    "np.random.seed(0)\n",
    "tf.random.set_seed(0)"
   ]
  },
  {
   "cell_type": "markdown",
   "id": "42b12364",
   "metadata": {},
   "source": [
    "#### 학습결과 시각화 함수"
   ]
  },
  {
   "cell_type": "code",
   "execution_count": 4,
   "id": "fab503f6",
   "metadata": {
    "ExecuteTime": {
     "end_time": "2021-12-02T01:13:00.219899Z",
     "start_time": "2021-12-02T01:13:00.197957Z"
    }
   },
   "outputs": [],
   "source": [
    "def plot_loss(epochs, history):\n",
    "    \"\"\"\n",
    "    학습 loss를 시각화 하는 함수\n",
    "    \"\"\"\n",
    "    plt.figure(figsize=(8,7))\n",
    "    plt.plot(range(1, epochs+1), history.history['loss'], label='Train Loss')\n",
    "    plt.plot(range(1, epochs+1), history.history['val_loss'], label='Validation Loss')\n",
    "    plt.title(\"Loss\")\n",
    "    plt.xlabel('Epochs')\n",
    "    plt.ylabel('Loss')\n",
    "    plt.legend()\n",
    "    plt.show()    "
   ]
  },
  {
   "cell_type": "code",
   "execution_count": 5,
   "id": "62e40346",
   "metadata": {
    "ExecuteTime": {
     "end_time": "2021-12-02T01:15:31.594508Z",
     "start_time": "2021-12-02T01:15:31.581545Z"
    }
   },
   "outputs": [],
   "source": [
    "def plot_accuracy(epochs, history):\n",
    "    \"\"\"\n",
    "    학습 Accuracy를 시각화 하는 함수\n",
    "    \"\"\"\n",
    "    plt.figure(figsize=(8,7))\n",
    "    plt.plot(range(1, epochs+1), history.history['accuracy'], label='Train Accuracy')\n",
    "    plt.plot(range(1, epochs+1), history.history['val_accuracy'], \n",
    "                                                 label='Validation Accuracy')\n",
    "    plt.title(\"Accuracy\")\n",
    "    plt.xlabel('Epochs')\n",
    "    plt.ylabel('Accuracy')\n",
    "    plt.legend()\n",
    "    plt.show()  "
   ]
  },
  {
   "cell_type": "markdown",
   "id": "b1e9a352",
   "metadata": {},
   "source": [
    "#### 데이터 로딩"
   ]
  },
  {
   "cell_type": "code",
   "execution_count": 6,
   "id": "d2c7fccd",
   "metadata": {
    "ExecuteTime": {
     "end_time": "2021-12-02T01:16:29.368492Z",
     "start_time": "2021-12-02T01:16:28.886161Z"
    }
   },
   "outputs": [],
   "source": [
    "(train_image, train_label), (test_image, test_label) = keras.datasets.mnist.load_data()"
   ]
  },
  {
   "cell_type": "code",
   "execution_count": 7,
   "id": "43b13e86",
   "metadata": {
    "ExecuteTime": {
     "end_time": "2021-12-02T01:16:49.864290Z",
     "start_time": "2021-12-02T01:16:49.845824Z"
    }
   },
   "outputs": [
    {
     "data": {
      "text/plain": [
       "((60000, 28, 28), (10000, 28, 28))"
      ]
     },
     "execution_count": 7,
     "metadata": {},
     "output_type": "execute_result"
    }
   ],
   "source": [
    "train_image.shape, test_image.shape"
   ]
  },
  {
   "cell_type": "markdown",
   "id": "38ce2e89",
   "metadata": {},
   "source": [
    "#### 하이퍼파라미터 변수 정의"
   ]
  },
  {
   "cell_type": "code",
   "execution_count": 8,
   "id": "a41ffcf5",
   "metadata": {
    "ExecuteTime": {
     "end_time": "2021-12-02T01:18:42.762764Z",
     "start_time": "2021-12-02T01:18:42.748802Z"
    }
   },
   "outputs": [],
   "source": [
    "LEARNING_RATE = 0.001\n",
    "N_EPOCHS = 20\n",
    "N_BATCHS = 100\n",
    "\n",
    "# 데이터 개수\n",
    "N_TRAIN = train_image.shape[0]\n",
    "N_TEST = test_image.shape[0]"
   ]
  },
  {
   "cell_type": "markdown",
   "id": "c3287797",
   "metadata": {},
   "source": [
    "#### 전처리\n",
    "- image : 0 ~ 1 사이의 값으로 정규화\n",
    "- label : one hot encoding (다중분류문제이므로)"
   ]
  },
  {
   "cell_type": "code",
   "execution_count": 9,
   "id": "53e505cb",
   "metadata": {
    "ExecuteTime": {
     "end_time": "2021-12-02T01:20:28.839802Z",
     "start_time": "2021-12-02T01:20:28.476837Z"
    }
   },
   "outputs": [],
   "source": [
    "X_train = (train_image/255.0).astype(\"float32\")\n",
    "X_test = (test_image/255.0).astype('float32')"
   ]
  },
  {
   "cell_type": "code",
   "execution_count": 10,
   "id": "22a24d90",
   "metadata": {
    "ExecuteTime": {
     "end_time": "2021-12-02T01:20:59.712461Z",
     "start_time": "2021-12-02T01:20:59.701490Z"
    }
   },
   "outputs": [],
   "source": [
    "y_train = keras.utils.to_categorical(train_label)\n",
    "y_test = keras.utils.to_categorical(test_label)"
   ]
  },
  {
   "cell_type": "code",
   "execution_count": 11,
   "id": "2f84d781",
   "metadata": {
    "ExecuteTime": {
     "end_time": "2021-12-02T01:21:35.315669Z",
     "start_time": "2021-12-02T01:21:35.246845Z"
    }
   },
   "outputs": [
    {
     "data": {
      "text/plain": [
       "(0.0, 1.0, 0.0, 1.0)"
      ]
     },
     "execution_count": 11,
     "metadata": {},
     "output_type": "execute_result"
    }
   ],
   "source": [
    "#확인\n",
    "np.min(X_train), np.max(X_train), np.min(X_test), np.max(X_test)"
   ]
  },
  {
   "cell_type": "code",
   "execution_count": 12,
   "id": "caf088f1",
   "metadata": {
    "ExecuteTime": {
     "end_time": "2021-12-02T01:21:57.812568Z",
     "start_time": "2021-12-02T01:21:57.800601Z"
    }
   },
   "outputs": [
    {
     "data": {
      "text/plain": [
       "((60000, 10), (10000, 10))"
      ]
     },
     "execution_count": 12,
     "metadata": {},
     "output_type": "execute_result"
    }
   ],
   "source": [
    "y_train.shape, y_test.shape"
   ]
  },
  {
   "cell_type": "markdown",
   "id": "b0d202b6",
   "metadata": {},
   "source": [
    "#### Dataset 생성"
   ]
  },
  {
   "cell_type": "code",
   "execution_count": 13,
   "id": "03dbad6c",
   "metadata": {
    "ExecuteTime": {
     "end_time": "2021-12-02T01:25:18.042033Z",
     "start_time": "2021-12-02T01:25:17.828740Z"
    }
   },
   "outputs": [],
   "source": [
    "train_dataset = tf.data.Dataset.from_tensor_slices((X_train, y_train))\\\n",
    "                               .shuffle(N_TRAIN)\\\n",
    "                               .batch(N_BATCHS)\n",
    "\n",
    "test_dataset = tf.data.Dataset.from_tensor_slices((X_test, y_test))\\\n",
    "                              .batch(N_BATCHS)"
   ]
  },
  {
   "cell_type": "code",
   "execution_count": null,
   "id": "f0f43f85",
   "metadata": {},
   "outputs": [],
   "source": []
  },
  {
   "cell_type": "markdown",
   "id": "2f5572ac",
   "metadata": {},
   "source": [
    "# 모델의 크기 변경"
   ]
  },
  {
   "cell_type": "code",
   "execution_count": 14,
   "id": "91af98cd",
   "metadata": {
    "ExecuteTime": {
     "end_time": "2021-12-02T02:18:21.191909Z",
     "start_time": "2021-12-02T02:18:21.182933Z"
    }
   },
   "outputs": [],
   "source": [
    "# 작은 모델\n",
    "def create_small_model():\n",
    "    #모델생성\n",
    "    model = keras.Sequential()\n",
    "    # 레이어 추가 - Hidden\n",
    "    model.add(layers.Flatten(input_shape=(28,28)))\n",
    "    model.add(layers.Dense(units=8, activation='relu'))\n",
    "    # 출력레이어\n",
    "    model.add(layers.Dense(units=10, activation='softmax'))\n",
    "    return model"
   ]
  },
  {
   "cell_type": "code",
   "execution_count": 16,
   "id": "c64b36dc",
   "metadata": {
    "ExecuteTime": {
     "end_time": "2021-12-02T02:20:51.122664Z",
     "start_time": "2021-12-02T02:20:51.033729Z"
    }
   },
   "outputs": [],
   "source": [
    "# 모델 생성, 컴파일\n",
    "small_model =  create_small_model()\n",
    "small_model.compile(optimizer=keras.optimizers.Adam(learning_rate=LEARNING_RATE),\n",
    "                    loss='categorical_crossentropy',\n",
    "                    metrics=['accuracy'])"
   ]
  },
  {
   "cell_type": "code",
   "execution_count": 17,
   "id": "df9bfbef",
   "metadata": {
    "ExecuteTime": {
     "end_time": "2021-12-02T02:21:03.744453Z",
     "start_time": "2021-12-02T02:21:03.731487Z"
    }
   },
   "outputs": [
    {
     "name": "stdout",
     "output_type": "stream",
     "text": [
      "Model: \"sequential_1\"\n",
      "_________________________________________________________________\n",
      " Layer (type)                Output Shape              Param #   \n",
      "=================================================================\n",
      " flatten_1 (Flatten)         (None, 784)               0         \n",
      "                                                                 \n",
      " dense_2 (Dense)             (None, 8)                 6280      \n",
      "                                                                 \n",
      " dense_3 (Dense)             (None, 10)                90        \n",
      "                                                                 \n",
      "=================================================================\n",
      "Total params: 6,370\n",
      "Trainable params: 6,370\n",
      "Non-trainable params: 0\n",
      "_________________________________________________________________\n"
     ]
    }
   ],
   "source": [
    "small_model.summary()"
   ]
  },
  {
   "cell_type": "code",
   "execution_count": 18,
   "id": "a52212cf",
   "metadata": {
    "ExecuteTime": {
     "end_time": "2021-12-02T02:22:29.590855Z",
     "start_time": "2021-12-02T02:22:29.034632Z"
    }
   },
   "outputs": [
    {
     "data": {
      "image/png": "[encoded data removed]",
      "text/plain": [
       "<IPython.core.display.Image object>"
      ]
     },
     "execution_count": 18,
     "metadata": {},
     "output_type": "execute_result"
    }
   ],
   "source": [
    "keras.utils.plot_model(small_model, show_shapes=True)"
   ]
  },
  {
   "cell_type": "code",
   "execution_count": 19,
   "id": "d87885a6",
   "metadata": {
    "ExecuteTime": {
     "end_time": "2021-12-02T02:25:17.238790Z",
     "start_time": "2021-12-02T02:24:04.054445Z"
    },
    "scrolled": true
   },
   "outputs": [
    {
     "name": "stdout",
     "output_type": "stream",
     "text": [
      "Epoch 1/20\n",
      "600/600 [==============================] - 3s 4ms/step - loss: 0.8624 - accuracy: 0.7400 - val_loss: 0.4291 - val_accuracy: 0.8833\n",
      "Epoch 2/20\n",
      "600/600 [==============================] - 2s 4ms/step - loss: 0.3977 - accuracy: 0.8875 - val_loss: 0.3442 - val_accuracy: 0.9017\n",
      "Epoch 3/20\n",
      "600/600 [==============================] - 3s 4ms/step - loss: 0.3420 - accuracy: 0.9042 - val_loss: 0.3125 - val_accuracy: 0.9144\n",
      "Epoch 4/20\n",
      "600/600 [==============================] - 3s 4ms/step - loss: 0.3169 - accuracy: 0.9118 - val_loss: 0.3020 - val_accuracy: 0.9150\n",
      "Epoch 5/20\n",
      "600/600 [==============================] - 2s 4ms/step - loss: 0.3028 - accuracy: 0.9155 - val_loss: 0.2940 - val_accuracy: 0.9194\n",
      "Epoch 6/20\n",
      "600/600 [==============================] - 3s 4ms/step - loss: 0.2942 - accuracy: 0.9181 - val_loss: 0.2935 - val_accuracy: 0.9176\n",
      "Epoch 7/20\n",
      "600/600 [==============================] - 3s 5ms/step - loss: 0.2881 - accuracy: 0.9201 - val_loss: 0.2869 - val_accuracy: 0.9199\n",
      "Epoch 8/20\n",
      "600/600 [==============================] - 4s 6ms/step - loss: 0.2831 - accuracy: 0.9214 - val_loss: 0.2841 - val_accuracy: 0.9212\n",
      "Epoch 9/20\n",
      "600/600 [==============================] - 3s 5ms/step - loss: 0.2795 - accuracy: 0.9226 - val_loss: 0.2817 - val_accuracy: 0.9229\n",
      "Epoch 10/20\n",
      "600/600 [==============================] - 3s 5ms/step - loss: 0.2763 - accuracy: 0.9232 - val_loss: 0.2829 - val_accuracy: 0.9207\n",
      "Epoch 11/20\n",
      "600/600 [==============================] - 3s 5ms/step - loss: 0.2739 - accuracy: 0.9251 - val_loss: 0.2879 - val_accuracy: 0.9209\n",
      "Epoch 12/20\n",
      "600/600 [==============================] - 4s 7ms/step - loss: 0.2719 - accuracy: 0.9250 - val_loss: 0.2797 - val_accuracy: 0.9227\n",
      "Epoch 13/20\n",
      "600/600 [==============================] - 3s 5ms/step - loss: 0.2693 - accuracy: 0.9259 - val_loss: 0.2839 - val_accuracy: 0.9228\n",
      "Epoch 14/20\n",
      "600/600 [==============================] - 3s 5ms/step - loss: 0.2674 - accuracy: 0.9259 - val_loss: 0.2849 - val_accuracy: 0.9220\n",
      "Epoch 15/20\n",
      "600/600 [==============================] - 3s 5ms/step - loss: 0.2661 - accuracy: 0.9263 - val_loss: 0.2820 - val_accuracy: 0.9236\n",
      "Epoch 16/20\n",
      "600/600 [==============================] - 4s 6ms/step - loss: 0.2645 - accuracy: 0.9262 - val_loss: 0.2816 - val_accuracy: 0.9229\n",
      "Epoch 17/20\n",
      "600/600 [==============================] - 3s 5ms/step - loss: 0.2631 - accuracy: 0.9266 - val_loss: 0.2812 - val_accuracy: 0.9221\n",
      "Epoch 18/20\n",
      "600/600 [==============================] - 4s 6ms/step - loss: 0.2616 - accuracy: 0.9265 - val_loss: 0.2803 - val_accuracy: 0.9244racy - ETA: 0s - loss: 0.2615 - ac\n",
      "Epoch 19/20\n",
      "600/600 [==============================] - 3s 5ms/step - loss: 0.2598 - accuracy: 0.9284 - val_loss: 0.2842 - val_accuracy: 0.9222\n",
      "Epoch 20/20\n",
      "600/600 [==============================] - 4s 7ms/step - loss: 0.2586 - accuracy: 0.9282 - val_loss: 0.2785 - val_accuracy: 0.9234\n"
     ]
    }
   ],
   "source": [
    "hist = small_model.fit(train_dataset, epochs=N_EPOCHS, \n",
    "                       validation_data=test_dataset)"
   ]
  },
  {
   "cell_type": "code",
   "execution_count": 20,
   "id": "609b2a63",
   "metadata": {
    "ExecuteTime": {
     "end_time": "2021-12-02T02:28:46.494566Z",
     "start_time": "2021-12-02T02:28:46.212219Z"
    }
   },
   "outputs": [
    {
     "data": {
      "image/png": "[encoded data removed]",
      "text/plain": [
       "<Figure size 576x504 with 1 Axes>"
      ]
     },
     "metadata": {
      "needs_background": "light"
     },
     "output_type": "display_data"
    }
   ],
   "source": [
    "plot_loss(N_EPOCHS, hist)"
   ]
  },
  {
   "cell_type": "code",
   "execution_count": 21,
   "id": "1158f45c",
   "metadata": {
    "ExecuteTime": {
     "end_time": "2021-12-02T02:29:22.782421Z",
     "start_time": "2021-12-02T02:29:22.451025Z"
    }
   },
   "outputs": [
    {
     "data": {
      "image/png": "[encoded data removed]",
      "text/plain": [
       "<Figure size 576x504 with 1 Axes>"
      ]
     },
     "metadata": {
      "needs_background": "light"
     },
     "output_type": "display_data"
    }
   ],
   "source": [
    "plot_accuracy(N_EPOCHS, hist)"
   ]
  },
  {
   "cell_type": "code",
   "execution_count": 23,
   "id": "41dd4c49",
   "metadata": {
    "ExecuteTime": {
     "end_time": "2021-12-02T02:34:37.778103Z",
     "start_time": "2021-12-02T02:34:37.761151Z"
    }
   },
   "outputs": [],
   "source": [
    "# 모델의 크기를 크게\n",
    "# MLP - units 개수 : 2제곱, 큰값에서 점점 줄여나간다.\n",
    "def create_bigger_model():\n",
    "    model = keras.Sequential()\n",
    "    model.add(layers.Flatten(input_shape=(28,28)))\n",
    "    model.add(layers.Dense(units=256, activation='relu'))\n",
    "    model.add(layers.Dense(units=256, activation='relu'))\n",
    "    model.add(layers.Dense(units=128, activation='relu'))\n",
    "    model.add(layers.Dense(units=128, activation='relu'))\n",
    "    #출력\n",
    "    model.add(layers.Dense(units=10, activation='softmax'))\n",
    "    return model"
   ]
  },
  {
   "cell_type": "code",
   "execution_count": 24,
   "id": "4ffd1b89",
   "metadata": {
    "ExecuteTime": {
     "end_time": "2021-12-02T02:35:38.888561Z",
     "start_time": "2021-12-02T02:35:38.748568Z"
    }
   },
   "outputs": [],
   "source": [
    "bigger_model = create_bigger_model()\n",
    "bigger_model.compile(optimizer=keras.optimizers.Adam(learning_rate=LEARNING_RATE),\n",
    "                     loss='categorical_crossentropy',\n",
    "                     metrics=['accuracy'])"
   ]
  },
  {
   "cell_type": "code",
   "execution_count": 25,
   "id": "243c1794",
   "metadata": {
    "ExecuteTime": {
     "end_time": "2021-12-02T02:35:59.824765Z",
     "start_time": "2021-12-02T02:35:59.805816Z"
    },
    "collapsed": true
   },
   "outputs": [
    {
     "name": "stdout",
     "output_type": "stream",
     "text": [
      "Model: \"sequential_2\"\n",
      "_________________________________________________________________\n",
      " Layer (type)                Output Shape              Param #   \n",
      "=================================================================\n",
      " flatten_2 (Flatten)         (None, 784)               0         \n",
      "                                                                 \n",
      " dense_4 (Dense)             (None, 256)               200960    \n",
      "                                                                 \n",
      " dense_5 (Dense)             (None, 256)               65792     \n",
      "                                                                 \n",
      " dense_6 (Dense)             (None, 128)               32896     \n",
      "                                                                 \n",
      " dense_7 (Dense)             (None, 128)               16512     \n",
      "                                                                 \n",
      " dense_8 (Dense)             (None, 10)                1290      \n",
      "                                                                 \n",
      "=================================================================\n",
      "Total params: 317,450\n",
      "Trainable params: 317,450\n",
      "Non-trainable params: 0\n",
      "_________________________________________________________________\n"
     ]
    }
   ],
   "source": [
    "bigger_model.summary()"
   ]
  },
  {
   "cell_type": "code",
   "execution_count": 27,
   "id": "42e38a13",
   "metadata": {
    "ExecuteTime": {
     "end_time": "2021-12-02T02:39:53.628463Z",
     "start_time": "2021-12-02T02:38:01.340623Z"
    },
    "collapsed": true
   },
   "outputs": [
    {
     "name": "stdout",
     "output_type": "stream",
     "text": [
      "Epoch 1/20\n",
      "600/600 [==============================] - 7s 9ms/step - loss: 0.2464 - accuracy: 0.9264 - val_loss: 0.1270 - val_accuracy: 0.9579\n",
      "Epoch 2/20\n",
      "600/600 [==============================] - 6s 10ms/step - loss: 0.0943 - accuracy: 0.9704 - val_loss: 0.0968 - val_accuracy: 0.9697\n",
      "Epoch 3/20\n",
      "600/600 [==============================] - 6s 10ms/step - loss: 0.0657 - accuracy: 0.9795 - val_loss: 0.0846 - val_accuracy: 0.9741\n",
      "Epoch 4/20\n",
      "600/600 [==============================] - 6s 10ms/step - loss: 0.0490 - accuracy: 0.9841 - val_loss: 0.0741 - val_accuracy: 0.9770\n",
      "Epoch 5/20\n",
      "600/600 [==============================] - 6s 10ms/step - loss: 0.0401 - accuracy: 0.9869 - val_loss: 0.0760 - val_accuracy: 0.9785\n",
      "Epoch 6/20\n",
      "600/600 [==============================] - 6s 10ms/step - loss: 0.0318 - accuracy: 0.9899 - val_loss: 0.0756 - val_accuracy: 0.9788\n",
      "Epoch 7/20\n",
      "600/600 [==============================] - 6s 10ms/step - loss: 0.0292 - accuracy: 0.9907 - val_loss: 0.0752 - val_accuracy: 0.9785\n",
      "Epoch 8/20\n",
      "600/600 [==============================] - 6s 10ms/step - loss: 0.0236 - accuracy: 0.9924 - val_loss: 0.0770 - val_accuracy: 0.9788\n",
      "Epoch 9/20\n",
      "600/600 [==============================] - 6s 9ms/step - loss: 0.0240 - accuracy: 0.9919 - val_loss: 0.0988 - val_accuracy: 0.9768\n",
      "Epoch 10/20\n",
      "600/600 [==============================] - 5s 9ms/step - loss: 0.0215 - accuracy: 0.9932 - val_loss: 0.0849 - val_accuracy: 0.9778\n",
      "Epoch 11/20\n",
      "600/600 [==============================] - 5s 7ms/step - loss: 0.0186 - accuracy: 0.9941 - val_loss: 0.0861 - val_accuracy: 0.9790\n",
      "Epoch 12/20\n",
      "600/600 [==============================] - 5s 8ms/step - loss: 0.0175 - accuracy: 0.9941 - val_loss: 0.0927 - val_accuracy: 0.9781\n",
      "Epoch 13/20\n",
      "600/600 [==============================] - 5s 8ms/step - loss: 0.0151 - accuracy: 0.9951 - val_loss: 0.1114 - val_accuracy: 0.9773\n",
      "Epoch 14/20\n",
      "600/600 [==============================] - 5s 7ms/step - loss: 0.0134 - accuracy: 0.9954 - val_loss: 0.0862 - val_accuracy: 0.9810\n",
      "Epoch 15/20\n",
      "600/600 [==============================] - 5s 7ms/step - loss: 0.0143 - accuracy: 0.9955 - val_loss: 0.0866 - val_accuracy: 0.9800\n",
      "Epoch 16/20\n",
      "600/600 [==============================] - 5s 8ms/step - loss: 0.0117 - accuracy: 0.9962 - val_loss: 0.0906 - val_accuracy: 0.9800\n",
      "Epoch 17/20\n",
      "600/600 [==============================] - 5s 8ms/step - loss: 0.0122 - accuracy: 0.9962 - val_loss: 0.0973 - val_accuracy: 0.9785\n",
      "Epoch 18/20\n",
      "600/600 [==============================] - 5s 7ms/step - loss: 0.0112 - accuracy: 0.9964 - val_loss: 0.0895 - val_accuracy: 0.9812\n",
      "Epoch 19/20\n",
      "600/600 [==============================] - 4s 7ms/step - loss: 0.0107 - accuracy: 0.9967 - val_loss: 0.0989 - val_accuracy: 0.9803\n",
      "Epoch 20/20\n",
      "600/600 [==============================] - 5s 9ms/step - loss: 0.0094 - accuracy: 0.9973 - val_loss: 0.1061 - val_accuracy: 0.9792\n"
     ]
    }
   ],
   "source": [
    "hist = bigger_model.fit(train_dataset, \n",
    "                        epochs=N_EPOCHS, \n",
    "                        validation_data=test_dataset)"
   ]
  },
  {
   "cell_type": "code",
   "execution_count": 28,
   "id": "18af8878",
   "metadata": {
    "ExecuteTime": {
     "end_time": "2021-12-02T02:41:24.459397Z",
     "start_time": "2021-12-02T02:41:24.156524Z"
    }
   },
   "outputs": [
    {
     "data": {
      "image/png": "[encoded data removed]",
      "text/plain": [
       "<Figure size 576x504 with 1 Axes>"
      ]
     },
     "metadata": {
      "needs_background": "light"
     },
     "output_type": "display_data"
    }
   ],
   "source": [
    "plot_loss(N_EPOCHS, hist)"
   ]
  },
  {
   "cell_type": "code",
   "execution_count": 29,
   "id": "4672e60f",
   "metadata": {
    "ExecuteTime": {
     "end_time": "2021-12-02T02:42:29.201157Z",
     "start_time": "2021-12-02T02:42:28.869532Z"
    },
    "scrolled": true
   },
   "outputs": [
    {
     "data": {
      "image/png": "[encoded data removed]",
      "text/plain": [
       "<Figure size 576x504 with 1 Axes>"
      ]
     },
     "metadata": {
      "needs_background": "light"
     },
     "output_type": "display_data"
    }
   ],
   "source": [
    "plot_accuracy(N_EPOCHS, hist)"
   ]
  },
  {
   "cell_type": "markdown",
   "id": "30a5c3ca",
   "metadata": {},
   "source": [
    "## Dropout 적용\n",
    "- layers.Dropout 객체를 이용\n",
    "- dropout rate는 0.2 ~ 0.5 정도로 설정\n",
    "- dropout node를 가질 Layer 앞에 추가."
   ]
  },
  {
   "cell_type": "code",
   "execution_count": 30,
   "id": "8ade2d69",
   "metadata": {
    "ExecuteTime": {
     "end_time": "2021-12-02T03:23:54.653498Z",
     "start_time": "2021-12-02T03:23:54.636543Z"
    }
   },
   "outputs": [],
   "source": [
    "def create_dropout_model():\n",
    "    model = keras.Sequential()\n",
    "    model.add(layers.Flatten(input_shape=(28,28)))\n",
    "    \n",
    "    model.add(layers.Dropout(0.5))# 다음 레이이의 노드들중 일부를 dropout시킨다.\n",
    "    model.add(layers.Dense(units=256, activation='relu'))\n",
    "    \n",
    "    model.add(layers.Dropout(0.5))\n",
    "    model.add(layers.Dense(units=256, activation='relu'))\n",
    "    \n",
    "    model.add(layers.Dropout(0.3))\n",
    "    model.add(layers.Dense(units=128, activation='relu'))\n",
    "    \n",
    "    model.add(layers.Dropout(0.3))\n",
    "    model.add(layers.Dense(units=128, activation='relu'))\n",
    "    #출력\n",
    "    model.add(layers.Dropout(0.3))\n",
    "    model.add(layers.Dense(units=10, activation='softmax'))\n",
    "    return model"
   ]
  },
  {
   "cell_type": "code",
   "execution_count": 31,
   "id": "1d378d13",
   "metadata": {
    "ExecuteTime": {
     "end_time": "2021-12-02T03:25:07.888179Z",
     "start_time": "2021-12-02T03:25:07.707497Z"
    }
   },
   "outputs": [],
   "source": [
    "dropout_model = create_dropout_model()\n",
    "dropout_model.compile(optimizer=keras.optimizers.Adam(learning_rate=LEARNING_RATE),\n",
    "                      loss='categorical_crossentropy', \n",
    "                      metrics=['accuracy'])"
   ]
  },
  {
   "cell_type": "code",
   "execution_count": 32,
   "id": "eb7af265",
   "metadata": {
    "ExecuteTime": {
     "end_time": "2021-12-02T03:26:05.182967Z",
     "start_time": "2021-12-02T03:26:05.170022Z"
    }
   },
   "outputs": [
    {
     "name": "stdout",
     "output_type": "stream",
     "text": [
      "Model: \"sequential_3\"\n",
      "_________________________________________________________________\n",
      " Layer (type)                Output Shape              Param #   \n",
      "=================================================================\n",
      " flatten_3 (Flatten)         (None, 784)               0         \n",
      "                                                                 \n",
      " dropout (Dropout)           (None, 784)               0         \n",
      "                                                                 \n",
      " dense_9 (Dense)             (None, 256)               200960    \n",
      "                                                                 \n",
      " dropout_1 (Dropout)         (None, 256)               0         \n",
      "                                                                 \n",
      " dense_10 (Dense)            (None, 256)               65792     \n",
      "                                                                 \n",
      " dropout_2 (Dropout)         (None, 256)               0         \n",
      "                                                                 \n",
      " dense_11 (Dense)            (None, 128)               32896     \n",
      "                                                                 \n",
      " dropout_3 (Dropout)         (None, 128)               0         \n",
      "                                                                 \n",
      " dense_12 (Dense)            (None, 128)               16512     \n",
      "                                                                 \n",
      " dropout_4 (Dropout)         (None, 128)               0         \n",
      "                                                                 \n",
      " dense_13 (Dense)            (None, 10)                1290      \n",
      "                                                                 \n",
      "=================================================================\n",
      "Total params: 317,450\n",
      "Trainable params: 317,450\n",
      "Non-trainable params: 0\n",
      "_________________________________________________________________\n"
     ]
    }
   ],
   "source": [
    "dropout_model.summary()"
   ]
  },
  {
   "cell_type": "code",
   "execution_count": 33,
   "id": "19a68f77",
   "metadata": {
    "ExecuteTime": {
     "end_time": "2021-12-02T03:30:26.549216Z",
     "start_time": "2021-12-02T03:27:28.739728Z"
    },
    "scrolled": true
   },
   "outputs": [
    {
     "name": "stdout",
     "output_type": "stream",
     "text": [
      "Epoch 1/20\n",
      "600/600 [==============================] - 9s 13ms/step - loss: 0.8342 - accuracy: 0.7234 - val_loss: 0.2370 - val_accuracy: 0.9308\n",
      "Epoch 2/20\n",
      "600/600 [==============================] - 8s 13ms/step - loss: 0.4392 - accuracy: 0.8707 - val_loss: 0.1782 - val_accuracy: 0.9478\n",
      "Epoch 3/20\n",
      "600/600 [==============================] - 9s 14ms/step - loss: 0.3633 - accuracy: 0.8942 - val_loss: 0.1522 - val_accuracy: 0.9573\n",
      "Epoch 4/20\n",
      "600/600 [==============================] - 9s 14ms/step - loss: 0.3216 - accuracy: 0.9068 - val_loss: 0.1363 - val_accuracy: 0.9613\n",
      "Epoch 5/20\n",
      "600/600 [==============================] - 8s 14ms/step - loss: 0.2960 - accuracy: 0.9143 - val_loss: 0.1231 - val_accuracy: 0.9637\n",
      "Epoch 6/20\n",
      "600/600 [==============================] - 9s 15ms/step - loss: 0.2778 - accuracy: 0.9192 - val_loss: 0.1090 - val_accuracy: 0.9671s - loss: 0.2787 - accuracy: 0.\n",
      "Epoch 7/20\n",
      "600/600 [==============================] - 11s 18ms/step - loss: 0.2720 - accuracy: 0.9214 - val_loss: 0.1151 - val_accuracy: 0.9658\n",
      "Epoch 8/20\n",
      "600/600 [==============================] - 8s 13ms/step - loss: 0.2567 - accuracy: 0.9263 - val_loss: 0.1032 - val_accuracy: 0.9702\n",
      "Epoch 9/20\n",
      "600/600 [==============================] - 8s 13ms/step - loss: 0.2507 - accuracy: 0.9290 - val_loss: 0.1030 - val_accuracy: 0.9712\n",
      "Epoch 10/20\n",
      "600/600 [==============================] - 8s 13ms/step - loss: 0.2418 - accuracy: 0.9303 - val_loss: 0.0999 - val_accuracy: 0.9716\n",
      "Epoch 11/20\n",
      "600/600 [==============================] - 8s 13ms/step - loss: 0.2346 - accuracy: 0.9317 - val_loss: 0.0980 - val_accuracy: 0.9709\n",
      "Epoch 12/20\n",
      "600/600 [==============================] - 8s 13ms/step - loss: 0.2237 - accuracy: 0.9359 - val_loss: 0.0978 - val_accuracy: 0.9716\n",
      "Epoch 13/20\n",
      "600/600 [==============================] - 9s 16ms/step - loss: 0.2253 - accuracy: 0.9358 - val_loss: 0.0912 - val_accuracy: 0.9749\n",
      "Epoch 14/20\n",
      "600/600 [==============================] - 9s 14ms/step - loss: 0.2194 - accuracy: 0.9360 - val_loss: 0.0926 - val_accuracy: 0.9745\n",
      "Epoch 15/20\n",
      "600/600 [==============================] - 8s 13ms/step - loss: 0.2182 - accuracy: 0.9359 - val_loss: 0.0902 - val_accuracy: 0.9740\n",
      "Epoch 16/20\n",
      "600/600 [==============================] - 8s 14ms/step - loss: 0.2135 - accuracy: 0.9392 - val_loss: 0.0900 - val_accuracy: 0.9738\n",
      "Epoch 17/20\n",
      "600/600 [==============================] - 8s 13ms/step - loss: 0.2121 - accuracy: 0.9393 - val_loss: 0.0867 - val_accuracy: 0.9752\n",
      "Epoch 18/20\n",
      "600/600 [==============================] - 8s 14ms/step - loss: 0.2058 - accuracy: 0.9402 - val_loss: 0.0851 - val_accuracy: 0.9757\n",
      "Epoch 19/20\n",
      "600/600 [==============================] - 8s 13ms/step - loss: 0.2060 - accuracy: 0.9405 - val_loss: 0.0870 - val_accuracy: 0.9744\n",
      "Epoch 20/20\n",
      "600/600 [==============================] - 8s 13ms/step - loss: 0.2021 - accuracy: 0.9416 - val_loss: 0.0829 - val_accuracy: 0.9764\n"
     ]
    }
   ],
   "source": [
    "hist = dropout_model.fit(train_dataset, \n",
    "                         epochs=N_EPOCHS, \n",
    "                         validation_data=test_dataset)"
   ]
  },
  {
   "cell_type": "code",
   "execution_count": 34,
   "id": "fb4add4f",
   "metadata": {
    "ExecuteTime": {
     "end_time": "2021-12-02T03:30:56.427348Z",
     "start_time": "2021-12-02T03:30:56.120865Z"
    }
   },
   "outputs": [
    {
     "data": {
      "image/png": "[encoded data removed]",
      "text/plain": [
       "<Figure size 576x504 with 1 Axes>"
      ]
     },
     "metadata": {
      "needs_background": "light"
     },
     "output_type": "display_data"
    }
   ],
   "source": [
    "plot_loss(N_EPOCHS, hist)"
   ]
  },
  {
   "cell_type": "code",
   "execution_count": 35,
   "id": "34b84d72",
   "metadata": {
    "ExecuteTime": {
     "end_time": "2021-12-02T03:31:52.717481Z",
     "start_time": "2021-12-02T03:31:52.417284Z"
    }
   },
   "outputs": [
    {
     "data": {
      "image/png": "[encoded data removed]",
      "text/plain": [
       "<Figure size 576x504 with 1 Axes>"
      ]
     },
     "metadata": {
      "needs_background": "light"
     },
     "output_type": "display_data"
    }
   ],
   "source": [
    "plot_accuracy(N_EPOCHS, hist)"
   ]
  },
  {
   "cell_type": "markdown",
   "id": "44a36091",
   "metadata": {},
   "source": [
    "## Batch Normalization\n",
    "- Dense -> BN -> Activation  순서로 적용\n",
    "- layers.BatchNormalization 사용"
   ]
  },
  {
   "cell_type": "code",
   "execution_count": 37,
   "id": "ed2bd929",
   "metadata": {
    "ExecuteTime": {
     "end_time": "2021-12-02T05:43:38.330481Z",
     "start_time": "2021-12-02T05:43:38.315525Z"
    }
   },
   "outputs": [],
   "source": [
    "def create_bn_model():\n",
    "    model = keras.Sequential()\n",
    "    model.add(layers.Flatten(input_shape=(28,28)))\n",
    "    \n",
    "    model.add(layers.Dense(units=256)) #unit만 지정하고 activation은 생략\n",
    "    model.add(layers.BatchNormalization()) #BN\n",
    "    model.add(layers.ReLU()) #Activation함수명이 Layer클래스 이름.\n",
    "    \n",
    "#     model.add(layers.Dropout(0.5))\n",
    "    model.add(layers.Dense(units=128))\n",
    "    model.add(layers.BatchNormalization())\n",
    "    model.add(layers.ReLU())\n",
    "    \n",
    "    # 출력\n",
    "    model.add(layers.Dense(units=10))\n",
    "    model.add(layers.BatchNormalization())\n",
    "    model.add(layers.Softmax())\n",
    "    \n",
    "    return model"
   ]
  },
  {
   "cell_type": "code",
   "execution_count": null,
   "id": "cfada4d0",
   "metadata": {},
   "outputs": [],
   "source": [
    "# layers.Activation(activation=\"sigmoid\")"
   ]
  },
  {
   "cell_type": "code",
   "execution_count": 38,
   "id": "2c08dc66",
   "metadata": {
    "ExecuteTime": {
     "end_time": "2021-12-02T05:44:41.752024Z",
     "start_time": "2021-12-02T05:44:41.581261Z"
    }
   },
   "outputs": [],
   "source": [
    "bn_model = create_bn_model()\n",
    "bn_model.compile(optimizer=keras.optimizers.Adam(learning_rate=LEARNING_RATE),\n",
    "                 loss='categorical_crossentropy',\n",
    "                 metrics=['accuracy'])"
   ]
  },
  {
   "cell_type": "code",
   "execution_count": 39,
   "id": "985b3fa8",
   "metadata": {
    "ExecuteTime": {
     "end_time": "2021-12-02T05:45:03.606135Z",
     "start_time": "2021-12-02T05:45:03.589177Z"
    }
   },
   "outputs": [
    {
     "name": "stdout",
     "output_type": "stream",
     "text": [
      "Model: \"sequential_4\"\n",
      "_________________________________________________________________\n",
      " Layer (type)                Output Shape              Param #   \n",
      "=================================================================\n",
      " flatten_4 (Flatten)         (None, 784)               0         \n",
      "                                                                 \n",
      " dense_14 (Dense)            (None, 256)               200960    \n",
      "                                                                 \n",
      " batch_normalization (BatchN  (None, 256)              1024      \n",
      " ormalization)                                                   \n",
      "                                                                 \n",
      " re_lu (ReLU)                (None, 256)               0         \n",
      "                                                                 \n",
      " dense_15 (Dense)            (None, 128)               32896     \n",
      "                                                                 \n",
      " batch_normalization_1 (Batc  (None, 128)              512       \n",
      " hNormalization)                                                 \n",
      "                                                                 \n",
      " re_lu_1 (ReLU)              (None, 128)               0         \n",
      "                                                                 \n",
      " dense_16 (Dense)            (None, 10)                1290      \n",
      "                                                                 \n",
      " batch_normalization_2 (Batc  (None, 10)               40        \n",
      " hNormalization)                                                 \n",
      "                                                                 \n",
      " softmax (Softmax)           (None, 10)                0         \n",
      "                                                                 \n",
      "=================================================================\n",
      "Total params: 236,722\n",
      "Trainable params: 235,934\n",
      "Non-trainable params: 788\n",
      "_________________________________________________________________\n"
     ]
    }
   ],
   "source": [
    "bn_model.summary()"
   ]
  },
  {
   "cell_type": "code",
   "execution_count": 40,
   "id": "e8e47c6a",
   "metadata": {
    "ExecuteTime": {
     "end_time": "2021-12-02T05:48:19.611323Z",
     "start_time": "2021-12-02T05:46:42.604842Z"
    },
    "scrolled": true
   },
   "outputs": [
    {
     "name": "stdout",
     "output_type": "stream",
     "text": [
      "Epoch 1/20\n",
      "600/600 [==============================] - 7s 9ms/step - loss: 0.4148 - accuracy: 0.9388 - val_loss: 0.2077 - val_accuracy: 0.9703\n",
      "Epoch 2/20\n",
      "600/600 [==============================] - 5s 8ms/step - loss: 0.1803 - accuracy: 0.9737 - val_loss: 0.1243 - val_accuracy: 0.9783\n",
      "Epoch 3/20\n",
      "600/600 [==============================] - 5s 8ms/step - loss: 0.1137 - accuracy: 0.9817 - val_loss: 0.0962 - val_accuracy: 0.9785\n",
      "Epoch 4/20\n",
      "600/600 [==============================] - 5s 8ms/step - loss: 0.0783 - accuracy: 0.9870 - val_loss: 0.0782 - val_accuracy: 0.9813\n",
      "Epoch 5/20\n",
      "600/600 [==============================] - 5s 9ms/step - loss: 0.0588 - accuracy: 0.9896 - val_loss: 0.0688 - val_accuracy: 0.9823\n",
      "Epoch 6/20\n",
      "600/600 [==============================] - 5s 8ms/step - loss: 0.0446 - accuracy: 0.9920 - val_loss: 0.0741 - val_accuracy: 0.9809\n",
      "Epoch 7/20\n",
      "600/600 [==============================] - 5s 8ms/step - loss: 0.0348 - accuracy: 0.9938 - val_loss: 0.0656 - val_accuracy: 0.9820\n",
      "Epoch 8/20\n",
      "600/600 [==============================] - 5s 8ms/step - loss: 0.0295 - accuracy: 0.9943 - val_loss: 0.0672 - val_accuracy: 0.9795\n",
      "Epoch 9/20\n",
      "600/600 [==============================] - 6s 10ms/step - loss: 0.0239 - accuracy: 0.9953 - val_loss: 0.0559 - val_accuracy: 0.9834\n",
      "Epoch 10/20\n",
      "600/600 [==============================] - 5s 9ms/step - loss: 0.0210 - accuracy: 0.9958 - val_loss: 0.0522 - val_accuracy: 0.9857\n",
      "Epoch 11/20\n",
      "600/600 [==============================] - 4s 7ms/step - loss: 0.0180 - accuracy: 0.9964 - val_loss: 0.0582 - val_accuracy: 0.9824\n",
      "Epoch 12/20\n",
      "600/600 [==============================] - 4s 6ms/step - loss: 0.0160 - accuracy: 0.9967 - val_loss: 0.0573 - val_accuracy: 0.9829\n",
      "Epoch 13/20\n",
      "600/600 [==============================] - 4s 6ms/step - loss: 0.0144 - accuracy: 0.9969 - val_loss: 0.0540 - val_accuracy: 0.9837\n",
      "Epoch 14/20\n",
      "600/600 [==============================] - 4s 6ms/step - loss: 0.0119 - accuracy: 0.9976 - val_loss: 0.0563 - val_accuracy: 0.9833\n",
      "Epoch 15/20\n",
      "600/600 [==============================] - 4s 6ms/step - loss: 0.0130 - accuracy: 0.9972 - val_loss: 0.0544 - val_accuracy: 0.9852\n",
      "Epoch 16/20\n",
      "600/600 [==============================] - 4s 6ms/step - loss: 0.0108 - accuracy: 0.9976 - val_loss: 0.0662 - val_accuracy: 0.9813\n",
      "Epoch 17/20\n",
      "600/600 [==============================] - 4s 6ms/step - loss: 0.0112 - accuracy: 0.9973 - val_loss: 0.0522 - val_accuracy: 0.9849\n",
      "Epoch 18/20\n",
      "600/600 [==============================] - 4s 6ms/step - loss: 0.0086 - accuracy: 0.9981 - val_loss: 0.0500 - val_accuracy: 0.9855\n",
      "Epoch 19/20\n",
      "600/600 [==============================] - 4s 6ms/step - loss: 0.0104 - accuracy: 0.9973 - val_loss: 0.0536 - val_accuracy: 0.9852\n",
      "Epoch 20/20\n",
      "600/600 [==============================] - 4s 6ms/step - loss: 0.0080 - accuracy: 0.9982 - val_loss: 0.0592 - val_accuracy: 0.9837\n"
     ]
    }
   ],
   "source": [
    "hist = bn_model.fit(train_dataset, epochs=N_EPOCHS,\n",
    "                    validation_data=test_dataset)"
   ]
  },
  {
   "cell_type": "code",
   "execution_count": 41,
   "id": "ddb7d2f1",
   "metadata": {
    "ExecuteTime": {
     "end_time": "2021-12-02T06:08:37.556933Z",
     "start_time": "2021-12-02T06:08:36.941028Z"
    }
   },
   "outputs": [
    {
     "data": {
      "image/png": "[encoded data removed]",
      "text/plain": [
       "<Figure size 576x504 with 1 Axes>"
      ]
     },
     "metadata": {
      "needs_background": "light"
     },
     "output_type": "display_data"
    }
   ],
   "source": [
    "plot_loss(N_EPOCHS, hist)"
   ]
  },
  {
   "cell_type": "code",
   "execution_count": 42,
   "id": "ec27d371",
   "metadata": {
    "ExecuteTime": {
     "end_time": "2021-12-02T06:08:54.814340Z",
     "start_time": "2021-12-02T06:08:54.534518Z"
    }
   },
   "outputs": [
    {
     "data": {
      "image/png": "[encoded data removed]",
      "text/plain": [
       "<Figure size 576x504 with 1 Axes>"
      ]
     },
     "metadata": {
      "needs_background": "light"
     },
     "output_type": "display_data"
    }
   ],
   "source": [
    "plot_accuracy(N_EPOCHS, hist)"
   ]
  },
  {
   "cell_type": "markdown",
   "id": "bc2a0238",
   "metadata": {},
   "source": [
    "## Learning Rate 조정을 이용한 성능향상\n",
    "\n",
    "### Learning Rate Decay\n",
    "- 일정한 step마다 Learning rate를 조정"
   ]
  },
  {
   "cell_type": "code",
   "execution_count": 43,
   "id": "a94d11a0",
   "metadata": {
    "ExecuteTime": {
     "end_time": "2021-12-02T06:34:15.714492Z",
     "start_time": "2021-12-02T06:34:15.698534Z"
    }
   },
   "outputs": [],
   "source": [
    "def create_model():\n",
    "    model = keras.Sequential()\n",
    "    model.add(layers.Flatten(input_shape=(28,28)))\n",
    "    model.add(layers.Dense(units=256, activation='relu'))\n",
    "    model.add(layers.Dense(units=128, activation='relu'))\n",
    "    model.add(layers.Dense(units=128, activation='relu'))\n",
    "    model.add(layers.Dense(units=10, activation='softmax'))\n",
    "    return model"
   ]
  },
  {
   "cell_type": "code",
   "execution_count": 44,
   "id": "45647cf1",
   "metadata": {
    "ExecuteTime": {
     "end_time": "2021-12-02T06:34:55.256543Z",
     "start_time": "2021-12-02T06:34:55.177751Z"
    }
   },
   "outputs": [],
   "source": [
    "model = create_model()"
   ]
  },
  {
   "cell_type": "code",
   "execution_count": 46,
   "id": "d35e5578",
   "metadata": {
    "ExecuteTime": {
     "end_time": "2021-12-02T06:40:25.729911Z",
     "start_time": "2021-12-02T06:40:25.722933Z"
    }
   },
   "outputs": [
    {
     "data": {
      "text/plain": [
       "6000"
      ]
     },
     "execution_count": 46,
     "metadata": {},
     "output_type": "execute_result"
    }
   ],
   "source": [
    "len(train_dataset)*10  #10에폭의 step수"
   ]
  },
  {
   "cell_type": "code",
   "execution_count": 49,
   "id": "7a0e5fbe",
   "metadata": {
    "ExecuteTime": {
     "end_time": "2021-12-02T06:48:06.475892Z",
     "start_time": "2021-12-02T06:48:06.458938Z"
    }
   },
   "outputs": [],
   "source": [
    "# optimizer의 learning_rate를 상수 대신 LearningRate스케쥴러객체로 설정한다.\n",
    "# ExponentialDcay - 일정한 간격(step기준)마다 LR를 변경\n",
    "lr_scheduler = keras.optimizers.schedules.ExponentialDecay(\n",
    "                    initial_learning_rate=LEARNING_RATE, #시작 LR\n",
    "                    decay_steps=len(train_dataset)*5, #몇 스텝마다 변경할지 \n",
    "                    decay_rate=0.5, #변화율 (이값을 현재LR에 곱해준다.)\n",
    "                    staircase=True, # 계단식으로 변화시킨다. \n",
    "                                    # False: 점진적으로 step마다 조금씩 줄여나간다.\n",
    "                    )"
   ]
  },
  {
   "cell_type": "code",
   "execution_count": 50,
   "id": "c98b4792",
   "metadata": {
    "ExecuteTime": {
     "end_time": "2021-12-02T06:48:12.520466Z",
     "start_time": "2021-12-02T06:48:12.498522Z"
    }
   },
   "outputs": [],
   "source": [
    "model.compile(optimizer=keras.optimizers.Adam(learning_rate=lr_scheduler),\n",
    "              loss='categorical_crossentropy',\n",
    "              metrics=['accuracy'])"
   ]
  },
  {
   "cell_type": "code",
   "execution_count": 51,
   "id": "8eef85b0",
   "metadata": {
    "ExecuteTime": {
     "end_time": "2021-12-02T06:49:51.488031Z",
     "start_time": "2021-12-02T06:48:15.963781Z"
    },
    "scrolled": false
   },
   "outputs": [
    {
     "name": "stdout",
     "output_type": "stream",
     "text": [
      "Epoch 1/20\n",
      "600/600 [==============================] - 5s 7ms/step - loss: 0.2545 - accuracy: 0.9246 - val_loss: 0.1365 - val_accuracy: 0.9567\n",
      "Epoch 2/20\n",
      "600/600 [==============================] - 5s 8ms/step - loss: 0.0965 - accuracy: 0.9708 - val_loss: 0.0811 - val_accuracy: 0.9749\n",
      "Epoch 3/20\n",
      "600/600 [==============================] - 5s 8ms/step - loss: 0.0653 - accuracy: 0.9796 - val_loss: 0.0715 - val_accuracy: 0.9784\n",
      "Epoch 4/20\n",
      "600/600 [==============================] - 6s 9ms/step - loss: 0.0475 - accuracy: 0.9848 - val_loss: 0.0758 - val_accuracy: 0.9768\n",
      "Epoch 5/20\n",
      "600/600 [==============================] - 4s 7ms/step - loss: 0.0375 - accuracy: 0.9878 - val_loss: 0.0752 - val_accuracy: 0.9779\n",
      "Epoch 6/20\n",
      "600/600 [==============================] - 5s 8ms/step - loss: 0.0150 - accuracy: 0.9958 - val_loss: 0.0651 - val_accuracy: 0.9819\n",
      "Epoch 7/20\n",
      "600/600 [==============================] - 5s 8ms/step - loss: 0.0101 - accuracy: 0.9970 - val_loss: 0.0642 - val_accuracy: 0.9823\n",
      "Epoch 8/20\n",
      "600/600 [==============================] - 5s 8ms/step - loss: 0.0079 - accuracy: 0.9978 - val_loss: 0.0686 - val_accuracy: 0.9828\n",
      "Epoch 9/20\n",
      "600/600 [==============================] - 5s 8ms/step - loss: 0.0068 - accuracy: 0.9979 - val_loss: 0.0855 - val_accuracy: 0.9785\n",
      "Epoch 10/20\n",
      "600/600 [==============================] - 5s 8ms/step - loss: 0.0082 - accuracy: 0.9973 - val_loss: 0.0854 - val_accuracy: 0.9790\n",
      "Epoch 11/20\n",
      "600/600 [==============================] - 5s 8ms/step - loss: 0.0026 - accuracy: 0.9994 - val_loss: 0.0717 - val_accuracy: 0.9835\n",
      "Epoch 12/20\n",
      "600/600 [==============================] - 5s 8ms/step - loss: 6.7828e-04 - accuracy: 1.0000 - val_loss: 0.0745 - val_accuracy: 0.9841\n",
      "Epoch 13/20\n",
      "600/600 [==============================] - 4s 7ms/step - loss: 4.2887e-04 - accuracy: 1.0000 - val_loss: 0.0777 - val_accuracy: 0.9836\n",
      "Epoch 14/20\n",
      "600/600 [==============================] - 4s 7ms/step - loss: 2.7469e-04 - accuracy: 1.0000 - val_loss: 0.0806 - val_accuracy: 0.9835\n",
      "Epoch 15/20\n",
      "600/600 [==============================] - 4s 7ms/step - loss: 2.0233e-04 - accuracy: 1.0000 - val_loss: 0.0833 - val_accuracy: 0.9842\n",
      "Epoch 16/20\n",
      "600/600 [==============================] - 4s 7ms/step - loss: 1.3434e-04 - accuracy: 1.0000 - val_loss: 0.0842 - val_accuracy: 0.9839\n",
      "Epoch 17/20\n",
      "600/600 [==============================] - 4s 6ms/step - loss: 1.1182e-04 - accuracy: 1.0000 - val_loss: 0.0854 - val_accuracy: 0.9838\n",
      "Epoch 18/20\n",
      "600/600 [==============================] - 4s 6ms/step - loss: 9.7087e-05 - accuracy: 1.0000 - val_loss: 0.0878 - val_accuracy: 0.9841\n",
      "Epoch 19/20\n",
      "600/600 [==============================] - 4s 6ms/step - loss: 8.1235e-05 - accuracy: 1.0000 - val_loss: 0.0897 - val_accuracy: 0.9839\n",
      "Epoch 20/20\n",
      "600/600 [==============================] - 4s 6ms/step - loss: 7.0481e-05 - accuracy: 1.0000 - val_loss: 0.0914 - val_accuracy: 0.9837\n"
     ]
    }
   ],
   "source": [
    "hist = model.fit(train_dataset, \n",
    "                 epochs=N_EPOCHS, \n",
    "                 validation_data=test_dataset)"
   ]
  },
  {
   "cell_type": "code",
   "execution_count": 52,
   "id": "38346a6a",
   "metadata": {
    "ExecuteTime": {
     "end_time": "2021-12-02T07:10:19.623064Z",
     "start_time": "2021-12-02T07:10:19.342077Z"
    }
   },
   "outputs": [
    {
     "data": {
      "image/png": "[encoded data removed]",
      "text/plain": [
       "<Figure size 576x504 with 1 Axes>"
      ]
     },
     "metadata": {
      "needs_background": "light"
     },
     "output_type": "display_data"
    }
   ],
   "source": [
    "plot_loss(N_EPOCHS, hist)"
   ]
  },
  {
   "cell_type": "markdown",
   "id": "0397c696",
   "metadata": {},
   "source": [
    "### Callback 을 이용한 학습률 조정\n",
    "- ReduceLROnPlateau callback을 이용\n",
    "    - 학습시 성능이 개선이 안되는 경우 LR를 조정"
   ]
  },
  {
   "cell_type": "code",
   "execution_count": 53,
   "id": "4fc5c1d5",
   "metadata": {
    "ExecuteTime": {
     "end_time": "2021-12-02T07:16:44.195881Z",
     "start_time": "2021-12-02T07:16:44.110901Z"
    }
   },
   "outputs": [],
   "source": [
    "model = create_model()\n",
    "model.compile(optimizer=keras.optimizers.Adam(learning_rate=LEARNING_RATE),\n",
    "              loss='categorical_crossentropy',\n",
    "              metrics=['accuracy'])"
   ]
  },
  {
   "cell_type": "code",
   "execution_count": 54,
   "id": "7a0d0557",
   "metadata": {
    "ExecuteTime": {
     "end_time": "2021-12-02T07:28:57.057241Z",
     "start_time": "2021-12-02T07:28:57.049262Z"
    }
   },
   "outputs": [],
   "source": [
    "from keras.callbacks import ReduceLROnPlateau, EarlyStopping, ModelCheckpoint\n",
    "\n",
    "lr_cb = ReduceLROnPlateau(monitor='val_loss', #성능개선과 관련해 볼 평가지표\n",
    "                          factor=0.5, # LR 조정 비율(현재 LR * factor)\n",
    "                          patience=3, # 성능개선이 안될때 몇 epoch까지 기다려 볼지 지정(보통은 10정도 지정)\n",
    "                          mode=\"min\", # monitor의 값이 어떨때 성능개선되는지. (min-작을수록, max=클수록, auto-알아서 찾는다.)\n",
    "                          verbose=2) # 학습률 변화시 로그 남기기."
   ]
  },
  {
   "cell_type": "code",
   "execution_count": 55,
   "id": "5d4a97e1",
   "metadata": {
    "ExecuteTime": {
     "end_time": "2021-12-02T07:32:06.784619Z",
     "start_time": "2021-12-02T07:30:20.296330Z"
    },
    "scrolled": false
   },
   "outputs": [
    {
     "name": "stdout",
     "output_type": "stream",
     "text": [
      "Epoch 1/20\n",
      "600/600 [==============================] - 6s 9ms/step - loss: 0.2538 - accuracy: 0.9250 - val_loss: 0.1270 - val_accuracy: 0.9614 - lr: 0.0010s - loss: 0.2622 \n",
      "Epoch 2/20\n",
      "600/600 [==============================] - 5s 8ms/step - loss: 0.0958 - accuracy: 0.9707 - val_loss: 0.0896 - val_accuracy: 0.9723 - lr: 0.0010\n",
      "Epoch 3/20\n",
      "600/600 [==============================] - 5s 8ms/step - loss: 0.0648 - accuracy: 0.9796 - val_loss: 0.0860 - val_accuracy: 0.9737 - lr: 0.0010\n",
      "Epoch 4/20\n",
      "600/600 [==============================] - 5s 8ms/step - loss: 0.0472 - accuracy: 0.9853 - val_loss: 0.0803 - val_accuracy: 0.9750 - lr: 0.0010\n",
      "Epoch 5/20\n",
      "600/600 [==============================] - 5s 8ms/step - loss: 0.0368 - accuracy: 0.9878 - val_loss: 0.0911 - val_accuracy: 0.9730 - lr: 0.0010\n",
      "Epoch 6/20\n",
      "600/600 [==============================] - 5s 8ms/step - loss: 0.0290 - accuracy: 0.9904 - val_loss: 0.0838 - val_accuracy: 0.9777 - lr: 0.0010\n",
      "Epoch 7/20\n",
      "600/600 [==============================] - ETA: 0s - loss: 0.0250 - accuracy: 0.9912\n",
      "Epoch 00007: ReduceLROnPlateau reducing learning rate to 0.0005000000237487257.\n",
      "600/600 [==============================] - 5s 8ms/step - loss: 0.0250 - accuracy: 0.9912 - val_loss: 0.0807 - val_accuracy: 0.9786 - lr: 0.0010\n",
      "Epoch 8/20\n",
      "600/600 [==============================] - 5s 7ms/step - loss: 0.0099 - accuracy: 0.9969 - val_loss: 0.0685 - val_accuracy: 0.9819 - lr: 5.0000e-04\n",
      "Epoch 9/20\n",
      "600/600 [==============================] - 4s 7ms/step - loss: 0.0043 - accuracy: 0.9989 - val_loss: 0.0786 - val_accuracy: 0.9815 - lr: 5.0000e-04\n",
      "Epoch 10/20\n",
      "600/600 [==============================] - 6s 9ms/step - loss: 0.0048 - accuracy: 0.9987 - val_loss: 0.0807 - val_accuracy: 0.9811 - lr: 5.0000e-04\n",
      "Epoch 11/20\n",
      "599/600 [============================>.] - ETA: 0s - loss: 0.0035 - accuracy: 0.9990\n",
      "Epoch 00011: ReduceLROnPlateau reducing learning rate to 0.0002500000118743628.\n",
      "600/600 [==============================] - 6s 9ms/step - loss: 0.0035 - accuracy: 0.9991 - val_loss: 0.0954 - val_accuracy: 0.9790 - lr: 5.0000e-04\n",
      "Epoch 12/20\n",
      "600/600 [==============================] - 5s 8ms/step - loss: 0.0017 - accuracy: 0.9996 - val_loss: 0.0819 - val_accuracy: 0.9833 - lr: 2.5000e-04\n",
      "Epoch 13/20\n",
      "600/600 [==============================] - 5s 8ms/step - loss: 4.0061e-04 - accuracy: 1.0000 - val_loss: 0.0835 - val_accuracy: 0.9832 - lr: 2.5000e-04\n",
      "Epoch 14/20\n",
      "590/600 [============================>.] - ETA: 0s - loss: 2.7096e-04 - accuracy: 1.0000\n",
      "Epoch 00014: ReduceLROnPlateau reducing learning rate to 0.0001250000059371814.\n",
      "600/600 [==============================] - 4s 6ms/step - loss: 2.6895e-04 - accuracy: 1.0000 - val_loss: 0.0869 - val_accuracy: 0.9825 - lr: 2.5000e-04\n",
      "Epoch 15/20\n",
      "600/600 [==============================] - 4s 6ms/step - loss: 1.7515e-04 - accuracy: 1.0000 - val_loss: 0.0878 - val_accuracy: 0.9828 - lr: 1.2500e-04\n",
      "Epoch 16/20\n",
      "600/600 [==============================] - 4s 6ms/step - loss: 1.4243e-04 - accuracy: 1.0000 - val_loss: 0.0898 - val_accuracy: 0.9829 - lr: 1.2500e-04\n",
      "Epoch 17/20\n",
      "597/600 [============================>.] - ETA: 0s - loss: 1.2103e-04 - accuracy: 1.0000\n",
      "Epoch 00017: ReduceLROnPlateau reducing learning rate to 6.25000029685907e-05.\n",
      "600/600 [==============================] - 4s 7ms/step - loss: 1.2095e-04 - accuracy: 1.0000 - val_loss: 0.0914 - val_accuracy: 0.9830 - lr: 1.2500e-04\n",
      "Epoch 18/20\n",
      "600/600 [==============================] - 5s 8ms/step - loss: 9.5043e-05 - accuracy: 1.0000 - val_loss: 0.0922 - val_accuracy: 0.9829 - lr: 6.2500e-05\n",
      "Epoch 19/20\n",
      "600/600 [==============================] - 5s 8ms/step - loss: 8.3643e-05 - accuracy: 1.0000 - val_loss: 0.0937 - val_accuracy: 0.9830 - lr: 6.2500e-05loss: 8.6612e-05 - accuracy: 1. - ETA: 1s - loss: 7.8970e-05 - accuracy: 1. - ETA: 1s - loss: 7.9076e-05 - accuracy - ETA: 1s - loss: 7.9 - ETA: 0s - loss: 8.4857e-05 - accura\n",
      "Epoch 20/20\n",
      "596/600 [============================>.] - ETA: 0s - loss: 7.5864e-05 - accuracy: 1.0000\n",
      "Epoch 00020: ReduceLROnPlateau reducing learning rate to 3.125000148429535e-05.\n",
      "600/600 [==============================] - 4s 7ms/step - loss: 7.5857e-05 - accuracy: 1.0000 - val_loss: 0.0945 - val_accuracy: 0.9834 - lr: 6.2500e-05\n"
     ]
    }
   ],
   "source": [
    "hist = model.fit(train_dataset, epochs=N_EPOCHS, \n",
    "                 validation_data=test_dataset,\n",
    "                 callbacks=[lr_cb]) #학습때 처리할 callback들 등록"
   ]
  },
  {
   "cell_type": "code",
   "execution_count": null,
   "id": "8f4ea051",
   "metadata": {},
   "outputs": [],
   "source": []
  },
  {
   "cell_type": "code",
   "execution_count": null,
   "id": "7fce70b4",
   "metadata": {},
   "outputs": [],
   "source": []
  },
  {
   "cell_type": "code",
   "execution_count": null,
   "id": "82cb2c1a",
   "metadata": {},
   "outputs": [],
   "source": []
  },
  {
   "cell_type": "code",
   "execution_count": null,
   "id": "85527d07",
   "metadata": {},
   "outputs": [],
   "source": []
  }
 ],
 "metadata": {
  "kernelspec": {
   "display_name": "Python 3 (ipykernel)",
   "language": "python",
   "name": "python3"
  },
  "language_info": {
   "codemirror_mode": {
    "name": "ipython",
    "version": 3
   },
   "file_extension": ".py",
   "mimetype": "text/x-python",
   "name": "python",
   "nbconvert_exporter": "python",
   "pygments_lexer": "ipython3",
   "version": "3.8.12"
  },
  "toc": {
   "base_numbering": 1,
   "nav_menu": {},
   "number_sections": false,
   "sideBar": true,
   "skip_h1_title": false,
   "title_cell": "Table of Contents",
   "title_sidebar": "Contents",
   "toc_cell": false,
   "toc_position": {},
   "toc_section_display": true,
   "toc_window_display": false
  },
  "varInspector": {
   "cols": {
    "lenName": 16,
    "lenType": 16,
    "lenVar": 40
   },
   "kernels_config": {
    "python": {
     "delete_cmd_postfix": "",
     "delete_cmd_prefix": "del ",
     "library": "var_list.py",
     "varRefreshCmd": "print(var_dic_list())"
    },
    "r": {
     "delete_cmd_postfix": ") ",
     "delete_cmd_prefix": "rm(",
     "library": "var_list.r",
     "varRefreshCmd": "cat(var_dic_list()) "
    }
   },
   "types_to_exclude": [
    "module",
    "function",
    "builtin_function_or_method",
    "instance",
    "_Feature"
   ],
   "window_display": false
  }
 },
 "nbformat": 4,
 "nbformat_minor": 5
}
