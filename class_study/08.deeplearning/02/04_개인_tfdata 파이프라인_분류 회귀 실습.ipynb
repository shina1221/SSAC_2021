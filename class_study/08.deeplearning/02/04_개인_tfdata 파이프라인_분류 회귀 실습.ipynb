{
 "cells": [
  {
   "cell_type": "markdown",
   "metadata": {
    "slideshow": {
     "slide_type": "slide"
    }
   },
   "source": [
    "# tf.data 모듈\n",
    "- 데이터 입력 파이프라인을 위한 모듈\n",
    "    - 모델 학습/평가을 위한 대용량 데이터셋을 제공(feeding)하기 위한 모듈\n",
    "    - raw dataset 에서 입력을 위한 전처리, 제공을 위한 배치, shuffling등을 한번에 처리할 수 있게 한다.\n",
    "- tf.data.Dataset 추상클래스에서 상속된 여러가지 클래스들을 제공\n",
    "    - 입력 소스의 제공 형태에 따라 다양한 방식을 제공"
   ]
  },
  {
   "cell_type": "markdown",
   "metadata": {
    "slideshow": {
     "slide_type": "fragment"
    }
   },
   "source": [
    "## Dataset API 사용\n",
    "1. **Dataset 생성**\n",
    "    - raw dataset을 지정\n",
    "    - from_tensor_slices(), from_generator() 클래스 메소드, tf.data.TFRecordDataset 클래스등를 사용해 메모리나 파일에 있는 데이터를 Dataset으로 만든다.\n",
    "    - **from_tensor_slices()**: 리스트 넘파이배열, 텐서플로 자료형에서 데이터를 생성한다."
   ]
  },
  {
   "cell_type": "code",
   "execution_count": null,
   "metadata": {},
   "outputs": [],
   "source": [
    "#from_tensor_slices는 메모리에 있는 로우 데이터를 데이터셋으로 읽어옴"
   ]
  },
  {
   "cell_type": "markdown",
   "metadata": {
    "slideshow": {
     "slide_type": "fragment"
    }
   },
   "source": [
    "2. **제공 데이터 전처리**\n",
    "    - **map(함수)**: 하나 하나의 데이터를 변환\n",
    "        - 함수: 값을 변환할 함수로 입력데이터셋의 개수만큼 매개변수 선언\n",
    "    - **filter(함수)**: 특정 조건의 데이터만 제공하도록 처리.\n",
    "        - 함수: 제공할 값의 조건을 정의한 함수로 입력데이터셋의 개수만큼 매개변수 선언하고 bool 값을 반환."
   ]
  },
  {
   "cell_type": "markdown",
   "metadata": {
    "slideshow": {
     "slide_type": "fragment"
    }
   },
   "source": [
    "3. **Dataset을 사용해 데이터 제공**\n",
    "    - **batch(size)**: 학습/평가시 한번에 제공할 batch size 지정 (=feeding_size지정))\n",
    "        - size: int. batch size 지정\n",
    "        - drop_remainder: bool. True일 경우 마지막 제공시 남은 데이터수가 batch size보다 작으면 제공하지 않는다.\n",
    "          #default : False 제공하지 않는다\n",
    "    - **shuffle(buffer 크기)**: dataset의 원소들의 순서를 섞는다. \n",
    "        - buffer 크기: int(데이터 갯수). buffer 크기(공간 크기)는 섞는 공간의 크기로  **데이터보다 크거나 같으면** 완전셔플, **적으면 일부만 가져와서 섞어** 완전셔플이 안된다.\n",
    "        - 데이터 사이즈가 너무 커서 메모리가 부족할 경우 버퍼크기를 적게 준다.\n",
    "        - 메모리가 충분하다면 데이터의 개수와 동일하게 주면된다.\n",
    "        - 한 에폭이 끝나면 섞음(메모리에 끌고와서 섞음)= 에폭단위로 섞음\n",
    "    - **repeat(count)**: 전체 데이터를 한번 다 제공한 뒤 다시 데이터를 제공한다.\n",
    "        - count: 몇번 제공할지 반복 횟수\n",
    "        - shuffle이 적용된 Dataset의 경우 다음 반복 제공마다 shuffle을 진행한다.\n",
    "        "
   ]
  },
  {
   "cell_type": "markdown",
   "metadata": {
    "slideshow": {
     "slide_type": "fragment"
    }
   },
   "source": [
    "- 각 tf.data 함수들은 각 기능에 맞게 데이터를 처리하는 Dataset 객체를 반환한다."
   ]
  },
  {
   "cell_type": "markdown",
   "metadata": {
    "slideshow": {
     "slide_type": "fragment"
    }
   },
   "source": [
    "### Dataset 메소드\n",
    "- take(개수): 지정한 개수만큼의 데이터만 제공한다.\n",
    "              지정된 배치만큼 개수 데이터를 가져옴 보통 fit에서 진행됨 \n",
    "              만약 개인적으로 데이터 파이프라인으로부터 확인해보고 싶을 때 이용"
   ]
  },
  {
   "cell_type": "code",
   "execution_count": 1,
   "metadata": {
    "ExecuteTime": {
     "end_time": "2021-12-01T01:33:29.223959Z",
     "start_time": "2021-12-01T01:33:22.201849Z"
    },
    "slideshow": {
     "slide_type": "slide"
    }
   },
   "outputs": [],
   "source": [
    "import tensorflow as tf\n",
    "import numpy as np"
   ]
  },
  {
   "cell_type": "markdown",
   "metadata": {
    "slideshow": {
     "slide_type": "fragment"
    }
   },
   "source": [
    "##### Tensor\n",
    "- TensorFlow의 기본 data type. \n",
    "- numpy가 ndarray를 이용해 데이터를 관리하듯이 tensorflow를 Tensor를 이용해 데이터를 관리한다."
   ]
  },
  {
   "cell_type": "code",
   "execution_count": 2,
   "metadata": {
    "ExecuteTime": {
     "end_time": "2021-12-01T01:37:26.763065Z",
     "start_time": "2021-12-01T01:37:26.595066Z"
    },
    "slideshow": {
     "slide_type": "fragment"
    }
   },
   "outputs": [
    {
     "data": {
      "text/plain": [
       "<tf.Tensor: shape=(3,), dtype=float32, numpy=array([1., 2., 3.], dtype=float32)>"
      ]
     },
     "execution_count": 2,
     "metadata": {},
     "output_type": "execute_result"
    }
   ],
   "source": [
    "#nd.array와 사용 비슷\n",
    "#constant는 tensorflow용 numpy배열이라고 생각하면 됨.\n",
    "t = tf.constant([1,2,3], dtype=\"float32\")\n",
    "t"
   ]
  },
  {
   "cell_type": "code",
   "execution_count": 3,
   "metadata": {
    "ExecuteTime": {
     "end_time": "2021-12-01T01:37:27.727122Z",
     "start_time": "2021-12-01T01:37:27.719108Z"
    },
    "slideshow": {
     "slide_type": "fragment"
    }
   },
   "outputs": [
    {
     "data": {
      "text/plain": [
       "array([1., 2., 3.], dtype=float32)"
      ]
     },
     "execution_count": 3,
     "metadata": {},
     "output_type": "execute_result"
    }
   ],
   "source": [
    "# tensor=>numpy 변환\n",
    "a = t.numpy()\n",
    "a"
   ]
  },
  {
   "cell_type": "code",
   "execution_count": 4,
   "metadata": {
    "ExecuteTime": {
     "end_time": "2021-12-01T01:37:55.070994Z",
     "start_time": "2021-12-01T01:37:55.053994Z"
    },
    "slideshow": {
     "slide_type": "fragment"
    }
   },
   "outputs": [
    {
     "data": {
      "text/plain": [
       "<tf.Tensor: shape=(3,), dtype=float32, numpy=array([1., 2., 3.], dtype=float32)>"
      ]
     },
     "execution_count": 4,
     "metadata": {},
     "output_type": "execute_result"
    }
   ],
   "source": [
    "# numpy/list => tensor 변환\n",
    "t2 = tf.constant(a)\n",
    "t2"
   ]
  },
  {
   "cell_type": "code",
   "execution_count": 5,
   "metadata": {
    "ExecuteTime": {
     "end_time": "2021-12-01T01:38:42.277397Z",
     "start_time": "2021-12-01T01:38:42.260941Z"
    },
    "slideshow": {
     "slide_type": "fragment"
    }
   },
   "outputs": [
    {
     "data": {
      "text/plain": [
       "<tf.Tensor: shape=(3,), dtype=float32, numpy=array([1., 2., 3.], dtype=float32)>"
      ]
     },
     "execution_count": 5,
     "metadata": {},
     "output_type": "execute_result"
    }
   ],
   "source": [
    "# numpy/list => tensor 변환\n",
    "t3 = tf.convert_to_tensor(a)\n",
    "t3"
   ]
  },
  {
   "cell_type": "markdown",
   "metadata": {
    "slideshow": {
     "slide_type": "slide"
    }
   },
   "source": [
    "## Dataset 예제"
   ]
  },
  {
   "cell_type": "code",
   "execution_count": 6,
   "metadata": {
    "ExecuteTime": {
     "end_time": "2021-12-01T01:39:15.950857Z",
     "start_time": "2021-12-01T01:39:15.935834Z"
    },
    "slideshow": {
     "slide_type": "fragment"
    }
   },
   "outputs": [
    {
     "data": {
      "text/plain": [
       "array([0, 1, 2, 3, 4, 5, 6, 7, 8, 9])"
      ]
     },
     "execution_count": 6,
     "metadata": {},
     "output_type": "execute_result"
    }
   ],
   "source": [
    "raw_data1 = np.arange(10)\n",
    "raw_data1"
   ]
  },
  {
   "cell_type": "code",
   "execution_count": 8,
   "metadata": {
    "ExecuteTime": {
     "end_time": "2021-12-01T01:39:49.707833Z",
     "start_time": "2021-12-01T01:39:49.701833Z"
    },
    "slideshow": {
     "slide_type": "fragment"
    }
   },
   "outputs": [
    {
     "name": "stdout",
     "output_type": "stream",
     "text": [
      "<class 'tensorflow.python.data.ops.dataset_ops.TensorSliceDataset'>\n"
     ]
    }
   ],
   "source": [
    "#메모리에 자료가 있을 경우 \n",
    "#ndarray/list같이 메모리에 있는 자료 구조로부터 Dataset 생성\n",
    "# - from_tensor_slices()\n",
    "\n",
    "#늦은 실행\n",
    "#실제 모델을 읽어서 어떻게 하겠다고 설정만 해둠\n",
    "dataset = tf.data.Dataset.from_tensor_slices(raw_data1)\n",
    "print(type(dataset))"
   ]
  },
  {
   "cell_type": "code",
   "execution_count": 9,
   "metadata": {
    "ExecuteTime": {
     "end_time": "2021-12-01T01:42:19.458172Z",
     "start_time": "2021-12-01T01:42:19.439174Z"
    },
    "slideshow": {
     "slide_type": "fragment"
    }
   },
   "outputs": [
    {
     "name": "stdout",
     "output_type": "stream",
     "text": [
      "tf.Tensor(0, shape=(), dtype=int32)\n",
      "tf.Tensor(1, shape=(), dtype=int32)\n",
      "tf.Tensor(2, shape=(), dtype=int32)\n",
      "tf.Tensor(3, shape=(), dtype=int32)\n",
      "tf.Tensor(4, shape=(), dtype=int32)\n",
      "tf.Tensor(5, shape=(), dtype=int32)\n",
      "tf.Tensor(6, shape=(), dtype=int32)\n",
      "tf.Tensor(7, shape=(), dtype=int32)\n",
      "tf.Tensor(8, shape=(), dtype=int32)\n",
      "tf.Tensor(9, shape=(), dtype=int32)\n"
     ]
    }
   ],
   "source": [
    "# Dataset : iterator => for 문을 이용해서 값 조회\n",
    "for data in dataset:\n",
    "    print(data)"
   ]
  },
  {
   "cell_type": "markdown",
   "metadata": {
    "slideshow": {
     "slide_type": "slide"
    }
   },
   "source": [
    "##### x, y 묶어서 제공"
   ]
  },
  {
   "cell_type": "code",
   "execution_count": 10,
   "metadata": {
    "ExecuteTime": {
     "end_time": "2021-12-01T01:43:33.679422Z",
     "start_time": "2021-12-01T01:43:33.662125Z"
    },
    "slideshow": {
     "slide_type": "fragment"
    }
   },
   "outputs": [
    {
     "data": {
      "text/plain": [
       "array([10, 11, 12, 13, 14, 15, 16, 17, 18, 19])"
      ]
     },
     "execution_count": 10,
     "metadata": {},
     "output_type": "execute_result"
    }
   ],
   "source": [
    "raw_data2 = np.arange(10,20)\n",
    "raw_data2"
   ]
  },
  {
   "cell_type": "code",
   "execution_count": 11,
   "metadata": {
    "ExecuteTime": {
     "end_time": "2021-12-01T01:43:35.217255Z",
     "start_time": "2021-12-01T01:43:35.203233Z"
    },
    "slideshow": {
     "slide_type": "fragment"
    }
   },
   "outputs": [
    {
     "name": "stdout",
     "output_type": "stream",
     "text": [
      "[0 1 2 3 4 5 6 7 8 9]\n",
      "[10 11 12 13 14 15 16 17 18 19]\n"
     ]
    }
   ],
   "source": [
    "print(raw_data1)\n",
    "print(raw_data2)"
   ]
  },
  {
   "cell_type": "code",
   "execution_count": 15,
   "metadata": {
    "ExecuteTime": {
     "end_time": "2021-12-01T01:45:12.015678Z",
     "start_time": "2021-12-01T01:45:11.995679Z"
    },
    "slideshow": {
     "slide_type": "fragment"
    }
   },
   "outputs": [
    {
     "name": "stdout",
     "output_type": "stream",
     "text": [
      "tf.Tensor(0, shape=(), dtype=int32)-----------tf.Tensor(10, shape=(), dtype=int32)\n",
      "tf.Tensor(1, shape=(), dtype=int32)-----------tf.Tensor(11, shape=(), dtype=int32)\n",
      "tf.Tensor(2, shape=(), dtype=int32)-----------tf.Tensor(12, shape=(), dtype=int32)\n",
      "tf.Tensor(3, shape=(), dtype=int32)-----------tf.Tensor(13, shape=(), dtype=int32)\n",
      "tf.Tensor(4, shape=(), dtype=int32)-----------tf.Tensor(14, shape=(), dtype=int32)\n",
      "tf.Tensor(5, shape=(), dtype=int32)-----------tf.Tensor(15, shape=(), dtype=int32)\n",
      "tf.Tensor(6, shape=(), dtype=int32)-----------tf.Tensor(16, shape=(), dtype=int32)\n",
      "tf.Tensor(7, shape=(), dtype=int32)-----------tf.Tensor(17, shape=(), dtype=int32)\n",
      "tf.Tensor(8, shape=(), dtype=int32)-----------tf.Tensor(18, shape=(), dtype=int32)\n",
      "tf.Tensor(9, shape=(), dtype=int32)-----------tf.Tensor(19, shape=(), dtype=int32)\n"
     ]
    }
   ],
   "source": [
    "#두개이상의 데이터셋을 묶어서 제공할 경우 튜플로 묶어줌.\n",
    "#Dataset이 데이터를 제공할 때 같은 index의 데이터들을 묶어서 제공. zip함수와 비슷\n",
    "dataset2 = tf.data.Dataset.from_tensor_slices((raw_data1, raw_data2)) #(x(feature를 가짐),y(label을 가짐))라고 생각하면 됨\n",
    "for X, y in dataset2:\n",
    "    print(X, y, sep='-----------')"
   ]
  },
  {
   "cell_type": "code",
   "execution_count": 16,
   "metadata": {
    "ExecuteTime": {
     "end_time": "2021-12-01T02:03:51.535140Z",
     "start_time": "2021-12-01T02:03:51.518123Z"
    },
    "slideshow": {
     "slide_type": "fragment"
    }
   },
   "outputs": [
    {
     "name": "stdout",
     "output_type": "stream",
     "text": [
      "<class 'tensorflow.python.data.ops.dataset_ops.TakeDataset'>\n",
      "tf.Tensor(0, shape=(), dtype=int32)\n",
      "tf.Tensor(1, shape=(), dtype=int32)\n",
      "tf.Tensor(2, shape=(), dtype=int32)\n"
     ]
    }
   ],
   "source": [
    "#take(개수0: Dataset에서 지정한 개수만큼의 데이터 조회)\n",
    "dataset3 = dataset.take(3)\n",
    "print(type(dataset3))\n",
    "for data in dataset3:\n",
    "    print(data)"
   ]
  },
  {
   "cell_type": "code",
   "execution_count": 18,
   "metadata": {
    "ExecuteTime": {
     "end_time": "2021-12-01T02:05:31.695777Z",
     "start_time": "2021-12-01T02:05:31.678692Z"
    }
   },
   "outputs": [
    {
     "name": "stdout",
     "output_type": "stream",
     "text": [
      "tf.Tensor(0, shape=(), dtype=int32)---tf.Tensor(10, shape=(), dtype=int32)\n",
      "tf.Tensor(1, shape=(), dtype=int32)---tf.Tensor(11, shape=(), dtype=int32)\n"
     ]
    }
   ],
   "source": [
    "d= dataset2.take(2)\n",
    "for X, y in d:\n",
    "    print(X, y, sep='---')"
   ]
  },
  {
   "cell_type": "markdown",
   "metadata": {
    "slideshow": {
     "slide_type": "slide"
    }
   },
   "source": [
    "##### shuffle"
   ]
  },
  {
   "cell_type": "code",
   "execution_count": 19,
   "metadata": {
    "ExecuteTime": {
     "end_time": "2021-12-01T02:06:42.668483Z",
     "start_time": "2021-12-01T02:06:42.653483Z"
    },
    "slideshow": {
     "slide_type": "fragment"
    }
   },
   "outputs": [
    {
     "name": "stdout",
     "output_type": "stream",
     "text": [
      "<class 'tensorflow.python.data.ops.dataset_ops.ShuffleDataset'>\n",
      "tf.Tensor(4, shape=(), dtype=int32)\n",
      "tf.Tensor(5, shape=(), dtype=int32)\n",
      "tf.Tensor(0, shape=(), dtype=int32)\n",
      "tf.Tensor(3, shape=(), dtype=int32)\n",
      "tf.Tensor(9, shape=(), dtype=int32)\n",
      "tf.Tensor(1, shape=(), dtype=int32)\n",
      "tf.Tensor(8, shape=(), dtype=int32)\n",
      "tf.Tensor(2, shape=(), dtype=int32)\n",
      "tf.Tensor(7, shape=(), dtype=int32)\n",
      "tf.Tensor(6, shape=(), dtype=int32)\n"
     ]
    }
   ],
   "source": [
    "#shuffle(buffer_size):데이터를 제공하기 전에 섞는다\n",
    "#단 실질적으로 여기서 섞는게 아님\n",
    "#row데이터를 어떻게 할건지 pipeline을 만들어둔거라고 생각하면 됨\n",
    "dataset4 = dataset.shuffle(10) \n",
    "print(type(dataset4))\n",
    "#아래와 같이 데이터를 사용하는 시점에서 실질적으로 섞인다고 보면 됨\n",
    "for data in dataset4:\n",
    "    print(data)"
   ]
  },
  {
   "cell_type": "markdown",
   "metadata": {
    "slideshow": {
     "slide_type": "slide"
    }
   },
   "source": [
    "##### batch\n",
    "- 한번에 데이터를 n개씩 제공하겠다는 것\n",
    "- drop_remainder: boolean(기본-False)\n",
    "    - batch로 제공할 데이터의 개수가 설정한 batch_size 보다 적으면 제공하지 않는다."
   ]
  },
  {
   "cell_type": "code",
   "execution_count": 20,
   "metadata": {
    "ExecuteTime": {
     "end_time": "2021-12-01T02:12:01.130778Z",
     "start_time": "2021-12-01T02:12:01.116316Z"
    },
    "slideshow": {
     "slide_type": "fragment"
    }
   },
   "outputs": [
    {
     "name": "stdout",
     "output_type": "stream",
     "text": [
      "<class 'tensorflow.python.data.ops.dataset_ops.BatchDataset'>\n",
      "tf.Tensor([0 1 2], shape=(3,), dtype=int32)\n",
      "tf.Tensor([3 4 5], shape=(3,), dtype=int32)\n",
      "tf.Tensor([6 7 8], shape=(3,), dtype=int32)\n",
      "tf.Tensor([9], shape=(1,), dtype=int32)\n"
     ]
    }
   ],
   "source": [
    "#batch(size): 한 번에 size만큼 데이터 제공\n",
    "dataset5 = dataset.batch(3)#, drop_remainder = True)\n",
    "print(type(dataset5))\n",
    "for data in dataset5:\n",
    "    print(data)"
   ]
  },
  {
   "cell_type": "code",
   "execution_count": 21,
   "metadata": {
    "ExecuteTime": {
     "end_time": "2021-12-01T02:12:47.954796Z",
     "start_time": "2021-12-01T02:12:47.942754Z"
    }
   },
   "outputs": [
    {
     "name": "stdout",
     "output_type": "stream",
     "text": [
      "<class 'tensorflow.python.data.ops.dataset_ops.BatchDataset'>\n",
      "tf.Tensor([0 1 2], shape=(3,), dtype=int32)\n",
      "tf.Tensor([3 4 5], shape=(3,), dtype=int32)\n",
      "tf.Tensor([6 7 8], shape=(3,), dtype=int32)\n"
     ]
    }
   ],
   "source": [
    "#batch(size): 한 번에 size만큼 데이터 제공\n",
    "dataset5 = dataset.batch(3, drop_remainder = True) #마지막 남은 것이 배치사이즈보다 적을경우 버림\n",
    "print(type(dataset5))\n",
    "for data in dataset5:\n",
    "    print(data)"
   ]
  },
  {
   "cell_type": "code",
   "execution_count": 22,
   "metadata": {
    "ExecuteTime": {
     "end_time": "2021-12-01T02:14:18.423798Z",
     "start_time": "2021-12-01T02:14:18.404532Z"
    },
    "slideshow": {
     "slide_type": "fragment"
    }
   },
   "outputs": [
    {
     "name": "stdout",
     "output_type": "stream",
     "text": [
      "tf.Tensor([6 9 3], shape=(3,), dtype=int32)\n",
      "tf.Tensor([5 4 8], shape=(3,), dtype=int32)\n",
      "tf.Tensor([2 0 7], shape=(3,), dtype=int32)\n",
      "tf.Tensor([1], shape=(1,), dtype=int32)\n"
     ]
    }
   ],
   "source": [
    "dataset6 = dataset.shuffle(10).batch(3)\n",
    "for d in dataset6:\n",
    "    print(d)"
   ]
  },
  {
   "cell_type": "markdown",
   "metadata": {
    "slideshow": {
     "slide_type": "slide"
    }
   },
   "source": [
    "##### repeat"
   ]
  },
  {
   "cell_type": "code",
   "execution_count": 23,
   "metadata": {
    "ExecuteTime": {
     "end_time": "2021-12-01T02:17:16.614716Z",
     "start_time": "2021-12-01T02:17:16.593870Z"
    },
    "scrolled": true,
    "slideshow": {
     "slide_type": "fragment"
    }
   },
   "outputs": [
    {
     "name": "stdout",
     "output_type": "stream",
     "text": [
      "<class 'tensorflow.python.data.ops.dataset_ops.RepeatDataset'>\n",
      "tf.Tensor(0, shape=(), dtype=int32)\n",
      "tf.Tensor(1, shape=(), dtype=int32)\n",
      "tf.Tensor(2, shape=(), dtype=int32)\n",
      "tf.Tensor(3, shape=(), dtype=int32)\n",
      "tf.Tensor(4, shape=(), dtype=int32)\n",
      "tf.Tensor(5, shape=(), dtype=int32)\n",
      "tf.Tensor(6, shape=(), dtype=int32)\n",
      "tf.Tensor(7, shape=(), dtype=int32)\n",
      "tf.Tensor(8, shape=(), dtype=int32)\n",
      "tf.Tensor(9, shape=(), dtype=int32)\n",
      "tf.Tensor(0, shape=(), dtype=int32)\n",
      "tf.Tensor(1, shape=(), dtype=int32)\n",
      "tf.Tensor(2, shape=(), dtype=int32)\n",
      "tf.Tensor(3, shape=(), dtype=int32)\n",
      "tf.Tensor(4, shape=(), dtype=int32)\n",
      "tf.Tensor(5, shape=(), dtype=int32)\n",
      "tf.Tensor(6, shape=(), dtype=int32)\n",
      "tf.Tensor(7, shape=(), dtype=int32)\n",
      "tf.Tensor(8, shape=(), dtype=int32)\n",
      "tf.Tensor(9, shape=(), dtype=int32)\n",
      "tf.Tensor(0, shape=(), dtype=int32)\n",
      "tf.Tensor(1, shape=(), dtype=int32)\n",
      "tf.Tensor(2, shape=(), dtype=int32)\n",
      "tf.Tensor(3, shape=(), dtype=int32)\n",
      "tf.Tensor(4, shape=(), dtype=int32)\n",
      "tf.Tensor(5, shape=(), dtype=int32)\n",
      "tf.Tensor(6, shape=(), dtype=int32)\n",
      "tf.Tensor(7, shape=(), dtype=int32)\n",
      "tf.Tensor(8, shape=(), dtype=int32)\n",
      "tf.Tensor(9, shape=(), dtype=int32)\n"
     ]
    }
   ],
   "source": [
    "#repeat(반복횟수):데이터를 반복횟수 만큼 반복해서 제공. \n",
    "#반복횟수 생략시 무한제공!!!\n",
    "dataset7 = dataset.repeat(3) \n",
    "print(type(dataset7))\n",
    "for data in dataset7:\n",
    "    print(data)"
   ]
  },
  {
   "cell_type": "code",
   "execution_count": 24,
   "metadata": {
    "ExecuteTime": {
     "end_time": "2021-12-01T02:19:27.273395Z",
     "start_time": "2021-12-01T02:19:27.259395Z"
    },
    "slideshow": {
     "slide_type": "fragment"
    }
   },
   "outputs": [
    {
     "name": "stdout",
     "output_type": "stream",
     "text": [
      "tf.Tensor([3 5 6 4 7], shape=(5,), dtype=int32)\n",
      "tf.Tensor([9 2 8 1 0], shape=(5,), dtype=int32)\n",
      "tf.Tensor([7 4 6 9 8], shape=(5,), dtype=int32)\n",
      "tf.Tensor([2 3 0 1 5], shape=(5,), dtype=int32)\n",
      "tf.Tensor([9 1 2 8 7], shape=(5,), dtype=int32)\n",
      "tf.Tensor([5 3 0 4 6], shape=(5,), dtype=int32)\n"
     ]
    }
   ],
   "source": [
    "dataset8 = dataset.shuffle(10).batch(5).repeat(3)\n",
    "for data in dataset8:\n",
    "    print(data)"
   ]
  },
  {
   "cell_type": "code",
   "execution_count": 25,
   "metadata": {
    "ExecuteTime": {
     "end_time": "2021-12-01T02:21:17.142402Z",
     "start_time": "2021-12-01T02:21:17.119315Z"
    }
   },
   "outputs": [
    {
     "name": "stdout",
     "output_type": "stream",
     "text": [
      "tf.Tensor([0 2 1 7 5], shape=(5,), dtype=int32)---tf.Tensor([10 12 11 17 15], shape=(5,), dtype=int32)\n",
      "tf.Tensor([4 3 9 8 6], shape=(5,), dtype=int32)---tf.Tensor([14 13 19 18 16], shape=(5,), dtype=int32)\n",
      "tf.Tensor([6 8 1 4 7], shape=(5,), dtype=int32)---tf.Tensor([16 18 11 14 17], shape=(5,), dtype=int32)\n",
      "tf.Tensor([3 2 5 9 0], shape=(5,), dtype=int32)---tf.Tensor([13 12 15 19 10], shape=(5,), dtype=int32)\n",
      "tf.Tensor([9 8 0 4 6], shape=(5,), dtype=int32)---tf.Tensor([19 18 10 14 16], shape=(5,), dtype=int32)\n",
      "tf.Tensor([5 2 1 3 7], shape=(5,), dtype=int32)---tf.Tensor([15 12 11 13 17], shape=(5,), dtype=int32)\n"
     ]
    }
   ],
   "source": [
    "#동일한 인덱스에 있는 것들끼리\n",
    "#[0,2,1,7,5] -- [10,12,11,17,15]\n",
    "\n",
    "#데이터를 섞는 것이 아니고 인덱스를 섞는것임\n",
    "d = dataset2.shuffle(10).batch(5).repeat(3)\n",
    "for x,y in d:\n",
    "    print(x,y, sep='---')"
   ]
  },
  {
   "cell_type": "markdown",
   "metadata": {
    "slideshow": {
     "slide_type": "slide"
    }
   },
   "source": [
    "##### map"
   ]
  },
  {
   "cell_type": "code",
   "execution_count": 28,
   "metadata": {
    "ExecuteTime": {
     "end_time": "2021-12-01T02:26:11.864775Z",
     "start_time": "2021-12-01T02:26:11.809740Z"
    },
    "scrolled": false,
    "slideshow": {
     "slide_type": "fragment"
    }
   },
   "outputs": [
    {
     "name": "stdout",
     "output_type": "stream",
     "text": [
      "<class 'tensorflow.python.data.ops.dataset_ops.MapDataset'>\n",
      "tf.Tensor(0, shape=(), dtype=int32)\n",
      "tf.Tensor(1, shape=(), dtype=int32)\n",
      "tf.Tensor(4, shape=(), dtype=int32)\n",
      "tf.Tensor(9, shape=(), dtype=int32)\n",
      "tf.Tensor(16, shape=(), dtype=int32)\n",
      "tf.Tensor(25, shape=(), dtype=int32)\n",
      "tf.Tensor(36, shape=(), dtype=int32)\n",
      "tf.Tensor(49, shape=(), dtype=int32)\n",
      "tf.Tensor(64, shape=(), dtype=int32)\n",
      "tf.Tensor(81, shape=(), dtype=int32)\n"
     ]
    }
   ],
   "source": [
    "#매개변수 : 원소를 받을 변수\n",
    "#리턴 : 변환된 값\n",
    "def mapping_func(x):\n",
    "    return x**2\n",
    "#mapping_func(2)이렇게 넣으면 안됨 함수 자체로 넣어야 함\n",
    "dataset9 = dataset.map(mapping_func)\n",
    "print(type(dataset9))\n",
    "for data in dataset9:\n",
    "    print(data)"
   ]
  },
  {
   "cell_type": "code",
   "execution_count": 31,
   "metadata": {
    "ExecuteTime": {
     "end_time": "2021-12-01T02:29:17.467117Z",
     "start_time": "2021-12-01T02:29:17.421097Z"
    },
    "slideshow": {
     "slide_type": "fragment"
    }
   },
   "outputs": [
    {
     "name": "stdout",
     "output_type": "stream",
     "text": [
      "tf.Tensor(0, shape=(), dtype=int32)---tf.Tensor(10, shape=(), dtype=int32)\n",
      "tf.Tensor(1, shape=(), dtype=int32)---tf.Tensor(11, shape=(), dtype=int32)\n",
      "tf.Tensor(8, shape=(), dtype=int32)---tf.Tensor(12, shape=(), dtype=int32)\n",
      "tf.Tensor(27, shape=(), dtype=int32)---tf.Tensor(13, shape=(), dtype=int32)\n",
      "tf.Tensor(64, shape=(), dtype=int32)---tf.Tensor(14, shape=(), dtype=int32)\n",
      "tf.Tensor(125, shape=(), dtype=int32)---tf.Tensor(15, shape=(), dtype=int32)\n",
      "tf.Tensor(216, shape=(), dtype=int32)---tf.Tensor(16, shape=(), dtype=int32)\n",
      "tf.Tensor(343, shape=(), dtype=int32)---tf.Tensor(17, shape=(), dtype=int32)\n",
      "tf.Tensor(512, shape=(), dtype=int32)---tf.Tensor(18, shape=(), dtype=int32)\n",
      "tf.Tensor(729, shape=(), dtype=int32)---tf.Tensor(19, shape=(), dtype=int32)\n"
     ]
    }
   ],
   "source": [
    "def mapping_func2(x, y):\n",
    "    return x**3, y\n",
    "\n",
    "dataset2 = tf.data.Dataset.from_tensor_slices((raw_data1, raw_data2))\n",
    "dataset10 = dataset2.map(mapping_func2)\n",
    "for X, y in dataset10:\n",
    "    print(X, y, sep='---')"
   ]
  },
  {
   "cell_type": "code",
   "execution_count": 32,
   "metadata": {
    "ExecuteTime": {
     "end_time": "2021-12-01T02:30:01.655562Z",
     "start_time": "2021-12-01T02:30:01.618561Z"
    },
    "scrolled": true,
    "slideshow": {
     "slide_type": "fragment"
    }
   },
   "outputs": [
    {
     "name": "stdout",
     "output_type": "stream",
     "text": [
      "tf.Tensor(0, shape=(), dtype=int32)\n",
      "tf.Tensor(1, shape=(), dtype=int32)\n",
      "tf.Tensor(4, shape=(), dtype=int32)\n",
      "tf.Tensor(9, shape=(), dtype=int32)\n",
      "tf.Tensor(16, shape=(), dtype=int32)\n",
      "tf.Tensor(25, shape=(), dtype=int32)\n",
      "tf.Tensor(36, shape=(), dtype=int32)\n",
      "tf.Tensor(49, shape=(), dtype=int32)\n",
      "tf.Tensor(64, shape=(), dtype=int32)\n",
      "tf.Tensor(81, shape=(), dtype=int32)\n"
     ]
    }
   ],
   "source": [
    "dataset11 = dataset.map(lambda x: x**2)\n",
    "for data in dataset11:\n",
    "    print(data)"
   ]
  },
  {
   "cell_type": "code",
   "execution_count": 34,
   "metadata": {
    "ExecuteTime": {
     "end_time": "2021-12-01T02:30:43.052852Z",
     "start_time": "2021-12-01T02:30:43.012852Z"
    },
    "slideshow": {
     "slide_type": "fragment"
    }
   },
   "outputs": [
    {
     "name": "stdout",
     "output_type": "stream",
     "text": [
      "(<tf.Tensor: shape=(), dtype=int32, numpy=0>, <tf.Tensor: shape=(), dtype=int32, numpy=100>)\n",
      "(<tf.Tensor: shape=(), dtype=int32, numpy=1>, <tf.Tensor: shape=(), dtype=int32, numpy=121>)\n",
      "(<tf.Tensor: shape=(), dtype=int32, numpy=8>, <tf.Tensor: shape=(), dtype=int32, numpy=144>)\n",
      "(<tf.Tensor: shape=(), dtype=int32, numpy=27>, <tf.Tensor: shape=(), dtype=int32, numpy=169>)\n",
      "(<tf.Tensor: shape=(), dtype=int32, numpy=64>, <tf.Tensor: shape=(), dtype=int32, numpy=196>)\n",
      "(<tf.Tensor: shape=(), dtype=int32, numpy=125>, <tf.Tensor: shape=(), dtype=int32, numpy=225>)\n",
      "(<tf.Tensor: shape=(), dtype=int32, numpy=216>, <tf.Tensor: shape=(), dtype=int32, numpy=256>)\n",
      "(<tf.Tensor: shape=(), dtype=int32, numpy=343>, <tf.Tensor: shape=(), dtype=int32, numpy=289>)\n",
      "(<tf.Tensor: shape=(), dtype=int32, numpy=512>, <tf.Tensor: shape=(), dtype=int32, numpy=324>)\n",
      "(<tf.Tensor: shape=(), dtype=int32, numpy=729>, <tf.Tensor: shape=(), dtype=int32, numpy=361>)\n"
     ]
    }
   ],
   "source": [
    "dataset12 = dataset2.map(lambda x, y: (x**3, y**2))\n",
    "for data in dataset12:\n",
    "    print(data)"
   ]
  },
  {
   "cell_type": "markdown",
   "metadata": {
    "slideshow": {
     "slide_type": "slide"
    }
   },
   "source": [
    "##### filter"
   ]
  },
  {
   "cell_type": "code",
   "execution_count": 36,
   "metadata": {
    "ExecuteTime": {
     "end_time": "2021-12-01T02:32:56.865521Z",
     "start_time": "2021-12-01T02:32:56.841165Z"
    },
    "slideshow": {
     "slide_type": "fragment"
    }
   },
   "outputs": [
    {
     "name": "stdout",
     "output_type": "stream",
     "text": [
      "<class 'tensorflow.python.data.ops.dataset_ops.FilterDataset'>\n",
      "tf.Tensor(0, shape=(), dtype=int32)\n",
      "tf.Tensor(2, shape=(), dtype=int32)\n",
      "tf.Tensor(4, shape=(), dtype=int32)\n",
      "tf.Tensor(6, shape=(), dtype=int32)\n",
      "tf.Tensor(8, shape=(), dtype=int32)\n"
     ]
    }
   ],
   "source": [
    "#filter: 특정조건을 만족하는 원소만 제공\n",
    "#매개변수: 원소 받을 변수\n",
    "#리턴: bool -> true인 원소만 제공\n",
    "\n",
    "def filter_func(x):\n",
    "    return x%2 == 0 \n",
    "\n",
    "#함수로 넣음\n",
    "dataset13 = dataset.filter(filter_func)\n",
    "print(type(dataset13))\n",
    "\n",
    "for data in dataset13:\n",
    "    print(data)"
   ]
  },
  {
   "cell_type": "code",
   "execution_count": 37,
   "metadata": {
    "ExecuteTime": {
     "end_time": "2021-12-01T02:34:18.820313Z",
     "start_time": "2021-12-01T02:34:18.796313Z"
    },
    "slideshow": {
     "slide_type": "fragment"
    }
   },
   "outputs": [
    {
     "name": "stdout",
     "output_type": "stream",
     "text": [
      "tf.Tensor(6, shape=(), dtype=int32)\n",
      "tf.Tensor(7, shape=(), dtype=int32)\n",
      "tf.Tensor(8, shape=(), dtype=int32)\n",
      "tf.Tensor(9, shape=(), dtype=int32)\n"
     ]
    }
   ],
   "source": [
    "dataset14 = dataset.filter(lambda x : x > 5)\n",
    "for data in dataset14:\n",
    "    print(data)"
   ]
  },
  {
   "cell_type": "markdown",
   "metadata": {
    "slideshow": {
     "slide_type": "slide"
    }
   },
   "source": [
    "##### 종합"
   ]
  },
  {
   "cell_type": "code",
   "execution_count": 50,
   "metadata": {
    "ExecuteTime": {
     "end_time": "2021-12-01T02:39:37.203108Z",
     "start_time": "2021-12-01T02:39:37.187084Z"
    },
    "slideshow": {
     "slide_type": "fragment"
    }
   },
   "outputs": [],
   "source": [
    "raw_data = np.arange(-10,11)\n",
    "#from_tensor_slices(raw_data): #row 데이터 연결\n",
    "dataset_final = tf.data.Dataset.from_tensor_slices(raw_data)\\\n",
    "                               .filter(lambda x:x>=0)\\\n",
    "                               .map(lambda x:x+10)\\\n",
    "                               .shuffle(raw_data.size)\\\n",
    "                               .batch(3)"
   ]
  },
  {
   "cell_type": "code",
   "execution_count": 51,
   "metadata": {
    "ExecuteTime": {
     "end_time": "2021-12-01T02:39:38.873735Z",
     "start_time": "2021-12-01T02:39:38.847391Z"
    },
    "slideshow": {
     "slide_type": "fragment"
    }
   },
   "outputs": [
    {
     "name": "stdout",
     "output_type": "stream",
     "text": [
      "tf.Tensor([14 19 12], shape=(3,), dtype=int32)\n",
      "tf.Tensor([17 18 10], shape=(3,), dtype=int32)\n",
      "tf.Tensor([11 13 15], shape=(3,), dtype=int32)\n",
      "tf.Tensor([16 20], shape=(2,), dtype=int32)\n"
     ]
    }
   ],
   "source": [
    "for data in dataset_final:\n",
    "    print(data)"
   ]
  },
  {
   "cell_type": "markdown",
   "metadata": {
    "slideshow": {
     "slide_type": "slide"
    }
   },
   "source": [
    "# 문제 유형별 MLP 네트워크\n",
    "- Multi Layer Perceptron\n",
    "    - Fully Connected Layer로 구성된 네트워크"
   ]
  },
  {
   "cell_type": "markdown",
   "metadata": {
    "slideshow": {
     "slide_type": "fragment"
    }
   },
   "source": [
    "# Regression(회귀)\n",
    "\n",
    "## Boston Housing Dataset\n",
    "보스턴 주택가격 dataset은 다음과 같은 속성을 바탕으로 해당 타운 주택 가격의 중앙값을 예측하는 문제.\n",
    "- CRIM: 범죄율\n",
    "- ZN: 25,000 평방피트당 주거지역 비율\n",
    "- INDUS: 비소매 상업지구 비율\n",
    "- CHAS: 찰스강에 인접해 있는지 여부(인접:1, 아니면:0)\n",
    "- NOX: 일산화질소 농도(단위: 0.1ppm)\n",
    "- RM: 주택당 방의 수\n",
    "- AGE: 1940년 이전에 건설된 주택의 비율\n",
    "- DIS: 5개의 보스턴 직업고용센터와의 거리(가중 평균)\n",
    "- RAD: 고속도로 접근성\n",
    "- TAX: 재산세율\n",
    "- PTRATIO: 학생/교사 비율\n",
    "- B: 흑인 비율\n",
    "- LSTAT: 하위 계층 비율\n",
    "<br><br>\n",
    "- **Target**\n",
    "    - MEDV: 타운의 주택가격 중앙값(단위: 1,000달러)"
   ]
  },
  {
   "cell_type": "code",
   "execution_count": 52,
   "metadata": {
    "ExecuteTime": {
     "end_time": "2021-12-01T02:46:02.319210Z",
     "start_time": "2021-12-01T02:46:02.308210Z"
    },
    "slideshow": {
     "slide_type": "slide"
    }
   },
   "outputs": [],
   "source": [
    "import numpy as np\n",
    "\n",
    "import tensorflow as tf\n",
    "from tensorflow import keras\n",
    "\n",
    "from tensorflow.keras import layers, models"
   ]
  },
  {
   "cell_type": "code",
   "execution_count": 54,
   "metadata": {
    "ExecuteTime": {
     "end_time": "2021-12-01T02:47:46.780848Z",
     "start_time": "2021-12-01T02:47:46.762823Z"
    },
    "slideshow": {
     "slide_type": "fragment"
    }
   },
   "outputs": [],
   "source": [
    "#random seed값 설정\n",
    "#sklearn 에서는 random_state가 있었는데 tf는 이런게 없음\n",
    "#tf는 random성을 어느정도 유지하고 싶다면(완벽하게는 안됨) 난수고정\n",
    "\n",
    "np.random.seed(0)\n",
    "tf.random.set_seed(0)"
   ]
  },
  {
   "cell_type": "markdown",
   "metadata": {
    "slideshow": {
     "slide_type": "slide"
    }
   },
   "source": [
    "##### 데이터 로딩"
   ]
  },
  {
   "cell_type": "code",
   "execution_count": 55,
   "metadata": {
    "ExecuteTime": {
     "end_time": "2021-12-01T02:47:49.176493Z",
     "start_time": "2021-12-01T02:47:49.168485Z"
    },
    "slideshow": {
     "slide_type": "fragment"
    }
   },
   "outputs": [
    {
     "name": "stdout",
     "output_type": "stream",
     "text": [
      "(404, 13) (102, 13)\n",
      "(404,) (102,)\n"
     ]
    }
   ],
   "source": [
    "(train_X, train_y), (test_X, test_y) = keras.datasets.boston_housing.load_data()\n",
    "print(train_X.shape, test_X.shape)\n",
    "print(train_y.shape, test_y.shape)"
   ]
  },
  {
   "cell_type": "code",
   "execution_count": 56,
   "metadata": {
    "ExecuteTime": {
     "end_time": "2021-12-01T02:48:27.757329Z",
     "start_time": "2021-12-01T02:48:27.743307Z"
    },
    "scrolled": true,
    "slideshow": {
     "slide_type": "fragment"
    }
   },
   "outputs": [
    {
     "data": {
      "text/plain": [
       "array([[1.23247e+00, 0.00000e+00, 8.14000e+00, 0.00000e+00, 5.38000e-01,\n",
       "        6.14200e+00, 9.17000e+01, 3.97690e+00, 4.00000e+00, 3.07000e+02,\n",
       "        2.10000e+01, 3.96900e+02, 1.87200e+01],\n",
       "       [2.17700e-02, 8.25000e+01, 2.03000e+00, 0.00000e+00, 4.15000e-01,\n",
       "        7.61000e+00, 1.57000e+01, 6.27000e+00, 2.00000e+00, 3.48000e+02,\n",
       "        1.47000e+01, 3.95380e+02, 3.11000e+00],\n",
       "       [4.89822e+00, 0.00000e+00, 1.81000e+01, 0.00000e+00, 6.31000e-01,\n",
       "        4.97000e+00, 1.00000e+02, 1.33250e+00, 2.40000e+01, 6.66000e+02,\n",
       "        2.02000e+01, 3.75520e+02, 3.26000e+00],\n",
       "       [3.96100e-02, 0.00000e+00, 5.19000e+00, 0.00000e+00, 5.15000e-01,\n",
       "        6.03700e+00, 3.45000e+01, 5.98530e+00, 5.00000e+00, 2.24000e+02,\n",
       "        2.02000e+01, 3.96900e+02, 8.01000e+00],\n",
       "       [3.69311e+00, 0.00000e+00, 1.81000e+01, 0.00000e+00, 7.13000e-01,\n",
       "        6.37600e+00, 8.84000e+01, 2.56710e+00, 2.40000e+01, 6.66000e+02,\n",
       "        2.02000e+01, 3.91430e+02, 1.46500e+01]])"
      ]
     },
     "execution_count": 56,
     "metadata": {},
     "output_type": "execute_result"
    }
   ],
   "source": [
    "train_X[:5]"
   ]
  },
  {
   "cell_type": "code",
   "execution_count": 57,
   "metadata": {
    "ExecuteTime": {
     "end_time": "2021-12-01T02:48:32.171660Z",
     "start_time": "2021-12-01T02:48:32.158634Z"
    },
    "slideshow": {
     "slide_type": "fragment"
    }
   },
   "outputs": [
    {
     "data": {
      "text/plain": [
       "array([15.2, 42.3, 50. , 21.1, 17.7])"
      ]
     },
     "execution_count": 57,
     "metadata": {},
     "output_type": "execute_result"
    }
   ],
   "source": [
    "train_y[:5]"
   ]
  },
  {
   "cell_type": "markdown",
   "metadata": {
    "slideshow": {
     "slide_type": "slide"
    }
   },
   "source": [
    "##### 하이퍼파라미터, 변수 정의"
   ]
  },
  {
   "cell_type": "code",
   "execution_count": 58,
   "metadata": {
    "ExecuteTime": {
     "end_time": "2021-12-01T03:09:56.743905Z",
     "start_time": "2021-12-01T03:09:56.741901Z"
    },
    "slideshow": {
     "slide_type": "fragment"
    }
   },
   "outputs": [],
   "source": [
    "LEARNING_RATE = 0.001 #optimizer에 설정할 학습률 디폴트 0.001\n",
    "N_EPOCHS  = 200 #데이터셋을 몇번 학습시킬지 횟수 지정. 200번 학습하겠다\n",
    "N_BATCHS = 32 # 배치사이즈 - 최적화 데이터 단위\n",
    "# train/test set의 개수\n",
    "N_TRAIN = train_X.shape[0]  \n",
    "N_TEST = test_X.shape[0]  "
   ]
  },
  {
   "cell_type": "markdown",
   "metadata": {
    "slideshow": {
     "slide_type": "fragment"
    }
   },
   "source": [
    "##### X, y 전처리\n",
    "- MLP는 선형기반 모델이므로 Feature scaling을 해준다."
   ]
  },
  {
   "cell_type": "code",
   "execution_count": 59,
   "metadata": {
    "ExecuteTime": {
     "end_time": "2021-12-01T03:12:31.159647Z",
     "start_time": "2021-12-01T03:12:30.792174Z"
    },
    "slideshow": {
     "slide_type": "fragment"
    }
   },
   "outputs": [],
   "source": [
    "from sklearn.preprocessing import StandardScaler\n",
    "\n",
    "scaler = StandardScaler()\n",
    "X_train = scaler.fit_transform(train_X)\n",
    "X_test = scaler.transform(test_X)"
   ]
  },
  {
   "cell_type": "markdown",
   "metadata": {
    "slideshow": {
     "slide_type": "slide"
    }
   },
   "source": [
    "##### Dataset 생성"
   ]
  },
  {
   "cell_type": "code",
   "execution_count": 60,
   "metadata": {
    "ExecuteTime": {
     "end_time": "2021-12-01T03:13:49.602662Z",
     "start_time": "2021-12-01T03:13:49.592694Z"
    },
    "slideshow": {
     "slide_type": "fragment"
    }
   },
   "outputs": [],
   "source": [
    "#학습 데이터셋 - batch에서 drop_remainder=True로 설정 -> 학습의 일관성을 위해.\n",
    "train_dataset = tf.data.Dataset.from_tensor_slices((X_train, train_y))\\\n",
    "                                .shuffle(N_TRAIN)\\\n",
    "                                .batch(N_BATCHS, drop_remainder=True)\n",
    "\n",
    "test_dataset = tf.data.Dataset.from_tensor_slices((X_test, test_y)).batch(N_BATCHS)"
   ]
  },
  {
   "cell_type": "markdown",
   "metadata": {
    "slideshow": {
     "slide_type": "slide"
    }
   },
   "source": [
    "##### 모델 구현"
   ]
  },
  {
   "cell_type": "code",
   "execution_count": 61,
   "metadata": {
    "ExecuteTime": {
     "end_time": "2021-12-01T03:20:29.832806Z",
     "start_time": "2021-12-01T03:20:29.817783Z"
    }
   },
   "outputs": [
    {
     "data": {
      "text/plain": [
       "(404, 13)"
      ]
     },
     "execution_count": 61,
     "metadata": {},
     "output_type": "execute_result"
    }
   ],
   "source": [
    "X_train.shape"
   ]
  },
  {
   "cell_type": "code",
   "execution_count": 74,
   "metadata": {
    "ExecuteTime": {
     "end_time": "2021-12-01T03:30:42.048405Z",
     "start_time": "2021-12-01T03:30:42.030310Z"
    },
    "slideshow": {
     "slide_type": "fragment"
    }
   },
   "outputs": [],
   "source": [
    "#모델 생성 함수\n",
    "def create_housing_model():\n",
    "    \n",
    "    #모델객체 생성\n",
    "    model = keras.Sequential()\n",
    "    #모델객체에 layer 추가\n",
    "    #hidden layer => feature extractor\n",
    "    #model.add(layer.InputLayer((13,))) #어떤 형태의 레이어를 넣을 것이다\n",
    "    #실질적으로 inputlayer는 일하는 layer가 아님\n",
    "    \n",
    "    #input layer는 입력 데이터의 shape만 정의하면 되므로 \n",
    "    #첫번째 layer의 input_shape 매개변수에 shape를 지정하는것으로 대체할 수 있음.\n",
    "    model.add(layers.Dense(units=128, activation='relu', input_shape=(13,))) \n",
    "                                                         #튜플로 지정해야하기 때문에 반드시 쉼표가 붙어야 함\n",
    "    model.add(layers.Dense(units=64, activation='relu', name='hidden2'))\n",
    "    model.add(layers.Dense(units=32, activation='relu'))\n",
    "    model.add(layers.Dense(units=16, activation='relu'))\n",
    "    #출력 layer\n",
    "    #회귀 (regression):unit개수 = 1(집값 예측값)\n",
    "    #activation 함수:None\n",
    "    #좌표처럼 위도 경도 값을 예측해야 한다면 2 지정 반드시 1은 아님.\n",
    "    model.add(layers.Dense(units=1, name='output')) ##name: 레이어의 이름 설정 \n",
    "    return model"
   ]
  },
  {
   "cell_type": "code",
   "execution_count": 75,
   "metadata": {
    "ExecuteTime": {
     "end_time": "2021-12-01T03:30:42.756282Z",
     "start_time": "2021-12-01T03:30:42.725283Z"
    },
    "slideshow": {
     "slide_type": "fragment"
    }
   },
   "outputs": [],
   "source": [
    "model = create_housing_model()\n",
    "#optimizer='adam'이러면 디폴트로 함.\n",
    "#내가 원하는 옵션을 지정하기 위해선 다음과 같이 지정함\n",
    "\n",
    "#회귀에서 loss함수:: mse(Mean Squared Error)\n",
    "model.compile(optimizer=keras.optimizers.Adam(learning_rate=LEARNING_RATE),\n",
    "              loss='mse')"
   ]
  },
  {
   "cell_type": "code",
   "execution_count": 76,
   "metadata": {
    "ExecuteTime": {
     "end_time": "2021-12-01T03:30:43.297781Z",
     "start_time": "2021-12-01T03:30:43.280783Z"
    },
    "slideshow": {
     "slide_type": "fragment"
    }
   },
   "outputs": [
    {
     "name": "stdout",
     "output_type": "stream",
     "text": [
      "Model: \"sequential_3\"\n",
      "_________________________________________________________________\n",
      " Layer (type)                Output Shape              Param #   \n",
      "=================================================================\n",
      " dense_12 (Dense)            (None, 128)               1792      \n",
      "                                                                 \n",
      " hidden2 (Dense)             (None, 64)                8256      \n",
      "                                                                 \n",
      " dense_13 (Dense)            (None, 32)                2080      \n",
      "                                                                 \n",
      " dense_14 (Dense)            (None, 16)                528       \n",
      "                                                                 \n",
      " output (Dense)              (None, 1)                 17        \n",
      "                                                                 \n",
      "=================================================================\n",
      "Total params: 12,673\n",
      "Trainable params: 12,673\n",
      "Non-trainable params: 0\n",
      "_________________________________________________________________\n"
     ]
    }
   ],
   "source": [
    "model.summary() #모델의 구조 확인"
   ]
  },
  {
   "cell_type": "code",
   "execution_count": 78,
   "metadata": {
    "ExecuteTime": {
     "end_time": "2021-12-01T03:31:14.960645Z",
     "start_time": "2021-12-01T03:31:14.807644Z"
    },
    "slideshow": {
     "slide_type": "fragment"
    }
   },
   "outputs": [
    {
     "data": {
      "image/png": "[encoded data removed]",
      "text/plain": [
       "<IPython.core.display.Image object>"
      ]
     },
     "execution_count": 78,
     "metadata": {},
     "output_type": "execute_result"
    }
   ],
   "source": [
    "keras.utils.plot_model(model, show_shapes=True)"
   ]
  },
  {
   "cell_type": "markdown",
   "metadata": {
    "slideshow": {
     "slide_type": "slide"
    }
   },
   "source": [
    "##### 학습(Train)"
   ]
  },
  {
   "cell_type": "code",
   "execution_count": 79,
   "metadata": {
    "ExecuteTime": {
     "end_time": "2021-12-01T03:32:35.903988Z",
     "start_time": "2021-12-01T03:32:29.977141Z"
    },
    "slideshow": {
     "slide_type": "fragment"
    }
   },
   "outputs": [
    {
     "name": "stdout",
     "output_type": "stream",
     "text": [
      "Epoch 1/200\n",
      "12/12 [==============================] - 0s 7ms/step - loss: 575.2844 - val_loss: 586.5577\n",
      "Epoch 2/200\n",
      "12/12 [==============================] - 0s 2ms/step - loss: 527.5981 - val_loss: 507.0150\n",
      "Epoch 3/200\n",
      "12/12 [==============================] - 0s 2ms/step - loss: 405.4196 - val_loss: 319.4933\n",
      "Epoch 4/200\n",
      "12/12 [==============================] - 0s 2ms/step - loss: 195.2351 - val_loss: 98.3594\n",
      "Epoch 5/200\n",
      "12/12 [==============================] - 0s 2ms/step - loss: 80.0978 - val_loss: 71.2162\n",
      "Epoch 6/200\n",
      "12/12 [==============================] - 0s 2ms/step - loss: 46.3939 - val_loss: 45.0953\n",
      "Epoch 7/200\n",
      "12/12 [==============================] - 0s 2ms/step - loss: 31.8160 - val_loss: 32.7105\n",
      "Epoch 8/200\n",
      "12/12 [==============================] - 0s 2ms/step - loss: 24.9729 - val_loss: 28.2421\n",
      "Epoch 9/200\n",
      "12/12 [==============================] - 0s 2ms/step - loss: 20.8909 - val_loss: 26.0423\n",
      "Epoch 10/200\n",
      "12/12 [==============================] - 0s 2ms/step - loss: 17.6036 - val_loss: 24.5121\n",
      "Epoch 11/200\n",
      "12/12 [==============================] - 0s 2ms/step - loss: 17.8253 - val_loss: 24.8204\n",
      "Epoch 12/200\n",
      "12/12 [==============================] - 0s 2ms/step - loss: 16.5271 - val_loss: 24.6699\n",
      "Epoch 13/200\n",
      "12/12 [==============================] - 0s 2ms/step - loss: 13.7692 - val_loss: 23.8499\n",
      "Epoch 14/200\n",
      "12/12 [==============================] - 0s 2ms/step - loss: 14.4929 - val_loss: 23.4442\n",
      "Epoch 15/200\n",
      "12/12 [==============================] - 0s 2ms/step - loss: 14.0109 - val_loss: 22.8935\n",
      "Epoch 16/200\n",
      "12/12 [==============================] - 0s 2ms/step - loss: 11.9890 - val_loss: 23.8741\n",
      "Epoch 17/200\n",
      "12/12 [==============================] - 0s 2ms/step - loss: 12.5845 - val_loss: 23.8023\n",
      "Epoch 18/200\n",
      "12/12 [==============================] - 0s 2ms/step - loss: 12.7196 - val_loss: 23.8753\n",
      "Epoch 19/200\n",
      "12/12 [==============================] - 0s 2ms/step - loss: 12.1452 - val_loss: 24.1712\n",
      "Epoch 20/200\n",
      "12/12 [==============================] - 0s 2ms/step - loss: 12.0800 - val_loss: 23.2504\n",
      "Epoch 21/200\n",
      "12/12 [==============================] - 0s 2ms/step - loss: 11.5988 - val_loss: 24.0235\n",
      "Epoch 22/200\n",
      "12/12 [==============================] - 0s 2ms/step - loss: 11.3815 - val_loss: 24.4637\n",
      "Epoch 23/200\n",
      "12/12 [==============================] - 0s 2ms/step - loss: 10.9690 - val_loss: 24.5571\n",
      "Epoch 24/200\n",
      "12/12 [==============================] - 0s 2ms/step - loss: 10.3226 - val_loss: 25.2014\n",
      "Epoch 25/200\n",
      "12/12 [==============================] - 0s 2ms/step - loss: 10.8023 - val_loss: 24.3411\n",
      "Epoch 26/200\n",
      "12/12 [==============================] - 0s 2ms/step - loss: 10.4991 - val_loss: 23.0581\n",
      "Epoch 27/200\n",
      "12/12 [==============================] - 0s 2ms/step - loss: 9.5085 - val_loss: 24.3559\n",
      "Epoch 28/200\n",
      "12/12 [==============================] - 0s 2ms/step - loss: 10.2666 - val_loss: 23.4669\n",
      "Epoch 29/200\n",
      "12/12 [==============================] - 0s 2ms/step - loss: 9.9588 - val_loss: 24.8233\n",
      "Epoch 30/200\n",
      "12/12 [==============================] - 0s 2ms/step - loss: 9.8189 - val_loss: 24.8722\n",
      "Epoch 31/200\n",
      "12/12 [==============================] - 0s 2ms/step - loss: 9.7374 - val_loss: 24.5377\n",
      "Epoch 32/200\n",
      "12/12 [==============================] - 0s 2ms/step - loss: 9.6470 - val_loss: 24.0134\n",
      "Epoch 33/200\n",
      "12/12 [==============================] - 0s 2ms/step - loss: 9.7427 - val_loss: 23.2711\n",
      "Epoch 34/200\n",
      "12/12 [==============================] - 0s 2ms/step - loss: 8.9368 - val_loss: 24.3113\n",
      "Epoch 35/200\n",
      "12/12 [==============================] - 0s 2ms/step - loss: 9.4498 - val_loss: 22.3041\n",
      "Epoch 36/200\n",
      "12/12 [==============================] - 0s 2ms/step - loss: 9.1288 - val_loss: 23.3694\n",
      "Epoch 37/200\n",
      "12/12 [==============================] - 0s 2ms/step - loss: 9.1045 - val_loss: 22.9035\n",
      "Epoch 38/200\n",
      "12/12 [==============================] - 0s 2ms/step - loss: 8.7795 - val_loss: 23.6805\n",
      "Epoch 39/200\n",
      "12/12 [==============================] - 0s 2ms/step - loss: 8.5724 - val_loss: 23.7541\n",
      "Epoch 40/200\n",
      "12/12 [==============================] - 0s 2ms/step - loss: 8.6255 - val_loss: 23.0733\n",
      "Epoch 41/200\n",
      "12/12 [==============================] - 0s 2ms/step - loss: 8.5130 - val_loss: 23.8790\n",
      "Epoch 42/200\n",
      "12/12 [==============================] - 0s 2ms/step - loss: 8.7372 - val_loss: 21.7323\n",
      "Epoch 43/200\n",
      "12/12 [==============================] - 0s 2ms/step - loss: 8.4056 - val_loss: 23.7591\n",
      "Epoch 44/200\n",
      "12/12 [==============================] - 0s 2ms/step - loss: 8.2862 - val_loss: 22.3490\n",
      "Epoch 45/200\n",
      "12/12 [==============================] - 0s 2ms/step - loss: 8.4587 - val_loss: 21.2889\n",
      "Epoch 46/200\n",
      "12/12 [==============================] - 0s 2ms/step - loss: 8.3366 - val_loss: 23.5451\n",
      "Epoch 47/200\n",
      "12/12 [==============================] - 0s 2ms/step - loss: 7.4073 - val_loss: 21.2741\n",
      "Epoch 48/200\n",
      "12/12 [==============================] - 0s 2ms/step - loss: 7.3477 - val_loss: 22.2923\n",
      "Epoch 49/200\n",
      "12/12 [==============================] - 0s 2ms/step - loss: 7.7094 - val_loss: 21.5209\n",
      "Epoch 50/200\n",
      "12/12 [==============================] - 0s 2ms/step - loss: 7.2861 - val_loss: 22.0623\n",
      "Epoch 51/200\n",
      "12/12 [==============================] - 0s 2ms/step - loss: 7.6766 - val_loss: 22.0125\n",
      "Epoch 52/200\n",
      "12/12 [==============================] - 0s 2ms/step - loss: 7.1367 - val_loss: 21.2041\n",
      "Epoch 53/200\n",
      "12/12 [==============================] - 0s 2ms/step - loss: 7.3003 - val_loss: 21.8527\n",
      "Epoch 54/200\n",
      "12/12 [==============================] - 0s 2ms/step - loss: 7.5835 - val_loss: 22.4382\n",
      "Epoch 55/200\n",
      "12/12 [==============================] - 0s 2ms/step - loss: 6.7053 - val_loss: 19.4975\n",
      "Epoch 56/200\n",
      "12/12 [==============================] - 0s 2ms/step - loss: 7.1254 - val_loss: 21.1781\n",
      "Epoch 57/200\n",
      "12/12 [==============================] - 0s 2ms/step - loss: 6.8233 - val_loss: 20.0731\n",
      "Epoch 58/200\n",
      "12/12 [==============================] - 0s 2ms/step - loss: 6.9324 - val_loss: 20.9575\n",
      "Epoch 59/200\n",
      "12/12 [==============================] - 0s 2ms/step - loss: 6.6712 - val_loss: 20.9430\n",
      "Epoch 60/200\n",
      "12/12 [==============================] - 0s 2ms/step - loss: 6.7083 - val_loss: 20.7141\n",
      "Epoch 61/200\n",
      "12/12 [==============================] - 0s 2ms/step - loss: 6.6683 - val_loss: 20.1374\n",
      "Epoch 62/200\n",
      "12/12 [==============================] - 0s 2ms/step - loss: 6.7525 - val_loss: 20.7961\n",
      "Epoch 63/200\n",
      "12/12 [==============================] - 0s 2ms/step - loss: 5.9493 - val_loss: 18.8160\n",
      "Epoch 64/200\n",
      "12/12 [==============================] - 0s 2ms/step - loss: 6.1956 - val_loss: 19.4292\n",
      "Epoch 65/200\n",
      "12/12 [==============================] - 0s 2ms/step - loss: 6.1206 - val_loss: 19.9921\n",
      "Epoch 66/200\n",
      "12/12 [==============================] - 0s 2ms/step - loss: 6.0907 - val_loss: 20.0653\n",
      "Epoch 67/200\n",
      "12/12 [==============================] - 0s 2ms/step - loss: 6.1388 - val_loss: 19.5425\n",
      "Epoch 68/200\n",
      "12/12 [==============================] - 0s 2ms/step - loss: 6.1004 - val_loss: 18.8586\n",
      "Epoch 69/200\n",
      "12/12 [==============================] - 0s 2ms/step - loss: 6.1373 - val_loss: 18.4841\n",
      "Epoch 70/200\n",
      "12/12 [==============================] - 0s 2ms/step - loss: 5.9767 - val_loss: 18.8895\n",
      "Epoch 71/200\n",
      "12/12 [==============================] - 0s 2ms/step - loss: 5.8857 - val_loss: 18.3122\n",
      "Epoch 72/200\n",
      "12/12 [==============================] - 0s 2ms/step - loss: 5.6267 - val_loss: 18.2980\n",
      "Epoch 73/200\n",
      "12/12 [==============================] - 0s 2ms/step - loss: 5.8181 - val_loss: 18.0359\n",
      "Epoch 74/200\n",
      "12/12 [==============================] - 0s 2ms/step - loss: 5.4196 - val_loss: 18.5924\n",
      "Epoch 75/200\n",
      "12/12 [==============================] - 0s 2ms/step - loss: 5.6278 - val_loss: 17.9576\n",
      "Epoch 76/200\n",
      "12/12 [==============================] - 0s 2ms/step - loss: 5.7904 - val_loss: 17.5739\n",
      "Epoch 77/200\n",
      "12/12 [==============================] - 0s 2ms/step - loss: 5.7186 - val_loss: 16.8858\n",
      "Epoch 78/200\n",
      "12/12 [==============================] - 0s 2ms/step - loss: 5.5050 - val_loss: 16.6346\n",
      "Epoch 79/200\n",
      "12/12 [==============================] - 0s 2ms/step - loss: 5.0563 - val_loss: 17.8954\n",
      "Epoch 80/200\n",
      "12/12 [==============================] - 0s 2ms/step - loss: 5.4030 - val_loss: 16.5769\n",
      "Epoch 81/200\n",
      "12/12 [==============================] - 0s 2ms/step - loss: 5.2252 - val_loss: 16.6128\n"
     ]
    },
    {
     "name": "stdout",
     "output_type": "stream",
     "text": [
      "Epoch 82/200\n",
      "12/12 [==============================] - 0s 2ms/step - loss: 5.2441 - val_loss: 16.7219\n",
      "Epoch 83/200\n",
      "12/12 [==============================] - 0s 2ms/step - loss: 5.1515 - val_loss: 15.9930\n",
      "Epoch 84/200\n",
      "12/12 [==============================] - 0s 2ms/step - loss: 5.1775 - val_loss: 16.1217\n",
      "Epoch 85/200\n",
      "12/12 [==============================] - 0s 2ms/step - loss: 4.9703 - val_loss: 15.5644\n",
      "Epoch 86/200\n",
      "12/12 [==============================] - 0s 2ms/step - loss: 4.8387 - val_loss: 16.7852\n",
      "Epoch 87/200\n",
      "12/12 [==============================] - 0s 2ms/step - loss: 4.7601 - val_loss: 15.5432\n",
      "Epoch 88/200\n",
      "12/12 [==============================] - 0s 2ms/step - loss: 4.7410 - val_loss: 16.2696\n",
      "Epoch 89/200\n",
      "12/12 [==============================] - 0s 2ms/step - loss: 4.7025 - val_loss: 15.5773\n",
      "Epoch 90/200\n",
      "12/12 [==============================] - 0s 2ms/step - loss: 4.5550 - val_loss: 14.8206\n",
      "Epoch 91/200\n",
      "12/12 [==============================] - 0s 2ms/step - loss: 4.4622 - val_loss: 14.8619\n",
      "Epoch 92/200\n",
      "12/12 [==============================] - 0s 2ms/step - loss: 4.4583 - val_loss: 14.6975\n",
      "Epoch 93/200\n",
      "12/12 [==============================] - 0s 2ms/step - loss: 4.6622 - val_loss: 14.7161\n",
      "Epoch 94/200\n",
      "12/12 [==============================] - 0s 2ms/step - loss: 4.8999 - val_loss: 14.5178\n",
      "Epoch 95/200\n",
      "12/12 [==============================] - 0s 2ms/step - loss: 4.3665 - val_loss: 15.2475\n",
      "Epoch 96/200\n",
      "12/12 [==============================] - 0s 2ms/step - loss: 4.2628 - val_loss: 14.0292\n",
      "Epoch 97/200\n",
      "12/12 [==============================] - 0s 2ms/step - loss: 4.1270 - val_loss: 14.5770\n",
      "Epoch 98/200\n",
      "12/12 [==============================] - 0s 2ms/step - loss: 4.2529 - val_loss: 14.4787\n",
      "Epoch 99/200\n",
      "12/12 [==============================] - 0s 2ms/step - loss: 3.7544 - val_loss: 13.8088\n",
      "Epoch 100/200\n",
      "12/12 [==============================] - 0s 2ms/step - loss: 4.0525 - val_loss: 14.6728\n",
      "Epoch 101/200\n",
      "12/12 [==============================] - 0s 2ms/step - loss: 4.3937 - val_loss: 14.3225\n",
      "Epoch 102/200\n",
      "12/12 [==============================] - 0s 2ms/step - loss: 4.1465 - val_loss: 13.4259\n",
      "Epoch 103/200\n",
      "12/12 [==============================] - 0s 2ms/step - loss: 4.6198 - val_loss: 14.8750\n",
      "Epoch 104/200\n",
      "12/12 [==============================] - 0s 2ms/step - loss: 3.8978 - val_loss: 12.7267\n",
      "Epoch 105/200\n",
      "12/12 [==============================] - 0s 2ms/step - loss: 3.6689 - val_loss: 13.1147\n",
      "Epoch 106/200\n",
      "12/12 [==============================] - 0s 2ms/step - loss: 3.9250 - val_loss: 13.2646\n",
      "Epoch 107/200\n",
      "12/12 [==============================] - 0s 2ms/step - loss: 3.8477 - val_loss: 13.0383\n",
      "Epoch 108/200\n",
      "12/12 [==============================] - 0s 2ms/step - loss: 3.7038 - val_loss: 13.5781\n",
      "Epoch 109/200\n",
      "12/12 [==============================] - 0s 2ms/step - loss: 3.8749 - val_loss: 12.9727\n",
      "Epoch 110/200\n",
      "12/12 [==============================] - 0s 2ms/step - loss: 3.5929 - val_loss: 12.6305\n",
      "Epoch 111/200\n",
      "12/12 [==============================] - 0s 2ms/step - loss: 3.8696 - val_loss: 12.8841\n",
      "Epoch 112/200\n",
      "12/12 [==============================] - 0s 2ms/step - loss: 3.8729 - val_loss: 12.7481\n",
      "Epoch 113/200\n",
      "12/12 [==============================] - 0s 2ms/step - loss: 3.4063 - val_loss: 12.7258\n",
      "Epoch 114/200\n",
      "12/12 [==============================] - 0s 2ms/step - loss: 3.4326 - val_loss: 12.7866\n",
      "Epoch 115/200\n",
      "12/12 [==============================] - 0s 2ms/step - loss: 3.6027 - val_loss: 12.6668\n",
      "Epoch 116/200\n",
      "12/12 [==============================] - 0s 2ms/step - loss: 3.4759 - val_loss: 12.2726\n",
      "Epoch 117/200\n",
      "12/12 [==============================] - 0s 2ms/step - loss: 3.3820 - val_loss: 11.9535\n",
      "Epoch 118/200\n",
      "12/12 [==============================] - 0s 2ms/step - loss: 3.2691 - val_loss: 12.2937\n",
      "Epoch 119/200\n",
      "12/12 [==============================] - 0s 2ms/step - loss: 3.3403 - val_loss: 12.3623\n",
      "Epoch 120/200\n",
      "12/12 [==============================] - 0s 2ms/step - loss: 3.3416 - val_loss: 11.9405\n",
      "Epoch 121/200\n",
      "12/12 [==============================] - 0s 2ms/step - loss: 3.4327 - val_loss: 12.3762\n",
      "Epoch 122/200\n",
      "12/12 [==============================] - 0s 2ms/step - loss: 3.2631 - val_loss: 12.1605\n",
      "Epoch 123/200\n",
      "12/12 [==============================] - 0s 2ms/step - loss: 3.2186 - val_loss: 12.3806\n",
      "Epoch 124/200\n",
      "12/12 [==============================] - 0s 2ms/step - loss: 3.4384 - val_loss: 13.5009\n",
      "Epoch 125/200\n",
      "12/12 [==============================] - 0s 2ms/step - loss: 3.0383 - val_loss: 11.6524\n",
      "Epoch 126/200\n",
      "12/12 [==============================] - 0s 2ms/step - loss: 3.0308 - val_loss: 11.9502\n",
      "Epoch 127/200\n",
      "12/12 [==============================] - 0s 2ms/step - loss: 3.0400 - val_loss: 11.6367\n",
      "Epoch 128/200\n",
      "12/12 [==============================] - 0s 2ms/step - loss: 2.9378 - val_loss: 11.6123\n",
      "Epoch 129/200\n",
      "12/12 [==============================] - 0s 2ms/step - loss: 2.8761 - val_loss: 11.7351\n",
      "Epoch 130/200\n",
      "12/12 [==============================] - 0s 2ms/step - loss: 3.0571 - val_loss: 12.4347\n",
      "Epoch 131/200\n",
      "12/12 [==============================] - 0s 2ms/step - loss: 2.9567 - val_loss: 11.1170\n",
      "Epoch 132/200\n",
      "12/12 [==============================] - 0s 2ms/step - loss: 2.5306 - val_loss: 11.5938\n",
      "Epoch 133/200\n",
      "12/12 [==============================] - 0s 2ms/step - loss: 2.8022 - val_loss: 11.8207\n",
      "Epoch 134/200\n",
      "12/12 [==============================] - 0s 2ms/step - loss: 2.6640 - val_loss: 11.1985\n",
      "Epoch 135/200\n",
      "12/12 [==============================] - 0s 2ms/step - loss: 2.5442 - val_loss: 11.3089\n",
      "Epoch 136/200\n",
      "12/12 [==============================] - 0s 2ms/step - loss: 2.9974 - val_loss: 11.4871\n",
      "Epoch 137/200\n",
      "12/12 [==============================] - 0s 2ms/step - loss: 2.9179 - val_loss: 11.4900\n",
      "Epoch 138/200\n",
      "12/12 [==============================] - 0s 2ms/step - loss: 2.5451 - val_loss: 11.7828\n",
      "Epoch 139/200\n",
      "12/12 [==============================] - 0s 2ms/step - loss: 2.7162 - val_loss: 12.1547\n",
      "Epoch 140/200\n",
      "12/12 [==============================] - 0s 2ms/step - loss: 2.7054 - val_loss: 11.1016\n",
      "Epoch 141/200\n",
      "12/12 [==============================] - 0s 2ms/step - loss: 2.5517 - val_loss: 11.0366\n",
      "Epoch 142/200\n",
      "12/12 [==============================] - 0s 2ms/step - loss: 2.6037 - val_loss: 11.6896\n",
      "Epoch 143/200\n",
      "12/12 [==============================] - 0s 2ms/step - loss: 2.5237 - val_loss: 11.2877\n",
      "Epoch 144/200\n",
      "12/12 [==============================] - 0s 2ms/step - loss: 2.4540 - val_loss: 10.7787\n",
      "Epoch 145/200\n",
      "12/12 [==============================] - 0s 2ms/step - loss: 2.6331 - val_loss: 11.4092\n",
      "Epoch 146/200\n",
      "12/12 [==============================] - 0s 2ms/step - loss: 2.5985 - val_loss: 11.8666\n",
      "Epoch 147/200\n",
      "12/12 [==============================] - 0s 2ms/step - loss: 2.5985 - val_loss: 10.9321\n",
      "Epoch 148/200\n",
      "12/12 [==============================] - 0s 2ms/step - loss: 2.6204 - val_loss: 11.0557\n",
      "Epoch 149/200\n",
      "12/12 [==============================] - 0s 2ms/step - loss: 2.6003 - val_loss: 11.6798\n",
      "Epoch 150/200\n",
      "12/12 [==============================] - 0s 2ms/step - loss: 2.4012 - val_loss: 11.6867\n",
      "Epoch 151/200\n",
      "12/12 [==============================] - 0s 2ms/step - loss: 2.4105 - val_loss: 11.3092\n",
      "Epoch 152/200\n",
      "12/12 [==============================] - 0s 2ms/step - loss: 2.4623 - val_loss: 11.1206\n",
      "Epoch 153/200\n",
      "12/12 [==============================] - 0s 2ms/step - loss: 2.3286 - val_loss: 10.8292\n",
      "Epoch 154/200\n",
      "12/12 [==============================] - 0s 2ms/step - loss: 2.3070 - val_loss: 10.9763\n",
      "Epoch 155/200\n",
      "12/12 [==============================] - 0s 2ms/step - loss: 2.1443 - val_loss: 11.3230\n",
      "Epoch 156/200\n",
      "12/12 [==============================] - 0s 2ms/step - loss: 2.2857 - val_loss: 11.0130\n",
      "Epoch 157/200\n",
      "12/12 [==============================] - 0s 2ms/step - loss: 2.2148 - val_loss: 11.0378\n",
      "Epoch 158/200\n",
      "12/12 [==============================] - 0s 2ms/step - loss: 2.4086 - val_loss: 10.7524\n",
      "Epoch 159/200\n",
      "12/12 [==============================] - 0s 2ms/step - loss: 2.4566 - val_loss: 10.7699\n",
      "Epoch 160/200\n",
      "12/12 [==============================] - 0s 2ms/step - loss: 2.3044 - val_loss: 10.6392\n",
      "Epoch 161/200\n",
      "12/12 [==============================] - 0s 2ms/step - loss: 2.2095 - val_loss: 11.5278\n",
      "Epoch 162/200\n"
     ]
    },
    {
     "name": "stdout",
     "output_type": "stream",
     "text": [
      "12/12 [==============================] - 0s 2ms/step - loss: 2.2887 - val_loss: 11.3453\n",
      "Epoch 163/200\n",
      "12/12 [==============================] - 0s 2ms/step - loss: 2.3530 - val_loss: 11.3524\n",
      "Epoch 164/200\n",
      "12/12 [==============================] - 0s 2ms/step - loss: 2.2270 - val_loss: 10.5416\n",
      "Epoch 165/200\n",
      "12/12 [==============================] - 0s 2ms/step - loss: 2.0586 - val_loss: 10.5311\n",
      "Epoch 166/200\n",
      "12/12 [==============================] - 0s 2ms/step - loss: 2.1604 - val_loss: 10.7544\n",
      "Epoch 167/200\n",
      "12/12 [==============================] - 0s 2ms/step - loss: 2.1404 - val_loss: 10.8674\n",
      "Epoch 168/200\n",
      "12/12 [==============================] - 0s 2ms/step - loss: 2.1590 - val_loss: 10.9360\n",
      "Epoch 169/200\n",
      "12/12 [==============================] - 0s 2ms/step - loss: 2.0669 - val_loss: 10.8213\n",
      "Epoch 170/200\n",
      "12/12 [==============================] - 0s 2ms/step - loss: 1.9819 - val_loss: 10.6212\n",
      "Epoch 171/200\n",
      "12/12 [==============================] - 0s 2ms/step - loss: 1.9703 - val_loss: 10.7001\n",
      "Epoch 172/200\n",
      "12/12 [==============================] - 0s 2ms/step - loss: 1.9503 - val_loss: 10.6014\n",
      "Epoch 173/200\n",
      "12/12 [==============================] - 0s 2ms/step - loss: 2.0252 - val_loss: 10.7648\n",
      "Epoch 174/200\n",
      "12/12 [==============================] - 0s 2ms/step - loss: 2.1622 - val_loss: 11.2274\n",
      "Epoch 175/200\n",
      "12/12 [==============================] - 0s 2ms/step - loss: 2.0577 - val_loss: 10.8988\n",
      "Epoch 176/200\n",
      "12/12 [==============================] - 0s 2ms/step - loss: 1.9715 - val_loss: 10.4414\n",
      "Epoch 177/200\n",
      "12/12 [==============================] - 0s 2ms/step - loss: 1.8813 - val_loss: 10.3313\n",
      "Epoch 178/200\n",
      "12/12 [==============================] - 0s 2ms/step - loss: 1.8903 - val_loss: 11.5014\n",
      "Epoch 179/200\n",
      "12/12 [==============================] - 0s 2ms/step - loss: 1.8289 - val_loss: 10.2727\n",
      "Epoch 180/200\n",
      "12/12 [==============================] - 0s 2ms/step - loss: 1.7289 - val_loss: 10.7074\n",
      "Epoch 181/200\n",
      "12/12 [==============================] - 0s 2ms/step - loss: 1.8635 - val_loss: 10.6843\n",
      "Epoch 182/200\n",
      "12/12 [==============================] - 0s 2ms/step - loss: 1.8041 - val_loss: 10.6700\n",
      "Epoch 183/200\n",
      "12/12 [==============================] - 0s 2ms/step - loss: 1.9721 - val_loss: 10.3628\n",
      "Epoch 184/200\n",
      "12/12 [==============================] - 0s 2ms/step - loss: 2.1014 - val_loss: 10.8542\n",
      "Epoch 185/200\n",
      "12/12 [==============================] - 0s 2ms/step - loss: 2.1414 - val_loss: 11.0311\n",
      "Epoch 186/200\n",
      "12/12 [==============================] - 0s 2ms/step - loss: 1.7704 - val_loss: 10.7942\n",
      "Epoch 187/200\n",
      "12/12 [==============================] - 0s 2ms/step - loss: 1.6724 - val_loss: 10.4256\n",
      "Epoch 188/200\n",
      "12/12 [==============================] - 0s 2ms/step - loss: 1.7479 - val_loss: 10.5276\n",
      "Epoch 189/200\n",
      "12/12 [==============================] - 0s 2ms/step - loss: 1.8807 - val_loss: 10.7393\n",
      "Epoch 190/200\n",
      "12/12 [==============================] - 0s 2ms/step - loss: 1.6712 - val_loss: 10.5358\n",
      "Epoch 191/200\n",
      "12/12 [==============================] - 0s 2ms/step - loss: 1.6361 - val_loss: 10.5990\n",
      "Epoch 192/200\n",
      "12/12 [==============================] - 0s 2ms/step - loss: 1.6012 - val_loss: 10.4300\n",
      "Epoch 193/200\n",
      "12/12 [==============================] - 0s 2ms/step - loss: 1.6106 - val_loss: 11.0000\n",
      "Epoch 194/200\n",
      "12/12 [==============================] - 0s 2ms/step - loss: 1.9513 - val_loss: 11.6183\n",
      "Epoch 195/200\n",
      "12/12 [==============================] - 0s 2ms/step - loss: 1.8537 - val_loss: 10.7492\n",
      "Epoch 196/200\n",
      "12/12 [==============================] - 0s 2ms/step - loss: 1.7321 - val_loss: 10.8009\n",
      "Epoch 197/200\n",
      "12/12 [==============================] - 0s 2ms/step - loss: 1.9589 - val_loss: 10.6481\n",
      "Epoch 198/200\n",
      "12/12 [==============================] - 0s 2ms/step - loss: 1.9034 - val_loss: 10.4023\n",
      "Epoch 199/200\n",
      "12/12 [==============================] - 0s 2ms/step - loss: 1.5934 - val_loss: 10.4791\n",
      "Epoch 200/200\n",
      "12/12 [==============================] - 0s 2ms/step - loss: 1.6493 - val_loss: 10.7706\n"
     ]
    }
   ],
   "source": [
    "#tf.data.Dataset으로 train데이터 주입시 validation_split을 사용할 수 없음.(비율로 나누기)\n",
    "#검증 데이터셋도 DataSet으로 만든 뒤 validation_data 매개변수에 전달함.\n",
    "hist = model.fit(train_dataset,\n",
    "                 epochs=N_EPOCHS,\n",
    "                 validation_data=test_dataset)"
   ]
  },
  {
   "cell_type": "markdown",
   "metadata": {
    "slideshow": {
     "slide_type": "slide"
    }
   },
   "source": [
    "##### 결과 시각화"
   ]
  },
  {
   "cell_type": "code",
   "execution_count": 84,
   "metadata": {
    "ExecuteTime": {
     "end_time": "2021-12-01T03:37:29.611598Z",
     "start_time": "2021-12-01T03:37:29.597567Z"
    },
    "scrolled": true
   },
   "outputs": [
    {
     "data": {
      "text/plain": [
       "dict_keys(['loss', 'val_loss'])"
      ]
     },
     "execution_count": 84,
     "metadata": {},
     "output_type": "execute_result"
    }
   ],
   "source": [
    "hist.history.keys()"
   ]
  },
  {
   "cell_type": "code",
   "execution_count": 80,
   "metadata": {
    "ExecuteTime": {
     "end_time": "2021-12-01T03:36:42.170113Z",
     "start_time": "2021-12-01T03:36:42.017077Z"
    },
    "slideshow": {
     "slide_type": "fragment"
    }
   },
   "outputs": [],
   "source": [
    "import matplotlib.pyplot as plt"
   ]
  },
  {
   "cell_type": "code",
   "execution_count": 86,
   "metadata": {
    "ExecuteTime": {
     "end_time": "2021-12-01T03:38:21.723644Z",
     "start_time": "2021-12-01T03:38:21.631646Z"
    },
    "slideshow": {
     "slide_type": "fragment"
    }
   },
   "outputs": [
    {
     "data": {
      "image/png": "[encoded data removed]",
      "text/plain": [
       "<Figure size 576x432 with 1 Axes>"
      ]
     },
     "metadata": {
      "needs_background": "light"
     },
     "output_type": "display_data"
    }
   ],
   "source": [
    "plt.figure(figsize=(8,6))\n",
    "plt.plot(range(1,N_EPOCHS+1), hist.history['loss'], label='Train Loss')\n",
    "plt.plot(range(1,N_EPOCHS+1), hist.history['val_loss'], label='Validation Loss')\n",
    "plt.xlabel(\"Epochs\")\n",
    "plt.ylabel('Loss')\n",
    "plt.legend()\n",
    "plt.show()"
   ]
  },
  {
   "cell_type": "code",
   "execution_count": 87,
   "metadata": {
    "ExecuteTime": {
     "end_time": "2021-12-01T03:38:22.686593Z",
     "start_time": "2021-12-01T03:38:22.611593Z"
    },
    "slideshow": {
     "slide_type": "fragment"
    }
   },
   "outputs": [
    {
     "data": {
      "image/png": "[encoded data removed]",
      "text/plain": [
       "<Figure size 576x432 with 1 Axes>"
      ]
     },
     "metadata": {
      "needs_background": "light"
     },
     "output_type": "display_data"
    }
   ],
   "source": [
    "plt.figure(figsize=(8,6))\n",
    "plt.plot(range(1,N_EPOCHS+1), hist.history['loss'], label='Train Loss')\n",
    "plt.plot(range(1,N_EPOCHS+1), hist.history['val_loss'], label='Validation Loss')\n",
    "plt.xlabel(\"Epochs\")\n",
    "plt.ylabel('Loss')\n",
    "\n",
    "plt.ylim(0,50)\n",
    "\n",
    "plt.legend()\n",
    "plt.show()"
   ]
  },
  {
   "cell_type": "markdown",
   "metadata": {
    "slideshow": {
     "slide_type": "slide"
    }
   },
   "source": [
    "##### 최종 테스트"
   ]
  },
  {
   "cell_type": "code",
   "execution_count": 91,
   "metadata": {
    "ExecuteTime": {
     "end_time": "2021-12-01T03:39:42.483720Z",
     "start_time": "2021-12-01T03:39:42.469720Z"
    }
   },
   "outputs": [
    {
     "data": {
      "text/plain": [
       "3.281767816284388"
      ]
     },
     "execution_count": 91,
     "metadata": {},
     "output_type": "execute_result"
    }
   ],
   "source": [
    "np.sqrt(10.77)\n",
    "#3천300달러정도 차이남"
   ]
  },
  {
   "cell_type": "code",
   "execution_count": 88,
   "metadata": {
    "ExecuteTime": {
     "end_time": "2021-12-01T03:39:06.726293Z",
     "start_time": "2021-12-01T03:39:06.701293Z"
    },
    "slideshow": {
     "slide_type": "fragment"
    }
   },
   "outputs": [
    {
     "name": "stdout",
     "output_type": "stream",
     "text": [
      "4/4 [==============================] - 0s 1000us/step - loss: 10.7706\n",
      "10.770567893981934\n"
     ]
    }
   ],
   "source": [
    "loss = model.evaluate(test_dataset)\n",
    "print(loss)"
   ]
  },
  {
   "cell_type": "markdown",
   "metadata": {
    "slideshow": {
     "slide_type": "slide"
    }
   },
   "source": [
    "##### 모델 네트워크 저장"
   ]
  },
  {
   "cell_type": "code",
   "execution_count": 92,
   "metadata": {
    "ExecuteTime": {
     "end_time": "2021-12-01T03:40:04.090174Z",
     "start_time": "2021-12-01T03:40:03.739267Z"
    },
    "slideshow": {
     "slide_type": "fragment"
    }
   },
   "outputs": [
    {
     "name": "stdout",
     "output_type": "stream",
     "text": [
      "INFO:tensorflow:Assets written to: models/boston_hosing_model\\assets\n"
     ]
    }
   ],
   "source": [
    "model.save('models/boston_hosing_model') #저장할 디렉토리 경로"
   ]
  },
  {
   "cell_type": "markdown",
   "metadata": {
    "slideshow": {
     "slide_type": "slide"
    }
   },
   "source": [
    "##### 새로운 데이터 추론"
   ]
  },
  {
   "cell_type": "code",
   "execution_count": 93,
   "metadata": {
    "ExecuteTime": {
     "end_time": "2021-12-01T03:40:55.950599Z",
     "start_time": "2021-12-01T03:40:55.878593Z"
    },
    "slideshow": {
     "slide_type": "fragment"
    }
   },
   "outputs": [],
   "source": [
    "new_data = X_test[:5]\n",
    "pred = model.predict(new_data)"
   ]
  },
  {
   "cell_type": "code",
   "execution_count": 94,
   "metadata": {
    "ExecuteTime": {
     "end_time": "2021-12-01T03:40:56.959976Z",
     "start_time": "2021-12-01T03:40:56.950960Z"
    },
    "slideshow": {
     "slide_type": "fragment"
    }
   },
   "outputs": [
    {
     "data": {
      "text/plain": [
       "array([[ 9.225399],\n",
       "       [18.806303],\n",
       "       [20.54857 ],\n",
       "       [31.649189],\n",
       "       [24.709616]], dtype=float32)"
      ]
     },
     "execution_count": 94,
     "metadata": {},
     "output_type": "execute_result"
    }
   ],
   "source": [
    " pred"
   ]
  },
  {
   "cell_type": "code",
   "execution_count": 95,
   "metadata": {
    "ExecuteTime": {
     "end_time": "2021-12-01T03:40:58.510404Z",
     "start_time": "2021-12-01T03:40:58.497891Z"
    },
    "slideshow": {
     "slide_type": "fragment"
    }
   },
   "outputs": [
    {
     "data": {
      "text/plain": [
       "array([ 7.2, 18.8, 19. , 27. , 22.2])"
      ]
     },
     "execution_count": 95,
     "metadata": {},
     "output_type": "execute_result"
    }
   ],
   "source": [
    "test_y[:5]"
   ]
  },
  {
   "cell_type": "markdown",
   "metadata": {
    "slideshow": {
     "slide_type": "slide"
    }
   },
   "source": [
    "# 분류 (Classification)\n",
    "\n",
    "## Fashion MNIST Dataset - 다중분류(Multi-Class Classification) 문제"
   ]
  },
  {
   "cell_type": "markdown",
   "metadata": {
    "slideshow": {
     "slide_type": "fragment"
    }
   },
   "source": [
    "10개의 범주(category)와 70,000개의 흑백 이미지로 구성된 [패션 MNIST](https://github.com/zalandoresearch/fashion-mnist) 데이터셋. \n",
    "이미지는 해상도(28x28 픽셀)가 낮고 다음처럼 개별 의류 품목을 나타낸다:\n",
    "\n",
    "<table>\n",
    "  <tr><td>\n",
    "    <img src=\"https://tensorflow.org/images/fashion-mnist-sprite.png\"\n",
    "         alt=\"Fashion MNIST sprite\"  width=\"600\">\n",
    "  </td></tr>\n",
    "  <tr><td align=\"center\">\n",
    "    <b>그림</b> <a href=\"https://github.com/zalandoresearch/fashion-mnist\">패션-MNIST 샘플</a> (Zalando, MIT License).<br/>&nbsp;\n",
    "  </td></tr>\n",
    "</table>"
   ]
  },
  {
   "cell_type": "markdown",
   "metadata": {
    "slideshow": {
     "slide_type": "fragment"
    }
   },
   "source": [
    "이미지는 28x28 크기이며 Gray scale이다. *레이블*(label)은 0에서 9까지의 정수 배열이다. 아래 표는 이미지에 있는 의류의 **클래스**(class)들이다.\n",
    "\n",
    "<table>\n",
    "  <tr>\n",
    "    <th>레이블</th>\n",
    "    <th>클래스</th>\n",
    "  </tr>\n",
    "  <tr>\n",
    "    <td>0</td>\n",
    "    <td>T-shirt/top</td>\n",
    "  </tr>\n",
    "  <tr>\n",
    "    <td>1</td>\n",
    "    <td>Trousers</td>\n",
    "  </tr>\n",
    "    <tr>\n",
    "    <td>2</td>\n",
    "    <td>Pullover</td>\n",
    "  </tr>\n",
    "    <tr>\n",
    "    <td>3</td>\n",
    "    <td>Dress</td>\n",
    "  </tr>\n",
    "    <tr>\n",
    "    <td>4</td>\n",
    "    <td>Coat</td>\n",
    "  </tr>\n",
    "    <tr>\n",
    "    <td>5</td>\n",
    "    <td>Sandal</td>\n",
    "  </tr>\n",
    "    <tr>\n",
    "    <td>6</td>\n",
    "    <td>Shirt</td>\n",
    "  </tr>\n",
    "    <tr>\n",
    "    <td>7</td>\n",
    "    <td>Sneaker</td>\n",
    "  </tr>\n",
    "    <tr>\n",
    "    <td>8</td>\n",
    "    <td>Bag</td>\n",
    "  </tr>\n",
    "    <tr>\n",
    "    <td>9</td>\n",
    "    <td>Ankle boot</td>\n",
    "  </tr>\n",
    "</table>\n",
    "\n",
    "각 이미지는 하나의 레이블에 매핑되어 있다. 데이터셋에 클래스 이름이 들어있지 않기 때문에 나중에 이미지를 출력할 때 사용하기 위해 별도의 변수를 만들어 저장한다."
   ]
  },
  {
   "cell_type": "code",
   "execution_count": 96,
   "metadata": {
    "ExecuteTime": {
     "end_time": "2021-12-01T06:06:26.296859Z",
     "start_time": "2021-12-01T06:06:26.279474Z"
    },
    "slideshow": {
     "slide_type": "slide"
    }
   },
   "outputs": [],
   "source": [
    "import numpy as np\n",
    "import tensorflow as tf\n",
    "from tensorflow import keras\n",
    "from tensorflow.keras import layers\n",
    "import matplotlib.pyplot as plt\n",
    "\n",
    "np.random.seed(0)\n",
    "tf.random.set_seed(0)"
   ]
  },
  {
   "cell_type": "code",
   "execution_count": 98,
   "metadata": {
    "ExecuteTime": {
     "end_time": "2021-12-01T06:07:02.061635Z",
     "start_time": "2021-12-01T06:07:02.057635Z"
    },
    "slideshow": {
     "slide_type": "fragment"
    }
   },
   "outputs": [],
   "source": [
    "class_names = ['T-shirt/top', 'Trousers', 'Pullover', 'Dress', 'Coat', 'Sandal', 'Shirt', 'Sneaker', 'Bag', 'Ankle boot']"
   ]
  },
  {
   "cell_type": "code",
   "execution_count": 100,
   "metadata": {
    "ExecuteTime": {
     "end_time": "2021-12-01T06:07:38.434227Z",
     "start_time": "2021-12-01T06:07:38.421203Z"
    }
   },
   "outputs": [
    {
     "data": {
      "text/plain": [
       "'Pullover'"
      ]
     },
     "execution_count": 100,
     "metadata": {},
     "output_type": "execute_result"
    }
   ],
   "source": [
    "#이렇게 사용하려고 만듦\n",
    "pred= 2\n",
    "class_names[2]"
   ]
  },
  {
   "cell_type": "markdown",
   "metadata": {
    "slideshow": {
     "slide_type": "slide"
    }
   },
   "source": [
    "##### Data 로딩"
   ]
  },
  {
   "cell_type": "code",
   "execution_count": 101,
   "metadata": {
    "ExecuteTime": {
     "end_time": "2021-12-01T06:08:32.047962Z",
     "start_time": "2021-12-01T06:08:28.614987Z"
    },
    "scrolled": true,
    "slideshow": {
     "slide_type": "fragment"
    }
   },
   "outputs": [
    {
     "name": "stdout",
     "output_type": "stream",
     "text": [
      "Downloading data from https://storage.googleapis.com/tensorflow/tf-keras-datasets/train-labels-idx1-ubyte.gz\n",
      "32768/29515 [=================================] - 0s 0us/step\n",
      "40960/29515 [=========================================] - 0s 0us/step\n",
      "Downloading data from https://storage.googleapis.com/tensorflow/tf-keras-datasets/train-images-idx3-ubyte.gz\n",
      "26427392/26421880 [==============================] - 2s 0us/step\n",
      "26435584/26421880 [==============================] - 2s 0us/step\n",
      "Downloading data from https://storage.googleapis.com/tensorflow/tf-keras-datasets/t10k-labels-idx1-ubyte.gz\n",
      "16384/5148 [===============================================================================================] - 0s 0s/step\n",
      "Downloading data from https://storage.googleapis.com/tensorflow/tf-keras-datasets/t10k-images-idx3-ubyte.gz\n",
      "4423680/4422102 [==============================] - 0s 0us/step\n",
      "4431872/4422102 [==============================] - 0s 0us/step\n"
     ]
    }
   ],
   "source": [
    "(train_image, train_label), (test_image, test_label) = keras.datasets.fashion_mnist.load_data()"
   ]
  },
  {
   "cell_type": "code",
   "execution_count": 102,
   "metadata": {
    "ExecuteTime": {
     "end_time": "2021-12-01T06:08:53.016484Z",
     "start_time": "2021-12-01T06:08:53.005214Z"
    }
   },
   "outputs": [
    {
     "data": {
      "text/plain": [
       "((60000, 28, 28), (10000, 28, 28))"
      ]
     },
     "execution_count": 102,
     "metadata": {},
     "output_type": "execute_result"
    }
   ],
   "source": [
    "train_image.shape, test_image.shape"
   ]
  },
  {
   "cell_type": "code",
   "execution_count": null,
   "metadata": {},
   "outputs": [],
   "source": [
    "#fit(train, val)\n",
    "#evaluate(test)"
   ]
  },
  {
   "cell_type": "markdown",
   "metadata": {
    "slideshow": {
     "slide_type": "fragment"
    }
   },
   "source": [
    "##### validata set  생성"
   ]
  },
  {
   "cell_type": "code",
   "execution_count": 103,
   "metadata": {
    "ExecuteTime": {
     "end_time": "2021-12-01T06:10:02.940923Z",
     "start_time": "2021-12-01T06:10:02.863907Z"
    },
    "slideshow": {
     "slide_type": "fragment"
    }
   },
   "outputs": [],
   "source": [
    "from sklearn.model_selection import train_test_split\n",
    "#원칙적으로 이렇게 하는게 맞음\n",
    "train_image, val_image, train_label, val_label = train_test_split(train_image, train_label, test_size=0.2, stratify=train_label, random_state=0)"
   ]
  },
  {
   "cell_type": "code",
   "execution_count": 104,
   "metadata": {
    "ExecuteTime": {
     "end_time": "2021-12-01T06:11:09.648121Z",
     "start_time": "2021-12-01T06:11:09.644124Z"
    }
   },
   "outputs": [
    {
     "data": {
      "text/plain": [
       "((48000, 28, 28), (12000, 28, 28), (10000, 28, 28))"
      ]
     },
     "execution_count": 104,
     "metadata": {},
     "output_type": "execute_result"
    }
   ],
   "source": [
    "train_image.shape, val_image.shape, test_image.shape"
   ]
  },
  {
   "cell_type": "markdown",
   "metadata": {
    "slideshow": {
     "slide_type": "slide"
    }
   },
   "source": [
    "##### 이미지 확인"
   ]
  },
  {
   "cell_type": "code",
   "execution_count": 107,
   "metadata": {
    "ExecuteTime": {
     "end_time": "2021-12-01T06:13:58.968565Z",
     "start_time": "2021-12-01T06:13:57.866555Z"
    },
    "scrolled": false,
    "slideshow": {
     "slide_type": "fragment"
    }
   },
   "outputs": [
    {
     "data": {
      "image/png": "[encoded data removed]",
      "text/plain": [
       "<Figure size 720x720 with 25 Axes>"
      ]
     },
     "metadata": {
      "needs_background": "light"
     },
     "output_type": "display_data"
    }
   ],
   "source": [
    "plt.figure(figsize=(10,10))\n",
    "for i in range(25):\n",
    "    plt.subplot(5,5,i+1)\n",
    "#    plt.xticks([])\n",
    "#    plt.yticks([])\n",
    "    plt.imshow(train_image[i], cmap=\"Greys\") #cmap='gray'\n",
    "    plt.xlabel(class_names[train_label[i]])\n",
    "\n",
    "plt.tight_layout()\n",
    "plt.show()"
   ]
  },
  {
   "cell_type": "markdown",
   "metadata": {
    "slideshow": {
     "slide_type": "slide"
    }
   },
   "source": [
    "#### 하이퍼파라미터, 변수 설정"
   ]
  },
  {
   "cell_type": "code",
   "execution_count": null,
   "metadata": {
    "ExecuteTime": {
     "end_time": "2021-11-03T00:50:08.423973Z",
     "start_time": "2021-11-03T00:50:08.412998Z"
    },
    "slideshow": {
     "slide_type": "fragment"
    }
   },
   "outputs": [],
   "source": [
    "LEARNING_RATE = 0.001\n",
    "N_EPOCHS = 100\n",
    "N_BATCHS = 100\n",
    "\n",
    "#train/val/test set의 데이터 개수\n",
    "N_TRAIN = train_image.shape[0]\n",
    "N_VAL = val_image.shape[0]\n",
    "N_TEST = test_image.shape[0]"
   ]
  },
  {
   "cell_type": "code",
   "execution_count": 108,
   "metadata": {
    "ExecuteTime": {
     "end_time": "2021-12-01T06:17:46.553106Z",
     "start_time": "2021-12-01T06:17:46.547105Z"
    }
   },
   "outputs": [
    {
     "data": {
      "text/plain": [
       "array([6, 5, 0, ..., 7, 4, 9], dtype=uint8)"
      ]
     },
     "execution_count": 108,
     "metadata": {},
     "output_type": "execute_result"
    }
   ],
   "source": [
    "#label encoding 된 형태\n",
    "train_label"
   ]
  },
  {
   "cell_type": "markdown",
   "metadata": {
    "slideshow": {
     "slide_type": "fragment"
    }
   },
   "source": [
    "#### X, y  전처리\n",
    "- y값 처리\n",
    "    - 다중 분류에서 label encoding 형식의 label을 one hot encoding 처리"
   ]
  },
  {
   "cell_type": "code",
   "execution_count": 110,
   "metadata": {
    "ExecuteTime": {
     "end_time": "2021-12-01T06:20:30.231014Z",
     "start_time": "2021-12-01T06:20:30.228015Z"
    }
   },
   "outputs": [
    {
     "data": {
      "text/plain": [
       "(48000,)"
      ]
     },
     "execution_count": 110,
     "metadata": {},
     "output_type": "execute_result"
    }
   ],
   "source": [
    "#label encoding된 형태\n",
    "train_label.shape"
   ]
  },
  {
   "cell_type": "code",
   "execution_count": 112,
   "metadata": {
    "ExecuteTime": {
     "end_time": "2021-12-01T06:20:32.230357Z",
     "start_time": "2021-12-01T06:20:32.219332Z"
    },
    "slideshow": {
     "slide_type": "fragment"
    }
   },
   "outputs": [
    {
     "name": "stdout",
     "output_type": "stream",
     "text": [
      "(48000, 10) (12000, 10) (10000, 10)\n"
     ]
    }
   ],
   "source": [
    "#to_caltegorical : 원핫인코딩 처리\n",
    "y_train = keras.utils.to_categorical(train_label)\n",
    "y_val = keras.utils.to_categorical(val_label)\n",
    "y_test = keras.utils.to_categorical(test_label)\n",
    "print(y_train.shape, y_val.shape, y_test.shape)"
   ]
  },
  {
   "cell_type": "code",
   "execution_count": 113,
   "metadata": {
    "ExecuteTime": {
     "end_time": "2021-12-01T06:20:36.345692Z",
     "start_time": "2021-12-01T06:20:36.339685Z"
    }
   },
   "outputs": [
    {
     "data": {
      "text/plain": [
       "array([0., 0., 0., 0., 0., 0., 1., 0., 0., 0.], dtype=float32)"
      ]
     },
     "execution_count": 113,
     "metadata": {},
     "output_type": "execute_result"
    }
   ],
   "source": [
    "y_train[0]"
   ]
  },
  {
   "cell_type": "markdown",
   "metadata": {
    "slideshow": {
     "slide_type": "fragment"
    }
   },
   "source": [
    "- x값(이미지) 처리\n",
    "    - 이미지데이터 전처리: 0 ~ 1 정규화. X/255.0 => Dataset 생성에서 처리"
   ]
  },
  {
   "cell_type": "code",
   "execution_count": 114,
   "metadata": {
    "ExecuteTime": {
     "end_time": "2021-12-01T06:23:44.872122Z",
     "start_time": "2021-12-01T06:23:44.812097Z"
    },
    "slideshow": {
     "slide_type": "fragment"
    }
   },
   "outputs": [],
   "source": [
    "#여기서 255로 나누는게 훨씬 효율적임\n",
    "#X_train = train_image.astype(np.float32)/255.0\n",
    "#X_val = val_image.astype(np.float32)/255.0\n",
    "#X_test = test_image.astype(np.float32)/255.0\n",
    "\n",
    "X_train = train_image.astype(np.float32)\n",
    "X_val = val_image.astype(np.float32)\n",
    "X_test = test_image.astype(np.float32)"
   ]
  },
  {
   "cell_type": "markdown",
   "metadata": {
    "slideshow": {
     "slide_type": "slide"
    }
   },
   "source": [
    "##### Dataset 생성"
   ]
  },
  {
   "cell_type": "code",
   "execution_count": 115,
   "metadata": {
    "ExecuteTime": {
     "end_time": "2021-12-01T06:27:52.886000Z",
     "start_time": "2021-12-01T06:27:52.837975Z"
    },
    "slideshow": {
     "slide_type": "fragment"
    }
   },
   "outputs": [],
   "source": [
    "train_dataset = tf.data.Dataset.from_tensor_slices((X_train, y_train))\\\n",
    "                               .map(lambda x, y : (x/255, y))\\\n",
    "                               .shuffle(N_TRAIN)\\\n",
    "                               .batch(N_BATCHS, drop_remainder=True)\n",
    "\n",
    "val_dataset = tf.data.Dataset.from_tensor_slices((X_val, y_val)).map(lambda x, y:(x/255, y)).batch(N_BATCHS)\n",
    "test_dataset = tf.data.Dataset.from_tensor_slices((X_test, y_test)).map(lambda x, y:(x/255, y)).batch(N_BATCHS)"
   ]
  },
  {
   "cell_type": "code",
   "execution_count": 116,
   "metadata": {
    "ExecuteTime": {
     "end_time": "2021-12-01T06:28:04.165313Z",
     "start_time": "2021-12-01T06:28:04.156294Z"
    },
    "slideshow": {
     "slide_type": "fragment"
    }
   },
   "outputs": [
    {
     "data": {
      "text/plain": [
       "(48000, 28, 28)"
      ]
     },
     "execution_count": 116,
     "metadata": {},
     "output_type": "execute_result"
    }
   ],
   "source": [
    "X_train.shape"
   ]
  },
  {
   "cell_type": "markdown",
   "metadata": {
    "slideshow": {
     "slide_type": "slide"
    }
   },
   "source": [
    "##### 모델 생성 및 컴파일"
   ]
  },
  {
   "cell_type": "code",
   "execution_count": 118,
   "metadata": {
    "ExecuteTime": {
     "end_time": "2021-12-01T06:38:15.060208Z",
     "start_time": "2021-12-01T06:38:15.043182Z"
    },
    "slideshow": {
     "slide_type": "fragment"
    }
   },
   "outputs": [],
   "source": [
    "def create_fashionmnist_model():\n",
    "    #모델생성\n",
    "    model = keras.Sequential()\n",
    "    #hidden layer 추가\n",
    "    #model.add(layers.InputLayer(28,28))\n",
    "    \n",
    "    #Dense Layer는 입력으로 1차원 배열을 받음.\n",
    "    #입력 데이터가 1차원이 아닐 경우 1차춴으로 먼저 변환\n",
    "    #Flatten Layer는 N차원의 입력을 1차원으로 변환하는 기능을 제공하는 Layer\n",
    "    model.add(layers.Flatten(input_shape=(28,28)))\n",
    "    model.add(layers.Dense(units=256, activation='relu'))\n",
    "    model.add(layers.Dense(units=128, activation='relu'))\n",
    "    model.add(layers.Dense(units=64, activation='relu'))\n",
    "\n",
    "    #출력 레이어\n",
    "    #다중 클래스 분류::unit개수-클래스개수, activation-sotfmax(클래스별 확률예측)\n",
    "    model.add(layers.Dense(units=10, activation='softmax'))\n",
    "    \n",
    "    return model"
   ]
  },
  {
   "cell_type": "code",
   "execution_count": 119,
   "metadata": {
    "ExecuteTime": {
     "end_time": "2021-12-01T06:38:16.007754Z",
     "start_time": "2021-12-01T06:38:15.973832Z"
    },
    "slideshow": {
     "slide_type": "fragment"
    }
   },
   "outputs": [],
   "source": [
    "model = create_fashionmnist_model()\n",
    "model.compile(optimizer=keras.optimizers.Adam(learning_rate=LEARNING_RATE), \n",
    "              loss='categorical_crossentropy', #다중분류 loss 함수\n",
    "              metrics=['accuracy']) #loss 이외의 추가 평가지표 설정."
   ]
  },
  {
   "cell_type": "code",
   "execution_count": 120,
   "metadata": {
    "ExecuteTime": {
     "end_time": "2021-12-01T06:39:35.806547Z",
     "start_time": "2021-12-01T06:39:35.793513Z"
    },
    "slideshow": {
     "slide_type": "fragment"
    }
   },
   "outputs": [
    {
     "name": "stdout",
     "output_type": "stream",
     "text": [
      "Model: \"sequential_4\"\n",
      "_________________________________________________________________\n",
      " Layer (type)                Output Shape              Param #   \n",
      "=================================================================\n",
      " flatten (Flatten)           (None, 784)               0         \n",
      "                                                                 \n",
      " dense_15 (Dense)            (None, 256)               200960    \n",
      "                                                                 \n",
      " dense_16 (Dense)            (None, 128)               32896     \n",
      "                                                                 \n",
      " dense_17 (Dense)            (None, 64)                8256      \n",
      "                                                                 \n",
      " dense_18 (Dense)            (None, 10)                650       \n",
      "                                                                 \n",
      "=================================================================\n",
      "Total params: 242,762\n",
      "Trainable params: 242,762\n",
      "Non-trainable params: 0\n",
      "_________________________________________________________________\n"
     ]
    }
   ],
   "source": [
    "model.summary()\n",
    "#none은 배치사이즈인데\n",
    "#배치사이즈는 fit할때 지정하는 것이기 때문에 현재단계에서는 모르므로 None이라고 표기"
   ]
  },
  {
   "cell_type": "code",
   "execution_count": 121,
   "metadata": {
    "ExecuteTime": {
     "end_time": "2021-12-01T06:41:51.359262Z",
     "start_time": "2021-12-01T06:41:51.145230Z"
    },
    "slideshow": {
     "slide_type": "fragment"
    }
   },
   "outputs": [
    {
     "data": {
      "image/png": "[encoded data removed]",
      "text/plain": [
       "<IPython.core.display.Image object>"
      ]
     },
     "execution_count": 121,
     "metadata": {},
     "output_type": "execute_result"
    }
   ],
   "source": [
    "keras.utils.plot_model(model, show_shapes=True, to_file='fashion_mnist_model.png')"
   ]
  },
  {
   "cell_type": "markdown",
   "metadata": {
    "slideshow": {
     "slide_type": "slide"
    }
   },
   "source": [
    "##### Train(학습)"
   ]
  },
  {
   "cell_type": "code",
   "execution_count": 122,
   "metadata": {
    "ExecuteTime": {
     "end_time": "2021-12-01T06:48:51.496892Z",
     "start_time": "2021-12-01T06:42:06.854750Z"
    },
    "scrolled": true,
    "slideshow": {
     "slide_type": "fragment"
    }
   },
   "outputs": [
    {
     "name": "stdout",
     "output_type": "stream",
     "text": [
      "Epoch 1/200\n",
      "1500/1500 [==============================] - 2s 1ms/step - loss: 0.5086 - accuracy: 0.8185 - val_loss: 0.4078 - val_accuracy: 0.8462\n",
      "Epoch 2/200\n",
      "1500/1500 [==============================] - 2s 1ms/step - loss: 0.3748 - accuracy: 0.8632 - val_loss: 0.3770 - val_accuracy: 0.8661\n",
      "Epoch 3/200\n",
      "1500/1500 [==============================] - 2s 1ms/step - loss: 0.3380 - accuracy: 0.8751 - val_loss: 0.3489 - val_accuracy: 0.8709\n",
      "Epoch 4/200\n",
      "1500/1500 [==============================] - 2s 1ms/step - loss: 0.3100 - accuracy: 0.8851 - val_loss: 0.3431 - val_accuracy: 0.8749\n",
      "Epoch 5/200\n",
      "1500/1500 [==============================] - 2s 1ms/step - loss: 0.2929 - accuracy: 0.8914 - val_loss: 0.3272 - val_accuracy: 0.8813\n",
      "Epoch 6/200\n",
      "1500/1500 [==============================] - 2s 1ms/step - loss: 0.2778 - accuracy: 0.8974 - val_loss: 0.3226 - val_accuracy: 0.8850\n",
      "Epoch 7/200\n",
      "1500/1500 [==============================] - 2s 1ms/step - loss: 0.2643 - accuracy: 0.9018 - val_loss: 0.3358 - val_accuracy: 0.8816\n",
      "Epoch 8/200\n",
      "1500/1500 [==============================] - 2s 1ms/step - loss: 0.2515 - accuracy: 0.9056 - val_loss: 0.3377 - val_accuracy: 0.8859\n",
      "Epoch 9/200\n",
      "1500/1500 [==============================] - 2s 1ms/step - loss: 0.2426 - accuracy: 0.9080 - val_loss: 0.3311 - val_accuracy: 0.8872\n",
      "Epoch 10/200\n",
      "1500/1500 [==============================] - 2s 1ms/step - loss: 0.2297 - accuracy: 0.9135 - val_loss: 0.3518 - val_accuracy: 0.8807\n",
      "Epoch 11/200\n",
      "1500/1500 [==============================] - 2s 1ms/step - loss: 0.2211 - accuracy: 0.9155 - val_loss: 0.3575 - val_accuracy: 0.8842\n",
      "Epoch 12/200\n",
      "1500/1500 [==============================] - 2s 1ms/step - loss: 0.2138 - accuracy: 0.9184 - val_loss: 0.3348 - val_accuracy: 0.8896\n",
      "Epoch 13/200\n",
      "1500/1500 [==============================] - 2s 1ms/step - loss: 0.2034 - accuracy: 0.9227 - val_loss: 0.3495 - val_accuracy: 0.8887\n",
      "Epoch 14/200\n",
      "1500/1500 [==============================] - 2s 1ms/step - loss: 0.1975 - accuracy: 0.9245 - val_loss: 0.3646 - val_accuracy: 0.8892\n",
      "Epoch 15/200\n",
      "1500/1500 [==============================] - 2s 1ms/step - loss: 0.1925 - accuracy: 0.9276 - val_loss: 0.3556 - val_accuracy: 0.8915\n",
      "Epoch 16/200\n",
      "1500/1500 [==============================] - 2s 1ms/step - loss: 0.1854 - accuracy: 0.9294 - val_loss: 0.3770 - val_accuracy: 0.8872\n",
      "Epoch 17/200\n",
      "1500/1500 [==============================] - 2s 1ms/step - loss: 0.1830 - accuracy: 0.9310 - val_loss: 0.4064 - val_accuracy: 0.8846\n",
      "Epoch 18/200\n",
      "1500/1500 [==============================] - 2s 1ms/step - loss: 0.1743 - accuracy: 0.9332 - val_loss: 0.4024 - val_accuracy: 0.8922\n",
      "Epoch 19/200\n",
      "1500/1500 [==============================] - 2s 1ms/step - loss: 0.1701 - accuracy: 0.9350 - val_loss: 0.3959 - val_accuracy: 0.8869\n",
      "Epoch 20/200\n",
      "1500/1500 [==============================] - 2s 1ms/step - loss: 0.1647 - accuracy: 0.9371 - val_loss: 0.3871 - val_accuracy: 0.8928\n",
      "Epoch 21/200\n",
      "1500/1500 [==============================] - 2s 1ms/step - loss: 0.1610 - accuracy: 0.9390 - val_loss: 0.4325 - val_accuracy: 0.8908\n",
      "Epoch 22/200\n",
      "1500/1500 [==============================] - 2s 1ms/step - loss: 0.1526 - accuracy: 0.9417 - val_loss: 0.4787 - val_accuracy: 0.8858\n",
      "Epoch 23/200\n",
      "1500/1500 [==============================] - 2s 1ms/step - loss: 0.1542 - accuracy: 0.9418 - val_loss: 0.4404 - val_accuracy: 0.8876\n",
      "Epoch 24/200\n",
      "1500/1500 [==============================] - 2s 1ms/step - loss: 0.1486 - accuracy: 0.9421 - val_loss: 0.4388 - val_accuracy: 0.8891\n",
      "Epoch 25/200\n",
      "1500/1500 [==============================] - 2s 1ms/step - loss: 0.1405 - accuracy: 0.9450 - val_loss: 0.4807 - val_accuracy: 0.8840\n",
      "Epoch 26/200\n",
      "1500/1500 [==============================] - 2s 1ms/step - loss: 0.1412 - accuracy: 0.9463 - val_loss: 0.4911 - val_accuracy: 0.8902\n",
      "Epoch 27/200\n",
      "1500/1500 [==============================] - 2s 1ms/step - loss: 0.1384 - accuracy: 0.9471 - val_loss: 0.4978 - val_accuracy: 0.8916\n",
      "Epoch 28/200\n",
      "1500/1500 [==============================] - 2s 1ms/step - loss: 0.1325 - accuracy: 0.9488 - val_loss: 0.4934 - val_accuracy: 0.8876\n",
      "Epoch 29/200\n",
      "1500/1500 [==============================] - 2s 1ms/step - loss: 0.1315 - accuracy: 0.9502 - val_loss: 0.4758 - val_accuracy: 0.8889\n",
      "Epoch 30/200\n",
      "1500/1500 [==============================] - 2s 1ms/step - loss: 0.1249 - accuracy: 0.9514 - val_loss: 0.5102 - val_accuracy: 0.8882\n",
      "Epoch 31/200\n",
      "1500/1500 [==============================] - 2s 1ms/step - loss: 0.1282 - accuracy: 0.9511 - val_loss: 0.5380 - val_accuracy: 0.8832\n",
      "Epoch 32/200\n",
      "1500/1500 [==============================] - 2s 1ms/step - loss: 0.1229 - accuracy: 0.9527 - val_loss: 0.5075 - val_accuracy: 0.8885\n",
      "Epoch 33/200\n",
      "1500/1500 [==============================] - 2s 1ms/step - loss: 0.1210 - accuracy: 0.9536 - val_loss: 0.5057 - val_accuracy: 0.8878\n",
      "Epoch 34/200\n",
      "1500/1500 [==============================] - 2s 1ms/step - loss: 0.1163 - accuracy: 0.9549 - val_loss: 0.5908 - val_accuracy: 0.8869\n",
      "Epoch 35/200\n",
      "1500/1500 [==============================] - 2s 1ms/step - loss: 0.1191 - accuracy: 0.9553 - val_loss: 0.5346 - val_accuracy: 0.8837\n",
      "Epoch 36/200\n",
      "1500/1500 [==============================] - 2s 1ms/step - loss: 0.1107 - accuracy: 0.9567 - val_loss: 0.5204 - val_accuracy: 0.8942\n",
      "Epoch 37/200\n",
      "1500/1500 [==============================] - 2s 1ms/step - loss: 0.1102 - accuracy: 0.9582 - val_loss: 0.5161 - val_accuracy: 0.8938\n",
      "Epoch 38/200\n",
      "1500/1500 [==============================] - 2s 1ms/step - loss: 0.1077 - accuracy: 0.9585 - val_loss: 0.5517 - val_accuracy: 0.8905\n",
      "Epoch 39/200\n",
      "1500/1500 [==============================] - 2s 1ms/step - loss: 0.1039 - accuracy: 0.9604 - val_loss: 0.5352 - val_accuracy: 0.8913\n",
      "Epoch 40/200\n",
      "1500/1500 [==============================] - 2s 1ms/step - loss: 0.1068 - accuracy: 0.9592 - val_loss: 0.5649 - val_accuracy: 0.8913\n",
      "Epoch 41/200\n",
      "1500/1500 [==============================] - 2s 1ms/step - loss: 0.1023 - accuracy: 0.9597 - val_loss: 0.6115 - val_accuracy: 0.8858\n",
      "Epoch 42/200\n",
      "1500/1500 [==============================] - 2s 1ms/step - loss: 0.1040 - accuracy: 0.9604 - val_loss: 0.5628 - val_accuracy: 0.8881\n",
      "Epoch 43/200\n",
      "1500/1500 [==============================] - 2s 1ms/step - loss: 0.0976 - accuracy: 0.9622 - val_loss: 0.5632 - val_accuracy: 0.8920\n",
      "Epoch 44/200\n",
      "1500/1500 [==============================] - 2s 1ms/step - loss: 0.1019 - accuracy: 0.9620 - val_loss: 0.6069 - val_accuracy: 0.8835\n",
      "Epoch 45/200\n",
      "1500/1500 [==============================] - 2s 1ms/step - loss: 0.0977 - accuracy: 0.9634 - val_loss: 0.5473 - val_accuracy: 0.8926\n",
      "Epoch 46/200\n",
      "1500/1500 [==============================] - 2s 1ms/step - loss: 0.0940 - accuracy: 0.9651 - val_loss: 0.5595 - val_accuracy: 0.8863\n",
      "Epoch 47/200\n",
      "1500/1500 [==============================] - 2s 1ms/step - loss: 0.0965 - accuracy: 0.9641 - val_loss: 0.5913 - val_accuracy: 0.8910\n",
      "Epoch 48/200\n",
      "1500/1500 [==============================] - 2s 1ms/step - loss: 0.0920 - accuracy: 0.9654 - val_loss: 0.6391 - val_accuracy: 0.8864\n",
      "Epoch 49/200\n",
      "1500/1500 [==============================] - 2s 1ms/step - loss: 0.0866 - accuracy: 0.9674 - val_loss: 0.6730 - val_accuracy: 0.8842\n",
      "Epoch 50/200\n",
      "1500/1500 [==============================] - 2s 1ms/step - loss: 0.0899 - accuracy: 0.9659 - val_loss: 0.6499 - val_accuracy: 0.8867\n",
      "Epoch 51/200\n",
      "1500/1500 [==============================] - 2s 1ms/step - loss: 0.0900 - accuracy: 0.9661 - val_loss: 0.6971 - val_accuracy: 0.8832\n",
      "Epoch 52/200\n",
      "1500/1500 [==============================] - 2s 1ms/step - loss: 0.0885 - accuracy: 0.9669 - val_loss: 0.6779 - val_accuracy: 0.8871\n",
      "Epoch 53/200\n",
      "1500/1500 [==============================] - 2s 1ms/step - loss: 0.0853 - accuracy: 0.9685 - val_loss: 0.6440 - val_accuracy: 0.8878\n",
      "Epoch 54/200\n",
      "1500/1500 [==============================] - 2s 1ms/step - loss: 0.0834 - accuracy: 0.9677 - val_loss: 0.6034 - val_accuracy: 0.8882\n",
      "Epoch 55/200\n",
      "1500/1500 [==============================] - 2s 1ms/step - loss: 0.0743 - accuracy: 0.9724 - val_loss: 0.6963 - val_accuracy: 0.8867\n",
      "Epoch 56/200\n",
      "1500/1500 [==============================] - 2s 1ms/step - loss: 0.0864 - accuracy: 0.9683 - val_loss: 0.6648 - val_accuracy: 0.8899\n",
      "Epoch 57/200\n"
     ]
    },
    {
     "name": "stdout",
     "output_type": "stream",
     "text": [
      "1500/1500 [==============================] - 2s 1ms/step - loss: 0.0763 - accuracy: 0.9721 - val_loss: 0.6890 - val_accuracy: 0.8892\n",
      "Epoch 58/200\n",
      "1500/1500 [==============================] - 2s 1ms/step - loss: 0.0892 - accuracy: 0.9676 - val_loss: 0.6681 - val_accuracy: 0.8903\n",
      "Epoch 59/200\n",
      "1500/1500 [==============================] - 2s 1ms/step - loss: 0.0735 - accuracy: 0.9716 - val_loss: 0.6913 - val_accuracy: 0.8848\n",
      "Epoch 60/200\n",
      "1500/1500 [==============================] - 2s 1ms/step - loss: 0.0755 - accuracy: 0.9715 - val_loss: 0.7258 - val_accuracy: 0.8884\n",
      "Epoch 61/200\n",
      "1500/1500 [==============================] - 2s 1ms/step - loss: 0.0782 - accuracy: 0.9714 - val_loss: 0.6976 - val_accuracy: 0.8872\n",
      "Epoch 62/200\n",
      "1500/1500 [==============================] - 2s 1ms/step - loss: 0.0745 - accuracy: 0.9720 - val_loss: 0.7199 - val_accuracy: 0.8896\n",
      "Epoch 63/200\n",
      "1500/1500 [==============================] - 2s 1ms/step - loss: 0.0813 - accuracy: 0.9695 - val_loss: 0.6958 - val_accuracy: 0.8885\n",
      "Epoch 64/200\n",
      "1500/1500 [==============================] - 2s 1ms/step - loss: 0.0737 - accuracy: 0.9725 - val_loss: 0.7943 - val_accuracy: 0.8845\n",
      "Epoch 65/200\n",
      "1500/1500 [==============================] - 2s 1ms/step - loss: 0.0752 - accuracy: 0.9723 - val_loss: 0.6981 - val_accuracy: 0.8897\n",
      "Epoch 66/200\n",
      "1500/1500 [==============================] - 2s 1ms/step - loss: 0.0717 - accuracy: 0.9732 - val_loss: 0.7273 - val_accuracy: 0.8887\n",
      "Epoch 67/200\n",
      "1500/1500 [==============================] - 2s 1ms/step - loss: 0.0685 - accuracy: 0.9743 - val_loss: 0.7913 - val_accuracy: 0.8852\n",
      "Epoch 68/200\n",
      "1500/1500 [==============================] - 2s 1ms/step - loss: 0.0707 - accuracy: 0.9739 - val_loss: 0.7015 - val_accuracy: 0.8926\n",
      "Epoch 69/200\n",
      "1500/1500 [==============================] - 2s 1ms/step - loss: 0.0667 - accuracy: 0.9751 - val_loss: 0.7546 - val_accuracy: 0.8828\n",
      "Epoch 70/200\n",
      "1500/1500 [==============================] - 2s 1ms/step - loss: 0.0687 - accuracy: 0.9739 - val_loss: 0.7371 - val_accuracy: 0.8917\n",
      "Epoch 71/200\n",
      "1500/1500 [==============================] - 2s 1ms/step - loss: 0.0672 - accuracy: 0.9748 - val_loss: 0.7153 - val_accuracy: 0.8930\n",
      "Epoch 72/200\n",
      "1500/1500 [==============================] - 2s 1ms/step - loss: 0.0669 - accuracy: 0.9758 - val_loss: 0.7560 - val_accuracy: 0.8901\n",
      "Epoch 73/200\n",
      "1500/1500 [==============================] - 2s 1ms/step - loss: 0.0676 - accuracy: 0.9756 - val_loss: 0.7864 - val_accuracy: 0.8906\n",
      "Epoch 74/200\n",
      "1500/1500 [==============================] - 2s 1ms/step - loss: 0.0648 - accuracy: 0.9767 - val_loss: 0.7504 - val_accuracy: 0.8867\n",
      "Epoch 75/200\n",
      "1500/1500 [==============================] - 2s 1ms/step - loss: 0.0612 - accuracy: 0.9772 - val_loss: 0.7556 - val_accuracy: 0.8863\n",
      "Epoch 76/200\n",
      "1500/1500 [==============================] - 2s 1ms/step - loss: 0.0646 - accuracy: 0.9756 - val_loss: 0.7655 - val_accuracy: 0.8892\n",
      "Epoch 77/200\n",
      "1500/1500 [==============================] - 2s 1ms/step - loss: 0.0610 - accuracy: 0.9764 - val_loss: 0.7839 - val_accuracy: 0.8882\n",
      "Epoch 78/200\n",
      "1500/1500 [==============================] - 2s 1ms/step - loss: 0.0632 - accuracy: 0.9763 - val_loss: 0.7683 - val_accuracy: 0.8906\n",
      "Epoch 79/200\n",
      "1500/1500 [==============================] - 2s 1ms/step - loss: 0.0656 - accuracy: 0.9765 - val_loss: 0.7336 - val_accuracy: 0.8910\n",
      "Epoch 80/200\n",
      "1500/1500 [==============================] - 2s 1ms/step - loss: 0.0571 - accuracy: 0.9792 - val_loss: 0.7539 - val_accuracy: 0.8889\n",
      "Epoch 81/200\n",
      "1500/1500 [==============================] - 2s 1ms/step - loss: 0.0616 - accuracy: 0.9771 - val_loss: 0.8154 - val_accuracy: 0.8848\n",
      "Epoch 82/200\n",
      "1500/1500 [==============================] - 2s 1ms/step - loss: 0.0577 - accuracy: 0.9788 - val_loss: 0.7527 - val_accuracy: 0.8886\n",
      "Epoch 83/200\n",
      "1500/1500 [==============================] - 2s 1ms/step - loss: 0.0623 - accuracy: 0.9775 - val_loss: 0.8644 - val_accuracy: 0.8877\n",
      "Epoch 84/200\n",
      "1500/1500 [==============================] - 2s 1ms/step - loss: 0.0607 - accuracy: 0.9780 - val_loss: 0.8894 - val_accuracy: 0.8909\n",
      "Epoch 85/200\n",
      "1500/1500 [==============================] - 2s 1ms/step - loss: 0.0549 - accuracy: 0.9806 - val_loss: 0.8269 - val_accuracy: 0.8907\n",
      "Epoch 86/200\n",
      "1500/1500 [==============================] - 2s 1ms/step - loss: 0.0631 - accuracy: 0.9779 - val_loss: 0.8546 - val_accuracy: 0.8894\n",
      "Epoch 87/200\n",
      "1500/1500 [==============================] - 2s 1ms/step - loss: 0.0567 - accuracy: 0.9798 - val_loss: 0.9208 - val_accuracy: 0.8883\n",
      "Epoch 88/200\n",
      "1500/1500 [==============================] - 2s 1ms/step - loss: 0.0557 - accuracy: 0.9794 - val_loss: 0.8537 - val_accuracy: 0.8856\n",
      "Epoch 89/200\n",
      "1500/1500 [==============================] - 2s 1ms/step - loss: 0.0595 - accuracy: 0.9786 - val_loss: 0.8420 - val_accuracy: 0.8919\n",
      "Epoch 90/200\n",
      "1500/1500 [==============================] - 2s 1ms/step - loss: 0.0564 - accuracy: 0.9793 - val_loss: 0.9083 - val_accuracy: 0.8857\n",
      "Epoch 91/200\n",
      "1500/1500 [==============================] - 2s 1ms/step - loss: 0.0594 - accuracy: 0.9787 - val_loss: 0.8805 - val_accuracy: 0.8895\n",
      "Epoch 92/200\n",
      "1500/1500 [==============================] - 2s 1ms/step - loss: 0.0489 - accuracy: 0.9820 - val_loss: 0.9133 - val_accuracy: 0.8898\n",
      "Epoch 93/200\n",
      "1500/1500 [==============================] - 2s 1ms/step - loss: 0.0619 - accuracy: 0.9784 - val_loss: 0.8639 - val_accuracy: 0.8857\n",
      "Epoch 94/200\n",
      "1500/1500 [==============================] - 2s 1ms/step - loss: 0.0516 - accuracy: 0.9810 - val_loss: 0.9421 - val_accuracy: 0.8893\n",
      "Epoch 95/200\n",
      "1500/1500 [==============================] - 2s 1ms/step - loss: 0.0592 - accuracy: 0.9791 - val_loss: 0.8849 - val_accuracy: 0.8854\n",
      "Epoch 96/200\n",
      "1500/1500 [==============================] - 2s 1ms/step - loss: 0.0553 - accuracy: 0.9800 - val_loss: 0.8744 - val_accuracy: 0.8917\n",
      "Epoch 97/200\n",
      "1500/1500 [==============================] - 2s 1ms/step - loss: 0.0538 - accuracy: 0.9810 - val_loss: 0.9303 - val_accuracy: 0.8873\n",
      "Epoch 98/200\n",
      "1500/1500 [==============================] - 2s 1ms/step - loss: 0.0516 - accuracy: 0.9816 - val_loss: 0.9167 - val_accuracy: 0.8885\n",
      "Epoch 99/200\n",
      "1500/1500 [==============================] - 2s 1ms/step - loss: 0.0590 - accuracy: 0.9799 - val_loss: 1.0064 - val_accuracy: 0.8876\n",
      "Epoch 100/200\n",
      "1500/1500 [==============================] - 2s 1ms/step - loss: 0.0466 - accuracy: 0.9838 - val_loss: 0.9800 - val_accuracy: 0.8849\n",
      "Epoch 101/200\n",
      "1500/1500 [==============================] - 2s 1ms/step - loss: 0.0485 - accuracy: 0.9819 - val_loss: 1.0240 - val_accuracy: 0.8849\n",
      "Epoch 102/200\n",
      "1500/1500 [==============================] - 2s 1ms/step - loss: 0.0584 - accuracy: 0.9791 - val_loss: 0.9754 - val_accuracy: 0.8823\n",
      "Epoch 103/200\n",
      "1500/1500 [==============================] - 2s 1ms/step - loss: 0.0524 - accuracy: 0.9814 - val_loss: 0.9302 - val_accuracy: 0.8897\n",
      "Epoch 104/200\n",
      "1500/1500 [==============================] - 2s 1ms/step - loss: 0.0434 - accuracy: 0.9842 - val_loss: 0.9258 - val_accuracy: 0.8862\n",
      "Epoch 105/200\n",
      "1500/1500 [==============================] - 2s 1ms/step - loss: 0.0576 - accuracy: 0.9798 - val_loss: 0.9042 - val_accuracy: 0.8888\n",
      "Epoch 106/200\n",
      "1500/1500 [==============================] - 2s 1ms/step - loss: 0.0483 - accuracy: 0.9830 - val_loss: 0.9292 - val_accuracy: 0.8889\n",
      "Epoch 107/200\n",
      "1500/1500 [==============================] - 2s 1ms/step - loss: 0.0466 - accuracy: 0.9832 - val_loss: 1.0598 - val_accuracy: 0.8872\n",
      "Epoch 108/200\n",
      "1500/1500 [==============================] - 2s 1ms/step - loss: 0.0508 - accuracy: 0.9827 - val_loss: 0.9525 - val_accuracy: 0.8854\n",
      "Epoch 109/200\n",
      "1500/1500 [==============================] - 2s 1ms/step - loss: 0.0485 - accuracy: 0.9832 - val_loss: 0.9665 - val_accuracy: 0.8898\n",
      "Epoch 110/200\n",
      "1500/1500 [==============================] - 2s 1ms/step - loss: 0.0466 - accuracy: 0.9833 - val_loss: 0.9113 - val_accuracy: 0.8864\n",
      "Epoch 111/200\n",
      "1500/1500 [==============================] - 2s 1ms/step - loss: 0.0442 - accuracy: 0.9840 - val_loss: 1.0270 - val_accuracy: 0.8892\n",
      "Epoch 112/200\n",
      "1500/1500 [==============================] - 2s 1ms/step - loss: 0.0443 - accuracy: 0.9840 - val_loss: 0.9564 - val_accuracy: 0.8850\n",
      "Epoch 113/200\n"
     ]
    },
    {
     "name": "stdout",
     "output_type": "stream",
     "text": [
      "1500/1500 [==============================] - 2s 1ms/step - loss: 0.0485 - accuracy: 0.9825 - val_loss: 1.0380 - val_accuracy: 0.8893\n",
      "Epoch 114/200\n",
      "1500/1500 [==============================] - 2s 1ms/step - loss: 0.0560 - accuracy: 0.9811 - val_loss: 0.9527 - val_accuracy: 0.8888\n",
      "Epoch 115/200\n",
      "1500/1500 [==============================] - 2s 1ms/step - loss: 0.0381 - accuracy: 0.9864 - val_loss: 1.0484 - val_accuracy: 0.8898\n",
      "Epoch 116/200\n",
      "1500/1500 [==============================] - 2s 1ms/step - loss: 0.0548 - accuracy: 0.9818 - val_loss: 1.0182 - val_accuracy: 0.8798\n",
      "Epoch 117/200\n",
      "1500/1500 [==============================] - 2s 1ms/step - loss: 0.0404 - accuracy: 0.9858 - val_loss: 1.0437 - val_accuracy: 0.8909\n",
      "Epoch 118/200\n",
      "1500/1500 [==============================] - 2s 1ms/step - loss: 0.0478 - accuracy: 0.9831 - val_loss: 1.0384 - val_accuracy: 0.8873\n",
      "Epoch 119/200\n",
      "1500/1500 [==============================] - 2s 1ms/step - loss: 0.0455 - accuracy: 0.9838 - val_loss: 0.9251 - val_accuracy: 0.8898\n",
      "Epoch 120/200\n",
      "1500/1500 [==============================] - 2s 1ms/step - loss: 0.0499 - accuracy: 0.9827 - val_loss: 1.0526 - val_accuracy: 0.8828\n",
      "Epoch 121/200\n",
      "1500/1500 [==============================] - 2s 1ms/step - loss: 0.0459 - accuracy: 0.9840 - val_loss: 1.0110 - val_accuracy: 0.8860\n",
      "Epoch 122/200\n",
      "1500/1500 [==============================] - 2s 1ms/step - loss: 0.0479 - accuracy: 0.9834 - val_loss: 0.9661 - val_accuracy: 0.8909\n",
      "Epoch 123/200\n",
      "1500/1500 [==============================] - 2s 1ms/step - loss: 0.0434 - accuracy: 0.9852 - val_loss: 0.9653 - val_accuracy: 0.8904\n",
      "Epoch 124/200\n",
      "1500/1500 [==============================] - 2s 1ms/step - loss: 0.0390 - accuracy: 0.9865 - val_loss: 0.9753 - val_accuracy: 0.8890\n",
      "Epoch 125/200\n",
      "1500/1500 [==============================] - 2s 1ms/step - loss: 0.0416 - accuracy: 0.9849 - val_loss: 1.0870 - val_accuracy: 0.8913\n",
      "Epoch 126/200\n",
      "1500/1500 [==============================] - 2s 1ms/step - loss: 0.0498 - accuracy: 0.9825 - val_loss: 0.9707 - val_accuracy: 0.8922\n",
      "Epoch 127/200\n",
      "1500/1500 [==============================] - 2s 1ms/step - loss: 0.0364 - accuracy: 0.9871 - val_loss: 1.0308 - val_accuracy: 0.8926\n",
      "Epoch 128/200\n",
      "1500/1500 [==============================] - 2s 1ms/step - loss: 0.0416 - accuracy: 0.9849 - val_loss: 1.0633 - val_accuracy: 0.8877\n",
      "Epoch 129/200\n",
      "1500/1500 [==============================] - 2s 1ms/step - loss: 0.0485 - accuracy: 0.9838 - val_loss: 1.0522 - val_accuracy: 0.8867\n",
      "Epoch 130/200\n",
      "1500/1500 [==============================] - 2s 1ms/step - loss: 0.0408 - accuracy: 0.9860 - val_loss: 1.0976 - val_accuracy: 0.8875\n",
      "Epoch 131/200\n",
      "1500/1500 [==============================] - 2s 1ms/step - loss: 0.0378 - accuracy: 0.9868 - val_loss: 1.1248 - val_accuracy: 0.8878\n",
      "Epoch 132/200\n",
      "1500/1500 [==============================] - 2s 1ms/step - loss: 0.0415 - accuracy: 0.9859 - val_loss: 1.0490 - val_accuracy: 0.8899\n",
      "Epoch 133/200\n",
      "1500/1500 [==============================] - 2s 1ms/step - loss: 0.0412 - accuracy: 0.9862 - val_loss: 1.0095 - val_accuracy: 0.8848\n",
      "Epoch 134/200\n",
      "1500/1500 [==============================] - 2s 1ms/step - loss: 0.0463 - accuracy: 0.9840 - val_loss: 1.0012 - val_accuracy: 0.8867\n",
      "Epoch 135/200\n",
      "1500/1500 [==============================] - 2s 1ms/step - loss: 0.0419 - accuracy: 0.9850 - val_loss: 1.0633 - val_accuracy: 0.8885\n",
      "Epoch 136/200\n",
      "1500/1500 [==============================] - 2s 1ms/step - loss: 0.0470 - accuracy: 0.9845 - val_loss: 1.0512 - val_accuracy: 0.8857\n",
      "Epoch 137/200\n",
      "1500/1500 [==============================] - 2s 1ms/step - loss: 0.0401 - accuracy: 0.9872 - val_loss: 1.0740 - val_accuracy: 0.8851\n",
      "Epoch 138/200\n",
      "1500/1500 [==============================] - 2s 1ms/step - loss: 0.0378 - accuracy: 0.9870 - val_loss: 1.0585 - val_accuracy: 0.8892\n",
      "Epoch 139/200\n",
      "1500/1500 [==============================] - 2s 1ms/step - loss: 0.0404 - accuracy: 0.9868 - val_loss: 1.1320 - val_accuracy: 0.8883\n",
      "Epoch 140/200\n",
      "1500/1500 [==============================] - 2s 1ms/step - loss: 0.0399 - accuracy: 0.9867 - val_loss: 1.1032 - val_accuracy: 0.8886\n",
      "Epoch 141/200\n",
      "1500/1500 [==============================] - 2s 1ms/step - loss: 0.0421 - accuracy: 0.9856 - val_loss: 1.1362 - val_accuracy: 0.8883\n",
      "Epoch 142/200\n",
      "1500/1500 [==============================] - 2s 1ms/step - loss: 0.0426 - accuracy: 0.9864 - val_loss: 1.0558 - val_accuracy: 0.8892\n",
      "Epoch 143/200\n",
      "1500/1500 [==============================] - 2s 1ms/step - loss: 0.0379 - accuracy: 0.9866 - val_loss: 1.0439 - val_accuracy: 0.8869\n",
      "Epoch 144/200\n",
      "1500/1500 [==============================] - 2s 1ms/step - loss: 0.0388 - accuracy: 0.9864 - val_loss: 1.0607 - val_accuracy: 0.8878\n",
      "Epoch 145/200\n",
      "1500/1500 [==============================] - 2s 1ms/step - loss: 0.0440 - accuracy: 0.9858 - val_loss: 1.0345 - val_accuracy: 0.8917\n",
      "Epoch 146/200\n",
      "1500/1500 [==============================] - 2s 1ms/step - loss: 0.0376 - accuracy: 0.9876 - val_loss: 1.1348 - val_accuracy: 0.8905\n",
      "Epoch 147/200\n",
      "1500/1500 [==============================] - 2s 1ms/step - loss: 0.0396 - accuracy: 0.9866 - val_loss: 1.1194 - val_accuracy: 0.8885\n",
      "Epoch 148/200\n",
      "1500/1500 [==============================] - 2s 1ms/step - loss: 0.0426 - accuracy: 0.9869 - val_loss: 1.0486 - val_accuracy: 0.8882\n",
      "Epoch 149/200\n",
      "1500/1500 [==============================] - 2s 1ms/step - loss: 0.0435 - accuracy: 0.9866 - val_loss: 1.0885 - val_accuracy: 0.8921\n",
      "Epoch 150/200\n",
      "1500/1500 [==============================] - 2s 1ms/step - loss: 0.0372 - accuracy: 0.9879 - val_loss: 1.0970 - val_accuracy: 0.8927\n",
      "Epoch 151/200\n",
      "1500/1500 [==============================] - 2s 1ms/step - loss: 0.0347 - accuracy: 0.9883 - val_loss: 1.0863 - val_accuracy: 0.8874\n",
      "Epoch 152/200\n",
      "1500/1500 [==============================] - 2s 1ms/step - loss: 0.0410 - accuracy: 0.9861 - val_loss: 1.1184 - val_accuracy: 0.8883\n",
      "Epoch 153/200\n",
      "1500/1500 [==============================] - 2s 1ms/step - loss: 0.0397 - accuracy: 0.9866 - val_loss: 1.0750 - val_accuracy: 0.8875\n",
      "Epoch 154/200\n",
      "1500/1500 [==============================] - 2s 1ms/step - loss: 0.0428 - accuracy: 0.9860 - val_loss: 1.0301 - val_accuracy: 0.8900\n",
      "Epoch 155/200\n",
      "1500/1500 [==============================] - 2s 1ms/step - loss: 0.0355 - accuracy: 0.9883 - val_loss: 1.1422 - val_accuracy: 0.8851\n",
      "Epoch 156/200\n",
      "1500/1500 [==============================] - 2s 1ms/step - loss: 0.0357 - accuracy: 0.9880 - val_loss: 1.1119 - val_accuracy: 0.8865\n",
      "Epoch 157/200\n",
      "1500/1500 [==============================] - 2s 1ms/step - loss: 0.0356 - accuracy: 0.9881 - val_loss: 1.0745 - val_accuracy: 0.8852\n",
      "Epoch 158/200\n",
      "1500/1500 [==============================] - 2s 1ms/step - loss: 0.0317 - accuracy: 0.9890 - val_loss: 1.1700 - val_accuracy: 0.8926\n",
      "Epoch 159/200\n",
      "1500/1500 [==============================] - 2s 1ms/step - loss: 0.0403 - accuracy: 0.9868 - val_loss: 1.1260 - val_accuracy: 0.8913\n",
      "Epoch 160/200\n",
      "1500/1500 [==============================] - 2s 1ms/step - loss: 0.0325 - accuracy: 0.9887 - val_loss: 1.2113 - val_accuracy: 0.8869\n",
      "Epoch 161/200\n",
      "1500/1500 [==============================] - 2s 1ms/step - loss: 0.0356 - accuracy: 0.9888 - val_loss: 1.1188 - val_accuracy: 0.8888\n",
      "Epoch 162/200\n",
      "1500/1500 [==============================] - 2s 1ms/step - loss: 0.0432 - accuracy: 0.9863 - val_loss: 1.2110 - val_accuracy: 0.8867\n",
      "Epoch 163/200\n",
      "1500/1500 [==============================] - 2s 1ms/step - loss: 0.0396 - accuracy: 0.9874 - val_loss: 1.0691 - val_accuracy: 0.8911\n",
      "Epoch 164/200\n",
      "1500/1500 [==============================] - 2s 1ms/step - loss: 0.0371 - accuracy: 0.9886 - val_loss: 1.1006 - val_accuracy: 0.8912\n",
      "Epoch 165/200\n",
      "1500/1500 [==============================] - 2s 1ms/step - loss: 0.0335 - accuracy: 0.9890 - val_loss: 1.0726 - val_accuracy: 0.8849\n",
      "Epoch 166/200\n",
      "1500/1500 [==============================] - 2s 1ms/step - loss: 0.0409 - accuracy: 0.9870 - val_loss: 1.0927 - val_accuracy: 0.8905\n",
      "Epoch 167/200\n",
      "1500/1500 [==============================] - 2s 1ms/step - loss: 0.0380 - accuracy: 0.9876 - val_loss: 1.1963 - val_accuracy: 0.8849\n",
      "Epoch 168/200\n",
      "1500/1500 [==============================] - 2s 1ms/step - loss: 0.0337 - accuracy: 0.9885 - val_loss: 1.2503 - val_accuracy: 0.8879\n"
     ]
    },
    {
     "name": "stdout",
     "output_type": "stream",
     "text": [
      "Epoch 169/200\n",
      "1500/1500 [==============================] - 2s 1ms/step - loss: 0.0371 - accuracy: 0.9886 - val_loss: 1.1853 - val_accuracy: 0.8910\n",
      "Epoch 170/200\n",
      "1500/1500 [==============================] - 2s 1ms/step - loss: 0.0314 - accuracy: 0.9893 - val_loss: 1.1486 - val_accuracy: 0.8875\n",
      "Epoch 171/200\n",
      "1500/1500 [==============================] - 2s 1ms/step - loss: 0.0486 - accuracy: 0.9855 - val_loss: 1.1047 - val_accuracy: 0.8878\n",
      "Epoch 172/200\n",
      "1500/1500 [==============================] - 2s 1ms/step - loss: 0.0326 - accuracy: 0.9896 - val_loss: 1.1965 - val_accuracy: 0.8901\n",
      "Epoch 173/200\n",
      "1500/1500 [==============================] - 2s 1ms/step - loss: 0.0351 - accuracy: 0.9885 - val_loss: 1.1832 - val_accuracy: 0.8897\n",
      "Epoch 174/200\n",
      "1500/1500 [==============================] - 2s 1ms/step - loss: 0.0352 - accuracy: 0.9882 - val_loss: 1.1479 - val_accuracy: 0.8899\n",
      "Epoch 175/200\n",
      "1500/1500 [==============================] - 2s 1ms/step - loss: 0.0344 - accuracy: 0.9890 - val_loss: 1.1215 - val_accuracy: 0.8898\n",
      "Epoch 176/200\n",
      "1500/1500 [==============================] - 2s 1ms/step - loss: 0.0328 - accuracy: 0.9889 - val_loss: 1.2930 - val_accuracy: 0.8879\n",
      "Epoch 177/200\n",
      "1500/1500 [==============================] - 2s 1ms/step - loss: 0.0316 - accuracy: 0.9893 - val_loss: 1.2008 - val_accuracy: 0.8902\n",
      "Epoch 178/200\n",
      "1500/1500 [==============================] - 2s 1ms/step - loss: 0.0359 - accuracy: 0.9883 - val_loss: 1.1810 - val_accuracy: 0.8844\n",
      "Epoch 179/200\n",
      "1500/1500 [==============================] - 2s 1ms/step - loss: 0.0387 - accuracy: 0.9873 - val_loss: 1.2187 - val_accuracy: 0.8891\n",
      "Epoch 180/200\n",
      "1500/1500 [==============================] - 2s 1ms/step - loss: 0.0328 - accuracy: 0.9888 - val_loss: 1.2180 - val_accuracy: 0.8874\n",
      "Epoch 181/200\n",
      "1500/1500 [==============================] - 2s 1ms/step - loss: 0.0428 - accuracy: 0.9871 - val_loss: 1.1541 - val_accuracy: 0.8875\n",
      "Epoch 182/200\n",
      "1500/1500 [==============================] - 2s 1ms/step - loss: 0.0309 - accuracy: 0.9897 - val_loss: 1.1558 - val_accuracy: 0.8888\n",
      "Epoch 183/200\n",
      "1500/1500 [==============================] - 2s 1ms/step - loss: 0.0314 - accuracy: 0.9893 - val_loss: 1.1557 - val_accuracy: 0.8903\n",
      "Epoch 184/200\n",
      "1500/1500 [==============================] - 2s 1ms/step - loss: 0.0384 - accuracy: 0.9870 - val_loss: 1.1464 - val_accuracy: 0.8938\n",
      "Epoch 185/200\n",
      "1500/1500 [==============================] - 2s 1ms/step - loss: 0.0364 - accuracy: 0.9894 - val_loss: 1.2016 - val_accuracy: 0.8905\n",
      "Epoch 186/200\n",
      "1500/1500 [==============================] - 2s 1ms/step - loss: 0.0288 - accuracy: 0.9910 - val_loss: 1.2884 - val_accuracy: 0.8898\n",
      "Epoch 187/200\n",
      "1500/1500 [==============================] - 2s 1ms/step - loss: 0.0352 - accuracy: 0.9887 - val_loss: 1.1735 - val_accuracy: 0.8863\n",
      "Epoch 188/200\n",
      "1500/1500 [==============================] - 2s 1ms/step - loss: 0.0379 - accuracy: 0.9888 - val_loss: 1.2400 - val_accuracy: 0.8902\n",
      "Epoch 189/200\n",
      "1500/1500 [==============================] - 2s 1ms/step - loss: 0.0274 - accuracy: 0.9910 - val_loss: 1.2832 - val_accuracy: 0.8875\n",
      "Epoch 190/200\n",
      "1500/1500 [==============================] - 2s 1ms/step - loss: 0.0507 - accuracy: 0.9863 - val_loss: 1.1302 - val_accuracy: 0.8884\n",
      "Epoch 191/200\n",
      "1500/1500 [==============================] - 2s 1ms/step - loss: 0.0248 - accuracy: 0.9920 - val_loss: 1.2971 - val_accuracy: 0.8915\n",
      "Epoch 192/200\n",
      "1500/1500 [==============================] - 2s 1ms/step - loss: 0.0325 - accuracy: 0.9895 - val_loss: 1.3816 - val_accuracy: 0.8910\n",
      "Epoch 193/200\n",
      "1500/1500 [==============================] - 2s 1ms/step - loss: 0.0352 - accuracy: 0.9892 - val_loss: 1.2235 - val_accuracy: 0.8877\n",
      "Epoch 194/200\n",
      "1500/1500 [==============================] - 2s 1ms/step - loss: 0.0357 - accuracy: 0.9885 - val_loss: 1.2057 - val_accuracy: 0.8912\n",
      "Epoch 195/200\n",
      "1500/1500 [==============================] - 2s 1ms/step - loss: 0.0361 - accuracy: 0.9887 - val_loss: 1.1846 - val_accuracy: 0.8915\n",
      "Epoch 196/200\n",
      "1500/1500 [==============================] - 2s 1ms/step - loss: 0.0290 - accuracy: 0.9906 - val_loss: 1.3712 - val_accuracy: 0.8869\n",
      "Epoch 197/200\n",
      "1500/1500 [==============================] - 2s 1ms/step - loss: 0.0305 - accuracy: 0.9901 - val_loss: 1.3206 - val_accuracy: 0.8867\n",
      "Epoch 198/200\n",
      "1500/1500 [==============================] - 2s 1ms/step - loss: 0.0358 - accuracy: 0.9892 - val_loss: 1.2866 - val_accuracy: 0.8893\n",
      "Epoch 199/200\n",
      "1500/1500 [==============================] - 2s 1ms/step - loss: 0.0324 - accuracy: 0.9902 - val_loss: 1.3201 - val_accuracy: 0.8895\n",
      "Epoch 200/200\n",
      "1500/1500 [==============================] - 2s 1ms/step - loss: 0.0389 - accuracy: 0.9887 - val_loss: 1.2448 - val_accuracy: 0.8895\n"
     ]
    }
   ],
   "source": [
    "#validationset을 제외하면 train set을 대상으로 한 검증결과만 보임\n",
    "hist = model.fit(train_dataset,\n",
    "                 epochs=N_EPOCHS,\n",
    "                 validation_data=val_dataset)"
   ]
  },
  {
   "cell_type": "code",
   "execution_count": 127,
   "metadata": {
    "ExecuteTime": {
     "end_time": "2021-12-01T07:17:25.782339Z",
     "start_time": "2021-12-01T07:17:25.770339Z"
    }
   },
   "outputs": [],
   "source": [
    "#9번이 val_loss가 제일 낮았으므로 epochs를 9로 지정해서\n",
    "#모델을 새로 만드는 것부터 시작해서 학습\n",
    "#지금거로 계속 재학습시키면 기존(100)+9번 해서 9번을 학습한 모델이 나옴\n",
    "\n",
    "#!!!!!!!!!!!!!!!!!!!!!!!!!!!!!!!!!!!!!!!!!!!!!!!!!!!!!!!!!!!!!!!!!!!!!!!!!!!!!!!!!!!!!!!!!!!!\n",
    "#모델을 재학습 시킬 경우(가장 성능이 좋았던 epoch 수에 맞춰) 모델 생성 > 컴파일 > 학습을 다시해야 함.\n",
    "#단순히 학습(fit)만 다시 실행하면 이어서 학습하는 것이 됨\n",
    "\n",
    "#무조건 재학습 시킬것은 아니고 경우에 따라서 이어서 학습 시키는게 맞는 모델도 있음."
   ]
  },
  {
   "cell_type": "markdown",
   "metadata": {},
   "source": [
    "#14번이 제일 좋았으므로 epochs를 14로 지정해서\n",
    "#모델을 새로 만드는 것부터 시작해서 학습\n",
    "#지금거로 계속 재학습시키면 기존(100)+14번 해서 114번을 학습한 모델이 나옴\n",
    "\n",
    "#!!!!!!!!!!!!!!!!!!!!!!!!!!!!!!!!!!!!!!!!!!!!!!!!!!!!!!!!!!!!!!!!!!!!!!!!!!!!!!!!!!!!!!!!!!!!\n",
    "#모델을 재학습 시킬 경우(가장 성능이 좋았던 epoch 수에 맞춰) 모델 생성 > 컴파일 > 학습을 다시해야 함.\n",
    "#단순히 학습(fit)만 다시 실행하면 이어서 학습하는 것이 됨\n",
    "\n",
    "#무조건 재학습 시킬것은 아니고 경우에 따라서 이어서 학습 시키는게 맞는 모델도 있음."
   ]
  },
  {
   "cell_type": "code",
   "execution_count": 130,
   "metadata": {
    "ExecuteTime": {
     "end_time": "2021-12-01T07:19:01.783477Z",
     "start_time": "2021-12-01T07:19:01.752503Z"
    }
   },
   "outputs": [],
   "source": [
    "model = create_fashionmnist_model()\n",
    "model.compile(optimizer=keras.optimizers.Adam(learning_rate=LEARNING_RATE), \n",
    "              loss='categorical_crossentropy', #다중분류 loss 함수\n",
    "              metrics=['accuracy']) #loss 이외의 추가 평가지표 설정."
   ]
  },
  {
   "cell_type": "code",
   "execution_count": 131,
   "metadata": {
    "ExecuteTime": {
     "end_time": "2021-12-01T07:19:21.108761Z",
     "start_time": "2021-12-01T07:19:02.737104Z"
    }
   },
   "outputs": [
    {
     "name": "stdout",
     "output_type": "stream",
     "text": [
      "Epoch 1/9\n",
      "1500/1500 [==============================] - 2s 1ms/step - loss: 0.4997 - accuracy: 0.8181 - val_loss: 0.4119 - val_accuracy: 0.8473\n",
      "Epoch 2/9\n",
      "1500/1500 [==============================] - 2s 1ms/step - loss: 0.3758 - accuracy: 0.8626 - val_loss: 0.3654 - val_accuracy: 0.8629\n",
      "Epoch 3/9\n",
      "1500/1500 [==============================] - 2s 1ms/step - loss: 0.3361 - accuracy: 0.8762 - val_loss: 0.3482 - val_accuracy: 0.8710\n",
      "Epoch 4/9\n",
      "1500/1500 [==============================] - 2s 1ms/step - loss: 0.3146 - accuracy: 0.8829 - val_loss: 0.4046 - val_accuracy: 0.8583\n",
      "Epoch 5/9\n",
      "1500/1500 [==============================] - 2s 1ms/step - loss: 0.2949 - accuracy: 0.8896 - val_loss: 0.3522 - val_accuracy: 0.8753\n",
      "Epoch 6/9\n",
      "1500/1500 [==============================] - 2s 1ms/step - loss: 0.2801 - accuracy: 0.8967 - val_loss: 0.3397 - val_accuracy: 0.8799\n",
      "Epoch 7/9\n",
      "1500/1500 [==============================] - 2s 1ms/step - loss: 0.2655 - accuracy: 0.9001 - val_loss: 0.3356 - val_accuracy: 0.8793\n",
      "Epoch 8/9\n",
      "1500/1500 [==============================] - 2s 1ms/step - loss: 0.2537 - accuracy: 0.9040 - val_loss: 0.3449 - val_accuracy: 0.8806\n",
      "Epoch 9/9\n",
      "1500/1500 [==============================] - 2s 1ms/step - loss: 0.2412 - accuracy: 0.9082 - val_loss: 0.3464 - val_accuracy: 0.8785\n"
     ]
    }
   ],
   "source": [
    "#validationset을 제외하면 train set을 대상으로 한 검증결과만 보임\n",
    "hist = model.fit(train_dataset,\n",
    "                 epochs=9,\n",
    "                 validation_data=val_dataset)"
   ]
  },
  {
   "cell_type": "code",
   "execution_count": null,
   "metadata": {},
   "outputs": [],
   "source": [
    "#val 기준으로 볼것"
   ]
  },
  {
   "cell_type": "code",
   "execution_count": 133,
   "metadata": {
    "ExecuteTime": {
     "end_time": "2021-12-01T07:20:18.712770Z",
     "start_time": "2021-12-01T07:20:18.625768Z"
    }
   },
   "outputs": [
    {
     "data": {
      "image/png": "[encoded data removed]",
      "text/plain": [
       "<Figure size 504x432 with 1 Axes>"
      ]
     },
     "metadata": {
      "needs_background": "light"
     },
     "output_type": "display_data"
    }
   ],
   "source": [
    "plt.figure(figsize=(7,6))\n",
    "plt.plot(range(1, 9+1), hist.history['loss'], label='train loss')\n",
    "plt.plot(range(1, 9+1), hist.history['val_loss'], label='validation loss')\n",
    "plt.title(\"LOSS\", fontsize=20)\n",
    "plt.xlabel(\"Epochs\")\n",
    "plt.ylabel(\"Loss\")\n",
    "plt.legend()\n",
    "plt.show()\n",
    "#14번 에폭일때가 val_loss 제일 좋음"
   ]
  },
  {
   "cell_type": "code",
   "execution_count": 135,
   "metadata": {
    "ExecuteTime": {
     "end_time": "2021-12-01T07:20:40.405675Z",
     "start_time": "2021-12-01T07:20:40.311643Z"
    }
   },
   "outputs": [
    {
     "data": {
      "image/png": "[encoded data removed]",
      "text/plain": [
       "<Figure size 504x432 with 1 Axes>"
      ]
     },
     "metadata": {
      "needs_background": "light"
     },
     "output_type": "display_data"
    }
   ],
   "source": [
    "plt.figure(figsize=(7,6))\n",
    "plt.plot(range(1, 9+1), hist.history['accuracy'], label='train accuracy')\n",
    "plt.plot(range(1, 9+1), hist.history['val_accuracy'], label='validation accuracy')\n",
    "plt.title(\"Accuracy\", fontsize=20)\n",
    "plt.xlabel(\"Epochs\")\n",
    "plt.ylabel(\"Accuracy\")\n",
    "plt.legend()\n",
    "plt.show()"
   ]
  },
  {
   "cell_type": "code",
   "execution_count": null,
   "metadata": {},
   "outputs": [],
   "source": [
    "#만약 맨 처음 돌렸을때 이런 양상을 띈다면 뒤에 더 학습해봐야 함."
   ]
  },
  {
   "cell_type": "code",
   "execution_count": null,
   "metadata": {},
   "outputs": [],
   "source": [
    "#########################################################################################33"
   ]
  },
  {
   "cell_type": "markdown",
   "metadata": {
    "slideshow": {
     "slide_type": "fragment"
    }
   },
   "source": [
    "##### 결과 시각화"
   ]
  },
  {
   "cell_type": "code",
   "execution_count": 123,
   "metadata": {
    "ExecuteTime": {
     "end_time": "2021-12-01T07:07:35.824705Z",
     "start_time": "2021-12-01T07:07:35.731706Z"
    },
    "slideshow": {
     "slide_type": "fragment"
    }
   },
   "outputs": [
    {
     "data": {
      "image/png": "[encoded data removed]",
      "text/plain": [
       "<Figure size 504x432 with 1 Axes>"
      ]
     },
     "metadata": {
      "needs_background": "light"
     },
     "output_type": "display_data"
    }
   ],
   "source": [
    "plt.figure(figsize=(7,6))\n",
    "plt.plot(range(1, N_EPOCHS+1), hist.history['loss'], label='train loss')\n",
    "plt.plot(range(1, N_EPOCHS+1), hist.history['val_loss'], label='validation loss')\n",
    "plt.title(\"LOSS\", fontsize=20)\n",
    "plt.xlabel(\"Epochs\")\n",
    "plt.ylabel(\"Loss\")\n",
    "plt.legend()\n",
    "plt.show()\n",
    "#14번 에폭일때가 val_loss 제일 좋음"
   ]
  },
  {
   "cell_type": "code",
   "execution_count": 125,
   "metadata": {
    "ExecuteTime": {
     "end_time": "2021-12-01T07:11:48.498392Z",
     "start_time": "2021-12-01T07:11:48.409368Z"
    },
    "scrolled": true,
    "slideshow": {
     "slide_type": "fragment"
    }
   },
   "outputs": [
    {
     "data": {
      "image/png": "[encoded data removed]",
      "text/plain": [
       "<Figure size 504x432 with 1 Axes>"
      ]
     },
     "metadata": {
      "needs_background": "light"
     },
     "output_type": "display_data"
    }
   ],
   "source": [
    "plt.figure(figsize=(7,6))\n",
    "plt.plot(range(1, N_EPOCHS+1), hist.history['accuracy'], label='train accuracy')\n",
    "plt.plot(range(1, N_EPOCHS+1), hist.history['val_accuracy'], label='validation accuracy')\n",
    "plt.title(\"Accuracy\", fontsize=20)\n",
    "plt.xlabel(\"Epochs\")\n",
    "plt.ylabel(\"Accuracy\")\n",
    "plt.legend()\n",
    "plt.show()"
   ]
  },
  {
   "cell_type": "code",
   "execution_count": null,
   "metadata": {},
   "outputs": [],
   "source": [
    "#loss를 중심으로 보는게 나음"
   ]
  },
  {
   "cell_type": "markdown",
   "metadata": {
    "slideshow": {
     "slide_type": "slide"
    }
   },
   "source": [
    "#### 최종평가"
   ]
  },
  {
   "cell_type": "code",
   "execution_count": 136,
   "metadata": {
    "ExecuteTime": {
     "end_time": "2021-12-01T07:21:08.554041Z",
     "start_time": "2021-12-01T07:21:08.304893Z"
    },
    "scrolled": true,
    "slideshow": {
     "slide_type": "fragment"
    }
   },
   "outputs": [
    {
     "name": "stdout",
     "output_type": "stream",
     "text": [
      "313/313 [==============================] - 0s 625us/step - loss: 0.3780 - accuracy: 0.8707\n"
     ]
    }
   ],
   "source": [
    "#88정도는 나쁘지 않음\n",
    "loss, accuracy = model.evaluate(test_dataset)"
   ]
  },
  {
   "cell_type": "code",
   "execution_count": 137,
   "metadata": {
    "ExecuteTime": {
     "end_time": "2021-12-01T07:21:10.812650Z",
     "start_time": "2021-12-01T07:21:10.808651Z"
    },
    "slideshow": {
     "slide_type": "fragment"
    }
   },
   "outputs": [
    {
     "name": "stdout",
     "output_type": "stream",
     "text": [
      "0.3780260980129242 0.8707000017166138\n"
     ]
    }
   ],
   "source": [
    "print(loss, accuracy)"
   ]
  },
  {
   "cell_type": "markdown",
   "metadata": {
    "slideshow": {
     "slide_type": "slide"
    }
   },
   "source": [
    "#### 새로운 데이터 추론"
   ]
  },
  {
   "cell_type": "code",
   "execution_count": 138,
   "metadata": {
    "ExecuteTime": {
     "end_time": "2021-12-01T07:21:30.024360Z",
     "start_time": "2021-12-01T07:21:30.012040Z"
    },
    "slideshow": {
     "slide_type": "fragment"
    }
   },
   "outputs": [],
   "source": [
    "new_input = X_test[:5]\n",
    "\n",
    "#새로운 데이터도 train할때와 동일한 형태로 만들어 줘야함\n",
    "new_input = new_input/255.0 #grayscale"
   ]
  },
  {
   "cell_type": "code",
   "execution_count": 139,
   "metadata": {
    "ExecuteTime": {
     "end_time": "2021-12-01T07:22:47.977244Z",
     "start_time": "2021-12-01T07:22:47.912211Z"
    },
    "slideshow": {
     "slide_type": "fragment"
    }
   },
   "outputs": [
    {
     "name": "stdout",
     "output_type": "stream",
     "text": [
      "(5, 10)\n"
     ]
    },
    {
     "data": {
      "text/plain": [
       "array([2.9442671e-08, 2.4728501e-09, 9.3739345e-09, 1.2964316e-09,\n",
       "       8.5503320e-09, 1.3750661e-04, 4.7210997e-07, 5.0294853e-04,\n",
       "       2.1783133e-07, 9.9935883e-01], dtype=float32)"
      ]
     },
     "execution_count": 139,
     "metadata": {},
     "output_type": "execute_result"
    }
   ],
   "source": [
    "pred = model.predict(new_input)\n",
    "print(pred.shape)\n",
    "pred[0]\n",
    "#0일확률~9일확률"
   ]
  },
  {
   "cell_type": "code",
   "execution_count": 143,
   "metadata": {
    "ExecuteTime": {
     "end_time": "2021-12-01T07:26:00.585908Z",
     "start_time": "2021-12-01T07:26:00.575909Z"
    }
   },
   "outputs": [
    {
     "data": {
      "text/plain": [
       "array([[2.9442671e-08, 2.4728501e-09, 9.3739345e-09, 1.2964316e-09],\n",
       "       [2.0684814e-05, 2.8426865e-09, 9.9869257e-01, 2.3385422e-07],\n",
       "       [1.1295563e-10, 1.0000000e+00, 3.4379268e-12, 2.3430042e-09],\n",
       "       [1.1190531e-09, 9.9999964e-01, 2.0704853e-11, 3.2390608e-07],\n",
       "       [7.3224545e-02, 2.0145916e-07, 1.3660458e-02, 1.9569334e-04]],\n",
       "      dtype=float32)"
      ]
     },
     "execution_count": 143,
     "metadata": {},
     "output_type": "execute_result"
    }
   ],
   "source": [
    "pred[:,:4] #한 행을 기준으로 가장 높은 값 선택"
   ]
  },
  {
   "cell_type": "code",
   "execution_count": 140,
   "metadata": {
    "ExecuteTime": {
     "end_time": "2021-12-01T07:23:15.581528Z",
     "start_time": "2021-12-01T07:23:15.566500Z"
    },
    "slideshow": {
     "slide_type": "fragment"
    }
   },
   "outputs": [
    {
     "data": {
      "text/plain": [
       "array([9, 2, 1, 1, 6], dtype=int64)"
      ]
     },
     "execution_count": 140,
     "metadata": {},
     "output_type": "execute_result"
    }
   ],
   "source": [
    "pred_class = np.argmax(pred, axis=-1) #마지막 축을 기준으로 체크\n",
    "pred_class"
   ]
  },
  {
   "cell_type": "code",
   "execution_count": 141,
   "metadata": {
    "ExecuteTime": {
     "end_time": "2021-12-01T07:23:16.455479Z",
     "start_time": "2021-12-01T07:23:16.437456Z"
    },
    "slideshow": {
     "slide_type": "fragment"
    }
   },
   "outputs": [
    {
     "data": {
      "text/plain": [
       "array([9, 2, 1, 1, 6], dtype=uint8)"
      ]
     },
     "execution_count": 141,
     "metadata": {},
     "output_type": "execute_result"
    }
   ],
   "source": [
    "test_label[:5]"
   ]
  },
  {
   "cell_type": "code",
   "execution_count": 142,
   "metadata": {
    "ExecuteTime": {
     "end_time": "2021-12-01T07:23:17.506789Z",
     "start_time": "2021-12-01T07:23:17.488767Z"
    },
    "slideshow": {
     "slide_type": "fragment"
    }
   },
   "outputs": [
    {
     "data": {
      "text/plain": [
       "array(['Ankle boot', 'Pullover', 'Trousers', 'Trousers', 'Shirt'],\n",
       "      dtype='<U11')"
      ]
     },
     "execution_count": 142,
     "metadata": {},
     "output_type": "execute_result"
    }
   ],
   "source": [
    "class_names = np.array(class_names)\n",
    "class_names[pred_class]"
   ]
  },
  {
   "cell_type": "markdown",
   "metadata": {
    "slideshow": {
     "slide_type": "slide"
    }
   },
   "source": [
    "## 위스콘신 유방암 데이터셋 - 이진분류(Binary Classification) 문제\n",
    "- 위스콘신 대학교에서 제공한 종양의 악성/양성여부 분류를 위한 데이터셋\n",
    "- Feature\n",
    "    - 종양에 대한 다양한 측정값들\n",
    "- Target의 class\n",
    "    - 0 - malignant(악성종양)\n",
    "    - 1 - benign(양성종양)"
   ]
  },
  {
   "cell_type": "code",
   "execution_count": 145,
   "metadata": {
    "ExecuteTime": {
     "end_time": "2021-12-01T07:32:41.131739Z",
     "start_time": "2021-12-01T07:32:41.061715Z"
    },
    "slideshow": {
     "slide_type": "slide"
    }
   },
   "outputs": [],
   "source": [
    "import numpy as np\n",
    "import tensorflow as tf\n",
    "from tensorflow import keras\n",
    "from tensorflow.keras import layers\n",
    "\n",
    "from sklearn.datasets import load_breast_cancer\n",
    "from sklearn.preprocessing import StandardScaler\n",
    "from sklearn.model_selection import train_test_split\n",
    "\n",
    "np.random.seed(0)\n",
    "tf.random.set_seed(0)"
   ]
  },
  {
   "cell_type": "markdown",
   "metadata": {
    "slideshow": {
     "slide_type": "slide"
    }
   },
   "source": [
    "##### 데이터 로딩, train/validation/test set 나누기"
   ]
  },
  {
   "cell_type": "code",
   "execution_count": 146,
   "metadata": {
    "ExecuteTime": {
     "end_time": "2021-12-01T07:32:42.920025Z",
     "start_time": "2021-12-01T07:32:42.894002Z"
    },
    "slideshow": {
     "slide_type": "fragment"
    }
   },
   "outputs": [
    {
     "data": {
      "text/plain": [
       "((569, 30), (569,))"
      ]
     },
     "execution_count": 146,
     "metadata": {},
     "output_type": "execute_result"
    }
   ],
   "source": [
    "X, y = load_breast_cancer(return_X_y=True)\n",
    "X.shape, y.shape"
   ]
  },
  {
   "cell_type": "code",
   "execution_count": 147,
   "metadata": {
    "ExecuteTime": {
     "end_time": "2021-12-01T07:32:51.973359Z",
     "start_time": "2021-12-01T07:32:51.958370Z"
    },
    "slideshow": {
     "slide_type": "fragment"
    }
   },
   "outputs": [
    {
     "data": {
      "text/plain": [
       "((364, 30), (91, 30), (114, 30))"
      ]
     },
     "execution_count": 147,
     "metadata": {},
     "output_type": "execute_result"
    }
   ],
   "source": [
    "X_train, X_test, y_train, y_test = train_test_split(X, y, test_size=0.2, stratify=y, random_state=0)\n",
    "\n",
    "X_train, X_val, y_train, y_val = train_test_split(X_train, y_train, test_size=0.2, stratify=y_train, random_state=0)\n",
    "\n",
    "X_train.shape, X_val.shape, X_test.shape"
   ]
  },
  {
   "cell_type": "code",
   "execution_count": 148,
   "metadata": {
    "ExecuteTime": {
     "end_time": "2021-12-01T07:33:31.638053Z",
     "start_time": "2021-12-01T07:33:31.624053Z"
    },
    "slideshow": {
     "slide_type": "fragment"
    }
   },
   "outputs": [
    {
     "data": {
      "text/plain": [
       "array([[1.955e+01, 2.321e+01, 1.289e+02, 1.174e+03, 1.010e-01, 1.318e-01,\n",
       "        1.856e-01, 1.021e-01, 1.989e-01, 5.884e-02, 6.107e-01, 2.836e+00,\n",
       "        5.383e+00, 7.010e+01, 1.124e-02, 4.097e-02, 7.469e-02, 3.441e-02,\n",
       "        2.768e-02, 6.240e-03, 2.082e+01, 3.044e+01, 1.420e+02, 1.313e+03,\n",
       "        1.251e-01, 2.414e-01, 3.829e-01, 1.825e-01, 2.576e-01, 7.602e-02],\n",
       "       [1.378e+01, 1.579e+01, 8.837e+01, 5.859e+02, 8.817e-02, 6.718e-02,\n",
       "        1.055e-02, 9.937e-03, 1.405e-01, 5.848e-02, 3.563e-01, 4.833e-01,\n",
       "        2.235e+00, 2.934e+01, 6.432e-03, 1.156e-02, 7.741e-03, 5.657e-03,\n",
       "        1.227e-02, 2.564e-03, 1.527e+01, 1.750e+01, 9.790e+01, 7.066e+02,\n",
       "        1.072e-01, 1.071e-01, 3.517e-02, 3.312e-02, 1.859e-01, 6.810e-02],\n",
       "       [1.865e+01, 1.760e+01, 1.237e+02, 1.076e+03, 1.099e-01, 1.686e-01,\n",
       "        1.974e-01, 1.009e-01, 1.907e-01, 6.049e-02, 6.289e-01, 6.633e-01,\n",
       "        4.293e+00, 7.156e+01, 6.294e-03, 3.994e-02, 5.554e-02, 1.695e-02,\n",
       "        2.428e-02, 3.535e-03, 2.282e+01, 2.132e+01, 1.506e+02, 1.567e+03,\n",
       "        1.679e-01, 5.090e-01, 7.345e-01, 2.378e-01, 3.799e-01, 9.185e-02]])"
      ]
     },
     "execution_count": 148,
     "metadata": {},
     "output_type": "execute_result"
    }
   ],
   "source": [
    "X_train[:3]"
   ]
  },
  {
   "cell_type": "code",
   "execution_count": 149,
   "metadata": {
    "ExecuteTime": {
     "end_time": "2021-12-01T07:33:32.961458Z",
     "start_time": "2021-12-01T07:33:32.956457Z"
    },
    "slideshow": {
     "slide_type": "fragment"
    }
   },
   "outputs": [
    {
     "data": {
      "text/plain": [
       "array([0, 1, 0])"
      ]
     },
     "execution_count": 149,
     "metadata": {},
     "output_type": "execute_result"
    }
   ],
   "source": [
    "y_train[:3]"
   ]
  },
  {
   "cell_type": "markdown",
   "metadata": {
    "slideshow": {
     "slide_type": "slide"
    }
   },
   "source": [
    "#### 하이퍼파라미터, 변수 정의"
   ]
  },
  {
   "cell_type": "code",
   "execution_count": 151,
   "metadata": {
    "ExecuteTime": {
     "end_time": "2021-12-01T07:34:24.607019Z",
     "start_time": "2021-12-01T07:34:24.603020Z"
    },
    "slideshow": {
     "slide_type": "fragment"
    }
   },
   "outputs": [],
   "source": [
    "LEARNING_RATE = 0.001\n",
    "N_EPOCHS = 150\n",
    "N_BATCHS = 50\n",
    "\n",
    "N_TRAIN = X_train.shape[0]\n",
    "N_VAL = X_val.shape[0]\n",
    "N_TEST = X_test.shape[0]"
   ]
  },
  {
   "cell_type": "markdown",
   "metadata": {
    "slideshow": {
     "slide_type": "fragment"
    }
   },
   "source": [
    "#### 데이터 전처리\n",
    "- 이진 분류\n",
    "    - 출력 레이어의 unit을 1개, activation 함수를 sigmoid를 사용하는 경우(1일 확률) => y:그대로 사용\n",
    "    - 출력 레이어의 unit을 2개, activation 함수를 sofmax를 사용하는 경우(0일 확률, 1일 확률) - 다중분류와 동일하게 구현 => y: one hot encoding\n",
    "- X: 테이블데이터\n",
    "    - 문자열(범주형): one hot encoding\n",
    "    - 연속형(수치형): feature scaling"
   ]
  },
  {
   "cell_type": "code",
   "execution_count": 152,
   "metadata": {
    "ExecuteTime": {
     "end_time": "2021-12-01T07:37:49.398116Z",
     "start_time": "2021-12-01T07:37:49.387093Z"
    },
    "slideshow": {
     "slide_type": "fragment"
    }
   },
   "outputs": [],
   "source": [
    "#feature scaling\n",
    "scaler = StandardScaler()\n",
    "\n",
    "X_train_scaled = scaler.fit_transform(X_train)\n",
    "X_val_scaled = scaler.transform(X_val)\n",
    "X_test_scaled = scaler.transform(X_test)"
   ]
  },
  {
   "cell_type": "markdown",
   "metadata": {
    "slideshow": {
     "slide_type": "slide"
    }
   },
   "source": [
    "#### Dataset 생성"
   ]
  },
  {
   "cell_type": "code",
   "execution_count": 154,
   "metadata": {
    "ExecuteTime": {
     "end_time": "2021-12-01T07:39:57.384625Z",
     "start_time": "2021-12-01T07:39:57.375610Z"
    },
    "slideshow": {
     "slide_type": "fragment"
    }
   },
   "outputs": [],
   "source": [
    "train_dataset = tf.data.Dataset.from_tensor_slices((X_train_scaled, y_train)).shuffle(N_TRAIN).batch(N_BATCHS, drop_remainder=True)\n",
    "\n",
    "val_dataset = tf.data.Dataset.from_tensor_slices((X_val_scaled, y_val)).batch(N_BATCHS)\n",
    "\n",
    "test_dataset = tf.data.Dataset.from_tensor_slices((X_test_scaled, y_test)).batch(N_BATCHS)"
   ]
  },
  {
   "cell_type": "code",
   "execution_count": 155,
   "metadata": {
    "ExecuteTime": {
     "end_time": "2021-12-01T07:40:05.632734Z",
     "start_time": "2021-12-01T07:40:05.613710Z"
    }
   },
   "outputs": [
    {
     "data": {
      "text/plain": [
       "(364, 30)"
      ]
     },
     "execution_count": 155,
     "metadata": {},
     "output_type": "execute_result"
    }
   ],
   "source": [
    "#이전것은 이미지라서 flatten 해야했음\n",
    "X_train.shape #어차피 1차원이라서 flatten할 필요 없음"
   ]
  },
  {
   "cell_type": "markdown",
   "metadata": {
    "slideshow": {
     "slide_type": "slide"
    }
   },
   "source": [
    "#### model 생성, 컴파일"
   ]
  },
  {
   "cell_type": "code",
   "execution_count": 156,
   "metadata": {
    "ExecuteTime": {
     "end_time": "2021-12-01T07:41:57.311203Z",
     "start_time": "2021-12-01T07:41:57.301177Z"
    },
    "slideshow": {
     "slide_type": "fragment"
    }
   },
   "outputs": [],
   "source": [
    "def create_wisconsin_model():\n",
    "    #모델생성\n",
    "    model = keras.Sequential()\n",
    "    #히든레이어\n",
    "    #데이터가 작아서 unit도 작게해줌\n",
    "    model.add(layers.Dense(units=32, activation='relu', input_shape=(30, )))\n",
    "    model.add(layers.Dense(units=16, activation='relu'))\n",
    "    model.add(layers.Dense(units=8, activation='relu'))\n",
    "    \n",
    "    #출력레이어\n",
    "    #이진분류:: 1일 확률을 출력하는 방식으로 구현\n",
    "    #unit:1 activation 함수: sigmoid\n",
    "    model.add(layers.Dense(units=1, activation='sigmoid', name='Output_layer'))\n",
    "    \n",
    "    return model"
   ]
  },
  {
   "cell_type": "code",
   "execution_count": 157,
   "metadata": {
    "ExecuteTime": {
     "end_time": "2021-12-01T07:42:05.291975Z",
     "start_time": "2021-12-01T07:42:05.259975Z"
    },
    "slideshow": {
     "slide_type": "fragment"
    }
   },
   "outputs": [],
   "source": [
    "model = create_wisconsin_model()\n",
    "model.compile(optimizer=keras.optimizers.Adam(learning_rate=LEARNING_RATE), \n",
    "              loss='binary_crossentropy', #이진분류 : 1의 확률을 출력하는 경우 (sigmoid 사용 시) \n",
    "              metrics=['accuracy'])"
   ]
  },
  {
   "cell_type": "code",
   "execution_count": 159,
   "metadata": {
    "ExecuteTime": {
     "end_time": "2021-12-01T07:43:31.960886Z",
     "start_time": "2021-12-01T07:43:31.949863Z"
    },
    "slideshow": {
     "slide_type": "fragment"
    }
   },
   "outputs": [
    {
     "name": "stdout",
     "output_type": "stream",
     "text": [
      "Model: \"sequential_7\"\n",
      "_________________________________________________________________\n",
      " Layer (type)                Output Shape              Param #   \n",
      "=================================================================\n",
      " dense_27 (Dense)            (None, 32)                992       \n",
      "                                                                 \n",
      " dense_28 (Dense)            (None, 16)                528       \n",
      "                                                                 \n",
      " dense_29 (Dense)            (None, 8)                 136       \n",
      "                                                                 \n",
      " Output_layer (Dense)        (None, 1)                 9         \n",
      "                                                                 \n",
      "=================================================================\n",
      "Total params: 1,665\n",
      "Trainable params: 1,665\n",
      "Non-trainable params: 0\n",
      "_________________________________________________________________\n"
     ]
    }
   ],
   "source": [
    "model.summary()"
   ]
  },
  {
   "cell_type": "code",
   "execution_count": 160,
   "metadata": {
    "ExecuteTime": {
     "end_time": "2021-12-01T07:43:36.703411Z",
     "start_time": "2021-12-01T07:43:36.501388Z"
    },
    "slideshow": {
     "slide_type": "fragment"
    }
   },
   "outputs": [
    {
     "data": {
      "image/png": "[encoded data removed]",
      "text/plain": [
       "<IPython.core.display.Image object>"
      ]
     },
     "execution_count": 160,
     "metadata": {},
     "output_type": "execute_result"
    }
   ],
   "source": [
    "keras.utils.plot_model(model, show_shapes=True, to_file='cancer_model.png')"
   ]
  },
  {
   "cell_type": "markdown",
   "metadata": {
    "slideshow": {
     "slide_type": "slide"
    }
   },
   "source": [
    "#### Train(학습)"
   ]
  },
  {
   "cell_type": "code",
   "execution_count": 161,
   "metadata": {
    "ExecuteTime": {
     "end_time": "2021-12-01T07:44:25.502249Z",
     "start_time": "2021-12-01T07:44:21.394128Z"
    },
    "slideshow": {
     "slide_type": "fragment"
    }
   },
   "outputs": [
    {
     "name": "stdout",
     "output_type": "stream",
     "text": [
      "Epoch 1/150\n",
      "7/7 [==============================] - 0s 11ms/step - loss: 0.6404 - accuracy: 0.7743 - val_loss: 0.6181 - val_accuracy: 0.8242\n",
      "Epoch 2/150\n",
      "7/7 [==============================] - 0s 3ms/step - loss: 0.5888 - accuracy: 0.8771 - val_loss: 0.5652 - val_accuracy: 0.9121\n",
      "Epoch 3/150\n",
      "7/7 [==============================] - 0s 3ms/step - loss: 0.5361 - accuracy: 0.9171 - val_loss: 0.5033 - val_accuracy: 0.9451\n",
      "Epoch 4/150\n",
      "7/7 [==============================] - 0s 3ms/step - loss: 0.4732 - accuracy: 0.9286 - val_loss: 0.4366 - val_accuracy: 0.9341\n",
      "Epoch 5/150\n",
      "7/7 [==============================] - 0s 3ms/step - loss: 0.4188 - accuracy: 0.9343 - val_loss: 0.3685 - val_accuracy: 0.9451\n",
      "Epoch 6/150\n",
      "7/7 [==============================] - 0s 3ms/step - loss: 0.3475 - accuracy: 0.9514 - val_loss: 0.3044 - val_accuracy: 0.9451\n",
      "Epoch 7/150\n",
      "7/7 [==============================] - 0s 3ms/step - loss: 0.2916 - accuracy: 0.9486 - val_loss: 0.2502 - val_accuracy: 0.9560\n",
      "Epoch 8/150\n",
      "7/7 [==============================] - 0s 3ms/step - loss: 0.2417 - accuracy: 0.9486 - val_loss: 0.2066 - val_accuracy: 0.9560\n",
      "Epoch 9/150\n",
      "7/7 [==============================] - 0s 3ms/step - loss: 0.1970 - accuracy: 0.9600 - val_loss: 0.1716 - val_accuracy: 0.9560\n",
      "Epoch 10/150\n",
      "7/7 [==============================] - 0s 3ms/step - loss: 0.1698 - accuracy: 0.9629 - val_loss: 0.1449 - val_accuracy: 0.9560\n",
      "Epoch 11/150\n",
      "7/7 [==============================] - 0s 3ms/step - loss: 0.1462 - accuracy: 0.9657 - val_loss: 0.1242 - val_accuracy: 0.9670\n",
      "Epoch 12/150\n",
      "7/7 [==============================] - 0s 3ms/step - loss: 0.1304 - accuracy: 0.9686 - val_loss: 0.1089 - val_accuracy: 0.9780\n",
      "Epoch 13/150\n",
      "7/7 [==============================] - 0s 3ms/step - loss: 0.1174 - accuracy: 0.9686 - val_loss: 0.0981 - val_accuracy: 0.9890\n",
      "Epoch 14/150\n",
      "7/7 [==============================] - 0s 3ms/step - loss: 0.1007 - accuracy: 0.9743 - val_loss: 0.0902 - val_accuracy: 0.9890\n",
      "Epoch 15/150\n",
      "7/7 [==============================] - 0s 3ms/step - loss: 0.0954 - accuracy: 0.9743 - val_loss: 0.0839 - val_accuracy: 0.9890\n",
      "Epoch 16/150\n",
      "7/7 [==============================] - 0s 3ms/step - loss: 0.0925 - accuracy: 0.9743 - val_loss: 0.0791 - val_accuracy: 0.9890\n",
      "Epoch 17/150\n",
      "7/7 [==============================] - 0s 3ms/step - loss: 0.0805 - accuracy: 0.9800 - val_loss: 0.0745 - val_accuracy: 0.9890\n",
      "Epoch 18/150\n",
      "7/7 [==============================] - 0s 3ms/step - loss: 0.0801 - accuracy: 0.9743 - val_loss: 0.0703 - val_accuracy: 0.9890\n",
      "Epoch 19/150\n",
      "7/7 [==============================] - 0s 3ms/step - loss: 0.0753 - accuracy: 0.9743 - val_loss: 0.0664 - val_accuracy: 0.9890\n",
      "Epoch 20/150\n",
      "7/7 [==============================] - 0s 3ms/step - loss: 0.0710 - accuracy: 0.9771 - val_loss: 0.0628 - val_accuracy: 0.9780\n",
      "Epoch 21/150\n",
      "7/7 [==============================] - 0s 3ms/step - loss: 0.0680 - accuracy: 0.9800 - val_loss: 0.0601 - val_accuracy: 0.9780\n",
      "Epoch 22/150\n",
      "7/7 [==============================] - 0s 3ms/step - loss: 0.0632 - accuracy: 0.9829 - val_loss: 0.0560 - val_accuracy: 0.9890\n",
      "Epoch 23/150\n",
      "7/7 [==============================] - 0s 3ms/step - loss: 0.0599 - accuracy: 0.9857 - val_loss: 0.0534 - val_accuracy: 0.9890\n",
      "Epoch 24/150\n",
      "7/7 [==============================] - 0s 3ms/step - loss: 0.0591 - accuracy: 0.9886 - val_loss: 0.0507 - val_accuracy: 0.9890\n",
      "Epoch 25/150\n",
      "7/7 [==============================] - 0s 3ms/step - loss: 0.0548 - accuracy: 0.9886 - val_loss: 0.0493 - val_accuracy: 0.9890\n",
      "Epoch 26/150\n",
      "7/7 [==============================] - 0s 3ms/step - loss: 0.0464 - accuracy: 0.9914 - val_loss: 0.0477 - val_accuracy: 0.9890\n",
      "Epoch 27/150\n",
      "7/7 [==============================] - 0s 3ms/step - loss: 0.0513 - accuracy: 0.9886 - val_loss: 0.0456 - val_accuracy: 0.9890\n",
      "Epoch 28/150\n",
      "7/7 [==============================] - 0s 3ms/step - loss: 0.0484 - accuracy: 0.9886 - val_loss: 0.0440 - val_accuracy: 0.9890\n",
      "Epoch 29/150\n",
      "7/7 [==============================] - 0s 3ms/step - loss: 0.0458 - accuracy: 0.9886 - val_loss: 0.0434 - val_accuracy: 0.9890\n",
      "Epoch 30/150\n",
      "7/7 [==============================] - 0s 3ms/step - loss: 0.0446 - accuracy: 0.9886 - val_loss: 0.0419 - val_accuracy: 0.9890\n",
      "Epoch 31/150\n",
      "7/7 [==============================] - 0s 3ms/step - loss: 0.0424 - accuracy: 0.9886 - val_loss: 0.0410 - val_accuracy: 0.9890\n",
      "Epoch 32/150\n",
      "7/7 [==============================] - 0s 3ms/step - loss: 0.0374 - accuracy: 0.9914 - val_loss: 0.0385 - val_accuracy: 1.0000\n",
      "Epoch 33/150\n",
      "7/7 [==============================] - 0s 3ms/step - loss: 0.0372 - accuracy: 0.9886 - val_loss: 0.0382 - val_accuracy: 0.9890\n",
      "Epoch 34/150\n",
      "7/7 [==============================] - 0s 3ms/step - loss: 0.0353 - accuracy: 0.9886 - val_loss: 0.0376 - val_accuracy: 1.0000\n",
      "Epoch 35/150\n",
      "7/7 [==============================] - 0s 3ms/step - loss: 0.0348 - accuracy: 0.9886 - val_loss: 0.0375 - val_accuracy: 1.0000\n",
      "Epoch 36/150\n",
      "7/7 [==============================] - 0s 3ms/step - loss: 0.0328 - accuracy: 0.9914 - val_loss: 0.0363 - val_accuracy: 1.0000\n",
      "Epoch 37/150\n",
      "7/7 [==============================] - 0s 3ms/step - loss: 0.0286 - accuracy: 0.9914 - val_loss: 0.0359 - val_accuracy: 1.0000\n",
      "Epoch 38/150\n",
      "7/7 [==============================] - 0s 3ms/step - loss: 0.0285 - accuracy: 0.9914 - val_loss: 0.0351 - val_accuracy: 1.0000\n",
      "Epoch 39/150\n",
      "7/7 [==============================] - 0s 3ms/step - loss: 0.0270 - accuracy: 0.9914 - val_loss: 0.0343 - val_accuracy: 1.0000\n",
      "Epoch 40/150\n",
      "7/7 [==============================] - 0s 3ms/step - loss: 0.0255 - accuracy: 0.9943 - val_loss: 0.0338 - val_accuracy: 1.0000\n",
      "Epoch 41/150\n",
      "7/7 [==============================] - 0s 3ms/step - loss: 0.0246 - accuracy: 0.9943 - val_loss: 0.0333 - val_accuracy: 1.0000\n",
      "Epoch 42/150\n",
      "7/7 [==============================] - 0s 3ms/step - loss: 0.0226 - accuracy: 0.9943 - val_loss: 0.0344 - val_accuracy: 1.0000\n",
      "Epoch 43/150\n",
      "7/7 [==============================] - 0s 3ms/step - loss: 0.0220 - accuracy: 0.9971 - val_loss: 0.0339 - val_accuracy: 0.9890\n",
      "Epoch 44/150\n",
      "7/7 [==============================] - 0s 3ms/step - loss: 0.0205 - accuracy: 1.0000 - val_loss: 0.0335 - val_accuracy: 0.9890\n",
      "Epoch 45/150\n",
      "7/7 [==============================] - 0s 3ms/step - loss: 0.0184 - accuracy: 1.0000 - val_loss: 0.0333 - val_accuracy: 0.9890\n",
      "Epoch 46/150\n",
      "7/7 [==============================] - 0s 3ms/step - loss: 0.0192 - accuracy: 0.9971 - val_loss: 0.0328 - val_accuracy: 0.9890\n",
      "Epoch 47/150\n",
      "7/7 [==============================] - 0s 3ms/step - loss: 0.0180 - accuracy: 0.9971 - val_loss: 0.0335 - val_accuracy: 0.9890\n",
      "Epoch 48/150\n",
      "7/7 [==============================] - 0s 3ms/step - loss: 0.0169 - accuracy: 1.0000 - val_loss: 0.0336 - val_accuracy: 0.9890\n",
      "Epoch 49/150\n",
      "7/7 [==============================] - 0s 3ms/step - loss: 0.0158 - accuracy: 1.0000 - val_loss: 0.0326 - val_accuracy: 0.9890\n",
      "Epoch 50/150\n",
      "7/7 [==============================] - 0s 3ms/step - loss: 0.0143 - accuracy: 1.0000 - val_loss: 0.0324 - val_accuracy: 0.9890\n",
      "Epoch 51/150\n",
      "7/7 [==============================] - 0s 3ms/step - loss: 0.0143 - accuracy: 1.0000 - val_loss: 0.0322 - val_accuracy: 0.9890\n",
      "Epoch 52/150\n",
      "7/7 [==============================] - 0s 3ms/step - loss: 0.0133 - accuracy: 1.0000 - val_loss: 0.0321 - val_accuracy: 0.9890\n",
      "Epoch 53/150\n",
      "7/7 [==============================] - 0s 3ms/step - loss: 0.0128 - accuracy: 1.0000 - val_loss: 0.0317 - val_accuracy: 0.9890\n",
      "Epoch 54/150\n",
      "7/7 [==============================] - 0s 3ms/step - loss: 0.0110 - accuracy: 1.0000 - val_loss: 0.0316 - val_accuracy: 0.9890\n",
      "Epoch 55/150\n",
      "7/7 [==============================] - 0s 3ms/step - loss: 0.0111 - accuracy: 1.0000 - val_loss: 0.0313 - val_accuracy: 0.9890\n",
      "Epoch 56/150\n",
      "7/7 [==============================] - 0s 3ms/step - loss: 0.0104 - accuracy: 1.0000 - val_loss: 0.0318 - val_accuracy: 0.9890\n",
      "Epoch 57/150\n",
      "7/7 [==============================] - 0s 3ms/step - loss: 0.0093 - accuracy: 1.0000 - val_loss: 0.0321 - val_accuracy: 0.9890\n",
      "Epoch 58/150\n",
      "7/7 [==============================] - 0s 3ms/step - loss: 0.0100 - accuracy: 1.0000 - val_loss: 0.0312 - val_accuracy: 0.9890\n",
      "Epoch 59/150\n"
     ]
    },
    {
     "name": "stdout",
     "output_type": "stream",
     "text": [
      "7/7 [==============================] - 0s 3ms/step - loss: 0.0093 - accuracy: 1.0000 - val_loss: 0.0307 - val_accuracy: 0.9890\n",
      "Epoch 60/150\n",
      "7/7 [==============================] - 0s 3ms/step - loss: 0.0091 - accuracy: 1.0000 - val_loss: 0.0304 - val_accuracy: 0.9890\n",
      "Epoch 61/150\n",
      "7/7 [==============================] - 0s 3ms/step - loss: 0.0087 - accuracy: 1.0000 - val_loss: 0.0308 - val_accuracy: 0.9890\n",
      "Epoch 62/150\n",
      "7/7 [==============================] - 0s 3ms/step - loss: 0.0081 - accuracy: 1.0000 - val_loss: 0.0309 - val_accuracy: 0.9890\n",
      "Epoch 63/150\n",
      "7/7 [==============================] - 0s 3ms/step - loss: 0.0078 - accuracy: 1.0000 - val_loss: 0.0321 - val_accuracy: 0.9890\n",
      "Epoch 64/150\n",
      "7/7 [==============================] - 0s 3ms/step - loss: 0.0076 - accuracy: 1.0000 - val_loss: 0.0321 - val_accuracy: 0.9890\n",
      "Epoch 65/150\n",
      "7/7 [==============================] - 0s 3ms/step - loss: 0.0071 - accuracy: 1.0000 - val_loss: 0.0320 - val_accuracy: 0.9890\n",
      "Epoch 66/150\n",
      "7/7 [==============================] - 0s 3ms/step - loss: 0.0069 - accuracy: 1.0000 - val_loss: 0.0321 - val_accuracy: 0.9890\n",
      "Epoch 67/150\n",
      "7/7 [==============================] - 0s 3ms/step - loss: 0.0065 - accuracy: 1.0000 - val_loss: 0.0321 - val_accuracy: 0.9890\n",
      "Epoch 68/150\n",
      "7/7 [==============================] - 0s 3ms/step - loss: 0.0062 - accuracy: 1.0000 - val_loss: 0.0318 - val_accuracy: 0.9890\n",
      "Epoch 69/150\n",
      "7/7 [==============================] - 0s 3ms/step - loss: 0.0061 - accuracy: 1.0000 - val_loss: 0.0320 - val_accuracy: 0.9890\n",
      "Epoch 70/150\n",
      "7/7 [==============================] - 0s 3ms/step - loss: 0.0055 - accuracy: 1.0000 - val_loss: 0.0322 - val_accuracy: 0.9890\n",
      "Epoch 71/150\n",
      "7/7 [==============================] - 0s 3ms/step - loss: 0.0053 - accuracy: 1.0000 - val_loss: 0.0323 - val_accuracy: 0.9890\n",
      "Epoch 72/150\n",
      "7/7 [==============================] - 0s 3ms/step - loss: 0.0051 - accuracy: 1.0000 - val_loss: 0.0318 - val_accuracy: 0.9890\n",
      "Epoch 73/150\n",
      "7/7 [==============================] - 0s 3ms/step - loss: 0.0049 - accuracy: 1.0000 - val_loss: 0.0328 - val_accuracy: 0.9890\n",
      "Epoch 74/150\n",
      "7/7 [==============================] - 0s 3ms/step - loss: 0.0047 - accuracy: 1.0000 - val_loss: 0.0325 - val_accuracy: 0.9890\n",
      "Epoch 75/150\n",
      "7/7 [==============================] - 0s 3ms/step - loss: 0.0043 - accuracy: 1.0000 - val_loss: 0.0323 - val_accuracy: 0.9890\n",
      "Epoch 76/150\n",
      "7/7 [==============================] - 0s 3ms/step - loss: 0.0043 - accuracy: 1.0000 - val_loss: 0.0328 - val_accuracy: 0.9890\n",
      "Epoch 77/150\n",
      "7/7 [==============================] - 0s 3ms/step - loss: 0.0038 - accuracy: 1.0000 - val_loss: 0.0326 - val_accuracy: 0.9890\n",
      "Epoch 78/150\n",
      "7/7 [==============================] - 0s 3ms/step - loss: 0.0041 - accuracy: 1.0000 - val_loss: 0.0330 - val_accuracy: 0.9890\n",
      "Epoch 79/150\n",
      "7/7 [==============================] - 0s 3ms/step - loss: 0.0038 - accuracy: 1.0000 - val_loss: 0.0326 - val_accuracy: 0.9890\n",
      "Epoch 80/150\n",
      "7/7 [==============================] - 0s 3ms/step - loss: 0.0038 - accuracy: 1.0000 - val_loss: 0.0328 - val_accuracy: 0.9890\n",
      "Epoch 81/150\n",
      "7/7 [==============================] - 0s 3ms/step - loss: 0.0033 - accuracy: 1.0000 - val_loss: 0.0324 - val_accuracy: 0.9890\n",
      "Epoch 82/150\n",
      "7/7 [==============================] - 0s 3ms/step - loss: 0.0031 - accuracy: 1.0000 - val_loss: 0.0323 - val_accuracy: 0.9890\n",
      "Epoch 83/150\n",
      "7/7 [==============================] - 0s 3ms/step - loss: 0.0034 - accuracy: 1.0000 - val_loss: 0.0323 - val_accuracy: 0.9890\n",
      "Epoch 84/150\n",
      "7/7 [==============================] - 0s 3ms/step - loss: 0.0031 - accuracy: 1.0000 - val_loss: 0.0324 - val_accuracy: 0.9890\n",
      "Epoch 85/150\n",
      "7/7 [==============================] - 0s 3ms/step - loss: 0.0031 - accuracy: 1.0000 - val_loss: 0.0327 - val_accuracy: 0.9890\n",
      "Epoch 86/150\n",
      "7/7 [==============================] - 0s 3ms/step - loss: 0.0029 - accuracy: 1.0000 - val_loss: 0.0326 - val_accuracy: 0.9890\n",
      "Epoch 87/150\n",
      "7/7 [==============================] - 0s 3ms/step - loss: 0.0026 - accuracy: 1.0000 - val_loss: 0.0329 - val_accuracy: 0.9890\n",
      "Epoch 88/150\n",
      "7/7 [==============================] - 0s 3ms/step - loss: 0.0028 - accuracy: 1.0000 - val_loss: 0.0326 - val_accuracy: 0.9890\n",
      "Epoch 89/150\n",
      "7/7 [==============================] - 0s 3ms/step - loss: 0.0024 - accuracy: 1.0000 - val_loss: 0.0324 - val_accuracy: 0.9890\n",
      "Epoch 90/150\n",
      "7/7 [==============================] - 0s 3ms/step - loss: 0.0025 - accuracy: 1.0000 - val_loss: 0.0324 - val_accuracy: 0.9890\n",
      "Epoch 91/150\n",
      "7/7 [==============================] - 0s 3ms/step - loss: 0.0023 - accuracy: 1.0000 - val_loss: 0.0322 - val_accuracy: 0.9890\n",
      "Epoch 92/150\n",
      "7/7 [==============================] - 0s 3ms/step - loss: 0.0022 - accuracy: 1.0000 - val_loss: 0.0324 - val_accuracy: 0.9890\n",
      "Epoch 93/150\n",
      "7/7 [==============================] - 0s 3ms/step - loss: 0.0023 - accuracy: 1.0000 - val_loss: 0.0323 - val_accuracy: 0.9890\n",
      "Epoch 94/150\n",
      "7/7 [==============================] - 0s 3ms/step - loss: 0.0023 - accuracy: 1.0000 - val_loss: 0.0325 - val_accuracy: 0.9890\n",
      "Epoch 95/150\n",
      "7/7 [==============================] - 0s 3ms/step - loss: 0.0022 - accuracy: 1.0000 - val_loss: 0.0326 - val_accuracy: 0.9890\n",
      "Epoch 96/150\n",
      "7/7 [==============================] - 0s 3ms/step - loss: 0.0022 - accuracy: 1.0000 - val_loss: 0.0330 - val_accuracy: 0.9890\n",
      "Epoch 97/150\n",
      "7/7 [==============================] - 0s 3ms/step - loss: 0.0021 - accuracy: 1.0000 - val_loss: 0.0331 - val_accuracy: 0.9890\n",
      "Epoch 98/150\n",
      "7/7 [==============================] - 0s 3ms/step - loss: 0.0020 - accuracy: 1.0000 - val_loss: 0.0332 - val_accuracy: 0.9890\n",
      "Epoch 99/150\n",
      "7/7 [==============================] - 0s 3ms/step - loss: 0.0019 - accuracy: 1.0000 - val_loss: 0.0333 - val_accuracy: 0.9890\n",
      "Epoch 100/150\n",
      "7/7 [==============================] - 0s 3ms/step - loss: 0.0019 - accuracy: 1.0000 - val_loss: 0.0334 - val_accuracy: 0.9890\n",
      "Epoch 101/150\n",
      "7/7 [==============================] - 0s 3ms/step - loss: 0.0018 - accuracy: 1.0000 - val_loss: 0.0339 - val_accuracy: 0.9890\n",
      "Epoch 102/150\n",
      "7/7 [==============================] - 0s 3ms/step - loss: 0.0018 - accuracy: 1.0000 - val_loss: 0.0340 - val_accuracy: 0.9890\n",
      "Epoch 103/150\n",
      "7/7 [==============================] - 0s 3ms/step - loss: 0.0018 - accuracy: 1.0000 - val_loss: 0.0341 - val_accuracy: 0.9890\n",
      "Epoch 104/150\n",
      "7/7 [==============================] - 0s 3ms/step - loss: 0.0017 - accuracy: 1.0000 - val_loss: 0.0341 - val_accuracy: 0.9890\n",
      "Epoch 105/150\n",
      "7/7 [==============================] - 0s 3ms/step - loss: 0.0016 - accuracy: 1.0000 - val_loss: 0.0342 - val_accuracy: 0.9890\n",
      "Epoch 106/150\n",
      "7/7 [==============================] - 0s 3ms/step - loss: 0.0014 - accuracy: 1.0000 - val_loss: 0.0341 - val_accuracy: 0.9890\n",
      "Epoch 107/150\n",
      "7/7 [==============================] - 0s 3ms/step - loss: 0.0016 - accuracy: 1.0000 - val_loss: 0.0341 - val_accuracy: 0.9890\n",
      "Epoch 108/150\n",
      "7/7 [==============================] - 0s 3ms/step - loss: 0.0015 - accuracy: 1.0000 - val_loss: 0.0343 - val_accuracy: 0.9890\n",
      "Epoch 109/150\n",
      "7/7 [==============================] - 0s 3ms/step - loss: 0.0015 - accuracy: 1.0000 - val_loss: 0.0345 - val_accuracy: 0.9890\n",
      "Epoch 110/150\n",
      "7/7 [==============================] - 0s 3ms/step - loss: 0.0015 - accuracy: 1.0000 - val_loss: 0.0346 - val_accuracy: 0.9890\n",
      "Epoch 111/150\n",
      "7/7 [==============================] - 0s 3ms/step - loss: 0.0013 - accuracy: 1.0000 - val_loss: 0.0345 - val_accuracy: 0.9890\n",
      "Epoch 112/150\n",
      "7/7 [==============================] - 0s 3ms/step - loss: 0.0013 - accuracy: 1.0000 - val_loss: 0.0349 - val_accuracy: 0.9890\n",
      "Epoch 113/150\n",
      "7/7 [==============================] - 0s 3ms/step - loss: 0.0013 - accuracy: 1.0000 - val_loss: 0.0350 - val_accuracy: 0.9890\n",
      "Epoch 114/150\n",
      "7/7 [==============================] - 0s 3ms/step - loss: 0.0012 - accuracy: 1.0000 - val_loss: 0.0351 - val_accuracy: 0.9890\n",
      "Epoch 115/150\n",
      "7/7 [==============================] - 0s 3ms/step - loss: 0.0012 - accuracy: 1.0000 - val_loss: 0.0351 - val_accuracy: 0.9890\n",
      "Epoch 116/150\n",
      "7/7 [==============================] - 0s 3ms/step - loss: 0.0012 - accuracy: 1.0000 - val_loss: 0.0351 - val_accuracy: 0.9890\n",
      "Epoch 117/150\n"
     ]
    },
    {
     "name": "stdout",
     "output_type": "stream",
     "text": [
      "7/7 [==============================] - 0s 3ms/step - loss: 0.0012 - accuracy: 1.0000 - val_loss: 0.0352 - val_accuracy: 0.9890\n",
      "Epoch 118/150\n",
      "7/7 [==============================] - 0s 3ms/step - loss: 0.0012 - accuracy: 1.0000 - val_loss: 0.0352 - val_accuracy: 0.9890\n",
      "Epoch 119/150\n",
      "7/7 [==============================] - 0s 3ms/step - loss: 0.0010 - accuracy: 1.0000 - val_loss: 0.0353 - val_accuracy: 0.9890\n",
      "Epoch 120/150\n",
      "7/7 [==============================] - 0s 3ms/step - loss: 0.0011 - accuracy: 1.0000 - val_loss: 0.0351 - val_accuracy: 0.9890\n",
      "Epoch 121/150\n",
      "7/7 [==============================] - 0s 3ms/step - loss: 0.0011 - accuracy: 1.0000 - val_loss: 0.0352 - val_accuracy: 0.9890\n",
      "Epoch 122/150\n",
      "7/7 [==============================] - 0s 3ms/step - loss: 0.0010 - accuracy: 1.0000 - val_loss: 0.0353 - val_accuracy: 0.9890\n",
      "Epoch 123/150\n",
      "7/7 [==============================] - 0s 3ms/step - loss: 0.0010 - accuracy: 1.0000 - val_loss: 0.0355 - val_accuracy: 0.9890\n",
      "Epoch 124/150\n",
      "7/7 [==============================] - 0s 3ms/step - loss: 0.0010 - accuracy: 1.0000 - val_loss: 0.0357 - val_accuracy: 0.9890\n",
      "Epoch 125/150\n",
      "7/7 [==============================] - 0s 3ms/step - loss: 9.1424e-04 - accuracy: 1.0000 - val_loss: 0.0357 - val_accuracy: 0.9890\n",
      "Epoch 126/150\n",
      "7/7 [==============================] - 0s 3ms/step - loss: 9.5039e-04 - accuracy: 1.0000 - val_loss: 0.0357 - val_accuracy: 0.9890\n",
      "Epoch 127/150\n",
      "7/7 [==============================] - 0s 3ms/step - loss: 9.6337e-04 - accuracy: 1.0000 - val_loss: 0.0358 - val_accuracy: 0.9890\n",
      "Epoch 128/150\n",
      "7/7 [==============================] - 0s 3ms/step - loss: 9.1280e-04 - accuracy: 1.0000 - val_loss: 0.0359 - val_accuracy: 0.9890\n",
      "Epoch 129/150\n",
      "7/7 [==============================] - 0s 3ms/step - loss: 8.2302e-04 - accuracy: 1.0000 - val_loss: 0.0360 - val_accuracy: 0.9890\n",
      "Epoch 130/150\n",
      "7/7 [==============================] - 0s 3ms/step - loss: 8.8317e-04 - accuracy: 1.0000 - val_loss: 0.0361 - val_accuracy: 0.9890\n",
      "Epoch 131/150\n",
      "7/7 [==============================] - 0s 3ms/step - loss: 8.5523e-04 - accuracy: 1.0000 - val_loss: 0.0362 - val_accuracy: 0.9890\n",
      "Epoch 132/150\n",
      "7/7 [==============================] - 0s 3ms/step - loss: 8.3940e-04 - accuracy: 1.0000 - val_loss: 0.0361 - val_accuracy: 0.9890\n",
      "Epoch 133/150\n",
      "7/7 [==============================] - 0s 3ms/step - loss: 8.0074e-04 - accuracy: 1.0000 - val_loss: 0.0362 - val_accuracy: 0.9890\n",
      "Epoch 134/150\n",
      "7/7 [==============================] - 0s 3ms/step - loss: 8.3234e-04 - accuracy: 1.0000 - val_loss: 0.0364 - val_accuracy: 0.9890\n",
      "Epoch 135/150\n",
      "7/7 [==============================] - 0s 3ms/step - loss: 8.1166e-04 - accuracy: 1.0000 - val_loss: 0.0366 - val_accuracy: 0.9890\n",
      "Epoch 136/150\n",
      "7/7 [==============================] - 0s 3ms/step - loss: 7.8749e-04 - accuracy: 1.0000 - val_loss: 0.0367 - val_accuracy: 0.9890\n",
      "Epoch 137/150\n",
      "7/7 [==============================] - 0s 3ms/step - loss: 7.6393e-04 - accuracy: 1.0000 - val_loss: 0.0369 - val_accuracy: 0.9890\n",
      "Epoch 138/150\n",
      "7/7 [==============================] - 0s 3ms/step - loss: 7.1238e-04 - accuracy: 1.0000 - val_loss: 0.0368 - val_accuracy: 0.9890\n",
      "Epoch 139/150\n",
      "7/7 [==============================] - 0s 3ms/step - loss: 7.3923e-04 - accuracy: 1.0000 - val_loss: 0.0366 - val_accuracy: 0.9890\n",
      "Epoch 140/150\n",
      "7/7 [==============================] - 0s 3ms/step - loss: 7.0310e-04 - accuracy: 1.0000 - val_loss: 0.0367 - val_accuracy: 0.9890\n",
      "Epoch 141/150\n",
      "7/7 [==============================] - 0s 3ms/step - loss: 6.8624e-04 - accuracy: 1.0000 - val_loss: 0.0366 - val_accuracy: 0.9890\n",
      "Epoch 142/150\n",
      "7/7 [==============================] - 0s 3ms/step - loss: 6.7783e-04 - accuracy: 1.0000 - val_loss: 0.0367 - val_accuracy: 0.9890\n",
      "Epoch 143/150\n",
      "7/7 [==============================] - 0s 3ms/step - loss: 6.5715e-04 - accuracy: 1.0000 - val_loss: 0.0366 - val_accuracy: 0.9890\n",
      "Epoch 144/150\n",
      "7/7 [==============================] - 0s 3ms/step - loss: 6.5763e-04 - accuracy: 1.0000 - val_loss: 0.0368 - val_accuracy: 0.9890\n",
      "Epoch 145/150\n",
      "7/7 [==============================] - 0s 3ms/step - loss: 6.5970e-04 - accuracy: 1.0000 - val_loss: 0.0371 - val_accuracy: 0.9890\n",
      "Epoch 146/150\n",
      "7/7 [==============================] - 0s 3ms/step - loss: 6.4846e-04 - accuracy: 1.0000 - val_loss: 0.0371 - val_accuracy: 0.9890\n",
      "Epoch 147/150\n",
      "7/7 [==============================] - 0s 3ms/step - loss: 6.0142e-04 - accuracy: 1.0000 - val_loss: 0.0370 - val_accuracy: 0.9890\n",
      "Epoch 148/150\n",
      "7/7 [==============================] - 0s 3ms/step - loss: 6.1979e-04 - accuracy: 1.0000 - val_loss: 0.0372 - val_accuracy: 0.9890\n",
      "Epoch 149/150\n",
      "7/7 [==============================] - 0s 3ms/step - loss: 5.4879e-04 - accuracy: 1.0000 - val_loss: 0.0374 - val_accuracy: 0.9890\n",
      "Epoch 150/150\n",
      "7/7 [==============================] - 0s 3ms/step - loss: 5.9387e-04 - accuracy: 1.0000 - val_loss: 0.0376 - val_accuracy: 0.9890\n"
     ]
    }
   ],
   "source": [
    "hist = model.fit(train_dataset, epochs=N_EPOCHS, validation_data=val_dataset)"
   ]
  },
  {
   "cell_type": "markdown",
   "metadata": {
    "slideshow": {
     "slide_type": "fragment"
    }
   },
   "source": [
    "#### 결과 시각화"
   ]
  },
  {
   "cell_type": "code",
   "execution_count": 162,
   "metadata": {
    "ExecuteTime": {
     "end_time": "2021-12-01T07:44:28.216185Z",
     "start_time": "2021-12-01T07:44:28.129865Z"
    },
    "scrolled": true,
    "slideshow": {
     "slide_type": "fragment"
    }
   },
   "outputs": [
    {
     "data": {
      "image/png": "[encoded data removed]",
      "text/plain": [
       "<Figure size 504x432 with 1 Axes>"
      ]
     },
     "metadata": {
      "needs_background": "light"
     },
     "output_type": "display_data"
    }
   ],
   "source": [
    "import matplotlib.pyplot as plt\n",
    "\n",
    "plt.figure(figsize=(7,6))\n",
    "plt.plot(range(1, N_EPOCHS+1), hist.history['loss'], label='Train Loss')\n",
    "plt.plot(range(1, N_EPOCHS+1), hist.history['val_loss'], label='Validation Loss')\n",
    "plt.title('Loss', fontsize=20)\n",
    "plt.xlabel('Epochs')\n",
    "plt.ylabel('Loss')\n",
    "plt.legend()\n",
    "plt.show()"
   ]
  },
  {
   "cell_type": "code",
   "execution_count": 163,
   "metadata": {
    "ExecuteTime": {
     "end_time": "2021-12-01T07:44:29.479189Z",
     "start_time": "2021-12-01T07:44:29.389189Z"
    },
    "scrolled": true,
    "slideshow": {
     "slide_type": "fragment"
    }
   },
   "outputs": [
    {
     "data": {
      "image/png": "[encoded data removed]",
      "text/plain": [
       "<Figure size 504x432 with 1 Axes>"
      ]
     },
     "metadata": {
      "needs_background": "light"
     },
     "output_type": "display_data"
    }
   ],
   "source": [
    "plt.figure(figsize=(7,6))\n",
    "plt.plot(range(1, N_EPOCHS+1), hist.history['accuracy'], label='Train Accuracy')\n",
    "plt.plot(range(1, N_EPOCHS+1), hist.history['val_accuracy'], label='Validation Accuracy')\n",
    "plt.title('Accuracy', fontsize=20)\n",
    "plt.xlabel('Epochs')\n",
    "plt.ylabel('Accuracy')\n",
    "plt.legend()\n",
    "plt.show()"
   ]
  },
  {
   "cell_type": "markdown",
   "metadata": {
    "slideshow": {
     "slide_type": "slide"
    }
   },
   "source": [
    "#### 최종평가"
   ]
  },
  {
   "cell_type": "code",
   "execution_count": 164,
   "metadata": {
    "ExecuteTime": {
     "end_time": "2021-12-01T07:45:37.672592Z",
     "start_time": "2021-12-01T07:45:37.647738Z"
    },
    "slideshow": {
     "slide_type": "fragment"
    }
   },
   "outputs": [
    {
     "name": "stdout",
     "output_type": "stream",
     "text": [
      "3/3 [==============================] - 0s 999us/step - loss: 0.2404 - accuracy: 0.9474\n"
     ]
    }
   ],
   "source": [
    "loss, acc = model.evaluate(test_dataset)"
   ]
  },
  {
   "cell_type": "code",
   "execution_count": 165,
   "metadata": {
    "ExecuteTime": {
     "end_time": "2021-12-01T07:45:39.070561Z",
     "start_time": "2021-12-01T07:45:39.063551Z"
    },
    "slideshow": {
     "slide_type": "fragment"
    }
   },
   "outputs": [
    {
     "name": "stdout",
     "output_type": "stream",
     "text": [
      "0.24042800068855286 0.9473684430122375\n"
     ]
    }
   ],
   "source": [
    "print(loss, acc)"
   ]
  },
  {
   "cell_type": "markdown",
   "metadata": {
    "slideshow": {
     "slide_type": "slide"
    }
   },
   "source": [
    "#### 새로운 데이터 추론"
   ]
  },
  {
   "cell_type": "code",
   "execution_count": 166,
   "metadata": {
    "ExecuteTime": {
     "end_time": "2021-12-01T07:45:44.652262Z",
     "start_time": "2021-12-01T07:45:44.649263Z"
    },
    "slideshow": {
     "slide_type": "fragment"
    }
   },
   "outputs": [],
   "source": [
    "new_data = X_test[:5]\n",
    "#train set으로 학습한 scaler를 이용해 변환\n",
    "new_data_scaled = scaler.transform(new_data)"
   ]
  },
  {
   "cell_type": "code",
   "execution_count": 167,
   "metadata": {
    "ExecuteTime": {
     "end_time": "2021-12-01T07:45:45.417738Z",
     "start_time": "2021-12-01T07:45:45.357741Z"
    },
    "slideshow": {
     "slide_type": "fragment"
    }
   },
   "outputs": [],
   "source": [
    "pred = model.predict(new_data_scaled)"
   ]
  },
  {
   "cell_type": "code",
   "execution_count": 171,
   "metadata": {
    "ExecuteTime": {
     "end_time": "2021-12-01T07:46:47.096146Z",
     "start_time": "2021-12-01T07:46:47.079128Z"
    },
    "slideshow": {
     "slide_type": "fragment"
    }
   },
   "outputs": [
    {
     "data": {
      "text/plain": [
       "(5, 1)"
      ]
     },
     "execution_count": 171,
     "metadata": {},
     "output_type": "execute_result"
    }
   ],
   "source": [
    "pred.shape"
   ]
  },
  {
   "cell_type": "code",
   "execution_count": 172,
   "metadata": {
    "ExecuteTime": {
     "end_time": "2021-12-01T07:46:58.552499Z",
     "start_time": "2021-12-01T07:46:58.537466Z"
    }
   },
   "outputs": [
    {
     "data": {
      "text/plain": [
       "array([[2.1857457e-05],\n",
       "       [1.2425139e-22],\n",
       "       [1.3220028e-06],\n",
       "       [9.9999917e-01],\n",
       "       [5.0228130e-07]], dtype=float32)"
      ]
     },
     "execution_count": 172,
     "metadata": {},
     "output_type": "execute_result"
    }
   ],
   "source": [
    "pred"
   ]
  },
  {
   "cell_type": "code",
   "execution_count": 176,
   "metadata": {
    "ExecuteTime": {
     "end_time": "2021-12-01T07:49:03.004447Z",
     "start_time": "2021-12-01T07:49:02.996356Z"
    }
   },
   "outputs": [
    {
     "data": {
      "text/plain": [
       "array([[0],\n",
       "       [0],\n",
       "       [0],\n",
       "       [1],\n",
       "       [0]])"
      ]
     },
     "execution_count": 176,
     "metadata": {},
     "output_type": "execute_result"
    }
   ],
   "source": [
    "#(pred > 0.5).astype('int') 아래와 동일한 결과\n",
    "np.where(pred > 0.5, 1, 0)"
   ]
  },
  {
   "cell_type": "code",
   "execution_count": 169,
   "metadata": {
    "ExecuteTime": {
     "end_time": "2021-12-01T07:45:47.432539Z",
     "start_time": "2021-12-01T07:45:47.417514Z"
    },
    "scrolled": true,
    "slideshow": {
     "slide_type": "fragment"
    }
   },
   "outputs": [
    {
     "data": {
      "text/plain": [
       "array([[0],\n",
       "       [0],\n",
       "       [0],\n",
       "       [1],\n",
       "       [0]], dtype=int8)"
      ]
     },
     "execution_count": 169,
     "metadata": {},
     "output_type": "execute_result"
    }
   ],
   "source": [
    "result = (pred > 0.5).astype(np.int8)\n",
    "result"
   ]
  },
  {
   "cell_type": "code",
   "execution_count": 170,
   "metadata": {
    "ExecuteTime": {
     "end_time": "2021-12-01T07:45:48.333583Z",
     "start_time": "2021-12-01T07:45:48.327575Z"
    },
    "slideshow": {
     "slide_type": "fragment"
    }
   },
   "outputs": [
    {
     "data": {
      "text/plain": [
       "array([['악성'],\n",
       "       ['악성'],\n",
       "       ['악성'],\n",
       "       ['양성'],\n",
       "       ['악성']], dtype='<U2')"
      ]
     },
     "execution_count": 170,
     "metadata": {},
     "output_type": "execute_result"
    }
   ],
   "source": [
    "result_label = np.where(pred>=0.5, \"양성\", \"악성\")\n",
    "result_label"
   ]
  },
  {
   "cell_type": "markdown",
   "metadata": {
    "slideshow": {
     "slide_type": "slide"
    }
   },
   "source": [
    "# Tensorflow 2.3이하 버전에서 Train dataset 구성 및 학습 \n",
    "- 위의 코드들은 2.4 이후 버전\n",
    "- 2.3 이하버전에서는 \n",
    "    1. train_dataset 구성시 repeat()를 추가\n",
    "    2. 학습시에 train/validation 1 epoch당 step 횟수를 추가\n",
    "        - steps_per_epoch: train set 에 대한 step 횟수\n",
    "        - validation_steps: validation set 에 대한 step 횟수"
   ]
  },
  {
   "cell_type": "code",
   "execution_count": 177,
   "metadata": {
    "ExecuteTime": {
     "end_time": "2021-12-01T07:53:10.303380Z",
     "start_time": "2021-12-01T07:53:10.293913Z"
    },
    "slideshow": {
     "slide_type": "fragment"
    }
   },
   "outputs": [],
   "source": [
    "train_dataset2 = tf.data.Dataset.from_tensor_slices((X_train_scaled, y_train)).shuffle(N_TRAIN).batch(N_BATCHS, drop_remainder=True).repeat()\n",
    "\n",
    "val_dataset2 = tf.data.Dataset.from_tensor_slices((X_val_scaled, y_val)).batch(N_BATCHS)\n",
    "test_dataset2 = tf.data.Dataset.from_tensor_slices((X_test_scaled, y_test)).batch(N_BATCHS)"
   ]
  },
  {
   "cell_type": "code",
   "execution_count": 178,
   "metadata": {
    "ExecuteTime": {
     "end_time": "2021-12-01T07:53:11.099317Z",
     "start_time": "2021-12-01T07:53:11.081065Z"
    },
    "slideshow": {
     "slide_type": "fragment"
    }
   },
   "outputs": [
    {
     "name": "stdout",
     "output_type": "stream",
     "text": [
      "7 2\n"
     ]
    }
   ],
   "source": [
    "steps_per_epoch = len(train_dataset)\n",
    "validation_steps = len(val_dataset)\n",
    "print(steps_per_epoch, validation_steps)"
   ]
  },
  {
   "cell_type": "code",
   "execution_count": 179,
   "metadata": {
    "ExecuteTime": {
     "end_time": "2021-12-01T07:53:11.836004Z",
     "start_time": "2021-12-01T07:53:11.803956Z"
    },
    "slideshow": {
     "slide_type": "fragment"
    }
   },
   "outputs": [],
   "source": [
    "model = create_wisconsin_model()\n",
    "model.compile(optimizer=keras.optimizers.Adam(learning_rate=LEARNING_RATE), \n",
    "              loss='binary_crossentropy',\n",
    "              metrics=['accuracy'])"
   ]
  },
  {
   "cell_type": "code",
   "execution_count": 180,
   "metadata": {
    "ExecuteTime": {
     "end_time": "2021-12-01T07:53:12.916209Z",
     "start_time": "2021-12-01T07:53:12.480168Z"
    },
    "scrolled": true,
    "slideshow": {
     "slide_type": "fragment"
    }
   },
   "outputs": [
    {
     "name": "stdout",
     "output_type": "stream",
     "text": [
      "Epoch 1/10\n",
      "7/7 [==============================] - 0s 11ms/step - loss: 0.6826 - accuracy: 0.5657 - val_loss: 0.5989 - val_accuracy: 0.7802\n",
      "Epoch 2/10\n",
      "7/7 [==============================] - 0s 3ms/step - loss: 0.5851 - accuracy: 0.7971 - val_loss: 0.5296 - val_accuracy: 0.9341\n",
      "Epoch 3/10\n",
      "7/7 [==============================] - 0s 3ms/step - loss: 0.5147 - accuracy: 0.8943 - val_loss: 0.4717 - val_accuracy: 0.9560\n",
      "Epoch 4/10\n",
      "7/7 [==============================] - 0s 3ms/step - loss: 0.4535 - accuracy: 0.9314 - val_loss: 0.4192 - val_accuracy: 0.9560\n",
      "Epoch 5/10\n",
      "7/7 [==============================] - 0s 3ms/step - loss: 0.4000 - accuracy: 0.9514 - val_loss: 0.3682 - val_accuracy: 0.9560\n",
      "Epoch 6/10\n",
      "7/7 [==============================] - 0s 3ms/step - loss: 0.3543 - accuracy: 0.9543 - val_loss: 0.3189 - val_accuracy: 0.9670\n",
      "Epoch 7/10\n",
      "7/7 [==============================] - 0s 3ms/step - loss: 0.3005 - accuracy: 0.9657 - val_loss: 0.2738 - val_accuracy: 0.9670\n",
      "Epoch 8/10\n",
      "7/7 [==============================] - 0s 3ms/step - loss: 0.2533 - accuracy: 0.9657 - val_loss: 0.2328 - val_accuracy: 0.9670\n",
      "Epoch 9/10\n",
      "7/7 [==============================] - 0s 3ms/step - loss: 0.2143 - accuracy: 0.9657 - val_loss: 0.1976 - val_accuracy: 0.9780\n",
      "Epoch 10/10\n",
      "7/7 [==============================] - 0s 3ms/step - loss: 0.1817 - accuracy: 0.9657 - val_loss: 0.1685 - val_accuracy: 0.9780\n"
     ]
    },
    {
     "data": {
      "text/plain": [
       "<keras.callbacks.History at 0x270b30a0340>"
      ]
     },
     "execution_count": 180,
     "metadata": {},
     "output_type": "execute_result"
    }
   ],
   "source": [
    "#1에폭이 몇 스탭이다라고 알려줌 \n",
    "model.fit(train_dataset2, \n",
    "          steps_per_epoch=steps_per_epoch, #train set:1 epoch당 step 수\n",
    "          validation_data=val_dataset2,\n",
    "          validation_steps=validation_steps, #val set:1 epoch당 step 수\n",
    "          epochs=10)"
   ]
  }
 ],
 "metadata": {
  "kernelspec": {
   "display_name": "Python 3 (ipykernel)",
   "language": "python",
   "name": "python3"
  },
  "language_info": {
   "codemirror_mode": {
    "name": "ipython",
    "version": 3
   },
   "file_extension": ".py",
   "mimetype": "text/x-python",
   "name": "python",
   "nbconvert_exporter": "python",
   "pygments_lexer": "ipython3",
   "version": "3.9.7"
  },
  "toc": {
   "base_numbering": 1,
   "nav_menu": {},
   "number_sections": false,
   "sideBar": true,
   "skip_h1_title": false,
   "title_cell": "Table of Contents",
   "title_sidebar": "Contents",
   "toc_cell": false,
   "toc_position": {},
   "toc_section_display": true,
   "toc_window_display": false
  },
  "varInspector": {
   "cols": {
    "lenName": 16,
    "lenType": 16,
    "lenVar": 40
   },
   "kernels_config": {
    "python": {
     "delete_cmd_postfix": "",
     "delete_cmd_prefix": "del ",
     "library": "var_list.py",
     "varRefreshCmd": "print(var_dic_list())"
    },
    "r": {
     "delete_cmd_postfix": ") ",
     "delete_cmd_prefix": "rm(",
     "library": "var_list.r",
     "varRefreshCmd": "cat(var_dic_list()) "
    }
   },
   "types_to_exclude": [
    "module",
    "function",
    "builtin_function_or_method",
    "instance",
    "_Feature"
   ],
   "window_display": false
  }
 },
 "nbformat": 4,
 "nbformat_minor": 2
}
