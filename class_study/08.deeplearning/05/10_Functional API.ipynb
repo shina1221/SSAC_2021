{
 "cells": [
  {
   "cell_type": "markdown",
   "metadata": {
    "slideshow": {
     "slide_type": "slide"
    }
   },
   "source": [
    "# __Call__ magic method\n",
    "- 객체를 함수처럼 호출 할 수 있도록 한다.\n",
    "- `객체()` 로 호출 할 때 __call__ 메소드가 호출되어 실행된다."
   ]
  },
  {
   "cell_type": "code",
   "execution_count": null,
   "metadata": {},
   "outputs": [],
   "source": []
  },
  {
   "cell_type": "code",
   "execution_count": null,
   "metadata": {},
   "outputs": [],
   "source": []
  },
  {
   "cell_type": "markdown",
   "metadata": {
    "slideshow": {
     "slide_type": "slide"
    }
   },
   "source": [
    "# Functional API\n",
    "- Sequential 모델은 각 Layer들의 입력과 출력이 하나라고 가정한다. 그리고 각각의 Layer(입력층, 은닉층, 출력층)들을 차례대로 쌓아 구성한다. 그래서 다양한 구조의 네트워크를 만드는데 한계가 있다.\n",
    "- 함수형 API를 사용하면 **다중입력, 다중출력, 그래프 형태**의 다양한 형태의 모델을 유연하게 구성할 수 있다.\n",
    "\n",
    "- Functional API는 직접 텐서들의 입출력을 다룬다. \n",
    "- 함수호출 처럼 Layer를 이용하여 입력 텐서(Input Tensor)를 입력 받고 그 결과를 출력 텐서(Output Tensor)로 반환하는 형식으로 모델을 구현한다.\n",
    "\n",
    "```python\n",
    "input_tensor = Input(shape=(16,))\n",
    "dense = layers.Dense(32, activation='relu')(input_tensor)\n",
    "output_tensor = layers.Dense(32, activation='sigmoid')(dense)\n",
    "\n",
    "model = models.Model(input_tensor, output_tensor)\n",
    "```"
   ]
  },
  {
   "cell_type": "markdown",
   "metadata": {
    "slideshow": {
     "slide_type": "slide"
    }
   },
   "source": [
    "## Sequential, Functional API "
   ]
  },
  {
   "cell_type": "markdown",
   "metadata": {
    "slideshow": {
     "slide_type": "slide"
    }
   },
   "source": [
    "### Sequential"
   ]
  },
  {
   "cell_type": "code",
   "execution_count": 16,
   "metadata": {
    "ExecuteTime": {
     "end_time": "2021-11-04T08:36:34.606826Z",
     "start_time": "2021-11-04T08:36:34.591150Z"
    },
    "slideshow": {
     "slide_type": "fragment"
    }
   },
   "outputs": [],
   "source": [
    "import tensorflow as tf\n",
    "from tensorflow import keras\n",
    "from tensorflow.keras import applications\n",
    "from tensorflow.keras import layers, models"
   ]
  },
  {
   "cell_type": "code",
   "execution_count": null,
   "metadata": {
    "slideshow": {
     "slide_type": "fragment"
    }
   },
   "outputs": [],
   "source": [
    "seq_model = keras.Sequential()\n",
    "seq_model.add(layers.Input(shape=(32,32,3)))\n",
    "\n",
    "seq_model.add(layers.Conv2D(filters=64, kernel_size=3, padding='same', activation='relu'))\n",
    "seq_model.add(layers.MaxPooling2D(padding=\"same\"))\n",
    "seq_model.add(layers.Flatten())\n",
    "\n",
    "seq_model.add(layers.Dense(units=256, activation='relu'))\n",
    "seq_model.add(layers.Dense(units=10, activation='softmax', name='output_layer'))\n",
    "seq_model.summary()"
   ]
  },
  {
   "cell_type": "markdown",
   "metadata": {
    "slideshow": {
     "slide_type": "slide"
    }
   },
   "source": [
    "### Functional API"
   ]
  },
  {
   "cell_type": "code",
   "execution_count": null,
   "metadata": {
    "slideshow": {
     "slide_type": "fragment"
    }
   },
   "outputs": [],
   "source": [
    "input_tensor = layers.Input(shape=(32,32,3))\n",
    "\n",
    "conv_tensor = layers.Conv2D(filters=64, kernel_size=3, padding='same', activation='relu')(input_tensor)\n",
    "\n",
    "pool_tensor = layers.MaxPool2D(padding='same')(conv_tensor)\n",
    "\n",
    "flatten_tensor = layers.Flatten()(pool_tensor)\n",
    "\n",
    "dense_tensor = layers.Dense(units=256, activation='relu')(flatten_tensor)\n",
    "dense_tensor2 = layers.Dense(units=128)(dense_tensor)\n",
    "\n",
    "bn_tensor = layers.BatchNormalization()(dense_tensor2)\n",
    "relu_tensor = layers.ReLU()(bn_tensor)\n",
    "\n",
    "output_tensor = layers.Dense(units=10, activation='softmax')(relu_tensor)\n",
    "\n",
    "fn_model = models.Model(input_tensor, output_tensor)"
   ]
  },
  {
   "cell_type": "code",
   "execution_count": 22,
   "metadata": {
    "ExecuteTime": {
     "end_time": "2021-11-04T08:47:40.124809Z",
     "start_time": "2021-11-04T08:47:40.119808Z"
    },
    "scrolled": true,
    "slideshow": {
     "slide_type": "fragment"
    }
   },
   "outputs": [],
   "source": [
    "fn_model.summary()"
   ]
  },
  {
   "cell_type": "code",
   "execution_count": null,
   "metadata": {
    "slideshow": {
     "slide_type": "fragment"
    }
   },
   "outputs": [],
   "source": [
    "keras.utils.plot_model(fn_model, show_shapes=True)"
   ]
  },
  {
   "cell_type": "markdown",
   "metadata": {
    "collapsed": true,
    "slideshow": {
     "slide_type": "slide"
    }
   },
   "source": [
    "##### 각 Layer의 출력 변수들 통일. \n",
    "- 일반적으로 block 단위로 동일한 변수명을 사용."
   ]
  },
  {
   "cell_type": "code",
   "execution_count": null,
   "metadata": {
    "slideshow": {
     "slide_type": "fragment"
    }
   },
   "outputs": [],
   "source": [
    "input_tensor = layers.Input(shape=(32,32,3))\n",
    "\n",
    "x1 = layers.Conv2D(filters=16, kernel_size=3, padding='same', activation='relu')(input_tensor)\n",
    "x1 = layers.MaxPooling2D(padding=\"same\")(x1)\n",
    "\n",
    "x2 = layers.Conv2D(filters=16, kernel_size=3, padding='same', activation='relu')(x1)\n",
    "x2 = layers.MaxPooling2D(padding=\"same\")(x2)\n",
    "\n",
    "\n",
    "x3 = layers.Flatten()(x2)\n",
    "x3 = layers.Dense(units=8, activation='relu')(x3)\n",
    "\n",
    "output_tensor = layers.Dense(units=1, activation='sigmoid')(x3)\n",
    "\n",
    "fn_model = models.Model(input_tensor, output_tensor)"
   ]
  },
  {
   "cell_type": "code",
   "execution_count": null,
   "metadata": {
    "slideshow": {
     "slide_type": "fragment"
    }
   },
   "outputs": [],
   "source": [
    "fn_model.summary()"
   ]
  },
  {
   "cell_type": "code",
   "execution_count": null,
   "metadata": {
    "slideshow": {
     "slide_type": "fragment"
    }
   },
   "outputs": [],
   "source": [
    "keras.utils.plot_model(fn_model)"
   ]
  },
  {
   "cell_type": "markdown",
   "metadata": {
    "slideshow": {
     "slide_type": "slide"
    }
   },
   "source": [
    "##### trainable 설정"
   ]
  },
  {
   "cell_type": "code",
   "execution_count": null,
   "metadata": {
    "slideshow": {
     "slide_type": "fragment"
    }
   },
   "outputs": [],
   "source": [
    "input_tensor = layers.Input(shape=(32,32,3))\n",
    "\n",
    "conv_layer = layers.Conv2D(filters=16, kernel_size=3, padding='same', activation='relu')\n",
    "conv_layer.trainable = False\n",
    "\n",
    "x1 = conv_layer(input_tensor) \n",
    "x1 = layers.MaxPooling2D(padding=\"same\")(x1)\n",
    "\n",
    "x2 = layers.Conv2D(filters=16, kernel_size=3, padding='same', activation='relu')(x1)\n",
    "x2 = layers.MaxPooling2D(padding=\"same\")(x2)\n",
    "\n",
    "\n",
    "x3 = layers.Flatten()(x2)\n",
    "x3 = layers.Dense(units=8, activation='relu')(x3)\n",
    "\n",
    "output_tensor = layers.Dense(units=1, activation='sigmoid')(x3)\n",
    "\n",
    "fn_model = models.Model(input_tensor, output_tensor)\n",
    "fn_model.summary()"
   ]
  },
  {
   "cell_type": "markdown",
   "metadata": {
    "slideshow": {
     "slide_type": "slide"
    }
   },
   "source": [
    "##### Transfer learning"
   ]
  },
  {
   "cell_type": "code",
   "execution_count": null,
   "metadata": {
    "slideshow": {
     "slide_type": "fragment"
    }
   },
   "outputs": [],
   "source": [
    "from tensorflow.keras.applications import VGG16\n",
    "\n",
    "conv_base = VGG16(include_top=False)\n",
    "conv_base.trainable=False\n",
    "\n",
    "input_tensor = layers.Input(shape=(224,224,3))\n",
    "x = conv_base(input_tensor)\n",
    "x = layers.GlobalAveragePooling2D()(x)\n",
    "\n",
    "output_tensor = layers.Dense(units=1, activation='sigmoid')(x)\n",
    "\n",
    "model = models.Model(input_tensor, output_tensor)\n",
    "\n",
    "model.compile(optimizer='adam', loss='binary_crossentropy', metrics=['accuracy'])\n",
    "model.summary()"
   ]
  },
  {
   "cell_type": "markdown",
   "metadata": {
    "slideshow": {
     "slide_type": "slide"
    }
   },
   "source": [
    "## 레이어 합치기\n",
    "- 함수와 Layer class 두가지 방식을 제공한다.\n",
    "- **concatenate(list, axis=-1)/Concatenate()[list]**\n",
    "    - 레이어들을 합친다\n",
    "    - list: 합칠 레이어들을 리스트에 묶어 전달\n",
    "    - axis: 합칠 기준축. (기본값: -1 : 마지막 축기준)\n",
    "- **add(list)/Add()(list), substract(list)/Subtract()(list), multiply(list)/Multiply()(list)**\n",
    "    - 같은 index의 값들을 계산해서(더하기, 빼기, 곱하기) 하나의 레이어로 만든다.\n",
    "    - list: 합칠 레이어들을 리스트에 묶어 전달"
   ]
  },
  {
   "cell_type": "code",
   "execution_count": 18,
   "metadata": {
    "ExecuteTime": {
     "end_time": "2021-11-04T08:37:34.370358Z",
     "start_time": "2021-11-04T08:37:34.303345Z"
    },
    "slideshow": {
     "slide_type": "fragment"
    }
   },
   "outputs": [],
   "source": [
    "input_tensor = layers.Input(shape=(32,32,3))\n",
    "\n",
    "x = layers.Conv2D(filters=64, kernel_size=3, padding='same')(input_tensor)\n",
    "\n",
    "x1 = layers.Conv2D(filters=64, kernel_size=3, padding='same')(x)\n",
    "x1 = layers.BatchNormalization()(x1)\n",
    "x1 = layers.ReLU()(x1)\n",
    "\n",
    "x2 = layers.Conv2D(filters=64, kernel_size=3, padding='same')(x1)\n",
    "x2 = layers.BatchNormalization()(x2)\n",
    "\n",
    "add_result = layers.Add()([x, x2])\n",
    "output_tensor = layers.ReLU()(add_result)\n",
    "\n",
    "rb_model = models.Model(input_tensor, output_tensor)"
   ]
  },
  {
   "cell_type": "code",
   "execution_count": 19,
   "metadata": {
    "ExecuteTime": {
     "end_time": "2021-11-04T08:37:36.185366Z",
     "start_time": "2021-11-04T08:37:36.167363Z"
    },
    "slideshow": {
     "slide_type": "fragment"
    }
   },
   "outputs": [
    {
     "name": "stdout",
     "output_type": "stream",
     "text": [
      "Model: \"model\"\n",
      "__________________________________________________________________________________________________\n",
      "Layer (type)                    Output Shape         Param #     Connected to                     \n",
      "==================================================================================================\n",
      "input_2 (InputLayer)            [(None, 32, 32, 3)]  0                                            \n",
      "__________________________________________________________________________________________________\n",
      "conv2d_3 (Conv2D)               (None, 32, 32, 64)   1792        input_2[0][0]                    \n",
      "__________________________________________________________________________________________________\n",
      "conv2d_4 (Conv2D)               (None, 32, 32, 64)   36928       conv2d_3[0][0]                   \n",
      "__________________________________________________________________________________________________\n",
      "batch_normalization_2 (BatchNor (None, 32, 32, 64)   256         conv2d_4[0][0]                   \n",
      "__________________________________________________________________________________________________\n",
      "re_lu_1 (ReLU)                  (None, 32, 32, 64)   0           batch_normalization_2[0][0]      \n",
      "__________________________________________________________________________________________________\n",
      "conv2d_5 (Conv2D)               (None, 32, 32, 64)   36928       re_lu_1[0][0]                    \n",
      "__________________________________________________________________________________________________\n",
      "batch_normalization_3 (BatchNor (None, 32, 32, 64)   256         conv2d_5[0][0]                   \n",
      "__________________________________________________________________________________________________\n",
      "add_1 (Add)                     (None, 32, 32, 64)   0           conv2d_3[0][0]                   \n",
      "                                                                 batch_normalization_3[0][0]      \n",
      "__________________________________________________________________________________________________\n",
      "re_lu_2 (ReLU)                  (None, 32, 32, 64)   0           add_1[0][0]                      \n",
      "==================================================================================================\n",
      "Total params: 76,160\n",
      "Trainable params: 75,904\n",
      "Non-trainable params: 256\n",
      "__________________________________________________________________________________________________\n"
     ]
    }
   ],
   "source": [
    "rb_model.summary()"
   ]
  },
  {
   "cell_type": "code",
   "execution_count": 20,
   "metadata": {
    "ExecuteTime": {
     "end_time": "2021-11-04T08:37:39.560094Z",
     "start_time": "2021-11-04T08:37:39.238370Z"
    },
    "slideshow": {
     "slide_type": "fragment"
    }
   },
   "outputs": [
    {
     "data": {
      "image/png": "[encoded data removed]",
      "text/plain": [
       "<IPython.core.display.Image object>"
      ]
     },
     "execution_count": 20,
     "metadata": {},
     "output_type": "execute_result"
    }
   ],
   "source": [
    "keras.utils.plot_model(rb_model, show_shapes=True)"
   ]
  },
  {
   "cell_type": "markdown",
   "metadata": {
    "slideshow": {
     "slide_type": "slide"
    }
   },
   "source": [
    "### 다중 출력 모델\n",
    "- 가정\n",
    "    - iris 데이터셋에서 꽃받침의 너비와 높이로 꽃잎의 너비, 높이, 꽃 종류를 예측하는 모델\n",
    "    - 출력결과가 3개가 나와야 한다.\n",
    "- X: 꽃받침 너비, 높이\n",
    "- y: 꽃잎 너비, 높이, 꽃 종류"
   ]
  },
  {
   "cell_type": "code",
   "execution_count": null,
   "metadata": {
    "slideshow": {
     "slide_type": "fragment"
    }
   },
   "outputs": [],
   "source": [
    "from sklearn.datasets import load_iris\n",
    "\n",
    "X, y = load_iris(return_X_y=True)\n",
    "X.shape, y.shape"
   ]
  },
  {
   "cell_type": "code",
   "execution_count": null,
   "metadata": {
    "slideshow": {
     "slide_type": "fragment"
    }
   },
   "outputs": [],
   "source": [
    "y1 = X[:, 2]\n",
    "y2 = X[:, 3]\n",
    "y3 = y\n",
    "\n",
    "X = X[:, [0,1]]\n",
    "\n",
    "X.shape, y1.shape, y2.shape, y3.shape"
   ]
  },
  {
   "cell_type": "code",
   "execution_count": null,
   "metadata": {
    "slideshow": {
     "slide_type": "slide"
    }
   },
   "outputs": [],
   "source": [
    "import tensorflow as tf\n",
    "from tensorflow import keras\n",
    "from tensorflow.keras import layers, models"
   ]
  },
  {
   "cell_type": "markdown",
   "metadata": {
    "slideshow": {
     "slide_type": "fragment"
    }
   },
   "source": [
    "##### 모델 정의 및 컴파일"
   ]
  },
  {
   "cell_type": "code",
   "execution_count": null,
   "metadata": {
    "slideshow": {
     "slide_type": "fragment"
    }
   },
   "outputs": [],
   "source": [
    "input_tensor = layers.Input((2, ))\n",
    "\n",
    "x = layers.Dense(units=16, activation='relu')(input_tensor)\n",
    "x = layers.Dense(units=8, activation='relu')(x)\n",
    "\n",
    "output1 = layers.Dense(units=1, name='petal_width_output')(x)  \n",
    "output2 = layers.Dense(units=1, name='petal_length_output')(x) \n",
    "output3 = layers.Dense(units=3, activation='softmax', name='species_output')(x)\n",
    "\n",
    "model = models.Model(input_tensor, [output1, output2, output3])"
   ]
  },
  {
   "cell_type": "code",
   "execution_count": null,
   "metadata": {
    "slideshow": {
     "slide_type": "fragment"
    }
   },
   "outputs": [],
   "source": [
    "model.summary()"
   ]
  },
  {
   "cell_type": "code",
   "execution_count": null,
   "metadata": {
    "slideshow": {
     "slide_type": "fragment"
    }
   },
   "outputs": [],
   "source": [
    "keras.utils.plot_model(model, show_shapes=True)"
   ]
  },
  {
   "cell_type": "code",
   "execution_count": null,
   "metadata": {
    "slideshow": {
     "slide_type": "fragment"
    }
   },
   "outputs": [],
   "source": [
    "model.compile(optimizer='adam',\n",
    "              loss=['mse', 'mse', 'sparse_categorical_crossentropy']) "
   ]
  },
  {
   "cell_type": "markdown",
   "metadata": {
    "slideshow": {
     "slide_type": "slide"
    }
   },
   "source": [
    "##### 학습"
   ]
  },
  {
   "cell_type": "code",
   "execution_count": null,
   "metadata": {
    "slideshow": {
     "slide_type": "fragment"
    }
   },
   "outputs": [],
   "source": [
    "hist = model.fit(X, \n",
    "                [y1, y2, y3],\n",
    "                epochs=100,\n",
    "                validation_split=0.1)"
   ]
  },
  {
   "cell_type": "markdown",
   "metadata": {
    "slideshow": {
     "slide_type": "slide"
    }
   },
   "source": [
    "##### 결과 시각화"
   ]
  },
  {
   "cell_type": "code",
   "execution_count": null,
   "metadata": {
    "slideshow": {
     "slide_type": "fragment"
    }
   },
   "outputs": [],
   "source": [
    "import matplotlib.pyplot as plt\n",
    "plt.figure(figsize=(10,7))\n",
    "\n",
    "plt.plot(hist.history['loss'], label='train loss')\n",
    "plt.plot(hist.history['val_loss'], label='val loss')\n",
    "\n",
    "plt.legend()\n",
    "plt.show()"
   ]
  },
  {
   "cell_type": "markdown",
   "metadata": {
    "slideshow": {
     "slide_type": "fragment"
    }
   },
   "source": [
    "##### 새로운 데이터 추론"
   ]
  },
  {
   "cell_type": "code",
   "execution_count": null,
   "metadata": {
    "slideshow": {
     "slide_type": "fragment"
    }
   },
   "outputs": [],
   "source": [
    "model.evaluate(X, [y1, y2, y3])"
   ]
  },
  {
   "cell_type": "code",
   "execution_count": null,
   "metadata": {
    "slideshow": {
     "slide_type": "fragment"
    }
   },
   "outputs": [],
   "source": [
    "import numpy as np\n",
    "new_data = X[0]\n",
    "new_data = new_data[np.newaxis, ...]\n",
    "new_data\n",
    "\n",
    "model.predict(new_data)"
   ]
  },
  {
   "cell_type": "code",
   "execution_count": null,
   "metadata": {
    "slideshow": {
     "slide_type": "fragment"
    }
   },
   "outputs": [],
   "source": [
    "print(y1[0])\n",
    "print(y2[0])\n",
    "print(y3[0])"
   ]
  },
  {
   "cell_type": "markdown",
   "metadata": {
    "slideshow": {
     "slide_type": "slide"
    }
   },
   "source": [
    "## 다중 입력 모델\n",
    "- 가정 \n",
    "    - IRIS 꽃 데이터 + 꽃의 사진을 입력해서 꽃의 종류를 예측한다.\n",
    "- X: 꽃 데이터, 꽃 사진\n",
    "- y: 꽃 종류"
   ]
  },
  {
   "cell_type": "markdown",
   "metadata": {
    "slideshow": {
     "slide_type": "fragment"
    }
   },
   "source": [
    "##### 데이터 로드"
   ]
  },
  {
   "cell_type": "code",
   "execution_count": null,
   "metadata": {
    "slideshow": {
     "slide_type": "fragment"
    }
   },
   "outputs": [],
   "source": [
    "X, y = load_iris(return_X_y=True)\n",
    "X.shape, y.shape"
   ]
  },
  {
   "cell_type": "code",
   "execution_count": null,
   "metadata": {
    "slideshow": {
     "slide_type": "fragment"
    }
   },
   "outputs": [],
   "source": [
    "(X_train, _), (_, _) = keras.datasets.mnist.load_data()\n",
    "X_img = X_train[:150]\n",
    "X_train.shape, X_img.shape"
   ]
  },
  {
   "cell_type": "markdown",
   "metadata": {
    "slideshow": {
     "slide_type": "slide"
    }
   },
   "source": [
    "##### 모델생성, 컴파일"
   ]
  },
  {
   "cell_type": "code",
   "execution_count": null,
   "metadata": {
    "slideshow": {
     "slide_type": "fragment"
    }
   },
   "outputs": [],
   "source": [
    "iris_info_tensor = layers.Input(shape=(4,)) \n",
    "x1 = layers.Dense(units=32, activation='relu')(iris_info_tensor)\n",
    "x1 = layers.Dense(units=16, activation='relu')(x1)\n",
    "\n",
    "iris_img_tensor = layers.Input(shape=(28, 28, 1))\n",
    "\n",
    "x2 = layers.Conv2D(filters=32, kernel_size=3, padding='same',  activation='relu')(iris_img_tensor)\n",
    "x2 = layers.Conv2D(filters=32, kernel_size=3, padding='same',  activation='relu')(x2)\n",
    "x2 = layers.MaxPooling2D(padding='same')(x2)\n",
    "\n",
    "x3 = layers.Conv2D(filters=64, kernel_size=3, padding='same', activation='relu')(x2)\n",
    "x3 = layers.Conv2D(filters=64, kernel_size=3, padding='same', activation='relu')(x3)\n",
    "x3 = layers.MaxPooling2D(padding='same')(x3)\n",
    "x3 = layers.GlobalAveragePooling2D()(x3)\n",
    "\n",
    "x4 = layers.concatenate([x1, x3])\n",
    "\n",
    "output_tensor = layers.Dense(units=3, activation='softmax')(x4)\n",
    "\n",
    "model = models.Model([iris_info_tensor, iris_img_tensor] , output_tensor)\n"
   ]
  },
  {
   "cell_type": "code",
   "execution_count": null,
   "metadata": {
    "slideshow": {
     "slide_type": "fragment"
    }
   },
   "outputs": [],
   "source": [
    "model.summary()"
   ]
  },
  {
   "cell_type": "code",
   "execution_count": null,
   "metadata": {
    "slideshow": {
     "slide_type": "fragment"
    }
   },
   "outputs": [],
   "source": [
    "keras.utils.plot_model(model)"
   ]
  },
  {
   "cell_type": "code",
   "execution_count": null,
   "metadata": {
    "slideshow": {
     "slide_type": "fragment"
    }
   },
   "outputs": [],
   "source": [
    "model.compile(optimizer='adam', \n",
    "              loss='sparse_categorical_crossentropy', metrics=['accuracy'])"
   ]
  },
  {
   "cell_type": "code",
   "execution_count": null,
   "metadata": {
    "slideshow": {
     "slide_type": "fragment"
    }
   },
   "outputs": [],
   "source": [
    "model.fit(x=[X, X_img],\n",
    "          y=y, \n",
    "          epochs=2,\n",
    "          validation_split=0.1)"
   ]
  }
 ],
 "metadata": {
  "kernelspec": {
   "display_name": "Python 3 (ipykernel)",
   "language": "python",
   "name": "python3"
  },
  "language_info": {
   "codemirror_mode": {
    "name": "ipython",
    "version": 3
   },
   "file_extension": ".py",
   "mimetype": "text/x-python",
   "name": "python",
   "nbconvert_exporter": "python",
   "pygments_lexer": "ipython3",
   "version": "3.7.11"
  },
  "toc": {
   "base_numbering": 1,
   "nav_menu": {},
   "number_sections": true,
   "sideBar": true,
   "skip_h1_title": false,
   "title_cell": "Table of Contents",
   "title_sidebar": "Contents",
   "toc_cell": false,
   "toc_position": {},
   "toc_section_display": true,
   "toc_window_display": false
  },
  "varInspector": {
   "cols": {
    "lenName": 16,
    "lenType": 16,
    "lenVar": 40
   },
   "kernels_config": {
    "python": {
     "delete_cmd_postfix": "",
     "delete_cmd_prefix": "del ",
     "library": "var_list.py",
     "varRefreshCmd": "print(var_dic_list())"
    },
    "r": {
     "delete_cmd_postfix": ") ",
     "delete_cmd_prefix": "rm(",
     "library": "var_list.r",
     "varRefreshCmd": "cat(var_dic_list()) "
    }
   },
   "types_to_exclude": [
    "module",
    "function",
    "builtin_function_or_method",
    "instance",
    "_Feature"
   ],
   "window_display": false
  }
 },
 "nbformat": 4,
 "nbformat_minor": 4
}
