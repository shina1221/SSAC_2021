{
 "cells": [
  {
   "cell_type": "code",
   "execution_count": null,
   "metadata": {},
   "outputs": [],
   "source": [
    "#학습하는 시점에 디렉토리를 기준으로 labeling \n",
    "\n",
    "#데이터셋을 하드디스크에 저장하기 위한 형식\n",
    "#tf record : 데이터셋에 대한 내용을 모두 담고 있는 파일을 하나 만듦 "
   ]
  },
  {
   "cell_type": "markdown",
   "metadata": {
    "slideshow": {
     "slide_type": "slide"
    }
   },
   "source": [
    "# TFRecord\n",
    "- https://www.tensorflow.org/tutorials/load_data/tfrecord\n",
    "- Tensorflow에서 제공하는 데이터셋을 파일에 저장방식.\n",
    "    - 데이터 양이 많을 경우 이를 Binary로 Seralization(직렬화)하여 하나의 파일로 저장하고 있다가, 이를 다시 읽어 들여  처리하면 처리속도를 향상시킬 수 있다. Tensorflow에서 이를 위해서 데이터 셋을 Protocol Buffer 형태로 Serialization을 수행해서 저장할 수 있는 TFRecord 파일 포맷 형태를 지원한다. \n",
    "    - tf.train.Example 클래스를 이용해서 {“string” : tf.train.Feature} 의 딕셔너리 형태로 데이터들을 TFRecord 파일에 저장한다.\n",
    "    \n",
    "> - **직렬화(Serialization):** 메모리에 저장된 다양한 타입의 값을 디스크(네트워크)에 저장할 수 있는 상태로 변환하는 것.\n",
    "> - **binary data:** 디스크에 저장되는 0, 1로 구성된 데이터"
   ]
  },
  {
   "cell_type": "markdown",
   "metadata": {
    "slideshow": {
     "slide_type": "fragment"
    }
   },
   "source": [
    "- tf.train.Example\n",
    "    - 하나의 데이터를 TFRecord에 저장하기 위해 변환하는 클래스. 하나의 데이터를 tf.train.Example 의 객체로 변환해서 저장한다."
   ]
  },
  {
   "cell_type": "markdown",
   "metadata": {
    "slideshow": {
     "slide_type": "fragment"
    }
   },
   "source": [
    "- tf.train.Feature\n",
    "    - 하나의 데이터를 구성하는 속성(feature)들을 변환하는 클래스.\n",
    "    - tf.train.Feature는 다음 세가지 타입을 지원한다.\n",
    "        - tf.train.BytesList – string(byte로 바꿔줘야함), byte(바이너리 파일) 타입을 변환\n",
    "        - tf.train.FloatList –  float(float32), double(float64) 타입을 변환\n",
    "        - tf.train.Int64List – bool, enum(상수), int32, uint32, int64, uint64 타입을 변환"
   ]
  },
  {
   "cell_type": "code",
   "execution_count": null,
   "metadata": {},
   "outputs": [],
   "source": [
    "\"\"\"\n",
    "image : BytesList\n",
    "Class : ButesList\n",
    "class_num:Int64List\n",
    "좌표 x : FloatList\n",
    "좌표 y : FloatList\n",
    "\"\"\""
   ]
  },
  {
   "cell_type": "markdown",
   "metadata": {
    "slideshow": {
     "slide_type": "fragment"
    }
   },
   "source": [
    "### - tf.tran.Example의 형태\n",
    "```python\n",
    "{\n",
    "    \"feature명\":tf.train.Feature타입객체,\n",
    "    \"feature명\":tf.train.Feature타입객체,\n",
    "    ...\n",
    "}\n",
    "```\n"
   ]
  },
  {
   "cell_type": "code",
   "execution_count": 1,
   "metadata": {},
   "outputs": [],
   "source": [
    "#example(table, 행) / feature(속성)"
   ]
  },
  {
   "cell_type": "code",
   "execution_count": null,
   "metadata": {
    "ExecuteTime": {
     "end_time": "2020-10-28T08:03:01.209361Z",
     "start_time": "2020-10-28T08:03:01.187222Z"
    },
    "slideshow": {
     "slide_type": "slide"
    }
   },
   "outputs": [],
   "source": [
    "import tensorflow as tf\n",
    "import numpy as np"
   ]
  },
  {
   "cell_type": "code",
   "execution_count": null,
   "metadata": {
    "ExecuteTime": {
     "end_time": "2021-05-11T02:57:49.613322Z",
     "start_time": "2021-05-11T02:57:49.595322Z"
    },
    "slideshow": {
     "slide_type": "fragment"
    }
   },
   "outputs": [],
   "source": [
    "def _bytes_feature(value):\n",
    "    \"\"\"Returns a bytes_list from a string / byte.\"\"\"\n",
    "    if isinstance(value, type(tf.constant(0))):\n",
    "        #반드시 numpy 배열(ndarray)로 변환.\n",
    "        value = value.numpy()\n",
    "    return tf.train.Feature(bytes_list=tf.train.BytesList(value=[value]))\n",
    "\n",
    "def _float_feature(value):\n",
    "    \"\"\"Returns a float_list from a float/double datatype value\"\"\"\n",
    "    return tf.train.Feature(float_list=tf.train.FloatList(value=[value]))\n",
    "\n",
    "def _int64_feature(value):\n",
    "    \"\"\"Returns a int64_list from a int / uint/ bool / enum datatype value\"\"\"\n",
    "    return tf.train.Feature(int64_list=tf.train.Int64List(value=[value]))"
   ]
  },
  {
   "cell_type": "code",
   "execution_count": null,
   "metadata": {
    "ExecuteTime": {
     "end_time": "2020-10-28T08:25:10.606846Z",
     "start_time": "2020-10-28T08:25:10.575709Z"
    },
    "slideshow": {
     "slide_type": "fragment"
    }
   },
   "outputs": [],
   "source": [
    "# 정수\n",
    "v = _int64_feature(20) #int(20)\n",
    "print(type(v))\n",
    "v"
   ]
  },
  {
   "cell_type": "code",
   "execution_count": null,
   "metadata": {
    "ExecuteTime": {
     "end_time": "2020-10-28T08:26:34.810934Z",
     "start_time": "2020-10-28T08:26:34.795322Z"
    },
    "slideshow": {
     "slide_type": "fragment"
    }
   },
   "outputs": [],
   "source": [
    "# bool\n",
    "_int64_feature(True)"
   ]
  },
  {
   "cell_type": "code",
   "execution_count": null,
   "metadata": {
    "slideshow": {
     "slide_type": "fragment"
    }
   },
   "outputs": [],
   "source": [
    "_int64_feature(False)"
   ]
  },
  {
   "cell_type": "code",
   "execution_count": null,
   "metadata": {
    "slideshow": {
     "slide_type": "fragment"
    }
   },
   "outputs": [],
   "source": [
    "# ndarray:scaler uint32: 50\n",
    "_int64_feature(np.array(50).astype(np.uint32))"
   ]
  },
  {
   "cell_type": "code",
   "execution_count": null,
   "metadata": {
    "ExecuteTime": {
     "end_time": "2020-10-28T08:25:10.991624Z",
     "start_time": "2020-10-28T08:25:10.960548Z"
    },
    "slideshow": {
     "slide_type": "fragment"
    }
   },
   "outputs": [],
   "source": [
    "# float\n",
    "_float_feature(30.2)"
   ]
  },
  {
   "cell_type": "code",
   "execution_count": null,
   "metadata": {
    "ExecuteTime": {
     "end_time": "2020-10-28T08:25:35.652912Z",
     "start_time": "2020-10-28T08:25:35.637284Z"
    },
    "slideshow": {
     "slide_type": "fragment"
    }
   },
   "outputs": [],
   "source": [
    "# 문자열 - byte string(인코딩된 문자열)\n",
    "#반드시 문자열은 바이너리로 (b'test') 다음과 같이 해야함.\n",
    "#근데 (b'안녕')이대로 넣으면 오류\n",
    "_bytes_feature(s.encode('utf-8')\n",
    "_bytes_feature(b'test')"
   ]
  },
  {
   "cell_type": "code",
   "execution_count": null,
   "metadata": {
    "ExecuteTime": {
     "end_time": "2020-10-28T08:26:22.449618Z",
     "start_time": "2020-10-28T08:26:22.433965Z"
    },
    "slideshow": {
     "slide_type": "fragment"
    }
   },
   "outputs": [],
   "source": [
    "_bytes_feature('test'.encode('utf-8'))"
   ]
  },
  {
   "cell_type": "code",
   "execution_count": null,
   "metadata": {
    "ExecuteTime": {
     "end_time": "2020-10-28T08:29:08.784294Z",
     "start_time": "2020-10-28T08:29:08.768684Z"
    },
    "slideshow": {
     "slide_type": "fragment"
    }
   },
   "outputs": [],
   "source": [
    "# 파일(binary)\n",
    "#이미지 파일 아무거나 꺼내서 image.jpg\n",
    "with open('image.jpg', 'rb') as f:\n",
    "    img = f.read()\n",
    "print(type(img))\n",
    "_bytes_feature(img)"
   ]
  },
  {
   "cell_type": "markdown",
   "metadata": {
    "slideshow": {
     "slide_type": "slide"
    }
   },
   "source": [
    "### Feature 직렬화\n",
    "- .SerializeToString()\n",
    "    - proto 메세지를 bytes(binary string)로 직렬화\n",
    "    - Example을 tfrecord로 출력하기 전에 변환해야 한다."
   ]
  },
  {
   "cell_type": "code",
   "execution_count": null,
   "metadata": {
    "ExecuteTime": {
     "end_time": "2020-10-28T08:31:00.336247Z",
     "start_time": "2020-10-28T08:31:00.321013Z"
    },
    "slideshow": {
     "slide_type": "slide"
    }
   },
   "outputs": [],
   "source": [
    "feature = _float_feature(30.2)\n",
    "print(feature)\n",
    "feature.SerializeToString() #Feature를 파일에 저장할 수 있는 binary(string)형태로 변환"
   ]
  },
  {
   "cell_type": "markdown",
   "metadata": {
    "slideshow": {
     "slide_type": "slide"
    }
   },
   "source": [
    "### 직렬화 예제"
   ]
  },
  {
   "cell_type": "code",
   "execution_count": null,
   "metadata": {
    "ExecuteTime": {
     "end_time": "2021-05-11T02:57:13.009073Z",
     "start_time": "2021-05-11T02:57:12.989074Z"
    },
    "slideshow": {
     "slide_type": "fragment"
    }
   },
   "outputs": [],
   "source": [
    "#4개 feature(속성)들로 구성된 1000개의 임의의 데이터 생성\n",
    "\n",
    "#1속성:Bool, 2:정수, 3:문자열, 4:실수\n",
    "import numpy as np\n",
    "N_DATA = 1000 #데이터개수\n",
    "\n",
    "feature0 = np.random.choice([False, True], N_DATA)\n",
    "\n",
    "feature1 = np.random.randint(0,5, N_DATA)\n",
    "strings = np.array([b'cat',b'dog',b'chicken',b'horse',b'goat'])\n",
    "feature2 = strings[feature1]\n",
    "feature3 = np.random.randn(N_DATA)"
   ]
  },
  {
   "cell_type": "code",
   "execution_count": null,
   "metadata": {
    "ExecuteTime": {
     "end_time": "2021-05-11T02:58:45.626135Z",
     "start_time": "2021-05-11T02:58:45.606104Z"
    },
    "slideshow": {
     "slide_type": "fragment"
    }
   },
   "outputs": [],
   "source": [
    "feature0.dtype, feature1.dtype, feature2.dtype, feature3.dtype"
   ]
  },
  {
   "cell_type": "markdown",
   "metadata": {
    "slideshow": {
     "slide_type": "slide"
    }
   },
   "source": [
    "# TFRecord 저장 및 읽기"
   ]
  },
  {
   "cell_type": "markdown",
   "metadata": {
    "slideshow": {
     "slide_type": "fragment"
    }
   },
   "source": [
    "## tf.train.Example 생성 및 직렬화(Serialize)\n",
    "1. 각 관측값의 Feature들 하나하나는 위의 함수 중 하나를 사용하여 3 가지 호환 유형 중 하나를 포함하는 tf.train.Feature 로 변환(인코딩)되어야 한다.\n",
    "2. Feature이름 문자열에 1번에서 에서 생성 된 인코딩 된 기능 값으로 딕셔너리를 생성한다.\n",
    "3. 2 단계에서 생성 된 맵은 Features 메시지 로 변환한다."
   ]
  },
  {
   "cell_type": "code",
   "execution_count": null,
   "metadata": {
    "ExecuteTime": {
     "end_time": "2021-05-11T02:57:26.967263Z",
     "start_time": "2021-05-11T02:57:26.953161Z"
    },
    "slideshow": {
     "slide_type": "slide"
    }
   },
   "outputs": [],
   "source": [
    "import tensorflow as tf\n",
    "\n",
    "def serialize_example(feature0, feature1, feature2, feature3):\n",
    "    \"\"\"\n",
    "    한개의 데이터 포인트를 받아서 Serialize된 메세지(최종저장형태)를 만들어 반환\n",
    "    각 속성값들을 타입에 맞는(bool, 정수, 문자열, 실수) Feature로 변환한 뒤 dictionary로 구성\n",
    "    tf.train.Example 생성\n",
    "    serialize 된 bytes 생성 후 반환\"\"\"\n",
    "    \n",
    "    feature = {\n",
    "        #이름은 본인이 지정\n",
    "        #'age':이렇게 해도 됨\n",
    "        'feature0':_int64_feature(feature0),\n",
    "        'feature1':_int64_feature(feature1),\n",
    "        'feature2':_bytes_feature(feature2),\n",
    "        'feature3':_float_feature(feature3)\n",
    "    }\n",
    "    #feature dictionary를 넣어서 Example을 생성\n",
    "    #아래는 그냥 문법임\n",
    "    example_proto = tf.train.Example(features=tf.train.Features(feature=feature))\n",
    "    #Example 객체를 파일러 저장할 수 있도록 직렬화 해준뒤 반환\n",
    "    return example_proto.SerializeToString()\n",
    "\n",
    "#직렬화: 메모리에 있는 객체를 저장할 수 있는 형태로 만들어 주는것"
   ]
  },
  {
   "cell_type": "markdown",
   "metadata": {
    "slideshow": {
     "slide_type": "slide"
    }
   },
   "source": [
    "## 출력(저장) 처리\n",
    "\n",
    "- \\_bytes_feature() , \\_float_feature() , \\_int64_feature() 중 하나를 사용하여 tf.train.Feature로 각각의 값을 변환한 뒤 tf.train.Example 메시지를 만든다.\n",
    "- serializeToString()을 이용해 binary string 으로 변환한다.\n",
    "- tf.io.TFRecordWriter를 이용해 출력한다."
   ]
  },
  {
   "cell_type": "code",
   "execution_count": null,
   "metadata": {
    "ExecuteTime": {
     "end_time": "2021-05-11T02:57:27.142858Z",
     "start_time": "2021-05-11T02:57:27.051166Z"
    },
    "slideshow": {
     "slide_type": "slide"
    }
   },
   "outputs": [],
   "source": [
    "import os\n",
    "#tfrecord 파일을 저장할 디렉토리 생성\n",
    "if not os.path.isdir('tfrecord'):\n",
    "    os.mkdir('tfrecord')"
   ]
  },
  {
   "cell_type": "code",
   "execution_count": null,
   "metadata": {
    "ExecuteTime": {
     "end_time": "2021-05-11T02:57:28.153029Z",
     "start_time": "2021-05-11T02:57:28.149032Z"
    },
    "slideshow": {
     "slide_type": "fragment"
    }
   },
   "outputs": [],
   "source": [
    "# tfrecord 파일 경로\n",
    "# tfrecord 파일 확장자: xxx.tfrecord, xxx.tfr, xxx.record\n",
    "tfrecord_dir = \"./tfrecord/data.tfrecord\" \n",
    "\n",
    "#TFRecordWriter: tfrecord 파일에 데이터를 출력하는 객체\n",
    "tfrecord_writer = tf.io.TFRecordWriter(tfrecord_dir)\n",
    "#빈파일 만들어 둠"
   ]
  },
  {
   "cell_type": "code",
   "execution_count": null,
   "metadata": {
    "ExecuteTime": {
     "end_time": "2021-05-11T02:58:25.849754Z",
     "start_time": "2021-05-11T02:58:25.824283Z"
    },
    "slideshow": {
     "slide_type": "fragment"
    }
   },
   "outputs": [],
   "source": [
    "#zip을 통해 같은 인덱스에 있는 것들끼리 tuple로 넘어옴\n",
    "for data in zip(feature0, feature1, feature2, feature3):\n",
    "#    print((data[0].dtype, data[1].dtype, data[2].dtype, data[3].dtype))\n",
    "    #numpy의 bool 타입은 파이썬 bool 타입으로 변환처리 해야함.\n",
    "    pb = serialize_example(bool(data[0]), data[1], data[2], data[3])\n",
    "    tfrecord_writer.write(pb) #tfrecord파일에 Example 출력\n",
    "tfrecord_writer.close()    "
   ]
  },
  {
   "cell_type": "code",
   "execution_count": null,
   "metadata": {
    "ExecuteTime": {
     "end_time": "2020-10-28T08:43:13.024672Z",
     "start_time": "2020-10-28T08:43:12.993770Z"
    },
    "slideshow": {
     "slide_type": "fragment"
    }
   },
   "outputs": [],
   "source": [
    "serialized_example = serialize_example(False, 4, b'goat', 0.987)\n",
    "serialized_example"
   ]
  },
  {
   "cell_type": "markdown",
   "metadata": {
    "slideshow": {
     "slide_type": "slide"
    }
   },
   "source": [
    "## TFRecord파일 읽기 및 역직렬화(Deserialize)\n",
    "- tfrecord 파일로 저장된 직렬화된 데이터를 읽어 들어와서 feature들을 parsing\n",
    "- tf.data.TFRecordDataset를 이용해 읽는다."
   ]
  },
  {
   "cell_type": "code",
   "execution_count": null,
   "metadata": {
    "ExecuteTime": {
     "end_time": "2020-10-28T08:42:53.427497Z",
     "start_time": "2020-10-28T08:42:53.411876Z"
    },
    "slideshow": {
     "slide_type": "slide"
    }
   },
   "outputs": [],
   "source": [
    "example_proto = tf.train.Example.FromString(serialized_example)\n",
    "print(type(example_proto))\n",
    "print(example_proto)"
   ]
  },
  {
   "cell_type": "code",
   "execution_count": null,
   "metadata": {
    "slideshow": {
     "slide_type": "slide"
    }
   },
   "outputs": [],
   "source": [
    "def _parse_function(tfrecord_serialized):\n",
    "\n",
    "    features = {\n",
    "        \"feature0\":tf.io.FixedLenFeature([], tf.int64),\n",
    "        \"feature1\":tf.io.FixedLenFeature([], tf.int64),\n",
    "        \"feature2\":tf.io.FixedLenFeature([],tf.string),\n",
    "        \"feature3\":tf.io.FixedLenFeature([],tf.float32)\n",
    "    }\n",
    "    \n",
    "    parsed_features = tf.io.parse_single_example(tfrecord_serialized, features) \n",
    "    \n",
    "    feature0 = tf.cast(parsed_features['feature0'], tf.bool)\n",
    "    feature1 = tf.cast(parsed_features['feature1'], tf.int64)\n",
    "    feature2 = tf.cast(parsed_features['feature2'], tf.string)\n",
    "    feature3 = tf.cast(parsed_features['feature3'], tf.float32)\n",
    "    \n",
    "    return feature0, feature1,feature2,feature3"
   ]
  },
  {
   "cell_type": "code",
   "execution_count": null,
   "metadata": {
    "slideshow": {
     "slide_type": "fragment"
    }
   },
   "outputs": [],
   "source": [
    "dataset = tf.data.TFRecordDataset(tfrecord_dir)\n",
    "type(dataset)"
   ]
  },
  {
   "cell_type": "code",
   "execution_count": null,
   "metadata": {
    "slideshow": {
     "slide_type": "fragment"
    }
   },
   "outputs": [],
   "source": [
    "for raw_data in dataset.take(3):\n",
    "    print(repr(raw_data))"
   ]
  },
  {
   "cell_type": "code",
   "execution_count": null,
   "metadata": {
    "slideshow": {
     "slide_type": "fragment"
    }
   },
   "outputs": [],
   "source": [
    "parsed_dataset = dataset.map(_parse_function)"
   ]
  },
  {
   "cell_type": "code",
   "execution_count": null,
   "metadata": {
    "slideshow": {
     "slide_type": "fragment"
    }
   },
   "outputs": [],
   "source": [
    "for raw in parsed_dataset.take(2):  #(f1, f2, f3, f4) 튜플로 반환됨.\n",
    "    print(raw)"
   ]
  }
 ],
 "metadata": {
  "kernelspec": {
   "display_name": "Python 3",
   "language": "python",
   "name": "python3"
  },
  "language_info": {
   "codemirror_mode": {
    "name": "ipython",
    "version": 3
   },
   "file_extension": ".py",
   "mimetype": "text/x-python",
   "name": "python",
   "nbconvert_exporter": "python",
   "pygments_lexer": "ipython3",
   "version": "3.6.10"
  },
  "toc": {
   "base_numbering": 1,
   "nav_menu": {},
   "number_sections": true,
   "sideBar": true,
   "skip_h1_title": false,
   "title_cell": "Table of Contents",
   "title_sidebar": "Contents",
   "toc_cell": false,
   "toc_position": {},
   "toc_section_display": true,
   "toc_window_display": false
  },
  "varInspector": {
   "cols": {
    "lenName": 16,
    "lenType": 16,
    "lenVar": 40
   },
   "kernels_config": {
    "python": {
     "delete_cmd_postfix": "",
     "delete_cmd_prefix": "del ",
     "library": "var_list.py",
     "varRefreshCmd": "print(var_dic_list())"
    },
    "r": {
     "delete_cmd_postfix": ") ",
     "delete_cmd_prefix": "rm(",
     "library": "var_list.r",
     "varRefreshCmd": "cat(var_dic_list()) "
    }
   },
   "types_to_exclude": [
    "module",
    "function",
    "builtin_function_or_method",
    "instance",
    "_Feature"
   ],
   "window_display": false
  }
 },
 "nbformat": 4,
 "nbformat_minor": 4
}
