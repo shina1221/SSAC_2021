{
 "cells": [
  {
   "cell_type": "code",
   "execution_count": null,
   "id": "dc9eb443",
   "metadata": {},
   "outputs": [],
   "source": []
  },
  {
   "cell_type": "code",
   "execution_count": 1,
   "id": "c25d0f7f",
   "metadata": {
    "ExecuteTime": {
     "end_time": "2021-12-17T07:41:52.028174Z",
     "start_time": "2021-12-17T07:41:49.447469Z"
    }
   },
   "outputs": [
    {
     "name": "stdout",
     "output_type": "stream",
     "text": [
      "2.5.2\n",
      "2.5.0\n"
     ]
    }
   ],
   "source": [
    "import os\n",
    "\n",
    "import re\n",
    "import random\n",
    "import xml.etree.ElementTree as et\n",
    "from PIL import Image\n",
    "\n",
    "import cv2\n",
    "import numpy as np\n",
    "import tensorflow as tf\n",
    "\n",
    "from tensorflow import keras\n",
    "\n",
    "from sklearn.model_selection import train_test_split\n",
    "import matplotlib.pyplot as plt\n",
    "from matplotlib.patches import Rectangle\n",
    "\n",
    "print(tf.__version__)\n",
    "print(keras.__version__)"
   ]
  },
  {
   "cell_type": "code",
   "execution_count": 4,
   "id": "d40e7d74",
   "metadata": {
    "ExecuteTime": {
     "end_time": "2021-12-17T07:37:18.346939Z",
     "start_time": "2021-12-17T07:37:17.025658Z"
    }
   },
   "outputs": [
    {
     "name": "stdout",
     "output_type": "stream",
     "text": [
      "Requirement already satisfied: gdown in c:\\users\\user\\anaconda3\\envs\\ml\\lib\\site-packages (4.2.0)\n",
      "Requirement already satisfied: tqdm in c:\\users\\user\\anaconda3\\envs\\ml\\lib\\site-packages (from gdown) (4.62.3)\n",
      "Requirement already satisfied: six in c:\\users\\user\\anaconda3\\envs\\ml\\lib\\site-packages (from gdown) (1.15.0)\n",
      "Requirement already satisfied: filelock in c:\\users\\user\\anaconda3\\envs\\ml\\lib\\site-packages (from gdown) (3.4.0)\n",
      "Requirement already satisfied: requests[socks] in c:\\users\\user\\anaconda3\\envs\\ml\\lib\\site-packages (from gdown) (2.26.0)\n",
      "Requirement already satisfied: beautifulsoup4 in c:\\users\\user\\anaconda3\\envs\\ml\\lib\\site-packages (from gdown) (4.10.0)\n",
      "Requirement already satisfied: soupsieve>1.2 in c:\\users\\user\\anaconda3\\envs\\ml\\lib\\site-packages (from beautifulsoup4->gdown) (2.3.1)\n",
      "Requirement already satisfied: idna<4,>=2.5 in c:\\users\\user\\anaconda3\\envs\\ml\\lib\\site-packages (from requests[socks]->gdown) (3.3)\n",
      "Requirement already satisfied: urllib3<1.27,>=1.21.1 in c:\\users\\user\\anaconda3\\envs\\ml\\lib\\site-packages (from requests[socks]->gdown) (1.26.7)\n",
      "Requirement already satisfied: certifi>=2017.4.17 in c:\\users\\user\\anaconda3\\envs\\ml\\lib\\site-packages (from requests[socks]->gdown) (2021.10.8)\n",
      "Requirement already satisfied: charset-normalizer~=2.0.0 in c:\\users\\user\\anaconda3\\envs\\ml\\lib\\site-packages (from requests[socks]->gdown) (2.0.4)\n",
      "Requirement already satisfied: PySocks!=1.5.7,>=1.5.6 in c:\\users\\user\\anaconda3\\envs\\ml\\lib\\site-packages (from requests[socks]->gdown) (1.7.1)\n",
      "Requirement already satisfied: colorama in c:\\users\\user\\anaconda3\\envs\\ml\\lib\\site-packages (from tqdm->gdown) (0.4.4)\n"
     ]
    }
   ],
   "source": [
    "!pip install gdown"
   ]
  },
  {
   "cell_type": "code",
   "execution_count": 2,
   "id": "eef22078",
   "metadata": {
    "ExecuteTime": {
     "end_time": "2021-12-17T07:42:22.336528Z",
     "start_time": "2021-12-17T07:41:52.033165Z"
    }
   },
   "outputs": [
    {
     "name": "stderr",
     "output_type": "stream",
     "text": [
      "Downloading...\n",
      "From: https://drive.google.com/uc?id=1gXqmWrxJqdp_luNKZmv81vY5cjFLuTdT\n",
      "To: F:\\SSAC\\SSAC_2021_playdata\\class_study\\08.deeplearning\\05\\ch4\\oxford_pet.zip\n",
      "100%|███████████████████████████████████████████████████████████████████████████████| 811M/811M [00:28<00:00, 28.5MB/s]\n"
     ]
    },
    {
     "data": {
      "text/plain": [
       "'oxford_pet.zip'"
      ]
     },
     "execution_count": 2,
     "metadata": {},
     "output_type": "execute_result"
    }
   ],
   "source": [
    "import gdown \n",
    "url = 'https://drive.google.com/uc?id=1gXqmWrxJqdp_luNKZmv81vY5cjFLuTdT'\n",
    "fname = 'oxford_pet.zip'\n",
    "gdown.download(url, fname, quiet=False)"
   ]
  },
  {
   "cell_type": "code",
   "execution_count": 37,
   "id": "d3c742c3",
   "metadata": {
    "ExecuteTime": {
     "end_time": "2021-12-17T08:19:08.174254Z",
     "start_time": "2021-12-17T08:16:10.146732Z"
    }
   },
   "outputs": [],
   "source": [
    "from zipfile import ZipFile\n",
    "ZipFile('oxford_pet.zip').extractall('oxford_pet')"
   ]
  },
  {
   "cell_type": "code",
   "execution_count": 5,
   "id": "0f3be02c",
   "metadata": {
    "ExecuteTime": {
     "end_time": "2021-12-17T07:45:37.486540Z",
     "start_time": "2021-12-17T07:45:37.481584Z"
    }
   },
   "outputs": [],
   "source": [
    "#경로설정\n",
    "base_dir = './'\n",
    "image_dir = os.path.join(base_dir, 'images')\n",
    "bbox_dir = os.path.join(base_dir, 'annotations', 'xmls')"
   ]
  },
  {
   "cell_type": "code",
   "execution_count": 8,
   "id": "8e642212",
   "metadata": {
    "ExecuteTime": {
     "end_time": "2021-12-17T07:46:08.853444Z",
     "start_time": "2021-12-17T07:46:08.835586Z"
    }
   },
   "outputs": [
    {
     "name": "stdout",
     "output_type": "stream",
     "text": [
      "./images\n",
      "./annotations\\xmls\n"
     ]
    }
   ],
   "source": [
    "print(image_dir)\n",
    "print(bbox_dir)"
   ]
  },
  {
   "cell_type": "code",
   "execution_count": 12,
   "id": "fa7109be",
   "metadata": {
    "ExecuteTime": {
     "end_time": "2021-12-17T07:47:09.358381Z",
     "start_time": "2021-12-17T07:47:09.353382Z"
    }
   },
   "outputs": [
    {
     "data": {
      "text/plain": [
       "'.txt'"
      ]
     },
     "execution_count": 12,
     "metadata": {},
     "output_type": "execute_result"
    }
   ],
   "source": [
    "os.path.splitext('abc.txt')[-1]"
   ]
  },
  {
   "cell_type": "code",
   "execution_count": 15,
   "id": "22959a4b",
   "metadata": {
    "ExecuteTime": {
     "end_time": "2021-12-17T07:48:38.399513Z",
     "start_time": "2021-12-17T07:48:38.355371Z"
    }
   },
   "outputs": [
    {
     "name": "stdout",
     "output_type": "stream",
     "text": [
      " F 드라이브의 볼륨: SAMSUNG\n",
      " 볼륨 일련 번호: C60D-15BA\n",
      "\n",
      " F:\\SSAC\\SSAC_2021_playdata\\class_study\\08.deeplearning\\05\\ch4 디렉터리\n",
      "\n",
      "2021-12-17  오후 04:46    <DIR>          .\n",
      "2021-12-17  오후 04:46    <DIR>          ..\n",
      "2021-12-17  오후 04:42    <DIR>          .ipynb_checkpoints\n",
      "2021-12-17  오후 04:46            12,251 4강 개인.ipynb\n",
      "2021-12-17  오후 04:44    <DIR>          oxford_pet\n",
      "2021-12-17  오후 04:42       810,565,619 oxford_pet.zip\n",
      "               2개 파일         810,577,870 바이트\n",
      "               4개 디렉터리  1,836,353,974,272 바이트 남음\n"
     ]
    }
   ],
   "source": [
    "!dir"
   ]
  },
  {
   "cell_type": "code",
   "execution_count": 20,
   "id": "76e0f20e",
   "metadata": {
    "ExecuteTime": {
     "end_time": "2021-12-17T07:49:58.483985Z",
     "start_time": "2021-12-17T07:49:58.467356Z"
    }
   },
   "outputs": [],
   "source": [
    "image_dir=os.path.join(base_dir, 'oxford_pet/images')"
   ]
  },
  {
   "cell_type": "code",
   "execution_count": 21,
   "id": "cf48a52a",
   "metadata": {
    "ExecuteTime": {
     "end_time": "2021-12-17T07:49:59.123192Z",
     "start_time": "2021-12-17T07:49:59.091143Z"
    }
   },
   "outputs": [
    {
     "name": "stdout",
     "output_type": "stream",
     "text": [
      "7390\n"
     ]
    },
    {
     "data": {
      "text/plain": [
       "['Abyssinian_1.jpg', 'Abyssinian_10.jpg', 'Abyssinian_100.jpg']"
      ]
     },
     "execution_count": 21,
     "metadata": {},
     "output_type": "execute_result"
    }
   ],
   "source": [
    "image_files = [fname for fname in os.listdir(image_dir) if os.path.splitext(fname)[-1]=='.jpg']\n",
    "print(len(image_files))\n",
    "\n",
    "image_files[:3]"
   ]
  },
  {
   "cell_type": "code",
   "execution_count": 26,
   "id": "5f7d486b",
   "metadata": {
    "ExecuteTime": {
     "end_time": "2021-12-17T07:52:47.041249Z",
     "start_time": "2021-12-17T07:52:47.027290Z"
    }
   },
   "outputs": [
    {
     "name": "stdout",
     "output_type": "stream",
     "text": [
      "3686\n"
     ]
    },
    {
     "data": {
      "text/plain": [
       "['Abyssinian_1.xml', 'Abyssinian_10.xml', 'Abyssinian_100.xml']"
      ]
     },
     "execution_count": 26,
     "metadata": {},
     "output_type": "execute_result"
    }
   ],
   "source": [
    "bbox_dir=os.path.join(base_dir, 'oxford_pet/annotations', 'xmls')\n",
    "bbox_files = [fname for fname in os.listdir(bbox_dir) if os.path.splitext(fname)[-1] == '.xml']\n",
    "print(len(bbox_files))\n",
    "bbox_files[:3]"
   ]
  },
  {
   "cell_type": "code",
   "execution_count": 33,
   "id": "4d008f14",
   "metadata": {
    "ExecuteTime": {
     "end_time": "2021-12-17T08:12:20.505889Z",
     "start_time": "2021-12-17T08:12:20.497946Z"
    }
   },
   "outputs": [
    {
     "data": {
      "text/plain": [
       "('./oxford_pet/images', 'Abyssinian_34.jpg')"
      ]
     },
     "execution_count": 33,
     "metadata": {},
     "output_type": "execute_result"
    }
   ],
   "source": [
    "image_dir, image_file"
   ]
  },
  {
   "cell_type": "code",
   "execution_count": 38,
   "id": "b8c96e34",
   "metadata": {
    "ExecuteTime": {
     "end_time": "2021-12-17T08:20:50.230198Z",
     "start_time": "2021-12-17T08:20:48.738540Z"
    }
   },
   "outputs": [
    {
     "name": "stdout",
     "output_type": "stream",
     "text": [
      "Abyssinian_34.jpg P (202, 250)\n",
      "Abyssinian_5.jpg RGBA (150, 200, 4)\n",
      "Egyptian_Mau_129.jpg L (325, 299)\n",
      "./oxford_pet/annotations\\xmls\\Egyptian_Mau_129.xml\n",
      "Egyptian_Mau_139.jpg P (250, 350)\n",
      "Egyptian_Mau_14.jpg RGBA (800, 582, 4)\n",
      "Egyptian_Mau_145.jpg P (188, 216)\n",
      "Egyptian_Mau_167.jpg P (275, 183)\n",
      "Egyptian_Mau_177.jpg P (175, 246)\n",
      "Egyptian_Mau_186.jpg RGBA (275, 183, 4)\n",
      "Egyptian_Mau_191.jpg P (214, 300)\n",
      "staffordshire_bull_terrier_2.jpg L (282, 500)\n",
      "staffordshire_bull_terrier_22.jpg L (500, 364)\n"
     ]
    }
   ],
   "source": [
    "remove_image_cnt = 0\n",
    "for image_file in image_files:\n",
    "    image_path = os.path.join(image_dir, image_file)\n",
    "    bbox_file = os.path.splitext(image_file)[0]+'.xml'\n",
    "    bbox_path = os.path.join(bbox_dir, bbox_file)\n",
    "    \n",
    "    image = Image.open(image_path)\n",
    "    image_mode = image.mode\n",
    "    if image_mode != 'RGB':\n",
    "        image = np.asarray(image)\n",
    "        print(image_file, image_mode, image.shape)\n",
    "        \n",
    "        os.remove(image_path)\n",
    "        remove_image_cnt +=1\n",
    "        \n",
    "        if os.path.isfile(bbox_path):\n",
    "            print(bbox_path)\n",
    "            os.remove(bbox_path)"
   ]
  },
  {
   "cell_type": "code",
   "execution_count": 41,
   "id": "44aff9d1",
   "metadata": {
    "ExecuteTime": {
     "end_time": "2021-12-17T08:21:09.181292Z",
     "start_time": "2021-12-17T08:21:09.170355Z"
    }
   },
   "outputs": [
    {
     "data": {
      "text/plain": [
       "12"
      ]
     },
     "execution_count": 41,
     "metadata": {},
     "output_type": "execute_result"
    }
   ],
   "source": [
    "remove_image_cnt"
   ]
  },
  {
   "cell_type": "code",
   "execution_count": 42,
   "id": "2b353f27",
   "metadata": {
    "ExecuteTime": {
     "end_time": "2021-12-17T08:22:39.622494Z",
     "start_time": "2021-12-17T08:22:39.586563Z"
    }
   },
   "outputs": [],
   "source": [
    "image_files = [fname for fname in os.listdir(image_dir) if os.path.splitext(fname)[-1] == '.jpg']\n",
    "bbox_files = [fname for fname in os.listdir(bbox_dir) if os.path.splitext(fname)[-1] == '.xml']"
   ]
  },
  {
   "cell_type": "code",
   "execution_count": 47,
   "id": "65502988",
   "metadata": {
    "ExecuteTime": {
     "end_time": "2021-12-17T08:24:58.085038Z",
     "start_time": "2021-12-17T08:24:58.066484Z"
    }
   },
   "outputs": [
    {
     "name": "stdout",
     "output_type": "stream",
     "text": [
      "['Abyssinian_1.jpg', 'Abyssinian_10.jpg', 'Abyssinian_100.jpg']\n"
     ]
    },
    {
     "data": {
      "text/plain": [
       "['Abyssinian_1.xml', 'Abyssinian_10.xml', 'Abyssinian_100.xml']"
      ]
     },
     "execution_count": 47,
     "metadata": {},
     "output_type": "execute_result"
    }
   ],
   "source": [
    "print(image_files[:3])\n",
    "bbox_files[:3]"
   ]
  },
  {
   "cell_type": "code",
   "execution_count": 48,
   "id": "26c89829",
   "metadata": {
    "ExecuteTime": {
     "end_time": "2021-12-17T08:24:59.418141Z",
     "start_time": "2021-12-17T08:24:59.410191Z"
    }
   },
   "outputs": [
    {
     "data": {
      "text/plain": [
       "(7390, 3686)"
      ]
     },
     "execution_count": 48,
     "metadata": {},
     "output_type": "execute_result"
    }
   ],
   "source": [
    "len(image_files), len(bbox_files)"
   ]
  },
  {
   "cell_type": "code",
   "execution_count": 52,
   "id": "4d028361",
   "metadata": {
    "ExecuteTime": {
     "end_time": "2021-12-17T08:27:21.859242Z",
     "start_time": "2021-12-17T08:27:21.826436Z"
    }
   },
   "outputs": [
    {
     "data": {
      "text/plain": [
       "['Abyssinian', 'Bengal', 'Birman']"
      ]
     },
     "execution_count": 52,
     "metadata": {},
     "output_type": "execute_result"
    }
   ],
   "source": [
    "class_list = set()\n",
    "for image_file in image_files:\n",
    "    file_name = os.path.splitext(image_file)[0]\n",
    "    #print('file_name', file_name)\n",
    "    class_name = re.sub('_\\d+', '', file_name)\n",
    "    #print('class_name', class_name)\n",
    "    class_list.add(class_name)\n",
    "class_list = list(class_list)\n",
    "class_list.sort()\n",
    "class_list[:3]"
   ]
  },
  {
   "cell_type": "code",
   "execution_count": 55,
   "id": "c5d3e0a9",
   "metadata": {
    "ExecuteTime": {
     "end_time": "2021-12-17T08:28:03.007540Z",
     "start_time": "2021-12-17T08:28:02.993584Z"
    }
   },
   "outputs": [
    {
     "data": {
      "text/plain": [
       "{'Abyssinian': 0,\n",
       " 'Bengal': 1,\n",
       " 'Birman': 2,\n",
       " 'Bombay': 3,\n",
       " 'British_Shorthair': 4,\n",
       " 'Egyptian_Mau': 5,\n",
       " 'Maine_Coon': 6,\n",
       " 'Persian': 7,\n",
       " 'Ragdoll': 8,\n",
       " 'Russian_Blue': 9,\n",
       " 'Siamese': 10,\n",
       " 'Sphynx': 11,\n",
       " 'american_bulldog': 12,\n",
       " 'american_pit_bull_terrier': 13,\n",
       " 'basset_hound': 14,\n",
       " 'beagle': 15,\n",
       " 'boxer': 16,\n",
       " 'chihuahua': 17,\n",
       " 'english_cocker_spaniel': 18,\n",
       " 'english_setter': 19,\n",
       " 'german_shorthaired': 20,\n",
       " 'great_pyrenees': 21,\n",
       " 'havanese': 22,\n",
       " 'japanese_chin': 23,\n",
       " 'keeshond': 24,\n",
       " 'leonberger': 25,\n",
       " 'miniature_pinscher': 26,\n",
       " 'newfoundland': 27,\n",
       " 'pomeranian': 28,\n",
       " 'pug': 29,\n",
       " 'saint_bernard': 30,\n",
       " 'samoyed': 31,\n",
       " 'scottish_terrier': 32,\n",
       " 'shiba_inu': 33,\n",
       " 'staffordshire_bull_terrier': 34,\n",
       " 'wheaten_terrier': 35,\n",
       " 'yorkshire_terrier': 36}"
      ]
     },
     "execution_count": 55,
     "metadata": {},
     "output_type": "execute_result"
    }
   ],
   "source": [
    "class2idx = {cls:idx for idx,cls in enumerate(class_list)}\n",
    "class2idx"
   ]
  },
  {
   "cell_type": "code",
   "execution_count": 56,
   "id": "b981c95d",
   "metadata": {
    "ExecuteTime": {
     "end_time": "2021-12-17T08:28:52.483674Z",
     "start_time": "2021-12-17T08:28:52.466431Z"
    }
   },
   "outputs": [],
   "source": [
    "Image_size = 224\n",
    "N_bbox = len(bbox_files)\n",
    "N_train = 3000\n",
    "N_val = N_bbox-N_train"
   ]
  },
  {
   "cell_type": "code",
   "execution_count": 57,
   "id": "12f19192",
   "metadata": {
    "ExecuteTime": {
     "end_time": "2021-12-17T08:35:45.780561Z",
     "start_time": "2021-12-17T08:35:45.762268Z"
    }
   },
   "outputs": [
    {
     "name": "stdout",
     "output_type": "stream",
     "text": [
      "./tfrecord\\oxford_train.tfr\n",
      "./tfrecord\\oxford_val.tfr\n"
     ]
    }
   ],
   "source": [
    "tfr_dir = os.path.join(base_dir, 'tfrecord')\n",
    "os.makedirs(tfr_dir, exist_ok=True)\n",
    "\n",
    "tfr_train_dir = os.path.join(tfr_dir, 'oxford_train.tfr')\n",
    "tfr_val_dir = os.path.join(tfr_dir, 'oxford_val.tfr')\n",
    "\n",
    "print(tfr_train_dir)\n",
    "print(tfr_val_dir)"
   ]
  },
  {
   "cell_type": "code",
   "execution_count": 60,
   "id": "8a62604a",
   "metadata": {
    "ExecuteTime": {
     "end_time": "2021-12-17T08:37:52.906627Z",
     "start_time": "2021-12-17T08:37:52.897966Z"
    }
   },
   "outputs": [],
   "source": [
    "writer_train = tf.io.TFRecordWriter(tfr_train_dir)\n",
    "writer_val = tf.io.TFRecordWriter(tfr_val_dir)"
   ]
  },
  {
   "cell_type": "code",
   "execution_count": 63,
   "id": "4f550734",
   "metadata": {
    "ExecuteTime": {
     "end_time": "2021-12-17T08:40:36.780071Z",
     "start_time": "2021-12-17T08:40:36.770067Z"
    }
   },
   "outputs": [],
   "source": [
    "def _bytes_feature(value):\n",
    "    if isinstance(value, type(tf.constant(0))):\n",
    "        value = value.numpy()\n",
    "    return tf.train.Feature(bytes_list=tf.train.BytesList(value=[value]))\n",
    "\n",
    "def _float_feature(value):\n",
    "    return tf.train.Feature(float_list=tf.train.FloatList(value=[value]))\n",
    "\n",
    "def _int64_feature(value):\n",
    "    return tf.train.Feature(int64_list = tf.train.Int64List(value=[value]))"
   ]
  },
  {
   "cell_type": "code",
   "execution_count": null,
   "id": "3d16a69b",
   "metadata": {},
   "outputs": [],
   "source": [
    "shuffle_list = list(range(N_bbox))\n",
    "random_shuffle(shuffle_list)\n",
    "\n",
    "train_idx_list = shuffle_list[:N_train]\n",
    "val_idx_list = shuffle_list[N_train:]"
   ]
  },
  {
   "cell_type": "code",
   "execution_count": 64,
   "id": "f19fd3ad",
   "metadata": {
    "ExecuteTime": {
     "end_time": "2021-12-17T08:43:46.772246Z",
     "start_time": "2021-12-17T08:43:46.722244Z"
    }
   },
   "outputs": [
    {
     "data": {
      "text/plain": [
       "tensorflow.python.framework.ops.EagerTensor"
      ]
     },
     "execution_count": 64,
     "metadata": {},
     "output_type": "execute_result"
    }
   ],
   "source": [
    " type(tf.constant(0))"
   ]
  },
  {
   "cell_type": "code",
   "execution_count": null,
   "id": "ddf5ec45",
   "metadata": {},
   "outputs": [],
   "source": [
    "#train tfrecord 생성\n",
    "for idx in train_idx_list:\n",
    "    bbox_file = bbox_files[idx]\n",
    "    bbox_path = os.path.join(bbox_dir, bbox_file)\n",
    "    \n",
    "    tree=et.parse(bbox_path)\n",
    "    \n",
    "    width = float(tree.find('./size/width').text)\n",
    "    height = float(tree.find('./size/height').text)\n",
    "    xmin = float(tree.find('./object/bndbox/xmin').text)\n",
    "    ymin = float(tree.find('./object/bndbox/ymin').text)\n",
    "    xmax = float(tree.find('./object/bndbox/xmax').text)\n",
    "    ymax = float(tree.find('./object/bndbox/ymax').text)\n",
    "    xc = (xmin + ymax) / 2.\n",
    "    yc = (ymin + ymax) / 2.\n",
    "    \n",
    "    "
   ]
  },
  {
   "cell_type": "code",
   "execution_count": null,
   "id": "a45baae9",
   "metadata": {},
   "outputs": [],
   "source": []
  },
  {
   "cell_type": "code",
   "execution_count": null,
   "id": "7db1a351",
   "metadata": {},
   "outputs": [],
   "source": []
  }
 ],
 "metadata": {
  "kernelspec": {
   "display_name": "Python 3 (ipykernel)",
   "language": "python",
   "name": "python3"
  },
  "language_info": {
   "codemirror_mode": {
    "name": "ipython",
    "version": 3
   },
   "file_extension": ".py",
   "mimetype": "text/x-python",
   "name": "python",
   "nbconvert_exporter": "python",
   "pygments_lexer": "ipython3",
   "version": "3.8.12"
  },
  "toc": {
   "base_numbering": 1,
   "nav_menu": {},
   "number_sections": true,
   "sideBar": true,
   "skip_h1_title": false,
   "title_cell": "Table of Contents",
   "title_sidebar": "Contents",
   "toc_cell": false,
   "toc_position": {},
   "toc_section_display": true,
   "toc_window_display": false
  },
  "varInspector": {
   "cols": {
    "lenName": 16,
    "lenType": 16,
    "lenVar": 40
   },
   "kernels_config": {
    "python": {
     "delete_cmd_postfix": "",
     "delete_cmd_prefix": "del ",
     "library": "var_list.py",
     "varRefreshCmd": "print(var_dic_list())"
    },
    "r": {
     "delete_cmd_postfix": ") ",
     "delete_cmd_prefix": "rm(",
     "library": "var_list.r",
     "varRefreshCmd": "cat(var_dic_list()) "
    }
   },
   "types_to_exclude": [
    "module",
    "function",
    "builtin_function_or_method",
    "instance",
    "_Feature"
   ],
   "window_display": false
  }
 },
 "nbformat": 4,
 "nbformat_minor": 5
}
